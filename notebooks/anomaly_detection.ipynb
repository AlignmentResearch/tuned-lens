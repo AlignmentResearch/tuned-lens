{
 "cells": [
  {
   "cell_type": "code",
   "execution_count": 6,
   "metadata": {},
   "outputs": [],
   "source": [
    "from pathlib import Path\n",
    "from tuned_lens.utils import pytree_stack\n",
    "import torch as th\n",
    "\n",
    "th.set_grad_enabled(False)\n",
    "root = Path(\"/mnt/ssd-1/nora/real-lenses/pythia/12b-deduped/affine/downstream/\")\n",
    "# batches = root.rglob(\"batch_*.pt\")\n",
    "batches = [\n",
    "    th.load(path, map_location=\"cpu\")\n",
    "    for path in root.rglob(\"batch_*.pt\")\n",
    "]\n",
    "master = pytree_stack(batches)"
   ]
  },
  {
   "cell_type": "code",
   "execution_count": 10,
   "metadata": {},
   "outputs": [
    {
     "data": {
      "text/plain": [
       "{'baseline_ce': {'input': torch.Size([8000, 2047]),\n",
       "  '0.ffn': torch.Size([8000, 2047]),\n",
       "  '1.ffn': torch.Size([8000, 2047]),\n",
       "  '2.ffn': torch.Size([8000, 2047]),\n",
       "  '3.ffn': torch.Size([8000, 2047]),\n",
       "  '4.ffn': torch.Size([8000, 2047]),\n",
       "  '5.ffn': torch.Size([8000, 2047]),\n",
       "  '6.ffn': torch.Size([8000, 2047]),\n",
       "  '7.ffn': torch.Size([8000, 2047]),\n",
       "  '8.ffn': torch.Size([8000, 2047]),\n",
       "  '9.ffn': torch.Size([8000, 2047]),\n",
       "  '10.ffn': torch.Size([8000, 2047]),\n",
       "  '11.ffn': torch.Size([8000, 2047]),\n",
       "  '12.ffn': torch.Size([8000, 2047]),\n",
       "  '13.ffn': torch.Size([8000, 2047]),\n",
       "  '14.ffn': torch.Size([8000, 2047]),\n",
       "  '15.ffn': torch.Size([8000, 2047]),\n",
       "  '16.ffn': torch.Size([8000, 2047]),\n",
       "  '17.ffn': torch.Size([8000, 2047]),\n",
       "  '18.ffn': torch.Size([8000, 2047]),\n",
       "  '19.ffn': torch.Size([8000, 2047]),\n",
       "  '20.ffn': torch.Size([8000, 2047]),\n",
       "  '21.ffn': torch.Size([8000, 2047]),\n",
       "  '22.ffn': torch.Size([8000, 2047]),\n",
       "  'final': torch.Size([8000, 2047])},\n",
       " 'baseline_entropy': {'input': torch.Size([8000, 1, 2048]),\n",
       "  '0.ffn': torch.Size([8000, 1, 2048]),\n",
       "  '1.ffn': torch.Size([8000, 1, 2048]),\n",
       "  '2.ffn': torch.Size([8000, 1, 2048]),\n",
       "  '3.ffn': torch.Size([8000, 1, 2048]),\n",
       "  '4.ffn': torch.Size([8000, 1, 2048]),\n",
       "  '5.ffn': torch.Size([8000, 1, 2048]),\n",
       "  '6.ffn': torch.Size([8000, 1, 2048]),\n",
       "  '7.ffn': torch.Size([8000, 1, 2048]),\n",
       "  '8.ffn': torch.Size([8000, 1, 2048]),\n",
       "  '9.ffn': torch.Size([8000, 1, 2048]),\n",
       "  '10.ffn': torch.Size([8000, 1, 2048]),\n",
       "  '11.ffn': torch.Size([8000, 1, 2048]),\n",
       "  '12.ffn': torch.Size([8000, 1, 2048]),\n",
       "  '13.ffn': torch.Size([8000, 1, 2048]),\n",
       "  '14.ffn': torch.Size([8000, 1, 2048]),\n",
       "  '15.ffn': torch.Size([8000, 1, 2048]),\n",
       "  '16.ffn': torch.Size([8000, 1, 2048]),\n",
       "  '17.ffn': torch.Size([8000, 1, 2048]),\n",
       "  '18.ffn': torch.Size([8000, 1, 2048]),\n",
       "  '19.ffn': torch.Size([8000, 1, 2048]),\n",
       "  '20.ffn': torch.Size([8000, 1, 2048]),\n",
       "  '21.ffn': torch.Size([8000, 1, 2048]),\n",
       "  '22.ffn': torch.Size([8000, 1, 2048]),\n",
       "  'final': torch.Size([8000, 1, 2048])},\n",
       " 'baseline_kl': {'input': torch.Size([8000, 1, 2048]),\n",
       "  '0.ffn': torch.Size([8000, 1, 2048]),\n",
       "  '1.ffn': torch.Size([8000, 1, 2048]),\n",
       "  '2.ffn': torch.Size([8000, 1, 2048]),\n",
       "  '3.ffn': torch.Size([8000, 1, 2048]),\n",
       "  '4.ffn': torch.Size([8000, 1, 2048]),\n",
       "  '5.ffn': torch.Size([8000, 1, 2048]),\n",
       "  '6.ffn': torch.Size([8000, 1, 2048]),\n",
       "  '7.ffn': torch.Size([8000, 1, 2048]),\n",
       "  '8.ffn': torch.Size([8000, 1, 2048]),\n",
       "  '9.ffn': torch.Size([8000, 1, 2048]),\n",
       "  '10.ffn': torch.Size([8000, 1, 2048]),\n",
       "  '11.ffn': torch.Size([8000, 1, 2048]),\n",
       "  '12.ffn': torch.Size([8000, 1, 2048]),\n",
       "  '13.ffn': torch.Size([8000, 1, 2048]),\n",
       "  '14.ffn': torch.Size([8000, 1, 2048]),\n",
       "  '15.ffn': torch.Size([8000, 1, 2048]),\n",
       "  '16.ffn': torch.Size([8000, 1, 2048]),\n",
       "  '17.ffn': torch.Size([8000, 1, 2048]),\n",
       "  '18.ffn': torch.Size([8000, 1, 2048]),\n",
       "  '19.ffn': torch.Size([8000, 1, 2048]),\n",
       "  '20.ffn': torch.Size([8000, 1, 2048]),\n",
       "  '21.ffn': torch.Size([8000, 1, 2048]),\n",
       "  '22.ffn': torch.Size([8000, 1, 2048])},\n",
       " 'lens_ce': {'input': torch.Size([8000, 2047]),\n",
       "  '0.ffn': torch.Size([8000, 2047]),\n",
       "  '1.ffn': torch.Size([8000, 2047]),\n",
       "  '2.ffn': torch.Size([8000, 2047]),\n",
       "  '3.ffn': torch.Size([8000, 2047]),\n",
       "  '4.ffn': torch.Size([8000, 2047]),\n",
       "  '5.ffn': torch.Size([8000, 2047]),\n",
       "  '6.ffn': torch.Size([8000, 2047]),\n",
       "  '7.ffn': torch.Size([8000, 2047]),\n",
       "  '8.ffn': torch.Size([8000, 2047]),\n",
       "  '9.ffn': torch.Size([8000, 2047]),\n",
       "  '10.ffn': torch.Size([8000, 2047]),\n",
       "  '11.ffn': torch.Size([8000, 2047]),\n",
       "  '12.ffn': torch.Size([8000, 2047]),\n",
       "  '13.ffn': torch.Size([8000, 2047]),\n",
       "  '14.ffn': torch.Size([8000, 2047]),\n",
       "  '15.ffn': torch.Size([8000, 2047]),\n",
       "  '16.ffn': torch.Size([8000, 2047]),\n",
       "  '17.ffn': torch.Size([8000, 2047]),\n",
       "  '18.ffn': torch.Size([8000, 2047]),\n",
       "  '19.ffn': torch.Size([8000, 2047]),\n",
       "  '20.ffn': torch.Size([8000, 2047]),\n",
       "  '21.ffn': torch.Size([8000, 2047]),\n",
       "  '22.ffn': torch.Size([8000, 2047])},\n",
       " 'lens_entropy': {'input': torch.Size([8000, 1, 2048]),\n",
       "  '0.ffn': torch.Size([8000, 1, 2048]),\n",
       "  '1.ffn': torch.Size([8000, 1, 2048]),\n",
       "  '2.ffn': torch.Size([8000, 1, 2048]),\n",
       "  '3.ffn': torch.Size([8000, 1, 2048]),\n",
       "  '4.ffn': torch.Size([8000, 1, 2048]),\n",
       "  '5.ffn': torch.Size([8000, 1, 2048]),\n",
       "  '6.ffn': torch.Size([8000, 1, 2048]),\n",
       "  '7.ffn': torch.Size([8000, 1, 2048]),\n",
       "  '8.ffn': torch.Size([8000, 1, 2048]),\n",
       "  '9.ffn': torch.Size([8000, 1, 2048]),\n",
       "  '10.ffn': torch.Size([8000, 1, 2048]),\n",
       "  '11.ffn': torch.Size([8000, 1, 2048]),\n",
       "  '12.ffn': torch.Size([8000, 1, 2048]),\n",
       "  '13.ffn': torch.Size([8000, 1, 2048]),\n",
       "  '14.ffn': torch.Size([8000, 1, 2048]),\n",
       "  '15.ffn': torch.Size([8000, 1, 2048]),\n",
       "  '16.ffn': torch.Size([8000, 1, 2048]),\n",
       "  '17.ffn': torch.Size([8000, 1, 2048]),\n",
       "  '18.ffn': torch.Size([8000, 1, 2048]),\n",
       "  '19.ffn': torch.Size([8000, 1, 2048]),\n",
       "  '20.ffn': torch.Size([8000, 1, 2048]),\n",
       "  '21.ffn': torch.Size([8000, 1, 2048]),\n",
       "  '22.ffn': torch.Size([8000, 1, 2048])},\n",
       " 'lens_kl': {'input': torch.Size([8000, 1, 2048]),\n",
       "  '0.ffn': torch.Size([8000, 1, 2048]),\n",
       "  '1.ffn': torch.Size([8000, 1, 2048]),\n",
       "  '2.ffn': torch.Size([8000, 1, 2048]),\n",
       "  '3.ffn': torch.Size([8000, 1, 2048]),\n",
       "  '4.ffn': torch.Size([8000, 1, 2048]),\n",
       "  '5.ffn': torch.Size([8000, 1, 2048]),\n",
       "  '6.ffn': torch.Size([8000, 1, 2048]),\n",
       "  '7.ffn': torch.Size([8000, 1, 2048]),\n",
       "  '8.ffn': torch.Size([8000, 1, 2048]),\n",
       "  '9.ffn': torch.Size([8000, 1, 2048]),\n",
       "  '10.ffn': torch.Size([8000, 1, 2048]),\n",
       "  '11.ffn': torch.Size([8000, 1, 2048]),\n",
       "  '12.ffn': torch.Size([8000, 1, 2048]),\n",
       "  '13.ffn': torch.Size([8000, 1, 2048]),\n",
       "  '14.ffn': torch.Size([8000, 1, 2048]),\n",
       "  '15.ffn': torch.Size([8000, 1, 2048]),\n",
       "  '16.ffn': torch.Size([8000, 1, 2048]),\n",
       "  '17.ffn': torch.Size([8000, 1, 2048]),\n",
       "  '18.ffn': torch.Size([8000, 1, 2048]),\n",
       "  '19.ffn': torch.Size([8000, 1, 2048]),\n",
       "  '20.ffn': torch.Size([8000, 1, 2048]),\n",
       "  '21.ffn': torch.Size([8000, 1, 2048]),\n",
       "  '22.ffn': torch.Size([8000, 1, 2048])}}"
      ]
     },
     "execution_count": 10,
     "metadata": {},
     "output_type": "execute_result"
    }
   ],
   "source": [
    "from tuned_lens.utils import pytree_map\n",
    "pytree_map(lambda x: x.shape, master)"
   ]
  },
  {
   "cell_type": "code",
   "execution_count": 29,
   "metadata": {},
   "outputs": [],
   "source": [
    "from tuned_lens.stats import spearmanr\n",
    "\n",
    "kl_tensor = th.stack(list(master['lens_kl'].values())).squeeze()"
   ]
  },
  {
   "cell_type": "code",
   "execution_count": 38,
   "metadata": {},
   "outputs": [],
   "source": [
    "import torch.nn.functional as F\n",
    "\n",
    "N = 3\n",
    "trigram = F.conv1d(monotonicities.unsqueeze(1), th.ones(1, 1, N) / N).squeeze()"
   ]
  },
  {
   "cell_type": "code",
   "execution_count": 44,
   "metadata": {},
   "outputs": [],
   "source": [
    "import torch.nn.functional as F\n",
    "\n",
    "N = 2\n",
    "bigram = F.conv1d(monotonicities.unsqueeze(1), th.ones(1, 1, N) / N).squeeze()"
   ]
  },
  {
   "cell_type": "code",
   "execution_count": 46,
   "metadata": {},
   "outputs": [
    {
     "data": {
      "text/plain": [
       "(array([4.189740e+06, 3.312138e+06, 2.154882e+06, 1.422908e+06,\n",
       "        1.061610e+06, 7.831890e+05, 6.024500e+05, 4.473460e+05,\n",
       "        3.728650e+05, 2.926230e+05, 2.325730e+05, 1.821090e+05,\n",
       "        1.529590e+05, 1.249460e+05, 9.964800e+04, 8.760800e+04,\n",
       "        7.455500e+04, 6.475400e+04, 5.521200e+04, 5.105200e+04,\n",
       "        4.646200e+04, 4.230500e+04, 3.638900e+04, 3.432800e+04,\n",
       "        3.172700e+04, 2.759800e+04, 2.659300e+04, 2.441000e+04,\n",
       "        2.247000e+04, 2.014000e+04, 1.922600e+04, 1.768300e+04,\n",
       "        1.651400e+04, 1.474900e+04, 1.425200e+04, 1.363700e+04,\n",
       "        1.251300e+04, 1.108700e+04, 1.065100e+04, 1.023500e+04,\n",
       "        9.061000e+03, 8.759000e+03, 8.397000e+03, 7.931000e+03,\n",
       "        7.118000e+03, 7.052000e+03, 6.624000e+03, 6.282000e+03,\n",
       "        5.619000e+03, 5.747000e+03, 5.512000e+03, 5.133000e+03,\n",
       "        5.039000e+03, 4.901000e+03, 4.985000e+03, 4.291000e+03,\n",
       "        4.366000e+03, 4.078000e+03, 3.969000e+03, 3.706000e+03,\n",
       "        3.849000e+03, 3.331000e+03, 2.899000e+03, 2.897000e+03,\n",
       "        2.464000e+03, 2.288000e+03, 2.035000e+03, 1.870000e+03,\n",
       "        1.825000e+03, 1.762000e+03, 1.567000e+03, 1.600000e+03,\n",
       "        1.387000e+03, 1.218000e+03, 1.142000e+03, 1.113000e+03,\n",
       "        1.038000e+03, 8.560000e+02, 7.930000e+02, 6.560000e+02,\n",
       "        6.580000e+02, 7.040000e+02, 7.270000e+02, 7.740000e+02,\n",
       "        1.035000e+03, 8.690000e+02, 7.430000e+02, 6.420000e+02,\n",
       "        5.130000e+02, 5.630000e+02, 9.330000e+02, 6.300000e+02,\n",
       "        5.360000e+02, 4.550000e+02, 2.250000e+02, 2.200000e+02,\n",
       "        9.000000e+01, 3.490000e+02, 2.700000e+01, 1.100000e+01]),\n",
       " array([-0.95833325, -0.93939161, -0.92044991, -0.90150827, -0.88256657,\n",
       "        -0.86362493, -0.84468323, -0.82574159, -0.80679989, -0.78785825,\n",
       "        -0.76891661, -0.74997491, -0.73103327, -0.71209157, -0.69314992,\n",
       "        -0.67420822, -0.65526658, -0.63632494, -0.61738324, -0.5984416 ,\n",
       "        -0.5794999 , -0.56055826, -0.54161656, -0.52267492, -0.50373322,\n",
       "        -0.48479158, -0.46584991, -0.44690824, -0.42796656, -0.40902489,\n",
       "        -0.39008325, -0.37114158, -0.35219991, -0.33325824, -0.31431657,\n",
       "        -0.2953749 , -0.27643323, -0.25749156, -0.2385499 , -0.21960823,\n",
       "        -0.20066658, -0.18172491, -0.16278324, -0.14384156, -0.1248999 ,\n",
       "        -0.10595824, -0.08701657, -0.0680749 , -0.04913323, -0.03019157,\n",
       "        -0.0112499 ,  0.00769177,  0.02663343,  0.0455751 ,  0.06451677,\n",
       "         0.08345844,  0.1024001 ,  0.12134177,  0.14028344,  0.15922511,\n",
       "         0.17816678,  0.19710843,  0.2160501 ,  0.23499177,  0.25393343,\n",
       "         0.2728751 ,  0.29181677,  0.31075844,  0.32970011,  0.34864178,\n",
       "         0.36758345,  0.38652509,  0.40546677,  0.42440844,  0.44335011,\n",
       "         0.46229178,  0.48123345,  0.50017512,  0.51911676,  0.53805846,\n",
       "         0.5570001 ,  0.5759418 ,  0.59488344,  0.61382514,  0.63276678,\n",
       "         0.65170842,  0.67065012,  0.68959177,  0.70853347,  0.72747511,\n",
       "         0.74641681,  0.76535845,  0.78430009,  0.80324179,  0.82218343,\n",
       "         0.84112513,  0.86006677,  0.87900847,  0.89795011,  0.91689181,\n",
       "         0.93583345]),\n",
       " <BarContainer object of 100 artists>)"
      ]
     },
     "execution_count": 46,
     "metadata": {},
     "output_type": "execute_result"
    },
    {
     "data": {
      "image/png": "[encoded data removed]",
      "text/plain": [
       "<Figure size 640x480 with 1 Axes>"
      ]
     },
     "metadata": {},
     "output_type": "display_data"
    }
   ],
   "source": [
    "import matplotlib.pyplot as plt\n",
    "\n",
    "plt.hist(monotonicities.flatten(), log=True, bins=100)"
   ]
  },
  {
   "cell_type": "code",
   "execution_count": 45,
   "metadata": {},
   "outputs": [
    {
     "data": {
      "text/plain": [
       "(array([2.122746e+06, 3.230739e+06, 2.636007e+06, 2.000916e+06,\n",
       "        1.442150e+06, 1.066741e+06, 7.854530e+05, 5.885320e+05,\n",
       "        4.247420e+05, 3.204650e+05, 2.493030e+05, 2.047260e+05,\n",
       "        1.619010e+05, 1.354220e+05, 1.168970e+05, 9.782500e+04,\n",
       "        8.466100e+04, 7.431300e+04, 6.719400e+04, 5.759600e+04,\n",
       "        5.075700e+04, 4.529400e+04, 4.076900e+04, 3.581900e+04,\n",
       "        3.257300e+04, 2.994800e+04, 2.656600e+04, 2.424200e+04,\n",
       "        2.272700e+04, 2.170200e+04, 1.939900e+04, 1.821000e+04,\n",
       "        1.684900e+04, 1.489800e+04, 1.254600e+04, 1.127800e+04,\n",
       "        9.500000e+03, 8.874000e+03, 7.634000e+03, 6.619000e+03,\n",
       "        6.073000e+03, 5.117000e+03, 4.547000e+03, 4.059000e+03,\n",
       "        4.017000e+03, 3.936000e+03, 3.280000e+03, 3.073000e+03,\n",
       "        2.800000e+03, 2.278000e+03, 1.765000e+03, 1.528000e+03,\n",
       "        1.203000e+03, 9.030000e+02, 8.000000e+02, 6.760000e+02,\n",
       "        5.310000e+02, 4.960000e+02, 4.480000e+02, 4.060000e+02,\n",
       "        3.300000e+02, 2.660000e+02, 2.240000e+02, 1.870000e+02,\n",
       "        1.850000e+02, 1.170000e+02, 1.270000e+02, 1.250000e+02,\n",
       "        1.020000e+02, 7.600000e+01, 7.900000e+01, 6.700000e+01,\n",
       "        7.800000e+01, 5.200000e+01, 6.100000e+01, 6.500000e+01,\n",
       "        5.500000e+01, 4.200000e+01, 6.000000e+01, 7.200000e+01,\n",
       "        9.900000e+01, 1.130000e+02, 1.100000e+02, 1.280000e+02,\n",
       "        1.430000e+02, 1.580000e+02, 7.700000e+01, 6.600000e+01,\n",
       "        4.500000e+01, 2.200000e+01, 1.100000e+01, 1.100000e+01,\n",
       "        2.900000e+01, 1.000000e+01, 1.010000e+02, 1.700000e+01,\n",
       "        7.000000e+00, 9.000000e+00, 2.000000e+00, 3.000000e+00]),\n",
       " array([-0.95833325, -0.9403041 , -0.92227495, -0.90424573, -0.88621658,\n",
       "        -0.86818743, -0.85015827, -0.83212912, -0.81409991, -0.79607075,\n",
       "        -0.7780416 , -0.76001245, -0.74198329, -0.72395408, -0.70592493,\n",
       "        -0.68789577, -0.66986662, -0.65183747, -0.63380826, -0.6157791 ,\n",
       "        -0.59774995, -0.5797208 , -0.56169164, -0.54366243, -0.52563328,\n",
       "        -0.50760412, -0.48957497, -0.47154579, -0.45351663, -0.43548745,\n",
       "        -0.4174583 , -0.39942914, -0.38139996, -0.36337081, -0.34534162,\n",
       "        -0.32731247, -0.30928332, -0.29125413, -0.27322498, -0.2551958 ,\n",
       "        -0.23716664, -0.21913747, -0.20110831, -0.18307915, -0.16504999,\n",
       "        -0.14702082, -0.12899165, -0.11096249, -0.09293332, -0.07490416,\n",
       "        -0.05687499, -0.03884583, -0.02081666, -0.00278749,  0.01524167,\n",
       "         0.03327084,  0.0513    ,  0.06932916,  0.08735833,  0.10538749,\n",
       "         0.12341666,  0.14144583,  0.159475  ,  0.17750415,  0.19553332,\n",
       "         0.21356249,  0.23159166,  0.24962083,  0.26764998,  0.28567916,\n",
       "         0.30370831,  0.32173747,  0.33976665,  0.3577958 ,  0.37582499,\n",
       "         0.39385414,  0.41188329,  0.42991248,  0.44794163,  0.46597081,\n",
       "         0.48399997,  0.50202912,  0.52005827,  0.53808749,  0.55611664,\n",
       "         0.57414579,  0.59217495,  0.6102041 ,  0.62823331,  0.64626247,\n",
       "         0.66429162,  0.68232077,  0.70034993,  0.71837914,  0.73640829,\n",
       "         0.75443745,  0.7724666 ,  0.79049575,  0.80852497,  0.82655412,\n",
       "         0.84458327]),\n",
       " <BarContainer object of 100 artists>)"
      ]
     },
     "execution_count": 45,
     "metadata": {},
     "output_type": "execute_result"
    },
    {
     "data": {
      "image/png": "[encoded data removed]",
      "text/plain": [
       "<Figure size 640x480 with 1 Axes>"
      ]
     },
     "metadata": {},
     "output_type": "display_data"
    }
   ],
   "source": [
    "import matplotlib.pyplot as plt\n",
    "\n",
    "plt.hist(bigram.flatten(), log=True, bins=100)"
   ]
  },
  {
   "cell_type": "code",
   "execution_count": 43,
   "metadata": {},
   "outputs": [
    {
     "data": {
      "text/plain": [
       "(array([1.049878e+06, 2.689545e+06, 2.728743e+06, 2.262988e+06,\n",
       "        1.762398e+06, 1.323272e+06, 9.667930e+05, 7.022840e+05,\n",
       "        5.177530e+05, 3.903390e+05, 3.030300e+05, 2.413510e+05,\n",
       "        1.963990e+05, 1.647220e+05, 1.390790e+05, 1.184110e+05,\n",
       "        1.009170e+05, 8.651300e+04, 7.600700e+04, 6.611700e+04,\n",
       "        5.839900e+04, 5.322600e+04, 4.838800e+04, 4.379700e+04,\n",
       "        3.951000e+04, 3.432800e+04, 2.902400e+04, 2.475800e+04,\n",
       "        2.097600e+04, 1.786400e+04, 1.518000e+04, 1.313200e+04,\n",
       "        1.146600e+04, 1.049500e+04, 9.073000e+03, 7.933000e+03,\n",
       "        6.773000e+03, 5.309000e+03, 4.444000e+03, 3.470000e+03,\n",
       "        2.917000e+03, 2.353000e+03, 1.989000e+03, 1.729000e+03,\n",
       "        1.396000e+03, 1.199000e+03, 1.029000e+03, 9.290000e+02,\n",
       "        8.300000e+02, 7.270000e+02, 6.730000e+02, 5.130000e+02,\n",
       "        5.280000e+02, 4.590000e+02, 4.230000e+02, 4.010000e+02,\n",
       "        4.340000e+02, 3.840000e+02, 3.960000e+02, 4.640000e+02,\n",
       "        4.680000e+02, 4.920000e+02, 5.510000e+02, 4.700000e+02,\n",
       "        4.020000e+02, 3.110000e+02, 2.390000e+02, 1.760000e+02,\n",
       "        1.730000e+02, 1.920000e+02, 1.260000e+02, 1.310000e+02,\n",
       "        8.700000e+01, 8.200000e+01, 5.600000e+01, 3.900000e+01,\n",
       "        2.600000e+01, 2.900000e+01, 1.500000e+01, 1.700000e+01,\n",
       "        1.300000e+01, 8.000000e+00, 8.000000e+00, 5.000000e+00,\n",
       "        8.000000e+00, 3.000000e+00, 4.000000e+00, 0.000000e+00,\n",
       "        2.000000e+00, 6.000000e+00, 1.000000e+00, 1.000000e+00,\n",
       "        0.000000e+00, 1.000000e+00, 0.000000e+00, 0.000000e+00,\n",
       "        0.000000e+00, 0.000000e+00, 0.000000e+00, 1.000000e+00]),\n",
       " array([-0.95833325, -0.94193327, -0.92553324, -0.90913326, -0.89273328,\n",
       "        -0.87633324, -0.85993326, -0.84353328, -0.8271333 , -0.81073326,\n",
       "        -0.79433328, -0.7779333 , -0.76153326, -0.74513328, -0.7287333 ,\n",
       "        -0.71233326, -0.69593328, -0.6795333 , -0.66313326, -0.64673328,\n",
       "        -0.6303333 , -0.61393327, -0.59753329, -0.58113331, -0.56473333,\n",
       "        -0.54833329, -0.53193331, -0.51553333, -0.49913332, -0.48273331,\n",
       "        -0.4663333 , -0.44993332, -0.43353331, -0.41713333, -0.40073332,\n",
       "        -0.38433331, -0.36793333, -0.35153332, -0.33513331, -0.31873333,\n",
       "        -0.30233333, -0.28593335, -0.26953334, -0.25313333, -0.23673333,\n",
       "        -0.22033334, -0.20393334, -0.18753335, -0.17113334, -0.15473334,\n",
       "        -0.13833335, -0.12193336, -0.10553335, -0.08913336, -0.07273336,\n",
       "        -0.05633336, -0.03993336, -0.02353336, -0.00713337,  0.00926663,\n",
       "         0.02566663,  0.04206663,  0.05846663,  0.07486662,  0.09126662,\n",
       "         0.10766662,  0.12406662,  0.14046662,  0.15686661,  0.17326662,\n",
       "         0.18966661,  0.20606661,  0.2224666 ,  0.23886661,  0.25526661,\n",
       "         0.27166659,  0.2880666 ,  0.30446661,  0.32086658,  0.33726659,\n",
       "         0.3536666 ,  0.37006658,  0.38646659,  0.40286657,  0.41926658,\n",
       "         0.43566659,  0.45206657,  0.46846658,  0.48486659,  0.5012666 ,\n",
       "         0.51766658,  0.53406656,  0.5504666 ,  0.56686658,  0.58326656,\n",
       "         0.59966654,  0.61606658,  0.63246655,  0.64886653,  0.66526657,\n",
       "         0.68166655]),\n",
       " <BarContainer object of 100 artists>)"
      ]
     },
     "execution_count": 43,
     "metadata": {},
     "output_type": "execute_result"
    },
    {
     "data": {
      "image/png": "[encoded data removed]",
      "text/plain": [
       "<Figure size 640x480 with 1 Axes>"
      ]
     },
     "metadata": {},
     "output_type": "display_data"
    }
   ],
   "source": [
    "import matplotlib.pyplot as plt\n",
    "\n",
    "plt.hist(trigram.flatten(), log=True, bins=100)"
   ]
  },
  {
   "cell_type": "code",
   "execution_count": 39,
   "metadata": {},
   "outputs": [
    {
     "data": {
      "text/plain": [
       "tensor(-0.6969)"
      ]
     },
     "execution_count": 39,
     "metadata": {},
     "output_type": "execute_result"
    }
   ],
   "source": [
    "th.quantile(trigram, th.tensor(0.95))"
   ]
  },
  {
   "cell_type": "code",
   "execution_count": 41,
   "metadata": {},
   "outputs": [
    {
     "data": {
      "text/plain": [
       "tensor(-0.1606)"
      ]
     },
     "execution_count": 41,
     "metadata": {},
     "output_type": "execute_result"
    }
   ],
   "source": [
    "trigram.flatten().neg().kthvalue(1000).values"
   ]
  },
  {
   "cell_type": "code",
   "execution_count": null,
   "metadata": {},
   "outputs": [],
   "source": []
  }
 ],
 "metadata": {
  "kernelspec": {
   "display_name": "base",
   "language": "python",
   "name": "python3"
  },
  "language_info": {
   "codemirror_mode": {
    "name": "ipython",
    "version": 3
   },
   "file_extension": ".py",
   "mimetype": "text/x-python",
   "name": "python",
   "nbconvert_exporter": "python",
   "pygments_lexer": "ipython3",
   "version": "3.10.8"
  },
  "orig_nbformat": 4,
  "vscode": {
   "interpreter": {
    "hash": "37655a14f19528427b2fab2b7608d4c988ed7d88bb86685bfc3bcc0190ec2edc"
   }
  }
 },
 "nbformat": 4,
 "nbformat_minor": 2
}
