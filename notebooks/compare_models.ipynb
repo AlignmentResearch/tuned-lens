{
  "cells": [
    {
      "attachments": {},
      "cell_type": "markdown",
      "metadata": {
        "id": "FU-1GTZT28li"
      },
      "source": [
        "# The tuned lens 🔎\n",
        "A tuned lens allows us to peak at the iterative computations that a transformer is using the compute the next token.\n",
        "\n",
        "A lens into a transformer with n layers allows you to replace the last $m$ layers of the model with an [affine transformation](https://pytorch.org/docs/stable/generated/torch.nn.Linear.html) (we call these affine translators).\n",
        "\n",
        "This essentially skips over these last few layers and lets you see the best prediction that can be made from the model's representations, i.e. the residual stream, at layer $n - m$. Since the representations may be rotated, shifted, or stretched from layer to layer it's useful to train the len's affine translators specifically on each layer. This training is what differentiates this method from simpler approaches that decode the residual stream of the network directly using the unembeding layer i.e. the logit lens. We explain this process along with more applications of the method in [the paper](ttps://arxiv.org/abs/2303.08112).\n",
        "\n",
        "You can find the complete set of pretrained lenses on [the hugging face space](https://huggingface.co/spaces/AlignmentResearch/tuned-lens/tree/main/lens).\n",
        "\n",
        "## Usage\n",
        "Since the tuned lens produces a distribution of predictions to visualize it's output we need to we need to provide a summary statistic to plot.  The default is simply [entropy](https://en.wikipedia.org/wiki/Entropy_(information_theory)), but you can also choose the [cross entropy](https://en.wikipedia.org/wiki/Cross_entropy) with the target token, or the [KL divergence](https://en.wikipedia.org/wiki/Kullback%E2%80%93Leibler_divergence) between the model's predictions and the tuned lens' predictions. You can also hover over a token to see more of the distribution i.e. the top 10 most probable tokens and their probabilities.\n",
        "\n",
        "## Examples\n",
        "Some interesting examples you can try.\n",
        "\n",
        "### Copy paste:\n",
        "```\n",
        "Copy: A!2j!#u&NGApS&MkkHe8Gm!#\n",
        "Paste: A!2j!#u&NGApS&MkkHe8Gm!#\n",
        "```\n",
        "\n",
        "### Trivial in-context learning\n",
        "```\n",
        "inc 1 2\n",
        "inc 4 5\n",
        "inc 13 \n",
        "```\n",
        "\n",
        "#### Addition\n",
        "```\n",
        "add 1 1 2\n",
        "add 3 4 7\n",
        "add 13 2 \n",
        "```"
      ]
    },
    {
      "cell_type": "code",
      "execution_count": 1,
      "metadata": {},
      "outputs": [],
      "source": [
        "%load_ext autoreload\n",
        "%autoreload 2"
      ]
    },
    {
      "cell_type": "code",
      "execution_count": 2,
      "metadata": {
        "id": "FGd2YmyD28lk",
        "scrolled": true
      },
      "outputs": [
        {
          "name": "stderr",
          "output_type": "stream",
          "text": [
            "WARNING:root:Loading a checkpoint with a 'probe' key. This is deprecated and may be removed in a future version. \n",
            "WARNING:root:Loading a checkpoint with a 'probe' key. This is deprecated and may be removed in a future version. \n",
            "WARNING:root:Loading a checkpoint with a 'probe' key. This is deprecated and may be removed in a future version. \n",
            "WARNING:root:Loading a checkpoint with a 'probe' key. This is deprecated and may be removed in a future version. \n",
            "WARNING:root:Loading a checkpoint with a 'probe' key. This is deprecated and may be removed in a future version. \n",
            "WARNING:root:Loading a checkpoint with a 'probe' key. This is deprecated and may be removed in a future version. \n",
            "WARNING:root:Loading a checkpoint with a 'probe' key. This is deprecated and may be removed in a future version. \n",
            "WARNING:root:Loading a checkpoint with a 'probe' key. This is deprecated and may be removed in a future version. \n",
            "WARNING:root:Loading a checkpoint with a 'probe' key. This is deprecated and may be removed in a future version. \n",
            "WARNING:root:Loading a checkpoint with a 'probe' key. This is deprecated and may be removed in a future version. \n",
            "WARNING:root:Loading a checkpoint with a 'probe' key. This is deprecated and may be removed in a future version. \n",
            "WARNING:root:Loading a checkpoint with a 'probe' key. This is deprecated and may be removed in a future version. \n",
            "WARNING:root:Loading a checkpoint with a 'probe' key. This is deprecated and may be removed in a future version. \n",
            "WARNING:root:Loading a checkpoint with a 'probe' key. This is deprecated and may be removed in a future version. \n",
            "WARNING:root:Loading a checkpoint with a 'probe' key. This is deprecated and may be removed in a future version. \n",
            "WARNING:root:Loading a checkpoint with a 'probe' key. This is deprecated and may be removed in a future version. \n",
            "WARNING:root:Loading a checkpoint with a 'probe' key. This is deprecated and may be removed in a future version. \n",
            "WARNING:root:Loading a checkpoint with a 'probe' key. This is deprecated and may be removed in a future version. \n",
            "WARNING:root:Loading a checkpoint with a 'probe' key. This is deprecated and may be removed in a future version. \n",
            "WARNING:root:Loading a checkpoint with a 'probe' key. This is deprecated and may be removed in a future version. \n",
            "WARNING:root:Loading a checkpoint with a 'probe' key. This is deprecated and may be removed in a future version. \n",
            "WARNING:root:Loading a checkpoint with a 'probe' key. This is deprecated and may be removed in a future version. \n",
            "WARNING:root:Loading a checkpoint with a 'probe' key. This is deprecated and may be removed in a future version. \n",
            "WARNING:root:Loading a checkpoint with a 'probe' key. This is deprecated and may be removed in a future version. \n",
            "WARNING:root:Loading a checkpoint with a 'probe' key. This is deprecated and may be removed in a future version. \n",
            "WARNING:root:Loading a checkpoint with a 'probe' key. This is deprecated and may be removed in a future version. \n",
            "WARNING:root:Loading a checkpoint with a 'probe' key. This is deprecated and may be removed in a future version. \n",
            "WARNING:root:Loading a checkpoint with a 'probe' key. This is deprecated and may be removed in a future version. \n",
            "WARNING:root:Loading a checkpoint with a 'probe' key. This is deprecated and may be removed in a future version. \n",
            "WARNING:root:Loading a checkpoint with a 'probe' key. This is deprecated and may be removed in a future version. \n",
            "WARNING:root:Loading a checkpoint with a 'probe' key. This is deprecated and may be removed in a future version. \n",
            "WARNING:root:Loading a checkpoint with a 'probe' key. This is deprecated and may be removed in a future version. \n",
            "WARNING:root:Loading a checkpoint with a 'probe' key. This is deprecated and may be removed in a future version. \n",
            "WARNING:root:Loading a checkpoint with a 'probe' key. This is deprecated and may be removed in a future version. \n",
            "WARNING:root:Loading a checkpoint with a 'probe' key. This is deprecated and may be removed in a future version. \n",
            "WARNING:root:Loading a checkpoint with a 'probe' key. This is deprecated and may be removed in a future version. \n",
            "WARNING:root:Loading a checkpoint with a 'probe' key. This is deprecated and may be removed in a future version. \n",
            "WARNING:root:Loading a checkpoint with a 'probe' key. This is deprecated and may be removed in a future version. \n",
            "WARNING:root:Loading a checkpoint with a 'probe' key. This is deprecated and may be removed in a future version. \n",
            "WARNING:root:Loading a checkpoint with a 'probe' key. This is deprecated and may be removed in a future version. \n",
            "WARNING:root:Loading a checkpoint with a 'probe' key. This is deprecated and may be removed in a future version. \n",
            "WARNING:root:Loading a checkpoint with a 'probe' key. This is deprecated and may be removed in a future version. \n",
            "WARNING:root:Loading a checkpoint with a 'probe' key. This is deprecated and may be removed in a future version. \n",
            "WARNING:root:Loading a checkpoint with a 'probe' key. This is deprecated and may be removed in a future version. \n",
            "WARNING:root:Loading a checkpoint with a 'probe' key. This is deprecated and may be removed in a future version. \n",
            "WARNING:root:Loading a checkpoint with a 'probe' key. This is deprecated and may be removed in a future version. \n",
            "WARNING:root:Loading a checkpoint with a 'probe' key. This is deprecated and may be removed in a future version. \n",
            "WARNING:root:Loading a checkpoint with a 'probe' key. This is deprecated and may be removed in a future version. \n",
            "WARNING:root:Ignoring config key 'mlp_hidden_sizes'\n",
            "WARNING:root:Ignoring config key 'identity_init'\n",
            "WARNING:root:Ignoring config key 'dropout'\n",
            "WARNING:root:Ignoring config key 'shared_mlp_hidden_sizes'\n",
            "WARNING:root:Ignoring config key 'sublayers'\n",
            "WARNING:root:Ignoring config key 'rank'\n"
          ]
        }
      ],
      "source": [
        "import torch\n",
        "from tuned_lens.nn.lenses import TunedLens, LogitLens\n",
        "from transformers import AutoModelForCausalLM, AutoTokenizer\n",
        "\n",
        "device = torch.device('cpu')\n",
        "# To try a diffrent modle / lens check if the lens is avalible then modify this code\n",
        "model_a = AutoModelForCausalLM.from_pretrained('EleutherAI/pythia-410m-deduped-v0')\n",
        "model_a = model_a.to(device)\n",
        "model_b = AutoModelForCausalLM.from_pretrained('EleutherAI/pythia-410m-deduped')\n",
        "model_b = model_b.to(device)\n",
        "tokenizer = AutoTokenizer.from_pretrained('EleutherAI/pythia-410m-deduped-v0')\n",
        "tuned_lens = TunedLens.load(\"pythia-410m-deduped-v0\", map_location=device)\n",
        "tuned_lens = tuned_lens.to(device)\n"
      ]
    },
    {
      "cell_type": "code",
      "execution_count": 3,
      "metadata": {
        "id": "DL8f4i2828lm",
        "scrolled": true
      },
      "outputs": [
        {
          "data": {
            "application/vnd.plotly.v1+json": {
              "config": {
                "plotlyServerURL": "https://plot.ly"
              },
              "data": [
                {
                  "colorbar": {
                    "title": {
                      "side": "right",
                      "text": "nats"
                    }
                  },
                  "colorscale": [
                    [
                      0,
                      "rgb(5,48,97)"
                    ],
                    [
                      0.1,
                      "rgb(33,102,172)"
                    ],
                    [
                      0.2,
                      "rgb(67,147,195)"
                    ],
                    [
                      0.3,
                      "rgb(146,197,222)"
                    ],
                    [
                      0.4,
                      "rgb(209,229,240)"
                    ],
                    [
                      0.5,
                      "rgb(247,247,247)"
                    ],
                    [
                      0.6,
                      "rgb(253,219,199)"
                    ],
                    [
                      0.7,
                      "rgb(244,165,130)"
                    ],
                    [
                      0.8,
                      "rgb(214,96,77)"
                    ],
                    [
                      0.9,
                      "rgb(178,24,43)"
                    ],
                    [
                      1,
                      "rgb(103,0,31)"
                    ]
                  ],
                  "customdata": [
                    [
                      [
                        "- %4.32",
                        "_ %3.27",
                        ". %2.77",
                        "x %2.68",
                        ", %2.05",
                        "_is %1.89",
                        ") %1.64",
                        "_was %1.49",
                        "** %1.27",
                        "'s %0.96"
                      ],
                      [
                        "_the %4.00",
                        "_a %2.76",
                        "_not %1.86",
                        "_in %1.26",
                        "\\n %1.09",
                        "_been %0.83",
                        "_that %0.82",
                        "_\" %0.81",
                        "_to %0.70",
                        "_at %0.66"
                      ],
                      [
                        "_same %0.85",
                        "_first %0.74",
                        "_future %0.50",
                        "_case %0.45",
                        "_resul… %0.43",
                        "_other %0.42",
                        "_name %0.39",
                        "_the %0.38",
                        "_fact %0.37",
                        "_follo… %0.35"
                      ],
                      [
                        ", %5.76",
                        ". %4.29",
                        "_of %2.35",
                        "_to %2.28",
                        "_for %2.27",
                        "_or %1.61",
                        "_and %1.30",
                        "'s %1.26",
                        "_as %1.14",
                        "_the %0.85"
                      ],
                      [
                        "_the %25.20",
                        "_a %3.18",
                        "_their %0.61",
                        "_it %0.61",
                        "_this %0.55",
                        "_them %0.53",
                        "_these %0.51",
                        "_your %0.50",
                        "_its %0.49",
                        "_\" %0.43"
                      ]
                    ],
                    [
                      [
                        "_we %3.29",
                        ", %2.80",
                        "_enter… %2.51",
                        ". %2.49",
                        "- %2.34",
                        "u %2.25",
                        "_ %1.98",
                        "\\n %1.14",
                        "'s %1.13",
                        "_they %0.90"
                      ],
                      [
                        "_a %2.80",
                        "_not %2.31",
                        "_the %2.23",
                        "_also %1.38",
                        "_in %1.30",
                        "_found %1.21",
                        "_out %1.21",
                        "_he %1.21",
                        "_enter… %0.80",
                        "_on %0.76"
                      ],
                      [
                        "_first %0.75",
                        "_last %0.66",
                        "_\" %0.50",
                        "_follo… %0.48",
                        "\\n %0.44",
                        "_world %0.43",
                        "_same %0.42",
                        "_time %0.34",
                        "_second %0.31",
                        "_public %0.29"
                      ],
                      [
                        "_of %8.38",
                        "_possi… %3.64",
                        ", %2.40",
                        ". %2.00",
                        ".\" %1.60",
                        "\\n %1.26",
                        "_to %1.26",
                        "_and %1.18",
                        "ez %1.12",
                        "_you %1.02"
                      ],
                      [
                        "_the %12.37",
                        "_a %2.79",
                        "_our %1.56",
                        "_this %1.47",
                        "_his %1.44",
                        "_these %1.22",
                        "_their %0.81",
                        "_an %0.70",
                        "_your %0.61",
                        "\\n %0.52"
                      ]
                    ],
                    [
                      [
                        "_ %3.68",
                        ". %2.32",
                        ", %1.96",
                        "_not %1.77",
                        "_out %1.56",
                        "_they %1.36",
                        "_be %1.19",
                        "_by %1.06",
                        "_it %1.06",
                        "_is %1.00"
                      ],
                      [
                        "_the %3.22",
                        "_a %2.98",
                        "_not %2.37",
                        "_out %1.86",
                        "_to %0.91",
                        "_his %0.87",
                        "_in %0.84",
                        "_he %0.80",
                        "_also %0.79",
                        "_an %0.68"
                      ],
                      [
                        "_first %0.80",
                        "_same %0.63",
                        "\\n %0.59",
                        "_be %0.56",
                        "_second %0.47",
                        "_\" %0.44",
                        "_last %0.41",
                        "_fact %0.40",
                        "_follo… %0.35",
                        "_final %0.35"
                      ],
                      [
                        "_of %16.17",
                        "_possi… %1.94",
                        ".\" %1.93",
                        "_piece %1.66",
                        "_to %1.36",
                        "_way %1.31",
                        ". %1.20",
                        "of %1.17",
                        ", %1.14",
                        "ies %0.83"
                      ],
                      [
                        "_the %13.62",
                        "_this %3.34",
                        "_a %2.57",
                        "_these %2.55",
                        "_I %2.15",
                        "\\n %1.47",
                        "_your %1.20",
                        "_our %0.95",
                        "_their %0.90",
                        "_my %0.73"
                      ]
                    ],
                    [
                      [
                        "'s %4.36",
                        "_be %3.25",
                        "u %1.81",
                        ". %1.66",
                        "_not %1.55",
                        "_is %1.45",
                        "_ %1.27",
                        "- %0.95",
                        ", %0.95",
                        "\\n %0.75"
                      ],
                      [
                        "_the %3.61",
                        "_a %2.79",
                        "_not %2.05",
                        "_also %1.83",
                        "_found %1.21",
                        "_out %1.17",
                        "_only %1.09",
                        "_an %0.95",
                        "_called %0.86",
                        "_to %0.79"
                      ],
                      [
                        "_first %1.02",
                        "_same %0.97",
                        "\\n %0.74",
                        "_case %0.67",
                        "_fact %0.64",
                        "_second %0.51",
                        "_only %0.49",
                        "_most %0.43",
                        "_open %0.41",
                        "_\" %0.41"
                      ],
                      [
                        "_of %22.49",
                        "_possi… %1.65",
                        "_to %1.61",
                        "_value %1.32",
                        "\\n %1.28",
                        ". %1.01",
                        "_playe… %0.91",
                        "_piece %0.84",
                        ", %0.78",
                        "_way %0.71"
                      ],
                      [
                        "_the %27.63",
                        "_it %8.00",
                        "_my %6.02",
                        "_your %4.44",
                        "_their %3.77",
                        "_these %2.73",
                        "_our %2.65",
                        "_his %2.50",
                        "_a %2.34",
                        "_this %1.47"
                      ]
                    ],
                    [
                      [
                        "\\n %13.03",
                        "   %1.38",
                        "_In %0.86",
                        "_\" %0.85",
                        "_The %0.77",
                        "_We %0.65",
                        "_A %0.54",
                        "_This %0.50",
                        "_An %0.42",
                        "_is %0.39"
                      ],
                      [
                        "_a %4.22",
                        "_the %3.83",
                        "_an %2.84",
                        "_found %2.59",
                        "_called %1.63",
                        "_also %1.42",
                        "_used %1.38",
                        "_not %1.32",
                        "_made %0.88",
                        "_to %0.81"
                      ],
                      [
                        "_first %2.30",
                        "_same %1.59",
                        "_only %1.21",
                        "\\n %1.05",
                        "_number %0.85",
                        "_very %0.83",
                        "_follo… %0.75",
                        "_case %0.73",
                        "_second %0.67",
                        "_author %0.58"
                      ],
                      [
                        "_of %28.86",
                        "_possi… %3.13",
                        "_piece %2.24",
                        "_to %2.11",
                        ". %1.89",
                        "_found %1.41",
                        ", %1.34",
                        "\\n %1.16",
                        "_value %1.15",
                        "_you %0.80"
                      ],
                      [
                        "_the %13.80",
                        "_my %11.45",
                        "_me %8.57",
                        "_your %6.57",
                        "_his %4.38",
                        "_it %3.99",
                        "_this %3.71",
                        "_her %2.93",
                        "_a %2.54",
                        "_our %2.27"
                      ]
                    ],
                    [
                      [
                        "\\n %6.13",
                        "_The %1.15",
                        "   %0.91",
                        "_\" %0.55",
                        "_An %0.51",
                        "_In %0.47",
                        "_A %0.45",
                        "_We %0.37",
                        "_of %0.36",
                        "I %0.32"
                      ],
                      [
                        "_an %3.57",
                        "_heard %3.55",
                        "_called %3.13",
                        "_the %2.74",
                        "_a %2.54",
                        "_made %2.49",
                        "_not %1.56",
                        "_used %1.39",
                        "_born %1.22",
                        "_found %1.11"
                      ],
                      [
                        "_only %5.84",
                        "_first %4.11",
                        "_same %2.82",
                        "\\n %1.46",
                        "_perfe… %1.30",
                        "_number %1.26",
                        "_very %1.14",
                        "_last %1.01",
                        "_second %0.99",
                        "_great %0.70"
                      ],
                      [
                        "_of %19.15",
                        "_piece %3.36",
                        "_possi… %2.96",
                        "\\n %1.16",
                        "_to %1.06",
                        ". %0.79",
                        ", %0.78",
                        "_I %0.61",
                        "_one %0.50",
                        "_artic… %0.48"
                      ],
                      [
                        "_the %24.70",
                        "_my %18.86",
                        "_a %4.43",
                        "_' %4.15",
                        "_it %3.41",
                        "_me %3.12",
                        "_her %1.28",
                        "_our %1.11",
                        "_them %0.74",
                        "_us %0.73"
                      ]
                    ],
                    [
                      [
                        "\\n %10.51",
                        "   %1.49",
                        "_The %1.28",
                        "1 %0.69",
                        "_\" %0.67",
                        "_of %0.54",
                        "_( %0.49",
                        "_is %0.40",
                        "_In %0.39",
                        "_A %0.36"
                      ],
                      [
                        "_an %5.45",
                        "_the %5.11",
                        "_a %4.75",
                        "_heard %2.52",
                        "_made %1.78",
                        "_from %1.54",
                        "_called %1.37",
                        "_to %1.20",
                        ". %1.19",
                        "_just %1.04"
                      ],
                      [
                        "_only %7.90",
                        "_first %6.62",
                        "_number %2.49",
                        "_perfe… %2.47",
                        "_same %2.03",
                        "_last %1.68",
                        "\\n %1.58",
                        "_third %0.91",
                        "_second %0.88",
                        "_best %0.80"
                      ],
                      [
                        "_of %16.83",
                        "_possi… %2.83",
                        ". %1.88",
                        "im %1.74",
                        "\\n %1.68",
                        "_to %1.41",
                        ", %1.01",
                        "_I %0.83",
                        "ies %0.72",
                        "_value %0.72"
                      ],
                      [
                        "_the %20.86",
                        "_a %11.21",
                        "_its %4.59",
                        "\\n %4.38",
                        "_' %2.97",
                        "_my %2.69",
                        "_me %2.23",
                        "_his %1.82",
                        "_it %1.79",
                        "_her %1.26"
                      ]
                    ],
                    [
                      [
                        "\\n %9.89",
                        "_The %0.92",
                        "   %0.90",
                        "1 %0.57",
                        "_of %0.56",
                        "_( %0.52",
                        "_\" %0.47",
                        "_is %0.38",
                        "_and %0.33",
                        "2 %0.32"
                      ],
                      [
                        "_a %4.28",
                        "_an %3.88",
                        "_the %3.35",
                        ", %2.13",
                        ") %2.05",
                        "_to %1.84",
                        "_from %1.67",
                        "_called %1.65",
                        ". %1.42",
                        "_made %1.42"
                      ],
                      [
                        "_first %7.06",
                        "_only %5.61",
                        "_second %1.86",
                        "_same %1.69",
                        "_third %1.67",
                        "_last %1.63",
                        "_number %1.56",
                        "_perfe… %1.42",
                        "_expre… %1.31",
                        "_justi… %1.23"
                      ],
                      [
                        "_of %16.67",
                        "_possi… %2.04",
                        ". %1.89",
                        ", %1.88",
                        "_to %1.57",
                        "_men %1.33",
                        "_I %0.96",
                        "_thing %0.92",
                        "\\n %0.92",
                        "im %0.79"
                      ],
                      [
                        "_my %12.25",
                        "_the %11.84",
                        "_me %8.06",
                        "\\n %4.47",
                        "_a %3.63",
                        "_all %3.54",
                        "_us %3.12",
                        "_âĢĺ %3.11",
                        "_today %2.49",
                        "_' %2.47"
                      ]
                    ],
                    [
                      [
                        "\\n %7.19",
                        "   %0.92",
                        "_The %0.80",
                        "_( %0.55",
                        "1 %0.54",
                        "_\" %0.41",
                        "_is %0.34",
                        "( %0.31",
                        "_of %0.30",
                        "2 %0.26"
                      ],
                      [
                        "_a %5.34",
                        "_an %4.19",
                        "_the %2.77",
                        "_called %2.34",
                        "_to %2.31",
                        ". %1.92",
                        "_one %1.57",
                        ", %1.30",
                        "_from %1.24",
                        "_made %1.23"
                      ],
                      [
                        "_first %7.29",
                        "_only %6.89",
                        "_second %4.11",
                        "_last %3.38",
                        "_third %1.77",
                        "\\n %1.52",
                        "_one %1.51",
                        "_perfe… %1.19",
                        "_son %0.88",
                        "_number %0.79"
                      ],
                      [
                        "_of %25.49",
                        "_possi… %2.19",
                        "_thing %1.83",
                        "_value %1.74",
                        "- %1.62",
                        "_you %1.49",
                        "_I %1.36",
                        "_kind %1.36",
                        "_we %1.23",
                        "_for %1.22"
                      ],
                      [
                        "_all %23.16",
                        "_my %7.24",
                        "\\n %6.94",
                        "_the %4.67",
                        "_âĢĺ %3.63",
                        "_a %3.37",
                        "_today %2.17",
                        "_her %2.00",
                        "_' %1.06",
                        "_it %0.97"
                      ]
                    ],
                    [
                      [
                        "\\n %4.65",
                        "_The %0.71",
                        "1 %0.50",
                        "   %0.37",
                        "_( %0.29",
                        "Ð¸ %0.28",
                        "_\" %0.28",
                        "_and %0.25",
                        "_of %0.24",
                        "A %0.23"
                      ],
                      [
                        "_a %6.05",
                        "_the %3.78",
                        "_an %3.23",
                        "_called %3.15",
                        "_to %2.47",
                        "âĢĻ %1.80",
                        ". %1.48",
                        "_not %1.36",
                        ", %1.28",
                        "_one %1.10"
                      ],
                      [
                        "_only %12.28",
                        "_first %3.30",
                        "_one %1.77",
                        "_perfe… %1.55",
                        "_last %1.48",
                        "_second %1.20",
                        "\\n %0.95",
                        "_number %0.95",
                        "_son %0.89",
                        "_su %0.81"
                      ],
                      [
                        "_of %16.60",
                        "_possi… %4.89",
                        "_thing %2.20",
                        "_to %1.67",
                        "- %1.48",
                        "_value %1.11",
                        "_you %0.97",
                        "_for %0.95",
                        "_one %0.93",
                        ", %0.88"
                      ],
                      [
                        "_all %14.28",
                        "_today %9.22",
                        "_any %6.04",
                        "_âĢĺ %4.66",
                        "_the %3.78",
                        "_' %3.57",
                        "_this %2.78",
                        "_my %2.52",
                        "_our %2.43",
                        "\\n %2.37"
                      ]
                    ],
                    [
                      [
                        "\\n %5.59",
                        "_The %0.49",
                        "   %0.47",
                        "_and %0.33",
                        "_it %0.31",
                        "_( %0.29",
                        "_of %0.29",
                        "Ð¸ %0.27",
                        ". %0.25",
                        "\\n\\n %0.23"
                      ],
                      [
                        "_called %6.93",
                        "_a %4.57",
                        "_an %4.32",
                        "_the %3.92",
                        "_to %2.64",
                        ", %2.02",
                        "_not %1.76",
                        "_one %1.12",
                        "âĢĻ %1.09",
                        ". %1.02"
                      ],
                      [
                        "_only %14.53",
                        "_first %5.87",
                        "_one %2.90",
                        "_last %2.62",
                        "_second %1.54",
                        "_perfe… %1.27",
                        "_third %0.99",
                        "\\n %0.88",
                        "_most %0.82",
                        "_an %0.79"
                      ],
                      [
                        "_of %17.63",
                        "_possi… %2.97",
                        "- %2.75",
                        "_one %2.69",
                        "_to %2.35",
                        ". %1.44",
                        ", %1.32",
                        "\\n %1.23",
                        "_thing %1.17",
                        "_open %0.99"
                      ],
                      [
                        "_all %28.89",
                        "_the %20.32",
                        "\\n %4.07",
                        "_it %3.07",
                        "_a %2.92",
                        "_this %2.61",
                        "_our %1.18",
                        "_its %1.16",
                        "_her %1.06",
                        "_them %0.92"
                      ]
                    ],
                    [
                      [
                        "\\n %4.70",
                        ". %0.48",
                        "   %0.44",
                        "_The %0.37",
                        "_( %0.31",
                        "_and %0.29",
                        "_of %0.28",
                        "> %0.27",
                        "Ð¸ %0.25",
                        "\\n\\n %0.24"
                      ],
                      [
                        "_an %5.66",
                        "_called %5.33",
                        "_the %4.84",
                        "_a %4.82",
                        "_to %2.61",
                        "_not %1.34",
                        ", %1.05",
                        "_one %0.96",
                        "_that %0.76",
                        "_heard %0.71"
                      ],
                      [
                        "_only %5.76",
                        "_first %4.31",
                        "_one %2.14",
                        "_last %1.90",
                        "_perfe… %1.19",
                        "_second %1.04",
                        "_son %0.96",
                        "_most %0.94",
                        "_time %0.68",
                        "_best %0.62"
                      ],
                      [
                        "_of %10.80",
                        "_possi… %4.81",
                        "_one %3.52",
                        "_time %2.98",
                        "- %2.73",
                        ", %2.15",
                        "\\n %2.02",
                        "_to %1.72",
                        "_value %1.67",
                        "_piece %1.55"
                      ],
                      [
                        "_all %30.33",
                        "_the %21.45",
                        "_a %4.75",
                        "_it %4.17",
                        "_its %3.19",
                        "_' %3.11",
                        "_her %3.07",
                        "\\n %2.18",
                        "_both %1.31",
                        "_this %1.02"
                      ]
                    ],
                    [
                      [
                        "\\n %5.91",
                        ". %0.64",
                        "   %0.43",
                        "_in %0.43",
                        ", %0.42",
                        "_and %0.42",
                        "_of %0.40",
                        "_The %0.37",
                        "_to %0.36",
                        "_( %0.35"
                      ],
                      [
                        "_called %5.53",
                        "_the %4.51",
                        "_a %4.42",
                        "_an %3.33",
                        "_to %2.98",
                        "_not %2.20",
                        "_found %1.18",
                        ", %1.18",
                        "_made %1.09",
                        "_one %1.05"
                      ],
                      [
                        "_only %4.69",
                        "_first %3.66",
                        "_one %2.78",
                        "_perfe… %1.03",
                        "_time %0.89",
                        "\\n %0.77",
                        "_last %0.75",
                        "_most %0.68",
                        "_number %0.67",
                        "_second %0.65"
                      ],
                      [
                        "_of %11.93",
                        "_time %8.27",
                        "_one %3.73",
                        "_possi… %2.79",
                        ", %1.50",
                        "- %1.45",
                        "_piece %1.27",
                        "_thing %1.18",
                        "_to %1.06",
                        "_for %1.01"
                      ],
                      [
                        "_all %40.03",
                        "_the %16.95",
                        "_her %3.16",
                        "_' %2.77",
                        "_both %2.73",
                        "_a %1.92",
                        "\\n %1.63",
                        "_them %1.44",
                        "_it %1.26",
                        "_that %0.89"
                      ]
                    ],
                    [
                      [
                        "\\n %5.61",
                        ". %1.11",
                        "_and %0.71",
                        "_in %0.62",
                        "_of %0.56",
                        ", %0.54",
                        "   %0.51",
                        "_to %0.49",
                        "_The %0.38",
                        "_( %0.36"
                      ],
                      [
                        "_a %4.18",
                        "_the %3.97",
                        "_to %3.27",
                        "_called %3.11",
                        "_not %2.54",
                        "_an %1.91",
                        "_made %1.26",
                        "_found %1.26",
                        ", %1.12",
                        "_held %0.99"
                      ],
                      [
                        "_first %5.72",
                        "_only %4.39",
                        "_one %2.04",
                        "_last %0.99",
                        "\\n %0.98",
                        "_most %0.82",
                        "_time %0.78",
                        "_number %0.73",
                        "_second %0.59",
                        "_day %0.48"
                      ],
                      [
                        "_of %10.64",
                        "_time %8.61",
                        "_possi… %4.59",
                        "_one %3.61",
                        "\\n %2.19",
                        "_thing %1.90",
                        "_day %1.50",
                        "- %1.25",
                        ", %1.23",
                        "_I %1.18"
                      ],
                      [
                        "_all %34.00",
                        "_the %14.97",
                        "_both %5.87",
                        "_her %4.00",
                        "\\n %3.20",
                        "_a %2.54",
                        "_them %1.74",
                        "_my %1.32",
                        "_his %1.10",
                        ", %0.98"
                      ]
                    ],
                    [
                      [
                        "\\n %9.99",
                        ". %1.30",
                        "_in %1.10",
                        "_and %1.06",
                        "_to %0.93",
                        "_of %0.91",
                        ", %0.73",
                        "_The %0.60",
                        "   %0.45",
                        "_when %0.42"
                      ],
                      [
                        "_the %5.19",
                        "_a %5.06",
                        "_to %2.57",
                        "_not %2.21",
                        "_called %2.19",
                        "_an %1.85",
                        ", %1.64",
                        "_no %1.61",
                        "\\n %1.31",
                        "_found %1.28"
                      ],
                      [
                        "_only %3.61",
                        "_first %2.91",
                        "_one %1.55",
                        "\\n %1.50",
                        "_day %0.75",
                        "_number %0.67",
                        "_most %0.60",
                        "_Holy %0.55",
                        "_time %0.55",
                        "_perfe… %0.54"
                      ],
                      [
                        "_time %7.43",
                        "_possi… %5.92",
                        "_of %4.35",
                        "_thing %3.43",
                        "_one %2.45",
                        "- %2.15",
                        "\\n %2.00",
                        "_day %1.47",
                        ", %1.40",
                        "_for %1.25"
                      ],
                      [
                        "_all %62.74",
                        "_the %13.50",
                        "_her %2.01",
                        "_a %1.37",
                        "_both %1.17",
                        "\\n %1.16",
                        "_his %0.97",
                        "_that %0.85",
                        "_them %0.62",
                        "_their %0.48"
                      ]
                    ],
                    [
                      [
                        "\\n %8.16",
                        ". %1.39",
                        "_and %1.28",
                        "_in %1.27",
                        "_to %1.09",
                        "_of %0.83",
                        ", %0.80",
                        "_The %0.65",
                        "_when %0.54",
                        "_is %0.54"
                      ],
                      [
                        "_a %6.68",
                        "_the %5.44",
                        "_not %2.64",
                        "_to %2.53",
                        "\\n %2.41",
                        "_called %1.80",
                        ", %1.56",
                        "_only %1.47",
                        "_found %1.26",
                        "_an %1.17"
                      ],
                      [
                        "_only %5.14",
                        "_first %4.01",
                        "_one %2.58",
                        "\\n %1.51",
                        "_most %1.14",
                        "_best %1.05",
                        "_time %1.04",
                        "_case %0.77",
                        "_perfe… %0.67",
                        "_number %0.64"
                      ],
                      [
                        "_possi… %11.05",
                        "_time %5.36",
                        "_of %4.30",
                        "- %2.45",
                        "\\n %1.89",
                        "_thing %1.76",
                        "_place %1.68",
                        "_one %1.63",
                        ", %1.12",
                        "_option %0.92"
                      ],
                      [
                        "_all %67.58",
                        "_the %10.81",
                        "_them %1.85",
                        "_times %1.65",
                        "_her %1.54",
                        "_his %1.01",
                        "_both %0.91",
                        "_their %0.83",
                        "_three %0.81",
                        "_a %0.70"
                      ]
                    ],
                    [
                      [
                        "\\n %7.34",
                        ". %1.92",
                        "_in %1.09",
                        "_and %1.06",
                        ", %1.04",
                        "_to %0.95",
                        "_The %0.70",
                        "_of %0.66",
                        "_when %0.64",
                        "_- %0.60"
                      ],
                      [
                        "_the %4.81",
                        "_a %3.48",
                        "_not %3.36",
                        "_called %2.46",
                        ", %1.75",
                        "_to %1.59",
                        "\\n %1.55",
                        "_made %1.15",
                        "_found %1.06",
                        "_held %0.93"
                      ],
                      [
                        "_first %4.84",
                        "_only %3.60",
                        "\\n %2.34",
                        "_one %1.40",
                        "_best %1.25",
                        "_most %1.14",
                        "_last %0.77",
                        "_same %0.65",
                        "_perfe… %0.61",
                        "_bigge… %0.45"
                      ],
                      [
                        "_possi… %13.58",
                        "_thing %3.70",
                        "_of %3.41",
                        "_time %3.10",
                        "\\n %2.11",
                        "- %1.75",
                        "_option %1.32",
                        "_way %1.31",
                        "_exper… %1.30",
                        ". %1.28"
                      ],
                      [
                        "_all %55.08",
                        "_the %15.59",
                        "_times %6.08",
                        "_both %1.82",
                        "_every… %0.74",
                        "_life %0.70",
                        "_three %0.62",
                        "_it %0.58",
                        "_a %0.49",
                        "_them %0.48"
                      ]
                    ],
                    [
                      [
                        "\\n %6.44",
                        ". %1.76",
                        "_in %0.97",
                        "_The %0.87",
                        "_and %0.82",
                        "_to %0.80",
                        "_( %0.76",
                        ", %0.75",
                        "_\" %0.68",
                        "_when %0.63"
                      ],
                      [
                        "_the %4.57",
                        "_a %3.10",
                        "_not %2.84",
                        ", %2.44",
                        "_called %2.11",
                        "\\n %1.44",
                        "_to %1.15",
                        "_held %1.08",
                        "_found %0.95",
                        "_made %0.88"
                      ],
                      [
                        "_first %6.28",
                        "_only %4.96",
                        "_most %2.38",
                        "_one %1.52",
                        "\\n %1.33",
                        "_best %1.24",
                        "_last %1.13",
                        "_bigge… %0.78",
                        "_large… %0.78",
                        "_night %0.76"
                      ],
                      [
                        "_possi… %9.59",
                        "_thing %5.36",
                        "_of %3.82",
                        "_time %3.16",
                        "- %2.65",
                        ". %2.02",
                        "\\n %1.92",
                        ", %1.63",
                        "_and %1.59",
                        "selling %1.05"
                      ],
                      [
                        "_all %35.87",
                        "_the %22.64",
                        "_times %6.18",
                        "_both %3.49",
                        "\\n %1.32",
                        "_them %1.27",
                        "_every… %1.07",
                        "_a %1.06",
                        "_three %0.98",
                        "_my %0.75"
                      ]
                    ],
                    [
                      [
                        "\\n %7.24",
                        ". %2.04",
                        "_The %1.17",
                        "_and %1.13",
                        "_in %1.08",
                        "_to %1.05",
                        "_of %1.03",
                        "_( %1.03",
                        ", %0.95",
                        "_is %0.70"
                      ],
                      [
                        "_the %3.54",
                        "_not %3.35",
                        "_a %2.85",
                        "\\n %1.88",
                        ", %1.27",
                        "_called %1.27",
                        "_to %1.13",
                        "_said %1.01",
                        "_an %0.95",
                        "_only %0.93"
                      ],
                      [
                        "_first %7.86",
                        "_only %4.20",
                        "\\n %2.07",
                        "_most %1.86",
                        "_best %1.21",
                        "_last %1.08",
                        "_bigge… %0.87",
                        "_second %0.82",
                        "_third %0.81",
                        "_large… %0.58"
                      ],
                      [
                        "_possi… %7.67",
                        "_thing %5.35",
                        "_of %3.96",
                        "\\n %2.98",
                        ". %2.08",
                        ", %1.67",
                        "- %1.56",
                        "_and %1.41",
                        "_place %1.37",
                        "_way %1.29"
                      ],
                      [
                        "_all %40.52",
                        "_the %12.02",
                        "_times %8.48",
                        "_both %4.19",
                        "_them %1.34",
                        "\\n %1.33",
                        "_a %0.86",
                        "_my %0.55",
                        "_their %0.52",
                        "_every… %0.45"
                      ]
                    ],
                    [
                      [
                        "\\n %8.07",
                        ". %1.61",
                        "_The %1.40",
                        "_( %1.06",
                        "_and %0.96",
                        "_in %0.95",
                        "_of %0.88",
                        ", %0.84",
                        "   %0.66",
                        "_\" %0.64"
                      ],
                      [
                        "_a %3.94",
                        "_not %3.45",
                        "_the %3.44",
                        "\\n %3.03",
                        "_called %1.48",
                        "_said %1.46",
                        "_found %1.27",
                        ", %1.21",
                        "_an %1.06",
                        "nt %0.98"
                      ],
                      [
                        "_first %10.75",
                        "_only %4.13",
                        "_most %2.48",
                        "\\n %2.21",
                        "_last %1.44",
                        "_same %1.20",
                        "_third %1.18",
                        "_best %0.99",
                        "_second %0.94",
                        "_bigge… %0.91"
                      ],
                      [
                        "_thing %9.56",
                        "_possi… %5.64",
                        "_of %4.63",
                        "_time %3.49",
                        "_place %3.37",
                        "\\n %3.01",
                        "- %1.88",
                        "_choice %1.85",
                        "_way %1.80",
                        ", %1.69"
                      ],
                      [
                        "_all %29.06",
                        "_times %22.99",
                        "_the %11.48",
                        "_both %3.68",
                        "\\n %1.99",
                        "_his %1.11",
                        "_a %1.06",
                        "_them %0.99",
                        "_my %0.75",
                        "_things %0.70"
                      ]
                    ],
                    [
                      [
                        "\\n %9.63",
                        "_The %1.50",
                        ". %1.44",
                        "_( %1.07",
                        ", %1.01",
                        "_and %0.88",
                        "   %0.81",
                        "_of %0.68",
                        "_in %0.64",
                        "_\" %0.63"
                      ],
                      [
                        "_not %3.89",
                        "_a %3.10",
                        "\\n %2.83",
                        "_the %2.63",
                        "_also %1.32",
                        "_called %1.27",
                        ", %1.16",
                        "_in %1.15",
                        "_said %1.06",
                        "nt %1.05"
                      ],
                      [
                        "_first %7.45",
                        "_only %3.75",
                        "\\n %2.65",
                        "_most %2.27",
                        "_last %1.38",
                        "_bigge… %1.04",
                        "_third %1.01",
                        "_same %0.94",
                        "_best %0.89",
                        "_one %0.78"
                      ],
                      [
                        "_thing %8.67",
                        "_of %5.84",
                        "\\n %3.54",
                        "_possi… %3.45",
                        "- %2.80",
                        "_place %2.62",
                        ", %2.49",
                        "_and %2.49",
                        ". %2.40",
                        "_choice %1.62"
                      ],
                      [
                        "_all %26.13",
                        "_times %18.64",
                        "_the %14.08",
                        "_both %3.34",
                        "\\n %3.05",
                        "_them %1.52",
                        "_a %1.30",
                        "_his %1.05",
                        "_things %0.62",
                        "_two %0.58"
                      ]
                    ],
                    [
                      [
                        "\\n %12.47",
                        ". %2.05",
                        "_The %1.40",
                        "_and %1.04",
                        "_( %0.92",
                        ", %0.84",
                        "   %0.59",
                        "_of %0.53",
                        "_A %0.49",
                        "_in %0.45"
                      ],
                      [
                        "\\n %9.05",
                        "_a %4.20",
                        "_not %3.77",
                        "_the %2.48",
                        "_also %1.82",
                        ", %0.92",
                        "_an %0.89",
                        "_in %0.87",
                        "_called %0.74",
                        "_found %0.72"
                      ],
                      [
                        "_first %7.45",
                        "\\n %6.26",
                        "_most %3.52",
                        "_only %3.38",
                        "_last %1.93",
                        "_best %1.67",
                        "_bigge… %1.29",
                        "_large… %1.17",
                        "_third %0.96",
                        "_same %0.96"
                      ],
                      [
                        "_thing %8.53",
                        "\\n %5.98",
                        "_of %4.54",
                        "_place %3.49",
                        "_possi… %3.27",
                        ". %2.67",
                        "- %2.57",
                        "_time %2.38",
                        ", %2.31",
                        "_and %2.23"
                      ],
                      [
                        "_times %25.62",
                        "_all %23.89",
                        "_the %13.93",
                        "\\n %5.28",
                        "_both %2.91",
                        "_a %1.51",
                        "_them %1.40",
                        "_his %0.69",
                        "_two %0.66",
                        "_my %0.60"
                      ]
                    ],
                    [
                      [
                        "\\n %13.49",
                        ". %1.44",
                        "_The %1.19",
                        "_and %0.79",
                        "_( %0.66",
                        "   %0.57",
                        ", %0.51",
                        "_A %0.38",
                        "_of %0.35",
                        "- %0.34"
                      ],
                      [
                        "_a %5.87",
                        "\\n %3.96",
                        "_not %3.69",
                        "_the %3.35",
                        "_also %1.65",
                        "_an %1.03",
                        "_in %0.98",
                        ", %0.89",
                        "_only %0.80",
                        "_said %0.75"
                      ],
                      [
                        "_first %9.02",
                        "_only %4.70",
                        "\\n %4.21",
                        "_most %2.75",
                        "_last %2.27",
                        "_best %1.67",
                        "_one %0.95",
                        "_bigge… %0.92",
                        "_third %0.87",
                        "_same %0.85"
                      ],
                      [
                        "_thing %9.14",
                        "_of %5.70",
                        "- %3.65",
                        "_place %3.30",
                        "\\n %3.20",
                        ". %2.69",
                        "_time %2.64",
                        "_part %2.64",
                        "_way %2.55",
                        ", %2.04"
                      ],
                      [
                        "_times %23.10",
                        "_all %22.72",
                        "_the %17.84",
                        "\\n %3.46",
                        "_both %2.48",
                        "_a %1.50",
                        "_them %1.33",
                        "_my %0.94",
                        "_his %0.85",
                        "_their %0.61"
                      ]
                    ],
                    [
                      [
                        "\\n %7.44",
                        ". %2.59",
                        ", %1.70",
                        "'s %1.65",
                        "_and %1.04",
                        "ans %0.95",
                        "_ %0.63",
                        "our %0.63",
                        "- %0.58",
                        "_- %0.54"
                      ],
                      [
                        "_a %7.19",
                        "_not %4.33",
                        "_the %3.64",
                        "\\n %1.93",
                        "_an %1.20",
                        "_also %1.18",
                        ", %0.99",
                        "_in %0.91",
                        "_only %0.88",
                        "_so %0.74"
                      ],
                      [
                        "_first %8.99",
                        "_only %4.35",
                        "_most %3.04",
                        "_last %2.60",
                        "_best %1.63",
                        "\\n %1.45",
                        "_same %1.36",
                        "_one %0.98",
                        "_begin… %0.66",
                        "_great… %0.64"
                      ],
                      [
                        "_thing %8.69",
                        "_of %8.13",
                        "_time %2.92",
                        "- %2.85",
                        "_part %2.23",
                        "_way %1.90",
                        "_place %1.84",
                        ". %1.70",
                        ", %1.59",
                        "_and %1.49"
                      ],
                      [
                        "_all %21.36",
                        "_times %19.15",
                        "_the %15.40",
                        "_both %3.38",
                        "_his %1.56",
                        "\\n %1.48",
                        "_a %1.37",
                        "_them %1.16",
                        "_my %1.10",
                        "_time %0.66"
                      ]
                    ],
                    [
                      [
                        ". %3.92",
                        ", %3.84",
                        "'s %2.76",
                        "_is %2.50",
                        "_was %1.87",
                        "- %1.56",
                        "_ %1.12",
                        "_and %1.11",
                        "âĢĻ %0.99",
                        "_to %0.91"
                      ],
                      [
                        "_a %8.06",
                        "_the %4.82",
                        "_not %4.42",
                        "_an %1.40",
                        "_also %1.21",
                        "_in %1.19",
                        "_that %0.88",
                        "_to %0.86",
                        ", %0.80",
                        "_only %0.80"
                      ],
                      [
                        "_first %8.72",
                        "_only %4.64",
                        "_most %2.90",
                        "_last %2.13",
                        "_best %2.04",
                        "_same %1.55",
                        "_one %1.07",
                        "_second %0.91",
                        "_time %0.89",
                        "\\n %0.84"
                      ],
                      [
                        "_of %7.05",
                        "_thing %5.59",
                        "_time %3.79",
                        ". %2.31",
                        "_way %1.95",
                        "_I %1.92",
                        "_part %1.83",
                        "- %1.83",
                        "_place %1.74",
                        ", %1.43"
                      ],
                      [
                        "_times %21.57",
                        "_all %21.06",
                        "_the %16.86",
                        "_both %3.52",
                        "_them %2.46",
                        "_frien… %1.47",
                        "_my %1.35",
                        "_a %1.23",
                        "_his %1.17",
                        "\\n %0.89"
                      ]
                    ]
                  ],
                  "hoverlabel": {
                    "bgcolor": "rgb(42, 42, 50)"
                  },
                  "hovertemplate": " %{customdata[0]}<br> %{customdata[1]}<br> %{customdata[2]}<br> %{customdata[3]}<br> %{customdata[4]}<br> %{customdata[5]}<br> %{customdata[6]}<br> %{customdata[7]}<br> %{customdata[8]}<br> %{customdata[9]}<extra></extra>",
                  "text": [
                    [
                      "-",
                      "_the",
                      "_same",
                      ",",
                      "_the"
                    ],
                    [
                      "_we",
                      "_a",
                      "_first",
                      "_of",
                      "_the"
                    ],
                    [
                      "_",
                      "_the",
                      "_first",
                      "_of",
                      "_the"
                    ],
                    [
                      "'s",
                      "_the",
                      "_first",
                      "_of",
                      "_the"
                    ],
                    [
                      "\\n",
                      "_a",
                      "_first",
                      "_of",
                      "_the"
                    ],
                    [
                      "\\n",
                      "_an",
                      "_only",
                      "_of",
                      "_the"
                    ],
                    [
                      "\\n",
                      "_an",
                      "_only",
                      "_of",
                      "_the"
                    ],
                    [
                      "\\n",
                      "_a",
                      "_first",
                      "_of",
                      "_my"
                    ],
                    [
                      "\\n",
                      "_a",
                      "_first",
                      "_of",
                      "_all"
                    ],
                    [
                      "\\n",
                      "_a",
                      "_only",
                      "_of",
                      "_all"
                    ],
                    [
                      "\\n",
                      "_called",
                      "_only",
                      "_of",
                      "_all"
                    ],
                    [
                      "\\n",
                      "_an",
                      "_only",
                      "_of",
                      "_all"
                    ],
                    [
                      "\\n",
                      "_called",
                      "_only",
                      "_of",
                      "_all"
                    ],
                    [
                      "\\n",
                      "_a",
                      "_first",
                      "_of",
                      "_all"
                    ],
                    [
                      "\\n",
                      "_the",
                      "_only",
                      "_time",
                      "_all"
                    ],
                    [
                      "\\n",
                      "_a",
                      "_only",
                      "_possi…",
                      "_all"
                    ],
                    [
                      "\\n",
                      "_the",
                      "_first",
                      "_possi…",
                      "_all"
                    ],
                    [
                      "\\n",
                      "_the",
                      "_first",
                      "_possi…",
                      "_all"
                    ],
                    [
                      "\\n",
                      "_the",
                      "_first",
                      "_possi…",
                      "_all"
                    ],
                    [
                      "\\n",
                      "_a",
                      "_first",
                      "_thing",
                      "_all"
                    ],
                    [
                      "\\n",
                      "_not",
                      "_first",
                      "_thing",
                      "_all"
                    ],
                    [
                      "\\n",
                      "\\n",
                      "_first",
                      "_thing",
                      "_times"
                    ],
                    [
                      "\\n",
                      "_a",
                      "_first",
                      "_thing",
                      "_times"
                    ],
                    [
                      "\\n",
                      "_a",
                      "_first",
                      "_thing",
                      "_all"
                    ],
                    [
                      ".",
                      "_a",
                      "_first",
                      "_of",
                      "_times"
                    ]
                  ],
                  "texttemplate": "<b>%{text}</b>",
                  "type": "heatmap",
                  "x": [
                    "it",
                    "_was‌",
                    "_the‌‌",
                    "_best‌‌‌",
                    "_of‌‌‌‌"
                  ],
                  "y": [
                    "input",
                    "1",
                    "2",
                    "3",
                    "4",
                    "5",
                    "6",
                    "7",
                    "8",
                    "9",
                    "10",
                    "11",
                    "12",
                    "13",
                    "14",
                    "15",
                    "16",
                    "17",
                    "18",
                    "19",
                    "20",
                    "21",
                    "22",
                    "23",
                    "output"
                  ],
                  "z": [
                    [
                      7.428952217102051,
                      7.752920150756836,
                      8.535691261291504,
                      7.351804733276367,
                      6.737322807312012
                    ],
                    [
                      7.178287506103516,
                      7.388693809509277,
                      8.590593338012695,
                      7.109930515289307,
                      7.50596809387207
                    ],
                    [
                      7.577359199523926,
                      7.578296661376953,
                      8.547165870666504,
                      6.9052886962890625,
                      6.902250289916992
                    ],
                    [
                      7.601037979125977,
                      7.617152690887451,
                      8.477832794189453,
                      6.496618747711182,
                      4.496521949768066
                    ],
                    [
                      8.023747444152832,
                      7.178307056427002,
                      7.840256214141846,
                      5.634988784790039,
                      4.652761936187744
                    ],
                    [
                      8.831647872924805,
                      7.031252861022949,
                      7.228005886077881,
                      6.602013111114502,
                      4.322661399841309
                    ],
                    [
                      8.336593627929688,
                      6.7315874099731445,
                      6.746197700500488,
                      6.529301643371582,
                      4.805461406707764
                    ],
                    [
                      8.581570625305176,
                      6.875544548034668,
                      6.889804840087891,
                      6.54522705078125,
                      4.755974769592285
                    ],
                    [
                      8.841642379760742,
                      6.923813343048096,
                      6.8069305419921875,
                      5.655966758728027,
                      4.437414169311523
                    ],
                    [
                      9.150472640991211,
                      6.988828659057617,
                      7.0889105796813965,
                      6.323749542236328,
                      4.765100479125977
                    ],
                    [
                      9.147773742675781,
                      6.857461452484131,
                      6.628313064575195,
                      6.227198123931885,
                      3.953594923019409
                    ],
                    [
                      9.22226333618164,
                      7.009314060211182,
                      7.476123332977295,
                      6.1772613525390625,
                      3.470583200454712
                    ],
                    [
                      9.010175704956055,
                      7.009421348571777,
                      7.92210054397583,
                      6.391596794128418,
                      3.420656204223633
                    ],
                    [
                      8.980264663696289,
                      7.219338417053223,
                      8.008012771606445,
                      6.235335350036621,
                      3.8187508583068848
                    ],
                    [
                      8.349674224853516,
                      7.2111968994140625,
                      8.377724647521973,
                      6.672430515289307,
                      2.2854530811309814
                    ],
                    [
                      8.371345520019531,
                      7.0037126541137695,
                      7.95913553237915,
                      6.623257160186768,
                      2.0270209312438965
                    ],
                    [
                      8.34277057647705,
                      7.338073253631592,
                      8.131091117858887,
                      6.46419620513916,
                      2.666677713394165
                    ],
                    [
                      8.43405532836914,
                      7.275402545928955,
                      7.819869041442871,
                      6.536624908447266,
                      3.528717517852783
                    ],
                    [
                      8.149646759033203,
                      7.668951511383057,
                      7.860901832580566,
                      6.940511226654053,
                      3.91487455368042
                    ],
                    [
                      8.207436561584473,
                      7.259743690490723,
                      7.267941474914551,
                      6.128575325012207,
                      3.683197259902954
                    ],
                    [
                      8.17665958404541,
                      7.57780122756958,
                      7.664237976074219,
                      6.330539226531982,
                      4.02196741104126
                    ],
                    [
                      8.104681015014648,
                      7.141030788421631,
                      7.194411277770996,
                      6.137424468994141,
                      3.5093166828155518
                    ],
                    [
                      8.2093505859375,
                      7.266894817352295,
                      7.190990447998047,
                      6.079387664794922,
                      3.6391754150390625
                    ],
                    [
                      7.894174575805664,
                      7.201866149902344,
                      7.300253868103027,
                      6.274084568023682,
                      4.3358988761901855
                    ],
                    [
                      7.466546058654785,
                      6.550145626068115,
                      6.936626434326172,
                      6.278463363647461,
                      3.7636008262634277
                    ]
                  ]
                }
              ],
              "layout": {
                "template": {
                  "data": {
                    "bar": [
                      {
                        "error_x": {
                          "color": "#2a3f5f"
                        },
                        "error_y": {
                          "color": "#2a3f5f"
                        },
                        "marker": {
                          "line": {
                            "color": "#E5ECF6",
                            "width": 0.5
                          },
                          "pattern": {
                            "fillmode": "overlay",
                            "size": 10,
                            "solidity": 0.2
                          }
                        },
                        "type": "bar"
                      }
                    ],
                    "barpolar": [
                      {
                        "marker": {
                          "line": {
                            "color": "#E5ECF6",
                            "width": 0.5
                          },
                          "pattern": {
                            "fillmode": "overlay",
                            "size": 10,
                            "solidity": 0.2
                          }
                        },
                        "type": "barpolar"
                      }
                    ],
                    "carpet": [
                      {
                        "aaxis": {
                          "endlinecolor": "#2a3f5f",
                          "gridcolor": "white",
                          "linecolor": "white",
                          "minorgridcolor": "white",
                          "startlinecolor": "#2a3f5f"
                        },
                        "baxis": {
                          "endlinecolor": "#2a3f5f",
                          "gridcolor": "white",
                          "linecolor": "white",
                          "minorgridcolor": "white",
                          "startlinecolor": "#2a3f5f"
                        },
                        "type": "carpet"
                      }
                    ],
                    "choropleth": [
                      {
                        "colorbar": {
                          "outlinewidth": 0,
                          "ticks": ""
                        },
                        "type": "choropleth"
                      }
                    ],
                    "contour": [
                      {
                        "colorbar": {
                          "outlinewidth": 0,
                          "ticks": ""
                        },
                        "colorscale": [
                          [
                            0,
                            "#0d0887"
                          ],
                          [
                            0.1111111111111111,
                            "#46039f"
                          ],
                          [
                            0.2222222222222222,
                            "#7201a8"
                          ],
                          [
                            0.3333333333333333,
                            "#9c179e"
                          ],
                          [
                            0.4444444444444444,
                            "#bd3786"
                          ],
                          [
                            0.5555555555555556,
                            "#d8576b"
                          ],
                          [
                            0.6666666666666666,
                            "#ed7953"
                          ],
                          [
                            0.7777777777777778,
                            "#fb9f3a"
                          ],
                          [
                            0.8888888888888888,
                            "#fdca26"
                          ],
                          [
                            1,
                            "#f0f921"
                          ]
                        ],
                        "type": "contour"
                      }
                    ],
                    "contourcarpet": [
                      {
                        "colorbar": {
                          "outlinewidth": 0,
                          "ticks": ""
                        },
                        "type": "contourcarpet"
                      }
                    ],
                    "heatmap": [
                      {
                        "colorbar": {
                          "outlinewidth": 0,
                          "ticks": ""
                        },
                        "colorscale": [
                          [
                            0,
                            "#0d0887"
                          ],
                          [
                            0.1111111111111111,
                            "#46039f"
                          ],
                          [
                            0.2222222222222222,
                            "#7201a8"
                          ],
                          [
                            0.3333333333333333,
                            "#9c179e"
                          ],
                          [
                            0.4444444444444444,
                            "#bd3786"
                          ],
                          [
                            0.5555555555555556,
                            "#d8576b"
                          ],
                          [
                            0.6666666666666666,
                            "#ed7953"
                          ],
                          [
                            0.7777777777777778,
                            "#fb9f3a"
                          ],
                          [
                            0.8888888888888888,
                            "#fdca26"
                          ],
                          [
                            1,
                            "#f0f921"
                          ]
                        ],
                        "type": "heatmap"
                      }
                    ],
                    "heatmapgl": [
                      {
                        "colorbar": {
                          "outlinewidth": 0,
                          "ticks": ""
                        },
                        "colorscale": [
                          [
                            0,
                            "#0d0887"
                          ],
                          [
                            0.1111111111111111,
                            "#46039f"
                          ],
                          [
                            0.2222222222222222,
                            "#7201a8"
                          ],
                          [
                            0.3333333333333333,
                            "#9c179e"
                          ],
                          [
                            0.4444444444444444,
                            "#bd3786"
                          ],
                          [
                            0.5555555555555556,
                            "#d8576b"
                          ],
                          [
                            0.6666666666666666,
                            "#ed7953"
                          ],
                          [
                            0.7777777777777778,
                            "#fb9f3a"
                          ],
                          [
                            0.8888888888888888,
                            "#fdca26"
                          ],
                          [
                            1,
                            "#f0f921"
                          ]
                        ],
                        "type": "heatmapgl"
                      }
                    ],
                    "histogram": [
                      {
                        "marker": {
                          "pattern": {
                            "fillmode": "overlay",
                            "size": 10,
                            "solidity": 0.2
                          }
                        },
                        "type": "histogram"
                      }
                    ],
                    "histogram2d": [
                      {
                        "colorbar": {
                          "outlinewidth": 0,
                          "ticks": ""
                        },
                        "colorscale": [
                          [
                            0,
                            "#0d0887"
                          ],
                          [
                            0.1111111111111111,
                            "#46039f"
                          ],
                          [
                            0.2222222222222222,
                            "#7201a8"
                          ],
                          [
                            0.3333333333333333,
                            "#9c179e"
                          ],
                          [
                            0.4444444444444444,
                            "#bd3786"
                          ],
                          [
                            0.5555555555555556,
                            "#d8576b"
                          ],
                          [
                            0.6666666666666666,
                            "#ed7953"
                          ],
                          [
                            0.7777777777777778,
                            "#fb9f3a"
                          ],
                          [
                            0.8888888888888888,
                            "#fdca26"
                          ],
                          [
                            1,
                            "#f0f921"
                          ]
                        ],
                        "type": "histogram2d"
                      }
                    ],
                    "histogram2dcontour": [
                      {
                        "colorbar": {
                          "outlinewidth": 0,
                          "ticks": ""
                        },
                        "colorscale": [
                          [
                            0,
                            "#0d0887"
                          ],
                          [
                            0.1111111111111111,
                            "#46039f"
                          ],
                          [
                            0.2222222222222222,
                            "#7201a8"
                          ],
                          [
                            0.3333333333333333,
                            "#9c179e"
                          ],
                          [
                            0.4444444444444444,
                            "#bd3786"
                          ],
                          [
                            0.5555555555555556,
                            "#d8576b"
                          ],
                          [
                            0.6666666666666666,
                            "#ed7953"
                          ],
                          [
                            0.7777777777777778,
                            "#fb9f3a"
                          ],
                          [
                            0.8888888888888888,
                            "#fdca26"
                          ],
                          [
                            1,
                            "#f0f921"
                          ]
                        ],
                        "type": "histogram2dcontour"
                      }
                    ],
                    "mesh3d": [
                      {
                        "colorbar": {
                          "outlinewidth": 0,
                          "ticks": ""
                        },
                        "type": "mesh3d"
                      }
                    ],
                    "parcoords": [
                      {
                        "line": {
                          "colorbar": {
                            "outlinewidth": 0,
                            "ticks": ""
                          }
                        },
                        "type": "parcoords"
                      }
                    ],
                    "pie": [
                      {
                        "automargin": true,
                        "type": "pie"
                      }
                    ],
                    "scatter": [
                      {
                        "fillpattern": {
                          "fillmode": "overlay",
                          "size": 10,
                          "solidity": 0.2
                        },
                        "type": "scatter"
                      }
                    ],
                    "scatter3d": [
                      {
                        "line": {
                          "colorbar": {
                            "outlinewidth": 0,
                            "ticks": ""
                          }
                        },
                        "marker": {
                          "colorbar": {
                            "outlinewidth": 0,
                            "ticks": ""
                          }
                        },
                        "type": "scatter3d"
                      }
                    ],
                    "scattercarpet": [
                      {
                        "marker": {
                          "colorbar": {
                            "outlinewidth": 0,
                            "ticks": ""
                          }
                        },
                        "type": "scattercarpet"
                      }
                    ],
                    "scattergeo": [
                      {
                        "marker": {
                          "colorbar": {
                            "outlinewidth": 0,
                            "ticks": ""
                          }
                        },
                        "type": "scattergeo"
                      }
                    ],
                    "scattergl": [
                      {
                        "marker": {
                          "colorbar": {
                            "outlinewidth": 0,
                            "ticks": ""
                          }
                        },
                        "type": "scattergl"
                      }
                    ],
                    "scattermapbox": [
                      {
                        "marker": {
                          "colorbar": {
                            "outlinewidth": 0,
                            "ticks": ""
                          }
                        },
                        "type": "scattermapbox"
                      }
                    ],
                    "scatterpolar": [
                      {
                        "marker": {
                          "colorbar": {
                            "outlinewidth": 0,
                            "ticks": ""
                          }
                        },
                        "type": "scatterpolar"
                      }
                    ],
                    "scatterpolargl": [
                      {
                        "marker": {
                          "colorbar": {
                            "outlinewidth": 0,
                            "ticks": ""
                          }
                        },
                        "type": "scatterpolargl"
                      }
                    ],
                    "scatterternary": [
                      {
                        "marker": {
                          "colorbar": {
                            "outlinewidth": 0,
                            "ticks": ""
                          }
                        },
                        "type": "scatterternary"
                      }
                    ],
                    "surface": [
                      {
                        "colorbar": {
                          "outlinewidth": 0,
                          "ticks": ""
                        },
                        "colorscale": [
                          [
                            0,
                            "#0d0887"
                          ],
                          [
                            0.1111111111111111,
                            "#46039f"
                          ],
                          [
                            0.2222222222222222,
                            "#7201a8"
                          ],
                          [
                            0.3333333333333333,
                            "#9c179e"
                          ],
                          [
                            0.4444444444444444,
                            "#bd3786"
                          ],
                          [
                            0.5555555555555556,
                            "#d8576b"
                          ],
                          [
                            0.6666666666666666,
                            "#ed7953"
                          ],
                          [
                            0.7777777777777778,
                            "#fb9f3a"
                          ],
                          [
                            0.8888888888888888,
                            "#fdca26"
                          ],
                          [
                            1,
                            "#f0f921"
                          ]
                        ],
                        "type": "surface"
                      }
                    ],
                    "table": [
                      {
                        "cells": {
                          "fill": {
                            "color": "#EBF0F8"
                          },
                          "line": {
                            "color": "white"
                          }
                        },
                        "header": {
                          "fill": {
                            "color": "#C8D4E3"
                          },
                          "line": {
                            "color": "white"
                          }
                        },
                        "type": "table"
                      }
                    ]
                  },
                  "layout": {
                    "annotationdefaults": {
                      "arrowcolor": "#2a3f5f",
                      "arrowhead": 0,
                      "arrowwidth": 1
                    },
                    "autotypenumbers": "strict",
                    "coloraxis": {
                      "colorbar": {
                        "outlinewidth": 0,
                        "ticks": ""
                      }
                    },
                    "colorscale": {
                      "diverging": [
                        [
                          0,
                          "#8e0152"
                        ],
                        [
                          0.1,
                          "#c51b7d"
                        ],
                        [
                          0.2,
                          "#de77ae"
                        ],
                        [
                          0.3,
                          "#f1b6da"
                        ],
                        [
                          0.4,
                          "#fde0ef"
                        ],
                        [
                          0.5,
                          "#f7f7f7"
                        ],
                        [
                          0.6,
                          "#e6f5d0"
                        ],
                        [
                          0.7,
                          "#b8e186"
                        ],
                        [
                          0.8,
                          "#7fbc41"
                        ],
                        [
                          0.9,
                          "#4d9221"
                        ],
                        [
                          1,
                          "#276419"
                        ]
                      ],
                      "sequential": [
                        [
                          0,
                          "#0d0887"
                        ],
                        [
                          0.1111111111111111,
                          "#46039f"
                        ],
                        [
                          0.2222222222222222,
                          "#7201a8"
                        ],
                        [
                          0.3333333333333333,
                          "#9c179e"
                        ],
                        [
                          0.4444444444444444,
                          "#bd3786"
                        ],
                        [
                          0.5555555555555556,
                          "#d8576b"
                        ],
                        [
                          0.6666666666666666,
                          "#ed7953"
                        ],
                        [
                          0.7777777777777778,
                          "#fb9f3a"
                        ],
                        [
                          0.8888888888888888,
                          "#fdca26"
                        ],
                        [
                          1,
                          "#f0f921"
                        ]
                      ],
                      "sequentialminus": [
                        [
                          0,
                          "#0d0887"
                        ],
                        [
                          0.1111111111111111,
                          "#46039f"
                        ],
                        [
                          0.2222222222222222,
                          "#7201a8"
                        ],
                        [
                          0.3333333333333333,
                          "#9c179e"
                        ],
                        [
                          0.4444444444444444,
                          "#bd3786"
                        ],
                        [
                          0.5555555555555556,
                          "#d8576b"
                        ],
                        [
                          0.6666666666666666,
                          "#ed7953"
                        ],
                        [
                          0.7777777777777778,
                          "#fb9f3a"
                        ],
                        [
                          0.8888888888888888,
                          "#fdca26"
                        ],
                        [
                          1,
                          "#f0f921"
                        ]
                      ]
                    },
                    "colorway": [
                      "#636efa",
                      "#EF553B",
                      "#00cc96",
                      "#ab63fa",
                      "#FFA15A",
                      "#19d3f3",
                      "#FF6692",
                      "#B6E880",
                      "#FF97FF",
                      "#FECB52"
                    ],
                    "font": {
                      "color": "#2a3f5f"
                    },
                    "geo": {
                      "bgcolor": "white",
                      "lakecolor": "white",
                      "landcolor": "#E5ECF6",
                      "showlakes": true,
                      "showland": true,
                      "subunitcolor": "white"
                    },
                    "hoverlabel": {
                      "align": "left"
                    },
                    "hovermode": "closest",
                    "mapbox": {
                      "style": "light"
                    },
                    "paper_bgcolor": "white",
                    "plot_bgcolor": "#E5ECF6",
                    "polar": {
                      "angularaxis": {
                        "gridcolor": "white",
                        "linecolor": "white",
                        "ticks": ""
                      },
                      "bgcolor": "#E5ECF6",
                      "radialaxis": {
                        "gridcolor": "white",
                        "linecolor": "white",
                        "ticks": ""
                      }
                    },
                    "scene": {
                      "xaxis": {
                        "backgroundcolor": "#E5ECF6",
                        "gridcolor": "white",
                        "gridwidth": 2,
                        "linecolor": "white",
                        "showbackground": true,
                        "ticks": "",
                        "zerolinecolor": "white"
                      },
                      "yaxis": {
                        "backgroundcolor": "#E5ECF6",
                        "gridcolor": "white",
                        "gridwidth": 2,
                        "linecolor": "white",
                        "showbackground": true,
                        "ticks": "",
                        "zerolinecolor": "white"
                      },
                      "zaxis": {
                        "backgroundcolor": "#E5ECF6",
                        "gridcolor": "white",
                        "gridwidth": 2,
                        "linecolor": "white",
                        "showbackground": true,
                        "ticks": "",
                        "zerolinecolor": "white"
                      }
                    },
                    "shapedefaults": {
                      "line": {
                        "color": "#2a3f5f"
                      }
                    },
                    "ternary": {
                      "aaxis": {
                        "gridcolor": "white",
                        "linecolor": "white",
                        "ticks": ""
                      },
                      "baxis": {
                        "gridcolor": "white",
                        "linecolor": "white",
                        "ticks": ""
                      },
                      "bgcolor": "#E5ECF6",
                      "caxis": {
                        "gridcolor": "white",
                        "linecolor": "white",
                        "ticks": ""
                      }
                    },
                    "title": {
                      "x": 0.05
                    },
                    "xaxis": {
                      "automargin": true,
                      "gridcolor": "white",
                      "linecolor": "white",
                      "ticks": "",
                      "title": {
                        "standoff": 15
                      },
                      "zerolinecolor": "white",
                      "zerolinewidth": 2
                    },
                    "yaxis": {
                      "automargin": true,
                      "gridcolor": "white",
                      "linecolor": "white",
                      "ticks": "",
                      "title": {
                        "standoff": 15
                      },
                      "zerolinecolor": "white",
                      "zerolinewidth": 2
                    }
                  }
                },
                "title": {
                  "text": "TunedLens (EleutherAI/pythia-410m-deduped-v0)",
                  "x": 0.5
                },
                "width": 600,
                "xaxis": {
                  "title": {
                    "text": "Input"
                  }
                },
                "yaxis": {
                  "title": {
                    "text": "Layer"
                  }
                }
              }
            }
          },
          "metadata": {},
          "output_type": "display_data"
        }
      ],
      "source": [
        "from tuned_lens.plotting import plot_lens\n",
        "\n",
        "input_ids = tokenizer.encode(\"it was the best of times, it was the worst of times\", return_tensors=\"pt\")\n",
        "\n",
        "plot_lens(\n",
        "    model_a,\n",
        "    tokenizer,\n",
        "    tuned_lens,\n",
        "    layer_stride=1,\n",
        "    input_ids=input_ids,\n",
        "    start_pos=0,\n",
        "    end_pos=5,\n",
        "    statistic='entropy',\n",
        ")"
      ]
    },
    {
      "cell_type": "code",
      "execution_count": 4,
      "metadata": {},
      "outputs": [
        {
          "ename": "AttributeError",
          "evalue": "'NoneType' object has no attribute 'shape'",
          "output_type": "error",
          "traceback": [
            "\u001b[0;31m---------------------------------------------------------------------------\u001b[0m",
            "\u001b[0;31mAttributeError\u001b[0m                            Traceback (most recent call last)",
            "Cell \u001b[0;32mIn[4], line 5\u001b[0m\n\u001b[1;32m      1\u001b[0m \u001b[39mfrom\u001b[39;00m \u001b[39mtuned_lens\u001b[39;00m\u001b[39m.\u001b[39;00m\u001b[39mplotting\u001b[39;00m \u001b[39mimport\u001b[39;00m compare_models\n\u001b[1;32m      3\u001b[0m input_ids \u001b[39m=\u001b[39m tokenizer\u001b[39m.\u001b[39mencode(\u001b[39m\"\u001b[39m\u001b[39mit was the best of times, it was the worst of times\u001b[39m\u001b[39m\"\u001b[39m, return_tensors\u001b[39m=\u001b[39m\u001b[39m\"\u001b[39m\u001b[39mpt\u001b[39m\u001b[39m\"\u001b[39m)\n\u001b[0;32m----> 5\u001b[0m compare_models(\n\u001b[1;32m      6\u001b[0m     model_a\u001b[39m=\u001b[39;49mmodel_a,\n\u001b[1;32m      7\u001b[0m     model_b\u001b[39m=\u001b[39;49mmodel_b,\n\u001b[1;32m      8\u001b[0m     tokenizer\u001b[39m=\u001b[39;49mtokenizer,\n\u001b[1;32m      9\u001b[0m     lens\u001b[39m=\u001b[39;49mtuned_lens,\n\u001b[1;32m     10\u001b[0m     layer_stride\u001b[39m=\u001b[39;49m\u001b[39m1\u001b[39;49m,\n\u001b[1;32m     11\u001b[0m     input_ids\u001b[39m=\u001b[39;49minput_ids,\n\u001b[1;32m     12\u001b[0m     start_pos\u001b[39m=\u001b[39;49m\u001b[39m0\u001b[39;49m,\n\u001b[1;32m     13\u001b[0m     end_pos\u001b[39m=\u001b[39;49m\u001b[39m5\u001b[39;49m,\n\u001b[1;32m     14\u001b[0m     divergence\u001b[39m=\u001b[39;49m\u001b[39m'\u001b[39;49m\u001b[39mkl\u001b[39;49m\u001b[39m'\u001b[39;49m,\n\u001b[1;32m     15\u001b[0m )\n",
            "File \u001b[0;32m~/miniconda3/envs/tuned-lens/lib/python3.10/site-packages/torch/amp/autocast_mode.py:14\u001b[0m, in \u001b[0;36mautocast_decorator.<locals>.decorate_autocast\u001b[0;34m(*args, **kwargs)\u001b[0m\n\u001b[1;32m     11\u001b[0m \u001b[39m@functools\u001b[39m\u001b[39m.\u001b[39mwraps(func)\n\u001b[1;32m     12\u001b[0m \u001b[39mdef\u001b[39;00m \u001b[39mdecorate_autocast\u001b[39m(\u001b[39m*\u001b[39margs, \u001b[39m*\u001b[39m\u001b[39m*\u001b[39mkwargs):\n\u001b[1;32m     13\u001b[0m     \u001b[39mwith\u001b[39;00m autocast_instance:\n\u001b[0;32m---> 14\u001b[0m         \u001b[39mreturn\u001b[39;00m func(\u001b[39m*\u001b[39;49margs, \u001b[39m*\u001b[39;49m\u001b[39m*\u001b[39;49mkwargs)\n",
            "File \u001b[0;32m~/miniconda3/envs/tuned-lens/lib/python3.10/site-packages/torch/utils/_contextlib.py:115\u001b[0m, in \u001b[0;36mcontext_decorator.<locals>.decorate_context\u001b[0;34m(*args, **kwargs)\u001b[0m\n\u001b[1;32m    112\u001b[0m \u001b[39m@functools\u001b[39m\u001b[39m.\u001b[39mwraps(func)\n\u001b[1;32m    113\u001b[0m \u001b[39mdef\u001b[39;00m \u001b[39mdecorate_context\u001b[39m(\u001b[39m*\u001b[39margs, \u001b[39m*\u001b[39m\u001b[39m*\u001b[39mkwargs):\n\u001b[1;32m    114\u001b[0m     \u001b[39mwith\u001b[39;00m ctx_factory():\n\u001b[0;32m--> 115\u001b[0m         \u001b[39mreturn\u001b[39;00m func(\u001b[39m*\u001b[39;49margs, \u001b[39m*\u001b[39;49m\u001b[39m*\u001b[39;49mkwargs)\n",
            "File \u001b[0;32m~/Projects/tuned-lens/tuned_lens/plotting/plot_lens.py:292\u001b[0m, in \u001b[0;36mcompare_models\u001b[0;34m(model_a, model_b, tokenizer, lens, text, input_ids, mask_input, start_pos, end_pos, layer_stride, token_formatter, divergence, min_prob, topk, topk_diff)\u001b[0m\n\u001b[1;32m    282\u001b[0m     \u001b[39mraise\u001b[39;00m \u001b[39mValueError\u001b[39;00m(\u001b[39m\"\u001b[39m\u001b[39mUnknown divergence\u001b[39m\u001b[39m\"\u001b[39m)\n\u001b[1;32m    284\u001b[0m plotable_stream \u001b[39m=\u001b[39m PloatableStreamStatistic(\n\u001b[1;32m    285\u001b[0m     name\u001b[39m=\u001b[39m\u001b[39m\"\u001b[39m\u001b[39mKL(Model_A||Model_B)\u001b[39m\u001b[39m\"\u001b[39m,\n\u001b[1;32m    286\u001b[0m     units\u001b[39m=\u001b[39m\u001b[39m\"\u001b[39m\u001b[39mNats\u001b[39m\u001b[39m\"\u001b[39m,\n\u001b[0;32m   (...)\u001b[0m\n\u001b[1;32m    289\u001b[0m     \u001b[39mmax\u001b[39m\u001b[39m=\u001b[39m\u001b[39mNone\u001b[39;00m\n\u001b[1;32m    290\u001b[0m )\n\u001b[0;32m--> 292\u001b[0m \u001b[39mreturn\u001b[39;00m _plot_stream(\n\u001b[1;32m    293\u001b[0m     plotable_stream\u001b[39m=\u001b[39;49mplotable_stream,\n\u001b[1;32m    294\u001b[0m     layer_stride\u001b[39m=\u001b[39;49mlayer_stride,\n\u001b[1;32m    295\u001b[0m     title\u001b[39m=\u001b[39;49m(lens\u001b[39m.\u001b[39;49m\u001b[39m__class__\u001b[39;49m\u001b[39m.\u001b[39;49m\u001b[39m__name__\u001b[39;49m \u001b[39m+\u001b[39;49m (\u001b[39mf\u001b[39;49m\u001b[39m\"\u001b[39;49m\u001b[39m (\u001b[39;49m\u001b[39m{\u001b[39;49;00mmodel_a\u001b[39m.\u001b[39;49mname_or_path\u001b[39m}\u001b[39;49;00m\u001b[39m, \u001b[39;49m\u001b[39m{\u001b[39;49;00mmodel_b\u001b[39m.\u001b[39;49mname_or_path\u001b[39m}\u001b[39;49;00m\u001b[39m)\u001b[39;49m\u001b[39m\"\u001b[39;49m)),\n\u001b[1;32m    296\u001b[0m     colorscale\u001b[39m=\u001b[39;49mcolor_scale,\n\u001b[1;32m    297\u001b[0m )\n",
            "File \u001b[0;32m~/Projects/tuned-lens/tuned_lens/plotting/plot_lens.py:494\u001b[0m, in \u001b[0;36m_plot_stream\u001b[0;34m(plotable_stream, layer_stride, title, colorscale)\u001b[0m\n\u001b[1;32m    481\u001b[0m color_matrix \u001b[39m=\u001b[39m _stride_keep_last(color_matrix, layer_stride)\n\u001b[1;32m    482\u001b[0m labels \u001b[39m=\u001b[39m _stride_keep_last(labels, layer_stride)\n\u001b[1;32m    484\u001b[0m heatmap \u001b[39m=\u001b[39m go\u001b[39m.\u001b[39mHeatmap(\n\u001b[1;32m    485\u001b[0m     colorscale\u001b[39m=\u001b[39mcolorscale,\n\u001b[1;32m    486\u001b[0m     customdata\u001b[39m=\u001b[39mhover_over_entries,\n\u001b[1;32m    487\u001b[0m     text\u001b[39m=\u001b[39mlabel_strings,\n\u001b[1;32m    488\u001b[0m     texttemplate\u001b[39m=\u001b[39m\u001b[39m\"\u001b[39m\u001b[39m<b>\u001b[39m\u001b[39m%\u001b[39m\u001b[39m{text}\u001b[39;00m\u001b[39m</b>\u001b[39m\u001b[39m\"\u001b[39m,\n\u001b[1;32m    489\u001b[0m     x\u001b[39m=\u001b[39mx_labels,\n\u001b[1;32m    490\u001b[0m     y\u001b[39m=\u001b[39mlabels,\n\u001b[1;32m    491\u001b[0m     z\u001b[39m=\u001b[39mcolor_matrix,\n\u001b[1;32m    492\u001b[0m     hoverlabel\u001b[39m=\u001b[39m\u001b[39mdict\u001b[39m(bgcolor\u001b[39m=\u001b[39m\u001b[39m\"\u001b[39m\u001b[39mrgb(42, 42, 50)\u001b[39m\u001b[39m\"\u001b[39m),\n\u001b[1;32m    493\u001b[0m     hovertemplate\u001b[39m=\u001b[39m\u001b[39m\"\u001b[39m\u001b[39m<br>\u001b[39m\u001b[39m\"\u001b[39m\u001b[39m.\u001b[39mjoin(\n\u001b[0;32m--> 494\u001b[0m         \u001b[39mf\u001b[39m\u001b[39m\"\u001b[39m\u001b[39m %\u001b[39m\u001b[39m{{\u001b[39;00m\u001b[39mcustomdata[\u001b[39m\u001b[39m{\u001b[39;00mi\u001b[39m}\u001b[39;00m\u001b[39m]\u001b[39m\u001b[39m}}\u001b[39;00m\u001b[39m\"\u001b[39m \u001b[39mfor\u001b[39;00m i \u001b[39min\u001b[39;00m \u001b[39mrange\u001b[39m(hover_over_entries\u001b[39m.\u001b[39;49mshape[\u001b[39m2\u001b[39m])\n\u001b[1;32m    495\u001b[0m     )\n\u001b[1;32m    496\u001b[0m     \u001b[39m+\u001b[39m \u001b[39m\"\u001b[39m\u001b[39m<extra></extra>\u001b[39m\u001b[39m\"\u001b[39m,\n\u001b[1;32m    497\u001b[0m     colorbar\u001b[39m=\u001b[39m\u001b[39mdict\u001b[39m(\n\u001b[1;32m    498\u001b[0m         title\u001b[39m=\u001b[39mplotable_stream\u001b[39m.\u001b[39munits,\n\u001b[1;32m    499\u001b[0m         titleside\u001b[39m=\u001b[39m\u001b[39m\"\u001b[39m\u001b[39mright\u001b[39m\u001b[39m\"\u001b[39m,\n\u001b[1;32m    500\u001b[0m     ),\n\u001b[1;32m    501\u001b[0m     zmax\u001b[39m=\u001b[39mplotable_stream\u001b[39m.\u001b[39mmax,\n\u001b[1;32m    502\u001b[0m     zmin\u001b[39m=\u001b[39mplotable_stream\u001b[39m.\u001b[39mmin,\n\u001b[1;32m    503\u001b[0m )\n\u001b[1;32m    505\u001b[0m \u001b[39m# TODO Height needs to equal some function of Max(num_layers, topk).\u001b[39;00m\n\u001b[1;32m    506\u001b[0m \u001b[39m# Ignore for now. Works until k=18\u001b[39;00m\n\u001b[1;32m    507\u001b[0m fig \u001b[39m=\u001b[39m go\u001b[39m.\u001b[39mFigure(heatmap)\u001b[39m.\u001b[39mupdate_layout(\n\u001b[1;32m    508\u001b[0m     title_text\u001b[39m=\u001b[39mtitle,\n\u001b[1;32m    509\u001b[0m     title_x\u001b[39m=\u001b[39m\u001b[39m0.5\u001b[39m,\n\u001b[0;32m   (...)\u001b[0m\n\u001b[1;32m    512\u001b[0m     yaxis_title\u001b[39m=\u001b[39m\u001b[39m\"\u001b[39m\u001b[39mLayer\u001b[39m\u001b[39m\"\u001b[39m,\n\u001b[1;32m    513\u001b[0m )\n",
            "\u001b[0;31mAttributeError\u001b[0m: 'NoneType' object has no attribute 'shape'"
          ]
        }
      ],
      "source": [
        "from tuned_lens.plotting import compare_models\n",
        "\n",
        "input_ids = tokenizer.encode(\"it was the best of times, it was the worst of times\", return_tensors=\"pt\")\n",
        "\n",
        "compare_models(\n",
        "    model_a=model_a,\n",
        "    model_b=model_b,\n",
        "    tokenizer=tokenizer,\n",
        "    lens=tuned_lens,\n",
        "    layer_stride=1,\n",
        "    input_ids=input_ids,\n",
        "    start_pos=0,\n",
        "    end_pos=5,\n",
        "    divergence='kl',\n",
        ")"
      ]
    }
  ],
  "metadata": {
    "colab": {
      "provenance": []
    },
    "kernelspec": {
      "display_name": "Python 3 (ipykernel)",
      "language": "python",
      "name": "python3"
    },
    "language_info": {
      "codemirror_mode": {
        "name": "ipython",
        "version": 3
      },
      "file_extension": ".py",
      "mimetype": "text/x-python",
      "name": "python",
      "nbconvert_exporter": "python",
      "pygments_lexer": "ipython3",
      "version": "3.10.9"
    },
    "vscode": {
      "interpreter": {
        "hash": "ca27fca65bbd5c56c827a2643e94bc7b2b551ee6ee2fe84566f2c789012bce4f"
      }
    }
  },
  "nbformat": 4,
  "nbformat_minor": 0
}
