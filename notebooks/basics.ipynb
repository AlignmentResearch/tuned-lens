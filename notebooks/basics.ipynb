{
 "cells": [
  {
   "cell_type": "code",
   "execution_count": 137,
   "metadata": {},
   "outputs": [],
   "source": [
    "from datasets import Dataset\n",
    "from transformers import AutoModelForCausalLM, AutoTokenizer\n",
    "from tuned_lens.data import (\n",
    "    chunk_and_tokenize,\n",
    "    compute_nats_to_bpb_ratio,\n",
    "    silence_datasets_messages\n",
    ")\n",
    "\n",
    "\n",
    "def load_stuff(name):\n",
    "    model = AutoModelForCausalLM.from_pretrained(\n",
    "        name, torch_dtype=\"auto\"\n",
    "    ).cuda()\n",
    "    tokenizer = AutoTokenizer.from_pretrained(name)\n",
    "\n",
    "    dataset = Dataset.from_json(\"/mnt/ssd-1/nora/lens-test.jsonl\")\n",
    "    assert isinstance(dataset, Dataset)\n",
    "    silence_datasets_messages()\n",
    "\n",
    "    processed = chunk_and_tokenize(dataset, tokenizer)\n",
    "    ratio = compute_nats_to_bpb_ratio(dataset, processed)\n",
    "    return model, tokenizer, processed, ratio\n",
    "\n",
    "pythia, pythia_tokenizer, pythia_data, pythia_ratio = load_stuff(\"EleutherAI/pythia-350m-deduped\")"
   ]
  },
  {
   "cell_type": "code",
   "execution_count": 1,
   "metadata": {},
   "outputs": [],
   "source": [
    "import numpy as np\n",
    "\n",
    "\n",
    "def get_permutation(hidden_states, rate=0.6):\n",
    "    labels = hidden_states[0][1]  # TODO: Are these really labels?\n",
    "    labels_length = len(labels)\n",
    "    permutation = np.random.permutation(range(labels_length)).reshape(-1)\n",
    "    return [\n",
    "        permutation[: int(labels_length * rate)],\n",
    "        permutation[int(labels_length * rate) :],\n",
    "    ]"
   ]
  },
  {
   "cell_type": "code",
   "execution_count": 13,
   "metadata": {},
   "outputs": [],
   "source": [
    "PROMPTS = [\n",
    "    [\"Is the moon made of cheese? Yes\", \"Is the moon made of cheese? No\"],\n",
    "    [\"Does the sun rise in the east? Yes\", \"Does the sun rise in the east? No\"],\n",
    "    [\"Does nitrogen have 8 electrons? Yes\", \"Does nitrogen have 8 electrons? No\"],\n",
    "]"
   ]
  },
  {
   "cell_type": "code",
   "execution_count": 22,
   "metadata": {},
   "outputs": [
    {
     "data": {
      "application/vnd.jupyter.widget-view+json": {
       "model_id": "1c6f4e70679948488118d9abadda3cf7",
       "version_major": 2,
       "version_minor": 0
      },
      "text/plain": [
       "Downloading:   0%|          | 0.00/52.0 [00:00<?, ?B/s]"
      ]
     },
     "metadata": {},
     "output_type": "display_data"
    },
    {
     "data": {
      "application/vnd.jupyter.widget-view+json": {
       "model_id": "ba2a7365e53942149858ab61a814d5a3",
       "version_major": 2,
       "version_minor": 0
      },
      "text/plain": [
       "Downloading:   0%|          | 0.00/952 [00:00<?, ?B/s]"
      ]
     },
     "metadata": {},
     "output_type": "display_data"
    },
    {
     "data": {
      "application/vnd.jupyter.widget-view+json": {
       "model_id": "6762351dec7f4d138eb3fe57beeb3396",
       "version_major": 2,
       "version_minor": 0
      },
      "text/plain": [
       "Downloading:   0%|          | 0.00/2.45M [00:00<?, ?B/s]"
      ]
     },
     "metadata": {},
     "output_type": "display_data"
    },
    {
     "name": "stderr",
     "output_type": "stream",
     "text": [
      "Special tokens have been added in the vocabulary, make sure the associated word embeddings are fine-tuned or trained.\n",
      "Special tokens have been added in the vocabulary, make sure the associated word embeddings are fine-tuned or trained.\n"
     ]
    }
   ],
   "source": [
    "from transformers import AutoTokenizer\n",
    "\n",
    "tokenizer = AutoTokenizer.from_pretrained(\"microsoft/deberta-v2-xxlarge-mnli\")"
   ]
  },
  {
   "cell_type": "code",
   "execution_count": 19,
   "metadata": {},
   "outputs": [
    {
     "data": {
      "text/plain": [
       "['Is the moon made of cheese? Yes',\n",
       " 'Is the moon made of cheese? No',\n",
       " 'Does the sun rise in the east? Yes',\n",
       " 'Does the sun rise in the east? No',\n",
       " 'Does nitrogen have 8 electrons? Yes',\n",
       " 'Does nitrogen have 8 electrons? No']"
      ]
     },
     "execution_count": 19,
     "metadata": {},
     "output_type": "execute_result"
    }
   ],
   "source": [
    "[choice for choices in PROMPTS for choice in choices]"
   ]
  },
  {
   "cell_type": "code",
   "execution_count": 21,
   "metadata": {},
   "outputs": [
    {
     "data": {
      "text/plain": [
       "array([['Is the moon made of cheese? Yes',\n",
       "        'Is the moon made of cheese? No'],\n",
       "       ['Does the sun rise in the east? Yes',\n",
       "        'Does the sun rise in the east? No'],\n",
       "       ['Does nitrogen have 8 electrons? Yes',\n",
       "        'Does nitrogen have 8 electrons? No']], dtype='<U35')"
      ]
     },
     "execution_count": 21,
     "metadata": {},
     "output_type": "execute_result"
    }
   ],
   "source": [
    "import numpy as np\n",
    "\n",
    "np.array([choice for choices in PROMPTS for choice in choices]).reshape((3, 2))"
   ]
  },
  {
   "cell_type": "code",
   "execution_count": 7,
   "metadata": {},
   "outputs": [],
   "source": [
    "train, test = get_permutation(hiddens)"
   ]
  },
  {
   "cell_type": "code",
   "execution_count": 8,
   "metadata": {},
   "outputs": [
    {
     "data": {
      "text/plain": [
       "(60, 41)"
      ]
     },
     "execution_count": 8,
     "metadata": {},
     "output_type": "execute_result"
    }
   ],
   "source": [
    "len(train), len(test)"
   ]
  },
  {
   "cell_type": "code",
   "execution_count": 12,
   "metadata": {},
   "outputs": [
    {
     "data": {
      "text/plain": [
       "False"
      ]
     },
     "execution_count": 12,
     "metadata": {},
     "output_type": "execute_result"
    }
   ],
   "source": [
    "np.any(train[:, None] == test)"
   ]
  },
  {
   "cell_type": "code",
   "execution_count": 2,
   "metadata": {},
   "outputs": [],
   "source": [
    "from transformers import (\n",
    "    AutoModelForCausalLM, AutoConfig, PretrainedConfig,\n",
    "    AutoModelForSeq2SeqLM, AutoModelForSequenceClassification,\n",
    "    AutoTokenizer\n",
    ")\n",
    "\n",
    "tokenizer = AutoTokenizer.from_pretrained(\"roberta-base\")"
   ]
  },
  {
   "cell_type": "code",
   "execution_count": 73,
   "metadata": {},
   "outputs": [
    {
     "data": {
      "text/plain": [
       "4"
      ]
     },
     "execution_count": 73,
     "metadata": {},
     "output_type": "execute_result"
    }
   ],
   "source": [
    "from typing import Sequence\n",
    "\n",
    "def common_prefix_len(a: Sequence, b: Sequence) -> int:\n",
    "    \"\"\"Compute the length of the common prefix of two sequences.\"\"\"\n",
    "    for i, (x, y) in enumerate(zip(a, b)):\n",
    "        if x != y:\n",
    "            return i\n",
    "\n",
    "    return min(len(a), len(b))\n",
    "\n",
    "common_prefix_len(\"hello\", \"hell\")"
   ]
  },
  {
   "cell_type": "code",
   "execution_count": 1,
   "metadata": {},
   "outputs": [
    {
     "name": "stderr",
     "output_type": "stream",
     "text": [
      "Using custom data configuration NeelNanda--counterfact-tracing-39c4f800d46af5cf\n",
      "Found cached dataset parquet (/mnt/ssd-1/nora/huggingface/datasets/NeelNanda___parquet/NeelNanda--counterfact-tracing-39c4f800d46af5cf/0.0.0/2a3b91fbd88a2c90d1dbbb32b460cf621d31bd5b05b934492fdef7d8d6f236ec)\n"
     ]
    },
    {
     "data": {
      "application/vnd.jupyter.widget-view+json": {
       "model_id": "e6e07561ffe74404b3c4cfe5a51b99dc",
       "version_major": 2,
       "version_minor": 0
      },
      "text/plain": [
       "  0%|          | 0/1 [00:00<?, ?it/s]"
      ]
     },
     "metadata": {},
     "output_type": "display_data"
    }
   ],
   "source": [
    "from datasets import load_dataset\n",
    "\n",
    "counterfact = load_dataset(\"NeelNanda/counterfact-tracing\")"
   ]
  },
  {
   "cell_type": "code",
   "execution_count": 20,
   "metadata": {},
   "outputs": [],
   "source": [
    "foo = tokenizer([\n",
    "    'The mother tongue of Danielle Darrieux is',\n",
    "    'The official religion of Edwin of Northumbria is apiuhrjkgmfqipjnskragbpiqenksf'\n",
    "], padding=True, return_tensors=\"pt\", return_length=True,\n",
    "text_target=[\n",
    "    \"hi\",\n",
    "    'hello'\n",
    "])"
   ]
  },
  {
   "cell_type": "code",
   "execution_count": 26,
   "metadata": {},
   "outputs": [
    {
     "data": {
      "text/plain": [
       "tensor([[ 16],\n",
       "        [506]])"
      ]
     },
     "execution_count": 26,
     "metadata": {},
     "output_type": "execute_result"
    }
   ],
   "source": [
    "foo['input_ids'].gather(\n",
    "    index=foo['attention_mask'].sum(dim=-1, keepdim=True) - 2, dim=-1\n",
    ")"
   ]
  },
  {
   "cell_type": "code",
   "execution_count": 5,
   "metadata": {},
   "outputs": [
    {
     "data": {
      "text/plain": [
       "{'relation': 'The official religion of {} is',\n",
       " 'relation_prefix': 'The official religion of',\n",
       " 'relation_suffix': ' is',\n",
       " 'prompt': 'The official religion of Edwin of Northumbria is',\n",
       " 'relation_id': 'P140',\n",
       " 'target_false_id': 'Q432',\n",
       " 'target_true_id': 'Q5043',\n",
       " 'target_true': ' Christianity',\n",
       " 'target_false': ' Islam',\n",
       " 'subject': ' Edwin of Northumbria'}"
      ]
     },
     "execution_count": 5,
     "metadata": {},
     "output_type": "execute_result"
    }
   ],
   "source": [
    "counterfact['train'][1]"
   ]
  },
  {
   "cell_type": "markdown",
   "metadata": {},
   "source": []
  },
  {
   "cell_type": "code",
   "execution_count": 79,
   "metadata": {},
   "outputs": [
    {
     "data": {
      "text/plain": [
       "[0, 42891, 1437, 2, 8331, 2]"
      ]
     },
     "execution_count": 79,
     "metadata": {},
     "output_type": "execute_result"
    }
   ],
   "source": [
    "tokenizer.encode(\"hello </s>world\")"
   ]
  },
  {
   "cell_type": "code",
   "execution_count": 1,
   "metadata": {},
   "outputs": [
    {
     "name": "stderr",
     "output_type": "stream",
     "text": [
      "Found cached dataset super_glue (/mnt/ssd-1/nora/huggingface/datasets/super_glue/boolq/1.0.3/bb9675f958ebfee0d5d6dc5476fafe38c79123727a7258d515c450873dbdbbed)\n"
     ]
    },
    {
     "data": {
      "application/vnd.jupyter.widget-view+json": {
       "model_id": "5a7e17152680491bbf37e1ffcbd80c5d",
       "version_major": 2,
       "version_minor": 0
      },
      "text/plain": [
       "  0%|          | 0/3 [00:00<?, ?it/s]"
      ]
     },
     "metadata": {},
     "output_type": "display_data"
    },
    {
     "data": {
      "text/plain": [
       "DatasetDict({\n",
       "    train: Dataset({\n",
       "        features: ['question', 'passage', 'idx', 'label'],\n",
       "        num_rows: 9427\n",
       "    })\n",
       "    validation: Dataset({\n",
       "        features: ['question', 'passage', 'idx', 'label'],\n",
       "        num_rows: 3270\n",
       "    })\n",
       "    test: Dataset({\n",
       "        features: ['question', 'passage', 'idx', 'label'],\n",
       "        num_rows: 3245\n",
       "    })\n",
       "})"
      ]
     },
     "execution_count": 1,
     "metadata": {},
     "output_type": "execute_result"
    }
   ],
   "source": [
    "from datasets import load_dataset\n",
    "\n",
    "data = load_dataset(\"super_glue\", \"boolq\")\n",
    "data"
   ]
  },
  {
   "cell_type": "code",
   "execution_count": 108,
   "metadata": {},
   "outputs": [
    {
     "data": {
      "text/plain": [
       "['GPT-3 Style',\n",
       " 'I wonder…',\n",
       " 'after_reading',\n",
       " 'based on the following passage',\n",
       " 'based on the previous passage',\n",
       " 'could you tell me…',\n",
       " 'exam',\n",
       " 'exercise',\n",
       " 'valid_binary',\n",
       " 'yes_no_question']"
      ]
     },
     "execution_count": 108,
     "metadata": {},
     "output_type": "execute_result"
    }
   ],
   "source": [
    "from promptsource.templates import DatasetTemplates\n",
    "\n",
    "templates = DatasetTemplates(\"super_glue\", \"boolq\")\n",
    "templates.all_template_names"
   ]
  },
  {
   "cell_type": "code",
   "execution_count": 114,
   "metadata": {},
   "outputs": [
    {
     "data": {
      "text/plain": [
       "['Passage: Persian language -- Persian (/ˈpɜːrʒən, -ʃən/), also known by its endonym Farsi (فارسی fārsi (fɒːɾˈsiː) ( listen)), is one of the Western Iranian languages within the Indo-Iranian branch of the Indo-European language family. It is primarily spoken in Iran, Afghanistan (officially known as Dari since 1958), and Tajikistan (officially known as Tajiki since the Soviet era), and some other regions which historically were Persianate societies and considered part of Greater Iran. It is written in the Persian alphabet, a modified variant of the Arabic script, which itself evolved from the Aramaic alphabet.\\n\\nAfter reading this passage, I have a question: do iran and afghanistan speak the same language? True or False?',\n",
       " 'True']"
      ]
     },
     "execution_count": 114,
     "metadata": {},
     "output_type": "execute_result"
    }
   ],
   "source": [
    "templates.templates['3e386463-1715-4578-9cba-07d11a0d3b61'].apply(data['train'][0])"
   ]
  },
  {
   "cell_type": "code",
   "execution_count": 95,
   "metadata": {},
   "outputs": [
    {
     "name": "stderr",
     "output_type": "stream",
     "text": [
      "loading configuration file config.json from cache at /mnt/ssd-1/nora/huggingface/transformers/models--t5-small/snapshots/3479082dc36f8a4730936ef1c9b88cd8b0835c53/config.json\n",
      "Model config T5Config {\n",
      "  \"_name_or_path\": \"t5-small\",\n",
      "  \"architectures\": [\n",
      "    \"T5ForConditionalGeneration\"\n",
      "  ],\n",
      "  \"d_ff\": 2048,\n",
      "  \"d_kv\": 64,\n",
      "  \"d_model\": 512,\n",
      "  \"decoder_start_token_id\": 0,\n",
      "  \"dense_act_fn\": \"relu\",\n",
      "  \"dropout_rate\": 0.1,\n",
      "  \"eos_token_id\": 1,\n",
      "  \"feed_forward_proj\": \"relu\",\n",
      "  \"initializer_factor\": 1.0,\n",
      "  \"is_encoder_decoder\": true,\n",
      "  \"is_gated_act\": false,\n",
      "  \"layer_norm_epsilon\": 1e-06,\n",
      "  \"model_type\": \"t5\",\n",
      "  \"n_positions\": 512,\n",
      "  \"num_decoder_layers\": 6,\n",
      "  \"num_heads\": 8,\n",
      "  \"num_layers\": 6,\n",
      "  \"output_past\": true,\n",
      "  \"pad_token_id\": 0,\n",
      "  \"relative_attention_max_distance\": 128,\n",
      "  \"relative_attention_num_buckets\": 32,\n",
      "  \"task_specific_params\": {\n",
      "    \"summarization\": {\n",
      "      \"early_stopping\": true,\n",
      "      \"length_penalty\": 2.0,\n",
      "      \"max_length\": 200,\n",
      "      \"min_length\": 30,\n",
      "      \"no_repeat_ngram_size\": 3,\n",
      "      \"num_beams\": 4,\n",
      "      \"prefix\": \"summarize: \"\n",
      "    },\n",
      "    \"translation_en_to_de\": {\n",
      "      \"early_stopping\": true,\n",
      "      \"max_length\": 300,\n",
      "      \"num_beams\": 4,\n",
      "      \"prefix\": \"translate English to German: \"\n",
      "    },\n",
      "    \"translation_en_to_fr\": {\n",
      "      \"early_stopping\": true,\n",
      "      \"max_length\": 300,\n",
      "      \"num_beams\": 4,\n",
      "      \"prefix\": \"translate English to French: \"\n",
      "    },\n",
      "    \"translation_en_to_ro\": {\n",
      "      \"early_stopping\": true,\n",
      "      \"max_length\": 300,\n",
      "      \"num_beams\": 4,\n",
      "      \"prefix\": \"translate English to Romanian: \"\n",
      "    }\n",
      "  },\n",
      "  \"transformers_version\": \"4.26.0.dev0\",\n",
      "  \"use_cache\": true,\n",
      "  \"vocab_size\": 32128\n",
      "}\n",
      "\n"
     ]
    },
    {
     "data": {
      "text/plain": [
       "['T5ForConditionalGeneration']"
      ]
     },
     "execution_count": 95,
     "metadata": {},
     "output_type": "execute_result"
    }
   ],
   "source": [
    "from transformers import AutoModelForSeq2SeqLM, AutoModelForCausalLM, AutoModel\n",
    "config = AutoConfig.from_pretrained(\"t5-small\")\n",
    "config.architectures"
   ]
  },
  {
   "cell_type": "code",
   "execution_count": 2,
   "metadata": {},
   "outputs": [],
   "source": [
    "from transformers import AutoTokenizer\n",
    "\n",
    "tokenizer = AutoTokenizer.from_pretrained(\"EleutherAI/gpt-j-6B\")"
   ]
  },
  {
   "cell_type": "code",
   "execution_count": 9,
   "metadata": {},
   "outputs": [
    {
     "data": {
      "text/plain": [
       "{'input_ids': [[31373, 6894, 11, 428]], 'attention_mask': [[1, 1, 1, 1]]}"
      ]
     },
     "execution_count": 9,
     "metadata": {},
     "output_type": "execute_result"
    }
   ],
   "source": [
    "tokenizer([\"hello\"], text_pair=[\"world, this\"])"
   ]
  },
  {
   "cell_type": "markdown",
   "metadata": {},
   "source": []
  },
  {
   "attachments": {},
   "cell_type": "markdown",
   "metadata": {},
   "source": [
    "## Resampling"
   ]
  },
  {
   "cell_type": "code",
   "execution_count": null,
   "metadata": {},
   "outputs": [],
   "source": [
    "from tuned_lens import TunedLens\n",
    "constant = TunedLens.load(\n",
    "    \"/mnt/ssd-1/nora/real-lenses/pythia/125m-deduped/constant-300steps/\"\n",
    ")"
   ]
  },
  {
   "cell_type": "code",
   "execution_count": null,
   "metadata": {},
   "outputs": [],
   "source": [
    "from contextlib import contextmanager\n",
    "from typing import Generator, Iterable\n",
    "\n",
    "\n",
    "@contextmanager\n",
    "def record_nodes(\n",
    "    model: th.nn.Module,\n",
    "    selectors: Iterable[str]\n",
    ") -> Generator[dict[str, th.Tensor], None, None]:\n",
    "    activations = {}\n",
    "\n",
    "    def hook_factory(name: str):\n",
    "        def inner(module, inputs, outputs):\n",
    "            x, *_ = inputs\n",
    "            activations[name] = x\n",
    "\n",
    "        return inner\n",
    "\n",
    "    handles = []\n",
    "    queries = set(selectors)\n",
    "    for name, module in model.named_modules():\n",
    "        if name in queries:\n",
    "            handles.append(\n",
    "                module.register_forward_hook(hook_factory(name))\n",
    "            )\n",
    "            queries.remove(name)\n",
    "\n",
    "    try:\n",
    "        yield activations\n",
    "    finally:\n",
    "        for handle in handles:\n",
    "            handle.remove()"
   ]
  },
  {
   "cell_type": "code",
   "execution_count": 1,
   "metadata": {},
   "outputs": [],
   "source": [
    "import torch as th\n",
    "\n",
    "\n",
    "root = \"/mnt/ssd-1/nora/tuned-lenses/pythia/12b-deduped/\"\n",
    "vanilla_transfer = th.load(\n",
    "    root + \"affine/eval/aggregate_transfer_metrics.pt\", map_location=\"cpu\"\n",
    ")\n",
    "vanilla = th.load(\n",
    "    root + \"affine/eval/aggregate_metrics.pt\", map_location=\"cpu\"\n",
    ")"
   ]
  },
  {
   "cell_type": "code",
   "execution_count": null,
   "metadata": {},
   "outputs": [
    {
     "data": {
      "application/vnd.plotly.v1+json": {
       "config": {
        "plotlyServerURL": "https://plotly.com"
       },
       "data": [
        {
         "type": "surface",
         "x": [
          0,
          1,
          2,
          3,
          4,
          5,
          6,
          7,
          8,
          9,
          10,
          11,
          12,
          13,
          14,
          15,
          16,
          17,
          18,
          19,
          20,
          21,
          22,
          23,
          24,
          25,
          26,
          27,
          28,
          29,
          30,
          31,
          32,
          33,
          34,
          35,
          36,
          37,
          38,
          39,
          40,
          41,
          42,
          43
         ],
         "y": [
          0,
          1,
          2,
          3,
          4,
          5,
          6,
          7,
          8,
          9,
          10,
          11,
          12,
          13,
          14,
          15,
          16,
          17,
          18,
          19,
          20,
          21,
          22,
          23,
          24,
          25,
          26,
          27,
          28,
          29,
          30,
          31,
          32,
          33,
          34,
          35,
          36,
          37,
          38,
          39,
          40,
          41,
          42,
          43
         ],
         "z": [
          [
           0,
           1.1866769790649414,
           1.207350254058838,
           1.2140207290649414,
           1.2117958068847656,
           1.2141690254211426,
           1.2145099639892578,
           1.213705062866211,
           1.2176551818847656,
           1.2193217277526855,
           1.2169089317321777,
           1.2179179191589355,
           1.2149930000305176,
           1.2199583053588867,
           1.2211976051330566,
           1.2244443893432617,
           1.2241244316101074,
           1.2213730812072754,
           1.2202191352844238,
           1.2213754653930664,
           1.2191462516784668,
           1.2158417701721191,
           1.215104579925537,
           1.2171859741210938,
           1.2164254188537598,
           1.2173810005187988,
           1.2158713340759277,
           1.217033863067627,
           1.217008113861084,
           1.2192363739013672,
           1.22123384475708,
           1.2218732833862305,
           1.2223925590515137,
           1.2241744995117188,
           1.225630760192871,
           1.2263760566711426,
           1.2270116806030273,
           1.227971076965332,
           1.2294025421142578,
           1.2308168411254883,
           1.2329330444335938,
           1.2338447570800781,
           1.2362513542175293,
           1.235713005065918
          ],
          [
           0.8594534397125244,
           0,
           0.007676839828491211,
           0.01786637306213379,
           0.04354667663574219,
           0.07046151161193848,
           0.15820932388305664,
           0.30448150634765625,
           0.9714791774749756,
           1.3611085414886475,
           1.4121990203857422,
           1.36061429977417,
           1.3360280990600586,
           1.3696818351745605,
           1.3587305545806885,
           1.338223934173584,
           1.3275134563446045,
           1.3292810916900635,
           1.3277080059051514,
           1.283722162246704,
           1.2515289783477783,
           1.1962180137634277,
           1.0857679843902588,
           1.032761573791504,
           0.9922318458557129,
           0.9679362773895264,
           0.9411048889160156,
           0.9265799522399902,
           0.9011294841766357,
           0.8805229663848877,
           0.8721523284912109,
           0.8606090545654297,
           0.8529515266418457,
           0.8487913608551025,
           0.8445708751678467,
           0.8480432033538818,
           0.853175163269043,
           0.8575668334960938,
           0.8631319999694824,
           0.8589155673980713,
           0.8575279712677002,
           0.8607544898986816,
           0.8672759532928467,
           0.8394594192504883
          ],
          [
           0.8618910312652588,
           0.04030799865722656,
           0,
           -0.0013000965118408203,
           0.02010369300842285,
           0.04124784469604492,
           0.11230826377868652,
           0.2470703125,
           0.8996808528900146,
           1.315079689025879,
           1.377739429473877,
           1.3283934593200684,
           1.306344985961914,
           1.3387665748596191,
           1.3289480209350586,
           1.309814691543579,
           1.2993080615997314,
           1.301767349243164,
           1.3006463050842285,
           1.2571837902069092,
           1.225698471069336,
           1.1727774143218994,
           1.0655670166015625,
           1.0148773193359375,
           0.9769196510314941,
           0.9543952941894531,
           0.9298558235168457,
           0.916745662689209,
           0.8931028842926025,
           0.8740513324737549,
           0.866408109664917,
           0.8556356430053711,
           0.8482475280761719,
           0.8446192741394043,
           0.840731143951416,
           0.8442201614379883,
           0.8489937782287598,
           0.8536012172698975,
           0.8588919639587402,
           0.854736328125,
           0.8534519672393799,
           0.8565387725830078,
           0.8632261753082275,
           0.8368093967437744
          ],
          [
           0.8590788841247559,
           0.0702202320098877,
           0.02821040153503418,
           0,
           0.010790824890136719,
           0.023648977279663086,
           0.08521747589111328,
           0.21225666999816895,
           0.8460886478424072,
           1.2754342555999756,
           1.345757246017456,
           1.298563003540039,
           1.2766375541687012,
           1.308572769165039,
           1.2988717555999756,
           1.2801129817962646,
           1.2696402072906494,
           1.271411418914795,
           1.2714784145355225,
           1.2292048931121826,
           1.1989257335662842,
           1.1488454341888428,
           1.0460920333862305,
           0.9978389739990234,
           0.9621412754058838,
           0.9410190582275391,
           0.9182803630828857,
           0.9061770439147949,
           0.8840551376342773,
           0.8659923076629639,
           0.8589563369750977,
           0.8489563465118408,
           0.8419806957244873,
           0.8388419151306152,
           0.8352668285369873,
           0.8387608528137207,
           0.8434925079345703,
           0.8482108116149902,
           0.853377103805542,
           0.849522590637207,
           0.8483953475952148,
           0.8515563011169434,
           0.8582396507263184,
           0.8329784870147705
          ],
          [
           0.8358259201049805,
           0.08048343658447266,
           0.04269099235534668,
           0.009334325790405273,
           0,
           0.005047798156738281,
           0.05360746383666992,
           0.17121672630310059,
           0.7865719795227051,
           1.2308118343353271,
           1.3104214668273926,
           1.2650911808013916,
           1.242105484008789,
           1.271411418914795,
           1.25954270362854,
           1.2383084297180176,
           1.2265684604644775,
           1.2259879112243652,
           1.224379539489746,
           1.1820895671844482,
           1.1519103050231934,
           1.1030042171478271,
           1.0028314590454102,
           0.9565930366516113,
           0.9229919910430908,
           0.9038419723510742,
           0.8834214210510254,
           0.873100757598877,
           0.85286545753479,
           0.8362553119659424,
           0.829949140548706,
           0.8208303451538086,
           0.8143525123596191,
           0.8115606307983398,
           0.8082218170166016,
           0.811692476272583,
           0.8166759014129639,
           0.8214461803436279,
           0.8265109062194824,
           0.8227546215057373,
           0.8217356204986572,
           0.8247954845428467,
           0.8316037654876709,
           0.8074886798858643
          ],
          [
           0.8496739864349365,
           0.10805511474609375,
           0.07210946083068848,
           0.03433680534362793,
           0.019188404083251953,
           0,
           0.031044721603393555,
           0.1431589126586914,
           0.7610573768615723,
           1.230470895767212,
           1.3172602653503418,
           1.273056983947754,
           1.247387170791626,
           1.2726972103118896,
           1.2580933570861816,
           1.2345714569091797,
           1.2210359573364258,
           1.2167470455169678,
           1.213921308517456,
           1.1711339950561523,
           1.1413743495941162,
           1.0938804149627686,
           0.9965412616729736,
           0.952406644821167,
           0.9206764698028564,
           0.9033591747283936,
           0.8852899074554443,
           0.8764939308166504,
           0.8576459884643555,
           0.8421177864074707,
           0.8364837169647217,
           0.8280041217803955,
           0.8218390941619873,
           0.8194675445556641,
           0.8163070678710938,
           0.8198964595794678,
           0.8250455856323242,
           0.8300340175628662,
           0.8349730968475342,
           0.831146240234375,
           0.8302416801452637,
           0.8334574699401855,
           0.8404173851013184,
           0.8166060447692871
          ],
          [
           0.812608003616333,
           0.14237499237060547,
           0.11552762985229492,
           0.07539057731628418,
           0.053728580474853516,
           0.02655339241027832,
           0,
           0.06553268432617188,
           0.6240966320037842,
           1.1604950428009033,
           1.2774152755737305,
           1.2340912818908691,
           1.2033371925354004,
           1.2206344604492188,
           1.199753761291504,
           1.1722781658172607,
           1.1522998809814453,
           1.135162115097046,
           1.1207547187805176,
           1.073166847229004,
           1.0422015190124512,
           0.9968559741973877,
           0.9049553871154785,
           0.8664770126342773,
           0.8415534496307373,
           0.8297367095947266,
           0.8182806968688965,
           0.8142228126525879,
           0.80008864402771,
           0.7882657051086426,
           0.7846424579620361,
           0.7783448696136475,
           0.7739207744598389,
           0.7723584175109863,
           0.7699558734893799,
           0.7735757827758789,
           0.7792472839355469,
           0.7841928005218506,
           0.788672924041748,
           0.784724235534668,
           0.7837538719177246,
           0.7865705490112305,
           0.7939271926879883,
           0.77388596534729
          ],
          [
           0.7010078430175781,
           0.20543718338012695,
           0.21406173706054688,
           0.17772245407104492,
           0.1519913673400879,
           0.1327800750732422,
           0.06195974349975586,
           0,
           0.3175773620605469,
           0.9405379295349121,
           1.1399815082550049,
           1.1070778369903564,
           1.0709314346313477,
           1.0753352642059326,
           1.0433588027954102,
           1.0055656433105469,
           0.9731144905090332,
           0.9318380355834961,
           0.8972563743591309,
           0.8441140651702881,
           0.8127710819244385,
           0.7752833366394043,
           0.7023792266845703,
           0.677750825881958,
           0.6652560234069824,
           0.6604843139648438,
           0.6560530662536621,
           0.6569182872772217,
           0.6505331993103027,
           0.6449806690216064,
           0.6433916091918945,
           0.6399471759796143,
           0.6384704113006592,
           0.6377999782562256,
           0.6368458271026611,
           0.639554500579834,
           0.6451632976531982,
           0.6490120887756348,
           0.6525542736053467,
           0.6495711803436279,
           0.6487548351287842,
           0.6518661975860596,
           0.6606316566467285,
           0.6534421443939209
          ],
          [
           0.4919949769973755,
           0.3690375089645386,
           0.4532052278518677,
           0.4276677370071411,
           0.408352255821228,
           0.42396223545074463,
           0.3487449884414673,
           0.12146890163421631,
           0,
           0.3217264413833618,
           0.6806508302688599,
           0.7145818471908569,
           0.7054611444473267,
           0.7017768621444702,
           0.6654616594314575,
           0.620388388633728,
           0.575666069984436,
           0.5203808546066284,
           0.4815109968185425,
           0.4555598497390747,
           0.45018017292022705,
           0.44391024112701416,
           0.47639548778533936,
           0.49711811542510986,
           0.4831181764602661,
           0.47736895084381104,
           0.47540032863616943,
           0.4647735357284546,
           0.46238553524017334,
           0.4650214910507202,
           0.4591625928878784,
           0.4562951326370239,
           0.4563335180282593,
           0.4572194814682007,
           0.4612010717391968,
           0.4571579694747925,
           0.45262277126312256,
           0.45018208026885986,
           0.450140118598938,
           0.4530986547470093,
           0.4527186155319214,
           0.45834290981292725,
           0.46477067470550537,
           0.48127281665802
          ],
          [
           0.4107480049133301,
           0.5087413787841797,
           0.6204705238342285,
           0.5980403423309326,
           0.5860040187835693,
           0.632575273513794,
           0.6051135063171387,
           0.33009934425354004,
           0.20449209213256836,
           0,
           0.13996756076812744,
           0.2223193645477295,
           0.2643563747406006,
           0.274794340133667,
           0.2657907009124756,
           0.25058722496032715,
           0.234877347946167,
           0.22871661186218262,
           0.2572755813598633,
           0.32602953910827637,
           0.3768935203552246,
           0.38731813430786133,
           0.5229406356811523,
           0.568572998046875,
           0.5229339599609375,
           0.5196857452392578,
           0.5478942394256592,
           0.5240094661712646,
           0.5160071849822998,
           0.5224721431732178,
           0.506781816482544,
           0.5008559226989746,
           0.49931788444519043,
           0.504084587097168,
           0.5138821601867676,
           0.5029330253601074,
           0.48429417610168457,
           0.4760556221008301,
           0.47188377380371094,
           0.4799022674560547,
           0.4775087833404541,
           0.48450732231140137,
           0.4818382263183594,
           0.49257588386535645
          ],
          [
           0.4655987024307251,
           0.6195715665817261,
           0.7291046380996704,
           0.7090975046157837,
           0.7035764455795288,
           0.766750693321228,
           0.7803822755813599,
           0.5113877058029175,
           0.46609771251678467,
           0.1297931671142578,
           0,
           0.02438175678253174,
           0.06035721302032471,
           0.08258771896362305,
           0.09680390357971191,
           0.10310173034667969,
           0.10956788063049316,
           0.13916313648223877,
           0.2125535011291504,
           0.32795631885528564,
           0.40144121646881104,
           0.4096258878707886,
           0.5650571584701538,
           0.618510365486145,
           0.5699576139450073,
           0.5907560586929321,
           0.6783102750778198,
           0.6670907735824585,
           0.6636160612106323,
           0.6780573129653931,
           0.6595059633255005,
           0.6541386842727661,
           0.6540066003799438,
           0.6645854711532593,
           0.6800862550735474,
           0.6661700010299683,
           0.6405571699142456,
           0.6302119493484497,
           0.623975396156311,
           0.6340945959091187,
           0.628973126411438,
           0.6382938623428345,
           0.6318603754043579,
           0.6323264837265015
          ],
          [
           0.5181329250335693,
           0.6750924587249756,
           0.7738986015319824,
           0.7527129650115967,
           0.7469818592071533,
           0.8085272312164307,
           0.8356106281280518,
           0.590822696685791,
           0.5834238529205322,
           0.24337029457092285,
           0.03523755073547363,
           0,
           0.017311573028564453,
           0.04179525375366211,
           0.0641711950302124,
           0.07336366176605225,
           0.0824652910232544,
           0.11819314956665039,
           0.19512689113616943,
           0.3081463575363159,
           0.38220715522766113,
           0.39401841163635254,
           0.5441386699676514,
           0.6044483184814453,
           0.5675990581512451,
           0.6080234050750732,
           0.7358725070953369,
           0.7411491870880127,
           0.7440733909606934,
           0.7639031410217285,
           0.7442150115966797,
           0.7394568920135498,
           0.7396543025970459,
           0.7531301975250244,
           0.7713935375213623,
           0.75777268409729,
           0.7321674823760986,
           0.7237069606781006,
           0.717139482498169,
           0.7287390232086182,
           0.7232544422149658,
           0.737861156463623,
           0.7349410057067871,
           0.7338323593139648
          ],
          [
           0.5551879405975342,
           0.7175190448760986,
           0.8037056922912598,
           0.7815136909484863,
           0.7753305435180664,
           0.8328862190246582,
           0.8667669296264648,
           0.6576857566833496,
           0.6689515113830566,
           0.32974135875701904,
           0.08569765090942383,
           0.02315390110015869,
           0,
           0.012451171875,
           0.03014540672302246,
           0.040667057037353516,
           0.05222296714782715,
           0.08954989910125732,
           0.1638249158859253,
           0.27044105529785156,
           0.3442707061767578,
           0.3637923002243042,
           0.5167019367218018,
           0.5867786407470703,
           0.5643622875213623,
           0.6188869476318359,
           0.772489070892334,
           0.789921760559082,
           0.8002097606658936,
           0.8265230655670166,
           0.8087601661682129,
           0.8066830635070801,
           0.8103580474853516,
           0.826934814453125,
           0.8486542701721191,
           0.8363857269287109,
           0.8126487731933594,
           0.8056035041809082,
           0.799252986907959,
           0.8133807182312012,
           0.8073461055755615,
           0.8256399631500244,
           0.8261294364929199,
           0.837252140045166
          ],
          [
           0.567420244216919,
           0.7406740188598633,
           0.8188621997833252,
           0.7953779697418213,
           0.7884583473205566,
           0.8419294357299805,
           0.8762986660003662,
           0.686368465423584,
           0.6982476711273193,
           0.3672904968261719,
           0.11918115615844727,
           0.049347639083862305,
           0.010418295860290527,
           0,
           0.008616328239440918,
           0.01737368106842041,
           0.028340578079223633,
           0.06120109558105469,
           0.12663233280181885,
           0.21971523761749268,
           0.28843069076538086,
           0.31555604934692383,
           0.4678521156311035,
           0.5451717376708984,
           0.5376267433166504,
           0.600480318069458,
           0.7668190002441406,
           0.792464017868042,
           0.808133602142334,
           0.8377265930175781,
           0.8217787742614746,
           0.8222846984863281,
           0.8290777206420898,
           0.8471252918243408,
           0.8707823753356934,
           0.8607015609741211,
           0.8408033847808838,
           0.836505651473999,
           0.8308372497558594,
           0.847341775894165,
           0.8418176174163818,
           0.8631081581115723,
           0.8675870895385742,
           0.8947474956512451
          ],
          [
           0.5652923583984375,
           0.7462162971496582,
           0.8159768581390381,
           0.7916746139526367,
           0.783818244934082,
           0.8328900337219238,
           0.8654470443725586,
           0.6985776424407959,
           0.711132287979126,
           0.3933749198913574,
           0.15271437168121338,
           0.08323192596435547,
           0.031057357788085938,
           0.009091019630432129,
           0,
           0.006177067756652832,
           0.014792919158935547,
           0.03915846347808838,
           0.08928561210632324,
           0.16199123859405518,
           0.2203441858291626,
           0.25245368480682373,
           0.39297282695770264,
           0.47313129901885986,
           0.4830904006958008,
           0.5511069297790527,
           0.7217357158660889,
           0.75522780418396,
           0.7775752544403076,
           0.8107385635375977,
           0.7984189987182617,
           0.8024477958679199,
           0.8131043910980225,
           0.8326437473297119,
           0.8576569557189941,
           0.8506011962890625,
           0.8363854885101318,
           0.8348054885864258,
           0.8303942680358887,
           0.8488140106201172,
           0.8439321517944336,
           0.8659052848815918,
           0.8738398551940918,
           0.9219710826873779
          ],
          [
           0.5958530902862549,
           0.7989773750305176,
           0.8689467906951904,
           0.8428044319152832,
           0.8324775695800781,
           0.8750779628753662,
           0.9003164768218994,
           0.7305865287780762,
           0.7346985340118408,
           0.43371009826660156,
           0.19746088981628418,
           0.12417197227478027,
           0.0590132474899292,
           0.025609731674194336,
           0.008388876914978027,
           0,
           0.004763960838317871,
           0.024273037910461426,
           0.06480205059051514,
           0.1225132942199707,
           0.17498493194580078,
           0.2136780023574829,
           0.3468663692474365,
           0.432020902633667,
           0.4575681686401367,
           0.5310428142547607,
           0.7073371410369873,
           0.7478365898132324,
           0.7757821083068848,
           0.810802698135376,
           0.8007256984710693,
           0.8070969581604004,
           0.8209390640258789,
           0.8416166305541992,
           0.8683836460113525,
           0.86466383934021,
           0.8566532135009766,
           0.8587117195129395,
           0.8558368682861328,
           0.8771889209747314,
           0.8734498023986816,
           0.8983051776885986,
           0.9120264053344727,
           0.9872462749481201
          ],
          [
           0.6125459671020508,
           0.8260185718536377,
           0.891404390335083,
           0.8645508289337158,
           0.8523049354553223,
           0.8889312744140625,
           0.9094610214233398,
           0.7496638298034668,
           0.7467231750488281,
           0.46948182582855225,
           0.24553453922271729,
           0.17421412467956543,
           0.09755027294158936,
           0.05150282382965088,
           0.023730754852294922,
           0.006834506988525391,
           0,
           0.013444781303405762,
           0.042459726333618164,
           0.08205842971801758,
           0.12587952613830566,
           0.16858172416687012,
           0.28751683235168457,
           0.3739495277404785,
           0.41506075859069824,
           0.49224424362182617,
           0.6713378429412842,
           0.7199318408966064,
           0.7536699771881104,
           0.7912602424621582,
           0.7844910621643066,
           0.7938179969787598,
           0.8111798763275146,
           0.833320140838623,
           0.8619821071624756,
           0.8624587059020996,
           0.8614592552185059,
           0.868095874786377,
           0.8670358657836914,
           0.8912394046783447,
           0.8887364864349365,
           0.9160866737365723,
           0.9361340999603271,
           1.0378904342651367
          ],
          [
           0.6137470006942749,
           0.84264075756073,
           0.9014946222305298,
           0.8734287023544312,
           0.8594735860824585,
           0.8879972696304321,
           0.901532769203186,
           0.7461274862289429,
           0.7267438173294067,
           0.4928140640258789,
           0.2985379695892334,
           0.2399061918258667,
           0.15693092346191406,
           0.09666085243225098,
           0.05391812324523926,
           0.024109244346618652,
           0.008595466613769531,
           0,
           0.013133406639099121,
           0.03447079658508301,
           0.06358587741851807,
           0.10174095630645752,
           0.19900965690612793,
           0.2808026075363159,
           0.33936309814453125,
           0.41928350925445557,
           0.5990642309188843,
           0.6586922407150269,
           0.7008799314498901,
           0.7424291372299194,
           0.7415426969528198,
           0.7555009126663208,
           0.7774840593338013,
           0.8014668226242065,
           0.8321813344955444,
           0.8377374410629272,
           0.8454939126968384,
           0.8576947450637817,
           0.85840904712677,
           0.8851932287216187,
           0.8839215040206909,
           0.9128671884536743,
           0.9382587671279907,
           1.066379189491272
          ],
          [
           0.6041467189788818,
           0.8317553997039795,
           0.8794975280761719,
           0.8517050743103027,
           0.8371241092681885,
           0.8587238788604736,
           0.8654870986938477,
           0.723860502243042,
           0.6979491710662842,
           0.5058209896087646,
           0.3451204299926758,
           0.3035331964492798,
           0.2196117639541626,
           0.14876079559326172,
           0.09374010562896729,
           0.05279123783111572,
           0.02716231346130371,
           0.0059278011322021484,
           0,
           0.007773876190185547,
           0.022417306900024414,
           0.05082345008850098,
           0.11789965629577637,
           0.18646061420440674,
           0.2538635730743408,
           0.33106470108032227,
           0.5022060871124268,
           0.5723156929016113,
           0.6219382286071777,
           0.6670510768890381,
           0.6724050045013428,
           0.6910240650177002,
           0.7171998023986816,
           0.7430346012115479,
           0.775475263595581,
           0.7867989540100098,
           0.8041477203369141,
           0.8229224681854248,
           0.8258073329925537,
           0.8544223308563232,
           0.8542044162750244,
           0.8834726810455322,
           0.9142088890075684,
           1.0675194263458252
          ],
          [
           0.604212760925293,
           0.8355528116226196,
           0.8770447969436646,
           0.8496335744857788,
           0.835171103477478,
           0.8539589643478394,
           0.8576306104660034,
           0.7165087461471558,
           0.6786974668502808,
           0.5246175527572632,
           0.3894054889678955,
           0.3598785400390625,
           0.2785557508468628,
           0.19861042499542236,
           0.13305044174194336,
           0.08105802536010742,
           0.04340946674346924,
           0.013418078422546387,
           0.0031235218048095703,
           0,
           0.009135007858276367,
           0.03106510639190674,
           0.07836627960205078,
           0.1368117332458496,
           0.2054615020751953,
           0.27970290184020996,
           0.4466646909713745,
           0.5258866548538208,
           0.5826503038406372,
           0.6328990459442139,
           0.6440824270248413,
           0.6679366827011108,
           0.6977392435073853,
           0.7262736558914185,
           0.7609647512435913,
           0.7778037786483765,
           0.8017095327377319,
           0.8256114721298218,
           0.8296395540237427,
           0.8583682775497437,
           0.8579655885696411,
           0.8861585855484009,
           0.9197317361831665,
           1.0830084085464478
          ],
          [
           0.5985217094421387,
           0.8157691955566406,
           0.8488852977752686,
           0.8223159313201904,
           0.8086838722229004,
           0.8231041431427002,
           0.8256993293762207,
           0.7031271457672119,
           0.6629798412322998,
           0.5398095846176147,
           0.42985355854034424,
           0.4121744632720947,
           0.33342552185058594,
           0.2485712766647339,
           0.17432844638824463,
           0.1138920783996582,
           0.06549561023712158,
           0.025308728218078613,
           0.007658123970031738,
           0.001780867576599121,
           0,
           0.012942314147949219,
           0.04575216770172119,
           0.09256696701049805,
           0.15780341625213623,
           0.22911453247070312,
           0.39321160316467285,
           0.4804117679595947,
           0.5439728498458862,
           0.599799633026123,
           0.6161237955093384,
           0.6450377702713013,
           0.6782500743865967,
           0.7094199657440186,
           0.7459409236907959,
           0.7672102451324463,
           0.7955799102783203,
           0.8229119777679443,
           0.8273022174835205,
           0.8545668125152588,
           0.8530797958374023,
           0.8788778781890869,
           0.9143021106719971,
           1.0852773189544678
          ],
          [
           0.5763194561004639,
           0.7716881036758423,
           0.7930349111557007,
           0.7688051462173462,
           0.7579969167709351,
           0.7727938890457153,
           0.7795222997665405,
           0.6738294363021851,
           0.6389205455780029,
           0.5561681985855103,
           0.4750100374221802,
           0.47057807445526123,
           0.3937019109725952,
           0.3053090572357178,
           0.22201156616210938,
           0.15448665618896484,
           0.09520697593688965,
           0.04524409770965576,
           0.020006179809570312,
           0.01069939136505127,
           0.0032933950424194336,
           0,
           0.016367793083190918,
           0.046722412109375,
           0.10042107105255127,
           0.16233456134796143,
           0.3142892122268677,
           0.4075063467025757,
           0.4782658815383911,
           0.5404685735702515,
           0.5644664764404297,
           0.5998343229293823,
           0.6366605758666992,
           0.6704782247543335,
           0.7078760862350464,
           0.7344299554824829,
           0.7671817541122437,
           0.7975047826766968,
           0.8022741079330444,
           0.8260034322738647,
           0.8229533433914185,
           0.8414729833602905,
           0.8736313581466675,
           1.0378931760787964
          ],
          [
           0.5342264175415039,
           0.6822072267532349,
           0.6912655830383301,
           0.6707510948181152,
           0.6622097492218018,
           0.6728314161300659,
           0.6807340383529663,
           0.6061360836029053,
           0.5821249485015869,
           0.537861704826355,
           0.488200306892395,
           0.49610280990600586,
           0.4259086847305298,
           0.34163546562194824,
           0.2558891773223877,
           0.18584132194519043,
           0.11849033832550049,
           0.06514096260070801,
           0.03736603260040283,
           0.025891423225402832,
           0.014904975891113281,
           0.005291104316711426,
           0,
           0.012021064758300781,
           0.04475903511047363,
           0.08800053596496582,
           0.2088860273361206,
           0.30225229263305664,
           0.37682628631591797,
           0.4440121650695801,
           0.47664785385131836,
           0.5183683633804321,
           0.5574711561203003,
           0.5931602716445923,
           0.6296210289001465,
           0.6616681814193726,
           0.6976687908172607,
           0.7296290397644043,
           0.7343381643295288,
           0.751104474067688,
           0.7456036806106567,
           0.7530511617660522,
           0.7787226438522339,
           0.9280565977096558
          ],
          [
           0.5188426971435547,
           0.641559362411499,
           0.6446137428283691,
           0.626151442527771,
           0.6184992790222168,
           0.6254839897155762,
           0.6315406560897827,
           0.5702042579650879,
           0.5458254814147949,
           0.5332282781600952,
           0.508777379989624,
           0.5276459455490112,
           0.4655677080154419,
           0.38547706604003906,
           0.2986706495285034,
           0.22650933265686035,
           0.15075087547302246,
           0.09142041206359863,
           0.05808758735656738,
           0.04277193546295166,
           0.02829611301422119,
           0.01337587833404541,
           0.0022815465927124023,
           0,
           0.01791977882385254,
           0.047322750091552734,
           0.14394891262054443,
           0.23214125633239746,
           0.3071403503417969,
           0.37564754486083984,
           0.41388189792633057,
           0.4597513675689697,
           0.5008251667022705,
           0.5369782447814941,
           0.571853518486023,
           0.6061912775039673,
           0.644254207611084,
           0.6761733293533325,
           0.6807001829147339,
           0.6926625967025757,
           0.6847754716873169,
           0.681973934173584,
           0.699958324432373,
           0.8452351093292236
          ],
          [
           0.4673546552658081,
           0.5624344348907471,
           0.5603309869766235,
           0.545177698135376,
           0.5389049053192139,
           0.5427074432373047,
           0.5456981658935547,
           0.5002505779266357,
           0.4732755422592163,
           0.4892069101333618,
           0.491025447845459,
           0.5229023694992065,
           0.4754979610443115,
           0.4037508964538574,
           0.32098388671875,
           0.25166451930999756,
           0.17090439796447754,
           0.10894346237182617,
           0.07406210899353027,
           0.05905020236968994,
           0.04493153095245361,
           0.02847278118133545,
           0.01593649387359619,
           0.0065953731536865234,
           0,
           0.01107931137084961,
           0.06848788261413574,
           0.13766121864318848,
           0.20246994495391846,
           0.2649681568145752,
           0.3039569854736328,
           0.3496140241622925,
           0.38939154148101807,
           0.4227246046066284,
           0.45406126976013184,
           0.487750768661499,
           0.5256352424621582,
           0.5555086135864258,
           0.5598386526107788,
           0.5671850442886353,
           0.5576162338256836,
           0.5464375019073486,
           0.5581896305084229,
           0.7020585536956787
          ],
          [
           0.4368983507156372,
           0.5129789113998413,
           0.508959174156189,
           0.49580812454223633,
           0.49013805389404297,
           0.49174046516418457,
           0.4910550117492676,
           0.44660449028015137,
           0.42254674434661865,
           0.4511321783065796,
           0.4677184820175171,
           0.5117930173873901,
           0.4781644344329834,
           0.4154466390609741,
           0.3384528160095215,
           0.27259910106658936,
           0.18858098983764648,
           0.12569260597229004,
           0.08962082862854004,
           0.07517111301422119,
           0.061533451080322266,
           0.04378938674926758,
           0.032566070556640625,
           0.020851969718933105,
           0.0053490400314331055,
           0,
           0.023919343948364258,
           0.0705711841583252,
           0.1210707426071167,
           0.17278873920440674,
           0.2092747688293457,
           0.2512136697769165,
           0.2884669303894043,
           0.3172142505645752,
           0.3433370590209961,
           0.3723456859588623,
           0.40816283226013184,
           0.4341847896575928,
           0.4371027946472168,
           0.440643310546875,
           0.4295388460159302,
           0.4104776382446289,
           0.4116767644882202,
           0.5504608154296875
          ],
          [
           0.3905833959579468,
           0.4413728713989258,
           0.43657493591308594,
           0.426000714302063,
           0.4200063943862915,
           0.4172053337097168,
           0.4107629060745239,
           0.3708479404449463,
           0.34791040420532227,
           0.3840543031692505,
           0.4150735139846802,
           0.4707176685333252,
           0.4573174715042114,
           0.4105156660079956,
           0.3461090326309204,
           0.2883412837982178,
           0.2043551206588745,
           0.14330410957336426,
           0.109405517578125,
           0.0986487865447998,
           0.08753442764282227,
           0.07071805000305176,
           0.06352519989013672,
           0.05241894721984863,
           0.029713034629821777,
           0.01305234432220459,
           0,
           0.014211177825927734,
           0.04134845733642578,
           0.0742790699005127,
           0.10195040702819824,
           0.13479387760162354,
           0.1653226613998413,
           0.18723344802856445,
           0.2063523530960083,
           0.22749638557434082,
           0.2581075429916382,
           0.2789102792739868,
           0.28060364723205566,
           0.2814067602157593,
           0.2714710235595703,
           0.2519599199295044,
           0.2485266923904419,
           0.37087559700012207
          ],
          [
           0.35698699951171875,
           0.39147984981536865,
           0.38624775409698486,
           0.3777031898498535,
           0.3716071844100952,
           0.3669639825820923,
           0.358154296875,
           0.32160377502441406,
           0.3011208772659302,
           0.33739173412323,
           0.37291812896728516,
           0.42979562282562256,
           0.42773258686065674,
           0.3905588388442993,
           0.3363887071609497,
           0.28645777702331543,
           0.20721840858459473,
           0.15123474597930908,
           0.1223975419998169,
           0.11625933647155762,
           0.1079871654510498,
           0.0932626724243164,
           0.09128522872924805,
           0.08243227005004883,
           0.05696463584899902,
           0.03737902641296387,
           0.010500907897949219,
           0,
           0.009454727172851562,
           0.027388334274291992,
           0.045918822288513184,
           0.06970846652984619,
           0.09391772747039795,
           0.11074590682983398,
           0.12486839294433594,
           0.140466570854187,
           0.16601145267486572,
           0.18363511562347412,
           0.18518412113189697,
           0.1856532096862793,
           0.17899715900421143,
           0.16675996780395508,
           0.16854000091552734,
           0.2724316120147705
          ],
          [
           0.33096444606781006,
           0.35564982891082764,
           0.350308895111084,
           0.3431318998336792,
           0.3371920585632324,
           0.3319234848022461,
           0.32223737239837646,
           0.2868618965148926,
           0.2688509225845337,
           0.3024493455886841,
           0.33782315254211426,
           0.39205312728881836,
           0.3962528705596924,
           0.3651024103164673,
           0.31903016567230225,
           0.27584242820739746,
           0.2029566764831543,
           0.15293395519256592,
           0.1298466920852661,
           0.12800610065460205,
           0.12234294414520264,
           0.10980892181396484,
           0.11281156539916992,
           0.10669934749603271,
           0.08063161373138428,
           0.061594247817993164,
           0.030498981475830078,
           0.006049156188964844,
           0,
           0.006706833839416504,
           0.01749587059020996,
           0.03341484069824219,
           0.051801443099975586,
           0.06477916240692139,
           0.07556772232055664,
           0.08742821216583252,
           0.10888659954071045,
           0.1240164041519165,
           0.12617111206054688,
           0.12731719017028809,
           0.12412118911743164,
           0.11938738822937012,
           0.12816238403320312,
           0.2150508165359497
          ],
          [
           0.3109248876571655,
           0.3276749849319458,
           0.3225201368331909,
           0.3163778781890869,
           0.3106858730316162,
           0.3053795099258423,
           0.29572951793670654,
           0.262958288192749,
           0.2479339838027954,
           0.2770874500274658,
           0.30933868885040283,
           0.35874736309051514,
           0.3657705783843994,
           0.3388622999191284,
           0.2995692491531372,
           0.2622894048690796,
           0.1970900297164917,
           0.1535261869430542,
           0.13622844219207764,
           0.13901710510253906,
           0.13583195209503174,
           0.12558984756469727,
           0.13334619998931885,
           0.13009190559387207,
           0.10480546951293945,
           0.08702218532562256,
           0.05476272106170654,
           0.02089405059814453,
           0.005328655242919922,
           0,
           0.003916144371032715,
           0.012996077537536621,
           0.026122570037841797,
           0.03597736358642578,
           0.04415929317474365,
           0.0531538724899292,
           0.07072532176971436,
           0.08364081382751465,
           0.08648419380187988,
           0.08902037143707275,
           0.08967745304107666,
           0.09272265434265137,
           0.10938489437103271,
           0.17932569980621338
          ],
          [
           0.29982268810272217,
           0.31216514110565186,
           0.3072476387023926,
           0.30183684825897217,
           0.2963470220565796,
           0.29123926162719727,
           0.28190839290618896,
           0.2506382465362549,
           0.23713386058807373,
           0.2627384662628174,
           0.2920891046524048,
           0.3363637924194336,
           0.3447989225387573,
           0.3208165168762207,
           0.286984920501709,
           0.25458693504333496,
           0.19567608833312988,
           0.15705657005310059,
           0.14373111724853516,
           0.14889144897460938,
           0.14698052406311035,
           0.13779044151306152,
           0.1477222442626953,
           0.14605796337127686,
           0.12129437923431396,
           0.10532116889953613,
           0.07400083541870117,
           0.0354083776473999,
           0.014159202575683594,
           0.0029224157333374023,
           0,
           0.00403439998626709,
           0.012847185134887695,
           0.02008640766143799,
           0.026380300521850586,
           0.03316330909729004,
           0.047392964363098145,
           0.05880606174468994,
           0.06218826770782471,
           0.06569159030914307,
           0.06920814514160156,
           0.07803547382354736,
           0.10133063793182373,
           0.1619964838027954
          ],
          [
           0.29160094261169434,
           0.300067663192749,
           0.29545342922210693,
           0.2906663417816162,
           0.2852640151977539,
           0.28041505813598633,
           0.2712641954421997,
           0.24096286296844482,
           0.2290201187133789,
           0.2506403923034668,
           0.27657008171081543,
           0.31592774391174316,
           0.3245525360107422,
           0.303206205368042,
           0.27395379543304443,
           0.24559950828552246,
           0.19325625896453857,
           0.16029667854309082,
           0.1521003246307373,
           0.160599946975708,
           0.16049599647521973,
           0.15304052829742432,
           0.16604137420654297,
           0.16620945930480957,
           0.1423187255859375,
           0.12787675857543945,
           0.09765386581420898,
           0.05462789535522461,
           0.027663588523864746,
           0.010998725891113281,
           0.003421187400817871,
           0,
           0.004303693771362305,
           0.00908350944519043,
           0.013779878616333008,
           0.01891779899597168,
           0.0297544002532959,
           0.03976798057556152,
           0.044226884841918945,
           0.04898190498352051,
           0.055063486099243164,
           0.06928884983062744,
           0.09932971000671387,
           0.15115690231323242
          ],
          [
           0.28494662046432495,
           0.29151982069015503,
           0.28728312253952026,
           0.28303664922714233,
           0.2778835892677307,
           0.2732775807380676,
           0.26465338468551636,
           0.23634988069534302,
           0.22562438249588013,
           0.24491947889328003,
           0.26785820722579956,
           0.3025922179222107,
           0.31076401472091675,
           0.2912047505378723,
           0.26561862230300903,
           0.2406814694404602,
           0.19372552633285522,
           0.16450506448745728,
           0.15855735540390015,
           0.16778820753097534,
           0.16839462518692017,
           0.1618451476097107,
           0.17545408010482788,
           0.17642980813980103,
           0.15399569272994995,
           0.1418418288230896,
           0.11423677206039429,
           0.07091778516769409,
           0.04141145944595337,
           0.021690428256988525,
           0.010776937007904053,
           0.0028510689735412598,
           0,
           0.002140820026397705,
           0.005281388759613037,
           0.0088767409324646,
           0.016314446926116943,
           0.02438896894454956,
           0.029103219509124756,
           0.03416663408279419,
           0.04205423593521118,
           0.059774816036224365,
           0.09526950120925903,
           0.14391762018203735
          ],
          [
           0.28268736600875854,
           0.2892826199531555,
           0.2855204939842224,
           0.2815418839454651,
           0.27680832147598267,
           0.27248305082321167,
           0.2645038962364197,
           0.23731690645217896,
           0.2272626757621765,
           0.24606436491012573,
           0.26812416315078735,
           0.3007354140281677,
           0.3087100386619568,
           0.28996747732162476,
           0.26601260900497437,
           0.24280637502670288,
           0.19802743196487427,
           0.1699886918067932,
           0.1637839674949646,
           0.17197555303573608,
           0.17216235399246216,
           0.1657608151435852,
           0.1786709427833557,
           0.17948561906814575,
           0.15799468755722046,
           0.14730292558670044,
           0.12208610773086548,
           0.08000701665878296,
           0.0498848557472229,
           0.029061734676361084,
           0.01649785041809082,
           0.006590127944946289,
           0.0012917518615722656,
           0,
           0.002018153667449951,
           0.0042228102684021,
           0.009470224380493164,
           0.01613008975982666,
           0.020879626274108887,
           0.02607673406600952,
           0.034510791301727295,
           0.05331140756607056,
           0.09081274271011353,
           0.13923925161361694
          ],
          [
           0.2742757797241211,
           0.2799263000488281,
           0.27657222747802734,
           0.2728928327560425,
           0.26844656467437744,
           0.2643857002258301,
           0.25695574283599854,
           0.23156273365020752,
           0.22204697132110596,
           0.2394874095916748,
           0.2604184150695801,
           0.2908550500869751,
           0.2984457015991211,
           0.2807486057281494,
           0.2585643529891968,
           0.23713982105255127,
           0.19504821300506592,
           0.1687462329864502,
           0.1628025770187378,
           0.17045724391937256,
           0.17055892944335938,
           0.16465353965759277,
           0.17718219757080078,
           0.1783769130706787,
           0.15848267078399658,
           0.14891278743743896,
           0.12605953216552734,
           0.08506441116333008,
           0.05497157573699951,
           0.033514320850372314,
           0.02011585235595703,
           0.009315013885498047,
           0.002842545509338379,
           0.0005541443824768066,
           0,
           0.0015153884887695312,
           0.005303382873535156,
           0.01108396053314209,
           0.015519380569458008,
           0.020736753940582275,
           0.02959465980529785,
           0.0494077205657959,
           0.08812963962554932,
           0.13202941417694092
          ],
          [
           0.2789188027381897,
           0.2840670943260193,
           0.2811107039451599,
           0.27759450674057007,
           0.2732927203178406,
           0.2693853974342346,
           0.26215440034866333,
           0.2365162968635559,
           0.2274269461631775,
           0.24317258596420288,
           0.2617974877357483,
           0.2893262505531311,
           0.2960430979728699,
           0.27919095754623413,
           0.2589723467826843,
           0.23946672677993774,
           0.20029324293136597,
           0.175717294216156,
           0.16980761289596558,
           0.17624717950820923,
           0.1755390763282776,
           0.1687672734260559,
           0.17983990907669067,
           0.18015581369400024,
           0.1606321930885315,
           0.1513645052909851,
           0.12998229265213013,
           0.091000497341156,
           0.06163370609283447,
           0.040235698223114014,
           0.02592027187347412,
           0.014442622661590576,
           0.00691598653793335,
           0.00337296724319458,
           0.0022605061531066895,
           0,
           0.0022280216217041016,
           0.006484687328338623,
           0.010254204273223877,
           0.0155373215675354,
           0.02496659755706787,
           0.04584759473800659,
           0.08770662546157837,
           0.1318870186805725
          ],
          [
           0.27737629413604736,
           0.2816725969314575,
           0.2792767286300659,
           0.2761486768722534,
           0.2722219228744507,
           0.26859450340270996,
           0.2619704008102417,
           0.2390505075454712,
           0.23101305961608887,
           0.245172381401062,
           0.261218786239624,
           0.2851971387863159,
           0.2906738519668579,
           0.27502191066741943,
           0.2573024034500122,
           0.24033582210540771,
           0.20542001724243164,
           0.18303191661834717,
           0.17694437503814697,
           0.1819700002670288,
           0.18078768253326416,
           0.17452549934387207,
           0.184531569480896,
           0.18504023551940918,
           0.16742932796478271,
           0.15967392921447754,
           0.14069926738739014,
           0.10430753231048584,
           0.07563990354537964,
           0.0539737343788147,
           0.03831970691680908,
           0.02494645118713379,
           0.015063822269439697,
           0.00969541072845459,
           0.00731968879699707,
           0.003646373748779297,
           0,
           0.003090798854827881,
           0.006357550621032715,
           0.011958181858062744,
           0.021912217140197754,
           0.043998003005981445,
           0.08873116970062256,
           0.13063359260559082
          ],
          [
           0.27079981565475464,
           0.27670711278915405,
           0.27498000860214233,
           0.2720627188682556,
           0.26886337995529175,
           0.26552098989486694,
           0.2596755623817444,
           0.23848551511764526,
           0.23168915510177612,
           0.24593883752822876,
           0.2607209086418152,
           0.28267019987106323,
           0.2871301770210266,
           0.2719932198524475,
           0.25596410036087036,
           0.24078232049942017,
           0.20766466856002808,
           0.184856116771698,
           0.17524904012680054,
           0.17662209272384644,
           0.17398089170455933,
           0.1669943928718567,
           0.17431706190109253,
           0.17405694723129272,
           0.15841060876846313,
           0.15222495794296265,
           0.13648957014083862,
           0.10534542798995972,
           0.07989484071731567,
           0.06038886308670044,
           0.045759618282318115,
           0.03305840492248535,
           0.02263665199279785,
           0.016395866870880127,
           0.01349562406539917,
           0.008470773696899414,
           0.003544628620147705,
           0,
           0.002782106399536133,
           0.007472693920135498,
           0.015944719314575195,
           0.03599792718887329,
           0.08000421524047852,
           0.12309163808822632
          ],
          [
           0.26379889249801636,
           0.2710720896720886,
           0.26973313093185425,
           0.26694291830062866,
           0.26418155431747437,
           0.26095157861709595,
           0.2554634213447571,
           0.23605161905288696,
           0.23020225763320923,
           0.2451733946800232,
           0.26023024320602417,
           0.2825321555137634,
           0.2863052487373352,
           0.2712557911872864,
           0.25517040491104126,
           0.2397943139076233,
           0.2062503695487976,
           0.18193882703781128,
           0.16957956552505493,
           0.168470561504364,
           0.16479915380477905,
           0.1571771502494812,
           0.1623782515525818,
           0.1611366868019104,
           0.14654541015625,
           0.1405264139175415,
           0.12646430730819702,
           0.09929847717285156,
           0.0771249532699585,
           0.06018179655075073,
           0.047069013118743896,
           0.03618711233139038,
           0.026451945304870605,
           0.020364880561828613,
           0.017262816429138184,
           0.011523544788360596,
           0.005860745906829834,
           0.0018691420555114746,
           0,
           0.0035962462425231934,
           0.010252416133880615,
           0.027339935302734375,
           0.06813222169876099,
           0.11343669891357422
          ],
          [
           0.2524717450141907,
           0.2618332505226135,
           0.2609146237373352,
           0.2583029866218567,
           0.2560005784034729,
           0.2529301047325134,
           0.247935950756073,
           0.23043674230575562,
           0.22479254007339478,
           0.24107366800308228,
           0.2570644021034241,
           0.280142605304718,
           0.2841723561286926,
           0.26933425664901733,
           0.25318747758865356,
           0.23767155408859253,
           0.2031819224357605,
           0.17709189653396606,
           0.16167157888412476,
           0.15759611129760742,
           0.1529260277748108,
           0.14464163780212402,
           0.14740121364593506,
           0.14569610357284546,
           0.13242989778518677,
           0.1268613338470459,
           0.1147577166557312,
           0.09175699949264526,
           0.07310158014297485,
           0.059206366539001465,
           0.04804486036300659,
           0.039346396923065186,
           0.030458927154541016,
           0.0245400071144104,
           0.021416425704956055,
           0.015553891658782959,
           0.009594738483428955,
           0.004600942134857178,
           0.0018062591552734375,
           0,
           0.004688143730163574,
           0.018230020999908447,
           0.05471569299697876,
           0.10126751661300659
          ],
          [
           0.2511146664619446,
           0.2650752663612366,
           0.2646006941795349,
           0.26197928190231323,
           0.2602371573448181,
           0.2572481036186218,
           0.25265246629714966,
           0.23547250032424927,
           0.23037225008010864,
           0.24892276525497437,
           0.26668256521224976,
           0.2917802929878235,
           0.2959964871406555,
           0.28067225217819214,
           0.26339012384414673,
           0.24713736772537231,
           0.20961827039718628,
           0.17941725254058838,
           0.1580899953842163,
           0.1489463448524475,
           0.14223533868789673,
           0.1325925588607788,
           0.1313818097114563,
           0.128027081489563,
           0.1157447099685669,
           0.11055511236190796,
           0.10017228126525879,
           0.08262807130813599,
           0.06870239973068237,
           0.059330761432647705,
           0.05166661739349365,
           0.04609513282775879,
           0.039400458335876465,
           0.03418022394180298,
           0.03127431869506836,
           0.025221586227416992,
           0.018470168113708496,
           0.011544227600097656,
           0.00698775053024292,
           0.003265082836151123,
           0,
           0.008397042751312256,
           0.037559449672698975,
           0.08956283330917358
          ],
          [
           0.2390781044960022,
           0.2609834671020508,
           0.26120495796203613,
           0.2583962678909302,
           0.25756192207336426,
           0.2546733617782593,
           0.25079429149627686,
           0.23553931713104248,
           0.231065571308136,
           0.25317108631134033,
           0.2737647294998169,
           0.30285966396331787,
           0.3072727918624878,
           0.29119372367858887,
           0.2716468572616577,
           0.25399231910705566,
           0.21189343929290771,
           0.17583787441253662,
           0.1463809609413147,
           0.1307627558708191,
           0.12193822860717773,
           0.11173206567764282,
           0.10650181770324707,
           0.10204637050628662,
           0.09237813949584961,
           0.0887572169303894,
           0.08226686716079712,
           0.07311731576919556,
           0.0661393404006958,
           0.06342566013336182,
           0.06074100732803345,
           0.060141801834106445,
           0.05686652660369873,
           0.05298435688018799,
           0.05083417892456055,
           0.04474198818206787,
           0.037273526191711426,
           0.028011739253997803,
           0.020730435848236084,
           0.013726651668548584,
           0.005493462085723877,
           0,
           0.016704797744750977,
           0.07120770215988159
          ],
          [
           0.22317975759506226,
           0.25742489099502563,
           0.25844651460647583,
           0.2550075650215149,
           0.25544464588165283,
           0.2527451515197754,
           0.24931442737579346,
           0.23344558477401733,
           0.2295803427696228,
           0.25572603940963745,
           0.28029030561447144,
           0.3159657120704651,
           0.32156866788864136,
           0.30449897050857544,
           0.2814263701438904,
           0.2624366283416748,
           0.2141548991203308,
           0.17048311233520508,
           0.13085579872131348,
           0.10804063081741333,
           0.09750521183013916,
           0.08720225095748901,
           0.07824546098709106,
           0.07315492630004883,
           0.06767255067825317,
           0.06597316265106201,
           0.06474369764328003,
           0.0660165548324585,
           0.0684615969657898,
           0.07504063844680786,
           0.08006048202514648,
           0.08761483430862427,
           0.09093546867370605,
           0.0906105637550354,
           0.08990472555160522,
           0.08530992269515991,
           0.07889008522033691,
           0.0683828592300415,
           0.058185458183288574,
           0.04731696844100952,
           0.031067728996276855,
           0.012783944606781006,
           0,
           0.04436016082763672
          ],
          [
           0.11060875654220581,
           0.1430288553237915,
           0.14430874586105347,
           0.1418846845626831,
           0.14322435855865479,
           0.14108902215957642,
           0.13789862394332886,
           0.12460595369338989,
           0.12221956253051758,
           0.14162951707839966,
           0.16163069009780884,
           0.19350916147232056,
           0.20250719785690308,
           0.19143444299697876,
           0.1746453046798706,
           0.16387027502059937,
           0.12798213958740234,
           0.09416830539703369,
           0.06190228462219238,
           0.04726892709732056,
           0.04343169927597046,
           0.041622281074523926,
           0.04479527473449707,
           0.049870193004608154,
           0.05562013387680054,
           0.06033980846405029,
           0.0681186318397522,
           0.06909358501434326,
           0.06978178024291992,
           0.07433760166168213,
           0.08004415035247803,
           0.08883464336395264,
           0.09578603506088257,
           0.09985584020614624,
           0.10043561458587646,
           0.10127133131027222,
           0.10017120838165283,
           0.09611064195632935,
           0.08945959806442261,
           0.08245676755905151,
           0.07171040773391724,
           0.056495845317840576,
           0.03305238485336304,
           0
          ]
         ]
        }
       ],
       "layout": {
        "scene": {
         "xaxis": {
          "title": {
           "text": "Train Layer"
          }
         },
         "yaxis": {
          "title": {
           "text": "Test Layer"
          }
         },
         "zaxis": {
          "title": {
           "text": "bits per byte"
          }
         }
        },
        "template": {
         "data": {
          "bar": [
           {
            "error_x": {
             "color": "#2a3f5f"
            },
            "error_y": {
             "color": "#2a3f5f"
            },
            "marker": {
             "line": {
              "color": "#E5ECF6",
              "width": 0.5
             },
             "pattern": {
              "fillmode": "overlay",
              "size": 10,
              "solidity": 0.2
             }
            },
            "type": "bar"
           }
          ],
          "barpolar": [
           {
            "marker": {
             "line": {
              "color": "#E5ECF6",
              "width": 0.5
             },
             "pattern": {
              "fillmode": "overlay",
              "size": 10,
              "solidity": 0.2
             }
            },
            "type": "barpolar"
           }
          ],
          "carpet": [
           {
            "aaxis": {
             "endlinecolor": "#2a3f5f",
             "gridcolor": "white",
             "linecolor": "white",
             "minorgridcolor": "white",
             "startlinecolor": "#2a3f5f"
            },
            "baxis": {
             "endlinecolor": "#2a3f5f",
             "gridcolor": "white",
             "linecolor": "white",
             "minorgridcolor": "white",
             "startlinecolor": "#2a3f5f"
            },
            "type": "carpet"
           }
          ],
          "choropleth": [
           {
            "colorbar": {
             "outlinewidth": 0,
             "ticks": ""
            },
            "type": "choropleth"
           }
          ],
          "contour": [
           {
            "colorbar": {
             "outlinewidth": 0,
             "ticks": ""
            },
            "colorscale": [
             [
              0,
              "#0d0887"
             ],
             [
              0.1111111111111111,
              "#46039f"
             ],
             [
              0.2222222222222222,
              "#7201a8"
             ],
             [
              0.3333333333333333,
              "#9c179e"
             ],
             [
              0.4444444444444444,
              "#bd3786"
             ],
             [
              0.5555555555555556,
              "#d8576b"
             ],
             [
              0.6666666666666666,
              "#ed7953"
             ],
             [
              0.7777777777777778,
              "#fb9f3a"
             ],
             [
              0.8888888888888888,
              "#fdca26"
             ],
             [
              1,
              "#f0f921"
             ]
            ],
            "type": "contour"
           }
          ],
          "contourcarpet": [
           {
            "colorbar": {
             "outlinewidth": 0,
             "ticks": ""
            },
            "type": "contourcarpet"
           }
          ],
          "heatmap": [
           {
            "colorbar": {
             "outlinewidth": 0,
             "ticks": ""
            },
            "colorscale": [
             [
              0,
              "#0d0887"
             ],
             [
              0.1111111111111111,
              "#46039f"
             ],
             [
              0.2222222222222222,
              "#7201a8"
             ],
             [
              0.3333333333333333,
              "#9c179e"
             ],
             [
              0.4444444444444444,
              "#bd3786"
             ],
             [
              0.5555555555555556,
              "#d8576b"
             ],
             [
              0.6666666666666666,
              "#ed7953"
             ],
             [
              0.7777777777777778,
              "#fb9f3a"
             ],
             [
              0.8888888888888888,
              "#fdca26"
             ],
             [
              1,
              "#f0f921"
             ]
            ],
            "type": "heatmap"
           }
          ],
          "heatmapgl": [
           {
            "colorbar": {
             "outlinewidth": 0,
             "ticks": ""
            },
            "colorscale": [
             [
              0,
              "#0d0887"
             ],
             [
              0.1111111111111111,
              "#46039f"
             ],
             [
              0.2222222222222222,
              "#7201a8"
             ],
             [
              0.3333333333333333,
              "#9c179e"
             ],
             [
              0.4444444444444444,
              "#bd3786"
             ],
             [
              0.5555555555555556,
              "#d8576b"
             ],
             [
              0.6666666666666666,
              "#ed7953"
             ],
             [
              0.7777777777777778,
              "#fb9f3a"
             ],
             [
              0.8888888888888888,
              "#fdca26"
             ],
             [
              1,
              "#f0f921"
             ]
            ],
            "type": "heatmapgl"
           }
          ],
          "histogram": [
           {
            "marker": {
             "pattern": {
              "fillmode": "overlay",
              "size": 10,
              "solidity": 0.2
             }
            },
            "type": "histogram"
           }
          ],
          "histogram2d": [
           {
            "colorbar": {
             "outlinewidth": 0,
             "ticks": ""
            },
            "colorscale": [
             [
              0,
              "#0d0887"
             ],
             [
              0.1111111111111111,
              "#46039f"
             ],
             [
              0.2222222222222222,
              "#7201a8"
             ],
             [
              0.3333333333333333,
              "#9c179e"
             ],
             [
              0.4444444444444444,
              "#bd3786"
             ],
             [
              0.5555555555555556,
              "#d8576b"
             ],
             [
              0.6666666666666666,
              "#ed7953"
             ],
             [
              0.7777777777777778,
              "#fb9f3a"
             ],
             [
              0.8888888888888888,
              "#fdca26"
             ],
             [
              1,
              "#f0f921"
             ]
            ],
            "type": "histogram2d"
           }
          ],
          "histogram2dcontour": [
           {
            "colorbar": {
             "outlinewidth": 0,
             "ticks": ""
            },
            "colorscale": [
             [
              0,
              "#0d0887"
             ],
             [
              0.1111111111111111,
              "#46039f"
             ],
             [
              0.2222222222222222,
              "#7201a8"
             ],
             [
              0.3333333333333333,
              "#9c179e"
             ],
             [
              0.4444444444444444,
              "#bd3786"
             ],
             [
              0.5555555555555556,
              "#d8576b"
             ],
             [
              0.6666666666666666,
              "#ed7953"
             ],
             [
              0.7777777777777778,
              "#fb9f3a"
             ],
             [
              0.8888888888888888,
              "#fdca26"
             ],
             [
              1,
              "#f0f921"
             ]
            ],
            "type": "histogram2dcontour"
           }
          ],
          "mesh3d": [
           {
            "colorbar": {
             "outlinewidth": 0,
             "ticks": ""
            },
            "type": "mesh3d"
           }
          ],
          "parcoords": [
           {
            "line": {
             "colorbar": {
              "outlinewidth": 0,
              "ticks": ""
             }
            },
            "type": "parcoords"
           }
          ],
          "pie": [
           {
            "automargin": true,
            "type": "pie"
           }
          ],
          "scatter": [
           {
            "fillpattern": {
             "fillmode": "overlay",
             "size": 10,
             "solidity": 0.2
            },
            "type": "scatter"
           }
          ],
          "scatter3d": [
           {
            "line": {
             "colorbar": {
              "outlinewidth": 0,
              "ticks": ""
             }
            },
            "marker": {
             "colorbar": {
              "outlinewidth": 0,
              "ticks": ""
             }
            },
            "type": "scatter3d"
           }
          ],
          "scattercarpet": [
           {
            "marker": {
             "colorbar": {
              "outlinewidth": 0,
              "ticks": ""
             }
            },
            "type": "scattercarpet"
           }
          ],
          "scattergeo": [
           {
            "marker": {
             "colorbar": {
              "outlinewidth": 0,
              "ticks": ""
             }
            },
            "type": "scattergeo"
           }
          ],
          "scattergl": [
           {
            "marker": {
             "colorbar": {
              "outlinewidth": 0,
              "ticks": ""
             }
            },
            "type": "scattergl"
           }
          ],
          "scattermapbox": [
           {
            "marker": {
             "colorbar": {
              "outlinewidth": 0,
              "ticks": ""
             }
            },
            "type": "scattermapbox"
           }
          ],
          "scatterpolar": [
           {
            "marker": {
             "colorbar": {
              "outlinewidth": 0,
              "ticks": ""
             }
            },
            "type": "scatterpolar"
           }
          ],
          "scatterpolargl": [
           {
            "marker": {
             "colorbar": {
              "outlinewidth": 0,
              "ticks": ""
             }
            },
            "type": "scatterpolargl"
           }
          ],
          "scatterternary": [
           {
            "marker": {
             "colorbar": {
              "outlinewidth": 0,
              "ticks": ""
             }
            },
            "type": "scatterternary"
           }
          ],
          "surface": [
           {
            "colorbar": {
             "outlinewidth": 0,
             "ticks": ""
            },
            "colorscale": [
             [
              0,
              "#0d0887"
             ],
             [
              0.1111111111111111,
              "#46039f"
             ],
             [
              0.2222222222222222,
              "#7201a8"
             ],
             [
              0.3333333333333333,
              "#9c179e"
             ],
             [
              0.4444444444444444,
              "#bd3786"
             ],
             [
              0.5555555555555556,
              "#d8576b"
             ],
             [
              0.6666666666666666,
              "#ed7953"
             ],
             [
              0.7777777777777778,
              "#fb9f3a"
             ],
             [
              0.8888888888888888,
              "#fdca26"
             ],
             [
              1,
              "#f0f921"
             ]
            ],
            "type": "surface"
           }
          ],
          "table": [
           {
            "cells": {
             "fill": {
              "color": "#EBF0F8"
             },
             "line": {
              "color": "white"
             }
            },
            "header": {
             "fill": {
              "color": "#C8D4E3"
             },
             "line": {
              "color": "white"
             }
            },
            "type": "table"
           }
          ]
         },
         "layout": {
          "annotationdefaults": {
           "arrowcolor": "#2a3f5f",
           "arrowhead": 0,
           "arrowwidth": 1
          },
          "autotypenumbers": "strict",
          "coloraxis": {
           "colorbar": {
            "outlinewidth": 0,
            "ticks": ""
           }
          },
          "colorscale": {
           "diverging": [
            [
             0,
             "#8e0152"
            ],
            [
             0.1,
             "#c51b7d"
            ],
            [
             0.2,
             "#de77ae"
            ],
            [
             0.3,
             "#f1b6da"
            ],
            [
             0.4,
             "#fde0ef"
            ],
            [
             0.5,
             "#f7f7f7"
            ],
            [
             0.6,
             "#e6f5d0"
            ],
            [
             0.7,
             "#b8e186"
            ],
            [
             0.8,
             "#7fbc41"
            ],
            [
             0.9,
             "#4d9221"
            ],
            [
             1,
             "#276419"
            ]
           ],
           "sequential": [
            [
             0,
             "#0d0887"
            ],
            [
             0.1111111111111111,
             "#46039f"
            ],
            [
             0.2222222222222222,
             "#7201a8"
            ],
            [
             0.3333333333333333,
             "#9c179e"
            ],
            [
             0.4444444444444444,
             "#bd3786"
            ],
            [
             0.5555555555555556,
             "#d8576b"
            ],
            [
             0.6666666666666666,
             "#ed7953"
            ],
            [
             0.7777777777777778,
             "#fb9f3a"
            ],
            [
             0.8888888888888888,
             "#fdca26"
            ],
            [
             1,
             "#f0f921"
            ]
           ],
           "sequentialminus": [
            [
             0,
             "#0d0887"
            ],
            [
             0.1111111111111111,
             "#46039f"
            ],
            [
             0.2222222222222222,
             "#7201a8"
            ],
            [
             0.3333333333333333,
             "#9c179e"
            ],
            [
             0.4444444444444444,
             "#bd3786"
            ],
            [
             0.5555555555555556,
             "#d8576b"
            ],
            [
             0.6666666666666666,
             "#ed7953"
            ],
            [
             0.7777777777777778,
             "#fb9f3a"
            ],
            [
             0.8888888888888888,
             "#fdca26"
            ],
            [
             1,
             "#f0f921"
            ]
           ]
          },
          "colorway": [
           "#636efa",
           "#EF553B",
           "#00cc96",
           "#ab63fa",
           "#FFA15A",
           "#19d3f3",
           "#FF6692",
           "#B6E880",
           "#FF97FF",
           "#FECB52"
          ],
          "font": {
           "color": "#2a3f5f"
          },
          "geo": {
           "bgcolor": "white",
           "lakecolor": "white",
           "landcolor": "#E5ECF6",
           "showlakes": true,
           "showland": true,
           "subunitcolor": "white"
          },
          "hoverlabel": {
           "align": "left"
          },
          "hovermode": "closest",
          "mapbox": {
           "style": "light"
          },
          "paper_bgcolor": "white",
          "plot_bgcolor": "#E5ECF6",
          "polar": {
           "angularaxis": {
            "gridcolor": "white",
            "linecolor": "white",
            "ticks": ""
           },
           "bgcolor": "#E5ECF6",
           "radialaxis": {
            "gridcolor": "white",
            "linecolor": "white",
            "ticks": ""
           }
          },
          "scene": {
           "xaxis": {
            "backgroundcolor": "#E5ECF6",
            "gridcolor": "white",
            "gridwidth": 2,
            "linecolor": "white",
            "showbackground": true,
            "ticks": "",
            "zerolinecolor": "white"
           },
           "yaxis": {
            "backgroundcolor": "#E5ECF6",
            "gridcolor": "white",
            "gridwidth": 2,
            "linecolor": "white",
            "showbackground": true,
            "ticks": "",
            "zerolinecolor": "white"
           },
           "zaxis": {
            "backgroundcolor": "#E5ECF6",
            "gridcolor": "white",
            "gridwidth": 2,
            "linecolor": "white",
            "showbackground": true,
            "ticks": "",
            "zerolinecolor": "white"
           }
          },
          "shapedefaults": {
           "line": {
            "color": "#2a3f5f"
           }
          },
          "ternary": {
           "aaxis": {
            "gridcolor": "white",
            "linecolor": "white",
            "ticks": ""
           },
           "baxis": {
            "gridcolor": "white",
            "linecolor": "white",
            "ticks": ""
           },
           "bgcolor": "#E5ECF6",
           "caxis": {
            "gridcolor": "white",
            "linecolor": "white",
            "ticks": ""
           }
          },
          "title": {
           "x": 0.05
          },
          "xaxis": {
           "automargin": true,
           "gridcolor": "white",
           "linecolor": "white",
           "ticks": "",
           "title": {
            "standoff": 15
           },
           "zerolinecolor": "white",
           "zerolinewidth": 2
          },
          "yaxis": {
           "automargin": true,
           "gridcolor": "white",
           "linecolor": "white",
           "ticks": "",
           "title": {
            "standoff": 15
           },
           "zerolinecolor": "white",
           "zerolinewidth": 2
          }
         }
        },
        "title": {
         "text": "GPT-NeoX 20B Transfer Excess CE"
        }
       }
      },
      "text/html": [
       "<div>                            <div id=\"edd4c597-a287-4d66-a62d-3743aa336cd3\" class=\"plotly-graph-div\" style=\"height:525px; width:100%;\"></div>            <script type=\"text/javascript\">                require([\"plotly\"], function(Plotly) {                    window.PLOTLYENV=window.PLOTLYENV || {};                                    if (document.getElementById(\"edd4c597-a287-4d66-a62d-3743aa336cd3\")) {                    Plotly.newPlot(                        \"edd4c597-a287-4d66-a62d-3743aa336cd3\",                        [{\"x\":[0,1,2,3,4,5,6,7,8,9,10,11,12,13,14,15,16,17,18,19,20,21,22,23,24,25,26,27,28,29,30,31,32,33,34,35,36,37,38,39,40,41,42,43],\"y\":[0,1,2,3,4,5,6,7,8,9,10,11,12,13,14,15,16,17,18,19,20,21,22,23,24,25,26,27,28,29,30,31,32,33,34,35,36,37,38,39,40,41,42,43],\"z\":[[0.0,1.1866769790649414,1.207350254058838,1.2140207290649414,1.2117958068847656,1.2141690254211426,1.2145099639892578,1.213705062866211,1.2176551818847656,1.2193217277526855,1.2169089317321777,1.2179179191589355,1.2149930000305176,1.2199583053588867,1.2211976051330566,1.2244443893432617,1.2241244316101074,1.2213730812072754,1.2202191352844238,1.2213754653930664,1.2191462516784668,1.2158417701721191,1.215104579925537,1.2171859741210938,1.2164254188537598,1.2173810005187988,1.2158713340759277,1.217033863067627,1.217008113861084,1.2192363739013672,1.22123384475708,1.2218732833862305,1.2223925590515137,1.2241744995117188,1.225630760192871,1.2263760566711426,1.2270116806030273,1.227971076965332,1.2294025421142578,1.2308168411254883,1.2329330444335938,1.2338447570800781,1.2362513542175293,1.235713005065918],[0.8594534397125244,0.0,0.007676839828491211,0.01786637306213379,0.04354667663574219,0.07046151161193848,0.15820932388305664,0.30448150634765625,0.9714791774749756,1.3611085414886475,1.4121990203857422,1.36061429977417,1.3360280990600586,1.3696818351745605,1.3587305545806885,1.338223934173584,1.3275134563446045,1.3292810916900635,1.3277080059051514,1.283722162246704,1.2515289783477783,1.1962180137634277,1.0857679843902588,1.032761573791504,0.9922318458557129,0.9679362773895264,0.9411048889160156,0.9265799522399902,0.9011294841766357,0.8805229663848877,0.8721523284912109,0.8606090545654297,0.8529515266418457,0.8487913608551025,0.8445708751678467,0.8480432033538818,0.853175163269043,0.8575668334960938,0.8631319999694824,0.8589155673980713,0.8575279712677002,0.8607544898986816,0.8672759532928467,0.8394594192504883],[0.8618910312652588,0.04030799865722656,0.0,-0.0013000965118408203,0.02010369300842285,0.04124784469604492,0.11230826377868652,0.2470703125,0.8996808528900146,1.315079689025879,1.377739429473877,1.3283934593200684,1.306344985961914,1.3387665748596191,1.3289480209350586,1.309814691543579,1.2993080615997314,1.301767349243164,1.3006463050842285,1.2571837902069092,1.225698471069336,1.1727774143218994,1.0655670166015625,1.0148773193359375,0.9769196510314941,0.9543952941894531,0.9298558235168457,0.916745662689209,0.8931028842926025,0.8740513324737549,0.866408109664917,0.8556356430053711,0.8482475280761719,0.8446192741394043,0.840731143951416,0.8442201614379883,0.8489937782287598,0.8536012172698975,0.8588919639587402,0.854736328125,0.8534519672393799,0.8565387725830078,0.8632261753082275,0.8368093967437744],[0.8590788841247559,0.0702202320098877,0.02821040153503418,0.0,0.010790824890136719,0.023648977279663086,0.08521747589111328,0.21225666999816895,0.8460886478424072,1.2754342555999756,1.345757246017456,1.298563003540039,1.2766375541687012,1.308572769165039,1.2988717555999756,1.2801129817962646,1.2696402072906494,1.271411418914795,1.2714784145355225,1.2292048931121826,1.1989257335662842,1.1488454341888428,1.0460920333862305,0.9978389739990234,0.9621412754058838,0.9410190582275391,0.9182803630828857,0.9061770439147949,0.8840551376342773,0.8659923076629639,0.8589563369750977,0.8489563465118408,0.8419806957244873,0.8388419151306152,0.8352668285369873,0.8387608528137207,0.8434925079345703,0.8482108116149902,0.853377103805542,0.849522590637207,0.8483953475952148,0.8515563011169434,0.8582396507263184,0.8329784870147705],[0.8358259201049805,0.08048343658447266,0.04269099235534668,0.009334325790405273,0.0,0.005047798156738281,0.05360746383666992,0.17121672630310059,0.7865719795227051,1.2308118343353271,1.3104214668273926,1.2650911808013916,1.242105484008789,1.271411418914795,1.25954270362854,1.2383084297180176,1.2265684604644775,1.2259879112243652,1.224379539489746,1.1820895671844482,1.1519103050231934,1.1030042171478271,1.0028314590454102,0.9565930366516113,0.9229919910430908,0.9038419723510742,0.8834214210510254,0.873100757598877,0.85286545753479,0.8362553119659424,0.829949140548706,0.8208303451538086,0.8143525123596191,0.8115606307983398,0.8082218170166016,0.811692476272583,0.8166759014129639,0.8214461803436279,0.8265109062194824,0.8227546215057373,0.8217356204986572,0.8247954845428467,0.8316037654876709,0.8074886798858643],[0.8496739864349365,0.10805511474609375,0.07210946083068848,0.03433680534362793,0.019188404083251953,0.0,0.031044721603393555,0.1431589126586914,0.7610573768615723,1.230470895767212,1.3172602653503418,1.273056983947754,1.247387170791626,1.2726972103118896,1.2580933570861816,1.2345714569091797,1.2210359573364258,1.2167470455169678,1.213921308517456,1.1711339950561523,1.1413743495941162,1.0938804149627686,0.9965412616729736,0.952406644821167,0.9206764698028564,0.9033591747283936,0.8852899074554443,0.8764939308166504,0.8576459884643555,0.8421177864074707,0.8364837169647217,0.8280041217803955,0.8218390941619873,0.8194675445556641,0.8163070678710938,0.8198964595794678,0.8250455856323242,0.8300340175628662,0.8349730968475342,0.831146240234375,0.8302416801452637,0.8334574699401855,0.8404173851013184,0.8166060447692871],[0.812608003616333,0.14237499237060547,0.11552762985229492,0.07539057731628418,0.053728580474853516,0.02655339241027832,0.0,0.06553268432617188,0.6240966320037842,1.1604950428009033,1.2774152755737305,1.2340912818908691,1.2033371925354004,1.2206344604492188,1.199753761291504,1.1722781658172607,1.1522998809814453,1.135162115097046,1.1207547187805176,1.073166847229004,1.0422015190124512,0.9968559741973877,0.9049553871154785,0.8664770126342773,0.8415534496307373,0.8297367095947266,0.8182806968688965,0.8142228126525879,0.80008864402771,0.7882657051086426,0.7846424579620361,0.7783448696136475,0.7739207744598389,0.7723584175109863,0.7699558734893799,0.7735757827758789,0.7792472839355469,0.7841928005218506,0.788672924041748,0.784724235534668,0.7837538719177246,0.7865705490112305,0.7939271926879883,0.77388596534729],[0.7010078430175781,0.20543718338012695,0.21406173706054688,0.17772245407104492,0.1519913673400879,0.1327800750732422,0.06195974349975586,0.0,0.3175773620605469,0.9405379295349121,1.1399815082550049,1.1070778369903564,1.0709314346313477,1.0753352642059326,1.0433588027954102,1.0055656433105469,0.9731144905090332,0.9318380355834961,0.8972563743591309,0.8441140651702881,0.8127710819244385,0.7752833366394043,0.7023792266845703,0.677750825881958,0.6652560234069824,0.6604843139648438,0.6560530662536621,0.6569182872772217,0.6505331993103027,0.6449806690216064,0.6433916091918945,0.6399471759796143,0.6384704113006592,0.6377999782562256,0.6368458271026611,0.639554500579834,0.6451632976531982,0.6490120887756348,0.6525542736053467,0.6495711803436279,0.6487548351287842,0.6518661975860596,0.6606316566467285,0.6534421443939209],[0.4919949769973755,0.3690375089645386,0.4532052278518677,0.4276677370071411,0.408352255821228,0.42396223545074463,0.3487449884414673,0.12146890163421631,0.0,0.3217264413833618,0.6806508302688599,0.7145818471908569,0.7054611444473267,0.7017768621444702,0.6654616594314575,0.620388388633728,0.575666069984436,0.5203808546066284,0.4815109968185425,0.4555598497390747,0.45018017292022705,0.44391024112701416,0.47639548778533936,0.49711811542510986,0.4831181764602661,0.47736895084381104,0.47540032863616943,0.4647735357284546,0.46238553524017334,0.4650214910507202,0.4591625928878784,0.4562951326370239,0.4563335180282593,0.4572194814682007,0.4612010717391968,0.4571579694747925,0.45262277126312256,0.45018208026885986,0.450140118598938,0.4530986547470093,0.4527186155319214,0.45834290981292725,0.46477067470550537,0.48127281665802],[0.4107480049133301,0.5087413787841797,0.6204705238342285,0.5980403423309326,0.5860040187835693,0.632575273513794,0.6051135063171387,0.33009934425354004,0.20449209213256836,0.0,0.13996756076812744,0.2223193645477295,0.2643563747406006,0.274794340133667,0.2657907009124756,0.25058722496032715,0.234877347946167,0.22871661186218262,0.2572755813598633,0.32602953910827637,0.3768935203552246,0.38731813430786133,0.5229406356811523,0.568572998046875,0.5229339599609375,0.5196857452392578,0.5478942394256592,0.5240094661712646,0.5160071849822998,0.5224721431732178,0.506781816482544,0.5008559226989746,0.49931788444519043,0.504084587097168,0.5138821601867676,0.5029330253601074,0.48429417610168457,0.4760556221008301,0.47188377380371094,0.4799022674560547,0.4775087833404541,0.48450732231140137,0.4818382263183594,0.49257588386535645],[0.4655987024307251,0.6195715665817261,0.7291046380996704,0.7090975046157837,0.7035764455795288,0.766750693321228,0.7803822755813599,0.5113877058029175,0.46609771251678467,0.1297931671142578,0.0,0.02438175678253174,0.06035721302032471,0.08258771896362305,0.09680390357971191,0.10310173034667969,0.10956788063049316,0.13916313648223877,0.2125535011291504,0.32795631885528564,0.40144121646881104,0.4096258878707886,0.5650571584701538,0.618510365486145,0.5699576139450073,0.5907560586929321,0.6783102750778198,0.6670907735824585,0.6636160612106323,0.6780573129653931,0.6595059633255005,0.6541386842727661,0.6540066003799438,0.6645854711532593,0.6800862550735474,0.6661700010299683,0.6405571699142456,0.6302119493484497,0.623975396156311,0.6340945959091187,0.628973126411438,0.6382938623428345,0.6318603754043579,0.6323264837265015],[0.5181329250335693,0.6750924587249756,0.7738986015319824,0.7527129650115967,0.7469818592071533,0.8085272312164307,0.8356106281280518,0.590822696685791,0.5834238529205322,0.24337029457092285,0.03523755073547363,0.0,0.017311573028564453,0.04179525375366211,0.0641711950302124,0.07336366176605225,0.0824652910232544,0.11819314956665039,0.19512689113616943,0.3081463575363159,0.38220715522766113,0.39401841163635254,0.5441386699676514,0.6044483184814453,0.5675990581512451,0.6080234050750732,0.7358725070953369,0.7411491870880127,0.7440733909606934,0.7639031410217285,0.7442150115966797,0.7394568920135498,0.7396543025970459,0.7531301975250244,0.7713935375213623,0.75777268409729,0.7321674823760986,0.7237069606781006,0.717139482498169,0.7287390232086182,0.7232544422149658,0.737861156463623,0.7349410057067871,0.7338323593139648],[0.5551879405975342,0.7175190448760986,0.8037056922912598,0.7815136909484863,0.7753305435180664,0.8328862190246582,0.8667669296264648,0.6576857566833496,0.6689515113830566,0.32974135875701904,0.08569765090942383,0.02315390110015869,0.0,0.012451171875,0.03014540672302246,0.040667057037353516,0.05222296714782715,0.08954989910125732,0.1638249158859253,0.27044105529785156,0.3442707061767578,0.3637923002243042,0.5167019367218018,0.5867786407470703,0.5643622875213623,0.6188869476318359,0.772489070892334,0.789921760559082,0.8002097606658936,0.8265230655670166,0.8087601661682129,0.8066830635070801,0.8103580474853516,0.826934814453125,0.8486542701721191,0.8363857269287109,0.8126487731933594,0.8056035041809082,0.799252986907959,0.8133807182312012,0.8073461055755615,0.8256399631500244,0.8261294364929199,0.837252140045166],[0.567420244216919,0.7406740188598633,0.8188621997833252,0.7953779697418213,0.7884583473205566,0.8419294357299805,0.8762986660003662,0.686368465423584,0.6982476711273193,0.3672904968261719,0.11918115615844727,0.049347639083862305,0.010418295860290527,0.0,0.008616328239440918,0.01737368106842041,0.028340578079223633,0.06120109558105469,0.12663233280181885,0.21971523761749268,0.28843069076538086,0.31555604934692383,0.4678521156311035,0.5451717376708984,0.5376267433166504,0.600480318069458,0.7668190002441406,0.792464017868042,0.808133602142334,0.8377265930175781,0.8217787742614746,0.8222846984863281,0.8290777206420898,0.8471252918243408,0.8707823753356934,0.8607015609741211,0.8408033847808838,0.836505651473999,0.8308372497558594,0.847341775894165,0.8418176174163818,0.8631081581115723,0.8675870895385742,0.8947474956512451],[0.5652923583984375,0.7462162971496582,0.8159768581390381,0.7916746139526367,0.783818244934082,0.8328900337219238,0.8654470443725586,0.6985776424407959,0.711132287979126,0.3933749198913574,0.15271437168121338,0.08323192596435547,0.031057357788085938,0.009091019630432129,0.0,0.006177067756652832,0.014792919158935547,0.03915846347808838,0.08928561210632324,0.16199123859405518,0.2203441858291626,0.25245368480682373,0.39297282695770264,0.47313129901885986,0.4830904006958008,0.5511069297790527,0.7217357158660889,0.75522780418396,0.7775752544403076,0.8107385635375977,0.7984189987182617,0.8024477958679199,0.8131043910980225,0.8326437473297119,0.8576569557189941,0.8506011962890625,0.8363854885101318,0.8348054885864258,0.8303942680358887,0.8488140106201172,0.8439321517944336,0.8659052848815918,0.8738398551940918,0.9219710826873779],[0.5958530902862549,0.7989773750305176,0.8689467906951904,0.8428044319152832,0.8324775695800781,0.8750779628753662,0.9003164768218994,0.7305865287780762,0.7346985340118408,0.43371009826660156,0.19746088981628418,0.12417197227478027,0.0590132474899292,0.025609731674194336,0.008388876914978027,0.0,0.004763960838317871,0.024273037910461426,0.06480205059051514,0.1225132942199707,0.17498493194580078,0.2136780023574829,0.3468663692474365,0.432020902633667,0.4575681686401367,0.5310428142547607,0.7073371410369873,0.7478365898132324,0.7757821083068848,0.810802698135376,0.8007256984710693,0.8070969581604004,0.8209390640258789,0.8416166305541992,0.8683836460113525,0.86466383934021,0.8566532135009766,0.8587117195129395,0.8558368682861328,0.8771889209747314,0.8734498023986816,0.8983051776885986,0.9120264053344727,0.9872462749481201],[0.6125459671020508,0.8260185718536377,0.891404390335083,0.8645508289337158,0.8523049354553223,0.8889312744140625,0.9094610214233398,0.7496638298034668,0.7467231750488281,0.46948182582855225,0.24553453922271729,0.17421412467956543,0.09755027294158936,0.05150282382965088,0.023730754852294922,0.006834506988525391,0.0,0.013444781303405762,0.042459726333618164,0.08205842971801758,0.12587952613830566,0.16858172416687012,0.28751683235168457,0.3739495277404785,0.41506075859069824,0.49224424362182617,0.6713378429412842,0.7199318408966064,0.7536699771881104,0.7912602424621582,0.7844910621643066,0.7938179969787598,0.8111798763275146,0.833320140838623,0.8619821071624756,0.8624587059020996,0.8614592552185059,0.868095874786377,0.8670358657836914,0.8912394046783447,0.8887364864349365,0.9160866737365723,0.9361340999603271,1.0378904342651367],[0.6137470006942749,0.84264075756073,0.9014946222305298,0.8734287023544312,0.8594735860824585,0.8879972696304321,0.901532769203186,0.7461274862289429,0.7267438173294067,0.4928140640258789,0.2985379695892334,0.2399061918258667,0.15693092346191406,0.09666085243225098,0.05391812324523926,0.024109244346618652,0.008595466613769531,0.0,0.013133406639099121,0.03447079658508301,0.06358587741851807,0.10174095630645752,0.19900965690612793,0.2808026075363159,0.33936309814453125,0.41928350925445557,0.5990642309188843,0.6586922407150269,0.7008799314498901,0.7424291372299194,0.7415426969528198,0.7555009126663208,0.7774840593338013,0.8014668226242065,0.8321813344955444,0.8377374410629272,0.8454939126968384,0.8576947450637817,0.85840904712677,0.8851932287216187,0.8839215040206909,0.9128671884536743,0.9382587671279907,1.066379189491272],[0.6041467189788818,0.8317553997039795,0.8794975280761719,0.8517050743103027,0.8371241092681885,0.8587238788604736,0.8654870986938477,0.723860502243042,0.6979491710662842,0.5058209896087646,0.3451204299926758,0.3035331964492798,0.2196117639541626,0.14876079559326172,0.09374010562896729,0.05279123783111572,0.02716231346130371,0.0059278011322021484,0.0,0.007773876190185547,0.022417306900024414,0.05082345008850098,0.11789965629577637,0.18646061420440674,0.2538635730743408,0.33106470108032227,0.5022060871124268,0.5723156929016113,0.6219382286071777,0.6670510768890381,0.6724050045013428,0.6910240650177002,0.7171998023986816,0.7430346012115479,0.775475263595581,0.7867989540100098,0.8041477203369141,0.8229224681854248,0.8258073329925537,0.8544223308563232,0.8542044162750244,0.8834726810455322,0.9142088890075684,1.0675194263458252],[0.604212760925293,0.8355528116226196,0.8770447969436646,0.8496335744857788,0.835171103477478,0.8539589643478394,0.8576306104660034,0.7165087461471558,0.6786974668502808,0.5246175527572632,0.3894054889678955,0.3598785400390625,0.2785557508468628,0.19861042499542236,0.13305044174194336,0.08105802536010742,0.04340946674346924,0.013418078422546387,0.0031235218048095703,0.0,0.009135007858276367,0.03106510639190674,0.07836627960205078,0.1368117332458496,0.2054615020751953,0.27970290184020996,0.4466646909713745,0.5258866548538208,0.5826503038406372,0.6328990459442139,0.6440824270248413,0.6679366827011108,0.6977392435073853,0.7262736558914185,0.7609647512435913,0.7778037786483765,0.8017095327377319,0.8256114721298218,0.8296395540237427,0.8583682775497437,0.8579655885696411,0.8861585855484009,0.9197317361831665,1.0830084085464478],[0.5985217094421387,0.8157691955566406,0.8488852977752686,0.8223159313201904,0.8086838722229004,0.8231041431427002,0.8256993293762207,0.7031271457672119,0.6629798412322998,0.5398095846176147,0.42985355854034424,0.4121744632720947,0.33342552185058594,0.2485712766647339,0.17432844638824463,0.1138920783996582,0.06549561023712158,0.025308728218078613,0.007658123970031738,0.001780867576599121,0.0,0.012942314147949219,0.04575216770172119,0.09256696701049805,0.15780341625213623,0.22911453247070312,0.39321160316467285,0.4804117679595947,0.5439728498458862,0.599799633026123,0.6161237955093384,0.6450377702713013,0.6782500743865967,0.7094199657440186,0.7459409236907959,0.7672102451324463,0.7955799102783203,0.8229119777679443,0.8273022174835205,0.8545668125152588,0.8530797958374023,0.8788778781890869,0.9143021106719971,1.0852773189544678],[0.5763194561004639,0.7716881036758423,0.7930349111557007,0.7688051462173462,0.7579969167709351,0.7727938890457153,0.7795222997665405,0.6738294363021851,0.6389205455780029,0.5561681985855103,0.4750100374221802,0.47057807445526123,0.3937019109725952,0.3053090572357178,0.22201156616210938,0.15448665618896484,0.09520697593688965,0.04524409770965576,0.020006179809570312,0.01069939136505127,0.0032933950424194336,0.0,0.016367793083190918,0.046722412109375,0.10042107105255127,0.16233456134796143,0.3142892122268677,0.4075063467025757,0.4782658815383911,0.5404685735702515,0.5644664764404297,0.5998343229293823,0.6366605758666992,0.6704782247543335,0.7078760862350464,0.7344299554824829,0.7671817541122437,0.7975047826766968,0.8022741079330444,0.8260034322738647,0.8229533433914185,0.8414729833602905,0.8736313581466675,1.0378931760787964],[0.5342264175415039,0.6822072267532349,0.6912655830383301,0.6707510948181152,0.6622097492218018,0.6728314161300659,0.6807340383529663,0.6061360836029053,0.5821249485015869,0.537861704826355,0.488200306892395,0.49610280990600586,0.4259086847305298,0.34163546562194824,0.2558891773223877,0.18584132194519043,0.11849033832550049,0.06514096260070801,0.03736603260040283,0.025891423225402832,0.014904975891113281,0.005291104316711426,0.0,0.012021064758300781,0.04475903511047363,0.08800053596496582,0.2088860273361206,0.30225229263305664,0.37682628631591797,0.4440121650695801,0.47664785385131836,0.5183683633804321,0.5574711561203003,0.5931602716445923,0.6296210289001465,0.6616681814193726,0.6976687908172607,0.7296290397644043,0.7343381643295288,0.751104474067688,0.7456036806106567,0.7530511617660522,0.7787226438522339,0.9280565977096558],[0.5188426971435547,0.641559362411499,0.6446137428283691,0.626151442527771,0.6184992790222168,0.6254839897155762,0.6315406560897827,0.5702042579650879,0.5458254814147949,0.5332282781600952,0.508777379989624,0.5276459455490112,0.4655677080154419,0.38547706604003906,0.2986706495285034,0.22650933265686035,0.15075087547302246,0.09142041206359863,0.05808758735656738,0.04277193546295166,0.02829611301422119,0.01337587833404541,0.0022815465927124023,0.0,0.01791977882385254,0.047322750091552734,0.14394891262054443,0.23214125633239746,0.3071403503417969,0.37564754486083984,0.41388189792633057,0.4597513675689697,0.5008251667022705,0.5369782447814941,0.571853518486023,0.6061912775039673,0.644254207611084,0.6761733293533325,0.6807001829147339,0.6926625967025757,0.6847754716873169,0.681973934173584,0.699958324432373,0.8452351093292236],[0.4673546552658081,0.5624344348907471,0.5603309869766235,0.545177698135376,0.5389049053192139,0.5427074432373047,0.5456981658935547,0.5002505779266357,0.4732755422592163,0.4892069101333618,0.491025447845459,0.5229023694992065,0.4754979610443115,0.4037508964538574,0.32098388671875,0.25166451930999756,0.17090439796447754,0.10894346237182617,0.07406210899353027,0.05905020236968994,0.04493153095245361,0.02847278118133545,0.01593649387359619,0.0065953731536865234,0.0,0.01107931137084961,0.06848788261413574,0.13766121864318848,0.20246994495391846,0.2649681568145752,0.3039569854736328,0.3496140241622925,0.38939154148101807,0.4227246046066284,0.45406126976013184,0.487750768661499,0.5256352424621582,0.5555086135864258,0.5598386526107788,0.5671850442886353,0.5576162338256836,0.5464375019073486,0.5581896305084229,0.7020585536956787],[0.4368983507156372,0.5129789113998413,0.508959174156189,0.49580812454223633,0.49013805389404297,0.49174046516418457,0.4910550117492676,0.44660449028015137,0.42254674434661865,0.4511321783065796,0.4677184820175171,0.5117930173873901,0.4781644344329834,0.4154466390609741,0.3384528160095215,0.27259910106658936,0.18858098983764648,0.12569260597229004,0.08962082862854004,0.07517111301422119,0.061533451080322266,0.04378938674926758,0.032566070556640625,0.020851969718933105,0.0053490400314331055,0.0,0.023919343948364258,0.0705711841583252,0.1210707426071167,0.17278873920440674,0.2092747688293457,0.2512136697769165,0.2884669303894043,0.3172142505645752,0.3433370590209961,0.3723456859588623,0.40816283226013184,0.4341847896575928,0.4371027946472168,0.440643310546875,0.4295388460159302,0.4104776382446289,0.4116767644882202,0.5504608154296875],[0.3905833959579468,0.4413728713989258,0.43657493591308594,0.426000714302063,0.4200063943862915,0.4172053337097168,0.4107629060745239,0.3708479404449463,0.34791040420532227,0.3840543031692505,0.4150735139846802,0.4707176685333252,0.4573174715042114,0.4105156660079956,0.3461090326309204,0.2883412837982178,0.2043551206588745,0.14330410957336426,0.109405517578125,0.0986487865447998,0.08753442764282227,0.07071805000305176,0.06352519989013672,0.05241894721984863,0.029713034629821777,0.01305234432220459,0.0,0.014211177825927734,0.04134845733642578,0.0742790699005127,0.10195040702819824,0.13479387760162354,0.1653226613998413,0.18723344802856445,0.2063523530960083,0.22749638557434082,0.2581075429916382,0.2789102792739868,0.28060364723205566,0.2814067602157593,0.2714710235595703,0.2519599199295044,0.2485266923904419,0.37087559700012207],[0.35698699951171875,0.39147984981536865,0.38624775409698486,0.3777031898498535,0.3716071844100952,0.3669639825820923,0.358154296875,0.32160377502441406,0.3011208772659302,0.33739173412323,0.37291812896728516,0.42979562282562256,0.42773258686065674,0.3905588388442993,0.3363887071609497,0.28645777702331543,0.20721840858459473,0.15123474597930908,0.1223975419998169,0.11625933647155762,0.1079871654510498,0.0932626724243164,0.09128522872924805,0.08243227005004883,0.05696463584899902,0.03737902641296387,0.010500907897949219,0.0,0.009454727172851562,0.027388334274291992,0.045918822288513184,0.06970846652984619,0.09391772747039795,0.11074590682983398,0.12486839294433594,0.140466570854187,0.16601145267486572,0.18363511562347412,0.18518412113189697,0.1856532096862793,0.17899715900421143,0.16675996780395508,0.16854000091552734,0.2724316120147705],[0.33096444606781006,0.35564982891082764,0.350308895111084,0.3431318998336792,0.3371920585632324,0.3319234848022461,0.32223737239837646,0.2868618965148926,0.2688509225845337,0.3024493455886841,0.33782315254211426,0.39205312728881836,0.3962528705596924,0.3651024103164673,0.31903016567230225,0.27584242820739746,0.2029566764831543,0.15293395519256592,0.1298466920852661,0.12800610065460205,0.12234294414520264,0.10980892181396484,0.11281156539916992,0.10669934749603271,0.08063161373138428,0.061594247817993164,0.030498981475830078,0.006049156188964844,0.0,0.006706833839416504,0.01749587059020996,0.03341484069824219,0.051801443099975586,0.06477916240692139,0.07556772232055664,0.08742821216583252,0.10888659954071045,0.1240164041519165,0.12617111206054688,0.12731719017028809,0.12412118911743164,0.11938738822937012,0.12816238403320312,0.2150508165359497],[0.3109248876571655,0.3276749849319458,0.3225201368331909,0.3163778781890869,0.3106858730316162,0.3053795099258423,0.29572951793670654,0.262958288192749,0.2479339838027954,0.2770874500274658,0.30933868885040283,0.35874736309051514,0.3657705783843994,0.3388622999191284,0.2995692491531372,0.2622894048690796,0.1970900297164917,0.1535261869430542,0.13622844219207764,0.13901710510253906,0.13583195209503174,0.12558984756469727,0.13334619998931885,0.13009190559387207,0.10480546951293945,0.08702218532562256,0.05476272106170654,0.02089405059814453,0.005328655242919922,0.0,0.003916144371032715,0.012996077537536621,0.026122570037841797,0.03597736358642578,0.04415929317474365,0.0531538724899292,0.07072532176971436,0.08364081382751465,0.08648419380187988,0.08902037143707275,0.08967745304107666,0.09272265434265137,0.10938489437103271,0.17932569980621338],[0.29982268810272217,0.31216514110565186,0.3072476387023926,0.30183684825897217,0.2963470220565796,0.29123926162719727,0.28190839290618896,0.2506382465362549,0.23713386058807373,0.2627384662628174,0.2920891046524048,0.3363637924194336,0.3447989225387573,0.3208165168762207,0.286984920501709,0.25458693504333496,0.19567608833312988,0.15705657005310059,0.14373111724853516,0.14889144897460938,0.14698052406311035,0.13779044151306152,0.1477222442626953,0.14605796337127686,0.12129437923431396,0.10532116889953613,0.07400083541870117,0.0354083776473999,0.014159202575683594,0.0029224157333374023,0.0,0.00403439998626709,0.012847185134887695,0.02008640766143799,0.026380300521850586,0.03316330909729004,0.047392964363098145,0.05880606174468994,0.06218826770782471,0.06569159030914307,0.06920814514160156,0.07803547382354736,0.10133063793182373,0.1619964838027954],[0.29160094261169434,0.300067663192749,0.29545342922210693,0.2906663417816162,0.2852640151977539,0.28041505813598633,0.2712641954421997,0.24096286296844482,0.2290201187133789,0.2506403923034668,0.27657008171081543,0.31592774391174316,0.3245525360107422,0.303206205368042,0.27395379543304443,0.24559950828552246,0.19325625896453857,0.16029667854309082,0.1521003246307373,0.160599946975708,0.16049599647521973,0.15304052829742432,0.16604137420654297,0.16620945930480957,0.1423187255859375,0.12787675857543945,0.09765386581420898,0.05462789535522461,0.027663588523864746,0.010998725891113281,0.003421187400817871,0.0,0.004303693771362305,0.00908350944519043,0.013779878616333008,0.01891779899597168,0.0297544002532959,0.03976798057556152,0.044226884841918945,0.04898190498352051,0.055063486099243164,0.06928884983062744,0.09932971000671387,0.15115690231323242],[0.28494662046432495,0.29151982069015503,0.28728312253952026,0.28303664922714233,0.2778835892677307,0.2732775807380676,0.26465338468551636,0.23634988069534302,0.22562438249588013,0.24491947889328003,0.26785820722579956,0.3025922179222107,0.31076401472091675,0.2912047505378723,0.26561862230300903,0.2406814694404602,0.19372552633285522,0.16450506448745728,0.15855735540390015,0.16778820753097534,0.16839462518692017,0.1618451476097107,0.17545408010482788,0.17642980813980103,0.15399569272994995,0.1418418288230896,0.11423677206039429,0.07091778516769409,0.04141145944595337,0.021690428256988525,0.010776937007904053,0.0028510689735412598,0.0,0.002140820026397705,0.005281388759613037,0.0088767409324646,0.016314446926116943,0.02438896894454956,0.029103219509124756,0.03416663408279419,0.04205423593521118,0.059774816036224365,0.09526950120925903,0.14391762018203735],[0.28268736600875854,0.2892826199531555,0.2855204939842224,0.2815418839454651,0.27680832147598267,0.27248305082321167,0.2645038962364197,0.23731690645217896,0.2272626757621765,0.24606436491012573,0.26812416315078735,0.3007354140281677,0.3087100386619568,0.28996747732162476,0.26601260900497437,0.24280637502670288,0.19802743196487427,0.1699886918067932,0.1637839674949646,0.17197555303573608,0.17216235399246216,0.1657608151435852,0.1786709427833557,0.17948561906814575,0.15799468755722046,0.14730292558670044,0.12208610773086548,0.08000701665878296,0.0498848557472229,0.029061734676361084,0.01649785041809082,0.006590127944946289,0.0012917518615722656,0.0,0.002018153667449951,0.0042228102684021,0.009470224380493164,0.01613008975982666,0.020879626274108887,0.02607673406600952,0.034510791301727295,0.05331140756607056,0.09081274271011353,0.13923925161361694],[0.2742757797241211,0.2799263000488281,0.27657222747802734,0.2728928327560425,0.26844656467437744,0.2643857002258301,0.25695574283599854,0.23156273365020752,0.22204697132110596,0.2394874095916748,0.2604184150695801,0.2908550500869751,0.2984457015991211,0.2807486057281494,0.2585643529891968,0.23713982105255127,0.19504821300506592,0.1687462329864502,0.1628025770187378,0.17045724391937256,0.17055892944335938,0.16465353965759277,0.17718219757080078,0.1783769130706787,0.15848267078399658,0.14891278743743896,0.12605953216552734,0.08506441116333008,0.05497157573699951,0.033514320850372314,0.02011585235595703,0.009315013885498047,0.002842545509338379,0.0005541443824768066,0.0,0.0015153884887695312,0.005303382873535156,0.01108396053314209,0.015519380569458008,0.020736753940582275,0.02959465980529785,0.0494077205657959,0.08812963962554932,0.13202941417694092],[0.2789188027381897,0.2840670943260193,0.2811107039451599,0.27759450674057007,0.2732927203178406,0.2693853974342346,0.26215440034866333,0.2365162968635559,0.2274269461631775,0.24317258596420288,0.2617974877357483,0.2893262505531311,0.2960430979728699,0.27919095754623413,0.2589723467826843,0.23946672677993774,0.20029324293136597,0.175717294216156,0.16980761289596558,0.17624717950820923,0.1755390763282776,0.1687672734260559,0.17983990907669067,0.18015581369400024,0.1606321930885315,0.1513645052909851,0.12998229265213013,0.091000497341156,0.06163370609283447,0.040235698223114014,0.02592027187347412,0.014442622661590576,0.00691598653793335,0.00337296724319458,0.0022605061531066895,0.0,0.0022280216217041016,0.006484687328338623,0.010254204273223877,0.0155373215675354,0.02496659755706787,0.04584759473800659,0.08770662546157837,0.1318870186805725],[0.27737629413604736,0.2816725969314575,0.2792767286300659,0.2761486768722534,0.2722219228744507,0.26859450340270996,0.2619704008102417,0.2390505075454712,0.23101305961608887,0.245172381401062,0.261218786239624,0.2851971387863159,0.2906738519668579,0.27502191066741943,0.2573024034500122,0.24033582210540771,0.20542001724243164,0.18303191661834717,0.17694437503814697,0.1819700002670288,0.18078768253326416,0.17452549934387207,0.184531569480896,0.18504023551940918,0.16742932796478271,0.15967392921447754,0.14069926738739014,0.10430753231048584,0.07563990354537964,0.0539737343788147,0.03831970691680908,0.02494645118713379,0.015063822269439697,0.00969541072845459,0.00731968879699707,0.003646373748779297,0.0,0.003090798854827881,0.006357550621032715,0.011958181858062744,0.021912217140197754,0.043998003005981445,0.08873116970062256,0.13063359260559082],[0.27079981565475464,0.27670711278915405,0.27498000860214233,0.2720627188682556,0.26886337995529175,0.26552098989486694,0.2596755623817444,0.23848551511764526,0.23168915510177612,0.24593883752822876,0.2607209086418152,0.28267019987106323,0.2871301770210266,0.2719932198524475,0.25596410036087036,0.24078232049942017,0.20766466856002808,0.184856116771698,0.17524904012680054,0.17662209272384644,0.17398089170455933,0.1669943928718567,0.17431706190109253,0.17405694723129272,0.15841060876846313,0.15222495794296265,0.13648957014083862,0.10534542798995972,0.07989484071731567,0.06038886308670044,0.045759618282318115,0.03305840492248535,0.02263665199279785,0.016395866870880127,0.01349562406539917,0.008470773696899414,0.003544628620147705,0.0,0.002782106399536133,0.007472693920135498,0.015944719314575195,0.03599792718887329,0.08000421524047852,0.12309163808822632],[0.26379889249801636,0.2710720896720886,0.26973313093185425,0.26694291830062866,0.26418155431747437,0.26095157861709595,0.2554634213447571,0.23605161905288696,0.23020225763320923,0.2451733946800232,0.26023024320602417,0.2825321555137634,0.2863052487373352,0.2712557911872864,0.25517040491104126,0.2397943139076233,0.2062503695487976,0.18193882703781128,0.16957956552505493,0.168470561504364,0.16479915380477905,0.1571771502494812,0.1623782515525818,0.1611366868019104,0.14654541015625,0.1405264139175415,0.12646430730819702,0.09929847717285156,0.0771249532699585,0.06018179655075073,0.047069013118743896,0.03618711233139038,0.026451945304870605,0.020364880561828613,0.017262816429138184,0.011523544788360596,0.005860745906829834,0.0018691420555114746,0.0,0.0035962462425231934,0.010252416133880615,0.027339935302734375,0.06813222169876099,0.11343669891357422],[0.2524717450141907,0.2618332505226135,0.2609146237373352,0.2583029866218567,0.2560005784034729,0.2529301047325134,0.247935950756073,0.23043674230575562,0.22479254007339478,0.24107366800308228,0.2570644021034241,0.280142605304718,0.2841723561286926,0.26933425664901733,0.25318747758865356,0.23767155408859253,0.2031819224357605,0.17709189653396606,0.16167157888412476,0.15759611129760742,0.1529260277748108,0.14464163780212402,0.14740121364593506,0.14569610357284546,0.13242989778518677,0.1268613338470459,0.1147577166557312,0.09175699949264526,0.07310158014297485,0.059206366539001465,0.04804486036300659,0.039346396923065186,0.030458927154541016,0.0245400071144104,0.021416425704956055,0.015553891658782959,0.009594738483428955,0.004600942134857178,0.0018062591552734375,0.0,0.004688143730163574,0.018230020999908447,0.05471569299697876,0.10126751661300659],[0.2511146664619446,0.2650752663612366,0.2646006941795349,0.26197928190231323,0.2602371573448181,0.2572481036186218,0.25265246629714966,0.23547250032424927,0.23037225008010864,0.24892276525497437,0.26668256521224976,0.2917802929878235,0.2959964871406555,0.28067225217819214,0.26339012384414673,0.24713736772537231,0.20961827039718628,0.17941725254058838,0.1580899953842163,0.1489463448524475,0.14223533868789673,0.1325925588607788,0.1313818097114563,0.128027081489563,0.1157447099685669,0.11055511236190796,0.10017228126525879,0.08262807130813599,0.06870239973068237,0.059330761432647705,0.05166661739349365,0.04609513282775879,0.039400458335876465,0.03418022394180298,0.03127431869506836,0.025221586227416992,0.018470168113708496,0.011544227600097656,0.00698775053024292,0.003265082836151123,0.0,0.008397042751312256,0.037559449672698975,0.08956283330917358],[0.2390781044960022,0.2609834671020508,0.26120495796203613,0.2583962678909302,0.25756192207336426,0.2546733617782593,0.25079429149627686,0.23553931713104248,0.231065571308136,0.25317108631134033,0.2737647294998169,0.30285966396331787,0.3072727918624878,0.29119372367858887,0.2716468572616577,0.25399231910705566,0.21189343929290771,0.17583787441253662,0.1463809609413147,0.1307627558708191,0.12193822860717773,0.11173206567764282,0.10650181770324707,0.10204637050628662,0.09237813949584961,0.0887572169303894,0.08226686716079712,0.07311731576919556,0.0661393404006958,0.06342566013336182,0.06074100732803345,0.060141801834106445,0.05686652660369873,0.05298435688018799,0.05083417892456055,0.04474198818206787,0.037273526191711426,0.028011739253997803,0.020730435848236084,0.013726651668548584,0.005493462085723877,0.0,0.016704797744750977,0.07120770215988159],[0.22317975759506226,0.25742489099502563,0.25844651460647583,0.2550075650215149,0.25544464588165283,0.2527451515197754,0.24931442737579346,0.23344558477401733,0.2295803427696228,0.25572603940963745,0.28029030561447144,0.3159657120704651,0.32156866788864136,0.30449897050857544,0.2814263701438904,0.2624366283416748,0.2141548991203308,0.17048311233520508,0.13085579872131348,0.10804063081741333,0.09750521183013916,0.08720225095748901,0.07824546098709106,0.07315492630004883,0.06767255067825317,0.06597316265106201,0.06474369764328003,0.0660165548324585,0.0684615969657898,0.07504063844680786,0.08006048202514648,0.08761483430862427,0.09093546867370605,0.0906105637550354,0.08990472555160522,0.08530992269515991,0.07889008522033691,0.0683828592300415,0.058185458183288574,0.04731696844100952,0.031067728996276855,0.012783944606781006,0.0,0.04436016082763672],[0.11060875654220581,0.1430288553237915,0.14430874586105347,0.1418846845626831,0.14322435855865479,0.14108902215957642,0.13789862394332886,0.12460595369338989,0.12221956253051758,0.14162951707839966,0.16163069009780884,0.19350916147232056,0.20250719785690308,0.19143444299697876,0.1746453046798706,0.16387027502059937,0.12798213958740234,0.09416830539703369,0.06190228462219238,0.04726892709732056,0.04343169927597046,0.041622281074523926,0.04479527473449707,0.049870193004608154,0.05562013387680054,0.06033980846405029,0.0681186318397522,0.06909358501434326,0.06978178024291992,0.07433760166168213,0.08004415035247803,0.08883464336395264,0.09578603506088257,0.09985584020614624,0.10043561458587646,0.10127133131027222,0.10017120838165283,0.09611064195632935,0.08945959806442261,0.08245676755905151,0.07171040773391724,0.056495845317840576,0.03305238485336304,0.0]],\"type\":\"surface\"}],                        {\"template\":{\"data\":{\"histogram2dcontour\":[{\"type\":\"histogram2dcontour\",\"colorbar\":{\"outlinewidth\":0,\"ticks\":\"\"},\"colorscale\":[[0.0,\"#0d0887\"],[0.1111111111111111,\"#46039f\"],[0.2222222222222222,\"#7201a8\"],[0.3333333333333333,\"#9c179e\"],[0.4444444444444444,\"#bd3786\"],[0.5555555555555556,\"#d8576b\"],[0.6666666666666666,\"#ed7953\"],[0.7777777777777778,\"#fb9f3a\"],[0.8888888888888888,\"#fdca26\"],[1.0,\"#f0f921\"]]}],\"choropleth\":[{\"type\":\"choropleth\",\"colorbar\":{\"outlinewidth\":0,\"ticks\":\"\"}}],\"histogram2d\":[{\"type\":\"histogram2d\",\"colorbar\":{\"outlinewidth\":0,\"ticks\":\"\"},\"colorscale\":[[0.0,\"#0d0887\"],[0.1111111111111111,\"#46039f\"],[0.2222222222222222,\"#7201a8\"],[0.3333333333333333,\"#9c179e\"],[0.4444444444444444,\"#bd3786\"],[0.5555555555555556,\"#d8576b\"],[0.6666666666666666,\"#ed7953\"],[0.7777777777777778,\"#fb9f3a\"],[0.8888888888888888,\"#fdca26\"],[1.0,\"#f0f921\"]]}],\"heatmap\":[{\"type\":\"heatmap\",\"colorbar\":{\"outlinewidth\":0,\"ticks\":\"\"},\"colorscale\":[[0.0,\"#0d0887\"],[0.1111111111111111,\"#46039f\"],[0.2222222222222222,\"#7201a8\"],[0.3333333333333333,\"#9c179e\"],[0.4444444444444444,\"#bd3786\"],[0.5555555555555556,\"#d8576b\"],[0.6666666666666666,\"#ed7953\"],[0.7777777777777778,\"#fb9f3a\"],[0.8888888888888888,\"#fdca26\"],[1.0,\"#f0f921\"]]}],\"heatmapgl\":[{\"type\":\"heatmapgl\",\"colorbar\":{\"outlinewidth\":0,\"ticks\":\"\"},\"colorscale\":[[0.0,\"#0d0887\"],[0.1111111111111111,\"#46039f\"],[0.2222222222222222,\"#7201a8\"],[0.3333333333333333,\"#9c179e\"],[0.4444444444444444,\"#bd3786\"],[0.5555555555555556,\"#d8576b\"],[0.6666666666666666,\"#ed7953\"],[0.7777777777777778,\"#fb9f3a\"],[0.8888888888888888,\"#fdca26\"],[1.0,\"#f0f921\"]]}],\"contourcarpet\":[{\"type\":\"contourcarpet\",\"colorbar\":{\"outlinewidth\":0,\"ticks\":\"\"}}],\"contour\":[{\"type\":\"contour\",\"colorbar\":{\"outlinewidth\":0,\"ticks\":\"\"},\"colorscale\":[[0.0,\"#0d0887\"],[0.1111111111111111,\"#46039f\"],[0.2222222222222222,\"#7201a8\"],[0.3333333333333333,\"#9c179e\"],[0.4444444444444444,\"#bd3786\"],[0.5555555555555556,\"#d8576b\"],[0.6666666666666666,\"#ed7953\"],[0.7777777777777778,\"#fb9f3a\"],[0.8888888888888888,\"#fdca26\"],[1.0,\"#f0f921\"]]}],\"surface\":[{\"type\":\"surface\",\"colorbar\":{\"outlinewidth\":0,\"ticks\":\"\"},\"colorscale\":[[0.0,\"#0d0887\"],[0.1111111111111111,\"#46039f\"],[0.2222222222222222,\"#7201a8\"],[0.3333333333333333,\"#9c179e\"],[0.4444444444444444,\"#bd3786\"],[0.5555555555555556,\"#d8576b\"],[0.6666666666666666,\"#ed7953\"],[0.7777777777777778,\"#fb9f3a\"],[0.8888888888888888,\"#fdca26\"],[1.0,\"#f0f921\"]]}],\"mesh3d\":[{\"type\":\"mesh3d\",\"colorbar\":{\"outlinewidth\":0,\"ticks\":\"\"}}],\"scatter\":[{\"fillpattern\":{\"fillmode\":\"overlay\",\"size\":10,\"solidity\":0.2},\"type\":\"scatter\"}],\"parcoords\":[{\"type\":\"parcoords\",\"line\":{\"colorbar\":{\"outlinewidth\":0,\"ticks\":\"\"}}}],\"scatterpolargl\":[{\"type\":\"scatterpolargl\",\"marker\":{\"colorbar\":{\"outlinewidth\":0,\"ticks\":\"\"}}}],\"bar\":[{\"error_x\":{\"color\":\"#2a3f5f\"},\"error_y\":{\"color\":\"#2a3f5f\"},\"marker\":{\"line\":{\"color\":\"#E5ECF6\",\"width\":0.5},\"pattern\":{\"fillmode\":\"overlay\",\"size\":10,\"solidity\":0.2}},\"type\":\"bar\"}],\"scattergeo\":[{\"type\":\"scattergeo\",\"marker\":{\"colorbar\":{\"outlinewidth\":0,\"ticks\":\"\"}}}],\"scatterpolar\":[{\"type\":\"scatterpolar\",\"marker\":{\"colorbar\":{\"outlinewidth\":0,\"ticks\":\"\"}}}],\"histogram\":[{\"marker\":{\"pattern\":{\"fillmode\":\"overlay\",\"size\":10,\"solidity\":0.2}},\"type\":\"histogram\"}],\"scattergl\":[{\"type\":\"scattergl\",\"marker\":{\"colorbar\":{\"outlinewidth\":0,\"ticks\":\"\"}}}],\"scatter3d\":[{\"type\":\"scatter3d\",\"line\":{\"colorbar\":{\"outlinewidth\":0,\"ticks\":\"\"}},\"marker\":{\"colorbar\":{\"outlinewidth\":0,\"ticks\":\"\"}}}],\"scattermapbox\":[{\"type\":\"scattermapbox\",\"marker\":{\"colorbar\":{\"outlinewidth\":0,\"ticks\":\"\"}}}],\"scatterternary\":[{\"type\":\"scatterternary\",\"marker\":{\"colorbar\":{\"outlinewidth\":0,\"ticks\":\"\"}}}],\"scattercarpet\":[{\"type\":\"scattercarpet\",\"marker\":{\"colorbar\":{\"outlinewidth\":0,\"ticks\":\"\"}}}],\"carpet\":[{\"aaxis\":{\"endlinecolor\":\"#2a3f5f\",\"gridcolor\":\"white\",\"linecolor\":\"white\",\"minorgridcolor\":\"white\",\"startlinecolor\":\"#2a3f5f\"},\"baxis\":{\"endlinecolor\":\"#2a3f5f\",\"gridcolor\":\"white\",\"linecolor\":\"white\",\"minorgridcolor\":\"white\",\"startlinecolor\":\"#2a3f5f\"},\"type\":\"carpet\"}],\"table\":[{\"cells\":{\"fill\":{\"color\":\"#EBF0F8\"},\"line\":{\"color\":\"white\"}},\"header\":{\"fill\":{\"color\":\"#C8D4E3\"},\"line\":{\"color\":\"white\"}},\"type\":\"table\"}],\"barpolar\":[{\"marker\":{\"line\":{\"color\":\"#E5ECF6\",\"width\":0.5},\"pattern\":{\"fillmode\":\"overlay\",\"size\":10,\"solidity\":0.2}},\"type\":\"barpolar\"}],\"pie\":[{\"automargin\":true,\"type\":\"pie\"}]},\"layout\":{\"autotypenumbers\":\"strict\",\"colorway\":[\"#636efa\",\"#EF553B\",\"#00cc96\",\"#ab63fa\",\"#FFA15A\",\"#19d3f3\",\"#FF6692\",\"#B6E880\",\"#FF97FF\",\"#FECB52\"],\"font\":{\"color\":\"#2a3f5f\"},\"hovermode\":\"closest\",\"hoverlabel\":{\"align\":\"left\"},\"paper_bgcolor\":\"white\",\"plot_bgcolor\":\"#E5ECF6\",\"polar\":{\"bgcolor\":\"#E5ECF6\",\"angularaxis\":{\"gridcolor\":\"white\",\"linecolor\":\"white\",\"ticks\":\"\"},\"radialaxis\":{\"gridcolor\":\"white\",\"linecolor\":\"white\",\"ticks\":\"\"}},\"ternary\":{\"bgcolor\":\"#E5ECF6\",\"aaxis\":{\"gridcolor\":\"white\",\"linecolor\":\"white\",\"ticks\":\"\"},\"baxis\":{\"gridcolor\":\"white\",\"linecolor\":\"white\",\"ticks\":\"\"},\"caxis\":{\"gridcolor\":\"white\",\"linecolor\":\"white\",\"ticks\":\"\"}},\"coloraxis\":{\"colorbar\":{\"outlinewidth\":0,\"ticks\":\"\"}},\"colorscale\":{\"sequential\":[[0.0,\"#0d0887\"],[0.1111111111111111,\"#46039f\"],[0.2222222222222222,\"#7201a8\"],[0.3333333333333333,\"#9c179e\"],[0.4444444444444444,\"#bd3786\"],[0.5555555555555556,\"#d8576b\"],[0.6666666666666666,\"#ed7953\"],[0.7777777777777778,\"#fb9f3a\"],[0.8888888888888888,\"#fdca26\"],[1.0,\"#f0f921\"]],\"sequentialminus\":[[0.0,\"#0d0887\"],[0.1111111111111111,\"#46039f\"],[0.2222222222222222,\"#7201a8\"],[0.3333333333333333,\"#9c179e\"],[0.4444444444444444,\"#bd3786\"],[0.5555555555555556,\"#d8576b\"],[0.6666666666666666,\"#ed7953\"],[0.7777777777777778,\"#fb9f3a\"],[0.8888888888888888,\"#fdca26\"],[1.0,\"#f0f921\"]],\"diverging\":[[0,\"#8e0152\"],[0.1,\"#c51b7d\"],[0.2,\"#de77ae\"],[0.3,\"#f1b6da\"],[0.4,\"#fde0ef\"],[0.5,\"#f7f7f7\"],[0.6,\"#e6f5d0\"],[0.7,\"#b8e186\"],[0.8,\"#7fbc41\"],[0.9,\"#4d9221\"],[1,\"#276419\"]]},\"xaxis\":{\"gridcolor\":\"white\",\"linecolor\":\"white\",\"ticks\":\"\",\"title\":{\"standoff\":15},\"zerolinecolor\":\"white\",\"automargin\":true,\"zerolinewidth\":2},\"yaxis\":{\"gridcolor\":\"white\",\"linecolor\":\"white\",\"ticks\":\"\",\"title\":{\"standoff\":15},\"zerolinecolor\":\"white\",\"automargin\":true,\"zerolinewidth\":2},\"scene\":{\"xaxis\":{\"backgroundcolor\":\"#E5ECF6\",\"gridcolor\":\"white\",\"linecolor\":\"white\",\"showbackground\":true,\"ticks\":\"\",\"zerolinecolor\":\"white\",\"gridwidth\":2},\"yaxis\":{\"backgroundcolor\":\"#E5ECF6\",\"gridcolor\":\"white\",\"linecolor\":\"white\",\"showbackground\":true,\"ticks\":\"\",\"zerolinecolor\":\"white\",\"gridwidth\":2},\"zaxis\":{\"backgroundcolor\":\"#E5ECF6\",\"gridcolor\":\"white\",\"linecolor\":\"white\",\"showbackground\":true,\"ticks\":\"\",\"zerolinecolor\":\"white\",\"gridwidth\":2}},\"shapedefaults\":{\"line\":{\"color\":\"#2a3f5f\"}},\"annotationdefaults\":{\"arrowcolor\":\"#2a3f5f\",\"arrowhead\":0,\"arrowwidth\":1},\"geo\":{\"bgcolor\":\"white\",\"landcolor\":\"#E5ECF6\",\"subunitcolor\":\"white\",\"showland\":true,\"showlakes\":true,\"lakecolor\":\"white\"},\"title\":{\"x\":0.05},\"mapbox\":{\"style\":\"light\"}}},\"title\":{\"text\":\"GPT-NeoX 20B Transfer Excess CE\"},\"scene\":{\"xaxis\":{\"title\":{\"text\":\"Train Layer\"}},\"yaxis\":{\"title\":{\"text\":\"Test Layer\"}},\"zaxis\":{\"title\":{\"text\":\"bits per byte\"}}}},                        {\"responsive\": true}                    ).then(function(){\n",
       "                            \n",
       "var gd = document.getElementById('edd4c597-a287-4d66-a62d-3743aa336cd3');\n",
       "var x = new MutationObserver(function (mutations, observer) {{\n",
       "        var display = window.getComputedStyle(gd).display;\n",
       "        if (!display || display === 'none') {{\n",
       "            console.log([gd, 'removed!']);\n",
       "            Plotly.purge(gd);\n",
       "            observer.disconnect();\n",
       "        }}\n",
       "}});\n",
       "\n",
       "// Listen for the removal of the full notebook cells\n",
       "var notebookContainer = gd.closest('#notebook-container');\n",
       "if (notebookContainer) {{\n",
       "    x.observe(notebookContainer, {childList: true});\n",
       "}}\n",
       "\n",
       "// Listen for the clearing of the current output cell\n",
       "var outputEl = gd.closest('.output');\n",
       "if (outputEl) {{\n",
       "    x.observe(outputEl, {childList: true});\n",
       "}}\n",
       "\n",
       "                        })                };                });            </script>        </div>"
      ]
     },
     "metadata": {},
     "output_type": "display_data"
    }
   ],
   "source": [
    "import plotly.graph_objects as go\n",
    "\n",
    "x, y = vanilla_transfer['transfer_ce'].shape\n",
    "fig = go.Figure(\n",
    "    go.Surface(\n",
    "        x=th.arange(x),\n",
    "        y=th.arange(y),\n",
    "        z=(vanilla_transfer['transfer_ce'] - vanilla_transfer['transfer_ce'].diag()).T,\n",
    "    )\n",
    ").update_layout(\n",
    "    title=\"GPT-NeoX 20B Transfer Excess CE\"\n",
    ").update_scenes(\n",
    "    xaxis_title_text=\"Train Layer\",\n",
    "    yaxis_title_text=\"Test Layer\",\n",
    "    zaxis_title_text=\"bits per byte\"\n",
    ")\n",
    "fig"
   ]
  },
  {
   "cell_type": "code",
   "execution_count": null,
   "metadata": {},
   "outputs": [
    {
     "name": "stdout",
     "output_type": "stream",
     "text": [
      "TunedLens.load: ignoring config key 'sublayers'\n",
      "TunedLens.load: ignoring config key 'identity_init'\n",
      "TunedLens.load: ignoring config key 'dropout'\n",
      "TunedLens.load: ignoring config key 'shared_mlp_hidden_sizes'\n",
      "TunedLens.load: ignoring config key 'mlp_hidden_sizes'\n",
      "TunedLens.load: ignoring config key 'rank'\n"
     ]
    }
   ],
   "source": [
    "from tuned_lens import TunedLens\n",
    "\n",
    "lens = TunedLens.load(\"/mnt/ssd-1/nora/real-lenses/pythia/125m-deduped/affine/\")"
   ]
  },
  {
   "cell_type": "code",
   "execution_count": null,
   "metadata": {},
   "outputs": [
    {
     "data": {
      "text/plain": [
       "Text(0.5, 1.0, 'GPT Neo X 20B Tuned Lens Transfer Excess CE')"
      ]
     },
     "execution_count": 3,
     "metadata": {},
     "output_type": "execute_result"
    },
    {
     "data": {
      "image/png": "[encoded data removed]",
      "text/plain": [
       "<Figure size 1000x1000 with 2 Axes>"
      ]
     },
     "metadata": {},
     "output_type": "display_data"
    }
   ],
   "source": [
    "import matplotlib.pyplot as plt\n",
    "\n",
    "plt.figure(figsize=(10, 10))\n",
    "plt.matshow(\n",
    "    vanilla_transfer['transfer_ce'] - vanilla_transfer['transfer_ce'].diag(),\n",
    "    fignum=0\n",
    ")\n",
    "plt.colorbar()\n",
    "plt.xlabel(\"Test layer\")\n",
    "plt.ylabel(\"Train layer\")\n",
    "plt.title(\"GPT Neo X 20B Tuned Lens Transfer Excess CE\")"
   ]
  },
  {
   "cell_type": "code",
   "execution_count": null,
   "metadata": {},
   "outputs": [],
   "source": [
    "from tuned_lens import ResidualStats\n",
    "import torch as th\n",
    "\n",
    "stats = th.load(\n",
    "    \"/mnt/ssd-1/nora/real-lenses/pythia/13b-deduped/affine/eval/stream_stats.pt\",\n",
    "    map_location=\"cpu\"\n",
    ")"
   ]
  },
  {
   "cell_type": "code",
   "execution_count": null,
   "metadata": {},
   "outputs": [],
   "source": [
    "covmats = th.stack(list(stats.covariance()))\n",
    "covs = covmats.flatten(1)"
   ]
  },
  {
   "cell_type": "code",
   "execution_count": null,
   "metadata": {},
   "outputs": [],
   "source": [
    "L, Q = th.linalg.eigh(covmats)\n",
    "trimmed_L = L.clone()\n",
    "trimmed_L[:, -2:] = 0\n",
    "trimmed_covmats = Q @ th.diag_embed(trimmed_L) @ Q.mT\n",
    "trimmed_covs = trimmed_covmats.flatten(1)\n",
    "\n",
    "def frobenius_similarities(A):\n",
    "    A = A.flatten(1)\n",
    "    gram = A @ A.T\n",
    "    norms = A.norm(dim=-1, keepdim=True)\n",
    "\n",
    "    return gram / (norms * norms.T)"
   ]
  },
  {
   "cell_type": "code",
   "execution_count": 2,
   "metadata": {},
   "outputs": [
    {
     "ename": "NameError",
     "evalue": "name 'frobenius_similarities' is not defined",
     "output_type": "error",
     "traceback": [
      "\u001b[0;31m---------------------------------------------------------------------------\u001b[0m",
      "\u001b[0;31mNameError\u001b[0m                                 Traceback (most recent call last)",
      "Cell \u001b[0;32mIn[2], line 13\u001b[0m\n\u001b[1;32m      1\u001b[0m \u001b[39mfrom\u001b[39;00m \u001b[39mplotly\u001b[39;00m\u001b[39m.\u001b[39;00m\u001b[39msubplots\u001b[39;00m \u001b[39mimport\u001b[39;00m make_subplots\n\u001b[1;32m      2\u001b[0m \u001b[39mimport\u001b[39;00m \u001b[39mplotly\u001b[39;00m\u001b[39m.\u001b[39;00m\u001b[39mgraph_objects\u001b[39;00m \u001b[39mas\u001b[39;00m \u001b[39mgo\u001b[39;00m\n\u001b[1;32m      4\u001b[0m fig \u001b[39m=\u001b[39m make_subplots(\n\u001b[1;32m      5\u001b[0m     rows\u001b[39m=\u001b[39m\u001b[39m1\u001b[39m, cols\u001b[39m=\u001b[39m\u001b[39m2\u001b[39m,\n\u001b[1;32m      6\u001b[0m     horizontal_spacing\u001b[39m=\u001b[39m\u001b[39m0.05\u001b[39m,\n\u001b[1;32m      7\u001b[0m     \u001b[39m# shared_yaxes=True,\u001b[39;00m\n\u001b[1;32m      8\u001b[0m     subplot_titles\u001b[39m=\u001b[39m(\u001b[39m\"\u001b[39m\u001b[39mall principal components\u001b[39m\u001b[39m\"\u001b[39m, \u001b[39m\"\u001b[39m\u001b[39mw/o top 2 components\u001b[39m\u001b[39m\"\u001b[39m),\n\u001b[1;32m      9\u001b[0m     x_title\u001b[39m=\u001b[39m\u001b[39m\"\u001b[39m\u001b[39mLayer\u001b[39m\u001b[39m\"\u001b[39m,\n\u001b[1;32m     10\u001b[0m     y_title\u001b[39m=\u001b[39m\u001b[39m\"\u001b[39m\u001b[39mLayer\u001b[39m\u001b[39m\"\u001b[39m\n\u001b[1;32m     11\u001b[0m )\u001b[39m.\u001b[39madd_trace(\n\u001b[1;32m     12\u001b[0m     go\u001b[39m.\u001b[39mHeatmap(\n\u001b[0;32m---> 13\u001b[0m         z\u001b[39m=\u001b[39mfrobenius_similarities(covs)\u001b[39m.\u001b[39mcpu(),\n\u001b[1;32m     14\u001b[0m         coloraxis\u001b[39m=\u001b[39m\u001b[39m\"\u001b[39m\u001b[39mcoloraxis\u001b[39m\u001b[39m\"\u001b[39m\n\u001b[1;32m     15\u001b[0m     ),\n\u001b[1;32m     16\u001b[0m     row\u001b[39m=\u001b[39m\u001b[39m1\u001b[39m, col\u001b[39m=\u001b[39m\u001b[39m1\u001b[39m\n\u001b[1;32m     17\u001b[0m )\u001b[39m.\u001b[39madd_trace(\n\u001b[1;32m     18\u001b[0m     go\u001b[39m.\u001b[39mHeatmap(\n\u001b[1;32m     19\u001b[0m         z\u001b[39m=\u001b[39mfrobenius_similarities(trimmed_covs)\u001b[39m.\u001b[39mcpu(),\n\u001b[1;32m     20\u001b[0m         coloraxis\u001b[39m=\u001b[39m\u001b[39m\"\u001b[39m\u001b[39mcoloraxis\u001b[39m\u001b[39m\"\u001b[39m\n\u001b[1;32m     21\u001b[0m     ),\n\u001b[1;32m     22\u001b[0m     row\u001b[39m=\u001b[39m\u001b[39m1\u001b[39m, col\u001b[39m=\u001b[39m\u001b[39m2\u001b[39m\n\u001b[1;32m     23\u001b[0m )\u001b[39m.\u001b[39mupdate_layout(\n\u001b[1;32m     24\u001b[0m     coloraxis_colorbar\u001b[39m=\u001b[39m\u001b[39mdict\u001b[39m(\n\u001b[1;32m     25\u001b[0m         title\u001b[39m=\u001b[39m\u001b[39mdict\u001b[39m(\n\u001b[1;32m     26\u001b[0m             side\u001b[39m=\u001b[39m\u001b[39m\"\u001b[39m\u001b[39mright\u001b[39m\u001b[39m\"\u001b[39m,\n\u001b[1;32m     27\u001b[0m             text\u001b[39m=\u001b[39m\u001b[39m\"\u001b[39m\u001b[39mCosine similarity (Frobenius)\u001b[39m\u001b[39m\"\u001b[39m,\n\u001b[1;32m     28\u001b[0m         )\n\u001b[1;32m     29\u001b[0m     ),\n\u001b[1;32m     30\u001b[0m     title\u001b[39m=\u001b[39m\u001b[39m\"\u001b[39m\u001b[39mSimilarity of covariance across depth (Pythia 12B)\u001b[39m\u001b[39m\"\u001b[39m\n\u001b[1;32m     31\u001b[0m )\u001b[39m.\u001b[39mupdate_xaxes(\n\u001b[1;32m     32\u001b[0m     dtick\u001b[39m=\u001b[39m\u001b[39m5\u001b[39m\n\u001b[1;32m     33\u001b[0m )\u001b[39m.\u001b[39mupdate_yaxes(\n\u001b[1;32m     34\u001b[0m     dtick\u001b[39m=\u001b[39m\u001b[39m5\u001b[39m,\n\u001b[1;32m     35\u001b[0m )\n\u001b[1;32m     36\u001b[0m fig\n",
      "\u001b[0;31mNameError\u001b[0m: name 'frobenius_similarities' is not defined"
     ]
    }
   ],
   "source": [
    "from plotly.subplots import make_subplots\n",
    "import plotly.graph_objects as go\n",
    "\n",
    "fig = make_subplots(\n",
    "    rows=1, cols=2,\n",
    "    horizontal_spacing=0.05,\n",
    "    # shared_yaxes=True,\n",
    "    subplot_titles=(\"all principal components\", \"w/o top 2 components\"),\n",
    "    x_title=\"Layer\",\n",
    "    y_title=\"Layer\"\n",
    ").add_trace(\n",
    "    go.Heatmap(\n",
    "        z=frobenius_similarities(covs).cpu(),\n",
    "        coloraxis=\"coloraxis\"\n",
    "    ),\n",
    "    row=1, col=1\n",
    ").add_trace(\n",
    "    go.Heatmap(\n",
    "        z=frobenius_similarities(trimmed_covs).cpu(),\n",
    "        coloraxis=\"coloraxis\"\n",
    "    ),\n",
    "    row=1, col=2\n",
    ").update_layout(\n",
    "    coloraxis_colorbar=dict(\n",
    "        title=dict(\n",
    "            side=\"right\",\n",
    "            text=\"Cosine similarity (Frobenius)\",\n",
    "        )\n",
    "    ),\n",
    "    title=\"Similarity of covariance across depth (Pythia 12B)\"\n",
    ").update_xaxes(\n",
    "    dtick=5\n",
    ").update_yaxes(\n",
    "    dtick=5,\n",
    ")\n",
    "fig"
   ]
  },
  {
   "cell_type": "code",
   "execution_count": 14,
   "metadata": {},
   "outputs": [
    {
     "data": {
      "application/vnd.plotly.v1+json": {
       "config": {
        "plotlyServerURL": "https://plotly.com"
       },
       "data": [
        {
         "coloraxis": "coloraxis",
         "hovertemplate": "x: %{x}<br>y: %{y}<br>color: %{z}<extra></extra>",
         "name": "0",
         "type": "heatmap",
         "xaxis": "x",
         "yaxis": "y",
         "z": [
          [
           0,
           1.3451685905456543,
           1.351543664932251,
           1.3268630504608154,
           1.1801443099975586,
           1.0132769346237183,
           0.8409194946289062,
           0.6317591667175293,
           0.5596753358840942,
           0.4979863166809082,
           0.4805717468261719,
           0.48651123046875,
           0.4734865427017212,
           0.46962296962738037,
           0.48314762115478516,
           0.4885820150375366,
           0.5098001956939697,
           0.5308679342269897,
           0.5425930023193359,
           0.5684909820556641,
           0.5992696285247803,
           0.5876591205596924,
           0.5279816389083862,
           0.5074721574783325,
           0.4520326852798462,
           0.4022485017776489,
           0.35558921098709106,
           0.29939472675323486,
           0.2656741738319397,
           0.230499267578125,
           0.2072877287864685,
           0.19522196054458618,
           0.17269831895828247,
           0.1534101366996765,
           0.11718469858169556,
           0.07081615924835205
          ],
          [
           1.4833064079284668,
           0,
           0.10822510719299316,
           0.17242884635925293,
           0.21425127983093262,
           0.2987014055252075,
           0.34800124168395996,
           0.4263608455657959,
           0.45317113399505615,
           0.4541468620300293,
           0.4323378801345825,
           0.44440150260925293,
           0.42772650718688965,
           0.43127870559692383,
           0.4437295198440552,
           0.45088720321655273,
           0.47340238094329834,
           0.47918570041656494,
           0.49019062519073486,
           0.5192757844924927,
           0.5469107627868652,
           0.5424928665161133,
           0.49416565895080566,
           0.4710855484008789,
           0.43105053901672363,
           0.3888198137283325,
           0.3496090769767761,
           0.2962695360183716,
           0.2807238698005676,
           0.25528526306152344,
           0.24041229486465454,
           0.23203200101852417,
           0.21465939283370972,
           0.1983581781387329,
           0.17570960521697998,
           0.08534133434295654
          ],
          [
           1.591360092163086,
           0.12301158905029297,
           0,
           0.06770849227905273,
           0.13181138038635254,
           0.265170693397522,
           0.3674275875091553,
           0.5056474208831787,
           0.5470982789993286,
           0.558934211730957,
           0.5324182510375977,
           0.5433669090270996,
           0.5327743291854858,
           0.5470974445343018,
           0.5583240985870361,
           0.5648510456085205,
           0.5841034650802612,
           0.5776169300079346,
           0.5756721496582031,
           0.5979926586151123,
           0.619049072265625,
           0.6153974533081055,
           0.563549280166626,
           0.5386936664581299,
           0.4958232641220093,
           0.44514453411102295,
           0.40173059701919556,
           0.3423011302947998,
           0.3242242932319641,
           0.29517459869384766,
           0.27465349435806274,
           0.2647241950035095,
           0.24194198846817017,
           0.22241443395614624,
           0.19821280241012573,
           0.1076744794845581
          ],
          [
           1.653794765472412,
           0.19269824028015137,
           0.037030696868896484,
           0,
           0.05452847480773926,
           0.18557250499725342,
           0.29536986351013184,
           0.45089173316955566,
           0.5002149343490601,
           0.5180859565734863,
           0.4938826560974121,
           0.49799680709838867,
           0.48352158069610596,
           0.49613022804260254,
           0.5026544332504272,
           0.506732702255249,
           0.5286822319030762,
           0.5321369171142578,
           0.5420850515365601,
           0.5719374418258667,
           0.6094381809234619,
           0.6049089431762695,
           0.5519626140594482,
           0.5311183929443359,
           0.4857267141342163,
           0.4315394163131714,
           0.3857136368751526,
           0.33436477184295654,
           0.3075135350227356,
           0.27622997760772705,
           0.24860304594039917,
           0.2381400465965271,
           0.21015316247940063,
           0.1895098090171814,
           0.16163301467895508,
           0.09654957056045532
          ],
          [
           1.6752972602844238,
           0.28898000717163086,
           0.11995911598205566,
           0.04565095901489258,
           0,
           0.06278526782989502,
           0.13769149780273438,
           0.2522621154785156,
           0.30324721336364746,
           0.32671403884887695,
           0.3220592737197876,
           0.3260151147842407,
           0.3206672668457031,
           0.33757686614990234,
           0.3533289432525635,
           0.3750709295272827,
           0.40701770782470703,
           0.4288753271102905,
           0.45537662506103516,
           0.501861572265625,
           0.5459110736846924,
           0.5518358945846558,
           0.5029113292694092,
           0.4836221933364868,
           0.4341695308685303,
           0.38994908332824707,
           0.3507588505744934,
           0.29491162300109863,
           0.2732146382331848,
           0.2482306957244873,
           0.231859028339386,
           0.22367316484451294,
           0.20769375562667847,
           0.19380515813827515,
           0.17263662815093994,
           0.0981408953666687
          ],
          [
           1.7031502723693848,
           0.5849094390869141,
           0.36317968368530273,
           0.21565556526184082,
           0.07479619979858398,
           0,
           0.04943668842315674,
           0.17122209072113037,
           0.25449132919311523,
           0.29735755920410156,
           0.31181883811950684,
           0.3208918571472168,
           0.31391143798828125,
           0.32953524589538574,
           0.3488190174102783,
           0.37532663345336914,
           0.41169536113739014,
           0.4361649751663208,
           0.4657580852508545,
           0.5136784315109253,
           0.5536293983459473,
           0.5584783554077148,
           0.5089291334152222,
           0.4904932975769043,
           0.4401369094848633,
           0.3979780673980713,
           0.3579757809638977,
           0.3007441759109497,
           0.2770693898200989,
           0.24913513660430908,
           0.23231083154678345,
           0.22252804040908813,
           0.20696526765823364,
           0.19323664903640747,
           0.16904950141906738,
           0.09304136037826538
          ],
          [
           1.6909971237182617,
           0.784076452255249,
           0.5991401672363281,
           0.43431615829467773,
           0.21015167236328125,
           0.06022167205810547,
           0,
           0.08122885227203369,
           0.18593311309814453,
           0.25673866271972656,
           0.28899574279785156,
           0.30510735511779785,
           0.2956768274307251,
           0.3068925142288208,
           0.3278360366821289,
           0.3537241220474243,
           0.3937469720840454,
           0.41561663150787354,
           0.440757155418396,
           0.48230481147766113,
           0.5159538984298706,
           0.5133743286132812,
           0.4597046375274658,
           0.44059717655181885,
           0.3927520513534546,
           0.3520946502685547,
           0.3127973675727844,
           0.25855517387390137,
           0.23496133089065552,
           0.20800793170928955,
           0.19248157739639282,
           0.1837788224220276,
           0.17161375284194946,
           0.16044610738754272,
           0.13941526412963867,
           0.07532137632369995
          ],
          [
           1.675790786743164,
           1.1457023620605469,
           1.0360291004180908,
           0.9101047515869141,
           0.6372506618499756,
           0.336891770362854,
           0.12779176235198975,
           0,
           0.04918360710144043,
           0.1254793405532837,
           0.17924249172210693,
           0.2124173641204834,
           0.21655011177062988,
           0.236411452293396,
           0.2664753198623657,
           0.29953646659851074,
           0.34531939029693604,
           0.37271296977996826,
           0.40080106258392334,
           0.44665956497192383,
           0.48119640350341797,
           0.47709035873413086,
           0.42282724380493164,
           0.4035905599594116,
           0.35709333419799805,
           0.32137441635131836,
           0.28461843729019165,
           0.2343297004699707,
           0.21469420194625854,
           0.1919916868209839,
           0.17941969633102417,
           0.1706344485282898,
           0.16033589839935303,
           0.1502300500869751,
           0.1301937699317932,
           0.06543660163879395
          ],
          [
           1.6777992248535156,
           1.2728614807128906,
           1.1896963119506836,
           1.0900371074676514,
           0.8546638488769531,
           0.5891867876052856,
           0.31775403022766113,
           0.05842244625091553,
           0,
           0.029381752014160156,
           0.07063019275665283,
           0.10433530807495117,
           0.11723840236663818,
           0.14257574081420898,
           0.17443597316741943,
           0.21103274822235107,
           0.2568063735961914,
           0.2847670316696167,
           0.315341591835022,
           0.3617771863937378,
           0.39795660972595215,
           0.39285874366760254,
           0.34165847301483154,
           0.32450127601623535,
           0.2837017774581909,
           0.2546505928039551,
           0.22474199533462524,
           0.18597590923309326,
           0.17198306322097778,
           0.15732431411743164,
           0.1471150517463684,
           0.1390451192855835,
           0.13137978315353394,
           0.12330478429794312,
           0.10632264614105225,
           0.049935758113861084
          ],
          [
           1.651510238647461,
           1.418715000152588,
           1.3497464656829834,
           1.2649753093719482,
           1.0510759353637695,
           0.8222469091415405,
           0.560380220413208,
           0.187363862991333,
           0.05144214630126953,
           0,
           0.015150785446166992,
           0.0341106653213501,
           0.046712636947631836,
           0.06674313545227051,
           0.09187674522399902,
           0.12600350379943848,
           0.16813111305236816,
           0.20179593563079834,
           0.23977184295654297,
           0.29078638553619385,
           0.33447265625,
           0.33423686027526855,
           0.2860029935836792,
           0.27171504497528076,
           0.23419737815856934,
           0.21096861362457275,
           0.18578261137008667,
           0.15655672550201416,
           0.14723974466323853,
           0.138421893119812,
           0.13070285320281982,
           0.12306582927703857,
           0.11710894107818604,
           0.11017948389053345,
           0.09368646144866943,
           0.04229569435119629
          ],
          [
           1.6649246215820312,
           1.4225637912750244,
           1.3640162944793701,
           1.2821755409240723,
           1.0876636505126953,
           0.8889056444168091,
           0.6572475433349609,
           0.2949960231781006,
           0.11619269847869873,
           0.026372551918029785,
           0,
           0.01197969913482666,
           0.020610928535461426,
           0.0373762845993042,
           0.05679810047149658,
           0.08807718753814697,
           0.12944793701171875,
           0.16533267498016357,
           0.20408415794372559,
           0.2563282251358032,
           0.3037703037261963,
           0.3039669990539551,
           0.25437605381011963,
           0.24081134796142578,
           0.204453706741333,
           0.18379569053649902,
           0.1609897017478943,
           0.1374812126159668,
           0.1306348443031311,
           0.12584292888641357,
           0.11972177028656006,
           0.11251407861709595,
           0.10792475938796997,
           0.10220086574554443,
           0.08796298503875732,
           0.040598392486572266
          ],
          [
           1.6412734985351562,
           1.3750698566436768,
           1.3173274993896484,
           1.2335686683654785,
           1.0347247123718262,
           0.8473228216171265,
           0.6350674629211426,
           0.3103358745574951,
           0.1386547088623047,
           0.04138505458831787,
           0.011947274208068848,
           0,
           0.007886767387390137,
           0.019478321075439453,
           0.03250253200531006,
           0.05849587917327881,
           0.09384572505950928,
           0.1311931610107422,
           0.17057371139526367,
           0.22214484214782715,
           0.27061891555786133,
           0.27157294750213623,
           0.22295212745666504,
           0.21264564990997314,
           0.17838501930236816,
           0.1615443229675293,
           0.14222687482833862,
           0.12709224224090576,
           0.12164288759231567,
           0.12098824977874756,
           0.11497169733047485,
           0.10791349411010742,
           0.10309654474258423,
           0.09738826751708984,
           0.08263653516769409,
           0.04297339916229248
          ],
          [
           1.6519861221313477,
           1.370131254196167,
           1.3133187294006348,
           1.2310864925384521,
           1.0338356494903564,
           0.8505867719650269,
           0.651787519454956,
           0.33817410469055176,
           0.1669532060623169,
           0.05806088447570801,
           0.020516633987426758,
           0.010172367095947266,
           0,
           0.010212898254394531,
           0.019129276275634766,
           0.041251301765441895,
           0.07064390182495117,
           0.10630512237548828,
           0.14436626434326172,
           0.1951460838317871,
           0.24462378025054932,
           0.2479848861694336,
           0.2040712833404541,
           0.19592440128326416,
           0.1656181812286377,
           0.1521918773651123,
           0.13571876287460327,
           0.1252833604812622,
           0.12231296300888062,
           0.12434613704681396,
           0.11878252029418945,
           0.1116112470626831,
           0.10669803619384766,
           0.10041612386703491,
           0.08509153127670288,
           0.04493582248687744
          ],
          [
           1.647603988647461,
           1.3825466632843018,
           1.339599609375,
           1.2632980346679688,
           1.0738768577575684,
           0.897969126701355,
           0.7023775577545166,
           0.38727426528930664,
           0.2109304666519165,
           0.0873650312423706,
           0.04049980640411377,
           0.027622699737548828,
           0.013100385665893555,
           0,
           0.007799625396728516,
           0.020013928413391113,
           0.042565226554870605,
           0.07398831844329834,
           0.11123430728912354,
           0.16225862503051758,
           0.21267974376678467,
           0.21967482566833496,
           0.18193376064300537,
           0.17819440364837646,
           0.15014314651489258,
           0.1416226625442505,
           0.1295199990272522,
           0.12257087230682373,
           0.12232726812362671,
           0.1269131898880005,
           0.12162119150161743,
           0.11390650272369385,
           0.10874176025390625,
           0.10186076164245605,
           0.08581143617630005,
           0.04557913541793823
          ],
          [
           1.6349077224731445,
           1.412243127822876,
           1.3723266124725342,
           1.2978463172912598,
           1.1084949970245361,
           0.9298416376113892,
           0.7306427955627441,
           0.4116220474243164,
           0.2357395887374878,
           0.10694313049316406,
           0.05530416965484619,
           0.04163038730621338,
           0.021768927574157715,
           0.008368730545043945,
           0,
           0.009297013282775879,
           0.022925972938537598,
           0.04674041271209717,
           0.07674336433410645,
           0.12148594856262207,
           0.16825807094573975,
           0.17766332626342773,
           0.1507319211959839,
           0.15040457248687744,
           0.1304152011871338,
           0.1276332139968872,
           0.12105244398117065,
           0.12019062042236328,
           0.12376827001571655,
           0.1322801113128662,
           0.12720781564712524,
           0.11925578117370605,
           0.1139681339263916,
           0.1065213680267334,
           0.09000831842422485,
           0.04699563980102539
          ],
          [
           1.6400976181030273,
           1.4776132106781006,
           1.4433870315551758,
           1.3673217296600342,
           1.178666353225708,
           0.9999305009841919,
           0.7975852489471436,
           0.4755892753601074,
           0.29493117332458496,
           0.15459680557250977,
           0.09209573268890381,
           0.07593107223510742,
           0.04684782028198242,
           0.022126436233520508,
           0.012095928192138672,
           0,
           0.009090423583984375,
           0.025260448455810547,
           0.04809141159057617,
           0.08831357955932617,
           0.1330888271331787,
           0.1456620693206787,
           0.12970829010009766,
           0.13264727592468262,
           0.11867880821228027,
           0.12117242813110352,
           0.11877185106277466,
           0.12023663520812988,
           0.12780839204788208,
           0.138891339302063,
           0.13452434539794922,
           0.12577396631240845,
           0.12096625566482544,
           0.11315047740936279,
           0.09828305244445801,
           0.04858475923538208
          ],
          [
           1.6428332328796387,
           1.4773643016815186,
           1.447439432144165,
           1.376047134399414,
           1.198112964630127,
           1.024978756904602,
           0.8265478610992432,
           0.5111725330352783,
           0.33633387088775635,
           0.1974024772644043,
           0.12928283214569092,
           0.11383259296417236,
           0.07569420337677002,
           0.04307913780212402,
           0.027122020721435547,
           0.01023411750793457,
           0,
           0.01113271713256836,
           0.026807785034179688,
           0.056508421897888184,
           0.09426295757293701,
           0.10932779312133789,
           0.10377895832061768,
           0.11032521724700928,
           0.10455465316772461,
           0.11274945735931396,
           0.11589723825454712,
           0.12327361106872559,
           0.13385242223739624,
           0.14844679832458496,
           0.14329904317855835,
           0.133650004863739,
           0.1279774308204651,
           0.11869668960571289,
           0.1015239953994751,
           0.05197346210479736
          ],
          [
           1.6363859176635742,
           1.4537553787231445,
           1.4217100143432617,
           1.3497838973999023,
           1.1585307121276855,
           0.9709872007369995,
           0.7665407657623291,
           0.46779894828796387,
           0.31783628463745117,
           0.20064818859100342,
           0.14377200603485107,
           0.13245058059692383,
           0.09710240364074707,
           0.06510889530181885,
           0.04757857322692871,
           0.025634050369262695,
           0.012992382049560547,
           0,
           0.009834766387939453,
           0.02796006202697754,
           0.05412125587463379,
           0.06772017478942871,
           0.07056033611297607,
           0.0785977840423584,
           0.07926833629608154,
           0.09253668785095215,
           0.10060292482376099,
           0.1125098466873169,
           0.12470144033432007,
           0.14158201217651367,
           0.13662868738174438,
           0.1267072558403015,
           0.12120324373245239,
           0.11172348260879517,
           0.09497445821762085,
           0.05034393072128296
          ],
          [
           1.641808032989502,
           1.4576966762542725,
           1.4282381534576416,
           1.3554368019104004,
           1.1616110801696777,
           0.9665864706039429,
           0.7589015960693359,
           0.4639770984649658,
           0.3237382173538208,
           0.21517789363861084,
           0.16222631931304932,
           0.15090513229370117,
           0.11748957633972168,
           0.08713841438293457,
           0.06739449501037598,
           0.04295003414154053,
           0.02879655361175537,
           0.01350259780883789,
           0,
           0.009044051170349121,
           0.024364948272705078,
           0.03316628932952881,
           0.04085648059844971,
           0.05001366138458252,
           0.05790424346923828,
           0.07325029373168945,
           0.08549696207046509,
           0.1031726598739624,
           0.11714440584182739,
           0.13754010200500488,
           0.13266843557357788,
           0.12268054485321045,
           0.11627042293548584,
           0.106143057346344,
           0.09003907442092896,
           0.0500941276550293
          ],
          [
           1.6544427871704102,
           1.4722614288330078,
           1.4432554244995117,
           1.3671224117279053,
           1.1702783107757568,
           0.9670552015304565,
           0.7522909641265869,
           0.46024274826049805,
           0.329007625579834,
           0.22852778434753418,
           0.17952656745910645,
           0.16801154613494873,
           0.13748562335968018,
           0.10970580577850342,
           0.0896749496459961,
           0.06428980827331543,
           0.04858565330505371,
           0.030061960220336914,
           0.011627554893493652,
           0,
           0.008105039596557617,
           0.014598488807678223,
           0.026470541954040527,
           0.036659955978393555,
           0.048807382583618164,
           0.06534826755523682,
           0.08005505800247192,
           0.10172772407531738,
           0.11683768033981323,
           0.13915419578552246,
           0.1332777738571167,
           0.12289369106292725,
           0.11559247970581055,
           0.10449868440628052,
           0.0886843204498291,
           0.05378490686416626
          ],
          [
           1.6554245948791504,
           1.536470890045166,
           1.5087413787841797,
           1.4295730590820312,
           1.2329587936401367,
           1.0302056074142456,
           0.815183162689209,
           0.5128946304321289,
           0.376766562461853,
           0.2657057046890259,
           0.21218442916870117,
           0.20322465896606445,
           0.168587327003479,
           0.1368921995162964,
           0.11474573612213135,
           0.0862342119216919,
           0.0668560266494751,
           0.046335458755493164,
           0.02454352378845215,
           0.009554505348205566,
           0,
           0.005723476409912109,
           0.023792266845703125,
           0.034079790115356445,
           0.04935169219970703,
           0.06806051731109619,
           0.08497041463851929,
           0.1095513105392456,
           0.12469011545181274,
           0.1471247673034668,
           0.13957351446151733,
           0.12730056047439575,
           0.11877316236495972,
           0.10614341497421265,
           0.08831185102462769,
           0.05861556529998779
          ],
          [
           1.6605725288391113,
           1.5055360794067383,
           1.4761319160461426,
           1.396796464920044,
           1.2008724212646484,
           1.0001755952835083,
           0.7958168983459473,
           0.5101444721221924,
           0.38430678844451904,
           0.27886343002319336,
           0.2280879020690918,
           0.22167670726776123,
           0.18740499019622803,
           0.1551659107208252,
           0.13354969024658203,
           0.10310804843902588,
           0.0843576192855835,
           0.06233859062194824,
           0.03643238544464111,
           0.019299745559692383,
           0.009070396423339844,
           0,
           0.012660861015319824,
           0.020572543144226074,
           0.03509235382080078,
           0.05169260501861572,
           0.06795185804367065,
           0.09307479858398438,
           0.10915356874465942,
           0.13243353366851807,
           0.12677162885665894,
           0.11666250228881836,
           0.10982441902160645,
           0.09885179996490479,
           0.08297872543334961,
           0.058769404888153076
          ],
          [
           1.6711711883544922,
           1.3682868480682373,
           1.3453338146209717,
           1.2758514881134033,
           1.1015136241912842,
           0.921005129814148,
           0.7423443794250488,
           0.495424747467041,
           0.3881627321243286,
           0.29387998580932617,
           0.24651551246643066,
           0.24456918239593506,
           0.20721852779388428,
           0.17296338081359863,
           0.15015268325805664,
           0.11755728721618652,
           0.10046875476837158,
           0.07676613330841064,
           0.050368428230285645,
           0.03576827049255371,
           0.030478715896606445,
           0.01457226276397705,
           0,
           0.00418698787689209,
           0.011487245559692383,
           0.02268218994140625,
           0.03578835725784302,
           0.057816505432128906,
           0.07366615533828735,
           0.09769707918167114,
           0.09511727094650269,
           0.08928966522216797,
           0.08651202917098999,
           0.07979637384414673,
           0.06948596239089966,
           0.05646347999572754
          ],
          [
           1.679995059967041,
           1.290794849395752,
           1.271327018737793,
           1.2062139511108398,
           1.0395679473876953,
           0.8693960905075073,
           0.7049360275268555,
           0.48151159286499023,
           0.3862375020980835,
           0.30023252964019775,
           0.25789082050323486,
           0.25838351249694824,
           0.22067177295684814,
           0.1862645149230957,
           0.16347813606262207,
           0.13133418560028076,
           0.11557745933532715,
           0.09131407737731934,
           0.06480395793914795,
           0.051010966300964355,
           0.046305179595947266,
           0.026728034019470215,
           0.006795644760131836,
           0,
           0.006227374076843262,
           0.015527129173278809,
           0.026579320430755615,
           0.04771113395690918,
           0.06278526782989502,
           0.08621108531951904,
           0.0849958062171936,
           0.08030635118484497,
           0.07936286926269531,
           0.07420343160629272,
           0.06587207317352295,
           0.05547076463699341
          ],
          [
           1.691910743713379,
           1.268970251083374,
           1.250941276550293,
           1.1870863437652588,
           1.016890287399292,
           0.8471695184707642,
           0.687474250793457,
           0.473344087600708,
           0.38212382793426514,
           0.30039548873901367,
           0.2615593671798706,
           0.2644803524017334,
           0.22915983200073242,
           0.19651103019714355,
           0.17646420001983643,
           0.1459566354751587,
           0.13363659381866455,
           0.11096370220184326,
           0.08794951438903809,
           0.07697558403015137,
           0.07580184936523438,
           0.05238080024719238,
           0.019881129264831543,
           0.010715126991271973,
           0,
           0.005708456039428711,
           0.013810455799102783,
           0.03055208921432495,
           0.04480171203613281,
           0.06697523593902588,
           0.06809699535369873,
           0.06568437814712524,
           0.06749188899993896,
           0.06459075212478638,
           0.05933910608291626,
           0.05146604776382446
          ],
          [
           1.6962599754333496,
           1.231459617614746,
           1.2133851051330566,
           1.1503772735595703,
           0.9871633052825928,
           0.827201247215271,
           0.6799314022064209,
           0.47989821434020996,
           0.39542996883392334,
           0.32073974609375,
           0.2858935594558716,
           0.2927970886230469,
           0.25564372539520264,
           0.2217041254043579,
           0.2014535665512085,
           0.1697925329208374,
           0.16076838970184326,
           0.1400299072265625,
           0.11795210838317871,
           0.10927927494049072,
           0.11173367500305176,
           0.0836641788482666,
           0.039522647857666016,
           0.025991320610046387,
           0.008691072463989258,
           0,
           0.0039424896240234375,
           0.016453027725219727,
           0.029227733612060547,
           0.05013841390609741,
           0.05189770460128784,
           0.05201709270477295,
           0.05465477705001831,
           0.05413752794265747,
           0.053613364696502686,
           0.04944503307342529
          ],
          [
           1.6933250427246094,
           1.183624505996704,
           1.167860507965088,
           1.1087157726287842,
           0.9527912139892578,
           0.8031302690505981,
           0.6663119792938232,
           0.47957873344421387,
           0.4031418561935425,
           0.3372838497161865,
           0.30823349952697754,
           0.3184698820114136,
           0.2808656692504883,
           0.2464902400970459,
           0.22703707218170166,
           0.19597601890563965,
           0.1894744634628296,
           0.17126953601837158,
           0.1520596742630005,
           0.14749681949615479,
           0.1541600227355957,
           0.1229851245880127,
           0.06715822219848633,
           0.04843759536743164,
           0.023503422737121582,
           0.008092761039733887,
           0,
           0.006988048553466797,
           0.016837894916534424,
           0.0346338152885437,
           0.037715792655944824,
           0.03977078199386597,
           0.0449792742729187,
           0.047433316707611084,
           0.05035531520843506,
           0.04764062166213989
          ],
          [
           1.6945819854736328,
           1.161839246749878,
           1.1498253345489502,
           1.0942177772521973,
           0.9432213306427002,
           0.7991582155227661,
           0.6681146621704102,
           0.4894583225250244,
           0.42088019847869873,
           0.3649320602416992,
           0.3410012722015381,
           0.35436177253723145,
           0.3181450366973877,
           0.28476572036743164,
           0.266970157623291,
           0.2380354404449463,
           0.23474538326263428,
           0.2192610502243042,
           0.20275580883026123,
           0.20254504680633545,
           0.21348989009857178,
           0.17997097969055176,
           0.1120154857635498,
           0.08852493762969971,
           0.05210530757904053,
           0.02687704563140869,
           0.010342419147491455,
           0,
           0.004936158657073975,
           0.01703399419784546,
           0.021084487438201904,
           0.025411665439605713,
           0.03242844343185425,
           0.03707385063171387,
           0.04376918077468872,
           0.042002975940704346
          ],
          [
           1.7013616561889648,
           1.1572346687316895,
           1.145383596420288,
           1.0913937091827393,
           0.9452855587005615,
           0.8055001497268677,
           0.6790235042572021,
           0.5072002410888672,
           0.45007026195526123,
           0.40355467796325684,
           0.38397324085235596,
           0.40223729610443115,
           0.3639472723007202,
           0.33050549030303955,
           0.3121757507324219,
           0.28342700004577637,
           0.2799501419067383,
           0.26667797565460205,
           0.25023913383483887,
           0.2540168762207031,
           0.26790356636047363,
           0.23334848880767822,
           0.15450096130371094,
           0.12796735763549805,
           0.08328390121459961,
           0.05000865459442139,
           0.025259554386138916,
           0.006937146186828613,
           0,
           0.006622910499572754,
           0.01027137041091919,
           0.014968514442443848,
           0.02135026454925537,
           0.026449501514434814,
           0.03480345010757446,
           0.04078191518783569
          ],
          [
           1.6996636390686035,
           1.1177270412445068,
           1.1039800643920898,
           1.052588939666748,
           0.9129061698913574,
           0.7817307710647583,
           0.6644201278686523,
           0.5090038776397705,
           0.4678531885147095,
           0.43758296966552734,
           0.42732977867126465,
           0.45088768005371094,
           0.41375982761383057,
           0.38139545917510986,
           0.3638029098510742,
           0.33609819412231445,
           0.3330550193786621,
           0.32236456871032715,
           0.3066871166229248,
           0.313381552696228,
           0.32988178730010986,
           0.2945547103881836,
           0.20865488052368164,
           0.1804513931274414,
           0.12769532203674316,
           0.08645689487457275,
           0.05233639478683472,
           0.022812068462371826,
           0.007706820964813232,
           0,
           0.0024799108505249023,
           0.00716555118560791,
           0.013637423515319824,
           0.019756436347961426,
           0.029633700847625732,
           0.040360867977142334
          ],
          [
           1.7062735557556152,
           1.0971310138702393,
           1.082923173904419,
           1.0330121517181396,
           0.8975870609283447,
           0.7728415727615356,
           0.6621701717376709,
           0.514988899230957,
           0.47799599170684814,
           0.4535329341888428,
           0.4464980363845825,
           0.47285258769989014,
           0.4381157159805298,
           0.40811312198638916,
           0.39282846450805664,
           0.36747443675994873,
           0.3664141893386841,
           0.35899388790130615,
           0.34254395961761475,
           0.34921443462371826,
           0.36595821380615234,
           0.32949209213256836,
           0.23834574222564697,
           0.21010911464691162,
           0.15255284309387207,
           0.10633015632629395,
           0.06779104471206665,
           0.034523189067840576,
           0.016083240509033203,
           0.005830526351928711,
           0,
           0.0033345818519592285,
           0.007710754871368408,
           0.013470351696014404,
           0.023289024829864502,
           0.041020095348358154
          ],
          [
           1.7136378288269043,
           1.0843417644500732,
           1.0683982372283936,
           1.0206117630004883,
           0.8877017498016357,
           0.7671443223953247,
           0.6609091758728027,
           0.5194075107574463,
           0.4865785837173462,
           0.46597933769226074,
           0.4602952003479004,
           0.48729586601257324,
           0.45300865173339844,
           0.42243242263793945,
           0.4072376489639282,
           0.38110780715942383,
           0.37947261333465576,
           0.37145185470581055,
           0.35356080532073975,
           0.35878753662109375,
           0.3746798038482666,
           0.33852672576904297,
           0.24659717082977295,
           0.21823489665985107,
           0.15948307514190674,
           0.11378443241119385,
           0.07494479417800903,
           0.04210054874420166,
           0.023358643054962158,
           0.012596964836120605,
           0.00552743673324585,
           0,
           0.0032956600189208984,
           0.008177220821380615,
           0.017593979835510254,
           0.039734482765197754
          ],
          [
           1.7158231735229492,
           1.054307460784912,
           1.036506175994873,
           0.9918053150177002,
           0.8631291389465332,
           0.7536693811416626,
           0.6562891006469727,
           0.5187289714813232,
           0.4785269498825073,
           0.4541134834289551,
           0.44861817359924316,
           0.47631120681762695,
           0.4466872215270996,
           0.42069411277770996,
           0.4094574451446533,
           0.3874812126159668,
           0.39083337783813477,
           0.38537073135375977,
           0.3700568675994873,
           0.3763577938079834,
           0.3939218521118164,
           0.3587402105331421,
           0.2665315866470337,
           0.2391955852508545,
           0.17875385284423828,
           0.13101720809936523,
           0.09119266271591187,
           0.0568232536315918,
           0.03588634729385376,
           0.02361142635345459,
           0.013777017593383789,
           0.006793498992919922,
           0,
           0.002653062343597412,
           0.009662389755249023,
           0.042453229427337646
          ],
          [
           1.7257204055786133,
           1.0226914882659912,
           1.0039145946502686,
           0.9602575302124023,
           0.8314294815063477,
           0.7321890592575073,
           0.643256425857544,
           0.5070328712463379,
           0.44807279109954834,
           0.4106450080871582,
           0.40073299407958984,
           0.4240812063217163,
           0.39958298206329346,
           0.37835514545440674,
           0.37186896800994873,
           0.3549884557723999,
           0.36308348178863525,
           0.3600008487701416,
           0.3512808084487915,
           0.3609846830368042,
           0.3816155195236206,
           0.35016393661499023,
           0.2647451162338257,
           0.2395097017288208,
           0.1821761131286621,
           0.13733351230621338,
           0.10010641813278198,
           0.06698107719421387,
           0.04667019844055176,
           0.03499197959899902,
           0.024266839027404785,
           0.015695154666900635,
           0.006339371204376221,
           0,
           0.004504680633544922,
           0.04683190584182739
          ],
          [
           1.7279114723205566,
           1.0276305675506592,
           1.0077128410339355,
           0.9600405693054199,
           0.8181228637695312,
           0.7258468866348267,
           0.6496224403381348,
           0.5251574516296387,
           0.44088423252105713,
           0.3716224431991577,
           0.3415588140487671,
           0.34824514389038086,
           0.3315286636352539,
           0.3181498050689697,
           0.31993532180786133,
           0.31105124950408936,
           0.3242870569229126,
           0.3240548372268677,
           0.3265625238418579,
           0.34335458278656006,
           0.3693891763687134,
           0.34372591972351074,
           0.26875829696655273,
           0.24662959575653076,
           0.19373571872711182,
           0.15425324440002441,
           0.11990481615066528,
           0.08953821659088135,
           0.07059526443481445,
           0.059237003326416016,
           0.04678112268447876,
           0.03630286455154419,
           0.022896528244018555,
           0.01241523027420044,
           0,
           0.05369257926940918
          ],
          [
           1.7010364532470703,
           1.139460563659668,
           1.1155869960784912,
           1.058415174484253,
           0.8797807693481445,
           0.7398983240127563,
           0.6413357257843018,
           0.5196273326873779,
           0.44421422481536865,
           0.37071359157562256,
           0.33266735076904297,
           0.3241400718688965,
           0.3112574815750122,
           0.30462443828582764,
           0.3097970485687256,
           0.30542802810668945,
           0.31685948371887207,
           0.3112354278564453,
           0.31890320777893066,
           0.3433734178543091,
           0.36583054065704346,
           0.354048490524292,
           0.3047744035720825,
           0.2775862216949463,
           0.23589622974395752,
           0.20664596557617188,
           0.17816537618637085,
           0.144140362739563,
           0.13597959280014038,
           0.12689614295959473,
           0.11645901203155518,
           0.10262352228164673,
           0.08967745304107666,
           0.07524865865707397,
           0.05124694108963013,
           0
          ]
         ]
        }
       ],
       "layout": {
        "coloraxis": {
         "colorbar": {
          "title": {
           "side": "right",
           "text": "bits per byte"
          }
         },
         "colorscale": [
          [
           0,
           "#0d0887"
          ],
          [
           0.1111111111111111,
           "#46039f"
          ],
          [
           0.2222222222222222,
           "#7201a8"
          ],
          [
           0.3333333333333333,
           "#9c179e"
          ],
          [
           0.4444444444444444,
           "#bd3786"
          ],
          [
           0.5555555555555556,
           "#d8576b"
          ],
          [
           0.6666666666666666,
           "#ed7953"
          ],
          [
           0.7777777777777778,
           "#fb9f3a"
          ],
          [
           0.8888888888888888,
           "#fdca26"
          ],
          [
           1,
           "#f0f921"
          ]
         ]
        },
        "font": {
         "color": "black",
         "size": 16
        },
        "height": 583.2,
        "margin": {
         "b": 70,
         "l": 70,
         "r": 30,
         "t": 50
        },
        "template": {
         "data": {
          "bar": [
           {
            "error_x": {
             "color": "#2a3f5f"
            },
            "error_y": {
             "color": "#2a3f5f"
            },
            "marker": {
             "line": {
              "color": "#E5ECF6",
              "width": 0.5
             },
             "pattern": {
              "fillmode": "overlay",
              "size": 10,
              "solidity": 0.2
             }
            },
            "type": "bar"
           }
          ],
          "barpolar": [
           {
            "marker": {
             "line": {
              "color": "#E5ECF6",
              "width": 0.5
             },
             "pattern": {
              "fillmode": "overlay",
              "size": 10,
              "solidity": 0.2
             }
            },
            "type": "barpolar"
           }
          ],
          "carpet": [
           {
            "aaxis": {
             "endlinecolor": "#2a3f5f",
             "gridcolor": "white",
             "linecolor": "white",
             "minorgridcolor": "white",
             "startlinecolor": "#2a3f5f"
            },
            "baxis": {
             "endlinecolor": "#2a3f5f",
             "gridcolor": "white",
             "linecolor": "white",
             "minorgridcolor": "white",
             "startlinecolor": "#2a3f5f"
            },
            "type": "carpet"
           }
          ],
          "choropleth": [
           {
            "colorbar": {
             "outlinewidth": 0,
             "ticks": ""
            },
            "type": "choropleth"
           }
          ],
          "contour": [
           {
            "colorbar": {
             "outlinewidth": 0,
             "ticks": ""
            },
            "colorscale": [
             [
              0,
              "#0d0887"
             ],
             [
              0.1111111111111111,
              "#46039f"
             ],
             [
              0.2222222222222222,
              "#7201a8"
             ],
             [
              0.3333333333333333,
              "#9c179e"
             ],
             [
              0.4444444444444444,
              "#bd3786"
             ],
             [
              0.5555555555555556,
              "#d8576b"
             ],
             [
              0.6666666666666666,
              "#ed7953"
             ],
             [
              0.7777777777777778,
              "#fb9f3a"
             ],
             [
              0.8888888888888888,
              "#fdca26"
             ],
             [
              1,
              "#f0f921"
             ]
            ],
            "type": "contour"
           }
          ],
          "contourcarpet": [
           {
            "colorbar": {
             "outlinewidth": 0,
             "ticks": ""
            },
            "type": "contourcarpet"
           }
          ],
          "heatmap": [
           {
            "colorbar": {
             "outlinewidth": 0,
             "ticks": ""
            },
            "colorscale": [
             [
              0,
              "#0d0887"
             ],
             [
              0.1111111111111111,
              "#46039f"
             ],
             [
              0.2222222222222222,
              "#7201a8"
             ],
             [
              0.3333333333333333,
              "#9c179e"
             ],
             [
              0.4444444444444444,
              "#bd3786"
             ],
             [
              0.5555555555555556,
              "#d8576b"
             ],
             [
              0.6666666666666666,
              "#ed7953"
             ],
             [
              0.7777777777777778,
              "#fb9f3a"
             ],
             [
              0.8888888888888888,
              "#fdca26"
             ],
             [
              1,
              "#f0f921"
             ]
            ],
            "type": "heatmap"
           }
          ],
          "heatmapgl": [
           {
            "colorbar": {
             "outlinewidth": 0,
             "ticks": ""
            },
            "colorscale": [
             [
              0,
              "#0d0887"
             ],
             [
              0.1111111111111111,
              "#46039f"
             ],
             [
              0.2222222222222222,
              "#7201a8"
             ],
             [
              0.3333333333333333,
              "#9c179e"
             ],
             [
              0.4444444444444444,
              "#bd3786"
             ],
             [
              0.5555555555555556,
              "#d8576b"
             ],
             [
              0.6666666666666666,
              "#ed7953"
             ],
             [
              0.7777777777777778,
              "#fb9f3a"
             ],
             [
              0.8888888888888888,
              "#fdca26"
             ],
             [
              1,
              "#f0f921"
             ]
            ],
            "type": "heatmapgl"
           }
          ],
          "histogram": [
           {
            "marker": {
             "pattern": {
              "fillmode": "overlay",
              "size": 10,
              "solidity": 0.2
             }
            },
            "type": "histogram"
           }
          ],
          "histogram2d": [
           {
            "colorbar": {
             "outlinewidth": 0,
             "ticks": ""
            },
            "colorscale": [
             [
              0,
              "#0d0887"
             ],
             [
              0.1111111111111111,
              "#46039f"
             ],
             [
              0.2222222222222222,
              "#7201a8"
             ],
             [
              0.3333333333333333,
              "#9c179e"
             ],
             [
              0.4444444444444444,
              "#bd3786"
             ],
             [
              0.5555555555555556,
              "#d8576b"
             ],
             [
              0.6666666666666666,
              "#ed7953"
             ],
             [
              0.7777777777777778,
              "#fb9f3a"
             ],
             [
              0.8888888888888888,
              "#fdca26"
             ],
             [
              1,
              "#f0f921"
             ]
            ],
            "type": "histogram2d"
           }
          ],
          "histogram2dcontour": [
           {
            "colorbar": {
             "outlinewidth": 0,
             "ticks": ""
            },
            "colorscale": [
             [
              0,
              "#0d0887"
             ],
             [
              0.1111111111111111,
              "#46039f"
             ],
             [
              0.2222222222222222,
              "#7201a8"
             ],
             [
              0.3333333333333333,
              "#9c179e"
             ],
             [
              0.4444444444444444,
              "#bd3786"
             ],
             [
              0.5555555555555556,
              "#d8576b"
             ],
             [
              0.6666666666666666,
              "#ed7953"
             ],
             [
              0.7777777777777778,
              "#fb9f3a"
             ],
             [
              0.8888888888888888,
              "#fdca26"
             ],
             [
              1,
              "#f0f921"
             ]
            ],
            "type": "histogram2dcontour"
           }
          ],
          "mesh3d": [
           {
            "colorbar": {
             "outlinewidth": 0,
             "ticks": ""
            },
            "type": "mesh3d"
           }
          ],
          "parcoords": [
           {
            "line": {
             "colorbar": {
              "outlinewidth": 0,
              "ticks": ""
             }
            },
            "type": "parcoords"
           }
          ],
          "pie": [
           {
            "automargin": true,
            "type": "pie"
           }
          ],
          "scatter": [
           {
            "fillpattern": {
             "fillmode": "overlay",
             "size": 10,
             "solidity": 0.2
            },
            "type": "scatter"
           }
          ],
          "scatter3d": [
           {
            "line": {
             "colorbar": {
              "outlinewidth": 0,
              "ticks": ""
             }
            },
            "marker": {
             "colorbar": {
              "outlinewidth": 0,
              "ticks": ""
             }
            },
            "type": "scatter3d"
           }
          ],
          "scattercarpet": [
           {
            "marker": {
             "colorbar": {
              "outlinewidth": 0,
              "ticks": ""
             }
            },
            "type": "scattercarpet"
           }
          ],
          "scattergeo": [
           {
            "marker": {
             "colorbar": {
              "outlinewidth": 0,
              "ticks": ""
             }
            },
            "type": "scattergeo"
           }
          ],
          "scattergl": [
           {
            "marker": {
             "colorbar": {
              "outlinewidth": 0,
              "ticks": ""
             }
            },
            "type": "scattergl"
           }
          ],
          "scattermapbox": [
           {
            "marker": {
             "colorbar": {
              "outlinewidth": 0,
              "ticks": ""
             }
            },
            "type": "scattermapbox"
           }
          ],
          "scatterpolar": [
           {
            "marker": {
             "colorbar": {
              "outlinewidth": 0,
              "ticks": ""
             }
            },
            "type": "scatterpolar"
           }
          ],
          "scatterpolargl": [
           {
            "marker": {
             "colorbar": {
              "outlinewidth": 0,
              "ticks": ""
             }
            },
            "type": "scatterpolargl"
           }
          ],
          "scatterternary": [
           {
            "marker": {
             "colorbar": {
              "outlinewidth": 0,
              "ticks": ""
             }
            },
            "type": "scatterternary"
           }
          ],
          "surface": [
           {
            "colorbar": {
             "outlinewidth": 0,
             "ticks": ""
            },
            "colorscale": [
             [
              0,
              "#0d0887"
             ],
             [
              0.1111111111111111,
              "#46039f"
             ],
             [
              0.2222222222222222,
              "#7201a8"
             ],
             [
              0.3333333333333333,
              "#9c179e"
             ],
             [
              0.4444444444444444,
              "#bd3786"
             ],
             [
              0.5555555555555556,
              "#d8576b"
             ],
             [
              0.6666666666666666,
              "#ed7953"
             ],
             [
              0.7777777777777778,
              "#fb9f3a"
             ],
             [
              0.8888888888888888,
              "#fdca26"
             ],
             [
              1,
              "#f0f921"
             ]
            ],
            "type": "surface"
           }
          ],
          "table": [
           {
            "cells": {
             "fill": {
              "color": "#EBF0F8"
             },
             "line": {
              "color": "white"
             }
            },
            "header": {
             "fill": {
              "color": "#C8D4E3"
             },
             "line": {
              "color": "white"
             }
            },
            "type": "table"
           }
          ]
         },
         "layout": {
          "annotationdefaults": {
           "arrowcolor": "#2a3f5f",
           "arrowhead": 0,
           "arrowwidth": 1
          },
          "autotypenumbers": "strict",
          "coloraxis": {
           "colorbar": {
            "outlinewidth": 0,
            "ticks": ""
           }
          },
          "colorscale": {
           "diverging": [
            [
             0,
             "#8e0152"
            ],
            [
             0.1,
             "#c51b7d"
            ],
            [
             0.2,
             "#de77ae"
            ],
            [
             0.3,
             "#f1b6da"
            ],
            [
             0.4,
             "#fde0ef"
            ],
            [
             0.5,
             "#f7f7f7"
            ],
            [
             0.6,
             "#e6f5d0"
            ],
            [
             0.7,
             "#b8e186"
            ],
            [
             0.8,
             "#7fbc41"
            ],
            [
             0.9,
             "#4d9221"
            ],
            [
             1,
             "#276419"
            ]
           ],
           "sequential": [
            [
             0,
             "#0d0887"
            ],
            [
             0.1111111111111111,
             "#46039f"
            ],
            [
             0.2222222222222222,
             "#7201a8"
            ],
            [
             0.3333333333333333,
             "#9c179e"
            ],
            [
             0.4444444444444444,
             "#bd3786"
            ],
            [
             0.5555555555555556,
             "#d8576b"
            ],
            [
             0.6666666666666666,
             "#ed7953"
            ],
            [
             0.7777777777777778,
             "#fb9f3a"
            ],
            [
             0.8888888888888888,
             "#fdca26"
            ],
            [
             1,
             "#f0f921"
            ]
           ],
           "sequentialminus": [
            [
             0,
             "#0d0887"
            ],
            [
             0.1111111111111111,
             "#46039f"
            ],
            [
             0.2222222222222222,
             "#7201a8"
            ],
            [
             0.3333333333333333,
             "#9c179e"
            ],
            [
             0.4444444444444444,
             "#bd3786"
            ],
            [
             0.5555555555555556,
             "#d8576b"
            ],
            [
             0.6666666666666666,
             "#ed7953"
            ],
            [
             0.7777777777777778,
             "#fb9f3a"
            ],
            [
             0.8888888888888888,
             "#fdca26"
            ],
            [
             1,
             "#f0f921"
            ]
           ]
          },
          "colorway": [
           "#636efa",
           "#EF553B",
           "#00cc96",
           "#ab63fa",
           "#FFA15A",
           "#19d3f3",
           "#FF6692",
           "#B6E880",
           "#FF97FF",
           "#FECB52"
          ],
          "font": {
           "color": "#2a3f5f"
          },
          "geo": {
           "bgcolor": "white",
           "lakecolor": "white",
           "landcolor": "#E5ECF6",
           "showlakes": true,
           "showland": true,
           "subunitcolor": "white"
          },
          "hoverlabel": {
           "align": "left"
          },
          "hovermode": "closest",
          "mapbox": {
           "style": "light"
          },
          "paper_bgcolor": "white",
          "plot_bgcolor": "#E5ECF6",
          "polar": {
           "angularaxis": {
            "gridcolor": "white",
            "linecolor": "white",
            "ticks": ""
           },
           "bgcolor": "#E5ECF6",
           "radialaxis": {
            "gridcolor": "white",
            "linecolor": "white",
            "ticks": ""
           }
          },
          "scene": {
           "xaxis": {
            "backgroundcolor": "#E5ECF6",
            "gridcolor": "white",
            "gridwidth": 2,
            "linecolor": "white",
            "showbackground": true,
            "ticks": "",
            "zerolinecolor": "white"
           },
           "yaxis": {
            "backgroundcolor": "#E5ECF6",
            "gridcolor": "white",
            "gridwidth": 2,
            "linecolor": "white",
            "showbackground": true,
            "ticks": "",
            "zerolinecolor": "white"
           },
           "zaxis": {
            "backgroundcolor": "#E5ECF6",
            "gridcolor": "white",
            "gridwidth": 2,
            "linecolor": "white",
            "showbackground": true,
            "ticks": "",
            "zerolinecolor": "white"
           }
          },
          "shapedefaults": {
           "line": {
            "color": "#2a3f5f"
           }
          },
          "ternary": {
           "aaxis": {
            "gridcolor": "white",
            "linecolor": "white",
            "ticks": ""
           },
           "baxis": {
            "gridcolor": "white",
            "linecolor": "white",
            "ticks": ""
           },
           "bgcolor": "#E5ECF6",
           "caxis": {
            "gridcolor": "white",
            "linecolor": "white",
            "ticks": ""
           }
          },
          "title": {
           "x": 0.05
          },
          "xaxis": {
           "automargin": true,
           "gridcolor": "white",
           "linecolor": "white",
           "ticks": "",
           "title": {
            "standoff": 15
           },
           "zerolinecolor": "white",
           "zerolinewidth": 2
          },
          "yaxis": {
           "automargin": true,
           "gridcolor": "white",
           "linecolor": "white",
           "ticks": "",
           "title": {
            "standoff": 15
           },
           "zerolinecolor": "white",
           "zerolinewidth": 2
          }
         }
        },
        "width": 648,
        "xaxis": {
         "anchor": "y",
         "constrain": "domain",
         "domain": [
          0,
          1
         ],
         "dtick": 5,
         "scaleanchor": "y",
         "title": {
          "text": "Test layer"
         }
        },
        "yaxis": {
         "anchor": "x",
         "autorange": "reversed",
         "constrain": "domain",
         "domain": [
          0,
          1
         ],
         "dtick": 5,
         "title": {
          "text": "Train layer"
         }
        }
       }
      },
      "text/html": [
       "<div>                            <div id=\"7e047e64-fce8-4710-9f46-6c5ff8cd9e0a\" class=\"plotly-graph-div\" style=\"height:583.2px; width:648.0px;\"></div>            <script type=\"text/javascript\">                require([\"plotly\"], function(Plotly) {                    window.PLOTLYENV=window.PLOTLYENV || {};                                    if (document.getElementById(\"7e047e64-fce8-4710-9f46-6c5ff8cd9e0a\")) {                    Plotly.newPlot(                        \"7e047e64-fce8-4710-9f46-6c5ff8cd9e0a\",                        [{\"coloraxis\":\"coloraxis\",\"name\":\"0\",\"z\":[[0.0,1.3451685905456543,1.351543664932251,1.3268630504608154,1.1801443099975586,1.0132769346237183,0.8409194946289062,0.6317591667175293,0.5596753358840942,0.4979863166809082,0.4805717468261719,0.48651123046875,0.4734865427017212,0.46962296962738037,0.48314762115478516,0.4885820150375366,0.5098001956939697,0.5308679342269897,0.5425930023193359,0.5684909820556641,0.5992696285247803,0.5876591205596924,0.5279816389083862,0.5074721574783325,0.4520326852798462,0.4022485017776489,0.35558921098709106,0.29939472675323486,0.2656741738319397,0.230499267578125,0.2072877287864685,0.19522196054458618,0.17269831895828247,0.1534101366996765,0.11718469858169556,0.07081615924835205],[1.4833064079284668,0.0,0.10822510719299316,0.17242884635925293,0.21425127983093262,0.2987014055252075,0.34800124168395996,0.4263608455657959,0.45317113399505615,0.4541468620300293,0.4323378801345825,0.44440150260925293,0.42772650718688965,0.43127870559692383,0.4437295198440552,0.45088720321655273,0.47340238094329834,0.47918570041656494,0.49019062519073486,0.5192757844924927,0.5469107627868652,0.5424928665161133,0.49416565895080566,0.4710855484008789,0.43105053901672363,0.3888198137283325,0.3496090769767761,0.2962695360183716,0.2807238698005676,0.25528526306152344,0.24041229486465454,0.23203200101852417,0.21465939283370972,0.1983581781387329,0.17570960521697998,0.08534133434295654],[1.591360092163086,0.12301158905029297,0.0,0.06770849227905273,0.13181138038635254,0.265170693397522,0.3674275875091553,0.5056474208831787,0.5470982789993286,0.558934211730957,0.5324182510375977,0.5433669090270996,0.5327743291854858,0.5470974445343018,0.5583240985870361,0.5648510456085205,0.5841034650802612,0.5776169300079346,0.5756721496582031,0.5979926586151123,0.619049072265625,0.6153974533081055,0.563549280166626,0.5386936664581299,0.4958232641220093,0.44514453411102295,0.40173059701919556,0.3423011302947998,0.3242242932319641,0.29517459869384766,0.27465349435806274,0.2647241950035095,0.24194198846817017,0.22241443395614624,0.19821280241012573,0.1076744794845581],[1.653794765472412,0.19269824028015137,0.037030696868896484,0.0,0.05452847480773926,0.18557250499725342,0.29536986351013184,0.45089173316955566,0.5002149343490601,0.5180859565734863,0.4938826560974121,0.49799680709838867,0.48352158069610596,0.49613022804260254,0.5026544332504272,0.506732702255249,0.5286822319030762,0.5321369171142578,0.5420850515365601,0.5719374418258667,0.6094381809234619,0.6049089431762695,0.5519626140594482,0.5311183929443359,0.4857267141342163,0.4315394163131714,0.3857136368751526,0.33436477184295654,0.3075135350227356,0.27622997760772705,0.24860304594039917,0.2381400465965271,0.21015316247940063,0.1895098090171814,0.16163301467895508,0.09654957056045532],[1.6752972602844238,0.28898000717163086,0.11995911598205566,0.04565095901489258,0.0,0.06278526782989502,0.13769149780273438,0.2522621154785156,0.30324721336364746,0.32671403884887695,0.3220592737197876,0.3260151147842407,0.3206672668457031,0.33757686614990234,0.3533289432525635,0.3750709295272827,0.40701770782470703,0.4288753271102905,0.45537662506103516,0.501861572265625,0.5459110736846924,0.5518358945846558,0.5029113292694092,0.4836221933364868,0.4341695308685303,0.38994908332824707,0.3507588505744934,0.29491162300109863,0.2732146382331848,0.2482306957244873,0.231859028339386,0.22367316484451294,0.20769375562667847,0.19380515813827515,0.17263662815093994,0.0981408953666687],[1.7031502723693848,0.5849094390869141,0.36317968368530273,0.21565556526184082,0.07479619979858398,0.0,0.04943668842315674,0.17122209072113037,0.25449132919311523,0.29735755920410156,0.31181883811950684,0.3208918571472168,0.31391143798828125,0.32953524589538574,0.3488190174102783,0.37532663345336914,0.41169536113739014,0.4361649751663208,0.4657580852508545,0.5136784315109253,0.5536293983459473,0.5584783554077148,0.5089291334152222,0.4904932975769043,0.4401369094848633,0.3979780673980713,0.3579757809638977,0.3007441759109497,0.2770693898200989,0.24913513660430908,0.23231083154678345,0.22252804040908813,0.20696526765823364,0.19323664903640747,0.16904950141906738,0.09304136037826538],[1.6909971237182617,0.784076452255249,0.5991401672363281,0.43431615829467773,0.21015167236328125,0.06022167205810547,0.0,0.08122885227203369,0.18593311309814453,0.25673866271972656,0.28899574279785156,0.30510735511779785,0.2956768274307251,0.3068925142288208,0.3278360366821289,0.3537241220474243,0.3937469720840454,0.41561663150787354,0.440757155418396,0.48230481147766113,0.5159538984298706,0.5133743286132812,0.4597046375274658,0.44059717655181885,0.3927520513534546,0.3520946502685547,0.3127973675727844,0.25855517387390137,0.23496133089065552,0.20800793170928955,0.19248157739639282,0.1837788224220276,0.17161375284194946,0.16044610738754272,0.13941526412963867,0.07532137632369995],[1.675790786743164,1.1457023620605469,1.0360291004180908,0.9101047515869141,0.6372506618499756,0.336891770362854,0.12779176235198975,0.0,0.04918360710144043,0.1254793405532837,0.17924249172210693,0.2124173641204834,0.21655011177062988,0.236411452293396,0.2664753198623657,0.29953646659851074,0.34531939029693604,0.37271296977996826,0.40080106258392334,0.44665956497192383,0.48119640350341797,0.47709035873413086,0.42282724380493164,0.4035905599594116,0.35709333419799805,0.32137441635131836,0.28461843729019165,0.2343297004699707,0.21469420194625854,0.1919916868209839,0.17941969633102417,0.1706344485282898,0.16033589839935303,0.1502300500869751,0.1301937699317932,0.06543660163879395],[1.6777992248535156,1.2728614807128906,1.1896963119506836,1.0900371074676514,0.8546638488769531,0.5891867876052856,0.31775403022766113,0.05842244625091553,0.0,0.029381752014160156,0.07063019275665283,0.10433530807495117,0.11723840236663818,0.14257574081420898,0.17443597316741943,0.21103274822235107,0.2568063735961914,0.2847670316696167,0.315341591835022,0.3617771863937378,0.39795660972595215,0.39285874366760254,0.34165847301483154,0.32450127601623535,0.2837017774581909,0.2546505928039551,0.22474199533462524,0.18597590923309326,0.17198306322097778,0.15732431411743164,0.1471150517463684,0.1390451192855835,0.13137978315353394,0.12330478429794312,0.10632264614105225,0.049935758113861084],[1.651510238647461,1.418715000152588,1.3497464656829834,1.2649753093719482,1.0510759353637695,0.8222469091415405,0.560380220413208,0.187363862991333,0.05144214630126953,0.0,0.015150785446166992,0.0341106653213501,0.046712636947631836,0.06674313545227051,0.09187674522399902,0.12600350379943848,0.16813111305236816,0.20179593563079834,0.23977184295654297,0.29078638553619385,0.33447265625,0.33423686027526855,0.2860029935836792,0.27171504497528076,0.23419737815856934,0.21096861362457275,0.18578261137008667,0.15655672550201416,0.14723974466323853,0.138421893119812,0.13070285320281982,0.12306582927703857,0.11710894107818604,0.11017948389053345,0.09368646144866943,0.04229569435119629],[1.6649246215820312,1.4225637912750244,1.3640162944793701,1.2821755409240723,1.0876636505126953,0.8889056444168091,0.6572475433349609,0.2949960231781006,0.11619269847869873,0.026372551918029785,0.0,0.01197969913482666,0.020610928535461426,0.0373762845993042,0.05679810047149658,0.08807718753814697,0.12944793701171875,0.16533267498016357,0.20408415794372559,0.2563282251358032,0.3037703037261963,0.3039669990539551,0.25437605381011963,0.24081134796142578,0.204453706741333,0.18379569053649902,0.1609897017478943,0.1374812126159668,0.1306348443031311,0.12584292888641357,0.11972177028656006,0.11251407861709595,0.10792475938796997,0.10220086574554443,0.08796298503875732,0.040598392486572266],[1.6412734985351562,1.3750698566436768,1.3173274993896484,1.2335686683654785,1.0347247123718262,0.8473228216171265,0.6350674629211426,0.3103358745574951,0.1386547088623047,0.04138505458831787,0.011947274208068848,0.0,0.007886767387390137,0.019478321075439453,0.03250253200531006,0.05849587917327881,0.09384572505950928,0.1311931610107422,0.17057371139526367,0.22214484214782715,0.27061891555786133,0.27157294750213623,0.22295212745666504,0.21264564990997314,0.17838501930236816,0.1615443229675293,0.14222687482833862,0.12709224224090576,0.12164288759231567,0.12098824977874756,0.11497169733047485,0.10791349411010742,0.10309654474258423,0.09738826751708984,0.08263653516769409,0.04297339916229248],[1.6519861221313477,1.370131254196167,1.3133187294006348,1.2310864925384521,1.0338356494903564,0.8505867719650269,0.651787519454956,0.33817410469055176,0.1669532060623169,0.05806088447570801,0.020516633987426758,0.010172367095947266,0.0,0.010212898254394531,0.019129276275634766,0.041251301765441895,0.07064390182495117,0.10630512237548828,0.14436626434326172,0.1951460838317871,0.24462378025054932,0.2479848861694336,0.2040712833404541,0.19592440128326416,0.1656181812286377,0.1521918773651123,0.13571876287460327,0.1252833604812622,0.12231296300888062,0.12434613704681396,0.11878252029418945,0.1116112470626831,0.10669803619384766,0.10041612386703491,0.08509153127670288,0.04493582248687744],[1.647603988647461,1.3825466632843018,1.339599609375,1.2632980346679688,1.0738768577575684,0.897969126701355,0.7023775577545166,0.38727426528930664,0.2109304666519165,0.0873650312423706,0.04049980640411377,0.027622699737548828,0.013100385665893555,0.0,0.007799625396728516,0.020013928413391113,0.042565226554870605,0.07398831844329834,0.11123430728912354,0.16225862503051758,0.21267974376678467,0.21967482566833496,0.18193376064300537,0.17819440364837646,0.15014314651489258,0.1416226625442505,0.1295199990272522,0.12257087230682373,0.12232726812362671,0.1269131898880005,0.12162119150161743,0.11390650272369385,0.10874176025390625,0.10186076164245605,0.08581143617630005,0.04557913541793823],[1.6349077224731445,1.412243127822876,1.3723266124725342,1.2978463172912598,1.1084949970245361,0.9298416376113892,0.7306427955627441,0.4116220474243164,0.2357395887374878,0.10694313049316406,0.05530416965484619,0.04163038730621338,0.021768927574157715,0.008368730545043945,0.0,0.009297013282775879,0.022925972938537598,0.04674041271209717,0.07674336433410645,0.12148594856262207,0.16825807094573975,0.17766332626342773,0.1507319211959839,0.15040457248687744,0.1304152011871338,0.1276332139968872,0.12105244398117065,0.12019062042236328,0.12376827001571655,0.1322801113128662,0.12720781564712524,0.11925578117370605,0.1139681339263916,0.1065213680267334,0.09000831842422485,0.04699563980102539],[1.6400976181030273,1.4776132106781006,1.4433870315551758,1.3673217296600342,1.178666353225708,0.9999305009841919,0.7975852489471436,0.4755892753601074,0.29493117332458496,0.15459680557250977,0.09209573268890381,0.07593107223510742,0.04684782028198242,0.022126436233520508,0.012095928192138672,0.0,0.009090423583984375,0.025260448455810547,0.04809141159057617,0.08831357955932617,0.1330888271331787,0.1456620693206787,0.12970829010009766,0.13264727592468262,0.11867880821228027,0.12117242813110352,0.11877185106277466,0.12023663520812988,0.12780839204788208,0.138891339302063,0.13452434539794922,0.12577396631240845,0.12096625566482544,0.11315047740936279,0.09828305244445801,0.04858475923538208],[1.6428332328796387,1.4773643016815186,1.447439432144165,1.376047134399414,1.198112964630127,1.024978756904602,0.8265478610992432,0.5111725330352783,0.33633387088775635,0.1974024772644043,0.12928283214569092,0.11383259296417236,0.07569420337677002,0.04307913780212402,0.027122020721435547,0.01023411750793457,0.0,0.01113271713256836,0.026807785034179688,0.056508421897888184,0.09426295757293701,0.10932779312133789,0.10377895832061768,0.11032521724700928,0.10455465316772461,0.11274945735931396,0.11589723825454712,0.12327361106872559,0.13385242223739624,0.14844679832458496,0.14329904317855835,0.133650004863739,0.1279774308204651,0.11869668960571289,0.1015239953994751,0.05197346210479736],[1.6363859176635742,1.4537553787231445,1.4217100143432617,1.3497838973999023,1.1585307121276855,0.9709872007369995,0.7665407657623291,0.46779894828796387,0.31783628463745117,0.20064818859100342,0.14377200603485107,0.13245058059692383,0.09710240364074707,0.06510889530181885,0.04757857322692871,0.025634050369262695,0.012992382049560547,0.0,0.009834766387939453,0.02796006202697754,0.05412125587463379,0.06772017478942871,0.07056033611297607,0.0785977840423584,0.07926833629608154,0.09253668785095215,0.10060292482376099,0.1125098466873169,0.12470144033432007,0.14158201217651367,0.13662868738174438,0.1267072558403015,0.12120324373245239,0.11172348260879517,0.09497445821762085,0.05034393072128296],[1.641808032989502,1.4576966762542725,1.4282381534576416,1.3554368019104004,1.1616110801696777,0.9665864706039429,0.7589015960693359,0.4639770984649658,0.3237382173538208,0.21517789363861084,0.16222631931304932,0.15090513229370117,0.11748957633972168,0.08713841438293457,0.06739449501037598,0.04295003414154053,0.02879655361175537,0.01350259780883789,0.0,0.009044051170349121,0.024364948272705078,0.03316628932952881,0.04085648059844971,0.05001366138458252,0.05790424346923828,0.07325029373168945,0.08549696207046509,0.1031726598739624,0.11714440584182739,0.13754010200500488,0.13266843557357788,0.12268054485321045,0.11627042293548584,0.106143057346344,0.09003907442092896,0.0500941276550293],[1.6544427871704102,1.4722614288330078,1.4432554244995117,1.3671224117279053,1.1702783107757568,0.9670552015304565,0.7522909641265869,0.46024274826049805,0.329007625579834,0.22852778434753418,0.17952656745910645,0.16801154613494873,0.13748562335968018,0.10970580577850342,0.0896749496459961,0.06428980827331543,0.04858565330505371,0.030061960220336914,0.011627554893493652,0.0,0.008105039596557617,0.014598488807678223,0.026470541954040527,0.036659955978393555,0.048807382583618164,0.06534826755523682,0.08005505800247192,0.10172772407531738,0.11683768033981323,0.13915419578552246,0.1332777738571167,0.12289369106292725,0.11559247970581055,0.10449868440628052,0.0886843204498291,0.05378490686416626],[1.6554245948791504,1.536470890045166,1.5087413787841797,1.4295730590820312,1.2329587936401367,1.0302056074142456,0.815183162689209,0.5128946304321289,0.376766562461853,0.2657057046890259,0.21218442916870117,0.20322465896606445,0.168587327003479,0.1368921995162964,0.11474573612213135,0.0862342119216919,0.0668560266494751,0.046335458755493164,0.02454352378845215,0.009554505348205566,0.0,0.005723476409912109,0.023792266845703125,0.034079790115356445,0.04935169219970703,0.06806051731109619,0.08497041463851929,0.1095513105392456,0.12469011545181274,0.1471247673034668,0.13957351446151733,0.12730056047439575,0.11877316236495972,0.10614341497421265,0.08831185102462769,0.05861556529998779],[1.6605725288391113,1.5055360794067383,1.4761319160461426,1.396796464920044,1.2008724212646484,1.0001755952835083,0.7958168983459473,0.5101444721221924,0.38430678844451904,0.27886343002319336,0.2280879020690918,0.22167670726776123,0.18740499019622803,0.1551659107208252,0.13354969024658203,0.10310804843902588,0.0843576192855835,0.06233859062194824,0.03643238544464111,0.019299745559692383,0.009070396423339844,0.0,0.012660861015319824,0.020572543144226074,0.03509235382080078,0.05169260501861572,0.06795185804367065,0.09307479858398438,0.10915356874465942,0.13243353366851807,0.12677162885665894,0.11666250228881836,0.10982441902160645,0.09885179996490479,0.08297872543334961,0.058769404888153076],[1.6711711883544922,1.3682868480682373,1.3453338146209717,1.2758514881134033,1.1015136241912842,0.921005129814148,0.7423443794250488,0.495424747467041,0.3881627321243286,0.29387998580932617,0.24651551246643066,0.24456918239593506,0.20721852779388428,0.17296338081359863,0.15015268325805664,0.11755728721618652,0.10046875476837158,0.07676613330841064,0.050368428230285645,0.03576827049255371,0.030478715896606445,0.01457226276397705,0.0,0.00418698787689209,0.011487245559692383,0.02268218994140625,0.03578835725784302,0.057816505432128906,0.07366615533828735,0.09769707918167114,0.09511727094650269,0.08928966522216797,0.08651202917098999,0.07979637384414673,0.06948596239089966,0.05646347999572754],[1.679995059967041,1.290794849395752,1.271327018737793,1.2062139511108398,1.0395679473876953,0.8693960905075073,0.7049360275268555,0.48151159286499023,0.3862375020980835,0.30023252964019775,0.25789082050323486,0.25838351249694824,0.22067177295684814,0.1862645149230957,0.16347813606262207,0.13133418560028076,0.11557745933532715,0.09131407737731934,0.06480395793914795,0.051010966300964355,0.046305179595947266,0.026728034019470215,0.006795644760131836,0.0,0.006227374076843262,0.015527129173278809,0.026579320430755615,0.04771113395690918,0.06278526782989502,0.08621108531951904,0.0849958062171936,0.08030635118484497,0.07936286926269531,0.07420343160629272,0.06587207317352295,0.05547076463699341],[1.691910743713379,1.268970251083374,1.250941276550293,1.1870863437652588,1.016890287399292,0.8471695184707642,0.687474250793457,0.473344087600708,0.38212382793426514,0.30039548873901367,0.2615593671798706,0.2644803524017334,0.22915983200073242,0.19651103019714355,0.17646420001983643,0.1459566354751587,0.13363659381866455,0.11096370220184326,0.08794951438903809,0.07697558403015137,0.07580184936523438,0.05238080024719238,0.019881129264831543,0.010715126991271973,0.0,0.005708456039428711,0.013810455799102783,0.03055208921432495,0.04480171203613281,0.06697523593902588,0.06809699535369873,0.06568437814712524,0.06749188899993896,0.06459075212478638,0.05933910608291626,0.05146604776382446],[1.6962599754333496,1.231459617614746,1.2133851051330566,1.1503772735595703,0.9871633052825928,0.827201247215271,0.6799314022064209,0.47989821434020996,0.39542996883392334,0.32073974609375,0.2858935594558716,0.2927970886230469,0.25564372539520264,0.2217041254043579,0.2014535665512085,0.1697925329208374,0.16076838970184326,0.1400299072265625,0.11795210838317871,0.10927927494049072,0.11173367500305176,0.0836641788482666,0.039522647857666016,0.025991320610046387,0.008691072463989258,0.0,0.0039424896240234375,0.016453027725219727,0.029227733612060547,0.05013841390609741,0.05189770460128784,0.05201709270477295,0.05465477705001831,0.05413752794265747,0.053613364696502686,0.04944503307342529],[1.6933250427246094,1.183624505996704,1.167860507965088,1.1087157726287842,0.9527912139892578,0.8031302690505981,0.6663119792938232,0.47957873344421387,0.4031418561935425,0.3372838497161865,0.30823349952697754,0.3184698820114136,0.2808656692504883,0.2464902400970459,0.22703707218170166,0.19597601890563965,0.1894744634628296,0.17126953601837158,0.1520596742630005,0.14749681949615479,0.1541600227355957,0.1229851245880127,0.06715822219848633,0.04843759536743164,0.023503422737121582,0.008092761039733887,0.0,0.006988048553466797,0.016837894916534424,0.0346338152885437,0.037715792655944824,0.03977078199386597,0.0449792742729187,0.047433316707611084,0.05035531520843506,0.04764062166213989],[1.6945819854736328,1.161839246749878,1.1498253345489502,1.0942177772521973,0.9432213306427002,0.7991582155227661,0.6681146621704102,0.4894583225250244,0.42088019847869873,0.3649320602416992,0.3410012722015381,0.35436177253723145,0.3181450366973877,0.28476572036743164,0.266970157623291,0.2380354404449463,0.23474538326263428,0.2192610502243042,0.20275580883026123,0.20254504680633545,0.21348989009857178,0.17997097969055176,0.1120154857635498,0.08852493762969971,0.05210530757904053,0.02687704563140869,0.010342419147491455,0.0,0.004936158657073975,0.01703399419784546,0.021084487438201904,0.025411665439605713,0.03242844343185425,0.03707385063171387,0.04376918077468872,0.042002975940704346],[1.7013616561889648,1.1572346687316895,1.145383596420288,1.0913937091827393,0.9452855587005615,0.8055001497268677,0.6790235042572021,0.5072002410888672,0.45007026195526123,0.40355467796325684,0.38397324085235596,0.40223729610443115,0.3639472723007202,0.33050549030303955,0.3121757507324219,0.28342700004577637,0.2799501419067383,0.26667797565460205,0.25023913383483887,0.2540168762207031,0.26790356636047363,0.23334848880767822,0.15450096130371094,0.12796735763549805,0.08328390121459961,0.05000865459442139,0.025259554386138916,0.006937146186828613,0.0,0.006622910499572754,0.01027137041091919,0.014968514442443848,0.02135026454925537,0.026449501514434814,0.03480345010757446,0.04078191518783569],[1.6996636390686035,1.1177270412445068,1.1039800643920898,1.052588939666748,0.9129061698913574,0.7817307710647583,0.6644201278686523,0.5090038776397705,0.4678531885147095,0.43758296966552734,0.42732977867126465,0.45088768005371094,0.41375982761383057,0.38139545917510986,0.3638029098510742,0.33609819412231445,0.3330550193786621,0.32236456871032715,0.3066871166229248,0.313381552696228,0.32988178730010986,0.2945547103881836,0.20865488052368164,0.1804513931274414,0.12769532203674316,0.08645689487457275,0.05233639478683472,0.022812068462371826,0.007706820964813232,0.0,0.0024799108505249023,0.00716555118560791,0.013637423515319824,0.019756436347961426,0.029633700847625732,0.040360867977142334],[1.7062735557556152,1.0971310138702393,1.082923173904419,1.0330121517181396,0.8975870609283447,0.7728415727615356,0.6621701717376709,0.514988899230957,0.47799599170684814,0.4535329341888428,0.4464980363845825,0.47285258769989014,0.4381157159805298,0.40811312198638916,0.39282846450805664,0.36747443675994873,0.3664141893386841,0.35899388790130615,0.34254395961761475,0.34921443462371826,0.36595821380615234,0.32949209213256836,0.23834574222564697,0.21010911464691162,0.15255284309387207,0.10633015632629395,0.06779104471206665,0.034523189067840576,0.016083240509033203,0.005830526351928711,0.0,0.0033345818519592285,0.007710754871368408,0.013470351696014404,0.023289024829864502,0.041020095348358154],[1.7136378288269043,1.0843417644500732,1.0683982372283936,1.0206117630004883,0.8877017498016357,0.7671443223953247,0.6609091758728027,0.5194075107574463,0.4865785837173462,0.46597933769226074,0.4602952003479004,0.48729586601257324,0.45300865173339844,0.42243242263793945,0.4072376489639282,0.38110780715942383,0.37947261333465576,0.37145185470581055,0.35356080532073975,0.35878753662109375,0.3746798038482666,0.33852672576904297,0.24659717082977295,0.21823489665985107,0.15948307514190674,0.11378443241119385,0.07494479417800903,0.04210054874420166,0.023358643054962158,0.012596964836120605,0.00552743673324585,0.0,0.0032956600189208984,0.008177220821380615,0.017593979835510254,0.039734482765197754],[1.7158231735229492,1.054307460784912,1.036506175994873,0.9918053150177002,0.8631291389465332,0.7536693811416626,0.6562891006469727,0.5187289714813232,0.4785269498825073,0.4541134834289551,0.44861817359924316,0.47631120681762695,0.4466872215270996,0.42069411277770996,0.4094574451446533,0.3874812126159668,0.39083337783813477,0.38537073135375977,0.3700568675994873,0.3763577938079834,0.3939218521118164,0.3587402105331421,0.2665315866470337,0.2391955852508545,0.17875385284423828,0.13101720809936523,0.09119266271591187,0.0568232536315918,0.03588634729385376,0.02361142635345459,0.013777017593383789,0.006793498992919922,0.0,0.002653062343597412,0.009662389755249023,0.042453229427337646],[1.7257204055786133,1.0226914882659912,1.0039145946502686,0.9602575302124023,0.8314294815063477,0.7321890592575073,0.643256425857544,0.5070328712463379,0.44807279109954834,0.4106450080871582,0.40073299407958984,0.4240812063217163,0.39958298206329346,0.37835514545440674,0.37186896800994873,0.3549884557723999,0.36308348178863525,0.3600008487701416,0.3512808084487915,0.3609846830368042,0.3816155195236206,0.35016393661499023,0.2647451162338257,0.2395097017288208,0.1821761131286621,0.13733351230621338,0.10010641813278198,0.06698107719421387,0.04667019844055176,0.03499197959899902,0.024266839027404785,0.015695154666900635,0.006339371204376221,0.0,0.004504680633544922,0.04683190584182739],[1.7279114723205566,1.0276305675506592,1.0077128410339355,0.9600405693054199,0.8181228637695312,0.7258468866348267,0.6496224403381348,0.5251574516296387,0.44088423252105713,0.3716224431991577,0.3415588140487671,0.34824514389038086,0.3315286636352539,0.3181498050689697,0.31993532180786133,0.31105124950408936,0.3242870569229126,0.3240548372268677,0.3265625238418579,0.34335458278656006,0.3693891763687134,0.34372591972351074,0.26875829696655273,0.24662959575653076,0.19373571872711182,0.15425324440002441,0.11990481615066528,0.08953821659088135,0.07059526443481445,0.059237003326416016,0.04678112268447876,0.03630286455154419,0.022896528244018555,0.01241523027420044,0.0,0.05369257926940918],[1.7010364532470703,1.139460563659668,1.1155869960784912,1.058415174484253,0.8797807693481445,0.7398983240127563,0.6413357257843018,0.5196273326873779,0.44421422481536865,0.37071359157562256,0.33266735076904297,0.3241400718688965,0.3112574815750122,0.30462443828582764,0.3097970485687256,0.30542802810668945,0.31685948371887207,0.3112354278564453,0.31890320777893066,0.3433734178543091,0.36583054065704346,0.354048490524292,0.3047744035720825,0.2775862216949463,0.23589622974395752,0.20664596557617188,0.17816537618637085,0.144140362739563,0.13597959280014038,0.12689614295959473,0.11645901203155518,0.10262352228164673,0.08967745304107666,0.07524865865707397,0.05124694108963013,0.0]],\"type\":\"heatmap\",\"xaxis\":\"x\",\"yaxis\":\"y\",\"hovertemplate\":\"x: %{x}<br>y: %{y}<br>color: %{z}<extra></extra>\"}],                        {\"template\":{\"data\":{\"histogram2dcontour\":[{\"type\":\"histogram2dcontour\",\"colorbar\":{\"outlinewidth\":0,\"ticks\":\"\"},\"colorscale\":[[0.0,\"#0d0887\"],[0.1111111111111111,\"#46039f\"],[0.2222222222222222,\"#7201a8\"],[0.3333333333333333,\"#9c179e\"],[0.4444444444444444,\"#bd3786\"],[0.5555555555555556,\"#d8576b\"],[0.6666666666666666,\"#ed7953\"],[0.7777777777777778,\"#fb9f3a\"],[0.8888888888888888,\"#fdca26\"],[1.0,\"#f0f921\"]]}],\"choropleth\":[{\"type\":\"choropleth\",\"colorbar\":{\"outlinewidth\":0,\"ticks\":\"\"}}],\"histogram2d\":[{\"type\":\"histogram2d\",\"colorbar\":{\"outlinewidth\":0,\"ticks\":\"\"},\"colorscale\":[[0.0,\"#0d0887\"],[0.1111111111111111,\"#46039f\"],[0.2222222222222222,\"#7201a8\"],[0.3333333333333333,\"#9c179e\"],[0.4444444444444444,\"#bd3786\"],[0.5555555555555556,\"#d8576b\"],[0.6666666666666666,\"#ed7953\"],[0.7777777777777778,\"#fb9f3a\"],[0.8888888888888888,\"#fdca26\"],[1.0,\"#f0f921\"]]}],\"heatmap\":[{\"type\":\"heatmap\",\"colorbar\":{\"outlinewidth\":0,\"ticks\":\"\"},\"colorscale\":[[0.0,\"#0d0887\"],[0.1111111111111111,\"#46039f\"],[0.2222222222222222,\"#7201a8\"],[0.3333333333333333,\"#9c179e\"],[0.4444444444444444,\"#bd3786\"],[0.5555555555555556,\"#d8576b\"],[0.6666666666666666,\"#ed7953\"],[0.7777777777777778,\"#fb9f3a\"],[0.8888888888888888,\"#fdca26\"],[1.0,\"#f0f921\"]]}],\"heatmapgl\":[{\"type\":\"heatmapgl\",\"colorbar\":{\"outlinewidth\":0,\"ticks\":\"\"},\"colorscale\":[[0.0,\"#0d0887\"],[0.1111111111111111,\"#46039f\"],[0.2222222222222222,\"#7201a8\"],[0.3333333333333333,\"#9c179e\"],[0.4444444444444444,\"#bd3786\"],[0.5555555555555556,\"#d8576b\"],[0.6666666666666666,\"#ed7953\"],[0.7777777777777778,\"#fb9f3a\"],[0.8888888888888888,\"#fdca26\"],[1.0,\"#f0f921\"]]}],\"contourcarpet\":[{\"type\":\"contourcarpet\",\"colorbar\":{\"outlinewidth\":0,\"ticks\":\"\"}}],\"contour\":[{\"type\":\"contour\",\"colorbar\":{\"outlinewidth\":0,\"ticks\":\"\"},\"colorscale\":[[0.0,\"#0d0887\"],[0.1111111111111111,\"#46039f\"],[0.2222222222222222,\"#7201a8\"],[0.3333333333333333,\"#9c179e\"],[0.4444444444444444,\"#bd3786\"],[0.5555555555555556,\"#d8576b\"],[0.6666666666666666,\"#ed7953\"],[0.7777777777777778,\"#fb9f3a\"],[0.8888888888888888,\"#fdca26\"],[1.0,\"#f0f921\"]]}],\"surface\":[{\"type\":\"surface\",\"colorbar\":{\"outlinewidth\":0,\"ticks\":\"\"},\"colorscale\":[[0.0,\"#0d0887\"],[0.1111111111111111,\"#46039f\"],[0.2222222222222222,\"#7201a8\"],[0.3333333333333333,\"#9c179e\"],[0.4444444444444444,\"#bd3786\"],[0.5555555555555556,\"#d8576b\"],[0.6666666666666666,\"#ed7953\"],[0.7777777777777778,\"#fb9f3a\"],[0.8888888888888888,\"#fdca26\"],[1.0,\"#f0f921\"]]}],\"mesh3d\":[{\"type\":\"mesh3d\",\"colorbar\":{\"outlinewidth\":0,\"ticks\":\"\"}}],\"scatter\":[{\"fillpattern\":{\"fillmode\":\"overlay\",\"size\":10,\"solidity\":0.2},\"type\":\"scatter\"}],\"parcoords\":[{\"type\":\"parcoords\",\"line\":{\"colorbar\":{\"outlinewidth\":0,\"ticks\":\"\"}}}],\"scatterpolargl\":[{\"type\":\"scatterpolargl\",\"marker\":{\"colorbar\":{\"outlinewidth\":0,\"ticks\":\"\"}}}],\"bar\":[{\"error_x\":{\"color\":\"#2a3f5f\"},\"error_y\":{\"color\":\"#2a3f5f\"},\"marker\":{\"line\":{\"color\":\"#E5ECF6\",\"width\":0.5},\"pattern\":{\"fillmode\":\"overlay\",\"size\":10,\"solidity\":0.2}},\"type\":\"bar\"}],\"scattergeo\":[{\"type\":\"scattergeo\",\"marker\":{\"colorbar\":{\"outlinewidth\":0,\"ticks\":\"\"}}}],\"scatterpolar\":[{\"type\":\"scatterpolar\",\"marker\":{\"colorbar\":{\"outlinewidth\":0,\"ticks\":\"\"}}}],\"histogram\":[{\"marker\":{\"pattern\":{\"fillmode\":\"overlay\",\"size\":10,\"solidity\":0.2}},\"type\":\"histogram\"}],\"scattergl\":[{\"type\":\"scattergl\",\"marker\":{\"colorbar\":{\"outlinewidth\":0,\"ticks\":\"\"}}}],\"scatter3d\":[{\"type\":\"scatter3d\",\"line\":{\"colorbar\":{\"outlinewidth\":0,\"ticks\":\"\"}},\"marker\":{\"colorbar\":{\"outlinewidth\":0,\"ticks\":\"\"}}}],\"scattermapbox\":[{\"type\":\"scattermapbox\",\"marker\":{\"colorbar\":{\"outlinewidth\":0,\"ticks\":\"\"}}}],\"scatterternary\":[{\"type\":\"scatterternary\",\"marker\":{\"colorbar\":{\"outlinewidth\":0,\"ticks\":\"\"}}}],\"scattercarpet\":[{\"type\":\"scattercarpet\",\"marker\":{\"colorbar\":{\"outlinewidth\":0,\"ticks\":\"\"}}}],\"carpet\":[{\"aaxis\":{\"endlinecolor\":\"#2a3f5f\",\"gridcolor\":\"white\",\"linecolor\":\"white\",\"minorgridcolor\":\"white\",\"startlinecolor\":\"#2a3f5f\"},\"baxis\":{\"endlinecolor\":\"#2a3f5f\",\"gridcolor\":\"white\",\"linecolor\":\"white\",\"minorgridcolor\":\"white\",\"startlinecolor\":\"#2a3f5f\"},\"type\":\"carpet\"}],\"table\":[{\"cells\":{\"fill\":{\"color\":\"#EBF0F8\"},\"line\":{\"color\":\"white\"}},\"header\":{\"fill\":{\"color\":\"#C8D4E3\"},\"line\":{\"color\":\"white\"}},\"type\":\"table\"}],\"barpolar\":[{\"marker\":{\"line\":{\"color\":\"#E5ECF6\",\"width\":0.5},\"pattern\":{\"fillmode\":\"overlay\",\"size\":10,\"solidity\":0.2}},\"type\":\"barpolar\"}],\"pie\":[{\"automargin\":true,\"type\":\"pie\"}]},\"layout\":{\"autotypenumbers\":\"strict\",\"colorway\":[\"#636efa\",\"#EF553B\",\"#00cc96\",\"#ab63fa\",\"#FFA15A\",\"#19d3f3\",\"#FF6692\",\"#B6E880\",\"#FF97FF\",\"#FECB52\"],\"font\":{\"color\":\"#2a3f5f\"},\"hovermode\":\"closest\",\"hoverlabel\":{\"align\":\"left\"},\"paper_bgcolor\":\"white\",\"plot_bgcolor\":\"#E5ECF6\",\"polar\":{\"bgcolor\":\"#E5ECF6\",\"angularaxis\":{\"gridcolor\":\"white\",\"linecolor\":\"white\",\"ticks\":\"\"},\"radialaxis\":{\"gridcolor\":\"white\",\"linecolor\":\"white\",\"ticks\":\"\"}},\"ternary\":{\"bgcolor\":\"#E5ECF6\",\"aaxis\":{\"gridcolor\":\"white\",\"linecolor\":\"white\",\"ticks\":\"\"},\"baxis\":{\"gridcolor\":\"white\",\"linecolor\":\"white\",\"ticks\":\"\"},\"caxis\":{\"gridcolor\":\"white\",\"linecolor\":\"white\",\"ticks\":\"\"}},\"coloraxis\":{\"colorbar\":{\"outlinewidth\":0,\"ticks\":\"\"}},\"colorscale\":{\"sequential\":[[0.0,\"#0d0887\"],[0.1111111111111111,\"#46039f\"],[0.2222222222222222,\"#7201a8\"],[0.3333333333333333,\"#9c179e\"],[0.4444444444444444,\"#bd3786\"],[0.5555555555555556,\"#d8576b\"],[0.6666666666666666,\"#ed7953\"],[0.7777777777777778,\"#fb9f3a\"],[0.8888888888888888,\"#fdca26\"],[1.0,\"#f0f921\"]],\"sequentialminus\":[[0.0,\"#0d0887\"],[0.1111111111111111,\"#46039f\"],[0.2222222222222222,\"#7201a8\"],[0.3333333333333333,\"#9c179e\"],[0.4444444444444444,\"#bd3786\"],[0.5555555555555556,\"#d8576b\"],[0.6666666666666666,\"#ed7953\"],[0.7777777777777778,\"#fb9f3a\"],[0.8888888888888888,\"#fdca26\"],[1.0,\"#f0f921\"]],\"diverging\":[[0,\"#8e0152\"],[0.1,\"#c51b7d\"],[0.2,\"#de77ae\"],[0.3,\"#f1b6da\"],[0.4,\"#fde0ef\"],[0.5,\"#f7f7f7\"],[0.6,\"#e6f5d0\"],[0.7,\"#b8e186\"],[0.8,\"#7fbc41\"],[0.9,\"#4d9221\"],[1,\"#276419\"]]},\"xaxis\":{\"gridcolor\":\"white\",\"linecolor\":\"white\",\"ticks\":\"\",\"title\":{\"standoff\":15},\"zerolinecolor\":\"white\",\"automargin\":true,\"zerolinewidth\":2},\"yaxis\":{\"gridcolor\":\"white\",\"linecolor\":\"white\",\"ticks\":\"\",\"title\":{\"standoff\":15},\"zerolinecolor\":\"white\",\"automargin\":true,\"zerolinewidth\":2},\"scene\":{\"xaxis\":{\"backgroundcolor\":\"#E5ECF6\",\"gridcolor\":\"white\",\"linecolor\":\"white\",\"showbackground\":true,\"ticks\":\"\",\"zerolinecolor\":\"white\",\"gridwidth\":2},\"yaxis\":{\"backgroundcolor\":\"#E5ECF6\",\"gridcolor\":\"white\",\"linecolor\":\"white\",\"showbackground\":true,\"ticks\":\"\",\"zerolinecolor\":\"white\",\"gridwidth\":2},\"zaxis\":{\"backgroundcolor\":\"#E5ECF6\",\"gridcolor\":\"white\",\"linecolor\":\"white\",\"showbackground\":true,\"ticks\":\"\",\"zerolinecolor\":\"white\",\"gridwidth\":2}},\"shapedefaults\":{\"line\":{\"color\":\"#2a3f5f\"}},\"annotationdefaults\":{\"arrowcolor\":\"#2a3f5f\",\"arrowhead\":0,\"arrowwidth\":1},\"geo\":{\"bgcolor\":\"white\",\"landcolor\":\"#E5ECF6\",\"subunitcolor\":\"white\",\"showland\":true,\"showlakes\":true,\"lakecolor\":\"white\"},\"title\":{\"x\":0.05},\"mapbox\":{\"style\":\"light\"}}},\"xaxis\":{\"anchor\":\"y\",\"domain\":[0.0,1.0],\"scaleanchor\":\"y\",\"constrain\":\"domain\",\"dtick\":5,\"title\":{\"text\":\"Test layer\"}},\"yaxis\":{\"anchor\":\"x\",\"domain\":[0.0,1.0],\"autorange\":\"reversed\",\"constrain\":\"domain\",\"dtick\":5,\"title\":{\"text\":\"Train layer\"}},\"coloraxis\":{\"colorscale\":[[0.0,\"#0d0887\"],[0.1111111111111111,\"#46039f\"],[0.2222222222222222,\"#7201a8\"],[0.3333333333333333,\"#9c179e\"],[0.4444444444444444,\"#bd3786\"],[0.5555555555555556,\"#d8576b\"],[0.6666666666666666,\"#ed7953\"],[0.7777777777777778,\"#fb9f3a\"],[0.8888888888888888,\"#fdca26\"],[1.0,\"#f0f921\"]],\"colorbar\":{\"title\":{\"side\":\"right\",\"text\":\"bits per byte\"}}},\"margin\":{\"t\":50,\"l\":70,\"r\":30,\"b\":70},\"font\":{\"size\":16,\"color\":\"black\"},\"height\":583.2,\"width\":648.0},                        {\"responsive\": true}                    ).then(function(){\n",
       "                            \n",
       "var gd = document.getElementById('7e047e64-fce8-4710-9f46-6c5ff8cd9e0a');\n",
       "var x = new MutationObserver(function (mutations, observer) {{\n",
       "        var display = window.getComputedStyle(gd).display;\n",
       "        if (!display || display === 'none') {{\n",
       "            console.log([gd, 'removed!']);\n",
       "            Plotly.purge(gd);\n",
       "            observer.disconnect();\n",
       "        }}\n",
       "}});\n",
       "\n",
       "// Listen for the removal of the full notebook cells\n",
       "var notebookContainer = gd.closest('#notebook-container');\n",
       "if (notebookContainer) {{\n",
       "    x.observe(notebookContainer, {childList: true});\n",
       "}}\n",
       "\n",
       "// Listen for the clearing of the current output cell\n",
       "var outputEl = gd.closest('.output');\n",
       "if (outputEl) {{\n",
       "    x.observe(outputEl, {childList: true});\n",
       "}}\n",
       "\n",
       "                        })                };                });            </script>        </div>"
      ]
     },
     "metadata": {},
     "output_type": "display_data"
    }
   ],
   "source": [
    "import plotly.express as px\n",
    "\n",
    "COL_WIDTH = 6.75 * 96\n",
    "\n",
    "fig = px.imshow(\n",
    "    vanilla_transfer['transfer_ce'] - vanilla_transfer['transfer_ce'].diag(),\n",
    "    # color_continuous_scale=px.colors.sequential.Oranges_r,\n",
    ").update_coloraxes(\n",
    "    colorbar_title=dict(\n",
    "        side=\"right\",\n",
    "        text=\"bits per byte\",\n",
    "    )\n",
    ").update_xaxes(\n",
    "    dtick=5,\n",
    "    title=\"Test layer\"\n",
    ").update_yaxes(\n",
    "    dtick=5,\n",
    "    title=\"Train layer\"\n",
    ").update_layout(\n",
    "    font=dict(size=16, color=\"black\"),\n",
    "    margin_l=70,\n",
    "    margin_r=30,\n",
    "    margin_t=50,\n",
    "    margin_b=70,\n",
    "    height=COL_WIDTH * 0.9,\n",
    "    width=COL_WIDTH,\n",
    ")\n",
    "fig"
   ]
  },
  {
   "cell_type": "code",
   "execution_count": null,
   "metadata": {},
   "outputs": [],
   "source": [
    "fig.write_image(\"/mnt/ssd-1/nora/transfer-penalties.pdf\")"
   ]
  },
  {
   "cell_type": "code",
   "execution_count": null,
   "metadata": {},
   "outputs": [],
   "source": []
  },
  {
   "cell_type": "code",
   "execution_count": null,
   "metadata": {},
   "outputs": [
    {
     "data": {
      "text/plain": [
       "Text(0.5, 1.0, 'GPT Neo X 20B Tuned Lens Transfer CE')"
      ]
     },
     "execution_count": 25,
     "metadata": {},
     "output_type": "execute_result"
    },
    {
     "data": {
      "image/png": "[encoded data removed]",
      "text/plain": [
       "<Figure size 1000x1000 with 2 Axes>"
      ]
     },
     "metadata": {},
     "output_type": "display_data"
    }
   ],
   "source": [
    "import matplotlib.pyplot as plt\n",
    "\n",
    "plt.figure(figsize=(10, 10))\n",
    "plt.matshow(vanilla_transfer['transfer_ce'], fignum=0)\n",
    "plt.colorbar()\n",
    "plt.xlabel(\"Test layer\")\n",
    "plt.ylabel(\"Train layer\")\n",
    "plt.title(\"GPT Neo X 20B Tuned Lens Transfer CE\")"
   ]
  },
  {
   "cell_type": "code",
   "execution_count": null,
   "metadata": {},
   "outputs": [
    {
     "data": {
      "text/plain": [
       "Text(0, 0.5, 'bits per byte')"
      ]
     },
     "execution_count": 12,
     "metadata": {},
     "output_type": "execute_result"
    },
    {
     "data": {
      "image/png": "[encoded data removed]",
      "text/plain": [
       "<Figure size 800x500 with 1 Axes>"
      ]
     },
     "metadata": {},
     "output_type": "display_data"
    }
   ],
   "source": [
    "import matplotlib.pyplot as plt\n",
    "\n",
    "plt.figure(figsize=(8, 5))\n",
    "plt.plot(vanilla[\"baseline_ce\"].values(), label=\"Logit lens\", marker='o')\n",
    "plt.plot(vanilla[\"lens_ce\"].values(), label=\"Affine\", marker='o')\n",
    "# plt.plot(mlp[\"lens_ce\"].values(), label=\"MLP\", marker='o')\n",
    "plt.legend()\n",
    "plt.title(\"Tuned lens perplexity (Pythia 125M)\")\n",
    "plt.xticks(range(len(vanilla[\"lens_ce\"])), vanilla[\"lens_ce\"].keys(), rotation=60)\n",
    "plt.ylabel(\"bits per byte\")"
   ]
  },
  {
   "cell_type": "code",
   "execution_count": null,
   "metadata": {},
   "outputs": [
    {
     "data": {
      "text/plain": [
       "Text(0, 0.5, 'bits per byte')"
      ]
     },
     "execution_count": 10,
     "metadata": {},
     "output_type": "execute_result"
    },
    {
     "data": {
      "image/png": "[encoded data removed]",
      "text/plain": [
       "<Figure size 800x500 with 1 Axes>"
      ]
     },
     "metadata": {},
     "output_type": "display_data"
    }
   ],
   "source": [
    "import matplotlib.pyplot as plt\n",
    "\n",
    "plt.figure(figsize=(8, 5))\n",
    "plt.plot(vanilla[\"baseline_ce\"].values(), label=\"Logit lens\", marker='o')\n",
    "plt.plot(vanilla[\"lens_ce\"].values(), label=\"Affine\", marker='o')\n",
    "# plt.plot(mlp[\"lens_ce\"].values(), label=\"MLP\", marker='o')\n",
    "plt.legend()\n",
    "plt.title(\"Tuned lens perplexity (OPT 125M)\")\n",
    "plt.xticks(range(len(vanilla[\"lens_ce\"])), vanilla[\"lens_ce\"].keys(), rotation=60)\n",
    "plt.ylabel(\"bits per byte\")"
   ]
  },
  {
   "cell_type": "code",
   "execution_count": null,
   "metadata": {},
   "outputs": [
    {
     "data": {
      "text/plain": [
       "Text(0, 0.5, 'bits per byte')"
      ]
     },
     "execution_count": 8,
     "metadata": {},
     "output_type": "execute_result"
    },
    {
     "data": {
      "image/png": "[encoded data removed]",
      "text/plain": [
       "<Figure size 1500x500 with 1 Axes>"
      ]
     },
     "metadata": {},
     "output_type": "display_data"
    }
   ],
   "source": [
    "import matplotlib.pyplot as plt\n",
    "\n",
    "plt.figure(figsize=(15, 5))\n",
    "plt.plot(vanilla[\"lens_kl\"].values(), label=\"Tuned lens\", marker='o')\n",
    "plt.legend()\n",
    "plt.title(\"KL from final layer logits (GPT-NeoX 20B)\")\n",
    "plt.xticks(range(len(vanilla[\"lens_kl\"])), vanilla[\"lens_kl\"].keys(), rotation=60)\n",
    "plt.ylabel(\"bits per byte\")"
   ]
  },
  {
   "cell_type": "code",
   "execution_count": null,
   "metadata": {},
   "outputs": [
    {
     "data": {
      "text/plain": [
       "'https://plotly.com/~norabelrose/20/'"
      ]
     },
     "execution_count": 8,
     "metadata": {},
     "output_type": "execute_result"
    }
   ],
   "source": [
    "import chart_studio.plotly as py\n",
    "\n",
    "py.plot(fig, filename=\"gpt-neox-transfer-surface\", auto_open=True)"
   ]
  },
  {
   "cell_type": "code",
   "execution_count": null,
   "metadata": {},
   "outputs": [],
   "source": [
    "import torch as th\n",
    "\n",
    "stats = th.load(\n",
    "    \"/mnt/ssd-1/nora/real-lenses/pythia/125m-deduped/affine/eval/stream_stats.pt\",\n",
    "    map_location=\"cpu\"\n",
    ")\n",
    "stats_sd = th.load(\n",
    "    \"/mnt/ssd-1/nora/real-lenses/pythia/125m-stochastic-depth/eval/stream_stats.pt\",\n",
    "    map_location=\"cpu\"\n",
    ")"
   ]
  },
  {
   "cell_type": "markdown",
   "metadata": {},
   "source": []
  },
  {
   "cell_type": "code",
   "execution_count": null,
   "metadata": {},
   "outputs": [],
   "source": [
    "from tuned_lens.stats import effective_rank\n",
    "\n",
    "ranks = stats.covariance().map(lambda x: effective_rank(x, num_rogue_dims=1))\n",
    "# ranks_sd = stats_sd.covariance().map(lambda x: effective_rank(x))"
   ]
  },
  {
   "cell_type": "code",
   "execution_count": null,
   "metadata": {},
   "outputs": [
    {
     "data": {
      "text/plain": [
       "ResidualStream(embeddings=tensor([0.0128, 0.0122, 0.0114, 0.0097, 0.0080]), attentions=[], layers=[tensor([6.5772, 2.3674, 1.6174, 0.8219, 0.7915]), tensor([6.0471, 4.3783, 2.9650, 1.3038, 1.0795]), tensor([11.6577,  4.6821,  3.5539,  2.7573,  1.6708]), tensor([144.0221,   5.3801,   4.3650,   2.9148,   2.3916]), tensor([166.3919,   5.4883,   4.5562,   3.3905,   2.2782]), tensor([171.6418,   7.0210,   4.5639,   3.6023,   2.5606]), tensor([175.5272,  14.1427,   9.0913,   4.4696,   3.7037]), tensor([176.7589,  30.8698,   7.7206,   7.2474,   4.1046]), tensor([169.9944,  45.7058,  15.6314,   9.9243,   5.3007]), tensor([147.2540,  65.9325,  23.6067,  12.0857,   7.4272]), tensor([83.5916, 52.2491, 24.4546, 16.6922, 12.0941]), tensor([105.8006, 100.0112,  24.4255,  19.2456,  18.0495])])"
      ]
     },
     "execution_count": 8,
     "metadata": {},
     "output_type": "execute_result"
    }
   ],
   "source": [
    "stats.covariance().map(lambda x: th.linalg.svdvals(x)[:5])"
   ]
  },
  {
   "cell_type": "code",
   "execution_count": null,
   "metadata": {},
   "outputs": [
    {
     "data": {
      "text/plain": [
       "ResidualStream(embeddings=tensor(0.0006), attentions=[], layers=[tensor(4.2098), tensor(1.6688), tensor(6.9757), tensor(138.6420), tensor(160.9036), tensor(164.6207), tensor(161.3845), tensor(145.8890), tensor(124.2887), tensor(81.3215), tensor(31.3425), tensor(5.7894)])"
      ]
     },
     "execution_count": 10,
     "metadata": {},
     "output_type": "execute_result"
    }
   ],
   "source": [
    "def rogue_dim_score(x):\n",
    "    vals = th.linalg.svdvals(x)\n",
    "    return vals[0] - vals[1]\n",
    "\n",
    "stats.covariance().map(rogue_dim_score)"
   ]
  },
  {
   "cell_type": "code",
   "execution_count": null,
   "metadata": {},
   "outputs": [
    {
     "data": {
      "text/plain": [
       "(0.0, 768.0)"
      ]
     },
     "execution_count": 16,
     "metadata": {},
     "output_type": "execute_result"
    },
    {
     "data": {
      "image/png": "[encoded data removed]",
      "text/plain": [
       "<Figure size 640x480 with 1 Axes>"
      ]
     },
     "metadata": {},
     "output_type": "display_data"
    }
   ],
   "source": [
    "import matplotlib.pyplot as plt\n",
    "\n",
    "plt.plot(ranks, label=\"Vanilla\")\n",
    "# plt.plot(ranks_sd, label=\"Stochastic depth\")\n",
    "plt.legend()\n",
    "plt.ylim(0, 768)"
   ]
  },
  {
   "cell_type": "code",
   "execution_count": null,
   "metadata": {},
   "outputs": [],
   "source": []
  }
 ],
 "metadata": {
  "kernelspec": {
   "display_name": "base",
   "language": "python",
   "name": "python3"
  },
  "language_info": {
   "codemirror_mode": {
    "name": "ipython",
    "version": 3
   },
   "file_extension": ".py",
   "mimetype": "text/x-python",
   "name": "python",
   "nbconvert_exporter": "python",
   "pygments_lexer": "ipython3",
   "version": "3.10.8"
  },
  "orig_nbformat": 4,
  "vscode": {
   "interpreter": {
    "hash": "37655a14f19528427b2fab2b7608d4c988ed7d88bb86685bfc3bcc0190ec2edc"
   }
  }
 },
 "nbformat": 4,
 "nbformat_minor": 2
}
