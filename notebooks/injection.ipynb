{
 "cells": [
  {
   "cell_type": "code",
   "execution_count": 1,
   "metadata": {},
   "outputs": [],
   "source": [
    "from collections import Counter\n",
    "import torch as th\n",
    "\n",
    "\n",
    "def all_equal(iterable):\n",
    "    # This throws for empty iterables but that's fine\n",
    "    pivot, *rest = iterable\n",
    "    return all(x == pivot for x in rest)\n",
    "\n",
    "\n",
    "def extract_features(stats: dict):\n",
    "    raw_lls = [x['log_likelihoods'] for x in stats.values()]\n",
    "    class_counts = Counter(len(x) for x in raw_lls)\n",
    "    (normal_count, _), = class_counts.most_common(1)\n",
    "\n",
    "    ll_tensor = th.tensor([\n",
    "        ll for ll in raw_lls if len(ll) == normal_count\n",
    "    ])\n",
    "\n",
    "    # Convert to log odds\n",
    "    num_features = ll_tensor.shape[1]\n",
    "    if num_features == 2:\n",
    "        return ll_tensor.diff(dim=1).squeeze(1) # .sigmoid()\n",
    "    else:\n",
    "        return ll_tensor.flatten(1)\n"
   ]
  },
  {
   "cell_type": "code",
   "execution_count": 2,
   "metadata": {},
   "outputs": [],
   "source": [
    "from functools import partial\n",
    "from itertools import chain\n",
    "from pathlib import Path\n",
    "from sklearn.metrics import roc_auc_score\n",
    "from sklearn.model_selection import train_test_split\n",
    "import random\n",
    "import torch as th\n",
    "\n",
    "\n",
    "ROOT = Path(\"/mnt/ssd-1/nora/tuned-lenses/pythia\")\n",
    "downstream_dir = ROOT / \"12b-deduped\" / \"affine\" / \"downstream\"\n",
    "\n",
    "\n",
    "def auroc_bootstrap(labels, scores, num_samples=1000, seed=0):\n",
    "    rng = random.Random(seed)\n",
    "    n = len(labels)\n",
    "    aurocs = []\n",
    "    for _ in range(num_samples):\n",
    "        idx = rng.choices(range(n), k=n)\n",
    "        aurocs.append(roc_auc_score(labels[idx], scores[idx]))\n",
    "\n",
    "    return aurocs\n",
    "\n",
    "\n",
    "def collect_hiddens(subdir: str, task: str, dtype: th.dtype = th.half):\n",
    "    load_fn = partial(th.load, map_location=\"cpu\")\n",
    "    paths = downstream_dir.joinpath(subdir).glob(f\"rank_*/{task}_hiddens.pt\")\n",
    "    return [\n",
    "        h[:, ::4].mean(dim=0).to(dtype)\n",
    "        for _, h in chain.from_iterable(map(load_fn, paths))\n",
    "    ]\n",
    "\n",
    "def train_val_split(normal: list, abnormal: list, seed: int):\n",
    "    normal_train, normal_test = train_test_split(normal, random_state=seed)\n",
    "    test = normal_test + abnormal\n",
    "    labels = [0] * len(normal_test) + [1] * len(abnormal)\n",
    "    return th.stack(normal_train).cuda(0), th.stack(test).cuda(0), th.tensor(labels).cuda(0)\n",
    "\n",
    "def eval_mahalanobis(\n",
    "    train: th.Tensor, test: th.Tensor, labels: th.Tensor, layer: int = -1, relative: bool = False\n",
    "):\n",
    "    cov = train[:, layer].T.float().cov()\n",
    "    th.linalg.diagonal(cov).add_(1e-3)\n",
    "\n",
    "    mu = train[:, layer].float().mean(dim=0)\n",
    "\n",
    "    # Compute Mahalanobis distance\n",
    "    demeaned = test[:, layer].float() - mu\n",
    "    dists_sq = th.sum(\n",
    "        demeaned * th.linalg.solve(cov, demeaned, left=False), dim=-1\n",
    "    )\n",
    "\n",
    "    if relative:\n",
    "        diag_dists_sq = th.sum(\n",
    "            demeaned * cov.diag().reciprocal() * demeaned, dim=-1\n",
    "        )\n",
    "        dists_sq -= diag_dists_sq\n",
    "\n",
    "    return auroc_bootstrap(labels.cpu(), dists_sq.cpu())"
   ]
  },
  {
   "cell_type": "code",
   "execution_count": 3,
   "metadata": {},
   "outputs": [],
   "source": [
    "from tuned_lens.stats import fit_anomaly_detector\n",
    "import numpy as np\n",
    "import torch as th\n",
    "\n",
    "\n",
    "def compute_aurocs(task: str, **kwargs):\n",
    "    ROOT = \"/mnt/ssd-1/nora/tuned-lenses/pythia\"\n",
    "\n",
    "    # Tuned lens\n",
    "    per_doc_injected = th.load(\n",
    "        f\"{ROOT}/12b-deduped/affine/downstream/injection/{task}_per_doc.pt\",\n",
    "        map_location=\"cpu\",\n",
    "    )\n",
    "    per_doc_normal = th.load(\n",
    "        f\"{ROOT}/12b-deduped/affine/downstream/{task}_per_doc.pt\",\n",
    "        map_location=\"cpu\",\n",
    "    )\n",
    "    normal = extract_features(per_doc_normal)\n",
    "    injected = extract_features(per_doc_injected)\n",
    "\n",
    "    aurocs = []\n",
    "    for seed in range(10):\n",
    "        result = fit_anomaly_detector(\n",
    "            normal, injected, method=\"iforest\", seed=seed, plot=False,\n",
    "        )\n",
    "        aurocs.extend(result.bootstrapped_aurocs)\n",
    "\n",
    "    lo, mid, hi = np.quantile(aurocs, [0.025, 0.5, 0.975])\n",
    "    print(f\"Tuned lens iForest:\\n{mid:.2f}\\\\;({lo:.2f}, {hi:.2f})\")\n",
    "\n",
    "    aurocs = []\n",
    "    for seed in range(10):\n",
    "        result = fit_anomaly_detector(\n",
    "            normal, injected, method=\"lof\", seed=seed, plot=False,\n",
    "            **kwargs\n",
    "        )\n",
    "        aurocs.extend(result.bootstrapped_aurocs)\n",
    "\n",
    "    lo, mid, hi = np.quantile(aurocs, [0.025, 0.5, 0.975])\n",
    "    print(f\"Tuned lens LOF:\\n{mid:.2f}\\\\;({lo:.2f}, {hi:.2f})\")\n",
    "\n",
    "    # Logit lens\n",
    "    per_doc_injected = th.load(\n",
    "        f\"{ROOT}/12b-deduped/affine/downstream/ll-injected/{task}_per_doc.pt\",\n",
    "        map_location=\"cpu\",\n",
    "    )\n",
    "    per_doc_normal = th.load(\n",
    "        f\"{ROOT}/12b-deduped/affine/downstream/ll-normal/{task}_per_doc.pt\",\n",
    "        map_location=\"cpu\",\n",
    "    )\n",
    "    normal = extract_features(per_doc_normal)\n",
    "    injected = extract_features(per_doc_injected)\n",
    "\n",
    "    aurocs = []\n",
    "    for seed in range(10):\n",
    "        result = fit_anomaly_detector(\n",
    "            normal, injected, method=\"iforest\", seed=seed, plot=False,\n",
    "        )\n",
    "        aurocs.extend(result.bootstrapped_aurocs)\n",
    "\n",
    "    lo, mid, hi = np.quantile(aurocs, [0.025, 0.5, 0.975])\n",
    "    print(f\"Logit lens iForest:\\n{mid:.2f}\\\\;({lo:.2f}, {hi:.2f})\")\n",
    "\n",
    "    aurocs = []\n",
    "    for seed in range(10):\n",
    "        result = fit_anomaly_detector(\n",
    "            normal, injected, method=\"lof\", seed=seed, plot=False,\n",
    "            **kwargs\n",
    "        )\n",
    "        aurocs.extend(result.bootstrapped_aurocs)\n",
    "\n",
    "    lo, mid, hi = np.quantile(aurocs, [0.025, 0.5, 0.975])\n",
    "    print(f\"Logit lens LOF:\\n{mid:.2f}\\\\;({lo:.2f}, {hi:.2f})\")"
   ]
  },
  {
   "cell_type": "code",
   "execution_count": 4,
   "metadata": {},
   "outputs": [],
   "source": [
    "import numpy as np\n",
    "\n",
    "def estimate_baseline_mahal_auroc(task: str, layer: int = -1):\n",
    "    normal = collect_hiddens(\"ll-normal\", task)\n",
    "    injected = collect_hiddens(\"ll-injected\", task)\n",
    "\n",
    "    aurocs = sum(\n",
    "        (\n",
    "            eval_mahalanobis(\n",
    "                *train_val_split(normal, injected, seed=i),\n",
    "                layer=layer,\n",
    "                relative=True\n",
    "            )\n",
    "            for i in range(10)\n",
    "        ),\n",
    "        []\n",
    "    )\n",
    "    lo, mid, hi = np.quantile(aurocs, [0.025, 0.5, 0.975])\n",
    "    print(f\"Baseline: {mid:.2f}\\\\;({lo:.2f}, {hi:.2f})\")"
   ]
  },
  {
   "cell_type": "code",
   "execution_count": 5,
   "metadata": {},
   "outputs": [
    {
     "name": "stdout",
     "output_type": "stream",
     "text": [
      "Layer 0\n",
      "Baseline: 0.47\\;(0.42, 0.51)\n",
      "\n",
      "Layer 1\n",
      "Baseline: 0.75\\;(0.70, 0.80)\n",
      "\n",
      "Layer 2\n",
      "Baseline: 0.96\\;(0.94, 0.97)\n",
      "\n",
      "Layer 3\n",
      "Baseline: 0.96\\;(0.94, 0.97)\n",
      "\n",
      "Layer 4\n",
      "Baseline: 0.92\\;(0.90, 0.94)\n",
      "\n",
      "Layer 5\n",
      "Baseline: 0.75\\;(0.72, 0.78)\n",
      "\n",
      "Layer 6\n",
      "Baseline: 0.58\\;(0.54, 0.62)\n",
      "\n",
      "Layer 7\n",
      "Baseline: 0.52\\;(0.48, 0.56)\n",
      "\n",
      "Layer 8\n",
      "Baseline: 0.45\\;(0.42, 0.50)\n",
      "\n",
      "Layer 9\n",
      "Baseline: 0.30\\;(0.26, 0.34)\n",
      "\n"
     ]
    }
   ],
   "source": [
    "for i in range(10):\n",
    "    print(f\"Layer {i}\")\n",
    "    estimate_baseline_mahal_auroc(\"sciq\", layer=i)\n",
    "    print()"
   ]
  },
  {
   "attachments": {},
   "cell_type": "markdown",
   "metadata": {},
   "source": [
    "## ARC Challenge"
   ]
  },
  {
   "cell_type": "code",
   "execution_count": 73,
   "metadata": {},
   "outputs": [
    {
     "name": "stdout",
     "output_type": "stream",
     "text": [
      "Tuned lens iForest:\n",
      "0.71\\;(0.65, 0.77)\n",
      "Tuned lens LOF:\n",
      "0.81\\;(0.77, 0.84)\n",
      "Logit lens iForest:\n",
      "0.73\\;(0.67, 0.79)\n",
      "Logit lens LOF:\n",
      "0.80\\;(0.77, 0.83)\n"
     ]
    }
   ],
   "source": [
    "compute_aurocs(\"arc_challenge\", metric=\"minkowski\")"
   ]
  },
  {
   "cell_type": "code",
   "execution_count": 6,
   "metadata": {},
   "outputs": [
    {
     "name": "stdout",
     "output_type": "stream",
     "text": [
      "Layer 0\n",
      "Baseline: 0.43\\;(0.39, 0.47)\n",
      "\n",
      "Layer 1\n",
      "Baseline: 0.47\\;(0.43, 0.51)\n",
      "\n",
      "Layer 2\n",
      "Baseline: 0.78\\;(0.75, 0.82)\n",
      "\n",
      "Layer 3\n",
      "Baseline: 0.76\\;(0.73, 0.80)\n",
      "\n",
      "Layer 4\n",
      "Baseline: 0.65\\;(0.61, 0.69)\n",
      "\n",
      "Layer 5\n",
      "Baseline: 0.57\\;(0.53, 0.61)\n",
      "\n",
      "Layer 6\n",
      "Baseline: 0.50\\;(0.46, 0.54)\n",
      "\n",
      "Layer 7\n",
      "Baseline: 0.47\\;(0.43, 0.51)\n",
      "\n",
      "Layer 8\n",
      "Baseline: 0.42\\;(0.38, 0.46)\n",
      "\n",
      "Layer 9\n",
      "Baseline: 0.29\\;(0.26, 0.33)\n",
      "\n"
     ]
    }
   ],
   "source": [
    "for i in range(10):\n",
    "    print(f\"Layer {i}\")\n",
    "    estimate_baseline_mahal_auroc(\"arc_challenge\", layer=i)\n",
    "    print()"
   ]
  },
  {
   "cell_type": "code",
   "execution_count": 7,
   "metadata": {},
   "outputs": [
    {
     "name": "stdout",
     "output_type": "stream",
     "text": [
      "Layer 0\n",
      "Baseline: 0.50\\;(0.50, 0.50)\n",
      "\n",
      "Layer 1\n",
      "Baseline: 1.00\\;(1.00, 1.00)\n",
      "\n",
      "Layer 2\n",
      "Baseline: 1.00\\;(1.00, 1.00)\n",
      "\n",
      "Layer 3\n",
      "Baseline: 1.00\\;(1.00, 1.00)\n",
      "\n",
      "Layer 4\n",
      "Baseline: 1.00\\;(1.00, 1.00)\n",
      "\n",
      "Layer 5\n",
      "Baseline: 1.00\\;(1.00, 1.00)\n",
      "\n",
      "Layer 6\n",
      "Baseline: 1.00\\;(1.00, 1.00)\n",
      "\n",
      "Layer 7\n",
      "Baseline: 1.00\\;(1.00, 1.00)\n",
      "\n",
      "Layer 8\n",
      "Baseline: 1.00\\;(1.00, 1.00)\n",
      "\n",
      "Layer 9\n",
      "Baseline: 1.00\\;(0.99, 1.00)\n",
      "\n"
     ]
    }
   ],
   "source": [
    "for i in range(10):\n",
    "    print(f\"Layer {i}\")\n",
    "    estimate_baseline_mahal_auroc(\"boolq\", layer=i)\n",
    "    print()"
   ]
  },
  {
   "cell_type": "code",
   "execution_count": 32,
   "metadata": {},
   "outputs": [
    {
     "name": "stdout",
     "output_type": "stream",
     "text": [
      "Baseline: 0.57\\;(0.53, 0.61)\n"
     ]
    }
   ],
   "source": [
    "estimate_baseline_mahal_auroc(\"arc_challenge\", layer=-5)"
   ]
  },
  {
   "attachments": {},
   "cell_type": "markdown",
   "metadata": {},
   "source": [
    "## ARC Easy"
   ]
  },
  {
   "cell_type": "code",
   "execution_count": 6,
   "metadata": {},
   "outputs": [
    {
     "name": "stdout",
     "output_type": "stream",
     "text": [
      "Tuned lens iForest:\n",
      "0.59\\;(0.54, 0.62)\n",
      "Tuned lens LOF:\n",
      "0.76\\;(0.73, 0.79)\n",
      "Logit lens iForest:\n",
      "0.53\\;(0.50, 0.57)\n",
      "Logit lens LOF:\n",
      "0.59\\;(0.56, 0.63)\n"
     ]
    }
   ],
   "source": [
    "compute_aurocs(\"arc_easy\", metric=\"cosine\")"
   ]
  },
  {
   "cell_type": "code",
   "execution_count": 7,
   "metadata": {},
   "outputs": [
    {
     "name": "stdout",
     "output_type": "stream",
     "text": [
      "Tuned lens iForest:\n",
      "0.59\\;(0.54, 0.62)\n",
      "Tuned lens LOF:\n",
      "0.73\\;(0.71, 0.76)\n",
      "Logit lens iForest:\n",
      "0.53\\;(0.50, 0.57)\n",
      "Logit lens LOF:\n",
      "0.59\\;(0.56, 0.62)\n"
     ]
    }
   ],
   "source": [
    "compute_aurocs(\"arc_easy\", metric=\"minkowski\")"
   ]
  },
  {
   "cell_type": "code",
   "execution_count": 8,
   "metadata": {},
   "outputs": [
    {
     "name": "stdout",
     "output_type": "stream",
     "text": [
      "Baseline: 0.73\\;(0.70, 0.75)\n"
     ]
    }
   ],
   "source": [
    "estimate_baseline_mahal_auroc(\"arc_easy\", layer=-5)"
   ]
  },
  {
   "cell_type": "code",
   "execution_count": 8,
   "metadata": {},
   "outputs": [
    {
     "name": "stdout",
     "output_type": "stream",
     "text": [
      "Layer 0\n",
      "Baseline: 0.48\\;(0.45, 0.52)\n",
      "\n",
      "Layer 1\n",
      "Baseline: 0.64\\;(0.60, 0.67)\n",
      "\n",
      "Layer 2\n",
      "Baseline: 0.89\\;(0.87, 0.91)\n",
      "\n",
      "Layer 3\n",
      "Baseline: 0.90\\;(0.88, 0.92)\n",
      "\n",
      "Layer 4\n",
      "Baseline: 0.82\\;(0.80, 0.84)\n",
      "\n",
      "Layer 5\n",
      "Baseline: 0.73\\;(0.70, 0.75)\n",
      "\n",
      "Layer 6\n",
      "Baseline: 0.64\\;(0.62, 0.67)\n",
      "\n",
      "Layer 7\n",
      "Baseline: 0.59\\;(0.56, 0.62)\n",
      "\n",
      "Layer 8\n",
      "Baseline: 0.54\\;(0.51, 0.57)\n",
      "\n",
      "Layer 9\n",
      "Baseline: 0.37\\;(0.34, 0.40)\n",
      "\n"
     ]
    }
   ],
   "source": [
    "for i in range(10):\n",
    "    print(f\"Layer {i}\")\n",
    "    estimate_baseline_mahal_auroc(\"arc_easy\", layer=i)\n",
    "    print()"
   ]
  },
  {
   "attachments": {},
   "cell_type": "markdown",
   "metadata": {},
   "source": [
    "## BoolQ"
   ]
  },
  {
   "cell_type": "code",
   "execution_count": 9,
   "metadata": {},
   "outputs": [
    {
     "name": "stdout",
     "output_type": "stream",
     "text": [
      "Tuned lens iForest:\n",
      "0.99\\;(0.98, 1.00)\n",
      "Tuned lens LOF:\n",
      "1.00\\;(0.99, 1.00)\n",
      "Logit lens iForest:\n",
      "0.89\\;(0.87, 0.91)\n",
      "Logit lens LOF:\n",
      "0.50\\;(0.49, 0.50)\n"
     ]
    }
   ],
   "source": [
    "compute_aurocs(\"boolq\", metric=\"cosine\")"
   ]
  },
  {
   "cell_type": "code",
   "execution_count": 34,
   "metadata": {},
   "outputs": [
    {
     "name": "stdout",
     "output_type": "stream",
     "text": [
      "Tuned lens iForest:\n",
      "0.99\\;(0.98, 0.99)\n",
      "Tuned lens LOF:\n",
      "1.00\\;(1.00, 1.00)\n",
      "Logit lens iForest:\n",
      "0.89\\;(0.87, 0.91)\n",
      "Logit lens LOF:\n",
      "0.61\\;(0.57, 0.66)\n"
     ]
    }
   ],
   "source": [
    "compute_aurocs(\"boolq\", metric=\"minkowski\")"
   ]
  },
  {
   "cell_type": "code",
   "execution_count": 6,
   "metadata": {},
   "outputs": [
    {
     "data": {
      "text/plain": [
       "array([1., 1., 1.])"
      ]
     },
     "execution_count": 6,
     "metadata": {},
     "output_type": "execute_result"
    }
   ],
   "source": [
    "estimate_baseline_mahal_auroc(\"boolq\", layer=-5)"
   ]
  },
  {
   "attachments": {},
   "cell_type": "markdown",
   "metadata": {},
   "source": [
    "## MC TACO"
   ]
  },
  {
   "cell_type": "code",
   "execution_count": null,
   "metadata": {},
   "outputs": [],
   "source": [
    "compute_aurocs(\"mc_taco\", metric=\"cosine\")"
   ]
  },
  {
   "cell_type": "code",
   "execution_count": 37,
   "metadata": {},
   "outputs": [
    {
     "name": "stdout",
     "output_type": "stream",
     "text": [
      "Tuned lens iForest:\n",
      "0.74\\;(0.71, 0.77)\n",
      "Tuned lens LOF:\n",
      "0.68\\;(0.66, 0.70)\n",
      "Logit lens iForest:\n",
      "0.68\\;(0.66, 0.69)\n",
      "Logit lens LOF:\n",
      "0.55\\;(0.53, 0.59)\n"
     ]
    }
   ],
   "source": [
    "compute_aurocs(\"mc_taco\", metric=\"minkowski\")"
   ]
  },
  {
   "cell_type": "code",
   "execution_count": 7,
   "metadata": {},
   "outputs": [
    {
     "data": {
      "text/plain": [
       "array([0.99900598, 1.        , 1.        ])"
      ]
     },
     "execution_count": 7,
     "metadata": {},
     "output_type": "execute_result"
    }
   ],
   "source": [
    "estimate_baseline_mahal_auroc(\"mc_taco\", layer=-5)"
   ]
  },
  {
   "cell_type": "code",
   "execution_count": 11,
   "metadata": {},
   "outputs": [
    {
     "name": "stdout",
     "output_type": "stream",
     "text": [
      "Tuned lens iForest:\n",
      "0.98\\;(0.98, 0.99)\n",
      "Tuned lens LOF:\n",
      "1.00\\;(1.00, 1.00)\n",
      "Logit lens iForest:\n",
      "0.95\\;(0.94, 0.96)\n",
      "Logit lens LOF:\n",
      "1.00\\;(1.00, 1.00)\n"
     ]
    }
   ],
   "source": [
    "compute_aurocs(\"mnli\")"
   ]
  },
  {
   "cell_type": "code",
   "execution_count": 12,
   "metadata": {},
   "outputs": [
    {
     "name": "stdout",
     "output_type": "stream",
     "text": [
      "Baseline: 1.00\\;(1.00, 1.00)\n"
     ]
    }
   ],
   "source": [
    "estimate_baseline_mahal_auroc(\"mnli\", layer=-5)"
   ]
  },
  {
   "attachments": {},
   "cell_type": "markdown",
   "metadata": {},
   "source": [
    "## QNLI"
   ]
  },
  {
   "cell_type": "code",
   "execution_count": 36,
   "metadata": {},
   "outputs": [
    {
     "name": "stdout",
     "output_type": "stream",
     "text": [
      "Tuned lens iForest:\n",
      "0.99\\;(0.99, 1.00)\n",
      "Tuned lens LOF:\n",
      "1.00\\;(1.00, 1.00)\n",
      "Logit lens iForest:\n",
      "0.93\\;(0.92, 0.95)\n",
      "Logit lens LOF:\n",
      "0.68\\;(0.63, 0.71)\n"
     ]
    }
   ],
   "source": [
    "compute_aurocs(\"qnli\")"
   ]
  },
  {
   "cell_type": "code",
   "execution_count": 5,
   "metadata": {},
   "outputs": [
    {
     "name": "stdout",
     "output_type": "stream",
     "text": [
      "Baseline: 1.00\\;(1.00, 1.00)\n"
     ]
    }
   ],
   "source": [
    "estimate_baseline_mahal_auroc(\"qnli\", layer=-5)"
   ]
  },
  {
   "attachments": {},
   "cell_type": "markdown",
   "metadata": {},
   "source": [
    "## QQP"
   ]
  },
  {
   "cell_type": "code",
   "execution_count": 35,
   "metadata": {},
   "outputs": [
    {
     "name": "stdout",
     "output_type": "stream",
     "text": [
      "Tuned lens iForest:\n",
      "1.00\\;(0.99, 1.00)\n",
      "Tuned lens LOF:\n",
      "1.00\\;(1.00, 1.00)\n",
      "Logit lens iForest:\n",
      "0.90\\;(0.89, 0.90)\n",
      "Logit lens LOF:\n",
      "0.79\\;(0.76, 0.81)\n"
     ]
    }
   ],
   "source": [
    "compute_aurocs(\"qqp\")"
   ]
  },
  {
   "cell_type": "code",
   "execution_count": 6,
   "metadata": {},
   "outputs": [
    {
     "name": "stdout",
     "output_type": "stream",
     "text": [
      "Baseline: 1.00\\;(1.00, 1.00)\n"
     ]
    }
   ],
   "source": [
    "estimate_baseline_mahal_auroc(\"qqp\", layer=-5)"
   ]
  },
  {
   "attachments": {},
   "cell_type": "markdown",
   "metadata": {},
   "source": [
    "## SciQ"
   ]
  },
  {
   "cell_type": "code",
   "execution_count": 46,
   "metadata": {},
   "outputs": [
    {
     "name": "stdout",
     "output_type": "stream",
     "text": [
      "Baseline: 0.75\\;(0.72, 0.78)\n"
     ]
    }
   ],
   "source": [
    "estimate_baseline_mahal_auroc(\"sciq\", layer=-5)"
   ]
  },
  {
   "cell_type": "code",
   "execution_count": 47,
   "metadata": {},
   "outputs": [
    {
     "name": "stdout",
     "output_type": "stream",
     "text": [
      "Tuned lens iForest:\n",
      "0.62\\;(0.57, 0.69)\n",
      "Tuned lens LOF:\n",
      "0.64\\;(0.59, 0.70)\n",
      "Logit lens iForest:\n",
      "0.75\\;(0.71, 0.79)\n",
      "Logit lens LOF:\n",
      "0.70\\;(0.65, 0.74)\n"
     ]
    }
   ],
   "source": [
    "compute_aurocs(\"sciq\", metric=\"cosine\")"
   ]
  },
  {
   "cell_type": "code",
   "execution_count": null,
   "metadata": {},
   "outputs": [],
   "source": [
    "compute_aurocs(\"sciq\", metric=\"minowski\")"
   ]
  },
  {
   "attachments": {},
   "cell_type": "markdown",
   "metadata": {},
   "source": [
    "## SST-2"
   ]
  },
  {
   "cell_type": "code",
   "execution_count": 45,
   "metadata": {},
   "outputs": [
    {
     "name": "stdout",
     "output_type": "stream",
     "text": [
      "Baseline: 1.00\\;(1.00, 1.00)\n"
     ]
    }
   ],
   "source": [
    "estimate_baseline_mahal_auroc(\"sst\", layer=-5)"
   ]
  },
  {
   "cell_type": "code",
   "execution_count": 74,
   "metadata": {},
   "outputs": [
    {
     "name": "stdout",
     "output_type": "stream",
     "text": [
      "Tuned lens iForest:\n",
      "0.98\\;(0.95, 1.00)\n",
      "Tuned lens LOF:\n",
      "1.00\\;(0.99, 1.00)\n",
      "Logit lens iForest:\n",
      "0.76\\;(0.70, 0.81)\n",
      "Logit lens LOF:\n",
      "0.50\\;(0.49, 0.51)\n"
     ]
    }
   ],
   "source": [
    "compute_aurocs(\"sst\", metric=\"cosine\")"
   ]
  },
  {
   "cell_type": "code",
   "execution_count": 48,
   "metadata": {},
   "outputs": [
    {
     "name": "stdout",
     "output_type": "stream",
     "text": [
      "Tuned lens iForest:\n",
      "1.00\\;(0.98, 1.00)\n",
      "Tuned lens LOF:\n",
      "1.00\\;(1.00, 1.00)\n",
      "Logit lens iForest:\n",
      "0.78\\;(0.72, 0.83)\n",
      "Logit lens LOF:\n",
      "0.61\\;(0.56, 0.65)\n"
     ]
    }
   ],
   "source": [
    "compute_aurocs(\"sst\", metric=\"minkowski\")"
   ]
  },
  {
   "cell_type": "code",
   "execution_count": 40,
   "metadata": {},
   "outputs": [
    {
     "name": "stdout",
     "output_type": "stream",
     "text": [
      "Tuned lens iForest:\n",
      "0.62\\;(0.56, 0.72)\n",
      "Tuned lens LOF:\n",
      "0.49\\;(0.43, 0.55)\n",
      "Logit lens iForest:\n",
      "0.79\\;(0.75, 0.84)\n",
      "Logit lens LOF:\n",
      "0.78\\;(0.73, 0.83)\n"
     ]
    }
   ],
   "source": [
    "compute_aurocs(\"logiqa\", metric=\"cosine\")"
   ]
  },
  {
   "cell_type": "code",
   "execution_count": null,
   "metadata": {},
   "outputs": [],
   "source": [
    "compute_aurocs(\"logiqa\", metric=\"minkowski\")"
   ]
  },
  {
   "cell_type": "code",
   "execution_count": 43,
   "metadata": {},
   "outputs": [
    {
     "name": "stdout",
     "output_type": "stream",
     "text": [
      "Baseline: 0.60\\;(0.53, 0.65)\n"
     ]
    }
   ],
   "source": [
    "estimate_baseline_mahal_auroc(\"logiqa\", layer=-5)"
   ]
  },
  {
   "cell_type": "code",
   "execution_count": 53,
   "metadata": {},
   "outputs": [
    {
     "name": "stderr",
     "output_type": "stream",
     "text": [
      "Found cached dataset logiqa (/mnt/ssd-1/nora/huggingface/datasets/logiqa/logiqa/0.0.1/4bf60449574fbe40eccf8b5177e294a179a5c85aeedce3210d359100e91af224)\n"
     ]
    },
    {
     "data": {
      "application/vnd.jupyter.widget-view+json": {
       "model_id": "e4613fb635d54bfb98fd476f468f5468",
       "version_major": 2,
       "version_minor": 0
      },
      "text/plain": [
       "  0%|          | 0/3 [00:00<?, ?it/s]"
      ]
     },
     "metadata": {},
     "output_type": "display_data"
    }
   ],
   "source": [
    "from lm_eval.tasks import get_task\n",
    "\n",
    "task = get_task(\"logiqa\")\n",
    "val_docs = list(task().validation_docs())"
   ]
  },
  {
   "cell_type": "code",
   "execution_count": 54,
   "metadata": {},
   "outputs": [
    {
     "data": {
      "text/plain": [
       "{'passage': 'Black Americans are twice as likely to suffer from hypertension as white Americans. The same is true when comparing Westernized black Africans to white Africans. The researchers hypothesized that the reason why westernized black people suffer from hypertension is the result of the interaction of two reasons? one is the high salt content of western foods, and the other is the adaptation mechanism of black genetic genes to the salt-deficient environment .',\n",
       " 'query': \"Passage: Black Americans are twice as likely to suffer from hypertension as white Americans. The same is true when comparing Westernized black Africans to white Africans. The researchers hypothesized that the reason why westernized black people suffer from hypertension is the result of the interaction of two reasons? one is the high salt content of western foods, and the other is the adaptation mechanism of black genetic genes to the salt-deficient environment .\\nQuestion: The following conclusions about contemporary westernized African blacks, if the item is true, can it best support the researchers' hypothesis?\\nChoices:\\nA. The blood pressure of the descendants of Senegalese and Gambians is usually not high, and the history of Senegal and Gambia has not been short of salt.\\nB. The unusually high salt intake in certain parts of Africa is a serious problem that threatens the health of residents.\\nC. Considering health care, most African whites also pay attention to controlling salt intake.\\nD. The blood pressure of Yoruba people in West Africa is not high. Yoruba people have lived inland far away from sea salt and far away from the Sahara salt mine in Africa.\\nAnswer:\",\n",
       " 'choices': ['The blood pressure of the descendants of Senegalese and Gambians is usually not high, and the history of Senegal and Gambia has not been short of salt.',\n",
       "  'The unusually high salt intake in certain parts of Africa is a serious problem that threatens the health of residents.',\n",
       "  'Considering health care, most African whites also pay attention to controlling salt intake.',\n",
       "  'The blood pressure of Yoruba people in West Africa is not high. Yoruba people have lived inland far away from sea salt and far away from the Sahara salt mine in Africa.'],\n",
       " 'gold': 0}"
      ]
     },
     "execution_count": 54,
     "metadata": {},
     "output_type": "execute_result"
    }
   ],
   "source": [
    "val_docs[0]"
   ]
  },
  {
   "cell_type": "code",
   "execution_count": 41,
   "metadata": {},
   "outputs": [
    {
     "name": "stdout",
     "output_type": "stream",
     "text": [
      "Tuned lens iForest:\n",
      "0.42\\;(0.37, 0.47)\n",
      "Tuned lens LOF:\n",
      "0.46\\;(0.43, 0.50)\n",
      "Logit lens iForest:\n",
      "0.22\\;(0.19, 0.27)\n",
      "Logit lens LOF:\n",
      "0.58\\;(0.54, 0.61)\n"
     ]
    }
   ],
   "source": [
    "compute_aurocs(\"piqa\")"
   ]
  },
  {
   "cell_type": "code",
   "execution_count": 9,
   "metadata": {},
   "outputs": [
    {
     "data": {
      "text/plain": [
       "array([0.95451446, 0.96614265, 0.97655125])"
      ]
     },
     "execution_count": 9,
     "metadata": {},
     "output_type": "execute_result"
    }
   ],
   "source": [
    "estimate_baseline_mahal_auroc(\"piqa\", layer=-5)"
   ]
  },
  {
   "cell_type": "code",
   "execution_count": 42,
   "metadata": {},
   "outputs": [
    {
     "name": "stdout",
     "output_type": "stream",
     "text": [
      "Tuned lens iForest:\n",
      "0.98\\;(0.98, 0.99)\n",
      "Tuned lens LOF:\n",
      "1.00\\;(1.00, 1.00)\n",
      "Logit lens iForest:\n",
      "0.95\\;(0.94, 0.96)\n",
      "Logit lens LOF:\n",
      "1.00\\;(1.00, 1.00)\n"
     ]
    }
   ],
   "source": [
    "compute_aurocs(\"mnli\")"
   ]
  }
 ],
 "metadata": {
  "kernelspec": {
   "display_name": "base",
   "language": "python",
   "name": "python3"
  },
  "language_info": {
   "codemirror_mode": {
    "name": "ipython",
    "version": 3
   },
   "file_extension": ".py",
   "mimetype": "text/x-python",
   "name": "python",
   "nbconvert_exporter": "python",
   "pygments_lexer": "ipython3",
   "version": "3.10.8"
  },
  "orig_nbformat": 4,
  "vscode": {
   "interpreter": {
    "hash": "37655a14f19528427b2fab2b7608d4c988ed7d88bb86685bfc3bcc0190ec2edc"
   }
  }
 },
 "nbformat": 4,
 "nbformat_minor": 2
}
