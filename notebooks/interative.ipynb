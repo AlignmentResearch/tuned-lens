{
 "cells": [
  {
   "cell_type": "markdown",
   "metadata": {},
   "source": [
    "# The tuned lens 🔎\n",
    "A tuned lens allows us to peak at the iterative computations that a transformer is using the compute the next token.\n",
    "\n",
    "A lens into a transformer with n layers allows you to replace the last $m$ layers of the model with an [affine transformation](https://pytorch.org/docs/stable/generated/torch.nn.Linear.html) (we call these affine adapters).\n",
    "\n",
    "This essentially skips over these last few layers and lets you see the best prediction that can be made from the model's representations, i.e. the residual stream, at layer $n - m$. Since the representations may be rotated, shifted, or stretched from layer to layer it's useful to train the len's affine adapters specifically on each layer. This training is what differentiates this method from simpler approaches that decode the residual stream of the network directly using the unembeding layer i.e. the logit lens. We explain this process in more detail in a forthcoming paper."
   ]
  },
  {
   "cell_type": "code",
   "execution_count": 2,
   "metadata": {},
   "outputs": [
    {
     "name": "stdout",
     "output_type": "stream",
     "text": [
      "Requirement already satisfied: ipywidgets in /home/lev/miniconda3/envs/tuned-lens/lib/python3.9/site-packages (8.0.4)\n",
      "Requirement already satisfied: ipykernel>=4.5.1 in /home/lev/miniconda3/envs/tuned-lens/lib/python3.9/site-packages (from ipywidgets) (6.15.0)\n",
      "Requirement already satisfied: traitlets>=4.3.1 in /home/lev/miniconda3/envs/tuned-lens/lib/python3.9/site-packages (from ipywidgets) (5.9.0)\n",
      "Requirement already satisfied: jupyterlab-widgets~=3.0 in /home/lev/miniconda3/envs/tuned-lens/lib/python3.9/site-packages (from ipywidgets) (3.0.5)\n",
      "Requirement already satisfied: widgetsnbextension~=4.0 in /home/lev/miniconda3/envs/tuned-lens/lib/python3.9/site-packages (from ipywidgets) (4.0.5)\n",
      "Requirement already satisfied: ipython>=6.1.0 in /home/lev/miniconda3/envs/tuned-lens/lib/python3.9/site-packages (from ipywidgets) (8.11.0)\n",
      "Requirement already satisfied: pyzmq>=17 in /home/lev/miniconda3/envs/tuned-lens/lib/python3.9/site-packages (from ipykernel>=4.5.1->ipywidgets) (25.0.0)\n",
      "Requirement already satisfied: packaging in /home/lev/miniconda3/envs/tuned-lens/lib/python3.9/site-packages (from ipykernel>=4.5.1->ipywidgets) (23.0)\n",
      "Requirement already satisfied: debugpy>=1.0 in /home/lev/miniconda3/envs/tuned-lens/lib/python3.9/site-packages (from ipykernel>=4.5.1->ipywidgets) (1.5.1)\n",
      "Requirement already satisfied: nest-asyncio in /home/lev/miniconda3/envs/tuned-lens/lib/python3.9/site-packages (from ipykernel>=4.5.1->ipywidgets) (1.5.6)\n",
      "Requirement already satisfied: psutil in /home/lev/miniconda3/envs/tuned-lens/lib/python3.9/site-packages (from ipykernel>=4.5.1->ipywidgets) (5.9.4)\n",
      "Requirement already satisfied: matplotlib-inline>=0.1 in /home/lev/miniconda3/envs/tuned-lens/lib/python3.9/site-packages (from ipykernel>=4.5.1->ipywidgets) (0.1.6)\n",
      "Requirement already satisfied: jupyter-client>=6.1.12 in /home/lev/miniconda3/envs/tuned-lens/lib/python3.9/site-packages (from ipykernel>=4.5.1->ipywidgets) (8.0.3)\n",
      "Requirement already satisfied: tornado>=6.1 in /home/lev/miniconda3/envs/tuned-lens/lib/python3.9/site-packages (from ipykernel>=4.5.1->ipywidgets) (6.2)\n",
      "Requirement already satisfied: prompt-toolkit!=3.0.37,<3.1.0,>=3.0.30 in /home/lev/miniconda3/envs/tuned-lens/lib/python3.9/site-packages (from ipython>=6.1.0->ipywidgets) (3.0.38)\n",
      "Requirement already satisfied: decorator in /home/lev/miniconda3/envs/tuned-lens/lib/python3.9/site-packages (from ipython>=6.1.0->ipywidgets) (5.1.1)\n",
      "Requirement already satisfied: jedi>=0.16 in /home/lev/miniconda3/envs/tuned-lens/lib/python3.9/site-packages (from ipython>=6.1.0->ipywidgets) (0.18.2)\n",
      "Requirement already satisfied: pygments>=2.4.0 in /home/lev/miniconda3/envs/tuned-lens/lib/python3.9/site-packages (from ipython>=6.1.0->ipywidgets) (2.14.0)\n",
      "Requirement already satisfied: pexpect>4.3 in /home/lev/miniconda3/envs/tuned-lens/lib/python3.9/site-packages (from ipython>=6.1.0->ipywidgets) (4.8.0)\n",
      "Requirement already satisfied: backcall in /home/lev/miniconda3/envs/tuned-lens/lib/python3.9/site-packages (from ipython>=6.1.0->ipywidgets) (0.2.0)\n",
      "Requirement already satisfied: pickleshare in /home/lev/miniconda3/envs/tuned-lens/lib/python3.9/site-packages (from ipython>=6.1.0->ipywidgets) (0.7.5)\n",
      "Requirement already satisfied: stack-data in /home/lev/miniconda3/envs/tuned-lens/lib/python3.9/site-packages (from ipython>=6.1.0->ipywidgets) (0.6.2)\n",
      "Requirement already satisfied: parso<0.9.0,>=0.8.0 in /home/lev/miniconda3/envs/tuned-lens/lib/python3.9/site-packages (from jedi>=0.16->ipython>=6.1.0->ipywidgets) (0.8.3)\n",
      "Requirement already satisfied: jupyter-core!=5.0.*,>=4.12 in /home/lev/miniconda3/envs/tuned-lens/lib/python3.9/site-packages (from jupyter-client>=6.1.12->ipykernel>=4.5.1->ipywidgets) (4.12.0)\n",
      "Requirement already satisfied: python-dateutil>=2.8.2 in /home/lev/miniconda3/envs/tuned-lens/lib/python3.9/site-packages (from jupyter-client>=6.1.12->ipykernel>=4.5.1->ipywidgets) (2.8.2)\n",
      "Requirement already satisfied: importlib-metadata>=4.8.3 in /home/lev/miniconda3/envs/tuned-lens/lib/python3.9/site-packages (from jupyter-client>=6.1.12->ipykernel>=4.5.1->ipywidgets) (6.0.0)\n",
      "Requirement already satisfied: ptyprocess>=0.5 in /home/lev/miniconda3/envs/tuned-lens/lib/python3.9/site-packages (from pexpect>4.3->ipython>=6.1.0->ipywidgets) (0.7.0)\n",
      "Requirement already satisfied: wcwidth in /home/lev/miniconda3/envs/tuned-lens/lib/python3.9/site-packages (from prompt-toolkit!=3.0.37,<3.1.0,>=3.0.30->ipython>=6.1.0->ipywidgets) (0.2.6)\n",
      "Requirement already satisfied: asttokens>=2.1.0 in /home/lev/miniconda3/envs/tuned-lens/lib/python3.9/site-packages (from stack-data->ipython>=6.1.0->ipywidgets) (2.2.1)\n",
      "Requirement already satisfied: pure-eval in /home/lev/miniconda3/envs/tuned-lens/lib/python3.9/site-packages (from stack-data->ipython>=6.1.0->ipywidgets) (0.2.2)\n",
      "Requirement already satisfied: executing>=1.2.0 in /home/lev/miniconda3/envs/tuned-lens/lib/python3.9/site-packages (from stack-data->ipython>=6.1.0->ipywidgets) (1.2.0)\n",
      "Requirement already satisfied: six in /home/lev/miniconda3/envs/tuned-lens/lib/python3.9/site-packages (from asttokens>=2.1.0->stack-data->ipython>=6.1.0->ipywidgets) (1.16.0)\n",
      "Requirement already satisfied: zipp>=0.5 in /home/lev/miniconda3/envs/tuned-lens/lib/python3.9/site-packages (from importlib-metadata>=4.8.3->jupyter-client>=6.1.12->ipykernel>=4.5.1->ipywidgets) (3.15.0)\n"
     ]
    }
   ],
   "source": [
    "! pip install ipywidgets"
   ]
  },
  {
   "cell_type": "code",
   "execution_count": 3,
   "metadata": {},
   "outputs": [
    {
     "name": "stdout",
     "output_type": "stream",
     "text": [
      "TunedLens.load: ignoring config key 'orthogonal'\n",
      "TunedLens.load: ignoring config key 'include_final'\n",
      "TunedLens.load: ignoring config key 'rank'\n",
      "TunedLens.load: ignoring config key 'identity_init'\n",
      "TunedLens.load: ignoring config key 'sublayers'\n"
     ]
    }
   ],
   "source": [
    "from tuned_lens.nn import TunedLens\n",
    "from transformers import AutoModelForCausalLM, AutoTokenizer\n",
    "\n",
    "LENS_PATH = '<PATH TO LENS>'\n",
    "\n",
    "model = AutoModelForCausalLM.from_pretrained('gpt2')\n",
    "tokenizer = AutoTokenizer.from_pretrained('gpt2')\n",
    "lens = TunedLens.load(LENS_PATH)"
   ]
  },
  {
   "cell_type": "code",
   "execution_count": 5,
   "metadata": {},
   "outputs": [
    {
     "data": {
      "application/vnd.jupyter.widget-view+json": {
       "model_id": "d8b384013395470c8f7f0a3591a70967",
       "version_major": 2,
       "version_minor": 0
      },
      "text/plain": [
       "interactive(children=(Textarea(value='82U*N#c4t^koK%a5*S3qrfBi 82U*N#c4t^koK%a5*S3qrfBi', description='text'),…"
      ]
     },
     "metadata": {},
     "output_type": "display_data"
    },
    {
     "data": {
      "text/plain": [
       "<function __main__.interactive(text, start_pos)>"
      ]
     },
     "execution_count": 5,
     "metadata": {},
     "output_type": "execute_result"
    }
   ],
   "source": [
    "from tuned_lens.plotting import plot_lens\n",
    "from ipywidgets import interact, IntSlider, Textarea\n",
    "from plotly import graph_objects as go\n",
    "\n",
    "def interactive(text, start_pos):\n",
    "    return go.FigureWidget(plot_lens(model, tokenizer, text=text, start_pos=start_pos))\n",
    "\n",
    "interact(interactive, text=Textarea(\"82U*N#c4t^koK%a5*S3qrfBi 82U*N#c4t^koK%a5*S3qrfBi\"), start_pos=IntSlider(min=-10, max=0, step=1, value=-3))"
   ]
  }
 ],
 "metadata": {
  "kernelspec": {
   "display_name": "Python 3 (ipykernel)",
   "language": "python",
   "name": "python3"
  },
  "language_info": {
   "codemirror_mode": {
    "name": "ipython",
    "version": 3
   },
   "file_extension": ".py",
   "mimetype": "text/x-python",
   "name": "python",
   "nbconvert_exporter": "python",
   "pygments_lexer": "ipython3",
   "version": "3.9.16"
  },
  "vscode": {
   "interpreter": {
    "hash": "ca27fca65bbd5c56c827a2643e94bc7b2b551ee6ee2fe84566f2c789012bce4f"
   }
  }
 },
 "nbformat": 4,
 "nbformat_minor": 2
}
