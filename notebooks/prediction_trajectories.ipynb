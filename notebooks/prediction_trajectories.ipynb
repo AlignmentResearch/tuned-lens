{
  "cells": [
    {
      "attachments": {},
      "cell_type": "markdown",
      "metadata": {
        "id": "FU-1GTZT28li"
      },
      "source": [
        "# Comparing prediction trajectories\n",
        "\n",
        "A prediction trajectory is the sequence of latent predictions produced by the tuned \n",
        "lens. You can think of this as the best guesses that can be made about\n",
        "the final token distribution from by the lenses' affine translator for that layer.\n",
        "\n",
        "This gives us a 3 dimensional tensor we call the prediction trajectory with shape\n",
        "`(num_layers x sequence_length x vocab_size)`. These distributions are typically stored\n",
        "in log space for numerical precision reasons.\n",
        "\n",
        "\n",
        "But first we will need to load our lenses and models from hugging face hub."
      ]
    },
    {
      "cell_type": "code",
      "execution_count": 19,
      "metadata": {
        "id": "FGd2YmyD28lk",
        "scrolled": true
      },
      "outputs": [
        {
          "name": "stderr",
          "output_type": "stream",
          "text": [
            "WARNING:root:Loading a checkpoint with a 'probe' key. This is deprecated and may be removed in a future version. \n",
            "WARNING:root:Loading a checkpoint with a 'probe' key. This is deprecated and may be removed in a future version. \n",
            "WARNING:root:Loading a checkpoint with a 'probe' key. This is deprecated and may be removed in a future version. \n",
            "WARNING:root:Loading a checkpoint with a 'probe' key. This is deprecated and may be removed in a future version. \n",
            "WARNING:root:Loading a checkpoint with a 'probe' key. This is deprecated and may be removed in a future version. \n",
            "WARNING:root:Loading a checkpoint with a 'probe' key. This is deprecated and may be removed in a future version. \n",
            "WARNING:root:Loading a checkpoint with a 'probe' key. This is deprecated and may be removed in a future version. \n",
            "WARNING:root:Loading a checkpoint with a 'probe' key. This is deprecated and may be removed in a future version. \n",
            "WARNING:root:Loading a checkpoint with a 'probe' key. This is deprecated and may be removed in a future version. \n",
            "WARNING:root:Loading a checkpoint with a 'probe' key. This is deprecated and may be removed in a future version. \n",
            "WARNING:root:Loading a checkpoint with a 'probe' key. This is deprecated and may be removed in a future version. \n",
            "WARNING:root:Loading a checkpoint with a 'probe' key. This is deprecated and may be removed in a future version. \n",
            "WARNING:root:Loading a checkpoint with a 'probe' key. This is deprecated and may be removed in a future version. \n",
            "WARNING:root:Loading a checkpoint with a 'probe' key. This is deprecated and may be removed in a future version. \n",
            "WARNING:root:Loading a checkpoint with a 'probe' key. This is deprecated and may be removed in a future version. \n",
            "WARNING:root:Loading a checkpoint with a 'probe' key. This is deprecated and may be removed in a future version. \n",
            "WARNING:root:Loading a checkpoint with a 'probe' key. This is deprecated and may be removed in a future version. \n",
            "WARNING:root:Loading a checkpoint with a 'probe' key. This is deprecated and may be removed in a future version. \n",
            "WARNING:root:Loading a checkpoint with a 'probe' key. This is deprecated and may be removed in a future version. \n",
            "WARNING:root:Loading a checkpoint with a 'probe' key. This is deprecated and may be removed in a future version. \n",
            "WARNING:root:Loading a checkpoint with a 'probe' key. This is deprecated and may be removed in a future version. \n",
            "WARNING:root:Loading a checkpoint with a 'probe' key. This is deprecated and may be removed in a future version. \n",
            "WARNING:root:Loading a checkpoint with a 'probe' key. This is deprecated and may be removed in a future version. \n",
            "WARNING:root:Loading a checkpoint with a 'probe' key. This is deprecated and may be removed in a future version. \n",
            "WARNING:root:Ignoring config key 'shared_mlp_hidden_sizes'\n",
            "WARNING:root:Ignoring config key 'rank'\n",
            "WARNING:root:Ignoring config key 'sublayers'\n",
            "WARNING:root:Ignoring config key 'dropout'\n",
            "WARNING:root:Ignoring config key 'mlp_hidden_sizes'\n",
            "WARNING:root:Ignoring config key 'identity_init'\n"
          ]
        }
      ],
      "source": [
        "import torch\n",
        "from tuned_lens.nn.lenses import TunedLens, LogitLens\n",
        "from transformers import AutoModelForCausalLM, AutoTokenizer\n",
        "\n",
        "device = torch.device('cpu')\n",
        "# To try a diffrent modle / lens check if the lens is avalible then modify this code\n",
        "model = AutoModelForCausalLM.from_pretrained('EleutherAI/pythia-160m-deduped-v0')\n",
        "model = model.to(device)\n",
        "tokenizer = AutoTokenizer.from_pretrained('EleutherAI/pythia-160m-deduped-v0')\n",
        "tuned_lens = TunedLens.load(\"pythia-160m-deduped-v0\", map_location=device)\n",
        "tuned_lens = tuned_lens.to(device)"
      ]
    },
    {
      "attachments": {},
      "cell_type": "markdown",
      "metadata": {},
      "source": [
        "Now lets prepare some interesting text to examine. Here we will use a quote from tolken \n",
        "that has some nice repetition. It's also common enough that it was likely in the training\n",
        "data so modifying it will hopefully let us see some conflicts between the model's parametric\n",
        "knowledge and it's in context learning."
      ]
    },
    {
      "cell_type": "code",
      "execution_count": 34,
      "metadata": {
        "id": "DL8f4i2828lm",
        "scrolled": true
      },
      "outputs": [],
      "source": [
        "\n",
        "input_ids_ring = tokenizer.encode(\n",
        "    \"One Ring to rule them all,\\n\"\n",
        "    \"One Ring to find them,\\n\"\n",
        "    \"One Ring to bring them all\\n\"\n",
        "    \"and in the darkness bind them\"\n",
        ")\n",
        "\n",
        "input_ids_model = tokenizer.encode(\n",
        "    \"One Model to rule them all,\\n\"\n",
        "    \"One Model to find them,\\n\"\n",
        "    \"One Model to bring them all\\n\"\n",
        "    \"and in the darkness bind them\"\n",
        ")\n",
        "\n",
        "\n",
        "targets_ring = input_ids_ring[1:] + [tokenizer.eos_token_id]\n",
        "targets_model = input_ids_model[1:] + [tokenizer.eos_token_id]"
      ]
    },
    {
      "attachments": {},
      "cell_type": "markdown",
      "metadata": {},
      "source": [
        "Let's validate that the tokenizations line up and this is indeed going to be a one\n",
        "token substitution."
      ]
    },
    {
      "cell_type": "code",
      "execution_count": 35,
      "metadata": {},
      "outputs": [
        {
          "name": "stdout",
          "output_type": "stream",
          "text": [
            "['One', 'ĠRing', 'Ġto', 'Ġrule', 'Ġthem', 'Ġall', ',', 'Ċ', 'One', 'ĠRing', 'Ġto', 'Ġfind', 'Ġthem', ',', 'Ċ', 'One', 'ĠRing', 'Ġto', 'Ġbring', 'Ġthem', 'Ġall', 'Ċ', 'and', 'Ġin', 'Ġthe', 'Ġdarkness', 'Ġbind', 'Ġthem']\n",
            "['One', 'ĠModel', 'Ġto', 'Ġrule', 'Ġthem', 'Ġall', ',', 'Ċ', 'One', 'ĠModel', 'Ġto', 'Ġfind', 'Ġthem', ',', 'Ċ', 'One', 'ĠModel', 'Ġto', 'Ġbring', 'Ġthem', 'Ġall', 'Ċ', 'and', 'Ġin', 'Ġthe', 'Ġdarkness', 'Ġbind', 'Ġthem']\n"
          ]
        }
      ],
      "source": [
        "print(tokenizer.convert_ids_to_tokens(input_ids_ring))\n",
        "print(tokenizer.convert_ids_to_tokens(input_ids_model))"
      ]
    },
    {
      "attachments": {},
      "cell_type": "markdown",
      "metadata": {},
      "source": [
        "Now lets examine the third line in tolken's epigrame thats going to be tokens [14, 21]."
      ]
    },
    {
      "cell_type": "code",
      "execution_count": 36,
      "metadata": {},
      "outputs": [],
      "source": [
        "predictition_traj_ring = PredictionTrajectory.from_lens_and_model(\n",
        "    tuned_lens,\n",
        "    model,\n",
        "    start_pos=14,\n",
        "    end_pos=21,\n",
        "    tokenizer=tokenizer,\n",
        "    input_ids=input_ids_ring,\n",
        "    targets=targets_ring,\n",
        ")"
      ]
    },
    {
      "attachments": {},
      "cell_type": "markdown",
      "metadata": {},
      "source": [
        "Now let's visualize the prediction trajectory for this slice of the tranformer.\n",
        "Note that the entire sequence is still being fed to the model we are just visualizing a \n",
        "prediction trajectory for this particular slice."
      ]
    },
    {
      "cell_type": "code",
      "execution_count": 75,
      "metadata": {},
      "outputs": [
        {
          "data": {
            "application/vnd.plotly.v1+json": {
              "config": {
                "plotlyServerURL": "https://plot.ly"
              },
              "data": [
                {
                  "colorbar": {
                    "len": 0.3,
                    "title": {
                      "side": "right",
                      "text": "Entropy (nats)"
                    },
                    "y": 0.86
                  },
                  "colorscale": [
                    [
                      0,
                      "rgb(5,48,97)"
                    ],
                    [
                      0.1,
                      "rgb(33,102,172)"
                    ],
                    [
                      0.2,
                      "rgb(67,147,195)"
                    ],
                    [
                      0.3,
                      "rgb(146,197,222)"
                    ],
                    [
                      0.4,
                      "rgb(209,229,240)"
                    ],
                    [
                      0.5,
                      "rgb(247,247,247)"
                    ],
                    [
                      0.6,
                      "rgb(253,219,199)"
                    ],
                    [
                      0.7,
                      "rgb(244,165,130)"
                    ],
                    [
                      0.8,
                      "rgb(214,96,77)"
                    ],
                    [
                      0.9,
                      "rgb(178,24,43)"
                    ],
                    [
                      1,
                      "rgb(103,0,31)"
                    ]
                  ],
                  "customdata": [
                    [
                      [
                        "\\n 28.53%",
                        "     3.49%",
                        "   2.47%",
                        "The 2.41%",
                        "      … 2.05%",
                        "ĉ 1.56%",
                        "\" 1.26%",
                        "< 1.07%",
                        "I 0.96%",
                        "      … 0.94%"
                      ],
                      [
                        "_of 20.74%",
                        ", 4.49%",
                        "- 2.42%",
                        "_is 2.37%",
                        ". 1.81%",
                        ": 0.88%",
                        "_in 0.79%",
                        "_if 0.74%",
                        "_ 0.62%",
                        "_and 0.59%"
                      ],
                      [
                        ", 8.99%",
                        ". 6.99%",
                        "_of 6.41%",
                        "_( 1.74%",
                        "_and 1.72%",
                        "- 1.62%",
                        "\\n 1.55%",
                        "_in 1.12%",
                        "_from 1.05%",
                        "_for 0.95%"
                      ],
                      [
                        "_the 11.82%",
                        "_be 4.88%",
                        "_a 2.51%",
                        "_get 1.26%",
                        "_make 1.23%",
                        "_do 1.09%",
                        "_take 1.00%",
                        "_have 0.93%",
                        "_find 0.64%",
                        "_an 0.64%"
                      ],
                      [
                        "_the 12.86%",
                        "_up 6.93%",
                        "_a 6.56%",
                        "_to 3.93%",
                        "_him 2.91%",
                        "_it 2.87%",
                        "_me 2.81%",
                        "_out 2.58%",
                        "_his 2.54%",
                        "_my 2.03%"
                      ],
                      [
                        ". 12.73%",
                        "_to 8.74%",
                        ", 7.80%",
                        "_in 4.94%",
                        "_and 2.24%",
                        ".\" 1.92%",
                        "_with 1.65%",
                        "_were 1.48%",
                        "_into 1.35%",
                        "_are 1.26%"
                      ],
                      [
                        "_the 11.10%",
                        "_of 5.52%",
                        ", 3.39%",
                        ". 2.31%",
                        "_other 1.79%",
                        "_a 1.68%",
                        "_that 1.40%",
                        "- 1.35%",
                        "\\n 1.23%",
                        "_people 1.20%"
                      ]
                    ],
                    [
                      [
                        "\\n 29.28%",
                        "Catego… 1.90%",
                        "the 1.74%",
                        "   1.38%",
                        "in 1.31%",
                        "and 1.29%",
                        "< 1.26%",
                        "     1.21%",
                        "- 0.75%",
                        "... 0.66%"
                      ],
                      [
                        "_of 15.01%",
                        "_is 4.41%",
                        ", 3.79%",
                        "_can 3.56%",
                        ". 2.72%",
                        "- 2.14%",
                        "'s 2.01%",
                        "_has 1.66%",
                        "_anoth… 1.34%",
                        "\\n 1.19%"
                      ],
                      [
                        "_is 3.76%",
                        ", 3.68%",
                        "_of 2.80%",
                        "ling 2.80%",
                        ". 2.21%",
                        "\\n 1.95%",
                        "_and 1.37%",
                        "_in 1.28%",
                        "'s 0.99%",
                        "- 0.99%"
                      ],
                      [
                        "_the 8.75%",
                        "\\n 3.35%",
                        "_be 2.45%",
                        "_a 2.14%",
                        "_get 1.30%",
                        "_have 0.91%",
                        "_do 0.86%",
                        "_make 0.83%",
                        "_me 0.58%",
                        "_this 0.47%"
                      ],
                      [
                        "_the 11.90%",
                        "_a 11.12%",
                        "_me 4.30%",
                        "_up 4.23%",
                        "_it 4.03%",
                        "_about 3.56%",
                        "_them 3.11%",
                        "_your 2.88%",
                        "_her 2.88%",
                        "_to 2.82%"
                      ],
                      [
                        ", 10.76%",
                        ". 10.58%",
                        "_to 6.97%",
                        "_in 4.11%",
                        "\\n 3.10%",
                        "_with 2.63%",
                        "_as 2.17%",
                        "_a 2.04%",
                        "_all 2.03%",
                        "_and 2.00%"
                      ],
                      [
                        "_of 5.61%",
                        "_the 5.23%",
                        "_right 3.02%",
                        "_things 2.39%",
                        ". 2.38%",
                        "?\" 2.20%",
                        ", 2.10%",
                        ".\" 2.04%",
                        "\\n 1.91%",
                        "_about 1.56%"
                      ]
                    ],
                    [
                      [
                        "\\n 15.85%",
                        "   1.91%",
                        "the 1.54%",
                        "and 1.47%",
                        "in 1.25%",
                        "a 1.23%",
                        "to 1.23%",
                        "( 1.21%",
                        "is 1.00%",
                        "     0.92%"
                      ],
                      [
                        ", 10.74%",
                        "_of 6.45%",
                        "\\n 4.06%",
                        ". 3.94%",
                        "_is 2.80%",
                        "- 2.61%",
                        "_can 1.47%",
                        "_I 1.44%",
                        "_or 1.38%",
                        "'s 0.80%"
                      ],
                      [
                        "_is 5.88%",
                        ", 5.78%",
                        "\\n 1.99%",
                        "_and 1.57%",
                        ". 1.53%",
                        "- 0.98%",
                        "'s 0.92%",
                        "_in 0.88%",
                        "_of 0.83%",
                        "o 0.77%"
                      ],
                      [
                        "_be 6.19%",
                        "_the 3.81%",
                        "_get 3.60%",
                        "\\n 1.59%",
                        "_make 1.51%",
                        "_have 1.19%",
                        "_a 1.03%",
                        "_do 0.83%",
                        "_create 0.83%",
                        "_find 0.82%"
                      ],
                      [
                        "_the 8.62%",
                        "_a 6.46%",
                        "_to 5.02%",
                        "_up 4.06%",
                        "_your 4.06%",
                        "_it 3.50%",
                        "_me 3.19%",
                        "_about 2.95%",
                        "_you 2.90%",
                        "_them 2.75%"
                      ],
                      [
                        ". 6.22%",
                        "_to 6.02%",
                        ", 5.35%",
                        "\\n 4.89%",
                        "_in 3.10%",
                        "_with 2.39%",
                        "_out 2.22%",
                        "_as 2.02%",
                        "_from 1.85%",
                        "_a 1.79%"
                      ],
                      [
                        ". 9.23%",
                        "\\n 6.91%",
                        ", 5.10%",
                        "_the 3.93%",
                        "_that 3.59%",
                        "_to 2.83%",
                        "_right 2.71%",
                        "_of 2.51%",
                        ".\" 2.23%",
                        "_in 2.12%"
                      ]
                    ],
                    [
                      [
                        "\\n 21.08%",
                        "and 1.99%",
                        "\" 1.27%",
                        "   1.14%",
                        "but 1.13%",
                        "( 1.07%",
                        "_ 0.84%",
                        "for 0.81%",
                        "     0.79%",
                        "I 0.78%"
                      ],
                      [
                        "_of 5.41%",
                        "\\n 5.36%",
                        ". 4.27%",
                        "- 3.62%",
                        ", 3.32%",
                        "_day 2.84%",
                        "_hour 1.44%",
                        "y 1.26%",
                        "_thing 1.11%",
                        "_or 0.76%"
                      ],
                      [
                        ", 11.76%",
                        "_is 5.71%",
                        "\\n 2.67%",
                        ". 2.61%",
                        "\" 1.89%",
                        "_and 1.53%",
                        "_in 1.36%",
                        "_of 1.25%",
                        "?\" 1.02%",
                        "- 1.00%"
                      ],
                      [
                        "_be 9.63%",
                        "_the 5.22%",
                        "_get 2.54%",
                        "\\n 1.59%",
                        "_a 1.52%",
                        "_do 1.47%",
                        "_make 1.16%",
                        "_have 0.91%",
                        "_find 0.89%",
                        "_create 0.84%"
                      ],
                      [
                        "_your 8.01%",
                        "_up 7.62%",
                        "_a 7.43%",
                        "_the 6.51%",
                        "_it 5.60%",
                        "_them 4.18%",
                        "_you 3.52%",
                        "_back 3.32%",
                        "_me 3.26%",
                        "_out 2.77%"
                      ],
                      [
                        "_to 13.46%",
                        "\\n 6.63%",
                        ". 5.31%",
                        "_into 4.62%",
                        ", 4.54%",
                        "_out 3.00%",
                        "_in 2.86%",
                        "_up 2.48%",
                        "_down 2.21%",
                        "_from 2.13%"
                      ],
                      [
                        ". 14.50%",
                        "_to 7.78%",
                        "\\n 5.71%",
                        "_into 4.99%",
                        ", 4.73%",
                        "_the 4.68%",
                        ".\" 4.25%",
                        "_right 3.40%",
                        "_of 3.06%",
                        "_for 2.23%"
                      ]
                    ],
                    [
                      [
                        "\\n 13.79%",
                        "and 5.78%",
                        "I 2.76%",
                        "And 1.57%",
                        "\" 1.37%",
                        "   1.20%",
                        "with 1.04%",
                        "( 0.86%",
                        "in 0.71%",
                        "But 0.71%"
                      ],
                      [
                        ", 6.71%",
                        ". 5.40%",
                        "_of 5.11%",
                        "- 2.98%",
                        "\\n 2.75%",
                        "_day 1.14%",
                        "_thing 1.00%",
                        "_or 0.99%",
                        "_I 0.91%",
                        "_and 0.77%"
                      ],
                      [
                        ", 13.31%",
                        "_is 4.46%",
                        "\" 2.88%",
                        ". 2.51%",
                        "_and 1.79%",
                        "- 1.70%",
                        "_of 1.60%",
                        "\\n 1.58%",
                        "_for 1.30%",
                        ".\" 1.17%"
                      ],
                      [
                        "\\n 7.48%",
                        "_the 5.56%",
                        "_be 2.32%",
                        "_do 2.03%",
                        "_date 1.96%",
                        "_a 1.02%",
                        ", 0.96%",
                        "_me 0.93%",
                        "_go 0.77%",
                        "_get 0.68%"
                      ],
                      [
                        "_your 13.62%",
                        "_the 8.01%",
                        "_you 7.75%",
                        "_up 7.05%",
                        "_them 6.72%",
                        "_a 5.45%",
                        "_it 4.40%",
                        "_back 4.14%",
                        "_her 2.71%",
                        "_out 2.29%"
                      ],
                      [
                        "_to 24.59%",
                        "_into 11.67%",
                        "_up 5.14%",
                        "_out 4.88%",
                        "_in 3.43%",
                        ", 3.19%",
                        "_from 3.08%",
                        ". 2.44%",
                        "_toget… 2.18%",
                        "\\n 2.04%"
                      ],
                      [
                        "_to 15.23%",
                        ", 6.07%",
                        ". 5.77%",
                        "_the 5.48%",
                        "_of 4.45%",
                        "_from 4.40%",
                        "_toget… 3.92%",
                        "_in 3.81%",
                        "_over 3.56%",
                        "\\n 2.82%"
                      ]
                    ],
                    [
                      [
                        "\\n 11.18%",
                        "I 2.95%",
                        "And 2.00%",
                        "\" 1.69%",
                        "and 1.65%",
                        "Be 1.36%",
                        "You 1.32%",
                        "But 1.24%",
                        "Who 1.06%",
                        "The 0.89%"
                      ],
                      [
                        "_I 2.35%",
                        "\\n 1.81%",
                        "_thing 1.41%",
                        "_day 1.35%",
                        "_of 1.34%",
                        "_night 1.04%",
                        "_S 0.76%",
                        "_person 0.76%",
                        "_B 0.75%",
                        "_my 0.65%"
                      ],
                      [
                        ", 8.24%",
                        "_is 8.06%",
                        "_to 6.97%",
                        "_for 3.97%",
                        "_in 3.96%",
                        "_of 3.70%",
                        ". 2.68%",
                        "_and 2.61%",
                        "\\n 2.27%",
                        "_by 1.68%"
                      ],
                      [
                        "_the 3.48%",
                        "_be 2.52%",
                        "_do 2.09%",
                        "_a 1.34%",
                        "_get 1.15%",
                        "_read 0.98%",
                        "_make 0.82%",
                        "_remove 0.82%",
                        "_your 0.81%",
                        "_take 0.78%"
                      ],
                      [
                        "_your 22.58%",
                        "_them 10.22%",
                        "_you 10.11%",
                        "_the 5.75%",
                        "_it 5.23%",
                        "_her 4.00%",
                        "_up 3.99%",
                        "_me 3.70%",
                        "_a 3.00%",
                        "_him 1.91%"
                      ],
                      [
                        ", 18.92%",
                        "_to 13.59%",
                        ". 7.47%",
                        "\\n 5.16%",
                        "?\" 4.10%",
                        ".\" 3.63%",
                        "_into 3.39%",
                        "_in 3.18%",
                        "? 3.08%",
                        "_and 2.12%"
                      ],
                      [
                        ", 40.04%",
                        ". 10.22%",
                        "_to 6.38%",
                        "_of 5.39%",
                        ".\" 3.55%",
                        "_in 3.15%",
                        "_into 2.23%",
                        "_the 2.15%",
                        "?\" 1.66%",
                        "_and 1.38%"
                      ]
                    ],
                    [
                      [
                        "\\n 14.01%",
                        "I 2.59%",
                        "And 2.59%",
                        "\" 2.37%",
                        "The 2.21%",
                        "and 1.23%",
                        "But 1.22%",
                        "You 1.17%",
                        "He 0.87%",
                        "Who 0.83%"
                      ],
                      [
                        ", 2.59%",
                        "\\n 2.49%",
                        "_thing 1.75%",
                        "_of 1.41%",
                        "_I 1.39%",
                        ". 1.21%",
                        "_B 0.98%",
                        "_day 0.90%",
                        "_night 0.85%",
                        "_Me 0.74%"
                      ],
                      [
                        "_to 60.42%",
                        "_for 6.32%",
                        ", 3.78%",
                        "_in 2.97%",
                        "_is 2.23%",
                        ". 2.02%",
                        "_of 1.89%",
                        "_by 1.47%",
                        "_and 1.22%",
                        "_on 0.89%"
                      ],
                      [
                        "_find 6.41%",
                        "_go 2.35%",
                        "_do 2.15%",
                        "_give 1.99%",
                        "_make 1.96%",
                        "_change 1.94%",
                        "_fight 1.71%",
                        "_get 1.49%",
                        "_regis… 1.46%",
                        "_keep 1.46%"
                      ],
                      [
                        "_them 33.23%",
                        "_him 16.57%",
                        "_your 10.93%",
                        "_you 8.19%",
                        "_it 6.30%",
                        "_her 2.74%",
                        "_the 1.64%",
                        "_back 1.62%",
                        "_me 1.17%",
                        "_up 1.03%"
                      ],
                      [
                        ", 33.33%",
                        "_to 7.77%",
                        ". 7.59%",
                        "\\n 7.25%",
                        "_in 3.33%",
                        "_all 2.55%",
                        "_out 2.11%",
                        "_up 2.07%",
                        ".\" 1.77%",
                        "_and 1.56%"
                      ],
                      [
                        ", 67.97%",
                        ". 14.87%",
                        ".\" 3.10%",
                        "_and 0.87%",
                        ",\" 0.84%",
                        "_in 0.82%",
                        "_toget… 0.70%",
                        "\\n 0.64%",
                        "_to 0.62%",
                        "! 0.58%"
                      ]
                    ],
                    [
                      [
                        "And 19.02%",
                        "\\n 4.50%",
                        "The 3.47%",
                        "I 3.07%",
                        "But 2.67%",
                        "With 1.36%",
                        "[ 1.31%",
                        "and 1.31%",
                        "You 1.18%",
                        "When 1.09%"
                      ],
                      [
                        "_Ring 6.45%",
                        "_Red 1.64%",
                        "\\n 1.38%",
                        "_Word 1.31%",
                        "_R 1.31%",
                        "_Night 1.28%",
                        ", 0.65%",
                        "Ring 0.61%",
                        "_Shot 0.59%",
                        "_of 0.56%"
                      ],
                      [
                        "_to 84.16%",
                        ", 3.01%",
                        "_for 1.47%",
                        "-- 1.31%",
                        ". 1.01%",
                        "_in 0.97%",
                        "_and 0.68%",
                        "_by 0.44%",
                        "âĢĶ 0.35%",
                        "_is 0.27%"
                      ],
                      [
                        "_change 7.04%",
                        "_fight 3.36%",
                        "_make 2.66%",
                        "_find 2.47%",
                        "_rule 2.00%",
                        "_give 1.78%",
                        "_keep 1.70%",
                        "_kill 1.52%",
                        "_break 1.39%",
                        "_look 1.28%"
                      ],
                      [
                        "_them 48.69%",
                        "_you 8.01%",
                        "_him 5.09%",
                        "_it 4.95%",
                        "_your 2.95%",
                        "_back 2.07%",
                        "_up 1.45%",
                        "_her 1.35%",
                        "_me 1.21%",
                        "_all 1.15%"
                      ],
                      [
                        ", 17.13%",
                        "_all 10.81%",
                        "\\n 9.41%",
                        "_to 9.04%",
                        ". 7.60%",
                        "_up 3.24%",
                        "_in 2.73%",
                        "_toget… 2.50%",
                        "_out 2.29%",
                        "_into 1.82%"
                      ],
                      [
                        ", 71.53%",
                        ". 11.97%",
                        ".\" 2.77%",
                        "_toget… 1.71%",
                        "\\n 1.12%",
                        "; 0.70%",
                        "_in 0.63%",
                        "_again 0.61%",
                        ",\" 0.45%",
                        "_but 0.38%"
                      ]
                    ],
                    [
                      [
                        "And 32.00%",
                        "But 8.31%",
                        "The 4.13%",
                        "One 3.05%",
                        "I 1.45%",
                        "and 1.31%",
                        "You 1.31%",
                        "Who 1.20%",
                        "That 1.14%",
                        "_And 1.12%"
                      ],
                      [
                        "_Ring 12.56%",
                        "_Wing 3.84%",
                        "_Night 2.68%",
                        "_Me 1.80%",
                        "_Light 1.75%",
                        "_Word 1.54%",
                        "_Eye 1.04%",
                        "_R 0.99%",
                        "_Promi… 0.99%",
                        "_Voice 0.87%"
                      ],
                      [
                        "_to 97.96%",
                        "_for 0.28%",
                        ", 0.23%",
                        "to 0.18%",
                        "_in 0.09%",
                        "_and 0.08%",
                        "_of 0.07%",
                        ". 0.06%",
                        "_that 0.04%",
                        "_by 0.03%"
                      ],
                      [
                        "_find 8.37%",
                        "_make 6.30%",
                        "_kill 6.07%",
                        "_keep 3.37%",
                        "_fight 3.17%",
                        "_bring 2.48%",
                        "_save 2.33%",
                        "_rule 2.27%",
                        "_give 2.01%",
                        "_learn 1.45%"
                      ],
                      [
                        "_them 54.16%",
                        "_him 6.66%",
                        "_it 5.78%",
                        "_you 3.82%",
                        "_toget… 2.41%",
                        "_her 2.02%",
                        ", 2.01%",
                        "_in 1.69%",
                        "_the 1.42%",
                        "_to 1.33%"
                      ],
                      [
                        "_to 21.05%",
                        ", 18.69%",
                        "_all 6.19%",
                        ". 5.90%",
                        "_in 3.90%",
                        "_up 2.54%",
                        "_toget… 2.23%",
                        "\\n 2.16%",
                        "_into 2.10%",
                        "_from 2.02%"
                      ],
                      [
                        ", 66.20%",
                        ". 14.79%",
                        ".\" 2.31%",
                        "\\n 1.60%",
                        "_to 1.04%",
                        "_toget… 0.97%",
                        "_and 0.69%",
                        "_again 0.62%",
                        "_in 0.57%",
                        "_into 0.50%"
                      ]
                    ],
                    [
                      [
                        "And 17.75%",
                        "One 13.20%",
                        "The 5.31%",
                        "But 4.60%",
                        "I 1.65%",
                        "\\n 1.36%",
                        "Two 1.35%",
                        "You 1.22%",
                        "So 1.17%",
                        "We 1.08%"
                      ],
                      [
                        "_Ring 97.90%",
                        "Ring 1.72%",
                        "_ring 0.19%",
                        "_Rings 0.02%",
                        "_R 0.01%",
                        "_Night 0.00%",
                        "_to 0.00%",
                        "ring 0.00%",
                        "_Red 0.00%",
                        "\\n 0.00%"
                      ],
                      [
                        "_to 99.49%",
                        "_for 0.07%",
                        "to 0.06%",
                        ", 0.06%",
                        "_in 0.02%",
                        "_of 0.02%",
                        "_and 0.02%",
                        "_that 0.01%",
                        "\\n 0.01%",
                        ". 0.01%"
                      ],
                      [
                        "_find 9.60%",
                        "_make 6.08%",
                        "_rule 3.98%",
                        "_kill 3.02%",
                        "_keep 2.37%",
                        "_break 2.03%",
                        "_give 1.94%",
                        "_bring 1.88%",
                        "_fight 1.68%",
                        "_play 1.60%"
                      ],
                      [
                        "_them 87.21%",
                        "_it 2.77%",
                        "_him 1.33%",
                        ", 0.70%",
                        "_the 0.52%",
                        "_you 0.48%",
                        "_home 0.47%",
                        "_her 0.46%",
                        "\\n 0.42%",
                        "_their 0.40%"
                      ],
                      [
                        ", 29.18%",
                        "_to 11.15%",
                        "_all 8.25%",
                        "\\n 6.37%",
                        "_toget… 3.84%",
                        "_in 2.62%",
                        ". 2.46%",
                        "_up 2.21%",
                        "_back 2.17%",
                        "_away 2.15%"
                      ],
                      [
                        ", 75.07%",
                        ". 4.98%",
                        "\\n 3.73%",
                        "_to 1.39%",
                        "_toget… 1.37%",
                        ".\" 0.97%",
                        "_in 0.71%",
                        "_away 0.65%",
                        "_into 0.56%",
                        "; 0.51%"
                      ]
                    ],
                    [
                      [
                        "One 47.78%",
                        "And 13.55%",
                        "The 3.40%",
                        "Two 2.24%",
                        "_One 1.69%",
                        "But 1.28%",
                        "\\n 1.19%",
                        "one 1.13%",
                        "We 0.79%",
                        "That 0.77%"
                      ],
                      [
                        "_Ring 98.99%",
                        "Ring 0.34%",
                        "_ring 0.24%",
                        "_to 0.05%",
                        "_R 0.01%",
                        "_and 0.01%",
                        "_Night 0.01%",
                        "_One 0.01%",
                        "_Red 0.01%",
                        "_He 0.01%"
                      ],
                      [
                        "_to 98.37%",
                        "_for 0.35%",
                        ", 0.24%",
                        "_and 0.08%",
                        "_in 0.07%",
                        "_that 0.07%",
                        "_of 0.04%",
                        "_from 0.04%",
                        "_with 0.03%",
                        "_on 0.02%"
                      ],
                      [
                        "_rule 9.69%",
                        "_find 8.02%",
                        "_make 4.52%",
                        "_keep 4.04%",
                        "_hold 2.82%",
                        "_break 2.65%",
                        "_bring 2.52%",
                        "_give 1.81%",
                        "_save 1.51%",
                        "_kill 1.51%"
                      ],
                      [
                        "_them 87.52%",
                        "_him 1.51%",
                        "_it 1.29%",
                        "_their 0.96%",
                        "_home 0.92%",
                        "_the 0.90%",
                        ", 0.79%",
                        "_all 0.40%",
                        "_her 0.38%",
                        "_in 0.38%"
                      ],
                      [
                        ", 31.11%",
                        "_to 8.77%",
                        "_all 6.29%",
                        "_toget… 5.80%",
                        "_back 5.77%",
                        "_up 5.51%",
                        "_in 3.85%",
                        "\\n 3.00%",
                        "_out 2.49%",
                        "_down 2.31%"
                      ],
                      [
                        ", 81.87%",
                        "\\n 4.61%",
                        ". 3.30%",
                        "_toget… 1.16%",
                        ".\" 0.91%",
                        "_to 0.78%",
                        "_in 0.55%",
                        ",\" 0.38%",
                        "; 0.33%",
                        "! 0.27%"
                      ]
                    ],
                    [
                      [
                        "One 31.62%",
                        "And 17.43%",
                        "\\n 3.85%",
                        "The 3.80%",
                        "Two 2.03%",
                        "But 1.40%",
                        "All 1.29%",
                        "To 1.26%",
                        "Or 1.08%",
                        "So 1.05%"
                      ],
                      [
                        "_Ring 99.36%",
                        "_ring 0.20%",
                        "Ring 0.14%",
                        "_to 0.03%",
                        "_R 0.01%",
                        "_and 0.01%",
                        "_Little 0.01%",
                        ", 0.01%",
                        "_Red 0.00%",
                        "_Star 0.00%"
                      ],
                      [
                        "_to 97.92%",
                        "_for 0.39%",
                        ", 0.29%",
                        "_and 0.11%",
                        "_that 0.10%",
                        "_of 0.09%",
                        "_in 0.08%",
                        "_with 0.04%",
                        "_from 0.03%",
                        "_is 0.03%"
                      ],
                      [
                        "_rule 30.78%",
                        "_find 7.64%",
                        "_make 3.58%",
                        "_keep 1.96%",
                        "_hold 1.79%",
                        "_break 1.71%",
                        "_bring 1.39%",
                        "_see 1.01%",
                        "_save 1.01%",
                        "_steal 0.96%"
                      ],
                      [
                        "_them 91.79%",
                        "_their 1.19%",
                        "_back 0.78%",
                        "_the 0.51%",
                        "_it 0.49%",
                        "_to 0.40%",
                        "_all 0.31%",
                        "_down 0.27%",
                        ", 0.26%",
                        "_home 0.24%"
                      ],
                      [
                        "_to 14.78%",
                        "_back 14.77%",
                        ", 9.30%",
                        "_toget… 6.68%",
                        "_away 6.35%",
                        "_out 6.34%",
                        "_down 6.27%",
                        "_into 5.76%",
                        "_all 4.00%",
                        "_up 3.61%"
                      ],
                      [
                        ", 80.99%",
                        ". 4.72%",
                        "_toget… 2.44%",
                        "\\n 1.71%",
                        "_to 1.55%",
                        "_away 1.04%",
                        "_into 0.89%",
                        "_back 0.67%",
                        "_in 0.62%",
                        "; 0.34%"
                      ]
                    ],
                    [
                      [
                        "One 23.03%",
                        "And 20.42%",
                        "\\n 6.02%",
                        "The 3.56%",
                        "Two 2.62%",
                        "To 1.76%",
                        "A 1.75%",
                        "All 1.68%",
                        "Or 1.39%",
                        "I 1.22%"
                      ],
                      [
                        "_Ring 92.65%",
                        "_ring 1.93%",
                        "_to 0.82%",
                        "_and 0.11%",
                        "_for 0.07%",
                        "_R 0.07%",
                        ", 0.05%",
                        "_Heart 0.04%",
                        "_in 0.04%",
                        "_Jew 0.04%"
                      ],
                      [
                        "_to 93.39%",
                        ", 1.31%",
                        "_for 1.10%",
                        "_that 0.46%",
                        "_of 0.21%",
                        "_and 0.21%",
                        "_is 0.18%",
                        "_in 0.17%",
                        "_will 0.12%",
                        "_with 0.12%"
                      ],
                      [
                        "_find 11.43%",
                        "_make 5.41%",
                        "_rule 3.83%",
                        "_keep 1.58%",
                        "_be 1.45%",
                        "_win 1.41%",
                        "_get 1.31%",
                        "_give 1.28%",
                        "_take 1.24%",
                        "_tell 1.15%"
                      ],
                      [
                        "_them 62.47%",
                        "_to 3.60%",
                        "_back 3.13%",
                        "_the 2.43%",
                        ", 1.73%",
                        "_their 1.72%",
                        "_home 1.50%",
                        "_all 1.50%",
                        "_in 1.37%",
                        "_it 1.13%"
                      ],
                      [
                        "_all 23.99%",
                        "_to 16.01%",
                        ", 12.66%",
                        "_back 10.70%",
                        "_home 5.47%",
                        "_toget… 5.15%",
                        "_in 2.28%",
                        "_out 2.28%",
                        "_down 2.07%",
                        "_into 1.93%"
                      ],
                      [
                        ", 47.05%",
                        ". 9.04%",
                        "_back 7.78%",
                        "_toget… 7.62%",
                        "_to 6.09%",
                        "\\n 4.53%",
                        "_away 1.34%",
                        "! 1.17%",
                        "_in 1.14%",
                        "_home 1.08%"
                      ]
                    ]
                  ],
                  "hoverlabel": {
                    "bgcolor": "rgb(42, 42, 50)"
                  },
                  "hovertemplate": " %{customdata[0]}<br> %{customdata[1]}<br> %{customdata[2]}<br> %{customdata[3]}<br> %{customdata[4]}<br> %{customdata[5]}<br> %{customdata[6]}<br> %{customdata[7]}<br> %{customdata[8]}<br> %{customdata[9]}<extra></extra>",
                  "text": [
                    [
                      "\\n",
                      "_of",
                      ",",
                      "_the",
                      "_the",
                      ".",
                      "_the"
                    ],
                    [
                      "\\n",
                      "_of",
                      "_is",
                      "_the",
                      "_the",
                      ",",
                      "_of"
                    ],
                    [
                      "\\n",
                      ",",
                      "_is",
                      "_be",
                      "_the",
                      ".",
                      "."
                    ],
                    [
                      "\\n",
                      "_of",
                      ",",
                      "_be",
                      "_your",
                      "_to",
                      "."
                    ],
                    [
                      "\\n",
                      ",",
                      ",",
                      "\\n",
                      "_your",
                      "_to",
                      "_to"
                    ],
                    [
                      "\\n",
                      "_I",
                      ",",
                      "_the",
                      "_your",
                      ",",
                      ","
                    ],
                    [
                      "\\n",
                      ",",
                      "_to",
                      "_find",
                      "_them",
                      ",",
                      ","
                    ],
                    [
                      "And",
                      "_Ring",
                      "_to",
                      "_change",
                      "_them",
                      ",",
                      ","
                    ],
                    [
                      "And",
                      "_Ring",
                      "_to",
                      "_find",
                      "_them",
                      "_to",
                      ","
                    ],
                    [
                      "And",
                      "_Ring",
                      "_to",
                      "_find",
                      "_them",
                      ",",
                      ","
                    ],
                    [
                      "One",
                      "_Ring",
                      "_to",
                      "_rule",
                      "_them",
                      ",",
                      ","
                    ],
                    [
                      "One",
                      "_Ring",
                      "_to",
                      "_rule",
                      "_them",
                      "_to",
                      ","
                    ],
                    [
                      "One",
                      "_Ring",
                      "_to",
                      "_find",
                      "_them",
                      "_all",
                      ","
                    ]
                  ],
                  "textfont": {
                    "size": 10
                  },
                  "texttemplate": "<b>%{text}</b>",
                  "type": "heatmap",
                  "x": [
                    "\\n",
                    "One‌",
                    "_Ring‌‌",
                    "_to‌‌‌",
                    "_bring‌‌‌‌",
                    "_them‌‌‌‌‌",
                    "_all‌‌‌‌‌‌"
                  ],
                  "xaxis": "x",
                  "y": [
                    "input",
                    "1",
                    "2",
                    "3",
                    "4",
                    "5",
                    "6",
                    "7",
                    "8",
                    "9",
                    "10",
                    "11",
                    "output"
                  ],
                  "yaxis": "y",
                  "z": [
                    [
                      5.3817949295043945,
                      6.577738285064697,
                      6.731129169464111,
                      6.952099800109863,
                      5.174382209777832,
                      5.291956424713135,
                      6.694458961486816
                    ],
                    [
                      5.734163761138916,
                      6.198474884033203,
                      7.1372528076171875,
                      7.441858768463135,
                      4.654620170593262,
                      5.1243977546691895,
                      6.280261993408203
                    ],
                    [
                      6.611345291137695,
                      6.564090728759766,
                      7.3960957527160645,
                      7.150136470794678,
                      5.408073902130127,
                      5.9918437004089355,
                      5.753615379333496
                    ],
                    [
                      6.294403553009033,
                      6.961106300354004,
                      6.4926533699035645,
                      7.061440944671631,
                      4.759571552276611,
                      5.330718517303467,
                      4.481851577758789
                    ],
                    [
                      6.516298294067383,
                      7.080282688140869,
                      6.448220729827881,
                      7.166776657104492,
                      4.301933765411377,
                      4.170278549194336,
                      4.223997116088867
                    ],
                    [
                      6.825994491577148,
                      7.957235813140869,
                      5.530913352966309,
                      7.128432750701904,
                      3.781858205795288,
                      3.9524168968200684,
                      2.963719367980957
                    ],
                    [
                      6.409358024597168,
                      7.616744041442871,
                      2.3318493366241455,
                      6.014956951141357,
                      2.851670503616333,
                      3.566751718521118,
                      1.568113923072815
                    ],
                    [
                      5.576126575469971,
                      7.371737957000732,
                      1.0779528617858887,
                      5.895836353302002,
                      2.9151413440704346,
                      4.0232319831848145,
                      1.5171289443969727
                    ],
                    [
                      4.322347640991211,
                      6.213676929473877,
                      0.19536300003528595,
                      5.1684250831604,
                      2.6534037590026855,
                      3.78290057182312,
                      1.8000601530075073
                    ],
                    [
                      4.826406478881836,
                      0.12669533491134644,
                      0.05467027425765991,
                      5.399532318115234,
                      0.9052185416221619,
                      3.5440635681152344,
                      1.59774649143219
                    ],
                    [
                      3.02400541305542,
                      0.09453125298023224,
                      0.15486738085746765,
                      5.311160087585449,
                      0.8874408006668091,
                      3.2339792251586914,
                      1.1238750219345093
                    ],
                    [
                      3.780735969543457,
                      0.06450054049491882,
                      0.1950933039188385,
                      4.445400238037109,
                      0.6256221532821655,
                      3.169860363006592,
                      1.1353576183319092
                    ],
                    [
                      3.9134464263916016,
                      0.6718061566352844,
                      0.5275533199310303,
                      5.817844390869141,
                      2.384904384613037,
                      2.8867032527923584,
                      2.3747425079345703
                    ]
                  ]
                },
                {
                  "colorbar": {
                    "len": 0.3,
                    "title": {
                      "side": "right",
                      "text": "Forward KL (nats)"
                    },
                    "y": 0.5
                  },
                  "colorscale": [
                    [
                      0,
                      "rgb(5,48,97)"
                    ],
                    [
                      0.1,
                      "rgb(33,102,172)"
                    ],
                    [
                      0.2,
                      "rgb(67,147,195)"
                    ],
                    [
                      0.3,
                      "rgb(146,197,222)"
                    ],
                    [
                      0.4,
                      "rgb(209,229,240)"
                    ],
                    [
                      0.5,
                      "rgb(247,247,247)"
                    ],
                    [
                      0.6,
                      "rgb(253,219,199)"
                    ],
                    [
                      0.7,
                      "rgb(244,165,130)"
                    ],
                    [
                      0.8,
                      "rgb(214,96,77)"
                    ],
                    [
                      0.9,
                      "rgb(178,24,43)"
                    ],
                    [
                      1,
                      "rgb(103,0,31)"
                    ]
                  ],
                  "customdata": [
                    [
                      [
                        "\\n 28.53%",
                        "     3.49%",
                        "   2.47%",
                        "The 2.41%",
                        "      … 2.05%",
                        "ĉ 1.56%",
                        "\" 1.26%",
                        "< 1.07%",
                        "I 0.96%",
                        "      … 0.94%"
                      ],
                      [
                        "_of 20.74%",
                        ", 4.49%",
                        "- 2.42%",
                        "_is 2.37%",
                        ". 1.81%",
                        ": 0.88%",
                        "_in 0.79%",
                        "_if 0.74%",
                        "_ 0.62%",
                        "_and 0.59%"
                      ],
                      [
                        ", 8.99%",
                        ". 6.99%",
                        "_of 6.41%",
                        "_( 1.74%",
                        "_and 1.72%",
                        "- 1.62%",
                        "\\n 1.55%",
                        "_in 1.12%",
                        "_from 1.05%",
                        "_for 0.95%"
                      ],
                      [
                        "_the 11.82%",
                        "_be 4.88%",
                        "_a 2.51%",
                        "_get 1.26%",
                        "_make 1.23%",
                        "_do 1.09%",
                        "_take 1.00%",
                        "_have 0.93%",
                        "_find 0.64%",
                        "_an 0.64%"
                      ],
                      [
                        "_the 12.86%",
                        "_up 6.93%",
                        "_a 6.56%",
                        "_to 3.93%",
                        "_him 2.91%",
                        "_it 2.87%",
                        "_me 2.81%",
                        "_out 2.58%",
                        "_his 2.54%",
                        "_my 2.03%"
                      ],
                      [
                        ". 12.73%",
                        "_to 8.74%",
                        ", 7.80%",
                        "_in 4.94%",
                        "_and 2.24%",
                        ".\" 1.92%",
                        "_with 1.65%",
                        "_were 1.48%",
                        "_into 1.35%",
                        "_are 1.26%"
                      ],
                      [
                        "_the 11.10%",
                        "_of 5.52%",
                        ", 3.39%",
                        ". 2.31%",
                        "_other 1.79%",
                        "_a 1.68%",
                        "_that 1.40%",
                        "- 1.35%",
                        "\\n 1.23%",
                        "_people 1.20%"
                      ]
                    ],
                    [
                      [
                        "\\n 29.28%",
                        "Catego… 1.90%",
                        "the 1.74%",
                        "   1.38%",
                        "in 1.31%",
                        "and 1.29%",
                        "< 1.26%",
                        "     1.21%",
                        "- 0.75%",
                        "... 0.66%"
                      ],
                      [
                        "_of 15.01%",
                        "_is 4.41%",
                        ", 3.79%",
                        "_can 3.56%",
                        ". 2.72%",
                        "- 2.14%",
                        "'s 2.01%",
                        "_has 1.66%",
                        "_anoth… 1.34%",
                        "\\n 1.19%"
                      ],
                      [
                        "_is 3.76%",
                        ", 3.68%",
                        "_of 2.80%",
                        "ling 2.80%",
                        ". 2.21%",
                        "\\n 1.95%",
                        "_and 1.37%",
                        "_in 1.28%",
                        "'s 0.99%",
                        "- 0.99%"
                      ],
                      [
                        "_the 8.75%",
                        "\\n 3.35%",
                        "_be 2.45%",
                        "_a 2.14%",
                        "_get 1.30%",
                        "_have 0.91%",
                        "_do 0.86%",
                        "_make 0.83%",
                        "_me 0.58%",
                        "_this 0.47%"
                      ],
                      [
                        "_the 11.90%",
                        "_a 11.12%",
                        "_me 4.30%",
                        "_up 4.23%",
                        "_it 4.03%",
                        "_about 3.56%",
                        "_them 3.11%",
                        "_your 2.88%",
                        "_her 2.88%",
                        "_to 2.82%"
                      ],
                      [
                        ", 10.76%",
                        ". 10.58%",
                        "_to 6.97%",
                        "_in 4.11%",
                        "\\n 3.10%",
                        "_with 2.63%",
                        "_as 2.17%",
                        "_a 2.04%",
                        "_all 2.03%",
                        "_and 2.00%"
                      ],
                      [
                        "_of 5.61%",
                        "_the 5.23%",
                        "_right 3.02%",
                        "_things 2.39%",
                        ". 2.38%",
                        "?\" 2.20%",
                        ", 2.10%",
                        ".\" 2.04%",
                        "\\n 1.91%",
                        "_about 1.56%"
                      ]
                    ],
                    [
                      [
                        "\\n 15.85%",
                        "   1.91%",
                        "the 1.54%",
                        "and 1.47%",
                        "in 1.25%",
                        "a 1.23%",
                        "to 1.23%",
                        "( 1.21%",
                        "is 1.00%",
                        "     0.92%"
                      ],
                      [
                        ", 10.74%",
                        "_of 6.45%",
                        "\\n 4.06%",
                        ". 3.94%",
                        "_is 2.80%",
                        "- 2.61%",
                        "_can 1.47%",
                        "_I 1.44%",
                        "_or 1.38%",
                        "'s 0.80%"
                      ],
                      [
                        "_is 5.88%",
                        ", 5.78%",
                        "\\n 1.99%",
                        "_and 1.57%",
                        ". 1.53%",
                        "- 0.98%",
                        "'s 0.92%",
                        "_in 0.88%",
                        "_of 0.83%",
                        "o 0.77%"
                      ],
                      [
                        "_be 6.19%",
                        "_the 3.81%",
                        "_get 3.60%",
                        "\\n 1.59%",
                        "_make 1.51%",
                        "_have 1.19%",
                        "_a 1.03%",
                        "_do 0.83%",
                        "_create 0.83%",
                        "_find 0.82%"
                      ],
                      [
                        "_the 8.62%",
                        "_a 6.46%",
                        "_to 5.02%",
                        "_up 4.06%",
                        "_your 4.06%",
                        "_it 3.50%",
                        "_me 3.19%",
                        "_about 2.95%",
                        "_you 2.90%",
                        "_them 2.75%"
                      ],
                      [
                        ". 6.22%",
                        "_to 6.02%",
                        ", 5.35%",
                        "\\n 4.89%",
                        "_in 3.10%",
                        "_with 2.39%",
                        "_out 2.22%",
                        "_as 2.02%",
                        "_from 1.85%",
                        "_a 1.79%"
                      ],
                      [
                        ". 9.23%",
                        "\\n 6.91%",
                        ", 5.10%",
                        "_the 3.93%",
                        "_that 3.59%",
                        "_to 2.83%",
                        "_right 2.71%",
                        "_of 2.51%",
                        ".\" 2.23%",
                        "_in 2.12%"
                      ]
                    ],
                    [
                      [
                        "\\n 21.08%",
                        "and 1.99%",
                        "\" 1.27%",
                        "   1.14%",
                        "but 1.13%",
                        "( 1.07%",
                        "_ 0.84%",
                        "for 0.81%",
                        "     0.79%",
                        "I 0.78%"
                      ],
                      [
                        "_of 5.41%",
                        "\\n 5.36%",
                        ". 4.27%",
                        "- 3.62%",
                        ", 3.32%",
                        "_day 2.84%",
                        "_hour 1.44%",
                        "y 1.26%",
                        "_thing 1.11%",
                        "_or 0.76%"
                      ],
                      [
                        ", 11.76%",
                        "_is 5.71%",
                        "\\n 2.67%",
                        ". 2.61%",
                        "\" 1.89%",
                        "_and 1.53%",
                        "_in 1.36%",
                        "_of 1.25%",
                        "?\" 1.02%",
                        "- 1.00%"
                      ],
                      [
                        "_be 9.63%",
                        "_the 5.22%",
                        "_get 2.54%",
                        "\\n 1.59%",
                        "_a 1.52%",
                        "_do 1.47%",
                        "_make 1.16%",
                        "_have 0.91%",
                        "_find 0.89%",
                        "_create 0.84%"
                      ],
                      [
                        "_your 8.01%",
                        "_up 7.62%",
                        "_a 7.43%",
                        "_the 6.51%",
                        "_it 5.60%",
                        "_them 4.18%",
                        "_you 3.52%",
                        "_back 3.32%",
                        "_me 3.26%",
                        "_out 2.77%"
                      ],
                      [
                        "_to 13.46%",
                        "\\n 6.63%",
                        ". 5.31%",
                        "_into 4.62%",
                        ", 4.54%",
                        "_out 3.00%",
                        "_in 2.86%",
                        "_up 2.48%",
                        "_down 2.21%",
                        "_from 2.13%"
                      ],
                      [
                        ". 14.50%",
                        "_to 7.78%",
                        "\\n 5.71%",
                        "_into 4.99%",
                        ", 4.73%",
                        "_the 4.68%",
                        ".\" 4.25%",
                        "_right 3.40%",
                        "_of 3.06%",
                        "_for 2.23%"
                      ]
                    ],
                    [
                      [
                        "\\n 13.79%",
                        "and 5.78%",
                        "I 2.76%",
                        "And 1.57%",
                        "\" 1.37%",
                        "   1.20%",
                        "with 1.04%",
                        "( 0.86%",
                        "in 0.71%",
                        "But 0.71%"
                      ],
                      [
                        ", 6.71%",
                        ". 5.40%",
                        "_of 5.11%",
                        "- 2.98%",
                        "\\n 2.75%",
                        "_day 1.14%",
                        "_thing 1.00%",
                        "_or 0.99%",
                        "_I 0.91%",
                        "_and 0.77%"
                      ],
                      [
                        ", 13.31%",
                        "_is 4.46%",
                        "\" 2.88%",
                        ". 2.51%",
                        "_and 1.79%",
                        "- 1.70%",
                        "_of 1.60%",
                        "\\n 1.58%",
                        "_for 1.30%",
                        ".\" 1.17%"
                      ],
                      [
                        "\\n 7.48%",
                        "_the 5.56%",
                        "_be 2.32%",
                        "_do 2.03%",
                        "_date 1.96%",
                        "_a 1.02%",
                        ", 0.96%",
                        "_me 0.93%",
                        "_go 0.77%",
                        "_get 0.68%"
                      ],
                      [
                        "_your 13.62%",
                        "_the 8.01%",
                        "_you 7.75%",
                        "_up 7.05%",
                        "_them 6.72%",
                        "_a 5.45%",
                        "_it 4.40%",
                        "_back 4.14%",
                        "_her 2.71%",
                        "_out 2.29%"
                      ],
                      [
                        "_to 24.59%",
                        "_into 11.67%",
                        "_up 5.14%",
                        "_out 4.88%",
                        "_in 3.43%",
                        ", 3.19%",
                        "_from 3.08%",
                        ". 2.44%",
                        "_toget… 2.18%",
                        "\\n 2.04%"
                      ],
                      [
                        "_to 15.23%",
                        ", 6.07%",
                        ". 5.77%",
                        "_the 5.48%",
                        "_of 4.45%",
                        "_from 4.40%",
                        "_toget… 3.92%",
                        "_in 3.81%",
                        "_over 3.56%",
                        "\\n 2.82%"
                      ]
                    ],
                    [
                      [
                        "\\n 11.18%",
                        "I 2.95%",
                        "And 2.00%",
                        "\" 1.69%",
                        "and 1.65%",
                        "Be 1.36%",
                        "You 1.32%",
                        "But 1.24%",
                        "Who 1.06%",
                        "The 0.89%"
                      ],
                      [
                        "_I 2.35%",
                        "\\n 1.81%",
                        "_thing 1.41%",
                        "_day 1.35%",
                        "_of 1.34%",
                        "_night 1.04%",
                        "_S 0.76%",
                        "_person 0.76%",
                        "_B 0.75%",
                        "_my 0.65%"
                      ],
                      [
                        ", 8.24%",
                        "_is 8.06%",
                        "_to 6.97%",
                        "_for 3.97%",
                        "_in 3.96%",
                        "_of 3.70%",
                        ". 2.68%",
                        "_and 2.61%",
                        "\\n 2.27%",
                        "_by 1.68%"
                      ],
                      [
                        "_the 3.48%",
                        "_be 2.52%",
                        "_do 2.09%",
                        "_a 1.34%",
                        "_get 1.15%",
                        "_read 0.98%",
                        "_make 0.82%",
                        "_remove 0.82%",
                        "_your 0.81%",
                        "_take 0.78%"
                      ],
                      [
                        "_your 22.58%",
                        "_them 10.22%",
                        "_you 10.11%",
                        "_the 5.75%",
                        "_it 5.23%",
                        "_her 4.00%",
                        "_up 3.99%",
                        "_me 3.70%",
                        "_a 3.00%",
                        "_him 1.91%"
                      ],
                      [
                        ", 18.92%",
                        "_to 13.59%",
                        ". 7.47%",
                        "\\n 5.16%",
                        "?\" 4.10%",
                        ".\" 3.63%",
                        "_into 3.39%",
                        "_in 3.18%",
                        "? 3.08%",
                        "_and 2.12%"
                      ],
                      [
                        ", 40.04%",
                        ". 10.22%",
                        "_to 6.38%",
                        "_of 5.39%",
                        ".\" 3.55%",
                        "_in 3.15%",
                        "_into 2.23%",
                        "_the 2.15%",
                        "?\" 1.66%",
                        "_and 1.38%"
                      ]
                    ],
                    [
                      [
                        "\\n 14.01%",
                        "I 2.59%",
                        "And 2.59%",
                        "\" 2.37%",
                        "The 2.21%",
                        "and 1.23%",
                        "But 1.22%",
                        "You 1.17%",
                        "He 0.87%",
                        "Who 0.83%"
                      ],
                      [
                        ", 2.59%",
                        "\\n 2.49%",
                        "_thing 1.75%",
                        "_of 1.41%",
                        "_I 1.39%",
                        ". 1.21%",
                        "_B 0.98%",
                        "_day 0.90%",
                        "_night 0.85%",
                        "_Me 0.74%"
                      ],
                      [
                        "_to 60.42%",
                        "_for 6.32%",
                        ", 3.78%",
                        "_in 2.97%",
                        "_is 2.23%",
                        ". 2.02%",
                        "_of 1.89%",
                        "_by 1.47%",
                        "_and 1.22%",
                        "_on 0.89%"
                      ],
                      [
                        "_find 6.41%",
                        "_go 2.35%",
                        "_do 2.15%",
                        "_give 1.99%",
                        "_make 1.96%",
                        "_change 1.94%",
                        "_fight 1.71%",
                        "_get 1.49%",
                        "_regis… 1.46%",
                        "_keep 1.46%"
                      ],
                      [
                        "_them 33.23%",
                        "_him 16.57%",
                        "_your 10.93%",
                        "_you 8.19%",
                        "_it 6.30%",
                        "_her 2.74%",
                        "_the 1.64%",
                        "_back 1.62%",
                        "_me 1.17%",
                        "_up 1.03%"
                      ],
                      [
                        ", 33.33%",
                        "_to 7.77%",
                        ". 7.59%",
                        "\\n 7.25%",
                        "_in 3.33%",
                        "_all 2.55%",
                        "_out 2.11%",
                        "_up 2.07%",
                        ".\" 1.77%",
                        "_and 1.56%"
                      ],
                      [
                        ", 67.97%",
                        ". 14.87%",
                        ".\" 3.10%",
                        "_and 0.87%",
                        ",\" 0.84%",
                        "_in 0.82%",
                        "_toget… 0.70%",
                        "\\n 0.64%",
                        "_to 0.62%",
                        "! 0.58%"
                      ]
                    ],
                    [
                      [
                        "And 19.02%",
                        "\\n 4.50%",
                        "The 3.47%",
                        "I 3.07%",
                        "But 2.67%",
                        "With 1.36%",
                        "[ 1.31%",
                        "and 1.31%",
                        "You 1.18%",
                        "When 1.09%"
                      ],
                      [
                        "_Ring 6.45%",
                        "_Red 1.64%",
                        "\\n 1.38%",
                        "_Word 1.31%",
                        "_R 1.31%",
                        "_Night 1.28%",
                        ", 0.65%",
                        "Ring 0.61%",
                        "_Shot 0.59%",
                        "_of 0.56%"
                      ],
                      [
                        "_to 84.16%",
                        ", 3.01%",
                        "_for 1.47%",
                        "-- 1.31%",
                        ". 1.01%",
                        "_in 0.97%",
                        "_and 0.68%",
                        "_by 0.44%",
                        "âĢĶ 0.35%",
                        "_is 0.27%"
                      ],
                      [
                        "_change 7.04%",
                        "_fight 3.36%",
                        "_make 2.66%",
                        "_find 2.47%",
                        "_rule 2.00%",
                        "_give 1.78%",
                        "_keep 1.70%",
                        "_kill 1.52%",
                        "_break 1.39%",
                        "_look 1.28%"
                      ],
                      [
                        "_them 48.69%",
                        "_you 8.01%",
                        "_him 5.09%",
                        "_it 4.95%",
                        "_your 2.95%",
                        "_back 2.07%",
                        "_up 1.45%",
                        "_her 1.35%",
                        "_me 1.21%",
                        "_all 1.15%"
                      ],
                      [
                        ", 17.13%",
                        "_all 10.81%",
                        "\\n 9.41%",
                        "_to 9.04%",
                        ". 7.60%",
                        "_up 3.24%",
                        "_in 2.73%",
                        "_toget… 2.50%",
                        "_out 2.29%",
                        "_into 1.82%"
                      ],
                      [
                        ", 71.53%",
                        ". 11.97%",
                        ".\" 2.77%",
                        "_toget… 1.71%",
                        "\\n 1.12%",
                        "; 0.70%",
                        "_in 0.63%",
                        "_again 0.61%",
                        ",\" 0.45%",
                        "_but 0.38%"
                      ]
                    ],
                    [
                      [
                        "And 32.00%",
                        "But 8.31%",
                        "The 4.13%",
                        "One 3.05%",
                        "I 1.45%",
                        "and 1.31%",
                        "You 1.31%",
                        "Who 1.20%",
                        "That 1.14%",
                        "_And 1.12%"
                      ],
                      [
                        "_Ring 12.56%",
                        "_Wing 3.84%",
                        "_Night 2.68%",
                        "_Me 1.80%",
                        "_Light 1.75%",
                        "_Word 1.54%",
                        "_Eye 1.04%",
                        "_R 0.99%",
                        "_Promi… 0.99%",
                        "_Voice 0.87%"
                      ],
                      [
                        "_to 97.96%",
                        "_for 0.28%",
                        ", 0.23%",
                        "to 0.18%",
                        "_in 0.09%",
                        "_and 0.08%",
                        "_of 0.07%",
                        ". 0.06%",
                        "_that 0.04%",
                        "_by 0.03%"
                      ],
                      [
                        "_find 8.37%",
                        "_make 6.30%",
                        "_kill 6.07%",
                        "_keep 3.37%",
                        "_fight 3.17%",
                        "_bring 2.48%",
                        "_save 2.33%",
                        "_rule 2.27%",
                        "_give 2.01%",
                        "_learn 1.45%"
                      ],
                      [
                        "_them 54.16%",
                        "_him 6.66%",
                        "_it 5.78%",
                        "_you 3.82%",
                        "_toget… 2.41%",
                        "_her 2.02%",
                        ", 2.01%",
                        "_in 1.69%",
                        "_the 1.42%",
                        "_to 1.33%"
                      ],
                      [
                        "_to 21.05%",
                        ", 18.69%",
                        "_all 6.19%",
                        ". 5.90%",
                        "_in 3.90%",
                        "_up 2.54%",
                        "_toget… 2.23%",
                        "\\n 2.16%",
                        "_into 2.10%",
                        "_from 2.02%"
                      ],
                      [
                        ", 66.20%",
                        ". 14.79%",
                        ".\" 2.31%",
                        "\\n 1.60%",
                        "_to 1.04%",
                        "_toget… 0.97%",
                        "_and 0.69%",
                        "_again 0.62%",
                        "_in 0.57%",
                        "_into 0.50%"
                      ]
                    ],
                    [
                      [
                        "And 17.75%",
                        "One 13.20%",
                        "The 5.31%",
                        "But 4.60%",
                        "I 1.65%",
                        "\\n 1.36%",
                        "Two 1.35%",
                        "You 1.22%",
                        "So 1.17%",
                        "We 1.08%"
                      ],
                      [
                        "_Ring 97.90%",
                        "Ring 1.72%",
                        "_ring 0.19%",
                        "_Rings 0.02%",
                        "_R 0.01%",
                        "_Night 0.00%",
                        "_to 0.00%",
                        "ring 0.00%",
                        "_Red 0.00%",
                        "\\n 0.00%"
                      ],
                      [
                        "_to 99.49%",
                        "_for 0.07%",
                        "to 0.06%",
                        ", 0.06%",
                        "_in 0.02%",
                        "_of 0.02%",
                        "_and 0.02%",
                        "_that 0.01%",
                        "\\n 0.01%",
                        ". 0.01%"
                      ],
                      [
                        "_find 9.60%",
                        "_make 6.08%",
                        "_rule 3.98%",
                        "_kill 3.02%",
                        "_keep 2.37%",
                        "_break 2.03%",
                        "_give 1.94%",
                        "_bring 1.88%",
                        "_fight 1.68%",
                        "_play 1.60%"
                      ],
                      [
                        "_them 87.21%",
                        "_it 2.77%",
                        "_him 1.33%",
                        ", 0.70%",
                        "_the 0.52%",
                        "_you 0.48%",
                        "_home 0.47%",
                        "_her 0.46%",
                        "\\n 0.42%",
                        "_their 0.40%"
                      ],
                      [
                        ", 29.18%",
                        "_to 11.15%",
                        "_all 8.25%",
                        "\\n 6.37%",
                        "_toget… 3.84%",
                        "_in 2.62%",
                        ". 2.46%",
                        "_up 2.21%",
                        "_back 2.17%",
                        "_away 2.15%"
                      ],
                      [
                        ", 75.07%",
                        ". 4.98%",
                        "\\n 3.73%",
                        "_to 1.39%",
                        "_toget… 1.37%",
                        ".\" 0.97%",
                        "_in 0.71%",
                        "_away 0.65%",
                        "_into 0.56%",
                        "; 0.51%"
                      ]
                    ],
                    [
                      [
                        "One 47.78%",
                        "And 13.55%",
                        "The 3.40%",
                        "Two 2.24%",
                        "_One 1.69%",
                        "But 1.28%",
                        "\\n 1.19%",
                        "one 1.13%",
                        "We 0.79%",
                        "That 0.77%"
                      ],
                      [
                        "_Ring 98.99%",
                        "Ring 0.34%",
                        "_ring 0.24%",
                        "_to 0.05%",
                        "_R 0.01%",
                        "_and 0.01%",
                        "_Night 0.01%",
                        "_One 0.01%",
                        "_Red 0.01%",
                        "_He 0.01%"
                      ],
                      [
                        "_to 98.37%",
                        "_for 0.35%",
                        ", 0.24%",
                        "_and 0.08%",
                        "_in 0.07%",
                        "_that 0.07%",
                        "_of 0.04%",
                        "_from 0.04%",
                        "_with 0.03%",
                        "_on 0.02%"
                      ],
                      [
                        "_rule 9.69%",
                        "_find 8.02%",
                        "_make 4.52%",
                        "_keep 4.04%",
                        "_hold 2.82%",
                        "_break 2.65%",
                        "_bring 2.52%",
                        "_give 1.81%",
                        "_save 1.51%",
                        "_kill 1.51%"
                      ],
                      [
                        "_them 87.52%",
                        "_him 1.51%",
                        "_it 1.29%",
                        "_their 0.96%",
                        "_home 0.92%",
                        "_the 0.90%",
                        ", 0.79%",
                        "_all 0.40%",
                        "_her 0.38%",
                        "_in 0.38%"
                      ],
                      [
                        ", 31.11%",
                        "_to 8.77%",
                        "_all 6.29%",
                        "_toget… 5.80%",
                        "_back 5.77%",
                        "_up 5.51%",
                        "_in 3.85%",
                        "\\n 3.00%",
                        "_out 2.49%",
                        "_down 2.31%"
                      ],
                      [
                        ", 81.87%",
                        "\\n 4.61%",
                        ". 3.30%",
                        "_toget… 1.16%",
                        ".\" 0.91%",
                        "_to 0.78%",
                        "_in 0.55%",
                        ",\" 0.38%",
                        "; 0.33%",
                        "! 0.27%"
                      ]
                    ],
                    [
                      [
                        "One 31.62%",
                        "And 17.43%",
                        "\\n 3.85%",
                        "The 3.80%",
                        "Two 2.03%",
                        "But 1.40%",
                        "All 1.29%",
                        "To 1.26%",
                        "Or 1.08%",
                        "So 1.05%"
                      ],
                      [
                        "_Ring 99.36%",
                        "_ring 0.20%",
                        "Ring 0.14%",
                        "_to 0.03%",
                        "_R 0.01%",
                        "_and 0.01%",
                        "_Little 0.01%",
                        ", 0.01%",
                        "_Red 0.00%",
                        "_Star 0.00%"
                      ],
                      [
                        "_to 97.92%",
                        "_for 0.39%",
                        ", 0.29%",
                        "_and 0.11%",
                        "_that 0.10%",
                        "_of 0.09%",
                        "_in 0.08%",
                        "_with 0.04%",
                        "_from 0.03%",
                        "_is 0.03%"
                      ],
                      [
                        "_rule 30.78%",
                        "_find 7.64%",
                        "_make 3.58%",
                        "_keep 1.96%",
                        "_hold 1.79%",
                        "_break 1.71%",
                        "_bring 1.39%",
                        "_see 1.01%",
                        "_save 1.01%",
                        "_steal 0.96%"
                      ],
                      [
                        "_them 91.79%",
                        "_their 1.19%",
                        "_back 0.78%",
                        "_the 0.51%",
                        "_it 0.49%",
                        "_to 0.40%",
                        "_all 0.31%",
                        "_down 0.27%",
                        ", 0.26%",
                        "_home 0.24%"
                      ],
                      [
                        "_to 14.78%",
                        "_back 14.77%",
                        ", 9.30%",
                        "_toget… 6.68%",
                        "_away 6.35%",
                        "_out 6.34%",
                        "_down 6.27%",
                        "_into 5.76%",
                        "_all 4.00%",
                        "_up 3.61%"
                      ],
                      [
                        ", 80.99%",
                        ". 4.72%",
                        "_toget… 2.44%",
                        "\\n 1.71%",
                        "_to 1.55%",
                        "_away 1.04%",
                        "_into 0.89%",
                        "_back 0.67%",
                        "_in 0.62%",
                        "; 0.34%"
                      ]
                    ],
                    [
                      [
                        "One 23.03%",
                        "And 20.42%",
                        "\\n 6.02%",
                        "The 3.56%",
                        "Two 2.62%",
                        "To 1.76%",
                        "A 1.75%",
                        "All 1.68%",
                        "Or 1.39%",
                        "I 1.22%"
                      ],
                      [
                        "_Ring 92.65%",
                        "_ring 1.93%",
                        "_to 0.82%",
                        "_and 0.11%",
                        "_for 0.07%",
                        "_R 0.07%",
                        ", 0.05%",
                        "_Heart 0.04%",
                        "_in 0.04%",
                        "_Jew 0.04%"
                      ],
                      [
                        "_to 93.39%",
                        ", 1.31%",
                        "_for 1.10%",
                        "_that 0.46%",
                        "_of 0.21%",
                        "_and 0.21%",
                        "_is 0.18%",
                        "_in 0.17%",
                        "_will 0.12%",
                        "_with 0.12%"
                      ],
                      [
                        "_find 11.43%",
                        "_make 5.41%",
                        "_rule 3.83%",
                        "_keep 1.58%",
                        "_be 1.45%",
                        "_win 1.41%",
                        "_get 1.31%",
                        "_give 1.28%",
                        "_take 1.24%",
                        "_tell 1.15%"
                      ],
                      [
                        "_them 62.47%",
                        "_to 3.60%",
                        "_back 3.13%",
                        "_the 2.43%",
                        ", 1.73%",
                        "_their 1.72%",
                        "_home 1.50%",
                        "_all 1.50%",
                        "_in 1.37%",
                        "_it 1.13%"
                      ],
                      [
                        "_all 23.99%",
                        "_to 16.01%",
                        ", 12.66%",
                        "_back 10.70%",
                        "_home 5.47%",
                        "_toget… 5.15%",
                        "_in 2.28%",
                        "_out 2.28%",
                        "_down 2.07%",
                        "_into 1.93%"
                      ],
                      [
                        ", 47.05%",
                        ". 9.04%",
                        "_back 7.78%",
                        "_toget… 7.62%",
                        "_to 6.09%",
                        "\\n 4.53%",
                        "_away 1.34%",
                        "! 1.17%",
                        "_in 1.14%",
                        "_home 1.08%"
                      ]
                    ]
                  ],
                  "hoverlabel": {
                    "bgcolor": "rgb(42, 42, 50)"
                  },
                  "hovertemplate": " %{customdata[0]}<br> %{customdata[1]}<br> %{customdata[2]}<br> %{customdata[3]}<br> %{customdata[4]}<br> %{customdata[5]}<br> %{customdata[6]}<br> %{customdata[7]}<br> %{customdata[8]}<br> %{customdata[9]}<extra></extra>",
                  "text": [
                    [
                      "\\n",
                      "_of",
                      ",",
                      "_the",
                      "_the",
                      ".",
                      "_the"
                    ],
                    [
                      "\\n",
                      "_of",
                      "_is",
                      "_the",
                      "_the",
                      ",",
                      "_of"
                    ],
                    [
                      "\\n",
                      ",",
                      "_is",
                      "_be",
                      "_the",
                      ".",
                      "."
                    ],
                    [
                      "\\n",
                      "_of",
                      ",",
                      "_be",
                      "_your",
                      "_to",
                      "."
                    ],
                    [
                      "\\n",
                      ",",
                      ",",
                      "\\n",
                      "_your",
                      "_to",
                      "_to"
                    ],
                    [
                      "\\n",
                      "_I",
                      ",",
                      "_the",
                      "_your",
                      ",",
                      ","
                    ],
                    [
                      "\\n",
                      ",",
                      "_to",
                      "_find",
                      "_them",
                      ",",
                      ","
                    ],
                    [
                      "And",
                      "_Ring",
                      "_to",
                      "_change",
                      "_them",
                      ",",
                      ","
                    ],
                    [
                      "And",
                      "_Ring",
                      "_to",
                      "_find",
                      "_them",
                      "_to",
                      ","
                    ],
                    [
                      "And",
                      "_Ring",
                      "_to",
                      "_find",
                      "_them",
                      ",",
                      ","
                    ],
                    [
                      "One",
                      "_Ring",
                      "_to",
                      "_rule",
                      "_them",
                      ",",
                      ","
                    ],
                    [
                      "One",
                      "_Ring",
                      "_to",
                      "_rule",
                      "_them",
                      "_to",
                      ","
                    ],
                    [
                      "One",
                      "_Ring",
                      "_to",
                      "_find",
                      "_them",
                      "_all",
                      ","
                    ]
                  ],
                  "textfont": {
                    "size": 10
                  },
                  "texttemplate": "<b>%{text}</b>",
                  "type": "heatmap",
                  "x": [
                    "\\n",
                    "One‌",
                    "_Ring‌‌",
                    "_to‌‌‌",
                    "_bring‌‌‌‌",
                    "_them‌‌‌‌‌",
                    "_all‌‌‌‌‌‌"
                  ],
                  "xaxis": "x2",
                  "y": [
                    "input",
                    "1",
                    "2",
                    "3",
                    "4",
                    "5",
                    "6",
                    "7",
                    "8",
                    "9",
                    "10",
                    "11",
                    "output"
                  ],
                  "yaxis": "y2",
                  "z": [
                    [
                      2.803257703781128,
                      11.16936206817627,
                      5.643896579742432,
                      1.6638835668563843,
                      2.2026712894439697,
                      2.4828639030456543,
                      2.5623855590820312
                    ],
                    [
                      4.413240909576416,
                      9.67487907409668,
                      5.217781066894531,
                      1.831761360168457,
                      1.9011929035186768,
                      1.5782936811447144,
                      2.5758652687072754
                    ],
                    [
                      3.1263208389282227,
                      8.966696739196777,
                      5.127902507781982,
                      1.319838523864746,
                      1.9423422813415527,
                      1.6337285041809082,
                      1.8058876991271973
                    ],
                    [
                      3.828664541244507,
                      8.504583358764648,
                      4.531774044036865,
                      1.490175724029541,
                      1.6913015842437744,
                      1.4023091793060303,
                      1.6185532808303833
                    ],
                    [
                      3.1226871013641357,
                      9.941295623779297,
                      4.598470687866211,
                      1.9522582292556763,
                      1.4279305934906006,
                      1.4870587587356567,
                      1.3321244716644287
                    ],
                    [
                      2.441551923751831,
                      8.759300231933594,
                      2.29644775390625,
                      1.2246698141098022,
                      1.2630057334899902,
                      1.3802071809768677,
                      0.768149197101593
                    ],
                    [
                      2.0770761966705322,
                      7.871362686157227,
                      0.32469379901885986,
                      0.8204640746116638,
                      0.7203901410102844,
                      1.1720099449157715,
                      1.0005507469177246
                    ],
                    [
                      1.0894901752471924,
                      2.440227746963501,
                      0.07811339944601059,
                      0.759204626083374,
                      0.37361228466033936,
                      0.6743180751800537,
                      0.8773336410522461
                    ],
                    [
                      0.7211143374443054,
                      1.8835331201553345,
                      0.05708404630422592,
                      0.708255410194397,
                      0.3169596791267395,
                      0.7218996286392212,
                      0.7026393413543701
                    ],
                    [
                      0.3376530110836029,
                      0.21437737345695496,
                      0.13489331305027008,
                      0.40492525696754456,
                      0.44976094365119934,
                      0.505790650844574,
                      0.5506332516670227
                    ],
                    [
                      0.3575512170791626,
                      0.13120900094509125,
                      0.05338115245103836,
                      0.2897835075855255,
                      0.3614538609981537,
                      0.3825528919696808,
                      0.6809941530227661
                    ],
                    [
                      0.0874745324254036,
                      0.1496732532978058,
                      0.039538633078336716,
                      0.4100961685180664,
                      0.3923421800136566,
                      0.395331472158432,
                      0.4258876144886017
                    ],
                    [
                      0,
                      0,
                      0,
                      0,
                      0,
                      0,
                      0
                    ]
                  ]
                },
                {
                  "colorbar": {
                    "len": 0.3,
                    "title": {
                      "side": "right",
                      "text": "Cross Entropy (nats)"
                    },
                    "y": 0.15
                  },
                  "colorscale": [
                    [
                      0,
                      "rgb(5,48,97)"
                    ],
                    [
                      0.1,
                      "rgb(33,102,172)"
                    ],
                    [
                      0.2,
                      "rgb(67,147,195)"
                    ],
                    [
                      0.3,
                      "rgb(146,197,222)"
                    ],
                    [
                      0.4,
                      "rgb(209,229,240)"
                    ],
                    [
                      0.5,
                      "rgb(247,247,247)"
                    ],
                    [
                      0.6,
                      "rgb(253,219,199)"
                    ],
                    [
                      0.7,
                      "rgb(244,165,130)"
                    ],
                    [
                      0.8,
                      "rgb(214,96,77)"
                    ],
                    [
                      0.9,
                      "rgb(178,24,43)"
                    ],
                    [
                      1,
                      "rgb(103,0,31)"
                    ]
                  ],
                  "customdata": [
                    [
                      [
                        "\\n 28.53%",
                        "     3.49%",
                        "   2.47%",
                        "The 2.41%",
                        "      … 2.05%",
                        "ĉ 1.56%",
                        "\" 1.26%",
                        "< 1.07%",
                        "I 0.96%",
                        "      … 0.94%"
                      ],
                      [
                        "_of 20.74%",
                        ", 4.49%",
                        "- 2.42%",
                        "_is 2.37%",
                        ". 1.81%",
                        ": 0.88%",
                        "_in 0.79%",
                        "_if 0.74%",
                        "_ 0.62%",
                        "_and 0.59%"
                      ],
                      [
                        ", 8.99%",
                        ". 6.99%",
                        "_of 6.41%",
                        "_( 1.74%",
                        "_and 1.72%",
                        "- 1.62%",
                        "\\n 1.55%",
                        "_in 1.12%",
                        "_from 1.05%",
                        "_for 0.95%"
                      ],
                      [
                        "_the 11.82%",
                        "_be 4.88%",
                        "_a 2.51%",
                        "_get 1.26%",
                        "_make 1.23%",
                        "_do 1.09%",
                        "_take 1.00%",
                        "_have 0.93%",
                        "_find 0.64%",
                        "_an 0.64%"
                      ],
                      [
                        "_the 12.86%",
                        "_up 6.93%",
                        "_a 6.56%",
                        "_to 3.93%",
                        "_him 2.91%",
                        "_it 2.87%",
                        "_me 2.81%",
                        "_out 2.58%",
                        "_his 2.54%",
                        "_my 2.03%"
                      ],
                      [
                        ". 12.73%",
                        "_to 8.74%",
                        ", 7.80%",
                        "_in 4.94%",
                        "_and 2.24%",
                        ".\" 1.92%",
                        "_with 1.65%",
                        "_were 1.48%",
                        "_into 1.35%",
                        "_are 1.26%"
                      ],
                      [
                        "_the 11.10%",
                        "_of 5.52%",
                        ", 3.39%",
                        ". 2.31%",
                        "_other 1.79%",
                        "_a 1.68%",
                        "_that 1.40%",
                        "- 1.35%",
                        "\\n 1.23%",
                        "_people 1.20%"
                      ]
                    ],
                    [
                      [
                        "\\n 29.28%",
                        "Catego… 1.90%",
                        "the 1.74%",
                        "   1.38%",
                        "in 1.31%",
                        "and 1.29%",
                        "< 1.26%",
                        "     1.21%",
                        "- 0.75%",
                        "... 0.66%"
                      ],
                      [
                        "_of 15.01%",
                        "_is 4.41%",
                        ", 3.79%",
                        "_can 3.56%",
                        ". 2.72%",
                        "- 2.14%",
                        "'s 2.01%",
                        "_has 1.66%",
                        "_anoth… 1.34%",
                        "\\n 1.19%"
                      ],
                      [
                        "_is 3.76%",
                        ", 3.68%",
                        "_of 2.80%",
                        "ling 2.80%",
                        ". 2.21%",
                        "\\n 1.95%",
                        "_and 1.37%",
                        "_in 1.28%",
                        "'s 0.99%",
                        "- 0.99%"
                      ],
                      [
                        "_the 8.75%",
                        "\\n 3.35%",
                        "_be 2.45%",
                        "_a 2.14%",
                        "_get 1.30%",
                        "_have 0.91%",
                        "_do 0.86%",
                        "_make 0.83%",
                        "_me 0.58%",
                        "_this 0.47%"
                      ],
                      [
                        "_the 11.90%",
                        "_a 11.12%",
                        "_me 4.30%",
                        "_up 4.23%",
                        "_it 4.03%",
                        "_about 3.56%",
                        "_them 3.11%",
                        "_your 2.88%",
                        "_her 2.88%",
                        "_to 2.82%"
                      ],
                      [
                        ", 10.76%",
                        ". 10.58%",
                        "_to 6.97%",
                        "_in 4.11%",
                        "\\n 3.10%",
                        "_with 2.63%",
                        "_as 2.17%",
                        "_a 2.04%",
                        "_all 2.03%",
                        "_and 2.00%"
                      ],
                      [
                        "_of 5.61%",
                        "_the 5.23%",
                        "_right 3.02%",
                        "_things 2.39%",
                        ". 2.38%",
                        "?\" 2.20%",
                        ", 2.10%",
                        ".\" 2.04%",
                        "\\n 1.91%",
                        "_about 1.56%"
                      ]
                    ],
                    [
                      [
                        "\\n 15.85%",
                        "   1.91%",
                        "the 1.54%",
                        "and 1.47%",
                        "in 1.25%",
                        "a 1.23%",
                        "to 1.23%",
                        "( 1.21%",
                        "is 1.00%",
                        "     0.92%"
                      ],
                      [
                        ", 10.74%",
                        "_of 6.45%",
                        "\\n 4.06%",
                        ". 3.94%",
                        "_is 2.80%",
                        "- 2.61%",
                        "_can 1.47%",
                        "_I 1.44%",
                        "_or 1.38%",
                        "'s 0.80%"
                      ],
                      [
                        "_is 5.88%",
                        ", 5.78%",
                        "\\n 1.99%",
                        "_and 1.57%",
                        ". 1.53%",
                        "- 0.98%",
                        "'s 0.92%",
                        "_in 0.88%",
                        "_of 0.83%",
                        "o 0.77%"
                      ],
                      [
                        "_be 6.19%",
                        "_the 3.81%",
                        "_get 3.60%",
                        "\\n 1.59%",
                        "_make 1.51%",
                        "_have 1.19%",
                        "_a 1.03%",
                        "_do 0.83%",
                        "_create 0.83%",
                        "_find 0.82%"
                      ],
                      [
                        "_the 8.62%",
                        "_a 6.46%",
                        "_to 5.02%",
                        "_up 4.06%",
                        "_your 4.06%",
                        "_it 3.50%",
                        "_me 3.19%",
                        "_about 2.95%",
                        "_you 2.90%",
                        "_them 2.75%"
                      ],
                      [
                        ". 6.22%",
                        "_to 6.02%",
                        ", 5.35%",
                        "\\n 4.89%",
                        "_in 3.10%",
                        "_with 2.39%",
                        "_out 2.22%",
                        "_as 2.02%",
                        "_from 1.85%",
                        "_a 1.79%"
                      ],
                      [
                        ". 9.23%",
                        "\\n 6.91%",
                        ", 5.10%",
                        "_the 3.93%",
                        "_that 3.59%",
                        "_to 2.83%",
                        "_right 2.71%",
                        "_of 2.51%",
                        ".\" 2.23%",
                        "_in 2.12%"
                      ]
                    ],
                    [
                      [
                        "\\n 21.08%",
                        "and 1.99%",
                        "\" 1.27%",
                        "   1.14%",
                        "but 1.13%",
                        "( 1.07%",
                        "_ 0.84%",
                        "for 0.81%",
                        "     0.79%",
                        "I 0.78%"
                      ],
                      [
                        "_of 5.41%",
                        "\\n 5.36%",
                        ". 4.27%",
                        "- 3.62%",
                        ", 3.32%",
                        "_day 2.84%",
                        "_hour 1.44%",
                        "y 1.26%",
                        "_thing 1.11%",
                        "_or 0.76%"
                      ],
                      [
                        ", 11.76%",
                        "_is 5.71%",
                        "\\n 2.67%",
                        ". 2.61%",
                        "\" 1.89%",
                        "_and 1.53%",
                        "_in 1.36%",
                        "_of 1.25%",
                        "?\" 1.02%",
                        "- 1.00%"
                      ],
                      [
                        "_be 9.63%",
                        "_the 5.22%",
                        "_get 2.54%",
                        "\\n 1.59%",
                        "_a 1.52%",
                        "_do 1.47%",
                        "_make 1.16%",
                        "_have 0.91%",
                        "_find 0.89%",
                        "_create 0.84%"
                      ],
                      [
                        "_your 8.01%",
                        "_up 7.62%",
                        "_a 7.43%",
                        "_the 6.51%",
                        "_it 5.60%",
                        "_them 4.18%",
                        "_you 3.52%",
                        "_back 3.32%",
                        "_me 3.26%",
                        "_out 2.77%"
                      ],
                      [
                        "_to 13.46%",
                        "\\n 6.63%",
                        ". 5.31%",
                        "_into 4.62%",
                        ", 4.54%",
                        "_out 3.00%",
                        "_in 2.86%",
                        "_up 2.48%",
                        "_down 2.21%",
                        "_from 2.13%"
                      ],
                      [
                        ". 14.50%",
                        "_to 7.78%",
                        "\\n 5.71%",
                        "_into 4.99%",
                        ", 4.73%",
                        "_the 4.68%",
                        ".\" 4.25%",
                        "_right 3.40%",
                        "_of 3.06%",
                        "_for 2.23%"
                      ]
                    ],
                    [
                      [
                        "\\n 13.79%",
                        "and 5.78%",
                        "I 2.76%",
                        "And 1.57%",
                        "\" 1.37%",
                        "   1.20%",
                        "with 1.04%",
                        "( 0.86%",
                        "in 0.71%",
                        "But 0.71%"
                      ],
                      [
                        ", 6.71%",
                        ". 5.40%",
                        "_of 5.11%",
                        "- 2.98%",
                        "\\n 2.75%",
                        "_day 1.14%",
                        "_thing 1.00%",
                        "_or 0.99%",
                        "_I 0.91%",
                        "_and 0.77%"
                      ],
                      [
                        ", 13.31%",
                        "_is 4.46%",
                        "\" 2.88%",
                        ". 2.51%",
                        "_and 1.79%",
                        "- 1.70%",
                        "_of 1.60%",
                        "\\n 1.58%",
                        "_for 1.30%",
                        ".\" 1.17%"
                      ],
                      [
                        "\\n 7.48%",
                        "_the 5.56%",
                        "_be 2.32%",
                        "_do 2.03%",
                        "_date 1.96%",
                        "_a 1.02%",
                        ", 0.96%",
                        "_me 0.93%",
                        "_go 0.77%",
                        "_get 0.68%"
                      ],
                      [
                        "_your 13.62%",
                        "_the 8.01%",
                        "_you 7.75%",
                        "_up 7.05%",
                        "_them 6.72%",
                        "_a 5.45%",
                        "_it 4.40%",
                        "_back 4.14%",
                        "_her 2.71%",
                        "_out 2.29%"
                      ],
                      [
                        "_to 24.59%",
                        "_into 11.67%",
                        "_up 5.14%",
                        "_out 4.88%",
                        "_in 3.43%",
                        ", 3.19%",
                        "_from 3.08%",
                        ". 2.44%",
                        "_toget… 2.18%",
                        "\\n 2.04%"
                      ],
                      [
                        "_to 15.23%",
                        ", 6.07%",
                        ". 5.77%",
                        "_the 5.48%",
                        "_of 4.45%",
                        "_from 4.40%",
                        "_toget… 3.92%",
                        "_in 3.81%",
                        "_over 3.56%",
                        "\\n 2.82%"
                      ]
                    ],
                    [
                      [
                        "\\n 11.18%",
                        "I 2.95%",
                        "And 2.00%",
                        "\" 1.69%",
                        "and 1.65%",
                        "Be 1.36%",
                        "You 1.32%",
                        "But 1.24%",
                        "Who 1.06%",
                        "The 0.89%"
                      ],
                      [
                        "_I 2.35%",
                        "\\n 1.81%",
                        "_thing 1.41%",
                        "_day 1.35%",
                        "_of 1.34%",
                        "_night 1.04%",
                        "_S 0.76%",
                        "_person 0.76%",
                        "_B 0.75%",
                        "_my 0.65%"
                      ],
                      [
                        ", 8.24%",
                        "_is 8.06%",
                        "_to 6.97%",
                        "_for 3.97%",
                        "_in 3.96%",
                        "_of 3.70%",
                        ". 2.68%",
                        "_and 2.61%",
                        "\\n 2.27%",
                        "_by 1.68%"
                      ],
                      [
                        "_the 3.48%",
                        "_be 2.52%",
                        "_do 2.09%",
                        "_a 1.34%",
                        "_get 1.15%",
                        "_read 0.98%",
                        "_make 0.82%",
                        "_remove 0.82%",
                        "_your 0.81%",
                        "_take 0.78%"
                      ],
                      [
                        "_your 22.58%",
                        "_them 10.22%",
                        "_you 10.11%",
                        "_the 5.75%",
                        "_it 5.23%",
                        "_her 4.00%",
                        "_up 3.99%",
                        "_me 3.70%",
                        "_a 3.00%",
                        "_him 1.91%"
                      ],
                      [
                        ", 18.92%",
                        "_to 13.59%",
                        ". 7.47%",
                        "\\n 5.16%",
                        "?\" 4.10%",
                        ".\" 3.63%",
                        "_into 3.39%",
                        "_in 3.18%",
                        "? 3.08%",
                        "_and 2.12%"
                      ],
                      [
                        ", 40.04%",
                        ". 10.22%",
                        "_to 6.38%",
                        "_of 5.39%",
                        ".\" 3.55%",
                        "_in 3.15%",
                        "_into 2.23%",
                        "_the 2.15%",
                        "?\" 1.66%",
                        "_and 1.38%"
                      ]
                    ],
                    [
                      [
                        "\\n 14.01%",
                        "I 2.59%",
                        "And 2.59%",
                        "\" 2.37%",
                        "The 2.21%",
                        "and 1.23%",
                        "But 1.22%",
                        "You 1.17%",
                        "He 0.87%",
                        "Who 0.83%"
                      ],
                      [
                        ", 2.59%",
                        "\\n 2.49%",
                        "_thing 1.75%",
                        "_of 1.41%",
                        "_I 1.39%",
                        ". 1.21%",
                        "_B 0.98%",
                        "_day 0.90%",
                        "_night 0.85%",
                        "_Me 0.74%"
                      ],
                      [
                        "_to 60.42%",
                        "_for 6.32%",
                        ", 3.78%",
                        "_in 2.97%",
                        "_is 2.23%",
                        ". 2.02%",
                        "_of 1.89%",
                        "_by 1.47%",
                        "_and 1.22%",
                        "_on 0.89%"
                      ],
                      [
                        "_find 6.41%",
                        "_go 2.35%",
                        "_do 2.15%",
                        "_give 1.99%",
                        "_make 1.96%",
                        "_change 1.94%",
                        "_fight 1.71%",
                        "_get 1.49%",
                        "_regis… 1.46%",
                        "_keep 1.46%"
                      ],
                      [
                        "_them 33.23%",
                        "_him 16.57%",
                        "_your 10.93%",
                        "_you 8.19%",
                        "_it 6.30%",
                        "_her 2.74%",
                        "_the 1.64%",
                        "_back 1.62%",
                        "_me 1.17%",
                        "_up 1.03%"
                      ],
                      [
                        ", 33.33%",
                        "_to 7.77%",
                        ". 7.59%",
                        "\\n 7.25%",
                        "_in 3.33%",
                        "_all 2.55%",
                        "_out 2.11%",
                        "_up 2.07%",
                        ".\" 1.77%",
                        "_and 1.56%"
                      ],
                      [
                        ", 67.97%",
                        ". 14.87%",
                        ".\" 3.10%",
                        "_and 0.87%",
                        ",\" 0.84%",
                        "_in 0.82%",
                        "_toget… 0.70%",
                        "\\n 0.64%",
                        "_to 0.62%",
                        "! 0.58%"
                      ]
                    ],
                    [
                      [
                        "And 19.02%",
                        "\\n 4.50%",
                        "The 3.47%",
                        "I 3.07%",
                        "But 2.67%",
                        "With 1.36%",
                        "[ 1.31%",
                        "and 1.31%",
                        "You 1.18%",
                        "When 1.09%"
                      ],
                      [
                        "_Ring 6.45%",
                        "_Red 1.64%",
                        "\\n 1.38%",
                        "_Word 1.31%",
                        "_R 1.31%",
                        "_Night 1.28%",
                        ", 0.65%",
                        "Ring 0.61%",
                        "_Shot 0.59%",
                        "_of 0.56%"
                      ],
                      [
                        "_to 84.16%",
                        ", 3.01%",
                        "_for 1.47%",
                        "-- 1.31%",
                        ". 1.01%",
                        "_in 0.97%",
                        "_and 0.68%",
                        "_by 0.44%",
                        "âĢĶ 0.35%",
                        "_is 0.27%"
                      ],
                      [
                        "_change 7.04%",
                        "_fight 3.36%",
                        "_make 2.66%",
                        "_find 2.47%",
                        "_rule 2.00%",
                        "_give 1.78%",
                        "_keep 1.70%",
                        "_kill 1.52%",
                        "_break 1.39%",
                        "_look 1.28%"
                      ],
                      [
                        "_them 48.69%",
                        "_you 8.01%",
                        "_him 5.09%",
                        "_it 4.95%",
                        "_your 2.95%",
                        "_back 2.07%",
                        "_up 1.45%",
                        "_her 1.35%",
                        "_me 1.21%",
                        "_all 1.15%"
                      ],
                      [
                        ", 17.13%",
                        "_all 10.81%",
                        "\\n 9.41%",
                        "_to 9.04%",
                        ". 7.60%",
                        "_up 3.24%",
                        "_in 2.73%",
                        "_toget… 2.50%",
                        "_out 2.29%",
                        "_into 1.82%"
                      ],
                      [
                        ", 71.53%",
                        ". 11.97%",
                        ".\" 2.77%",
                        "_toget… 1.71%",
                        "\\n 1.12%",
                        "; 0.70%",
                        "_in 0.63%",
                        "_again 0.61%",
                        ",\" 0.45%",
                        "_but 0.38%"
                      ]
                    ],
                    [
                      [
                        "And 32.00%",
                        "But 8.31%",
                        "The 4.13%",
                        "One 3.05%",
                        "I 1.45%",
                        "and 1.31%",
                        "You 1.31%",
                        "Who 1.20%",
                        "That 1.14%",
                        "_And 1.12%"
                      ],
                      [
                        "_Ring 12.56%",
                        "_Wing 3.84%",
                        "_Night 2.68%",
                        "_Me 1.80%",
                        "_Light 1.75%",
                        "_Word 1.54%",
                        "_Eye 1.04%",
                        "_R 0.99%",
                        "_Promi… 0.99%",
                        "_Voice 0.87%"
                      ],
                      [
                        "_to 97.96%",
                        "_for 0.28%",
                        ", 0.23%",
                        "to 0.18%",
                        "_in 0.09%",
                        "_and 0.08%",
                        "_of 0.07%",
                        ". 0.06%",
                        "_that 0.04%",
                        "_by 0.03%"
                      ],
                      [
                        "_find 8.37%",
                        "_make 6.30%",
                        "_kill 6.07%",
                        "_keep 3.37%",
                        "_fight 3.17%",
                        "_bring 2.48%",
                        "_save 2.33%",
                        "_rule 2.27%",
                        "_give 2.01%",
                        "_learn 1.45%"
                      ],
                      [
                        "_them 54.16%",
                        "_him 6.66%",
                        "_it 5.78%",
                        "_you 3.82%",
                        "_toget… 2.41%",
                        "_her 2.02%",
                        ", 2.01%",
                        "_in 1.69%",
                        "_the 1.42%",
                        "_to 1.33%"
                      ],
                      [
                        "_to 21.05%",
                        ", 18.69%",
                        "_all 6.19%",
                        ". 5.90%",
                        "_in 3.90%",
                        "_up 2.54%",
                        "_toget… 2.23%",
                        "\\n 2.16%",
                        "_into 2.10%",
                        "_from 2.02%"
                      ],
                      [
                        ", 66.20%",
                        ". 14.79%",
                        ".\" 2.31%",
                        "\\n 1.60%",
                        "_to 1.04%",
                        "_toget… 0.97%",
                        "_and 0.69%",
                        "_again 0.62%",
                        "_in 0.57%",
                        "_into 0.50%"
                      ]
                    ],
                    [
                      [
                        "And 17.75%",
                        "One 13.20%",
                        "The 5.31%",
                        "But 4.60%",
                        "I 1.65%",
                        "\\n 1.36%",
                        "Two 1.35%",
                        "You 1.22%",
                        "So 1.17%",
                        "We 1.08%"
                      ],
                      [
                        "_Ring 97.90%",
                        "Ring 1.72%",
                        "_ring 0.19%",
                        "_Rings 0.02%",
                        "_R 0.01%",
                        "_Night 0.00%",
                        "_to 0.00%",
                        "ring 0.00%",
                        "_Red 0.00%",
                        "\\n 0.00%"
                      ],
                      [
                        "_to 99.49%",
                        "_for 0.07%",
                        "to 0.06%",
                        ", 0.06%",
                        "_in 0.02%",
                        "_of 0.02%",
                        "_and 0.02%",
                        "_that 0.01%",
                        "\\n 0.01%",
                        ". 0.01%"
                      ],
                      [
                        "_find 9.60%",
                        "_make 6.08%",
                        "_rule 3.98%",
                        "_kill 3.02%",
                        "_keep 2.37%",
                        "_break 2.03%",
                        "_give 1.94%",
                        "_bring 1.88%",
                        "_fight 1.68%",
                        "_play 1.60%"
                      ],
                      [
                        "_them 87.21%",
                        "_it 2.77%",
                        "_him 1.33%",
                        ", 0.70%",
                        "_the 0.52%",
                        "_you 0.48%",
                        "_home 0.47%",
                        "_her 0.46%",
                        "\\n 0.42%",
                        "_their 0.40%"
                      ],
                      [
                        ", 29.18%",
                        "_to 11.15%",
                        "_all 8.25%",
                        "\\n 6.37%",
                        "_toget… 3.84%",
                        "_in 2.62%",
                        ". 2.46%",
                        "_up 2.21%",
                        "_back 2.17%",
                        "_away 2.15%"
                      ],
                      [
                        ", 75.07%",
                        ". 4.98%",
                        "\\n 3.73%",
                        "_to 1.39%",
                        "_toget… 1.37%",
                        ".\" 0.97%",
                        "_in 0.71%",
                        "_away 0.65%",
                        "_into 0.56%",
                        "; 0.51%"
                      ]
                    ],
                    [
                      [
                        "One 47.78%",
                        "And 13.55%",
                        "The 3.40%",
                        "Two 2.24%",
                        "_One 1.69%",
                        "But 1.28%",
                        "\\n 1.19%",
                        "one 1.13%",
                        "We 0.79%",
                        "That 0.77%"
                      ],
                      [
                        "_Ring 98.99%",
                        "Ring 0.34%",
                        "_ring 0.24%",
                        "_to 0.05%",
                        "_R 0.01%",
                        "_and 0.01%",
                        "_Night 0.01%",
                        "_One 0.01%",
                        "_Red 0.01%",
                        "_He 0.01%"
                      ],
                      [
                        "_to 98.37%",
                        "_for 0.35%",
                        ", 0.24%",
                        "_and 0.08%",
                        "_in 0.07%",
                        "_that 0.07%",
                        "_of 0.04%",
                        "_from 0.04%",
                        "_with 0.03%",
                        "_on 0.02%"
                      ],
                      [
                        "_rule 9.69%",
                        "_find 8.02%",
                        "_make 4.52%",
                        "_keep 4.04%",
                        "_hold 2.82%",
                        "_break 2.65%",
                        "_bring 2.52%",
                        "_give 1.81%",
                        "_save 1.51%",
                        "_kill 1.51%"
                      ],
                      [
                        "_them 87.52%",
                        "_him 1.51%",
                        "_it 1.29%",
                        "_their 0.96%",
                        "_home 0.92%",
                        "_the 0.90%",
                        ", 0.79%",
                        "_all 0.40%",
                        "_her 0.38%",
                        "_in 0.38%"
                      ],
                      [
                        ", 31.11%",
                        "_to 8.77%",
                        "_all 6.29%",
                        "_toget… 5.80%",
                        "_back 5.77%",
                        "_up 5.51%",
                        "_in 3.85%",
                        "\\n 3.00%",
                        "_out 2.49%",
                        "_down 2.31%"
                      ],
                      [
                        ", 81.87%",
                        "\\n 4.61%",
                        ". 3.30%",
                        "_toget… 1.16%",
                        ".\" 0.91%",
                        "_to 0.78%",
                        "_in 0.55%",
                        ",\" 0.38%",
                        "; 0.33%",
                        "! 0.27%"
                      ]
                    ],
                    [
                      [
                        "One 31.62%",
                        "And 17.43%",
                        "\\n 3.85%",
                        "The 3.80%",
                        "Two 2.03%",
                        "But 1.40%",
                        "All 1.29%",
                        "To 1.26%",
                        "Or 1.08%",
                        "So 1.05%"
                      ],
                      [
                        "_Ring 99.36%",
                        "_ring 0.20%",
                        "Ring 0.14%",
                        "_to 0.03%",
                        "_R 0.01%",
                        "_and 0.01%",
                        "_Little 0.01%",
                        ", 0.01%",
                        "_Red 0.00%",
                        "_Star 0.00%"
                      ],
                      [
                        "_to 97.92%",
                        "_for 0.39%",
                        ", 0.29%",
                        "_and 0.11%",
                        "_that 0.10%",
                        "_of 0.09%",
                        "_in 0.08%",
                        "_with 0.04%",
                        "_from 0.03%",
                        "_is 0.03%"
                      ],
                      [
                        "_rule 30.78%",
                        "_find 7.64%",
                        "_make 3.58%",
                        "_keep 1.96%",
                        "_hold 1.79%",
                        "_break 1.71%",
                        "_bring 1.39%",
                        "_see 1.01%",
                        "_save 1.01%",
                        "_steal 0.96%"
                      ],
                      [
                        "_them 91.79%",
                        "_their 1.19%",
                        "_back 0.78%",
                        "_the 0.51%",
                        "_it 0.49%",
                        "_to 0.40%",
                        "_all 0.31%",
                        "_down 0.27%",
                        ", 0.26%",
                        "_home 0.24%"
                      ],
                      [
                        "_to 14.78%",
                        "_back 14.77%",
                        ", 9.30%",
                        "_toget… 6.68%",
                        "_away 6.35%",
                        "_out 6.34%",
                        "_down 6.27%",
                        "_into 5.76%",
                        "_all 4.00%",
                        "_up 3.61%"
                      ],
                      [
                        ", 80.99%",
                        ". 4.72%",
                        "_toget… 2.44%",
                        "\\n 1.71%",
                        "_to 1.55%",
                        "_away 1.04%",
                        "_into 0.89%",
                        "_back 0.67%",
                        "_in 0.62%",
                        "; 0.34%"
                      ]
                    ],
                    [
                      [
                        "One 23.03%",
                        "And 20.42%",
                        "\\n 6.02%",
                        "The 3.56%",
                        "Two 2.62%",
                        "To 1.76%",
                        "A 1.75%",
                        "All 1.68%",
                        "Or 1.39%",
                        "I 1.22%"
                      ],
                      [
                        "_Ring 92.65%",
                        "_ring 1.93%",
                        "_to 0.82%",
                        "_and 0.11%",
                        "_for 0.07%",
                        "_R 0.07%",
                        ", 0.05%",
                        "_Heart 0.04%",
                        "_in 0.04%",
                        "_Jew 0.04%"
                      ],
                      [
                        "_to 93.39%",
                        ", 1.31%",
                        "_for 1.10%",
                        "_that 0.46%",
                        "_of 0.21%",
                        "_and 0.21%",
                        "_is 0.18%",
                        "_in 0.17%",
                        "_will 0.12%",
                        "_with 0.12%"
                      ],
                      [
                        "_find 11.43%",
                        "_make 5.41%",
                        "_rule 3.83%",
                        "_keep 1.58%",
                        "_be 1.45%",
                        "_win 1.41%",
                        "_get 1.31%",
                        "_give 1.28%",
                        "_take 1.24%",
                        "_tell 1.15%"
                      ],
                      [
                        "_them 62.47%",
                        "_to 3.60%",
                        "_back 3.13%",
                        "_the 2.43%",
                        ", 1.73%",
                        "_their 1.72%",
                        "_home 1.50%",
                        "_all 1.50%",
                        "_in 1.37%",
                        "_it 1.13%"
                      ],
                      [
                        "_all 23.99%",
                        "_to 16.01%",
                        ", 12.66%",
                        "_back 10.70%",
                        "_home 5.47%",
                        "_toget… 5.15%",
                        "_in 2.28%",
                        "_out 2.28%",
                        "_down 2.07%",
                        "_into 1.93%"
                      ],
                      [
                        ", 47.05%",
                        ". 9.04%",
                        "_back 7.78%",
                        "_toget… 7.62%",
                        "_to 6.09%",
                        "\\n 4.53%",
                        "_away 1.34%",
                        "! 1.17%",
                        "_in 1.14%",
                        "_home 1.08%"
                      ]
                    ]
                  ],
                  "hoverlabel": {
                    "bgcolor": "rgb(42, 42, 50)"
                  },
                  "hovertemplate": " %{customdata[0]}<br> %{customdata[1]}<br> %{customdata[2]}<br> %{customdata[3]}<br> %{customdata[4]}<br> %{customdata[5]}<br> %{customdata[6]}<br> %{customdata[7]}<br> %{customdata[8]}<br> %{customdata[9]}<extra></extra>",
                  "text": [
                    [
                      "\\n",
                      "_of",
                      ",",
                      "_the",
                      "_the",
                      ".",
                      "_the"
                    ],
                    [
                      "\\n",
                      "_of",
                      "_is",
                      "_the",
                      "_the",
                      ",",
                      "_of"
                    ],
                    [
                      "\\n",
                      ",",
                      "_is",
                      "_be",
                      "_the",
                      ".",
                      "."
                    ],
                    [
                      "\\n",
                      "_of",
                      ",",
                      "_be",
                      "_your",
                      "_to",
                      "."
                    ],
                    [
                      "\\n",
                      ",",
                      ",",
                      "\\n",
                      "_your",
                      "_to",
                      "_to"
                    ],
                    [
                      "\\n",
                      "_I",
                      ",",
                      "_the",
                      "_your",
                      ",",
                      ","
                    ],
                    [
                      "\\n",
                      ",",
                      "_to",
                      "_find",
                      "_them",
                      ",",
                      ","
                    ],
                    [
                      "And",
                      "_Ring",
                      "_to",
                      "_change",
                      "_them",
                      ",",
                      ","
                    ],
                    [
                      "And",
                      "_Ring",
                      "_to",
                      "_find",
                      "_them",
                      "_to",
                      ","
                    ],
                    [
                      "And",
                      "_Ring",
                      "_to",
                      "_find",
                      "_them",
                      ",",
                      ","
                    ],
                    [
                      "One",
                      "_Ring",
                      "_to",
                      "_rule",
                      "_them",
                      ",",
                      ","
                    ],
                    [
                      "One",
                      "_Ring",
                      "_to",
                      "_rule",
                      "_them",
                      "_to",
                      ","
                    ],
                    [
                      "One",
                      "_Ring",
                      "_to",
                      "_find",
                      "_them",
                      "_all",
                      ","
                    ]
                  ],
                  "textfont": {
                    "size": 10
                  },
                  "texttemplate": "<b>%{text}</b>",
                  "type": "heatmap",
                  "x": [
                    "\\n",
                    "One‌",
                    "_Ring‌‌",
                    "_to‌‌‌",
                    "_bring‌‌‌‌",
                    "_them‌‌‌‌‌",
                    "_all‌‌‌‌‌‌"
                  ],
                  "xaxis": "x3",
                  "y": [
                    "input",
                    "1",
                    "2",
                    "3",
                    "4",
                    "5",
                    "6",
                    "7",
                    "8",
                    "9",
                    "10",
                    "11",
                    "output"
                  ],
                  "yaxis": "y3",
                  "z": [
                    [
                      7.066564559936523,
                      12.011249542236328,
                      6.188405990600586,
                      6.118668556213379,
                      3.957268476486206,
                      6.565304756164551,
                      4.396986961364746
                    ],
                    [
                      10.011359214782715,
                      10.396434783935547,
                      5.7018632888793945,
                      6.350170135498047,
                      3.470057725906372,
                      3.8955891132354736,
                      3.9584972858428955
                    ],
                    [
                      8.04980182647705,
                      9.661391258239746,
                      5.6215338706970215,
                      5.773653030395508,
                      3.593822956085205,
                      4.111451148986816,
                      2.6724746227264404
                    ],
                    [
                      9.866127014160156,
                      9.12426471710205,
                      5.019604682922363,
                      6.234341621398926,
                      3.1758289337158203,
                      4.385124206542969,
                      2.8623390197753906
                    ],
                    [
                      9.410776138305664,
                      10.68234920501709,
                      5.092687606811523,
                      6.464916706085205,
                      2.7004828453063965,
                      5.107701301574707,
                      3.569896936416626
                    ],
                    [
                      7.795146942138672,
                      9.431320190429688,
                      2.6630172729492188,
                      6.029857635498047,
                      2.280397891998291,
                      4.2513861656188965,
                      5.141298294067383
                    ],
                    [
                      7.0342817306518555,
                      8.515193939208984,
                      0.5039073824882507,
                      4.407964706420898,
                      1.1016912460327148,
                      3.668442726135254,
                      5.05491304397583
                    ],
                    [
                      4.750319004058838,
                      2.741121768951416,
                      0.17242199182510376,
                      4.762104034423828,
                      0.7196334004402161,
                      2.2249855995178223,
                      4.493714332580566
                    ],
                    [
                      3.489020347595215,
                      2.0747342109680176,
                      0.020603561773896217,
                      3.696045398712158,
                      0.6132687926292419,
                      2.782783031463623,
                      4.1353349685668945
                    ],
                    [
                      2.0249404907226562,
                      0.021202921867370605,
                      0.005078985821455717,
                      3.9733431339263916,
                      0.13684429228305817,
                      2.495375633239746,
                      3.2898008823394775
                    ],
                    [
                      0.7386086583137512,
                      0.010151068679988384,
                      0.016400298103690147,
                      3.680039644241333,
                      0.1332719922065735,
                      2.7662017345428467,
                      3.0775604248046875
                    ],
                    [
                      1.1515253782272339,
                      0.006457178853452206,
                      0.0209831353276968,
                      4.278695106506348,
                      0.08566707372665405,
                      3.2188146114349365,
                      4.066703796386719
                    ],
                    [
                      1.4685025215148926,
                      0.07632432132959366,
                      0.06834062933921814,
                      4.794003009796143,
                      0.47052228450775146,
                      1.4273755550384521,
                      3.0938467979431152
                    ]
                  ]
                }
              ],
              "layout": {
                "annotations": [
                  {
                    "font": {
                      "size": 16
                    },
                    "showarrow": false,
                    "text": "Entropy",
                    "x": 0.5,
                    "xanchor": "center",
                    "xref": "paper",
                    "y": 0.9999999999999998,
                    "yanchor": "bottom",
                    "yref": "paper"
                  },
                  {
                    "font": {
                      "size": 16
                    },
                    "showarrow": false,
                    "text": "Forward KL",
                    "x": 0.5,
                    "xanchor": "center",
                    "xref": "paper",
                    "y": 0.6566666666666665,
                    "yanchor": "bottom",
                    "yref": "paper"
                  },
                  {
                    "font": {
                      "size": 16
                    },
                    "showarrow": false,
                    "text": "Cross Entropy",
                    "x": 0.5,
                    "xanchor": "center",
                    "xref": "paper",
                    "y": 0.3133333333333333,
                    "yanchor": "bottom",
                    "yref": "paper"
                  }
                ],
                "height": 800,
                "template": {
                  "data": {
                    "bar": [
                      {
                        "error_x": {
                          "color": "#2a3f5f"
                        },
                        "error_y": {
                          "color": "#2a3f5f"
                        },
                        "marker": {
                          "line": {
                            "color": "#E5ECF6",
                            "width": 0.5
                          },
                          "pattern": {
                            "fillmode": "overlay",
                            "size": 10,
                            "solidity": 0.2
                          }
                        },
                        "type": "bar"
                      }
                    ],
                    "barpolar": [
                      {
                        "marker": {
                          "line": {
                            "color": "#E5ECF6",
                            "width": 0.5
                          },
                          "pattern": {
                            "fillmode": "overlay",
                            "size": 10,
                            "solidity": 0.2
                          }
                        },
                        "type": "barpolar"
                      }
                    ],
                    "carpet": [
                      {
                        "aaxis": {
                          "endlinecolor": "#2a3f5f",
                          "gridcolor": "white",
                          "linecolor": "white",
                          "minorgridcolor": "white",
                          "startlinecolor": "#2a3f5f"
                        },
                        "baxis": {
                          "endlinecolor": "#2a3f5f",
                          "gridcolor": "white",
                          "linecolor": "white",
                          "minorgridcolor": "white",
                          "startlinecolor": "#2a3f5f"
                        },
                        "type": "carpet"
                      }
                    ],
                    "choropleth": [
                      {
                        "colorbar": {
                          "outlinewidth": 0,
                          "ticks": ""
                        },
                        "type": "choropleth"
                      }
                    ],
                    "contour": [
                      {
                        "colorbar": {
                          "outlinewidth": 0,
                          "ticks": ""
                        },
                        "colorscale": [
                          [
                            0,
                            "#0d0887"
                          ],
                          [
                            0.1111111111111111,
                            "#46039f"
                          ],
                          [
                            0.2222222222222222,
                            "#7201a8"
                          ],
                          [
                            0.3333333333333333,
                            "#9c179e"
                          ],
                          [
                            0.4444444444444444,
                            "#bd3786"
                          ],
                          [
                            0.5555555555555556,
                            "#d8576b"
                          ],
                          [
                            0.6666666666666666,
                            "#ed7953"
                          ],
                          [
                            0.7777777777777778,
                            "#fb9f3a"
                          ],
                          [
                            0.8888888888888888,
                            "#fdca26"
                          ],
                          [
                            1,
                            "#f0f921"
                          ]
                        ],
                        "type": "contour"
                      }
                    ],
                    "contourcarpet": [
                      {
                        "colorbar": {
                          "outlinewidth": 0,
                          "ticks": ""
                        },
                        "type": "contourcarpet"
                      }
                    ],
                    "heatmap": [
                      {
                        "colorbar": {
                          "outlinewidth": 0,
                          "ticks": ""
                        },
                        "colorscale": [
                          [
                            0,
                            "#0d0887"
                          ],
                          [
                            0.1111111111111111,
                            "#46039f"
                          ],
                          [
                            0.2222222222222222,
                            "#7201a8"
                          ],
                          [
                            0.3333333333333333,
                            "#9c179e"
                          ],
                          [
                            0.4444444444444444,
                            "#bd3786"
                          ],
                          [
                            0.5555555555555556,
                            "#d8576b"
                          ],
                          [
                            0.6666666666666666,
                            "#ed7953"
                          ],
                          [
                            0.7777777777777778,
                            "#fb9f3a"
                          ],
                          [
                            0.8888888888888888,
                            "#fdca26"
                          ],
                          [
                            1,
                            "#f0f921"
                          ]
                        ],
                        "type": "heatmap"
                      }
                    ],
                    "heatmapgl": [
                      {
                        "colorbar": {
                          "outlinewidth": 0,
                          "ticks": ""
                        },
                        "colorscale": [
                          [
                            0,
                            "#0d0887"
                          ],
                          [
                            0.1111111111111111,
                            "#46039f"
                          ],
                          [
                            0.2222222222222222,
                            "#7201a8"
                          ],
                          [
                            0.3333333333333333,
                            "#9c179e"
                          ],
                          [
                            0.4444444444444444,
                            "#bd3786"
                          ],
                          [
                            0.5555555555555556,
                            "#d8576b"
                          ],
                          [
                            0.6666666666666666,
                            "#ed7953"
                          ],
                          [
                            0.7777777777777778,
                            "#fb9f3a"
                          ],
                          [
                            0.8888888888888888,
                            "#fdca26"
                          ],
                          [
                            1,
                            "#f0f921"
                          ]
                        ],
                        "type": "heatmapgl"
                      }
                    ],
                    "histogram": [
                      {
                        "marker": {
                          "pattern": {
                            "fillmode": "overlay",
                            "size": 10,
                            "solidity": 0.2
                          }
                        },
                        "type": "histogram"
                      }
                    ],
                    "histogram2d": [
                      {
                        "colorbar": {
                          "outlinewidth": 0,
                          "ticks": ""
                        },
                        "colorscale": [
                          [
                            0,
                            "#0d0887"
                          ],
                          [
                            0.1111111111111111,
                            "#46039f"
                          ],
                          [
                            0.2222222222222222,
                            "#7201a8"
                          ],
                          [
                            0.3333333333333333,
                            "#9c179e"
                          ],
                          [
                            0.4444444444444444,
                            "#bd3786"
                          ],
                          [
                            0.5555555555555556,
                            "#d8576b"
                          ],
                          [
                            0.6666666666666666,
                            "#ed7953"
                          ],
                          [
                            0.7777777777777778,
                            "#fb9f3a"
                          ],
                          [
                            0.8888888888888888,
                            "#fdca26"
                          ],
                          [
                            1,
                            "#f0f921"
                          ]
                        ],
                        "type": "histogram2d"
                      }
                    ],
                    "histogram2dcontour": [
                      {
                        "colorbar": {
                          "outlinewidth": 0,
                          "ticks": ""
                        },
                        "colorscale": [
                          [
                            0,
                            "#0d0887"
                          ],
                          [
                            0.1111111111111111,
                            "#46039f"
                          ],
                          [
                            0.2222222222222222,
                            "#7201a8"
                          ],
                          [
                            0.3333333333333333,
                            "#9c179e"
                          ],
                          [
                            0.4444444444444444,
                            "#bd3786"
                          ],
                          [
                            0.5555555555555556,
                            "#d8576b"
                          ],
                          [
                            0.6666666666666666,
                            "#ed7953"
                          ],
                          [
                            0.7777777777777778,
                            "#fb9f3a"
                          ],
                          [
                            0.8888888888888888,
                            "#fdca26"
                          ],
                          [
                            1,
                            "#f0f921"
                          ]
                        ],
                        "type": "histogram2dcontour"
                      }
                    ],
                    "mesh3d": [
                      {
                        "colorbar": {
                          "outlinewidth": 0,
                          "ticks": ""
                        },
                        "type": "mesh3d"
                      }
                    ],
                    "parcoords": [
                      {
                        "line": {
                          "colorbar": {
                            "outlinewidth": 0,
                            "ticks": ""
                          }
                        },
                        "type": "parcoords"
                      }
                    ],
                    "pie": [
                      {
                        "automargin": true,
                        "type": "pie"
                      }
                    ],
                    "scatter": [
                      {
                        "fillpattern": {
                          "fillmode": "overlay",
                          "size": 10,
                          "solidity": 0.2
                        },
                        "type": "scatter"
                      }
                    ],
                    "scatter3d": [
                      {
                        "line": {
                          "colorbar": {
                            "outlinewidth": 0,
                            "ticks": ""
                          }
                        },
                        "marker": {
                          "colorbar": {
                            "outlinewidth": 0,
                            "ticks": ""
                          }
                        },
                        "type": "scatter3d"
                      }
                    ],
                    "scattercarpet": [
                      {
                        "marker": {
                          "colorbar": {
                            "outlinewidth": 0,
                            "ticks": ""
                          }
                        },
                        "type": "scattercarpet"
                      }
                    ],
                    "scattergeo": [
                      {
                        "marker": {
                          "colorbar": {
                            "outlinewidth": 0,
                            "ticks": ""
                          }
                        },
                        "type": "scattergeo"
                      }
                    ],
                    "scattergl": [
                      {
                        "marker": {
                          "colorbar": {
                            "outlinewidth": 0,
                            "ticks": ""
                          }
                        },
                        "type": "scattergl"
                      }
                    ],
                    "scattermapbox": [
                      {
                        "marker": {
                          "colorbar": {
                            "outlinewidth": 0,
                            "ticks": ""
                          }
                        },
                        "type": "scattermapbox"
                      }
                    ],
                    "scatterpolar": [
                      {
                        "marker": {
                          "colorbar": {
                            "outlinewidth": 0,
                            "ticks": ""
                          }
                        },
                        "type": "scatterpolar"
                      }
                    ],
                    "scatterpolargl": [
                      {
                        "marker": {
                          "colorbar": {
                            "outlinewidth": 0,
                            "ticks": ""
                          }
                        },
                        "type": "scatterpolargl"
                      }
                    ],
                    "scatterternary": [
                      {
                        "marker": {
                          "colorbar": {
                            "outlinewidth": 0,
                            "ticks": ""
                          }
                        },
                        "type": "scatterternary"
                      }
                    ],
                    "surface": [
                      {
                        "colorbar": {
                          "outlinewidth": 0,
                          "ticks": ""
                        },
                        "colorscale": [
                          [
                            0,
                            "#0d0887"
                          ],
                          [
                            0.1111111111111111,
                            "#46039f"
                          ],
                          [
                            0.2222222222222222,
                            "#7201a8"
                          ],
                          [
                            0.3333333333333333,
                            "#9c179e"
                          ],
                          [
                            0.4444444444444444,
                            "#bd3786"
                          ],
                          [
                            0.5555555555555556,
                            "#d8576b"
                          ],
                          [
                            0.6666666666666666,
                            "#ed7953"
                          ],
                          [
                            0.7777777777777778,
                            "#fb9f3a"
                          ],
                          [
                            0.8888888888888888,
                            "#fdca26"
                          ],
                          [
                            1,
                            "#f0f921"
                          ]
                        ],
                        "type": "surface"
                      }
                    ],
                    "table": [
                      {
                        "cells": {
                          "fill": {
                            "color": "#EBF0F8"
                          },
                          "line": {
                            "color": "white"
                          }
                        },
                        "header": {
                          "fill": {
                            "color": "#C8D4E3"
                          },
                          "line": {
                            "color": "white"
                          }
                        },
                        "type": "table"
                      }
                    ]
                  },
                  "layout": {
                    "annotationdefaults": {
                      "arrowcolor": "#2a3f5f",
                      "arrowhead": 0,
                      "arrowwidth": 1
                    },
                    "autotypenumbers": "strict",
                    "coloraxis": {
                      "colorbar": {
                        "outlinewidth": 0,
                        "ticks": ""
                      }
                    },
                    "colorscale": {
                      "diverging": [
                        [
                          0,
                          "#8e0152"
                        ],
                        [
                          0.1,
                          "#c51b7d"
                        ],
                        [
                          0.2,
                          "#de77ae"
                        ],
                        [
                          0.3,
                          "#f1b6da"
                        ],
                        [
                          0.4,
                          "#fde0ef"
                        ],
                        [
                          0.5,
                          "#f7f7f7"
                        ],
                        [
                          0.6,
                          "#e6f5d0"
                        ],
                        [
                          0.7,
                          "#b8e186"
                        ],
                        [
                          0.8,
                          "#7fbc41"
                        ],
                        [
                          0.9,
                          "#4d9221"
                        ],
                        [
                          1,
                          "#276419"
                        ]
                      ],
                      "sequential": [
                        [
                          0,
                          "#0d0887"
                        ],
                        [
                          0.1111111111111111,
                          "#46039f"
                        ],
                        [
                          0.2222222222222222,
                          "#7201a8"
                        ],
                        [
                          0.3333333333333333,
                          "#9c179e"
                        ],
                        [
                          0.4444444444444444,
                          "#bd3786"
                        ],
                        [
                          0.5555555555555556,
                          "#d8576b"
                        ],
                        [
                          0.6666666666666666,
                          "#ed7953"
                        ],
                        [
                          0.7777777777777778,
                          "#fb9f3a"
                        ],
                        [
                          0.8888888888888888,
                          "#fdca26"
                        ],
                        [
                          1,
                          "#f0f921"
                        ]
                      ],
                      "sequentialminus": [
                        [
                          0,
                          "#0d0887"
                        ],
                        [
                          0.1111111111111111,
                          "#46039f"
                        ],
                        [
                          0.2222222222222222,
                          "#7201a8"
                        ],
                        [
                          0.3333333333333333,
                          "#9c179e"
                        ],
                        [
                          0.4444444444444444,
                          "#bd3786"
                        ],
                        [
                          0.5555555555555556,
                          "#d8576b"
                        ],
                        [
                          0.6666666666666666,
                          "#ed7953"
                        ],
                        [
                          0.7777777777777778,
                          "#fb9f3a"
                        ],
                        [
                          0.8888888888888888,
                          "#fdca26"
                        ],
                        [
                          1,
                          "#f0f921"
                        ]
                      ]
                    },
                    "colorway": [
                      "#636efa",
                      "#EF553B",
                      "#00cc96",
                      "#ab63fa",
                      "#FFA15A",
                      "#19d3f3",
                      "#FF6692",
                      "#B6E880",
                      "#FF97FF",
                      "#FECB52"
                    ],
                    "font": {
                      "color": "#2a3f5f"
                    },
                    "geo": {
                      "bgcolor": "white",
                      "lakecolor": "white",
                      "landcolor": "#E5ECF6",
                      "showlakes": true,
                      "showland": true,
                      "subunitcolor": "white"
                    },
                    "hoverlabel": {
                      "align": "left"
                    },
                    "hovermode": "closest",
                    "mapbox": {
                      "style": "light"
                    },
                    "paper_bgcolor": "white",
                    "plot_bgcolor": "#E5ECF6",
                    "polar": {
                      "angularaxis": {
                        "gridcolor": "white",
                        "linecolor": "white",
                        "ticks": ""
                      },
                      "bgcolor": "#E5ECF6",
                      "radialaxis": {
                        "gridcolor": "white",
                        "linecolor": "white",
                        "ticks": ""
                      }
                    },
                    "scene": {
                      "xaxis": {
                        "backgroundcolor": "#E5ECF6",
                        "gridcolor": "white",
                        "gridwidth": 2,
                        "linecolor": "white",
                        "showbackground": true,
                        "ticks": "",
                        "zerolinecolor": "white"
                      },
                      "yaxis": {
                        "backgroundcolor": "#E5ECF6",
                        "gridcolor": "white",
                        "gridwidth": 2,
                        "linecolor": "white",
                        "showbackground": true,
                        "ticks": "",
                        "zerolinecolor": "white"
                      },
                      "zaxis": {
                        "backgroundcolor": "#E5ECF6",
                        "gridcolor": "white",
                        "gridwidth": 2,
                        "linecolor": "white",
                        "showbackground": true,
                        "ticks": "",
                        "zerolinecolor": "white"
                      }
                    },
                    "shapedefaults": {
                      "line": {
                        "color": "#2a3f5f"
                      }
                    },
                    "ternary": {
                      "aaxis": {
                        "gridcolor": "white",
                        "linecolor": "white",
                        "ticks": ""
                      },
                      "baxis": {
                        "gridcolor": "white",
                        "linecolor": "white",
                        "ticks": ""
                      },
                      "bgcolor": "#E5ECF6",
                      "caxis": {
                        "gridcolor": "white",
                        "linecolor": "white",
                        "ticks": ""
                      }
                    },
                    "title": {
                      "x": 0.05
                    },
                    "xaxis": {
                      "automargin": true,
                      "gridcolor": "white",
                      "linecolor": "white",
                      "ticks": "",
                      "title": {
                        "standoff": 15
                      },
                      "zerolinecolor": "white",
                      "zerolinewidth": 2
                    },
                    "yaxis": {
                      "automargin": true,
                      "gridcolor": "white",
                      "linecolor": "white",
                      "ticks": "",
                      "title": {
                        "standoff": 15
                      },
                      "zerolinecolor": "white",
                      "zerolinewidth": 2
                    }
                  }
                },
                "title": {
                  "text": "Tolkien's Tokens on The Tuned Lens"
                },
                "width": 500,
                "xaxis": {
                  "anchor": "y",
                  "domain": [
                    0,
                    1
                  ],
                  "matches": "x3",
                  "showticklabels": false
                },
                "xaxis2": {
                  "anchor": "y2",
                  "domain": [
                    0,
                    1
                  ],
                  "matches": "x3",
                  "showticklabels": false
                },
                "xaxis3": {
                  "anchor": "y3",
                  "domain": [
                    0,
                    1
                  ]
                },
                "yaxis": {
                  "anchor": "x",
                  "domain": [
                    0.6866666666666665,
                    0.9999999999999998
                  ]
                },
                "yaxis2": {
                  "anchor": "x2",
                  "domain": [
                    0.34333333333333327,
                    0.6566666666666665
                  ]
                },
                "yaxis3": {
                  "anchor": "x3",
                  "domain": [
                    0,
                    0.3133333333333333
                  ]
                }
              }
            }
          },
          "metadata": {},
          "output_type": "display_data"
        }
      ],
      "source": [
        "from plotly.subplots import make_subplots\n",
        "import plotly.graph_objects as go\n",
        "\n",
        "fig = make_subplots(\n",
        "    rows=3,\n",
        "    cols=1,\n",
        "    shared_xaxes=True,\n",
        "    vertical_spacing=0.03,\n",
        "    subplot_titles=(\"Entropy\", \"Forward KL\", \"Cross Entropy\"),\n",
        ")\n",
        "\n",
        "fig.add_trace(\n",
        "    predictition_traj_ring.entropy().heatmap(\n",
        "        colorbar_y=0.86, colorbar_len=0.3, textfont={'size':10}\n",
        "    ),\n",
        "    row=1, col=1\n",
        ")\n",
        "\n",
        "fig.add_trace(\n",
        "    predictition_traj_ring.forward_kl().heatmap(\n",
        "        colorbar_y=0.5, colorbar_len=0.3, textfont={'size':10}\n",
        "    ),\n",
        "    row=2, col=1\n",
        ")\n",
        "\n",
        "fig.add_trace(\n",
        "    predictition_traj_ring.cross_entropy().heatmap(\n",
        "        colorbar_y=0.15, colorbar_len=0.3, textfont={'size':10}\n",
        "    ),\n",
        "    row=3, col=1\n",
        ")\n",
        "\n",
        "fig.update_layout(height=800, width=500, title_text=\"Tolkien's Tokens on visualized with the Tuned Lens\")\n",
        "fig"
      ]
    },
    {
      "attachments": {},
      "cell_type": "markdown",
      "metadata": {},
      "source": [
        "Okay now let's look at the prediction trajectory for our modified sequence."
      ]
    },
    {
      "cell_type": "code",
      "execution_count": 76,
      "metadata": {},
      "outputs": [],
      "source": [
        "predictition_traj_model = PredictionTrajectory.from_lens_and_model(\n",
        "    tuned_lens,\n",
        "    model,\n",
        "    start_pos=14,\n",
        "    end_pos=21,\n",
        "    tokenizer=tokenizer,\n",
        "    input_ids=input_ids_model,\n",
        "    targets=targets_model,\n",
        ")"
      ]
    },
    {
      "cell_type": "code",
      "execution_count": 77,
      "metadata": {},
      "outputs": [
        {
          "data": {
            "application/vnd.plotly.v1+json": {
              "config": {
                "plotlyServerURL": "https://plot.ly"
              },
              "data": [
                {
                  "colorbar": {
                    "len": 0.3,
                    "title": {
                      "side": "right",
                      "text": "Entropy (nats)"
                    },
                    "y": 0.86
                  },
                  "colorscale": [
                    [
                      0,
                      "rgb(5,48,97)"
                    ],
                    [
                      0.1,
                      "rgb(33,102,172)"
                    ],
                    [
                      0.2,
                      "rgb(67,147,195)"
                    ],
                    [
                      0.3,
                      "rgb(146,197,222)"
                    ],
                    [
                      0.4,
                      "rgb(209,229,240)"
                    ],
                    [
                      0.5,
                      "rgb(247,247,247)"
                    ],
                    [
                      0.6,
                      "rgb(253,219,199)"
                    ],
                    [
                      0.7,
                      "rgb(244,165,130)"
                    ],
                    [
                      0.8,
                      "rgb(214,96,77)"
                    ],
                    [
                      0.9,
                      "rgb(178,24,43)"
                    ],
                    [
                      1,
                      "rgb(103,0,31)"
                    ]
                  ],
                  "customdata": [
                    [
                      [
                        "\\n 28.53%",
                        "     3.49%",
                        "   2.47%",
                        "The 2.41%",
                        "      … 2.05%",
                        "ĉ 1.56%",
                        "\" 1.26%",
                        "< 1.07%",
                        "I 0.96%",
                        "      … 0.94%"
                      ],
                      [
                        "_of 20.74%",
                        ", 4.49%",
                        "- 2.42%",
                        "_is 2.37%",
                        ". 1.81%",
                        ": 0.88%",
                        "_in 0.79%",
                        "_if 0.74%",
                        "_ 0.62%",
                        "_and 0.59%"
                      ],
                      [
                        ". 7.37%",
                        "_( 4.74%",
                        ", 2.98%",
                        "\\n 2.41%",
                        "_of 1.80%",
                        "_is 1.64%",
                        "- 1.50%",
                        "_and 1.44%",
                        "/ 1.35%",
                        ": 1.28%"
                      ],
                      [
                        "_the 11.82%",
                        "_be 4.88%",
                        "_a 2.51%",
                        "_get 1.26%",
                        "_make 1.23%",
                        "_do 1.09%",
                        "_take 1.00%",
                        "_have 0.93%",
                        "_find 0.64%",
                        "_an 0.64%"
                      ],
                      [
                        "_the 12.86%",
                        "_up 6.93%",
                        "_a 6.56%",
                        "_to 3.93%",
                        "_him 2.91%",
                        "_it 2.87%",
                        "_me 2.81%",
                        "_out 2.58%",
                        "_his 2.54%",
                        "_my 2.03%"
                      ],
                      [
                        ". 12.73%",
                        "_to 8.74%",
                        ", 7.80%",
                        "_in 4.94%",
                        "_and 2.24%",
                        ".\" 1.92%",
                        "_with 1.65%",
                        "_were 1.48%",
                        "_into 1.35%",
                        "_are 1.26%"
                      ],
                      [
                        "_the 11.10%",
                        "_of 5.52%",
                        ", 3.39%",
                        ". 2.31%",
                        "_other 1.79%",
                        "_a 1.68%",
                        "_that 1.40%",
                        "- 1.35%",
                        "\\n 1.23%",
                        "_people 1.20%"
                      ]
                    ],
                    [
                      [
                        "\\n 25.96%",
                        "Catego… 2.07%",
                        "the 1.75%",
                        "   1.48%",
                        "< 1.42%",
                        "     1.40%",
                        "in 1.31%",
                        "and 1.21%",
                        "- 0.87%",
                        "      … 0.70%"
                      ],
                      [
                        "_of 13.72%",
                        "_is 5.59%",
                        "_can 4.52%",
                        ", 3.52%",
                        "- 3.48%",
                        ". 2.59%",
                        "_has 1.90%",
                        "'s 1.68%",
                        "_anoth… 1.03%",
                        "_or 1.02%"
                      ],
                      [
                        "_is 12.14%",
                        "\\n 6.03%",
                        "_of 3.36%",
                        ": 3.26%",
                        ". 2.91%",
                        ", 2.15%",
                        "âĢĻ 1.44%",
                        "_= 1.16%",
                        "_( 1.00%",
                        "_that 0.90%"
                      ],
                      [
                        "_the 8.33%",
                        "\\n 2.60%",
                        "_be 2.47%",
                        "_a 1.90%",
                        "_get 1.19%",
                        "_do 1.12%",
                        "_have 0.96%",
                        "_make 0.92%",
                        "_use 0.80%",
                        "_this 0.59%"
                      ],
                      [
                        "_the 11.52%",
                        "_a 10.82%",
                        "_it 5.45%",
                        "_your 4.02%",
                        "_about 3.53%",
                        "_up 3.05%",
                        "_this 2.92%",
                        "_to 2.88%",
                        "_you 2.73%",
                        "_me 2.73%"
                      ],
                      [
                        ", 10.26%",
                        ". 9.57%",
                        "_to 7.91%",
                        "_in 3.91%",
                        "\\n 3.08%",
                        "_and 2.12%",
                        "_all 2.03%",
                        "_as 2.01%",
                        "_with 1.99%",
                        "_a 1.75%"
                      ],
                      [
                        "_of 5.96%",
                        "_the 4.96%",
                        "_right 2.94%",
                        "_things 2.64%",
                        ". 2.22%",
                        ", 1.99%",
                        "\\n 1.79%",
                        "_that 1.56%",
                        "?\" 1.48%",
                        "_you 1.43%"
                      ]
                    ],
                    [
                      [
                        "\\n 12.58%",
                        "   2.06%",
                        "the 1.62%",
                        "in 1.57%",
                        "and 1.53%",
                        "( 1.52%",
                        "to 1.35%",
                        "a 1.31%",
                        "     1.18%",
                        "is 1.12%"
                      ],
                      [
                        ", 8.59%",
                        "_of 6.54%",
                        "- 3.83%",
                        "_is 3.44%",
                        "\\n 3.31%",
                        ". 3.16%",
                        "_can 1.71%",
                        "_or 1.46%",
                        "_I 1.42%",
                        "'s 0.90%"
                      ],
                      [
                        "_is 8.40%",
                        "\\n 4.43%",
                        ". 3.48%",
                        ", 3.43%",
                        "_of 2.39%",
                        ": 1.77%",
                        "- 1.31%",
                        "_was 1.20%",
                        "âĢĻ 1.10%",
                        "_- 0.81%"
                      ],
                      [
                        "_be 6.25%",
                        "_the 4.01%",
                        "_get 2.98%",
                        "_make 1.72%",
                        "\\n 1.70%",
                        "_have 1.54%",
                        "_create 1.48%",
                        "_find 1.08%",
                        "_a 1.07%",
                        "_do 0.98%"
                      ],
                      [
                        "_the 11.47%",
                        "_a 6.79%",
                        "_it 6.07%",
                        "_to 4.47%",
                        "_about 4.08%",
                        "_your 3.74%",
                        "_you 3.53%",
                        "_up 3.30%",
                        "_this 2.82%",
                        "_that 2.00%"
                      ],
                      [
                        "_to 7.72%",
                        ". 6.41%",
                        ", 5.16%",
                        "_in 3.13%",
                        "\\n 3.02%",
                        "_with 2.76%",
                        "_a 2.05%",
                        "_are 2.01%",
                        "_as 1.89%",
                        "_all 1.83%"
                      ],
                      [
                        ". 8.84%",
                        "\\n 7.69%",
                        ", 4.61%",
                        "_the 3.82%",
                        "_that 3.43%",
                        "_right 2.75%",
                        "_of 2.66%",
                        "_to 2.17%",
                        ".\" 2.16%",
                        "_in 1.95%"
                      ]
                    ],
                    [
                      [
                        "\\n 18.12%",
                        "and 1.78%",
                        "but 1.34%",
                        "( 1.30%",
                        "\" 1.16%",
                        "for 1.13%",
                        "   0.89%",
                        "a 0.86%",
                        "the 0.85%",
                        "with 0.78%"
                      ],
                      [
                        ". 6.25%",
                        "- 5.80%",
                        "_of 4.88%",
                        "\\n 4.37%",
                        ", 3.84%",
                        "_day 1.40%",
                        "_thing 1.18%",
                        "_hour 1.11%",
                        "_is 0.92%",
                        "_or 0.90%"
                      ],
                      [
                        "_is 5.80%",
                        "\\n 4.89%",
                        ", 4.08%",
                        ". 3.96%",
                        "_of 2.52%",
                        ": 2.04%",
                        "- 0.91%",
                        "_Descr… 0.88%",
                        "_( 0.87%",
                        "_ 0.82%"
                      ],
                      [
                        "_be 13.87%",
                        "_the 4.27%",
                        "_get 2.65%",
                        "_do 2.27%",
                        "_have 2.13%",
                        "_make 1.79%",
                        "_create 1.71%",
                        "\\n 1.21%",
                        "_find 1.16%",
                        "_use 1.08%"
                      ],
                      [
                        "_the 9.50%",
                        "_a 8.79%",
                        "_your 7.12%",
                        "_up 6.10%",
                        "_it 5.37%",
                        "_you 4.79%",
                        "_back 3.93%",
                        "_this 2.91%",
                        "_them 2.41%",
                        "_to 2.40%"
                      ],
                      [
                        "_to 12.98%",
                        ". 5.37%",
                        "\\n 4.69%",
                        ", 3.85%",
                        "_into 3.60%",
                        "_in 3.28%",
                        "_out 3.15%",
                        "_up 2.38%",
                        "_with 1.89%",
                        "_down 1.87%"
                      ],
                      [
                        ". 15.58%",
                        "_to 6.03%",
                        "_the 5.08%",
                        "\\n 5.04%",
                        ", 4.65%",
                        "_of 4.08%",
                        ".\" 3.76%",
                        "_right 3.69%",
                        "_into 3.09%",
                        "_in 1.97%"
                      ]
                    ],
                    [
                      [
                        "\\n 11.45%",
                        "and 4.35%",
                        "I 2.07%",
                        "( 1.16%",
                        "with 1.15%",
                        "And 1.14%",
                        "\" 1.10%",
                        "   1.07%",
                        "in 0.79%",
                        "is 0.78%"
                      ],
                      [
                        ", 6.84%",
                        ". 6.36%",
                        "_of 4.42%",
                        "- 4.32%",
                        "\\n 2.33%",
                        "_or 1.11%",
                        "'s 1.09%",
                        "_thing 1.03%",
                        ": 0.93%",
                        "_ 0.82%"
                      ],
                      [
                        ", 4.56%",
                        ". 3.89%",
                        "_is 3.46%",
                        ": 2.72%",
                        "\\n 1.92%",
                        "_of 1.76%",
                        "_and 1.45%",
                        "_for 1.41%",
                        "ed 1.01%",
                        "_Descr… 0.90%"
                      ],
                      [
                        "_do 4.62%",
                        "\\n 4.27%",
                        "_date 3.57%",
                        "_be 3.55%",
                        "_the 3.37%",
                        "_get 1.40%",
                        "_go 1.05%",
                        "_have 0.94%",
                        "_which 0.82%",
                        "_make 0.74%"
                      ],
                      [
                        "_your 12.01%",
                        "_the 10.82%",
                        "_up 7.28%",
                        "_a 6.74%",
                        "_you 5.79%",
                        "_back 5.65%",
                        "_it 4.47%",
                        "_them 3.89%",
                        "_out 2.49%",
                        "_this 1.90%"
                      ],
                      [
                        "_to 28.30%",
                        "_into 11.34%",
                        "_out 5.12%",
                        "_up 4.40%",
                        "_in 3.71%",
                        "_from 2.66%",
                        "_toget… 2.51%",
                        ", 2.40%",
                        ". 2.25%",
                        "_with 2.06%"
                      ],
                      [
                        "_to 13.81%",
                        "_the 6.68%",
                        "_toget… 6.56%",
                        "_of 6.33%",
                        ", 5.00%",
                        ". 4.73%",
                        "_in 3.66%",
                        "_from 3.27%",
                        "_over 2.94%",
                        "\\n 2.35%"
                      ]
                    ],
                    [
                      [
                        "\\n 9.04%",
                        "I 2.90%",
                        "You 1.67%",
                        "and 1.53%",
                        "\" 1.42%",
                        "And 1.38%",
                        "The 1.28%",
                        "But 1.22%",
                        "Be 0.98%",
                        "Who 0.87%"
                      ],
                      [
                        "_I 2.20%",
                        "_day 2.10%",
                        "_thing 2.07%",
                        "_person 1.50%",
                        "\\n 1.06%",
                        "_Person 0.91%",
                        "_of 0.91%",
                        "_night 0.74%",
                        "_is 0.72%",
                        ", 0.63%"
                      ],
                      [
                        "_to 5.33%",
                        "_is 5.31%",
                        "_for 4.59%",
                        ", 3.79%",
                        "_of 3.77%",
                        "_in 3.04%",
                        "\\n 2.73%",
                        "_and 2.36%",
                        ". 2.12%",
                        "_every 1.06%"
                      ],
                      [
                        "_do 2.69%",
                        "_be 2.14%",
                        "_the 1.93%",
                        "_read 1.68%",
                        "_get 1.55%",
                        "_select 1.05%",
                        "_say 1.05%",
                        "_date 1.02%",
                        "_choose 1.01%",
                        "_remove 0.96%"
                      ],
                      [
                        "_your 20.80%",
                        "_you 11.08%",
                        "_the 8.45%",
                        "_it 5.88%",
                        "_up 5.86%",
                        "_them 5.61%",
                        "_a 3.92%",
                        "_back 2.08%",
                        "_in 1.41%",
                        "_me 1.38%"
                      ],
                      [
                        "_to 17.70%",
                        ", 16.28%",
                        "\\n 6.66%",
                        ". 6.38%",
                        "_into 5.13%",
                        "_in 3.28%",
                        "_out 2.50%",
                        "? 2.03%",
                        "_and 1.98%",
                        "?\" 1.94%"
                      ],
                      [
                        ", 40.22%",
                        ". 9.76%",
                        "_of 6.60%",
                        "_to 5.34%",
                        "_in 3.45%",
                        ".\" 2.13%",
                        "_into 1.94%",
                        "_the 1.93%",
                        "_toget… 1.59%",
                        "_for 1.26%"
                      ]
                    ],
                    [
                      [
                        "\\n 12.61%",
                        "The 2.63%",
                        "I 2.24%",
                        "\" 1.93%",
                        "And 1.81%",
                        "You 1.31%",
                        "But 1.22%",
                        "and 0.97%",
                        "S 0.82%",
                        "( 0.80%"
                      ],
                      [
                        ", 1.75%",
                        ". 1.43%",
                        "_I 1.18%",
                        "\\n 1.11%",
                        "_thing 1.08%",
                        "_day 1.01%",
                        "_of 0.76%",
                        "_B 0.76%",
                        "_and 0.57%",
                        "_must 0.54%"
                      ],
                      [
                        "_to 28.00%",
                        "_for 8.08%",
                        "_in 4.52%",
                        "_and 4.38%",
                        "_is 3.90%",
                        "_of 3.37%",
                        ", 3.14%",
                        ". 2.43%",
                        "_on 1.34%",
                        "-- 1.11%"
                      ],
                      [
                        "_find 4.74%",
                        "_get 2.39%",
                        "_regis… 2.28%",
                        "_do 2.22%",
                        "_deter… 2.07%",
                        "_make 1.87%",
                        "_keep 1.78%",
                        "_remove 1.60%",
                        "_change 1.42%",
                        "_go 1.33%"
                      ],
                      [
                        "_them 26.14%",
                        "_your 11.33%",
                        "_you 10.77%",
                        "_him 5.74%",
                        "_it 5.43%",
                        "_the 3.41%",
                        "_back 3.10%",
                        "_toget… 2.73%",
                        "_up 2.55%",
                        "_in 1.44%"
                      ],
                      [
                        ", 29.01%",
                        "_to 9.05%",
                        "\\n 6.24%",
                        ". 6.13%",
                        "_in 4.34%",
                        "_out 3.55%",
                        "_into 3.31%",
                        "_up 3.03%",
                        "_all 2.36%",
                        "_with 2.02%"
                      ],
                      [
                        ", 73.05%",
                        ". 9.94%",
                        "_toget… 1.59%",
                        ".\" 1.56%",
                        "_in 1.04%",
                        "_and 0.69%",
                        ",\" 0.59%",
                        "... 0.56%",
                        "_to 0.54%",
                        "\\n 0.53%"
                      ]
                    ],
                    [
                      [
                        "And 15.00%",
                        "The 4.35%",
                        "\\n 3.62%",
                        "I 3.31%",
                        "But 2.59%",
                        "One 1.99%",
                        "and 1.77%",
                        "[ 1.44%",
                        "You 1.10%",
                        "With 1.08%"
                      ],
                      [
                        "_Model 14.82%",
                        "_Machi… 4.07%",
                        "_Method 3.91%",
                        "_Measu… 1.36%",
                        "_Me 1.02%",
                        "_M 1.01%",
                        "_Match 0.96%",
                        "_model 0.82%",
                        "_Comma… 0.81%",
                        "_Mod 0.75%"
                      ],
                      [
                        "_to 64.02%",
                        "-- 3.10%",
                        "_and 2.21%",
                        "_for 2.08%",
                        ", 1.81%",
                        "_in 1.37%",
                        "_is 1.25%",
                        "_that 1.22%",
                        "\\n 0.85%",
                        "_of 0.81%"
                      ],
                      [
                        "_change 6.64%",
                        "_find 2.72%",
                        "_make 2.49%",
                        "_keep 2.48%",
                        "_regis… 1.59%",
                        "_get 1.49%",
                        "_do 1.31%",
                        "_give 1.30%",
                        "_rule 1.26%",
                        "_run 1.25%"
                      ],
                      [
                        "_them 31.96%",
                        "_you 10.08%",
                        "_back 5.21%",
                        "_it 4.87%",
                        "_toget… 4.36%",
                        "_up 3.18%",
                        "_your 2.04%",
                        "_and 1.83%",
                        "_all 1.82%",
                        "_in 1.80%"
                      ],
                      [
                        ", 14.47%",
                        "_all 11.71%",
                        "\\n 8.89%",
                        "_to 7.17%",
                        ". 5.77%",
                        "_up 4.73%",
                        "_toget… 4.48%",
                        "_into 3.47%",
                        "_out 3.29%",
                        "_in 2.34%"
                      ],
                      [
                        ", 78.38%",
                        ". 8.21%",
                        "_toget… 2.78%",
                        "\\n 0.91%",
                        ".\" 0.88%",
                        "; 0.57%",
                        "_in 0.51%",
                        "_again 0.41%",
                        "_but 0.36%",
                        "_into 0.34%"
                      ]
                    ],
                    [
                      [
                        "And 25.52%",
                        "One 10.10%",
                        "But 5.63%",
                        "The 5.20%",
                        "Two 2.22%",
                        "I 1.70%",
                        "and 1.52%",
                        "Then 1.23%",
                        "You 1.22%",
                        "That 1.03%"
                      ],
                      [
                        "_Me 3.81%",
                        "_Model 3.56%",
                        "_Time 2.91%",
                        "_Machi… 2.76%",
                        "_Measu… 2.30%",
                        "_M 2.02%",
                        "_Side 1.75%",
                        "_Method 1.66%",
                        "_Master 1.18%",
                        "_Voice 1.16%"
                      ],
                      [
                        "_to 98.11%",
                        "_for 0.40%",
                        "_that 0.10%",
                        "_and 0.09%",
                        "_in 0.08%",
                        "_of 0.05%",
                        "_from 0.03%",
                        "_To 0.03%",
                        "_with 0.03%",
                        ", 0.03%"
                      ],
                      [
                        "_find 9.35%",
                        "_make 6.32%",
                        "_kill 3.73%",
                        "_keep 3.23%",
                        "_deter… 2.39%",
                        "_save 2.38%",
                        "_decide 1.89%",
                        "_give 1.68%",
                        "_rule 1.60%",
                        "_get 1.47%"
                      ],
                      [
                        "_them 36.08%",
                        "_toget… 9.04%",
                        "_it 8.79%",
                        "_in 3.40%",
                        "_you 3.11%",
                        "_to 2.92%",
                        "_him 2.57%",
                        ", 2.19%",
                        "_up 2.07%",
                        "_the 1.95%"
                      ],
                      [
                        ", 17.67%",
                        "_to 16.51%",
                        "_all 8.97%",
                        ". 5.42%",
                        "_in 3.89%",
                        "_toget… 3.87%",
                        "_up 2.71%",
                        "_into 2.63%",
                        "_out 2.29%",
                        "\\n 2.22%"
                      ],
                      [
                        ", 75.15%",
                        ". 10.34%",
                        "\\n 1.63%",
                        ".\" 1.24%",
                        "_toget… 1.01%",
                        "_and 0.64%",
                        "_to 0.54%",
                        "? 0.48%",
                        "_in 0.43%",
                        "_again 0.41%"
                      ]
                    ],
                    [
                      [
                        "One 36.06%",
                        "And 8.37%",
                        "The 5.45%",
                        "Two 4.05%",
                        "But 3.72%",
                        "_One 2.48%",
                        "one 1.39%",
                        "Another 1.33%",
                        "\\n 1.17%",
                        "I 0.81%"
                      ],
                      [
                        "_Model 72.15%",
                        "_Machi… 1.91%",
                        "_model 0.87%",
                        "_Method 0.53%",
                        "_M 0.52%",
                        "_Time 0.41%",
                        "_Descr… 0.41%",
                        "_Master 0.31%",
                        "_to 0.27%",
                        "_Mod 0.25%"
                      ],
                      [
                        "_to 99.64%",
                        "_for 0.06%",
                        "_and 0.02%",
                        "_in 0.02%",
                        "_To 0.02%",
                        "_that 0.01%",
                        "_of 0.01%",
                        ", 0.01%",
                        "_from 0.01%",
                        "_TO 0.01%"
                      ],
                      [
                        "_find 10.02%",
                        "_make 9.54%",
                        "_rule 4.89%",
                        "_place 1.61%",
                        "_change 1.53%",
                        "_keep 1.44%",
                        "_get 1.35%",
                        "_fix 1.33%",
                        "_decide 1.29%",
                        "_solve 1.27%"
                      ],
                      [
                        "_them 78.49%",
                        "_it 6.22%",
                        "\\n 1.20%",
                        "_toget… 1.18%",
                        ", 1.14%",
                        "_the 0.86%",
                        "_all 0.80%",
                        "_in 0.76%",
                        "_back 0.66%",
                        "_to 0.58%"
                      ],
                      [
                        ", 30.90%",
                        "_all 11.78%",
                        "_toget… 7.88%",
                        "_to 6.94%",
                        "\\n 6.36%",
                        "_in 3.00%",
                        ". 2.77%",
                        "_out 2.43%",
                        "_into 2.18%",
                        "_up 2.02%"
                      ],
                      [
                        ", 79.26%",
                        ". 4.58%",
                        "\\n 3.90%",
                        "_toget… 1.91%",
                        "_to 0.79%",
                        ".\" 0.70%",
                        "_in 0.56%",
                        "_and 0.39%",
                        "_into 0.37%",
                        "; 0.30%"
                      ]
                    ],
                    [
                      [
                        "One 72.37%",
                        "_One 4.00%",
                        "Two 2.97%",
                        "And 2.78%",
                        "The 2.35%",
                        "one 2.19%",
                        "\\n 0.73%",
                        "Another 0.58%",
                        "But 0.51%",
                        "_Two 0.37%"
                      ],
                      [
                        "_Model 91.13%",
                        "_model 2.69%",
                        "_Machi… 0.33%",
                        "_to 0.31%",
                        "_Models 0.29%",
                        "Model 0.17%",
                        "_M 0.06%",
                        "_Mod 0.06%",
                        "_Mechan 0.05%",
                        "_and 0.05%"
                      ],
                      [
                        "_to 98.88%",
                        "_for 0.27%",
                        "_in 0.08%",
                        "_and 0.07%",
                        "_that 0.05%",
                        ", 0.04%",
                        "_of 0.03%",
                        "_with 0.03%",
                        "_from 0.03%",
                        "_on 0.02%"
                      ],
                      [
                        "_make 7.49%",
                        "_find 6.99%",
                        "_rule 4.44%",
                        "_solve 2.47%",
                        "_fix 2.43%",
                        "_keep 2.06%",
                        "_hold 1.71%",
                        "_run 1.67%",
                        "_change 1.53%",
                        "_save 1.36%"
                      ],
                      [
                        "_them 85.32%",
                        "_it 2.46%",
                        "_the 0.86%",
                        "_in 0.86%",
                        "_their 0.85%",
                        "_all 0.77%",
                        "_him 0.75%",
                        ", 0.71%",
                        "_toget… 0.66%",
                        "_home 0.53%"
                      ],
                      [
                        "_toget… 22.67%",
                        ", 21.73%",
                        "_all 8.48%",
                        "\\n 6.53%",
                        "_up 5.32%",
                        "_in 4.70%",
                        "_to 4.63%",
                        "_out 2.78%",
                        ". 2.26%",
                        "_back 2.19%"
                      ],
                      [
                        ", 77.19%",
                        "\\n 10.43%",
                        ". 2.92%",
                        "_toget… 1.94%",
                        ".\" 0.80%",
                        "_in 0.55%",
                        "_to 0.52%",
                        ",\" 0.38%",
                        "? 0.24%",
                        "_and 0.21%"
                      ]
                    ],
                    [
                      [
                        "One 57.26%",
                        "And 5.69%",
                        "The 3.80%",
                        "Two 3.07%",
                        "\\n 3.02%",
                        "_One 1.11%",
                        "one 0.91%",
                        "But 0.80%",
                        "A 0.73%",
                        "Another 0.66%"
                      ],
                      [
                        "_Model 86.34%",
                        "_model 4.88%",
                        "_Machi… 0.55%",
                        "_to 0.37%",
                        "_Mechan 0.15%",
                        "_and 0.14%",
                        ", 0.13%",
                        "Model 0.12%",
                        "_Models 0.11%",
                        "_Contr… 0.10%"
                      ],
                      [
                        "_to 97.70%",
                        "_for 0.41%",
                        ", 0.16%",
                        "_in 0.14%",
                        "_and 0.13%",
                        "_that 0.09%",
                        "_of 0.08%",
                        "_from 0.07%",
                        "_is 0.06%",
                        "_with 0.06%"
                      ],
                      [
                        "_rule 9.46%",
                        "_find 7.83%",
                        "_make 6.82%",
                        "_build 2.54%",
                        "_solve 2.47%",
                        "_save 1.75%",
                        "_fix 1.72%",
                        "_create 1.44%",
                        "_guess 1.26%",
                        "_keep 1.03%"
                      ],
                      [
                        "_them 91.60%",
                        "_their 1.02%",
                        "_it 0.88%",
                        "_back 0.65%",
                        "_toget… 0.61%",
                        "_the 0.46%",
                        "_to 0.38%",
                        "_in 0.37%",
                        "_all 0.36%",
                        "_up 0.21%"
                      ],
                      [
                        "_toget… 28.24%",
                        "_into 12.88%",
                        "_to 10.28%",
                        "_back 6.89%",
                        "_out 5.87%",
                        ", 5.51%",
                        "_in 4.95%",
                        "_all 4.20%",
                        "_up 3.35%",
                        "_down 2.89%"
                      ],
                      [
                        ", 78.21%",
                        ". 5.53%",
                        "_toget… 3.86%",
                        "\\n 3.43%",
                        "_to 1.27%",
                        "_into 1.18%",
                        "_in 0.87%",
                        "_back 0.35%",
                        "_and 0.28%",
                        "_away 0.24%"
                      ]
                    ],
                    [
                      [
                        "One 43.79%",
                        "And 11.39%",
                        "Two 4.17%",
                        "The 4.16%",
                        "\\n 3.99%",
                        "A 1.99%",
                        "But 1.41%",
                        "Another 1.01%",
                        "one 0.88%",
                        "and 0.86%"
                      ],
                      [
                        "_Model 55.39%",
                        "_model 6.82%",
                        "_to 2.24%",
                        "_Machi… 0.40%",
                        "_Method 0.38%",
                        "_M 0.35%",
                        "_or 0.29%",
                        "_and 0.26%",
                        ", 0.26%",
                        "_Table 0.24%"
                      ],
                      [
                        "_to 92.06%",
                        "_for 1.16%",
                        ", 0.54%",
                        "_that 0.46%",
                        "_is 0.30%",
                        "_in 0.27%",
                        "_and 0.25%",
                        "_of 0.22%",
                        "_from 0.18%",
                        "_with 0.18%"
                      ],
                      [
                        "_find 8.36%",
                        "_make 4.83%",
                        "_rule 2.46%",
                        "_solve 2.16%",
                        "_predi… 1.73%",
                        "_get 1.36%",
                        "_set 1.34%",
                        "_tell 1.29%",
                        "_choose 1.20%",
                        "_create 1.04%"
                      ],
                      [
                        "_them 61.21%",
                        "_to 3.29%",
                        "_back 3.12%",
                        "_in 2.79%",
                        "_the 2.34%",
                        "_it 1.97%",
                        "_toget… 1.94%",
                        "_all 1.73%",
                        "\\n 1.38%",
                        "_up 1.33%"
                      ],
                      [
                        "_toget… 34.96%",
                        "_all 24.80%",
                        "_to 11.26%",
                        ", 6.54%",
                        "_back 3.90%",
                        "_in 2.78%",
                        "_into 2.20%",
                        "_home 1.59%",
                        "\\n 1.50%",
                        "_out 1.36%"
                      ],
                      [
                        ", 38.30%",
                        "_toget… 27.17%",
                        ". 7.32%",
                        "\\n 6.72%",
                        "_to 4.26%",
                        "_back 2.83%",
                        "_in 1.46%",
                        "_into 1.25%",
                        "... 0.79%",
                        "_down 0.77%"
                      ]
                    ]
                  ],
                  "hoverlabel": {
                    "bgcolor": "rgb(42, 42, 50)"
                  },
                  "hovertemplate": " %{customdata[0]}<br> %{customdata[1]}<br> %{customdata[2]}<br> %{customdata[3]}<br> %{customdata[4]}<br> %{customdata[5]}<br> %{customdata[6]}<br> %{customdata[7]}<br> %{customdata[8]}<br> %{customdata[9]}<extra></extra>",
                  "text": [
                    [
                      "\\n",
                      "_of",
                      ".",
                      "_the",
                      "_the",
                      ".",
                      "_the"
                    ],
                    [
                      "\\n",
                      "_of",
                      "_is",
                      "_the",
                      "_the",
                      ",",
                      "_of"
                    ],
                    [
                      "\\n",
                      ",",
                      "_is",
                      "_be",
                      "_the",
                      "_to",
                      "."
                    ],
                    [
                      "\\n",
                      ".",
                      "_is",
                      "_be",
                      "_the",
                      "_to",
                      "."
                    ],
                    [
                      "\\n",
                      ",",
                      ",",
                      "_do",
                      "_your",
                      "_to",
                      "_to"
                    ],
                    [
                      "\\n",
                      "_I",
                      "_to",
                      "_do",
                      "_your",
                      "_to",
                      ","
                    ],
                    [
                      "\\n",
                      ",",
                      "_to",
                      "_find",
                      "_them",
                      ",",
                      ","
                    ],
                    [
                      "And",
                      "_Model",
                      "_to",
                      "_change",
                      "_them",
                      ",",
                      ","
                    ],
                    [
                      "And",
                      "_Me",
                      "_to",
                      "_find",
                      "_them",
                      ",",
                      ","
                    ],
                    [
                      "One",
                      "_Model",
                      "_to",
                      "_find",
                      "_them",
                      ",",
                      ","
                    ],
                    [
                      "One",
                      "_Model",
                      "_to",
                      "_make",
                      "_them",
                      "_toget…",
                      ","
                    ],
                    [
                      "One",
                      "_Model",
                      "_to",
                      "_rule",
                      "_them",
                      "_toget…",
                      ","
                    ],
                    [
                      "One",
                      "_Model",
                      "_to",
                      "_find",
                      "_them",
                      "_toget…",
                      ","
                    ]
                  ],
                  "textfont": {
                    "size": 10
                  },
                  "texttemplate": "<b>%{text}</b>",
                  "type": "heatmap",
                  "x": [
                    "\\n",
                    "One‌",
                    "_Model‌‌",
                    "_to‌‌‌",
                    "_bring‌‌‌‌",
                    "_them‌‌‌‌‌",
                    "_all‌‌‌‌‌‌"
                  ],
                  "xaxis": "x",
                  "y": [
                    "input",
                    "1",
                    "2",
                    "3",
                    "4",
                    "5",
                    "6",
                    "7",
                    "8",
                    "9",
                    "10",
                    "11",
                    "output"
                  ],
                  "yaxis": "y",
                  "z": [
                    [
                      5.3817949295043945,
                      6.577738285064697,
                      7.069157600402832,
                      6.952099800109863,
                      5.174382209777832,
                      5.291956424713135,
                      6.694458961486816
                    ],
                    [
                      5.90451192855835,
                      6.206836700439453,
                      6.493682861328125,
                      7.433161735534668,
                      4.838805675506592,
                      5.224989891052246,
                      6.352878093719482
                    ],
                    [
                      6.720789909362793,
                      6.722305774688721,
                      6.936312675476074,
                      6.983242511749268,
                      5.210439205169678,
                      5.958898544311523,
                      5.857943534851074
                    ],
                    [
                      6.507130146026611,
                      6.914692401885986,
                      6.962234020233154,
                      6.427709579467773,
                      4.7669758796691895,
                      5.619174957275391,
                      4.635258197784424
                    ],
                    [
                      6.8339691162109375,
                      7.0479817390441895,
                      7.103831768035889,
                      7.041841506958008,
                      4.37801456451416,
                      4.010142803192139,
                      4.3125152587890625
                    ],
                    [
                      6.999456405639648,
                      7.964088439941406,
                      6.280807018280029,
                      7.1071248054504395,
                      4.021090984344482,
                      3.9327495098114014,
                      3.0525028705596924
                    ],
                    [
                      6.600468158721924,
                      7.953114986419678,
                      4.436149597167969,
                      6.222034931182861,
                      3.547553539276123,
                      3.679776191711426,
                      1.526060700416565
                    ],
                    [
                      5.819382667541504,
                      6.559897422790527,
                      2.625187397003174,
                      6.133111953735352,
                      3.7149479389190674,
                      4.120064735412598,
                      1.2737469673156738
                    ],
                    [
                      4.4563140869140625,
                      6.487238883972168,
                      0.19403548538684845,
                      5.332726001739502,
                      3.46075177192688,
                      3.8835532665252686,
                      1.435306191444397
                    ],
                    [
                      3.8905184268951416,
                      2.4551517963409424,
                      0.04386111721396446,
                      5.285507678985596,
                      1.3553000688552856,
                      3.3106555938720703,
                      1.3086614608764648
                    ],
                    [
                      1.7625906467437744,
                      0.770144522190094,
                      0.11461707949638367,
                      5.522767543792725,
                      1.0175989866256714,
                      3.0351662635803223,
                      1.1780802011489868
                    ],
                    [
                      2.7851691246032715,
                      1.085646152496338,
                      0.22397054731845856,
                      5.324727535247803,
                      0.6304239630699158,
                      2.807687520980835,
                      1.2092176675796509
                    ],
                    [
                      3.160874128341675,
                      3.7123613357543945,
                      0.7134747505187988,
                      5.954351425170898,
                      2.378002405166626,
                      2.266995429992676,
                      2.200385093688965
                    ]
                  ]
                },
                {
                  "colorbar": {
                    "len": 0.3,
                    "title": {
                      "side": "right",
                      "text": "Forward KL (nats)"
                    },
                    "y": 0.5
                  },
                  "colorscale": [
                    [
                      0,
                      "rgb(5,48,97)"
                    ],
                    [
                      0.1,
                      "rgb(33,102,172)"
                    ],
                    [
                      0.2,
                      "rgb(67,147,195)"
                    ],
                    [
                      0.3,
                      "rgb(146,197,222)"
                    ],
                    [
                      0.4,
                      "rgb(209,229,240)"
                    ],
                    [
                      0.5,
                      "rgb(247,247,247)"
                    ],
                    [
                      0.6,
                      "rgb(253,219,199)"
                    ],
                    [
                      0.7,
                      "rgb(244,165,130)"
                    ],
                    [
                      0.8,
                      "rgb(214,96,77)"
                    ],
                    [
                      0.9,
                      "rgb(178,24,43)"
                    ],
                    [
                      1,
                      "rgb(103,0,31)"
                    ]
                  ],
                  "customdata": [
                    [
                      [
                        "\\n 28.53%",
                        "     3.49%",
                        "   2.47%",
                        "The 2.41%",
                        "      … 2.05%",
                        "ĉ 1.56%",
                        "\" 1.26%",
                        "< 1.07%",
                        "I 0.96%",
                        "      … 0.94%"
                      ],
                      [
                        "_of 20.74%",
                        ", 4.49%",
                        "- 2.42%",
                        "_is 2.37%",
                        ". 1.81%",
                        ": 0.88%",
                        "_in 0.79%",
                        "_if 0.74%",
                        "_ 0.62%",
                        "_and 0.59%"
                      ],
                      [
                        ". 7.37%",
                        "_( 4.74%",
                        ", 2.98%",
                        "\\n 2.41%",
                        "_of 1.80%",
                        "_is 1.64%",
                        "- 1.50%",
                        "_and 1.44%",
                        "/ 1.35%",
                        ": 1.28%"
                      ],
                      [
                        "_the 11.82%",
                        "_be 4.88%",
                        "_a 2.51%",
                        "_get 1.26%",
                        "_make 1.23%",
                        "_do 1.09%",
                        "_take 1.00%",
                        "_have 0.93%",
                        "_find 0.64%",
                        "_an 0.64%"
                      ],
                      [
                        "_the 12.86%",
                        "_up 6.93%",
                        "_a 6.56%",
                        "_to 3.93%",
                        "_him 2.91%",
                        "_it 2.87%",
                        "_me 2.81%",
                        "_out 2.58%",
                        "_his 2.54%",
                        "_my 2.03%"
                      ],
                      [
                        ". 12.73%",
                        "_to 8.74%",
                        ", 7.80%",
                        "_in 4.94%",
                        "_and 2.24%",
                        ".\" 1.92%",
                        "_with 1.65%",
                        "_were 1.48%",
                        "_into 1.35%",
                        "_are 1.26%"
                      ],
                      [
                        "_the 11.10%",
                        "_of 5.52%",
                        ", 3.39%",
                        ". 2.31%",
                        "_other 1.79%",
                        "_a 1.68%",
                        "_that 1.40%",
                        "- 1.35%",
                        "\\n 1.23%",
                        "_people 1.20%"
                      ]
                    ],
                    [
                      [
                        "\\n 25.96%",
                        "Catego… 2.07%",
                        "the 1.75%",
                        "   1.48%",
                        "< 1.42%",
                        "     1.40%",
                        "in 1.31%",
                        "and 1.21%",
                        "- 0.87%",
                        "      … 0.70%"
                      ],
                      [
                        "_of 13.72%",
                        "_is 5.59%",
                        "_can 4.52%",
                        ", 3.52%",
                        "- 3.48%",
                        ". 2.59%",
                        "_has 1.90%",
                        "'s 1.68%",
                        "_anoth… 1.03%",
                        "_or 1.02%"
                      ],
                      [
                        "_is 12.14%",
                        "\\n 6.03%",
                        "_of 3.36%",
                        ": 3.26%",
                        ". 2.91%",
                        ", 2.15%",
                        "âĢĻ 1.44%",
                        "_= 1.16%",
                        "_( 1.00%",
                        "_that 0.90%"
                      ],
                      [
                        "_the 8.33%",
                        "\\n 2.60%",
                        "_be 2.47%",
                        "_a 1.90%",
                        "_get 1.19%",
                        "_do 1.12%",
                        "_have 0.96%",
                        "_make 0.92%",
                        "_use 0.80%",
                        "_this 0.59%"
                      ],
                      [
                        "_the 11.52%",
                        "_a 10.82%",
                        "_it 5.45%",
                        "_your 4.02%",
                        "_about 3.53%",
                        "_up 3.05%",
                        "_this 2.92%",
                        "_to 2.88%",
                        "_you 2.73%",
                        "_me 2.73%"
                      ],
                      [
                        ", 10.26%",
                        ". 9.57%",
                        "_to 7.91%",
                        "_in 3.91%",
                        "\\n 3.08%",
                        "_and 2.12%",
                        "_all 2.03%",
                        "_as 2.01%",
                        "_with 1.99%",
                        "_a 1.75%"
                      ],
                      [
                        "_of 5.96%",
                        "_the 4.96%",
                        "_right 2.94%",
                        "_things 2.64%",
                        ". 2.22%",
                        ", 1.99%",
                        "\\n 1.79%",
                        "_that 1.56%",
                        "?\" 1.48%",
                        "_you 1.43%"
                      ]
                    ],
                    [
                      [
                        "\\n 12.58%",
                        "   2.06%",
                        "the 1.62%",
                        "in 1.57%",
                        "and 1.53%",
                        "( 1.52%",
                        "to 1.35%",
                        "a 1.31%",
                        "     1.18%",
                        "is 1.12%"
                      ],
                      [
                        ", 8.59%",
                        "_of 6.54%",
                        "- 3.83%",
                        "_is 3.44%",
                        "\\n 3.31%",
                        ". 3.16%",
                        "_can 1.71%",
                        "_or 1.46%",
                        "_I 1.42%",
                        "'s 0.90%"
                      ],
                      [
                        "_is 8.40%",
                        "\\n 4.43%",
                        ". 3.48%",
                        ", 3.43%",
                        "_of 2.39%",
                        ": 1.77%",
                        "- 1.31%",
                        "_was 1.20%",
                        "âĢĻ 1.10%",
                        "_- 0.81%"
                      ],
                      [
                        "_be 6.25%",
                        "_the 4.01%",
                        "_get 2.98%",
                        "_make 1.72%",
                        "\\n 1.70%",
                        "_have 1.54%",
                        "_create 1.48%",
                        "_find 1.08%",
                        "_a 1.07%",
                        "_do 0.98%"
                      ],
                      [
                        "_the 11.47%",
                        "_a 6.79%",
                        "_it 6.07%",
                        "_to 4.47%",
                        "_about 4.08%",
                        "_your 3.74%",
                        "_you 3.53%",
                        "_up 3.30%",
                        "_this 2.82%",
                        "_that 2.00%"
                      ],
                      [
                        "_to 7.72%",
                        ". 6.41%",
                        ", 5.16%",
                        "_in 3.13%",
                        "\\n 3.02%",
                        "_with 2.76%",
                        "_a 2.05%",
                        "_are 2.01%",
                        "_as 1.89%",
                        "_all 1.83%"
                      ],
                      [
                        ". 8.84%",
                        "\\n 7.69%",
                        ", 4.61%",
                        "_the 3.82%",
                        "_that 3.43%",
                        "_right 2.75%",
                        "_of 2.66%",
                        "_to 2.17%",
                        ".\" 2.16%",
                        "_in 1.95%"
                      ]
                    ],
                    [
                      [
                        "\\n 18.12%",
                        "and 1.78%",
                        "but 1.34%",
                        "( 1.30%",
                        "\" 1.16%",
                        "for 1.13%",
                        "   0.89%",
                        "a 0.86%",
                        "the 0.85%",
                        "with 0.78%"
                      ],
                      [
                        ". 6.25%",
                        "- 5.80%",
                        "_of 4.88%",
                        "\\n 4.37%",
                        ", 3.84%",
                        "_day 1.40%",
                        "_thing 1.18%",
                        "_hour 1.11%",
                        "_is 0.92%",
                        "_or 0.90%"
                      ],
                      [
                        "_is 5.80%",
                        "\\n 4.89%",
                        ", 4.08%",
                        ". 3.96%",
                        "_of 2.52%",
                        ": 2.04%",
                        "- 0.91%",
                        "_Descr… 0.88%",
                        "_( 0.87%",
                        "_ 0.82%"
                      ],
                      [
                        "_be 13.87%",
                        "_the 4.27%",
                        "_get 2.65%",
                        "_do 2.27%",
                        "_have 2.13%",
                        "_make 1.79%",
                        "_create 1.71%",
                        "\\n 1.21%",
                        "_find 1.16%",
                        "_use 1.08%"
                      ],
                      [
                        "_the 9.50%",
                        "_a 8.79%",
                        "_your 7.12%",
                        "_up 6.10%",
                        "_it 5.37%",
                        "_you 4.79%",
                        "_back 3.93%",
                        "_this 2.91%",
                        "_them 2.41%",
                        "_to 2.40%"
                      ],
                      [
                        "_to 12.98%",
                        ". 5.37%",
                        "\\n 4.69%",
                        ", 3.85%",
                        "_into 3.60%",
                        "_in 3.28%",
                        "_out 3.15%",
                        "_up 2.38%",
                        "_with 1.89%",
                        "_down 1.87%"
                      ],
                      [
                        ". 15.58%",
                        "_to 6.03%",
                        "_the 5.08%",
                        "\\n 5.04%",
                        ", 4.65%",
                        "_of 4.08%",
                        ".\" 3.76%",
                        "_right 3.69%",
                        "_into 3.09%",
                        "_in 1.97%"
                      ]
                    ],
                    [
                      [
                        "\\n 11.45%",
                        "and 4.35%",
                        "I 2.07%",
                        "( 1.16%",
                        "with 1.15%",
                        "And 1.14%",
                        "\" 1.10%",
                        "   1.07%",
                        "in 0.79%",
                        "is 0.78%"
                      ],
                      [
                        ", 6.84%",
                        ". 6.36%",
                        "_of 4.42%",
                        "- 4.32%",
                        "\\n 2.33%",
                        "_or 1.11%",
                        "'s 1.09%",
                        "_thing 1.03%",
                        ": 0.93%",
                        "_ 0.82%"
                      ],
                      [
                        ", 4.56%",
                        ". 3.89%",
                        "_is 3.46%",
                        ": 2.72%",
                        "\\n 1.92%",
                        "_of 1.76%",
                        "_and 1.45%",
                        "_for 1.41%",
                        "ed 1.01%",
                        "_Descr… 0.90%"
                      ],
                      [
                        "_do 4.62%",
                        "\\n 4.27%",
                        "_date 3.57%",
                        "_be 3.55%",
                        "_the 3.37%",
                        "_get 1.40%",
                        "_go 1.05%",
                        "_have 0.94%",
                        "_which 0.82%",
                        "_make 0.74%"
                      ],
                      [
                        "_your 12.01%",
                        "_the 10.82%",
                        "_up 7.28%",
                        "_a 6.74%",
                        "_you 5.79%",
                        "_back 5.65%",
                        "_it 4.47%",
                        "_them 3.89%",
                        "_out 2.49%",
                        "_this 1.90%"
                      ],
                      [
                        "_to 28.30%",
                        "_into 11.34%",
                        "_out 5.12%",
                        "_up 4.40%",
                        "_in 3.71%",
                        "_from 2.66%",
                        "_toget… 2.51%",
                        ", 2.40%",
                        ". 2.25%",
                        "_with 2.06%"
                      ],
                      [
                        "_to 13.81%",
                        "_the 6.68%",
                        "_toget… 6.56%",
                        "_of 6.33%",
                        ", 5.00%",
                        ". 4.73%",
                        "_in 3.66%",
                        "_from 3.27%",
                        "_over 2.94%",
                        "\\n 2.35%"
                      ]
                    ],
                    [
                      [
                        "\\n 9.04%",
                        "I 2.90%",
                        "You 1.67%",
                        "and 1.53%",
                        "\" 1.42%",
                        "And 1.38%",
                        "The 1.28%",
                        "But 1.22%",
                        "Be 0.98%",
                        "Who 0.87%"
                      ],
                      [
                        "_I 2.20%",
                        "_day 2.10%",
                        "_thing 2.07%",
                        "_person 1.50%",
                        "\\n 1.06%",
                        "_Person 0.91%",
                        "_of 0.91%",
                        "_night 0.74%",
                        "_is 0.72%",
                        ", 0.63%"
                      ],
                      [
                        "_to 5.33%",
                        "_is 5.31%",
                        "_for 4.59%",
                        ", 3.79%",
                        "_of 3.77%",
                        "_in 3.04%",
                        "\\n 2.73%",
                        "_and 2.36%",
                        ". 2.12%",
                        "_every 1.06%"
                      ],
                      [
                        "_do 2.69%",
                        "_be 2.14%",
                        "_the 1.93%",
                        "_read 1.68%",
                        "_get 1.55%",
                        "_select 1.05%",
                        "_say 1.05%",
                        "_date 1.02%",
                        "_choose 1.01%",
                        "_remove 0.96%"
                      ],
                      [
                        "_your 20.80%",
                        "_you 11.08%",
                        "_the 8.45%",
                        "_it 5.88%",
                        "_up 5.86%",
                        "_them 5.61%",
                        "_a 3.92%",
                        "_back 2.08%",
                        "_in 1.41%",
                        "_me 1.38%"
                      ],
                      [
                        "_to 17.70%",
                        ", 16.28%",
                        "\\n 6.66%",
                        ". 6.38%",
                        "_into 5.13%",
                        "_in 3.28%",
                        "_out 2.50%",
                        "? 2.03%",
                        "_and 1.98%",
                        "?\" 1.94%"
                      ],
                      [
                        ", 40.22%",
                        ". 9.76%",
                        "_of 6.60%",
                        "_to 5.34%",
                        "_in 3.45%",
                        ".\" 2.13%",
                        "_into 1.94%",
                        "_the 1.93%",
                        "_toget… 1.59%",
                        "_for 1.26%"
                      ]
                    ],
                    [
                      [
                        "\\n 12.61%",
                        "The 2.63%",
                        "I 2.24%",
                        "\" 1.93%",
                        "And 1.81%",
                        "You 1.31%",
                        "But 1.22%",
                        "and 0.97%",
                        "S 0.82%",
                        "( 0.80%"
                      ],
                      [
                        ", 1.75%",
                        ". 1.43%",
                        "_I 1.18%",
                        "\\n 1.11%",
                        "_thing 1.08%",
                        "_day 1.01%",
                        "_of 0.76%",
                        "_B 0.76%",
                        "_and 0.57%",
                        "_must 0.54%"
                      ],
                      [
                        "_to 28.00%",
                        "_for 8.08%",
                        "_in 4.52%",
                        "_and 4.38%",
                        "_is 3.90%",
                        "_of 3.37%",
                        ", 3.14%",
                        ". 2.43%",
                        "_on 1.34%",
                        "-- 1.11%"
                      ],
                      [
                        "_find 4.74%",
                        "_get 2.39%",
                        "_regis… 2.28%",
                        "_do 2.22%",
                        "_deter… 2.07%",
                        "_make 1.87%",
                        "_keep 1.78%",
                        "_remove 1.60%",
                        "_change 1.42%",
                        "_go 1.33%"
                      ],
                      [
                        "_them 26.14%",
                        "_your 11.33%",
                        "_you 10.77%",
                        "_him 5.74%",
                        "_it 5.43%",
                        "_the 3.41%",
                        "_back 3.10%",
                        "_toget… 2.73%",
                        "_up 2.55%",
                        "_in 1.44%"
                      ],
                      [
                        ", 29.01%",
                        "_to 9.05%",
                        "\\n 6.24%",
                        ". 6.13%",
                        "_in 4.34%",
                        "_out 3.55%",
                        "_into 3.31%",
                        "_up 3.03%",
                        "_all 2.36%",
                        "_with 2.02%"
                      ],
                      [
                        ", 73.05%",
                        ". 9.94%",
                        "_toget… 1.59%",
                        ".\" 1.56%",
                        "_in 1.04%",
                        "_and 0.69%",
                        ",\" 0.59%",
                        "... 0.56%",
                        "_to 0.54%",
                        "\\n 0.53%"
                      ]
                    ],
                    [
                      [
                        "And 15.00%",
                        "The 4.35%",
                        "\\n 3.62%",
                        "I 3.31%",
                        "But 2.59%",
                        "One 1.99%",
                        "and 1.77%",
                        "[ 1.44%",
                        "You 1.10%",
                        "With 1.08%"
                      ],
                      [
                        "_Model 14.82%",
                        "_Machi… 4.07%",
                        "_Method 3.91%",
                        "_Measu… 1.36%",
                        "_Me 1.02%",
                        "_M 1.01%",
                        "_Match 0.96%",
                        "_model 0.82%",
                        "_Comma… 0.81%",
                        "_Mod 0.75%"
                      ],
                      [
                        "_to 64.02%",
                        "-- 3.10%",
                        "_and 2.21%",
                        "_for 2.08%",
                        ", 1.81%",
                        "_in 1.37%",
                        "_is 1.25%",
                        "_that 1.22%",
                        "\\n 0.85%",
                        "_of 0.81%"
                      ],
                      [
                        "_change 6.64%",
                        "_find 2.72%",
                        "_make 2.49%",
                        "_keep 2.48%",
                        "_regis… 1.59%",
                        "_get 1.49%",
                        "_do 1.31%",
                        "_give 1.30%",
                        "_rule 1.26%",
                        "_run 1.25%"
                      ],
                      [
                        "_them 31.96%",
                        "_you 10.08%",
                        "_back 5.21%",
                        "_it 4.87%",
                        "_toget… 4.36%",
                        "_up 3.18%",
                        "_your 2.04%",
                        "_and 1.83%",
                        "_all 1.82%",
                        "_in 1.80%"
                      ],
                      [
                        ", 14.47%",
                        "_all 11.71%",
                        "\\n 8.89%",
                        "_to 7.17%",
                        ". 5.77%",
                        "_up 4.73%",
                        "_toget… 4.48%",
                        "_into 3.47%",
                        "_out 3.29%",
                        "_in 2.34%"
                      ],
                      [
                        ", 78.38%",
                        ". 8.21%",
                        "_toget… 2.78%",
                        "\\n 0.91%",
                        ".\" 0.88%",
                        "; 0.57%",
                        "_in 0.51%",
                        "_again 0.41%",
                        "_but 0.36%",
                        "_into 0.34%"
                      ]
                    ],
                    [
                      [
                        "And 25.52%",
                        "One 10.10%",
                        "But 5.63%",
                        "The 5.20%",
                        "Two 2.22%",
                        "I 1.70%",
                        "and 1.52%",
                        "Then 1.23%",
                        "You 1.22%",
                        "That 1.03%"
                      ],
                      [
                        "_Me 3.81%",
                        "_Model 3.56%",
                        "_Time 2.91%",
                        "_Machi… 2.76%",
                        "_Measu… 2.30%",
                        "_M 2.02%",
                        "_Side 1.75%",
                        "_Method 1.66%",
                        "_Master 1.18%",
                        "_Voice 1.16%"
                      ],
                      [
                        "_to 98.11%",
                        "_for 0.40%",
                        "_that 0.10%",
                        "_and 0.09%",
                        "_in 0.08%",
                        "_of 0.05%",
                        "_from 0.03%",
                        "_To 0.03%",
                        "_with 0.03%",
                        ", 0.03%"
                      ],
                      [
                        "_find 9.35%",
                        "_make 6.32%",
                        "_kill 3.73%",
                        "_keep 3.23%",
                        "_deter… 2.39%",
                        "_save 2.38%",
                        "_decide 1.89%",
                        "_give 1.68%",
                        "_rule 1.60%",
                        "_get 1.47%"
                      ],
                      [
                        "_them 36.08%",
                        "_toget… 9.04%",
                        "_it 8.79%",
                        "_in 3.40%",
                        "_you 3.11%",
                        "_to 2.92%",
                        "_him 2.57%",
                        ", 2.19%",
                        "_up 2.07%",
                        "_the 1.95%"
                      ],
                      [
                        ", 17.67%",
                        "_to 16.51%",
                        "_all 8.97%",
                        ". 5.42%",
                        "_in 3.89%",
                        "_toget… 3.87%",
                        "_up 2.71%",
                        "_into 2.63%",
                        "_out 2.29%",
                        "\\n 2.22%"
                      ],
                      [
                        ", 75.15%",
                        ". 10.34%",
                        "\\n 1.63%",
                        ".\" 1.24%",
                        "_toget… 1.01%",
                        "_and 0.64%",
                        "_to 0.54%",
                        "? 0.48%",
                        "_in 0.43%",
                        "_again 0.41%"
                      ]
                    ],
                    [
                      [
                        "One 36.06%",
                        "And 8.37%",
                        "The 5.45%",
                        "Two 4.05%",
                        "But 3.72%",
                        "_One 2.48%",
                        "one 1.39%",
                        "Another 1.33%",
                        "\\n 1.17%",
                        "I 0.81%"
                      ],
                      [
                        "_Model 72.15%",
                        "_Machi… 1.91%",
                        "_model 0.87%",
                        "_Method 0.53%",
                        "_M 0.52%",
                        "_Time 0.41%",
                        "_Descr… 0.41%",
                        "_Master 0.31%",
                        "_to 0.27%",
                        "_Mod 0.25%"
                      ],
                      [
                        "_to 99.64%",
                        "_for 0.06%",
                        "_and 0.02%",
                        "_in 0.02%",
                        "_To 0.02%",
                        "_that 0.01%",
                        "_of 0.01%",
                        ", 0.01%",
                        "_from 0.01%",
                        "_TO 0.01%"
                      ],
                      [
                        "_find 10.02%",
                        "_make 9.54%",
                        "_rule 4.89%",
                        "_place 1.61%",
                        "_change 1.53%",
                        "_keep 1.44%",
                        "_get 1.35%",
                        "_fix 1.33%",
                        "_decide 1.29%",
                        "_solve 1.27%"
                      ],
                      [
                        "_them 78.49%",
                        "_it 6.22%",
                        "\\n 1.20%",
                        "_toget… 1.18%",
                        ", 1.14%",
                        "_the 0.86%",
                        "_all 0.80%",
                        "_in 0.76%",
                        "_back 0.66%",
                        "_to 0.58%"
                      ],
                      [
                        ", 30.90%",
                        "_all 11.78%",
                        "_toget… 7.88%",
                        "_to 6.94%",
                        "\\n 6.36%",
                        "_in 3.00%",
                        ". 2.77%",
                        "_out 2.43%",
                        "_into 2.18%",
                        "_up 2.02%"
                      ],
                      [
                        ", 79.26%",
                        ". 4.58%",
                        "\\n 3.90%",
                        "_toget… 1.91%",
                        "_to 0.79%",
                        ".\" 0.70%",
                        "_in 0.56%",
                        "_and 0.39%",
                        "_into 0.37%",
                        "; 0.30%"
                      ]
                    ],
                    [
                      [
                        "One 72.37%",
                        "_One 4.00%",
                        "Two 2.97%",
                        "And 2.78%",
                        "The 2.35%",
                        "one 2.19%",
                        "\\n 0.73%",
                        "Another 0.58%",
                        "But 0.51%",
                        "_Two 0.37%"
                      ],
                      [
                        "_Model 91.13%",
                        "_model 2.69%",
                        "_Machi… 0.33%",
                        "_to 0.31%",
                        "_Models 0.29%",
                        "Model 0.17%",
                        "_M 0.06%",
                        "_Mod 0.06%",
                        "_Mechan 0.05%",
                        "_and 0.05%"
                      ],
                      [
                        "_to 98.88%",
                        "_for 0.27%",
                        "_in 0.08%",
                        "_and 0.07%",
                        "_that 0.05%",
                        ", 0.04%",
                        "_of 0.03%",
                        "_with 0.03%",
                        "_from 0.03%",
                        "_on 0.02%"
                      ],
                      [
                        "_make 7.49%",
                        "_find 6.99%",
                        "_rule 4.44%",
                        "_solve 2.47%",
                        "_fix 2.43%",
                        "_keep 2.06%",
                        "_hold 1.71%",
                        "_run 1.67%",
                        "_change 1.53%",
                        "_save 1.36%"
                      ],
                      [
                        "_them 85.32%",
                        "_it 2.46%",
                        "_the 0.86%",
                        "_in 0.86%",
                        "_their 0.85%",
                        "_all 0.77%",
                        "_him 0.75%",
                        ", 0.71%",
                        "_toget… 0.66%",
                        "_home 0.53%"
                      ],
                      [
                        "_toget… 22.67%",
                        ", 21.73%",
                        "_all 8.48%",
                        "\\n 6.53%",
                        "_up 5.32%",
                        "_in 4.70%",
                        "_to 4.63%",
                        "_out 2.78%",
                        ". 2.26%",
                        "_back 2.19%"
                      ],
                      [
                        ", 77.19%",
                        "\\n 10.43%",
                        ". 2.92%",
                        "_toget… 1.94%",
                        ".\" 0.80%",
                        "_in 0.55%",
                        "_to 0.52%",
                        ",\" 0.38%",
                        "? 0.24%",
                        "_and 0.21%"
                      ]
                    ],
                    [
                      [
                        "One 57.26%",
                        "And 5.69%",
                        "The 3.80%",
                        "Two 3.07%",
                        "\\n 3.02%",
                        "_One 1.11%",
                        "one 0.91%",
                        "But 0.80%",
                        "A 0.73%",
                        "Another 0.66%"
                      ],
                      [
                        "_Model 86.34%",
                        "_model 4.88%",
                        "_Machi… 0.55%",
                        "_to 0.37%",
                        "_Mechan 0.15%",
                        "_and 0.14%",
                        ", 0.13%",
                        "Model 0.12%",
                        "_Models 0.11%",
                        "_Contr… 0.10%"
                      ],
                      [
                        "_to 97.70%",
                        "_for 0.41%",
                        ", 0.16%",
                        "_in 0.14%",
                        "_and 0.13%",
                        "_that 0.09%",
                        "_of 0.08%",
                        "_from 0.07%",
                        "_is 0.06%",
                        "_with 0.06%"
                      ],
                      [
                        "_rule 9.46%",
                        "_find 7.83%",
                        "_make 6.82%",
                        "_build 2.54%",
                        "_solve 2.47%",
                        "_save 1.75%",
                        "_fix 1.72%",
                        "_create 1.44%",
                        "_guess 1.26%",
                        "_keep 1.03%"
                      ],
                      [
                        "_them 91.60%",
                        "_their 1.02%",
                        "_it 0.88%",
                        "_back 0.65%",
                        "_toget… 0.61%",
                        "_the 0.46%",
                        "_to 0.38%",
                        "_in 0.37%",
                        "_all 0.36%",
                        "_up 0.21%"
                      ],
                      [
                        "_toget… 28.24%",
                        "_into 12.88%",
                        "_to 10.28%",
                        "_back 6.89%",
                        "_out 5.87%",
                        ", 5.51%",
                        "_in 4.95%",
                        "_all 4.20%",
                        "_up 3.35%",
                        "_down 2.89%"
                      ],
                      [
                        ", 78.21%",
                        ". 5.53%",
                        "_toget… 3.86%",
                        "\\n 3.43%",
                        "_to 1.27%",
                        "_into 1.18%",
                        "_in 0.87%",
                        "_back 0.35%",
                        "_and 0.28%",
                        "_away 0.24%"
                      ]
                    ],
                    [
                      [
                        "One 43.79%",
                        "And 11.39%",
                        "Two 4.17%",
                        "The 4.16%",
                        "\\n 3.99%",
                        "A 1.99%",
                        "But 1.41%",
                        "Another 1.01%",
                        "one 0.88%",
                        "and 0.86%"
                      ],
                      [
                        "_Model 55.39%",
                        "_model 6.82%",
                        "_to 2.24%",
                        "_Machi… 0.40%",
                        "_Method 0.38%",
                        "_M 0.35%",
                        "_or 0.29%",
                        "_and 0.26%",
                        ", 0.26%",
                        "_Table 0.24%"
                      ],
                      [
                        "_to 92.06%",
                        "_for 1.16%",
                        ", 0.54%",
                        "_that 0.46%",
                        "_is 0.30%",
                        "_in 0.27%",
                        "_and 0.25%",
                        "_of 0.22%",
                        "_from 0.18%",
                        "_with 0.18%"
                      ],
                      [
                        "_find 8.36%",
                        "_make 4.83%",
                        "_rule 2.46%",
                        "_solve 2.16%",
                        "_predi… 1.73%",
                        "_get 1.36%",
                        "_set 1.34%",
                        "_tell 1.29%",
                        "_choose 1.20%",
                        "_create 1.04%"
                      ],
                      [
                        "_them 61.21%",
                        "_to 3.29%",
                        "_back 3.12%",
                        "_in 2.79%",
                        "_the 2.34%",
                        "_it 1.97%",
                        "_toget… 1.94%",
                        "_all 1.73%",
                        "\\n 1.38%",
                        "_up 1.33%"
                      ],
                      [
                        "_toget… 34.96%",
                        "_all 24.80%",
                        "_to 11.26%",
                        ", 6.54%",
                        "_back 3.90%",
                        "_in 2.78%",
                        "_into 2.20%",
                        "_home 1.59%",
                        "\\n 1.50%",
                        "_out 1.36%"
                      ],
                      [
                        ", 38.30%",
                        "_toget… 27.17%",
                        ". 7.32%",
                        "\\n 6.72%",
                        "_to 4.26%",
                        "_back 2.83%",
                        "_in 1.46%",
                        "_into 1.25%",
                        "... 0.79%",
                        "_down 0.77%"
                      ]
                    ]
                  ],
                  "hoverlabel": {
                    "bgcolor": "rgb(42, 42, 50)"
                  },
                  "hovertemplate": " %{customdata[0]}<br> %{customdata[1]}<br> %{customdata[2]}<br> %{customdata[3]}<br> %{customdata[4]}<br> %{customdata[5]}<br> %{customdata[6]}<br> %{customdata[7]}<br> %{customdata[8]}<br> %{customdata[9]}<extra></extra>",
                  "text": [
                    [
                      "\\n",
                      "_of",
                      ".",
                      "_the",
                      "_the",
                      ".",
                      "_the"
                    ],
                    [
                      "\\n",
                      "_of",
                      "_is",
                      "_the",
                      "_the",
                      ",",
                      "_of"
                    ],
                    [
                      "\\n",
                      ",",
                      "_is",
                      "_be",
                      "_the",
                      "_to",
                      "."
                    ],
                    [
                      "\\n",
                      ".",
                      "_is",
                      "_be",
                      "_the",
                      "_to",
                      "."
                    ],
                    [
                      "\\n",
                      ",",
                      ",",
                      "_do",
                      "_your",
                      "_to",
                      "_to"
                    ],
                    [
                      "\\n",
                      "_I",
                      "_to",
                      "_do",
                      "_your",
                      "_to",
                      ","
                    ],
                    [
                      "\\n",
                      ",",
                      "_to",
                      "_find",
                      "_them",
                      ",",
                      ","
                    ],
                    [
                      "And",
                      "_Model",
                      "_to",
                      "_change",
                      "_them",
                      ",",
                      ","
                    ],
                    [
                      "And",
                      "_Me",
                      "_to",
                      "_find",
                      "_them",
                      ",",
                      ","
                    ],
                    [
                      "One",
                      "_Model",
                      "_to",
                      "_find",
                      "_them",
                      ",",
                      ","
                    ],
                    [
                      "One",
                      "_Model",
                      "_to",
                      "_make",
                      "_them",
                      "_toget…",
                      ","
                    ],
                    [
                      "One",
                      "_Model",
                      "_to",
                      "_rule",
                      "_them",
                      "_toget…",
                      ","
                    ],
                    [
                      "One",
                      "_Model",
                      "_to",
                      "_find",
                      "_them",
                      "_toget…",
                      ","
                    ]
                  ],
                  "textfont": {
                    "size": 10
                  },
                  "texttemplate": "<b>%{text}</b>",
                  "type": "heatmap",
                  "x": [
                    "\\n",
                    "One‌",
                    "_Model‌‌",
                    "_to‌‌‌",
                    "_bring‌‌‌‌",
                    "_them‌‌‌‌‌",
                    "_all‌‌‌‌‌‌"
                  ],
                  "xaxis": "x2",
                  "y": [
                    "input",
                    "1",
                    "2",
                    "3",
                    "4",
                    "5",
                    "6",
                    "7",
                    "8",
                    "9",
                    "10",
                    "11",
                    "output"
                  ],
                  "yaxis": "y2",
                  "z": [
                    [
                      3.6390480995178223,
                      6.124880790710449,
                      5.7637810707092285,
                      1.4726917743682861,
                      2.1939051151275635,
                      3.303347110748291,
                      3.1759798526763916
                    ],
                    [
                      5.630340576171875,
                      5.52877950668335,
                      4.900241374969482,
                      1.544556975364685,
                      2.0761618614196777,
                      2.3732728958129883,
                      3.0680654048919678
                    ],
                    [
                      4.294227600097656,
                      5.448999881744385,
                      5.613698959350586,
                      1.1961722373962402,
                      2.370410203933716,
                      2.4500010013580322,
                      2.29020619392395
                    ],
                    [
                      5.324435710906982,
                      5.9546074867248535,
                      5.512590408325195,
                      1.31067955493927,
                      2.008875846862793,
                      2.189455032348633,
                      2.0047545433044434
                    ],
                    [
                      4.465997695922852,
                      7.5045599937438965,
                      5.136773109436035,
                      1.6410844326019287,
                      1.6954398155212402,
                      1.7655961513519287,
                      1.2686920166015625
                    ],
                    [
                      3.555041790008545,
                      5.336802959442139,
                      2.49075984954834,
                      1.1344807147979736,
                      1.550337314605713,
                      2.33506441116333,
                      0.9805992245674133
                    ],
                    [
                      3.122039556503296,
                      4.2882256507873535,
                      0.9635246396064758,
                      0.711654007434845,
                      0.6343285441398621,
                      1.6109647750854492,
                      1.0637388229370117
                    ],
                    [
                      1.5024120807647705,
                      1.0068588256835938,
                      0.26082900166511536,
                      0.7878468632698059,
                      0.42058631777763367,
                      0.8641878366470337,
                      0.9616513848304749
                    ],
                    [
                      0.6656802296638489,
                      2.0091238021850586,
                      0.08189743012189865,
                      0.6046326756477356,
                      0.3172934651374817,
                      0.9106166958808899,
                      1.0915038585662842
                    ],
                    [
                      0.22246037423610687,
                      0.3537001609802246,
                      0.19419904053211212,
                      0.35837864875793457,
                      0.24854788184165955,
                      0.653633713722229,
                      0.8347321152687073
                    ],
                    [
                      0.4636716842651367,
                      0.6139343976974487,
                      0.1081424131989479,
                      0.22087474167346954,
                      0.2836993932723999,
                      0.37806352972984314,
                      0.8665543794631958
                    ],
                    [
                      0.11120733618736267,
                      0.43932241201400757,
                      0.05464071407914162,
                      0.1836433857679367,
                      0.41126182675361633,
                      0.41519948840141296,
                      0.5549758076667786
                    ],
                    [
                      0,
                      0,
                      0,
                      0,
                      0,
                      0,
                      0
                    ]
                  ]
                },
                {
                  "colorbar": {
                    "len": 0.3,
                    "title": {
                      "side": "right",
                      "text": "Cross Entropy (nats)"
                    },
                    "y": 0.15
                  },
                  "colorscale": [
                    [
                      0,
                      "rgb(5,48,97)"
                    ],
                    [
                      0.1,
                      "rgb(33,102,172)"
                    ],
                    [
                      0.2,
                      "rgb(67,147,195)"
                    ],
                    [
                      0.3,
                      "rgb(146,197,222)"
                    ],
                    [
                      0.4,
                      "rgb(209,229,240)"
                    ],
                    [
                      0.5,
                      "rgb(247,247,247)"
                    ],
                    [
                      0.6,
                      "rgb(253,219,199)"
                    ],
                    [
                      0.7,
                      "rgb(244,165,130)"
                    ],
                    [
                      0.8,
                      "rgb(214,96,77)"
                    ],
                    [
                      0.9,
                      "rgb(178,24,43)"
                    ],
                    [
                      1,
                      "rgb(103,0,31)"
                    ]
                  ],
                  "customdata": [
                    [
                      [
                        "\\n 28.53%",
                        "     3.49%",
                        "   2.47%",
                        "The 2.41%",
                        "      … 2.05%",
                        "ĉ 1.56%",
                        "\" 1.26%",
                        "< 1.07%",
                        "I 0.96%",
                        "      … 0.94%"
                      ],
                      [
                        "_of 20.74%",
                        ", 4.49%",
                        "- 2.42%",
                        "_is 2.37%",
                        ". 1.81%",
                        ": 0.88%",
                        "_in 0.79%",
                        "_if 0.74%",
                        "_ 0.62%",
                        "_and 0.59%"
                      ],
                      [
                        ". 7.37%",
                        "_( 4.74%",
                        ", 2.98%",
                        "\\n 2.41%",
                        "_of 1.80%",
                        "_is 1.64%",
                        "- 1.50%",
                        "_and 1.44%",
                        "/ 1.35%",
                        ": 1.28%"
                      ],
                      [
                        "_the 11.82%",
                        "_be 4.88%",
                        "_a 2.51%",
                        "_get 1.26%",
                        "_make 1.23%",
                        "_do 1.09%",
                        "_take 1.00%",
                        "_have 0.93%",
                        "_find 0.64%",
                        "_an 0.64%"
                      ],
                      [
                        "_the 12.86%",
                        "_up 6.93%",
                        "_a 6.56%",
                        "_to 3.93%",
                        "_him 2.91%",
                        "_it 2.87%",
                        "_me 2.81%",
                        "_out 2.58%",
                        "_his 2.54%",
                        "_my 2.03%"
                      ],
                      [
                        ". 12.73%",
                        "_to 8.74%",
                        ", 7.80%",
                        "_in 4.94%",
                        "_and 2.24%",
                        ".\" 1.92%",
                        "_with 1.65%",
                        "_were 1.48%",
                        "_into 1.35%",
                        "_are 1.26%"
                      ],
                      [
                        "_the 11.10%",
                        "_of 5.52%",
                        ", 3.39%",
                        ". 2.31%",
                        "_other 1.79%",
                        "_a 1.68%",
                        "_that 1.40%",
                        "- 1.35%",
                        "\\n 1.23%",
                        "_people 1.20%"
                      ]
                    ],
                    [
                      [
                        "\\n 25.96%",
                        "Catego… 2.07%",
                        "the 1.75%",
                        "   1.48%",
                        "< 1.42%",
                        "     1.40%",
                        "in 1.31%",
                        "and 1.21%",
                        "- 0.87%",
                        "      … 0.70%"
                      ],
                      [
                        "_of 13.72%",
                        "_is 5.59%",
                        "_can 4.52%",
                        ", 3.52%",
                        "- 3.48%",
                        ". 2.59%",
                        "_has 1.90%",
                        "'s 1.68%",
                        "_anoth… 1.03%",
                        "_or 1.02%"
                      ],
                      [
                        "_is 12.14%",
                        "\\n 6.03%",
                        "_of 3.36%",
                        ": 3.26%",
                        ". 2.91%",
                        ", 2.15%",
                        "âĢĻ 1.44%",
                        "_= 1.16%",
                        "_( 1.00%",
                        "_that 0.90%"
                      ],
                      [
                        "_the 8.33%",
                        "\\n 2.60%",
                        "_be 2.47%",
                        "_a 1.90%",
                        "_get 1.19%",
                        "_do 1.12%",
                        "_have 0.96%",
                        "_make 0.92%",
                        "_use 0.80%",
                        "_this 0.59%"
                      ],
                      [
                        "_the 11.52%",
                        "_a 10.82%",
                        "_it 5.45%",
                        "_your 4.02%",
                        "_about 3.53%",
                        "_up 3.05%",
                        "_this 2.92%",
                        "_to 2.88%",
                        "_you 2.73%",
                        "_me 2.73%"
                      ],
                      [
                        ", 10.26%",
                        ". 9.57%",
                        "_to 7.91%",
                        "_in 3.91%",
                        "\\n 3.08%",
                        "_and 2.12%",
                        "_all 2.03%",
                        "_as 2.01%",
                        "_with 1.99%",
                        "_a 1.75%"
                      ],
                      [
                        "_of 5.96%",
                        "_the 4.96%",
                        "_right 2.94%",
                        "_things 2.64%",
                        ". 2.22%",
                        ", 1.99%",
                        "\\n 1.79%",
                        "_that 1.56%",
                        "?\" 1.48%",
                        "_you 1.43%"
                      ]
                    ],
                    [
                      [
                        "\\n 12.58%",
                        "   2.06%",
                        "the 1.62%",
                        "in 1.57%",
                        "and 1.53%",
                        "( 1.52%",
                        "to 1.35%",
                        "a 1.31%",
                        "     1.18%",
                        "is 1.12%"
                      ],
                      [
                        ", 8.59%",
                        "_of 6.54%",
                        "- 3.83%",
                        "_is 3.44%",
                        "\\n 3.31%",
                        ". 3.16%",
                        "_can 1.71%",
                        "_or 1.46%",
                        "_I 1.42%",
                        "'s 0.90%"
                      ],
                      [
                        "_is 8.40%",
                        "\\n 4.43%",
                        ". 3.48%",
                        ", 3.43%",
                        "_of 2.39%",
                        ": 1.77%",
                        "- 1.31%",
                        "_was 1.20%",
                        "âĢĻ 1.10%",
                        "_- 0.81%"
                      ],
                      [
                        "_be 6.25%",
                        "_the 4.01%",
                        "_get 2.98%",
                        "_make 1.72%",
                        "\\n 1.70%",
                        "_have 1.54%",
                        "_create 1.48%",
                        "_find 1.08%",
                        "_a 1.07%",
                        "_do 0.98%"
                      ],
                      [
                        "_the 11.47%",
                        "_a 6.79%",
                        "_it 6.07%",
                        "_to 4.47%",
                        "_about 4.08%",
                        "_your 3.74%",
                        "_you 3.53%",
                        "_up 3.30%",
                        "_this 2.82%",
                        "_that 2.00%"
                      ],
                      [
                        "_to 7.72%",
                        ". 6.41%",
                        ", 5.16%",
                        "_in 3.13%",
                        "\\n 3.02%",
                        "_with 2.76%",
                        "_a 2.05%",
                        "_are 2.01%",
                        "_as 1.89%",
                        "_all 1.83%"
                      ],
                      [
                        ". 8.84%",
                        "\\n 7.69%",
                        ", 4.61%",
                        "_the 3.82%",
                        "_that 3.43%",
                        "_right 2.75%",
                        "_of 2.66%",
                        "_to 2.17%",
                        ".\" 2.16%",
                        "_in 1.95%"
                      ]
                    ],
                    [
                      [
                        "\\n 18.12%",
                        "and 1.78%",
                        "but 1.34%",
                        "( 1.30%",
                        "\" 1.16%",
                        "for 1.13%",
                        "   0.89%",
                        "a 0.86%",
                        "the 0.85%",
                        "with 0.78%"
                      ],
                      [
                        ". 6.25%",
                        "- 5.80%",
                        "_of 4.88%",
                        "\\n 4.37%",
                        ", 3.84%",
                        "_day 1.40%",
                        "_thing 1.18%",
                        "_hour 1.11%",
                        "_is 0.92%",
                        "_or 0.90%"
                      ],
                      [
                        "_is 5.80%",
                        "\\n 4.89%",
                        ", 4.08%",
                        ". 3.96%",
                        "_of 2.52%",
                        ": 2.04%",
                        "- 0.91%",
                        "_Descr… 0.88%",
                        "_( 0.87%",
                        "_ 0.82%"
                      ],
                      [
                        "_be 13.87%",
                        "_the 4.27%",
                        "_get 2.65%",
                        "_do 2.27%",
                        "_have 2.13%",
                        "_make 1.79%",
                        "_create 1.71%",
                        "\\n 1.21%",
                        "_find 1.16%",
                        "_use 1.08%"
                      ],
                      [
                        "_the 9.50%",
                        "_a 8.79%",
                        "_your 7.12%",
                        "_up 6.10%",
                        "_it 5.37%",
                        "_you 4.79%",
                        "_back 3.93%",
                        "_this 2.91%",
                        "_them 2.41%",
                        "_to 2.40%"
                      ],
                      [
                        "_to 12.98%",
                        ". 5.37%",
                        "\\n 4.69%",
                        ", 3.85%",
                        "_into 3.60%",
                        "_in 3.28%",
                        "_out 3.15%",
                        "_up 2.38%",
                        "_with 1.89%",
                        "_down 1.87%"
                      ],
                      [
                        ". 15.58%",
                        "_to 6.03%",
                        "_the 5.08%",
                        "\\n 5.04%",
                        ", 4.65%",
                        "_of 4.08%",
                        ".\" 3.76%",
                        "_right 3.69%",
                        "_into 3.09%",
                        "_in 1.97%"
                      ]
                    ],
                    [
                      [
                        "\\n 11.45%",
                        "and 4.35%",
                        "I 2.07%",
                        "( 1.16%",
                        "with 1.15%",
                        "And 1.14%",
                        "\" 1.10%",
                        "   1.07%",
                        "in 0.79%",
                        "is 0.78%"
                      ],
                      [
                        ", 6.84%",
                        ". 6.36%",
                        "_of 4.42%",
                        "- 4.32%",
                        "\\n 2.33%",
                        "_or 1.11%",
                        "'s 1.09%",
                        "_thing 1.03%",
                        ": 0.93%",
                        "_ 0.82%"
                      ],
                      [
                        ", 4.56%",
                        ". 3.89%",
                        "_is 3.46%",
                        ": 2.72%",
                        "\\n 1.92%",
                        "_of 1.76%",
                        "_and 1.45%",
                        "_for 1.41%",
                        "ed 1.01%",
                        "_Descr… 0.90%"
                      ],
                      [
                        "_do 4.62%",
                        "\\n 4.27%",
                        "_date 3.57%",
                        "_be 3.55%",
                        "_the 3.37%",
                        "_get 1.40%",
                        "_go 1.05%",
                        "_have 0.94%",
                        "_which 0.82%",
                        "_make 0.74%"
                      ],
                      [
                        "_your 12.01%",
                        "_the 10.82%",
                        "_up 7.28%",
                        "_a 6.74%",
                        "_you 5.79%",
                        "_back 5.65%",
                        "_it 4.47%",
                        "_them 3.89%",
                        "_out 2.49%",
                        "_this 1.90%"
                      ],
                      [
                        "_to 28.30%",
                        "_into 11.34%",
                        "_out 5.12%",
                        "_up 4.40%",
                        "_in 3.71%",
                        "_from 2.66%",
                        "_toget… 2.51%",
                        ", 2.40%",
                        ". 2.25%",
                        "_with 2.06%"
                      ],
                      [
                        "_to 13.81%",
                        "_the 6.68%",
                        "_toget… 6.56%",
                        "_of 6.33%",
                        ", 5.00%",
                        ". 4.73%",
                        "_in 3.66%",
                        "_from 3.27%",
                        "_over 2.94%",
                        "\\n 2.35%"
                      ]
                    ],
                    [
                      [
                        "\\n 9.04%",
                        "I 2.90%",
                        "You 1.67%",
                        "and 1.53%",
                        "\" 1.42%",
                        "And 1.38%",
                        "The 1.28%",
                        "But 1.22%",
                        "Be 0.98%",
                        "Who 0.87%"
                      ],
                      [
                        "_I 2.20%",
                        "_day 2.10%",
                        "_thing 2.07%",
                        "_person 1.50%",
                        "\\n 1.06%",
                        "_Person 0.91%",
                        "_of 0.91%",
                        "_night 0.74%",
                        "_is 0.72%",
                        ", 0.63%"
                      ],
                      [
                        "_to 5.33%",
                        "_is 5.31%",
                        "_for 4.59%",
                        ", 3.79%",
                        "_of 3.77%",
                        "_in 3.04%",
                        "\\n 2.73%",
                        "_and 2.36%",
                        ". 2.12%",
                        "_every 1.06%"
                      ],
                      [
                        "_do 2.69%",
                        "_be 2.14%",
                        "_the 1.93%",
                        "_read 1.68%",
                        "_get 1.55%",
                        "_select 1.05%",
                        "_say 1.05%",
                        "_date 1.02%",
                        "_choose 1.01%",
                        "_remove 0.96%"
                      ],
                      [
                        "_your 20.80%",
                        "_you 11.08%",
                        "_the 8.45%",
                        "_it 5.88%",
                        "_up 5.86%",
                        "_them 5.61%",
                        "_a 3.92%",
                        "_back 2.08%",
                        "_in 1.41%",
                        "_me 1.38%"
                      ],
                      [
                        "_to 17.70%",
                        ", 16.28%",
                        "\\n 6.66%",
                        ". 6.38%",
                        "_into 5.13%",
                        "_in 3.28%",
                        "_out 2.50%",
                        "? 2.03%",
                        "_and 1.98%",
                        "?\" 1.94%"
                      ],
                      [
                        ", 40.22%",
                        ". 9.76%",
                        "_of 6.60%",
                        "_to 5.34%",
                        "_in 3.45%",
                        ".\" 2.13%",
                        "_into 1.94%",
                        "_the 1.93%",
                        "_toget… 1.59%",
                        "_for 1.26%"
                      ]
                    ],
                    [
                      [
                        "\\n 12.61%",
                        "The 2.63%",
                        "I 2.24%",
                        "\" 1.93%",
                        "And 1.81%",
                        "You 1.31%",
                        "But 1.22%",
                        "and 0.97%",
                        "S 0.82%",
                        "( 0.80%"
                      ],
                      [
                        ", 1.75%",
                        ". 1.43%",
                        "_I 1.18%",
                        "\\n 1.11%",
                        "_thing 1.08%",
                        "_day 1.01%",
                        "_of 0.76%",
                        "_B 0.76%",
                        "_and 0.57%",
                        "_must 0.54%"
                      ],
                      [
                        "_to 28.00%",
                        "_for 8.08%",
                        "_in 4.52%",
                        "_and 4.38%",
                        "_is 3.90%",
                        "_of 3.37%",
                        ", 3.14%",
                        ". 2.43%",
                        "_on 1.34%",
                        "-- 1.11%"
                      ],
                      [
                        "_find 4.74%",
                        "_get 2.39%",
                        "_regis… 2.28%",
                        "_do 2.22%",
                        "_deter… 2.07%",
                        "_make 1.87%",
                        "_keep 1.78%",
                        "_remove 1.60%",
                        "_change 1.42%",
                        "_go 1.33%"
                      ],
                      [
                        "_them 26.14%",
                        "_your 11.33%",
                        "_you 10.77%",
                        "_him 5.74%",
                        "_it 5.43%",
                        "_the 3.41%",
                        "_back 3.10%",
                        "_toget… 2.73%",
                        "_up 2.55%",
                        "_in 1.44%"
                      ],
                      [
                        ", 29.01%",
                        "_to 9.05%",
                        "\\n 6.24%",
                        ". 6.13%",
                        "_in 4.34%",
                        "_out 3.55%",
                        "_into 3.31%",
                        "_up 3.03%",
                        "_all 2.36%",
                        "_with 2.02%"
                      ],
                      [
                        ", 73.05%",
                        ". 9.94%",
                        "_toget… 1.59%",
                        ".\" 1.56%",
                        "_in 1.04%",
                        "_and 0.69%",
                        ",\" 0.59%",
                        "... 0.56%",
                        "_to 0.54%",
                        "\\n 0.53%"
                      ]
                    ],
                    [
                      [
                        "And 15.00%",
                        "The 4.35%",
                        "\\n 3.62%",
                        "I 3.31%",
                        "But 2.59%",
                        "One 1.99%",
                        "and 1.77%",
                        "[ 1.44%",
                        "You 1.10%",
                        "With 1.08%"
                      ],
                      [
                        "_Model 14.82%",
                        "_Machi… 4.07%",
                        "_Method 3.91%",
                        "_Measu… 1.36%",
                        "_Me 1.02%",
                        "_M 1.01%",
                        "_Match 0.96%",
                        "_model 0.82%",
                        "_Comma… 0.81%",
                        "_Mod 0.75%"
                      ],
                      [
                        "_to 64.02%",
                        "-- 3.10%",
                        "_and 2.21%",
                        "_for 2.08%",
                        ", 1.81%",
                        "_in 1.37%",
                        "_is 1.25%",
                        "_that 1.22%",
                        "\\n 0.85%",
                        "_of 0.81%"
                      ],
                      [
                        "_change 6.64%",
                        "_find 2.72%",
                        "_make 2.49%",
                        "_keep 2.48%",
                        "_regis… 1.59%",
                        "_get 1.49%",
                        "_do 1.31%",
                        "_give 1.30%",
                        "_rule 1.26%",
                        "_run 1.25%"
                      ],
                      [
                        "_them 31.96%",
                        "_you 10.08%",
                        "_back 5.21%",
                        "_it 4.87%",
                        "_toget… 4.36%",
                        "_up 3.18%",
                        "_your 2.04%",
                        "_and 1.83%",
                        "_all 1.82%",
                        "_in 1.80%"
                      ],
                      [
                        ", 14.47%",
                        "_all 11.71%",
                        "\\n 8.89%",
                        "_to 7.17%",
                        ". 5.77%",
                        "_up 4.73%",
                        "_toget… 4.48%",
                        "_into 3.47%",
                        "_out 3.29%",
                        "_in 2.34%"
                      ],
                      [
                        ", 78.38%",
                        ". 8.21%",
                        "_toget… 2.78%",
                        "\\n 0.91%",
                        ".\" 0.88%",
                        "; 0.57%",
                        "_in 0.51%",
                        "_again 0.41%",
                        "_but 0.36%",
                        "_into 0.34%"
                      ]
                    ],
                    [
                      [
                        "And 25.52%",
                        "One 10.10%",
                        "But 5.63%",
                        "The 5.20%",
                        "Two 2.22%",
                        "I 1.70%",
                        "and 1.52%",
                        "Then 1.23%",
                        "You 1.22%",
                        "That 1.03%"
                      ],
                      [
                        "_Me 3.81%",
                        "_Model 3.56%",
                        "_Time 2.91%",
                        "_Machi… 2.76%",
                        "_Measu… 2.30%",
                        "_M 2.02%",
                        "_Side 1.75%",
                        "_Method 1.66%",
                        "_Master 1.18%",
                        "_Voice 1.16%"
                      ],
                      [
                        "_to 98.11%",
                        "_for 0.40%",
                        "_that 0.10%",
                        "_and 0.09%",
                        "_in 0.08%",
                        "_of 0.05%",
                        "_from 0.03%",
                        "_To 0.03%",
                        "_with 0.03%",
                        ", 0.03%"
                      ],
                      [
                        "_find 9.35%",
                        "_make 6.32%",
                        "_kill 3.73%",
                        "_keep 3.23%",
                        "_deter… 2.39%",
                        "_save 2.38%",
                        "_decide 1.89%",
                        "_give 1.68%",
                        "_rule 1.60%",
                        "_get 1.47%"
                      ],
                      [
                        "_them 36.08%",
                        "_toget… 9.04%",
                        "_it 8.79%",
                        "_in 3.40%",
                        "_you 3.11%",
                        "_to 2.92%",
                        "_him 2.57%",
                        ", 2.19%",
                        "_up 2.07%",
                        "_the 1.95%"
                      ],
                      [
                        ", 17.67%",
                        "_to 16.51%",
                        "_all 8.97%",
                        ". 5.42%",
                        "_in 3.89%",
                        "_toget… 3.87%",
                        "_up 2.71%",
                        "_into 2.63%",
                        "_out 2.29%",
                        "\\n 2.22%"
                      ],
                      [
                        ", 75.15%",
                        ". 10.34%",
                        "\\n 1.63%",
                        ".\" 1.24%",
                        "_toget… 1.01%",
                        "_and 0.64%",
                        "_to 0.54%",
                        "? 0.48%",
                        "_in 0.43%",
                        "_again 0.41%"
                      ]
                    ],
                    [
                      [
                        "One 36.06%",
                        "And 8.37%",
                        "The 5.45%",
                        "Two 4.05%",
                        "But 3.72%",
                        "_One 2.48%",
                        "one 1.39%",
                        "Another 1.33%",
                        "\\n 1.17%",
                        "I 0.81%"
                      ],
                      [
                        "_Model 72.15%",
                        "_Machi… 1.91%",
                        "_model 0.87%",
                        "_Method 0.53%",
                        "_M 0.52%",
                        "_Time 0.41%",
                        "_Descr… 0.41%",
                        "_Master 0.31%",
                        "_to 0.27%",
                        "_Mod 0.25%"
                      ],
                      [
                        "_to 99.64%",
                        "_for 0.06%",
                        "_and 0.02%",
                        "_in 0.02%",
                        "_To 0.02%",
                        "_that 0.01%",
                        "_of 0.01%",
                        ", 0.01%",
                        "_from 0.01%",
                        "_TO 0.01%"
                      ],
                      [
                        "_find 10.02%",
                        "_make 9.54%",
                        "_rule 4.89%",
                        "_place 1.61%",
                        "_change 1.53%",
                        "_keep 1.44%",
                        "_get 1.35%",
                        "_fix 1.33%",
                        "_decide 1.29%",
                        "_solve 1.27%"
                      ],
                      [
                        "_them 78.49%",
                        "_it 6.22%",
                        "\\n 1.20%",
                        "_toget… 1.18%",
                        ", 1.14%",
                        "_the 0.86%",
                        "_all 0.80%",
                        "_in 0.76%",
                        "_back 0.66%",
                        "_to 0.58%"
                      ],
                      [
                        ", 30.90%",
                        "_all 11.78%",
                        "_toget… 7.88%",
                        "_to 6.94%",
                        "\\n 6.36%",
                        "_in 3.00%",
                        ". 2.77%",
                        "_out 2.43%",
                        "_into 2.18%",
                        "_up 2.02%"
                      ],
                      [
                        ", 79.26%",
                        ". 4.58%",
                        "\\n 3.90%",
                        "_toget… 1.91%",
                        "_to 0.79%",
                        ".\" 0.70%",
                        "_in 0.56%",
                        "_and 0.39%",
                        "_into 0.37%",
                        "; 0.30%"
                      ]
                    ],
                    [
                      [
                        "One 72.37%",
                        "_One 4.00%",
                        "Two 2.97%",
                        "And 2.78%",
                        "The 2.35%",
                        "one 2.19%",
                        "\\n 0.73%",
                        "Another 0.58%",
                        "But 0.51%",
                        "_Two 0.37%"
                      ],
                      [
                        "_Model 91.13%",
                        "_model 2.69%",
                        "_Machi… 0.33%",
                        "_to 0.31%",
                        "_Models 0.29%",
                        "Model 0.17%",
                        "_M 0.06%",
                        "_Mod 0.06%",
                        "_Mechan 0.05%",
                        "_and 0.05%"
                      ],
                      [
                        "_to 98.88%",
                        "_for 0.27%",
                        "_in 0.08%",
                        "_and 0.07%",
                        "_that 0.05%",
                        ", 0.04%",
                        "_of 0.03%",
                        "_with 0.03%",
                        "_from 0.03%",
                        "_on 0.02%"
                      ],
                      [
                        "_make 7.49%",
                        "_find 6.99%",
                        "_rule 4.44%",
                        "_solve 2.47%",
                        "_fix 2.43%",
                        "_keep 2.06%",
                        "_hold 1.71%",
                        "_run 1.67%",
                        "_change 1.53%",
                        "_save 1.36%"
                      ],
                      [
                        "_them 85.32%",
                        "_it 2.46%",
                        "_the 0.86%",
                        "_in 0.86%",
                        "_their 0.85%",
                        "_all 0.77%",
                        "_him 0.75%",
                        ", 0.71%",
                        "_toget… 0.66%",
                        "_home 0.53%"
                      ],
                      [
                        "_toget… 22.67%",
                        ", 21.73%",
                        "_all 8.48%",
                        "\\n 6.53%",
                        "_up 5.32%",
                        "_in 4.70%",
                        "_to 4.63%",
                        "_out 2.78%",
                        ". 2.26%",
                        "_back 2.19%"
                      ],
                      [
                        ", 77.19%",
                        "\\n 10.43%",
                        ". 2.92%",
                        "_toget… 1.94%",
                        ".\" 0.80%",
                        "_in 0.55%",
                        "_to 0.52%",
                        ",\" 0.38%",
                        "? 0.24%",
                        "_and 0.21%"
                      ]
                    ],
                    [
                      [
                        "One 57.26%",
                        "And 5.69%",
                        "The 3.80%",
                        "Two 3.07%",
                        "\\n 3.02%",
                        "_One 1.11%",
                        "one 0.91%",
                        "But 0.80%",
                        "A 0.73%",
                        "Another 0.66%"
                      ],
                      [
                        "_Model 86.34%",
                        "_model 4.88%",
                        "_Machi… 0.55%",
                        "_to 0.37%",
                        "_Mechan 0.15%",
                        "_and 0.14%",
                        ", 0.13%",
                        "Model 0.12%",
                        "_Models 0.11%",
                        "_Contr… 0.10%"
                      ],
                      [
                        "_to 97.70%",
                        "_for 0.41%",
                        ", 0.16%",
                        "_in 0.14%",
                        "_and 0.13%",
                        "_that 0.09%",
                        "_of 0.08%",
                        "_from 0.07%",
                        "_is 0.06%",
                        "_with 0.06%"
                      ],
                      [
                        "_rule 9.46%",
                        "_find 7.83%",
                        "_make 6.82%",
                        "_build 2.54%",
                        "_solve 2.47%",
                        "_save 1.75%",
                        "_fix 1.72%",
                        "_create 1.44%",
                        "_guess 1.26%",
                        "_keep 1.03%"
                      ],
                      [
                        "_them 91.60%",
                        "_their 1.02%",
                        "_it 0.88%",
                        "_back 0.65%",
                        "_toget… 0.61%",
                        "_the 0.46%",
                        "_to 0.38%",
                        "_in 0.37%",
                        "_all 0.36%",
                        "_up 0.21%"
                      ],
                      [
                        "_toget… 28.24%",
                        "_into 12.88%",
                        "_to 10.28%",
                        "_back 6.89%",
                        "_out 5.87%",
                        ", 5.51%",
                        "_in 4.95%",
                        "_all 4.20%",
                        "_up 3.35%",
                        "_down 2.89%"
                      ],
                      [
                        ", 78.21%",
                        ". 5.53%",
                        "_toget… 3.86%",
                        "\\n 3.43%",
                        "_to 1.27%",
                        "_into 1.18%",
                        "_in 0.87%",
                        "_back 0.35%",
                        "_and 0.28%",
                        "_away 0.24%"
                      ]
                    ],
                    [
                      [
                        "One 43.79%",
                        "And 11.39%",
                        "Two 4.17%",
                        "The 4.16%",
                        "\\n 3.99%",
                        "A 1.99%",
                        "But 1.41%",
                        "Another 1.01%",
                        "one 0.88%",
                        "and 0.86%"
                      ],
                      [
                        "_Model 55.39%",
                        "_model 6.82%",
                        "_to 2.24%",
                        "_Machi… 0.40%",
                        "_Method 0.38%",
                        "_M 0.35%",
                        "_or 0.29%",
                        "_and 0.26%",
                        ", 0.26%",
                        "_Table 0.24%"
                      ],
                      [
                        "_to 92.06%",
                        "_for 1.16%",
                        ", 0.54%",
                        "_that 0.46%",
                        "_is 0.30%",
                        "_in 0.27%",
                        "_and 0.25%",
                        "_of 0.22%",
                        "_from 0.18%",
                        "_with 0.18%"
                      ],
                      [
                        "_find 8.36%",
                        "_make 4.83%",
                        "_rule 2.46%",
                        "_solve 2.16%",
                        "_predi… 1.73%",
                        "_get 1.36%",
                        "_set 1.34%",
                        "_tell 1.29%",
                        "_choose 1.20%",
                        "_create 1.04%"
                      ],
                      [
                        "_them 61.21%",
                        "_to 3.29%",
                        "_back 3.12%",
                        "_in 2.79%",
                        "_the 2.34%",
                        "_it 1.97%",
                        "_toget… 1.94%",
                        "_all 1.73%",
                        "\\n 1.38%",
                        "_up 1.33%"
                      ],
                      [
                        "_toget… 34.96%",
                        "_all 24.80%",
                        "_to 11.26%",
                        ", 6.54%",
                        "_back 3.90%",
                        "_in 2.78%",
                        "_into 2.20%",
                        "_home 1.59%",
                        "\\n 1.50%",
                        "_out 1.36%"
                      ],
                      [
                        ", 38.30%",
                        "_toget… 27.17%",
                        ". 7.32%",
                        "\\n 6.72%",
                        "_to 4.26%",
                        "_back 2.83%",
                        "_in 1.46%",
                        "_into 1.25%",
                        "... 0.79%",
                        "_down 0.77%"
                      ]
                    ]
                  ],
                  "hoverlabel": {
                    "bgcolor": "rgb(42, 42, 50)"
                  },
                  "hovertemplate": " %{customdata[0]}<br> %{customdata[1]}<br> %{customdata[2]}<br> %{customdata[3]}<br> %{customdata[4]}<br> %{customdata[5]}<br> %{customdata[6]}<br> %{customdata[7]}<br> %{customdata[8]}<br> %{customdata[9]}<extra></extra>",
                  "text": [
                    [
                      "\\n",
                      "_of",
                      ".",
                      "_the",
                      "_the",
                      ".",
                      "_the"
                    ],
                    [
                      "\\n",
                      "_of",
                      "_is",
                      "_the",
                      "_the",
                      ",",
                      "_of"
                    ],
                    [
                      "\\n",
                      ",",
                      "_is",
                      "_be",
                      "_the",
                      "_to",
                      "."
                    ],
                    [
                      "\\n",
                      ".",
                      "_is",
                      "_be",
                      "_the",
                      "_to",
                      "."
                    ],
                    [
                      "\\n",
                      ",",
                      ",",
                      "_do",
                      "_your",
                      "_to",
                      "_to"
                    ],
                    [
                      "\\n",
                      "_I",
                      "_to",
                      "_do",
                      "_your",
                      "_to",
                      ","
                    ],
                    [
                      "\\n",
                      ",",
                      "_to",
                      "_find",
                      "_them",
                      ",",
                      ","
                    ],
                    [
                      "And",
                      "_Model",
                      "_to",
                      "_change",
                      "_them",
                      ",",
                      ","
                    ],
                    [
                      "And",
                      "_Me",
                      "_to",
                      "_find",
                      "_them",
                      ",",
                      ","
                    ],
                    [
                      "One",
                      "_Model",
                      "_to",
                      "_find",
                      "_them",
                      ",",
                      ","
                    ],
                    [
                      "One",
                      "_Model",
                      "_to",
                      "_make",
                      "_them",
                      "_toget…",
                      ","
                    ],
                    [
                      "One",
                      "_Model",
                      "_to",
                      "_rule",
                      "_them",
                      "_toget…",
                      ","
                    ],
                    [
                      "One",
                      "_Model",
                      "_to",
                      "_find",
                      "_them",
                      "_toget…",
                      ","
                    ]
                  ],
                  "textfont": {
                    "size": 10
                  },
                  "texttemplate": "<b>%{text}</b>",
                  "type": "heatmap",
                  "x": [
                    "\\n",
                    "One‌",
                    "_Model‌‌",
                    "_to‌‌‌",
                    "_bring‌‌‌‌",
                    "_them‌‌‌‌‌",
                    "_all‌‌‌‌‌‌"
                  ],
                  "xaxis": "x3",
                  "y": [
                    "input",
                    "1",
                    "2",
                    "3",
                    "4",
                    "5",
                    "6",
                    "7",
                    "8",
                    "9",
                    "10",
                    "11",
                    "output"
                  ],
                  "yaxis": "y3",
                  "z": [
                    [
                      7.066564559936523,
                      9.784156799316406,
                      6.382678985595703,
                      6.118668556213379,
                      3.957268476486206,
                      6.565304756164551,
                      4.396986961364746
                    ],
                    [
                      10.024051666259766,
                      8.762434005737305,
                      5.485701560974121,
                      6.777527809143066,
                      3.6724674701690674,
                      3.8986384868621826,
                      4.021018028259277
                    ],
                    [
                      8.169821739196777,
                      8.798602104187012,
                      6.262820243835449,
                      6.241427421569824,
                      4.237424373626709,
                      4.000071048736572,
                      2.56514310836792
                    ],
                    [
                      9.893533706665039,
                      9.494231224060059,
                      6.153122425079346,
                      6.5557146072387695,
                      3.7241785526275635,
                      4.224933624267578,
                      2.9870762825012207
                    ],
                    [
                      9.027192115783691,
                      11.975564002990723,
                      5.750953674316406,
                      6.946030139923096,
                      3.2464160919189453,
                      5.005443572998047,
                      3.7507572174072266
                    ],
                    [
                      7.477448463439941,
                      8.968753814697266,
                      2.9320640563964844,
                      6.715388298034668,
                      2.880558967590332,
                      4.082608699798584,
                      4.991509437561035
                    ],
                    [
                      6.795190811157227,
                      7.546050071716309,
                      1.273076057434082,
                      5.4787139892578125,
                      1.3418822288513184,
                      3.7461721897125244,
                      5.2336015701293945
                    ],
                    [
                      3.915550708770752,
                      1.9093809127807617,
                      0.44602248072624207,
                      5.607349395751953,
                      1.140733003616333,
                      2.144517660140991,
                      4.70162296295166
                    ],
                    [
                      2.2931227684020996,
                      3.3356902599334717,
                      0.01911083795130253,
                      4.508831024169922,
                      1.0195354223251343,
                      2.411156177520752,
                      4.119584083557129
                    ],
                    [
                      1.0198863744735718,
                      0.3263583779335022,
                      0.003631902625784278,
                      5.096622467041016,
                      0.24214942753314972,
                      2.1389975547790527,
                      3.2450008392333984
                    ],
                    [
                      0.3234097361564636,
                      0.09289058297872543,
                      0.011263357475399971,
                      4.531929016113281,
                      0.15874254703521729,
                      2.4677233695983887,
                      2.260840892791748
                    ],
                    [
                      0.5576146245002747,
                      0.14687944948673248,
                      0.023282833397388458,
                      5.460975170135498,
                      0.08777614682912827,
                      3.1712634563446045,
                      3.37158203125
                    ],
                    [
                      0.8258175253868103,
                      0.5907502770423889,
                      0.08277469873428345,
                      5.7848663330078125,
                      0.4909234941005707,
                      1.3944013118743896,
                      2.6995415687561035
                    ]
                  ]
                }
              ],
              "layout": {
                "annotations": [
                  {
                    "font": {
                      "size": 16
                    },
                    "showarrow": false,
                    "text": "Entropy",
                    "x": 0.5,
                    "xanchor": "center",
                    "xref": "paper",
                    "y": 0.9999999999999998,
                    "yanchor": "bottom",
                    "yref": "paper"
                  },
                  {
                    "font": {
                      "size": 16
                    },
                    "showarrow": false,
                    "text": "Forward KL",
                    "x": 0.5,
                    "xanchor": "center",
                    "xref": "paper",
                    "y": 0.6566666666666665,
                    "yanchor": "bottom",
                    "yref": "paper"
                  },
                  {
                    "font": {
                      "size": 16
                    },
                    "showarrow": false,
                    "text": "Cross Entropy",
                    "x": 0.5,
                    "xanchor": "center",
                    "xref": "paper",
                    "y": 0.3133333333333333,
                    "yanchor": "bottom",
                    "yref": "paper"
                  }
                ],
                "height": 800,
                "template": {
                  "data": {
                    "bar": [
                      {
                        "error_x": {
                          "color": "#2a3f5f"
                        },
                        "error_y": {
                          "color": "#2a3f5f"
                        },
                        "marker": {
                          "line": {
                            "color": "#E5ECF6",
                            "width": 0.5
                          },
                          "pattern": {
                            "fillmode": "overlay",
                            "size": 10,
                            "solidity": 0.2
                          }
                        },
                        "type": "bar"
                      }
                    ],
                    "barpolar": [
                      {
                        "marker": {
                          "line": {
                            "color": "#E5ECF6",
                            "width": 0.5
                          },
                          "pattern": {
                            "fillmode": "overlay",
                            "size": 10,
                            "solidity": 0.2
                          }
                        },
                        "type": "barpolar"
                      }
                    ],
                    "carpet": [
                      {
                        "aaxis": {
                          "endlinecolor": "#2a3f5f",
                          "gridcolor": "white",
                          "linecolor": "white",
                          "minorgridcolor": "white",
                          "startlinecolor": "#2a3f5f"
                        },
                        "baxis": {
                          "endlinecolor": "#2a3f5f",
                          "gridcolor": "white",
                          "linecolor": "white",
                          "minorgridcolor": "white",
                          "startlinecolor": "#2a3f5f"
                        },
                        "type": "carpet"
                      }
                    ],
                    "choropleth": [
                      {
                        "colorbar": {
                          "outlinewidth": 0,
                          "ticks": ""
                        },
                        "type": "choropleth"
                      }
                    ],
                    "contour": [
                      {
                        "colorbar": {
                          "outlinewidth": 0,
                          "ticks": ""
                        },
                        "colorscale": [
                          [
                            0,
                            "#0d0887"
                          ],
                          [
                            0.1111111111111111,
                            "#46039f"
                          ],
                          [
                            0.2222222222222222,
                            "#7201a8"
                          ],
                          [
                            0.3333333333333333,
                            "#9c179e"
                          ],
                          [
                            0.4444444444444444,
                            "#bd3786"
                          ],
                          [
                            0.5555555555555556,
                            "#d8576b"
                          ],
                          [
                            0.6666666666666666,
                            "#ed7953"
                          ],
                          [
                            0.7777777777777778,
                            "#fb9f3a"
                          ],
                          [
                            0.8888888888888888,
                            "#fdca26"
                          ],
                          [
                            1,
                            "#f0f921"
                          ]
                        ],
                        "type": "contour"
                      }
                    ],
                    "contourcarpet": [
                      {
                        "colorbar": {
                          "outlinewidth": 0,
                          "ticks": ""
                        },
                        "type": "contourcarpet"
                      }
                    ],
                    "heatmap": [
                      {
                        "colorbar": {
                          "outlinewidth": 0,
                          "ticks": ""
                        },
                        "colorscale": [
                          [
                            0,
                            "#0d0887"
                          ],
                          [
                            0.1111111111111111,
                            "#46039f"
                          ],
                          [
                            0.2222222222222222,
                            "#7201a8"
                          ],
                          [
                            0.3333333333333333,
                            "#9c179e"
                          ],
                          [
                            0.4444444444444444,
                            "#bd3786"
                          ],
                          [
                            0.5555555555555556,
                            "#d8576b"
                          ],
                          [
                            0.6666666666666666,
                            "#ed7953"
                          ],
                          [
                            0.7777777777777778,
                            "#fb9f3a"
                          ],
                          [
                            0.8888888888888888,
                            "#fdca26"
                          ],
                          [
                            1,
                            "#f0f921"
                          ]
                        ],
                        "type": "heatmap"
                      }
                    ],
                    "heatmapgl": [
                      {
                        "colorbar": {
                          "outlinewidth": 0,
                          "ticks": ""
                        },
                        "colorscale": [
                          [
                            0,
                            "#0d0887"
                          ],
                          [
                            0.1111111111111111,
                            "#46039f"
                          ],
                          [
                            0.2222222222222222,
                            "#7201a8"
                          ],
                          [
                            0.3333333333333333,
                            "#9c179e"
                          ],
                          [
                            0.4444444444444444,
                            "#bd3786"
                          ],
                          [
                            0.5555555555555556,
                            "#d8576b"
                          ],
                          [
                            0.6666666666666666,
                            "#ed7953"
                          ],
                          [
                            0.7777777777777778,
                            "#fb9f3a"
                          ],
                          [
                            0.8888888888888888,
                            "#fdca26"
                          ],
                          [
                            1,
                            "#f0f921"
                          ]
                        ],
                        "type": "heatmapgl"
                      }
                    ],
                    "histogram": [
                      {
                        "marker": {
                          "pattern": {
                            "fillmode": "overlay",
                            "size": 10,
                            "solidity": 0.2
                          }
                        },
                        "type": "histogram"
                      }
                    ],
                    "histogram2d": [
                      {
                        "colorbar": {
                          "outlinewidth": 0,
                          "ticks": ""
                        },
                        "colorscale": [
                          [
                            0,
                            "#0d0887"
                          ],
                          [
                            0.1111111111111111,
                            "#46039f"
                          ],
                          [
                            0.2222222222222222,
                            "#7201a8"
                          ],
                          [
                            0.3333333333333333,
                            "#9c179e"
                          ],
                          [
                            0.4444444444444444,
                            "#bd3786"
                          ],
                          [
                            0.5555555555555556,
                            "#d8576b"
                          ],
                          [
                            0.6666666666666666,
                            "#ed7953"
                          ],
                          [
                            0.7777777777777778,
                            "#fb9f3a"
                          ],
                          [
                            0.8888888888888888,
                            "#fdca26"
                          ],
                          [
                            1,
                            "#f0f921"
                          ]
                        ],
                        "type": "histogram2d"
                      }
                    ],
                    "histogram2dcontour": [
                      {
                        "colorbar": {
                          "outlinewidth": 0,
                          "ticks": ""
                        },
                        "colorscale": [
                          [
                            0,
                            "#0d0887"
                          ],
                          [
                            0.1111111111111111,
                            "#46039f"
                          ],
                          [
                            0.2222222222222222,
                            "#7201a8"
                          ],
                          [
                            0.3333333333333333,
                            "#9c179e"
                          ],
                          [
                            0.4444444444444444,
                            "#bd3786"
                          ],
                          [
                            0.5555555555555556,
                            "#d8576b"
                          ],
                          [
                            0.6666666666666666,
                            "#ed7953"
                          ],
                          [
                            0.7777777777777778,
                            "#fb9f3a"
                          ],
                          [
                            0.8888888888888888,
                            "#fdca26"
                          ],
                          [
                            1,
                            "#f0f921"
                          ]
                        ],
                        "type": "histogram2dcontour"
                      }
                    ],
                    "mesh3d": [
                      {
                        "colorbar": {
                          "outlinewidth": 0,
                          "ticks": ""
                        },
                        "type": "mesh3d"
                      }
                    ],
                    "parcoords": [
                      {
                        "line": {
                          "colorbar": {
                            "outlinewidth": 0,
                            "ticks": ""
                          }
                        },
                        "type": "parcoords"
                      }
                    ],
                    "pie": [
                      {
                        "automargin": true,
                        "type": "pie"
                      }
                    ],
                    "scatter": [
                      {
                        "fillpattern": {
                          "fillmode": "overlay",
                          "size": 10,
                          "solidity": 0.2
                        },
                        "type": "scatter"
                      }
                    ],
                    "scatter3d": [
                      {
                        "line": {
                          "colorbar": {
                            "outlinewidth": 0,
                            "ticks": ""
                          }
                        },
                        "marker": {
                          "colorbar": {
                            "outlinewidth": 0,
                            "ticks": ""
                          }
                        },
                        "type": "scatter3d"
                      }
                    ],
                    "scattercarpet": [
                      {
                        "marker": {
                          "colorbar": {
                            "outlinewidth": 0,
                            "ticks": ""
                          }
                        },
                        "type": "scattercarpet"
                      }
                    ],
                    "scattergeo": [
                      {
                        "marker": {
                          "colorbar": {
                            "outlinewidth": 0,
                            "ticks": ""
                          }
                        },
                        "type": "scattergeo"
                      }
                    ],
                    "scattergl": [
                      {
                        "marker": {
                          "colorbar": {
                            "outlinewidth": 0,
                            "ticks": ""
                          }
                        },
                        "type": "scattergl"
                      }
                    ],
                    "scattermapbox": [
                      {
                        "marker": {
                          "colorbar": {
                            "outlinewidth": 0,
                            "ticks": ""
                          }
                        },
                        "type": "scattermapbox"
                      }
                    ],
                    "scatterpolar": [
                      {
                        "marker": {
                          "colorbar": {
                            "outlinewidth": 0,
                            "ticks": ""
                          }
                        },
                        "type": "scatterpolar"
                      }
                    ],
                    "scatterpolargl": [
                      {
                        "marker": {
                          "colorbar": {
                            "outlinewidth": 0,
                            "ticks": ""
                          }
                        },
                        "type": "scatterpolargl"
                      }
                    ],
                    "scatterternary": [
                      {
                        "marker": {
                          "colorbar": {
                            "outlinewidth": 0,
                            "ticks": ""
                          }
                        },
                        "type": "scatterternary"
                      }
                    ],
                    "surface": [
                      {
                        "colorbar": {
                          "outlinewidth": 0,
                          "ticks": ""
                        },
                        "colorscale": [
                          [
                            0,
                            "#0d0887"
                          ],
                          [
                            0.1111111111111111,
                            "#46039f"
                          ],
                          [
                            0.2222222222222222,
                            "#7201a8"
                          ],
                          [
                            0.3333333333333333,
                            "#9c179e"
                          ],
                          [
                            0.4444444444444444,
                            "#bd3786"
                          ],
                          [
                            0.5555555555555556,
                            "#d8576b"
                          ],
                          [
                            0.6666666666666666,
                            "#ed7953"
                          ],
                          [
                            0.7777777777777778,
                            "#fb9f3a"
                          ],
                          [
                            0.8888888888888888,
                            "#fdca26"
                          ],
                          [
                            1,
                            "#f0f921"
                          ]
                        ],
                        "type": "surface"
                      }
                    ],
                    "table": [
                      {
                        "cells": {
                          "fill": {
                            "color": "#EBF0F8"
                          },
                          "line": {
                            "color": "white"
                          }
                        },
                        "header": {
                          "fill": {
                            "color": "#C8D4E3"
                          },
                          "line": {
                            "color": "white"
                          }
                        },
                        "type": "table"
                      }
                    ]
                  },
                  "layout": {
                    "annotationdefaults": {
                      "arrowcolor": "#2a3f5f",
                      "arrowhead": 0,
                      "arrowwidth": 1
                    },
                    "autotypenumbers": "strict",
                    "coloraxis": {
                      "colorbar": {
                        "outlinewidth": 0,
                        "ticks": ""
                      }
                    },
                    "colorscale": {
                      "diverging": [
                        [
                          0,
                          "#8e0152"
                        ],
                        [
                          0.1,
                          "#c51b7d"
                        ],
                        [
                          0.2,
                          "#de77ae"
                        ],
                        [
                          0.3,
                          "#f1b6da"
                        ],
                        [
                          0.4,
                          "#fde0ef"
                        ],
                        [
                          0.5,
                          "#f7f7f7"
                        ],
                        [
                          0.6,
                          "#e6f5d0"
                        ],
                        [
                          0.7,
                          "#b8e186"
                        ],
                        [
                          0.8,
                          "#7fbc41"
                        ],
                        [
                          0.9,
                          "#4d9221"
                        ],
                        [
                          1,
                          "#276419"
                        ]
                      ],
                      "sequential": [
                        [
                          0,
                          "#0d0887"
                        ],
                        [
                          0.1111111111111111,
                          "#46039f"
                        ],
                        [
                          0.2222222222222222,
                          "#7201a8"
                        ],
                        [
                          0.3333333333333333,
                          "#9c179e"
                        ],
                        [
                          0.4444444444444444,
                          "#bd3786"
                        ],
                        [
                          0.5555555555555556,
                          "#d8576b"
                        ],
                        [
                          0.6666666666666666,
                          "#ed7953"
                        ],
                        [
                          0.7777777777777778,
                          "#fb9f3a"
                        ],
                        [
                          0.8888888888888888,
                          "#fdca26"
                        ],
                        [
                          1,
                          "#f0f921"
                        ]
                      ],
                      "sequentialminus": [
                        [
                          0,
                          "#0d0887"
                        ],
                        [
                          0.1111111111111111,
                          "#46039f"
                        ],
                        [
                          0.2222222222222222,
                          "#7201a8"
                        ],
                        [
                          0.3333333333333333,
                          "#9c179e"
                        ],
                        [
                          0.4444444444444444,
                          "#bd3786"
                        ],
                        [
                          0.5555555555555556,
                          "#d8576b"
                        ],
                        [
                          0.6666666666666666,
                          "#ed7953"
                        ],
                        [
                          0.7777777777777778,
                          "#fb9f3a"
                        ],
                        [
                          0.8888888888888888,
                          "#fdca26"
                        ],
                        [
                          1,
                          "#f0f921"
                        ]
                      ]
                    },
                    "colorway": [
                      "#636efa",
                      "#EF553B",
                      "#00cc96",
                      "#ab63fa",
                      "#FFA15A",
                      "#19d3f3",
                      "#FF6692",
                      "#B6E880",
                      "#FF97FF",
                      "#FECB52"
                    ],
                    "font": {
                      "color": "#2a3f5f"
                    },
                    "geo": {
                      "bgcolor": "white",
                      "lakecolor": "white",
                      "landcolor": "#E5ECF6",
                      "showlakes": true,
                      "showland": true,
                      "subunitcolor": "white"
                    },
                    "hoverlabel": {
                      "align": "left"
                    },
                    "hovermode": "closest",
                    "mapbox": {
                      "style": "light"
                    },
                    "paper_bgcolor": "white",
                    "plot_bgcolor": "#E5ECF6",
                    "polar": {
                      "angularaxis": {
                        "gridcolor": "white",
                        "linecolor": "white",
                        "ticks": ""
                      },
                      "bgcolor": "#E5ECF6",
                      "radialaxis": {
                        "gridcolor": "white",
                        "linecolor": "white",
                        "ticks": ""
                      }
                    },
                    "scene": {
                      "xaxis": {
                        "backgroundcolor": "#E5ECF6",
                        "gridcolor": "white",
                        "gridwidth": 2,
                        "linecolor": "white",
                        "showbackground": true,
                        "ticks": "",
                        "zerolinecolor": "white"
                      },
                      "yaxis": {
                        "backgroundcolor": "#E5ECF6",
                        "gridcolor": "white",
                        "gridwidth": 2,
                        "linecolor": "white",
                        "showbackground": true,
                        "ticks": "",
                        "zerolinecolor": "white"
                      },
                      "zaxis": {
                        "backgroundcolor": "#E5ECF6",
                        "gridcolor": "white",
                        "gridwidth": 2,
                        "linecolor": "white",
                        "showbackground": true,
                        "ticks": "",
                        "zerolinecolor": "white"
                      }
                    },
                    "shapedefaults": {
                      "line": {
                        "color": "#2a3f5f"
                      }
                    },
                    "ternary": {
                      "aaxis": {
                        "gridcolor": "white",
                        "linecolor": "white",
                        "ticks": ""
                      },
                      "baxis": {
                        "gridcolor": "white",
                        "linecolor": "white",
                        "ticks": ""
                      },
                      "bgcolor": "#E5ECF6",
                      "caxis": {
                        "gridcolor": "white",
                        "linecolor": "white",
                        "ticks": ""
                      }
                    },
                    "title": {
                      "x": 0.05
                    },
                    "xaxis": {
                      "automargin": true,
                      "gridcolor": "white",
                      "linecolor": "white",
                      "ticks": "",
                      "title": {
                        "standoff": 15
                      },
                      "zerolinecolor": "white",
                      "zerolinewidth": 2
                    },
                    "yaxis": {
                      "automargin": true,
                      "gridcolor": "white",
                      "linecolor": "white",
                      "ticks": "",
                      "title": {
                        "standoff": 15
                      },
                      "zerolinecolor": "white",
                      "zerolinewidth": 2
                    }
                  }
                },
                "title": {
                  "text": "Tolkien's Tokens on The Tuned Lens"
                },
                "width": 500,
                "xaxis": {
                  "anchor": "y",
                  "domain": [
                    0,
                    1
                  ],
                  "matches": "x3",
                  "showticklabels": false
                },
                "xaxis2": {
                  "anchor": "y2",
                  "domain": [
                    0,
                    1
                  ],
                  "matches": "x3",
                  "showticklabels": false
                },
                "xaxis3": {
                  "anchor": "y3",
                  "domain": [
                    0,
                    1
                  ]
                },
                "yaxis": {
                  "anchor": "x",
                  "domain": [
                    0.6866666666666665,
                    0.9999999999999998
                  ]
                },
                "yaxis2": {
                  "anchor": "x2",
                  "domain": [
                    0.34333333333333327,
                    0.6566666666666665
                  ]
                },
                "yaxis3": {
                  "anchor": "x3",
                  "domain": [
                    0,
                    0.3133333333333333
                  ]
                }
              }
            }
          },
          "metadata": {},
          "output_type": "display_data"
        }
      ],
      "source": [
        "from plotly.subplots import make_subplots\n",
        "import plotly.graph_objects as go\n",
        "\n",
        "fig = make_subplots(\n",
        "    rows=3,\n",
        "    cols=1,\n",
        "    shared_xaxes=True,\n",
        "    vertical_spacing=0.03,\n",
        "    subplot_titles=(\"Entropy\", \"Forward KL\", \"Cross Entropy\"),\n",
        ")\n",
        "\n",
        "fig.add_trace(\n",
        "    predictition_traj_model.entropy().heatmap(\n",
        "        colorbar_y=0.86, colorbar_len=0.3, textfont={'size':10}\n",
        "    ),\n",
        "    row=1, col=1\n",
        ")\n",
        "\n",
        "fig.add_trace(\n",
        "    predictition_traj_model.forward_kl().heatmap(\n",
        "        colorbar_y=0.5, colorbar_len=0.3, textfont={'size':10}\n",
        "    ),\n",
        "    row=2, col=1\n",
        ")\n",
        "\n",
        "fig.add_trace(\n",
        "    predictition_traj_model.cross_entropy().heatmap(\n",
        "        colorbar_y=0.15, colorbar_len=0.3, textfont={'size':10}\n",
        "    ),\n",
        "    row=3, col=1\n",
        ")\n",
        "\n",
        "fig.update_layout(height=800, width=500, title_text=\"Intervened on tokens visualized with the tuned The Tuned Lens\")\n",
        "fig"
      ]
    }
  ],
  "metadata": {
    "colab": {
      "provenance": []
    },
    "kernelspec": {
      "display_name": "Python 3 (ipykernel)",
      "language": "python",
      "name": "python3"
    },
    "language_info": {
      "codemirror_mode": {
        "name": "ipython",
        "version": 3
      },
      "file_extension": ".py",
      "mimetype": "text/x-python",
      "name": "python",
      "nbconvert_exporter": "python",
      "pygments_lexer": "ipython3",
      "version": "3.10.9"
    },
    "vscode": {
      "interpreter": {
        "hash": "ca27fca65bbd5c56c827a2643e94bc7b2b551ee6ee2fe84566f2c789012bce4f"
      }
    }
  },
  "nbformat": 4,
  "nbformat_minor": 0
}
