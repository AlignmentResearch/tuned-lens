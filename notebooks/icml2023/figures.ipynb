{
 "cells": [
  {
   "cell_type": "code",
   "execution_count": 36,
   "metadata": {},
   "outputs": [
    {
     "data": {
      "application/vnd.jupyter.widget-view+json": {
       "model_id": "70c2ae5bc13f45269b0c970b51dc0601",
       "version_major": 2,
       "version_minor": 0
      },
      "text/plain": [
       "Loading checkpoint shards:   0%|          | 0/3 [00:00<?, ?it/s]"
      ]
     },
     "metadata": {},
     "output_type": "display_data"
    }
   ],
   "source": [
    "from transformers import AutoModelForCausalLM, AutoTokenizer\n",
    "# from tuned_lens.plotting import plot_logit_lens\n",
    "\n",
    "model = AutoModelForCausalLM.from_pretrained(\"EleutherAI/pythia-13b-deduped\", torch_dtype=\"auto\").to(\"cuda:1\")\n",
    "tokenizer = AutoTokenizer.from_pretrained(\"EleutherAI/pythia-13b-deduped\")"
   ]
  },
  {
   "cell_type": "code",
   "execution_count": 39,
   "metadata": {},
   "outputs": [],
   "source": [
    "import torch as th\n",
    "\n",
    "pythia_70m_metrics = th.load(\n",
    "    \"/mnt/ssd-1/nora/real-lenses/pythia/19m-deduped/affine/eval/aggregate_metrics.pt\",\n",
    "    map_location=\"cpu\"\n",
    ")\n",
    "pythia_160m_metrics = th.load(\n",
    "    \"/mnt/ssd-1/nora/real-lenses/pythia/125m-deduped/affine/eval/aggregate_metrics.pt\",\n",
    "    map_location=\"cpu\"\n",
    ")\n",
    "pythia_410m_metrics = th.load(\n",
    "    \"/mnt/ssd-1/nora/real-lenses/pythia/350m-deduped/affine/eval/aggregate_metrics.pt\",\n",
    "    map_location=\"cpu\"\n",
    ")\n",
    "pythia_1_4b_metrics = th.load(\n",
    "    \"/mnt/ssd-1/nora/real-lenses/pythia/1.3b-deduped/affine/eval/aggregate_metrics.pt\",\n",
    "    map_location=\"cpu\"\n",
    ")\n",
    "pythia_12b_metrics = th.load(\n",
    "    \"/mnt/ssd-1/nora/real-lenses/pythia/13b-deduped/affine/eval/aggregate_metrics.pt\",\n",
    "    map_location=\"cpu\"\n",
    ")\n",
    "neox_20b_metrics = th.load(\n",
    "    \"/mnt/ssd-1/nora/real-lenses/gpt-neox-20b/classic/eval/aggregate_metrics.pt\",\n",
    "    map_location=\"cpu\"\n",
    ")"
   ]
  },
  {
   "cell_type": "code",
   "execution_count": 3,
   "metadata": {},
   "outputs": [],
   "source": [
    "import torch as th\n",
    "\n",
    "bloom_metrics = th.load(\n",
    "    \"/mnt/ssd-1/nora/real-lenses/bloom/560m/affine/eval/aggregate_metrics.pt\",\n",
    "    map_location=\"cpu\"\n",
    ")\n",
    "bloom_extra_metrics = th.load(\n",
    "    \"/mnt/ssd-1/nora/real-lenses/bloom/560m/extra-layer/eval/aggregate_metrics.pt\",\n",
    "    map_location=\"cpu\"\n",
    ")\n",
    "neo_metrics = th.load(\n",
    "    \"/mnt/ssd-1/nora/real-lenses/gpt-neo/125M/extra-layer/eval/aggregate_metrics.pt\",\n",
    "    map_location=\"cpu\"\n",
    ")\n",
    "neo_1_3b_metrics = th.load(\n",
    "    \"/mnt/ssd-1/nora/real-lenses/gpt-neo/1.3B/extra-layer/eval/aggregate_metrics.pt\",\n",
    "    map_location=\"cpu\"\n",
    ")\n",
    "# neo2_7b_metrics = th.load(\n",
    "#     \"/mnt/ssd-1/nora/real-lenses/gpt-neo/2.7B/eval/aggregate_metrics.pt\",\n",
    "#     map_location=\"cpu\"\n",
    "# )\n",
    "neo2_7b_extra_metrics = th.load(\n",
    "    \"/mnt/ssd-1/nora/real-lenses/gpt-neo/2.7B/extra-layer/eval/aggregate_metrics.pt\",\n",
    "    map_location=\"cpu\"\n",
    ")\n",
    "opt_125m_metrics = th.load(\n",
    "    \"/mnt/ssd-1/nora/real-lenses/opt/125m/affine/eval/aggregate_metrics.pt\",\n",
    "    map_location=\"cpu\"\n",
    ")\n",
    "# opt_1_3b_metrics = th.load(\n",
    "#     \"/mnt/ssd-1/nora/real-lenses/opt/1.3b/affine/eval/aggregate_metrics.pt\",\n",
    "#     map_location=\"cpu\"\n",
    "# )\n",
    "# opt_6_7b_metrics = th.load(\n",
    "#     \"/mnt/ssd-1/nora/real-lenses/opt/6.7b/affine/eval/aggregate_metrics.pt\",\n",
    "#     map_location=\"cpu\"\n",
    "# )\n",
    "pythia_metrics = th.load(\n",
    "    \"/mnt/ssd-1/nora/real-lenses/pythia/125m-deduped/affine/eval/aggregate_metrics.pt\",\n",
    "    map_location=\"cpu\"\n",
    ")\n",
    "pythia_1_3b_metrics = th.load(\n",
    "    \"/mnt/ssd-1/nora/real-lenses/pythia/1.3b-deduped/affine/eval/aggregate_metrics.pt\",\n",
    "    map_location=\"cpu\"\n",
    ")\n",
    "neox_metrics = th.load(\n",
    "    \"/mnt/ssd-1/nora/real-lenses/gpt-neox-20b/classic/eval/aggregate_metrics.pt\",\n",
    "    map_location=\"cpu\"\n",
    ")"
   ]
  },
  {
   "cell_type": "code",
   "execution_count": null,
   "metadata": {},
   "outputs": [],
   "source": [
    "import plotly.graph_objects as go\n",
    "import plotly.express as px\n",
    "\n",
    "X = [\n",
    "    (\"70M\", pythia_70m_metrics),\n",
    "    (\"160M\", pythia_160m_metrics),\n",
    "    # (\"410M\", pythia_410m_metrics),\n",
    "    (\"1.4B\", pythia_1_4b_metrics),\n",
    "    (\"12B\", pythia_12b_metrics),\n",
    "    # (\"20B<br>(NeoX)\", neox_20b_metrics),\n",
    "]\n",
    "\n",
    "fig = go.Figure([\n",
    "    go.Scatter(\n",
    "        marker_color=color,\n",
    "        mode=\"lines+markers\",\n",
    "        name=name,\n",
    "        y=list(metrics['lens_ce'].values())\n",
    "    )\n",
    "    for color, (name, metrics) in zip(\n",
    "        px.colors.sequential.Plasma[::2], X\n",
    "    )\n",
    "]).update_layout(\n",
    "    hovermode=\"y unified\",\n",
    "    legend_title=\"Model size\",\n",
    "    title=\"Tuned lens perplexity across depth & scale (Pythia)\",\n",
    ").update_xaxes(\n",
    "    dtick=5,\n",
    "    title=\"Layer\"\n",
    ").update_yaxes(\n",
    "    title=\"bits per byte\",\n",
    "    type=\"log\"\n",
    ")\n",
    "fig"
   ]
  },
  {
   "cell_type": "code",
   "execution_count": 141,
   "metadata": {},
   "outputs": [
    {
     "data": {
      "application/vnd.plotly.v1+json": {
       "config": {
        "plotlyServerURL": "https://plot.ly"
       },
       "data": [
        {
         "marker": {
          "color": "red",
          "symbol": "square"
         },
         "mode": "lines+markers",
         "name": "Logit lens",
         "showlegend": false,
         "type": "scatter",
         "xaxis": "x",
         "y": [
          57.6038932800293,
          46.9735221862793,
          38.26213073730469,
          31.67559051513672,
          26.22719383239746,
          21.631603240966797,
          18.321334838867188,
          15.68665599822998,
          14.144315719604492,
          13.15234088897705,
          12.37767219543457,
          11.386669158935547,
          10.526516914367676,
          9.675722122192383,
          8.907505989074707,
          8.19272232055664,
          7.529966354370117,
          6.869546890258789,
          6.311687469482422,
          5.708779335021973,
          5.125416278839111,
          3.9716222286224365,
          1.4580005407333374,
          1.0368486642837524
         ],
         "yaxis": "y"
        },
        {
         "marker": {
          "color": "blue",
          "symbol": "circle"
         },
         "mode": "lines+markers",
         "name": "Tuned lens",
         "showlegend": false,
         "type": "scatter",
         "xaxis": "x",
         "y": [
          4.9222893714904785,
          4.7674336433410645,
          4.448805809020996,
          4.187384605407715,
          3.90246319770813,
          3.620805501937866,
          3.4477322101593018,
          3.3373396396636963,
          3.277031421661377,
          3.2291059494018555,
          3.175934076309204,
          3.093902826309204,
          3.01196551322937,
          2.928215980529785,
          2.843405246734619,
          2.7627599239349365,
          2.6623730659484863,
          2.5143163204193115,
          2.3524980545043945,
          2.112969160079956,
          1.8459917306900024,
          1.5058952569961548,
          1.215417504310608,
          1.0363719463348389
         ],
         "yaxis": "y"
        },
        {
         "line": {
          "color": "black",
          "dash": "dash"
         },
         "mode": "lines",
         "name": "Final logits",
         "showlegend": false,
         "type": "scatter",
         "x": [
          0,
          24
         ],
         "xaxis": "x",
         "y": [
          0.9786460995674133,
          0.9584668874740601
         ],
         "yaxis": "y"
        },
        {
         "marker": {
          "color": "red",
          "symbol": "square"
         },
         "mode": "lines+markers",
         "name": "Logit lens",
         "type": "scatter",
         "xaxis": "x2",
         "y": [
          7.944322109222412,
          7.826043128967285,
          7.39636754989624,
          6.876712799072266,
          6.2999467849731445,
          5.614015102386475,
          5.4452924728393555,
          5.3377580642700195,
          5.285702705383301,
          5.298531532287598,
          5.324831962585449,
          5.329705715179443,
          5.2979416847229,
          5.345452785491943,
          5.222533226013184,
          5.046346187591553,
          5.000791549682617,
          4.731762886047363,
          4.344107151031494,
          3.7854864597320557,
          3.12605881690979,
          1.8797420263290405,
          1.0087485313415527,
          0.9584668874740601
         ],
         "yaxis": "y2"
        },
        {
         "marker": {
          "color": "blue"
         },
         "mode": "lines+markers",
         "name": "Tuned lens",
         "type": "scatter",
         "xaxis": "x2",
         "y": [
          2.9180221557617188,
          2.8516831398010254,
          2.786970853805542,
          2.7282590866088867,
          2.647552251815796,
          2.5236401557922363,
          2.432034730911255,
          2.3461556434631348,
          2.2699484825134277,
          2.1886210441589355,
          2.0991101264953613,
          1.9541881084442139,
          1.8478153944015503,
          1.7563728094100952,
          1.6663076877593994,
          1.5970336198806763,
          1.5160892009735107,
          1.41469144821167,
          1.3323229551315308,
          1.2256585359573364,
          1.1374043226242065,
          1.04804527759552,
          0.9846856594085693,
          0.9602017998695374
         ],
         "yaxis": "y2"
        },
        {
         "line": {
          "color": "black",
          "dash": "dash"
         },
         "mode": "lines",
         "name": "Final logits",
         "type": "scatter",
         "x": [
          0,
          24
         ],
         "xaxis": "x2",
         "y": [
          0.9786460995674133,
          0.9584668874740601
         ],
         "yaxis": "y2"
        }
       ],
       "layout": {
        "annotations": [
         {
          "font": {
           "color": "black",
           "size": 20
          },
          "showarrow": false,
          "text": "w/o final layer",
          "x": 0.2375,
          "xanchor": "center",
          "xref": "paper",
          "y": 1,
          "yanchor": "bottom",
          "yref": "paper"
         },
         {
          "font": {
           "color": "black",
           "size": 20
          },
          "showarrow": false,
          "text": "w/ final layer",
          "x": 0.7625,
          "xanchor": "center",
          "xref": "paper",
          "y": 1,
          "yanchor": "bottom",
          "yref": "paper"
         },
         {
          "font": {
           "color": "black",
           "size": 20
          },
          "showarrow": false,
          "text": "Layer",
          "x": 0.5,
          "xanchor": "center",
          "xref": "paper",
          "y": 0,
          "yanchor": "top",
          "yref": "paper",
          "yshift": -30
         },
         {
          "font": {
           "color": "black",
           "size": 20
          },
          "showarrow": false,
          "text": "bits per byte",
          "textangle": -90,
          "x": 0,
          "xanchor": "right",
          "xref": "paper",
          "xshift": -40,
          "y": 0.5,
          "yanchor": "middle",
          "yref": "paper"
         }
        ],
        "font": {
         "color": "black",
         "size": 16
        },
        "height": 324,
        "legend": {
         "x": 0.24
        },
        "margin": {
         "b": 70,
         "l": 70,
         "r": 30,
         "t": 50
        },
        "template": {
         "data": {
          "bar": [
           {
            "error_x": {
             "color": "#2a3f5f"
            },
            "error_y": {
             "color": "#2a3f5f"
            },
            "marker": {
             "line": {
              "color": "#E5ECF6",
              "width": 0.5
             },
             "pattern": {
              "fillmode": "overlay",
              "size": 10,
              "solidity": 0.2
             }
            },
            "type": "bar"
           }
          ],
          "barpolar": [
           {
            "marker": {
             "line": {
              "color": "#E5ECF6",
              "width": 0.5
             },
             "pattern": {
              "fillmode": "overlay",
              "size": 10,
              "solidity": 0.2
             }
            },
            "type": "barpolar"
           }
          ],
          "carpet": [
           {
            "aaxis": {
             "endlinecolor": "#2a3f5f",
             "gridcolor": "white",
             "linecolor": "white",
             "minorgridcolor": "white",
             "startlinecolor": "#2a3f5f"
            },
            "baxis": {
             "endlinecolor": "#2a3f5f",
             "gridcolor": "white",
             "linecolor": "white",
             "minorgridcolor": "white",
             "startlinecolor": "#2a3f5f"
            },
            "type": "carpet"
           }
          ],
          "choropleth": [
           {
            "colorbar": {
             "outlinewidth": 0,
             "ticks": ""
            },
            "type": "choropleth"
           }
          ],
          "contour": [
           {
            "colorbar": {
             "outlinewidth": 0,
             "ticks": ""
            },
            "colorscale": [
             [
              0,
              "#0d0887"
             ],
             [
              0.1111111111111111,
              "#46039f"
             ],
             [
              0.2222222222222222,
              "#7201a8"
             ],
             [
              0.3333333333333333,
              "#9c179e"
             ],
             [
              0.4444444444444444,
              "#bd3786"
             ],
             [
              0.5555555555555556,
              "#d8576b"
             ],
             [
              0.6666666666666666,
              "#ed7953"
             ],
             [
              0.7777777777777778,
              "#fb9f3a"
             ],
             [
              0.8888888888888888,
              "#fdca26"
             ],
             [
              1,
              "#f0f921"
             ]
            ],
            "type": "contour"
           }
          ],
          "contourcarpet": [
           {
            "colorbar": {
             "outlinewidth": 0,
             "ticks": ""
            },
            "type": "contourcarpet"
           }
          ],
          "heatmap": [
           {
            "colorbar": {
             "outlinewidth": 0,
             "ticks": ""
            },
            "colorscale": [
             [
              0,
              "#0d0887"
             ],
             [
              0.1111111111111111,
              "#46039f"
             ],
             [
              0.2222222222222222,
              "#7201a8"
             ],
             [
              0.3333333333333333,
              "#9c179e"
             ],
             [
              0.4444444444444444,
              "#bd3786"
             ],
             [
              0.5555555555555556,
              "#d8576b"
             ],
             [
              0.6666666666666666,
              "#ed7953"
             ],
             [
              0.7777777777777778,
              "#fb9f3a"
             ],
             [
              0.8888888888888888,
              "#fdca26"
             ],
             [
              1,
              "#f0f921"
             ]
            ],
            "type": "heatmap"
           }
          ],
          "heatmapgl": [
           {
            "colorbar": {
             "outlinewidth": 0,
             "ticks": ""
            },
            "colorscale": [
             [
              0,
              "#0d0887"
             ],
             [
              0.1111111111111111,
              "#46039f"
             ],
             [
              0.2222222222222222,
              "#7201a8"
             ],
             [
              0.3333333333333333,
              "#9c179e"
             ],
             [
              0.4444444444444444,
              "#bd3786"
             ],
             [
              0.5555555555555556,
              "#d8576b"
             ],
             [
              0.6666666666666666,
              "#ed7953"
             ],
             [
              0.7777777777777778,
              "#fb9f3a"
             ],
             [
              0.8888888888888888,
              "#fdca26"
             ],
             [
              1,
              "#f0f921"
             ]
            ],
            "type": "heatmapgl"
           }
          ],
          "histogram": [
           {
            "marker": {
             "pattern": {
              "fillmode": "overlay",
              "size": 10,
              "solidity": 0.2
             }
            },
            "type": "histogram"
           }
          ],
          "histogram2d": [
           {
            "colorbar": {
             "outlinewidth": 0,
             "ticks": ""
            },
            "colorscale": [
             [
              0,
              "#0d0887"
             ],
             [
              0.1111111111111111,
              "#46039f"
             ],
             [
              0.2222222222222222,
              "#7201a8"
             ],
             [
              0.3333333333333333,
              "#9c179e"
             ],
             [
              0.4444444444444444,
              "#bd3786"
             ],
             [
              0.5555555555555556,
              "#d8576b"
             ],
             [
              0.6666666666666666,
              "#ed7953"
             ],
             [
              0.7777777777777778,
              "#fb9f3a"
             ],
             [
              0.8888888888888888,
              "#fdca26"
             ],
             [
              1,
              "#f0f921"
             ]
            ],
            "type": "histogram2d"
           }
          ],
          "histogram2dcontour": [
           {
            "colorbar": {
             "outlinewidth": 0,
             "ticks": ""
            },
            "colorscale": [
             [
              0,
              "#0d0887"
             ],
             [
              0.1111111111111111,
              "#46039f"
             ],
             [
              0.2222222222222222,
              "#7201a8"
             ],
             [
              0.3333333333333333,
              "#9c179e"
             ],
             [
              0.4444444444444444,
              "#bd3786"
             ],
             [
              0.5555555555555556,
              "#d8576b"
             ],
             [
              0.6666666666666666,
              "#ed7953"
             ],
             [
              0.7777777777777778,
              "#fb9f3a"
             ],
             [
              0.8888888888888888,
              "#fdca26"
             ],
             [
              1,
              "#f0f921"
             ]
            ],
            "type": "histogram2dcontour"
           }
          ],
          "mesh3d": [
           {
            "colorbar": {
             "outlinewidth": 0,
             "ticks": ""
            },
            "type": "mesh3d"
           }
          ],
          "parcoords": [
           {
            "line": {
             "colorbar": {
              "outlinewidth": 0,
              "ticks": ""
             }
            },
            "type": "parcoords"
           }
          ],
          "pie": [
           {
            "automargin": true,
            "type": "pie"
           }
          ],
          "scatter": [
           {
            "fillpattern": {
             "fillmode": "overlay",
             "size": 10,
             "solidity": 0.2
            },
            "type": "scatter"
           }
          ],
          "scatter3d": [
           {
            "line": {
             "colorbar": {
              "outlinewidth": 0,
              "ticks": ""
             }
            },
            "marker": {
             "colorbar": {
              "outlinewidth": 0,
              "ticks": ""
             }
            },
            "type": "scatter3d"
           }
          ],
          "scattercarpet": [
           {
            "marker": {
             "colorbar": {
              "outlinewidth": 0,
              "ticks": ""
             }
            },
            "type": "scattercarpet"
           }
          ],
          "scattergeo": [
           {
            "marker": {
             "colorbar": {
              "outlinewidth": 0,
              "ticks": ""
             }
            },
            "type": "scattergeo"
           }
          ],
          "scattergl": [
           {
            "marker": {
             "colorbar": {
              "outlinewidth": 0,
              "ticks": ""
             }
            },
            "type": "scattergl"
           }
          ],
          "scattermapbox": [
           {
            "marker": {
             "colorbar": {
              "outlinewidth": 0,
              "ticks": ""
             }
            },
            "type": "scattermapbox"
           }
          ],
          "scatterpolar": [
           {
            "marker": {
             "colorbar": {
              "outlinewidth": 0,
              "ticks": ""
             }
            },
            "type": "scatterpolar"
           }
          ],
          "scatterpolargl": [
           {
            "marker": {
             "colorbar": {
              "outlinewidth": 0,
              "ticks": ""
             }
            },
            "type": "scatterpolargl"
           }
          ],
          "scatterternary": [
           {
            "marker": {
             "colorbar": {
              "outlinewidth": 0,
              "ticks": ""
             }
            },
            "type": "scatterternary"
           }
          ],
          "surface": [
           {
            "colorbar": {
             "outlinewidth": 0,
             "ticks": ""
            },
            "colorscale": [
             [
              0,
              "#0d0887"
             ],
             [
              0.1111111111111111,
              "#46039f"
             ],
             [
              0.2222222222222222,
              "#7201a8"
             ],
             [
              0.3333333333333333,
              "#9c179e"
             ],
             [
              0.4444444444444444,
              "#bd3786"
             ],
             [
              0.5555555555555556,
              "#d8576b"
             ],
             [
              0.6666666666666666,
              "#ed7953"
             ],
             [
              0.7777777777777778,
              "#fb9f3a"
             ],
             [
              0.8888888888888888,
              "#fdca26"
             ],
             [
              1,
              "#f0f921"
             ]
            ],
            "type": "surface"
           }
          ],
          "table": [
           {
            "cells": {
             "fill": {
              "color": "#EBF0F8"
             },
             "line": {
              "color": "white"
             }
            },
            "header": {
             "fill": {
              "color": "#C8D4E3"
             },
             "line": {
              "color": "white"
             }
            },
            "type": "table"
           }
          ]
         },
         "layout": {
          "annotationdefaults": {
           "arrowcolor": "#2a3f5f",
           "arrowhead": 0,
           "arrowwidth": 1
          },
          "autotypenumbers": "strict",
          "coloraxis": {
           "colorbar": {
            "outlinewidth": 0,
            "ticks": ""
           }
          },
          "colorscale": {
           "diverging": [
            [
             0,
             "#8e0152"
            ],
            [
             0.1,
             "#c51b7d"
            ],
            [
             0.2,
             "#de77ae"
            ],
            [
             0.3,
             "#f1b6da"
            ],
            [
             0.4,
             "#fde0ef"
            ],
            [
             0.5,
             "#f7f7f7"
            ],
            [
             0.6,
             "#e6f5d0"
            ],
            [
             0.7,
             "#b8e186"
            ],
            [
             0.8,
             "#7fbc41"
            ],
            [
             0.9,
             "#4d9221"
            ],
            [
             1,
             "#276419"
            ]
           ],
           "sequential": [
            [
             0,
             "#0d0887"
            ],
            [
             0.1111111111111111,
             "#46039f"
            ],
            [
             0.2222222222222222,
             "#7201a8"
            ],
            [
             0.3333333333333333,
             "#9c179e"
            ],
            [
             0.4444444444444444,
             "#bd3786"
            ],
            [
             0.5555555555555556,
             "#d8576b"
            ],
            [
             0.6666666666666666,
             "#ed7953"
            ],
            [
             0.7777777777777778,
             "#fb9f3a"
            ],
            [
             0.8888888888888888,
             "#fdca26"
            ],
            [
             1,
             "#f0f921"
            ]
           ],
           "sequentialminus": [
            [
             0,
             "#0d0887"
            ],
            [
             0.1111111111111111,
             "#46039f"
            ],
            [
             0.2222222222222222,
             "#7201a8"
            ],
            [
             0.3333333333333333,
             "#9c179e"
            ],
            [
             0.4444444444444444,
             "#bd3786"
            ],
            [
             0.5555555555555556,
             "#d8576b"
            ],
            [
             0.6666666666666666,
             "#ed7953"
            ],
            [
             0.7777777777777778,
             "#fb9f3a"
            ],
            [
             0.8888888888888888,
             "#fdca26"
            ],
            [
             1,
             "#f0f921"
            ]
           ]
          },
          "colorway": [
           "#636efa",
           "#EF553B",
           "#00cc96",
           "#ab63fa",
           "#FFA15A",
           "#19d3f3",
           "#FF6692",
           "#B6E880",
           "#FF97FF",
           "#FECB52"
          ],
          "font": {
           "color": "#2a3f5f"
          },
          "geo": {
           "bgcolor": "white",
           "lakecolor": "white",
           "landcolor": "#E5ECF6",
           "showlakes": true,
           "showland": true,
           "subunitcolor": "white"
          },
          "hoverlabel": {
           "align": "left"
          },
          "hovermode": "closest",
          "mapbox": {
           "style": "light"
          },
          "paper_bgcolor": "white",
          "plot_bgcolor": "#E5ECF6",
          "polar": {
           "angularaxis": {
            "gridcolor": "white",
            "linecolor": "white",
            "ticks": ""
           },
           "bgcolor": "#E5ECF6",
           "radialaxis": {
            "gridcolor": "white",
            "linecolor": "white",
            "ticks": ""
           }
          },
          "scene": {
           "xaxis": {
            "backgroundcolor": "#E5ECF6",
            "gridcolor": "white",
            "gridwidth": 2,
            "linecolor": "white",
            "showbackground": true,
            "ticks": "",
            "zerolinecolor": "white"
           },
           "yaxis": {
            "backgroundcolor": "#E5ECF6",
            "gridcolor": "white",
            "gridwidth": 2,
            "linecolor": "white",
            "showbackground": true,
            "ticks": "",
            "zerolinecolor": "white"
           },
           "zaxis": {
            "backgroundcolor": "#E5ECF6",
            "gridcolor": "white",
            "gridwidth": 2,
            "linecolor": "white",
            "showbackground": true,
            "ticks": "",
            "zerolinecolor": "white"
           }
          },
          "shapedefaults": {
           "line": {
            "color": "#2a3f5f"
           }
          },
          "ternary": {
           "aaxis": {
            "gridcolor": "white",
            "linecolor": "white",
            "ticks": ""
           },
           "baxis": {
            "gridcolor": "white",
            "linecolor": "white",
            "ticks": ""
           },
           "bgcolor": "#E5ECF6",
           "caxis": {
            "gridcolor": "white",
            "linecolor": "white",
            "ticks": ""
           }
          },
          "title": {
           "x": 0.05
          },
          "xaxis": {
           "automargin": true,
           "gridcolor": "white",
           "linecolor": "white",
           "ticks": "",
           "title": {
            "standoff": 15
           },
           "zerolinecolor": "white",
           "zerolinewidth": 2
          },
          "yaxis": {
           "automargin": true,
           "gridcolor": "white",
           "linecolor": "white",
           "ticks": "",
           "title": {
            "standoff": 15
           },
           "zerolinecolor": "white",
           "zerolinewidth": 2
          }
         }
        },
        "width": 648,
        "xaxis": {
         "anchor": "y",
         "domain": [
          0,
          0.475
         ],
         "tickangle": -20,
         "ticktext": [
          "input",
          "5",
          "10",
          "15",
          "20",
          "25",
          "30",
          "35",
          "40",
          "45",
          "50",
          "55",
          "60",
          "65",
          "70",
          "75",
          "80",
          "85",
          "90",
          "95",
          "100",
          "105",
          "110",
          "115"
         ],
         "tickvals": [
          0,
          5,
          10,
          15,
          20
         ]
        },
        "xaxis2": {
         "anchor": "y2",
         "domain": [
          0.525,
          1
         ],
         "tickangle": -20,
         "ticktext": [
          "input",
          "5",
          "10",
          "15",
          "20",
          "25",
          "30",
          "35",
          "40",
          "45",
          "50",
          "55",
          "60",
          "65",
          "70",
          "75",
          "80",
          "85",
          "90",
          "95",
          "100",
          "105",
          "110",
          "115"
         ],
         "tickvals": [
          0,
          5,
          10,
          15,
          20
         ]
        },
        "yaxis": {
         "anchor": "x",
         "domain": [
          0,
          1
         ]
        },
        "yaxis2": {
         "anchor": "x2",
         "domain": [
          0,
          1
         ],
         "range": [
          0,
          8.5
         ]
        }
       }
      },
      "text/html": [
       "<div>                            <div id=\"7534f6e2-e5fe-449b-ab3e-451913e367fb\" class=\"plotly-graph-div\" style=\"height:324.0px; width:648.0px;\"></div>            <script type=\"text/javascript\">                require([\"plotly\"], function(Plotly) {                    window.PLOTLYENV=window.PLOTLYENV || {};                                    if (document.getElementById(\"7534f6e2-e5fe-449b-ab3e-451913e367fb\")) {                    Plotly.newPlot(                        \"7534f6e2-e5fe-449b-ab3e-451913e367fb\",                        [{\"marker\":{\"color\":\"red\",\"symbol\":\"square\"},\"mode\":\"lines+markers\",\"name\":\"Logit lens\",\"showlegend\":false,\"y\":[57.6038932800293,46.9735221862793,38.26213073730469,31.67559051513672,26.22719383239746,21.631603240966797,18.321334838867188,15.68665599822998,14.144315719604492,13.15234088897705,12.37767219543457,11.386669158935547,10.526516914367676,9.675722122192383,8.907505989074707,8.19272232055664,7.529966354370117,6.869546890258789,6.311687469482422,5.708779335021973,5.125416278839111,3.9716222286224365,1.4580005407333374,1.0368486642837524],\"type\":\"scatter\",\"xaxis\":\"x\",\"yaxis\":\"y\"},{\"marker\":{\"color\":\"blue\",\"symbol\":\"circle\"},\"mode\":\"lines+markers\",\"name\":\"Tuned lens\",\"showlegend\":false,\"y\":[4.9222893714904785,4.7674336433410645,4.448805809020996,4.187384605407715,3.90246319770813,3.620805501937866,3.4477322101593018,3.3373396396636963,3.277031421661377,3.2291059494018555,3.175934076309204,3.093902826309204,3.01196551322937,2.928215980529785,2.843405246734619,2.7627599239349365,2.6623730659484863,2.5143163204193115,2.3524980545043945,2.112969160079956,1.8459917306900024,1.5058952569961548,1.215417504310608,1.0363719463348389],\"type\":\"scatter\",\"xaxis\":\"x\",\"yaxis\":\"y\"},{\"line\":{\"color\":\"black\",\"dash\":\"dash\"},\"mode\":\"lines\",\"name\":\"Final logits\",\"showlegend\":false,\"x\":[0,24],\"y\":[0.9786460995674133,0.9584668874740601],\"type\":\"scatter\",\"xaxis\":\"x\",\"yaxis\":\"y\"},{\"marker\":{\"color\":\"red\",\"symbol\":\"square\"},\"mode\":\"lines+markers\",\"name\":\"Logit lens\",\"y\":[7.944322109222412,7.826043128967285,7.39636754989624,6.876712799072266,6.2999467849731445,5.614015102386475,5.4452924728393555,5.3377580642700195,5.285702705383301,5.298531532287598,5.324831962585449,5.329705715179443,5.2979416847229,5.345452785491943,5.222533226013184,5.046346187591553,5.000791549682617,4.731762886047363,4.344107151031494,3.7854864597320557,3.12605881690979,1.8797420263290405,1.0087485313415527,0.9584668874740601],\"type\":\"scatter\",\"xaxis\":\"x2\",\"yaxis\":\"y2\"},{\"marker\":{\"color\":\"blue\"},\"mode\":\"lines+markers\",\"name\":\"Tuned lens\",\"y\":[2.9180221557617188,2.8516831398010254,2.786970853805542,2.7282590866088867,2.647552251815796,2.5236401557922363,2.432034730911255,2.3461556434631348,2.2699484825134277,2.1886210441589355,2.0991101264953613,1.9541881084442139,1.8478153944015503,1.7563728094100952,1.6663076877593994,1.5970336198806763,1.5160892009735107,1.41469144821167,1.3323229551315308,1.2256585359573364,1.1374043226242065,1.04804527759552,0.9846856594085693,0.9602017998695374],\"type\":\"scatter\",\"xaxis\":\"x2\",\"yaxis\":\"y2\"},{\"line\":{\"color\":\"black\",\"dash\":\"dash\"},\"mode\":\"lines\",\"name\":\"Final logits\",\"x\":[0,24],\"y\":[0.9786460995674133,0.9584668874740601],\"type\":\"scatter\",\"xaxis\":\"x2\",\"yaxis\":\"y2\"}],                        {\"template\":{\"data\":{\"histogram2dcontour\":[{\"type\":\"histogram2dcontour\",\"colorbar\":{\"outlinewidth\":0,\"ticks\":\"\"},\"colorscale\":[[0.0,\"#0d0887\"],[0.1111111111111111,\"#46039f\"],[0.2222222222222222,\"#7201a8\"],[0.3333333333333333,\"#9c179e\"],[0.4444444444444444,\"#bd3786\"],[0.5555555555555556,\"#d8576b\"],[0.6666666666666666,\"#ed7953\"],[0.7777777777777778,\"#fb9f3a\"],[0.8888888888888888,\"#fdca26\"],[1.0,\"#f0f921\"]]}],\"choropleth\":[{\"type\":\"choropleth\",\"colorbar\":{\"outlinewidth\":0,\"ticks\":\"\"}}],\"histogram2d\":[{\"type\":\"histogram2d\",\"colorbar\":{\"outlinewidth\":0,\"ticks\":\"\"},\"colorscale\":[[0.0,\"#0d0887\"],[0.1111111111111111,\"#46039f\"],[0.2222222222222222,\"#7201a8\"],[0.3333333333333333,\"#9c179e\"],[0.4444444444444444,\"#bd3786\"],[0.5555555555555556,\"#d8576b\"],[0.6666666666666666,\"#ed7953\"],[0.7777777777777778,\"#fb9f3a\"],[0.8888888888888888,\"#fdca26\"],[1.0,\"#f0f921\"]]}],\"heatmap\":[{\"type\":\"heatmap\",\"colorbar\":{\"outlinewidth\":0,\"ticks\":\"\"},\"colorscale\":[[0.0,\"#0d0887\"],[0.1111111111111111,\"#46039f\"],[0.2222222222222222,\"#7201a8\"],[0.3333333333333333,\"#9c179e\"],[0.4444444444444444,\"#bd3786\"],[0.5555555555555556,\"#d8576b\"],[0.6666666666666666,\"#ed7953\"],[0.7777777777777778,\"#fb9f3a\"],[0.8888888888888888,\"#fdca26\"],[1.0,\"#f0f921\"]]}],\"heatmapgl\":[{\"type\":\"heatmapgl\",\"colorbar\":{\"outlinewidth\":0,\"ticks\":\"\"},\"colorscale\":[[0.0,\"#0d0887\"],[0.1111111111111111,\"#46039f\"],[0.2222222222222222,\"#7201a8\"],[0.3333333333333333,\"#9c179e\"],[0.4444444444444444,\"#bd3786\"],[0.5555555555555556,\"#d8576b\"],[0.6666666666666666,\"#ed7953\"],[0.7777777777777778,\"#fb9f3a\"],[0.8888888888888888,\"#fdca26\"],[1.0,\"#f0f921\"]]}],\"contourcarpet\":[{\"type\":\"contourcarpet\",\"colorbar\":{\"outlinewidth\":0,\"ticks\":\"\"}}],\"contour\":[{\"type\":\"contour\",\"colorbar\":{\"outlinewidth\":0,\"ticks\":\"\"},\"colorscale\":[[0.0,\"#0d0887\"],[0.1111111111111111,\"#46039f\"],[0.2222222222222222,\"#7201a8\"],[0.3333333333333333,\"#9c179e\"],[0.4444444444444444,\"#bd3786\"],[0.5555555555555556,\"#d8576b\"],[0.6666666666666666,\"#ed7953\"],[0.7777777777777778,\"#fb9f3a\"],[0.8888888888888888,\"#fdca26\"],[1.0,\"#f0f921\"]]}],\"surface\":[{\"type\":\"surface\",\"colorbar\":{\"outlinewidth\":0,\"ticks\":\"\"},\"colorscale\":[[0.0,\"#0d0887\"],[0.1111111111111111,\"#46039f\"],[0.2222222222222222,\"#7201a8\"],[0.3333333333333333,\"#9c179e\"],[0.4444444444444444,\"#bd3786\"],[0.5555555555555556,\"#d8576b\"],[0.6666666666666666,\"#ed7953\"],[0.7777777777777778,\"#fb9f3a\"],[0.8888888888888888,\"#fdca26\"],[1.0,\"#f0f921\"]]}],\"mesh3d\":[{\"type\":\"mesh3d\",\"colorbar\":{\"outlinewidth\":0,\"ticks\":\"\"}}],\"scatter\":[{\"fillpattern\":{\"fillmode\":\"overlay\",\"size\":10,\"solidity\":0.2},\"type\":\"scatter\"}],\"parcoords\":[{\"type\":\"parcoords\",\"line\":{\"colorbar\":{\"outlinewidth\":0,\"ticks\":\"\"}}}],\"scatterpolargl\":[{\"type\":\"scatterpolargl\",\"marker\":{\"colorbar\":{\"outlinewidth\":0,\"ticks\":\"\"}}}],\"bar\":[{\"error_x\":{\"color\":\"#2a3f5f\"},\"error_y\":{\"color\":\"#2a3f5f\"},\"marker\":{\"line\":{\"color\":\"#E5ECF6\",\"width\":0.5},\"pattern\":{\"fillmode\":\"overlay\",\"size\":10,\"solidity\":0.2}},\"type\":\"bar\"}],\"scattergeo\":[{\"type\":\"scattergeo\",\"marker\":{\"colorbar\":{\"outlinewidth\":0,\"ticks\":\"\"}}}],\"scatterpolar\":[{\"type\":\"scatterpolar\",\"marker\":{\"colorbar\":{\"outlinewidth\":0,\"ticks\":\"\"}}}],\"histogram\":[{\"marker\":{\"pattern\":{\"fillmode\":\"overlay\",\"size\":10,\"solidity\":0.2}},\"type\":\"histogram\"}],\"scattergl\":[{\"type\":\"scattergl\",\"marker\":{\"colorbar\":{\"outlinewidth\":0,\"ticks\":\"\"}}}],\"scatter3d\":[{\"type\":\"scatter3d\",\"line\":{\"colorbar\":{\"outlinewidth\":0,\"ticks\":\"\"}},\"marker\":{\"colorbar\":{\"outlinewidth\":0,\"ticks\":\"\"}}}],\"scattermapbox\":[{\"type\":\"scattermapbox\",\"marker\":{\"colorbar\":{\"outlinewidth\":0,\"ticks\":\"\"}}}],\"scatterternary\":[{\"type\":\"scatterternary\",\"marker\":{\"colorbar\":{\"outlinewidth\":0,\"ticks\":\"\"}}}],\"scattercarpet\":[{\"type\":\"scattercarpet\",\"marker\":{\"colorbar\":{\"outlinewidth\":0,\"ticks\":\"\"}}}],\"carpet\":[{\"aaxis\":{\"endlinecolor\":\"#2a3f5f\",\"gridcolor\":\"white\",\"linecolor\":\"white\",\"minorgridcolor\":\"white\",\"startlinecolor\":\"#2a3f5f\"},\"baxis\":{\"endlinecolor\":\"#2a3f5f\",\"gridcolor\":\"white\",\"linecolor\":\"white\",\"minorgridcolor\":\"white\",\"startlinecolor\":\"#2a3f5f\"},\"type\":\"carpet\"}],\"table\":[{\"cells\":{\"fill\":{\"color\":\"#EBF0F8\"},\"line\":{\"color\":\"white\"}},\"header\":{\"fill\":{\"color\":\"#C8D4E3\"},\"line\":{\"color\":\"white\"}},\"type\":\"table\"}],\"barpolar\":[{\"marker\":{\"line\":{\"color\":\"#E5ECF6\",\"width\":0.5},\"pattern\":{\"fillmode\":\"overlay\",\"size\":10,\"solidity\":0.2}},\"type\":\"barpolar\"}],\"pie\":[{\"automargin\":true,\"type\":\"pie\"}]},\"layout\":{\"autotypenumbers\":\"strict\",\"colorway\":[\"#636efa\",\"#EF553B\",\"#00cc96\",\"#ab63fa\",\"#FFA15A\",\"#19d3f3\",\"#FF6692\",\"#B6E880\",\"#FF97FF\",\"#FECB52\"],\"font\":{\"color\":\"#2a3f5f\"},\"hovermode\":\"closest\",\"hoverlabel\":{\"align\":\"left\"},\"paper_bgcolor\":\"white\",\"plot_bgcolor\":\"#E5ECF6\",\"polar\":{\"bgcolor\":\"#E5ECF6\",\"angularaxis\":{\"gridcolor\":\"white\",\"linecolor\":\"white\",\"ticks\":\"\"},\"radialaxis\":{\"gridcolor\":\"white\",\"linecolor\":\"white\",\"ticks\":\"\"}},\"ternary\":{\"bgcolor\":\"#E5ECF6\",\"aaxis\":{\"gridcolor\":\"white\",\"linecolor\":\"white\",\"ticks\":\"\"},\"baxis\":{\"gridcolor\":\"white\",\"linecolor\":\"white\",\"ticks\":\"\"},\"caxis\":{\"gridcolor\":\"white\",\"linecolor\":\"white\",\"ticks\":\"\"}},\"coloraxis\":{\"colorbar\":{\"outlinewidth\":0,\"ticks\":\"\"}},\"colorscale\":{\"sequential\":[[0.0,\"#0d0887\"],[0.1111111111111111,\"#46039f\"],[0.2222222222222222,\"#7201a8\"],[0.3333333333333333,\"#9c179e\"],[0.4444444444444444,\"#bd3786\"],[0.5555555555555556,\"#d8576b\"],[0.6666666666666666,\"#ed7953\"],[0.7777777777777778,\"#fb9f3a\"],[0.8888888888888888,\"#fdca26\"],[1.0,\"#f0f921\"]],\"sequentialminus\":[[0.0,\"#0d0887\"],[0.1111111111111111,\"#46039f\"],[0.2222222222222222,\"#7201a8\"],[0.3333333333333333,\"#9c179e\"],[0.4444444444444444,\"#bd3786\"],[0.5555555555555556,\"#d8576b\"],[0.6666666666666666,\"#ed7953\"],[0.7777777777777778,\"#fb9f3a\"],[0.8888888888888888,\"#fdca26\"],[1.0,\"#f0f921\"]],\"diverging\":[[0,\"#8e0152\"],[0.1,\"#c51b7d\"],[0.2,\"#de77ae\"],[0.3,\"#f1b6da\"],[0.4,\"#fde0ef\"],[0.5,\"#f7f7f7\"],[0.6,\"#e6f5d0\"],[0.7,\"#b8e186\"],[0.8,\"#7fbc41\"],[0.9,\"#4d9221\"],[1,\"#276419\"]]},\"xaxis\":{\"gridcolor\":\"white\",\"linecolor\":\"white\",\"ticks\":\"\",\"title\":{\"standoff\":15},\"zerolinecolor\":\"white\",\"automargin\":true,\"zerolinewidth\":2},\"yaxis\":{\"gridcolor\":\"white\",\"linecolor\":\"white\",\"ticks\":\"\",\"title\":{\"standoff\":15},\"zerolinecolor\":\"white\",\"automargin\":true,\"zerolinewidth\":2},\"scene\":{\"xaxis\":{\"backgroundcolor\":\"#E5ECF6\",\"gridcolor\":\"white\",\"linecolor\":\"white\",\"showbackground\":true,\"ticks\":\"\",\"zerolinecolor\":\"white\",\"gridwidth\":2},\"yaxis\":{\"backgroundcolor\":\"#E5ECF6\",\"gridcolor\":\"white\",\"linecolor\":\"white\",\"showbackground\":true,\"ticks\":\"\",\"zerolinecolor\":\"white\",\"gridwidth\":2},\"zaxis\":{\"backgroundcolor\":\"#E5ECF6\",\"gridcolor\":\"white\",\"linecolor\":\"white\",\"showbackground\":true,\"ticks\":\"\",\"zerolinecolor\":\"white\",\"gridwidth\":2}},\"shapedefaults\":{\"line\":{\"color\":\"#2a3f5f\"}},\"annotationdefaults\":{\"arrowcolor\":\"#2a3f5f\",\"arrowhead\":0,\"arrowwidth\":1},\"geo\":{\"bgcolor\":\"white\",\"landcolor\":\"#E5ECF6\",\"subunitcolor\":\"white\",\"showland\":true,\"showlakes\":true,\"lakecolor\":\"white\"},\"title\":{\"x\":0.05},\"mapbox\":{\"style\":\"light\"}}},\"xaxis\":{\"anchor\":\"y\",\"domain\":[0.0,0.475],\"tickangle\":-20,\"tickvals\":[0,5,10,15,20],\"ticktext\":[\"input\",\"5\",\"10\",\"15\",\"20\",\"25\",\"30\",\"35\",\"40\",\"45\",\"50\",\"55\",\"60\",\"65\",\"70\",\"75\",\"80\",\"85\",\"90\",\"95\",\"100\",\"105\",\"110\",\"115\"]},\"yaxis\":{\"anchor\":\"x\",\"domain\":[0.0,1.0]},\"xaxis2\":{\"anchor\":\"y2\",\"domain\":[0.525,1.0],\"tickangle\":-20,\"tickvals\":[0,5,10,15,20],\"ticktext\":[\"input\",\"5\",\"10\",\"15\",\"20\",\"25\",\"30\",\"35\",\"40\",\"45\",\"50\",\"55\",\"60\",\"65\",\"70\",\"75\",\"80\",\"85\",\"90\",\"95\",\"100\",\"105\",\"110\",\"115\"]},\"yaxis2\":{\"anchor\":\"x2\",\"domain\":[0.0,1.0],\"range\":[0,8.5]},\"annotations\":[{\"font\":{\"size\":20,\"color\":\"black\"},\"showarrow\":false,\"text\":\"w/o final layer\",\"x\":0.2375,\"xanchor\":\"center\",\"xref\":\"paper\",\"y\":1.0,\"yanchor\":\"bottom\",\"yref\":\"paper\"},{\"font\":{\"size\":20,\"color\":\"black\"},\"showarrow\":false,\"text\":\"w/ final layer\",\"x\":0.7625,\"xanchor\":\"center\",\"xref\":\"paper\",\"y\":1.0,\"yanchor\":\"bottom\",\"yref\":\"paper\"},{\"font\":{\"size\":20,\"color\":\"black\"},\"showarrow\":false,\"text\":\"Layer\",\"x\":0.5,\"xanchor\":\"center\",\"xref\":\"paper\",\"y\":0,\"yanchor\":\"top\",\"yref\":\"paper\",\"yshift\":-30},{\"font\":{\"size\":20,\"color\":\"black\"},\"showarrow\":false,\"text\":\"bits per byte\",\"textangle\":-90,\"x\":0,\"xanchor\":\"right\",\"xref\":\"paper\",\"xshift\":-40,\"y\":0.5,\"yanchor\":\"middle\",\"yref\":\"paper\"}],\"font\":{\"color\":\"black\",\"size\":16},\"legend\":{\"x\":0.24},\"margin\":{\"l\":70,\"r\":30,\"t\":50,\"b\":70},\"height\":324.0,\"width\":648.0},                        {\"responsive\": true}                    ).then(function(){\n",
       "                            \n",
       "var gd = document.getElementById('7534f6e2-e5fe-449b-ab3e-451913e367fb');\n",
       "var x = new MutationObserver(function (mutations, observer) {{\n",
       "        var display = window.getComputedStyle(gd).display;\n",
       "        if (!display || display === 'none') {{\n",
       "            console.log([gd, 'removed!']);\n",
       "            Plotly.purge(gd);\n",
       "            observer.disconnect();\n",
       "        }}\n",
       "}});\n",
       "\n",
       "// Listen for the removal of the full notebook cells\n",
       "var notebookContainer = gd.closest('#notebook-container');\n",
       "if (notebookContainer) {{\n",
       "    x.observe(notebookContainer, {childList: true});\n",
       "}}\n",
       "\n",
       "// Listen for the clearing of the current output cell\n",
       "var outputEl = gd.closest('.output');\n",
       "if (outputEl) {{\n",
       "    x.observe(outputEl, {childList: true});\n",
       "}}\n",
       "\n",
       "                        })                };                });            </script>        </div>"
      ]
     },
     "metadata": {},
     "output_type": "display_data"
    }
   ],
   "source": [
    "from plotly.subplots import make_subplots\n",
    "import plotly.graph_objects as go\n",
    "\n",
    "vanilla_ll = list(bloom_metrics['baseline_ce'].values())\n",
    "extra_ll = list(bloom_extra_metrics['baseline_ce'].values())\n",
    "\n",
    "TEXT_WIDTH = 6.75 * 96 # 487.8225\n",
    "\n",
    "master = make_subplots(\n",
    "    cols=2,\n",
    "    horizontal_spacing=0.05,\n",
    "    subplot_titles=(\"w/o final layer\", \"w/ final layer\"),\n",
    "    x_title=\"Layer\",\n",
    "    y_title=\"bits per byte\",\n",
    ").add_traces(\n",
    "    cols=1, rows=1,\n",
    "    data=[\n",
    "        go.Scatter(\n",
    "            y=vanilla_ll[:-1],\n",
    "            marker_color=\"red\",\n",
    "            marker_symbol=\"square\",\n",
    "            mode=\"lines+markers\",\n",
    "            name=\"Logit lens\",\n",
    "            showlegend=False,\n",
    "        ),\n",
    "        go.Scatter(\n",
    "            y=list(bloom_metrics['lens_ce'].values()),\n",
    "            marker_color=\"blue\",\n",
    "            marker_symbol=\"circle\",\n",
    "            mode=\"lines+markers\",\n",
    "            name=\"Tuned lens\",\n",
    "            showlegend=False,\n",
    "        ),\n",
    "        go.Scatter(\n",
    "            x=(0, len(extra_ll) - 1),\n",
    "            y=(vanilla_ll[-1], extra_ll[-1]),\n",
    "            line_color=\"black\",\n",
    "            line_dash=\"dash\",\n",
    "            mode=\"lines\",\n",
    "            name=\"Final logits\",\n",
    "            showlegend=False,\n",
    "        ),\n",
    "    ]\n",
    ").add_traces(\n",
    "    cols=2, rows=1,\n",
    "    data=[\n",
    "        go.Scatter(\n",
    "            y=extra_ll[:-1],\n",
    "            marker_color=\"red\",\n",
    "            marker_symbol=\"square\",\n",
    "            mode=\"lines+markers\",\n",
    "            name=\"Logit lens\",\n",
    "        ),\n",
    "        go.Scatter(\n",
    "            y=list(bloom_extra_metrics['lens_ce'].values()),\n",
    "            marker_color=\"blue\",\n",
    "            mode=\"lines+markers\",\n",
    "            name=\"Tuned lens\",\n",
    "        ),\n",
    "        go.Scatter(\n",
    "            x=(0, len(extra_ll) - 1),\n",
    "            y=(vanilla_ll[-1], extra_ll[-1]),\n",
    "            line_color=\"black\",\n",
    "            line_dash=\"dash\",\n",
    "            mode=\"lines\",\n",
    "            name=\"Final logits\",\n",
    "        ),\n",
    "    ]\n",
    ").update_annotations(\n",
    "    font=dict(color=\"black\", size=20),\n",
    ").update_layout(\n",
    "    font=dict(color=\"black\", size=16),\n",
    "    height=TEXT_WIDTH / 2,\n",
    "    width=TEXT_WIDTH,\n",
    "    xaxis1=dict(\n",
    "        tickangle=-20,\n",
    "        tickvals=list(range(0, len(vanilla_ll) - 1, 5)),\n",
    "        ticktext=[\"input\"] + [str(i * 5) for i in range(1, len(vanilla_ll) - 1)],\n",
    "    ),\n",
    "    xaxis2=dict(\n",
    "        tickangle=-20,\n",
    "        tickvals=list(range(0, len(extra_ll) - 1, 5)),\n",
    "        ticktext=[\"input\"] + [str(i * 5) for i in range(1, len(extra_ll) - 1)],\n",
    "    ),\n",
    "    yaxis2=dict(\n",
    "        range=[0, 8.5]\n",
    "    ),\n",
    "    legend=dict(\n",
    "        x=0.24,\n",
    "    ),\n",
    "    margin_l=70,\n",
    "    margin_r=30,\n",
    "    margin_t=50,\n",
    "    margin_b=70,\n",
    ")\n",
    "master"
   ]
  },
  {
   "cell_type": "code",
   "execution_count": null,
   "metadata": {},
   "outputs": [],
   "source": [
    "# Constants factors\n",
    "marginInches = 1/18\n",
    "ppi = 96\n",
    "width_inches = 6.771654 / 2\n",
    "height_inches = 4"
   ]
  },
  {
   "cell_type": "code",
   "execution_count": 78,
   "metadata": {},
   "outputs": [
    {
     "data": {
      "text/plain": [
       "6.75"
      ]
     },
     "execution_count": 78,
     "metadata": {},
     "output_type": "execute_result"
    }
   ],
   "source": [
    "TEXT_WIDTH / 72.27"
   ]
  },
  {
   "cell_type": "code",
   "execution_count": 142,
   "metadata": {},
   "outputs": [],
   "source": [
    "master.write_image(\n",
    "    \"/mnt/ssd-1/nora/perplexity-bloom.pdf\",\n",
    ")"
   ]
  },
  {
   "cell_type": "code",
   "execution_count": 35,
   "metadata": {},
   "outputs": [
    {
     "data": {
      "text/plain": [
       "(tensor(0.9786), tensor(0.9585))"
      ]
     },
     "execution_count": 35,
     "metadata": {},
     "output_type": "execute_result"
    }
   ],
   "source": [
    "vanilla_ll[-1], extra_ll[-1]"
   ]
  },
  {
   "cell_type": "code",
   "execution_count": 41,
   "metadata": {},
   "outputs": [
    {
     "data": {
      "application/vnd.plotly.v1+json": {
       "config": {
        "plotlyServerURL": "https://plot.ly"
       },
       "data": [
        {
         "marker": {
          "color": "#0d0887"
         },
         "mode": "lines+markers",
         "name": "70M",
         "type": "scatter",
         "y": [
          2.364264726638794,
          2.0816171169281006,
          1.9225971698760986,
          1.8094964027404785,
          1.3893870115280151,
          1.2084059715270996
         ]
        },
        {
         "marker": {
          "color": "#7201a8"
         },
         "mode": "lines+markers",
         "name": "160M",
         "type": "scatter",
         "y": [
          2.3645565509796143,
          2.0977911949157715,
          2.012937545776367,
          1.89158296585083,
          1.825351357460022,
          1.6906405687332153,
          1.5033613443374634,
          1.3649832010269165,
          1.3013402223587036,
          1.1553802490234375,
          1.0698788166046143,
          0.9919074773788452
         ]
        },
        {
         "marker": {
          "color": "#bd3786"
         },
         "mode": "lines+markers",
         "name": "1.4B",
         "type": "scatter",
         "y": [
          2.7829456329345703,
          2.3970069885253906,
          2.3208673000335693,
          2.2302777767181396,
          2.1760294437408447,
          2.038532257080078,
          1.9866243600845337,
          1.948221206665039,
          1.8926806449890137,
          1.8194637298583984,
          1.7618200778961182,
          1.613044023513794,
          1.5297486782073975,
          1.3846383094787598,
          1.3023402690887451,
          1.2311285734176636,
          1.1538208723068237,
          1.1027247905731201,
          1.0663193464279175,
          1.0202133655548096,
          0.973307728767395,
          0.924530029296875,
          0.8749120831489563,
          0.8313717842102051
         ]
        },
        {
         "marker": {
          "color": "#ed7953"
         },
         "mode": "lines+markers",
         "name": "12B",
         "type": "scatter",
         "y": [
          2.6796467304229736,
          2.341888666152954,
          2.2528440952301025,
          2.1053194999694824,
          2.0304160118103027,
          1.9559563398361206,
          1.8751579523086548,
          1.7422772645950317,
          1.674578309059143,
          1.6006852388381958,
          1.555018663406372,
          1.5406043529510498,
          1.5244500637054443,
          1.4889800548553467,
          1.4615397453308105,
          1.4213831424713135,
          1.3961225748062134,
          1.3539295196533203,
          1.2941559553146362,
          1.246990442276001,
          1.2125130891799927,
          1.1658365726470947,
          1.1190989017486572,
          1.089467167854309,
          1.055499792098999,
          1.0256733894348145,
          0.9943256378173828,
          0.9628664255142212,
          0.9332530498504639,
          0.9062177538871765,
          0.8741497993469238,
          0.8412296772003174,
          0.8073613047599792,
          0.7738726735115051,
          0.7360650300979614,
          0.6967737078666687
         ]
        }
       ],
       "layout": {
        "hovermode": "y unified",
        "legend": {
         "title": {
          "text": "Model size"
         }
        },
        "template": {
         "data": {
          "bar": [
           {
            "error_x": {
             "color": "#2a3f5f"
            },
            "error_y": {
             "color": "#2a3f5f"
            },
            "marker": {
             "line": {
              "color": "#E5ECF6",
              "width": 0.5
             },
             "pattern": {
              "fillmode": "overlay",
              "size": 10,
              "solidity": 0.2
             }
            },
            "type": "bar"
           }
          ],
          "barpolar": [
           {
            "marker": {
             "line": {
              "color": "#E5ECF6",
              "width": 0.5
             },
             "pattern": {
              "fillmode": "overlay",
              "size": 10,
              "solidity": 0.2
             }
            },
            "type": "barpolar"
           }
          ],
          "carpet": [
           {
            "aaxis": {
             "endlinecolor": "#2a3f5f",
             "gridcolor": "white",
             "linecolor": "white",
             "minorgridcolor": "white",
             "startlinecolor": "#2a3f5f"
            },
            "baxis": {
             "endlinecolor": "#2a3f5f",
             "gridcolor": "white",
             "linecolor": "white",
             "minorgridcolor": "white",
             "startlinecolor": "#2a3f5f"
            },
            "type": "carpet"
           }
          ],
          "choropleth": [
           {
            "colorbar": {
             "outlinewidth": 0,
             "ticks": ""
            },
            "type": "choropleth"
           }
          ],
          "contour": [
           {
            "colorbar": {
             "outlinewidth": 0,
             "ticks": ""
            },
            "colorscale": [
             [
              0,
              "#0d0887"
             ],
             [
              0.1111111111111111,
              "#46039f"
             ],
             [
              0.2222222222222222,
              "#7201a8"
             ],
             [
              0.3333333333333333,
              "#9c179e"
             ],
             [
              0.4444444444444444,
              "#bd3786"
             ],
             [
              0.5555555555555556,
              "#d8576b"
             ],
             [
              0.6666666666666666,
              "#ed7953"
             ],
             [
              0.7777777777777778,
              "#fb9f3a"
             ],
             [
              0.8888888888888888,
              "#fdca26"
             ],
             [
              1,
              "#f0f921"
             ]
            ],
            "type": "contour"
           }
          ],
          "contourcarpet": [
           {
            "colorbar": {
             "outlinewidth": 0,
             "ticks": ""
            },
            "type": "contourcarpet"
           }
          ],
          "heatmap": [
           {
            "colorbar": {
             "outlinewidth": 0,
             "ticks": ""
            },
            "colorscale": [
             [
              0,
              "#0d0887"
             ],
             [
              0.1111111111111111,
              "#46039f"
             ],
             [
              0.2222222222222222,
              "#7201a8"
             ],
             [
              0.3333333333333333,
              "#9c179e"
             ],
             [
              0.4444444444444444,
              "#bd3786"
             ],
             [
              0.5555555555555556,
              "#d8576b"
             ],
             [
              0.6666666666666666,
              "#ed7953"
             ],
             [
              0.7777777777777778,
              "#fb9f3a"
             ],
             [
              0.8888888888888888,
              "#fdca26"
             ],
             [
              1,
              "#f0f921"
             ]
            ],
            "type": "heatmap"
           }
          ],
          "heatmapgl": [
           {
            "colorbar": {
             "outlinewidth": 0,
             "ticks": ""
            },
            "colorscale": [
             [
              0,
              "#0d0887"
             ],
             [
              0.1111111111111111,
              "#46039f"
             ],
             [
              0.2222222222222222,
              "#7201a8"
             ],
             [
              0.3333333333333333,
              "#9c179e"
             ],
             [
              0.4444444444444444,
              "#bd3786"
             ],
             [
              0.5555555555555556,
              "#d8576b"
             ],
             [
              0.6666666666666666,
              "#ed7953"
             ],
             [
              0.7777777777777778,
              "#fb9f3a"
             ],
             [
              0.8888888888888888,
              "#fdca26"
             ],
             [
              1,
              "#f0f921"
             ]
            ],
            "type": "heatmapgl"
           }
          ],
          "histogram": [
           {
            "marker": {
             "pattern": {
              "fillmode": "overlay",
              "size": 10,
              "solidity": 0.2
             }
            },
            "type": "histogram"
           }
          ],
          "histogram2d": [
           {
            "colorbar": {
             "outlinewidth": 0,
             "ticks": ""
            },
            "colorscale": [
             [
              0,
              "#0d0887"
             ],
             [
              0.1111111111111111,
              "#46039f"
             ],
             [
              0.2222222222222222,
              "#7201a8"
             ],
             [
              0.3333333333333333,
              "#9c179e"
             ],
             [
              0.4444444444444444,
              "#bd3786"
             ],
             [
              0.5555555555555556,
              "#d8576b"
             ],
             [
              0.6666666666666666,
              "#ed7953"
             ],
             [
              0.7777777777777778,
              "#fb9f3a"
             ],
             [
              0.8888888888888888,
              "#fdca26"
             ],
             [
              1,
              "#f0f921"
             ]
            ],
            "type": "histogram2d"
           }
          ],
          "histogram2dcontour": [
           {
            "colorbar": {
             "outlinewidth": 0,
             "ticks": ""
            },
            "colorscale": [
             [
              0,
              "#0d0887"
             ],
             [
              0.1111111111111111,
              "#46039f"
             ],
             [
              0.2222222222222222,
              "#7201a8"
             ],
             [
              0.3333333333333333,
              "#9c179e"
             ],
             [
              0.4444444444444444,
              "#bd3786"
             ],
             [
              0.5555555555555556,
              "#d8576b"
             ],
             [
              0.6666666666666666,
              "#ed7953"
             ],
             [
              0.7777777777777778,
              "#fb9f3a"
             ],
             [
              0.8888888888888888,
              "#fdca26"
             ],
             [
              1,
              "#f0f921"
             ]
            ],
            "type": "histogram2dcontour"
           }
          ],
          "mesh3d": [
           {
            "colorbar": {
             "outlinewidth": 0,
             "ticks": ""
            },
            "type": "mesh3d"
           }
          ],
          "parcoords": [
           {
            "line": {
             "colorbar": {
              "outlinewidth": 0,
              "ticks": ""
             }
            },
            "type": "parcoords"
           }
          ],
          "pie": [
           {
            "automargin": true,
            "type": "pie"
           }
          ],
          "scatter": [
           {
            "fillpattern": {
             "fillmode": "overlay",
             "size": 10,
             "solidity": 0.2
            },
            "type": "scatter"
           }
          ],
          "scatter3d": [
           {
            "line": {
             "colorbar": {
              "outlinewidth": 0,
              "ticks": ""
             }
            },
            "marker": {
             "colorbar": {
              "outlinewidth": 0,
              "ticks": ""
             }
            },
            "type": "scatter3d"
           }
          ],
          "scattercarpet": [
           {
            "marker": {
             "colorbar": {
              "outlinewidth": 0,
              "ticks": ""
             }
            },
            "type": "scattercarpet"
           }
          ],
          "scattergeo": [
           {
            "marker": {
             "colorbar": {
              "outlinewidth": 0,
              "ticks": ""
             }
            },
            "type": "scattergeo"
           }
          ],
          "scattergl": [
           {
            "marker": {
             "colorbar": {
              "outlinewidth": 0,
              "ticks": ""
             }
            },
            "type": "scattergl"
           }
          ],
          "scattermapbox": [
           {
            "marker": {
             "colorbar": {
              "outlinewidth": 0,
              "ticks": ""
             }
            },
            "type": "scattermapbox"
           }
          ],
          "scatterpolar": [
           {
            "marker": {
             "colorbar": {
              "outlinewidth": 0,
              "ticks": ""
             }
            },
            "type": "scatterpolar"
           }
          ],
          "scatterpolargl": [
           {
            "marker": {
             "colorbar": {
              "outlinewidth": 0,
              "ticks": ""
             }
            },
            "type": "scatterpolargl"
           }
          ],
          "scatterternary": [
           {
            "marker": {
             "colorbar": {
              "outlinewidth": 0,
              "ticks": ""
             }
            },
            "type": "scatterternary"
           }
          ],
          "surface": [
           {
            "colorbar": {
             "outlinewidth": 0,
             "ticks": ""
            },
            "colorscale": [
             [
              0,
              "#0d0887"
             ],
             [
              0.1111111111111111,
              "#46039f"
             ],
             [
              0.2222222222222222,
              "#7201a8"
             ],
             [
              0.3333333333333333,
              "#9c179e"
             ],
             [
              0.4444444444444444,
              "#bd3786"
             ],
             [
              0.5555555555555556,
              "#d8576b"
             ],
             [
              0.6666666666666666,
              "#ed7953"
             ],
             [
              0.7777777777777778,
              "#fb9f3a"
             ],
             [
              0.8888888888888888,
              "#fdca26"
             ],
             [
              1,
              "#f0f921"
             ]
            ],
            "type": "surface"
           }
          ],
          "table": [
           {
            "cells": {
             "fill": {
              "color": "#EBF0F8"
             },
             "line": {
              "color": "white"
             }
            },
            "header": {
             "fill": {
              "color": "#C8D4E3"
             },
             "line": {
              "color": "white"
             }
            },
            "type": "table"
           }
          ]
         },
         "layout": {
          "annotationdefaults": {
           "arrowcolor": "#2a3f5f",
           "arrowhead": 0,
           "arrowwidth": 1
          },
          "autotypenumbers": "strict",
          "coloraxis": {
           "colorbar": {
            "outlinewidth": 0,
            "ticks": ""
           }
          },
          "colorscale": {
           "diverging": [
            [
             0,
             "#8e0152"
            ],
            [
             0.1,
             "#c51b7d"
            ],
            [
             0.2,
             "#de77ae"
            ],
            [
             0.3,
             "#f1b6da"
            ],
            [
             0.4,
             "#fde0ef"
            ],
            [
             0.5,
             "#f7f7f7"
            ],
            [
             0.6,
             "#e6f5d0"
            ],
            [
             0.7,
             "#b8e186"
            ],
            [
             0.8,
             "#7fbc41"
            ],
            [
             0.9,
             "#4d9221"
            ],
            [
             1,
             "#276419"
            ]
           ],
           "sequential": [
            [
             0,
             "#0d0887"
            ],
            [
             0.1111111111111111,
             "#46039f"
            ],
            [
             0.2222222222222222,
             "#7201a8"
            ],
            [
             0.3333333333333333,
             "#9c179e"
            ],
            [
             0.4444444444444444,
             "#bd3786"
            ],
            [
             0.5555555555555556,
             "#d8576b"
            ],
            [
             0.6666666666666666,
             "#ed7953"
            ],
            [
             0.7777777777777778,
             "#fb9f3a"
            ],
            [
             0.8888888888888888,
             "#fdca26"
            ],
            [
             1,
             "#f0f921"
            ]
           ],
           "sequentialminus": [
            [
             0,
             "#0d0887"
            ],
            [
             0.1111111111111111,
             "#46039f"
            ],
            [
             0.2222222222222222,
             "#7201a8"
            ],
            [
             0.3333333333333333,
             "#9c179e"
            ],
            [
             0.4444444444444444,
             "#bd3786"
            ],
            [
             0.5555555555555556,
             "#d8576b"
            ],
            [
             0.6666666666666666,
             "#ed7953"
            ],
            [
             0.7777777777777778,
             "#fb9f3a"
            ],
            [
             0.8888888888888888,
             "#fdca26"
            ],
            [
             1,
             "#f0f921"
            ]
           ]
          },
          "colorway": [
           "#636efa",
           "#EF553B",
           "#00cc96",
           "#ab63fa",
           "#FFA15A",
           "#19d3f3",
           "#FF6692",
           "#B6E880",
           "#FF97FF",
           "#FECB52"
          ],
          "font": {
           "color": "#2a3f5f"
          },
          "geo": {
           "bgcolor": "white",
           "lakecolor": "white",
           "landcolor": "#E5ECF6",
           "showlakes": true,
           "showland": true,
           "subunitcolor": "white"
          },
          "hoverlabel": {
           "align": "left"
          },
          "hovermode": "closest",
          "mapbox": {
           "style": "light"
          },
          "paper_bgcolor": "white",
          "plot_bgcolor": "#E5ECF6",
          "polar": {
           "angularaxis": {
            "gridcolor": "white",
            "linecolor": "white",
            "ticks": ""
           },
           "bgcolor": "#E5ECF6",
           "radialaxis": {
            "gridcolor": "white",
            "linecolor": "white",
            "ticks": ""
           }
          },
          "scene": {
           "xaxis": {
            "backgroundcolor": "#E5ECF6",
            "gridcolor": "white",
            "gridwidth": 2,
            "linecolor": "white",
            "showbackground": true,
            "ticks": "",
            "zerolinecolor": "white"
           },
           "yaxis": {
            "backgroundcolor": "#E5ECF6",
            "gridcolor": "white",
            "gridwidth": 2,
            "linecolor": "white",
            "showbackground": true,
            "ticks": "",
            "zerolinecolor": "white"
           },
           "zaxis": {
            "backgroundcolor": "#E5ECF6",
            "gridcolor": "white",
            "gridwidth": 2,
            "linecolor": "white",
            "showbackground": true,
            "ticks": "",
            "zerolinecolor": "white"
           }
          },
          "shapedefaults": {
           "line": {
            "color": "#2a3f5f"
           }
          },
          "ternary": {
           "aaxis": {
            "gridcolor": "white",
            "linecolor": "white",
            "ticks": ""
           },
           "baxis": {
            "gridcolor": "white",
            "linecolor": "white",
            "ticks": ""
           },
           "bgcolor": "#E5ECF6",
           "caxis": {
            "gridcolor": "white",
            "linecolor": "white",
            "ticks": ""
           }
          },
          "title": {
           "x": 0.05
          },
          "xaxis": {
           "automargin": true,
           "gridcolor": "white",
           "linecolor": "white",
           "ticks": "",
           "title": {
            "standoff": 15
           },
           "zerolinecolor": "white",
           "zerolinewidth": 2
          },
          "yaxis": {
           "automargin": true,
           "gridcolor": "white",
           "linecolor": "white",
           "ticks": "",
           "title": {
            "standoff": 15
           },
           "zerolinecolor": "white",
           "zerolinewidth": 2
          }
         }
        },
        "title": {
         "text": "Tuned lens perplexity across depth & scale (Pythia)"
        },
        "xaxis": {
         "dtick": 5,
         "title": {
          "text": "Layer"
         }
        },
        "yaxis": {
         "title": {
          "text": "bits per byte"
         },
         "type": "log"
        }
       }
      },
      "text/html": [
       "<div>                            <div id=\"ac453a5f-e39b-4cd1-95ce-1b63c48e78c4\" class=\"plotly-graph-div\" style=\"height:525px; width:100%;\"></div>            <script type=\"text/javascript\">                require([\"plotly\"], function(Plotly) {                    window.PLOTLYENV=window.PLOTLYENV || {};                                    if (document.getElementById(\"ac453a5f-e39b-4cd1-95ce-1b63c48e78c4\")) {                    Plotly.newPlot(                        \"ac453a5f-e39b-4cd1-95ce-1b63c48e78c4\",                        [{\"marker\":{\"color\":\"#0d0887\"},\"mode\":\"lines+markers\",\"name\":\"70M\",\"y\":[2.364264726638794,2.0816171169281006,1.9225971698760986,1.8094964027404785,1.3893870115280151,1.2084059715270996],\"type\":\"scatter\"},{\"marker\":{\"color\":\"#7201a8\"},\"mode\":\"lines+markers\",\"name\":\"160M\",\"y\":[2.3645565509796143,2.0977911949157715,2.012937545776367,1.89158296585083,1.825351357460022,1.6906405687332153,1.5033613443374634,1.3649832010269165,1.3013402223587036,1.1553802490234375,1.0698788166046143,0.9919074773788452],\"type\":\"scatter\"},{\"marker\":{\"color\":\"#bd3786\"},\"mode\":\"lines+markers\",\"name\":\"1.4B\",\"y\":[2.7829456329345703,2.3970069885253906,2.3208673000335693,2.2302777767181396,2.1760294437408447,2.038532257080078,1.9866243600845337,1.948221206665039,1.8926806449890137,1.8194637298583984,1.7618200778961182,1.613044023513794,1.5297486782073975,1.3846383094787598,1.3023402690887451,1.2311285734176636,1.1538208723068237,1.1027247905731201,1.0663193464279175,1.0202133655548096,0.973307728767395,0.924530029296875,0.8749120831489563,0.8313717842102051],\"type\":\"scatter\"},{\"marker\":{\"color\":\"#ed7953\"},\"mode\":\"lines+markers\",\"name\":\"12B\",\"y\":[2.6796467304229736,2.341888666152954,2.2528440952301025,2.1053194999694824,2.0304160118103027,1.9559563398361206,1.8751579523086548,1.7422772645950317,1.674578309059143,1.6006852388381958,1.555018663406372,1.5406043529510498,1.5244500637054443,1.4889800548553467,1.4615397453308105,1.4213831424713135,1.3961225748062134,1.3539295196533203,1.2941559553146362,1.246990442276001,1.2125130891799927,1.1658365726470947,1.1190989017486572,1.089467167854309,1.055499792098999,1.0256733894348145,0.9943256378173828,0.9628664255142212,0.9332530498504639,0.9062177538871765,0.8741497993469238,0.8412296772003174,0.8073613047599792,0.7738726735115051,0.7360650300979614,0.6967737078666687],\"type\":\"scatter\"}],                        {\"template\":{\"data\":{\"histogram2dcontour\":[{\"type\":\"histogram2dcontour\",\"colorbar\":{\"outlinewidth\":0,\"ticks\":\"\"},\"colorscale\":[[0.0,\"#0d0887\"],[0.1111111111111111,\"#46039f\"],[0.2222222222222222,\"#7201a8\"],[0.3333333333333333,\"#9c179e\"],[0.4444444444444444,\"#bd3786\"],[0.5555555555555556,\"#d8576b\"],[0.6666666666666666,\"#ed7953\"],[0.7777777777777778,\"#fb9f3a\"],[0.8888888888888888,\"#fdca26\"],[1.0,\"#f0f921\"]]}],\"choropleth\":[{\"type\":\"choropleth\",\"colorbar\":{\"outlinewidth\":0,\"ticks\":\"\"}}],\"histogram2d\":[{\"type\":\"histogram2d\",\"colorbar\":{\"outlinewidth\":0,\"ticks\":\"\"},\"colorscale\":[[0.0,\"#0d0887\"],[0.1111111111111111,\"#46039f\"],[0.2222222222222222,\"#7201a8\"],[0.3333333333333333,\"#9c179e\"],[0.4444444444444444,\"#bd3786\"],[0.5555555555555556,\"#d8576b\"],[0.6666666666666666,\"#ed7953\"],[0.7777777777777778,\"#fb9f3a\"],[0.8888888888888888,\"#fdca26\"],[1.0,\"#f0f921\"]]}],\"heatmap\":[{\"type\":\"heatmap\",\"colorbar\":{\"outlinewidth\":0,\"ticks\":\"\"},\"colorscale\":[[0.0,\"#0d0887\"],[0.1111111111111111,\"#46039f\"],[0.2222222222222222,\"#7201a8\"],[0.3333333333333333,\"#9c179e\"],[0.4444444444444444,\"#bd3786\"],[0.5555555555555556,\"#d8576b\"],[0.6666666666666666,\"#ed7953\"],[0.7777777777777778,\"#fb9f3a\"],[0.8888888888888888,\"#fdca26\"],[1.0,\"#f0f921\"]]}],\"heatmapgl\":[{\"type\":\"heatmapgl\",\"colorbar\":{\"outlinewidth\":0,\"ticks\":\"\"},\"colorscale\":[[0.0,\"#0d0887\"],[0.1111111111111111,\"#46039f\"],[0.2222222222222222,\"#7201a8\"],[0.3333333333333333,\"#9c179e\"],[0.4444444444444444,\"#bd3786\"],[0.5555555555555556,\"#d8576b\"],[0.6666666666666666,\"#ed7953\"],[0.7777777777777778,\"#fb9f3a\"],[0.8888888888888888,\"#fdca26\"],[1.0,\"#f0f921\"]]}],\"contourcarpet\":[{\"type\":\"contourcarpet\",\"colorbar\":{\"outlinewidth\":0,\"ticks\":\"\"}}],\"contour\":[{\"type\":\"contour\",\"colorbar\":{\"outlinewidth\":0,\"ticks\":\"\"},\"colorscale\":[[0.0,\"#0d0887\"],[0.1111111111111111,\"#46039f\"],[0.2222222222222222,\"#7201a8\"],[0.3333333333333333,\"#9c179e\"],[0.4444444444444444,\"#bd3786\"],[0.5555555555555556,\"#d8576b\"],[0.6666666666666666,\"#ed7953\"],[0.7777777777777778,\"#fb9f3a\"],[0.8888888888888888,\"#fdca26\"],[1.0,\"#f0f921\"]]}],\"surface\":[{\"type\":\"surface\",\"colorbar\":{\"outlinewidth\":0,\"ticks\":\"\"},\"colorscale\":[[0.0,\"#0d0887\"],[0.1111111111111111,\"#46039f\"],[0.2222222222222222,\"#7201a8\"],[0.3333333333333333,\"#9c179e\"],[0.4444444444444444,\"#bd3786\"],[0.5555555555555556,\"#d8576b\"],[0.6666666666666666,\"#ed7953\"],[0.7777777777777778,\"#fb9f3a\"],[0.8888888888888888,\"#fdca26\"],[1.0,\"#f0f921\"]]}],\"mesh3d\":[{\"type\":\"mesh3d\",\"colorbar\":{\"outlinewidth\":0,\"ticks\":\"\"}}],\"scatter\":[{\"fillpattern\":{\"fillmode\":\"overlay\",\"size\":10,\"solidity\":0.2},\"type\":\"scatter\"}],\"parcoords\":[{\"type\":\"parcoords\",\"line\":{\"colorbar\":{\"outlinewidth\":0,\"ticks\":\"\"}}}],\"scatterpolargl\":[{\"type\":\"scatterpolargl\",\"marker\":{\"colorbar\":{\"outlinewidth\":0,\"ticks\":\"\"}}}],\"bar\":[{\"error_x\":{\"color\":\"#2a3f5f\"},\"error_y\":{\"color\":\"#2a3f5f\"},\"marker\":{\"line\":{\"color\":\"#E5ECF6\",\"width\":0.5},\"pattern\":{\"fillmode\":\"overlay\",\"size\":10,\"solidity\":0.2}},\"type\":\"bar\"}],\"scattergeo\":[{\"type\":\"scattergeo\",\"marker\":{\"colorbar\":{\"outlinewidth\":0,\"ticks\":\"\"}}}],\"scatterpolar\":[{\"type\":\"scatterpolar\",\"marker\":{\"colorbar\":{\"outlinewidth\":0,\"ticks\":\"\"}}}],\"histogram\":[{\"marker\":{\"pattern\":{\"fillmode\":\"overlay\",\"size\":10,\"solidity\":0.2}},\"type\":\"histogram\"}],\"scattergl\":[{\"type\":\"scattergl\",\"marker\":{\"colorbar\":{\"outlinewidth\":0,\"ticks\":\"\"}}}],\"scatter3d\":[{\"type\":\"scatter3d\",\"line\":{\"colorbar\":{\"outlinewidth\":0,\"ticks\":\"\"}},\"marker\":{\"colorbar\":{\"outlinewidth\":0,\"ticks\":\"\"}}}],\"scattermapbox\":[{\"type\":\"scattermapbox\",\"marker\":{\"colorbar\":{\"outlinewidth\":0,\"ticks\":\"\"}}}],\"scatterternary\":[{\"type\":\"scatterternary\",\"marker\":{\"colorbar\":{\"outlinewidth\":0,\"ticks\":\"\"}}}],\"scattercarpet\":[{\"type\":\"scattercarpet\",\"marker\":{\"colorbar\":{\"outlinewidth\":0,\"ticks\":\"\"}}}],\"carpet\":[{\"aaxis\":{\"endlinecolor\":\"#2a3f5f\",\"gridcolor\":\"white\",\"linecolor\":\"white\",\"minorgridcolor\":\"white\",\"startlinecolor\":\"#2a3f5f\"},\"baxis\":{\"endlinecolor\":\"#2a3f5f\",\"gridcolor\":\"white\",\"linecolor\":\"white\",\"minorgridcolor\":\"white\",\"startlinecolor\":\"#2a3f5f\"},\"type\":\"carpet\"}],\"table\":[{\"cells\":{\"fill\":{\"color\":\"#EBF0F8\"},\"line\":{\"color\":\"white\"}},\"header\":{\"fill\":{\"color\":\"#C8D4E3\"},\"line\":{\"color\":\"white\"}},\"type\":\"table\"}],\"barpolar\":[{\"marker\":{\"line\":{\"color\":\"#E5ECF6\",\"width\":0.5},\"pattern\":{\"fillmode\":\"overlay\",\"size\":10,\"solidity\":0.2}},\"type\":\"barpolar\"}],\"pie\":[{\"automargin\":true,\"type\":\"pie\"}]},\"layout\":{\"autotypenumbers\":\"strict\",\"colorway\":[\"#636efa\",\"#EF553B\",\"#00cc96\",\"#ab63fa\",\"#FFA15A\",\"#19d3f3\",\"#FF6692\",\"#B6E880\",\"#FF97FF\",\"#FECB52\"],\"font\":{\"color\":\"#2a3f5f\"},\"hovermode\":\"closest\",\"hoverlabel\":{\"align\":\"left\"},\"paper_bgcolor\":\"white\",\"plot_bgcolor\":\"#E5ECF6\",\"polar\":{\"bgcolor\":\"#E5ECF6\",\"angularaxis\":{\"gridcolor\":\"white\",\"linecolor\":\"white\",\"ticks\":\"\"},\"radialaxis\":{\"gridcolor\":\"white\",\"linecolor\":\"white\",\"ticks\":\"\"}},\"ternary\":{\"bgcolor\":\"#E5ECF6\",\"aaxis\":{\"gridcolor\":\"white\",\"linecolor\":\"white\",\"ticks\":\"\"},\"baxis\":{\"gridcolor\":\"white\",\"linecolor\":\"white\",\"ticks\":\"\"},\"caxis\":{\"gridcolor\":\"white\",\"linecolor\":\"white\",\"ticks\":\"\"}},\"coloraxis\":{\"colorbar\":{\"outlinewidth\":0,\"ticks\":\"\"}},\"colorscale\":{\"sequential\":[[0.0,\"#0d0887\"],[0.1111111111111111,\"#46039f\"],[0.2222222222222222,\"#7201a8\"],[0.3333333333333333,\"#9c179e\"],[0.4444444444444444,\"#bd3786\"],[0.5555555555555556,\"#d8576b\"],[0.6666666666666666,\"#ed7953\"],[0.7777777777777778,\"#fb9f3a\"],[0.8888888888888888,\"#fdca26\"],[1.0,\"#f0f921\"]],\"sequentialminus\":[[0.0,\"#0d0887\"],[0.1111111111111111,\"#46039f\"],[0.2222222222222222,\"#7201a8\"],[0.3333333333333333,\"#9c179e\"],[0.4444444444444444,\"#bd3786\"],[0.5555555555555556,\"#d8576b\"],[0.6666666666666666,\"#ed7953\"],[0.7777777777777778,\"#fb9f3a\"],[0.8888888888888888,\"#fdca26\"],[1.0,\"#f0f921\"]],\"diverging\":[[0,\"#8e0152\"],[0.1,\"#c51b7d\"],[0.2,\"#de77ae\"],[0.3,\"#f1b6da\"],[0.4,\"#fde0ef\"],[0.5,\"#f7f7f7\"],[0.6,\"#e6f5d0\"],[0.7,\"#b8e186\"],[0.8,\"#7fbc41\"],[0.9,\"#4d9221\"],[1,\"#276419\"]]},\"xaxis\":{\"gridcolor\":\"white\",\"linecolor\":\"white\",\"ticks\":\"\",\"title\":{\"standoff\":15},\"zerolinecolor\":\"white\",\"automargin\":true,\"zerolinewidth\":2},\"yaxis\":{\"gridcolor\":\"white\",\"linecolor\":\"white\",\"ticks\":\"\",\"title\":{\"standoff\":15},\"zerolinecolor\":\"white\",\"automargin\":true,\"zerolinewidth\":2},\"scene\":{\"xaxis\":{\"backgroundcolor\":\"#E5ECF6\",\"gridcolor\":\"white\",\"linecolor\":\"white\",\"showbackground\":true,\"ticks\":\"\",\"zerolinecolor\":\"white\",\"gridwidth\":2},\"yaxis\":{\"backgroundcolor\":\"#E5ECF6\",\"gridcolor\":\"white\",\"linecolor\":\"white\",\"showbackground\":true,\"ticks\":\"\",\"zerolinecolor\":\"white\",\"gridwidth\":2},\"zaxis\":{\"backgroundcolor\":\"#E5ECF6\",\"gridcolor\":\"white\",\"linecolor\":\"white\",\"showbackground\":true,\"ticks\":\"\",\"zerolinecolor\":\"white\",\"gridwidth\":2}},\"shapedefaults\":{\"line\":{\"color\":\"#2a3f5f\"}},\"annotationdefaults\":{\"arrowcolor\":\"#2a3f5f\",\"arrowhead\":0,\"arrowwidth\":1},\"geo\":{\"bgcolor\":\"white\",\"landcolor\":\"#E5ECF6\",\"subunitcolor\":\"white\",\"showland\":true,\"showlakes\":true,\"lakecolor\":\"white\"},\"title\":{\"x\":0.05},\"mapbox\":{\"style\":\"light\"}}},\"hovermode\":\"y unified\",\"legend\":{\"title\":{\"text\":\"Model size\"}},\"title\":{\"text\":\"Tuned lens perplexity across depth & scale (Pythia)\"},\"xaxis\":{\"dtick\":5,\"title\":{\"text\":\"Layer\"}},\"yaxis\":{\"title\":{\"text\":\"bits per byte\"},\"type\":\"log\"}},                        {\"responsive\": true}                    ).then(function(){\n",
       "                            \n",
       "var gd = document.getElementById('ac453a5f-e39b-4cd1-95ce-1b63c48e78c4');\n",
       "var x = new MutationObserver(function (mutations, observer) {{\n",
       "        var display = window.getComputedStyle(gd).display;\n",
       "        if (!display || display === 'none') {{\n",
       "            console.log([gd, 'removed!']);\n",
       "            Plotly.purge(gd);\n",
       "            observer.disconnect();\n",
       "        }}\n",
       "}});\n",
       "\n",
       "// Listen for the removal of the full notebook cells\n",
       "var notebookContainer = gd.closest('#notebook-container');\n",
       "if (notebookContainer) {{\n",
       "    x.observe(notebookContainer, {childList: true});\n",
       "}}\n",
       "\n",
       "// Listen for the clearing of the current output cell\n",
       "var outputEl = gd.closest('.output');\n",
       "if (outputEl) {{\n",
       "    x.observe(outputEl, {childList: true});\n",
       "}}\n",
       "\n",
       "                        })                };                });            </script>        </div>"
      ]
     },
     "metadata": {},
     "output_type": "display_data"
    }
   ],
   "source": [
    "import plotly.graph_objects as go\n",
    "import plotly.express as px\n",
    "\n",
    "X = [\n",
    "    (\"70M\", pythia_70m_metrics),\n",
    "    (\"160M\", pythia_160m_metrics),\n",
    "    # (\"410M\", pythia_410m_metrics),\n",
    "    (\"1.4B\", pythia_1_4b_metrics),\n",
    "    (\"12B\", pythia_12b_metrics),\n",
    "    # (\"20B<br>(NeoX)\", neox_20b_metrics),\n",
    "]\n",
    "\n",
    "fig = go.Figure([\n",
    "    go.Scatter(\n",
    "        marker_color=color,\n",
    "        mode=\"lines+markers\",\n",
    "        name=name,\n",
    "        y=list(metrics['lens_ce'].values())\n",
    "    )\n",
    "    for color, (name, metrics) in zip(\n",
    "        px.colors.sequential.Plasma[::2], X\n",
    "    )\n",
    "]).update_layout(\n",
    "    hovermode=\"y unified\",\n",
    "    legend_title=\"Model size\",\n",
    "    title=\"Tuned lens perplexity across depth & scale (Pythia)\",\n",
    ").update_xaxes(\n",
    "    dtick=5,\n",
    "    title=\"Layer\"\n",
    ").update_yaxes(\n",
    "    title=\"bits per byte\",\n",
    "    type=\"log\"\n",
    ")\n",
    "fig"
   ]
  },
  {
   "cell_type": "code",
   "execution_count": 44,
   "metadata": {},
   "outputs": [],
   "source": [
    "fig.write_image(\"/mnt/ssd-1/nora/perplexity-simple.pdf\", width=700, height=500)"
   ]
  },
  {
   "cell_type": "code",
   "execution_count": 17,
   "metadata": {},
   "outputs": [],
   "source": [
    "OURS = \"\"\"\\\n",
    "We present evidence that transformers build their \\\n",
    "predictions through a latent iterative process\n",
    "\"\"\""
   ]
  },
  {
   "cell_type": "code",
   "execution_count": 3,
   "metadata": {},
   "outputs": [],
   "source": [
    "from pathlib import Path\n",
    "from tuned_lens.utils import pytree_stack\n",
    "import torch as th\n",
    "\n",
    "\n",
    "paths = Path(\"/mnt/ssd-1/nora/real-lenses/bloom/560m/affine/eval/\").rglob(\"batch_*.pt\")\n",
    "batches = [\n",
    "    th.load(p, map_location=\"cpu\")\n",
    "    for p in paths\n",
    "]"
   ]
  },
  {
   "cell_type": "code",
   "execution_count": 2,
   "metadata": {},
   "outputs": [],
   "source": [
    "from transformers import AutoModelForCausalLM, AutoTokenizer\n",
    "\n",
    "neo = AutoModelForCausalLM.from_pretrained(\"EleutherAI/gpt-neo-2.7B\")\n",
    "tokenizer = AutoTokenizer.from_pretrained(\"EleutherAI/gpt-neo-2.7B\")"
   ]
  },
  {
   "cell_type": "code",
   "execution_count": 2,
   "metadata": {},
   "outputs": [],
   "source": [
    "from tuned_lens import TunedLens\n",
    "\n",
    "lens = TunedLens.load(\"/mnt/ssd-1/nora/real-lenses/gpt-neo/2.7B/extra-layer\")"
   ]
  },
  {
   "cell_type": "code",
   "execution_count": 1,
   "metadata": {},
   "outputs": [],
   "source": [
    "VASWANI = \"\"\"\\\n",
    "The dominant sequence transduction models are based on complex recurrent or \\\n",
    "convolutional neural networks that include an encoder and a decoder. The best \\\n",
    "performing models also connect the encoder and decoder through an attention \\\n",
    "mechanism. We propose a new simple network architecture, the Transformer\\\n",
    "\"\"\""
   ]
  },
  {
   "cell_type": "code",
   "execution_count": 4,
   "metadata": {},
   "outputs": [],
   "source": [
    "from tuned_lens.plotting import plot_logit_lens\n",
    "\n",
    "tl_trace = plot_logit_lens(\n",
    "    neo, tokenizer, text=VASWANI, tuned_lens=lens,\n",
    "    start_pos=47,\n",
    "    end_pos=55,\n",
    "    layer_stride=3,\n",
    "    metric=\"prob\",\n",
    "    # min_prob=0.05,\n",
    "    newline_replacement=\"\",\n",
    "    whitespace_replacement=\"\",\n",
    "    raw=True\n",
    ")"
   ]
  },
  {
   "cell_type": "code",
   "execution_count": 5,
   "metadata": {},
   "outputs": [],
   "source": [
    "from tuned_lens.plotting import plot_logit_lens\n",
    "\n",
    "ll_trace = plot_logit_lens(\n",
    "    neo, tokenizer, text=VASWANI,\n",
    "    start_pos=47,\n",
    "    end_pos=55,\n",
    "    extra_decoder_layers=1,\n",
    "    layer_stride=3,\n",
    "    metric=\"prob\",\n",
    "    # min_prob=0.05,\n",
    "    newline_replacement=\"\",\n",
    "    whitespace_replacement=\"\",\n",
    "    raw=True\n",
    ")"
   ]
  },
  {
   "cell_type": "code",
   "execution_count": 75,
   "metadata": {},
   "outputs": [
    {
     "data": {
      "text/plain": [
       "0.3375"
      ]
     },
     "execution_count": 75,
     "metadata": {},
     "output_type": "execute_result"
    }
   ],
   "source": [
    "6.75 * 0.1 / 2"
   ]
  },
  {
   "cell_type": "code",
   "execution_count": 71,
   "metadata": {},
   "outputs": [
    {
     "data": {
      "application/vnd.plotly.v1+json": {
       "config": {
        "plotlyServerURL": "https://plot.ly"
       },
       "data": [
        {
         "colorbar": {
          "orientation": "h",
          "thickness": 15,
          "title": {
           "side": "right",
           "text": "Probability"
          },
          "y": -0.18
         },
         "colorscale": [
          [
           0,
           "rgb(247,251,255)"
          ],
          [
           0.125,
           "rgb(222,235,247)"
          ],
          [
           0.25,
           "rgb(198,219,239)"
          ],
          [
           0.375,
           "rgb(158,202,225)"
          ],
          [
           0.5,
           "rgb(107,174,214)"
          ],
          [
           0.625,
           "rgb(66,146,198)"
          ],
          [
           0.75,
           "rgb(33,113,181)"
          ],
          [
           0.875,
           "rgb(8,81,156)"
          ],
          [
           1,
           "rgb(8,48,107)"
          ]
         ],
         "customdata": [
          [
           [
            [
             "\"",
             "22.445997"
            ],
            [
             "I",
             "2.785162"
            ],
            [
             "'",
             "2.4117548"
            ],
            [
             "A",
             "1.7171297"
            ],
            [
             "G",
             "1.3617467"
            ],
            [
             "math",
             "1.1913668"
            ],
            [
             "...",
             "1.1705575"
            ],
            [
             "wid",
             "1.1677902"
            ],
            [
             "",
             "1.0472196"
            ],
            [
             "L",
             "0.9511938"
            ]
           ],
           [
            [
             "\"",
             "51.76828"
            ],
            [
             "I",
             "4.633595"
            ],
            [
             "'",
             "3.550455"
            ],
            [
             "A",
             "1.9229552"
            ],
            [
             "G",
             "1.0104343"
            ],
            [
             "",
             "0.792086"
            ],
            [
             "T",
             "0.7518555"
            ],
            [
             "L",
             "0.72575283"
            ],
            [
             "...",
             "0.6318922"
            ],
            [
             "He",
             "0.62198174"
            ]
           ],
           [
            [
             "\"",
             "50.34482"
            ],
            [
             "I",
             "5.8292027"
            ],
            [
             "'",
             "3.499739"
            ],
            [
             "A",
             "1.9184961"
            ],
            [
             "He",
             "1.1887485"
            ],
            [
             "G",
             "1.1565616"
            ],
            [
             "T",
             "1.0897548"
            ],
            [
             "L",
             "0.9024964"
            ],
            [
             "",
             "0.89933544"
            ],
            [
             "wid",
             "0.78770304"
            ]
           ],
           [
            [
             "\"",
             "52.387737"
            ],
            [
             "I",
             "5.8478394"
            ],
            [
             "'",
             "3.396336"
            ],
            [
             "A",
             "2.136169"
            ],
            [
             "G",
             "1.1721137"
            ],
            [
             "He",
             "1.0718963"
            ],
            [
             "T",
             "0.99250656"
            ],
            [
             "L",
             "0.8614555"
            ],
            [
             "",
             "0.7547769"
            ],
            [
             "wid",
             "0.6148841"
            ]
           ],
           [
            [
             "\"",
             "21.07135"
            ],
            [
             "I",
             "3.0289593"
            ],
            [
             "'",
             "2.2870631"
            ],
            [
             "",
             "1.6898794"
            ],
            [
             "A",
             "1.4046248"
            ],
            [
             "G",
             "1.2204965"
            ],
            [
             "ģ",
             "1.1081401"
            ],
            [
             "math",
             "0.83343583"
            ],
            [
             "He",
             "0.8170359"
            ],
            [
             "...",
             "0.7594898"
            ]
           ],
           [
            [
             "\"",
             "22.549278"
            ],
            [
             "I",
             "2.800369"
            ],
            [
             "'",
             "2.141839"
            ],
            [
             "ģ",
             "1.2168257"
            ],
            [
             "A",
             "1.1799606"
            ],
            [
             "G",
             "0.9919127"
            ],
            [
             "math",
             "0.97732365"
            ],
            [
             "wid",
             "0.9172757"
            ],
            [
             "",
             "0.86366713"
            ],
            [
             "...",
             "0.8064801"
            ]
           ],
           [
            [
             "\"",
             "48.264114"
            ],
            [
             "I",
             "6.27325"
            ],
            [
             "'",
             "3.3630557"
            ],
            [
             "A",
             "2.3315966"
            ],
            [
             "G",
             "1.3973359"
            ],
            [
             "T",
             "1.218549"
            ],
            [
             "He",
             "1.1794521"
            ],
            [
             "L",
             "0.93385565"
            ],
            [
             "math",
             "0.7011881"
            ],
            [
             "H",
             "0.62220246"
            ]
           ],
           [
            [
             "\"",
             "40.720036"
            ],
            [
             "I",
             "5.1421785"
            ],
            [
             "'",
             "3.069446"
            ],
            [
             "A",
             "2.3079638"
            ],
            [
             "He",
             "1.3551927"
            ],
            [
             "G",
             "1.3122406"
            ],
            [
             "T",
             "1.1667237"
            ],
            [
             "L",
             "0.9805385"
            ],
            [
             "",
             "0.8412159"
            ],
            [
             "H",
             "0.7835448"
            ]
           ]
          ],
          [
           [
            [
             "âĢ¦.\"",
             "9.004656"
            ],
            [
             "!?\"",
             "5.9146347"
            ],
            [
             "\\\\\\\\",
             "4.8011203"
            ],
            [
             "!!\"",
             "4.187297"
            ],
            [
             "][",
             "1.8391016"
            ],
            [
             "Ħ¢",
             "1.6040722"
            ],
            [
             "Ĥİ",
             "1.4140413"
            ],
            [
             "âĢ¦\"",
             "1.310333"
            ],
            [
             "<+",
             "1.1375204"
            ],
            [
             "{:",
             "1.0127153"
            ]
           ],
           [
            [
             "âĢ¦.\"",
             "12.453695"
            ],
            [
             "!?\"",
             "8.1816225"
            ],
            [
             "!!\"",
             "4.9371095"
            ],
            [
             "\\\\\\\\",
             "3.6184127"
            ],
            [
             "!\",",
             "1.3025279"
            ],
            [
             "][",
             "1.280826"
            ],
            [
             "Ħ¢",
             "1.0186968"
            ],
            [
             "âĢ¦\"",
             "1.0112797"
            ],
            [
             "Ń·",
             "0.5947658"
            ],
            [
             "Ĥİ",
             "0.52950567"
            ]
           ],
           [
            [
             "âĢ¦.\"",
             "7.5486155"
            ],
            [
             "!?\"",
             "7.2519345"
            ],
            [
             "!!\"",
             "4.274696"
            ],
            [
             "\\\\\\\\",
             "3.4655478"
            ],
            [
             "Ħ¢",
             "1.9382935"
            ],
            [
             "Ĥİ",
             "1.3567684"
            ],
            [
             "Ń·",
             "0.95838356"
            ],
            [
             "!\",",
             "0.8564868"
            ],
            [
             "ģ«",
             "0.6496065"
            ],
            [
             "][",
             "0.57416266"
            ]
           ],
           [
            [
             "âĢ¦.\"",
             "17.388409"
            ],
            [
             "!?\"",
             "8.861308"
            ],
            [
             "!!\"",
             "4.6965523"
            ],
            [
             "\\\\\\\\",
             "1.613641"
            ],
            [
             "Ħ¢",
             "1.1574769"
            ],
            [
             "âĢ¦\"",
             "1.1047128"
            ],
            [
             "!\",",
             "0.8772804"
            ],
            [
             "{:",
             "0.7937322"
            ],
            [
             "Ĥİ",
             "0.680188"
            ],
            [
             "<+",
             "0.6366639"
            ]
           ],
           [
            [
             "âĢ¦.\"",
             "9.901095"
            ],
            [
             "!?\"",
             "6.36647"
            ],
            [
             "\\\\\\\\",
             "4.9265046"
            ],
            [
             "!!\"",
             "3.7141113"
            ],
            [
             "Ħ¢",
             "2.1021004"
            ],
            [
             "Ĥİ",
             "1.1074935"
            ],
            [
             "!\",",
             "1.0370184"
            ],
            [
             "Ń·",
             "0.9797659"
            ],
            [
             "][",
             "0.73501897"
            ],
            [
             "!:",
             "0.70038176"
            ]
           ],
           [
            [
             "âĢ¦.\"",
             "11.1455965"
            ],
            [
             "!?\"",
             "6.6926413"
            ],
            [
             "\\\\\\\\",
             "4.3194304"
            ],
            [
             "!!\"",
             "4.0251985"
            ],
            [
             "Ħ¢",
             "1.9818759"
            ],
            [
             "!\",",
             "1.1990162"
            ],
            [
             "Ĥİ",
             "1.1871828"
            ],
            [
             "!:",
             "0.9498808"
            ],
            [
             "Ń·",
             "0.84523225"
            ],
            [
             "][",
             "0.787056"
            ]
           ],
           [
            [
             "âĢ¦.\"",
             "9.725944"
            ],
            [
             "!?\"",
             "5.7869225"
            ],
            [
             "!!\"",
             "5.118763"
            ],
            [
             "\\\\\\\\",
             "2.5343413"
            ],
            [
             "Ħ¢",
             "1.0873728"
            ],
            [
             "!\",",
             "1.0743828"
            ],
            [
             "âĢ¦\"",
             "0.88643336"
            ],
            [
             "!:",
             "0.7058537"
            ],
            [
             "][",
             "0.65207535"
            ],
            [
             "Ń·",
             "0.5416587"
            ]
           ],
           [
            [
             "âĢ¦.\"",
             "7.3490353"
            ],
            [
             "\\\\\\\\",
             "4.332595"
            ],
            [
             "!?\"",
             "3.817568"
            ],
            [
             "!!\"",
             "2.3355393"
            ],
            [
             "Ħ¢",
             "1.619423"
            ],
            [
             "Ĥİ",
             "1.004737"
            ],
            [
             "Ń·",
             "0.84100497"
            ],
            [
             "!:",
             "0.8369875"
            ],
            [
             "Īè",
             "0.80311567"
            ],
            [
             "!\",",
             "0.75869673"
            ]
           ]
          ],
          [
           [
            [
             "âĢ¦.\"",
             "17.241558"
            ],
            [
             "\\\\\\\\",
             "3.0732296"
            ],
            [
             "!!\"",
             "3.0486417"
            ],
            [
             "<+",
             "2.4940324"
            ],
            [
             "âĢ¦\"",
             "1.878155"
            ],
            [
             "][",
             "1.8245972"
            ],
            [
             "!?\"",
             "1.5597695"
            ],
            [
             "!:",
             "1.5072558"
            ],
            [
             "{:",
             "1.1923966"
            ],
            [
             "..............",
             "1.0525522"
            ]
           ],
           [
            [
             "âĢ¦.\"",
             "26.598322"
            ],
            [
             "!!\"",
             "2.6893396"
            ],
            [
             "\\\\\\\\",
             "2.5708313"
            ],
            [
             "][",
             "2.0834565"
            ],
            [
             "!?\"",
             "1.7611256"
            ],
            [
             "âĢ¦\"",
             "1.7038124"
            ],
            [
             "<+",
             "1.1272322"
            ],
            [
             "!\",",
             "0.79491746"
            ],
            [
             "!:",
             "0.7461909"
            ],
            [
             "\"!",
             "0.574617"
            ]
           ],
           [
            [
             "âĢ¦.\"",
             "16.015404"
            ],
            [
             "!?\"",
             "3.773373"
            ],
            [
             "!!\"",
             "3.5076897"
            ],
            [
             "\\\\\\\\",
             "2.9020827"
            ],
            [
             "<+",
             "1.4173895"
            ],
            [
             "!:",
             "1.0052772"
            ],
            [
             "\"!",
             "0.9072236"
            ],
            [
             "Ń·",
             "0.80777097"
            ],
            [
             "][",
             "0.73285997"
            ],
            [
             "âĢ¦\"",
             "0.72976166"
            ]
           ],
           [
            [
             "âĢ¦.\"",
             "28.81938"
            ],
            [
             "!?\"",
             "4.067783"
            ],
            [
             "!!\"",
             "3.6017187"
            ],
            [
             "\\\\\\\\",
             "1.6668906"
            ],
            [
             "<+",
             "1.4417313"
            ],
            [
             "!:",
             "1.1173986"
            ],
            [
             "âĢ¦\"",
             "0.96088153"
            ],
            [
             "\"!",
             "0.9360259"
            ],
            [
             "][",
             "0.7911941"
            ],
            [
             "!\",",
             "0.6245325"
            ]
           ],
           [
            [
             "âĢ¦.\"",
             "23.447838"
            ],
            [
             "!!\"",
             "3.844358"
            ],
            [
             "\\\\\\\\",
             "3.7815115"
            ],
            [
             "!?\"",
             "2.6949744"
            ],
            [
             "<+",
             "1.3901219"
            ],
            [
             "!:",
             "1.2986209"
            ],
            [
             "âĢ¦\"",
             "1.150189"
            ],
            [
             "][",
             "0.9264121"
            ],
            [
             "!\",",
             "0.88104254"
            ],
            [
             "Ń·",
             "0.85552967"
            ]
           ],
           [
            [
             "âĢ¦.\"",
             "23.756739"
            ],
            [
             "\\\\\\\\",
             "4.6355133"
            ],
            [
             "!!\"",
             "3.6813307"
            ],
            [
             "!?\"",
             "2.4730546"
            ],
            [
             "<+",
             "1.3812711"
            ],
            [
             "!:",
             "1.3734319"
            ],
            [
             "Ĥİ",
             "1.2611791"
            ],
            [
             "Ń·",
             "1.2279733"
            ],
            [
             "][",
             "0.96826124"
            ],
            [
             "!\",",
             "0.94947547"
            ]
           ],
           [
            [
             "âĢ¦.\"",
             "14.1174"
            ],
            [
             "!!\"",
             "3.9518502"
            ],
            [
             "\\\\\\\\",
             "2.5591393"
            ],
            [
             "!?\"",
             "2.3997676"
            ],
            [
             "][",
             "1.1203811"
            ],
            [
             "!:",
             "0.9835031"
            ],
            [
             "âĢ¦\"",
             "0.87745655"
            ],
            [
             "!\",",
             "0.86831266"
            ],
            [
             "<+",
             "0.8339029"
            ],
            [
             "'/",
             "0.6820308"
            ]
           ],
           [
            [
             "âĢ¦.\"",
             "12.819857"
            ],
            [
             "\\\\\\\\",
             "5.1965623"
            ],
            [
             "!!\"",
             "1.647287"
            ],
            [
             "<+",
             "1.3901112"
            ],
            [
             "!?\"",
             "1.1478031"
            ],
            [
             "Ħ¢",
             "0.98568386"
            ],
            [
             "'/",
             "0.98542535"
            ],
            [
             "Ĥİ",
             "0.9561209"
            ],
            [
             "Ń·",
             "0.8072226"
            ],
            [
             "Īè",
             "0.7708429"
            ]
           ]
          ],
          [
           [
            [
             "âĢ¦.\"",
             "10.10724"
            ],
            [
             "{:",
             "3.719838"
            ],
            [
             "!!\"",
             "3.3070261"
            ],
            [
             "<+",
             "3.2191043"
            ],
            [
             "!:",
             "2.8458726"
            ],
            [
             "âĢ¦\"",
             "1.2179159"
            ],
            [
             "][",
             "0.98917323"
            ],
            [
             "..............",
             "0.9422438"
            ],
            [
             ".--",
             "0.87707293"
            ],
            [
             "!?\"",
             "0.7768676"
            ]
           ],
           [
            [
             "âĢ¦.\"",
             "21.67821"
            ],
            [
             "<+",
             "1.6921606"
            ],
            [
             "!!\"",
             "1.4691458"
            ],
            [
             "\\\\\\\\",
             "1.4093131"
            ],
            [
             "!:",
             "1.2250328"
            ],
            [
             "âĢ¦\"",
             "1.1300317"
            ],
            [
             "][",
             "1.0341125"
            ],
            [
             ".--",
             "0.65109134"
            ],
            [
             "!?\"",
             "0.6504924"
            ],
            [
             "(_",
             "0.6504648"
            ]
           ],
           [
            [
             "âĢ¦.\"",
             "11.491886"
            ],
            [
             "<+",
             "3.7450428"
            ],
            [
             "\\\\\\\\",
             "1.8612081"
            ],
            [
             "!!\"",
             "1.8102334"
            ],
            [
             "!:",
             "1.3928105"
            ],
            [
             "!?\"",
             "0.95342153"
            ],
            [
             "(_",
             "0.794576"
            ],
            [
             ":{",
             "0.6016917"
            ],
            [
             "\"!",
             "0.5720663"
            ],
            [
             "][",
             "0.4901255"
            ]
           ],
           [
            [
             "âĢ¦.\"",
             "29.781372"
            ],
            [
             "<+",
             "2.732315"
            ],
            [
             "!:",
             "2.4236076"
            ],
            [
             "!!\"",
             "1.6535127"
            ],
            [
             "!?\"",
             "1.2327278"
            ],
            [
             "\\\\\\\\",
             "0.78004354"
            ],
            [
             "âĢ¦\"",
             "0.723043"
            ],
            [
             "\"!",
             "0.7184645"
            ],
            [
             "{:",
             "0.56922364"
            ],
            [
             "(_",
             "0.56216156"
            ]
           ],
           [
            [
             "âĢ¦.\"",
             "26.651594"
            ],
            [
             "<+",
             "3.12799"
            ],
            [
             "!!\"",
             "1.9629916"
            ],
            [
             "!:",
             "1.5321966"
            ],
            [
             "!?\"",
             "1.3002778"
            ],
            [
             "\\\\\\\\",
             "1.1072727"
            ],
            [
             "âĢ¦\"",
             "1.0615373"
            ],
            [
             "Ń·",
             "0.8824194"
            ],
            [
             "¶æ",
             "0.7251202"
            ],
            [
             "\"!",
             "0.63195133"
            ]
           ],
           [
            [
             "âĢ¦.\"",
             "19.118618"
            ],
            [
             "<+",
             "2.8429308"
            ],
            [
             "!!\"",
             "2.4864337"
            ],
            [
             "!:",
             "2.4301205"
            ],
            [
             "Ń·",
             "2.219636"
            ],
            [
             "\\\\\\\\",
             "1.6183168"
            ],
            [
             "Īè",
             "1.0416666"
            ],
            [
             "\"!",
             "0.99676603"
            ],
            [
             "!?\"",
             "0.961266"
            ],
            [
             "¶æ",
             "0.94829816"
            ]
           ],
           [
            [
             "âĢ¦.\"",
             "11.236795"
            ],
            [
             "!!\"",
             "3.0387764"
            ],
            [
             "!:",
             "2.2861423"
            ],
            [
             "\\\\\\\\",
             "1.7834511"
            ],
            [
             "<+",
             "1.607029"
            ],
            [
             "!?\"",
             "1.2452894"
            ],
            [
             "\"!",
             "0.8254308"
            ],
            [
             "'/",
             "0.6959501"
            ],
            [
             "Ħ¢",
             "0.68678963"
            ],
            [
             "!\",",
             "0.6803629"
            ]
           ],
           [
            [
             "âĢ¦.\"",
             "15.421671"
            ],
            [
             "\\\\\\\\",
             "4.5513945"
            ],
            [
             "<+",
             "1.9648392"
            ],
            [
             "!:",
             "1.1020275"
            ],
            [
             "!!\"",
             "0.99959755"
            ],
            [
             "{:",
             "0.8587405"
            ],
            [
             "Īè",
             "0.78971505"
            ],
            [
             "'/",
             "0.74316096"
            ],
            [
             "Ħ¢",
             "0.6508439"
            ],
            [
             "\"!",
             "0.6501584"
            ]
           ]
          ],
          [
           [
            [
             "âĢ¦.\"",
             "16.263565"
            ],
            [
             "!:",
             "2.6456583"
            ],
            [
             "<+",
             "2.3809686"
            ],
            [
             "!!\"",
             "1.9372798"
            ],
            [
             "âĢ¦\"",
             "1.4046489"
            ],
            [
             "{:",
             "1.0879921"
            ],
            [
             "!?\"",
             "0.98642343"
            ],
            [
             "\\\\\\\\",
             "0.87932086"
            ],
            [
             "Ń·",
             "0.5181061"
            ],
            [
             "..............",
             "0.46179244"
            ]
           ],
           [
            [
             "âĢ¦.\"",
             "30.199358"
            ],
            [
             "âĢ¦\"",
             "1.8295789"
            ],
            [
             "!!\"",
             "1.371687"
            ],
            [
             "!?\"",
             "0.85995674"
            ],
            [
             "][",
             "0.8062017"
            ],
            [
             "\\\\\\\\",
             "0.79217184"
            ],
            [
             "!:",
             "0.59873134"
            ],
            [
             "(_",
             "0.5421388"
            ],
            [
             "Īè",
             "0.4778084"
            ],
            [
             "<+",
             "0.41241446"
            ]
           ],
           [
            [
             "âĢ¦.\"",
             "13.382882"
            ],
            [
             "<+",
             "2.58995"
            ],
            [
             "\\\\\\\\",
             "1.8392543"
            ],
            [
             "!!\"",
             "1.1485641"
            ],
            [
             "!:",
             "0.8615562"
            ],
            [
             "!?\"",
             "0.72830755"
            ],
            [
             "âĢ¦\"",
             "0.58785504"
            ],
            [
             "(_",
             "0.4678755"
            ],
            [
             "iod",
             "0.40514734"
            ],
            [
             "\"!",
             "0.38103107"
            ]
           ],
           [
            [
             "âĢ¦.\"",
             "29.476336"
            ],
            [
             "!:",
             "1.4174834"
            ],
            [
             "<+",
             "1.4091948"
            ],
            [
             "!!\"",
             "0.7650474"
            ],
            [
             "âĢ¦\"",
             "0.5602627"
            ],
            [
             "(_",
             "0.5481654"
            ],
            [
             "!?\"",
             "0.53250283"
            ],
            [
             "{:",
             "0.41499949"
            ],
            [
             "iod",
             "0.41273177"
            ],
            [
             "\"!",
             "0.3792444"
            ]
           ],
           [
            [
             "âĢ¦.\"",
             "28.515434"
            ],
            [
             "<+",
             "2.844965"
            ],
            [
             "!!\"",
             "1.2822717"
            ],
            [
             "!:",
             "1.2352762"
            ],
            [
             "âĢ¦\"",
             "1.2248399"
            ],
            [
             "\\\\\\\\",
             "1.0304502"
            ],
            [
             "!?\"",
             "0.84057033"
            ],
            [
             "Ń·",
             "0.5980083"
            ],
            [
             "][",
             "0.53717756"
            ],
            [
             "\"!",
             "0.5198981"
            ]
           ],
           [
            [
             "âĢ¦.\"",
             "23.523424"
            ],
            [
             "<+",
             "2.7440834"
            ],
            [
             "!:",
             "2.6470778"
            ],
            [
             "!!\"",
             "1.9310958"
            ],
            [
             "\\\\\\\\",
             "1.1577523"
            ],
            [
             "Ń·",
             "1.0924065"
            ],
            [
             "âĢ¦\"",
             "0.9508877"
            ],
            [
             "\"!",
             "0.91879034"
            ],
            [
             "!?\"",
             "0.77403075"
            ],
            [
             "¶æ",
             "0.7228707"
            ]
           ],
           [
            [
             "âĢ¦.\"",
             "12.866372"
            ],
            [
             "<+",
             "2.0882976"
            ],
            [
             "!!\"",
             "1.917608"
            ],
            [
             "!:",
             "1.4640715"
            ],
            [
             "!?\"",
             "0.89929646"
            ],
            [
             "\\\\\\\\",
             "0.7766365"
            ],
            [
             "âĢ¦\"",
             "0.77113706"
            ],
            [
             "..............",
             "0.7660278"
            ],
            [
             "][",
             "0.7521305"
            ],
            [
             "\"!",
             "0.5577278"
            ]
           ],
           [
            [
             "âĢ¦.\"",
             "19.51283"
            ],
            [
             "<+",
             "3.021229"
            ],
            [
             "\\\\\\\\",
             "1.3465122"
            ],
            [
             "!!\"",
             "1.1706156"
            ],
            [
             "!?\"",
             "0.9181168"
            ],
            [
             "âĢ¦\"",
             "0.89295644"
            ],
            [
             "!:",
             "0.52688533"
            ],
            [
             "iod",
             "0.5178389"
            ],
            [
             ".--",
             "0.47124457"
            ],
            [
             "{:",
             "0.43936408"
            ]
           ]
          ],
          [
           [
            [
             "âĢ¦.\"",
             "6.3796372"
            ],
            [
             "<+",
             "1.6957469"
            ],
            [
             "!:",
             "1.3637117"
            ],
            [
             "!!\"",
             "1.0872582"
            ],
            [
             "\\\\\\\\",
             "0.857508"
            ],
            [
             "Ļ½",
             "0.8127345"
            ],
            [
             "{:",
             "0.80633557"
            ],
            [
             "¶æ",
             "0.67657155"
            ],
            [
             ".>>",
             "0.5757289"
            ],
            [
             "(_",
             "0.5116363"
            ]
           ],
           [
            [
             "âĢ¦.\"",
             "10.668965"
            ],
            [
             "(_",
             "0.8731592"
            ],
            [
             "][",
             "0.785147"
            ],
            [
             "syrup",
             "0.59027153"
            ],
            [
             "Īè",
             "0.5812552"
            ],
            [
             "<+",
             "0.57448715"
            ],
            [
             "!!\"",
             "0.5359088"
            ],
            [
             "\\\\\\\\",
             "0.50367147"
            ],
            [
             "¶æ",
             "0.44661346"
            ],
            [
             "!:",
             "0.41375798"
            ]
           ],
           [
            [
             "âĢ¦.\"",
             "7.1258416"
            ],
            [
             "<+",
             "2.160022"
            ],
            [
             ".>>",
             "1.0036602"
            ],
            [
             "!!\"",
             "0.495443"
            ],
            [
             "\\\\\\\\",
             "0.41474664"
            ],
            [
             "âĩ",
             "0.39113346"
            ],
            [
             "(_",
             "0.38671488"
            ],
            [
             "---------",
             "0.3729062"
            ],
            [
             "iod",
             "0.36251843"
            ],
            [
             "fluoride",
             "0.3172624"
            ]
           ],
           [
            [
             "âĢ¦.\"",
             "18.897814"
            ],
            [
             "<+",
             "0.9621364"
            ],
            [
             "âĩ",
             "0.51175267"
            ],
            [
             "(_",
             "0.49195415"
            ],
            [
             "iod",
             "0.4417783"
            ],
            [
             ".>>",
             "0.43157214"
            ],
            [
             "Ļ",
             "0.39064196"
            ],
            [
             "!:",
             "0.3492805"
            ],
            [
             "challeng",
             "0.32693344"
            ],
            [
             "pestic",
             "0.267872"
            ]
           ],
           [
            [
             "âĢ¦.\"",
             "15.540096"
            ],
            [
             "<+",
             "1.8685585"
            ],
            [
             "Ļ",
             "0.7611198"
            ],
            [
             "¶æ",
             "0.7436253"
            ],
            [
             "{*",
             "0.712821"
            ],
            [
             "\\\\\\\\",
             "0.62635297"
            ],
            [
             "---------",
             "0.57043225"
            ],
            [
             "!!\"",
             "0.5584724"
            ],
            [
             "Ń·",
             "0.5563015"
            ],
            [
             "Ħ¢",
             "0.5256449"
            ]
           ],
           [
            [
             "âĢ¦.\"",
             "14.853682"
            ],
            [
             "Ħ¢",
             "2.1565368"
            ],
            [
             "¶æ",
             "1.9380467"
            ],
            [
             "<+",
             "1.7517378"
            ],
            [
             "Ń·",
             "1.4151015"
            ],
            [
             "Ļ",
             "1.1002061"
            ],
            [
             "Īè",
             "1.0602301"
            ],
            [
             "\\\\\\\\",
             "1.0102719"
            ],
            [
             "!!\"",
             "0.9568183"
            ],
            [
             "Ļ½",
             "0.76887673"
            ]
           ],
           [
            [
             "âĢ¦.\"",
             "8.722736"
            ],
            [
             "<+",
             "1.0573467"
            ],
            [
             "Ħ¢",
             "0.98162574"
            ],
            [
             "..............",
             "0.8606816"
            ],
            [
             "!!\"",
             "0.6439218"
            ],
            [
             "ļé",
             "0.5699752"
            ],
            [
             "¶æ",
             "0.501642"
            ],
            [
             "Ń·",
             "0.45389518"
            ],
            [
             "][",
             "0.41598034"
            ],
            [
             "'/",
             "0.3992151"
            ]
           ],
           [
            [
             "âĢ¦.\"",
             "12.153294"
            ],
            [
             "<+",
             "2.8448904"
            ],
            [
             "\\\\\\\\",
             "1.398281"
            ],
            [
             "âĢ¦\"",
             "0.8916341"
            ],
            [
             ".>>",
             "0.8808782"
            ],
            [
             "iod",
             "0.710852"
            ],
            [
             "{:",
             "0.5992317"
            ],
            [
             "..............",
             "0.51409996"
            ],
            [
             "Â®,",
             "0.48035854"
            ],
            [
             "!?\"",
             "0.45007014"
            ]
           ]
          ],
          [
           [
            [
             "âĢ¦.\"",
             "2.373287"
            ],
            [
             "!:",
             "0.74032897"
            ],
            [
             "¶æ",
             "0.6528936"
            ],
            [
             "!!\"",
             "0.5887227"
            ],
            [
             "Ŀ",
             "0.4786042"
            ],
            [
             "\\(\\",
             "0.46854037"
            ],
            [
             ".>>",
             "0.43821624"
            ],
            [
             "Ļ",
             "0.4174663"
            ],
            [
             "rpm",
             "0.39642298"
            ],
            [
             "Īè",
             "0.38008204"
            ]
           ],
           [
            [
             "âĢ¦.\"",
             "5.912813"
            ],
            [
             "syrup",
             "0.7665708"
            ],
            [
             "model",
             "0.5375337"
            ],
            [
             "!!\"",
             "0.4433209"
            ],
            [
             "Īè",
             "0.40144855"
            ],
            [
             "Î",
             "0.38154197"
            ],
            [
             "iod",
             "0.37479225"
            ],
            [
             "¶æ",
             "0.32992208"
            ],
            [
             "Ŀ",
             "0.30022794"
            ],
            [
             "psi",
             "0.2830878"
            ]
           ],
           [
            [
             "âĢ¦.\"",
             "1.8321418"
            ],
            [
             "that",
             "0.43337446"
            ],
            [
             "based",
             "0.43318313"
            ],
            [
             "iod",
             "0.39962134"
            ],
            [
             ",",
             "0.33982134"
            ],
            [
             "(<",
             "0.2945071"
            ],
            [
             "to",
             "0.28043285"
            ],
            [
             "oxide",
             "0.26049364"
            ],
            [
             ".>>",
             "0.25019592"
            ],
            [
             "ppm",
             "0.22732669"
            ]
           ],
           [
            [
             "âĢ¦.\"",
             "3.8022685"
            ],
            [
             "based",
             "0.5905123"
            ],
            [
             ",",
             "0.42690653"
            ],
            [
             "(<",
             "0.39490968"
            ],
            [
             "Ļ",
             "0.38798952"
            ],
            [
             "iod",
             "0.38020727"
            ],
            [
             "that",
             "0.37563083"
            ],
            [
             "to",
             "0.32630315"
            ],
            [
             "((",
             "0.31488743"
            ],
            [
             "consisting",
             "0.30945334"
            ]
           ],
           [
            [
             "âĢ¦.\"",
             "8.661414"
            ],
            [
             "¶æ",
             "0.73501647"
            ],
            [
             "Ļ",
             "0.611107"
            ],
            [
             "{*",
             "0.45056766"
            ],
            [
             "``(",
             "0.45013392"
            ],
            [
             "resil",
             "0.3900437"
            ],
            [
             "iod",
             "0.37042066"
            ],
            [
             "Īè",
             "0.30202553"
            ],
            [
             "!!\"",
             "0.26220495"
            ],
            [
             "challeng",
             "0.2533815"
            ]
           ],
           [
            [
             "âĢ¦.\"",
             "14.764121"
            ],
            [
             "¶æ",
             "1.6783493"
            ],
            [
             "Ļ",
             "1.0326539"
            ],
            [
             "{*",
             "0.78386354"
            ],
            [
             "!!\"",
             "0.689455"
            ],
            [
             "Īè",
             "0.53790265"
            ],
            [
             "Ħ¢",
             "0.5178705"
            ],
            [
             "!:",
             "0.48833504"
            ],
            [
             "ı",
             "0.44972217"
            ],
            [
             "!?\"",
             "0.38726664"
            ]
           ],
           [
            [
             "âĢ¦.\"",
             "6.601619"
            ],
            [
             "..............",
             "1.2000234"
            ],
            [
             "!!\"",
             "0.90149075"
            ],
            [
             ".>>",
             "0.6027594"
            ],
            [
             "¶æ",
             "0.50941545"
            ],
            [
             "<+",
             "0.50641245"
            ],
            [
             "Ħ¢",
             "0.43999702"
            ],
            [
             "hooting",
             "0.34471416"
            ],
            [
             "ļé",
             "0.31418028"
            ],
            [
             "iod",
             "0.2860543"
            ]
           ],
           [
            [
             "âĢ¦.\"",
             "6.520772"
            ],
            [
             "Â®,",
             "1.3813924"
            ],
            [
             ".>>",
             "0.8784102"
            ],
            [
             "iod",
             "0.6688809"
            ],
            [
             "<+",
             "0.46313187"
            ],
            [
             ",",
             "0.4518879"
            ],
            [
             "melts",
             "0.36832193"
            ],
            [
             "cooker",
             "0.30957288"
            ],
            [
             "{:",
             "0.2951815"
            ],
            [
             "Ļ",
             "0.29179484"
            ]
           ]
          ],
          [
           [
            [
             "model",
             "4.3451624"
            ],
            [
             "method",
             "0.8220846"
            ],
            [
             "approach",
             "0.47530898"
            ],
            [
             "class",
             "0.44597122"
            ],
            [
             "models",
             "0.388474"
            ],
            [
             "type",
             "0.38639086"
            ],
            [
             "\\(\\",
             "0.35096774"
            ],
            [
             ",",
             "0.32341358"
            ],
            [
             "¶æ",
             "0.28986"
            ],
            [
             "Ħ",
             "0.2723488"
            ]
           ],
           [
            [
             "model",
             "4.091124"
            ],
            [
             "and",
             "0.7957734"
            ],
            [
             "yet",
             "0.66923183"
            ],
            [
             "method",
             "0.47024098"
            ],
            [
             "models",
             "0.46142793"
            ],
            [
             ",",
             "0.44056284"
            ],
            [
             "âĢ¦.\"",
             "0.36822763"
            ],
            [
             "Î",
             "0.33938736"
            ],
            [
             "but",
             "0.3179427"
            ],
            [
             "Ħ",
             "0.27992636"
            ]
           ],
           [
            [
             "that",
             "3.2460532"
            ],
            [
             "called",
             "1.2826082"
            ],
            [
             "based",
             "1.2023574"
            ],
            [
             "structure",
             "1.1741755"
            ],
            [
             ",",
             "1.0306695"
            ],
            [
             "to",
             "0.7995362"
            ],
            [
             "model",
             "0.6423321"
            ],
            [
             "with",
             "0.6341382"
            ],
            [
             "architecture",
             "0.6269494"
            ],
            [
             "top",
             "0.51580185"
            ]
           ],
           [
            [
             "that",
             "5.0870056"
            ],
            [
             "based",
             "3.3293016"
            ],
            [
             "called",
             "2.1648197"
            ],
            [
             ",",
             "1.5978688"
            ],
            [
             "for",
             "1.3470529"
            ],
            [
             "and",
             "1.1506478"
            ],
            [
             "to",
             "1.1084661"
            ],
            [
             "with",
             "1.0775837"
            ],
            [
             "consisting",
             "0.68831414"
            ],
            [
             "(",
             "0.6785802"
            ]
           ],
           [
            [
             "called",
             "1.4049658"
            ],
            [
             "the",
             "0.7304172"
            ],
            [
             "based",
             "0.72976893"
            ],
            [
             "which",
             "0.5485652"
            ],
            [
             "âĢ¦.\"",
             "0.48475224"
            ],
            [
             "termed",
             "0.45236653"
            ],
            [
             "{*",
             "0.3826417"
            ],
            [
             "consisting",
             "0.37006846"
            ],
            [
             "a",
             "0.33195588"
            ],
            [
             "namely",
             "0.31312886"
            ]
           ],
           [
            [
             "âĢ¦.\"",
             "2.0431597"
            ],
            [
             "Ļ",
             "1.1477735"
            ],
            [
             "{*",
             "0.9309183"
            ],
            [
             "¶æ",
             "0.72993046"
            ],
            [
             "Īè",
             "0.5269856"
            ],
            [
             "confir",
             "0.36965647"
            ],
            [
             "``(",
             "0.36376828"
            ],
            [
             "®",
             "0.30129611"
            ],
            [
             "Î",
             "0.28969187"
            ],
            [
             "({",
             "0.27895913"
            ]
           ],
           [
            [
             "âĢ¦.\"",
             "1.3810637"
            ],
            [
             "..............",
             "0.856101"
            ],
            [
             "Ģ",
             "0.6755796"
            ],
            [
             "ļé",
             "0.58750755"
            ],
            [
             "¶æ",
             "0.47036344"
            ],
            [
             "-",
             "0.4519349"
            ],
            [
             "Ħ¢",
             "0.34645167"
            ],
            [
             "âĢĵ",
             "0.33477983"
            ],
            [
             "dri",
             "0.33461463"
            ],
            [
             "Īè",
             "0.28418696"
            ]
           ],
           [
            [
             ",",
             "2.9063356"
            ],
            [
             "Â®,",
             "2.051669"
            ],
            [
             "(",
             "0.89065164"
            ],
            [
             "âĢ¦.\"",
             "0.70062757"
            ],
            [
             "((",
             "0.55567366"
            ],
            [
             ".>>",
             "0.4514873"
            ],
            [
             ".",
             "0.44800243"
            ],
            [
             "iod",
             "0.39401963"
            ],
            [
             "®",
             "0.35462898"
            ],
            [
             "model",
             "0.32870606"
            ]
           ]
          ],
          [
           [
            [
             "model",
             "15.344323"
            ],
            [
             "approach",
             "2.157164"
            ],
            [
             "method",
             "1.7578218"
            ],
            [
             "type",
             "1.1698204"
            ],
            [
             "sequence",
             "0.9855668"
            ],
            [
             ",",
             "0.89283556"
            ],
            [
             "mechanism",
             "0.46533662"
            ],
            [
             "class",
             "0.46423492"
            ],
            [
             "models",
             "0.43451503"
            ],
            [
             "and",
             "0.4125297"
            ]
           ],
           [
            [
             "model",
             "19.075663"
            ],
            [
             "yet",
             "5.620461"
            ],
            [
             "and",
             "2.178424"
            ],
            [
             "but",
             "1.8589242"
            ],
            [
             ",",
             "1.0923904"
            ],
            [
             "method",
             "0.9672811"
            ],
            [
             "mechanism",
             "0.6510687"
            ],
            [
             "sequence",
             "0.6431543"
            ],
            [
             "models",
             "0.6290768"
            ],
            [
             "approach",
             "0.6058843"
            ]
           ],
           [
            [
             "called",
             "13.174115"
            ],
            [
             "that",
             "9.385957"
            ],
            [
             "structure",
             "4.0560184"
            ],
            [
             "based",
             "2.4273434"
            ],
            [
             ",",
             "2.3804114"
            ],
            [
             "model",
             "2.3594396"
            ],
            [
             "top",
             "2.3362195"
            ],
            [
             "with",
             "2.3241928"
            ],
            [
             "architecture",
             "1.8824372"
            ],
            [
             "to",
             "1.4454415"
            ]
           ],
           [
            [
             "called",
             "17.787838"
            ],
            [
             "that",
             "11.671146"
            ],
            [
             "based",
             "9.373446"
            ],
            [
             "for",
             "3.8745005"
            ],
            [
             ",",
             "3.3926253"
            ],
            [
             "with",
             "3.0748677"
            ],
            [
             "and",
             "2.327216"
            ],
            [
             "without",
             "1.9208349"
            ],
            [
             "which",
             "1.8902235"
            ],
            [
             "to",
             "1.8099812"
            ]
           ],
           [
            [
             "called",
             "16.156849"
            ],
            [
             "which",
             "2.8161259"
            ],
            [
             "based",
             "2.0499103"
            ],
            [
             "the",
             "1.9519681"
            ],
            [
             "named",
             "1.4089502"
            ],
            [
             "termed",
             "1.335366"
            ],
            [
             "a",
             "0.8995503"
            ],
            [
             "without",
             "0.8265234"
            ],
            [
             "where",
             "0.7861593"
            ],
            [
             "known",
             "0.78315854"
            ]
           ],
           [
            [
             "**",
             "0.9003257"
            ],
            [
             "Ļ",
             "0.686419"
            ],
            [
             "*",
             "0.55679053"
            ],
            [
             "{*",
             "0.43292525"
            ],
            [
             "_",
             "0.37078825"
            ],
            [
             "Īè",
             "0.2987318"
            ],
            [
             "¶æ",
             "0.28844526"
            ],
            [
             "so",
             "0.2603079"
            ],
            [
             "two",
             "0.24628751"
            ],
            [
             "âĢ",
             "0.23993075"
            ]
           ],
           [
            [
             "-",
             "1.7038832"
            ],
            [
             "Ģ",
             "0.7039697"
            ],
            [
             "ļé",
             "0.52474284"
            ],
            [
             "¶æ",
             "0.45981357"
            ],
            [
             "..............",
             "0.44259936"
            ],
            [
             "Ľ",
             "0.4345542"
            ],
            [
             ",",
             "0.43060067"
            ],
            [
             "and",
             "0.39805654"
            ],
            [
             "âĢĵ",
             "0.33233044"
            ],
            [
             "-[",
             "0.3239016"
            ]
           ],
           [
            [
             ",",
             "9.216406"
            ],
            [
             "(",
             "2.4986901"
            ],
            [
             "-",
             "0.97375166"
            ],
            [
             "model",
             "0.9730879"
            ],
            [
             "Â®,",
             "0.81557083"
            ],
            [
             "Âł",
             "0.7249328"
            ],
            [
             "with",
             "0.64468247"
            ],
            [
             "Ļ",
             "0.60752344"
            ],
            [
             ".",
             "0.60515493"
            ],
            [
             "of",
             "0.5617741"
            ]
           ]
          ],
          [
           [
            [
             "model",
             "23.32987"
            ],
            [
             "approach",
             "3.0005908"
            ],
            [
             "sequence",
             "2.0757484"
            ],
            [
             "type",
             "2.0475047"
            ],
            [
             "method",
             "1.8686148"
            ],
            [
             "attention",
             "1.1473932"
            ],
            [
             "*",
             "0.8091155"
            ],
            [
             "models",
             "0.76838017"
            ],
            [
             ",",
             "0.75223094"
            ],
            [
             "general",
             "0.6308942"
            ]
           ],
           [
            [
             "model",
             "18.818918"
            ],
            [
             "yet",
             "15.808448"
            ],
            [
             "and",
             "4.9309697"
            ],
            [
             "but",
             "3.6975644"
            ],
            [
             "sequence",
             "1.6641197"
            ],
            [
             ",",
             "1.2193657"
            ],
            [
             "-",
             "0.95482564"
            ],
            [
             "network",
             "0.8541014"
            ],
            [
             "to",
             "0.847814"
            ],
            [
             "method",
             "0.8213386"
            ]
           ],
           [
            [
             "that",
             "44.87558"
            ],
            [
             "called",
             "13.036527"
            ],
            [
             "architecture",
             "5.0249686"
            ],
            [
             ",",
             "2.4188457"
            ],
            [
             "based",
             "2.1095383"
            ],
            [
             "top",
             "1.9676718"
            ],
            [
             "with",
             "1.9517756"
            ],
            [
             "structure",
             "1.9371095"
            ],
            [
             "without",
             "1.3593438"
            ],
            [
             "model",
             "1.3069888"
            ]
           ],
           [
            [
             "that",
             "57.75594"
            ],
            [
             "called",
             "8.783447"
            ],
            [
             "based",
             "6.7163014"
            ],
            [
             "for",
             "4.139358"
            ],
            [
             ",",
             "2.5338452"
            ],
            [
             "with",
             "2.4044604"
            ],
            [
             "and",
             "1.4601951"
            ],
            [
             "to",
             "1.3930987"
            ],
            [
             "which",
             "1.1321709"
            ],
            [
             "without",
             "1.0121539"
            ]
           ],
           [
            [
             "called",
             "32.7046"
            ],
            [
             "which",
             "5.7717724"
            ],
            [
             "the",
             "3.2691896"
            ],
            [
             "based",
             "2.6307762"
            ],
            [
             "named",
             "2.255362"
            ],
            [
             "where",
             "2.2167602"
            ],
            [
             "termed",
             "1.2618359"
            ],
            [
             "a",
             "1.2154427"
            ],
            [
             "that",
             "1.1909704"
            ],
            [
             "referred",
             "1.0200709"
            ]
           ],
           [
            [
             "**",
             "2.6477387"
            ],
            [
             "*",
             "1.7385831"
            ],
            [
             "simple",
             "0.8619297"
            ],
            [
             "deep",
             "0.67129904"
            ],
            [
             "attention",
             "0.61381954"
            ],
            [
             "Ļ",
             "0.48637068"
            ],
            [
             "âĢ",
             "0.44022012"
            ],
            [
             "[",
             "0.43476644"
            ],
            [
             "one",
             "0.41714177"
            ],
            [
             "oun",
             "0.413215"
            ]
           ],
           [
            [
             "-",
             "6.0950875"
            ],
            [
             "ļé",
             "1.2525936"
            ],
            [
             "Âł",
             "0.9053144"
            ],
            [
             "âĢĵ",
             "0.85678005"
            ],
            [
             "Ľ",
             "0.7964525"
            ],
            [
             "Ń·",
             "0.7761985"
            ],
            [
             "-[",
             "0.77097857"
            ],
            [
             "Īè",
             "0.5679266"
            ],
            [
             "..............",
             "0.550946"
            ],
            [
             "¶æ",
             "0.5361286"
            ]
           ],
           [
            [
             ",",
             "18.881735"
            ],
            [
             "(",
             "4.3584456"
            ],
            [
             "-",
             "3.8708801"
            ],
            [
             "model",
             "2.235232"
            ],
            [
             "Âł",
             "1.8207723"
            ],
            [
             "that",
             "1.5585799"
            ],
            [
             "network",
             "1.020189"
            ],
            [
             "with",
             "0.96612686"
            ],
            [
             ".",
             "0.89115214"
            ],
            [
             "[",
             "0.6769155"
            ]
           ]
          ],
          [
           [
            [
             "model",
             "9.539596"
            ],
            [
             "sequence",
             "7.7879205"
            ],
            [
             "attention",
             "6.04268"
            ],
            [
             "approach",
             "3.3483477"
            ],
            [
             "method",
             "2.9583817"
            ],
            [
             "type",
             "2.0287066"
            ],
            [
             "deep",
             "1.6724964"
            ],
            [
             "architecture",
             "1.1763757"
            ],
            [
             "and",
             "1.1346947"
            ],
            [
             "enc",
             "1.0724822"
            ]
           ],
           [
            [
             "yet",
             "10.301687"
            ],
            [
             "model",
             "8.56367"
            ],
            [
             "and",
             "7.949049"
            ],
            [
             "sequence",
             "6.152208"
            ],
            [
             "feed",
             "3.761953"
            ],
            [
             "attention",
             "3.0420818"
            ],
            [
             "but",
             "2.2552874"
            ],
            [
             "recurrent",
             "2.159863"
            ],
            [
             "network",
             "2.1209435"
            ],
            [
             ",",
             "1.5107348"
            ]
           ],
           [
            [
             "that",
             "20.69475"
            ],
            [
             "architecture",
             "18.316967"
            ],
            [
             "called",
             "13.332462"
            ],
            [
             "with",
             "4.9502406"
            ],
            [
             "model",
             "4.7468004"
            ],
            [
             "based",
             "3.9990385"
            ],
            [
             "structure",
             "3.990892"
            ],
            [
             ",",
             "2.5183716"
            ],
            [
             "top",
             "1.6608981"
            ],
            [
             "to",
             "1.4776376"
            ]
           ],
           [
            [
             "that",
             "41.791935"
            ],
            [
             "called",
             "10.51883"
            ],
            [
             "with",
             "6.3707314"
            ],
            [
             "based",
             "6.0221953"
            ],
            [
             "for",
             "5.0898542"
            ],
            [
             ",",
             "4.089234"
            ],
            [
             "to",
             "3.3775773"
            ],
            [
             "where",
             "2.1297538"
            ],
            [
             "which",
             "1.5420644"
            ],
            [
             "without",
             "1.4660912"
            ]
           ],
           [
            [
             "called",
             "33.068405"
            ],
            [
             "which",
             "8.1786175"
            ],
            [
             "the",
             "3.898322"
            ],
            [
             "based",
             "3.893755"
            ],
            [
             "termed",
             "3.6669672"
            ],
            [
             "named",
             "3.6125433"
            ],
            [
             "namely",
             "3.3287683"
            ],
            [
             "where",
             "2.8175383"
            ],
            [
             "that",
             "1.7629573"
            ],
            [
             "a",
             "1.6299294"
            ]
           ],
           [
            [
             "attention",
             "3.857024"
            ],
            [
             "**",
             "2.0470204"
            ],
            [
             "*",
             "1.6638461"
            ],
            [
             "simple",
             "1.2453576"
            ],
            [
             "self",
             "1.0892446"
            ],
            [
             "deep",
             "0.8935511"
            ],
            [
             "feed",
             "0.88417745"
            ],
            [
             "sequence",
             "0.67902106"
            ],
            [
             "attentive",
             "0.6506063"
            ],
            [
             "multi",
             "0.61303556"
            ]
           ],
           [
            [
             "former",
             "51.069347"
            ],
            [
             "-",
             "5.7617793"
            ],
            [
             "du",
             "3.5356543"
            ],
            [
             "c",
             "2.004773"
            ],
            [
             "itional",
             "1.2363764"
            ],
            [
             "H",
             "0.9299404"
            ],
            [
             "R",
             "0.73955375"
            ],
            [
             "E",
             "0.650916"
            ],
            [
             "M",
             "0.5713368"
            ],
            [
             "C",
             "0.5679762"
            ]
           ],
           [
            [
             ",",
             "31.458246"
            ],
            [
             "-",
             "6.60254"
            ],
            [
             "network",
             "5.42332"
            ],
            [
             "(",
             "5.1366596"
            ],
            [
             "model",
             "4.260713"
            ],
            [
             "that",
             "2.7258332"
            ],
            [
             "Attention",
             "1.9291447"
            ],
            [
             "enc",
             "1.8922124"
            ],
            [
             "attention",
             "1.8097188"
            ],
            [
             "Network",
             "1.6827952"
            ]
           ]
          ],
          [
           [
            [
             "model",
             "20.841656"
            ],
            [
             "sequence",
             "12.096813"
            ],
            [
             "attention",
             "7.333751"
            ],
            [
             "architecture",
             "4.75067"
            ],
            [
             "approach",
             "2.8021176"
            ],
            [
             "method",
             "2.4655209"
            ],
            [
             "recurrent",
             "1.9132601"
            ],
            [
             "enc",
             "1.8998897"
            ],
            [
             "framework",
             "1.7335657"
            ],
            [
             ",",
             "1.4560949"
            ]
           ],
           [
            [
             "recurrent",
             "15.31321"
            ],
            [
             "model",
             "11.6870985"
            ],
            [
             "and",
             "8.431721"
            ],
            [
             "sequence",
             "7.7555256"
            ],
            [
             "yet",
             "6.0289426"
            ],
            [
             "architecture",
             "4.351607"
            ],
            [
             "but",
             "3.5163276"
            ],
            [
             "attention",
             "2.9610038"
            ],
            [
             ",",
             "2.9021463"
            ],
            [
             "network",
             "2.2468114"
            ]
           ],
           [
            [
             "architecture",
             "59.444534"
            ],
            [
             "that",
             "8.177547"
            ],
            [
             "structure",
             "6.960315"
            ],
            [
             "model",
             "4.869267"
            ],
            [
             ",",
             "2.807379"
            ],
            [
             "called",
             "2.2638326"
            ],
            [
             "with",
             "1.6315205"
            ],
            [
             "for",
             "1.457407"
            ],
            [
             "based",
             "1.3451376"
            ],
            [
             "to",
             "1.1401097"
            ]
           ],
           [
            [
             "that",
             "40.28864"
            ],
            [
             "for",
             "9.726491"
            ],
            [
             ",",
             "9.60816"
            ],
            [
             "based",
             "6.6280036"
            ],
            [
             "called",
             "4.931532"
            ],
            [
             "with",
             "4.5044417"
            ],
            [
             "to",
             "4.14734"
            ],
            [
             "which",
             "2.4952314"
            ],
            [
             "and",
             "1.6677469"
            ],
            [
             "in",
             "1.6330017"
            ]
           ],
           [
            [
             "called",
             "15.887766"
            ],
            [
             "which",
             "14.995474"
            ],
            [
             "the",
             "10.067604"
            ],
            [
             "based",
             "4.0150924"
            ],
            [
             "namely",
             "3.249196"
            ],
            [
             "where",
             "3.1416097"
            ],
            [
             "that",
             "3.0862002"
            ],
            [
             "named",
             "2.9941103"
            ],
            [
             "a",
             "2.9636269"
            ],
            [
             "termed",
             "2.4374142"
            ]
           ],
           [
            [
             "attention",
             "5.6289415"
            ],
            [
             "Attention",
             "3.7427585"
            ],
            [
             "*",
             "3.0105922"
            ],
            [
             "Trans",
             "2.7040493"
            ],
            [
             "sequence",
             "2.3469155"
            ],
            [
             "self",
             "1.7655594"
            ],
            [
             "enc",
             "1.6041349"
            ],
            [
             "Rec",
             "1.2372687"
            ],
            [
             "Sequence",
             "1.2265157"
            ],
            [
             "recurrent",
             "1.1497504"
            ]
           ],
           [
            [
             "former",
             "82.704155"
            ],
            [
             "du",
             "5.4247475"
            ],
            [
             "E",
             "0.63036644"
            ],
            [
             "-",
             "0.53978527"
            ],
            [
             "cription",
             "0.4159425"
            ],
            [
             "duction",
             "0.3925851"
            ],
            [
             "fo",
             "0.2941461"
            ],
            [
             "posed",
             "0.28725347"
            ],
            [
             "c",
             "0.28545654"
            ],
            [
             "duct",
             "0.2775359"
            ]
           ],
           [
            [
             ",",
             "54.895775"
            ],
            [
             "-",
             "4.847664"
            ],
            [
             "network",
             "3.9648824"
            ],
            [
             "model",
             "3.869748"
            ],
            [
             "Network",
             "3.771073"
            ],
            [
             "(",
             "2.9213114"
            ],
            [
             "Attention",
             "2.8216748"
            ],
            [
             "[",
             "1.8009064"
            ],
            [
             "that",
             "1.3990034"
            ],
            [
             "Enc",
             "1.3347296"
            ]
           ]
          ]
         ],
         "hoverlabel": {
          "bgcolor": "rgb(42, 42, 50)"
         },
         "hovertemplate": " %{customdata[0][0]} %{customdata[0][1]:.1f}% <br> %{customdata[1][0]} %{customdata[1][1]:.1f}% <br> %{customdata[2][0]} %{customdata[2][1]:.1f}% <br> %{customdata[3][0]} %{customdata[3][1]:.1f}% <br> %{customdata[4][0]} %{customdata[4][1]:.1f}% <br> %{customdata[5][0]} %{customdata[5][1]:.1f}% <br> %{customdata[6][0]} %{customdata[6][1]:.1f}% <br> %{customdata[7][0]} %{customdata[7][1]:.1f}% <br> %{customdata[8][0]} %{customdata[8][1]:.1f}% <br> %{customdata[9][0]} %{customdata[9][1]:.1f}% <extra></extra>",
         "text": [
          [
           "\"",
           "\"",
           "\"",
           "\"",
           "\"",
           "\"",
           "\"",
           "\""
          ],
          [
           "âĢ¦.\"",
           "âĢ¦.\"",
           "âĢ¦.\"",
           "âĢ¦.\"",
           "âĢ¦.\"",
           "âĢ¦.\"",
           "âĢ¦.\"",
           "âĢ¦.\""
          ],
          [
           "âĢ¦.\"",
           "âĢ¦.\"",
           "âĢ¦.\"",
           "âĢ¦.\"",
           "âĢ¦.\"",
           "âĢ¦.\"",
           "âĢ¦.\"",
           "âĢ¦.\""
          ],
          [
           "âĢ¦.\"",
           "âĢ¦.\"",
           "âĢ¦.\"",
           "âĢ¦.\"",
           "âĢ¦.\"",
           "âĢ¦.\"",
           "âĢ¦.\"",
           "âĢ¦.\""
          ],
          [
           "âĢ¦.\"",
           "âĢ¦.\"",
           "âĢ¦.\"",
           "âĢ¦.\"",
           "âĢ¦.\"",
           "âĢ¦.\"",
           "âĢ¦.\"",
           "âĢ¦.\""
          ],
          [
           "âĢ¦.\"",
           "âĢ¦.\"",
           "âĢ¦.\"",
           "âĢ¦.\"",
           "âĢ¦.\"",
           "âĢ¦.\"",
           "âĢ¦.\"",
           "âĢ¦.\""
          ],
          [
           "âĢ¦.\"",
           "âĢ¦.\"",
           "âĢ¦.\"",
           "âĢ¦.\"",
           "âĢ¦.\"",
           "âĢ¦.\"",
           "âĢ¦.\"",
           "âĢ¦.\""
          ],
          [
           "model",
           "model",
           "that",
           "that",
           "called",
           "âĢ¦.\"",
           "âĢ¦.\"",
           ","
          ],
          [
           "model",
           "model",
           "called",
           "called",
           "called",
           "**",
           "-",
           ","
          ],
          [
           "model",
           "model",
           "that",
           "that",
           "called",
           "**",
           "-",
           ","
          ],
          [
           "model",
           "yet",
           "that",
           "that",
           "called",
           "attention",
           "former",
           ","
          ],
          [
           "model",
           "recurrent",
           "architecture",
           "that",
           "called",
           "attention",
           "former",
           ","
          ]
         ],
         "textfont": {
          "size": 12
         },
         "texttemplate": "<b>%{text}</b>",
         "type": "heatmap",
         "x": [
          "new",
          "simple‌",
          "network‌‌",
          "architecture‌‌‌",
          ",‌‌‌‌",
          "the‌‌‌‌‌",
          "Trans‌‌‌‌‌‌",
          "former‌‌‌‌‌‌‌"
         ],
         "xaxis": "x",
         "y": [
          "input",
          "3",
          "6",
          "9",
          "12",
          "15",
          "18",
          "21",
          "24",
          "27",
          "30",
          "output"
         ],
         "yaxis": "y",
         "z": [
          [
           0.22445997595787048,
           0.5176827907562256,
           0.5034481883049011,
           0.5238773822784424,
           0.21071350574493408,
           0.22549277544021606,
           0.4826411306858063,
           0.4072003662586212
          ],
          [
           0.09004655480384827,
           0.12453695386648178,
           0.07548615336418152,
           0.1738840788602829,
           0.09901095181703568,
           0.11145596951246262,
           0.09725943207740784,
           0.07349035143852234
          ],
          [
           0.1724155843257904,
           0.2659832239151001,
           0.1601540446281433,
           0.28819379210472107,
           0.23447838425636292,
           0.23756738007068634,
           0.14117400348186493,
           0.1281985640525818
          ],
          [
           0.10107239335775375,
           0.2167820930480957,
           0.11491886526346207,
           0.2978137135505676,
           0.26651594042778015,
           0.19118618965148926,
           0.11236795037984848,
           0.1542167067527771
          ],
          [
           0.1626356542110443,
           0.30199357867240906,
           0.13382881879806519,
           0.29476335644721985,
           0.2851543426513672,
           0.23523424565792084,
           0.12866371870040894,
           0.19512830674648285
          ],
          [
           0.06379637122154236,
           0.10668965429067612,
           0.07125841826200485,
           0.1889781355857849,
           0.15540096163749695,
           0.148536816239357,
           0.08722736686468124,
           0.12153293937444687
          ],
          [
           0.0237328689545393,
           0.059128131717443466,
           0.018321417272090912,
           0.038022685796022415,
           0.08661413937807083,
           0.14764121174812317,
           0.06601618975400925,
           0.06520771980285645
          ],
          [
           0.04345162585377693,
           0.0409112423658371,
           0.0324605330824852,
           0.050870057195425034,
           0.014049657620489597,
           0.020431596785783768,
           0.013810636475682259,
           0.029063355177640915
          ],
          [
           0.15344323217868805,
           0.19075661897659302,
           0.13174115121364594,
           0.17787837982177734,
           0.16156849265098572,
           0.009003257378935814,
           0.017038831487298012,
           0.0921640545129776
          ],
          [
           0.23329870402812958,
           0.18818917870521545,
           0.44875580072402954,
           0.5775594115257263,
           0.3270460069179535,
           0.02647738717496395,
           0.0609508752822876,
           0.1888173520565033
          ],
          [
           0.09539595991373062,
           0.10301687568426132,
           0.20694749057292938,
           0.4179193675518036,
           0.33068403601646423,
           0.03857024013996124,
           0.5106934905052185,
           0.3145824670791626
          ],
          [
           0.20841655135154724,
           0.1531320959329605,
           0.5944453477859497,
           0.40288639068603516,
           0.1588776558637619,
           0.056289415806531906,
           0.8270415663719177,
           0.5489577651023865
          ]
         ],
         "zmax": 1,
         "zmin": 0
        },
        {
         "colorbar": {
          "orientation": "h",
          "thickness": 15,
          "title": {
           "side": "right",
           "text": "Probability"
          },
          "y": -0.18
         },
         "colorscale": [
          [
           0,
           "rgb(247,251,255)"
          ],
          [
           0.125,
           "rgb(222,235,247)"
          ],
          [
           0.25,
           "rgb(198,219,239)"
          ],
          [
           0.375,
           "rgb(158,202,225)"
          ],
          [
           0.5,
           "rgb(107,174,214)"
          ],
          [
           0.625,
           "rgb(66,146,198)"
          ],
          [
           0.75,
           "rgb(33,113,181)"
          ],
          [
           0.875,
           "rgb(8,81,156)"
          ],
          [
           1,
           "rgb(8,48,107)"
          ]
         ],
         "customdata": [
          [
           [
            [
             "",
             "2.2000666"
            ],
            [
             "-",
             "1.6526079"
            ],
            [
             "",
             "1.4547513"
            ],
            [
             "...",
             "1.3380904"
            ],
            [
             "*",
             "1.3160117"
            ],
            [
             "\\",
             "1.1135917"
            ],
            [
             "\"",
             "0.97146064"
            ],
            [
             ")",
             "0.9088464"
            ],
            [
             "1",
             "0.8071692"
            ],
            [
             ".",
             "0.71163505"
            ]
           ],
           [
            [
             "\"",
             "3.1632583"
            ],
            [
             "",
             "2.9641144"
            ],
            [
             "-",
             "2.715745"
            ],
            [
             "",
             "1.7047908"
            ],
            [
             ",",
             "1.617239"
            ],
            [
             "I",
             "1.4606581"
            ],
            [
             "...",
             "1.3339775"
            ],
            [
             "*",
             "1.0724956"
            ],
            [
             "\\",
             "1.0564129"
            ],
            [
             "1",
             "0.8851342"
            ]
           ],
           [
            [
             "\"",
             "3.7087348"
            ],
            [
             "",
             "3.1636357"
            ],
            [
             "I",
             "1.9747801"
            ],
            [
             "-",
             "1.8998774"
            ],
            [
             "",
             "1.7188927"
            ],
            [
             ",",
             "1.3574588"
            ],
            [
             "\\",
             "0.96314436"
            ],
            [
             "'",
             "0.9433452"
            ],
            [
             "...",
             "0.9383824"
            ],
            [
             "(",
             "0.93738335"
            ]
           ],
           [
            [
             "\"",
             "3.8950968"
            ],
            [
             "",
             "2.7931137"
            ],
            [
             "I",
             "1.829415"
            ],
            [
             "-",
             "1.6941637"
            ],
            [
             "",
             "1.6774963"
            ],
            [
             ",",
             "1.1688129"
            ],
            [
             "'",
             "0.95517266"
            ],
            [
             "(",
             "0.9240606"
            ],
            [
             "\\",
             "0.83619124"
            ],
            [
             "...",
             "0.8304051"
            ]
           ],
           [
            [
             "",
             "3.7205625"
            ],
            [
             "-",
             "1.7347714"
            ],
            [
             "\"",
             "1.6316185"
            ],
            [
             "",
             "1.4214694"
            ],
            [
             "...",
             "1.2298286"
            ],
            [
             "*",
             "1.168969"
            ],
            [
             "\\",
             "1.0300219"
            ],
            [
             "1",
             "0.9772236"
            ],
            [
             "I",
             "0.9732048"
            ],
            [
             ",",
             "0.77494"
            ]
           ],
           [
            [
             "-",
             "2.785486"
            ],
            [
             "",
             "1.9138377"
            ],
            [
             "*",
             "1.3933378"
            ],
            [
             ",",
             "1.3811177"
            ],
            [
             "",
             "1.2320261"
            ],
            [
             "\"",
             "1.2193041"
            ],
            [
             "...",
             "1.1349968"
            ],
            [
             "\\",
             "1.1169837"
            ],
            [
             "1",
             "0.97849554"
            ],
            [
             "/",
             "0.8568598"
            ]
           ],
           [
            [
             "\"",
             "3.1161249"
            ],
            [
             "",
             "2.3453314"
            ],
            [
             "-",
             "2.1183112"
            ],
            [
             "I",
             "1.9886563"
            ],
            [
             ",",
             "1.5716162"
            ],
            [
             "",
             "1.3171203"
            ],
            [
             "\\",
             "1.0234594"
            ],
            [
             "1",
             "0.9950949"
            ],
            [
             "*",
             "0.98877287"
            ],
            [
             "...",
             "0.97315097"
            ]
           ],
           [
            [
             "\"",
             "2.453313"
            ],
            [
             "",
             "2.3842747"
            ],
            [
             "-",
             "1.5030823"
            ],
            [
             "I",
             "1.4269696"
            ],
            [
             "",
             "1.306901"
            ],
            [
             ",",
             "0.9557508"
            ],
            [
             "'",
             "0.80492496"
            ],
            [
             "\\",
             "0.77192503"
            ],
            [
             "(",
             "0.77095765"
            ],
            [
             "...",
             "0.7567962"
            ]
           ]
          ],
          [
           [
            [
             ",",
             "3.014636"
            ],
            [
             "$",
             "2.5552294"
            ],
            [
             "to",
             "1.0614016"
            ],
            [
             "have",
             "0.85720634"
            ],
            [
             "\"",
             "0.7446096"
            ],
            [
             "",
             "0.71523976"
            ],
            [
             ")",
             "0.6890862"
            ],
            [
             "an",
             "0.64854956"
            ],
            [
             ".",
             "0.6122609"
            ],
            [
             "data",
             "0.59542865"
            ]
           ],
           [
            [
             "x",
             "2.0659816"
            ],
            [
             "",
             "1.2910594"
            ],
            [
             "\"",
             "1.2527024"
            ],
            [
             "$",
             "0.6731425"
            ],
            [
             "_",
             "0.58073545"
            ],
            [
             ",",
             "0.55256456"
            ],
            [
             "is",
             "0.52237463"
            ],
            [
             ":",
             "0.51999754"
            ],
            [
             "",
             "0.50393206"
            ],
            [
             "to",
             "0.47053188"
            ]
           ],
           [
            [
             "to",
             "6.4561234"
            ],
            [
             ",",
             "3.211629"
            ],
            [
             ".",
             "3.1509345"
            ],
            [
             "for",
             "3.14142"
            ],
            [
             "(",
             "2.9246955"
            ],
            [
             "of",
             "2.3579984"
            ],
            [
             "",
             "2.0770512"
            ],
            [
             "the",
             "1.3745569"
            ],
            [
             "a",
             "1.3308376"
            ],
            [
             "by",
             "1.1520746"
            ]
           ],
           [
            [
             ",",
             "5.1604834"
            ],
            [
             "(",
             "3.798496"
            ],
            [
             "",
             "3.3190668"
            ],
            [
             "and",
             "1.6381012"
            ],
            [
             "of",
             "1.5029963"
            ],
            [
             "",
             "1.4807123"
            ],
            [
             ".",
             "1.3101817"
            ],
            [
             "{",
             "1.1536578"
            ],
            [
             ":",
             "1.0582637"
            ],
            [
             "is",
             "0.6500329"
            ]
           ],
           [
            [
             "and",
             "6.6666017"
            ],
            [
             "the",
             "2.600482"
            ],
            [
             "a",
             "2.0514514"
            ],
            [
             "to",
             "1.7690609"
            ],
            [
             "",
             "1.1338726"
            ],
            [
             "but",
             "1.0268128"
            ],
            [
             "for",
             "0.97124195"
            ],
            [
             "I",
             "0.9288529"
            ],
            [
             "\\",
             "0.85197324"
            ],
            [
             "",
             "0.8482253"
            ]
           ],
           [
            [
             "same",
             "1.0537308"
            ],
            [
             "",
             "1.0299448"
            ],
            [
             "",
             "0.98730344"
            ],
            [
             "most",
             "0.5876143"
            ],
            [
             "new",
             "0.5659278"
            ],
            [
             ")",
             "0.40034726"
            ],
            [
             ".",
             "0.39384323"
            ],
            [
             "de",
             "0.37668335"
            ],
            [
             "C",
             "0.3398967"
            ],
            [
             "(",
             "0.3283054"
            ]
           ],
           [
            [
             "_",
             "1.4845744"
            ],
            [
             "",
             "1.4793812"
            ],
            [
             "",
             "0.684519"
            ],
            [
             ".",
             "0.5765091"
            ],
            [
             "de",
             "0.56513256"
            ],
            [
             "*",
             "0.55741245"
            ],
            [
             "s",
             "0.5093671"
            ],
            [
             ":",
             "0.44028983"
            ],
            [
             "my",
             "0.43304065"
            ],
            [
             "}",
             "0.4046747"
            ]
           ],
           [
            [
             "I",
             "3.3937886"
            ],
            [
             "is",
             "3.2788212"
            ],
            [
             "}",
             "2.410643"
            ],
            [
             "m",
             "2.3512368"
            ],
            [
             "1",
             "1.8841026"
            ],
            [
             ",",
             "1.5385911"
            ],
            [
             "(",
             "1.4937046"
            ],
            [
             "{",
             "1.4107788"
            ],
            [
             "",
             "1.3493106"
            ],
            [
             "have",
             "1.1735139"
            ]
           ]
          ],
          [
           [
            [
             "a",
             "2.604312"
            ],
            [
             "an",
             "2.2998605"
            ],
            [
             "to",
             "2.0387297"
            ],
            [
             "[",
             "1.3386648"
            ],
            [
             ",",
             "1.1182008"
            ],
            [
             "$",
             "1.0485858"
            ],
            [
             "have",
             "0.9373869"
            ],
            [
             "life",
             "0.916109"
            ],
            [
             "",
             "0.86257523"
            ],
            [
             "",
             "0.7195061"
            ]
           ],
           [
            [
             "to",
             "2.4242635"
            ],
            [
             "",
             "1.8951675"
            ],
            [
             "",
             "1.163477"
            ],
            [
             "rule",
             "1.0751653"
            ],
            [
             "$",
             "0.8447129"
            ],
            [
             "\"",
             "0.8366946"
            ],
            [
             "a",
             "0.72625375"
            ],
            [
             "x",
             "0.67131126"
            ],
            [
             "-",
             "0.58087397"
            ],
            [
             "b",
             "0.5600821"
            ]
           ],
           [
            [
             "",
             "8.148317"
            ],
            [
             "to",
             "7.7204123"
            ],
            [
             "of",
             "5.3455143"
            ],
            [
             "for",
             "5.1862335"
            ],
            [
             "that",
             "3.863797"
            ],
            [
             ",",
             "3.481763"
            ],
            [
             ".",
             "1.9792566"
            ],
            [
             "her",
             "1.5879551"
            ],
            [
             "a",
             "1.4618037"
            ],
            [
             "(",
             "1.4036099"
            ]
           ],
           [
            [
             "",
             "2.884342"
            ],
            [
             "for",
             "2.3803482"
            ],
            [
             ",",
             "2.2302775"
            ],
            [
             "[",
             "2.2274783"
            ],
            [
             "of",
             "2.1627357"
            ],
            [
             ".",
             "1.6935725"
            ],
            [
             "has",
             "1.4086775"
            ],
            [
             ":",
             "1.3297161"
            ],
            [
             "and",
             "1.2228616"
            ],
            [
             "{",
             "1.1781754"
            ]
           ],
           [
            [
             "and",
             "6.556917"
            ],
            [
             "which",
             "2.831759"
            ],
            [
             "the",
             "2.6951525"
            ],
            [
             "",
             "2.4900615"
            ],
            [
             "with",
             "1.7099053"
            ],
            [
             "or",
             "1.6832398"
            ],
            [
             "to",
             "1.4522465"
            ],
            [
             "a",
             "1.3607899"
            ],
            [
             "as",
             "1.3003696"
            ],
            [
             "for",
             "1.2745373"
            ]
           ],
           [
            [
             "",
             "3.2764745"
            ],
            [
             "last",
             "1.7884184"
            ],
            [
             "same",
             "1.3131088"
            ],
            [
             "potential",
             "0.788367"
            ],
            [
             "",
             "0.6471943"
            ],
            [
             "result",
             "0.5788845"
            ],
            [
             "world",
             "0.489245"
            ],
            [
             "\\",
             "0.47537062"
            ],
            [
             "N",
             "0.436722"
            ],
            [
             "output",
             "0.43530786"
            ]
           ],
           [
            [
             "",
             "2.259103"
            ],
            [
             "",
             "1.8778179"
            ],
            [
             "her",
             "1.5297176"
            ],
            [
             "_",
             "1.4574202"
            ],
            [
             "-",
             "1.0956571"
            ],
            [
             "s",
             "0.8315954"
            ],
            [
             "it",
             "0.7002248"
            ],
            [
             "Ã§",
             "0.61080056"
            ],
            [
             "au",
             "0.5739872"
            ],
            [
             "con",
             "0.5693325"
            ]
           ],
           [
            [
             "",
             "2.9977784"
            ],
            [
             "P",
             "2.4910758"
            ],
            [
             "{",
             "2.4886158"
            ],
            [
             "(",
             "2.100783"
            ],
            [
             ",",
             "2.0038207"
            ],
            [
             "}",
             "1.9923456"
            ],
            [
             "-",
             "1.9138705"
            ],
            [
             "Âł",
             "1.8459814"
            ],
            [
             "{",
             "1.7191731"
            ],
            [
             "âĢ",
             "1.7053243"
            ]
           ]
          ],
          [
           [
            [
             "and",
             "2.1134682"
            ],
            [
             ",",
             "1.370809"
            ],
            [
             "one",
             "0.8846465"
            ],
            [
             ".",
             "0.84685683"
            ],
            [
             "to",
             "0.8159263"
            ],
            [
             "method",
             "0.80728465"
            ],
            [
             "look",
             "0.73425704"
            ],
            [
             "as",
             "0.6094744"
            ],
            [
             "addition",
             "0.5844268"
            ],
            [
             "for",
             "0.48911595"
            ]
           ],
           [
            [
             "and",
             "4.7387514"
            ],
            [
             "-",
             "4.1146336"
            ],
            [
             "yet",
             "1.6139882"
            ],
            [
             ",",
             "1.4714763"
            ],
            [
             "her",
             "1.4458358"
            ],
            [
             "\"",
             "1.3692515"
            ],
            [
             "model",
             "1.2408231"
            ],
            [
             "but",
             "1.0993639"
            ],
            [
             "to",
             "1.0293154"
            ],
            [
             "she",
             "0.95564413"
            ]
           ],
           [
            [
             "that",
             "13.282418"
            ],
            [
             "to",
             "12.782521"
            ],
            [
             "for",
             "12.299614"
            ],
            [
             "of",
             "4.2222166"
            ],
            [
             "with",
             "3.4448571"
            ],
            [
             "in",
             "3.147281"
            ],
            [
             ",",
             "2.2550077"
            ],
            [
             ".",
             "1.9717376"
            ],
            [
             "",
             "1.4495884"
            ],
            [
             ":",
             "1.1591543"
            ]
           ],
           [
            [
             "for",
             "8.181502"
            ],
            [
             "that",
             "6.1039815"
            ],
            [
             ".",
             "5.2781043"
            ],
            [
             ",",
             "4.1826015"
            ],
            [
             "[",
             "4.0962024"
            ],
            [
             "and",
             "4.0927157"
            ],
            [
             ":",
             "3.9253216"
            ],
            [
             "to",
             "3.9013212"
            ],
            [
             "with",
             "2.3755999"
            ],
            [
             "in",
             "2.2473547"
            ]
           ],
           [
            [
             "which",
             "8.401468"
            ],
            [
             "the",
             "3.8003185"
            ],
            [
             "as",
             "2.6709323"
            ],
            [
             "based",
             "2.5953119"
            ],
            [
             "and",
             "2.54166"
            ],
            [
             "a",
             "2.409238"
            ],
            [
             "with",
             "2.054277"
            ],
            [
             "to",
             "1.757344"
            ],
            [
             "but",
             "1.4664576"
            ],
            [
             "an",
             "1.327714"
            ]
           ],
           [
            [
             "result",
             "2.9582074"
            ],
            [
             "same",
             "2.6280785"
            ],
            [
             "only",
             "1.7491778"
            ],
            [
             "possibility",
             "1.2315363"
            ],
            [
             "ability",
             "1.1576188"
            ],
            [
             "âĢ",
             "1.1199255"
            ],
            [
             "results",
             "1.0409149"
            ],
            [
             "*",
             "0.8220709"
            ],
            [
             "idea",
             "0.7625416"
            ],
            [
             "use",
             "0.752701"
            ]
           ],
           [
            [
             "-",
             "1.9741662"
            ],
            [
             "cal",
             "0.8641223"
            ],
            [
             "",
             "0.820828"
            ],
            [
             "os",
             "0.61849517"
            ],
            [
             "E",
             "0.55610865"
            ],
            [
             "Le",
             "0.4574772"
            ],
            [
             "c",
             "0.44993943"
            ],
            [
             "i",
             "0.44624773"
            ],
            [
             "Ð½",
             "0.44118217"
            ],
            [
             "her",
             "0.4388285"
            ]
           ],
           [
            [
             ".",
             "6.7772894"
            ],
            [
             "(",
             "4.643743"
            ],
            [
             ",",
             "3.753212"
            ],
            [
             ":",
             "2.1330447"
            ],
            [
             "that",
             "1.8243138"
            ],
            [
             "and",
             "1.7176243"
            ],
            [
             "is",
             "1.4992048"
            ],
            [
             "can",
             "1.4723234"
            ],
            [
             "{",
             "1.3768108"
            ],
            [
             "\\",
             "1.3605849"
            ]
           ]
          ],
          [
           [
            [
             "method",
             "5.0617075"
            ],
            [
             ",",
             "4.5421424"
            ],
            [
             "and",
             "3.0994666"
            ],
            [
             "one",
             "1.8953897"
            ],
            [
             "class",
             "1.8654796"
            ],
            [
             "to",
             "1.3382384"
            ],
            [
             "\"",
             "0.8643283"
            ],
            [
             "plan",
             "0.8191182"
            ],
            [
             "is",
             "0.81846"
            ],
            [
             "",
             "0.6347076"
            ]
           ],
           [
            [
             "-",
             "29.600615"
            ],
            [
             "and",
             "5.843963"
            ],
            [
             "yet",
             "2.9677114"
            ],
            [
             ",",
             "2.94851"
            ],
            [
             "but",
             "2.0797257"
            ],
            [
             "model",
             "1.8930929"
            ],
            [
             "-[",
             "0.9976062"
            ],
            [
             "method",
             "0.780295"
            ],
            [
             "rule",
             "0.75314903"
            ],
            [
             "\"",
             "0.55819976"
            ]
           ],
           [
            [
             "that",
             "21.685207"
            ],
            [
             "for",
             "14.378759"
            ],
            [
             ":",
             "8.440919"
            ],
            [
             "to",
             "7.120681"
            ],
            [
             "of",
             "4.4453225"
            ],
            [
             ",",
             "3.5728745"
            ],
            [
             "in",
             "2.9530785"
            ],
            [
             "with",
             "2.9437842"
            ],
            [
             "based",
             "2.1095505"
            ],
            [
             ".",
             "1.9460166"
            ]
           ],
           [
            [
             "that",
             "12.894769"
            ],
            [
             "for",
             "11.896257"
            ],
            [
             ":",
             "7.460433"
            ],
            [
             ",",
             "6.4668036"
            ],
            [
             "to",
             "4.719273"
            ],
            [
             "and",
             "3.9405513"
            ],
            [
             "in",
             "3.7046201"
            ],
            [
             "such",
             "3.4284427"
            ],
            [
             ".",
             "3.1375675"
            ],
            [
             "(",
             "2.6450665"
            ]
           ],
           [
            [
             "which",
             "7.130526"
            ],
            [
             "based",
             "4.485135"
            ],
            [
             "the",
             "3.6300416"
            ],
            [
             "a",
             "3.5255198"
            ],
            [
             "for",
             "3.227242"
            ],
            [
             "that",
             "2.852648"
            ],
            [
             "to",
             "2.2445104"
            ],
            [
             "in",
             "1.5800252"
            ],
            [
             "as",
             "1.5498533"
            ],
            [
             "and",
             "1.4979999"
            ]
           ],
           [
            [
             "so",
             "3.6562574"
            ],
            [
             "\"",
             "2.8086965"
            ],
            [
             "*",
             "1.4332817"
            ],
            [
             "âĢ",
             "1.3301258"
            ],
            [
             "use",
             "0.77715546"
            ],
            [
             "6",
             "0.7749407"
            ],
            [
             "result",
             "0.751544"
            ],
            [
             "perfect",
             "0.73012847"
            ],
            [
             "¼",
             "0.7299458"
            ],
            [
             "only",
             "0.5555176"
            ]
           ],
           [
            [
             "-",
             "5.4635415"
            ],
            [
             "ation",
             "1.0413349"
            ],
            [
             "ox",
             "0.87743646"
            ],
            [
             "ip",
             "0.78229785"
            ],
            [
             "Ð½",
             "0.72736627"
            ],
            [
             "cal",
             "0.6681133"
            ],
            [
             "C",
             "0.64474523"
            ],
            [
             "ok",
             "0.6363325"
            ],
            [
             "âĢĲ",
             "0.6098355"
            ],
            [
             "pe",
             "0.51975536"
            ]
           ],
           [
            [
             ",",
             "10.177248"
            ],
            [
             ".",
             "10.033827"
            ],
            [
             "(",
             "4.113117"
            ],
            [
             ":",
             "2.2853115"
            ],
            [
             "that",
             "1.9257965"
            ],
            [
             "in",
             "1.8597533"
            ],
            [
             "and",
             "1.4246092"
            ],
            [
             "-",
             "1.3939259"
            ],
            [
             "Âł",
             "0.9982044"
            ],
            [
             "her",
             "0.9760885"
            ]
           ]
          ],
          [
           [
            [
             "method",
             "30.042648"
            ],
            [
             ",",
             "3.9472897"
            ],
            [
             "and",
             "1.3975438"
            ],
            [
             "class",
             "1.352251"
            ],
            [
             "approach",
             "1.3204167"
            ],
            [
             "technique",
             "1.2132758"
            ],
            [
             "one",
             "1.0968071"
            ],
            [
             "thread",
             "0.7308872"
            ],
            [
             "\"",
             "0.65805036"
            ],
            [
             "team",
             "0.56061995"
            ]
           ],
           [
            [
             "method",
             "8.847458"
            ],
            [
             "and",
             "5.6865597"
            ],
            [
             "-",
             "4.776015"
            ],
            [
             "ton",
             "3.3837364"
            ],
            [
             "yet",
             "3.0408528"
            ],
            [
             ",",
             "2.5005774"
            ],
            [
             "rule",
             "2.2999094"
            ],
            [
             "but",
             "1.5821595"
            ],
            [
             "approach",
             "1.1114591"
            ],
            [
             "model",
             "1.0504243"
            ]
           ],
           [
            [
             "that",
             "56.008446"
            ],
            [
             "for",
             "7.171615"
            ],
            [
             ",",
             "5.188335"
            ],
            [
             "to",
             "3.6985502"
            ],
            [
             "with",
             "3.0059597"
            ],
            [
             "based",
             "2.55799"
            ],
            [
             "of",
             "2.4342992"
            ],
            [
             "in",
             "1.5721476"
            ],
            [
             "architecture",
             "0.7757064"
            ],
            [
             ":",
             "0.7641851"
            ]
           ],
           [
            [
             "that",
             "28.281647"
            ],
            [
             "for",
             "8.253537"
            ],
            [
             ",",
             "7.84699"
            ],
            [
             "and",
             "5.9033628"
            ],
            [
             ".",
             "3.5174143"
            ],
            [
             ":",
             "3.400259"
            ],
            [
             "based",
             "3.3553753"
            ],
            [
             "to",
             "3.0356293"
            ],
            [
             "in",
             "2.3341541"
            ],
            [
             "with",
             "1.813104"
            ]
           ],
           [
            [
             "which",
             "13.15691"
            ],
            [
             "a",
             "7.297982"
            ],
            [
             "the",
             "5.545211"
            ],
            [
             "an",
             "3.6324096"
            ],
            [
             "that",
             "3.0542104"
            ],
            [
             "based",
             "1.7688618"
            ],
            [
             "with",
             "1.2675769"
            ],
            [
             "using",
             "1.1716588"
            ],
            [
             "to",
             "0.8022599"
            ],
            [
             "and",
             "0.7627816"
            ]
           ],
           [
            [
             "so",
             "2.8916304"
            ],
            [
             "Ģ",
             "2.6283128"
            ],
            [
             "¼",
             "1.998496"
            ],
            [
             "Ļ",
             "1.0143886"
            ],
            [
             "perfect",
             "0.9318474"
            ],
            [
             "novel",
             "0.92388785"
            ],
            [
             "¤",
             "0.8899427"
            ],
            [
             "Ħ",
             "0.8826887"
            ],
            [
             "âĢ",
             "0.8704613"
            ],
            [
             "į",
             "0.85495627"
            ]
           ],
           [
            [
             "-",
             "2.8218179"
            ],
            [
             "ox",
             "2.5519576"
            ],
            [
             "ok",
             "2.1036751"
            ],
            [
             "Cont",
             "1.2886772"
            ],
            [
             "cat",
             "0.9096563"
            ],
            [
             "Ch",
             "0.7562706"
            ],
            [
             "ation",
             "0.7095364"
            ],
            [
             "yn",
             "0.6499737"
            ],
            [
             "C",
             "0.6246076"
            ],
            [
             "Sc",
             "0.56833434"
            ]
           ],
           [
            [
             ",",
             "48.11691"
            ],
            [
             ".",
             "6.0618773"
            ],
            [
             "in",
             "1.5598238"
            ],
            [
             "has",
             "1.5591159"
            ],
            [
             "that",
             "1.403788"
            ],
            [
             "approach",
             "1.242424"
            ],
            [
             "(",
             "1.2101356"
            ],
            [
             "inspired",
             "1.0399935"
            ],
            [
             "model",
             "0.7001717"
            ],
            [
             "is",
             "0.67990845"
            ]
           ]
          ],
          [
           [
            [
             "model",
             "41.397976"
            ],
            [
             "method",
             "17.538933"
            ],
            [
             "approach",
             "5.1502595"
            ],
            [
             "technique",
             "1.629495"
            ],
            [
             ",",
             "1.1489168"
            ],
            [
             "strategy",
             "0.73837614"
            ],
            [
             "class",
             "0.6931763"
            ],
            [
             "one",
             "0.6836438"
            ],
            [
             "models",
             "0.5063898"
            ],
            [
             "and",
             "0.48012263"
            ]
           ],
           [
            [
             "model",
             "60.374176"
            ],
            [
             "method",
             "9.774864"
            ],
            [
             "yet",
             "1.3565251"
            ],
            [
             "technique",
             "1.2417672"
            ],
            [
             "ton",
             "0.9649583"
            ],
            [
             "and",
             "0.8122057"
            ],
            [
             "-",
             "0.6539795"
            ],
            [
             "rule",
             "0.6257956"
            ],
            [
             "approach",
             "0.5857283"
            ],
            [
             "models",
             "0.3888452"
            ]
           ],
           [
            [
             "that",
             "59.432648"
            ],
            [
             "for",
             "8.923246"
            ],
            [
             "based",
             "5.589585"
            ],
            [
             ",",
             "5.4993534"
            ],
            [
             "to",
             "2.8062634"
            ],
            [
             "with",
             "2.2031746"
            ],
            [
             "architecture",
             "2.0474668"
            ],
            [
             "called",
             "1.0241952"
            ],
            [
             ":",
             "0.8731792"
            ],
            [
             "in",
             "0.8670188"
            ]
           ],
           [
            [
             "that",
             "35.400387"
            ],
            [
             "for",
             "18.111153"
            ],
            [
             "based",
             "9.269718"
            ],
            [
             ",",
             "8.418461"
            ],
            [
             "to",
             "2.8530529"
            ],
            [
             "and",
             "2.4120226"
            ],
            [
             "called",
             "2.278996"
            ],
            [
             "with",
             "2.188749"
            ],
            [
             ":",
             "1.7982583"
            ],
            [
             "in",
             "1.7020324"
            ]
           ],
           [
            [
             "the",
             "10.980451"
            ],
            [
             "which",
             "8.38475"
            ],
            [
             "based",
             "4.9798155"
            ],
            [
             "a",
             "3.8453116"
            ],
            [
             "called",
             "2.6007056"
            ],
            [
             "that",
             "1.614932"
            ],
            [
             "designed",
             "1.5972382"
            ],
            [
             "an",
             "1.5165803"
            ],
            [
             "and",
             "1.0937873"
            ],
            [
             "with",
             "1.0755509"
            ]
           ],
           [
            [
             "so",
             "5.4099455"
            ],
            [
             "\"",
             "1.3127187"
            ],
            [
             "âĢ",
             "0.9023471"
            ],
            [
             "`",
             "0.80329424"
            ],
            [
             "W",
             "0.71697444"
            ],
            [
             "'",
             "0.71651304"
            ],
            [
             "Î",
             "0.58432233"
            ],
            [
             "*",
             "0.5143392"
            ],
            [
             "simplest",
             "0.36159822"
            ],
            [
             "Trump",
             "0.3262577"
            ]
           ],
           [
            [
             "-",
             "6.1222763"
            ],
            [
             "ient",
             "1.6704242"
            ],
            [
             "cat",
             "1.321877"
            ],
            [
             "iting",
             "1.1879604"
            ],
            [
             "iter",
             "0.88864255"
            ],
            [
             "ia",
             "0.8663172"
            ],
            [
             "Dog",
             "0.7365125"
            ],
            [
             "Life",
             "0.70693123"
            ],
            [
             "f",
             "0.6988079"
            ],
            [
             "C",
             "0.65467024"
            ]
           ],
           [
            [
             ",",
             "75.80405"
            ],
            [
             "(",
             "1.7279834"
            ],
            [
             "in",
             "1.2501854"
            ],
            [
             "that",
             "1.2044024"
            ],
            [
             "inspired",
             "1.0331982"
            ],
            [
             ".",
             "1.0044018"
            ],
            [
             "for",
             "0.8630002"
            ],
            [
             "que",
             "0.49313462"
            ],
            [
             ":",
             "0.47392598"
            ],
            [
             "architecture",
             "0.3774768"
            ]
           ]
          ],
          [
           [
            [
             "model",
             "55.92419"
            ],
            [
             "method",
             "5.5111036"
            ],
            [
             "approach",
             "4.554547"
            ],
            [
             "class",
             "0.85478425"
            ],
            [
             "models",
             "0.83081937"
            ],
            [
             "technique",
             "0.64427376"
            ],
            [
             "Model",
             "0.45000383"
            ],
            [
             "strategy",
             "0.42681924"
            ],
            [
             "type",
             "0.42333418"
            ],
            [
             "set",
             "0.4013107"
            ]
           ],
           [
            [
             "model",
             "55.099136"
            ],
            [
             "yet",
             "3.5798066"
            ],
            [
             "method",
             "2.5924213"
            ],
            [
             "and",
             "2.3508613"
            ],
            [
             "but",
             "1.692598"
            ],
            [
             "models",
             "1.1949801"
            ],
            [
             "ton",
             "1.1082183"
            ],
            [
             "approach",
             "0.8285797"
            ],
            [
             "linear",
             "0.81972545"
            ],
            [
             "x",
             "0.51260966"
            ]
           ],
           [
            [
             "that",
             "63.90707"
            ],
            [
             "architecture",
             "5.1402493"
            ],
            [
             ",",
             "3.9104116"
            ],
            [
             "based",
             "3.6453147"
            ],
            [
             "for",
             "2.4482718"
            ],
            [
             "top",
             "2.1506414"
            ],
            [
             "model",
             "1.6741451"
            ],
            [
             "structure",
             "1.5111389"
            ],
            [
             "called",
             "1.396669"
            ],
            [
             "to",
             "1.3649074"
            ]
           ],
           [
            [
             "that",
             "62.744034"
            ],
            [
             "based",
             "10.912321"
            ],
            [
             "for",
             "5.5464354"
            ],
            [
             ",",
             "3.7069564"
            ],
            [
             "called",
             "2.333691"
            ],
            [
             "and",
             "1.8612355"
            ],
            [
             "to",
             "1.2347056"
            ],
            [
             "with",
             "1.1004622"
            ],
            [
             "in",
             "0.774916"
            ],
            [
             "without",
             "0.5828914"
            ]
           ],
           [
            [
             "the",
             "18.404423"
            ],
            [
             "called",
             "11.138461"
            ],
            [
             "based",
             "4.7431483"
            ],
            [
             "which",
             "4.4733496"
            ],
            [
             "a",
             "3.786777"
            ],
            [
             "named",
             "3.5490017"
            ],
            [
             "an",
             "1.7535113"
            ],
            [
             "that",
             "1.1989858"
            ],
            [
             "inspired",
             "0.8266381"
            ],
            [
             "dubbed",
             "0.8183012"
            ]
           ],
           [
            [
             "âĢ",
             "1.7387373"
            ],
            [
             "\"",
             "0.8965515"
            ],
            [
             "**",
             "0.832876"
            ],
            [
             "'",
             "0.6477772"
            ],
            [
             "`",
             "0.605501"
            ],
            [
             "so",
             "0.59035736"
            ],
            [
             "*",
             "0.50740373"
            ],
            [
             "Ļ",
             "0.43311232"
            ],
            [
             "Î",
             "0.40536746"
            ],
            [
             "[*",
             "0.33703664"
            ]
           ],
           [
            [
             "-",
             "19.846506"
            ],
            [
             "f",
             "1.4533355"
            ],
            [
             "cat",
             "1.308096"
            ],
            [
             "ient",
             "1.2970355"
            ],
            [
             "act",
             "1.1827135"
            ],
            [
             "c",
             "1.1616697"
            ],
            [
             "m",
             "1.0907499"
            ],
            [
             "âĢĵ",
             "1.0553929"
            ],
            [
             "con",
             "0.81261516"
            ],
            [
             "head",
             "0.7687913"
            ]
           ],
           [
            [
             ",",
             "81.830894"
            ],
            [
             ".",
             "1.3446009"
            ],
            [
             "(",
             "1.2536542"
            ],
            [
             "model",
             "0.8592775"
            ],
            [
             "in",
             "0.4135742"
            ],
            [
             "for",
             "0.33295715"
            ],
            [
             "[",
             "0.29417542"
            ],
            [
             "neural",
             "0.29039666"
            ],
            [
             "architecture",
             "0.2806597"
            ],
            [
             "([",
             "0.26497892"
            ]
           ]
          ],
          [
           [
            [
             "model",
             "54.403664"
            ],
            [
             "approach",
             "5.3854303"
            ],
            [
             "method",
             "3.0610921"
            ],
            [
             "sequence",
             "1.505827"
            ],
            [
             "type",
             "0.9350392"
            ],
            [
             ",",
             "0.7637042"
            ],
            [
             "hybrid",
             "0.588997"
            ],
            [
             "strategy",
             "0.4368797"
            ],
            [
             "Model",
             "0.3939683"
            ],
            [
             "framework",
             "0.39050096"
            ]
           ],
           [
            [
             "model",
             "61.34532"
            ],
            [
             "but",
             "3.2844841"
            ],
            [
             "yet",
             "2.9719841"
            ],
            [
             "and",
             "2.7359252"
            ],
            [
             "method",
             "1.0621625"
            ],
            [
             "linear",
             "1.012936"
            ],
            [
             "approach",
             "0.8851553"
            ],
            [
             "sequence",
             "0.82534117"
            ],
            [
             ",",
             "0.52117246"
            ],
            [
             "models",
             "0.4942019"
            ]
           ],
           [
            [
             "that",
             "22.741886"
            ],
            [
             "architecture",
             "17.255806"
            ],
            [
             "called",
             "10.678982"
            ],
            [
             ",",
             "6.4669476"
            ],
            [
             "structure",
             "5.5641108"
            ],
            [
             "top",
             "5.339863"
            ],
            [
             "model",
             "5.090075"
            ],
            [
             "based",
             "2.9576545"
            ],
            [
             "for",
             "2.1162298"
            ],
            [
             "with",
             "1.4870514"
            ]
           ],
           [
            [
             "that",
             "23.653421"
            ],
            [
             "based",
             "17.444582"
            ],
            [
             "called",
             "15.514776"
            ],
            [
             "for",
             "8.747036"
            ],
            [
             ",",
             "8.300053"
            ],
            [
             "and",
             "3.0198565"
            ],
            [
             "with",
             "2.3307762"
            ],
            [
             "of",
             "1.6289955"
            ],
            [
             "to",
             "1.3228462"
            ],
            [
             "in",
             "1.2110586"
            ]
           ],
           [
            [
             "called",
             "28.11541"
            ],
            [
             "the",
             "11.110936"
            ],
            [
             "named",
             "6.1456194"
            ],
            [
             "which",
             "3.7711632"
            ],
            [
             "based",
             "3.414176"
            ],
            [
             "a",
             "2.4583638"
            ],
            [
             "termed",
             "2.3039482"
            ],
            [
             "dubbed",
             "1.4018466"
            ],
            [
             "consisting",
             "0.92156345"
            ],
            [
             "inspired",
             "0.7639901"
            ]
           ],
           [
            [
             "**",
             "1.2220503"
            ],
            [
             "*",
             "0.82758033"
            ],
            [
             "âĢ",
             "0.6533047"
            ],
            [
             "Ļ",
             "0.63251954"
            ],
            [
             "simple",
             "0.54738104"
            ],
            [
             "bounded",
             "0.4456315"
            ],
            [
             "\"",
             "0.39011905"
            ],
            [
             "'",
             "0.24818401"
            ],
            [
             "${",
             "0.22701146"
            ],
            [
             "self",
             "0.22605343"
            ]
           ],
           [
            [
             "-",
             "31.31192"
            ],
            [
             "f",
             "2.6933327"
            ],
            [
             ".",
             "1.6708672"
            ],
            [
             "g",
             "1.4443494"
            ],
            [
             "act",
             "0.87484336"
            ],
            [
             "ient",
             "0.8429071"
            ],
            [
             "c",
             "0.822962"
            ],
            [
             "Ľ",
             "0.80858755"
            ],
            [
             "h",
             "0.71485484"
            ],
            [
             "âĢĵ",
             "0.6709749"
            ]
           ],
           [
            [
             ",",
             "69.944534"
            ],
            [
             "(",
             "3.593635"
            ],
            [
             "model",
             "1.714281"
            ],
            [
             "-",
             "1.3084542"
            ],
            [
             ".",
             "0.94737065"
            ],
            [
             "Âł",
             "0.9322091"
            ],
            [
             "that",
             "0.6558676"
            ],
            [
             "network",
             "0.6023388"
            ],
            [
             "architecture",
             "0.5727135"
            ],
            [
             ",",
             "0.5067613"
            ]
           ]
          ],
          [
           [
            [
             "model",
             "47.19525"
            ],
            [
             "approach",
             "5.6255846"
            ],
            [
             "sequence",
             "3.150573"
            ],
            [
             "method",
             "2.6322591"
            ],
            [
             "type",
             "1.5690043"
            ],
            [
             "deep",
             "0.88706595"
            ],
            [
             "attention",
             "0.78314245"
            ],
            [
             "models",
             "0.6744064"
            ],
            [
             "network",
             "0.62368584"
            ],
            [
             "and",
             "0.61826015"
            ]
           ],
           [
            [
             "model",
             "37.83735"
            ],
            [
             "yet",
             "7.8438272"
            ],
            [
             "and",
             "6.368432"
            ],
            [
             "but",
             "5.734662"
            ],
            [
             "sequence",
             "2.8825066"
            ],
            [
             "network",
             "2.0751498"
            ],
            [
             "linear",
             "1.410978"
            ],
            [
             "recurrent",
             "1.1621274"
            ],
            [
             "neural",
             "0.98444706"
            ],
            [
             "method",
             "0.92829007"
            ]
           ],
           [
            [
             "that",
             "41.99099"
            ],
            [
             "architecture",
             "32.118847"
            ],
            [
             "called",
             "5.661895"
            ],
            [
             ",",
             "2.775071"
            ],
            [
             "model",
             "1.7919935"
            ],
            [
             "based",
             "1.411597"
            ],
            [
             "top",
             "1.3671416"
            ],
            [
             "structure",
             "1.1679677"
            ],
            [
             "consisting",
             "0.9885626"
            ],
            [
             "design",
             "0.9398149"
            ]
           ],
           [
            [
             "that",
             "62.659252"
            ],
            [
             "based",
             "8.811979"
            ],
            [
             "called",
             "6.316785"
            ],
            [
             "for",
             "4.984131"
            ],
            [
             ",",
             "3.8280752"
            ],
            [
             "and",
             "1.4283196"
            ],
            [
             "with",
             "1.385434"
            ],
            [
             "inspired",
             "0.85700935"
            ],
            [
             "to",
             "0.7436119"
            ],
            [
             "which",
             "0.62089485"
            ]
           ],
           [
            [
             "called",
             "37.749107"
            ],
            [
             "the",
             "9.693404"
            ],
            [
             "named",
             "5.914532"
            ],
            [
             "which",
             "5.5061536"
            ],
            [
             "based",
             "2.949343"
            ],
            [
             "termed",
             "2.5650473"
            ],
            [
             "consisting",
             "1.8557191"
            ],
            [
             "a",
             "1.6989876"
            ],
            [
             "dubbed",
             "1.3678322"
            ],
            [
             "namely",
             "1.1862259"
            ]
           ],
           [
            [
             "**",
             "3.5659268"
            ],
            [
             "simple",
             "2.2489536"
            ],
            [
             "*",
             "2.0320394"
            ],
            [
             "deep",
             "1.6909145"
            ],
            [
             "attention",
             "0.9465904"
            ],
            [
             "multi",
             "0.8785032"
            ],
            [
             "âĢ",
             "0.7493883"
            ],
            [
             "oun",
             "0.6643013"
            ],
            [
             "one",
             "0.5328463"
            ],
            [
             "feed",
             "0.52235395"
            ]
           ],
           [
            [
             "-",
             "25.169384"
            ],
            [
             "former",
             "14.016898"
            ],
            [
             ".",
             "1.6057727"
            ],
            [
             "f",
             "1.5517036"
            ],
            [
             "attention",
             "1.2901098"
            ],
            [
             "c",
             "1.1018678"
            ],
            [
             "du",
             "0.91977966"
            ],
            [
             "lu",
             "0.7370693"
            ],
            [
             "E",
             "0.64796007"
            ],
            [
             "E",
             "0.6415515"
            ]
           ],
           [
            [
             ",",
             "63.25283"
            ],
            [
             "(",
             "4.5148473"
            ],
            [
             "-",
             "4.031842"
            ],
            [
             "model",
             "3.305692"
            ],
            [
             "network",
             "3.1726592"
            ],
            [
             "that",
             "1.379054"
            ],
            [
             ".",
             "1.1328064"
            ],
            [
             "Âł",
             "1.1181555"
            ],
            [
             "enc",
             "1.0827587"
            ],
            [
             ",",
             "0.5752402"
            ]
           ]
          ],
          [
           [
            [
             "model",
             "13.51605"
            ],
            [
             "sequence",
             "10.975737"
            ],
            [
             "attention",
             "9.332065"
            ],
            [
             "approach",
             "4.761261"
            ],
            [
             "method",
             "3.2660563"
            ],
            [
             "deep",
             "3.0927677"
            ],
            [
             "enc",
             "2.1094227"
            ],
            [
             "architecture",
             "1.5849656"
            ],
            [
             "type",
             "1.3146231"
            ],
            [
             "and",
             "1.2492778"
            ]
           ],
           [
            [
             "model",
             "10.886841"
            ],
            [
             "yet",
             "9.377809"
            ],
            [
             "and",
             "9.33852"
            ],
            [
             "sequence",
             "7.9839287"
            ],
            [
             "recurrent",
             "5.4398656"
            ],
            [
             "feed",
             "5.4224277"
            ],
            [
             "attention",
             "4.244894"
            ],
            [
             "network",
             "3.7049255"
            ],
            [
             "but",
             "2.9483287"
            ],
            [
             "deep",
             "2.162858"
            ]
           ],
           [
            [
             "architecture",
             "44.314625"
            ],
            [
             "that",
             "15.810208"
            ],
            [
             "called",
             "7.955329"
            ],
            [
             "model",
             "7.524175"
            ],
            [
             "based",
             "2.8963656"
            ],
            [
             "structure",
             "2.8347309"
            ],
            [
             ",",
             "2.0978982"
            ],
            [
             "with",
             "1.7181274"
            ],
            [
             "top",
             "1.6745697"
            ],
            [
             "for",
             "0.9002665"
            ]
           ],
           [
            [
             "that",
             "46.687874"
            ],
            [
             "called",
             "10.440835"
            ],
            [
             "based",
             "7.8195662"
            ],
            [
             "for",
             "5.6493154"
            ],
            [
             ",",
             "5.1061244"
            ],
            [
             "with",
             "3.6157153"
            ],
            [
             "to",
             "2.0150902"
            ],
            [
             "inspired",
             "1.7499229"
            ],
            [
             "where",
             "1.4789567"
            ],
            [
             "and",
             "1.355133"
            ]
           ],
           [
            [
             "called",
             "37.817997"
            ],
            [
             "which",
             "8.3570595"
            ],
            [
             "termed",
             "5.752464"
            ],
            [
             "the",
             "5.622148"
            ],
            [
             "named",
             "5.0138702"
            ],
            [
             "based",
             "4.3042526"
            ],
            [
             "namely",
             "3.4270573"
            ],
            [
             "a",
             "2.163861"
            ],
            [
             "where",
             "1.8900262"
            ],
            [
             "consisting",
             "1.5618578"
            ]
           ],
           [
            [
             "attention",
             "7.5227685"
            ],
            [
             "**",
             "2.3480914"
            ],
            [
             "simple",
             "1.9145346"
            ],
            [
             "self",
             "1.5698584"
            ],
            [
             "deep",
             "1.5592482"
            ],
            [
             "*",
             "1.4635688"
            ],
            [
             "Attention",
             "1.3458761"
            ],
            [
             "feed",
             "1.2727876"
            ],
            [
             "Trans",
             "1.1062163"
            ],
            [
             "enc",
             "0.9293841"
            ]
           ],
           [
            [
             "former",
             "72.9057"
            ],
            [
             "du",
             "3.7601128"
            ],
            [
             "itional",
             "2.1562035"
            ],
            [
             "-",
             "1.9499723"
            ],
            [
             "cription",
             "1.1710337"
            ],
            [
             "c",
             "0.835119"
            ],
            [
             "itive",
             "0.57734984"
            ],
            [
             "position",
             "0.40767905"
            ],
            [
             "R",
             "0.39554894"
            ],
            [
             "H",
             "0.36518073"
            ]
           ],
           [
            [
             ",",
             "41.91221"
            ],
            [
             "network",
             "10.782175"
            ],
            [
             "model",
             "4.8631873"
            ],
            [
             "-",
             "4.8445997"
            ],
            [
             "Network",
             "4.5505657"
            ],
            [
             "(",
             "4.387358"
            ],
            [
             "Attention",
             "3.1704013"
            ],
            [
             "enc",
             "2.3200095"
            ],
            [
             "that",
             "1.9355228"
            ],
            [
             "attention",
             "1.4478917"
            ]
           ]
          ],
          [
           [
            [
             "model",
             "20.841656"
            ],
            [
             "sequence",
             "12.096813"
            ],
            [
             "attention",
             "7.333751"
            ],
            [
             "architecture",
             "4.75067"
            ],
            [
             "approach",
             "2.8021176"
            ],
            [
             "method",
             "2.4655209"
            ],
            [
             "recurrent",
             "1.9132601"
            ],
            [
             "enc",
             "1.8998897"
            ],
            [
             "framework",
             "1.7335657"
            ],
            [
             ",",
             "1.4560949"
            ]
           ],
           [
            [
             "recurrent",
             "15.31321"
            ],
            [
             "model",
             "11.6870985"
            ],
            [
             "and",
             "8.431721"
            ],
            [
             "sequence",
             "7.7555256"
            ],
            [
             "yet",
             "6.0289426"
            ],
            [
             "architecture",
             "4.351607"
            ],
            [
             "but",
             "3.5163276"
            ],
            [
             "attention",
             "2.9610038"
            ],
            [
             ",",
             "2.9021463"
            ],
            [
             "network",
             "2.2468114"
            ]
           ],
           [
            [
             "architecture",
             "59.444534"
            ],
            [
             "that",
             "8.177547"
            ],
            [
             "structure",
             "6.960315"
            ],
            [
             "model",
             "4.869267"
            ],
            [
             ",",
             "2.807379"
            ],
            [
             "called",
             "2.2638326"
            ],
            [
             "with",
             "1.6315205"
            ],
            [
             "for",
             "1.457407"
            ],
            [
             "based",
             "1.3451376"
            ],
            [
             "to",
             "1.1401097"
            ]
           ],
           [
            [
             "that",
             "40.28864"
            ],
            [
             "for",
             "9.726491"
            ],
            [
             ",",
             "9.60816"
            ],
            [
             "based",
             "6.6280036"
            ],
            [
             "called",
             "4.931532"
            ],
            [
             "with",
             "4.5044417"
            ],
            [
             "to",
             "4.14734"
            ],
            [
             "which",
             "2.4952314"
            ],
            [
             "and",
             "1.6677469"
            ],
            [
             "in",
             "1.6330017"
            ]
           ],
           [
            [
             "called",
             "15.887766"
            ],
            [
             "which",
             "14.995474"
            ],
            [
             "the",
             "10.067604"
            ],
            [
             "based",
             "4.0150924"
            ],
            [
             "namely",
             "3.249196"
            ],
            [
             "where",
             "3.1416097"
            ],
            [
             "that",
             "3.0862002"
            ],
            [
             "named",
             "2.9941103"
            ],
            [
             "a",
             "2.9636269"
            ],
            [
             "termed",
             "2.4374142"
            ]
           ],
           [
            [
             "attention",
             "5.6289415"
            ],
            [
             "Attention",
             "3.7427585"
            ],
            [
             "*",
             "3.0105922"
            ],
            [
             "Trans",
             "2.7040493"
            ],
            [
             "sequence",
             "2.3469155"
            ],
            [
             "self",
             "1.7655594"
            ],
            [
             "enc",
             "1.6041349"
            ],
            [
             "Rec",
             "1.2372687"
            ],
            [
             "Sequence",
             "1.2265157"
            ],
            [
             "recurrent",
             "1.1497504"
            ]
           ],
           [
            [
             "former",
             "82.704155"
            ],
            [
             "du",
             "5.4247475"
            ],
            [
             "E",
             "0.63036644"
            ],
            [
             "-",
             "0.53978527"
            ],
            [
             "cription",
             "0.4159425"
            ],
            [
             "duction",
             "0.3925851"
            ],
            [
             "fo",
             "0.2941461"
            ],
            [
             "posed",
             "0.28725347"
            ],
            [
             "c",
             "0.28545654"
            ],
            [
             "duct",
             "0.2775359"
            ]
           ],
           [
            [
             ",",
             "54.895775"
            ],
            [
             "-",
             "4.847664"
            ],
            [
             "network",
             "3.9648824"
            ],
            [
             "model",
             "3.869748"
            ],
            [
             "Network",
             "3.771073"
            ],
            [
             "(",
             "2.9213114"
            ],
            [
             "Attention",
             "2.8216748"
            ],
            [
             "[",
             "1.8009064"
            ],
            [
             "that",
             "1.3990034"
            ],
            [
             "Enc",
             "1.3347296"
            ]
           ]
          ]
         ],
         "hoverlabel": {
          "bgcolor": "rgb(42, 42, 50)"
         },
         "hovertemplate": " %{customdata[0][0]} %{customdata[0][1]:.1f}% <br> %{customdata[1][0]} %{customdata[1][1]:.1f}% <br> %{customdata[2][0]} %{customdata[2][1]:.1f}% <br> %{customdata[3][0]} %{customdata[3][1]:.1f}% <br> %{customdata[4][0]} %{customdata[4][1]:.1f}% <br> %{customdata[5][0]} %{customdata[5][1]:.1f}% <br> %{customdata[6][0]} %{customdata[6][1]:.1f}% <br> %{customdata[7][0]} %{customdata[7][1]:.1f}% <br> %{customdata[8][0]} %{customdata[8][1]:.1f}% <br> %{customdata[9][0]} %{customdata[9][1]:.1f}% <extra></extra>",
         "text": [
          [
           "",
           "\"",
           "\"",
           "\"",
           "",
           "-",
           "\"",
           "\""
          ],
          [
           ",",
           "x",
           "to",
           ",",
           "and",
           "same",
           "_",
           "I"
          ],
          [
           "a",
           "to",
           "",
           "",
           "and",
           "",
           "",
           ""
          ],
          [
           "and",
           "and",
           "that",
           "for",
           "which",
           "result",
           "-",
           "."
          ],
          [
           "method",
           "-",
           "that",
           "that",
           "which",
           "so",
           "-",
           ","
          ],
          [
           "method",
           "method",
           "that",
           "that",
           "which",
           "so",
           "-",
           ","
          ],
          [
           "model",
           "model",
           "that",
           "that",
           "the",
           "so",
           "-",
           ","
          ],
          [
           "model",
           "model",
           "that",
           "that",
           "the",
           "âĢ",
           "-",
           ","
          ],
          [
           "model",
           "model",
           "that",
           "that",
           "called",
           "**",
           "-",
           ","
          ],
          [
           "model",
           "model",
           "that",
           "that",
           "called",
           "**",
           "-",
           ","
          ],
          [
           "model",
           "model",
           "architecture",
           "that",
           "called",
           "attention",
           "former",
           ","
          ],
          [
           "model",
           "recurrent",
           "architecture",
           "that",
           "called",
           "attention",
           "former",
           ","
          ]
         ],
         "textfont": {
          "size": 12
         },
         "texttemplate": "<b>%{text}</b>",
         "type": "heatmap",
         "x": [
          "new",
          "simple‌",
          "network‌‌",
          "architecture‌‌‌",
          ",‌‌‌‌",
          "the‌‌‌‌‌",
          "Trans‌‌‌‌‌‌",
          "former‌‌‌‌‌‌‌"
         ],
         "xaxis": "x2",
         "y": [
          "input",
          "3",
          "6",
          "9",
          "12",
          "15",
          "18",
          "21",
          "24",
          "27",
          "30",
          "output"
         ],
         "yaxis": "y2",
         "z": [
          [
           0.022000664845108986,
           0.03163258358836174,
           0.037087347358465195,
           0.03895096853375435,
           0.03720562532544136,
           0.027854859828948975,
           0.031161248683929443,
           0.02453313209116459
          ],
          [
           0.030146360397338867,
           0.02065981552004814,
           0.06456123292446136,
           0.05160483345389366,
           0.06666601449251175,
           0.010537308640778065,
           0.014845744706690311,
           0.033937886357307434
          ],
          [
           0.02604311890900135,
           0.024242635816335678,
           0.08148317039012909,
           0.02884341962635517,
           0.06556916981935501,
           0.0327647440135479,
           0.022591030225157738,
           0.02997778356075287
          ],
          [
           0.02113468199968338,
           0.047387514263391495,
           0.13282418251037598,
           0.08181501924991608,
           0.08401468396186829,
           0.029582073912024498,
           0.019741661846637726,
           0.06777289509773254
          ],
          [
           0.050617072731256485,
           0.29600614309310913,
           0.216852068901062,
           0.1289476901292801,
           0.07130526006221771,
           0.03656257316470146,
           0.054635412991046906,
           0.1017724797129631
          ],
          [
           0.3004264831542969,
           0.0884745791554451,
           0.5600844621658325,
           0.28281646966934204,
           0.13156910240650177,
           0.02891630306839943,
           0.028218179941177368,
           0.48116910457611084
          ],
          [
           0.41397976875305176,
           0.6037417650222778,
           0.5943264961242676,
           0.3540038764476776,
           0.10980450361967087,
           0.05409945547580719,
           0.06122276186943054,
           0.7580404281616211
          ],
          [
           0.5592418909072876,
           0.5509913563728333,
           0.6390706896781921,
           0.627440333366394,
           0.1840442270040512,
           0.017387373372912407,
           0.19846506416797638,
           0.81830894947052
          ],
          [
           0.5440366268157959,
           0.613453209400177,
           0.22741885483264923,
           0.2365342080593109,
           0.2811540961265564,
           0.012220502831041813,
           0.31311920285224915,
           0.699445366859436
          ],
          [
           0.47195249795913696,
           0.37837347388267517,
           0.41990989446640015,
           0.6265925168991089,
           0.3774910867214203,
           0.035659268498420715,
           0.25169384479522705,
           0.6325283050537109
          ],
          [
           0.13516050577163696,
           0.10886841267347336,
           0.4431462585926056,
           0.466878741979599,
           0.37817996740341187,
           0.07522768527269363,
           0.7290570139884949,
           0.4191220998764038
          ],
          [
           0.20841655135154724,
           0.1531320959329605,
           0.5944453477859497,
           0.40288639068603516,
           0.1588776558637619,
           0.056289415806531906,
           0.8270415663719177,
           0.5489577651023865
          ]
         ],
         "zmax": 1,
         "zmin": 0
        }
       ],
       "layout": {
        "annotations": [
         {
          "font": {
           "size": 16
          },
          "showarrow": false,
          "text": "Logit Lens (theirs)",
          "x": 0.5,
          "xanchor": "center",
          "xref": "paper",
          "y": 1,
          "yanchor": "bottom",
          "yref": "paper"
         },
         {
          "font": {
           "size": 16
          },
          "showarrow": false,
          "text": "Tuned Lens (ours)",
          "x": 0.5,
          "xanchor": "center",
          "xref": "paper",
          "y": 0.45,
          "yanchor": "bottom",
          "yref": "paper"
         },
         {
          "font": {
           "size": 16
          },
          "showarrow": false,
          "text": "Input token",
          "x": 0.5,
          "xanchor": "center",
          "xref": "paper",
          "y": 0,
          "yanchor": "top",
          "yref": "paper",
          "yshift": -30
         },
         {
          "font": {
           "size": 16
          },
          "showarrow": false,
          "text": "Layer",
          "textangle": -90,
          "x": 0,
          "xanchor": "right",
          "xref": "paper",
          "xshift": -40,
          "y": 0.5,
          "yanchor": "middle",
          "yref": "paper"
         }
        ],
        "font": {
         "color": "black"
        },
        "height": 800,
        "margin": {
         "b": 70,
         "l": 60,
         "r": 0,
         "t": 25
        },
        "template": {
         "data": {
          "bar": [
           {
            "error_x": {
             "color": "#2a3f5f"
            },
            "error_y": {
             "color": "#2a3f5f"
            },
            "marker": {
             "line": {
              "color": "#E5ECF6",
              "width": 0.5
             },
             "pattern": {
              "fillmode": "overlay",
              "size": 10,
              "solidity": 0.2
             }
            },
            "type": "bar"
           }
          ],
          "barpolar": [
           {
            "marker": {
             "line": {
              "color": "#E5ECF6",
              "width": 0.5
             },
             "pattern": {
              "fillmode": "overlay",
              "size": 10,
              "solidity": 0.2
             }
            },
            "type": "barpolar"
           }
          ],
          "carpet": [
           {
            "aaxis": {
             "endlinecolor": "#2a3f5f",
             "gridcolor": "white",
             "linecolor": "white",
             "minorgridcolor": "white",
             "startlinecolor": "#2a3f5f"
            },
            "baxis": {
             "endlinecolor": "#2a3f5f",
             "gridcolor": "white",
             "linecolor": "white",
             "minorgridcolor": "white",
             "startlinecolor": "#2a3f5f"
            },
            "type": "carpet"
           }
          ],
          "choropleth": [
           {
            "colorbar": {
             "outlinewidth": 0,
             "ticks": ""
            },
            "type": "choropleth"
           }
          ],
          "contour": [
           {
            "colorbar": {
             "outlinewidth": 0,
             "ticks": ""
            },
            "colorscale": [
             [
              0,
              "#0d0887"
             ],
             [
              0.1111111111111111,
              "#46039f"
             ],
             [
              0.2222222222222222,
              "#7201a8"
             ],
             [
              0.3333333333333333,
              "#9c179e"
             ],
             [
              0.4444444444444444,
              "#bd3786"
             ],
             [
              0.5555555555555556,
              "#d8576b"
             ],
             [
              0.6666666666666666,
              "#ed7953"
             ],
             [
              0.7777777777777778,
              "#fb9f3a"
             ],
             [
              0.8888888888888888,
              "#fdca26"
             ],
             [
              1,
              "#f0f921"
             ]
            ],
            "type": "contour"
           }
          ],
          "contourcarpet": [
           {
            "colorbar": {
             "outlinewidth": 0,
             "ticks": ""
            },
            "type": "contourcarpet"
           }
          ],
          "heatmap": [
           {
            "colorbar": {
             "outlinewidth": 0,
             "ticks": ""
            },
            "colorscale": [
             [
              0,
              "#0d0887"
             ],
             [
              0.1111111111111111,
              "#46039f"
             ],
             [
              0.2222222222222222,
              "#7201a8"
             ],
             [
              0.3333333333333333,
              "#9c179e"
             ],
             [
              0.4444444444444444,
              "#bd3786"
             ],
             [
              0.5555555555555556,
              "#d8576b"
             ],
             [
              0.6666666666666666,
              "#ed7953"
             ],
             [
              0.7777777777777778,
              "#fb9f3a"
             ],
             [
              0.8888888888888888,
              "#fdca26"
             ],
             [
              1,
              "#f0f921"
             ]
            ],
            "type": "heatmap"
           }
          ],
          "heatmapgl": [
           {
            "colorbar": {
             "outlinewidth": 0,
             "ticks": ""
            },
            "colorscale": [
             [
              0,
              "#0d0887"
             ],
             [
              0.1111111111111111,
              "#46039f"
             ],
             [
              0.2222222222222222,
              "#7201a8"
             ],
             [
              0.3333333333333333,
              "#9c179e"
             ],
             [
              0.4444444444444444,
              "#bd3786"
             ],
             [
              0.5555555555555556,
              "#d8576b"
             ],
             [
              0.6666666666666666,
              "#ed7953"
             ],
             [
              0.7777777777777778,
              "#fb9f3a"
             ],
             [
              0.8888888888888888,
              "#fdca26"
             ],
             [
              1,
              "#f0f921"
             ]
            ],
            "type": "heatmapgl"
           }
          ],
          "histogram": [
           {
            "marker": {
             "pattern": {
              "fillmode": "overlay",
              "size": 10,
              "solidity": 0.2
             }
            },
            "type": "histogram"
           }
          ],
          "histogram2d": [
           {
            "colorbar": {
             "outlinewidth": 0,
             "ticks": ""
            },
            "colorscale": [
             [
              0,
              "#0d0887"
             ],
             [
              0.1111111111111111,
              "#46039f"
             ],
             [
              0.2222222222222222,
              "#7201a8"
             ],
             [
              0.3333333333333333,
              "#9c179e"
             ],
             [
              0.4444444444444444,
              "#bd3786"
             ],
             [
              0.5555555555555556,
              "#d8576b"
             ],
             [
              0.6666666666666666,
              "#ed7953"
             ],
             [
              0.7777777777777778,
              "#fb9f3a"
             ],
             [
              0.8888888888888888,
              "#fdca26"
             ],
             [
              1,
              "#f0f921"
             ]
            ],
            "type": "histogram2d"
           }
          ],
          "histogram2dcontour": [
           {
            "colorbar": {
             "outlinewidth": 0,
             "ticks": ""
            },
            "colorscale": [
             [
              0,
              "#0d0887"
             ],
             [
              0.1111111111111111,
              "#46039f"
             ],
             [
              0.2222222222222222,
              "#7201a8"
             ],
             [
              0.3333333333333333,
              "#9c179e"
             ],
             [
              0.4444444444444444,
              "#bd3786"
             ],
             [
              0.5555555555555556,
              "#d8576b"
             ],
             [
              0.6666666666666666,
              "#ed7953"
             ],
             [
              0.7777777777777778,
              "#fb9f3a"
             ],
             [
              0.8888888888888888,
              "#fdca26"
             ],
             [
              1,
              "#f0f921"
             ]
            ],
            "type": "histogram2dcontour"
           }
          ],
          "mesh3d": [
           {
            "colorbar": {
             "outlinewidth": 0,
             "ticks": ""
            },
            "type": "mesh3d"
           }
          ],
          "parcoords": [
           {
            "line": {
             "colorbar": {
              "outlinewidth": 0,
              "ticks": ""
             }
            },
            "type": "parcoords"
           }
          ],
          "pie": [
           {
            "automargin": true,
            "type": "pie"
           }
          ],
          "scatter": [
           {
            "fillpattern": {
             "fillmode": "overlay",
             "size": 10,
             "solidity": 0.2
            },
            "type": "scatter"
           }
          ],
          "scatter3d": [
           {
            "line": {
             "colorbar": {
              "outlinewidth": 0,
              "ticks": ""
             }
            },
            "marker": {
             "colorbar": {
              "outlinewidth": 0,
              "ticks": ""
             }
            },
            "type": "scatter3d"
           }
          ],
          "scattercarpet": [
           {
            "marker": {
             "colorbar": {
              "outlinewidth": 0,
              "ticks": ""
             }
            },
            "type": "scattercarpet"
           }
          ],
          "scattergeo": [
           {
            "marker": {
             "colorbar": {
              "outlinewidth": 0,
              "ticks": ""
             }
            },
            "type": "scattergeo"
           }
          ],
          "scattergl": [
           {
            "marker": {
             "colorbar": {
              "outlinewidth": 0,
              "ticks": ""
             }
            },
            "type": "scattergl"
           }
          ],
          "scattermapbox": [
           {
            "marker": {
             "colorbar": {
              "outlinewidth": 0,
              "ticks": ""
             }
            },
            "type": "scattermapbox"
           }
          ],
          "scatterpolar": [
           {
            "marker": {
             "colorbar": {
              "outlinewidth": 0,
              "ticks": ""
             }
            },
            "type": "scatterpolar"
           }
          ],
          "scatterpolargl": [
           {
            "marker": {
             "colorbar": {
              "outlinewidth": 0,
              "ticks": ""
             }
            },
            "type": "scatterpolargl"
           }
          ],
          "scatterternary": [
           {
            "marker": {
             "colorbar": {
              "outlinewidth": 0,
              "ticks": ""
             }
            },
            "type": "scatterternary"
           }
          ],
          "surface": [
           {
            "colorbar": {
             "outlinewidth": 0,
             "ticks": ""
            },
            "colorscale": [
             [
              0,
              "#0d0887"
             ],
             [
              0.1111111111111111,
              "#46039f"
             ],
             [
              0.2222222222222222,
              "#7201a8"
             ],
             [
              0.3333333333333333,
              "#9c179e"
             ],
             [
              0.4444444444444444,
              "#bd3786"
             ],
             [
              0.5555555555555556,
              "#d8576b"
             ],
             [
              0.6666666666666666,
              "#ed7953"
             ],
             [
              0.7777777777777778,
              "#fb9f3a"
             ],
             [
              0.8888888888888888,
              "#fdca26"
             ],
             [
              1,
              "#f0f921"
             ]
            ],
            "type": "surface"
           }
          ],
          "table": [
           {
            "cells": {
             "fill": {
              "color": "#EBF0F8"
             },
             "line": {
              "color": "white"
             }
            },
            "header": {
             "fill": {
              "color": "#C8D4E3"
             },
             "line": {
              "color": "white"
             }
            },
            "type": "table"
           }
          ]
         },
         "layout": {
          "annotationdefaults": {
           "arrowcolor": "#2a3f5f",
           "arrowhead": 0,
           "arrowwidth": 1
          },
          "autotypenumbers": "strict",
          "coloraxis": {
           "colorbar": {
            "outlinewidth": 0,
            "ticks": ""
           }
          },
          "colorscale": {
           "diverging": [
            [
             0,
             "#8e0152"
            ],
            [
             0.1,
             "#c51b7d"
            ],
            [
             0.2,
             "#de77ae"
            ],
            [
             0.3,
             "#f1b6da"
            ],
            [
             0.4,
             "#fde0ef"
            ],
            [
             0.5,
             "#f7f7f7"
            ],
            [
             0.6,
             "#e6f5d0"
            ],
            [
             0.7,
             "#b8e186"
            ],
            [
             0.8,
             "#7fbc41"
            ],
            [
             0.9,
             "#4d9221"
            ],
            [
             1,
             "#276419"
            ]
           ],
           "sequential": [
            [
             0,
             "#0d0887"
            ],
            [
             0.1111111111111111,
             "#46039f"
            ],
            [
             0.2222222222222222,
             "#7201a8"
            ],
            [
             0.3333333333333333,
             "#9c179e"
            ],
            [
             0.4444444444444444,
             "#bd3786"
            ],
            [
             0.5555555555555556,
             "#d8576b"
            ],
            [
             0.6666666666666666,
             "#ed7953"
            ],
            [
             0.7777777777777778,
             "#fb9f3a"
            ],
            [
             0.8888888888888888,
             "#fdca26"
            ],
            [
             1,
             "#f0f921"
            ]
           ],
           "sequentialminus": [
            [
             0,
             "#0d0887"
            ],
            [
             0.1111111111111111,
             "#46039f"
            ],
            [
             0.2222222222222222,
             "#7201a8"
            ],
            [
             0.3333333333333333,
             "#9c179e"
            ],
            [
             0.4444444444444444,
             "#bd3786"
            ],
            [
             0.5555555555555556,
             "#d8576b"
            ],
            [
             0.6666666666666666,
             "#ed7953"
            ],
            [
             0.7777777777777778,
             "#fb9f3a"
            ],
            [
             0.8888888888888888,
             "#fdca26"
            ],
            [
             1,
             "#f0f921"
            ]
           ]
          },
          "colorway": [
           "#636efa",
           "#EF553B",
           "#00cc96",
           "#ab63fa",
           "#FFA15A",
           "#19d3f3",
           "#FF6692",
           "#B6E880",
           "#FF97FF",
           "#FECB52"
          ],
          "font": {
           "color": "#2a3f5f"
          },
          "geo": {
           "bgcolor": "white",
           "lakecolor": "white",
           "landcolor": "#E5ECF6",
           "showlakes": true,
           "showland": true,
           "subunitcolor": "white"
          },
          "hoverlabel": {
           "align": "left"
          },
          "hovermode": "closest",
          "mapbox": {
           "style": "light"
          },
          "paper_bgcolor": "white",
          "plot_bgcolor": "#E5ECF6",
          "polar": {
           "angularaxis": {
            "gridcolor": "white",
            "linecolor": "white",
            "ticks": ""
           },
           "bgcolor": "#E5ECF6",
           "radialaxis": {
            "gridcolor": "white",
            "linecolor": "white",
            "ticks": ""
           }
          },
          "scene": {
           "xaxis": {
            "backgroundcolor": "#E5ECF6",
            "gridcolor": "white",
            "gridwidth": 2,
            "linecolor": "white",
            "showbackground": true,
            "ticks": "",
            "zerolinecolor": "white"
           },
           "yaxis": {
            "backgroundcolor": "#E5ECF6",
            "gridcolor": "white",
            "gridwidth": 2,
            "linecolor": "white",
            "showbackground": true,
            "ticks": "",
            "zerolinecolor": "white"
           },
           "zaxis": {
            "backgroundcolor": "#E5ECF6",
            "gridcolor": "white",
            "gridwidth": 2,
            "linecolor": "white",
            "showbackground": true,
            "ticks": "",
            "zerolinecolor": "white"
           }
          },
          "shapedefaults": {
           "line": {
            "color": "#2a3f5f"
           }
          },
          "ternary": {
           "aaxis": {
            "gridcolor": "white",
            "linecolor": "white",
            "ticks": ""
           },
           "baxis": {
            "gridcolor": "white",
            "linecolor": "white",
            "ticks": ""
           },
           "bgcolor": "#E5ECF6",
           "caxis": {
            "gridcolor": "white",
            "linecolor": "white",
            "ticks": ""
           }
          },
          "title": {
           "x": 0.05
          },
          "xaxis": {
           "automargin": true,
           "gridcolor": "white",
           "linecolor": "white",
           "ticks": "",
           "title": {
            "standoff": 15
           },
           "zerolinecolor": "white",
           "zerolinewidth": 2
          },
          "yaxis": {
           "automargin": true,
           "gridcolor": "white",
           "linecolor": "white",
           "ticks": "",
           "title": {
            "standoff": 15
           },
           "zerolinecolor": "white",
           "zerolinewidth": 2
          }
         }
        },
        "width": 712.8000000000001,
        "xaxis": {
         "anchor": "y",
         "domain": [
          0,
          1
         ]
        },
        "xaxis2": {
         "anchor": "y2",
         "domain": [
          0,
          1
         ]
        },
        "yaxis": {
         "anchor": "x",
         "domain": [
          0.55,
          1
         ]
        },
        "yaxis2": {
         "anchor": "x2",
         "domain": [
          0,
          0.45
         ]
        }
       }
      },
      "text/html": [
       "<div>                            <div id=\"ac8f5cce-0031-49bf-9604-2b2e30e10005\" class=\"plotly-graph-div\" style=\"height:800px; width:712.8000000000001px;\"></div>            <script type=\"text/javascript\">                require([\"plotly\"], function(Plotly) {                    window.PLOTLYENV=window.PLOTLYENV || {};                                    if (document.getElementById(\"ac8f5cce-0031-49bf-9604-2b2e30e10005\")) {                    Plotly.newPlot(                        \"ac8f5cce-0031-49bf-9604-2b2e30e10005\",                        [{\"colorbar\":{\"title\":{\"side\":\"right\",\"text\":\"Probability\"},\"orientation\":\"h\",\"thickness\":15,\"y\":-0.18},\"colorscale\":[[0.0,\"rgb(247,251,255)\"],[0.125,\"rgb(222,235,247)\"],[0.25,\"rgb(198,219,239)\"],[0.375,\"rgb(158,202,225)\"],[0.5,\"rgb(107,174,214)\"],[0.625,\"rgb(66,146,198)\"],[0.75,\"rgb(33,113,181)\"],[0.875,\"rgb(8,81,156)\"],[1.0,\"rgb(8,48,107)\"]],\"customdata\":[[[[\"\\\"\",\"22.445997\"],[\"I\",\"2.785162\"],[\"'\",\"2.4117548\"],[\"A\",\"1.7171297\"],[\"G\",\"1.3617467\"],[\"math\",\"1.1913668\"],[\"...\",\"1.1705575\"],[\"wid\",\"1.1677902\"],[\"\",\"1.0472196\"],[\"L\",\"0.9511938\"]],[[\"\\\"\",\"51.76828\"],[\"I\",\"4.633595\"],[\"'\",\"3.550455\"],[\"A\",\"1.9229552\"],[\"G\",\"1.0104343\"],[\"\",\"0.792086\"],[\"T\",\"0.7518555\"],[\"L\",\"0.72575283\"],[\"...\",\"0.6318922\"],[\"He\",\"0.62198174\"]],[[\"\\\"\",\"50.34482\"],[\"I\",\"5.8292027\"],[\"'\",\"3.499739\"],[\"A\",\"1.9184961\"],[\"He\",\"1.1887485\"],[\"G\",\"1.1565616\"],[\"T\",\"1.0897548\"],[\"L\",\"0.9024964\"],[\"\",\"0.89933544\"],[\"wid\",\"0.78770304\"]],[[\"\\\"\",\"52.387737\"],[\"I\",\"5.8478394\"],[\"'\",\"3.396336\"],[\"A\",\"2.136169\"],[\"G\",\"1.1721137\"],[\"He\",\"1.0718963\"],[\"T\",\"0.99250656\"],[\"L\",\"0.8614555\"],[\"\",\"0.7547769\"],[\"wid\",\"0.6148841\"]],[[\"\\\"\",\"21.07135\"],[\"I\",\"3.0289593\"],[\"'\",\"2.2870631\"],[\"\",\"1.6898794\"],[\"A\",\"1.4046248\"],[\"G\",\"1.2204965\"],[\"\\u0123\",\"1.1081401\"],[\"math\",\"0.83343583\"],[\"He\",\"0.8170359\"],[\"...\",\"0.7594898\"]],[[\"\\\"\",\"22.549278\"],[\"I\",\"2.800369\"],[\"'\",\"2.141839\"],[\"\\u0123\",\"1.2168257\"],[\"A\",\"1.1799606\"],[\"G\",\"0.9919127\"],[\"math\",\"0.97732365\"],[\"wid\",\"0.9172757\"],[\"\",\"0.86366713\"],[\"...\",\"0.8064801\"]],[[\"\\\"\",\"48.264114\"],[\"I\",\"6.27325\"],[\"'\",\"3.3630557\"],[\"A\",\"2.3315966\"],[\"G\",\"1.3973359\"],[\"T\",\"1.218549\"],[\"He\",\"1.1794521\"],[\"L\",\"0.93385565\"],[\"math\",\"0.7011881\"],[\"H\",\"0.62220246\"]],[[\"\\\"\",\"40.720036\"],[\"I\",\"5.1421785\"],[\"'\",\"3.069446\"],[\"A\",\"2.3079638\"],[\"He\",\"1.3551927\"],[\"G\",\"1.3122406\"],[\"T\",\"1.1667237\"],[\"L\",\"0.9805385\"],[\"\",\"0.8412159\"],[\"H\",\"0.7835448\"]]],[[[\"\\u00e2\\u0122\\u00a6.\\\"\",\"9.004656\"],[\"!?\\\"\",\"5.9146347\"],[\"\\\\\\\\\\\\\\\\\",\"4.8011203\"],[\"!!\\\"\",\"4.187297\"],[\"][\",\"1.8391016\"],[\"\\u0126\\u00a2\",\"1.6040722\"],[\"\\u0124\\u0130\",\"1.4140413\"],[\"\\u00e2\\u0122\\u00a6\\\"\",\"1.310333\"],[\"<+\",\"1.1375204\"],[\"{:\",\"1.0127153\"]],[[\"\\u00e2\\u0122\\u00a6.\\\"\",\"12.453695\"],[\"!?\\\"\",\"8.1816225\"],[\"!!\\\"\",\"4.9371095\"],[\"\\\\\\\\\\\\\\\\\",\"3.6184127\"],[\"!\\\",\",\"1.3025279\"],[\"][\",\"1.280826\"],[\"\\u0126\\u00a2\",\"1.0186968\"],[\"\\u00e2\\u0122\\u00a6\\\"\",\"1.0112797\"],[\"\\u0143\\u00b7\",\"0.5947658\"],[\"\\u0124\\u0130\",\"0.52950567\"]],[[\"\\u00e2\\u0122\\u00a6.\\\"\",\"7.5486155\"],[\"!?\\\"\",\"7.2519345\"],[\"!!\\\"\",\"4.274696\"],[\"\\\\\\\\\\\\\\\\\",\"3.4655478\"],[\"\\u0126\\u00a2\",\"1.9382935\"],[\"\\u0124\\u0130\",\"1.3567684\"],[\"\\u0143\\u00b7\",\"0.95838356\"],[\"!\\\",\",\"0.8564868\"],[\"\\u0123\\u00ab\",\"0.6496065\"],[\"][\",\"0.57416266\"]],[[\"\\u00e2\\u0122\\u00a6.\\\"\",\"17.388409\"],[\"!?\\\"\",\"8.861308\"],[\"!!\\\"\",\"4.6965523\"],[\"\\\\\\\\\\\\\\\\\",\"1.613641\"],[\"\\u0126\\u00a2\",\"1.1574769\"],[\"\\u00e2\\u0122\\u00a6\\\"\",\"1.1047128\"],[\"!\\\",\",\"0.8772804\"],[\"{:\",\"0.7937322\"],[\"\\u0124\\u0130\",\"0.680188\"],[\"<+\",\"0.6366639\"]],[[\"\\u00e2\\u0122\\u00a6.\\\"\",\"9.901095\"],[\"!?\\\"\",\"6.36647\"],[\"\\\\\\\\\\\\\\\\\",\"4.9265046\"],[\"!!\\\"\",\"3.7141113\"],[\"\\u0126\\u00a2\",\"2.1021004\"],[\"\\u0124\\u0130\",\"1.1074935\"],[\"!\\\",\",\"1.0370184\"],[\"\\u0143\\u00b7\",\"0.9797659\"],[\"][\",\"0.73501897\"],[\"!:\",\"0.70038176\"]],[[\"\\u00e2\\u0122\\u00a6.\\\"\",\"11.1455965\"],[\"!?\\\"\",\"6.6926413\"],[\"\\\\\\\\\\\\\\\\\",\"4.3194304\"],[\"!!\\\"\",\"4.0251985\"],[\"\\u0126\\u00a2\",\"1.9818759\"],[\"!\\\",\",\"1.1990162\"],[\"\\u0124\\u0130\",\"1.1871828\"],[\"!:\",\"0.9498808\"],[\"\\u0143\\u00b7\",\"0.84523225\"],[\"][\",\"0.787056\"]],[[\"\\u00e2\\u0122\\u00a6.\\\"\",\"9.725944\"],[\"!?\\\"\",\"5.7869225\"],[\"!!\\\"\",\"5.118763\"],[\"\\\\\\\\\\\\\\\\\",\"2.5343413\"],[\"\\u0126\\u00a2\",\"1.0873728\"],[\"!\\\",\",\"1.0743828\"],[\"\\u00e2\\u0122\\u00a6\\\"\",\"0.88643336\"],[\"!:\",\"0.7058537\"],[\"][\",\"0.65207535\"],[\"\\u0143\\u00b7\",\"0.5416587\"]],[[\"\\u00e2\\u0122\\u00a6.\\\"\",\"7.3490353\"],[\"\\\\\\\\\\\\\\\\\",\"4.332595\"],[\"!?\\\"\",\"3.817568\"],[\"!!\\\"\",\"2.3355393\"],[\"\\u0126\\u00a2\",\"1.619423\"],[\"\\u0124\\u0130\",\"1.004737\"],[\"\\u0143\\u00b7\",\"0.84100497\"],[\"!:\",\"0.8369875\"],[\"\\u012a\\u00e8\",\"0.80311567\"],[\"!\\\",\",\"0.75869673\"]]],[[[\"\\u00e2\\u0122\\u00a6.\\\"\",\"17.241558\"],[\"\\\\\\\\\\\\\\\\\",\"3.0732296\"],[\"!!\\\"\",\"3.0486417\"],[\"<+\",\"2.4940324\"],[\"\\u00e2\\u0122\\u00a6\\\"\",\"1.878155\"],[\"][\",\"1.8245972\"],[\"!?\\\"\",\"1.5597695\"],[\"!:\",\"1.5072558\"],[\"{:\",\"1.1923966\"],[\"..............\",\"1.0525522\"]],[[\"\\u00e2\\u0122\\u00a6.\\\"\",\"26.598322\"],[\"!!\\\"\",\"2.6893396\"],[\"\\\\\\\\\\\\\\\\\",\"2.5708313\"],[\"][\",\"2.0834565\"],[\"!?\\\"\",\"1.7611256\"],[\"\\u00e2\\u0122\\u00a6\\\"\",\"1.7038124\"],[\"<+\",\"1.1272322\"],[\"!\\\",\",\"0.79491746\"],[\"!:\",\"0.7461909\"],[\"\\\"!\",\"0.574617\"]],[[\"\\u00e2\\u0122\\u00a6.\\\"\",\"16.015404\"],[\"!?\\\"\",\"3.773373\"],[\"!!\\\"\",\"3.5076897\"],[\"\\\\\\\\\\\\\\\\\",\"2.9020827\"],[\"<+\",\"1.4173895\"],[\"!:\",\"1.0052772\"],[\"\\\"!\",\"0.9072236\"],[\"\\u0143\\u00b7\",\"0.80777097\"],[\"][\",\"0.73285997\"],[\"\\u00e2\\u0122\\u00a6\\\"\",\"0.72976166\"]],[[\"\\u00e2\\u0122\\u00a6.\\\"\",\"28.81938\"],[\"!?\\\"\",\"4.067783\"],[\"!!\\\"\",\"3.6017187\"],[\"\\\\\\\\\\\\\\\\\",\"1.6668906\"],[\"<+\",\"1.4417313\"],[\"!:\",\"1.1173986\"],[\"\\u00e2\\u0122\\u00a6\\\"\",\"0.96088153\"],[\"\\\"!\",\"0.9360259\"],[\"][\",\"0.7911941\"],[\"!\\\",\",\"0.6245325\"]],[[\"\\u00e2\\u0122\\u00a6.\\\"\",\"23.447838\"],[\"!!\\\"\",\"3.844358\"],[\"\\\\\\\\\\\\\\\\\",\"3.7815115\"],[\"!?\\\"\",\"2.6949744\"],[\"<+\",\"1.3901219\"],[\"!:\",\"1.2986209\"],[\"\\u00e2\\u0122\\u00a6\\\"\",\"1.150189\"],[\"][\",\"0.9264121\"],[\"!\\\",\",\"0.88104254\"],[\"\\u0143\\u00b7\",\"0.85552967\"]],[[\"\\u00e2\\u0122\\u00a6.\\\"\",\"23.756739\"],[\"\\\\\\\\\\\\\\\\\",\"4.6355133\"],[\"!!\\\"\",\"3.6813307\"],[\"!?\\\"\",\"2.4730546\"],[\"<+\",\"1.3812711\"],[\"!:\",\"1.3734319\"],[\"\\u0124\\u0130\",\"1.2611791\"],[\"\\u0143\\u00b7\",\"1.2279733\"],[\"][\",\"0.96826124\"],[\"!\\\",\",\"0.94947547\"]],[[\"\\u00e2\\u0122\\u00a6.\\\"\",\"14.1174\"],[\"!!\\\"\",\"3.9518502\"],[\"\\\\\\\\\\\\\\\\\",\"2.5591393\"],[\"!?\\\"\",\"2.3997676\"],[\"][\",\"1.1203811\"],[\"!:\",\"0.9835031\"],[\"\\u00e2\\u0122\\u00a6\\\"\",\"0.87745655\"],[\"!\\\",\",\"0.86831266\"],[\"<+\",\"0.8339029\"],[\"'/\",\"0.6820308\"]],[[\"\\u00e2\\u0122\\u00a6.\\\"\",\"12.819857\"],[\"\\\\\\\\\\\\\\\\\",\"5.1965623\"],[\"!!\\\"\",\"1.647287\"],[\"<+\",\"1.3901112\"],[\"!?\\\"\",\"1.1478031\"],[\"\\u0126\\u00a2\",\"0.98568386\"],[\"'/\",\"0.98542535\"],[\"\\u0124\\u0130\",\"0.9561209\"],[\"\\u0143\\u00b7\",\"0.8072226\"],[\"\\u012a\\u00e8\",\"0.7708429\"]]],[[[\"\\u00e2\\u0122\\u00a6.\\\"\",\"10.10724\"],[\"{:\",\"3.719838\"],[\"!!\\\"\",\"3.3070261\"],[\"<+\",\"3.2191043\"],[\"!:\",\"2.8458726\"],[\"\\u00e2\\u0122\\u00a6\\\"\",\"1.2179159\"],[\"][\",\"0.98917323\"],[\"..............\",\"0.9422438\"],[\".--\",\"0.87707293\"],[\"!?\\\"\",\"0.7768676\"]],[[\"\\u00e2\\u0122\\u00a6.\\\"\",\"21.67821\"],[\"<+\",\"1.6921606\"],[\"!!\\\"\",\"1.4691458\"],[\"\\\\\\\\\\\\\\\\\",\"1.4093131\"],[\"!:\",\"1.2250328\"],[\"\\u00e2\\u0122\\u00a6\\\"\",\"1.1300317\"],[\"][\",\"1.0341125\"],[\".--\",\"0.65109134\"],[\"!?\\\"\",\"0.6504924\"],[\"(_\",\"0.6504648\"]],[[\"\\u00e2\\u0122\\u00a6.\\\"\",\"11.491886\"],[\"<+\",\"3.7450428\"],[\"\\\\\\\\\\\\\\\\\",\"1.8612081\"],[\"!!\\\"\",\"1.8102334\"],[\"!:\",\"1.3928105\"],[\"!?\\\"\",\"0.95342153\"],[\"(_\",\"0.794576\"],[\":{\",\"0.6016917\"],[\"\\\"!\",\"0.5720663\"],[\"][\",\"0.4901255\"]],[[\"\\u00e2\\u0122\\u00a6.\\\"\",\"29.781372\"],[\"<+\",\"2.732315\"],[\"!:\",\"2.4236076\"],[\"!!\\\"\",\"1.6535127\"],[\"!?\\\"\",\"1.2327278\"],[\"\\\\\\\\\\\\\\\\\",\"0.78004354\"],[\"\\u00e2\\u0122\\u00a6\\\"\",\"0.723043\"],[\"\\\"!\",\"0.7184645\"],[\"{:\",\"0.56922364\"],[\"(_\",\"0.56216156\"]],[[\"\\u00e2\\u0122\\u00a6.\\\"\",\"26.651594\"],[\"<+\",\"3.12799\"],[\"!!\\\"\",\"1.9629916\"],[\"!:\",\"1.5321966\"],[\"!?\\\"\",\"1.3002778\"],[\"\\\\\\\\\\\\\\\\\",\"1.1072727\"],[\"\\u00e2\\u0122\\u00a6\\\"\",\"1.0615373\"],[\"\\u0143\\u00b7\",\"0.8824194\"],[\"\\u00b6\\u00e6\",\"0.7251202\"],[\"\\\"!\",\"0.63195133\"]],[[\"\\u00e2\\u0122\\u00a6.\\\"\",\"19.118618\"],[\"<+\",\"2.8429308\"],[\"!!\\\"\",\"2.4864337\"],[\"!:\",\"2.4301205\"],[\"\\u0143\\u00b7\",\"2.219636\"],[\"\\\\\\\\\\\\\\\\\",\"1.6183168\"],[\"\\u012a\\u00e8\",\"1.0416666\"],[\"\\\"!\",\"0.99676603\"],[\"!?\\\"\",\"0.961266\"],[\"\\u00b6\\u00e6\",\"0.94829816\"]],[[\"\\u00e2\\u0122\\u00a6.\\\"\",\"11.236795\"],[\"!!\\\"\",\"3.0387764\"],[\"!:\",\"2.2861423\"],[\"\\\\\\\\\\\\\\\\\",\"1.7834511\"],[\"<+\",\"1.607029\"],[\"!?\\\"\",\"1.2452894\"],[\"\\\"!\",\"0.8254308\"],[\"'/\",\"0.6959501\"],[\"\\u0126\\u00a2\",\"0.68678963\"],[\"!\\\",\",\"0.6803629\"]],[[\"\\u00e2\\u0122\\u00a6.\\\"\",\"15.421671\"],[\"\\\\\\\\\\\\\\\\\",\"4.5513945\"],[\"<+\",\"1.9648392\"],[\"!:\",\"1.1020275\"],[\"!!\\\"\",\"0.99959755\"],[\"{:\",\"0.8587405\"],[\"\\u012a\\u00e8\",\"0.78971505\"],[\"'/\",\"0.74316096\"],[\"\\u0126\\u00a2\",\"0.6508439\"],[\"\\\"!\",\"0.6501584\"]]],[[[\"\\u00e2\\u0122\\u00a6.\\\"\",\"16.263565\"],[\"!:\",\"2.6456583\"],[\"<+\",\"2.3809686\"],[\"!!\\\"\",\"1.9372798\"],[\"\\u00e2\\u0122\\u00a6\\\"\",\"1.4046489\"],[\"{:\",\"1.0879921\"],[\"!?\\\"\",\"0.98642343\"],[\"\\\\\\\\\\\\\\\\\",\"0.87932086\"],[\"\\u0143\\u00b7\",\"0.5181061\"],[\"..............\",\"0.46179244\"]],[[\"\\u00e2\\u0122\\u00a6.\\\"\",\"30.199358\"],[\"\\u00e2\\u0122\\u00a6\\\"\",\"1.8295789\"],[\"!!\\\"\",\"1.371687\"],[\"!?\\\"\",\"0.85995674\"],[\"][\",\"0.8062017\"],[\"\\\\\\\\\\\\\\\\\",\"0.79217184\"],[\"!:\",\"0.59873134\"],[\"(_\",\"0.5421388\"],[\"\\u012a\\u00e8\",\"0.4778084\"],[\"<+\",\"0.41241446\"]],[[\"\\u00e2\\u0122\\u00a6.\\\"\",\"13.382882\"],[\"<+\",\"2.58995\"],[\"\\\\\\\\\\\\\\\\\",\"1.8392543\"],[\"!!\\\"\",\"1.1485641\"],[\"!:\",\"0.8615562\"],[\"!?\\\"\",\"0.72830755\"],[\"\\u00e2\\u0122\\u00a6\\\"\",\"0.58785504\"],[\"(_\",\"0.4678755\"],[\"iod\",\"0.40514734\"],[\"\\\"!\",\"0.38103107\"]],[[\"\\u00e2\\u0122\\u00a6.\\\"\",\"29.476336\"],[\"!:\",\"1.4174834\"],[\"<+\",\"1.4091948\"],[\"!!\\\"\",\"0.7650474\"],[\"\\u00e2\\u0122\\u00a6\\\"\",\"0.5602627\"],[\"(_\",\"0.5481654\"],[\"!?\\\"\",\"0.53250283\"],[\"{:\",\"0.41499949\"],[\"iod\",\"0.41273177\"],[\"\\\"!\",\"0.3792444\"]],[[\"\\u00e2\\u0122\\u00a6.\\\"\",\"28.515434\"],[\"<+\",\"2.844965\"],[\"!!\\\"\",\"1.2822717\"],[\"!:\",\"1.2352762\"],[\"\\u00e2\\u0122\\u00a6\\\"\",\"1.2248399\"],[\"\\\\\\\\\\\\\\\\\",\"1.0304502\"],[\"!?\\\"\",\"0.84057033\"],[\"\\u0143\\u00b7\",\"0.5980083\"],[\"][\",\"0.53717756\"],[\"\\\"!\",\"0.5198981\"]],[[\"\\u00e2\\u0122\\u00a6.\\\"\",\"23.523424\"],[\"<+\",\"2.7440834\"],[\"!:\",\"2.6470778\"],[\"!!\\\"\",\"1.9310958\"],[\"\\\\\\\\\\\\\\\\\",\"1.1577523\"],[\"\\u0143\\u00b7\",\"1.0924065\"],[\"\\u00e2\\u0122\\u00a6\\\"\",\"0.9508877\"],[\"\\\"!\",\"0.91879034\"],[\"!?\\\"\",\"0.77403075\"],[\"\\u00b6\\u00e6\",\"0.7228707\"]],[[\"\\u00e2\\u0122\\u00a6.\\\"\",\"12.866372\"],[\"<+\",\"2.0882976\"],[\"!!\\\"\",\"1.917608\"],[\"!:\",\"1.4640715\"],[\"!?\\\"\",\"0.89929646\"],[\"\\\\\\\\\\\\\\\\\",\"0.7766365\"],[\"\\u00e2\\u0122\\u00a6\\\"\",\"0.77113706\"],[\"..............\",\"0.7660278\"],[\"][\",\"0.7521305\"],[\"\\\"!\",\"0.5577278\"]],[[\"\\u00e2\\u0122\\u00a6.\\\"\",\"19.51283\"],[\"<+\",\"3.021229\"],[\"\\\\\\\\\\\\\\\\\",\"1.3465122\"],[\"!!\\\"\",\"1.1706156\"],[\"!?\\\"\",\"0.9181168\"],[\"\\u00e2\\u0122\\u00a6\\\"\",\"0.89295644\"],[\"!:\",\"0.52688533\"],[\"iod\",\"0.5178389\"],[\".--\",\"0.47124457\"],[\"{:\",\"0.43936408\"]]],[[[\"\\u00e2\\u0122\\u00a6.\\\"\",\"6.3796372\"],[\"<+\",\"1.6957469\"],[\"!:\",\"1.3637117\"],[\"!!\\\"\",\"1.0872582\"],[\"\\\\\\\\\\\\\\\\\",\"0.857508\"],[\"\\u013b\\u00bd\",\"0.8127345\"],[\"{:\",\"0.80633557\"],[\"\\u00b6\\u00e6\",\"0.67657155\"],[\".>>\",\"0.5757289\"],[\"(_\",\"0.5116363\"]],[[\"\\u00e2\\u0122\\u00a6.\\\"\",\"10.668965\"],[\"(_\",\"0.8731592\"],[\"][\",\"0.785147\"],[\"syrup\",\"0.59027153\"],[\"\\u012a\\u00e8\",\"0.5812552\"],[\"<+\",\"0.57448715\"],[\"!!\\\"\",\"0.5359088\"],[\"\\\\\\\\\\\\\\\\\",\"0.50367147\"],[\"\\u00b6\\u00e6\",\"0.44661346\"],[\"!:\",\"0.41375798\"]],[[\"\\u00e2\\u0122\\u00a6.\\\"\",\"7.1258416\"],[\"<+\",\"2.160022\"],[\".>>\",\"1.0036602\"],[\"!!\\\"\",\"0.495443\"],[\"\\\\\\\\\\\\\\\\\",\"0.41474664\"],[\"\\u00e2\\u0129\",\"0.39113346\"],[\"(_\",\"0.38671488\"],[\"---------\",\"0.3729062\"],[\"iod\",\"0.36251843\"],[\"fluoride\",\"0.3172624\"]],[[\"\\u00e2\\u0122\\u00a6.\\\"\",\"18.897814\"],[\"<+\",\"0.9621364\"],[\"\\u00e2\\u0129\",\"0.51175267\"],[\"(_\",\"0.49195415\"],[\"iod\",\"0.4417783\"],[\".>>\",\"0.43157214\"],[\"\\u013b\",\"0.39064196\"],[\"!:\",\"0.3492805\"],[\"challeng\",\"0.32693344\"],[\"pestic\",\"0.267872\"]],[[\"\\u00e2\\u0122\\u00a6.\\\"\",\"15.540096\"],[\"<+\",\"1.8685585\"],[\"\\u013b\",\"0.7611198\"],[\"\\u00b6\\u00e6\",\"0.7436253\"],[\"{*\",\"0.712821\"],[\"\\\\\\\\\\\\\\\\\",\"0.62635297\"],[\"---------\",\"0.57043225\"],[\"!!\\\"\",\"0.5584724\"],[\"\\u0143\\u00b7\",\"0.5563015\"],[\"\\u0126\\u00a2\",\"0.5256449\"]],[[\"\\u00e2\\u0122\\u00a6.\\\"\",\"14.853682\"],[\"\\u0126\\u00a2\",\"2.1565368\"],[\"\\u00b6\\u00e6\",\"1.9380467\"],[\"<+\",\"1.7517378\"],[\"\\u0143\\u00b7\",\"1.4151015\"],[\"\\u013b\",\"1.1002061\"],[\"\\u012a\\u00e8\",\"1.0602301\"],[\"\\\\\\\\\\\\\\\\\",\"1.0102719\"],[\"!!\\\"\",\"0.9568183\"],[\"\\u013b\\u00bd\",\"0.76887673\"]],[[\"\\u00e2\\u0122\\u00a6.\\\"\",\"8.722736\"],[\"<+\",\"1.0573467\"],[\"\\u0126\\u00a2\",\"0.98162574\"],[\"..............\",\"0.8606816\"],[\"!!\\\"\",\"0.6439218\"],[\"\\u013c\\u00e9\",\"0.5699752\"],[\"\\u00b6\\u00e6\",\"0.501642\"],[\"\\u0143\\u00b7\",\"0.45389518\"],[\"][\",\"0.41598034\"],[\"'/\",\"0.3992151\"]],[[\"\\u00e2\\u0122\\u00a6.\\\"\",\"12.153294\"],[\"<+\",\"2.8448904\"],[\"\\\\\\\\\\\\\\\\\",\"1.398281\"],[\"\\u00e2\\u0122\\u00a6\\\"\",\"0.8916341\"],[\".>>\",\"0.8808782\"],[\"iod\",\"0.710852\"],[\"{:\",\"0.5992317\"],[\"..............\",\"0.51409996\"],[\"\\u00c2\\u00ae,\",\"0.48035854\"],[\"!?\\\"\",\"0.45007014\"]]],[[[\"\\u00e2\\u0122\\u00a6.\\\"\",\"2.373287\"],[\"!:\",\"0.74032897\"],[\"\\u00b6\\u00e6\",\"0.6528936\"],[\"!!\\\"\",\"0.5887227\"],[\"\\u013f\",\"0.4786042\"],[\"\\\\(\\\\\",\"0.46854037\"],[\".>>\",\"0.43821624\"],[\"\\u013b\",\"0.4174663\"],[\"rpm\",\"0.39642298\"],[\"\\u012a\\u00e8\",\"0.38008204\"]],[[\"\\u00e2\\u0122\\u00a6.\\\"\",\"5.912813\"],[\"syrup\",\"0.7665708\"],[\"model\",\"0.5375337\"],[\"!!\\\"\",\"0.4433209\"],[\"\\u012a\\u00e8\",\"0.40144855\"],[\"\\u00ce\",\"0.38154197\"],[\"iod\",\"0.37479225\"],[\"\\u00b6\\u00e6\",\"0.32992208\"],[\"\\u013f\",\"0.30022794\"],[\"psi\",\"0.2830878\"]],[[\"\\u00e2\\u0122\\u00a6.\\\"\",\"1.8321418\"],[\"that\",\"0.43337446\"],[\"based\",\"0.43318313\"],[\"iod\",\"0.39962134\"],[\",\",\"0.33982134\"],[\"(<\",\"0.2945071\"],[\"to\",\"0.28043285\"],[\"oxide\",\"0.26049364\"],[\".>>\",\"0.25019592\"],[\"ppm\",\"0.22732669\"]],[[\"\\u00e2\\u0122\\u00a6.\\\"\",\"3.8022685\"],[\"based\",\"0.5905123\"],[\",\",\"0.42690653\"],[\"(<\",\"0.39490968\"],[\"\\u013b\",\"0.38798952\"],[\"iod\",\"0.38020727\"],[\"that\",\"0.37563083\"],[\"to\",\"0.32630315\"],[\"((\",\"0.31488743\"],[\"consisting\",\"0.30945334\"]],[[\"\\u00e2\\u0122\\u00a6.\\\"\",\"8.661414\"],[\"\\u00b6\\u00e6\",\"0.73501647\"],[\"\\u013b\",\"0.611107\"],[\"{*\",\"0.45056766\"],[\"``(\",\"0.45013392\"],[\"resil\",\"0.3900437\"],[\"iod\",\"0.37042066\"],[\"\\u012a\\u00e8\",\"0.30202553\"],[\"!!\\\"\",\"0.26220495\"],[\"challeng\",\"0.2533815\"]],[[\"\\u00e2\\u0122\\u00a6.\\\"\",\"14.764121\"],[\"\\u00b6\\u00e6\",\"1.6783493\"],[\"\\u013b\",\"1.0326539\"],[\"{*\",\"0.78386354\"],[\"!!\\\"\",\"0.689455\"],[\"\\u012a\\u00e8\",\"0.53790265\"],[\"\\u0126\\u00a2\",\"0.5178705\"],[\"!:\",\"0.48833504\"],[\"\\u0131\",\"0.44972217\"],[\"!?\\\"\",\"0.38726664\"]],[[\"\\u00e2\\u0122\\u00a6.\\\"\",\"6.601619\"],[\"..............\",\"1.2000234\"],[\"!!\\\"\",\"0.90149075\"],[\".>>\",\"0.6027594\"],[\"\\u00b6\\u00e6\",\"0.50941545\"],[\"<+\",\"0.50641245\"],[\"\\u0126\\u00a2\",\"0.43999702\"],[\"hooting\",\"0.34471416\"],[\"\\u013c\\u00e9\",\"0.31418028\"],[\"iod\",\"0.2860543\"]],[[\"\\u00e2\\u0122\\u00a6.\\\"\",\"6.520772\"],[\"\\u00c2\\u00ae,\",\"1.3813924\"],[\".>>\",\"0.8784102\"],[\"iod\",\"0.6688809\"],[\"<+\",\"0.46313187\"],[\",\",\"0.4518879\"],[\"melts\",\"0.36832193\"],[\"cooker\",\"0.30957288\"],[\"{:\",\"0.2951815\"],[\"\\u013b\",\"0.29179484\"]]],[[[\"model\",\"4.3451624\"],[\"method\",\"0.8220846\"],[\"approach\",\"0.47530898\"],[\"class\",\"0.44597122\"],[\"models\",\"0.388474\"],[\"type\",\"0.38639086\"],[\"\\\\(\\\\\",\"0.35096774\"],[\",\",\"0.32341358\"],[\"\\u00b6\\u00e6\",\"0.28986\"],[\"\\u0126\",\"0.2723488\"]],[[\"model\",\"4.091124\"],[\"and\",\"0.7957734\"],[\"yet\",\"0.66923183\"],[\"method\",\"0.47024098\"],[\"models\",\"0.46142793\"],[\",\",\"0.44056284\"],[\"\\u00e2\\u0122\\u00a6.\\\"\",\"0.36822763\"],[\"\\u00ce\",\"0.33938736\"],[\"but\",\"0.3179427\"],[\"\\u0126\",\"0.27992636\"]],[[\"that\",\"3.2460532\"],[\"called\",\"1.2826082\"],[\"based\",\"1.2023574\"],[\"structure\",\"1.1741755\"],[\",\",\"1.0306695\"],[\"to\",\"0.7995362\"],[\"model\",\"0.6423321\"],[\"with\",\"0.6341382\"],[\"architecture\",\"0.6269494\"],[\"top\",\"0.51580185\"]],[[\"that\",\"5.0870056\"],[\"based\",\"3.3293016\"],[\"called\",\"2.1648197\"],[\",\",\"1.5978688\"],[\"for\",\"1.3470529\"],[\"and\",\"1.1506478\"],[\"to\",\"1.1084661\"],[\"with\",\"1.0775837\"],[\"consisting\",\"0.68831414\"],[\"(\",\"0.6785802\"]],[[\"called\",\"1.4049658\"],[\"the\",\"0.7304172\"],[\"based\",\"0.72976893\"],[\"which\",\"0.5485652\"],[\"\\u00e2\\u0122\\u00a6.\\\"\",\"0.48475224\"],[\"termed\",\"0.45236653\"],[\"{*\",\"0.3826417\"],[\"consisting\",\"0.37006846\"],[\"a\",\"0.33195588\"],[\"namely\",\"0.31312886\"]],[[\"\\u00e2\\u0122\\u00a6.\\\"\",\"2.0431597\"],[\"\\u013b\",\"1.1477735\"],[\"{*\",\"0.9309183\"],[\"\\u00b6\\u00e6\",\"0.72993046\"],[\"\\u012a\\u00e8\",\"0.5269856\"],[\"confir\",\"0.36965647\"],[\"``(\",\"0.36376828\"],[\"\\u00ae\",\"0.30129611\"],[\"\\u00ce\",\"0.28969187\"],[\"({\",\"0.27895913\"]],[[\"\\u00e2\\u0122\\u00a6.\\\"\",\"1.3810637\"],[\"..............\",\"0.856101\"],[\"\\u0122\",\"0.6755796\"],[\"\\u013c\\u00e9\",\"0.58750755\"],[\"\\u00b6\\u00e6\",\"0.47036344\"],[\"-\",\"0.4519349\"],[\"\\u0126\\u00a2\",\"0.34645167\"],[\"\\u00e2\\u0122\\u0135\",\"0.33477983\"],[\"dri\",\"0.33461463\"],[\"\\u012a\\u00e8\",\"0.28418696\"]],[[\",\",\"2.9063356\"],[\"\\u00c2\\u00ae,\",\"2.051669\"],[\"(\",\"0.89065164\"],[\"\\u00e2\\u0122\\u00a6.\\\"\",\"0.70062757\"],[\"((\",\"0.55567366\"],[\".>>\",\"0.4514873\"],[\".\",\"0.44800243\"],[\"iod\",\"0.39401963\"],[\"\\u00ae\",\"0.35462898\"],[\"model\",\"0.32870606\"]]],[[[\"model\",\"15.344323\"],[\"approach\",\"2.157164\"],[\"method\",\"1.7578218\"],[\"type\",\"1.1698204\"],[\"sequence\",\"0.9855668\"],[\",\",\"0.89283556\"],[\"mechanism\",\"0.46533662\"],[\"class\",\"0.46423492\"],[\"models\",\"0.43451503\"],[\"and\",\"0.4125297\"]],[[\"model\",\"19.075663\"],[\"yet\",\"5.620461\"],[\"and\",\"2.178424\"],[\"but\",\"1.8589242\"],[\",\",\"1.0923904\"],[\"method\",\"0.9672811\"],[\"mechanism\",\"0.6510687\"],[\"sequence\",\"0.6431543\"],[\"models\",\"0.6290768\"],[\"approach\",\"0.6058843\"]],[[\"called\",\"13.174115\"],[\"that\",\"9.385957\"],[\"structure\",\"4.0560184\"],[\"based\",\"2.4273434\"],[\",\",\"2.3804114\"],[\"model\",\"2.3594396\"],[\"top\",\"2.3362195\"],[\"with\",\"2.3241928\"],[\"architecture\",\"1.8824372\"],[\"to\",\"1.4454415\"]],[[\"called\",\"17.787838\"],[\"that\",\"11.671146\"],[\"based\",\"9.373446\"],[\"for\",\"3.8745005\"],[\",\",\"3.3926253\"],[\"with\",\"3.0748677\"],[\"and\",\"2.327216\"],[\"without\",\"1.9208349\"],[\"which\",\"1.8902235\"],[\"to\",\"1.8099812\"]],[[\"called\",\"16.156849\"],[\"which\",\"2.8161259\"],[\"based\",\"2.0499103\"],[\"the\",\"1.9519681\"],[\"named\",\"1.4089502\"],[\"termed\",\"1.335366\"],[\"a\",\"0.8995503\"],[\"without\",\"0.8265234\"],[\"where\",\"0.7861593\"],[\"known\",\"0.78315854\"]],[[\"**\",\"0.9003257\"],[\"\\u013b\",\"0.686419\"],[\"*\",\"0.55679053\"],[\"{*\",\"0.43292525\"],[\"_\",\"0.37078825\"],[\"\\u012a\\u00e8\",\"0.2987318\"],[\"\\u00b6\\u00e6\",\"0.28844526\"],[\"so\",\"0.2603079\"],[\"two\",\"0.24628751\"],[\"\\u00e2\\u0122\",\"0.23993075\"]],[[\"-\",\"1.7038832\"],[\"\\u0122\",\"0.7039697\"],[\"\\u013c\\u00e9\",\"0.52474284\"],[\"\\u00b6\\u00e6\",\"0.45981357\"],[\"..............\",\"0.44259936\"],[\"\\u013d\",\"0.4345542\"],[\",\",\"0.43060067\"],[\"and\",\"0.39805654\"],[\"\\u00e2\\u0122\\u0135\",\"0.33233044\"],[\"-[\",\"0.3239016\"]],[[\",\",\"9.216406\"],[\"(\",\"2.4986901\"],[\"-\",\"0.97375166\"],[\"model\",\"0.9730879\"],[\"\\u00c2\\u00ae,\",\"0.81557083\"],[\"\\u00c2\\u0142\",\"0.7249328\"],[\"with\",\"0.64468247\"],[\"\\u013b\",\"0.60752344\"],[\".\",\"0.60515493\"],[\"of\",\"0.5617741\"]]],[[[\"model\",\"23.32987\"],[\"approach\",\"3.0005908\"],[\"sequence\",\"2.0757484\"],[\"type\",\"2.0475047\"],[\"method\",\"1.8686148\"],[\"attention\",\"1.1473932\"],[\"*\",\"0.8091155\"],[\"models\",\"0.76838017\"],[\",\",\"0.75223094\"],[\"general\",\"0.6308942\"]],[[\"model\",\"18.818918\"],[\"yet\",\"15.808448\"],[\"and\",\"4.9309697\"],[\"but\",\"3.6975644\"],[\"sequence\",\"1.6641197\"],[\",\",\"1.2193657\"],[\"-\",\"0.95482564\"],[\"network\",\"0.8541014\"],[\"to\",\"0.847814\"],[\"method\",\"0.8213386\"]],[[\"that\",\"44.87558\"],[\"called\",\"13.036527\"],[\"architecture\",\"5.0249686\"],[\",\",\"2.4188457\"],[\"based\",\"2.1095383\"],[\"top\",\"1.9676718\"],[\"with\",\"1.9517756\"],[\"structure\",\"1.9371095\"],[\"without\",\"1.3593438\"],[\"model\",\"1.3069888\"]],[[\"that\",\"57.75594\"],[\"called\",\"8.783447\"],[\"based\",\"6.7163014\"],[\"for\",\"4.139358\"],[\",\",\"2.5338452\"],[\"with\",\"2.4044604\"],[\"and\",\"1.4601951\"],[\"to\",\"1.3930987\"],[\"which\",\"1.1321709\"],[\"without\",\"1.0121539\"]],[[\"called\",\"32.7046\"],[\"which\",\"5.7717724\"],[\"the\",\"3.2691896\"],[\"based\",\"2.6307762\"],[\"named\",\"2.255362\"],[\"where\",\"2.2167602\"],[\"termed\",\"1.2618359\"],[\"a\",\"1.2154427\"],[\"that\",\"1.1909704\"],[\"referred\",\"1.0200709\"]],[[\"**\",\"2.6477387\"],[\"*\",\"1.7385831\"],[\"simple\",\"0.8619297\"],[\"deep\",\"0.67129904\"],[\"attention\",\"0.61381954\"],[\"\\u013b\",\"0.48637068\"],[\"\\u00e2\\u0122\",\"0.44022012\"],[\"[\",\"0.43476644\"],[\"one\",\"0.41714177\"],[\"oun\",\"0.413215\"]],[[\"-\",\"6.0950875\"],[\"\\u013c\\u00e9\",\"1.2525936\"],[\"\\u00c2\\u0142\",\"0.9053144\"],[\"\\u00e2\\u0122\\u0135\",\"0.85678005\"],[\"\\u013d\",\"0.7964525\"],[\"\\u0143\\u00b7\",\"0.7761985\"],[\"-[\",\"0.77097857\"],[\"\\u012a\\u00e8\",\"0.5679266\"],[\"..............\",\"0.550946\"],[\"\\u00b6\\u00e6\",\"0.5361286\"]],[[\",\",\"18.881735\"],[\"(\",\"4.3584456\"],[\"-\",\"3.8708801\"],[\"model\",\"2.235232\"],[\"\\u00c2\\u0142\",\"1.8207723\"],[\"that\",\"1.5585799\"],[\"network\",\"1.020189\"],[\"with\",\"0.96612686\"],[\".\",\"0.89115214\"],[\"[\",\"0.6769155\"]]],[[[\"model\",\"9.539596\"],[\"sequence\",\"7.7879205\"],[\"attention\",\"6.04268\"],[\"approach\",\"3.3483477\"],[\"method\",\"2.9583817\"],[\"type\",\"2.0287066\"],[\"deep\",\"1.6724964\"],[\"architecture\",\"1.1763757\"],[\"and\",\"1.1346947\"],[\"enc\",\"1.0724822\"]],[[\"yet\",\"10.301687\"],[\"model\",\"8.56367\"],[\"and\",\"7.949049\"],[\"sequence\",\"6.152208\"],[\"feed\",\"3.761953\"],[\"attention\",\"3.0420818\"],[\"but\",\"2.2552874\"],[\"recurrent\",\"2.159863\"],[\"network\",\"2.1209435\"],[\",\",\"1.5107348\"]],[[\"that\",\"20.69475\"],[\"architecture\",\"18.316967\"],[\"called\",\"13.332462\"],[\"with\",\"4.9502406\"],[\"model\",\"4.7468004\"],[\"based\",\"3.9990385\"],[\"structure\",\"3.990892\"],[\",\",\"2.5183716\"],[\"top\",\"1.6608981\"],[\"to\",\"1.4776376\"]],[[\"that\",\"41.791935\"],[\"called\",\"10.51883\"],[\"with\",\"6.3707314\"],[\"based\",\"6.0221953\"],[\"for\",\"5.0898542\"],[\",\",\"4.089234\"],[\"to\",\"3.3775773\"],[\"where\",\"2.1297538\"],[\"which\",\"1.5420644\"],[\"without\",\"1.4660912\"]],[[\"called\",\"33.068405\"],[\"which\",\"8.1786175\"],[\"the\",\"3.898322\"],[\"based\",\"3.893755\"],[\"termed\",\"3.6669672\"],[\"named\",\"3.6125433\"],[\"namely\",\"3.3287683\"],[\"where\",\"2.8175383\"],[\"that\",\"1.7629573\"],[\"a\",\"1.6299294\"]],[[\"attention\",\"3.857024\"],[\"**\",\"2.0470204\"],[\"*\",\"1.6638461\"],[\"simple\",\"1.2453576\"],[\"self\",\"1.0892446\"],[\"deep\",\"0.8935511\"],[\"feed\",\"0.88417745\"],[\"sequence\",\"0.67902106\"],[\"attentive\",\"0.6506063\"],[\"multi\",\"0.61303556\"]],[[\"former\",\"51.069347\"],[\"-\",\"5.7617793\"],[\"du\",\"3.5356543\"],[\"c\",\"2.004773\"],[\"itional\",\"1.2363764\"],[\"H\",\"0.9299404\"],[\"R\",\"0.73955375\"],[\"E\",\"0.650916\"],[\"M\",\"0.5713368\"],[\"C\",\"0.5679762\"]],[[\",\",\"31.458246\"],[\"-\",\"6.60254\"],[\"network\",\"5.42332\"],[\"(\",\"5.1366596\"],[\"model\",\"4.260713\"],[\"that\",\"2.7258332\"],[\"Attention\",\"1.9291447\"],[\"enc\",\"1.8922124\"],[\"attention\",\"1.8097188\"],[\"Network\",\"1.6827952\"]]],[[[\"model\",\"20.841656\"],[\"sequence\",\"12.096813\"],[\"attention\",\"7.333751\"],[\"architecture\",\"4.75067\"],[\"approach\",\"2.8021176\"],[\"method\",\"2.4655209\"],[\"recurrent\",\"1.9132601\"],[\"enc\",\"1.8998897\"],[\"framework\",\"1.7335657\"],[\",\",\"1.4560949\"]],[[\"recurrent\",\"15.31321\"],[\"model\",\"11.6870985\"],[\"and\",\"8.431721\"],[\"sequence\",\"7.7555256\"],[\"yet\",\"6.0289426\"],[\"architecture\",\"4.351607\"],[\"but\",\"3.5163276\"],[\"attention\",\"2.9610038\"],[\",\",\"2.9021463\"],[\"network\",\"2.2468114\"]],[[\"architecture\",\"59.444534\"],[\"that\",\"8.177547\"],[\"structure\",\"6.960315\"],[\"model\",\"4.869267\"],[\",\",\"2.807379\"],[\"called\",\"2.2638326\"],[\"with\",\"1.6315205\"],[\"for\",\"1.457407\"],[\"based\",\"1.3451376\"],[\"to\",\"1.1401097\"]],[[\"that\",\"40.28864\"],[\"for\",\"9.726491\"],[\",\",\"9.60816\"],[\"based\",\"6.6280036\"],[\"called\",\"4.931532\"],[\"with\",\"4.5044417\"],[\"to\",\"4.14734\"],[\"which\",\"2.4952314\"],[\"and\",\"1.6677469\"],[\"in\",\"1.6330017\"]],[[\"called\",\"15.887766\"],[\"which\",\"14.995474\"],[\"the\",\"10.067604\"],[\"based\",\"4.0150924\"],[\"namely\",\"3.249196\"],[\"where\",\"3.1416097\"],[\"that\",\"3.0862002\"],[\"named\",\"2.9941103\"],[\"a\",\"2.9636269\"],[\"termed\",\"2.4374142\"]],[[\"attention\",\"5.6289415\"],[\"Attention\",\"3.7427585\"],[\"*\",\"3.0105922\"],[\"Trans\",\"2.7040493\"],[\"sequence\",\"2.3469155\"],[\"self\",\"1.7655594\"],[\"enc\",\"1.6041349\"],[\"Rec\",\"1.2372687\"],[\"Sequence\",\"1.2265157\"],[\"recurrent\",\"1.1497504\"]],[[\"former\",\"82.704155\"],[\"du\",\"5.4247475\"],[\"E\",\"0.63036644\"],[\"-\",\"0.53978527\"],[\"cription\",\"0.4159425\"],[\"duction\",\"0.3925851\"],[\"fo\",\"0.2941461\"],[\"posed\",\"0.28725347\"],[\"c\",\"0.28545654\"],[\"duct\",\"0.2775359\"]],[[\",\",\"54.895775\"],[\"-\",\"4.847664\"],[\"network\",\"3.9648824\"],[\"model\",\"3.869748\"],[\"Network\",\"3.771073\"],[\"(\",\"2.9213114\"],[\"Attention\",\"2.8216748\"],[\"[\",\"1.8009064\"],[\"that\",\"1.3990034\"],[\"Enc\",\"1.3347296\"]]]],\"hoverlabel\":{\"bgcolor\":\"rgb(42, 42, 50)\"},\"hovertemplate\":\" %{customdata[0][0]} %{customdata[0][1]:.1f}% <br> %{customdata[1][0]} %{customdata[1][1]:.1f}% <br> %{customdata[2][0]} %{customdata[2][1]:.1f}% <br> %{customdata[3][0]} %{customdata[3][1]:.1f}% <br> %{customdata[4][0]} %{customdata[4][1]:.1f}% <br> %{customdata[5][0]} %{customdata[5][1]:.1f}% <br> %{customdata[6][0]} %{customdata[6][1]:.1f}% <br> %{customdata[7][0]} %{customdata[7][1]:.1f}% <br> %{customdata[8][0]} %{customdata[8][1]:.1f}% <br> %{customdata[9][0]} %{customdata[9][1]:.1f}% <extra></extra>\",\"text\":[[\"\\\"\",\"\\\"\",\"\\\"\",\"\\\"\",\"\\\"\",\"\\\"\",\"\\\"\",\"\\\"\"],[\"\\u00e2\\u0122\\u00a6.\\\"\",\"\\u00e2\\u0122\\u00a6.\\\"\",\"\\u00e2\\u0122\\u00a6.\\\"\",\"\\u00e2\\u0122\\u00a6.\\\"\",\"\\u00e2\\u0122\\u00a6.\\\"\",\"\\u00e2\\u0122\\u00a6.\\\"\",\"\\u00e2\\u0122\\u00a6.\\\"\",\"\\u00e2\\u0122\\u00a6.\\\"\"],[\"\\u00e2\\u0122\\u00a6.\\\"\",\"\\u00e2\\u0122\\u00a6.\\\"\",\"\\u00e2\\u0122\\u00a6.\\\"\",\"\\u00e2\\u0122\\u00a6.\\\"\",\"\\u00e2\\u0122\\u00a6.\\\"\",\"\\u00e2\\u0122\\u00a6.\\\"\",\"\\u00e2\\u0122\\u00a6.\\\"\",\"\\u00e2\\u0122\\u00a6.\\\"\"],[\"\\u00e2\\u0122\\u00a6.\\\"\",\"\\u00e2\\u0122\\u00a6.\\\"\",\"\\u00e2\\u0122\\u00a6.\\\"\",\"\\u00e2\\u0122\\u00a6.\\\"\",\"\\u00e2\\u0122\\u00a6.\\\"\",\"\\u00e2\\u0122\\u00a6.\\\"\",\"\\u00e2\\u0122\\u00a6.\\\"\",\"\\u00e2\\u0122\\u00a6.\\\"\"],[\"\\u00e2\\u0122\\u00a6.\\\"\",\"\\u00e2\\u0122\\u00a6.\\\"\",\"\\u00e2\\u0122\\u00a6.\\\"\",\"\\u00e2\\u0122\\u00a6.\\\"\",\"\\u00e2\\u0122\\u00a6.\\\"\",\"\\u00e2\\u0122\\u00a6.\\\"\",\"\\u00e2\\u0122\\u00a6.\\\"\",\"\\u00e2\\u0122\\u00a6.\\\"\"],[\"\\u00e2\\u0122\\u00a6.\\\"\",\"\\u00e2\\u0122\\u00a6.\\\"\",\"\\u00e2\\u0122\\u00a6.\\\"\",\"\\u00e2\\u0122\\u00a6.\\\"\",\"\\u00e2\\u0122\\u00a6.\\\"\",\"\\u00e2\\u0122\\u00a6.\\\"\",\"\\u00e2\\u0122\\u00a6.\\\"\",\"\\u00e2\\u0122\\u00a6.\\\"\"],[\"\\u00e2\\u0122\\u00a6.\\\"\",\"\\u00e2\\u0122\\u00a6.\\\"\",\"\\u00e2\\u0122\\u00a6.\\\"\",\"\\u00e2\\u0122\\u00a6.\\\"\",\"\\u00e2\\u0122\\u00a6.\\\"\",\"\\u00e2\\u0122\\u00a6.\\\"\",\"\\u00e2\\u0122\\u00a6.\\\"\",\"\\u00e2\\u0122\\u00a6.\\\"\"],[\"model\",\"model\",\"that\",\"that\",\"called\",\"\\u00e2\\u0122\\u00a6.\\\"\",\"\\u00e2\\u0122\\u00a6.\\\"\",\",\"],[\"model\",\"model\",\"called\",\"called\",\"called\",\"**\",\"-\",\",\"],[\"model\",\"model\",\"that\",\"that\",\"called\",\"**\",\"-\",\",\"],[\"model\",\"yet\",\"that\",\"that\",\"called\",\"attention\",\"former\",\",\"],[\"model\",\"recurrent\",\"architecture\",\"that\",\"called\",\"attention\",\"former\",\",\"]],\"texttemplate\":\"<b>%{text}</b>\",\"x\":[\"new\",\"simple\\u200c\",\"network\\u200c\\u200c\",\"architecture\\u200c\\u200c\\u200c\",\",\\u200c\\u200c\\u200c\\u200c\",\"the\\u200c\\u200c\\u200c\\u200c\\u200c\",\"Trans\\u200c\\u200c\\u200c\\u200c\\u200c\\u200c\",\"former\\u200c\\u200c\\u200c\\u200c\\u200c\\u200c\\u200c\"],\"y\":[\"input\",\"3\",\"6\",\"9\",\"12\",\"15\",\"18\",\"21\",\"24\",\"27\",\"30\",\"output\"],\"z\":[[0.22445997595787048,0.5176827907562256,0.5034481883049011,0.5238773822784424,0.21071350574493408,0.22549277544021606,0.4826411306858063,0.4072003662586212],[0.09004655480384827,0.12453695386648178,0.07548615336418152,0.1738840788602829,0.09901095181703568,0.11145596951246262,0.09725943207740784,0.07349035143852234],[0.1724155843257904,0.2659832239151001,0.1601540446281433,0.28819379210472107,0.23447838425636292,0.23756738007068634,0.14117400348186493,0.1281985640525818],[0.10107239335775375,0.2167820930480957,0.11491886526346207,0.2978137135505676,0.26651594042778015,0.19118618965148926,0.11236795037984848,0.1542167067527771],[0.1626356542110443,0.30199357867240906,0.13382881879806519,0.29476335644721985,0.2851543426513672,0.23523424565792084,0.12866371870040894,0.19512830674648285],[0.06379637122154236,0.10668965429067612,0.07125841826200485,0.1889781355857849,0.15540096163749695,0.148536816239357,0.08722736686468124,0.12153293937444687],[0.0237328689545393,0.059128131717443466,0.018321417272090912,0.038022685796022415,0.08661413937807083,0.14764121174812317,0.06601618975400925,0.06520771980285645],[0.04345162585377693,0.0409112423658371,0.0324605330824852,0.050870057195425034,0.014049657620489597,0.020431596785783768,0.013810636475682259,0.029063355177640915],[0.15344323217868805,0.19075661897659302,0.13174115121364594,0.17787837982177734,0.16156849265098572,0.009003257378935814,0.017038831487298012,0.0921640545129776],[0.23329870402812958,0.18818917870521545,0.44875580072402954,0.5775594115257263,0.3270460069179535,0.02647738717496395,0.0609508752822876,0.1888173520565033],[0.09539595991373062,0.10301687568426132,0.20694749057292938,0.4179193675518036,0.33068403601646423,0.03857024013996124,0.5106934905052185,0.3145824670791626],[0.20841655135154724,0.1531320959329605,0.5944453477859497,0.40288639068603516,0.1588776558637619,0.056289415806531906,0.8270415663719177,0.5489577651023865]],\"zmax\":1.0,\"zmin\":0,\"type\":\"heatmap\",\"xaxis\":\"x\",\"yaxis\":\"y\",\"textfont\":{\"size\":12}},{\"colorbar\":{\"title\":{\"side\":\"right\",\"text\":\"Probability\"},\"orientation\":\"h\",\"thickness\":15,\"y\":-0.18},\"colorscale\":[[0.0,\"rgb(247,251,255)\"],[0.125,\"rgb(222,235,247)\"],[0.25,\"rgb(198,219,239)\"],[0.375,\"rgb(158,202,225)\"],[0.5,\"rgb(107,174,214)\"],[0.625,\"rgb(66,146,198)\"],[0.75,\"rgb(33,113,181)\"],[0.875,\"rgb(8,81,156)\"],[1.0,\"rgb(8,48,107)\"]],\"customdata\":[[[[\"\",\"2.2000666\"],[\"-\",\"1.6526079\"],[\"\",\"1.4547513\"],[\"...\",\"1.3380904\"],[\"*\",\"1.3160117\"],[\"\\\\\",\"1.1135917\"],[\"\\\"\",\"0.97146064\"],[\")\",\"0.9088464\"],[\"1\",\"0.8071692\"],[\".\",\"0.71163505\"]],[[\"\\\"\",\"3.1632583\"],[\"\",\"2.9641144\"],[\"-\",\"2.715745\"],[\"\",\"1.7047908\"],[\",\",\"1.617239\"],[\"I\",\"1.4606581\"],[\"...\",\"1.3339775\"],[\"*\",\"1.0724956\"],[\"\\\\\",\"1.0564129\"],[\"1\",\"0.8851342\"]],[[\"\\\"\",\"3.7087348\"],[\"\",\"3.1636357\"],[\"I\",\"1.9747801\"],[\"-\",\"1.8998774\"],[\"\",\"1.7188927\"],[\",\",\"1.3574588\"],[\"\\\\\",\"0.96314436\"],[\"'\",\"0.9433452\"],[\"...\",\"0.9383824\"],[\"(\",\"0.93738335\"]],[[\"\\\"\",\"3.8950968\"],[\"\",\"2.7931137\"],[\"I\",\"1.829415\"],[\"-\",\"1.6941637\"],[\"\",\"1.6774963\"],[\",\",\"1.1688129\"],[\"'\",\"0.95517266\"],[\"(\",\"0.9240606\"],[\"\\\\\",\"0.83619124\"],[\"...\",\"0.8304051\"]],[[\"\",\"3.7205625\"],[\"-\",\"1.7347714\"],[\"\\\"\",\"1.6316185\"],[\"\",\"1.4214694\"],[\"...\",\"1.2298286\"],[\"*\",\"1.168969\"],[\"\\\\\",\"1.0300219\"],[\"1\",\"0.9772236\"],[\"I\",\"0.9732048\"],[\",\",\"0.77494\"]],[[\"-\",\"2.785486\"],[\"\",\"1.9138377\"],[\"*\",\"1.3933378\"],[\",\",\"1.3811177\"],[\"\",\"1.2320261\"],[\"\\\"\",\"1.2193041\"],[\"...\",\"1.1349968\"],[\"\\\\\",\"1.1169837\"],[\"1\",\"0.97849554\"],[\"/\",\"0.8568598\"]],[[\"\\\"\",\"3.1161249\"],[\"\",\"2.3453314\"],[\"-\",\"2.1183112\"],[\"I\",\"1.9886563\"],[\",\",\"1.5716162\"],[\"\",\"1.3171203\"],[\"\\\\\",\"1.0234594\"],[\"1\",\"0.9950949\"],[\"*\",\"0.98877287\"],[\"...\",\"0.97315097\"]],[[\"\\\"\",\"2.453313\"],[\"\",\"2.3842747\"],[\"-\",\"1.5030823\"],[\"I\",\"1.4269696\"],[\"\",\"1.306901\"],[\",\",\"0.9557508\"],[\"'\",\"0.80492496\"],[\"\\\\\",\"0.77192503\"],[\"(\",\"0.77095765\"],[\"...\",\"0.7567962\"]]],[[[\",\",\"3.014636\"],[\"$\",\"2.5552294\"],[\"to\",\"1.0614016\"],[\"have\",\"0.85720634\"],[\"\\\"\",\"0.7446096\"],[\"\",\"0.71523976\"],[\")\",\"0.6890862\"],[\"an\",\"0.64854956\"],[\".\",\"0.6122609\"],[\"data\",\"0.59542865\"]],[[\"x\",\"2.0659816\"],[\"\",\"1.2910594\"],[\"\\\"\",\"1.2527024\"],[\"$\",\"0.6731425\"],[\"_\",\"0.58073545\"],[\",\",\"0.55256456\"],[\"is\",\"0.52237463\"],[\":\",\"0.51999754\"],[\"\",\"0.50393206\"],[\"to\",\"0.47053188\"]],[[\"to\",\"6.4561234\"],[\",\",\"3.211629\"],[\".\",\"3.1509345\"],[\"for\",\"3.14142\"],[\"(\",\"2.9246955\"],[\"of\",\"2.3579984\"],[\"\",\"2.0770512\"],[\"the\",\"1.3745569\"],[\"a\",\"1.3308376\"],[\"by\",\"1.1520746\"]],[[\",\",\"5.1604834\"],[\"(\",\"3.798496\"],[\"\",\"3.3190668\"],[\"and\",\"1.6381012\"],[\"of\",\"1.5029963\"],[\"\",\"1.4807123\"],[\".\",\"1.3101817\"],[\"{\",\"1.1536578\"],[\":\",\"1.0582637\"],[\"is\",\"0.6500329\"]],[[\"and\",\"6.6666017\"],[\"the\",\"2.600482\"],[\"a\",\"2.0514514\"],[\"to\",\"1.7690609\"],[\"\",\"1.1338726\"],[\"but\",\"1.0268128\"],[\"for\",\"0.97124195\"],[\"I\",\"0.9288529\"],[\"\\\\\",\"0.85197324\"],[\"\",\"0.8482253\"]],[[\"same\",\"1.0537308\"],[\"\",\"1.0299448\"],[\"\",\"0.98730344\"],[\"most\",\"0.5876143\"],[\"new\",\"0.5659278\"],[\")\",\"0.40034726\"],[\".\",\"0.39384323\"],[\"de\",\"0.37668335\"],[\"C\",\"0.3398967\"],[\"(\",\"0.3283054\"]],[[\"_\",\"1.4845744\"],[\"\",\"1.4793812\"],[\"\",\"0.684519\"],[\".\",\"0.5765091\"],[\"de\",\"0.56513256\"],[\"*\",\"0.55741245\"],[\"s\",\"0.5093671\"],[\":\",\"0.44028983\"],[\"my\",\"0.43304065\"],[\"}\",\"0.4046747\"]],[[\"I\",\"3.3937886\"],[\"is\",\"3.2788212\"],[\"}\",\"2.410643\"],[\"m\",\"2.3512368\"],[\"1\",\"1.8841026\"],[\",\",\"1.5385911\"],[\"(\",\"1.4937046\"],[\"{\",\"1.4107788\"],[\"\",\"1.3493106\"],[\"have\",\"1.1735139\"]]],[[[\"a\",\"2.604312\"],[\"an\",\"2.2998605\"],[\"to\",\"2.0387297\"],[\"[\",\"1.3386648\"],[\",\",\"1.1182008\"],[\"$\",\"1.0485858\"],[\"have\",\"0.9373869\"],[\"life\",\"0.916109\"],[\"\",\"0.86257523\"],[\"\",\"0.7195061\"]],[[\"to\",\"2.4242635\"],[\"\",\"1.8951675\"],[\"\",\"1.163477\"],[\"rule\",\"1.0751653\"],[\"$\",\"0.8447129\"],[\"\\\"\",\"0.8366946\"],[\"a\",\"0.72625375\"],[\"x\",\"0.67131126\"],[\"-\",\"0.58087397\"],[\"b\",\"0.5600821\"]],[[\"\",\"8.148317\"],[\"to\",\"7.7204123\"],[\"of\",\"5.3455143\"],[\"for\",\"5.1862335\"],[\"that\",\"3.863797\"],[\",\",\"3.481763\"],[\".\",\"1.9792566\"],[\"her\",\"1.5879551\"],[\"a\",\"1.4618037\"],[\"(\",\"1.4036099\"]],[[\"\",\"2.884342\"],[\"for\",\"2.3803482\"],[\",\",\"2.2302775\"],[\"[\",\"2.2274783\"],[\"of\",\"2.1627357\"],[\".\",\"1.6935725\"],[\"has\",\"1.4086775\"],[\":\",\"1.3297161\"],[\"and\",\"1.2228616\"],[\"{\",\"1.1781754\"]],[[\"and\",\"6.556917\"],[\"which\",\"2.831759\"],[\"the\",\"2.6951525\"],[\"\",\"2.4900615\"],[\"with\",\"1.7099053\"],[\"or\",\"1.6832398\"],[\"to\",\"1.4522465\"],[\"a\",\"1.3607899\"],[\"as\",\"1.3003696\"],[\"for\",\"1.2745373\"]],[[\"\",\"3.2764745\"],[\"last\",\"1.7884184\"],[\"same\",\"1.3131088\"],[\"potential\",\"0.788367\"],[\"\",\"0.6471943\"],[\"result\",\"0.5788845\"],[\"world\",\"0.489245\"],[\"\\\\\",\"0.47537062\"],[\"N\",\"0.436722\"],[\"output\",\"0.43530786\"]],[[\"\",\"2.259103\"],[\"\",\"1.8778179\"],[\"her\",\"1.5297176\"],[\"_\",\"1.4574202\"],[\"-\",\"1.0956571\"],[\"s\",\"0.8315954\"],[\"it\",\"0.7002248\"],[\"\\u00c3\\u00a7\",\"0.61080056\"],[\"au\",\"0.5739872\"],[\"con\",\"0.5693325\"]],[[\"\",\"2.9977784\"],[\"P\",\"2.4910758\"],[\"{\",\"2.4886158\"],[\"(\",\"2.100783\"],[\",\",\"2.0038207\"],[\"}\",\"1.9923456\"],[\"-\",\"1.9138705\"],[\"\\u00c2\\u0142\",\"1.8459814\"],[\"{\",\"1.7191731\"],[\"\\u00e2\\u0122\",\"1.7053243\"]]],[[[\"and\",\"2.1134682\"],[\",\",\"1.370809\"],[\"one\",\"0.8846465\"],[\".\",\"0.84685683\"],[\"to\",\"0.8159263\"],[\"method\",\"0.80728465\"],[\"look\",\"0.73425704\"],[\"as\",\"0.6094744\"],[\"addition\",\"0.5844268\"],[\"for\",\"0.48911595\"]],[[\"and\",\"4.7387514\"],[\"-\",\"4.1146336\"],[\"yet\",\"1.6139882\"],[\",\",\"1.4714763\"],[\"her\",\"1.4458358\"],[\"\\\"\",\"1.3692515\"],[\"model\",\"1.2408231\"],[\"but\",\"1.0993639\"],[\"to\",\"1.0293154\"],[\"she\",\"0.95564413\"]],[[\"that\",\"13.282418\"],[\"to\",\"12.782521\"],[\"for\",\"12.299614\"],[\"of\",\"4.2222166\"],[\"with\",\"3.4448571\"],[\"in\",\"3.147281\"],[\",\",\"2.2550077\"],[\".\",\"1.9717376\"],[\"\",\"1.4495884\"],[\":\",\"1.1591543\"]],[[\"for\",\"8.181502\"],[\"that\",\"6.1039815\"],[\".\",\"5.2781043\"],[\",\",\"4.1826015\"],[\"[\",\"4.0962024\"],[\"and\",\"4.0927157\"],[\":\",\"3.9253216\"],[\"to\",\"3.9013212\"],[\"with\",\"2.3755999\"],[\"in\",\"2.2473547\"]],[[\"which\",\"8.401468\"],[\"the\",\"3.8003185\"],[\"as\",\"2.6709323\"],[\"based\",\"2.5953119\"],[\"and\",\"2.54166\"],[\"a\",\"2.409238\"],[\"with\",\"2.054277\"],[\"to\",\"1.757344\"],[\"but\",\"1.4664576\"],[\"an\",\"1.327714\"]],[[\"result\",\"2.9582074\"],[\"same\",\"2.6280785\"],[\"only\",\"1.7491778\"],[\"possibility\",\"1.2315363\"],[\"ability\",\"1.1576188\"],[\"\\u00e2\\u0122\",\"1.1199255\"],[\"results\",\"1.0409149\"],[\"*\",\"0.8220709\"],[\"idea\",\"0.7625416\"],[\"use\",\"0.752701\"]],[[\"-\",\"1.9741662\"],[\"cal\",\"0.8641223\"],[\"\",\"0.820828\"],[\"os\",\"0.61849517\"],[\"E\",\"0.55610865\"],[\"Le\",\"0.4574772\"],[\"c\",\"0.44993943\"],[\"i\",\"0.44624773\"],[\"\\u00d0\\u00bd\",\"0.44118217\"],[\"her\",\"0.4388285\"]],[[\".\",\"6.7772894\"],[\"(\",\"4.643743\"],[\",\",\"3.753212\"],[\":\",\"2.1330447\"],[\"that\",\"1.8243138\"],[\"and\",\"1.7176243\"],[\"is\",\"1.4992048\"],[\"can\",\"1.4723234\"],[\"{\",\"1.3768108\"],[\"\\\\\",\"1.3605849\"]]],[[[\"method\",\"5.0617075\"],[\",\",\"4.5421424\"],[\"and\",\"3.0994666\"],[\"one\",\"1.8953897\"],[\"class\",\"1.8654796\"],[\"to\",\"1.3382384\"],[\"\\\"\",\"0.8643283\"],[\"plan\",\"0.8191182\"],[\"is\",\"0.81846\"],[\"\",\"0.6347076\"]],[[\"-\",\"29.600615\"],[\"and\",\"5.843963\"],[\"yet\",\"2.9677114\"],[\",\",\"2.94851\"],[\"but\",\"2.0797257\"],[\"model\",\"1.8930929\"],[\"-[\",\"0.9976062\"],[\"method\",\"0.780295\"],[\"rule\",\"0.75314903\"],[\"\\\"\",\"0.55819976\"]],[[\"that\",\"21.685207\"],[\"for\",\"14.378759\"],[\":\",\"8.440919\"],[\"to\",\"7.120681\"],[\"of\",\"4.4453225\"],[\",\",\"3.5728745\"],[\"in\",\"2.9530785\"],[\"with\",\"2.9437842\"],[\"based\",\"2.1095505\"],[\".\",\"1.9460166\"]],[[\"that\",\"12.894769\"],[\"for\",\"11.896257\"],[\":\",\"7.460433\"],[\",\",\"6.4668036\"],[\"to\",\"4.719273\"],[\"and\",\"3.9405513\"],[\"in\",\"3.7046201\"],[\"such\",\"3.4284427\"],[\".\",\"3.1375675\"],[\"(\",\"2.6450665\"]],[[\"which\",\"7.130526\"],[\"based\",\"4.485135\"],[\"the\",\"3.6300416\"],[\"a\",\"3.5255198\"],[\"for\",\"3.227242\"],[\"that\",\"2.852648\"],[\"to\",\"2.2445104\"],[\"in\",\"1.5800252\"],[\"as\",\"1.5498533\"],[\"and\",\"1.4979999\"]],[[\"so\",\"3.6562574\"],[\"\\\"\",\"2.8086965\"],[\"*\",\"1.4332817\"],[\"\\u00e2\\u0122\",\"1.3301258\"],[\"use\",\"0.77715546\"],[\"6\",\"0.7749407\"],[\"result\",\"0.751544\"],[\"perfect\",\"0.73012847\"],[\"\\u00bc\",\"0.7299458\"],[\"only\",\"0.5555176\"]],[[\"-\",\"5.4635415\"],[\"ation\",\"1.0413349\"],[\"ox\",\"0.87743646\"],[\"ip\",\"0.78229785\"],[\"\\u00d0\\u00bd\",\"0.72736627\"],[\"cal\",\"0.6681133\"],[\"C\",\"0.64474523\"],[\"ok\",\"0.6363325\"],[\"\\u00e2\\u0122\\u0132\",\"0.6098355\"],[\"pe\",\"0.51975536\"]],[[\",\",\"10.177248\"],[\".\",\"10.033827\"],[\"(\",\"4.113117\"],[\":\",\"2.2853115\"],[\"that\",\"1.9257965\"],[\"in\",\"1.8597533\"],[\"and\",\"1.4246092\"],[\"-\",\"1.3939259\"],[\"\\u00c2\\u0142\",\"0.9982044\"],[\"her\",\"0.9760885\"]]],[[[\"method\",\"30.042648\"],[\",\",\"3.9472897\"],[\"and\",\"1.3975438\"],[\"class\",\"1.352251\"],[\"approach\",\"1.3204167\"],[\"technique\",\"1.2132758\"],[\"one\",\"1.0968071\"],[\"thread\",\"0.7308872\"],[\"\\\"\",\"0.65805036\"],[\"team\",\"0.56061995\"]],[[\"method\",\"8.847458\"],[\"and\",\"5.6865597\"],[\"-\",\"4.776015\"],[\"ton\",\"3.3837364\"],[\"yet\",\"3.0408528\"],[\",\",\"2.5005774\"],[\"rule\",\"2.2999094\"],[\"but\",\"1.5821595\"],[\"approach\",\"1.1114591\"],[\"model\",\"1.0504243\"]],[[\"that\",\"56.008446\"],[\"for\",\"7.171615\"],[\",\",\"5.188335\"],[\"to\",\"3.6985502\"],[\"with\",\"3.0059597\"],[\"based\",\"2.55799\"],[\"of\",\"2.4342992\"],[\"in\",\"1.5721476\"],[\"architecture\",\"0.7757064\"],[\":\",\"0.7641851\"]],[[\"that\",\"28.281647\"],[\"for\",\"8.253537\"],[\",\",\"7.84699\"],[\"and\",\"5.9033628\"],[\".\",\"3.5174143\"],[\":\",\"3.400259\"],[\"based\",\"3.3553753\"],[\"to\",\"3.0356293\"],[\"in\",\"2.3341541\"],[\"with\",\"1.813104\"]],[[\"which\",\"13.15691\"],[\"a\",\"7.297982\"],[\"the\",\"5.545211\"],[\"an\",\"3.6324096\"],[\"that\",\"3.0542104\"],[\"based\",\"1.7688618\"],[\"with\",\"1.2675769\"],[\"using\",\"1.1716588\"],[\"to\",\"0.8022599\"],[\"and\",\"0.7627816\"]],[[\"so\",\"2.8916304\"],[\"\\u0122\",\"2.6283128\"],[\"\\u00bc\",\"1.998496\"],[\"\\u013b\",\"1.0143886\"],[\"perfect\",\"0.9318474\"],[\"novel\",\"0.92388785\"],[\"\\u00a4\",\"0.8899427\"],[\"\\u0126\",\"0.8826887\"],[\"\\u00e2\\u0122\",\"0.8704613\"],[\"\\u012f\",\"0.85495627\"]],[[\"-\",\"2.8218179\"],[\"ox\",\"2.5519576\"],[\"ok\",\"2.1036751\"],[\"Cont\",\"1.2886772\"],[\"cat\",\"0.9096563\"],[\"Ch\",\"0.7562706\"],[\"ation\",\"0.7095364\"],[\"yn\",\"0.6499737\"],[\"C\",\"0.6246076\"],[\"Sc\",\"0.56833434\"]],[[\",\",\"48.11691\"],[\".\",\"6.0618773\"],[\"in\",\"1.5598238\"],[\"has\",\"1.5591159\"],[\"that\",\"1.403788\"],[\"approach\",\"1.242424\"],[\"(\",\"1.2101356\"],[\"inspired\",\"1.0399935\"],[\"model\",\"0.7001717\"],[\"is\",\"0.67990845\"]]],[[[\"model\",\"41.397976\"],[\"method\",\"17.538933\"],[\"approach\",\"5.1502595\"],[\"technique\",\"1.629495\"],[\",\",\"1.1489168\"],[\"strategy\",\"0.73837614\"],[\"class\",\"0.6931763\"],[\"one\",\"0.6836438\"],[\"models\",\"0.5063898\"],[\"and\",\"0.48012263\"]],[[\"model\",\"60.374176\"],[\"method\",\"9.774864\"],[\"yet\",\"1.3565251\"],[\"technique\",\"1.2417672\"],[\"ton\",\"0.9649583\"],[\"and\",\"0.8122057\"],[\"-\",\"0.6539795\"],[\"rule\",\"0.6257956\"],[\"approach\",\"0.5857283\"],[\"models\",\"0.3888452\"]],[[\"that\",\"59.432648\"],[\"for\",\"8.923246\"],[\"based\",\"5.589585\"],[\",\",\"5.4993534\"],[\"to\",\"2.8062634\"],[\"with\",\"2.2031746\"],[\"architecture\",\"2.0474668\"],[\"called\",\"1.0241952\"],[\":\",\"0.8731792\"],[\"in\",\"0.8670188\"]],[[\"that\",\"35.400387\"],[\"for\",\"18.111153\"],[\"based\",\"9.269718\"],[\",\",\"8.418461\"],[\"to\",\"2.8530529\"],[\"and\",\"2.4120226\"],[\"called\",\"2.278996\"],[\"with\",\"2.188749\"],[\":\",\"1.7982583\"],[\"in\",\"1.7020324\"]],[[\"the\",\"10.980451\"],[\"which\",\"8.38475\"],[\"based\",\"4.9798155\"],[\"a\",\"3.8453116\"],[\"called\",\"2.6007056\"],[\"that\",\"1.614932\"],[\"designed\",\"1.5972382\"],[\"an\",\"1.5165803\"],[\"and\",\"1.0937873\"],[\"with\",\"1.0755509\"]],[[\"so\",\"5.4099455\"],[\"\\\"\",\"1.3127187\"],[\"\\u00e2\\u0122\",\"0.9023471\"],[\"`\",\"0.80329424\"],[\"W\",\"0.71697444\"],[\"'\",\"0.71651304\"],[\"\\u00ce\",\"0.58432233\"],[\"*\",\"0.5143392\"],[\"simplest\",\"0.36159822\"],[\"Trump\",\"0.3262577\"]],[[\"-\",\"6.1222763\"],[\"ient\",\"1.6704242\"],[\"cat\",\"1.321877\"],[\"iting\",\"1.1879604\"],[\"iter\",\"0.88864255\"],[\"ia\",\"0.8663172\"],[\"Dog\",\"0.7365125\"],[\"Life\",\"0.70693123\"],[\"f\",\"0.6988079\"],[\"C\",\"0.65467024\"]],[[\",\",\"75.80405\"],[\"(\",\"1.7279834\"],[\"in\",\"1.2501854\"],[\"that\",\"1.2044024\"],[\"inspired\",\"1.0331982\"],[\".\",\"1.0044018\"],[\"for\",\"0.8630002\"],[\"que\",\"0.49313462\"],[\":\",\"0.47392598\"],[\"architecture\",\"0.3774768\"]]],[[[\"model\",\"55.92419\"],[\"method\",\"5.5111036\"],[\"approach\",\"4.554547\"],[\"class\",\"0.85478425\"],[\"models\",\"0.83081937\"],[\"technique\",\"0.64427376\"],[\"Model\",\"0.45000383\"],[\"strategy\",\"0.42681924\"],[\"type\",\"0.42333418\"],[\"set\",\"0.4013107\"]],[[\"model\",\"55.099136\"],[\"yet\",\"3.5798066\"],[\"method\",\"2.5924213\"],[\"and\",\"2.3508613\"],[\"but\",\"1.692598\"],[\"models\",\"1.1949801\"],[\"ton\",\"1.1082183\"],[\"approach\",\"0.8285797\"],[\"linear\",\"0.81972545\"],[\"x\",\"0.51260966\"]],[[\"that\",\"63.90707\"],[\"architecture\",\"5.1402493\"],[\",\",\"3.9104116\"],[\"based\",\"3.6453147\"],[\"for\",\"2.4482718\"],[\"top\",\"2.1506414\"],[\"model\",\"1.6741451\"],[\"structure\",\"1.5111389\"],[\"called\",\"1.396669\"],[\"to\",\"1.3649074\"]],[[\"that\",\"62.744034\"],[\"based\",\"10.912321\"],[\"for\",\"5.5464354\"],[\",\",\"3.7069564\"],[\"called\",\"2.333691\"],[\"and\",\"1.8612355\"],[\"to\",\"1.2347056\"],[\"with\",\"1.1004622\"],[\"in\",\"0.774916\"],[\"without\",\"0.5828914\"]],[[\"the\",\"18.404423\"],[\"called\",\"11.138461\"],[\"based\",\"4.7431483\"],[\"which\",\"4.4733496\"],[\"a\",\"3.786777\"],[\"named\",\"3.5490017\"],[\"an\",\"1.7535113\"],[\"that\",\"1.1989858\"],[\"inspired\",\"0.8266381\"],[\"dubbed\",\"0.8183012\"]],[[\"\\u00e2\\u0122\",\"1.7387373\"],[\"\\\"\",\"0.8965515\"],[\"**\",\"0.832876\"],[\"'\",\"0.6477772\"],[\"`\",\"0.605501\"],[\"so\",\"0.59035736\"],[\"*\",\"0.50740373\"],[\"\\u013b\",\"0.43311232\"],[\"\\u00ce\",\"0.40536746\"],[\"[*\",\"0.33703664\"]],[[\"-\",\"19.846506\"],[\"f\",\"1.4533355\"],[\"cat\",\"1.308096\"],[\"ient\",\"1.2970355\"],[\"act\",\"1.1827135\"],[\"c\",\"1.1616697\"],[\"m\",\"1.0907499\"],[\"\\u00e2\\u0122\\u0135\",\"1.0553929\"],[\"con\",\"0.81261516\"],[\"head\",\"0.7687913\"]],[[\",\",\"81.830894\"],[\".\",\"1.3446009\"],[\"(\",\"1.2536542\"],[\"model\",\"0.8592775\"],[\"in\",\"0.4135742\"],[\"for\",\"0.33295715\"],[\"[\",\"0.29417542\"],[\"neural\",\"0.29039666\"],[\"architecture\",\"0.2806597\"],[\"([\",\"0.26497892\"]]],[[[\"model\",\"54.403664\"],[\"approach\",\"5.3854303\"],[\"method\",\"3.0610921\"],[\"sequence\",\"1.505827\"],[\"type\",\"0.9350392\"],[\",\",\"0.7637042\"],[\"hybrid\",\"0.588997\"],[\"strategy\",\"0.4368797\"],[\"Model\",\"0.3939683\"],[\"framework\",\"0.39050096\"]],[[\"model\",\"61.34532\"],[\"but\",\"3.2844841\"],[\"yet\",\"2.9719841\"],[\"and\",\"2.7359252\"],[\"method\",\"1.0621625\"],[\"linear\",\"1.012936\"],[\"approach\",\"0.8851553\"],[\"sequence\",\"0.82534117\"],[\",\",\"0.52117246\"],[\"models\",\"0.4942019\"]],[[\"that\",\"22.741886\"],[\"architecture\",\"17.255806\"],[\"called\",\"10.678982\"],[\",\",\"6.4669476\"],[\"structure\",\"5.5641108\"],[\"top\",\"5.339863\"],[\"model\",\"5.090075\"],[\"based\",\"2.9576545\"],[\"for\",\"2.1162298\"],[\"with\",\"1.4870514\"]],[[\"that\",\"23.653421\"],[\"based\",\"17.444582\"],[\"called\",\"15.514776\"],[\"for\",\"8.747036\"],[\",\",\"8.300053\"],[\"and\",\"3.0198565\"],[\"with\",\"2.3307762\"],[\"of\",\"1.6289955\"],[\"to\",\"1.3228462\"],[\"in\",\"1.2110586\"]],[[\"called\",\"28.11541\"],[\"the\",\"11.110936\"],[\"named\",\"6.1456194\"],[\"which\",\"3.7711632\"],[\"based\",\"3.414176\"],[\"a\",\"2.4583638\"],[\"termed\",\"2.3039482\"],[\"dubbed\",\"1.4018466\"],[\"consisting\",\"0.92156345\"],[\"inspired\",\"0.7639901\"]],[[\"**\",\"1.2220503\"],[\"*\",\"0.82758033\"],[\"\\u00e2\\u0122\",\"0.6533047\"],[\"\\u013b\",\"0.63251954\"],[\"simple\",\"0.54738104\"],[\"bounded\",\"0.4456315\"],[\"\\\"\",\"0.39011905\"],[\"'\",\"0.24818401\"],[\"${\",\"0.22701146\"],[\"self\",\"0.22605343\"]],[[\"-\",\"31.31192\"],[\"f\",\"2.6933327\"],[\".\",\"1.6708672\"],[\"g\",\"1.4443494\"],[\"act\",\"0.87484336\"],[\"ient\",\"0.8429071\"],[\"c\",\"0.822962\"],[\"\\u013d\",\"0.80858755\"],[\"h\",\"0.71485484\"],[\"\\u00e2\\u0122\\u0135\",\"0.6709749\"]],[[\",\",\"69.944534\"],[\"(\",\"3.593635\"],[\"model\",\"1.714281\"],[\"-\",\"1.3084542\"],[\".\",\"0.94737065\"],[\"\\u00c2\\u0142\",\"0.9322091\"],[\"that\",\"0.6558676\"],[\"network\",\"0.6023388\"],[\"architecture\",\"0.5727135\"],[\",\",\"0.5067613\"]]],[[[\"model\",\"47.19525\"],[\"approach\",\"5.6255846\"],[\"sequence\",\"3.150573\"],[\"method\",\"2.6322591\"],[\"type\",\"1.5690043\"],[\"deep\",\"0.88706595\"],[\"attention\",\"0.78314245\"],[\"models\",\"0.6744064\"],[\"network\",\"0.62368584\"],[\"and\",\"0.61826015\"]],[[\"model\",\"37.83735\"],[\"yet\",\"7.8438272\"],[\"and\",\"6.368432\"],[\"but\",\"5.734662\"],[\"sequence\",\"2.8825066\"],[\"network\",\"2.0751498\"],[\"linear\",\"1.410978\"],[\"recurrent\",\"1.1621274\"],[\"neural\",\"0.98444706\"],[\"method\",\"0.92829007\"]],[[\"that\",\"41.99099\"],[\"architecture\",\"32.118847\"],[\"called\",\"5.661895\"],[\",\",\"2.775071\"],[\"model\",\"1.7919935\"],[\"based\",\"1.411597\"],[\"top\",\"1.3671416\"],[\"structure\",\"1.1679677\"],[\"consisting\",\"0.9885626\"],[\"design\",\"0.9398149\"]],[[\"that\",\"62.659252\"],[\"based\",\"8.811979\"],[\"called\",\"6.316785\"],[\"for\",\"4.984131\"],[\",\",\"3.8280752\"],[\"and\",\"1.4283196\"],[\"with\",\"1.385434\"],[\"inspired\",\"0.85700935\"],[\"to\",\"0.7436119\"],[\"which\",\"0.62089485\"]],[[\"called\",\"37.749107\"],[\"the\",\"9.693404\"],[\"named\",\"5.914532\"],[\"which\",\"5.5061536\"],[\"based\",\"2.949343\"],[\"termed\",\"2.5650473\"],[\"consisting\",\"1.8557191\"],[\"a\",\"1.6989876\"],[\"dubbed\",\"1.3678322\"],[\"namely\",\"1.1862259\"]],[[\"**\",\"3.5659268\"],[\"simple\",\"2.2489536\"],[\"*\",\"2.0320394\"],[\"deep\",\"1.6909145\"],[\"attention\",\"0.9465904\"],[\"multi\",\"0.8785032\"],[\"\\u00e2\\u0122\",\"0.7493883\"],[\"oun\",\"0.6643013\"],[\"one\",\"0.5328463\"],[\"feed\",\"0.52235395\"]],[[\"-\",\"25.169384\"],[\"former\",\"14.016898\"],[\".\",\"1.6057727\"],[\"f\",\"1.5517036\"],[\"attention\",\"1.2901098\"],[\"c\",\"1.1018678\"],[\"du\",\"0.91977966\"],[\"lu\",\"0.7370693\"],[\"E\",\"0.64796007\"],[\"E\",\"0.6415515\"]],[[\",\",\"63.25283\"],[\"(\",\"4.5148473\"],[\"-\",\"4.031842\"],[\"model\",\"3.305692\"],[\"network\",\"3.1726592\"],[\"that\",\"1.379054\"],[\".\",\"1.1328064\"],[\"\\u00c2\\u0142\",\"1.1181555\"],[\"enc\",\"1.0827587\"],[\",\",\"0.5752402\"]]],[[[\"model\",\"13.51605\"],[\"sequence\",\"10.975737\"],[\"attention\",\"9.332065\"],[\"approach\",\"4.761261\"],[\"method\",\"3.2660563\"],[\"deep\",\"3.0927677\"],[\"enc\",\"2.1094227\"],[\"architecture\",\"1.5849656\"],[\"type\",\"1.3146231\"],[\"and\",\"1.2492778\"]],[[\"model\",\"10.886841\"],[\"yet\",\"9.377809\"],[\"and\",\"9.33852\"],[\"sequence\",\"7.9839287\"],[\"recurrent\",\"5.4398656\"],[\"feed\",\"5.4224277\"],[\"attention\",\"4.244894\"],[\"network\",\"3.7049255\"],[\"but\",\"2.9483287\"],[\"deep\",\"2.162858\"]],[[\"architecture\",\"44.314625\"],[\"that\",\"15.810208\"],[\"called\",\"7.955329\"],[\"model\",\"7.524175\"],[\"based\",\"2.8963656\"],[\"structure\",\"2.8347309\"],[\",\",\"2.0978982\"],[\"with\",\"1.7181274\"],[\"top\",\"1.6745697\"],[\"for\",\"0.9002665\"]],[[\"that\",\"46.687874\"],[\"called\",\"10.440835\"],[\"based\",\"7.8195662\"],[\"for\",\"5.6493154\"],[\",\",\"5.1061244\"],[\"with\",\"3.6157153\"],[\"to\",\"2.0150902\"],[\"inspired\",\"1.7499229\"],[\"where\",\"1.4789567\"],[\"and\",\"1.355133\"]],[[\"called\",\"37.817997\"],[\"which\",\"8.3570595\"],[\"termed\",\"5.752464\"],[\"the\",\"5.622148\"],[\"named\",\"5.0138702\"],[\"based\",\"4.3042526\"],[\"namely\",\"3.4270573\"],[\"a\",\"2.163861\"],[\"where\",\"1.8900262\"],[\"consisting\",\"1.5618578\"]],[[\"attention\",\"7.5227685\"],[\"**\",\"2.3480914\"],[\"simple\",\"1.9145346\"],[\"self\",\"1.5698584\"],[\"deep\",\"1.5592482\"],[\"*\",\"1.4635688\"],[\"Attention\",\"1.3458761\"],[\"feed\",\"1.2727876\"],[\"Trans\",\"1.1062163\"],[\"enc\",\"0.9293841\"]],[[\"former\",\"72.9057\"],[\"du\",\"3.7601128\"],[\"itional\",\"2.1562035\"],[\"-\",\"1.9499723\"],[\"cription\",\"1.1710337\"],[\"c\",\"0.835119\"],[\"itive\",\"0.57734984\"],[\"position\",\"0.40767905\"],[\"R\",\"0.39554894\"],[\"H\",\"0.36518073\"]],[[\",\",\"41.91221\"],[\"network\",\"10.782175\"],[\"model\",\"4.8631873\"],[\"-\",\"4.8445997\"],[\"Network\",\"4.5505657\"],[\"(\",\"4.387358\"],[\"Attention\",\"3.1704013\"],[\"enc\",\"2.3200095\"],[\"that\",\"1.9355228\"],[\"attention\",\"1.4478917\"]]],[[[\"model\",\"20.841656\"],[\"sequence\",\"12.096813\"],[\"attention\",\"7.333751\"],[\"architecture\",\"4.75067\"],[\"approach\",\"2.8021176\"],[\"method\",\"2.4655209\"],[\"recurrent\",\"1.9132601\"],[\"enc\",\"1.8998897\"],[\"framework\",\"1.7335657\"],[\",\",\"1.4560949\"]],[[\"recurrent\",\"15.31321\"],[\"model\",\"11.6870985\"],[\"and\",\"8.431721\"],[\"sequence\",\"7.7555256\"],[\"yet\",\"6.0289426\"],[\"architecture\",\"4.351607\"],[\"but\",\"3.5163276\"],[\"attention\",\"2.9610038\"],[\",\",\"2.9021463\"],[\"network\",\"2.2468114\"]],[[\"architecture\",\"59.444534\"],[\"that\",\"8.177547\"],[\"structure\",\"6.960315\"],[\"model\",\"4.869267\"],[\",\",\"2.807379\"],[\"called\",\"2.2638326\"],[\"with\",\"1.6315205\"],[\"for\",\"1.457407\"],[\"based\",\"1.3451376\"],[\"to\",\"1.1401097\"]],[[\"that\",\"40.28864\"],[\"for\",\"9.726491\"],[\",\",\"9.60816\"],[\"based\",\"6.6280036\"],[\"called\",\"4.931532\"],[\"with\",\"4.5044417\"],[\"to\",\"4.14734\"],[\"which\",\"2.4952314\"],[\"and\",\"1.6677469\"],[\"in\",\"1.6330017\"]],[[\"called\",\"15.887766\"],[\"which\",\"14.995474\"],[\"the\",\"10.067604\"],[\"based\",\"4.0150924\"],[\"namely\",\"3.249196\"],[\"where\",\"3.1416097\"],[\"that\",\"3.0862002\"],[\"named\",\"2.9941103\"],[\"a\",\"2.9636269\"],[\"termed\",\"2.4374142\"]],[[\"attention\",\"5.6289415\"],[\"Attention\",\"3.7427585\"],[\"*\",\"3.0105922\"],[\"Trans\",\"2.7040493\"],[\"sequence\",\"2.3469155\"],[\"self\",\"1.7655594\"],[\"enc\",\"1.6041349\"],[\"Rec\",\"1.2372687\"],[\"Sequence\",\"1.2265157\"],[\"recurrent\",\"1.1497504\"]],[[\"former\",\"82.704155\"],[\"du\",\"5.4247475\"],[\"E\",\"0.63036644\"],[\"-\",\"0.53978527\"],[\"cription\",\"0.4159425\"],[\"duction\",\"0.3925851\"],[\"fo\",\"0.2941461\"],[\"posed\",\"0.28725347\"],[\"c\",\"0.28545654\"],[\"duct\",\"0.2775359\"]],[[\",\",\"54.895775\"],[\"-\",\"4.847664\"],[\"network\",\"3.9648824\"],[\"model\",\"3.869748\"],[\"Network\",\"3.771073\"],[\"(\",\"2.9213114\"],[\"Attention\",\"2.8216748\"],[\"[\",\"1.8009064\"],[\"that\",\"1.3990034\"],[\"Enc\",\"1.3347296\"]]]],\"hoverlabel\":{\"bgcolor\":\"rgb(42, 42, 50)\"},\"hovertemplate\":\" %{customdata[0][0]} %{customdata[0][1]:.1f}% <br> %{customdata[1][0]} %{customdata[1][1]:.1f}% <br> %{customdata[2][0]} %{customdata[2][1]:.1f}% <br> %{customdata[3][0]} %{customdata[3][1]:.1f}% <br> %{customdata[4][0]} %{customdata[4][1]:.1f}% <br> %{customdata[5][0]} %{customdata[5][1]:.1f}% <br> %{customdata[6][0]} %{customdata[6][1]:.1f}% <br> %{customdata[7][0]} %{customdata[7][1]:.1f}% <br> %{customdata[8][0]} %{customdata[8][1]:.1f}% <br> %{customdata[9][0]} %{customdata[9][1]:.1f}% <extra></extra>\",\"text\":[[\"\",\"\\\"\",\"\\\"\",\"\\\"\",\"\",\"-\",\"\\\"\",\"\\\"\"],[\",\",\"x\",\"to\",\",\",\"and\",\"same\",\"_\",\"I\"],[\"a\",\"to\",\"\",\"\",\"and\",\"\",\"\",\"\"],[\"and\",\"and\",\"that\",\"for\",\"which\",\"result\",\"-\",\".\"],[\"method\",\"-\",\"that\",\"that\",\"which\",\"so\",\"-\",\",\"],[\"method\",\"method\",\"that\",\"that\",\"which\",\"so\",\"-\",\",\"],[\"model\",\"model\",\"that\",\"that\",\"the\",\"so\",\"-\",\",\"],[\"model\",\"model\",\"that\",\"that\",\"the\",\"\\u00e2\\u0122\",\"-\",\",\"],[\"model\",\"model\",\"that\",\"that\",\"called\",\"**\",\"-\",\",\"],[\"model\",\"model\",\"that\",\"that\",\"called\",\"**\",\"-\",\",\"],[\"model\",\"model\",\"architecture\",\"that\",\"called\",\"attention\",\"former\",\",\"],[\"model\",\"recurrent\",\"architecture\",\"that\",\"called\",\"attention\",\"former\",\",\"]],\"texttemplate\":\"<b>%{text}</b>\",\"x\":[\"new\",\"simple\\u200c\",\"network\\u200c\\u200c\",\"architecture\\u200c\\u200c\\u200c\",\",\\u200c\\u200c\\u200c\\u200c\",\"the\\u200c\\u200c\\u200c\\u200c\\u200c\",\"Trans\\u200c\\u200c\\u200c\\u200c\\u200c\\u200c\",\"former\\u200c\\u200c\\u200c\\u200c\\u200c\\u200c\\u200c\"],\"y\":[\"input\",\"3\",\"6\",\"9\",\"12\",\"15\",\"18\",\"21\",\"24\",\"27\",\"30\",\"output\"],\"z\":[[0.022000664845108986,0.03163258358836174,0.037087347358465195,0.03895096853375435,0.03720562532544136,0.027854859828948975,0.031161248683929443,0.02453313209116459],[0.030146360397338867,0.02065981552004814,0.06456123292446136,0.05160483345389366,0.06666601449251175,0.010537308640778065,0.014845744706690311,0.033937886357307434],[0.02604311890900135,0.024242635816335678,0.08148317039012909,0.02884341962635517,0.06556916981935501,0.0327647440135479,0.022591030225157738,0.02997778356075287],[0.02113468199968338,0.047387514263391495,0.13282418251037598,0.08181501924991608,0.08401468396186829,0.029582073912024498,0.019741661846637726,0.06777289509773254],[0.050617072731256485,0.29600614309310913,0.216852068901062,0.1289476901292801,0.07130526006221771,0.03656257316470146,0.054635412991046906,0.1017724797129631],[0.3004264831542969,0.0884745791554451,0.5600844621658325,0.28281646966934204,0.13156910240650177,0.02891630306839943,0.028218179941177368,0.48116910457611084],[0.41397976875305176,0.6037417650222778,0.5943264961242676,0.3540038764476776,0.10980450361967087,0.05409945547580719,0.06122276186943054,0.7580404281616211],[0.5592418909072876,0.5509913563728333,0.6390706896781921,0.627440333366394,0.1840442270040512,0.017387373372912407,0.19846506416797638,0.81830894947052],[0.5440366268157959,0.613453209400177,0.22741885483264923,0.2365342080593109,0.2811540961265564,0.012220502831041813,0.31311920285224915,0.699445366859436],[0.47195249795913696,0.37837347388267517,0.41990989446640015,0.6265925168991089,0.3774910867214203,0.035659268498420715,0.25169384479522705,0.6325283050537109],[0.13516050577163696,0.10886841267347336,0.4431462585926056,0.466878741979599,0.37817996740341187,0.07522768527269363,0.7290570139884949,0.4191220998764038],[0.20841655135154724,0.1531320959329605,0.5944453477859497,0.40288639068603516,0.1588776558637619,0.056289415806531906,0.8270415663719177,0.5489577651023865]],\"zmax\":1.0,\"zmin\":0,\"type\":\"heatmap\",\"xaxis\":\"x2\",\"yaxis\":\"y2\",\"textfont\":{\"size\":12}}],                        {\"template\":{\"data\":{\"histogram2dcontour\":[{\"type\":\"histogram2dcontour\",\"colorbar\":{\"outlinewidth\":0,\"ticks\":\"\"},\"colorscale\":[[0.0,\"#0d0887\"],[0.1111111111111111,\"#46039f\"],[0.2222222222222222,\"#7201a8\"],[0.3333333333333333,\"#9c179e\"],[0.4444444444444444,\"#bd3786\"],[0.5555555555555556,\"#d8576b\"],[0.6666666666666666,\"#ed7953\"],[0.7777777777777778,\"#fb9f3a\"],[0.8888888888888888,\"#fdca26\"],[1.0,\"#f0f921\"]]}],\"choropleth\":[{\"type\":\"choropleth\",\"colorbar\":{\"outlinewidth\":0,\"ticks\":\"\"}}],\"histogram2d\":[{\"type\":\"histogram2d\",\"colorbar\":{\"outlinewidth\":0,\"ticks\":\"\"},\"colorscale\":[[0.0,\"#0d0887\"],[0.1111111111111111,\"#46039f\"],[0.2222222222222222,\"#7201a8\"],[0.3333333333333333,\"#9c179e\"],[0.4444444444444444,\"#bd3786\"],[0.5555555555555556,\"#d8576b\"],[0.6666666666666666,\"#ed7953\"],[0.7777777777777778,\"#fb9f3a\"],[0.8888888888888888,\"#fdca26\"],[1.0,\"#f0f921\"]]}],\"heatmap\":[{\"type\":\"heatmap\",\"colorbar\":{\"outlinewidth\":0,\"ticks\":\"\"},\"colorscale\":[[0.0,\"#0d0887\"],[0.1111111111111111,\"#46039f\"],[0.2222222222222222,\"#7201a8\"],[0.3333333333333333,\"#9c179e\"],[0.4444444444444444,\"#bd3786\"],[0.5555555555555556,\"#d8576b\"],[0.6666666666666666,\"#ed7953\"],[0.7777777777777778,\"#fb9f3a\"],[0.8888888888888888,\"#fdca26\"],[1.0,\"#f0f921\"]]}],\"heatmapgl\":[{\"type\":\"heatmapgl\",\"colorbar\":{\"outlinewidth\":0,\"ticks\":\"\"},\"colorscale\":[[0.0,\"#0d0887\"],[0.1111111111111111,\"#46039f\"],[0.2222222222222222,\"#7201a8\"],[0.3333333333333333,\"#9c179e\"],[0.4444444444444444,\"#bd3786\"],[0.5555555555555556,\"#d8576b\"],[0.6666666666666666,\"#ed7953\"],[0.7777777777777778,\"#fb9f3a\"],[0.8888888888888888,\"#fdca26\"],[1.0,\"#f0f921\"]]}],\"contourcarpet\":[{\"type\":\"contourcarpet\",\"colorbar\":{\"outlinewidth\":0,\"ticks\":\"\"}}],\"contour\":[{\"type\":\"contour\",\"colorbar\":{\"outlinewidth\":0,\"ticks\":\"\"},\"colorscale\":[[0.0,\"#0d0887\"],[0.1111111111111111,\"#46039f\"],[0.2222222222222222,\"#7201a8\"],[0.3333333333333333,\"#9c179e\"],[0.4444444444444444,\"#bd3786\"],[0.5555555555555556,\"#d8576b\"],[0.6666666666666666,\"#ed7953\"],[0.7777777777777778,\"#fb9f3a\"],[0.8888888888888888,\"#fdca26\"],[1.0,\"#f0f921\"]]}],\"surface\":[{\"type\":\"surface\",\"colorbar\":{\"outlinewidth\":0,\"ticks\":\"\"},\"colorscale\":[[0.0,\"#0d0887\"],[0.1111111111111111,\"#46039f\"],[0.2222222222222222,\"#7201a8\"],[0.3333333333333333,\"#9c179e\"],[0.4444444444444444,\"#bd3786\"],[0.5555555555555556,\"#d8576b\"],[0.6666666666666666,\"#ed7953\"],[0.7777777777777778,\"#fb9f3a\"],[0.8888888888888888,\"#fdca26\"],[1.0,\"#f0f921\"]]}],\"mesh3d\":[{\"type\":\"mesh3d\",\"colorbar\":{\"outlinewidth\":0,\"ticks\":\"\"}}],\"scatter\":[{\"fillpattern\":{\"fillmode\":\"overlay\",\"size\":10,\"solidity\":0.2},\"type\":\"scatter\"}],\"parcoords\":[{\"type\":\"parcoords\",\"line\":{\"colorbar\":{\"outlinewidth\":0,\"ticks\":\"\"}}}],\"scatterpolargl\":[{\"type\":\"scatterpolargl\",\"marker\":{\"colorbar\":{\"outlinewidth\":0,\"ticks\":\"\"}}}],\"bar\":[{\"error_x\":{\"color\":\"#2a3f5f\"},\"error_y\":{\"color\":\"#2a3f5f\"},\"marker\":{\"line\":{\"color\":\"#E5ECF6\",\"width\":0.5},\"pattern\":{\"fillmode\":\"overlay\",\"size\":10,\"solidity\":0.2}},\"type\":\"bar\"}],\"scattergeo\":[{\"type\":\"scattergeo\",\"marker\":{\"colorbar\":{\"outlinewidth\":0,\"ticks\":\"\"}}}],\"scatterpolar\":[{\"type\":\"scatterpolar\",\"marker\":{\"colorbar\":{\"outlinewidth\":0,\"ticks\":\"\"}}}],\"histogram\":[{\"marker\":{\"pattern\":{\"fillmode\":\"overlay\",\"size\":10,\"solidity\":0.2}},\"type\":\"histogram\"}],\"scattergl\":[{\"type\":\"scattergl\",\"marker\":{\"colorbar\":{\"outlinewidth\":0,\"ticks\":\"\"}}}],\"scatter3d\":[{\"type\":\"scatter3d\",\"line\":{\"colorbar\":{\"outlinewidth\":0,\"ticks\":\"\"}},\"marker\":{\"colorbar\":{\"outlinewidth\":0,\"ticks\":\"\"}}}],\"scattermapbox\":[{\"type\":\"scattermapbox\",\"marker\":{\"colorbar\":{\"outlinewidth\":0,\"ticks\":\"\"}}}],\"scatterternary\":[{\"type\":\"scatterternary\",\"marker\":{\"colorbar\":{\"outlinewidth\":0,\"ticks\":\"\"}}}],\"scattercarpet\":[{\"type\":\"scattercarpet\",\"marker\":{\"colorbar\":{\"outlinewidth\":0,\"ticks\":\"\"}}}],\"carpet\":[{\"aaxis\":{\"endlinecolor\":\"#2a3f5f\",\"gridcolor\":\"white\",\"linecolor\":\"white\",\"minorgridcolor\":\"white\",\"startlinecolor\":\"#2a3f5f\"},\"baxis\":{\"endlinecolor\":\"#2a3f5f\",\"gridcolor\":\"white\",\"linecolor\":\"white\",\"minorgridcolor\":\"white\",\"startlinecolor\":\"#2a3f5f\"},\"type\":\"carpet\"}],\"table\":[{\"cells\":{\"fill\":{\"color\":\"#EBF0F8\"},\"line\":{\"color\":\"white\"}},\"header\":{\"fill\":{\"color\":\"#C8D4E3\"},\"line\":{\"color\":\"white\"}},\"type\":\"table\"}],\"barpolar\":[{\"marker\":{\"line\":{\"color\":\"#E5ECF6\",\"width\":0.5},\"pattern\":{\"fillmode\":\"overlay\",\"size\":10,\"solidity\":0.2}},\"type\":\"barpolar\"}],\"pie\":[{\"automargin\":true,\"type\":\"pie\"}]},\"layout\":{\"autotypenumbers\":\"strict\",\"colorway\":[\"#636efa\",\"#EF553B\",\"#00cc96\",\"#ab63fa\",\"#FFA15A\",\"#19d3f3\",\"#FF6692\",\"#B6E880\",\"#FF97FF\",\"#FECB52\"],\"font\":{\"color\":\"#2a3f5f\"},\"hovermode\":\"closest\",\"hoverlabel\":{\"align\":\"left\"},\"paper_bgcolor\":\"white\",\"plot_bgcolor\":\"#E5ECF6\",\"polar\":{\"bgcolor\":\"#E5ECF6\",\"angularaxis\":{\"gridcolor\":\"white\",\"linecolor\":\"white\",\"ticks\":\"\"},\"radialaxis\":{\"gridcolor\":\"white\",\"linecolor\":\"white\",\"ticks\":\"\"}},\"ternary\":{\"bgcolor\":\"#E5ECF6\",\"aaxis\":{\"gridcolor\":\"white\",\"linecolor\":\"white\",\"ticks\":\"\"},\"baxis\":{\"gridcolor\":\"white\",\"linecolor\":\"white\",\"ticks\":\"\"},\"caxis\":{\"gridcolor\":\"white\",\"linecolor\":\"white\",\"ticks\":\"\"}},\"coloraxis\":{\"colorbar\":{\"outlinewidth\":0,\"ticks\":\"\"}},\"colorscale\":{\"sequential\":[[0.0,\"#0d0887\"],[0.1111111111111111,\"#46039f\"],[0.2222222222222222,\"#7201a8\"],[0.3333333333333333,\"#9c179e\"],[0.4444444444444444,\"#bd3786\"],[0.5555555555555556,\"#d8576b\"],[0.6666666666666666,\"#ed7953\"],[0.7777777777777778,\"#fb9f3a\"],[0.8888888888888888,\"#fdca26\"],[1.0,\"#f0f921\"]],\"sequentialminus\":[[0.0,\"#0d0887\"],[0.1111111111111111,\"#46039f\"],[0.2222222222222222,\"#7201a8\"],[0.3333333333333333,\"#9c179e\"],[0.4444444444444444,\"#bd3786\"],[0.5555555555555556,\"#d8576b\"],[0.6666666666666666,\"#ed7953\"],[0.7777777777777778,\"#fb9f3a\"],[0.8888888888888888,\"#fdca26\"],[1.0,\"#f0f921\"]],\"diverging\":[[0,\"#8e0152\"],[0.1,\"#c51b7d\"],[0.2,\"#de77ae\"],[0.3,\"#f1b6da\"],[0.4,\"#fde0ef\"],[0.5,\"#f7f7f7\"],[0.6,\"#e6f5d0\"],[0.7,\"#b8e186\"],[0.8,\"#7fbc41\"],[0.9,\"#4d9221\"],[1,\"#276419\"]]},\"xaxis\":{\"gridcolor\":\"white\",\"linecolor\":\"white\",\"ticks\":\"\",\"title\":{\"standoff\":15},\"zerolinecolor\":\"white\",\"automargin\":true,\"zerolinewidth\":2},\"yaxis\":{\"gridcolor\":\"white\",\"linecolor\":\"white\",\"ticks\":\"\",\"title\":{\"standoff\":15},\"zerolinecolor\":\"white\",\"automargin\":true,\"zerolinewidth\":2},\"scene\":{\"xaxis\":{\"backgroundcolor\":\"#E5ECF6\",\"gridcolor\":\"white\",\"linecolor\":\"white\",\"showbackground\":true,\"ticks\":\"\",\"zerolinecolor\":\"white\",\"gridwidth\":2},\"yaxis\":{\"backgroundcolor\":\"#E5ECF6\",\"gridcolor\":\"white\",\"linecolor\":\"white\",\"showbackground\":true,\"ticks\":\"\",\"zerolinecolor\":\"white\",\"gridwidth\":2},\"zaxis\":{\"backgroundcolor\":\"#E5ECF6\",\"gridcolor\":\"white\",\"linecolor\":\"white\",\"showbackground\":true,\"ticks\":\"\",\"zerolinecolor\":\"white\",\"gridwidth\":2}},\"shapedefaults\":{\"line\":{\"color\":\"#2a3f5f\"}},\"annotationdefaults\":{\"arrowcolor\":\"#2a3f5f\",\"arrowhead\":0,\"arrowwidth\":1},\"geo\":{\"bgcolor\":\"white\",\"landcolor\":\"#E5ECF6\",\"subunitcolor\":\"white\",\"showland\":true,\"showlakes\":true,\"lakecolor\":\"white\"},\"title\":{\"x\":0.05},\"mapbox\":{\"style\":\"light\"}}},\"xaxis\":{\"anchor\":\"y\",\"domain\":[0.0,1.0]},\"yaxis\":{\"anchor\":\"x\",\"domain\":[0.55,1.0]},\"xaxis2\":{\"anchor\":\"y2\",\"domain\":[0.0,1.0]},\"yaxis2\":{\"anchor\":\"x2\",\"domain\":[0.0,0.45]},\"annotations\":[{\"font\":{\"size\":16},\"showarrow\":false,\"text\":\"Logit Lens (theirs)\",\"x\":0.5,\"xanchor\":\"center\",\"xref\":\"paper\",\"y\":1.0,\"yanchor\":\"bottom\",\"yref\":\"paper\"},{\"font\":{\"size\":16},\"showarrow\":false,\"text\":\"Tuned Lens (ours)\",\"x\":0.5,\"xanchor\":\"center\",\"xref\":\"paper\",\"y\":0.45,\"yanchor\":\"bottom\",\"yref\":\"paper\"},{\"font\":{\"size\":16},\"showarrow\":false,\"text\":\"Input token\",\"x\":0.5,\"xanchor\":\"center\",\"xref\":\"paper\",\"y\":0,\"yanchor\":\"top\",\"yref\":\"paper\",\"yshift\":-30},{\"font\":{\"size\":16},\"showarrow\":false,\"text\":\"Layer\",\"textangle\":-90,\"x\":0,\"xanchor\":\"right\",\"xref\":\"paper\",\"xshift\":-40,\"y\":0.5,\"yanchor\":\"middle\",\"yref\":\"paper\"}],\"font\":{\"color\":\"black\"},\"margin\":{\"b\":70,\"l\":60,\"r\":0,\"t\":25},\"height\":800,\"width\":712.8000000000001},                        {\"responsive\": true}                    ).then(function(){\n",
       "                            \n",
       "var gd = document.getElementById('ac8f5cce-0031-49bf-9604-2b2e30e10005');\n",
       "var x = new MutationObserver(function (mutations, observer) {{\n",
       "        var display = window.getComputedStyle(gd).display;\n",
       "        if (!display || display === 'none') {{\n",
       "            console.log([gd, 'removed!']);\n",
       "            Plotly.purge(gd);\n",
       "            observer.disconnect();\n",
       "        }}\n",
       "}});\n",
       "\n",
       "// Listen for the removal of the full notebook cells\n",
       "var notebookContainer = gd.closest('#notebook-container');\n",
       "if (notebookContainer) {{\n",
       "    x.observe(notebookContainer, {childList: true});\n",
       "}}\n",
       "\n",
       "// Listen for the clearing of the current output cell\n",
       "var outputEl = gd.closest('.output');\n",
       "if (outputEl) {{\n",
       "    x.observe(outputEl, {childList: true});\n",
       "}}\n",
       "\n",
       "                        })                };                });            </script>        </div>"
      ]
     },
     "metadata": {},
     "output_type": "display_data"
    }
   ],
   "source": [
    "from plotly.subplots import make_subplots\n",
    "\n",
    "COL_WIDTH = 6.75 * 96\n",
    "\n",
    "master = make_subplots(\n",
    "    rows=2,\n",
    "    subplot_titles=(\"Logit Lens (theirs)\", \"Tuned Lens (ours)\"),\n",
    "    vertical_spacing=0.1,\n",
    "    x_title=\"Input token\",\n",
    "    y_title=\"Layer\"\n",
    ").add_trace(\n",
    "    ll_trace, row=1, col=1\n",
    ").add_trace(\n",
    "    tl_trace, row=2, col=1\n",
    ").update_traces(\n",
    "    colorbar=dict(\n",
    "        orientation=\"h\",\n",
    "        thickness=15,\n",
    "        y=-0.18,\n",
    "    ),\n",
    "    textfont_size=12,\n",
    ").update_layout(\n",
    "    font=dict(color=\"black\"),\n",
    "    height=800,\n",
    "    margin_b=70,\n",
    "    margin_l=60,\n",
    "    margin_r=0,\n",
    "    margin_t=25,\n",
    "    # yaxis_tickangle=-20,\n",
    "    # yaxis2_tickangle=-20,\n",
    "    width=COL_WIDTH * 1.1,\n",
    ")\n",
    "master"
   ]
  },
  {
   "cell_type": "code",
   "execution_count": 72,
   "metadata": {},
   "outputs": [],
   "source": [
    "master.write_image(\"/mnt/ssd-1/nora/front-page.pdf\")"
   ]
  },
  {
   "cell_type": "code",
   "execution_count": 4,
   "metadata": {},
   "outputs": [],
   "source": [
    "from tuned_lens.nn import TunedLens\n",
    "\n",
    "lens = TunedLens.load(\"/mnt/ssd-1/nora/real-lenses/pythia/13b-deduped/affine\", map_location=\"cuda:1\").to(\"cuda:1\")"
   ]
  },
  {
   "cell_type": "code",
   "execution_count": 8,
   "metadata": {},
   "outputs": [
    {
     "data": {
      "application/vnd.plotly.v1+json": {
       "config": {
        "plotlyServerURL": "https://plotly.com"
       },
       "data": [
        {
         "colorbar": {
          "title": {
           "side": "right",
           "text": "entropy (nats)"
          }
         },
         "colorscale": [
          [
           0,
           "rgb(5,48,97)"
          ],
          [
           0.1,
           "rgb(33,102,172)"
          ],
          [
           0.2,
           "rgb(67,147,195)"
          ],
          [
           0.3,
           "rgb(146,197,222)"
          ],
          [
           0.4,
           "rgb(209,229,240)"
          ],
          [
           0.5,
           "rgb(247,247,247)"
          ],
          [
           0.6,
           "rgb(253,219,199)"
          ],
          [
           0.7,
           "rgb(244,165,130)"
          ],
          [
           0.8,
           "rgb(214,96,77)"
          ],
          [
           0.9,
           "rgb(178,24,43)"
          ],
          [
           1,
           "rgb(103,0,31)"
          ]
         ],
         "customdata": [
          [
           [
            [
             ",",
             "7.7493615"
            ],
            [
             ".",
             "4.5556145"
            ],
            [
             "in",
             "3.9271853"
            ],
            [
             "the",
             "2.4194689"
            ],
            [
             "as",
             "2.0694814"
            ],
            [
             "at",
             "1.884284"
            ],
            [
             "of",
             "1.8550711"
            ],
            [
             "is",
             "1.6243541"
            ],
            [
             "has",
             "1.3571987"
            ],
            [
             "for",
             "1.2849698"
            ]
           ],
           [
            [
             ".",
             "13.109486"
            ],
            [
             ",",
             "9.368926"
            ],
            [
             "and",
             "3.8449998"
            ],
            [
             "âĢĻ",
             "2.4440305"
            ],
            [
             "are",
             "1.6408446"
            ],
            [
             "\\n",
             "1.4480401"
            ],
            [
             "of",
             "1.4480401"
            ],
            [
             "for",
             "1.0268143"
            ],
            [
             ".\"",
             "0.97216815"
            ],
            [
             "is",
             "0.80595577"
            ]
           ],
           [
            [
             "a",
             "11.743654"
            ],
            [
             ".",
             "5.050883"
            ],
            [
             "on",
             "4.5988812"
            ],
            [
             "to",
             "4.354133"
            ],
            [
             "the",
             "4.320249"
            ],
            [
             ",",
             "4.0269146"
            ],
            [
             "in",
             "3.90302"
            ],
            [
             "that",
             "3.6953046"
            ],
            [
             "\\n",
             "2.1055214"
            ],
            [
             "of",
             "1.7184764"
            ]
           ],
           [
            [
             "experience",
             "0.8916911"
            ],
            [
             "own",
             "0.7993067"
            ],
            [
             "work",
             "0.6678457"
            ],
            [
             "time",
             "0.64226097"
            ],
            [
             "working",
             "0.5120551"
            ],
            [
             "use",
             "0.48860636"
            ],
            [
             "law",
             "0.39414293"
            ],
            [
             "children",
             "0.38955098"
            ],
            [
             "pool",
             "0.38501257"
            ],
            [
             "right",
             "0.36738157"
            ]
           ],
           [
            [
             "of",
             "21.403027"
            ],
            [
             "with",
             "12.484275"
            ],
            [
             ".",
             "7.3391256"
            ],
            [
             "on",
             "5.2450366"
            ],
            [
             "to",
             "4.2145057"
            ],
            [
             ",",
             "2.6999137"
            ],
            [
             "in",
             "2.6580553"
            ],
            [
             "from",
             "2.5165963"
            ],
            [
             "about",
             "2.2036054"
            ],
            [
             "that",
             "1.6121922"
            ]
           ],
           [
            [
             "the",
             "28.052383"
            ],
            [
             "a",
             "9.544341"
            ],
            [
             "an",
             "2.0162935"
            ],
            [
             "and",
             "1.7655256"
            ],
            [
             "it",
             "1.570291"
            ],
            [
             "such",
             "1.4522818"
            ],
            [
             ",",
             "1.3749928"
            ],
            [
             "not",
             "1.3536756"
            ],
            [
             ".",
             "1.2422025"
            ],
            [
             "to",
             "1.1853179"
            ]
           ],
           [
            [
             "new",
             "1.2509344"
            ],
            [
             "few",
             "0.85306305"
            ],
            [
             "little",
             "0.7072141"
            ],
            [
             "large",
             "0.69624984"
            ],
            [
             "lot",
             "0.69083154"
            ],
            [
             "small",
             "0.5054232"
            ],
            [
             "time",
             "0.46380237"
            ],
            [
             "good",
             "0.45661175"
            ],
            [
             "more",
             "0.4530584"
            ],
            [
             "great",
             "0.44603437"
            ]
           ],
           [
            [
             "to",
             "2.7122352"
            ],
            [
             "gers",
             "2.0313702"
            ],
            [
             ".",
             "1.9998769"
            ],
            [
             "of",
             "1.7648852"
            ],
            [
             ",",
             "1.3218379"
            ],
            [
             "ŀ",
             "1.2129867"
            ],
            [
             "from",
             "0.5774682"
            ],
            [
             "in",
             "0.5424811"
            ],
            [
             "during",
             "0.5340708"
            ],
            [
             "ol",
             "0.5056481"
            ]
           ],
           [
            [
             ",",
             "1.7371668"
            ],
            [
             ".",
             "1.5817083"
            ],
            [
             "of",
             "1.4628413"
            ],
            [
             "model",
             "1.0870912"
            ],
            [
             "ibility",
             "0.9082987"
            ],
            [
             "or",
             "0.83350176"
            ],
            [
             "in",
             "0.69099724"
            ],
            [
             ")",
             "0.6145857"
            ],
            [
             "\\n",
             "0.517533"
            ],
            [
             "is",
             "0.44964048"
            ]
           ],
           [
            [
             ".",
             "12.85577"
            ],
            [
             ",",
             "11.797116"
            ],
            [
             "of",
             "8.904931"
            ],
            [
             "and",
             "7.04438"
            ],
            [
             "in",
             "6.5149865"
            ],
            [
             "from",
             "4.91777"
            ],
            [
             "is",
             "4.013767"
            ],
            [
             "on",
             "3.7705846"
            ],
            [
             "to",
             "3.3016343"
            ],
            [
             "for",
             "2.2869754"
            ]
           ],
           [
            [
             "\\n",
             "27.57645"
            ],
            [
             "    ",
             "3.5059524"
            ],
            [
             "The",
             "2.4667456"
            ],
            [
             "  ",
             "2.228519"
            ],
            [
             "        ",
             "2.013299"
            ],
            [
             "ĉ",
             "1.4729612"
            ],
            [
             "\"",
             "1.3203537"
            ],
            [
             "<",
             "1.1118494"
            ],
            [
             "            ",
             "1.0444858"
            ],
            [
             "In",
             "0.893396"
            ]
           ]
          ],
          [
           [
            [
             "ational",
             "28.096214"
            ],
            [
             "ative",
             "10.417087"
            ],
            [
             "into",
             "9.121506"
            ],
            [
             "ers",
             "4.8443956"
            ],
            [
             "of",
             "0.52270406"
            ],
            [
             "able",
             "0.5206662"
            ],
            [
             "the",
             "0.49682316"
            ],
            [
             "with",
             "0.46672216"
            ],
            [
             "-",
             "0.40391436"
            ],
            [
             "in",
             "0.4007711"
            ]
           ],
           [
            [
             "(",
             "8.937941"
            ],
            [
             "are",
             "4.821657"
            ],
            [
             ",",
             "1.978804"
            ],
            [
             "and",
             "1.8589145"
            ],
            [
             "âĢľ",
             "1.8444482"
            ],
            [
             "âĢĻ",
             "1.7326987"
            ],
            [
             ":",
             "1.6793894"
            ],
            [
             ".",
             "1.3922626"
            ],
            [
             "\\[[@",
             "1.3600109"
            ],
            [
             "or",
             "1.2480161"
            ]
           ],
           [
            [
             "up",
             "9.261992"
            ],
            [
             "up",
             "7.44222"
            ],
            [
             "a",
             "6.6711626"
            ],
            [
             "quality",
             "1.941419"
            ],
            [
             "an",
             "1.6999635"
            ],
            [
             "the",
             "1.6736077"
            ],
            [
             "-",
             "1.1502528"
            ],
            [
             "and",
             "1.0721534"
            ],
            [
             "in",
             "0.9993569"
            ],
            [
             "their",
             "0.8415429"
            ]
           ],
           [
            [
             "own",
             "45.68656"
            ],
            [
             "lives",
             "4.6671762"
            ],
            [
             "way",
             "2.1704383"
            ],
            [
             "respective",
             "1.7169578"
            ],
            [
             "relationship",
             "0.6991545"
            ],
            [
             "game",
             "0.38310507"
            ],
            [
             "life",
             "0.3655614"
            ],
            [
             "first",
             "0.3655614"
            ],
            [
             "homes",
             "0.34882113"
            ],
            [
             "ability",
             "0.33808902"
            ]
           ],
           [
            [
             "for",
             "11.850302"
            ],
            [
             ".",
             "10.457855"
            ],
            [
             "of",
             "10.295721"
            ],
            [
             ",",
             "8.272844"
            ],
            [
             "that",
             "4.825507"
            ],
            [
             "and",
             "3.6710522"
            ],
            [
             "from",
             "3.4756827"
            ],
            [
             "on",
             "3.091336"
            ],
            [
             "in",
             "2.603166"
            ],
            [
             "are",
             "2.0432484"
            ]
           ],
           [
            [
             "the",
             "24.122293"
            ],
            [
             "a",
             "15.574522"
            ],
            [
             "an",
             "3.9378562"
            ],
            [
             "to",
             "2.4071631"
            ],
            [
             "many",
             "1.3823175"
            ],
            [
             "its",
             "1.2009783"
            ],
            [
             "it",
             "1.043428"
            ],
            [
             "some",
             "0.9575034"
            ],
            [
             "time",
             "0.8062987"
            ],
            [
             "use",
             "0.63287103"
            ]
           ],
           [
            [
             "series",
             "3.8978539"
            ],
            [
             "single",
             "2.7639923"
            ],
            [
             "limited",
             "2.0540247"
            ],
            [
             "different",
             "1.3158573"
            ],
            [
             "number",
             "1.0328282"
            ],
            [
             "large",
             "0.8299008"
            ],
            [
             "variety",
             "0.738129"
            ],
            [
             "pair",
             "0.5748555"
            ],
            [
             "specific",
             "0.54426223"
            ],
            [
             "group",
             "0.53165436"
            ]
           ],
           [
            [
             "space",
             "10.9980955"
            ],
            [
             "and",
             "3.7127938"
            ],
            [
             "period",
             "2.2873862"
            ],
            [
             "variable",
             "1.8094712"
            ],
            [
             "in",
             "1.7537998"
            ],
            [
             ".",
             "1.7537998"
            ],
            [
             "image",
             "0.95352435"
            ],
            [
             "function",
             "0.7782439"
            ],
            [
             "demand",
             "0.7661783"
            ],
            [
             "of",
             "0.7602158"
            ]
           ],
           [
            [
             "process",
             "24.03237"
            ],
            [
             "processes",
             "5.037458"
            ],
            [
             "solution",
             "2.3981895"
            ],
            [
             "method",
             "1.942113"
            ],
            [
             "technique",
             "1.0075548"
            ],
            [
             "scheme",
             "0.80329263"
            ],
            [
             "application",
             "0.6711762"
            ],
            [
             "solutions",
             "0.64044076"
            ],
            [
             "methods",
             "0.5146086"
            ],
            [
             "approach",
             "0.48532215"
            ]
           ],
           [
            [
             ".",
             "18.659655"
            ],
            [
             "that",
             "15.469398"
            ],
            [
             ",",
             "7.962962"
            ],
            [
             "in",
             "6.9726033"
            ],
            [
             "of",
             "6.250201"
            ],
            [
             "and",
             "3.850637"
            ],
            [
             "is",
             "3.7614372"
            ],
            [
             "(",
             "2.9755418"
            ],
            [
             "for",
             "2.246057"
            ],
            [
             "with",
             "1.9667132"
            ]
           ],
           [
            [
             "\\n",
             "12.812096"
            ],
            [
             "the",
             "3.139739"
            ],
            [
             "a",
             "1.6545264"
            ],
            [
             "of",
             "0.8995503"
            ],
            [
             "-",
             "0.7634384"
            ],
            [
             "in",
             "0.7457534"
            ],
            [
             "it",
             "0.6632868"
            ],
            [
             "is",
             "0.6378767"
            ],
            [
             "and",
             "0.578529"
            ],
            [
             "to",
             "0.5185901"
            ]
           ]
          ],
          [
           [
            [
             "ers",
             "28.17415"
            ],
            [
             "ative",
             "25.058607"
            ],
            [
             "ational",
             "18.333267"
            ],
            [
             "able",
             "0.8055074"
            ],
            [
             "-",
             "0.6080289"
            ],
            [
             "(",
             "0.2974894"
            ],
            [
             "ability",
             "0.29287726"
            ],
            [
             "of",
             "0.2708672"
            ],
            [
             "and",
             "0.2447081"
            ],
            [
             "into",
             "0.24185719"
            ]
           ],
           [
            [
             "and",
             "4.4208603"
            ],
            [
             ",",
             "3.389591"
            ],
            [
             "are",
             "3.363213"
            ],
            [
             "(",
             "3.184226"
            ],
            [
             "is",
             "2.40358"
            ],
            [
             ".",
             "2.3663158"
            ],
            [
             ":",
             "2.1884844"
            ],
            [
             "-",
             "1.9013882"
            ],
            [
             "the",
             "1.7177612"
            ],
            [
             "in",
             "1.4692789"
            ]
           ],
           [
            [
             "up",
             "16.602633"
            ],
            [
             "a",
             "15.354925"
            ],
            [
             "-",
             "3.5626287"
            ],
            [
             "in",
             "3.0952656"
            ],
            [
             "the",
             "2.907733"
            ],
            [
             "on",
             "2.8626525"
            ],
            [
             "\\n",
             "2.6475208"
            ],
            [
             "quality",
             "2.0943613"
            ],
            [
             "up",
             "1.8773735"
            ],
            [
             "and",
             "1.7636292"
            ]
           ],
           [
            [
             "own",
             "84.49992"
            ],
            [
             "life",
             "1.014987"
            ],
            [
             "way",
             "0.62531537"
            ],
            [
             "respective",
             "0.47944593"
            ],
            [
             "lives",
             "0.35629395"
            ],
            [
             "unique",
             "0.20143034"
            ],
            [
             "best",
             "0.12507094"
            ],
            [
             "new",
             "0.122173674"
            ],
            [
             "a",
             "0.10951578"
            ],
            [
             "work",
             "0.10951578"
            ]
           ],
           [
            [
             ",",
             "8.346255"
            ],
            [
             "and",
             "6.058732"
            ],
            [
             ".",
             "3.761952"
            ],
            [
             "for",
             "3.7326765"
            ],
            [
             "that",
             "3.2940753"
            ],
            [
             "of",
             "2.5060003"
            ],
            [
             "to",
             "2.5060003"
            ],
            [
             "\\n",
             "1.7223468"
            ],
            [
             "are",
             "1.5439017"
            ],
            [
             ":",
             "1.3205692"
            ]
           ],
           [
            [
             "a",
             "31.263319"
            ],
            [
             "the",
             "6.7611666"
            ],
            [
             "to",
             "4.869886"
            ],
            [
             "\\n",
             "2.9079416"
            ],
            [
             "an",
             "2.4487321"
            ],
            [
             "three",
             "0.72384405"
            ],
            [
             "is",
             "0.48786792"
            ],
            [
             "$",
             "0.4512041"
            ],
            [
             "direct",
             "0.39508748"
            ],
            [
             ":",
             "0.36826202"
            ]
           ],
           [
            [
             "series",
             "23.972555"
            ],
            [
             "single",
             "5.1844287"
            ],
            [
             "combination",
             "2.6273406"
            ],
            [
             "mechanism",
             "2.282673"
            ],
            [
             "system",
             "1.7639124"
            ],
            [
             "variety",
             "1.1935229"
            ],
            [
             "process",
             "1.0615413"
            ],
            [
             "network",
             "0.9441543"
            ],
            [
             "complex",
             "0.9295167"
            ],
            [
             "sequence",
             "0.8529724"
            ]
           ],
           [
            [
             "space",
             "27.49877"
            ],
            [
             "variable",
             "2.27494"
            ],
            [
             "function",
             "1.8423027"
            ],
            [
             ".",
             "1.0662429"
            ],
            [
             "and",
             "0.9861136"
            ],
            [
             "image",
             "0.9120059"
            ],
            [
             ",",
             "0.89087933"
            ],
            [
             "to",
             "0.8271535"
            ],
            [
             "period",
             "0.8271535"
            ],
            [
             "spaces",
             "0.6672378"
            ]
           ],
           [
            [
             "process",
             "35.986565"
            ],
            [
             "processes",
             "7.9051986"
            ],
            [
             "sequence",
             "5.103979"
            ],
            [
             "method",
             "1.9677594"
            ],
            [
             "scheme",
             "1.5445122"
            ],
            [
             "technique",
             "0.997212"
            ],
            [
             "methods",
             "0.8012823"
            ],
            [
             "\\n",
             "0.7645889"
            ],
            [
             "solution",
             "0.7182648"
            ],
            [
             "learning",
             "0.54429674"
            ]
           ],
           [
            [
             ".",
             "24.976202"
            ],
            [
             ",",
             "10.658536"
            ],
            [
             "that",
             "8.631545"
            ],
            [
             "of",
             "5.3594484"
            ],
            [
             "\\n",
             "5.1140213"
            ],
            [
             "to",
             "3.6263843"
            ],
            [
             "which",
             "3.5981636"
            ],
            [
             "is",
             "3.3277576"
            ],
            [
             "in",
             "1.7264177"
            ],
            [
             "(",
             "1.6473594"
            ]
           ],
           [
            [
             "\\n",
             "32.57"
            ],
            [
             ".",
             "2.1482246"
            ],
            [
             "-",
             "1.621565"
            ],
            [
             ",",
             "0.9096155"
            ],
            [
             "\"",
             "0.8217691"
            ],
            [
             ":",
             "0.79648596"
            ],
            [
             "_",
             "0.79338074"
            ],
            [
             "1",
             "0.73662907"
            ],
            [
             ")",
             "0.73375726"
            ],
            [
             "is",
             "0.6866138"
            ]
           ]
          ],
          [
           [
            [
             "ers",
             "61.128735"
            ],
            [
             "ative",
             "29.32989"
            ],
            [
             "ational",
             "4.462882"
            ],
            [
             "able",
             "0.65818596"
            ],
            [
             "ants",
             "0.29666767"
            ],
            [
             "ability",
             "0.16512042"
            ],
            [
             "ant",
             "0.11085659"
            ],
            [
             "ylase",
             "0.08047327"
            ],
            [
             "-",
             "0.04824085"
            ],
            [
             ",",
             "0.043581977"
            ]
           ],
           [
            [
             "and",
             "6.627056"
            ],
            [
             ",",
             "6.0340037"
            ],
            [
             "of",
             "4.449195"
            ],
            [
             "\\[[@",
             "4.3802166"
            ],
            [
             "(",
             "3.8655276"
            ],
            [
             "is",
             "3.7465978"
            ],
            [
             "\\n",
             "3.659808"
            ],
            [
             "are",
             "3.5750284"
            ],
            [
             "the",
             "2.219786"
            ],
            [
             "can",
             "1.6887244"
            ]
           ],
           [
            [
             "up",
             "18.6159"
            ],
            [
             "a",
             "12.596147"
            ],
            [
             "up",
             "4.894335"
            ],
            [
             "the",
             "4.856247"
            ],
            [
             "and",
             "3.111029"
            ],
            [
             "in",
             "2.1215372"
            ],
            [
             "an",
             "1.8005252"
            ],
            [
             "out",
             "1.2471874"
            ],
            [
             "\\n",
             "1.0100031"
            ],
            [
             "quality",
             "0.877506"
            ]
           ],
           [
            [
             "own",
             "45.112144"
            ],
            [
             "way",
             "0.49145758"
            ],
            [
             "life",
             "0.45988172"
            ],
            [
             "largest",
             "0.36522028"
            ],
            [
             "natural",
             "0.29576436"
            ],
            [
             "respective",
             "0.2923186"
            ],
            [
             "best",
             "0.2923186"
            ],
            [
             "most",
             "0.27784494"
            ],
            [
             "lives",
             "0.27035055"
            ],
            [
             "full",
             "0.2471204"
            ]
           ],
           [
            [
             "of",
             "12.759902"
            ],
            [
             "to",
             "4.996849"
            ],
            [
             ",",
             "4.4097037"
            ],
            [
             "and",
             "3.3286192"
            ],
            [
             "that",
             "3.2011018"
            ],
            [
             ".",
             "2.937496"
            ],
            [
             "are",
             "2.3237505"
            ],
            [
             "for",
             "1.9567943"
            ],
            [
             "\\n",
             "1.3821652"
            ],
            [
             "is",
             "1.2438141"
            ]
           ],
           [
            [
             "a",
             "8.163669"
            ],
            [
             "the",
             "8.10014"
            ],
            [
             "to",
             "6.9284163"
            ],
            [
             "an",
             "5.2298427"
            ],
            [
             "\\n",
             "3.9476924"
            ],
            [
             "its",
             "1.0750314"
            ],
            [
             "$",
             "0.76829034"
            ],
            [
             ",",
             "0.75343025"
            ],
            [
             "in",
             "0.64193064"
            ],
            [
             "their",
             "0.59137416"
            ]
           ],
           [
            [
             "series",
             "8.672936"
            ],
            [
             "mechanism",
             "7.958734"
            ],
            [
             "process",
             "2.2100606"
            ],
            [
             "network",
             "1.16008"
            ],
            [
             "common",
             "1.0940596"
            ],
            [
             "single",
             "1.0358348"
            ],
            [
             "natural",
             "0.9034712"
            ],
            [
             "system",
             "0.87226033"
            ],
            [
             "standard",
             "0.8355742"
            ],
            [
             "variety",
             "0.76377666"
            ]
           ],
           [
            [
             "space",
             "22.883749"
            ],
            [
             "variable",
             "6.159076"
            ],
            [
             "image",
             "3.7649677"
            ],
            [
             "function",
             "1.5331153"
            ],
            [
             "variables",
             "1.3424407"
            ],
            [
             "to",
             "0.8838397"
            ],
            [
             ",",
             "0.8838397"
            ],
            [
             ".",
             "0.8533072"
            ],
            [
             "spaces",
             "0.6883351"
            ],
            [
             "representation",
             "0.6776635"
            ]
           ],
           [
            [
             "process",
             "32.50143"
            ],
            [
             "processes",
             "2.6888041"
            ],
            [
             "sequence",
             "2.3178942"
            ],
            [
             "algorithm",
             "1.3520157"
            ],
            [
             ".",
             "1.0447568"
            ],
            [
             "\\n",
             "0.91125304"
            ],
            [
             "cycle",
             "0.6692963"
            ],
            [
             "learning",
             "0.6046588"
            ],
            [
             "method",
             "0.5614067"
            ],
            [
             "on",
             "0.5273928"
            ]
           ],
           [
            [
             ",",
             "22.773148"
            ],
            [
             ".",
             "16.531532"
            ],
            [
             "that",
             "8.443481"
            ],
            [
             "to",
             "5.9873247"
            ],
            [
             "of",
             "5.409097"
            ],
            [
             "\\n",
             "3.1550984"
            ],
            [
             "is",
             "2.3815932"
            ],
            [
             "in",
             "1.8118206"
            ],
            [
             "and",
             "1.7288512"
            ],
            [
             "(",
             "1.4672571"
            ]
           ],
           [
            [
             "\\n",
             "37.930027"
            ],
            [
             ".",
             "5.093323"
            ],
            [
             ",",
             "2.7262597"
            ],
            [
             ")",
             "2.2251081"
            ],
            [
             ":",
             "1.4422607"
            ],
            [
             "is",
             "1.1634248"
            ],
            [
             "and",
             "1.0551805"
            ],
            [
             "(",
             "0.84786135"
            ],
            [
             "\"",
             "0.84126323"
            ],
            [
             ".\"",
             "0.6106916"
            ]
           ]
          ],
          [
           [
            [
             "ers",
             "79.00949"
            ],
            [
             "ative",
             "15.079224"
            ],
            [
             "ational",
             "3.2611113"
            ],
            [
             "ants",
             "0.55356854"
            ],
            [
             "able",
             "0.28495267"
            ],
            [
             "ability",
             "0.18397927"
            ],
            [
             "-",
             "0.16751504"
            ],
            [
             "ant",
             "0.16109763"
            ],
            [
             "and",
             "0.05655059"
            ],
            [
             "of",
             "0.030269349"
            ]
           ],
           [
            [
             "and",
             "13.266167"
            ],
            [
             "are",
             "12.365428"
            ],
            [
             "of",
             "5.750458"
            ],
            [
             ",",
             "4.6568623"
            ],
            [
             "is",
             "2.9600818"
            ],
            [
             "that",
             "2.512189"
            ],
            [
             "(",
             "2.0186005"
            ],
            [
             ".",
             "1.6093686"
            ],
            [
             "âĢĻ",
             "1.5968446"
            ],
            [
             "the",
             "1.5356703"
            ]
           ],
           [
            [
             "up",
             "29.675842"
            ],
            [
             "-",
             "11.621227"
            ],
            [
             "up",
             "6.6215763"
            ],
            [
             "in",
             "4.4803824"
            ],
            [
             "on",
             "2.416985"
            ],
            [
             "the",
             "2.2006898"
            ],
            [
             "a",
             "1.8971132"
            ],
            [
             "and",
             "1.8102375"
            ],
            [
             "is",
             "0.8001564"
            ],
            [
             ".",
             "0.78162074"
            ]
           ],
           [
            [
             "own",
             "66.52377"
            ],
            [
             "first",
             "0.47342902"
            ],
            [
             "way",
             "0.43274918"
            ],
            [
             "fly",
             "0.18685158"
            ],
            [
             "'",
             "0.15430148"
            ],
            [
             "owns",
             "0.13670354"
            ],
            [
             "decision",
             "0.1289237"
            ],
            [
             "strength",
             "0.12446998"
            ],
            [
             "molecular",
             "0.12064044"
            ],
            [
             "\\n",
             "0.1151159"
            ]
           ],
           [
            [
             "of",
             "15.990175"
            ],
            [
             "to",
             "7.8541107"
            ],
            [
             "and",
             "6.2618427"
            ],
            [
             "in",
             "4.876728"
            ],
            [
             ",",
             "4.838777"
            ],
            [
             "on",
             "4.3714705"
            ],
            [
             "for",
             "3.3256397"
            ],
            [
             "from",
             "3.2486014"
            ],
            [
             "(",
             "2.5698552"
            ],
            [
             "\\n",
             "2.0649366"
            ]
           ],
           [
            [
             "a",
             "27.255096"
            ],
            [
             "an",
             "6.731534"
            ],
            [
             "the",
             "4.2788234"
            ],
            [
             "to",
             "2.0370255"
            ],
            [
             "multiple",
             "2.021173"
            ],
            [
             "two",
             "2.005444"
            ],
            [
             "$",
             "1.0776381"
            ],
            [
             ",",
             "1.0202874"
            ],
            [
             "\\n",
             "0.93261814"
            ],
            [
             "their",
             "0.6212576"
            ]
           ],
           [
            [
             "series",
             "8.156022"
            ],
            [
             "mechanism",
             "6.156488"
            ],
            [
             "network",
             "4.101105"
            ],
            [
             "process",
             "3.3734772"
            ],
            [
             "two",
             "1.6376922"
            ],
            [
             "single",
             "1.5384693"
            ],
            [
             "distinct",
             "1.1612976"
            ],
            [
             "unique",
             "1.0866848"
            ],
            [
             "learning",
             "0.9933104"
            ],
            [
             "combination",
             "0.9627495"
            ]
           ],
           [
            [
             "space",
             "19.210165"
            ],
            [
             "variable",
             "11.031469"
            ],
            [
             "representation",
             "4.026669"
            ],
            [
             "model",
             "1.292038"
            ],
            [
             "function",
             "1.1491624"
            ],
            [
             "image",
             "1.0880051"
            ],
            [
             "-",
             "1.071137"
            ],
            [
             "power",
             "0.9269918"
            ],
            [
             "variables",
             "0.84733915"
            ],
            [
             "to",
             "0.84403574"
            ]
           ],
           [
            [
             "process",
             "50.657738"
            ],
            [
             "processes",
             "5.595524"
            ],
            [
             "learning",
             "4.711903"
            ],
            [
             "sequence",
             "1.8166009"
            ],
            [
             "model",
             "1.035068"
            ],
            [
             ",",
             "0.7813103"
            ],
            [
             ".",
             "0.68681586"
            ],
            [
             "\\n",
             "0.63520086"
            ],
            [
             "algorithm",
             "0.6180673"
            ],
            [
             "deep",
             "0.5649593"
            ]
           ],
           [
            [
             ".",
             "18.745163"
            ],
            [
             ",",
             "13.9302225"
            ],
            [
             "of",
             "10.352063"
            ],
            [
             "that",
             "5.898428"
            ],
            [
             "model",
             "4.3492274"
            ],
            [
             "to",
             "3.9600172"
            ],
            [
             "\\n",
             "3.4405224"
            ],
            [
             "which",
             "2.51714"
            ],
            [
             "like",
             "2.2213683"
            ],
            [
             "is",
             "1.9603505"
            ]
           ],
           [
            [
             "\\n",
             "43.07417"
            ],
            [
             ".",
             "6.2540917"
            ],
            [
             ",",
             "2.2212715"
            ],
            [
             ":",
             "1.0699492"
            ],
            [
             "and",
             "0.9442268"
            ],
            [
             ")",
             "0.76765096"
            ],
            [
             "to",
             "0.74403286"
            ],
            [
             "*",
             "0.55725485"
            ],
            [
             "is",
             "0.51941866"
            ],
            [
             "(",
             "0.4860463"
            ]
           ]
          ],
          [
           [
            [
             "ative",
             "47.61946"
            ],
            [
             "ers",
             "28.657898"
            ],
            [
             "ational",
             "18.941715"
            ],
            [
             "ants",
             "0.98061943"
            ],
            [
             "able",
             "0.4056018"
            ],
            [
             "ant",
             "0.31836048"
            ],
            [
             "ability",
             "0.25580984"
            ],
            [
             "-",
             "0.102953576"
            ],
            [
             "ations",
             "0.06518614"
            ],
            [
             ".",
             "0.05404121"
            ]
           ],
           [
            [
             "and",
             "11.001892"
            ],
            [
             ",",
             "9.484223"
            ],
            [
             "are",
             "7.6805577"
            ],
            [
             "(",
             "7.1033554"
            ],
            [
             "of",
             "4.274874"
            ],
            [
             "is",
             "2.4167948"
            ],
            [
             ".",
             "2.3242087"
            ],
            [
             "have",
             "2.2005167"
            ],
            [
             "can",
             "1.988001"
            ],
            [
             "that",
             "1.7407523"
            ]
           ],
           [
            [
             "up",
             "60.117805"
            ],
            [
             "up",
             "10.694649"
            ],
            [
             "-",
             "4.254037"
            ],
            [
             "in",
             "2.8338"
            ],
            [
             "a",
             "2.057118"
            ],
            [
             "and",
             "1.9629158"
            ],
            [
             "on",
             "1.3075835"
            ],
            [
             "their",
             "1.0589134"
            ],
            [
             "the",
             "0.8055788"
            ],
            [
             ",",
             "0.48860827"
            ]
           ],
           [
            [
             "own",
             "62.08461"
            ],
            [
             "high",
             "0.42824298"
            ],
            [
             "\\n",
             "0.37061343"
            ],
            [
             "internal",
             "0.35641545"
            ],
            [
             "strength",
             "0.26798764"
            ],
            [
             "first",
             "0.23835313"
            ],
            [
             "core",
             "0.2161769"
            ],
            [
             "way",
             "0.2144946"
            ],
            [
             "molecular",
             "0.21282537"
            ],
            [
             "in",
             "0.17851824"
            ]
           ],
           [
            [
             "to",
             "11.341069"
            ],
            [
             "in",
             "10.008457"
            ],
            [
             "on",
             "8.494067"
            ],
            [
             "from",
             "7.6140327"
            ],
            [
             "for",
             "6.0704365"
            ],
            [
             "of",
             "6.0231957"
            ],
            [
             "and",
             "4.654365"
            ],
            [
             ",",
             "2.6108623"
            ],
            [
             "based",
             "2.5108418"
            ],
            [
             "into",
             "1.9101477"
            ]
           ],
           [
            [
             "a",
             "27.517054"
            ],
            [
             "an",
             "4.857049"
            ],
            [
             "the",
             "3.8723767"
            ],
            [
             "their",
             "1.1491526"
            ],
            [
             "multiple",
             "0.84073794"
            ],
            [
             "mechanisms",
             "0.8341952"
            ],
            [
             "two",
             "0.7928913"
            ],
            [
             "interactions",
             "0.77755547"
            ],
            [
             "processes",
             "0.7191212"
            ],
            [
             "learning",
             "0.65221465"
            ]
           ],
           [
            [
             "process",
             "22.248241"
            ],
            [
             "mechanism",
             "11.723999"
            ],
            [
             "combination",
             "4.627193"
            ],
            [
             "series",
             "3.332842"
            ],
            [
             "mixture",
             "1.0569506"
            ],
            [
             "network",
             "0.90053314"
            ],
            [
             "novel",
             "0.8900416"
            ],
            [
             "processes",
             "0.8796723"
            ],
            [
             "mechanisms",
             "0.86603415"
            ],
            [
             "distinct",
             "0.8167481"
            ]
           ],
           [
            [
             "space",
             "6.361478"
            ],
            [
             "variable",
             "6.262852"
            ],
            [
             "representation",
             "5.315213"
            ],
            [
             "-",
             "1.8440781"
            ],
            [
             "representations",
             "1.050724"
            ],
            [
             "model",
             "0.9057807"
            ],
            [
             ",",
             "0.8744901"
            ],
            [
             "learning",
             "0.85423255"
            ],
            [
             "process",
             "0.61288184"
            ],
            [
             "Represent",
             "0.5986845"
            ]
           ],
           [
            [
             "process",
             "65.063866"
            ],
            [
             "processes",
             "7.59076"
            ],
            [
             "learning",
             "1.9342976"
            ],
            [
             "sequence",
             "0.854993"
            ],
            [
             "procedure",
             "0.498713"
            ],
            [
             "mechanism",
             "0.38237652"
            ],
            [
             "\\n",
             "0.3620268"
            ],
            [
             "cycle",
             "0.3441016"
            ],
            [
             "algorithm",
             "0.3400927"
            ],
            [
             "model",
             "0.3133081"
            ]
           ],
           [
            [
             ".",
             "19.992954"
            ],
            [
             "that",
             "15.209837"
            ],
            [
             ",",
             "15.209837"
            ],
            [
             "of",
             "5.3391547"
            ],
            [
             "in",
             "3.669544"
            ],
            [
             "to",
             "3.3937733"
            ],
            [
             "with",
             "2.9485612"
            ],
            [
             "which",
             "2.6430733"
            ],
            [
             "and",
             "1.8889192"
            ],
            [
             "(",
             "1.7744756"
            ]
           ],
           [
            [
             "\\n",
             "38.929504"
            ],
            [
             ".",
             "8.160067"
            ],
            [
             ",",
             "2.4310298"
            ],
            [
             ":",
             "1.1847895"
            ],
            [
             "and",
             "1.0787631"
            ],
            [
             "to",
             "0.6267838"
            ],
            [
             ")",
             "0.5257472"
            ],
            [
             "is",
             "0.4694394"
            ],
            [
             ";",
             "0.4676092"
            ],
            [
             "-",
             "0.43416047"
            ]
           ]
          ],
          [
           [
            [
             "ative",
             "28.330666"
            ],
            [
             "ers",
             "27.033312"
            ],
            [
             "ational",
             "21.892242"
            ],
            [
             "ants",
             "2.399343"
            ],
            [
             "ant",
             "1.9891251"
            ],
            [
             "able",
             "1.537077"
            ],
            [
             "-",
             "0.88612366"
            ],
            [
             "ability",
             "0.50885797"
            ],
            [
             ".",
             "0.49513245"
            ],
            [
             ",",
             "0.40728483"
            ]
           ],
           [
            [
             "are",
             "10.757473"
            ],
            [
             "(",
             "7.7483177"
            ],
            [
             "and",
             "6.1294236"
            ],
            [
             "of",
             "6.0343957"
            ],
            [
             ",",
             "5.940841"
            ],
            [
             "can",
             "4.5907264"
            ],
            [
             "have",
             "2.895335"
            ],
            [
             "in",
             "2.6055195"
            ],
            [
             "-",
             "2.5155106"
            ],
            [
             "may",
             "2.254889"
            ]
           ],
           [
            [
             "up",
             "57.317543"
            ],
            [
             "up",
             "13.8285"
            ],
            [
             "in",
             "2.1373022"
            ],
            [
             "a",
             "1.7857827"
            ],
            [
             "on",
             "1.4461709"
            ],
            [
             "-",
             "1.217798"
            ],
            [
             "the",
             "0.87032104"
            ],
            [
             "and",
             "0.84684557"
            ],
            [
             "in",
             "0.419219"
            ],
            [
             "an",
             "0.3599804"
            ]
           ],
           [
            [
             "own",
             "52.718674"
            ],
            [
             "power",
             "0.41854623"
            ],
            [
             "high",
             "0.4088506"
            ],
            [
             "\\n",
             "0.40094274"
            ],
            [
             "Own",
             "0.34563422"
            ],
            [
             "strength",
             "0.3171718"
            ],
            [
             "internal",
             "0.31347665"
            ],
            [
             "core",
             "0.31103712"
            ],
            [
             "in",
             "0.1864557"
            ],
            [
             "current",
             "0.17379582"
            ]
           ],
           [
            [
             "based",
             "13.718406"
            ],
            [
             "of",
             "12.887248"
            ],
            [
             "on",
             "8.064634"
            ],
            [
             "to",
             "7.939604"
            ],
            [
             "from",
             "6.5821624"
            ],
            [
             "for",
             "4.4537144"
            ],
            [
             "in",
             "3.4957602"
            ],
            [
             "and",
             "2.966813"
            ],
            [
             ",",
             "2.6802924"
            ],
            [
             "using",
             "2.007446"
            ]
           ],
           [
            [
             "a",
             "38.393547"
            ],
            [
             "an",
             "5.7514486"
            ],
            [
             "the",
             "4.4792333"
            ],
            [
             "two",
             "4.04665"
            ],
            [
             "learning",
             "3.2262704"
            ],
            [
             "learned",
             "2.0110774"
            ],
            [
             "both",
             "0.6869124"
            ],
            [
             "three",
             "0.6815669"
            ],
            [
             "*",
             "0.58297503"
            ],
            [
             "neural",
             "0.46478823"
            ]
           ],
           [
            [
             "process",
             "49.662025"
            ],
            [
             "mechanism",
             "3.7997231"
            ],
            [
             "learning",
             "2.9361985"
            ],
            [
             "combination",
             "2.2867138"
            ],
            [
             "neural",
             "1.4996631"
            ],
            [
             "sequence",
             "1.3869617"
            ],
            [
             "series",
             "1.2978503"
            ],
            [
             "learned",
             "1.2827299"
            ],
            [
             "processes",
             "1.17251"
            ],
            [
             "two",
             "0.99509627"
            ]
           ],
           [
            [
             "learning",
             "6.876115"
            ],
            [
             "neural",
             "2.4231906"
            ],
            [
             "space",
             "2.4231906"
            ],
            [
             "representation",
             "2.3303595"
            ],
            [
             "-",
             "2.138458"
            ],
            [
             ",",
             "1.9094281"
            ],
            [
             "variable",
             "1.7453585"
            ],
            [
             "*",
             "0.99836767"
            ],
            [
             "process",
             "0.7332802"
            ],
            [
             "state",
             "0.71909714"
            ]
           ],
           [
            [
             "process",
             "60.74147"
            ],
            [
             "learning",
             "3.793121"
            ],
            [
             "processes",
             "3.6194217"
            ],
            [
             "deep",
             "0.6591454"
            ],
            [
             ",",
             "0.5317112"
            ],
            [
             "model",
             "0.49367714"
            ],
            [
             "procedure",
             "0.4898353"
            ],
            [
             "\\n",
             "0.41409713"
            ],
            [
             "algorithm",
             "0.3874916"
            ],
            [
             "and",
             "0.34870473"
            ]
           ],
           [
            [
             ".",
             "20.069132"
            ],
            [
             ",",
             "15.5082245"
            ],
            [
             "that",
             "14.79805"
            ],
            [
             "of",
             "6.9901032"
            ],
            [
             "which",
             "2.396916"
            ],
            [
             "in",
             "2.3413913"
            ],
            [
             "with",
             "2.182417"
            ],
            [
             "to",
             "2.0501907"
            ],
            [
             "similar",
             "1.712998"
            ],
            [
             "(",
             "1.6864406"
            ]
           ],
           [
            [
             "\\n",
             "38.2739"
            ],
            [
             ".",
             "9.906645"
            ],
            [
             ",",
             "3.0689352"
            ],
            [
             "-",
             "0.9963375"
            ],
            [
             "and",
             "0.89311105"
            ],
            [
             ":",
             "0.8100165"
            ],
            [
             "to",
             "0.5610821"
            ],
            [
             "of",
             "0.35249043"
            ],
            [
             ";",
             "0.3350374"
            ],
            [
             "*",
             "0.3147385"
            ]
           ]
          ],
          [
           [
            [
             "ational",
             "23.301624"
            ],
            [
             "ative",
             "17.452108"
            ],
            [
             "ers",
             "14.355715"
            ],
            [
             "ants",
             "5.0393295"
            ],
            [
             "ant",
             "2.2892187"
            ],
            [
             "-",
             "1.4838158"
            ],
            [
             "able",
             "0.80989414"
            ],
            [
             "ations",
             "0.64823115"
            ],
            [
             "ability",
             "0.58792007"
            ],
            [
             "in",
             "0.56319296"
            ]
           ],
           [
            [
             "(",
             "5.724096"
            ],
            [
             ",",
             "5.1712894"
            ],
            [
             "can",
             "4.6536574"
            ],
            [
             "in",
             "3.8731172"
            ],
            [
             "are",
             "3.7833967"
            ],
            [
             "of",
             "3.596068"
            ],
            [
             "and",
             "3.4990697"
            ],
            [
             "\\n",
             "2.5901504"
            ],
            [
             "have",
             "2.4427443"
            ],
            [
             "may",
             "2.1140192"
            ]
           ],
           [
            [
             "up",
             "55.834167"
            ],
            [
             "up",
             "5.2751703"
            ],
            [
             "in",
             "4.5120926"
            ],
            [
             "a",
             "2.286617"
            ],
            [
             "and",
             "1.459151"
            ],
            [
             "-",
             "1.2876962"
            ],
            [
             "the",
             "1.2876962"
            ],
            [
             "on",
             "1.2335374"
            ],
            [
             "their",
             "0.71951604"
            ],
            [
             "by",
             "0.6525727"
            ]
           ],
           [
            [
             "own",
             "21.486187"
            ],
            [
             "\\n",
             "0.97781646"
            ],
            [
             "high",
             "0.9185735"
            ],
            [
             "internal",
             "0.7735165"
            ],
            [
             "core",
             "0.51728976"
            ],
            [
             "power",
             "0.5053068"
            ],
            [
             "magnetic",
             "0.45295405"
            ],
            [
             "strength",
             "0.35971853"
            ],
            [
             "initial",
             "0.34324586"
            ],
            [
             "highly",
             "0.32880938"
            ]
           ],
           [
            [
             "based",
             "20.225412"
            ],
            [
             "by",
             "17.165083"
            ],
            [
             "of",
             "11.614476"
            ],
            [
             "using",
             "9.934389"
            ],
            [
             "from",
             "5.443596"
            ],
            [
             "on",
             "5.1538925"
            ],
            [
             "in",
             "3.7706685"
            ],
            [
             "via",
             "1.7951075"
            ],
            [
             "through",
             "1.5718486"
            ],
            [
             ",",
             "1.3444732"
            ]
           ],
           [
            [
             "a",
             "37.54833"
            ],
            [
             "learning",
             "6.2261233"
            ],
            [
             "an",
             "5.202121"
            ],
            [
             "two",
             "4.88694"
            ],
            [
             "the",
             "4.3806252"
            ],
            [
             "learned",
             "1.8404385"
            ],
            [
             "three",
             "0.6116723"
            ],
            [
             "local",
             "0.52935827"
            ],
            [
             "neural",
             "0.45455626"
            ],
            [
             "\\n",
             "0.42868736"
            ]
           ],
           [
            [
             "process",
             "17.36953"
            ],
            [
             "learning",
             "13.111212"
            ],
            [
             "combination",
             "4.8993015"
            ],
            [
             "learned",
             "4.3917055"
            ],
            [
             "neural",
             "3.1386104"
            ],
            [
             "series",
             "2.1740518"
            ],
            [
             "two",
             "1.5967958"
            ],
            [
             "mechanism",
             "1.5356233"
            ],
            [
             "sequence",
             "1.2243056"
            ],
            [
             "learn",
             "1.0269494"
            ]
           ],
           [
            [
             "learning",
             "6.363894"
            ],
            [
             "neural",
             "4.1898785"
            ],
            [
             "-",
             "2.8019848"
            ],
            [
             "representation",
             "2.652866"
            ],
            [
             ",",
             "2.0103257"
            ],
            [
             "representations",
             "0.9759346"
            ],
            [
             "variable",
             "0.8851342"
            ],
            [
             "space",
             "0.878246"
            ],
            [
             "learned",
             "0.82181925"
            ],
            [
             "*",
             "0.81542385"
            ]
           ],
           [
            [
             "process",
             "38.89229"
            ],
            [
             "learning",
             "13.976234"
            ],
            [
             "processes",
             "2.4960315"
            ],
            [
             "neural",
             "1.4166517"
            ],
            [
             "procedure",
             "0.78234935"
            ],
            [
             "deep",
             "0.720734"
            ],
            [
             "learned",
             "0.54616785"
            ],
            [
             "learn",
             "0.52524453"
            ],
            [
             "model",
             "0.51508534"
            ],
            [
             "Learning",
             "0.48011237"
            ]
           ],
           [
            [
             ".",
             "22.115746"
            ],
            [
             "that",
             "21.102991"
            ],
            [
             "of",
             "12.900001"
            ],
            [
             ",",
             "12.309266"
            ],
            [
             "in",
             "2.8337538"
            ],
            [
             "which",
             "2.1558063"
            ],
            [
             "similar",
             "1.4586911"
            ],
            [
             "(",
             "1.4360762"
            ],
            [
             "and",
             "1.1629701"
            ],
            [
             "based",
             "0.8744334"
            ]
           ],
           [
            [
             "\\n",
             "22.56804"
            ],
            [
             ".",
             "6.671099"
            ],
            [
             ",",
             "2.7918122"
            ],
            [
             "-",
             "0.7692251"
            ],
            [
             "and",
             "0.7114169"
            ],
            [
             "to",
             "0.4365825"
            ],
            [
             ":",
             "0.4069397"
            ],
            [
             "in",
             "0.36335623"
            ],
            [
             "the",
             "0.28856343"
            ],
            [
             "of",
             "0.26069534"
            ]
           ]
          ],
          [
           [
            [
             "ative",
             "18.840889"
            ],
            [
             "ational",
             "14.6733"
            ],
            [
             "ants",
             "10.56878"
            ],
            [
             "ers",
             "4.992338"
            ],
            [
             "ant",
             "3.0998132"
            ],
            [
             "able",
             "1.0670903"
            ],
            [
             "-",
             "0.9602773"
            ],
            [
             "ability",
             "0.9602773"
            ],
            [
             "a",
             "0.6943689"
            ],
            [
             "the",
             "0.6943689"
            ]
           ],
           [
            [
             ",",
             "5.6425247"
            ],
            [
             "in",
             "4.9023104"
            ],
            [
             "(",
             "4.533896"
            ],
            [
             "are",
             "4.3944025"
            ],
            [
             "of",
             "3.729481"
            ],
            [
             "can",
             "3.4762583"
            ],
            [
             "and",
             "2.7285469"
            ],
            [
             "may",
             "2.5632324"
            ],
            [
             "have",
             "2.2182927"
            ],
            [
             "\\n",
             "2.0596151"
            ]
           ],
           [
            [
             "up",
             "39.018448"
            ],
            [
             "up",
             "7.6831875"
            ],
            [
             "in",
             "4.9995456"
            ],
            [
             "a",
             "3.8332849"
            ],
            [
             "-",
             "2.8709977"
            ],
            [
             "and",
             "1.5855157"
            ],
            [
             "the",
             "1.5548491"
            ],
            [
             "on",
             "0.90339965"
            ],
            [
             "during",
             "0.65579784"
            ],
            [
             "\\n",
             "0.5479396"
            ]
           ],
           [
            [
             "own",
             "15.372473"
            ],
            [
             "magnetic",
             "1.9929376"
            ],
            [
             "\\n",
             "1.751904"
            ],
            [
             "internal",
             "0.88091266"
            ],
            [
             "power",
             "0.6271055"
            ],
            [
             "initial",
             "0.5058656"
            ],
            [
             "strength",
             "0.43268976"
            ],
            [
             "high",
             "0.41287547"
            ],
            [
             "energy",
             "0.30922943"
            ],
            [
             "reputation",
             "0.30443525"
            ]
           ],
           [
            [
             "of",
             "30.727324"
            ],
            [
             "by",
             "15.81707"
            ],
            [
             "from",
             "9.518881"
            ],
            [
             "based",
             "7.8914294"
            ],
            [
             "using",
             "7.769083"
            ],
            [
             "on",
             "3.4206812"
            ],
            [
             "in",
             "3.289637"
            ],
            [
             "about",
             "3.090328"
            ],
            [
             "for",
             "2.1743174"
            ],
            [
             "\\n",
             "1.1018904"
            ]
           ],
           [
            [
             "a",
             "45.810577"
            ],
            [
             "two",
             "6.1036687"
            ],
            [
             "the",
             "5.0207415"
            ],
            [
             "an",
             "3.7020624"
            ],
            [
             "learning",
             "1.269442"
            ],
            [
             "feed",
             "1.0483013"
            ],
            [
             "three",
             "0.74045885"
            ],
            [
             "\\n",
             "0.525064"
            ],
            [
             "top",
             "0.46156082"
            ],
            [
             "local",
             "0.430222"
            ]
           ],
           [
            [
             "process",
             "14.333804"
            ],
            [
             "combination",
             "6.877433"
            ],
            [
             "series",
             "3.7391956"
            ],
            [
             "sequence",
             "3.223388"
            ],
            [
             "two",
             "3.0518425"
            ],
            [
             "learning",
             "2.1139495"
            ],
            [
             "feed",
             "1.6592581"
            ],
            [
             "mechanism",
             "1.6019381"
            ],
            [
             "learned",
             "1.233056"
            ],
            [
             "mixture",
             "0.95656097"
            ]
           ],
           [
            [
             ",",
             "4.3631086"
            ],
            [
             "representation",
             "3.7759557"
            ],
            [
             "variable",
             "3.2550771"
            ],
            [
             "-",
             "2.372181"
            ],
            [
             "learning",
             "1.4961156"
            ],
            [
             "layer",
             "1.4054704"
            ],
            [
             "space",
             "1.1249244"
            ],
            [
             "neural",
             "1.1205387"
            ],
            [
             "\\n",
             "1.0526488"
            ],
            [
             "(",
             "0.8491374"
            ]
           ],
           [
            [
             "process",
             "41.573463"
            ],
            [
             "learning",
             "6.036199"
            ],
            [
             "procedure",
             "2.6164985"
            ],
            [
             "deep",
             "1.2215468"
            ],
            [
             "\\n",
             "0.9513416"
            ],
            [
             "loop",
             "0.94393826"
            ],
            [
             "mechanism",
             "0.8201079"
            ],
            [
             "neural",
             "0.75551873"
            ],
            [
             ",",
             "0.67989326"
            ],
            [
             "gener",
             "0.6312595"
            ]
           ],
           [
            [
             "that",
             "22.931347"
            ],
            [
             ".",
             "22.931347"
            ],
            [
             ",",
             "18.716019"
            ],
            [
             "of",
             "12.763217"
            ],
            [
             "in",
             "3.5442173"
            ],
            [
             "where",
             "1.7005341"
            ],
            [
             "involving",
             "1.6611412"
            ],
            [
             "which",
             "1.5007162"
            ],
            [
             "and",
             "0.714448"
            ],
            [
             "similar",
             "0.681731"
            ]
           ],
           [
            [
             "\\n",
             "15.324152"
            ],
            [
             ".",
             "2.683824"
            ],
            [
             ",",
             "2.139731"
            ],
            [
             "and",
             "0.7251686"
            ],
            [
             "-",
             "0.58725935"
            ],
            [
             "in",
             "0.32431543"
            ],
            [
             "the",
             "0.2907145"
            ],
            [
             "(",
             "0.20695429"
            ],
            [
             "of",
             "0.18192448"
            ],
            [
             "to",
             "0.17224264"
            ]
           ]
          ],
          [
           [
            [
             "ational",
             "31.233406"
            ],
            [
             "ants",
             "21.804432"
            ],
            [
             "ative",
             "19.393263"
            ],
            [
             "able",
             "9.675657"
            ],
            [
             "ers",
             "4.3611603"
            ],
            [
             "ant",
             "2.882551"
            ],
            [
             "ability",
             "1.8038545"
            ],
            [
             "ylase",
             "0.9655337"
            ],
            [
             "in",
             "0.5810684"
            ],
            [
             "growth",
             "0.4455206"
            ]
           ],
           [
            [
             "are",
             "14.3582"
            ],
            [
             "in",
             "10.102257"
            ],
            [
             "can",
             "7.3909693"
            ],
            [
             ",",
             "5.4925017"
            ],
            [
             "have",
             "3.8644578"
            ],
            [
             "of",
             "3.716413"
            ],
            [
             "(",
             "3.6587949"
            ],
            [
             "and",
             "3.6587949"
            ],
            [
             "with",
             "3.3838325"
            ],
            [
             "may",
             "3.0810144"
            ]
           ],
           [
            [
             "up",
             "37.81097"
            ],
            [
             "a",
             "5.7985"
            ],
            [
             "-",
             "4.2422733"
            ],
            [
             "in",
             "3.862634"
            ],
            [
             "on",
             "1.8824972"
            ],
            [
             "and",
             "1.5244929"
            ],
            [
             "during",
             "1.489178"
            ],
            [
             "the",
             "1.3989533"
            ],
            [
             "their",
             "1.3989533"
            ],
            [
             "an",
             "1.1507477"
            ]
           ],
           [
            [
             "own",
             "16.766884"
            ],
            [
             "magnetic",
             "6.4139047"
            ],
            [
             "internal",
             "1.7128447"
            ],
            [
             "insulating",
             "1.4650737"
            ],
            [
             "core",
             "1.4311352"
            ],
            [
             "nests",
             "1.3030635"
            ],
            [
             "coils",
             "1.1957583"
            ],
            [
             "cores",
             "0.88861215"
            ],
            [
             "initial",
             "0.8612724"
            ],
            [
             "flux",
             "0.78419733"
            ]
           ],
           [
            [
             "of",
             "21.152466"
            ],
            [
             "by",
             "15.966721"
            ],
            [
             "from",
             "9.386351"
            ],
            [
             "using",
             "7.5421443"
            ],
            [
             "based",
             "6.060283"
            ],
            [
             "about",
             "4.7197537"
            ],
            [
             "in",
             "4.5036206"
            ],
            [
             "for",
             "3.8221729"
            ],
            [
             "on",
             "3.7629154"
            ],
            [
             "through",
             "2.5461159"
            ]
           ],
           [
            [
             "a",
             "31.727379"
            ],
            [
             "the",
             "7.4772677"
            ],
            [
             "an",
             "5.9613976"
            ],
            [
             "two",
             "2.708087"
            ],
            [
             "multiple",
             "1.4270614"
            ],
            [
             "learning",
             "1.3406003"
            ],
            [
             "interactions",
             "1.0198748"
            ],
            [
             "hierarchical",
             "0.9286066"
            ],
            [
             "top",
             "0.83892626"
            ],
            [
             "local",
             "0.8131152"
            ]
           ],
           [
            [
             "process",
             "8.108853"
            ],
            [
             "combination",
             "7.6773086"
            ],
            [
             "two",
             "2.780537"
            ],
            [
             "hierarchical",
             "2.3969724"
            ],
            [
             "form",
             "1.8667641"
            ],
            [
             "series",
             "1.8235204"
            ],
            [
             "Bayesian",
             "1.699708"
            ],
            [
             "top",
             "1.5597398"
            ],
            [
             "sequence",
             "1.4883142"
            ],
            [
             "simple",
             "1.4091076"
            ]
           ],
           [
            [
             "variable",
             "11.388716"
            ],
            [
             "representation",
             "6.961783"
            ],
            [
             "space",
             "6.7475915"
            ],
            [
             ",",
             "6.2894473"
            ],
            [
             "hierarchical",
             "3.9052062"
            ],
            [
             "-",
             "3.8748157"
            ],
            [
             "process",
             "2.4438155"
            ],
            [
             "structure",
             "2.1735744"
            ],
            [
             "layer",
             "1.8737383"
            ],
            [
             "gener",
             "1.8303328"
            ]
           ],
           [
            [
             "process",
             "47.34583"
            ],
            [
             "procedure",
             "4.0728936"
            ],
            [
             "learning",
             "2.865639"
            ],
            [
             "gener",
             "2.568742"
            ],
            [
             "inference",
             "2.3026056"
            ],
            [
             "model",
             "1.9389882"
            ],
            [
             "optimization",
             "1.6585041"
            ],
            [
             "algorithm",
             "1.4866735"
            ],
            [
             "self",
             "1.4636247"
            ],
            [
             "structure",
             "1.4185938"
            ]
           ],
           [
            [
             "that",
             "21.576157"
            ],
            [
             ".",
             "21.576157"
            ],
            [
             ",",
             "14.372818"
            ],
            [
             "of",
             "10.1918545"
            ],
            [
             "in",
             "6.7892394"
            ],
            [
             "which",
             "1.9757813"
            ],
            [
             "where",
             "1.9000902"
            ],
            [
             "involving",
             "1.8416308"
            ],
            [
             "with",
             "1.3368804"
            ],
            [
             "and",
             "1.1890463"
            ]
           ],
           [
            [
             "\\n",
             "35.231678"
            ],
            [
             "that",
             "19.76318"
            ],
            [
             "in",
             "8.368257"
            ],
            [
             "which",
             "4.409762"
            ],
            [
             "of",
             "3.2262504"
            ],
            [
             "  ",
             "1.3984764"
            ],
            [
             "by",
             "1.3035233"
            ],
            [
             "(",
             "1.0639048"
            ],
            [
             "    ",
             "0.84161794"
            ],
            [
             ">",
             "0.7087134"
            ]
           ]
          ]
         ],
         "hoverlabel": {
          "bgcolor": "rgb(42, 42, 50)"
         },
         "hovertemplate": " %{customdata[0][0]} %{customdata[0][1]:.1f}% <br> %{customdata[1][0]} %{customdata[1][1]:.1f}% <br> %{customdata[2][0]} %{customdata[2][1]:.1f}% <br> %{customdata[3][0]} %{customdata[3][1]:.1f}% <br> %{customdata[4][0]} %{customdata[4][1]:.1f}% <br> %{customdata[5][0]} %{customdata[5][1]:.1f}% <br> %{customdata[6][0]} %{customdata[6][1]:.1f}% <br> %{customdata[7][0]} %{customdata[7][1]:.1f}% <br> %{customdata[8][0]} %{customdata[8][1]:.1f}% <br> %{customdata[9][0]} %{customdata[9][1]:.1f}% <extra></extra>",
         "text": [
          [
           ",",
           ".",
           "a",
           "experience",
           "of",
           "the",
           "new",
           "to",
           ",",
           ".",
           "\\n"
          ],
          [
           "ational",
           "(",
           "up",
           "own",
           "for",
           "the",
           "series",
           "space",
           "process",
           ".",
           "\\n"
          ],
          [
           "ers",
           "and",
           "up",
           "own",
           ",",
           "a",
           "series",
           "space",
           "process",
           ".",
           "\\n"
          ],
          [
           "ers",
           "and",
           "up",
           "own",
           "of",
           "a",
           "series",
           "space",
           "process",
           ",",
           "\\n"
          ],
          [
           "ers",
           "and",
           "up",
           "own",
           "of",
           "a",
           "series",
           "space",
           "process",
           ".",
           "\\n"
          ],
          [
           "ative",
           "and",
           "up",
           "own",
           "to",
           "a",
           "process",
           "space",
           "process",
           ".",
           "\\n"
          ],
          [
           "ative",
           "are",
           "up",
           "own",
           "based",
           "a",
           "process",
           "learning",
           "process",
           ".",
           "\\n"
          ],
          [
           "ational",
           "(",
           "up",
           "own",
           "based",
           "a",
           "process",
           "learning",
           "process",
           ".",
           "\\n"
          ],
          [
           "ative",
           ",",
           "up",
           "own",
           "of",
           "a",
           "process",
           ",",
           "process",
           ".",
           "\\n"
          ],
          [
           "ational",
           "are",
           "up",
           "own",
           "of",
           "a",
           "process",
           "variable",
           "process",
           ".",
           "\\n"
          ]
         ],
         "textfont": {
          "size": 14
         },
         "texttemplate": "<b>%{text}</b>",
         "type": "heatmap",
         "x": [
          "transform",
          "ers‌",
          "build‌‌",
          "their‌‌‌",
          "predictions‌‌‌‌",
          "through‌‌‌‌‌",
          "a‌‌‌‌‌‌",
          "latent‌‌‌‌‌‌‌",
          "iterative‌‌‌‌‌‌‌‌",
          "process‌‌‌‌‌‌‌‌‌",
          "\\n‌‌‌‌‌‌‌‌‌‌"
         ],
         "y": [
          "input",
          "3.ffn",
          "7.ffn",
          "11.ffn",
          "15.ffn",
          "19.ffn",
          "23.ffn",
          "27.ffn",
          "31.ffn",
          "35.ffn"
         ],
         "z": [
          [
           6.747148036956787,
           6.370939254760742,
           5.649650573730469,
           8.632792472839355,
           4.55355978012085,
           4.890101432800293,
           8.385683059692383,
           8.116466522216797,
           8.314659118652344,
           4.144266128540039,
           5.65045690536499
          ],
          [
           5.4453630447387695,
           6.954696178436279,
           6.949010848999023,
           4.915998458862305,
           4.66512393951416,
           5.3574981689453125,
           8.008179664611816,
           7.261838436126709,
           6.666928768157959,
           3.772066593170166,
           8.28150463104248
          ],
          [
           3.8049426078796387,
           7.032174587249756,
           5.216824531555176,
           1.6047084331512451,
           6.5096330642700195,
           5.450719833374023,
           6.068020820617676,
           6.271521091461182,
           5.046584606170654,
           4.093047618865967,
           6.169832229614258
          ],
          [
           1.3146854639053345,
           5.984977722167969,
           5.521784782409668,
           5.46580171585083,
           6.432417869567871,
           6.695464611053467,
           7.340243339538574,
           6.432809829711914,
           5.92750883102417,
           3.9069623947143555,
           5.443905353546143
          ],
          [
           0.8216779232025146,
           5.500328063964844,
           4.779523849487305,
           3.577155351638794,
           4.853769779205322,
           5.599268913269043,
           6.797595024108887,
           6.167232990264893,
           3.951005458831787,
           4.05061149597168,
           5.290976047515869
          ],
          [
           1.4625346660614014,
           5.281733512878418,
           2.4510793685913086,
           3.9682955741882324,
           4.453084945678711,
           5.971052169799805,
           5.776906967163086,
           7.768061637878418,
           2.9476616382598877,
           3.6321260929107666,
           5.653547286987305
          ],
          [
           2.916285514831543,
           5.461947441101074,
           2.9665164947509766,
           5.005200386047363,
           4.276045322418213,
           4.884432315826416,
           4.052480220794678,
           8.1114501953125,
           3.5659847259521484,
           3.916325330734253,
           5.617311000823975
          ],
          [
           4.8030805587768555,
           6.760499000549316,
           3.5314435958862305,
           7.790510177612305,
           3.440277576446533,
           4.8209428787231445,
           5.63637638092041,
           8.092293739318848,
           4.83992862701416,
           3.3683457374572754,
           7.697821140289307
          ],
          [
           5.74860143661499,
           6.989296913146973,
           4.760846138000488,
           8.108586311340332,
           2.967667579650879,
           4.22337007522583,
           6.1310834884643555,
           7.907596588134766,
           4.9089741706848145,
           2.7012939453125,
           8.880080223083496
          ],
          [
           2.286280632019043,
           4.5003204345703125,
           4.36278772354126,
           6.231278419494629,
           3.0892221927642822,
           4.59412956237793,
           5.676036834716797,
           4.904687404632568,
           3.3208985328674316,
           2.858616828918457,
           3.285952568054199
          ]
         ],
         "zmax": 10.833444475174097,
         "zmin": 0
        }
       ],
       "layout": {
        "font": {
         "size": 14
        },
        "template": {
         "data": {
          "bar": [
           {
            "error_x": {
             "color": "#2a3f5f"
            },
            "error_y": {
             "color": "#2a3f5f"
            },
            "marker": {
             "line": {
              "color": "#E5ECF6",
              "width": 0.5
             },
             "pattern": {
              "fillmode": "overlay",
              "size": 10,
              "solidity": 0.2
             }
            },
            "type": "bar"
           }
          ],
          "barpolar": [
           {
            "marker": {
             "line": {
              "color": "#E5ECF6",
              "width": 0.5
             },
             "pattern": {
              "fillmode": "overlay",
              "size": 10,
              "solidity": 0.2
             }
            },
            "type": "barpolar"
           }
          ],
          "carpet": [
           {
            "aaxis": {
             "endlinecolor": "#2a3f5f",
             "gridcolor": "white",
             "linecolor": "white",
             "minorgridcolor": "white",
             "startlinecolor": "#2a3f5f"
            },
            "baxis": {
             "endlinecolor": "#2a3f5f",
             "gridcolor": "white",
             "linecolor": "white",
             "minorgridcolor": "white",
             "startlinecolor": "#2a3f5f"
            },
            "type": "carpet"
           }
          ],
          "choropleth": [
           {
            "colorbar": {
             "outlinewidth": 0,
             "ticks": ""
            },
            "type": "choropleth"
           }
          ],
          "contour": [
           {
            "colorbar": {
             "outlinewidth": 0,
             "ticks": ""
            },
            "colorscale": [
             [
              0,
              "#0d0887"
             ],
             [
              0.1111111111111111,
              "#46039f"
             ],
             [
              0.2222222222222222,
              "#7201a8"
             ],
             [
              0.3333333333333333,
              "#9c179e"
             ],
             [
              0.4444444444444444,
              "#bd3786"
             ],
             [
              0.5555555555555556,
              "#d8576b"
             ],
             [
              0.6666666666666666,
              "#ed7953"
             ],
             [
              0.7777777777777778,
              "#fb9f3a"
             ],
             [
              0.8888888888888888,
              "#fdca26"
             ],
             [
              1,
              "#f0f921"
             ]
            ],
            "type": "contour"
           }
          ],
          "contourcarpet": [
           {
            "colorbar": {
             "outlinewidth": 0,
             "ticks": ""
            },
            "type": "contourcarpet"
           }
          ],
          "heatmap": [
           {
            "colorbar": {
             "outlinewidth": 0,
             "ticks": ""
            },
            "colorscale": [
             [
              0,
              "#0d0887"
             ],
             [
              0.1111111111111111,
              "#46039f"
             ],
             [
              0.2222222222222222,
              "#7201a8"
             ],
             [
              0.3333333333333333,
              "#9c179e"
             ],
             [
              0.4444444444444444,
              "#bd3786"
             ],
             [
              0.5555555555555556,
              "#d8576b"
             ],
             [
              0.6666666666666666,
              "#ed7953"
             ],
             [
              0.7777777777777778,
              "#fb9f3a"
             ],
             [
              0.8888888888888888,
              "#fdca26"
             ],
             [
              1,
              "#f0f921"
             ]
            ],
            "type": "heatmap"
           }
          ],
          "heatmapgl": [
           {
            "colorbar": {
             "outlinewidth": 0,
             "ticks": ""
            },
            "colorscale": [
             [
              0,
              "#0d0887"
             ],
             [
              0.1111111111111111,
              "#46039f"
             ],
             [
              0.2222222222222222,
              "#7201a8"
             ],
             [
              0.3333333333333333,
              "#9c179e"
             ],
             [
              0.4444444444444444,
              "#bd3786"
             ],
             [
              0.5555555555555556,
              "#d8576b"
             ],
             [
              0.6666666666666666,
              "#ed7953"
             ],
             [
              0.7777777777777778,
              "#fb9f3a"
             ],
             [
              0.8888888888888888,
              "#fdca26"
             ],
             [
              1,
              "#f0f921"
             ]
            ],
            "type": "heatmapgl"
           }
          ],
          "histogram": [
           {
            "marker": {
             "pattern": {
              "fillmode": "overlay",
              "size": 10,
              "solidity": 0.2
             }
            },
            "type": "histogram"
           }
          ],
          "histogram2d": [
           {
            "colorbar": {
             "outlinewidth": 0,
             "ticks": ""
            },
            "colorscale": [
             [
              0,
              "#0d0887"
             ],
             [
              0.1111111111111111,
              "#46039f"
             ],
             [
              0.2222222222222222,
              "#7201a8"
             ],
             [
              0.3333333333333333,
              "#9c179e"
             ],
             [
              0.4444444444444444,
              "#bd3786"
             ],
             [
              0.5555555555555556,
              "#d8576b"
             ],
             [
              0.6666666666666666,
              "#ed7953"
             ],
             [
              0.7777777777777778,
              "#fb9f3a"
             ],
             [
              0.8888888888888888,
              "#fdca26"
             ],
             [
              1,
              "#f0f921"
             ]
            ],
            "type": "histogram2d"
           }
          ],
          "histogram2dcontour": [
           {
            "colorbar": {
             "outlinewidth": 0,
             "ticks": ""
            },
            "colorscale": [
             [
              0,
              "#0d0887"
             ],
             [
              0.1111111111111111,
              "#46039f"
             ],
             [
              0.2222222222222222,
              "#7201a8"
             ],
             [
              0.3333333333333333,
              "#9c179e"
             ],
             [
              0.4444444444444444,
              "#bd3786"
             ],
             [
              0.5555555555555556,
              "#d8576b"
             ],
             [
              0.6666666666666666,
              "#ed7953"
             ],
             [
              0.7777777777777778,
              "#fb9f3a"
             ],
             [
              0.8888888888888888,
              "#fdca26"
             ],
             [
              1,
              "#f0f921"
             ]
            ],
            "type": "histogram2dcontour"
           }
          ],
          "mesh3d": [
           {
            "colorbar": {
             "outlinewidth": 0,
             "ticks": ""
            },
            "type": "mesh3d"
           }
          ],
          "parcoords": [
           {
            "line": {
             "colorbar": {
              "outlinewidth": 0,
              "ticks": ""
             }
            },
            "type": "parcoords"
           }
          ],
          "pie": [
           {
            "automargin": true,
            "type": "pie"
           }
          ],
          "scatter": [
           {
            "fillpattern": {
             "fillmode": "overlay",
             "size": 10,
             "solidity": 0.2
            },
            "type": "scatter"
           }
          ],
          "scatter3d": [
           {
            "line": {
             "colorbar": {
              "outlinewidth": 0,
              "ticks": ""
             }
            },
            "marker": {
             "colorbar": {
              "outlinewidth": 0,
              "ticks": ""
             }
            },
            "type": "scatter3d"
           }
          ],
          "scattercarpet": [
           {
            "marker": {
             "colorbar": {
              "outlinewidth": 0,
              "ticks": ""
             }
            },
            "type": "scattercarpet"
           }
          ],
          "scattergeo": [
           {
            "marker": {
             "colorbar": {
              "outlinewidth": 0,
              "ticks": ""
             }
            },
            "type": "scattergeo"
           }
          ],
          "scattergl": [
           {
            "marker": {
             "colorbar": {
              "outlinewidth": 0,
              "ticks": ""
             }
            },
            "type": "scattergl"
           }
          ],
          "scattermapbox": [
           {
            "marker": {
             "colorbar": {
              "outlinewidth": 0,
              "ticks": ""
             }
            },
            "type": "scattermapbox"
           }
          ],
          "scatterpolar": [
           {
            "marker": {
             "colorbar": {
              "outlinewidth": 0,
              "ticks": ""
             }
            },
            "type": "scatterpolar"
           }
          ],
          "scatterpolargl": [
           {
            "marker": {
             "colorbar": {
              "outlinewidth": 0,
              "ticks": ""
             }
            },
            "type": "scatterpolargl"
           }
          ],
          "scatterternary": [
           {
            "marker": {
             "colorbar": {
              "outlinewidth": 0,
              "ticks": ""
             }
            },
            "type": "scatterternary"
           }
          ],
          "surface": [
           {
            "colorbar": {
             "outlinewidth": 0,
             "ticks": ""
            },
            "colorscale": [
             [
              0,
              "#0d0887"
             ],
             [
              0.1111111111111111,
              "#46039f"
             ],
             [
              0.2222222222222222,
              "#7201a8"
             ],
             [
              0.3333333333333333,
              "#9c179e"
             ],
             [
              0.4444444444444444,
              "#bd3786"
             ],
             [
              0.5555555555555556,
              "#d8576b"
             ],
             [
              0.6666666666666666,
              "#ed7953"
             ],
             [
              0.7777777777777778,
              "#fb9f3a"
             ],
             [
              0.8888888888888888,
              "#fdca26"
             ],
             [
              1,
              "#f0f921"
             ]
            ],
            "type": "surface"
           }
          ],
          "table": [
           {
            "cells": {
             "fill": {
              "color": "#EBF0F8"
             },
             "line": {
              "color": "white"
             }
            },
            "header": {
             "fill": {
              "color": "#C8D4E3"
             },
             "line": {
              "color": "white"
             }
            },
            "type": "table"
           }
          ]
         },
         "layout": {
          "annotationdefaults": {
           "arrowcolor": "#2a3f5f",
           "arrowhead": 0,
           "arrowwidth": 1
          },
          "autotypenumbers": "strict",
          "coloraxis": {
           "colorbar": {
            "outlinewidth": 0,
            "ticks": ""
           }
          },
          "colorscale": {
           "diverging": [
            [
             0,
             "#8e0152"
            ],
            [
             0.1,
             "#c51b7d"
            ],
            [
             0.2,
             "#de77ae"
            ],
            [
             0.3,
             "#f1b6da"
            ],
            [
             0.4,
             "#fde0ef"
            ],
            [
             0.5,
             "#f7f7f7"
            ],
            [
             0.6,
             "#e6f5d0"
            ],
            [
             0.7,
             "#b8e186"
            ],
            [
             0.8,
             "#7fbc41"
            ],
            [
             0.9,
             "#4d9221"
            ],
            [
             1,
             "#276419"
            ]
           ],
           "sequential": [
            [
             0,
             "#0d0887"
            ],
            [
             0.1111111111111111,
             "#46039f"
            ],
            [
             0.2222222222222222,
             "#7201a8"
            ],
            [
             0.3333333333333333,
             "#9c179e"
            ],
            [
             0.4444444444444444,
             "#bd3786"
            ],
            [
             0.5555555555555556,
             "#d8576b"
            ],
            [
             0.6666666666666666,
             "#ed7953"
            ],
            [
             0.7777777777777778,
             "#fb9f3a"
            ],
            [
             0.8888888888888888,
             "#fdca26"
            ],
            [
             1,
             "#f0f921"
            ]
           ],
           "sequentialminus": [
            [
             0,
             "#0d0887"
            ],
            [
             0.1111111111111111,
             "#46039f"
            ],
            [
             0.2222222222222222,
             "#7201a8"
            ],
            [
             0.3333333333333333,
             "#9c179e"
            ],
            [
             0.4444444444444444,
             "#bd3786"
            ],
            [
             0.5555555555555556,
             "#d8576b"
            ],
            [
             0.6666666666666666,
             "#ed7953"
            ],
            [
             0.7777777777777778,
             "#fb9f3a"
            ],
            [
             0.8888888888888888,
             "#fdca26"
            ],
            [
             1,
             "#f0f921"
            ]
           ]
          },
          "colorway": [
           "#636efa",
           "#EF553B",
           "#00cc96",
           "#ab63fa",
           "#FFA15A",
           "#19d3f3",
           "#FF6692",
           "#B6E880",
           "#FF97FF",
           "#FECB52"
          ],
          "font": {
           "color": "#2a3f5f"
          },
          "geo": {
           "bgcolor": "white",
           "lakecolor": "white",
           "landcolor": "#E5ECF6",
           "showlakes": true,
           "showland": true,
           "subunitcolor": "white"
          },
          "hoverlabel": {
           "align": "left"
          },
          "hovermode": "closest",
          "mapbox": {
           "style": "light"
          },
          "paper_bgcolor": "white",
          "plot_bgcolor": "#E5ECF6",
          "polar": {
           "angularaxis": {
            "gridcolor": "white",
            "linecolor": "white",
            "ticks": ""
           },
           "bgcolor": "#E5ECF6",
           "radialaxis": {
            "gridcolor": "white",
            "linecolor": "white",
            "ticks": ""
           }
          },
          "scene": {
           "xaxis": {
            "backgroundcolor": "#E5ECF6",
            "gridcolor": "white",
            "gridwidth": 2,
            "linecolor": "white",
            "showbackground": true,
            "ticks": "",
            "zerolinecolor": "white"
           },
           "yaxis": {
            "backgroundcolor": "#E5ECF6",
            "gridcolor": "white",
            "gridwidth": 2,
            "linecolor": "white",
            "showbackground": true,
            "ticks": "",
            "zerolinecolor": "white"
           },
           "zaxis": {
            "backgroundcolor": "#E5ECF6",
            "gridcolor": "white",
            "gridwidth": 2,
            "linecolor": "white",
            "showbackground": true,
            "ticks": "",
            "zerolinecolor": "white"
           }
          },
          "shapedefaults": {
           "line": {
            "color": "#2a3f5f"
           }
          },
          "ternary": {
           "aaxis": {
            "gridcolor": "white",
            "linecolor": "white",
            "ticks": ""
           },
           "baxis": {
            "gridcolor": "white",
            "linecolor": "white",
            "ticks": ""
           },
           "bgcolor": "#E5ECF6",
           "caxis": {
            "gridcolor": "white",
            "linecolor": "white",
            "ticks": ""
           }
          },
          "title": {
           "x": 0.05
          },
          "xaxis": {
           "automargin": true,
           "gridcolor": "white",
           "linecolor": "white",
           "ticks": "",
           "title": {
            "standoff": 15
           },
           "zerolinecolor": "white",
           "zerolinewidth": 2
          },
          "yaxis": {
           "automargin": true,
           "gridcolor": "white",
           "linecolor": "white",
           "ticks": "",
           "title": {
            "standoff": 15
           },
           "zerolinecolor": "white",
           "zerolinewidth": 2
          }
         }
        },
        "title": {
         "x": 0.5
        },
        "width": 1080,
        "xaxis": {
         "title": {}
        },
        "yaxis": {
         "title": {}
        }
       }
      },
      "text/html": [
       "<div>                            <div id=\"2547a704-a2ca-49ff-ac8b-80c89e3fbce3\" class=\"plotly-graph-div\" style=\"height:525px; width:1080px;\"></div>            <script type=\"text/javascript\">                require([\"plotly\"], function(Plotly) {                    window.PLOTLYENV=window.PLOTLYENV || {};                                    if (document.getElementById(\"2547a704-a2ca-49ff-ac8b-80c89e3fbce3\")) {                    Plotly.newPlot(                        \"2547a704-a2ca-49ff-ac8b-80c89e3fbce3\",                        [{\"colorbar\":{\"title\":{\"side\":\"right\",\"text\":\"entropy (nats)\"}},\"colorscale\":[[0.0,\"rgb(5,48,97)\"],[0.1,\"rgb(33,102,172)\"],[0.2,\"rgb(67,147,195)\"],[0.3,\"rgb(146,197,222)\"],[0.4,\"rgb(209,229,240)\"],[0.5,\"rgb(247,247,247)\"],[0.6,\"rgb(253,219,199)\"],[0.7,\"rgb(244,165,130)\"],[0.8,\"rgb(214,96,77)\"],[0.9,\"rgb(178,24,43)\"],[1.0,\"rgb(103,0,31)\"]],\"customdata\":[[[[\",\",\"7.7493615\"],[\".\",\"4.5556145\"],[\"in\",\"3.9271853\"],[\"the\",\"2.4194689\"],[\"as\",\"2.0694814\"],[\"at\",\"1.884284\"],[\"of\",\"1.8550711\"],[\"is\",\"1.6243541\"],[\"has\",\"1.3571987\"],[\"for\",\"1.2849698\"]],[[\".\",\"13.109486\"],[\",\",\"9.368926\"],[\"and\",\"3.8449998\"],[\"\\u00e2\\u0122\\u013b\",\"2.4440305\"],[\"are\",\"1.6408446\"],[\"\\\\n\",\"1.4480401\"],[\"of\",\"1.4480401\"],[\"for\",\"1.0268143\"],[\".\\\"\",\"0.97216815\"],[\"is\",\"0.80595577\"]],[[\"a\",\"11.743654\"],[\".\",\"5.050883\"],[\"on\",\"4.5988812\"],[\"to\",\"4.354133\"],[\"the\",\"4.320249\"],[\",\",\"4.0269146\"],[\"in\",\"3.90302\"],[\"that\",\"3.6953046\"],[\"\\\\n\",\"2.1055214\"],[\"of\",\"1.7184764\"]],[[\"experience\",\"0.8916911\"],[\"own\",\"0.7993067\"],[\"work\",\"0.6678457\"],[\"time\",\"0.64226097\"],[\"working\",\"0.5120551\"],[\"use\",\"0.48860636\"],[\"law\",\"0.39414293\"],[\"children\",\"0.38955098\"],[\"pool\",\"0.38501257\"],[\"right\",\"0.36738157\"]],[[\"of\",\"21.403027\"],[\"with\",\"12.484275\"],[\".\",\"7.3391256\"],[\"on\",\"5.2450366\"],[\"to\",\"4.2145057\"],[\",\",\"2.6999137\"],[\"in\",\"2.6580553\"],[\"from\",\"2.5165963\"],[\"about\",\"2.2036054\"],[\"that\",\"1.6121922\"]],[[\"the\",\"28.052383\"],[\"a\",\"9.544341\"],[\"an\",\"2.0162935\"],[\"and\",\"1.7655256\"],[\"it\",\"1.570291\"],[\"such\",\"1.4522818\"],[\",\",\"1.3749928\"],[\"not\",\"1.3536756\"],[\".\",\"1.2422025\"],[\"to\",\"1.1853179\"]],[[\"new\",\"1.2509344\"],[\"few\",\"0.85306305\"],[\"little\",\"0.7072141\"],[\"large\",\"0.69624984\"],[\"lot\",\"0.69083154\"],[\"small\",\"0.5054232\"],[\"time\",\"0.46380237\"],[\"good\",\"0.45661175\"],[\"more\",\"0.4530584\"],[\"great\",\"0.44603437\"]],[[\"to\",\"2.7122352\"],[\"gers\",\"2.0313702\"],[\".\",\"1.9998769\"],[\"of\",\"1.7648852\"],[\",\",\"1.3218379\"],[\"\\u0140\",\"1.2129867\"],[\"from\",\"0.5774682\"],[\"in\",\"0.5424811\"],[\"during\",\"0.5340708\"],[\"ol\",\"0.5056481\"]],[[\",\",\"1.7371668\"],[\".\",\"1.5817083\"],[\"of\",\"1.4628413\"],[\"model\",\"1.0870912\"],[\"ibility\",\"0.9082987\"],[\"or\",\"0.83350176\"],[\"in\",\"0.69099724\"],[\")\",\"0.6145857\"],[\"\\\\n\",\"0.517533\"],[\"is\",\"0.44964048\"]],[[\".\",\"12.85577\"],[\",\",\"11.797116\"],[\"of\",\"8.904931\"],[\"and\",\"7.04438\"],[\"in\",\"6.5149865\"],[\"from\",\"4.91777\"],[\"is\",\"4.013767\"],[\"on\",\"3.7705846\"],[\"to\",\"3.3016343\"],[\"for\",\"2.2869754\"]],[[\"\\\\n\",\"27.57645\"],[\"    \",\"3.5059524\"],[\"The\",\"2.4667456\"],[\"  \",\"2.228519\"],[\"        \",\"2.013299\"],[\"\\u0109\",\"1.4729612\"],[\"\\\"\",\"1.3203537\"],[\"<\",\"1.1118494\"],[\"            \",\"1.0444858\"],[\"In\",\"0.893396\"]]],[[[\"ational\",\"28.096214\"],[\"ative\",\"10.417087\"],[\"into\",\"9.121506\"],[\"ers\",\"4.8443956\"],[\"of\",\"0.52270406\"],[\"able\",\"0.5206662\"],[\"the\",\"0.49682316\"],[\"with\",\"0.46672216\"],[\"-\",\"0.40391436\"],[\"in\",\"0.4007711\"]],[[\"(\",\"8.937941\"],[\"are\",\"4.821657\"],[\",\",\"1.978804\"],[\"and\",\"1.8589145\"],[\"\\u00e2\\u0122\\u013e\",\"1.8444482\"],[\"\\u00e2\\u0122\\u013b\",\"1.7326987\"],[\":\",\"1.6793894\"],[\".\",\"1.3922626\"],[\"\\\\[[@\",\"1.3600109\"],[\"or\",\"1.2480161\"]],[[\"up\",\"9.261992\"],[\"up\",\"7.44222\"],[\"a\",\"6.6711626\"],[\"quality\",\"1.941419\"],[\"an\",\"1.6999635\"],[\"the\",\"1.6736077\"],[\"-\",\"1.1502528\"],[\"and\",\"1.0721534\"],[\"in\",\"0.9993569\"],[\"their\",\"0.8415429\"]],[[\"own\",\"45.68656\"],[\"lives\",\"4.6671762\"],[\"way\",\"2.1704383\"],[\"respective\",\"1.7169578\"],[\"relationship\",\"0.6991545\"],[\"game\",\"0.38310507\"],[\"life\",\"0.3655614\"],[\"first\",\"0.3655614\"],[\"homes\",\"0.34882113\"],[\"ability\",\"0.33808902\"]],[[\"for\",\"11.850302\"],[\".\",\"10.457855\"],[\"of\",\"10.295721\"],[\",\",\"8.272844\"],[\"that\",\"4.825507\"],[\"and\",\"3.6710522\"],[\"from\",\"3.4756827\"],[\"on\",\"3.091336\"],[\"in\",\"2.603166\"],[\"are\",\"2.0432484\"]],[[\"the\",\"24.122293\"],[\"a\",\"15.574522\"],[\"an\",\"3.9378562\"],[\"to\",\"2.4071631\"],[\"many\",\"1.3823175\"],[\"its\",\"1.2009783\"],[\"it\",\"1.043428\"],[\"some\",\"0.9575034\"],[\"time\",\"0.8062987\"],[\"use\",\"0.63287103\"]],[[\"series\",\"3.8978539\"],[\"single\",\"2.7639923\"],[\"limited\",\"2.0540247\"],[\"different\",\"1.3158573\"],[\"number\",\"1.0328282\"],[\"large\",\"0.8299008\"],[\"variety\",\"0.738129\"],[\"pair\",\"0.5748555\"],[\"specific\",\"0.54426223\"],[\"group\",\"0.53165436\"]],[[\"space\",\"10.9980955\"],[\"and\",\"3.7127938\"],[\"period\",\"2.2873862\"],[\"variable\",\"1.8094712\"],[\"in\",\"1.7537998\"],[\".\",\"1.7537998\"],[\"image\",\"0.95352435\"],[\"function\",\"0.7782439\"],[\"demand\",\"0.7661783\"],[\"of\",\"0.7602158\"]],[[\"process\",\"24.03237\"],[\"processes\",\"5.037458\"],[\"solution\",\"2.3981895\"],[\"method\",\"1.942113\"],[\"technique\",\"1.0075548\"],[\"scheme\",\"0.80329263\"],[\"application\",\"0.6711762\"],[\"solutions\",\"0.64044076\"],[\"methods\",\"0.5146086\"],[\"approach\",\"0.48532215\"]],[[\".\",\"18.659655\"],[\"that\",\"15.469398\"],[\",\",\"7.962962\"],[\"in\",\"6.9726033\"],[\"of\",\"6.250201\"],[\"and\",\"3.850637\"],[\"is\",\"3.7614372\"],[\"(\",\"2.9755418\"],[\"for\",\"2.246057\"],[\"with\",\"1.9667132\"]],[[\"\\\\n\",\"12.812096\"],[\"the\",\"3.139739\"],[\"a\",\"1.6545264\"],[\"of\",\"0.8995503\"],[\"-\",\"0.7634384\"],[\"in\",\"0.7457534\"],[\"it\",\"0.6632868\"],[\"is\",\"0.6378767\"],[\"and\",\"0.578529\"],[\"to\",\"0.5185901\"]]],[[[\"ers\",\"28.17415\"],[\"ative\",\"25.058607\"],[\"ational\",\"18.333267\"],[\"able\",\"0.8055074\"],[\"-\",\"0.6080289\"],[\"(\",\"0.2974894\"],[\"ability\",\"0.29287726\"],[\"of\",\"0.2708672\"],[\"and\",\"0.2447081\"],[\"into\",\"0.24185719\"]],[[\"and\",\"4.4208603\"],[\",\",\"3.389591\"],[\"are\",\"3.363213\"],[\"(\",\"3.184226\"],[\"is\",\"2.40358\"],[\".\",\"2.3663158\"],[\":\",\"2.1884844\"],[\"-\",\"1.9013882\"],[\"the\",\"1.7177612\"],[\"in\",\"1.4692789\"]],[[\"up\",\"16.602633\"],[\"a\",\"15.354925\"],[\"-\",\"3.5626287\"],[\"in\",\"3.0952656\"],[\"the\",\"2.907733\"],[\"on\",\"2.8626525\"],[\"\\\\n\",\"2.6475208\"],[\"quality\",\"2.0943613\"],[\"up\",\"1.8773735\"],[\"and\",\"1.7636292\"]],[[\"own\",\"84.49992\"],[\"life\",\"1.014987\"],[\"way\",\"0.62531537\"],[\"respective\",\"0.47944593\"],[\"lives\",\"0.35629395\"],[\"unique\",\"0.20143034\"],[\"best\",\"0.12507094\"],[\"new\",\"0.122173674\"],[\"a\",\"0.10951578\"],[\"work\",\"0.10951578\"]],[[\",\",\"8.346255\"],[\"and\",\"6.058732\"],[\".\",\"3.761952\"],[\"for\",\"3.7326765\"],[\"that\",\"3.2940753\"],[\"of\",\"2.5060003\"],[\"to\",\"2.5060003\"],[\"\\\\n\",\"1.7223468\"],[\"are\",\"1.5439017\"],[\":\",\"1.3205692\"]],[[\"a\",\"31.263319\"],[\"the\",\"6.7611666\"],[\"to\",\"4.869886\"],[\"\\\\n\",\"2.9079416\"],[\"an\",\"2.4487321\"],[\"three\",\"0.72384405\"],[\"is\",\"0.48786792\"],[\"$\",\"0.4512041\"],[\"direct\",\"0.39508748\"],[\":\",\"0.36826202\"]],[[\"series\",\"23.972555\"],[\"single\",\"5.1844287\"],[\"combination\",\"2.6273406\"],[\"mechanism\",\"2.282673\"],[\"system\",\"1.7639124\"],[\"variety\",\"1.1935229\"],[\"process\",\"1.0615413\"],[\"network\",\"0.9441543\"],[\"complex\",\"0.9295167\"],[\"sequence\",\"0.8529724\"]],[[\"space\",\"27.49877\"],[\"variable\",\"2.27494\"],[\"function\",\"1.8423027\"],[\".\",\"1.0662429\"],[\"and\",\"0.9861136\"],[\"image\",\"0.9120059\"],[\",\",\"0.89087933\"],[\"to\",\"0.8271535\"],[\"period\",\"0.8271535\"],[\"spaces\",\"0.6672378\"]],[[\"process\",\"35.986565\"],[\"processes\",\"7.9051986\"],[\"sequence\",\"5.103979\"],[\"method\",\"1.9677594\"],[\"scheme\",\"1.5445122\"],[\"technique\",\"0.997212\"],[\"methods\",\"0.8012823\"],[\"\\\\n\",\"0.7645889\"],[\"solution\",\"0.7182648\"],[\"learning\",\"0.54429674\"]],[[\".\",\"24.976202\"],[\",\",\"10.658536\"],[\"that\",\"8.631545\"],[\"of\",\"5.3594484\"],[\"\\\\n\",\"5.1140213\"],[\"to\",\"3.6263843\"],[\"which\",\"3.5981636\"],[\"is\",\"3.3277576\"],[\"in\",\"1.7264177\"],[\"(\",\"1.6473594\"]],[[\"\\\\n\",\"32.57\"],[\".\",\"2.1482246\"],[\"-\",\"1.621565\"],[\",\",\"0.9096155\"],[\"\\\"\",\"0.8217691\"],[\":\",\"0.79648596\"],[\"_\",\"0.79338074\"],[\"1\",\"0.73662907\"],[\")\",\"0.73375726\"],[\"is\",\"0.6866138\"]]],[[[\"ers\",\"61.128735\"],[\"ative\",\"29.32989\"],[\"ational\",\"4.462882\"],[\"able\",\"0.65818596\"],[\"ants\",\"0.29666767\"],[\"ability\",\"0.16512042\"],[\"ant\",\"0.11085659\"],[\"ylase\",\"0.08047327\"],[\"-\",\"0.04824085\"],[\",\",\"0.043581977\"]],[[\"and\",\"6.627056\"],[\",\",\"6.0340037\"],[\"of\",\"4.449195\"],[\"\\\\[[@\",\"4.3802166\"],[\"(\",\"3.8655276\"],[\"is\",\"3.7465978\"],[\"\\\\n\",\"3.659808\"],[\"are\",\"3.5750284\"],[\"the\",\"2.219786\"],[\"can\",\"1.6887244\"]],[[\"up\",\"18.6159\"],[\"a\",\"12.596147\"],[\"up\",\"4.894335\"],[\"the\",\"4.856247\"],[\"and\",\"3.111029\"],[\"in\",\"2.1215372\"],[\"an\",\"1.8005252\"],[\"out\",\"1.2471874\"],[\"\\\\n\",\"1.0100031\"],[\"quality\",\"0.877506\"]],[[\"own\",\"45.112144\"],[\"way\",\"0.49145758\"],[\"life\",\"0.45988172\"],[\"largest\",\"0.36522028\"],[\"natural\",\"0.29576436\"],[\"respective\",\"0.2923186\"],[\"best\",\"0.2923186\"],[\"most\",\"0.27784494\"],[\"lives\",\"0.27035055\"],[\"full\",\"0.2471204\"]],[[\"of\",\"12.759902\"],[\"to\",\"4.996849\"],[\",\",\"4.4097037\"],[\"and\",\"3.3286192\"],[\"that\",\"3.2011018\"],[\".\",\"2.937496\"],[\"are\",\"2.3237505\"],[\"for\",\"1.9567943\"],[\"\\\\n\",\"1.3821652\"],[\"is\",\"1.2438141\"]],[[\"a\",\"8.163669\"],[\"the\",\"8.10014\"],[\"to\",\"6.9284163\"],[\"an\",\"5.2298427\"],[\"\\\\n\",\"3.9476924\"],[\"its\",\"1.0750314\"],[\"$\",\"0.76829034\"],[\",\",\"0.75343025\"],[\"in\",\"0.64193064\"],[\"their\",\"0.59137416\"]],[[\"series\",\"8.672936\"],[\"mechanism\",\"7.958734\"],[\"process\",\"2.2100606\"],[\"network\",\"1.16008\"],[\"common\",\"1.0940596\"],[\"single\",\"1.0358348\"],[\"natural\",\"0.9034712\"],[\"system\",\"0.87226033\"],[\"standard\",\"0.8355742\"],[\"variety\",\"0.76377666\"]],[[\"space\",\"22.883749\"],[\"variable\",\"6.159076\"],[\"image\",\"3.7649677\"],[\"function\",\"1.5331153\"],[\"variables\",\"1.3424407\"],[\"to\",\"0.8838397\"],[\",\",\"0.8838397\"],[\".\",\"0.8533072\"],[\"spaces\",\"0.6883351\"],[\"representation\",\"0.6776635\"]],[[\"process\",\"32.50143\"],[\"processes\",\"2.6888041\"],[\"sequence\",\"2.3178942\"],[\"algorithm\",\"1.3520157\"],[\".\",\"1.0447568\"],[\"\\\\n\",\"0.91125304\"],[\"cycle\",\"0.6692963\"],[\"learning\",\"0.6046588\"],[\"method\",\"0.5614067\"],[\"on\",\"0.5273928\"]],[[\",\",\"22.773148\"],[\".\",\"16.531532\"],[\"that\",\"8.443481\"],[\"to\",\"5.9873247\"],[\"of\",\"5.409097\"],[\"\\\\n\",\"3.1550984\"],[\"is\",\"2.3815932\"],[\"in\",\"1.8118206\"],[\"and\",\"1.7288512\"],[\"(\",\"1.4672571\"]],[[\"\\\\n\",\"37.930027\"],[\".\",\"5.093323\"],[\",\",\"2.7262597\"],[\")\",\"2.2251081\"],[\":\",\"1.4422607\"],[\"is\",\"1.1634248\"],[\"and\",\"1.0551805\"],[\"(\",\"0.84786135\"],[\"\\\"\",\"0.84126323\"],[\".\\\"\",\"0.6106916\"]]],[[[\"ers\",\"79.00949\"],[\"ative\",\"15.079224\"],[\"ational\",\"3.2611113\"],[\"ants\",\"0.55356854\"],[\"able\",\"0.28495267\"],[\"ability\",\"0.18397927\"],[\"-\",\"0.16751504\"],[\"ant\",\"0.16109763\"],[\"and\",\"0.05655059\"],[\"of\",\"0.030269349\"]],[[\"and\",\"13.266167\"],[\"are\",\"12.365428\"],[\"of\",\"5.750458\"],[\",\",\"4.6568623\"],[\"is\",\"2.9600818\"],[\"that\",\"2.512189\"],[\"(\",\"2.0186005\"],[\".\",\"1.6093686\"],[\"\\u00e2\\u0122\\u013b\",\"1.5968446\"],[\"the\",\"1.5356703\"]],[[\"up\",\"29.675842\"],[\"-\",\"11.621227\"],[\"up\",\"6.6215763\"],[\"in\",\"4.4803824\"],[\"on\",\"2.416985\"],[\"the\",\"2.2006898\"],[\"a\",\"1.8971132\"],[\"and\",\"1.8102375\"],[\"is\",\"0.8001564\"],[\".\",\"0.78162074\"]],[[\"own\",\"66.52377\"],[\"first\",\"0.47342902\"],[\"way\",\"0.43274918\"],[\"fly\",\"0.18685158\"],[\"'\",\"0.15430148\"],[\"owns\",\"0.13670354\"],[\"decision\",\"0.1289237\"],[\"strength\",\"0.12446998\"],[\"molecular\",\"0.12064044\"],[\"\\\\n\",\"0.1151159\"]],[[\"of\",\"15.990175\"],[\"to\",\"7.8541107\"],[\"and\",\"6.2618427\"],[\"in\",\"4.876728\"],[\",\",\"4.838777\"],[\"on\",\"4.3714705\"],[\"for\",\"3.3256397\"],[\"from\",\"3.2486014\"],[\"(\",\"2.5698552\"],[\"\\\\n\",\"2.0649366\"]],[[\"a\",\"27.255096\"],[\"an\",\"6.731534\"],[\"the\",\"4.2788234\"],[\"to\",\"2.0370255\"],[\"multiple\",\"2.021173\"],[\"two\",\"2.005444\"],[\"$\",\"1.0776381\"],[\",\",\"1.0202874\"],[\"\\\\n\",\"0.93261814\"],[\"their\",\"0.6212576\"]],[[\"series\",\"8.156022\"],[\"mechanism\",\"6.156488\"],[\"network\",\"4.101105\"],[\"process\",\"3.3734772\"],[\"two\",\"1.6376922\"],[\"single\",\"1.5384693\"],[\"distinct\",\"1.1612976\"],[\"unique\",\"1.0866848\"],[\"learning\",\"0.9933104\"],[\"combination\",\"0.9627495\"]],[[\"space\",\"19.210165\"],[\"variable\",\"11.031469\"],[\"representation\",\"4.026669\"],[\"model\",\"1.292038\"],[\"function\",\"1.1491624\"],[\"image\",\"1.0880051\"],[\"-\",\"1.071137\"],[\"power\",\"0.9269918\"],[\"variables\",\"0.84733915\"],[\"to\",\"0.84403574\"]],[[\"process\",\"50.657738\"],[\"processes\",\"5.595524\"],[\"learning\",\"4.711903\"],[\"sequence\",\"1.8166009\"],[\"model\",\"1.035068\"],[\",\",\"0.7813103\"],[\".\",\"0.68681586\"],[\"\\\\n\",\"0.63520086\"],[\"algorithm\",\"0.6180673\"],[\"deep\",\"0.5649593\"]],[[\".\",\"18.745163\"],[\",\",\"13.9302225\"],[\"of\",\"10.352063\"],[\"that\",\"5.898428\"],[\"model\",\"4.3492274\"],[\"to\",\"3.9600172\"],[\"\\\\n\",\"3.4405224\"],[\"which\",\"2.51714\"],[\"like\",\"2.2213683\"],[\"is\",\"1.9603505\"]],[[\"\\\\n\",\"43.07417\"],[\".\",\"6.2540917\"],[\",\",\"2.2212715\"],[\":\",\"1.0699492\"],[\"and\",\"0.9442268\"],[\")\",\"0.76765096\"],[\"to\",\"0.74403286\"],[\"*\",\"0.55725485\"],[\"is\",\"0.51941866\"],[\"(\",\"0.4860463\"]]],[[[\"ative\",\"47.61946\"],[\"ers\",\"28.657898\"],[\"ational\",\"18.941715\"],[\"ants\",\"0.98061943\"],[\"able\",\"0.4056018\"],[\"ant\",\"0.31836048\"],[\"ability\",\"0.25580984\"],[\"-\",\"0.102953576\"],[\"ations\",\"0.06518614\"],[\".\",\"0.05404121\"]],[[\"and\",\"11.001892\"],[\",\",\"9.484223\"],[\"are\",\"7.6805577\"],[\"(\",\"7.1033554\"],[\"of\",\"4.274874\"],[\"is\",\"2.4167948\"],[\".\",\"2.3242087\"],[\"have\",\"2.2005167\"],[\"can\",\"1.988001\"],[\"that\",\"1.7407523\"]],[[\"up\",\"60.117805\"],[\"up\",\"10.694649\"],[\"-\",\"4.254037\"],[\"in\",\"2.8338\"],[\"a\",\"2.057118\"],[\"and\",\"1.9629158\"],[\"on\",\"1.3075835\"],[\"their\",\"1.0589134\"],[\"the\",\"0.8055788\"],[\",\",\"0.48860827\"]],[[\"own\",\"62.08461\"],[\"high\",\"0.42824298\"],[\"\\\\n\",\"0.37061343\"],[\"internal\",\"0.35641545\"],[\"strength\",\"0.26798764\"],[\"first\",\"0.23835313\"],[\"core\",\"0.2161769\"],[\"way\",\"0.2144946\"],[\"molecular\",\"0.21282537\"],[\"in\",\"0.17851824\"]],[[\"to\",\"11.341069\"],[\"in\",\"10.008457\"],[\"on\",\"8.494067\"],[\"from\",\"7.6140327\"],[\"for\",\"6.0704365\"],[\"of\",\"6.0231957\"],[\"and\",\"4.654365\"],[\",\",\"2.6108623\"],[\"based\",\"2.5108418\"],[\"into\",\"1.9101477\"]],[[\"a\",\"27.517054\"],[\"an\",\"4.857049\"],[\"the\",\"3.8723767\"],[\"their\",\"1.1491526\"],[\"multiple\",\"0.84073794\"],[\"mechanisms\",\"0.8341952\"],[\"two\",\"0.7928913\"],[\"interactions\",\"0.77755547\"],[\"processes\",\"0.7191212\"],[\"learning\",\"0.65221465\"]],[[\"process\",\"22.248241\"],[\"mechanism\",\"11.723999\"],[\"combination\",\"4.627193\"],[\"series\",\"3.332842\"],[\"mixture\",\"1.0569506\"],[\"network\",\"0.90053314\"],[\"novel\",\"0.8900416\"],[\"processes\",\"0.8796723\"],[\"mechanisms\",\"0.86603415\"],[\"distinct\",\"0.8167481\"]],[[\"space\",\"6.361478\"],[\"variable\",\"6.262852\"],[\"representation\",\"5.315213\"],[\"-\",\"1.8440781\"],[\"representations\",\"1.050724\"],[\"model\",\"0.9057807\"],[\",\",\"0.8744901\"],[\"learning\",\"0.85423255\"],[\"process\",\"0.61288184\"],[\"Represent\",\"0.5986845\"]],[[\"process\",\"65.063866\"],[\"processes\",\"7.59076\"],[\"learning\",\"1.9342976\"],[\"sequence\",\"0.854993\"],[\"procedure\",\"0.498713\"],[\"mechanism\",\"0.38237652\"],[\"\\\\n\",\"0.3620268\"],[\"cycle\",\"0.3441016\"],[\"algorithm\",\"0.3400927\"],[\"model\",\"0.3133081\"]],[[\".\",\"19.992954\"],[\"that\",\"15.209837\"],[\",\",\"15.209837\"],[\"of\",\"5.3391547\"],[\"in\",\"3.669544\"],[\"to\",\"3.3937733\"],[\"with\",\"2.9485612\"],[\"which\",\"2.6430733\"],[\"and\",\"1.8889192\"],[\"(\",\"1.7744756\"]],[[\"\\\\n\",\"38.929504\"],[\".\",\"8.160067\"],[\",\",\"2.4310298\"],[\":\",\"1.1847895\"],[\"and\",\"1.0787631\"],[\"to\",\"0.6267838\"],[\")\",\"0.5257472\"],[\"is\",\"0.4694394\"],[\";\",\"0.4676092\"],[\"-\",\"0.43416047\"]]],[[[\"ative\",\"28.330666\"],[\"ers\",\"27.033312\"],[\"ational\",\"21.892242\"],[\"ants\",\"2.399343\"],[\"ant\",\"1.9891251\"],[\"able\",\"1.537077\"],[\"-\",\"0.88612366\"],[\"ability\",\"0.50885797\"],[\".\",\"0.49513245\"],[\",\",\"0.40728483\"]],[[\"are\",\"10.757473\"],[\"(\",\"7.7483177\"],[\"and\",\"6.1294236\"],[\"of\",\"6.0343957\"],[\",\",\"5.940841\"],[\"can\",\"4.5907264\"],[\"have\",\"2.895335\"],[\"in\",\"2.6055195\"],[\"-\",\"2.5155106\"],[\"may\",\"2.254889\"]],[[\"up\",\"57.317543\"],[\"up\",\"13.8285\"],[\"in\",\"2.1373022\"],[\"a\",\"1.7857827\"],[\"on\",\"1.4461709\"],[\"-\",\"1.217798\"],[\"the\",\"0.87032104\"],[\"and\",\"0.84684557\"],[\"in\",\"0.419219\"],[\"an\",\"0.3599804\"]],[[\"own\",\"52.718674\"],[\"power\",\"0.41854623\"],[\"high\",\"0.4088506\"],[\"\\\\n\",\"0.40094274\"],[\"Own\",\"0.34563422\"],[\"strength\",\"0.3171718\"],[\"internal\",\"0.31347665\"],[\"core\",\"0.31103712\"],[\"in\",\"0.1864557\"],[\"current\",\"0.17379582\"]],[[\"based\",\"13.718406\"],[\"of\",\"12.887248\"],[\"on\",\"8.064634\"],[\"to\",\"7.939604\"],[\"from\",\"6.5821624\"],[\"for\",\"4.4537144\"],[\"in\",\"3.4957602\"],[\"and\",\"2.966813\"],[\",\",\"2.6802924\"],[\"using\",\"2.007446\"]],[[\"a\",\"38.393547\"],[\"an\",\"5.7514486\"],[\"the\",\"4.4792333\"],[\"two\",\"4.04665\"],[\"learning\",\"3.2262704\"],[\"learned\",\"2.0110774\"],[\"both\",\"0.6869124\"],[\"three\",\"0.6815669\"],[\"*\",\"0.58297503\"],[\"neural\",\"0.46478823\"]],[[\"process\",\"49.662025\"],[\"mechanism\",\"3.7997231\"],[\"learning\",\"2.9361985\"],[\"combination\",\"2.2867138\"],[\"neural\",\"1.4996631\"],[\"sequence\",\"1.3869617\"],[\"series\",\"1.2978503\"],[\"learned\",\"1.2827299\"],[\"processes\",\"1.17251\"],[\"two\",\"0.99509627\"]],[[\"learning\",\"6.876115\"],[\"neural\",\"2.4231906\"],[\"space\",\"2.4231906\"],[\"representation\",\"2.3303595\"],[\"-\",\"2.138458\"],[\",\",\"1.9094281\"],[\"variable\",\"1.7453585\"],[\"*\",\"0.99836767\"],[\"process\",\"0.7332802\"],[\"state\",\"0.71909714\"]],[[\"process\",\"60.74147\"],[\"learning\",\"3.793121\"],[\"processes\",\"3.6194217\"],[\"deep\",\"0.6591454\"],[\",\",\"0.5317112\"],[\"model\",\"0.49367714\"],[\"procedure\",\"0.4898353\"],[\"\\\\n\",\"0.41409713\"],[\"algorithm\",\"0.3874916\"],[\"and\",\"0.34870473\"]],[[\".\",\"20.069132\"],[\",\",\"15.5082245\"],[\"that\",\"14.79805\"],[\"of\",\"6.9901032\"],[\"which\",\"2.396916\"],[\"in\",\"2.3413913\"],[\"with\",\"2.182417\"],[\"to\",\"2.0501907\"],[\"similar\",\"1.712998\"],[\"(\",\"1.6864406\"]],[[\"\\\\n\",\"38.2739\"],[\".\",\"9.906645\"],[\",\",\"3.0689352\"],[\"-\",\"0.9963375\"],[\"and\",\"0.89311105\"],[\":\",\"0.8100165\"],[\"to\",\"0.5610821\"],[\"of\",\"0.35249043\"],[\";\",\"0.3350374\"],[\"*\",\"0.3147385\"]]],[[[\"ational\",\"23.301624\"],[\"ative\",\"17.452108\"],[\"ers\",\"14.355715\"],[\"ants\",\"5.0393295\"],[\"ant\",\"2.2892187\"],[\"-\",\"1.4838158\"],[\"able\",\"0.80989414\"],[\"ations\",\"0.64823115\"],[\"ability\",\"0.58792007\"],[\"in\",\"0.56319296\"]],[[\"(\",\"5.724096\"],[\",\",\"5.1712894\"],[\"can\",\"4.6536574\"],[\"in\",\"3.8731172\"],[\"are\",\"3.7833967\"],[\"of\",\"3.596068\"],[\"and\",\"3.4990697\"],[\"\\\\n\",\"2.5901504\"],[\"have\",\"2.4427443\"],[\"may\",\"2.1140192\"]],[[\"up\",\"55.834167\"],[\"up\",\"5.2751703\"],[\"in\",\"4.5120926\"],[\"a\",\"2.286617\"],[\"and\",\"1.459151\"],[\"-\",\"1.2876962\"],[\"the\",\"1.2876962\"],[\"on\",\"1.2335374\"],[\"their\",\"0.71951604\"],[\"by\",\"0.6525727\"]],[[\"own\",\"21.486187\"],[\"\\\\n\",\"0.97781646\"],[\"high\",\"0.9185735\"],[\"internal\",\"0.7735165\"],[\"core\",\"0.51728976\"],[\"power\",\"0.5053068\"],[\"magnetic\",\"0.45295405\"],[\"strength\",\"0.35971853\"],[\"initial\",\"0.34324586\"],[\"highly\",\"0.32880938\"]],[[\"based\",\"20.225412\"],[\"by\",\"17.165083\"],[\"of\",\"11.614476\"],[\"using\",\"9.934389\"],[\"from\",\"5.443596\"],[\"on\",\"5.1538925\"],[\"in\",\"3.7706685\"],[\"via\",\"1.7951075\"],[\"through\",\"1.5718486\"],[\",\",\"1.3444732\"]],[[\"a\",\"37.54833\"],[\"learning\",\"6.2261233\"],[\"an\",\"5.202121\"],[\"two\",\"4.88694\"],[\"the\",\"4.3806252\"],[\"learned\",\"1.8404385\"],[\"three\",\"0.6116723\"],[\"local\",\"0.52935827\"],[\"neural\",\"0.45455626\"],[\"\\\\n\",\"0.42868736\"]],[[\"process\",\"17.36953\"],[\"learning\",\"13.111212\"],[\"combination\",\"4.8993015\"],[\"learned\",\"4.3917055\"],[\"neural\",\"3.1386104\"],[\"series\",\"2.1740518\"],[\"two\",\"1.5967958\"],[\"mechanism\",\"1.5356233\"],[\"sequence\",\"1.2243056\"],[\"learn\",\"1.0269494\"]],[[\"learning\",\"6.363894\"],[\"neural\",\"4.1898785\"],[\"-\",\"2.8019848\"],[\"representation\",\"2.652866\"],[\",\",\"2.0103257\"],[\"representations\",\"0.9759346\"],[\"variable\",\"0.8851342\"],[\"space\",\"0.878246\"],[\"learned\",\"0.82181925\"],[\"*\",\"0.81542385\"]],[[\"process\",\"38.89229\"],[\"learning\",\"13.976234\"],[\"processes\",\"2.4960315\"],[\"neural\",\"1.4166517\"],[\"procedure\",\"0.78234935\"],[\"deep\",\"0.720734\"],[\"learned\",\"0.54616785\"],[\"learn\",\"0.52524453\"],[\"model\",\"0.51508534\"],[\"Learning\",\"0.48011237\"]],[[\".\",\"22.115746\"],[\"that\",\"21.102991\"],[\"of\",\"12.900001\"],[\",\",\"12.309266\"],[\"in\",\"2.8337538\"],[\"which\",\"2.1558063\"],[\"similar\",\"1.4586911\"],[\"(\",\"1.4360762\"],[\"and\",\"1.1629701\"],[\"based\",\"0.8744334\"]],[[\"\\\\n\",\"22.56804\"],[\".\",\"6.671099\"],[\",\",\"2.7918122\"],[\"-\",\"0.7692251\"],[\"and\",\"0.7114169\"],[\"to\",\"0.4365825\"],[\":\",\"0.4069397\"],[\"in\",\"0.36335623\"],[\"the\",\"0.28856343\"],[\"of\",\"0.26069534\"]]],[[[\"ative\",\"18.840889\"],[\"ational\",\"14.6733\"],[\"ants\",\"10.56878\"],[\"ers\",\"4.992338\"],[\"ant\",\"3.0998132\"],[\"able\",\"1.0670903\"],[\"-\",\"0.9602773\"],[\"ability\",\"0.9602773\"],[\"a\",\"0.6943689\"],[\"the\",\"0.6943689\"]],[[\",\",\"5.6425247\"],[\"in\",\"4.9023104\"],[\"(\",\"4.533896\"],[\"are\",\"4.3944025\"],[\"of\",\"3.729481\"],[\"can\",\"3.4762583\"],[\"and\",\"2.7285469\"],[\"may\",\"2.5632324\"],[\"have\",\"2.2182927\"],[\"\\\\n\",\"2.0596151\"]],[[\"up\",\"39.018448\"],[\"up\",\"7.6831875\"],[\"in\",\"4.9995456\"],[\"a\",\"3.8332849\"],[\"-\",\"2.8709977\"],[\"and\",\"1.5855157\"],[\"the\",\"1.5548491\"],[\"on\",\"0.90339965\"],[\"during\",\"0.65579784\"],[\"\\\\n\",\"0.5479396\"]],[[\"own\",\"15.372473\"],[\"magnetic\",\"1.9929376\"],[\"\\\\n\",\"1.751904\"],[\"internal\",\"0.88091266\"],[\"power\",\"0.6271055\"],[\"initial\",\"0.5058656\"],[\"strength\",\"0.43268976\"],[\"high\",\"0.41287547\"],[\"energy\",\"0.30922943\"],[\"reputation\",\"0.30443525\"]],[[\"of\",\"30.727324\"],[\"by\",\"15.81707\"],[\"from\",\"9.518881\"],[\"based\",\"7.8914294\"],[\"using\",\"7.769083\"],[\"on\",\"3.4206812\"],[\"in\",\"3.289637\"],[\"about\",\"3.090328\"],[\"for\",\"2.1743174\"],[\"\\\\n\",\"1.1018904\"]],[[\"a\",\"45.810577\"],[\"two\",\"6.1036687\"],[\"the\",\"5.0207415\"],[\"an\",\"3.7020624\"],[\"learning\",\"1.269442\"],[\"feed\",\"1.0483013\"],[\"three\",\"0.74045885\"],[\"\\\\n\",\"0.525064\"],[\"top\",\"0.46156082\"],[\"local\",\"0.430222\"]],[[\"process\",\"14.333804\"],[\"combination\",\"6.877433\"],[\"series\",\"3.7391956\"],[\"sequence\",\"3.223388\"],[\"two\",\"3.0518425\"],[\"learning\",\"2.1139495\"],[\"feed\",\"1.6592581\"],[\"mechanism\",\"1.6019381\"],[\"learned\",\"1.233056\"],[\"mixture\",\"0.95656097\"]],[[\",\",\"4.3631086\"],[\"representation\",\"3.7759557\"],[\"variable\",\"3.2550771\"],[\"-\",\"2.372181\"],[\"learning\",\"1.4961156\"],[\"layer\",\"1.4054704\"],[\"space\",\"1.1249244\"],[\"neural\",\"1.1205387\"],[\"\\\\n\",\"1.0526488\"],[\"(\",\"0.8491374\"]],[[\"process\",\"41.573463\"],[\"learning\",\"6.036199\"],[\"procedure\",\"2.6164985\"],[\"deep\",\"1.2215468\"],[\"\\\\n\",\"0.9513416\"],[\"loop\",\"0.94393826\"],[\"mechanism\",\"0.8201079\"],[\"neural\",\"0.75551873\"],[\",\",\"0.67989326\"],[\"gener\",\"0.6312595\"]],[[\"that\",\"22.931347\"],[\".\",\"22.931347\"],[\",\",\"18.716019\"],[\"of\",\"12.763217\"],[\"in\",\"3.5442173\"],[\"where\",\"1.7005341\"],[\"involving\",\"1.6611412\"],[\"which\",\"1.5007162\"],[\"and\",\"0.714448\"],[\"similar\",\"0.681731\"]],[[\"\\\\n\",\"15.324152\"],[\".\",\"2.683824\"],[\",\",\"2.139731\"],[\"and\",\"0.7251686\"],[\"-\",\"0.58725935\"],[\"in\",\"0.32431543\"],[\"the\",\"0.2907145\"],[\"(\",\"0.20695429\"],[\"of\",\"0.18192448\"],[\"to\",\"0.17224264\"]]],[[[\"ational\",\"31.233406\"],[\"ants\",\"21.804432\"],[\"ative\",\"19.393263\"],[\"able\",\"9.675657\"],[\"ers\",\"4.3611603\"],[\"ant\",\"2.882551\"],[\"ability\",\"1.8038545\"],[\"ylase\",\"0.9655337\"],[\"in\",\"0.5810684\"],[\"growth\",\"0.4455206\"]],[[\"are\",\"14.3582\"],[\"in\",\"10.102257\"],[\"can\",\"7.3909693\"],[\",\",\"5.4925017\"],[\"have\",\"3.8644578\"],[\"of\",\"3.716413\"],[\"(\",\"3.6587949\"],[\"and\",\"3.6587949\"],[\"with\",\"3.3838325\"],[\"may\",\"3.0810144\"]],[[\"up\",\"37.81097\"],[\"a\",\"5.7985\"],[\"-\",\"4.2422733\"],[\"in\",\"3.862634\"],[\"on\",\"1.8824972\"],[\"and\",\"1.5244929\"],[\"during\",\"1.489178\"],[\"the\",\"1.3989533\"],[\"their\",\"1.3989533\"],[\"an\",\"1.1507477\"]],[[\"own\",\"16.766884\"],[\"magnetic\",\"6.4139047\"],[\"internal\",\"1.7128447\"],[\"insulating\",\"1.4650737\"],[\"core\",\"1.4311352\"],[\"nests\",\"1.3030635\"],[\"coils\",\"1.1957583\"],[\"cores\",\"0.88861215\"],[\"initial\",\"0.8612724\"],[\"flux\",\"0.78419733\"]],[[\"of\",\"21.152466\"],[\"by\",\"15.966721\"],[\"from\",\"9.386351\"],[\"using\",\"7.5421443\"],[\"based\",\"6.060283\"],[\"about\",\"4.7197537\"],[\"in\",\"4.5036206\"],[\"for\",\"3.8221729\"],[\"on\",\"3.7629154\"],[\"through\",\"2.5461159\"]],[[\"a\",\"31.727379\"],[\"the\",\"7.4772677\"],[\"an\",\"5.9613976\"],[\"two\",\"2.708087\"],[\"multiple\",\"1.4270614\"],[\"learning\",\"1.3406003\"],[\"interactions\",\"1.0198748\"],[\"hierarchical\",\"0.9286066\"],[\"top\",\"0.83892626\"],[\"local\",\"0.8131152\"]],[[\"process\",\"8.108853\"],[\"combination\",\"7.6773086\"],[\"two\",\"2.780537\"],[\"hierarchical\",\"2.3969724\"],[\"form\",\"1.8667641\"],[\"series\",\"1.8235204\"],[\"Bayesian\",\"1.699708\"],[\"top\",\"1.5597398\"],[\"sequence\",\"1.4883142\"],[\"simple\",\"1.4091076\"]],[[\"variable\",\"11.388716\"],[\"representation\",\"6.961783\"],[\"space\",\"6.7475915\"],[\",\",\"6.2894473\"],[\"hierarchical\",\"3.9052062\"],[\"-\",\"3.8748157\"],[\"process\",\"2.4438155\"],[\"structure\",\"2.1735744\"],[\"layer\",\"1.8737383\"],[\"gener\",\"1.8303328\"]],[[\"process\",\"47.34583\"],[\"procedure\",\"4.0728936\"],[\"learning\",\"2.865639\"],[\"gener\",\"2.568742\"],[\"inference\",\"2.3026056\"],[\"model\",\"1.9389882\"],[\"optimization\",\"1.6585041\"],[\"algorithm\",\"1.4866735\"],[\"self\",\"1.4636247\"],[\"structure\",\"1.4185938\"]],[[\"that\",\"21.576157\"],[\".\",\"21.576157\"],[\",\",\"14.372818\"],[\"of\",\"10.1918545\"],[\"in\",\"6.7892394\"],[\"which\",\"1.9757813\"],[\"where\",\"1.9000902\"],[\"involving\",\"1.8416308\"],[\"with\",\"1.3368804\"],[\"and\",\"1.1890463\"]],[[\"\\\\n\",\"35.231678\"],[\"that\",\"19.76318\"],[\"in\",\"8.368257\"],[\"which\",\"4.409762\"],[\"of\",\"3.2262504\"],[\"  \",\"1.3984764\"],[\"by\",\"1.3035233\"],[\"(\",\"1.0639048\"],[\"    \",\"0.84161794\"],[\">\",\"0.7087134\"]]]],\"hoverlabel\":{\"bgcolor\":\"rgb(42, 42, 50)\"},\"hovertemplate\":\" %{customdata[0][0]} %{customdata[0][1]:.1f}% <br> %{customdata[1][0]} %{customdata[1][1]:.1f}% <br> %{customdata[2][0]} %{customdata[2][1]:.1f}% <br> %{customdata[3][0]} %{customdata[3][1]:.1f}% <br> %{customdata[4][0]} %{customdata[4][1]:.1f}% <br> %{customdata[5][0]} %{customdata[5][1]:.1f}% <br> %{customdata[6][0]} %{customdata[6][1]:.1f}% <br> %{customdata[7][0]} %{customdata[7][1]:.1f}% <br> %{customdata[8][0]} %{customdata[8][1]:.1f}% <br> %{customdata[9][0]} %{customdata[9][1]:.1f}% <extra></extra>\",\"text\":[[\",\",\".\",\"a\",\"experience\",\"of\",\"the\",\"new\",\"to\",\",\",\".\",\"\\\\n\"],[\"ational\",\"(\",\"up\",\"own\",\"for\",\"the\",\"series\",\"space\",\"process\",\".\",\"\\\\n\"],[\"ers\",\"and\",\"up\",\"own\",\",\",\"a\",\"series\",\"space\",\"process\",\".\",\"\\\\n\"],[\"ers\",\"and\",\"up\",\"own\",\"of\",\"a\",\"series\",\"space\",\"process\",\",\",\"\\\\n\"],[\"ers\",\"and\",\"up\",\"own\",\"of\",\"a\",\"series\",\"space\",\"process\",\".\",\"\\\\n\"],[\"ative\",\"and\",\"up\",\"own\",\"to\",\"a\",\"process\",\"space\",\"process\",\".\",\"\\\\n\"],[\"ative\",\"are\",\"up\",\"own\",\"based\",\"a\",\"process\",\"learning\",\"process\",\".\",\"\\\\n\"],[\"ational\",\"(\",\"up\",\"own\",\"based\",\"a\",\"process\",\"learning\",\"process\",\".\",\"\\\\n\"],[\"ative\",\",\",\"up\",\"own\",\"of\",\"a\",\"process\",\",\",\"process\",\".\",\"\\\\n\"],[\"ational\",\"are\",\"up\",\"own\",\"of\",\"a\",\"process\",\"variable\",\"process\",\".\",\"\\\\n\"]],\"texttemplate\":\"<b>%{text}</b>\",\"x\":[\"transform\",\"ers\\u200c\",\"build\\u200c\\u200c\",\"their\\u200c\\u200c\\u200c\",\"predictions\\u200c\\u200c\\u200c\\u200c\",\"through\\u200c\\u200c\\u200c\\u200c\\u200c\",\"a\\u200c\\u200c\\u200c\\u200c\\u200c\\u200c\",\"latent\\u200c\\u200c\\u200c\\u200c\\u200c\\u200c\\u200c\",\"iterative\\u200c\\u200c\\u200c\\u200c\\u200c\\u200c\\u200c\\u200c\",\"process\\u200c\\u200c\\u200c\\u200c\\u200c\\u200c\\u200c\\u200c\\u200c\",\"\\\\n\\u200c\\u200c\\u200c\\u200c\\u200c\\u200c\\u200c\\u200c\\u200c\\u200c\"],\"y\":[\"input\",\"3.ffn\",\"7.ffn\",\"11.ffn\",\"15.ffn\",\"19.ffn\",\"23.ffn\",\"27.ffn\",\"31.ffn\",\"35.ffn\"],\"z\":[[6.747148036956787,6.370939254760742,5.649650573730469,8.632792472839355,4.55355978012085,4.890101432800293,8.385683059692383,8.116466522216797,8.314659118652344,4.144266128540039,5.65045690536499],[5.4453630447387695,6.954696178436279,6.949010848999023,4.915998458862305,4.66512393951416,5.3574981689453125,8.008179664611816,7.261838436126709,6.666928768157959,3.772066593170166,8.28150463104248],[3.8049426078796387,7.032174587249756,5.216824531555176,1.6047084331512451,6.5096330642700195,5.450719833374023,6.068020820617676,6.271521091461182,5.046584606170654,4.093047618865967,6.169832229614258],[1.3146854639053345,5.984977722167969,5.521784782409668,5.46580171585083,6.432417869567871,6.695464611053467,7.340243339538574,6.432809829711914,5.92750883102417,3.9069623947143555,5.443905353546143],[0.8216779232025146,5.500328063964844,4.779523849487305,3.577155351638794,4.853769779205322,5.599268913269043,6.797595024108887,6.167232990264893,3.951005458831787,4.05061149597168,5.290976047515869],[1.4625346660614014,5.281733512878418,2.4510793685913086,3.9682955741882324,4.453084945678711,5.971052169799805,5.776906967163086,7.768061637878418,2.9476616382598877,3.6321260929107666,5.653547286987305],[2.916285514831543,5.461947441101074,2.9665164947509766,5.005200386047363,4.276045322418213,4.884432315826416,4.052480220794678,8.1114501953125,3.5659847259521484,3.916325330734253,5.617311000823975],[4.8030805587768555,6.760499000549316,3.5314435958862305,7.790510177612305,3.440277576446533,4.8209428787231445,5.63637638092041,8.092293739318848,4.83992862701416,3.3683457374572754,7.697821140289307],[5.74860143661499,6.989296913146973,4.760846138000488,8.108586311340332,2.967667579650879,4.22337007522583,6.1310834884643555,7.907596588134766,4.9089741706848145,2.7012939453125,8.880080223083496],[2.286280632019043,4.5003204345703125,4.36278772354126,6.231278419494629,3.0892221927642822,4.59412956237793,5.676036834716797,4.904687404632568,3.3208985328674316,2.858616828918457,3.285952568054199]],\"zmax\":10.833444475174097,\"zmin\":0,\"type\":\"heatmap\",\"textfont\":{\"size\":14}}],                        {\"template\":{\"data\":{\"histogram2dcontour\":[{\"type\":\"histogram2dcontour\",\"colorbar\":{\"outlinewidth\":0,\"ticks\":\"\"},\"colorscale\":[[0.0,\"#0d0887\"],[0.1111111111111111,\"#46039f\"],[0.2222222222222222,\"#7201a8\"],[0.3333333333333333,\"#9c179e\"],[0.4444444444444444,\"#bd3786\"],[0.5555555555555556,\"#d8576b\"],[0.6666666666666666,\"#ed7953\"],[0.7777777777777778,\"#fb9f3a\"],[0.8888888888888888,\"#fdca26\"],[1.0,\"#f0f921\"]]}],\"choropleth\":[{\"type\":\"choropleth\",\"colorbar\":{\"outlinewidth\":0,\"ticks\":\"\"}}],\"histogram2d\":[{\"type\":\"histogram2d\",\"colorbar\":{\"outlinewidth\":0,\"ticks\":\"\"},\"colorscale\":[[0.0,\"#0d0887\"],[0.1111111111111111,\"#46039f\"],[0.2222222222222222,\"#7201a8\"],[0.3333333333333333,\"#9c179e\"],[0.4444444444444444,\"#bd3786\"],[0.5555555555555556,\"#d8576b\"],[0.6666666666666666,\"#ed7953\"],[0.7777777777777778,\"#fb9f3a\"],[0.8888888888888888,\"#fdca26\"],[1.0,\"#f0f921\"]]}],\"heatmap\":[{\"type\":\"heatmap\",\"colorbar\":{\"outlinewidth\":0,\"ticks\":\"\"},\"colorscale\":[[0.0,\"#0d0887\"],[0.1111111111111111,\"#46039f\"],[0.2222222222222222,\"#7201a8\"],[0.3333333333333333,\"#9c179e\"],[0.4444444444444444,\"#bd3786\"],[0.5555555555555556,\"#d8576b\"],[0.6666666666666666,\"#ed7953\"],[0.7777777777777778,\"#fb9f3a\"],[0.8888888888888888,\"#fdca26\"],[1.0,\"#f0f921\"]]}],\"heatmapgl\":[{\"type\":\"heatmapgl\",\"colorbar\":{\"outlinewidth\":0,\"ticks\":\"\"},\"colorscale\":[[0.0,\"#0d0887\"],[0.1111111111111111,\"#46039f\"],[0.2222222222222222,\"#7201a8\"],[0.3333333333333333,\"#9c179e\"],[0.4444444444444444,\"#bd3786\"],[0.5555555555555556,\"#d8576b\"],[0.6666666666666666,\"#ed7953\"],[0.7777777777777778,\"#fb9f3a\"],[0.8888888888888888,\"#fdca26\"],[1.0,\"#f0f921\"]]}],\"contourcarpet\":[{\"type\":\"contourcarpet\",\"colorbar\":{\"outlinewidth\":0,\"ticks\":\"\"}}],\"contour\":[{\"type\":\"contour\",\"colorbar\":{\"outlinewidth\":0,\"ticks\":\"\"},\"colorscale\":[[0.0,\"#0d0887\"],[0.1111111111111111,\"#46039f\"],[0.2222222222222222,\"#7201a8\"],[0.3333333333333333,\"#9c179e\"],[0.4444444444444444,\"#bd3786\"],[0.5555555555555556,\"#d8576b\"],[0.6666666666666666,\"#ed7953\"],[0.7777777777777778,\"#fb9f3a\"],[0.8888888888888888,\"#fdca26\"],[1.0,\"#f0f921\"]]}],\"surface\":[{\"type\":\"surface\",\"colorbar\":{\"outlinewidth\":0,\"ticks\":\"\"},\"colorscale\":[[0.0,\"#0d0887\"],[0.1111111111111111,\"#46039f\"],[0.2222222222222222,\"#7201a8\"],[0.3333333333333333,\"#9c179e\"],[0.4444444444444444,\"#bd3786\"],[0.5555555555555556,\"#d8576b\"],[0.6666666666666666,\"#ed7953\"],[0.7777777777777778,\"#fb9f3a\"],[0.8888888888888888,\"#fdca26\"],[1.0,\"#f0f921\"]]}],\"mesh3d\":[{\"type\":\"mesh3d\",\"colorbar\":{\"outlinewidth\":0,\"ticks\":\"\"}}],\"scatter\":[{\"fillpattern\":{\"fillmode\":\"overlay\",\"size\":10,\"solidity\":0.2},\"type\":\"scatter\"}],\"parcoords\":[{\"type\":\"parcoords\",\"line\":{\"colorbar\":{\"outlinewidth\":0,\"ticks\":\"\"}}}],\"scatterpolargl\":[{\"type\":\"scatterpolargl\",\"marker\":{\"colorbar\":{\"outlinewidth\":0,\"ticks\":\"\"}}}],\"bar\":[{\"error_x\":{\"color\":\"#2a3f5f\"},\"error_y\":{\"color\":\"#2a3f5f\"},\"marker\":{\"line\":{\"color\":\"#E5ECF6\",\"width\":0.5},\"pattern\":{\"fillmode\":\"overlay\",\"size\":10,\"solidity\":0.2}},\"type\":\"bar\"}],\"scattergeo\":[{\"type\":\"scattergeo\",\"marker\":{\"colorbar\":{\"outlinewidth\":0,\"ticks\":\"\"}}}],\"scatterpolar\":[{\"type\":\"scatterpolar\",\"marker\":{\"colorbar\":{\"outlinewidth\":0,\"ticks\":\"\"}}}],\"histogram\":[{\"marker\":{\"pattern\":{\"fillmode\":\"overlay\",\"size\":10,\"solidity\":0.2}},\"type\":\"histogram\"}],\"scattergl\":[{\"type\":\"scattergl\",\"marker\":{\"colorbar\":{\"outlinewidth\":0,\"ticks\":\"\"}}}],\"scatter3d\":[{\"type\":\"scatter3d\",\"line\":{\"colorbar\":{\"outlinewidth\":0,\"ticks\":\"\"}},\"marker\":{\"colorbar\":{\"outlinewidth\":0,\"ticks\":\"\"}}}],\"scattermapbox\":[{\"type\":\"scattermapbox\",\"marker\":{\"colorbar\":{\"outlinewidth\":0,\"ticks\":\"\"}}}],\"scatterternary\":[{\"type\":\"scatterternary\",\"marker\":{\"colorbar\":{\"outlinewidth\":0,\"ticks\":\"\"}}}],\"scattercarpet\":[{\"type\":\"scattercarpet\",\"marker\":{\"colorbar\":{\"outlinewidth\":0,\"ticks\":\"\"}}}],\"carpet\":[{\"aaxis\":{\"endlinecolor\":\"#2a3f5f\",\"gridcolor\":\"white\",\"linecolor\":\"white\",\"minorgridcolor\":\"white\",\"startlinecolor\":\"#2a3f5f\"},\"baxis\":{\"endlinecolor\":\"#2a3f5f\",\"gridcolor\":\"white\",\"linecolor\":\"white\",\"minorgridcolor\":\"white\",\"startlinecolor\":\"#2a3f5f\"},\"type\":\"carpet\"}],\"table\":[{\"cells\":{\"fill\":{\"color\":\"#EBF0F8\"},\"line\":{\"color\":\"white\"}},\"header\":{\"fill\":{\"color\":\"#C8D4E3\"},\"line\":{\"color\":\"white\"}},\"type\":\"table\"}],\"barpolar\":[{\"marker\":{\"line\":{\"color\":\"#E5ECF6\",\"width\":0.5},\"pattern\":{\"fillmode\":\"overlay\",\"size\":10,\"solidity\":0.2}},\"type\":\"barpolar\"}],\"pie\":[{\"automargin\":true,\"type\":\"pie\"}]},\"layout\":{\"autotypenumbers\":\"strict\",\"colorway\":[\"#636efa\",\"#EF553B\",\"#00cc96\",\"#ab63fa\",\"#FFA15A\",\"#19d3f3\",\"#FF6692\",\"#B6E880\",\"#FF97FF\",\"#FECB52\"],\"font\":{\"color\":\"#2a3f5f\"},\"hovermode\":\"closest\",\"hoverlabel\":{\"align\":\"left\"},\"paper_bgcolor\":\"white\",\"plot_bgcolor\":\"#E5ECF6\",\"polar\":{\"bgcolor\":\"#E5ECF6\",\"angularaxis\":{\"gridcolor\":\"white\",\"linecolor\":\"white\",\"ticks\":\"\"},\"radialaxis\":{\"gridcolor\":\"white\",\"linecolor\":\"white\",\"ticks\":\"\"}},\"ternary\":{\"bgcolor\":\"#E5ECF6\",\"aaxis\":{\"gridcolor\":\"white\",\"linecolor\":\"white\",\"ticks\":\"\"},\"baxis\":{\"gridcolor\":\"white\",\"linecolor\":\"white\",\"ticks\":\"\"},\"caxis\":{\"gridcolor\":\"white\",\"linecolor\":\"white\",\"ticks\":\"\"}},\"coloraxis\":{\"colorbar\":{\"outlinewidth\":0,\"ticks\":\"\"}},\"colorscale\":{\"sequential\":[[0.0,\"#0d0887\"],[0.1111111111111111,\"#46039f\"],[0.2222222222222222,\"#7201a8\"],[0.3333333333333333,\"#9c179e\"],[0.4444444444444444,\"#bd3786\"],[0.5555555555555556,\"#d8576b\"],[0.6666666666666666,\"#ed7953\"],[0.7777777777777778,\"#fb9f3a\"],[0.8888888888888888,\"#fdca26\"],[1.0,\"#f0f921\"]],\"sequentialminus\":[[0.0,\"#0d0887\"],[0.1111111111111111,\"#46039f\"],[0.2222222222222222,\"#7201a8\"],[0.3333333333333333,\"#9c179e\"],[0.4444444444444444,\"#bd3786\"],[0.5555555555555556,\"#d8576b\"],[0.6666666666666666,\"#ed7953\"],[0.7777777777777778,\"#fb9f3a\"],[0.8888888888888888,\"#fdca26\"],[1.0,\"#f0f921\"]],\"diverging\":[[0,\"#8e0152\"],[0.1,\"#c51b7d\"],[0.2,\"#de77ae\"],[0.3,\"#f1b6da\"],[0.4,\"#fde0ef\"],[0.5,\"#f7f7f7\"],[0.6,\"#e6f5d0\"],[0.7,\"#b8e186\"],[0.8,\"#7fbc41\"],[0.9,\"#4d9221\"],[1,\"#276419\"]]},\"xaxis\":{\"gridcolor\":\"white\",\"linecolor\":\"white\",\"ticks\":\"\",\"title\":{\"standoff\":15},\"zerolinecolor\":\"white\",\"automargin\":true,\"zerolinewidth\":2},\"yaxis\":{\"gridcolor\":\"white\",\"linecolor\":\"white\",\"ticks\":\"\",\"title\":{\"standoff\":15},\"zerolinecolor\":\"white\",\"automargin\":true,\"zerolinewidth\":2},\"scene\":{\"xaxis\":{\"backgroundcolor\":\"#E5ECF6\",\"gridcolor\":\"white\",\"linecolor\":\"white\",\"showbackground\":true,\"ticks\":\"\",\"zerolinecolor\":\"white\",\"gridwidth\":2},\"yaxis\":{\"backgroundcolor\":\"#E5ECF6\",\"gridcolor\":\"white\",\"linecolor\":\"white\",\"showbackground\":true,\"ticks\":\"\",\"zerolinecolor\":\"white\",\"gridwidth\":2},\"zaxis\":{\"backgroundcolor\":\"#E5ECF6\",\"gridcolor\":\"white\",\"linecolor\":\"white\",\"showbackground\":true,\"ticks\":\"\",\"zerolinecolor\":\"white\",\"gridwidth\":2}},\"shapedefaults\":{\"line\":{\"color\":\"#2a3f5f\"}},\"annotationdefaults\":{\"arrowcolor\":\"#2a3f5f\",\"arrowhead\":0,\"arrowwidth\":1},\"geo\":{\"bgcolor\":\"white\",\"landcolor\":\"#E5ECF6\",\"subunitcolor\":\"white\",\"showland\":true,\"showlakes\":true,\"lakecolor\":\"white\"},\"title\":{\"x\":0.05},\"mapbox\":{\"style\":\"light\"}}},\"title\":{\"x\":0.5},\"width\":1080,\"xaxis\":{\"title\":{}},\"yaxis\":{\"title\":{}},\"font\":{\"size\":14}},                        {\"responsive\": true}                    ).then(function(){\n",
       "                            \n",
       "var gd = document.getElementById('2547a704-a2ca-49ff-ac8b-80c89e3fbce3');\n",
       "var x = new MutationObserver(function (mutations, observer) {{\n",
       "        var display = window.getComputedStyle(gd).display;\n",
       "        if (!display || display === 'none') {{\n",
       "            console.log([gd, 'removed!']);\n",
       "            Plotly.purge(gd);\n",
       "            observer.disconnect();\n",
       "        }}\n",
       "}});\n",
       "\n",
       "// Listen for the removal of the full notebook cells\n",
       "var notebookContainer = gd.closest('#notebook-container');\n",
       "if (notebookContainer) {{\n",
       "    x.observe(notebookContainer, {childList: true});\n",
       "}}\n",
       "\n",
       "// Listen for the clearing of the current output cell\n",
       "var outputEl = gd.closest('.output');\n",
       "if (outputEl) {{\n",
       "    x.observe(outputEl, {childList: true});\n",
       "}}\n",
       "\n",
       "                        })                };                });            </script>        </div>"
      ]
     },
     "metadata": {},
     "output_type": "display_data"
    }
   ],
   "source": [
    "fig = plot_logit_lens(\n",
    "    model, tokenizer,\n",
    "    text=OURS,\n",
    "    start_pos=4,\n",
    "    end_pos=15,\n",
    "    layer_stride=4,\n",
    "    tuned_lens=lens,\n",
    "    whitespace_replacement=\"\",\n",
    ").update_layout(\n",
    "    # autosize=False,\n",
    "    font=dict(size=14),\n",
    "    title_text=None,\n",
    "    # title_x=0.5,\n",
    "    # height=500,\n",
    "    # width=1100,\n",
    "    xaxis_title=None,\n",
    "    yaxis_title=None,\n",
    ").update_traces(\n",
    "    textfont_size=14,\n",
    ")\n",
    "fig"
   ]
  },
  {
   "cell_type": "code",
   "execution_count": 7,
   "metadata": {},
   "outputs": [
    {
     "data": {
      "text/plain": [
       "'https://plotly.com/~norabelrose/23/'"
      ]
     },
     "execution_count": 7,
     "metadata": {},
     "output_type": "execute_result"
    }
   ],
   "source": [
    "py.plot(fig, filename=\"figure1\", auto_open=False)"
   ]
  },
  {
   "cell_type": "code",
   "execution_count": 19,
   "metadata": {},
   "outputs": [],
   "source": [
    "lens = TunedLens.load(\"/mnt/ssd-1/nora/real-lenses/bloom/560m/affine/\")"
   ]
  },
  {
   "cell_type": "code",
   "execution_count": 18,
   "metadata": {},
   "outputs": [
    {
     "data": {
      "application/vnd.jupyter.widget-view+json": {
       "model_id": "2585c6e24eef4b7a8d32a3aebd3ec6f1",
       "version_major": 2,
       "version_minor": 0
      },
      "text/plain": [
       "Downloading:   0%|          | 0.00/688 [00:00<?, ?B/s]"
      ]
     },
     "metadata": {},
     "output_type": "display_data"
    },
    {
     "data": {
      "application/vnd.jupyter.widget-view+json": {
       "model_id": "9607b5302e6e4fe0852eadb2b2efb31f",
       "version_major": 2,
       "version_minor": 0
      },
      "text/plain": [
       "Downloading:   0%|          | 0.00/1.12G [00:00<?, ?B/s]"
      ]
     },
     "metadata": {},
     "output_type": "display_data"
    },
    {
     "data": {
      "application/vnd.jupyter.widget-view+json": {
       "model_id": "4d42b9055cb347a385be50fa74077cd6",
       "version_major": 2,
       "version_minor": 0
      },
      "text/plain": [
       "Downloading:   0%|          | 0.00/222 [00:00<?, ?B/s]"
      ]
     },
     "metadata": {},
     "output_type": "display_data"
    },
    {
     "data": {
      "application/vnd.jupyter.widget-view+json": {
       "model_id": "b165ae66f49646838de14d652811e6fb",
       "version_major": 2,
       "version_minor": 0
      },
      "text/plain": [
       "Downloading:   0%|          | 0.00/14.5M [00:00<?, ?B/s]"
      ]
     },
     "metadata": {},
     "output_type": "display_data"
    },
    {
     "data": {
      "application/vnd.jupyter.widget-view+json": {
       "model_id": "6c894bbf1aa547d1bb7e12cd61a8c690",
       "version_major": 2,
       "version_minor": 0
      },
      "text/plain": [
       "Downloading:   0%|          | 0.00/85.0 [00:00<?, ?B/s]"
      ]
     },
     "metadata": {},
     "output_type": "display_data"
    }
   ],
   "source": [
    "model = AutoModelForCausalLM.from_pretrained(\"bigscience/bloom-560m\")\n",
    "tokenizer = AutoTokenizer.from_pretrained(\"bigscience/bloom-560m\")"
   ]
  },
  {
   "cell_type": "code",
   "execution_count": null,
   "metadata": {},
   "outputs": [],
   "source": []
  }
 ],
 "metadata": {
  "kernelspec": {
   "display_name": "Python 3 (ipykernel)",
   "language": "python",
   "name": "python3"
  },
  "language_info": {
   "codemirror_mode": {
    "name": "ipython",
    "version": 3
   },
   "file_extension": ".py",
   "mimetype": "text/x-python",
   "name": "python",
   "nbconvert_exporter": "python",
   "pygments_lexer": "ipython3",
   "version": "3.10.8"
  },
  "vscode": {
   "interpreter": {
    "hash": "37655a14f19528427b2fab2b7608d4c988ed7d88bb86685bfc3bcc0190ec2edc"
   }
  }
 },
 "nbformat": 4,
 "nbformat_minor": 2
}
