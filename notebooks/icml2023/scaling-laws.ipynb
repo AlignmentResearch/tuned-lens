{
 "cells": [
  {
   "cell_type": "code",
   "execution_count": 2,
   "metadata": {},
   "outputs": [],
   "source": [
    "from transformers import AutoConfig\n",
    "from transformers.models.gpt_neox.modeling_gpt_neox import GPTNeoXLayer\n",
    "import numpy as np\n",
    "import torch as th\n",
    "\n",
    "\n",
    "MODELS = [\n",
    "    \"19m-deduped\", \"125m-deduped\", \"350m-deduped\", \"1.3b-deduped\",\n",
    "    \"2.7b-deduped\", \"6.7b-deduped\", \"13b-deduped\",\n",
    "]\n",
    "NAMES = [\n",
    "    \"70M\", \"160M\", \"410M\", \"1.4B\", \"2.8B\", \"6.9B\", \"12B\"\n",
    "]\n",
    "\n",
    "DEPTHS = []\n",
    "WIDTHS = []\n",
    "baselines = {}\n",
    "metrics = {}\n",
    "slopes = {}\n",
    "root = \"/mnt/ssd-1/nora/real-lenses/pythia/\"\n",
    "\n",
    "for model in MODELS:\n",
    "    config = AutoConfig.from_pretrained(f\"EleutherAI/pythia-{model}\")\n",
    "    DEPTHS.append(config.num_hidden_layers)\n",
    "    WIDTHS.append(config.hidden_size)\n",
    "\n",
    "    results = th.load(\n",
    "        root + f\"{model}/affine/eval/aggregate_metrics.pt\",\n",
    "        map_location=\"cpu\"\n",
    "    )\n",
    "    baselines[model] = list(results['baseline_ce'].values())\n",
    "    metrics[model] = list(results['lens_ce'].values())\n",
    "\n",
    "neox_results = th.load(\n",
    "    \"/mnt/ssd-1/nora/real-lenses/gpt-neox-20b/classic/eval/aggregate_metrics.pt\",\n",
    "    map_location=\"cpu\"\n",
    ")\n",
    "config = AutoConfig.from_pretrained(\"EleutherAI/gpt-neox-20b\")\n",
    "layer = GPTNeoXLayer(config)\n",
    "DEPTHS.append(config.num_hidden_layers)\n",
    "MODELS.append(\"20b\")\n",
    "NAMES.append(\"20B<br>(NeoX)\")\n",
    "WIDTHS.append(config.hidden_size)\n",
    "baselines[\"20b\"] = list(neox_results['baseline_ce'].values())\n",
    "metrics[\"20b\"] = list(neox_results['lens_ce'].values())"
   ]
  },
  {
   "cell_type": "code",
   "execution_count": 48,
   "metadata": {},
   "outputs": [
    {
     "name": "stderr",
     "output_type": "stream",
     "text": [
      "Some weights of the model checkpoint at EleutherAI/pythia-19m-deduped were not used when initializing GPTNeoXModel: ['embed_out.weight']\n",
      "- This IS expected if you are initializing GPTNeoXModel from the checkpoint of a model trained on another task or with another architecture (e.g. initializing a BertForSequenceClassification model from a BertForPreTraining model).\n",
      "- This IS NOT expected if you are initializing GPTNeoXModel from the checkpoint of a model that you expect to be exactly identical (initializing a BertForSequenceClassification model from a BertForSequenceClassification model).\n"
     ]
    },
    {
     "data": {
      "text/plain": [
       "18915328"
      ]
     },
     "execution_count": 48,
     "metadata": {},
     "output_type": "execute_result"
    }
   ],
   "source": [
    "from transformers import AutoConfig, AutoModel\n",
    "\n",
    "tiny = AutoModel.from_pretrained(\"EleutherAI/pythia-19m-deduped\")\n",
    "embed_params = sum(p.numel() for p in tiny.get_input_embeddings().parameters() if p.requires_grad)\n",
    "sum(p.numel() for p in tiny.parameters() if p.requires_grad) - embed_params"
   ]
  },
  {
   "cell_type": "code",
   "execution_count": 49,
   "metadata": {},
   "outputs": [],
   "source": []
  },
  {
   "attachments": {},
   "cell_type": "markdown",
   "metadata": {},
   "source": [
    "# GPT-2"
   ]
  },
  {
   "cell_type": "code",
   "execution_count": 56,
   "metadata": {},
   "outputs": [
    {
     "data": {
      "application/vnd.plotly.v1+json": {
       "config": {
        "plotlyServerURL": "https://plot.ly"
       },
       "data": [
        {
         "marker": {
          "color": "#0d0887"
         },
         "mode": "lines+markers",
         "name": "small",
         "showlegend": false,
         "type": "scatter",
         "x": [
          0,
          1,
          2,
          3,
          4,
          5,
          6,
          7,
          8,
          9,
          10,
          11
         ],
         "xaxis": "x",
         "y": [
          20.91238021850586,
          4.160318851470947,
          3.743499279022217,
          3.6610782146453857,
          3.5924417972564697,
          3.5493977069854736,
          3.0734760761260986,
          2.87530779838562,
          2.523982048034668,
          2.3736941814422607,
          2.1506547927856445,
          1.7409791946411133
         ],
         "yaxis": "y"
        },
        {
         "marker": {
          "color": "#7201a8"
         },
         "mode": "lines+markers",
         "name": "medium",
         "showlegend": false,
         "type": "scatter",
         "x": [
          0,
          1,
          2,
          3,
          4,
          5,
          6,
          7,
          8,
          9,
          10,
          11,
          12,
          13,
          14,
          15,
          16,
          17,
          18,
          19,
          20,
          21,
          22,
          23
         ],
         "xaxis": "x",
         "y": [
          34.0505485534668,
          3.606278419494629,
          3.3989193439483643,
          3.2476418018341064,
          3.2198727130889893,
          3.1356914043426514,
          3.0265674591064453,
          2.900223970413208,
          2.8240301609039307,
          2.7757859230041504,
          2.520437240600586,
          2.437396764755249,
          2.3690717220306396,
          2.2839906215667725,
          2.2054028511047363,
          2.1538405418395996,
          2.0906949043273926,
          2.0657730102539062,
          2.0030016899108887,
          1.9338234663009644,
          1.812157392501831,
          1.6387004852294922,
          1.4176008701324463,
          1.1472890377044678
         ],
         "yaxis": "y"
        },
        {
         "marker": {
          "color": "#bd3786"
         },
         "mode": "lines+markers",
         "name": "large",
         "showlegend": false,
         "type": "scatter",
         "x": [
          0,
          1,
          2,
          3,
          4,
          5,
          6,
          7,
          8,
          9,
          10,
          11,
          12,
          13,
          14,
          15,
          16,
          17,
          18,
          19,
          20,
          21,
          22,
          23,
          24,
          25,
          26,
          27,
          28,
          29,
          30,
          31,
          32,
          33,
          34,
          35
         ],
         "xaxis": "x",
         "y": [
          21.63176727294922,
          4.34962272644043,
          3.3829567432403564,
          3.15132999420166,
          3.0546560287475586,
          3.009438991546631,
          2.977490186691284,
          2.9222941398620605,
          2.8638434410095215,
          2.820061683654785,
          2.7825472354888916,
          2.7496774196624756,
          2.6736769676208496,
          2.6316285133361816,
          2.5912225246429443,
          2.565314292907715,
          2.5302798748016357,
          2.4543535709381104,
          2.349787473678589,
          2.2429392337799072,
          2.1286063194274902,
          1.994699478149414,
          1.904603362083435,
          1.8211393356323242,
          1.7462263107299805,
          1.6894054412841797,
          1.653206706047058,
          1.603877305984497,
          1.5595264434814453,
          1.5203192234039307,
          1.469533920288086,
          1.4102728366851807,
          1.3456588983535767,
          1.2494109869003296,
          1.1504039764404297,
          1.0867921113967896
         ],
         "yaxis": "y"
        },
        {
         "marker": {
          "color": "#ed7953"
         },
         "mode": "lines+markers",
         "name": "xl",
         "showlegend": false,
         "type": "scatter",
         "x": [
          0,
          1,
          2,
          3,
          4,
          5,
          6,
          7,
          8,
          9,
          10,
          11,
          12,
          13,
          14,
          15,
          16,
          17,
          18,
          19,
          20,
          21,
          22,
          23,
          24,
          25,
          26,
          27,
          28,
          29,
          30,
          31,
          32,
          33,
          34,
          35,
          36,
          37,
          38,
          39,
          40,
          41,
          42,
          43,
          44,
          45,
          46,
          47
         ],
         "xaxis": "x",
         "y": [
          24.390623092651367,
          3.5273051261901855,
          3.206670045852661,
          3.088364601135254,
          3.0587849617004395,
          3.029956102371216,
          2.993494749069214,
          2.9821085929870605,
          2.9721016883850098,
          2.954876661300659,
          2.9523911476135254,
          2.9052581787109375,
          2.890160322189331,
          2.858611583709717,
          2.800386905670166,
          2.767939329147339,
          2.756424903869629,
          2.7115464210510254,
          2.6467533111572266,
          2.6227009296417236,
          2.551013946533203,
          2.479895830154419,
          2.412473678588867,
          2.325258731842041,
          2.252864360809326,
          2.2269396781921387,
          2.1408374309539795,
          2.069132089614868,
          2.020773410797119,
          1.9771548509597778,
          1.9182313680648804,
          1.8868244886398315,
          1.8524290323257446,
          1.8189220428466797,
          1.7940232753753662,
          1.7673530578613281,
          1.7342033386230469,
          1.7043758630752563,
          1.674826741218567,
          1.6269832849502563,
          1.573206901550293,
          1.5215376615524292,
          1.4548180103302002,
          1.3812174797058105,
          1.3017847537994385,
          1.2012503147125244,
          1.1095143556594849,
          1.0779497623443604
         ],
         "yaxis": "y"
        },
        {
         "marker": {
          "color": "#0d0887"
         },
         "mode": "lines+markers",
         "name": "small",
         "type": "scatter",
         "x": [
          0,
          1,
          2,
          3,
          4,
          5,
          6,
          7,
          8,
          9,
          10,
          11
         ],
         "xaxis": "x2",
         "y": [
          3.2249772548675537,
          2.3421075344085693,
          2.2658796310424805,
          2.1929433345794678,
          2.1297338008880615,
          2.0824642181396484,
          1.8567992448806763,
          1.7370684146881104,
          1.5696264505386353,
          1.4780168533325195,
          1.366066336631775,
          1.2884092330932617
         ],
         "yaxis": "y2"
        },
        {
         "marker": {
          "color": "#7201a8"
         },
         "mode": "lines+markers",
         "name": "medium",
         "type": "scatter",
         "x": [
          0,
          1,
          2,
          3,
          4,
          5,
          6,
          7,
          8,
          9,
          10,
          11,
          12,
          13,
          14,
          15,
          16,
          17,
          18,
          19,
          20,
          21,
          22,
          23
         ],
         "xaxis": "x2",
         "y": [
          2.913273811340332,
          2.2863502502441406,
          2.218090295791626,
          2.14640212059021,
          2.0828042030334473,
          2.039590358734131,
          1.9638973474502563,
          1.8754034042358398,
          1.8353480100631714,
          1.824481725692749,
          1.709678053855896,
          1.664526343345642,
          1.6015974283218384,
          1.54265296459198,
          1.4828782081604004,
          1.4269850254058838,
          1.3719252347946167,
          1.326317548751831,
          1.286561369895935,
          1.2405678033828735,
          1.1999324560165405,
          1.1581629514694214,
          1.1261029243469238,
          1.0951426029205322
         ],
         "yaxis": "y2"
        },
        {
         "marker": {
          "color": "#bd3786"
         },
         "mode": "lines+markers",
         "name": "large",
         "type": "scatter",
         "x": [
          0,
          1,
          2,
          3,
          4,
          5,
          6,
          7,
          8,
          9,
          10,
          11,
          12,
          13,
          14,
          15,
          16,
          17,
          18,
          19,
          20,
          21,
          22,
          23,
          24,
          25,
          26,
          27,
          28,
          29,
          30,
          31,
          32,
          33,
          34,
          35
         ],
         "xaxis": "x2",
         "y": [
          3.0240650177001953,
          2.3684937953948975,
          2.2680652141571045,
          2.2134878635406494,
          2.1727113723754883,
          2.1383957862854004,
          2.106754779815674,
          2.081577777862549,
          2.0584685802459717,
          2.0295426845550537,
          2.0087437629699707,
          1.9874966144561768,
          1.9168592691421509,
          1.8798861503601074,
          1.8657070398330688,
          1.853132963180542,
          1.8234531879425049,
          1.7536509037017822,
          1.682943344116211,
          1.6265267133712769,
          1.5637884140014648,
          1.4985883235931396,
          1.4525525569915771,
          1.4093427658081055,
          1.3650000095367432,
          1.3283300399780273,
          1.2987844944000244,
          1.265440821647644,
          1.2388311624526978,
          1.2123205661773682,
          1.1879603862762451,
          1.1645790338516235,
          1.1404443979263306,
          1.118094563484192,
          1.0971300601959229,
          1.0834782123565674
         ],
         "yaxis": "y2"
        },
        {
         "marker": {
          "color": "#ed7953"
         },
         "mode": "lines+markers",
         "name": "xl",
         "type": "scatter",
         "x": [
          0,
          1,
          2,
          3,
          4,
          5,
          6,
          7,
          8,
          9,
          10,
          11,
          12,
          13,
          14,
          15,
          16,
          17,
          18,
          19,
          20,
          21,
          22,
          23,
          24,
          25,
          26,
          27,
          28,
          29,
          30,
          31,
          32,
          33,
          34,
          35,
          36,
          37,
          38,
          39,
          40,
          41,
          42,
          43,
          44,
          45,
          46,
          47
         ],
         "xaxis": "x2",
         "y": [
          3.4809775352478027,
          2.4669559001922607,
          2.3809096813201904,
          2.3386785984039307,
          2.306546926498413,
          2.280435800552368,
          2.251579761505127,
          2.228834629058838,
          2.209123134613037,
          2.1895229816436768,
          2.17478346824646,
          2.1476500034332275,
          2.13210391998291,
          2.113279342651367,
          2.066251039505005,
          2.0500099658966064,
          2.038296937942505,
          1.987731695175171,
          1.9306831359863281,
          1.8960623741149902,
          1.850411057472229,
          1.8091344833374023,
          1.7599046230316162,
          1.7055027484893799,
          1.6571961641311646,
          1.6235295534133911,
          1.5633515119552612,
          1.517669677734375,
          1.477670669555664,
          1.441899299621582,
          1.4028687477111816,
          1.3768235445022583,
          1.3464024066925049,
          1.323625087738037,
          1.3018354177474976,
          1.2775636911392212,
          1.2524839639663696,
          1.2342079877853394,
          1.2159664630889893,
          1.1957708597183228,
          1.1766525506973267,
          1.157075047492981,
          1.1373661756515503,
          1.1192915439605713,
          1.098776936531067,
          1.0749273300170898,
          1.0535337924957275,
          1.043821096420288
         ],
         "yaxis": "y2"
        }
       ],
       "layout": {
        "annotations": [
         {
          "font": {
           "color": "black",
           "size": 20
          },
          "showarrow": false,
          "text": "Logit lens (baseline)",
          "x": 0.2375,
          "xanchor": "center",
          "xref": "paper",
          "y": 1,
          "yanchor": "bottom",
          "yref": "paper"
         },
         {
          "font": {
           "color": "black",
           "size": 20
          },
          "showarrow": false,
          "text": "Tuned lens (ours)",
          "x": 0.7625,
          "xanchor": "center",
          "xref": "paper",
          "y": 1,
          "yanchor": "bottom",
          "yref": "paper"
         },
         {
          "font": {
           "color": "black",
           "size": 20
          },
          "showarrow": false,
          "text": "Layer",
          "x": 0.5,
          "xanchor": "center",
          "xref": "paper",
          "y": 0,
          "yanchor": "top",
          "yref": "paper",
          "yshift": -30
         },
         {
          "font": {
           "color": "black",
           "size": 20
          },
          "showarrow": false,
          "text": "bits per byte",
          "textangle": -90,
          "x": 0,
          "xanchor": "right",
          "xref": "paper",
          "xshift": -40,
          "y": 0.5,
          "yanchor": "middle",
          "yref": "paper"
         }
        ],
        "font": {
         "color": "black",
         "size": 16
        },
        "height": 518.4,
        "hovermode": "x unified",
        "legend": {
         "title": {
          "text": "Model size"
         },
         "x": 0.9,
         "y": 0.98
        },
        "margin": {
         "b": 70,
         "l": 70,
         "r": 30,
         "t": 50
        },
        "template": {
         "data": {
          "bar": [
           {
            "error_x": {
             "color": "#2a3f5f"
            },
            "error_y": {
             "color": "#2a3f5f"
            },
            "marker": {
             "line": {
              "color": "#E5ECF6",
              "width": 0.5
             },
             "pattern": {
              "fillmode": "overlay",
              "size": 10,
              "solidity": 0.2
             }
            },
            "type": "bar"
           }
          ],
          "barpolar": [
           {
            "marker": {
             "line": {
              "color": "#E5ECF6",
              "width": 0.5
             },
             "pattern": {
              "fillmode": "overlay",
              "size": 10,
              "solidity": 0.2
             }
            },
            "type": "barpolar"
           }
          ],
          "carpet": [
           {
            "aaxis": {
             "endlinecolor": "#2a3f5f",
             "gridcolor": "white",
             "linecolor": "white",
             "minorgridcolor": "white",
             "startlinecolor": "#2a3f5f"
            },
            "baxis": {
             "endlinecolor": "#2a3f5f",
             "gridcolor": "white",
             "linecolor": "white",
             "minorgridcolor": "white",
             "startlinecolor": "#2a3f5f"
            },
            "type": "carpet"
           }
          ],
          "choropleth": [
           {
            "colorbar": {
             "outlinewidth": 0,
             "ticks": ""
            },
            "type": "choropleth"
           }
          ],
          "contour": [
           {
            "colorbar": {
             "outlinewidth": 0,
             "ticks": ""
            },
            "colorscale": [
             [
              0,
              "#0d0887"
             ],
             [
              0.1111111111111111,
              "#46039f"
             ],
             [
              0.2222222222222222,
              "#7201a8"
             ],
             [
              0.3333333333333333,
              "#9c179e"
             ],
             [
              0.4444444444444444,
              "#bd3786"
             ],
             [
              0.5555555555555556,
              "#d8576b"
             ],
             [
              0.6666666666666666,
              "#ed7953"
             ],
             [
              0.7777777777777778,
              "#fb9f3a"
             ],
             [
              0.8888888888888888,
              "#fdca26"
             ],
             [
              1,
              "#f0f921"
             ]
            ],
            "type": "contour"
           }
          ],
          "contourcarpet": [
           {
            "colorbar": {
             "outlinewidth": 0,
             "ticks": ""
            },
            "type": "contourcarpet"
           }
          ],
          "heatmap": [
           {
            "colorbar": {
             "outlinewidth": 0,
             "ticks": ""
            },
            "colorscale": [
             [
              0,
              "#0d0887"
             ],
             [
              0.1111111111111111,
              "#46039f"
             ],
             [
              0.2222222222222222,
              "#7201a8"
             ],
             [
              0.3333333333333333,
              "#9c179e"
             ],
             [
              0.4444444444444444,
              "#bd3786"
             ],
             [
              0.5555555555555556,
              "#d8576b"
             ],
             [
              0.6666666666666666,
              "#ed7953"
             ],
             [
              0.7777777777777778,
              "#fb9f3a"
             ],
             [
              0.8888888888888888,
              "#fdca26"
             ],
             [
              1,
              "#f0f921"
             ]
            ],
            "type": "heatmap"
           }
          ],
          "heatmapgl": [
           {
            "colorbar": {
             "outlinewidth": 0,
             "ticks": ""
            },
            "colorscale": [
             [
              0,
              "#0d0887"
             ],
             [
              0.1111111111111111,
              "#46039f"
             ],
             [
              0.2222222222222222,
              "#7201a8"
             ],
             [
              0.3333333333333333,
              "#9c179e"
             ],
             [
              0.4444444444444444,
              "#bd3786"
             ],
             [
              0.5555555555555556,
              "#d8576b"
             ],
             [
              0.6666666666666666,
              "#ed7953"
             ],
             [
              0.7777777777777778,
              "#fb9f3a"
             ],
             [
              0.8888888888888888,
              "#fdca26"
             ],
             [
              1,
              "#f0f921"
             ]
            ],
            "type": "heatmapgl"
           }
          ],
          "histogram": [
           {
            "marker": {
             "pattern": {
              "fillmode": "overlay",
              "size": 10,
              "solidity": 0.2
             }
            },
            "type": "histogram"
           }
          ],
          "histogram2d": [
           {
            "colorbar": {
             "outlinewidth": 0,
             "ticks": ""
            },
            "colorscale": [
             [
              0,
              "#0d0887"
             ],
             [
              0.1111111111111111,
              "#46039f"
             ],
             [
              0.2222222222222222,
              "#7201a8"
             ],
             [
              0.3333333333333333,
              "#9c179e"
             ],
             [
              0.4444444444444444,
              "#bd3786"
             ],
             [
              0.5555555555555556,
              "#d8576b"
             ],
             [
              0.6666666666666666,
              "#ed7953"
             ],
             [
              0.7777777777777778,
              "#fb9f3a"
             ],
             [
              0.8888888888888888,
              "#fdca26"
             ],
             [
              1,
              "#f0f921"
             ]
            ],
            "type": "histogram2d"
           }
          ],
          "histogram2dcontour": [
           {
            "colorbar": {
             "outlinewidth": 0,
             "ticks": ""
            },
            "colorscale": [
             [
              0,
              "#0d0887"
             ],
             [
              0.1111111111111111,
              "#46039f"
             ],
             [
              0.2222222222222222,
              "#7201a8"
             ],
             [
              0.3333333333333333,
              "#9c179e"
             ],
             [
              0.4444444444444444,
              "#bd3786"
             ],
             [
              0.5555555555555556,
              "#d8576b"
             ],
             [
              0.6666666666666666,
              "#ed7953"
             ],
             [
              0.7777777777777778,
              "#fb9f3a"
             ],
             [
              0.8888888888888888,
              "#fdca26"
             ],
             [
              1,
              "#f0f921"
             ]
            ],
            "type": "histogram2dcontour"
           }
          ],
          "mesh3d": [
           {
            "colorbar": {
             "outlinewidth": 0,
             "ticks": ""
            },
            "type": "mesh3d"
           }
          ],
          "parcoords": [
           {
            "line": {
             "colorbar": {
              "outlinewidth": 0,
              "ticks": ""
             }
            },
            "type": "parcoords"
           }
          ],
          "pie": [
           {
            "automargin": true,
            "type": "pie"
           }
          ],
          "scatter": [
           {
            "fillpattern": {
             "fillmode": "overlay",
             "size": 10,
             "solidity": 0.2
            },
            "type": "scatter"
           }
          ],
          "scatter3d": [
           {
            "line": {
             "colorbar": {
              "outlinewidth": 0,
              "ticks": ""
             }
            },
            "marker": {
             "colorbar": {
              "outlinewidth": 0,
              "ticks": ""
             }
            },
            "type": "scatter3d"
           }
          ],
          "scattercarpet": [
           {
            "marker": {
             "colorbar": {
              "outlinewidth": 0,
              "ticks": ""
             }
            },
            "type": "scattercarpet"
           }
          ],
          "scattergeo": [
           {
            "marker": {
             "colorbar": {
              "outlinewidth": 0,
              "ticks": ""
             }
            },
            "type": "scattergeo"
           }
          ],
          "scattergl": [
           {
            "marker": {
             "colorbar": {
              "outlinewidth": 0,
              "ticks": ""
             }
            },
            "type": "scattergl"
           }
          ],
          "scattermapbox": [
           {
            "marker": {
             "colorbar": {
              "outlinewidth": 0,
              "ticks": ""
             }
            },
            "type": "scattermapbox"
           }
          ],
          "scatterpolar": [
           {
            "marker": {
             "colorbar": {
              "outlinewidth": 0,
              "ticks": ""
             }
            },
            "type": "scatterpolar"
           }
          ],
          "scatterpolargl": [
           {
            "marker": {
             "colorbar": {
              "outlinewidth": 0,
              "ticks": ""
             }
            },
            "type": "scatterpolargl"
           }
          ],
          "scatterternary": [
           {
            "marker": {
             "colorbar": {
              "outlinewidth": 0,
              "ticks": ""
             }
            },
            "type": "scatterternary"
           }
          ],
          "surface": [
           {
            "colorbar": {
             "outlinewidth": 0,
             "ticks": ""
            },
            "colorscale": [
             [
              0,
              "#0d0887"
             ],
             [
              0.1111111111111111,
              "#46039f"
             ],
             [
              0.2222222222222222,
              "#7201a8"
             ],
             [
              0.3333333333333333,
              "#9c179e"
             ],
             [
              0.4444444444444444,
              "#bd3786"
             ],
             [
              0.5555555555555556,
              "#d8576b"
             ],
             [
              0.6666666666666666,
              "#ed7953"
             ],
             [
              0.7777777777777778,
              "#fb9f3a"
             ],
             [
              0.8888888888888888,
              "#fdca26"
             ],
             [
              1,
              "#f0f921"
             ]
            ],
            "type": "surface"
           }
          ],
          "table": [
           {
            "cells": {
             "fill": {
              "color": "#EBF0F8"
             },
             "line": {
              "color": "white"
             }
            },
            "header": {
             "fill": {
              "color": "#C8D4E3"
             },
             "line": {
              "color": "white"
             }
            },
            "type": "table"
           }
          ]
         },
         "layout": {
          "annotationdefaults": {
           "arrowcolor": "#2a3f5f",
           "arrowhead": 0,
           "arrowwidth": 1
          },
          "autotypenumbers": "strict",
          "coloraxis": {
           "colorbar": {
            "outlinewidth": 0,
            "ticks": ""
           }
          },
          "colorscale": {
           "diverging": [
            [
             0,
             "#8e0152"
            ],
            [
             0.1,
             "#c51b7d"
            ],
            [
             0.2,
             "#de77ae"
            ],
            [
             0.3,
             "#f1b6da"
            ],
            [
             0.4,
             "#fde0ef"
            ],
            [
             0.5,
             "#f7f7f7"
            ],
            [
             0.6,
             "#e6f5d0"
            ],
            [
             0.7,
             "#b8e186"
            ],
            [
             0.8,
             "#7fbc41"
            ],
            [
             0.9,
             "#4d9221"
            ],
            [
             1,
             "#276419"
            ]
           ],
           "sequential": [
            [
             0,
             "#0d0887"
            ],
            [
             0.1111111111111111,
             "#46039f"
            ],
            [
             0.2222222222222222,
             "#7201a8"
            ],
            [
             0.3333333333333333,
             "#9c179e"
            ],
            [
             0.4444444444444444,
             "#bd3786"
            ],
            [
             0.5555555555555556,
             "#d8576b"
            ],
            [
             0.6666666666666666,
             "#ed7953"
            ],
            [
             0.7777777777777778,
             "#fb9f3a"
            ],
            [
             0.8888888888888888,
             "#fdca26"
            ],
            [
             1,
             "#f0f921"
            ]
           ],
           "sequentialminus": [
            [
             0,
             "#0d0887"
            ],
            [
             0.1111111111111111,
             "#46039f"
            ],
            [
             0.2222222222222222,
             "#7201a8"
            ],
            [
             0.3333333333333333,
             "#9c179e"
            ],
            [
             0.4444444444444444,
             "#bd3786"
            ],
            [
             0.5555555555555556,
             "#d8576b"
            ],
            [
             0.6666666666666666,
             "#ed7953"
            ],
            [
             0.7777777777777778,
             "#fb9f3a"
            ],
            [
             0.8888888888888888,
             "#fdca26"
            ],
            [
             1,
             "#f0f921"
            ]
           ]
          },
          "colorway": [
           "#636efa",
           "#EF553B",
           "#00cc96",
           "#ab63fa",
           "#FFA15A",
           "#19d3f3",
           "#FF6692",
           "#B6E880",
           "#FF97FF",
           "#FECB52"
          ],
          "font": {
           "color": "#2a3f5f"
          },
          "geo": {
           "bgcolor": "white",
           "lakecolor": "white",
           "landcolor": "#E5ECF6",
           "showlakes": true,
           "showland": true,
           "subunitcolor": "white"
          },
          "hoverlabel": {
           "align": "left"
          },
          "hovermode": "closest",
          "mapbox": {
           "style": "light"
          },
          "paper_bgcolor": "white",
          "plot_bgcolor": "#E5ECF6",
          "polar": {
           "angularaxis": {
            "gridcolor": "white",
            "linecolor": "white",
            "ticks": ""
           },
           "bgcolor": "#E5ECF6",
           "radialaxis": {
            "gridcolor": "white",
            "linecolor": "white",
            "ticks": ""
           }
          },
          "scene": {
           "xaxis": {
            "backgroundcolor": "#E5ECF6",
            "gridcolor": "white",
            "gridwidth": 2,
            "linecolor": "white",
            "showbackground": true,
            "ticks": "",
            "zerolinecolor": "white"
           },
           "yaxis": {
            "backgroundcolor": "#E5ECF6",
            "gridcolor": "white",
            "gridwidth": 2,
            "linecolor": "white",
            "showbackground": true,
            "ticks": "",
            "zerolinecolor": "white"
           },
           "zaxis": {
            "backgroundcolor": "#E5ECF6",
            "gridcolor": "white",
            "gridwidth": 2,
            "linecolor": "white",
            "showbackground": true,
            "ticks": "",
            "zerolinecolor": "white"
           }
          },
          "shapedefaults": {
           "line": {
            "color": "#2a3f5f"
           }
          },
          "ternary": {
           "aaxis": {
            "gridcolor": "white",
            "linecolor": "white",
            "ticks": ""
           },
           "baxis": {
            "gridcolor": "white",
            "linecolor": "white",
            "ticks": ""
           },
           "bgcolor": "#E5ECF6",
           "caxis": {
            "gridcolor": "white",
            "linecolor": "white",
            "ticks": ""
           }
          },
          "title": {
           "x": 0.05
          },
          "xaxis": {
           "automargin": true,
           "gridcolor": "white",
           "linecolor": "white",
           "ticks": "",
           "title": {
            "standoff": 15
           },
           "zerolinecolor": "white",
           "zerolinewidth": 2
          },
          "yaxis": {
           "automargin": true,
           "gridcolor": "white",
           "linecolor": "white",
           "ticks": "",
           "title": {
            "standoff": 15
           },
           "zerolinecolor": "white",
           "zerolinewidth": 2
          }
         }
        },
        "width": 1296,
        "xaxis": {
         "anchor": "y",
         "domain": [
          0,
          0.475
         ],
         "dtick": 5,
         "tickangle": -20,
         "ticktext": [
          "input",
          "5",
          "10",
          "15",
          "20",
          "25",
          "30",
          "35",
          "40",
          "45",
          "50",
          "55",
          "60",
          "65",
          "70",
          "75",
          "80",
          "85",
          "90",
          "95",
          "100",
          "105",
          "110",
          "115",
          "120",
          "125",
          "130",
          "135",
          "140",
          "145",
          "150",
          "155",
          "160",
          "165",
          "170",
          "175",
          "180",
          "185",
          "190",
          "195",
          "200",
          "205",
          "210",
          "215"
         ],
         "tickvals": [
          0,
          5,
          10,
          15,
          20,
          25,
          30,
          35,
          40,
          45
         ]
        },
        "xaxis2": {
         "anchor": "y2",
         "domain": [
          0.525,
          1
         ],
         "dtick": 5,
         "tickangle": -20,
         "ticktext": [
          "input",
          "5",
          "10",
          "15",
          "20",
          "25",
          "30",
          "35",
          "40",
          "45",
          "50",
          "55",
          "60",
          "65",
          "70",
          "75",
          "80",
          "85",
          "90",
          "95",
          "100",
          "105",
          "110",
          "115",
          "120",
          "125",
          "130",
          "135",
          "140",
          "145",
          "150",
          "155",
          "160",
          "165",
          "170",
          "175",
          "180",
          "185",
          "190",
          "195",
          "200",
          "205",
          "210",
          "215"
         ],
         "tickvals": [
          0,
          5,
          10,
          15,
          20,
          25,
          30,
          35,
          40,
          45
         ]
        },
        "yaxis": {
         "anchor": "x",
         "domain": [
          0,
          1
         ],
         "range": [
          0,
          5
         ]
        },
        "yaxis2": {
         "anchor": "x2",
         "domain": [
          0,
          1
         ],
         "range": [
          0,
          5
         ]
        }
       }
      },
      "text/html": [
       "<div>                            <div id=\"b070bc99-fa79-4b0c-8c10-298a1e5676b1\" class=\"plotly-graph-div\" style=\"height:518.4px; width:1296.0px;\"></div>            <script type=\"text/javascript\">                require([\"plotly\"], function(Plotly) {                    window.PLOTLYENV=window.PLOTLYENV || {};                                    if (document.getElementById(\"b070bc99-fa79-4b0c-8c10-298a1e5676b1\")) {                    Plotly.newPlot(                        \"b070bc99-fa79-4b0c-8c10-298a1e5676b1\",                        [{\"marker\":{\"color\":\"#0d0887\"},\"mode\":\"lines+markers\",\"name\":\"small\",\"showlegend\":false,\"x\":[0,1,2,3,4,5,6,7,8,9,10,11],\"y\":[20.91238021850586,4.160318851470947,3.743499279022217,3.6610782146453857,3.5924417972564697,3.5493977069854736,3.0734760761260986,2.87530779838562,2.523982048034668,2.3736941814422607,2.1506547927856445,1.7409791946411133],\"type\":\"scatter\",\"xaxis\":\"x\",\"yaxis\":\"y\"},{\"marker\":{\"color\":\"#7201a8\"},\"mode\":\"lines+markers\",\"name\":\"medium\",\"showlegend\":false,\"x\":[0,1,2,3,4,5,6,7,8,9,10,11,12,13,14,15,16,17,18,19,20,21,22,23],\"y\":[34.0505485534668,3.606278419494629,3.3989193439483643,3.2476418018341064,3.2198727130889893,3.1356914043426514,3.0265674591064453,2.900223970413208,2.8240301609039307,2.7757859230041504,2.520437240600586,2.437396764755249,2.3690717220306396,2.2839906215667725,2.2054028511047363,2.1538405418395996,2.0906949043273926,2.0657730102539062,2.0030016899108887,1.9338234663009644,1.812157392501831,1.6387004852294922,1.4176008701324463,1.1472890377044678],\"type\":\"scatter\",\"xaxis\":\"x\",\"yaxis\":\"y\"},{\"marker\":{\"color\":\"#bd3786\"},\"mode\":\"lines+markers\",\"name\":\"large\",\"showlegend\":false,\"x\":[0,1,2,3,4,5,6,7,8,9,10,11,12,13,14,15,16,17,18,19,20,21,22,23,24,25,26,27,28,29,30,31,32,33,34,35],\"y\":[21.63176727294922,4.34962272644043,3.3829567432403564,3.15132999420166,3.0546560287475586,3.009438991546631,2.977490186691284,2.9222941398620605,2.8638434410095215,2.820061683654785,2.7825472354888916,2.7496774196624756,2.6736769676208496,2.6316285133361816,2.5912225246429443,2.565314292907715,2.5302798748016357,2.4543535709381104,2.349787473678589,2.2429392337799072,2.1286063194274902,1.994699478149414,1.904603362083435,1.8211393356323242,1.7462263107299805,1.6894054412841797,1.653206706047058,1.603877305984497,1.5595264434814453,1.5203192234039307,1.469533920288086,1.4102728366851807,1.3456588983535767,1.2494109869003296,1.1504039764404297,1.0867921113967896],\"type\":\"scatter\",\"xaxis\":\"x\",\"yaxis\":\"y\"},{\"marker\":{\"color\":\"#ed7953\"},\"mode\":\"lines+markers\",\"name\":\"xl\",\"showlegend\":false,\"x\":[0,1,2,3,4,5,6,7,8,9,10,11,12,13,14,15,16,17,18,19,20,21,22,23,24,25,26,27,28,29,30,31,32,33,34,35,36,37,38,39,40,41,42,43,44,45,46,47],\"y\":[24.390623092651367,3.5273051261901855,3.206670045852661,3.088364601135254,3.0587849617004395,3.029956102371216,2.993494749069214,2.9821085929870605,2.9721016883850098,2.954876661300659,2.9523911476135254,2.9052581787109375,2.890160322189331,2.858611583709717,2.800386905670166,2.767939329147339,2.756424903869629,2.7115464210510254,2.6467533111572266,2.6227009296417236,2.551013946533203,2.479895830154419,2.412473678588867,2.325258731842041,2.252864360809326,2.2269396781921387,2.1408374309539795,2.069132089614868,2.020773410797119,1.9771548509597778,1.9182313680648804,1.8868244886398315,1.8524290323257446,1.8189220428466797,1.7940232753753662,1.7673530578613281,1.7342033386230469,1.7043758630752563,1.674826741218567,1.6269832849502563,1.573206901550293,1.5215376615524292,1.4548180103302002,1.3812174797058105,1.3017847537994385,1.2012503147125244,1.1095143556594849,1.0779497623443604],\"type\":\"scatter\",\"xaxis\":\"x\",\"yaxis\":\"y\"},{\"marker\":{\"color\":\"#0d0887\"},\"mode\":\"lines+markers\",\"name\":\"small\",\"x\":[0,1,2,3,4,5,6,7,8,9,10,11],\"y\":[3.2249772548675537,2.3421075344085693,2.2658796310424805,2.1929433345794678,2.1297338008880615,2.0824642181396484,1.8567992448806763,1.7370684146881104,1.5696264505386353,1.4780168533325195,1.366066336631775,1.2884092330932617],\"type\":\"scatter\",\"xaxis\":\"x2\",\"yaxis\":\"y2\"},{\"marker\":{\"color\":\"#7201a8\"},\"mode\":\"lines+markers\",\"name\":\"medium\",\"x\":[0,1,2,3,4,5,6,7,8,9,10,11,12,13,14,15,16,17,18,19,20,21,22,23],\"y\":[2.913273811340332,2.2863502502441406,2.218090295791626,2.14640212059021,2.0828042030334473,2.039590358734131,1.9638973474502563,1.8754034042358398,1.8353480100631714,1.824481725692749,1.709678053855896,1.664526343345642,1.6015974283218384,1.54265296459198,1.4828782081604004,1.4269850254058838,1.3719252347946167,1.326317548751831,1.286561369895935,1.2405678033828735,1.1999324560165405,1.1581629514694214,1.1261029243469238,1.0951426029205322],\"type\":\"scatter\",\"xaxis\":\"x2\",\"yaxis\":\"y2\"},{\"marker\":{\"color\":\"#bd3786\"},\"mode\":\"lines+markers\",\"name\":\"large\",\"x\":[0,1,2,3,4,5,6,7,8,9,10,11,12,13,14,15,16,17,18,19,20,21,22,23,24,25,26,27,28,29,30,31,32,33,34,35],\"y\":[3.0240650177001953,2.3684937953948975,2.2680652141571045,2.2134878635406494,2.1727113723754883,2.1383957862854004,2.106754779815674,2.081577777862549,2.0584685802459717,2.0295426845550537,2.0087437629699707,1.9874966144561768,1.9168592691421509,1.8798861503601074,1.8657070398330688,1.853132963180542,1.8234531879425049,1.7536509037017822,1.682943344116211,1.6265267133712769,1.5637884140014648,1.4985883235931396,1.4525525569915771,1.4093427658081055,1.3650000095367432,1.3283300399780273,1.2987844944000244,1.265440821647644,1.2388311624526978,1.2123205661773682,1.1879603862762451,1.1645790338516235,1.1404443979263306,1.118094563484192,1.0971300601959229,1.0834782123565674],\"type\":\"scatter\",\"xaxis\":\"x2\",\"yaxis\":\"y2\"},{\"marker\":{\"color\":\"#ed7953\"},\"mode\":\"lines+markers\",\"name\":\"xl\",\"x\":[0,1,2,3,4,5,6,7,8,9,10,11,12,13,14,15,16,17,18,19,20,21,22,23,24,25,26,27,28,29,30,31,32,33,34,35,36,37,38,39,40,41,42,43,44,45,46,47],\"y\":[3.4809775352478027,2.4669559001922607,2.3809096813201904,2.3386785984039307,2.306546926498413,2.280435800552368,2.251579761505127,2.228834629058838,2.209123134613037,2.1895229816436768,2.17478346824646,2.1476500034332275,2.13210391998291,2.113279342651367,2.066251039505005,2.0500099658966064,2.038296937942505,1.987731695175171,1.9306831359863281,1.8960623741149902,1.850411057472229,1.8091344833374023,1.7599046230316162,1.7055027484893799,1.6571961641311646,1.6235295534133911,1.5633515119552612,1.517669677734375,1.477670669555664,1.441899299621582,1.4028687477111816,1.3768235445022583,1.3464024066925049,1.323625087738037,1.3018354177474976,1.2775636911392212,1.2524839639663696,1.2342079877853394,1.2159664630889893,1.1957708597183228,1.1766525506973267,1.157075047492981,1.1373661756515503,1.1192915439605713,1.098776936531067,1.0749273300170898,1.0535337924957275,1.043821096420288],\"type\":\"scatter\",\"xaxis\":\"x2\",\"yaxis\":\"y2\"}],                        {\"template\":{\"data\":{\"histogram2dcontour\":[{\"type\":\"histogram2dcontour\",\"colorbar\":{\"outlinewidth\":0,\"ticks\":\"\"},\"colorscale\":[[0.0,\"#0d0887\"],[0.1111111111111111,\"#46039f\"],[0.2222222222222222,\"#7201a8\"],[0.3333333333333333,\"#9c179e\"],[0.4444444444444444,\"#bd3786\"],[0.5555555555555556,\"#d8576b\"],[0.6666666666666666,\"#ed7953\"],[0.7777777777777778,\"#fb9f3a\"],[0.8888888888888888,\"#fdca26\"],[1.0,\"#f0f921\"]]}],\"choropleth\":[{\"type\":\"choropleth\",\"colorbar\":{\"outlinewidth\":0,\"ticks\":\"\"}}],\"histogram2d\":[{\"type\":\"histogram2d\",\"colorbar\":{\"outlinewidth\":0,\"ticks\":\"\"},\"colorscale\":[[0.0,\"#0d0887\"],[0.1111111111111111,\"#46039f\"],[0.2222222222222222,\"#7201a8\"],[0.3333333333333333,\"#9c179e\"],[0.4444444444444444,\"#bd3786\"],[0.5555555555555556,\"#d8576b\"],[0.6666666666666666,\"#ed7953\"],[0.7777777777777778,\"#fb9f3a\"],[0.8888888888888888,\"#fdca26\"],[1.0,\"#f0f921\"]]}],\"heatmap\":[{\"type\":\"heatmap\",\"colorbar\":{\"outlinewidth\":0,\"ticks\":\"\"},\"colorscale\":[[0.0,\"#0d0887\"],[0.1111111111111111,\"#46039f\"],[0.2222222222222222,\"#7201a8\"],[0.3333333333333333,\"#9c179e\"],[0.4444444444444444,\"#bd3786\"],[0.5555555555555556,\"#d8576b\"],[0.6666666666666666,\"#ed7953\"],[0.7777777777777778,\"#fb9f3a\"],[0.8888888888888888,\"#fdca26\"],[1.0,\"#f0f921\"]]}],\"heatmapgl\":[{\"type\":\"heatmapgl\",\"colorbar\":{\"outlinewidth\":0,\"ticks\":\"\"},\"colorscale\":[[0.0,\"#0d0887\"],[0.1111111111111111,\"#46039f\"],[0.2222222222222222,\"#7201a8\"],[0.3333333333333333,\"#9c179e\"],[0.4444444444444444,\"#bd3786\"],[0.5555555555555556,\"#d8576b\"],[0.6666666666666666,\"#ed7953\"],[0.7777777777777778,\"#fb9f3a\"],[0.8888888888888888,\"#fdca26\"],[1.0,\"#f0f921\"]]}],\"contourcarpet\":[{\"type\":\"contourcarpet\",\"colorbar\":{\"outlinewidth\":0,\"ticks\":\"\"}}],\"contour\":[{\"type\":\"contour\",\"colorbar\":{\"outlinewidth\":0,\"ticks\":\"\"},\"colorscale\":[[0.0,\"#0d0887\"],[0.1111111111111111,\"#46039f\"],[0.2222222222222222,\"#7201a8\"],[0.3333333333333333,\"#9c179e\"],[0.4444444444444444,\"#bd3786\"],[0.5555555555555556,\"#d8576b\"],[0.6666666666666666,\"#ed7953\"],[0.7777777777777778,\"#fb9f3a\"],[0.8888888888888888,\"#fdca26\"],[1.0,\"#f0f921\"]]}],\"surface\":[{\"type\":\"surface\",\"colorbar\":{\"outlinewidth\":0,\"ticks\":\"\"},\"colorscale\":[[0.0,\"#0d0887\"],[0.1111111111111111,\"#46039f\"],[0.2222222222222222,\"#7201a8\"],[0.3333333333333333,\"#9c179e\"],[0.4444444444444444,\"#bd3786\"],[0.5555555555555556,\"#d8576b\"],[0.6666666666666666,\"#ed7953\"],[0.7777777777777778,\"#fb9f3a\"],[0.8888888888888888,\"#fdca26\"],[1.0,\"#f0f921\"]]}],\"mesh3d\":[{\"type\":\"mesh3d\",\"colorbar\":{\"outlinewidth\":0,\"ticks\":\"\"}}],\"scatter\":[{\"fillpattern\":{\"fillmode\":\"overlay\",\"size\":10,\"solidity\":0.2},\"type\":\"scatter\"}],\"parcoords\":[{\"type\":\"parcoords\",\"line\":{\"colorbar\":{\"outlinewidth\":0,\"ticks\":\"\"}}}],\"scatterpolargl\":[{\"type\":\"scatterpolargl\",\"marker\":{\"colorbar\":{\"outlinewidth\":0,\"ticks\":\"\"}}}],\"bar\":[{\"error_x\":{\"color\":\"#2a3f5f\"},\"error_y\":{\"color\":\"#2a3f5f\"},\"marker\":{\"line\":{\"color\":\"#E5ECF6\",\"width\":0.5},\"pattern\":{\"fillmode\":\"overlay\",\"size\":10,\"solidity\":0.2}},\"type\":\"bar\"}],\"scattergeo\":[{\"type\":\"scattergeo\",\"marker\":{\"colorbar\":{\"outlinewidth\":0,\"ticks\":\"\"}}}],\"scatterpolar\":[{\"type\":\"scatterpolar\",\"marker\":{\"colorbar\":{\"outlinewidth\":0,\"ticks\":\"\"}}}],\"histogram\":[{\"marker\":{\"pattern\":{\"fillmode\":\"overlay\",\"size\":10,\"solidity\":0.2}},\"type\":\"histogram\"}],\"scattergl\":[{\"type\":\"scattergl\",\"marker\":{\"colorbar\":{\"outlinewidth\":0,\"ticks\":\"\"}}}],\"scatter3d\":[{\"type\":\"scatter3d\",\"line\":{\"colorbar\":{\"outlinewidth\":0,\"ticks\":\"\"}},\"marker\":{\"colorbar\":{\"outlinewidth\":0,\"ticks\":\"\"}}}],\"scattermapbox\":[{\"type\":\"scattermapbox\",\"marker\":{\"colorbar\":{\"outlinewidth\":0,\"ticks\":\"\"}}}],\"scatterternary\":[{\"type\":\"scatterternary\",\"marker\":{\"colorbar\":{\"outlinewidth\":0,\"ticks\":\"\"}}}],\"scattercarpet\":[{\"type\":\"scattercarpet\",\"marker\":{\"colorbar\":{\"outlinewidth\":0,\"ticks\":\"\"}}}],\"carpet\":[{\"aaxis\":{\"endlinecolor\":\"#2a3f5f\",\"gridcolor\":\"white\",\"linecolor\":\"white\",\"minorgridcolor\":\"white\",\"startlinecolor\":\"#2a3f5f\"},\"baxis\":{\"endlinecolor\":\"#2a3f5f\",\"gridcolor\":\"white\",\"linecolor\":\"white\",\"minorgridcolor\":\"white\",\"startlinecolor\":\"#2a3f5f\"},\"type\":\"carpet\"}],\"table\":[{\"cells\":{\"fill\":{\"color\":\"#EBF0F8\"},\"line\":{\"color\":\"white\"}},\"header\":{\"fill\":{\"color\":\"#C8D4E3\"},\"line\":{\"color\":\"white\"}},\"type\":\"table\"}],\"barpolar\":[{\"marker\":{\"line\":{\"color\":\"#E5ECF6\",\"width\":0.5},\"pattern\":{\"fillmode\":\"overlay\",\"size\":10,\"solidity\":0.2}},\"type\":\"barpolar\"}],\"pie\":[{\"automargin\":true,\"type\":\"pie\"}]},\"layout\":{\"autotypenumbers\":\"strict\",\"colorway\":[\"#636efa\",\"#EF553B\",\"#00cc96\",\"#ab63fa\",\"#FFA15A\",\"#19d3f3\",\"#FF6692\",\"#B6E880\",\"#FF97FF\",\"#FECB52\"],\"font\":{\"color\":\"#2a3f5f\"},\"hovermode\":\"closest\",\"hoverlabel\":{\"align\":\"left\"},\"paper_bgcolor\":\"white\",\"plot_bgcolor\":\"#E5ECF6\",\"polar\":{\"bgcolor\":\"#E5ECF6\",\"angularaxis\":{\"gridcolor\":\"white\",\"linecolor\":\"white\",\"ticks\":\"\"},\"radialaxis\":{\"gridcolor\":\"white\",\"linecolor\":\"white\",\"ticks\":\"\"}},\"ternary\":{\"bgcolor\":\"#E5ECF6\",\"aaxis\":{\"gridcolor\":\"white\",\"linecolor\":\"white\",\"ticks\":\"\"},\"baxis\":{\"gridcolor\":\"white\",\"linecolor\":\"white\",\"ticks\":\"\"},\"caxis\":{\"gridcolor\":\"white\",\"linecolor\":\"white\",\"ticks\":\"\"}},\"coloraxis\":{\"colorbar\":{\"outlinewidth\":0,\"ticks\":\"\"}},\"colorscale\":{\"sequential\":[[0.0,\"#0d0887\"],[0.1111111111111111,\"#46039f\"],[0.2222222222222222,\"#7201a8\"],[0.3333333333333333,\"#9c179e\"],[0.4444444444444444,\"#bd3786\"],[0.5555555555555556,\"#d8576b\"],[0.6666666666666666,\"#ed7953\"],[0.7777777777777778,\"#fb9f3a\"],[0.8888888888888888,\"#fdca26\"],[1.0,\"#f0f921\"]],\"sequentialminus\":[[0.0,\"#0d0887\"],[0.1111111111111111,\"#46039f\"],[0.2222222222222222,\"#7201a8\"],[0.3333333333333333,\"#9c179e\"],[0.4444444444444444,\"#bd3786\"],[0.5555555555555556,\"#d8576b\"],[0.6666666666666666,\"#ed7953\"],[0.7777777777777778,\"#fb9f3a\"],[0.8888888888888888,\"#fdca26\"],[1.0,\"#f0f921\"]],\"diverging\":[[0,\"#8e0152\"],[0.1,\"#c51b7d\"],[0.2,\"#de77ae\"],[0.3,\"#f1b6da\"],[0.4,\"#fde0ef\"],[0.5,\"#f7f7f7\"],[0.6,\"#e6f5d0\"],[0.7,\"#b8e186\"],[0.8,\"#7fbc41\"],[0.9,\"#4d9221\"],[1,\"#276419\"]]},\"xaxis\":{\"gridcolor\":\"white\",\"linecolor\":\"white\",\"ticks\":\"\",\"title\":{\"standoff\":15},\"zerolinecolor\":\"white\",\"automargin\":true,\"zerolinewidth\":2},\"yaxis\":{\"gridcolor\":\"white\",\"linecolor\":\"white\",\"ticks\":\"\",\"title\":{\"standoff\":15},\"zerolinecolor\":\"white\",\"automargin\":true,\"zerolinewidth\":2},\"scene\":{\"xaxis\":{\"backgroundcolor\":\"#E5ECF6\",\"gridcolor\":\"white\",\"linecolor\":\"white\",\"showbackground\":true,\"ticks\":\"\",\"zerolinecolor\":\"white\",\"gridwidth\":2},\"yaxis\":{\"backgroundcolor\":\"#E5ECF6\",\"gridcolor\":\"white\",\"linecolor\":\"white\",\"showbackground\":true,\"ticks\":\"\",\"zerolinecolor\":\"white\",\"gridwidth\":2},\"zaxis\":{\"backgroundcolor\":\"#E5ECF6\",\"gridcolor\":\"white\",\"linecolor\":\"white\",\"showbackground\":true,\"ticks\":\"\",\"zerolinecolor\":\"white\",\"gridwidth\":2}},\"shapedefaults\":{\"line\":{\"color\":\"#2a3f5f\"}},\"annotationdefaults\":{\"arrowcolor\":\"#2a3f5f\",\"arrowhead\":0,\"arrowwidth\":1},\"geo\":{\"bgcolor\":\"white\",\"landcolor\":\"#E5ECF6\",\"subunitcolor\":\"white\",\"showland\":true,\"showlakes\":true,\"lakecolor\":\"white\"},\"title\":{\"x\":0.05},\"mapbox\":{\"style\":\"light\"}}},\"xaxis\":{\"anchor\":\"y\",\"domain\":[0.0,0.475],\"dtick\":5,\"tickangle\":-20,\"tickvals\":[0,5,10,15,20,25,30,35,40,45],\"ticktext\":[\"input\",\"5\",\"10\",\"15\",\"20\",\"25\",\"30\",\"35\",\"40\",\"45\",\"50\",\"55\",\"60\",\"65\",\"70\",\"75\",\"80\",\"85\",\"90\",\"95\",\"100\",\"105\",\"110\",\"115\",\"120\",\"125\",\"130\",\"135\",\"140\",\"145\",\"150\",\"155\",\"160\",\"165\",\"170\",\"175\",\"180\",\"185\",\"190\",\"195\",\"200\",\"205\",\"210\",\"215\"]},\"yaxis\":{\"anchor\":\"x\",\"domain\":[0.0,1.0],\"range\":[0,5]},\"xaxis2\":{\"anchor\":\"y2\",\"domain\":[0.525,1.0],\"dtick\":5,\"tickangle\":-20,\"tickvals\":[0,5,10,15,20,25,30,35,40,45],\"ticktext\":[\"input\",\"5\",\"10\",\"15\",\"20\",\"25\",\"30\",\"35\",\"40\",\"45\",\"50\",\"55\",\"60\",\"65\",\"70\",\"75\",\"80\",\"85\",\"90\",\"95\",\"100\",\"105\",\"110\",\"115\",\"120\",\"125\",\"130\",\"135\",\"140\",\"145\",\"150\",\"155\",\"160\",\"165\",\"170\",\"175\",\"180\",\"185\",\"190\",\"195\",\"200\",\"205\",\"210\",\"215\"]},\"yaxis2\":{\"anchor\":\"x2\",\"domain\":[0.0,1.0],\"range\":[0,5]},\"annotations\":[{\"font\":{\"size\":20,\"color\":\"black\"},\"showarrow\":false,\"text\":\"Logit lens (baseline)\",\"x\":0.2375,\"xanchor\":\"center\",\"xref\":\"paper\",\"y\":1.0,\"yanchor\":\"bottom\",\"yref\":\"paper\"},{\"font\":{\"size\":20,\"color\":\"black\"},\"showarrow\":false,\"text\":\"Tuned lens (ours)\",\"x\":0.7625,\"xanchor\":\"center\",\"xref\":\"paper\",\"y\":1.0,\"yanchor\":\"bottom\",\"yref\":\"paper\"},{\"font\":{\"size\":20,\"color\":\"black\"},\"showarrow\":false,\"text\":\"Layer\",\"x\":0.5,\"xanchor\":\"center\",\"xref\":\"paper\",\"y\":0,\"yanchor\":\"top\",\"yref\":\"paper\",\"yshift\":-30},{\"font\":{\"size\":20,\"color\":\"black\"},\"showarrow\":false,\"text\":\"bits per byte\",\"textangle\":-90,\"x\":0,\"xanchor\":\"right\",\"xref\":\"paper\",\"xshift\":-40,\"y\":0.5,\"yanchor\":\"middle\",\"yref\":\"paper\"}],\"font\":{\"size\":16,\"color\":\"black\"},\"legend\":{\"title\":{\"text\":\"Model size\"},\"x\":0.9,\"y\":0.98},\"margin\":{\"l\":70,\"r\":30,\"t\":50,\"b\":70},\"height\":518.4,\"hovermode\":\"x unified\",\"width\":1296.0},                        {\"responsive\": true}                    ).then(function(){\n",
       "                            \n",
       "var gd = document.getElementById('b070bc99-fa79-4b0c-8c10-298a1e5676b1');\n",
       "var x = new MutationObserver(function (mutations, observer) {{\n",
       "        var display = window.getComputedStyle(gd).display;\n",
       "        if (!display || display === 'none') {{\n",
       "            console.log([gd, 'removed!']);\n",
       "            Plotly.purge(gd);\n",
       "            observer.disconnect();\n",
       "        }}\n",
       "}});\n",
       "\n",
       "// Listen for the removal of the full notebook cells\n",
       "var notebookContainer = gd.closest('#notebook-container');\n",
       "if (notebookContainer) {{\n",
       "    x.observe(notebookContainer, {childList: true});\n",
       "}}\n",
       "\n",
       "// Listen for the clearing of the current output cell\n",
       "var outputEl = gd.closest('.output');\n",
       "if (outputEl) {{\n",
       "    x.observe(outputEl, {childList: true});\n",
       "}}\n",
       "\n",
       "                        })                };                });            </script>        </div>"
      ]
     },
     "metadata": {},
     "output_type": "display_data"
    }
   ],
   "source": [
    "from plotly.subplots import make_subplots\n",
    "import plotly.express as px\n",
    "import plotly.graph_objects as go\n",
    "\n",
    "PAGE_WIDTH = 6.75 * 96 * 2\n",
    "\n",
    "from transformers import AutoConfig, AutoModel\n",
    "import numpy as np\n",
    "import torch as th\n",
    "\n",
    "\n",
    "MODELS = [\n",
    "    \"gpt2\", \"gpt2-medium\", \"gpt2-large\", \"gpt2-xl\",\n",
    "]\n",
    "NAMES = [\n",
    "    \"small\", \"medium\", \"large\", \"xl\"\n",
    "]\n",
    "\n",
    "DEPTHS = []\n",
    "PARAMS = []\n",
    "WIDTHS = []\n",
    "baselines = {}\n",
    "metrics = {}\n",
    "root = \"/mnt/ssd-1/nora/real-lenses/gpt2/\"\n",
    "\n",
    "for name, model in zip(NAMES, MODELS):\n",
    "    config = AutoConfig.from_pretrained(model)\n",
    "    m = AutoModel.from_config(config)\n",
    "    DEPTHS.append(config.num_hidden_layers)\n",
    "    PARAMS.append(\n",
    "        sum(p.numel() for p in m.parameters() if p.requires_grad)\n",
    "    )\n",
    "    WIDTHS.append(config.hidden_size)\n",
    "\n",
    "    results = th.load(\n",
    "        root + f\"{name}/affine/eval/aggregate_metrics.pt\",\n",
    "        map_location=\"cpu\"\n",
    "    )\n",
    "    baselines[name] = list(results['baseline_ce'].values())\n",
    "    metrics[name] = list(results['lens_ce'].values())\n",
    "\n",
    "\n",
    "master = make_subplots(\n",
    "    rows=1,\n",
    "    cols=2,\n",
    "    subplot_titles=(\"Logit lens (baseline)\", \"Tuned lens (ours)\"),\n",
    "    horizontal_spacing=0.05,\n",
    "    vertical_spacing=0.1,\n",
    "    x_title=\"Layer\",\n",
    "    y_title=\"bits per byte\",\n",
    ").add_traces([\n",
    "    go.Scatter(\n",
    "        x=np.arange(depth),\n",
    "        y=baselines[name][:-1],\n",
    "        marker_color=color,\n",
    "        mode=\"lines+markers\",\n",
    "        name=name,\n",
    "        showlegend=False,\n",
    "    ) for color, model, name, depth in zip(\n",
    "        px.colors.sequential.Plasma[::2],\n",
    "        MODELS,\n",
    "        NAMES,\n",
    "        DEPTHS\n",
    "    )\n",
    "], rows=1, cols=1\n",
    ").add_traces([\n",
    "    go.Scatter(\n",
    "        x=np.arange(depth),\n",
    "        y=metrics[name],\n",
    "        marker_color=color,\n",
    "        mode=\"lines+markers\",\n",
    "        name=name,\n",
    "       # opacity=0.8,\n",
    "    ) for color, model, name, depth in zip(\n",
    "        px.colors.sequential.Plasma[::2],\n",
    "        MODELS,\n",
    "        NAMES,\n",
    "        DEPTHS\n",
    "    )\n",
    "], rows=1, cols=2\n",
    ").update_xaxes(\n",
    "    dtick=5,\n",
    ").update_yaxes(\n",
    "    range=[0, 5],\n",
    ").update_annotations(\n",
    "    font=dict(size=20, color=\"black\"),\n",
    ").update_layout(\n",
    "    font=dict(size=16, color=\"black\"),\n",
    "    height=PAGE_WIDTH / 2.5,\n",
    "    hovermode=\"x unified\",\n",
    "    legend=dict(\n",
    "        title_text=\"Model size\",\n",
    "        x=0.9,\n",
    "        y=0.98,\n",
    "    ),\n",
    "    xaxis1=dict(\n",
    "        tickangle=-20,\n",
    "        tickvals=list(range(0, 50, 5)),\n",
    "        ticktext=[\"input\"] + [str(i * 5) for i in range(1, 45 - 1)],\n",
    "    ),\n",
    "    xaxis2=dict(\n",
    "        tickangle=-20,\n",
    "        tickvals=list(range(0, 50 - 1, 5)),\n",
    "        ticktext=[\"input\"] + [str(i * 5) for i in range(1, 45 - 1)],\n",
    "    ),\n",
    "    margin_l=70,\n",
    "    margin_r=30,\n",
    "    margin_t=50,\n",
    "    margin_b=70,\n",
    "    width=PAGE_WIDTH,\n",
    ")\n",
    "master"
   ]
  },
  {
   "cell_type": "code",
   "execution_count": null,
   "metadata": {},
   "outputs": [],
   "source": []
  },
  {
   "cell_type": "code",
   "execution_count": 58,
   "metadata": {},
   "outputs": [],
   "source": [
    "master.write_image(\"/mnt/ssd-1/nora/gpt2-perplexity.pdf\")"
   ]
  },
  {
   "cell_type": "code",
   "execution_count": 60,
   "metadata": {},
   "outputs": [
    {
     "data": {
      "application/vnd.plotly.v1+json": {
       "config": {
        "plotlyServerURL": "https://plot.ly"
       },
       "data": [
        {
         "marker": {
          "color": "#0d0887"
         },
         "mode": "lines+markers",
         "name": "125M",
         "showlegend": false,
         "type": "scatter",
         "x": [
          0,
          1,
          2,
          3,
          4,
          5,
          6,
          7,
          8,
          9,
          10,
          11
         ],
         "xaxis": "x",
         "y": [
          17.09258270263672,
          4.351441383361816,
          5.07452392578125,
          5.498043060302734,
          5.424314498901367,
          5.3364081382751465,
          3.955695629119873,
          3.3719840049743652,
          2.8355324268341064,
          1.9643042087554932,
          1.3392248153686523,
          0.9419597387313843
         ],
         "yaxis": "y"
        },
        {
         "marker": {
          "color": "#7201a8"
         },
         "mode": "lines+markers",
         "name": "1.3B",
         "showlegend": false,
         "type": "scatter",
         "x": [
          0,
          1,
          2,
          3,
          4,
          5,
          6,
          7,
          8,
          9,
          10,
          11,
          12,
          13,
          14,
          15,
          16,
          17,
          18,
          19,
          20,
          21,
          22,
          23
         ],
         "xaxis": "x",
         "y": [
          5.3843302726745605,
          3.5801939964294434,
          3.581702470779419,
          3.7297255992889404,
          3.9547858238220215,
          3.893380641937256,
          3.8313045501708984,
          3.7495293617248535,
          3.7129480838775635,
          3.8697969913482666,
          3.6747324466705322,
          3.904020309448242,
          3.6295175552368164,
          3.4734225273132324,
          3.060460329055786,
          2.6964778900146484,
          2.2299838066101074,
          1.7868245840072632,
          1.3977924585342407,
          1.1655482053756714,
          1.033753752708435,
          0.9475622773170471,
          0.8621396422386169,
          0.7692604064941406
         ],
         "yaxis": "y"
        },
        {
         "marker": {
          "color": "#bd3786"
         },
         "mode": "lines+markers",
         "name": "2.7B",
         "showlegend": false,
         "type": "scatter",
         "x": [
          0,
          1,
          2,
          3,
          4,
          5,
          6,
          7,
          8,
          9,
          10,
          11,
          12,
          13,
          14,
          15,
          16,
          17,
          18,
          19,
          20,
          21,
          22,
          23,
          24,
          25,
          26,
          27,
          28,
          29,
          30,
          31
         ],
         "xaxis": "x",
         "y": [
          4.2586541175842285,
          4.3226447105407715,
          4.4720916748046875,
          4.450130939483643,
          4.258004188537598,
          4.268670558929443,
          4.242621898651123,
          4.201811790466309,
          4.153608322143555,
          4.090653896331787,
          4.046316146850586,
          3.996542453765869,
          3.9733974933624268,
          3.797826051712036,
          3.699993371963501,
          3.411874294281006,
          3.3101015090942383,
          3.099020004272461,
          2.8658499717712402,
          2.602648973464966,
          2.369180679321289,
          2.125714063644409,
          1.9270374774932861,
          1.7751628160476685,
          1.6161447763442993,
          1.4748281240463257,
          1.3470436334609985,
          1.2289801836013794,
          1.0942890644073486,
          0.9771089553833008,
          0.8402484655380249,
          0.7334215641021729
         ],
         "yaxis": "y"
        },
        {
         "marker": {
          "color": "#0d0887"
         },
         "mode": "lines+markers",
         "name": "125M",
         "type": "scatter",
         "x": [
          0,
          1,
          2,
          3,
          4,
          5,
          6,
          7,
          8,
          9,
          10,
          11
         ],
         "xaxis": "x2",
         "y": [
          3.566965103149414,
          2.7315833568573,
          2.933964252471924,
          2.9737534523010254,
          2.8702287673950195,
          2.7141518592834473,
          2.33795428276062,
          2.0872247219085693,
          1.8248615264892578,
          1.4016697406768799,
          1.151745080947876,
          0.9419617056846619
         ],
         "yaxis": "y2"
        },
        {
         "marker": {
          "color": "#7201a8"
         },
         "mode": "lines+markers",
         "name": "1.3B",
         "type": "scatter",
         "x": [
          0,
          1,
          2,
          3,
          4,
          5,
          6,
          7,
          8,
          9,
          10,
          11,
          12,
          13,
          14,
          15,
          16,
          17,
          18,
          19,
          20,
          21,
          22,
          23
         ],
         "xaxis": "x2",
         "y": [
          3.241262674331665,
          2.739164352416992,
          2.6387295722961426,
          2.5873613357543945,
          2.733396291732788,
          2.647948741912842,
          2.5251500606536865,
          2.4322402477264404,
          2.2842469215393066,
          2.1239638328552246,
          2.0804290771484375,
          1.8746565580368042,
          1.7844483852386475,
          1.6450897455215454,
          1.5313513278961182,
          1.341954231262207,
          1.2517039775848389,
          1.1433535814285278,
          1.0816162824630737,
          1.0029346942901611,
          0.9409270882606506,
          0.8853263258934021,
          0.8281514048576355,
          0.7692604660987854
         ],
         "yaxis": "y2"
        },
        {
         "marker": {
          "color": "#bd3786"
         },
         "mode": "lines+markers",
         "name": "2.7B",
         "type": "scatter",
         "x": [
          0,
          1,
          2,
          3,
          4,
          5,
          6,
          7,
          8,
          9,
          10,
          11,
          12,
          13,
          14,
          15,
          16,
          17,
          18,
          19,
          20,
          21,
          22,
          23,
          24,
          25,
          26,
          27,
          28,
          29,
          30,
          31
         ],
         "xaxis": "x2",
         "y": [
          3.4039058685302734,
          2.8880622386932373,
          2.7735257148742676,
          2.697389841079712,
          2.758192539215088,
          2.663469076156616,
          2.564525842666626,
          2.4920475482940674,
          2.3811161518096924,
          2.31626296043396,
          2.2838869094848633,
          2.168332576751709,
          2.134523630142212,
          1.9474074840545654,
          1.874711513519287,
          1.6782883405685425,
          1.6269142627716064,
          1.5428324937820435,
          1.466694712638855,
          1.3720548152923584,
          1.3106334209442139,
          1.2378144264221191,
          1.1943037509918213,
          1.1379371881484985,
          1.0867743492126465,
          1.0298559665679932,
          0.9840797781944275,
          0.9331721067428589,
          0.8874331116676331,
          0.8373673558235168,
          0.7845184803009033,
          0.7334213852882385
         ],
         "yaxis": "y2"
        }
       ],
       "layout": {
        "annotations": [
         {
          "font": {
           "color": "black",
           "size": 20
          },
          "showarrow": false,
          "text": "Logit lens (baseline)",
          "x": 0.2375,
          "xanchor": "center",
          "xref": "paper",
          "y": 1,
          "yanchor": "bottom",
          "yref": "paper"
         },
         {
          "font": {
           "color": "black",
           "size": 20
          },
          "showarrow": false,
          "text": "Tuned lens (ours)",
          "x": 0.7625,
          "xanchor": "center",
          "xref": "paper",
          "y": 1,
          "yanchor": "bottom",
          "yref": "paper"
         },
         {
          "font": {
           "color": "black",
           "size": 20
          },
          "showarrow": false,
          "text": "Layer",
          "x": 0.5,
          "xanchor": "center",
          "xref": "paper",
          "y": 0,
          "yanchor": "top",
          "yref": "paper",
          "yshift": -30
         },
         {
          "font": {
           "color": "black",
           "size": 20
          },
          "showarrow": false,
          "text": "bits per byte",
          "textangle": -90,
          "x": 0,
          "xanchor": "right",
          "xref": "paper",
          "xshift": -40,
          "y": 0.5,
          "yanchor": "middle",
          "yref": "paper"
         }
        ],
        "font": {
         "color": "black",
         "size": 16
        },
        "height": 518.4,
        "hovermode": "x unified",
        "legend": {
         "title": {
          "text": "Model size"
         },
         "x": 0.9,
         "y": 0.98
        },
        "margin": {
         "b": 70,
         "l": 70,
         "r": 30,
         "t": 50
        },
        "template": {
         "data": {
          "bar": [
           {
            "error_x": {
             "color": "#2a3f5f"
            },
            "error_y": {
             "color": "#2a3f5f"
            },
            "marker": {
             "line": {
              "color": "#E5ECF6",
              "width": 0.5
             },
             "pattern": {
              "fillmode": "overlay",
              "size": 10,
              "solidity": 0.2
             }
            },
            "type": "bar"
           }
          ],
          "barpolar": [
           {
            "marker": {
             "line": {
              "color": "#E5ECF6",
              "width": 0.5
             },
             "pattern": {
              "fillmode": "overlay",
              "size": 10,
              "solidity": 0.2
             }
            },
            "type": "barpolar"
           }
          ],
          "carpet": [
           {
            "aaxis": {
             "endlinecolor": "#2a3f5f",
             "gridcolor": "white",
             "linecolor": "white",
             "minorgridcolor": "white",
             "startlinecolor": "#2a3f5f"
            },
            "baxis": {
             "endlinecolor": "#2a3f5f",
             "gridcolor": "white",
             "linecolor": "white",
             "minorgridcolor": "white",
             "startlinecolor": "#2a3f5f"
            },
            "type": "carpet"
           }
          ],
          "choropleth": [
           {
            "colorbar": {
             "outlinewidth": 0,
             "ticks": ""
            },
            "type": "choropleth"
           }
          ],
          "contour": [
           {
            "colorbar": {
             "outlinewidth": 0,
             "ticks": ""
            },
            "colorscale": [
             [
              0,
              "#0d0887"
             ],
             [
              0.1111111111111111,
              "#46039f"
             ],
             [
              0.2222222222222222,
              "#7201a8"
             ],
             [
              0.3333333333333333,
              "#9c179e"
             ],
             [
              0.4444444444444444,
              "#bd3786"
             ],
             [
              0.5555555555555556,
              "#d8576b"
             ],
             [
              0.6666666666666666,
              "#ed7953"
             ],
             [
              0.7777777777777778,
              "#fb9f3a"
             ],
             [
              0.8888888888888888,
              "#fdca26"
             ],
             [
              1,
              "#f0f921"
             ]
            ],
            "type": "contour"
           }
          ],
          "contourcarpet": [
           {
            "colorbar": {
             "outlinewidth": 0,
             "ticks": ""
            },
            "type": "contourcarpet"
           }
          ],
          "heatmap": [
           {
            "colorbar": {
             "outlinewidth": 0,
             "ticks": ""
            },
            "colorscale": [
             [
              0,
              "#0d0887"
             ],
             [
              0.1111111111111111,
              "#46039f"
             ],
             [
              0.2222222222222222,
              "#7201a8"
             ],
             [
              0.3333333333333333,
              "#9c179e"
             ],
             [
              0.4444444444444444,
              "#bd3786"
             ],
             [
              0.5555555555555556,
              "#d8576b"
             ],
             [
              0.6666666666666666,
              "#ed7953"
             ],
             [
              0.7777777777777778,
              "#fb9f3a"
             ],
             [
              0.8888888888888888,
              "#fdca26"
             ],
             [
              1,
              "#f0f921"
             ]
            ],
            "type": "heatmap"
           }
          ],
          "heatmapgl": [
           {
            "colorbar": {
             "outlinewidth": 0,
             "ticks": ""
            },
            "colorscale": [
             [
              0,
              "#0d0887"
             ],
             [
              0.1111111111111111,
              "#46039f"
             ],
             [
              0.2222222222222222,
              "#7201a8"
             ],
             [
              0.3333333333333333,
              "#9c179e"
             ],
             [
              0.4444444444444444,
              "#bd3786"
             ],
             [
              0.5555555555555556,
              "#d8576b"
             ],
             [
              0.6666666666666666,
              "#ed7953"
             ],
             [
              0.7777777777777778,
              "#fb9f3a"
             ],
             [
              0.8888888888888888,
              "#fdca26"
             ],
             [
              1,
              "#f0f921"
             ]
            ],
            "type": "heatmapgl"
           }
          ],
          "histogram": [
           {
            "marker": {
             "pattern": {
              "fillmode": "overlay",
              "size": 10,
              "solidity": 0.2
             }
            },
            "type": "histogram"
           }
          ],
          "histogram2d": [
           {
            "colorbar": {
             "outlinewidth": 0,
             "ticks": ""
            },
            "colorscale": [
             [
              0,
              "#0d0887"
             ],
             [
              0.1111111111111111,
              "#46039f"
             ],
             [
              0.2222222222222222,
              "#7201a8"
             ],
             [
              0.3333333333333333,
              "#9c179e"
             ],
             [
              0.4444444444444444,
              "#bd3786"
             ],
             [
              0.5555555555555556,
              "#d8576b"
             ],
             [
              0.6666666666666666,
              "#ed7953"
             ],
             [
              0.7777777777777778,
              "#fb9f3a"
             ],
             [
              0.8888888888888888,
              "#fdca26"
             ],
             [
              1,
              "#f0f921"
             ]
            ],
            "type": "histogram2d"
           }
          ],
          "histogram2dcontour": [
           {
            "colorbar": {
             "outlinewidth": 0,
             "ticks": ""
            },
            "colorscale": [
             [
              0,
              "#0d0887"
             ],
             [
              0.1111111111111111,
              "#46039f"
             ],
             [
              0.2222222222222222,
              "#7201a8"
             ],
             [
              0.3333333333333333,
              "#9c179e"
             ],
             [
              0.4444444444444444,
              "#bd3786"
             ],
             [
              0.5555555555555556,
              "#d8576b"
             ],
             [
              0.6666666666666666,
              "#ed7953"
             ],
             [
              0.7777777777777778,
              "#fb9f3a"
             ],
             [
              0.8888888888888888,
              "#fdca26"
             ],
             [
              1,
              "#f0f921"
             ]
            ],
            "type": "histogram2dcontour"
           }
          ],
          "mesh3d": [
           {
            "colorbar": {
             "outlinewidth": 0,
             "ticks": ""
            },
            "type": "mesh3d"
           }
          ],
          "parcoords": [
           {
            "line": {
             "colorbar": {
              "outlinewidth": 0,
              "ticks": ""
             }
            },
            "type": "parcoords"
           }
          ],
          "pie": [
           {
            "automargin": true,
            "type": "pie"
           }
          ],
          "scatter": [
           {
            "fillpattern": {
             "fillmode": "overlay",
             "size": 10,
             "solidity": 0.2
            },
            "type": "scatter"
           }
          ],
          "scatter3d": [
           {
            "line": {
             "colorbar": {
              "outlinewidth": 0,
              "ticks": ""
             }
            },
            "marker": {
             "colorbar": {
              "outlinewidth": 0,
              "ticks": ""
             }
            },
            "type": "scatter3d"
           }
          ],
          "scattercarpet": [
           {
            "marker": {
             "colorbar": {
              "outlinewidth": 0,
              "ticks": ""
             }
            },
            "type": "scattercarpet"
           }
          ],
          "scattergeo": [
           {
            "marker": {
             "colorbar": {
              "outlinewidth": 0,
              "ticks": ""
             }
            },
            "type": "scattergeo"
           }
          ],
          "scattergl": [
           {
            "marker": {
             "colorbar": {
              "outlinewidth": 0,
              "ticks": ""
             }
            },
            "type": "scattergl"
           }
          ],
          "scattermapbox": [
           {
            "marker": {
             "colorbar": {
              "outlinewidth": 0,
              "ticks": ""
             }
            },
            "type": "scattermapbox"
           }
          ],
          "scatterpolar": [
           {
            "marker": {
             "colorbar": {
              "outlinewidth": 0,
              "ticks": ""
             }
            },
            "type": "scatterpolar"
           }
          ],
          "scatterpolargl": [
           {
            "marker": {
             "colorbar": {
              "outlinewidth": 0,
              "ticks": ""
             }
            },
            "type": "scatterpolargl"
           }
          ],
          "scatterternary": [
           {
            "marker": {
             "colorbar": {
              "outlinewidth": 0,
              "ticks": ""
             }
            },
            "type": "scatterternary"
           }
          ],
          "surface": [
           {
            "colorbar": {
             "outlinewidth": 0,
             "ticks": ""
            },
            "colorscale": [
             [
              0,
              "#0d0887"
             ],
             [
              0.1111111111111111,
              "#46039f"
             ],
             [
              0.2222222222222222,
              "#7201a8"
             ],
             [
              0.3333333333333333,
              "#9c179e"
             ],
             [
              0.4444444444444444,
              "#bd3786"
             ],
             [
              0.5555555555555556,
              "#d8576b"
             ],
             [
              0.6666666666666666,
              "#ed7953"
             ],
             [
              0.7777777777777778,
              "#fb9f3a"
             ],
             [
              0.8888888888888888,
              "#fdca26"
             ],
             [
              1,
              "#f0f921"
             ]
            ],
            "type": "surface"
           }
          ],
          "table": [
           {
            "cells": {
             "fill": {
              "color": "#EBF0F8"
             },
             "line": {
              "color": "white"
             }
            },
            "header": {
             "fill": {
              "color": "#C8D4E3"
             },
             "line": {
              "color": "white"
             }
            },
            "type": "table"
           }
          ]
         },
         "layout": {
          "annotationdefaults": {
           "arrowcolor": "#2a3f5f",
           "arrowhead": 0,
           "arrowwidth": 1
          },
          "autotypenumbers": "strict",
          "coloraxis": {
           "colorbar": {
            "outlinewidth": 0,
            "ticks": ""
           }
          },
          "colorscale": {
           "diverging": [
            [
             0,
             "#8e0152"
            ],
            [
             0.1,
             "#c51b7d"
            ],
            [
             0.2,
             "#de77ae"
            ],
            [
             0.3,
             "#f1b6da"
            ],
            [
             0.4,
             "#fde0ef"
            ],
            [
             0.5,
             "#f7f7f7"
            ],
            [
             0.6,
             "#e6f5d0"
            ],
            [
             0.7,
             "#b8e186"
            ],
            [
             0.8,
             "#7fbc41"
            ],
            [
             0.9,
             "#4d9221"
            ],
            [
             1,
             "#276419"
            ]
           ],
           "sequential": [
            [
             0,
             "#0d0887"
            ],
            [
             0.1111111111111111,
             "#46039f"
            ],
            [
             0.2222222222222222,
             "#7201a8"
            ],
            [
             0.3333333333333333,
             "#9c179e"
            ],
            [
             0.4444444444444444,
             "#bd3786"
            ],
            [
             0.5555555555555556,
             "#d8576b"
            ],
            [
             0.6666666666666666,
             "#ed7953"
            ],
            [
             0.7777777777777778,
             "#fb9f3a"
            ],
            [
             0.8888888888888888,
             "#fdca26"
            ],
            [
             1,
             "#f0f921"
            ]
           ],
           "sequentialminus": [
            [
             0,
             "#0d0887"
            ],
            [
             0.1111111111111111,
             "#46039f"
            ],
            [
             0.2222222222222222,
             "#7201a8"
            ],
            [
             0.3333333333333333,
             "#9c179e"
            ],
            [
             0.4444444444444444,
             "#bd3786"
            ],
            [
             0.5555555555555556,
             "#d8576b"
            ],
            [
             0.6666666666666666,
             "#ed7953"
            ],
            [
             0.7777777777777778,
             "#fb9f3a"
            ],
            [
             0.8888888888888888,
             "#fdca26"
            ],
            [
             1,
             "#f0f921"
            ]
           ]
          },
          "colorway": [
           "#636efa",
           "#EF553B",
           "#00cc96",
           "#ab63fa",
           "#FFA15A",
           "#19d3f3",
           "#FF6692",
           "#B6E880",
           "#FF97FF",
           "#FECB52"
          ],
          "font": {
           "color": "#2a3f5f"
          },
          "geo": {
           "bgcolor": "white",
           "lakecolor": "white",
           "landcolor": "#E5ECF6",
           "showlakes": true,
           "showland": true,
           "subunitcolor": "white"
          },
          "hoverlabel": {
           "align": "left"
          },
          "hovermode": "closest",
          "mapbox": {
           "style": "light"
          },
          "paper_bgcolor": "white",
          "plot_bgcolor": "#E5ECF6",
          "polar": {
           "angularaxis": {
            "gridcolor": "white",
            "linecolor": "white",
            "ticks": ""
           },
           "bgcolor": "#E5ECF6",
           "radialaxis": {
            "gridcolor": "white",
            "linecolor": "white",
            "ticks": ""
           }
          },
          "scene": {
           "xaxis": {
            "backgroundcolor": "#E5ECF6",
            "gridcolor": "white",
            "gridwidth": 2,
            "linecolor": "white",
            "showbackground": true,
            "ticks": "",
            "zerolinecolor": "white"
           },
           "yaxis": {
            "backgroundcolor": "#E5ECF6",
            "gridcolor": "white",
            "gridwidth": 2,
            "linecolor": "white",
            "showbackground": true,
            "ticks": "",
            "zerolinecolor": "white"
           },
           "zaxis": {
            "backgroundcolor": "#E5ECF6",
            "gridcolor": "white",
            "gridwidth": 2,
            "linecolor": "white",
            "showbackground": true,
            "ticks": "",
            "zerolinecolor": "white"
           }
          },
          "shapedefaults": {
           "line": {
            "color": "#2a3f5f"
           }
          },
          "ternary": {
           "aaxis": {
            "gridcolor": "white",
            "linecolor": "white",
            "ticks": ""
           },
           "baxis": {
            "gridcolor": "white",
            "linecolor": "white",
            "ticks": ""
           },
           "bgcolor": "#E5ECF6",
           "caxis": {
            "gridcolor": "white",
            "linecolor": "white",
            "ticks": ""
           }
          },
          "title": {
           "x": 0.05
          },
          "xaxis": {
           "automargin": true,
           "gridcolor": "white",
           "linecolor": "white",
           "ticks": "",
           "title": {
            "standoff": 15
           },
           "zerolinecolor": "white",
           "zerolinewidth": 2
          },
          "yaxis": {
           "automargin": true,
           "gridcolor": "white",
           "linecolor": "white",
           "ticks": "",
           "title": {
            "standoff": 15
           },
           "zerolinecolor": "white",
           "zerolinewidth": 2
          }
         }
        },
        "width": 1296,
        "xaxis": {
         "anchor": "y",
         "domain": [
          0,
          0.475
         ],
         "dtick": 5,
         "tickangle": -20,
         "ticktext": [
          "input",
          "5",
          "10",
          "15",
          "20",
          "25",
          "30",
          "35",
          "40",
          "45",
          "50",
          "55",
          "60",
          "65",
          "70",
          "75",
          "80",
          "85",
          "90",
          "95",
          "100",
          "105",
          "110",
          "115",
          "120",
          "125",
          "130",
          "135",
          "140",
          "145",
          "150",
          "155",
          "160",
          "165",
          "170",
          "175",
          "180",
          "185",
          "190",
          "195",
          "200",
          "205",
          "210",
          "215"
         ],
         "tickvals": [
          0,
          5,
          10,
          15,
          20,
          25,
          30,
          35,
          40,
          45
         ]
        },
        "xaxis2": {
         "anchor": "y2",
         "domain": [
          0.525,
          1
         ],
         "dtick": 5,
         "tickangle": -20,
         "ticktext": [
          "input",
          "5",
          "10",
          "15",
          "20",
          "25",
          "30",
          "35",
          "40",
          "45",
          "50",
          "55",
          "60",
          "65",
          "70",
          "75",
          "80",
          "85",
          "90",
          "95",
          "100",
          "105",
          "110",
          "115",
          "120",
          "125",
          "130",
          "135",
          "140",
          "145",
          "150",
          "155",
          "160",
          "165",
          "170",
          "175",
          "180",
          "185",
          "190",
          "195",
          "200",
          "205",
          "210",
          "215"
         ],
         "tickvals": [
          0,
          5,
          10,
          15,
          20,
          25,
          30,
          35,
          40,
          45
         ]
        },
        "yaxis": {
         "anchor": "x",
         "domain": [
          0,
          1
         ],
         "range": [
          0,
          5
         ]
        },
        "yaxis2": {
         "anchor": "x2",
         "domain": [
          0,
          1
         ],
         "range": [
          0,
          5
         ]
        }
       }
      },
      "text/html": [
       "<div>                            <div id=\"dcca1dee-4c53-47e8-af09-88b0cd3a3dc6\" class=\"plotly-graph-div\" style=\"height:518.4px; width:1296.0px;\"></div>            <script type=\"text/javascript\">                require([\"plotly\"], function(Plotly) {                    window.PLOTLYENV=window.PLOTLYENV || {};                                    if (document.getElementById(\"dcca1dee-4c53-47e8-af09-88b0cd3a3dc6\")) {                    Plotly.newPlot(                        \"dcca1dee-4c53-47e8-af09-88b0cd3a3dc6\",                        [{\"marker\":{\"color\":\"#0d0887\"},\"mode\":\"lines+markers\",\"name\":\"125M\",\"showlegend\":false,\"x\":[0,1,2,3,4,5,6,7,8,9,10,11],\"y\":[17.09258270263672,4.351441383361816,5.07452392578125,5.498043060302734,5.424314498901367,5.3364081382751465,3.955695629119873,3.3719840049743652,2.8355324268341064,1.9643042087554932,1.3392248153686523,0.9419597387313843],\"type\":\"scatter\",\"xaxis\":\"x\",\"yaxis\":\"y\"},{\"marker\":{\"color\":\"#7201a8\"},\"mode\":\"lines+markers\",\"name\":\"1.3B\",\"showlegend\":false,\"x\":[0,1,2,3,4,5,6,7,8,9,10,11,12,13,14,15,16,17,18,19,20,21,22,23],\"y\":[5.3843302726745605,3.5801939964294434,3.581702470779419,3.7297255992889404,3.9547858238220215,3.893380641937256,3.8313045501708984,3.7495293617248535,3.7129480838775635,3.8697969913482666,3.6747324466705322,3.904020309448242,3.6295175552368164,3.4734225273132324,3.060460329055786,2.6964778900146484,2.2299838066101074,1.7868245840072632,1.3977924585342407,1.1655482053756714,1.033753752708435,0.9475622773170471,0.8621396422386169,0.7692604064941406],\"type\":\"scatter\",\"xaxis\":\"x\",\"yaxis\":\"y\"},{\"marker\":{\"color\":\"#bd3786\"},\"mode\":\"lines+markers\",\"name\":\"2.7B\",\"showlegend\":false,\"x\":[0,1,2,3,4,5,6,7,8,9,10,11,12,13,14,15,16,17,18,19,20,21,22,23,24,25,26,27,28,29,30,31],\"y\":[4.2586541175842285,4.3226447105407715,4.4720916748046875,4.450130939483643,4.258004188537598,4.268670558929443,4.242621898651123,4.201811790466309,4.153608322143555,4.090653896331787,4.046316146850586,3.996542453765869,3.9733974933624268,3.797826051712036,3.699993371963501,3.411874294281006,3.3101015090942383,3.099020004272461,2.8658499717712402,2.602648973464966,2.369180679321289,2.125714063644409,1.9270374774932861,1.7751628160476685,1.6161447763442993,1.4748281240463257,1.3470436334609985,1.2289801836013794,1.0942890644073486,0.9771089553833008,0.8402484655380249,0.7334215641021729],\"type\":\"scatter\",\"xaxis\":\"x\",\"yaxis\":\"y\"},{\"marker\":{\"color\":\"#0d0887\"},\"mode\":\"lines+markers\",\"name\":\"125M\",\"x\":[0,1,2,3,4,5,6,7,8,9,10,11],\"y\":[3.566965103149414,2.7315833568573,2.933964252471924,2.9737534523010254,2.8702287673950195,2.7141518592834473,2.33795428276062,2.0872247219085693,1.8248615264892578,1.4016697406768799,1.151745080947876,0.9419617056846619],\"type\":\"scatter\",\"xaxis\":\"x2\",\"yaxis\":\"y2\"},{\"marker\":{\"color\":\"#7201a8\"},\"mode\":\"lines+markers\",\"name\":\"1.3B\",\"x\":[0,1,2,3,4,5,6,7,8,9,10,11,12,13,14,15,16,17,18,19,20,21,22,23],\"y\":[3.241262674331665,2.739164352416992,2.6387295722961426,2.5873613357543945,2.733396291732788,2.647948741912842,2.5251500606536865,2.4322402477264404,2.2842469215393066,2.1239638328552246,2.0804290771484375,1.8746565580368042,1.7844483852386475,1.6450897455215454,1.5313513278961182,1.341954231262207,1.2517039775848389,1.1433535814285278,1.0816162824630737,1.0029346942901611,0.9409270882606506,0.8853263258934021,0.8281514048576355,0.7692604660987854],\"type\":\"scatter\",\"xaxis\":\"x2\",\"yaxis\":\"y2\"},{\"marker\":{\"color\":\"#bd3786\"},\"mode\":\"lines+markers\",\"name\":\"2.7B\",\"x\":[0,1,2,3,4,5,6,7,8,9,10,11,12,13,14,15,16,17,18,19,20,21,22,23,24,25,26,27,28,29,30,31],\"y\":[3.4039058685302734,2.8880622386932373,2.7735257148742676,2.697389841079712,2.758192539215088,2.663469076156616,2.564525842666626,2.4920475482940674,2.3811161518096924,2.31626296043396,2.2838869094848633,2.168332576751709,2.134523630142212,1.9474074840545654,1.874711513519287,1.6782883405685425,1.6269142627716064,1.5428324937820435,1.466694712638855,1.3720548152923584,1.3106334209442139,1.2378144264221191,1.1943037509918213,1.1379371881484985,1.0867743492126465,1.0298559665679932,0.9840797781944275,0.9331721067428589,0.8874331116676331,0.8373673558235168,0.7845184803009033,0.7334213852882385],\"type\":\"scatter\",\"xaxis\":\"x2\",\"yaxis\":\"y2\"}],                        {\"template\":{\"data\":{\"histogram2dcontour\":[{\"type\":\"histogram2dcontour\",\"colorbar\":{\"outlinewidth\":0,\"ticks\":\"\"},\"colorscale\":[[0.0,\"#0d0887\"],[0.1111111111111111,\"#46039f\"],[0.2222222222222222,\"#7201a8\"],[0.3333333333333333,\"#9c179e\"],[0.4444444444444444,\"#bd3786\"],[0.5555555555555556,\"#d8576b\"],[0.6666666666666666,\"#ed7953\"],[0.7777777777777778,\"#fb9f3a\"],[0.8888888888888888,\"#fdca26\"],[1.0,\"#f0f921\"]]}],\"choropleth\":[{\"type\":\"choropleth\",\"colorbar\":{\"outlinewidth\":0,\"ticks\":\"\"}}],\"histogram2d\":[{\"type\":\"histogram2d\",\"colorbar\":{\"outlinewidth\":0,\"ticks\":\"\"},\"colorscale\":[[0.0,\"#0d0887\"],[0.1111111111111111,\"#46039f\"],[0.2222222222222222,\"#7201a8\"],[0.3333333333333333,\"#9c179e\"],[0.4444444444444444,\"#bd3786\"],[0.5555555555555556,\"#d8576b\"],[0.6666666666666666,\"#ed7953\"],[0.7777777777777778,\"#fb9f3a\"],[0.8888888888888888,\"#fdca26\"],[1.0,\"#f0f921\"]]}],\"heatmap\":[{\"type\":\"heatmap\",\"colorbar\":{\"outlinewidth\":0,\"ticks\":\"\"},\"colorscale\":[[0.0,\"#0d0887\"],[0.1111111111111111,\"#46039f\"],[0.2222222222222222,\"#7201a8\"],[0.3333333333333333,\"#9c179e\"],[0.4444444444444444,\"#bd3786\"],[0.5555555555555556,\"#d8576b\"],[0.6666666666666666,\"#ed7953\"],[0.7777777777777778,\"#fb9f3a\"],[0.8888888888888888,\"#fdca26\"],[1.0,\"#f0f921\"]]}],\"heatmapgl\":[{\"type\":\"heatmapgl\",\"colorbar\":{\"outlinewidth\":0,\"ticks\":\"\"},\"colorscale\":[[0.0,\"#0d0887\"],[0.1111111111111111,\"#46039f\"],[0.2222222222222222,\"#7201a8\"],[0.3333333333333333,\"#9c179e\"],[0.4444444444444444,\"#bd3786\"],[0.5555555555555556,\"#d8576b\"],[0.6666666666666666,\"#ed7953\"],[0.7777777777777778,\"#fb9f3a\"],[0.8888888888888888,\"#fdca26\"],[1.0,\"#f0f921\"]]}],\"contourcarpet\":[{\"type\":\"contourcarpet\",\"colorbar\":{\"outlinewidth\":0,\"ticks\":\"\"}}],\"contour\":[{\"type\":\"contour\",\"colorbar\":{\"outlinewidth\":0,\"ticks\":\"\"},\"colorscale\":[[0.0,\"#0d0887\"],[0.1111111111111111,\"#46039f\"],[0.2222222222222222,\"#7201a8\"],[0.3333333333333333,\"#9c179e\"],[0.4444444444444444,\"#bd3786\"],[0.5555555555555556,\"#d8576b\"],[0.6666666666666666,\"#ed7953\"],[0.7777777777777778,\"#fb9f3a\"],[0.8888888888888888,\"#fdca26\"],[1.0,\"#f0f921\"]]}],\"surface\":[{\"type\":\"surface\",\"colorbar\":{\"outlinewidth\":0,\"ticks\":\"\"},\"colorscale\":[[0.0,\"#0d0887\"],[0.1111111111111111,\"#46039f\"],[0.2222222222222222,\"#7201a8\"],[0.3333333333333333,\"#9c179e\"],[0.4444444444444444,\"#bd3786\"],[0.5555555555555556,\"#d8576b\"],[0.6666666666666666,\"#ed7953\"],[0.7777777777777778,\"#fb9f3a\"],[0.8888888888888888,\"#fdca26\"],[1.0,\"#f0f921\"]]}],\"mesh3d\":[{\"type\":\"mesh3d\",\"colorbar\":{\"outlinewidth\":0,\"ticks\":\"\"}}],\"scatter\":[{\"fillpattern\":{\"fillmode\":\"overlay\",\"size\":10,\"solidity\":0.2},\"type\":\"scatter\"}],\"parcoords\":[{\"type\":\"parcoords\",\"line\":{\"colorbar\":{\"outlinewidth\":0,\"ticks\":\"\"}}}],\"scatterpolargl\":[{\"type\":\"scatterpolargl\",\"marker\":{\"colorbar\":{\"outlinewidth\":0,\"ticks\":\"\"}}}],\"bar\":[{\"error_x\":{\"color\":\"#2a3f5f\"},\"error_y\":{\"color\":\"#2a3f5f\"},\"marker\":{\"line\":{\"color\":\"#E5ECF6\",\"width\":0.5},\"pattern\":{\"fillmode\":\"overlay\",\"size\":10,\"solidity\":0.2}},\"type\":\"bar\"}],\"scattergeo\":[{\"type\":\"scattergeo\",\"marker\":{\"colorbar\":{\"outlinewidth\":0,\"ticks\":\"\"}}}],\"scatterpolar\":[{\"type\":\"scatterpolar\",\"marker\":{\"colorbar\":{\"outlinewidth\":0,\"ticks\":\"\"}}}],\"histogram\":[{\"marker\":{\"pattern\":{\"fillmode\":\"overlay\",\"size\":10,\"solidity\":0.2}},\"type\":\"histogram\"}],\"scattergl\":[{\"type\":\"scattergl\",\"marker\":{\"colorbar\":{\"outlinewidth\":0,\"ticks\":\"\"}}}],\"scatter3d\":[{\"type\":\"scatter3d\",\"line\":{\"colorbar\":{\"outlinewidth\":0,\"ticks\":\"\"}},\"marker\":{\"colorbar\":{\"outlinewidth\":0,\"ticks\":\"\"}}}],\"scattermapbox\":[{\"type\":\"scattermapbox\",\"marker\":{\"colorbar\":{\"outlinewidth\":0,\"ticks\":\"\"}}}],\"scatterternary\":[{\"type\":\"scatterternary\",\"marker\":{\"colorbar\":{\"outlinewidth\":0,\"ticks\":\"\"}}}],\"scattercarpet\":[{\"type\":\"scattercarpet\",\"marker\":{\"colorbar\":{\"outlinewidth\":0,\"ticks\":\"\"}}}],\"carpet\":[{\"aaxis\":{\"endlinecolor\":\"#2a3f5f\",\"gridcolor\":\"white\",\"linecolor\":\"white\",\"minorgridcolor\":\"white\",\"startlinecolor\":\"#2a3f5f\"},\"baxis\":{\"endlinecolor\":\"#2a3f5f\",\"gridcolor\":\"white\",\"linecolor\":\"white\",\"minorgridcolor\":\"white\",\"startlinecolor\":\"#2a3f5f\"},\"type\":\"carpet\"}],\"table\":[{\"cells\":{\"fill\":{\"color\":\"#EBF0F8\"},\"line\":{\"color\":\"white\"}},\"header\":{\"fill\":{\"color\":\"#C8D4E3\"},\"line\":{\"color\":\"white\"}},\"type\":\"table\"}],\"barpolar\":[{\"marker\":{\"line\":{\"color\":\"#E5ECF6\",\"width\":0.5},\"pattern\":{\"fillmode\":\"overlay\",\"size\":10,\"solidity\":0.2}},\"type\":\"barpolar\"}],\"pie\":[{\"automargin\":true,\"type\":\"pie\"}]},\"layout\":{\"autotypenumbers\":\"strict\",\"colorway\":[\"#636efa\",\"#EF553B\",\"#00cc96\",\"#ab63fa\",\"#FFA15A\",\"#19d3f3\",\"#FF6692\",\"#B6E880\",\"#FF97FF\",\"#FECB52\"],\"font\":{\"color\":\"#2a3f5f\"},\"hovermode\":\"closest\",\"hoverlabel\":{\"align\":\"left\"},\"paper_bgcolor\":\"white\",\"plot_bgcolor\":\"#E5ECF6\",\"polar\":{\"bgcolor\":\"#E5ECF6\",\"angularaxis\":{\"gridcolor\":\"white\",\"linecolor\":\"white\",\"ticks\":\"\"},\"radialaxis\":{\"gridcolor\":\"white\",\"linecolor\":\"white\",\"ticks\":\"\"}},\"ternary\":{\"bgcolor\":\"#E5ECF6\",\"aaxis\":{\"gridcolor\":\"white\",\"linecolor\":\"white\",\"ticks\":\"\"},\"baxis\":{\"gridcolor\":\"white\",\"linecolor\":\"white\",\"ticks\":\"\"},\"caxis\":{\"gridcolor\":\"white\",\"linecolor\":\"white\",\"ticks\":\"\"}},\"coloraxis\":{\"colorbar\":{\"outlinewidth\":0,\"ticks\":\"\"}},\"colorscale\":{\"sequential\":[[0.0,\"#0d0887\"],[0.1111111111111111,\"#46039f\"],[0.2222222222222222,\"#7201a8\"],[0.3333333333333333,\"#9c179e\"],[0.4444444444444444,\"#bd3786\"],[0.5555555555555556,\"#d8576b\"],[0.6666666666666666,\"#ed7953\"],[0.7777777777777778,\"#fb9f3a\"],[0.8888888888888888,\"#fdca26\"],[1.0,\"#f0f921\"]],\"sequentialminus\":[[0.0,\"#0d0887\"],[0.1111111111111111,\"#46039f\"],[0.2222222222222222,\"#7201a8\"],[0.3333333333333333,\"#9c179e\"],[0.4444444444444444,\"#bd3786\"],[0.5555555555555556,\"#d8576b\"],[0.6666666666666666,\"#ed7953\"],[0.7777777777777778,\"#fb9f3a\"],[0.8888888888888888,\"#fdca26\"],[1.0,\"#f0f921\"]],\"diverging\":[[0,\"#8e0152\"],[0.1,\"#c51b7d\"],[0.2,\"#de77ae\"],[0.3,\"#f1b6da\"],[0.4,\"#fde0ef\"],[0.5,\"#f7f7f7\"],[0.6,\"#e6f5d0\"],[0.7,\"#b8e186\"],[0.8,\"#7fbc41\"],[0.9,\"#4d9221\"],[1,\"#276419\"]]},\"xaxis\":{\"gridcolor\":\"white\",\"linecolor\":\"white\",\"ticks\":\"\",\"title\":{\"standoff\":15},\"zerolinecolor\":\"white\",\"automargin\":true,\"zerolinewidth\":2},\"yaxis\":{\"gridcolor\":\"white\",\"linecolor\":\"white\",\"ticks\":\"\",\"title\":{\"standoff\":15},\"zerolinecolor\":\"white\",\"automargin\":true,\"zerolinewidth\":2},\"scene\":{\"xaxis\":{\"backgroundcolor\":\"#E5ECF6\",\"gridcolor\":\"white\",\"linecolor\":\"white\",\"showbackground\":true,\"ticks\":\"\",\"zerolinecolor\":\"white\",\"gridwidth\":2},\"yaxis\":{\"backgroundcolor\":\"#E5ECF6\",\"gridcolor\":\"white\",\"linecolor\":\"white\",\"showbackground\":true,\"ticks\":\"\",\"zerolinecolor\":\"white\",\"gridwidth\":2},\"zaxis\":{\"backgroundcolor\":\"#E5ECF6\",\"gridcolor\":\"white\",\"linecolor\":\"white\",\"showbackground\":true,\"ticks\":\"\",\"zerolinecolor\":\"white\",\"gridwidth\":2}},\"shapedefaults\":{\"line\":{\"color\":\"#2a3f5f\"}},\"annotationdefaults\":{\"arrowcolor\":\"#2a3f5f\",\"arrowhead\":0,\"arrowwidth\":1},\"geo\":{\"bgcolor\":\"white\",\"landcolor\":\"#E5ECF6\",\"subunitcolor\":\"white\",\"showland\":true,\"showlakes\":true,\"lakecolor\":\"white\"},\"title\":{\"x\":0.05},\"mapbox\":{\"style\":\"light\"}}},\"xaxis\":{\"anchor\":\"y\",\"domain\":[0.0,0.475],\"dtick\":5,\"tickangle\":-20,\"tickvals\":[0,5,10,15,20,25,30,35,40,45],\"ticktext\":[\"input\",\"5\",\"10\",\"15\",\"20\",\"25\",\"30\",\"35\",\"40\",\"45\",\"50\",\"55\",\"60\",\"65\",\"70\",\"75\",\"80\",\"85\",\"90\",\"95\",\"100\",\"105\",\"110\",\"115\",\"120\",\"125\",\"130\",\"135\",\"140\",\"145\",\"150\",\"155\",\"160\",\"165\",\"170\",\"175\",\"180\",\"185\",\"190\",\"195\",\"200\",\"205\",\"210\",\"215\"]},\"yaxis\":{\"anchor\":\"x\",\"domain\":[0.0,1.0],\"range\":[0,5]},\"xaxis2\":{\"anchor\":\"y2\",\"domain\":[0.525,1.0],\"dtick\":5,\"tickangle\":-20,\"tickvals\":[0,5,10,15,20,25,30,35,40,45],\"ticktext\":[\"input\",\"5\",\"10\",\"15\",\"20\",\"25\",\"30\",\"35\",\"40\",\"45\",\"50\",\"55\",\"60\",\"65\",\"70\",\"75\",\"80\",\"85\",\"90\",\"95\",\"100\",\"105\",\"110\",\"115\",\"120\",\"125\",\"130\",\"135\",\"140\",\"145\",\"150\",\"155\",\"160\",\"165\",\"170\",\"175\",\"180\",\"185\",\"190\",\"195\",\"200\",\"205\",\"210\",\"215\"]},\"yaxis2\":{\"anchor\":\"x2\",\"domain\":[0.0,1.0],\"range\":[0,5]},\"annotations\":[{\"font\":{\"size\":20,\"color\":\"black\"},\"showarrow\":false,\"text\":\"Logit lens (baseline)\",\"x\":0.2375,\"xanchor\":\"center\",\"xref\":\"paper\",\"y\":1.0,\"yanchor\":\"bottom\",\"yref\":\"paper\"},{\"font\":{\"size\":20,\"color\":\"black\"},\"showarrow\":false,\"text\":\"Tuned lens (ours)\",\"x\":0.7625,\"xanchor\":\"center\",\"xref\":\"paper\",\"y\":1.0,\"yanchor\":\"bottom\",\"yref\":\"paper\"},{\"font\":{\"size\":20,\"color\":\"black\"},\"showarrow\":false,\"text\":\"Layer\",\"x\":0.5,\"xanchor\":\"center\",\"xref\":\"paper\",\"y\":0,\"yanchor\":\"top\",\"yref\":\"paper\",\"yshift\":-30},{\"font\":{\"size\":20,\"color\":\"black\"},\"showarrow\":false,\"text\":\"bits per byte\",\"textangle\":-90,\"x\":0,\"xanchor\":\"right\",\"xref\":\"paper\",\"xshift\":-40,\"y\":0.5,\"yanchor\":\"middle\",\"yref\":\"paper\"}],\"font\":{\"size\":16,\"color\":\"black\"},\"legend\":{\"title\":{\"text\":\"Model size\"},\"x\":0.9,\"y\":0.98},\"margin\":{\"l\":70,\"r\":30,\"t\":50,\"b\":70},\"height\":518.4,\"hovermode\":\"x unified\",\"width\":1296.0},                        {\"responsive\": true}                    ).then(function(){\n",
       "                            \n",
       "var gd = document.getElementById('dcca1dee-4c53-47e8-af09-88b0cd3a3dc6');\n",
       "var x = new MutationObserver(function (mutations, observer) {{\n",
       "        var display = window.getComputedStyle(gd).display;\n",
       "        if (!display || display === 'none') {{\n",
       "            console.log([gd, 'removed!']);\n",
       "            Plotly.purge(gd);\n",
       "            observer.disconnect();\n",
       "        }}\n",
       "}});\n",
       "\n",
       "// Listen for the removal of the full notebook cells\n",
       "var notebookContainer = gd.closest('#notebook-container');\n",
       "if (notebookContainer) {{\n",
       "    x.observe(notebookContainer, {childList: true});\n",
       "}}\n",
       "\n",
       "// Listen for the clearing of the current output cell\n",
       "var outputEl = gd.closest('.output');\n",
       "if (outputEl) {{\n",
       "    x.observe(outputEl, {childList: true});\n",
       "}}\n",
       "\n",
       "                        })                };                });            </script>        </div>"
      ]
     },
     "metadata": {},
     "output_type": "display_data"
    }
   ],
   "source": [
    "from plotly.subplots import make_subplots\n",
    "import plotly.express as px\n",
    "import plotly.graph_objects as go\n",
    "\n",
    "PAGE_WIDTH = 6.75 * 96 * 2\n",
    "\n",
    "from transformers import AutoConfig, AutoModel\n",
    "import numpy as np\n",
    "import torch as th\n",
    "\n",
    "\n",
    "MODELS = [\n",
    "    \"EleutherAI/gpt-neo-125M\", \"EleutherAI/gpt-neo-1.3B\", \"EleutherAI/gpt-neo-2.7B\",\n",
    "]\n",
    "NAMES = [\n",
    "    \"125M\", \"1.3B\", \"2.7B\"\n",
    "]\n",
    "\n",
    "DEPTHS = []\n",
    "PARAMS = []\n",
    "WIDTHS = []\n",
    "baselines = {}\n",
    "metrics = {}\n",
    "root = \"/mnt/ssd-1/nora/real-lenses/gpt-neo/\"\n",
    "\n",
    "for name, model in zip(NAMES, MODELS):\n",
    "    config = AutoConfig.from_pretrained(model)\n",
    "    m = AutoModel.from_config(config)\n",
    "    DEPTHS.append(config.num_hidden_layers)\n",
    "    PARAMS.append(\n",
    "        sum(p.numel() for p in m.parameters() if p.requires_grad)\n",
    "    )\n",
    "    WIDTHS.append(config.hidden_size)\n",
    "\n",
    "    results = th.load(\n",
    "        root + f\"{name}/extra-layer/eval/aggregate_metrics.pt\",\n",
    "        map_location=\"cpu\"\n",
    "    )\n",
    "    baselines[name] = list(results['baseline_ce'].values())\n",
    "    metrics[name] = list(results['lens_ce'].values())"
   ]
  },
  {
   "cell_type": "code",
   "execution_count": 64,
   "metadata": {},
   "outputs": [
    {
     "data": {
      "application/vnd.plotly.v1+json": {
       "config": {
        "plotlyServerURL": "https://plot.ly"
       },
       "data": [
        {
         "marker": {
          "color": "#0d0887"
         },
         "mode": "lines+markers",
         "name": "125M",
         "showlegend": false,
         "type": "scatter",
         "x": [
          0,
          1,
          2,
          3,
          4,
          5,
          6,
          7,
          8,
          9,
          10,
          11
         ],
         "xaxis": "x",
         "y": [
          17.09258270263672,
          4.351441383361816,
          5.07452392578125,
          5.498043060302734,
          5.424314498901367,
          5.3364081382751465,
          3.955695629119873,
          3.3719840049743652,
          2.8355324268341064,
          1.9643042087554932,
          1.3392248153686523,
          0.9419597387313843
         ],
         "yaxis": "y"
        },
        {
         "marker": {
          "color": "#9c179e"
         },
         "mode": "lines+markers",
         "name": "1.3B",
         "showlegend": false,
         "type": "scatter",
         "x": [
          0,
          1,
          2,
          3,
          4,
          5,
          6,
          7,
          8,
          9,
          10,
          11,
          12,
          13,
          14,
          15,
          16,
          17,
          18,
          19,
          20,
          21,
          22,
          23
         ],
         "xaxis": "x",
         "y": [
          5.3843302726745605,
          3.5801939964294434,
          3.581702470779419,
          3.7297255992889404,
          3.9547858238220215,
          3.893380641937256,
          3.8313045501708984,
          3.7495293617248535,
          3.7129480838775635,
          3.8697969913482666,
          3.6747324466705322,
          3.904020309448242,
          3.6295175552368164,
          3.4734225273132324,
          3.060460329055786,
          2.6964778900146484,
          2.2299838066101074,
          1.7868245840072632,
          1.3977924585342407,
          1.1655482053756714,
          1.033753752708435,
          0.9475622773170471,
          0.8621396422386169,
          0.7692604064941406
         ],
         "yaxis": "y"
        },
        {
         "marker": {
          "color": "#ed7953"
         },
         "mode": "lines+markers",
         "name": "2.7B",
         "showlegend": false,
         "type": "scatter",
         "x": [
          0,
          1,
          2,
          3,
          4,
          5,
          6,
          7,
          8,
          9,
          10,
          11,
          12,
          13,
          14,
          15,
          16,
          17,
          18,
          19,
          20,
          21,
          22,
          23,
          24,
          25,
          26,
          27,
          28,
          29,
          30,
          31
         ],
         "xaxis": "x",
         "y": [
          4.2586541175842285,
          4.3226447105407715,
          4.4720916748046875,
          4.450130939483643,
          4.258004188537598,
          4.268670558929443,
          4.242621898651123,
          4.201811790466309,
          4.153608322143555,
          4.090653896331787,
          4.046316146850586,
          3.996542453765869,
          3.9733974933624268,
          3.797826051712036,
          3.699993371963501,
          3.411874294281006,
          3.3101015090942383,
          3.099020004272461,
          2.8658499717712402,
          2.602648973464966,
          2.369180679321289,
          2.125714063644409,
          1.9270374774932861,
          1.7751628160476685,
          1.6161447763442993,
          1.4748281240463257,
          1.3470436334609985,
          1.2289801836013794,
          1.0942890644073486,
          0.9771089553833008,
          0.8402484655380249,
          0.7334215641021729
         ],
         "yaxis": "y"
        },
        {
         "marker": {
          "color": "#0d0887"
         },
         "mode": "lines+markers",
         "name": "125M",
         "type": "scatter",
         "x": [
          0,
          1,
          2,
          3,
          4,
          5,
          6,
          7,
          8,
          9,
          10,
          11
         ],
         "xaxis": "x2",
         "y": [
          3.566965103149414,
          2.7315833568573,
          2.933964252471924,
          2.9737534523010254,
          2.8702287673950195,
          2.7141518592834473,
          2.33795428276062,
          2.0872247219085693,
          1.8248615264892578,
          1.4016697406768799,
          1.151745080947876,
          0.9419617056846619
         ],
         "yaxis": "y2"
        },
        {
         "marker": {
          "color": "#9c179e"
         },
         "mode": "lines+markers",
         "name": "1.3B",
         "type": "scatter",
         "x": [
          0,
          1,
          2,
          3,
          4,
          5,
          6,
          7,
          8,
          9,
          10,
          11,
          12,
          13,
          14,
          15,
          16,
          17,
          18,
          19,
          20,
          21,
          22,
          23
         ],
         "xaxis": "x2",
         "y": [
          3.241262674331665,
          2.739164352416992,
          2.6387295722961426,
          2.5873613357543945,
          2.733396291732788,
          2.647948741912842,
          2.5251500606536865,
          2.4322402477264404,
          2.2842469215393066,
          2.1239638328552246,
          2.0804290771484375,
          1.8746565580368042,
          1.7844483852386475,
          1.6450897455215454,
          1.5313513278961182,
          1.341954231262207,
          1.2517039775848389,
          1.1433535814285278,
          1.0816162824630737,
          1.0029346942901611,
          0.9409270882606506,
          0.8853263258934021,
          0.8281514048576355,
          0.7692604660987854
         ],
         "yaxis": "y2"
        },
        {
         "marker": {
          "color": "#ed7953"
         },
         "mode": "lines+markers",
         "name": "2.7B",
         "type": "scatter",
         "x": [
          0,
          1,
          2,
          3,
          4,
          5,
          6,
          7,
          8,
          9,
          10,
          11,
          12,
          13,
          14,
          15,
          16,
          17,
          18,
          19,
          20,
          21,
          22,
          23,
          24,
          25,
          26,
          27,
          28,
          29,
          30,
          31
         ],
         "xaxis": "x2",
         "y": [
          3.4039058685302734,
          2.8880622386932373,
          2.7735257148742676,
          2.697389841079712,
          2.758192539215088,
          2.663469076156616,
          2.564525842666626,
          2.4920475482940674,
          2.3811161518096924,
          2.31626296043396,
          2.2838869094848633,
          2.168332576751709,
          2.134523630142212,
          1.9474074840545654,
          1.874711513519287,
          1.6782883405685425,
          1.6269142627716064,
          1.5428324937820435,
          1.466694712638855,
          1.3720548152923584,
          1.3106334209442139,
          1.2378144264221191,
          1.1943037509918213,
          1.1379371881484985,
          1.0867743492126465,
          1.0298559665679932,
          0.9840797781944275,
          0.9331721067428589,
          0.8874331116676331,
          0.8373673558235168,
          0.7845184803009033,
          0.7334213852882385
         ],
         "yaxis": "y2"
        }
       ],
       "layout": {
        "annotations": [
         {
          "font": {
           "color": "black",
           "size": 20
          },
          "showarrow": false,
          "text": "Logit lens (baseline)",
          "x": 0.2375,
          "xanchor": "center",
          "xref": "paper",
          "y": 1,
          "yanchor": "bottom",
          "yref": "paper"
         },
         {
          "font": {
           "color": "black",
           "size": 20
          },
          "showarrow": false,
          "text": "Tuned lens (ours)",
          "x": 0.7625,
          "xanchor": "center",
          "xref": "paper",
          "y": 1,
          "yanchor": "bottom",
          "yref": "paper"
         },
         {
          "font": {
           "color": "black",
           "size": 20
          },
          "showarrow": false,
          "text": "Layer",
          "x": 0.5,
          "xanchor": "center",
          "xref": "paper",
          "y": 0,
          "yanchor": "top",
          "yref": "paper",
          "yshift": -30
         },
         {
          "font": {
           "color": "black",
           "size": 20
          },
          "showarrow": false,
          "text": "bits per byte",
          "textangle": -90,
          "x": 0,
          "xanchor": "right",
          "xref": "paper",
          "xshift": -40,
          "y": 0.5,
          "yanchor": "middle",
          "yref": "paper"
         }
        ],
        "font": {
         "color": "black",
         "size": 16
        },
        "height": 518.4,
        "hovermode": "x unified",
        "legend": {
         "title": {
          "text": "Model size"
         },
         "x": 0.9,
         "y": 0.98
        },
        "margin": {
         "b": 70,
         "l": 70,
         "r": 30,
         "t": 50
        },
        "template": {
         "data": {
          "bar": [
           {
            "error_x": {
             "color": "#2a3f5f"
            },
            "error_y": {
             "color": "#2a3f5f"
            },
            "marker": {
             "line": {
              "color": "#E5ECF6",
              "width": 0.5
             },
             "pattern": {
              "fillmode": "overlay",
              "size": 10,
              "solidity": 0.2
             }
            },
            "type": "bar"
           }
          ],
          "barpolar": [
           {
            "marker": {
             "line": {
              "color": "#E5ECF6",
              "width": 0.5
             },
             "pattern": {
              "fillmode": "overlay",
              "size": 10,
              "solidity": 0.2
             }
            },
            "type": "barpolar"
           }
          ],
          "carpet": [
           {
            "aaxis": {
             "endlinecolor": "#2a3f5f",
             "gridcolor": "white",
             "linecolor": "white",
             "minorgridcolor": "white",
             "startlinecolor": "#2a3f5f"
            },
            "baxis": {
             "endlinecolor": "#2a3f5f",
             "gridcolor": "white",
             "linecolor": "white",
             "minorgridcolor": "white",
             "startlinecolor": "#2a3f5f"
            },
            "type": "carpet"
           }
          ],
          "choropleth": [
           {
            "colorbar": {
             "outlinewidth": 0,
             "ticks": ""
            },
            "type": "choropleth"
           }
          ],
          "contour": [
           {
            "colorbar": {
             "outlinewidth": 0,
             "ticks": ""
            },
            "colorscale": [
             [
              0,
              "#0d0887"
             ],
             [
              0.1111111111111111,
              "#46039f"
             ],
             [
              0.2222222222222222,
              "#7201a8"
             ],
             [
              0.3333333333333333,
              "#9c179e"
             ],
             [
              0.4444444444444444,
              "#bd3786"
             ],
             [
              0.5555555555555556,
              "#d8576b"
             ],
             [
              0.6666666666666666,
              "#ed7953"
             ],
             [
              0.7777777777777778,
              "#fb9f3a"
             ],
             [
              0.8888888888888888,
              "#fdca26"
             ],
             [
              1,
              "#f0f921"
             ]
            ],
            "type": "contour"
           }
          ],
          "contourcarpet": [
           {
            "colorbar": {
             "outlinewidth": 0,
             "ticks": ""
            },
            "type": "contourcarpet"
           }
          ],
          "heatmap": [
           {
            "colorbar": {
             "outlinewidth": 0,
             "ticks": ""
            },
            "colorscale": [
             [
              0,
              "#0d0887"
             ],
             [
              0.1111111111111111,
              "#46039f"
             ],
             [
              0.2222222222222222,
              "#7201a8"
             ],
             [
              0.3333333333333333,
              "#9c179e"
             ],
             [
              0.4444444444444444,
              "#bd3786"
             ],
             [
              0.5555555555555556,
              "#d8576b"
             ],
             [
              0.6666666666666666,
              "#ed7953"
             ],
             [
              0.7777777777777778,
              "#fb9f3a"
             ],
             [
              0.8888888888888888,
              "#fdca26"
             ],
             [
              1,
              "#f0f921"
             ]
            ],
            "type": "heatmap"
           }
          ],
          "heatmapgl": [
           {
            "colorbar": {
             "outlinewidth": 0,
             "ticks": ""
            },
            "colorscale": [
             [
              0,
              "#0d0887"
             ],
             [
              0.1111111111111111,
              "#46039f"
             ],
             [
              0.2222222222222222,
              "#7201a8"
             ],
             [
              0.3333333333333333,
              "#9c179e"
             ],
             [
              0.4444444444444444,
              "#bd3786"
             ],
             [
              0.5555555555555556,
              "#d8576b"
             ],
             [
              0.6666666666666666,
              "#ed7953"
             ],
             [
              0.7777777777777778,
              "#fb9f3a"
             ],
             [
              0.8888888888888888,
              "#fdca26"
             ],
             [
              1,
              "#f0f921"
             ]
            ],
            "type": "heatmapgl"
           }
          ],
          "histogram": [
           {
            "marker": {
             "pattern": {
              "fillmode": "overlay",
              "size": 10,
              "solidity": 0.2
             }
            },
            "type": "histogram"
           }
          ],
          "histogram2d": [
           {
            "colorbar": {
             "outlinewidth": 0,
             "ticks": ""
            },
            "colorscale": [
             [
              0,
              "#0d0887"
             ],
             [
              0.1111111111111111,
              "#46039f"
             ],
             [
              0.2222222222222222,
              "#7201a8"
             ],
             [
              0.3333333333333333,
              "#9c179e"
             ],
             [
              0.4444444444444444,
              "#bd3786"
             ],
             [
              0.5555555555555556,
              "#d8576b"
             ],
             [
              0.6666666666666666,
              "#ed7953"
             ],
             [
              0.7777777777777778,
              "#fb9f3a"
             ],
             [
              0.8888888888888888,
              "#fdca26"
             ],
             [
              1,
              "#f0f921"
             ]
            ],
            "type": "histogram2d"
           }
          ],
          "histogram2dcontour": [
           {
            "colorbar": {
             "outlinewidth": 0,
             "ticks": ""
            },
            "colorscale": [
             [
              0,
              "#0d0887"
             ],
             [
              0.1111111111111111,
              "#46039f"
             ],
             [
              0.2222222222222222,
              "#7201a8"
             ],
             [
              0.3333333333333333,
              "#9c179e"
             ],
             [
              0.4444444444444444,
              "#bd3786"
             ],
             [
              0.5555555555555556,
              "#d8576b"
             ],
             [
              0.6666666666666666,
              "#ed7953"
             ],
             [
              0.7777777777777778,
              "#fb9f3a"
             ],
             [
              0.8888888888888888,
              "#fdca26"
             ],
             [
              1,
              "#f0f921"
             ]
            ],
            "type": "histogram2dcontour"
           }
          ],
          "mesh3d": [
           {
            "colorbar": {
             "outlinewidth": 0,
             "ticks": ""
            },
            "type": "mesh3d"
           }
          ],
          "parcoords": [
           {
            "line": {
             "colorbar": {
              "outlinewidth": 0,
              "ticks": ""
             }
            },
            "type": "parcoords"
           }
          ],
          "pie": [
           {
            "automargin": true,
            "type": "pie"
           }
          ],
          "scatter": [
           {
            "fillpattern": {
             "fillmode": "overlay",
             "size": 10,
             "solidity": 0.2
            },
            "type": "scatter"
           }
          ],
          "scatter3d": [
           {
            "line": {
             "colorbar": {
              "outlinewidth": 0,
              "ticks": ""
             }
            },
            "marker": {
             "colorbar": {
              "outlinewidth": 0,
              "ticks": ""
             }
            },
            "type": "scatter3d"
           }
          ],
          "scattercarpet": [
           {
            "marker": {
             "colorbar": {
              "outlinewidth": 0,
              "ticks": ""
             }
            },
            "type": "scattercarpet"
           }
          ],
          "scattergeo": [
           {
            "marker": {
             "colorbar": {
              "outlinewidth": 0,
              "ticks": ""
             }
            },
            "type": "scattergeo"
           }
          ],
          "scattergl": [
           {
            "marker": {
             "colorbar": {
              "outlinewidth": 0,
              "ticks": ""
             }
            },
            "type": "scattergl"
           }
          ],
          "scattermapbox": [
           {
            "marker": {
             "colorbar": {
              "outlinewidth": 0,
              "ticks": ""
             }
            },
            "type": "scattermapbox"
           }
          ],
          "scatterpolar": [
           {
            "marker": {
             "colorbar": {
              "outlinewidth": 0,
              "ticks": ""
             }
            },
            "type": "scatterpolar"
           }
          ],
          "scatterpolargl": [
           {
            "marker": {
             "colorbar": {
              "outlinewidth": 0,
              "ticks": ""
             }
            },
            "type": "scatterpolargl"
           }
          ],
          "scatterternary": [
           {
            "marker": {
             "colorbar": {
              "outlinewidth": 0,
              "ticks": ""
             }
            },
            "type": "scatterternary"
           }
          ],
          "surface": [
           {
            "colorbar": {
             "outlinewidth": 0,
             "ticks": ""
            },
            "colorscale": [
             [
              0,
              "#0d0887"
             ],
             [
              0.1111111111111111,
              "#46039f"
             ],
             [
              0.2222222222222222,
              "#7201a8"
             ],
             [
              0.3333333333333333,
              "#9c179e"
             ],
             [
              0.4444444444444444,
              "#bd3786"
             ],
             [
              0.5555555555555556,
              "#d8576b"
             ],
             [
              0.6666666666666666,
              "#ed7953"
             ],
             [
              0.7777777777777778,
              "#fb9f3a"
             ],
             [
              0.8888888888888888,
              "#fdca26"
             ],
             [
              1,
              "#f0f921"
             ]
            ],
            "type": "surface"
           }
          ],
          "table": [
           {
            "cells": {
             "fill": {
              "color": "#EBF0F8"
             },
             "line": {
              "color": "white"
             }
            },
            "header": {
             "fill": {
              "color": "#C8D4E3"
             },
             "line": {
              "color": "white"
             }
            },
            "type": "table"
           }
          ]
         },
         "layout": {
          "annotationdefaults": {
           "arrowcolor": "#2a3f5f",
           "arrowhead": 0,
           "arrowwidth": 1
          },
          "autotypenumbers": "strict",
          "coloraxis": {
           "colorbar": {
            "outlinewidth": 0,
            "ticks": ""
           }
          },
          "colorscale": {
           "diverging": [
            [
             0,
             "#8e0152"
            ],
            [
             0.1,
             "#c51b7d"
            ],
            [
             0.2,
             "#de77ae"
            ],
            [
             0.3,
             "#f1b6da"
            ],
            [
             0.4,
             "#fde0ef"
            ],
            [
             0.5,
             "#f7f7f7"
            ],
            [
             0.6,
             "#e6f5d0"
            ],
            [
             0.7,
             "#b8e186"
            ],
            [
             0.8,
             "#7fbc41"
            ],
            [
             0.9,
             "#4d9221"
            ],
            [
             1,
             "#276419"
            ]
           ],
           "sequential": [
            [
             0,
             "#0d0887"
            ],
            [
             0.1111111111111111,
             "#46039f"
            ],
            [
             0.2222222222222222,
             "#7201a8"
            ],
            [
             0.3333333333333333,
             "#9c179e"
            ],
            [
             0.4444444444444444,
             "#bd3786"
            ],
            [
             0.5555555555555556,
             "#d8576b"
            ],
            [
             0.6666666666666666,
             "#ed7953"
            ],
            [
             0.7777777777777778,
             "#fb9f3a"
            ],
            [
             0.8888888888888888,
             "#fdca26"
            ],
            [
             1,
             "#f0f921"
            ]
           ],
           "sequentialminus": [
            [
             0,
             "#0d0887"
            ],
            [
             0.1111111111111111,
             "#46039f"
            ],
            [
             0.2222222222222222,
             "#7201a8"
            ],
            [
             0.3333333333333333,
             "#9c179e"
            ],
            [
             0.4444444444444444,
             "#bd3786"
            ],
            [
             0.5555555555555556,
             "#d8576b"
            ],
            [
             0.6666666666666666,
             "#ed7953"
            ],
            [
             0.7777777777777778,
             "#fb9f3a"
            ],
            [
             0.8888888888888888,
             "#fdca26"
            ],
            [
             1,
             "#f0f921"
            ]
           ]
          },
          "colorway": [
           "#636efa",
           "#EF553B",
           "#00cc96",
           "#ab63fa",
           "#FFA15A",
           "#19d3f3",
           "#FF6692",
           "#B6E880",
           "#FF97FF",
           "#FECB52"
          ],
          "font": {
           "color": "#2a3f5f"
          },
          "geo": {
           "bgcolor": "white",
           "lakecolor": "white",
           "landcolor": "#E5ECF6",
           "showlakes": true,
           "showland": true,
           "subunitcolor": "white"
          },
          "hoverlabel": {
           "align": "left"
          },
          "hovermode": "closest",
          "mapbox": {
           "style": "light"
          },
          "paper_bgcolor": "white",
          "plot_bgcolor": "#E5ECF6",
          "polar": {
           "angularaxis": {
            "gridcolor": "white",
            "linecolor": "white",
            "ticks": ""
           },
           "bgcolor": "#E5ECF6",
           "radialaxis": {
            "gridcolor": "white",
            "linecolor": "white",
            "ticks": ""
           }
          },
          "scene": {
           "xaxis": {
            "backgroundcolor": "#E5ECF6",
            "gridcolor": "white",
            "gridwidth": 2,
            "linecolor": "white",
            "showbackground": true,
            "ticks": "",
            "zerolinecolor": "white"
           },
           "yaxis": {
            "backgroundcolor": "#E5ECF6",
            "gridcolor": "white",
            "gridwidth": 2,
            "linecolor": "white",
            "showbackground": true,
            "ticks": "",
            "zerolinecolor": "white"
           },
           "zaxis": {
            "backgroundcolor": "#E5ECF6",
            "gridcolor": "white",
            "gridwidth": 2,
            "linecolor": "white",
            "showbackground": true,
            "ticks": "",
            "zerolinecolor": "white"
           }
          },
          "shapedefaults": {
           "line": {
            "color": "#2a3f5f"
           }
          },
          "ternary": {
           "aaxis": {
            "gridcolor": "white",
            "linecolor": "white",
            "ticks": ""
           },
           "baxis": {
            "gridcolor": "white",
            "linecolor": "white",
            "ticks": ""
           },
           "bgcolor": "#E5ECF6",
           "caxis": {
            "gridcolor": "white",
            "linecolor": "white",
            "ticks": ""
           }
          },
          "title": {
           "x": 0.05
          },
          "xaxis": {
           "automargin": true,
           "gridcolor": "white",
           "linecolor": "white",
           "ticks": "",
           "title": {
            "standoff": 15
           },
           "zerolinecolor": "white",
           "zerolinewidth": 2
          },
          "yaxis": {
           "automargin": true,
           "gridcolor": "white",
           "linecolor": "white",
           "ticks": "",
           "title": {
            "standoff": 15
           },
           "zerolinecolor": "white",
           "zerolinewidth": 2
          }
         }
        },
        "width": 1296,
        "xaxis": {
         "anchor": "y",
         "domain": [
          0,
          0.475
         ],
         "dtick": 5,
         "tickangle": -20,
         "ticktext": [
          "input",
          "5",
          "10",
          "15",
          "20",
          "25",
          "30",
          "35",
          "40",
          "45",
          "50",
          "55",
          "60",
          "65",
          "70",
          "75",
          "80",
          "85",
          "90",
          "95",
          "100",
          "105",
          "110",
          "115",
          "120",
          "125",
          "130",
          "135",
          "140",
          "145",
          "150",
          "155",
          "160",
          "165",
          "170",
          "175",
          "180",
          "185",
          "190",
          "195",
          "200",
          "205",
          "210",
          "215"
         ],
         "tickvals": [
          0,
          5,
          10,
          15,
          20,
          25,
          30,
          35,
          40,
          45
         ]
        },
        "xaxis2": {
         "anchor": "y2",
         "domain": [
          0.525,
          1
         ],
         "dtick": 5,
         "tickangle": -20,
         "ticktext": [
          "input",
          "5",
          "10",
          "15",
          "20",
          "25",
          "30",
          "35",
          "40",
          "45",
          "50",
          "55",
          "60",
          "65",
          "70",
          "75",
          "80",
          "85",
          "90",
          "95",
          "100",
          "105",
          "110",
          "115",
          "120",
          "125",
          "130",
          "135",
          "140",
          "145",
          "150",
          "155",
          "160",
          "165",
          "170",
          "175",
          "180",
          "185",
          "190",
          "195",
          "200",
          "205",
          "210",
          "215"
         ],
         "tickvals": [
          0,
          5,
          10,
          15,
          20,
          25,
          30,
          35,
          40,
          45
         ]
        },
        "yaxis": {
         "anchor": "x",
         "domain": [
          0,
          1
         ],
         "range": [
          0,
          6
         ]
        },
        "yaxis2": {
         "anchor": "x2",
         "domain": [
          0,
          1
         ],
         "range": [
          0,
          6
         ]
        }
       }
      },
      "text/html": [
       "<div>                            <div id=\"b1b9a93c-220d-47f9-b9d1-869fb2ff9de4\" class=\"plotly-graph-div\" style=\"height:518.4px; width:1296.0px;\"></div>            <script type=\"text/javascript\">                require([\"plotly\"], function(Plotly) {                    window.PLOTLYENV=window.PLOTLYENV || {};                                    if (document.getElementById(\"b1b9a93c-220d-47f9-b9d1-869fb2ff9de4\")) {                    Plotly.newPlot(                        \"b1b9a93c-220d-47f9-b9d1-869fb2ff9de4\",                        [{\"marker\":{\"color\":\"#0d0887\"},\"mode\":\"lines+markers\",\"name\":\"125M\",\"showlegend\":false,\"x\":[0,1,2,3,4,5,6,7,8,9,10,11],\"y\":[17.09258270263672,4.351441383361816,5.07452392578125,5.498043060302734,5.424314498901367,5.3364081382751465,3.955695629119873,3.3719840049743652,2.8355324268341064,1.9643042087554932,1.3392248153686523,0.9419597387313843],\"type\":\"scatter\",\"xaxis\":\"x\",\"yaxis\":\"y\"},{\"marker\":{\"color\":\"#9c179e\"},\"mode\":\"lines+markers\",\"name\":\"1.3B\",\"showlegend\":false,\"x\":[0,1,2,3,4,5,6,7,8,9,10,11,12,13,14,15,16,17,18,19,20,21,22,23],\"y\":[5.3843302726745605,3.5801939964294434,3.581702470779419,3.7297255992889404,3.9547858238220215,3.893380641937256,3.8313045501708984,3.7495293617248535,3.7129480838775635,3.8697969913482666,3.6747324466705322,3.904020309448242,3.6295175552368164,3.4734225273132324,3.060460329055786,2.6964778900146484,2.2299838066101074,1.7868245840072632,1.3977924585342407,1.1655482053756714,1.033753752708435,0.9475622773170471,0.8621396422386169,0.7692604064941406],\"type\":\"scatter\",\"xaxis\":\"x\",\"yaxis\":\"y\"},{\"marker\":{\"color\":\"#ed7953\"},\"mode\":\"lines+markers\",\"name\":\"2.7B\",\"showlegend\":false,\"x\":[0,1,2,3,4,5,6,7,8,9,10,11,12,13,14,15,16,17,18,19,20,21,22,23,24,25,26,27,28,29,30,31],\"y\":[4.2586541175842285,4.3226447105407715,4.4720916748046875,4.450130939483643,4.258004188537598,4.268670558929443,4.242621898651123,4.201811790466309,4.153608322143555,4.090653896331787,4.046316146850586,3.996542453765869,3.9733974933624268,3.797826051712036,3.699993371963501,3.411874294281006,3.3101015090942383,3.099020004272461,2.8658499717712402,2.602648973464966,2.369180679321289,2.125714063644409,1.9270374774932861,1.7751628160476685,1.6161447763442993,1.4748281240463257,1.3470436334609985,1.2289801836013794,1.0942890644073486,0.9771089553833008,0.8402484655380249,0.7334215641021729],\"type\":\"scatter\",\"xaxis\":\"x\",\"yaxis\":\"y\"},{\"marker\":{\"color\":\"#0d0887\"},\"mode\":\"lines+markers\",\"name\":\"125M\",\"x\":[0,1,2,3,4,5,6,7,8,9,10,11],\"y\":[3.566965103149414,2.7315833568573,2.933964252471924,2.9737534523010254,2.8702287673950195,2.7141518592834473,2.33795428276062,2.0872247219085693,1.8248615264892578,1.4016697406768799,1.151745080947876,0.9419617056846619],\"type\":\"scatter\",\"xaxis\":\"x2\",\"yaxis\":\"y2\"},{\"marker\":{\"color\":\"#9c179e\"},\"mode\":\"lines+markers\",\"name\":\"1.3B\",\"x\":[0,1,2,3,4,5,6,7,8,9,10,11,12,13,14,15,16,17,18,19,20,21,22,23],\"y\":[3.241262674331665,2.739164352416992,2.6387295722961426,2.5873613357543945,2.733396291732788,2.647948741912842,2.5251500606536865,2.4322402477264404,2.2842469215393066,2.1239638328552246,2.0804290771484375,1.8746565580368042,1.7844483852386475,1.6450897455215454,1.5313513278961182,1.341954231262207,1.2517039775848389,1.1433535814285278,1.0816162824630737,1.0029346942901611,0.9409270882606506,0.8853263258934021,0.8281514048576355,0.7692604660987854],\"type\":\"scatter\",\"xaxis\":\"x2\",\"yaxis\":\"y2\"},{\"marker\":{\"color\":\"#ed7953\"},\"mode\":\"lines+markers\",\"name\":\"2.7B\",\"x\":[0,1,2,3,4,5,6,7,8,9,10,11,12,13,14,15,16,17,18,19,20,21,22,23,24,25,26,27,28,29,30,31],\"y\":[3.4039058685302734,2.8880622386932373,2.7735257148742676,2.697389841079712,2.758192539215088,2.663469076156616,2.564525842666626,2.4920475482940674,2.3811161518096924,2.31626296043396,2.2838869094848633,2.168332576751709,2.134523630142212,1.9474074840545654,1.874711513519287,1.6782883405685425,1.6269142627716064,1.5428324937820435,1.466694712638855,1.3720548152923584,1.3106334209442139,1.2378144264221191,1.1943037509918213,1.1379371881484985,1.0867743492126465,1.0298559665679932,0.9840797781944275,0.9331721067428589,0.8874331116676331,0.8373673558235168,0.7845184803009033,0.7334213852882385],\"type\":\"scatter\",\"xaxis\":\"x2\",\"yaxis\":\"y2\"}],                        {\"template\":{\"data\":{\"histogram2dcontour\":[{\"type\":\"histogram2dcontour\",\"colorbar\":{\"outlinewidth\":0,\"ticks\":\"\"},\"colorscale\":[[0.0,\"#0d0887\"],[0.1111111111111111,\"#46039f\"],[0.2222222222222222,\"#7201a8\"],[0.3333333333333333,\"#9c179e\"],[0.4444444444444444,\"#bd3786\"],[0.5555555555555556,\"#d8576b\"],[0.6666666666666666,\"#ed7953\"],[0.7777777777777778,\"#fb9f3a\"],[0.8888888888888888,\"#fdca26\"],[1.0,\"#f0f921\"]]}],\"choropleth\":[{\"type\":\"choropleth\",\"colorbar\":{\"outlinewidth\":0,\"ticks\":\"\"}}],\"histogram2d\":[{\"type\":\"histogram2d\",\"colorbar\":{\"outlinewidth\":0,\"ticks\":\"\"},\"colorscale\":[[0.0,\"#0d0887\"],[0.1111111111111111,\"#46039f\"],[0.2222222222222222,\"#7201a8\"],[0.3333333333333333,\"#9c179e\"],[0.4444444444444444,\"#bd3786\"],[0.5555555555555556,\"#d8576b\"],[0.6666666666666666,\"#ed7953\"],[0.7777777777777778,\"#fb9f3a\"],[0.8888888888888888,\"#fdca26\"],[1.0,\"#f0f921\"]]}],\"heatmap\":[{\"type\":\"heatmap\",\"colorbar\":{\"outlinewidth\":0,\"ticks\":\"\"},\"colorscale\":[[0.0,\"#0d0887\"],[0.1111111111111111,\"#46039f\"],[0.2222222222222222,\"#7201a8\"],[0.3333333333333333,\"#9c179e\"],[0.4444444444444444,\"#bd3786\"],[0.5555555555555556,\"#d8576b\"],[0.6666666666666666,\"#ed7953\"],[0.7777777777777778,\"#fb9f3a\"],[0.8888888888888888,\"#fdca26\"],[1.0,\"#f0f921\"]]}],\"heatmapgl\":[{\"type\":\"heatmapgl\",\"colorbar\":{\"outlinewidth\":0,\"ticks\":\"\"},\"colorscale\":[[0.0,\"#0d0887\"],[0.1111111111111111,\"#46039f\"],[0.2222222222222222,\"#7201a8\"],[0.3333333333333333,\"#9c179e\"],[0.4444444444444444,\"#bd3786\"],[0.5555555555555556,\"#d8576b\"],[0.6666666666666666,\"#ed7953\"],[0.7777777777777778,\"#fb9f3a\"],[0.8888888888888888,\"#fdca26\"],[1.0,\"#f0f921\"]]}],\"contourcarpet\":[{\"type\":\"contourcarpet\",\"colorbar\":{\"outlinewidth\":0,\"ticks\":\"\"}}],\"contour\":[{\"type\":\"contour\",\"colorbar\":{\"outlinewidth\":0,\"ticks\":\"\"},\"colorscale\":[[0.0,\"#0d0887\"],[0.1111111111111111,\"#46039f\"],[0.2222222222222222,\"#7201a8\"],[0.3333333333333333,\"#9c179e\"],[0.4444444444444444,\"#bd3786\"],[0.5555555555555556,\"#d8576b\"],[0.6666666666666666,\"#ed7953\"],[0.7777777777777778,\"#fb9f3a\"],[0.8888888888888888,\"#fdca26\"],[1.0,\"#f0f921\"]]}],\"surface\":[{\"type\":\"surface\",\"colorbar\":{\"outlinewidth\":0,\"ticks\":\"\"},\"colorscale\":[[0.0,\"#0d0887\"],[0.1111111111111111,\"#46039f\"],[0.2222222222222222,\"#7201a8\"],[0.3333333333333333,\"#9c179e\"],[0.4444444444444444,\"#bd3786\"],[0.5555555555555556,\"#d8576b\"],[0.6666666666666666,\"#ed7953\"],[0.7777777777777778,\"#fb9f3a\"],[0.8888888888888888,\"#fdca26\"],[1.0,\"#f0f921\"]]}],\"mesh3d\":[{\"type\":\"mesh3d\",\"colorbar\":{\"outlinewidth\":0,\"ticks\":\"\"}}],\"scatter\":[{\"fillpattern\":{\"fillmode\":\"overlay\",\"size\":10,\"solidity\":0.2},\"type\":\"scatter\"}],\"parcoords\":[{\"type\":\"parcoords\",\"line\":{\"colorbar\":{\"outlinewidth\":0,\"ticks\":\"\"}}}],\"scatterpolargl\":[{\"type\":\"scatterpolargl\",\"marker\":{\"colorbar\":{\"outlinewidth\":0,\"ticks\":\"\"}}}],\"bar\":[{\"error_x\":{\"color\":\"#2a3f5f\"},\"error_y\":{\"color\":\"#2a3f5f\"},\"marker\":{\"line\":{\"color\":\"#E5ECF6\",\"width\":0.5},\"pattern\":{\"fillmode\":\"overlay\",\"size\":10,\"solidity\":0.2}},\"type\":\"bar\"}],\"scattergeo\":[{\"type\":\"scattergeo\",\"marker\":{\"colorbar\":{\"outlinewidth\":0,\"ticks\":\"\"}}}],\"scatterpolar\":[{\"type\":\"scatterpolar\",\"marker\":{\"colorbar\":{\"outlinewidth\":0,\"ticks\":\"\"}}}],\"histogram\":[{\"marker\":{\"pattern\":{\"fillmode\":\"overlay\",\"size\":10,\"solidity\":0.2}},\"type\":\"histogram\"}],\"scattergl\":[{\"type\":\"scattergl\",\"marker\":{\"colorbar\":{\"outlinewidth\":0,\"ticks\":\"\"}}}],\"scatter3d\":[{\"type\":\"scatter3d\",\"line\":{\"colorbar\":{\"outlinewidth\":0,\"ticks\":\"\"}},\"marker\":{\"colorbar\":{\"outlinewidth\":0,\"ticks\":\"\"}}}],\"scattermapbox\":[{\"type\":\"scattermapbox\",\"marker\":{\"colorbar\":{\"outlinewidth\":0,\"ticks\":\"\"}}}],\"scatterternary\":[{\"type\":\"scatterternary\",\"marker\":{\"colorbar\":{\"outlinewidth\":0,\"ticks\":\"\"}}}],\"scattercarpet\":[{\"type\":\"scattercarpet\",\"marker\":{\"colorbar\":{\"outlinewidth\":0,\"ticks\":\"\"}}}],\"carpet\":[{\"aaxis\":{\"endlinecolor\":\"#2a3f5f\",\"gridcolor\":\"white\",\"linecolor\":\"white\",\"minorgridcolor\":\"white\",\"startlinecolor\":\"#2a3f5f\"},\"baxis\":{\"endlinecolor\":\"#2a3f5f\",\"gridcolor\":\"white\",\"linecolor\":\"white\",\"minorgridcolor\":\"white\",\"startlinecolor\":\"#2a3f5f\"},\"type\":\"carpet\"}],\"table\":[{\"cells\":{\"fill\":{\"color\":\"#EBF0F8\"},\"line\":{\"color\":\"white\"}},\"header\":{\"fill\":{\"color\":\"#C8D4E3\"},\"line\":{\"color\":\"white\"}},\"type\":\"table\"}],\"barpolar\":[{\"marker\":{\"line\":{\"color\":\"#E5ECF6\",\"width\":0.5},\"pattern\":{\"fillmode\":\"overlay\",\"size\":10,\"solidity\":0.2}},\"type\":\"barpolar\"}],\"pie\":[{\"automargin\":true,\"type\":\"pie\"}]},\"layout\":{\"autotypenumbers\":\"strict\",\"colorway\":[\"#636efa\",\"#EF553B\",\"#00cc96\",\"#ab63fa\",\"#FFA15A\",\"#19d3f3\",\"#FF6692\",\"#B6E880\",\"#FF97FF\",\"#FECB52\"],\"font\":{\"color\":\"#2a3f5f\"},\"hovermode\":\"closest\",\"hoverlabel\":{\"align\":\"left\"},\"paper_bgcolor\":\"white\",\"plot_bgcolor\":\"#E5ECF6\",\"polar\":{\"bgcolor\":\"#E5ECF6\",\"angularaxis\":{\"gridcolor\":\"white\",\"linecolor\":\"white\",\"ticks\":\"\"},\"radialaxis\":{\"gridcolor\":\"white\",\"linecolor\":\"white\",\"ticks\":\"\"}},\"ternary\":{\"bgcolor\":\"#E5ECF6\",\"aaxis\":{\"gridcolor\":\"white\",\"linecolor\":\"white\",\"ticks\":\"\"},\"baxis\":{\"gridcolor\":\"white\",\"linecolor\":\"white\",\"ticks\":\"\"},\"caxis\":{\"gridcolor\":\"white\",\"linecolor\":\"white\",\"ticks\":\"\"}},\"coloraxis\":{\"colorbar\":{\"outlinewidth\":0,\"ticks\":\"\"}},\"colorscale\":{\"sequential\":[[0.0,\"#0d0887\"],[0.1111111111111111,\"#46039f\"],[0.2222222222222222,\"#7201a8\"],[0.3333333333333333,\"#9c179e\"],[0.4444444444444444,\"#bd3786\"],[0.5555555555555556,\"#d8576b\"],[0.6666666666666666,\"#ed7953\"],[0.7777777777777778,\"#fb9f3a\"],[0.8888888888888888,\"#fdca26\"],[1.0,\"#f0f921\"]],\"sequentialminus\":[[0.0,\"#0d0887\"],[0.1111111111111111,\"#46039f\"],[0.2222222222222222,\"#7201a8\"],[0.3333333333333333,\"#9c179e\"],[0.4444444444444444,\"#bd3786\"],[0.5555555555555556,\"#d8576b\"],[0.6666666666666666,\"#ed7953\"],[0.7777777777777778,\"#fb9f3a\"],[0.8888888888888888,\"#fdca26\"],[1.0,\"#f0f921\"]],\"diverging\":[[0,\"#8e0152\"],[0.1,\"#c51b7d\"],[0.2,\"#de77ae\"],[0.3,\"#f1b6da\"],[0.4,\"#fde0ef\"],[0.5,\"#f7f7f7\"],[0.6,\"#e6f5d0\"],[0.7,\"#b8e186\"],[0.8,\"#7fbc41\"],[0.9,\"#4d9221\"],[1,\"#276419\"]]},\"xaxis\":{\"gridcolor\":\"white\",\"linecolor\":\"white\",\"ticks\":\"\",\"title\":{\"standoff\":15},\"zerolinecolor\":\"white\",\"automargin\":true,\"zerolinewidth\":2},\"yaxis\":{\"gridcolor\":\"white\",\"linecolor\":\"white\",\"ticks\":\"\",\"title\":{\"standoff\":15},\"zerolinecolor\":\"white\",\"automargin\":true,\"zerolinewidth\":2},\"scene\":{\"xaxis\":{\"backgroundcolor\":\"#E5ECF6\",\"gridcolor\":\"white\",\"linecolor\":\"white\",\"showbackground\":true,\"ticks\":\"\",\"zerolinecolor\":\"white\",\"gridwidth\":2},\"yaxis\":{\"backgroundcolor\":\"#E5ECF6\",\"gridcolor\":\"white\",\"linecolor\":\"white\",\"showbackground\":true,\"ticks\":\"\",\"zerolinecolor\":\"white\",\"gridwidth\":2},\"zaxis\":{\"backgroundcolor\":\"#E5ECF6\",\"gridcolor\":\"white\",\"linecolor\":\"white\",\"showbackground\":true,\"ticks\":\"\",\"zerolinecolor\":\"white\",\"gridwidth\":2}},\"shapedefaults\":{\"line\":{\"color\":\"#2a3f5f\"}},\"annotationdefaults\":{\"arrowcolor\":\"#2a3f5f\",\"arrowhead\":0,\"arrowwidth\":1},\"geo\":{\"bgcolor\":\"white\",\"landcolor\":\"#E5ECF6\",\"subunitcolor\":\"white\",\"showland\":true,\"showlakes\":true,\"lakecolor\":\"white\"},\"title\":{\"x\":0.05},\"mapbox\":{\"style\":\"light\"}}},\"xaxis\":{\"anchor\":\"y\",\"domain\":[0.0,0.475],\"dtick\":5,\"tickangle\":-20,\"tickvals\":[0,5,10,15,20,25,30,35,40,45],\"ticktext\":[\"input\",\"5\",\"10\",\"15\",\"20\",\"25\",\"30\",\"35\",\"40\",\"45\",\"50\",\"55\",\"60\",\"65\",\"70\",\"75\",\"80\",\"85\",\"90\",\"95\",\"100\",\"105\",\"110\",\"115\",\"120\",\"125\",\"130\",\"135\",\"140\",\"145\",\"150\",\"155\",\"160\",\"165\",\"170\",\"175\",\"180\",\"185\",\"190\",\"195\",\"200\",\"205\",\"210\",\"215\"]},\"yaxis\":{\"anchor\":\"x\",\"domain\":[0.0,1.0],\"range\":[0,6]},\"xaxis2\":{\"anchor\":\"y2\",\"domain\":[0.525,1.0],\"dtick\":5,\"tickangle\":-20,\"tickvals\":[0,5,10,15,20,25,30,35,40,45],\"ticktext\":[\"input\",\"5\",\"10\",\"15\",\"20\",\"25\",\"30\",\"35\",\"40\",\"45\",\"50\",\"55\",\"60\",\"65\",\"70\",\"75\",\"80\",\"85\",\"90\",\"95\",\"100\",\"105\",\"110\",\"115\",\"120\",\"125\",\"130\",\"135\",\"140\",\"145\",\"150\",\"155\",\"160\",\"165\",\"170\",\"175\",\"180\",\"185\",\"190\",\"195\",\"200\",\"205\",\"210\",\"215\"]},\"yaxis2\":{\"anchor\":\"x2\",\"domain\":[0.0,1.0],\"range\":[0,6]},\"annotations\":[{\"font\":{\"size\":20,\"color\":\"black\"},\"showarrow\":false,\"text\":\"Logit lens (baseline)\",\"x\":0.2375,\"xanchor\":\"center\",\"xref\":\"paper\",\"y\":1.0,\"yanchor\":\"bottom\",\"yref\":\"paper\"},{\"font\":{\"size\":20,\"color\":\"black\"},\"showarrow\":false,\"text\":\"Tuned lens (ours)\",\"x\":0.7625,\"xanchor\":\"center\",\"xref\":\"paper\",\"y\":1.0,\"yanchor\":\"bottom\",\"yref\":\"paper\"},{\"font\":{\"size\":20,\"color\":\"black\"},\"showarrow\":false,\"text\":\"Layer\",\"x\":0.5,\"xanchor\":\"center\",\"xref\":\"paper\",\"y\":0,\"yanchor\":\"top\",\"yref\":\"paper\",\"yshift\":-30},{\"font\":{\"size\":20,\"color\":\"black\"},\"showarrow\":false,\"text\":\"bits per byte\",\"textangle\":-90,\"x\":0,\"xanchor\":\"right\",\"xref\":\"paper\",\"xshift\":-40,\"y\":0.5,\"yanchor\":\"middle\",\"yref\":\"paper\"}],\"font\":{\"size\":16,\"color\":\"black\"},\"legend\":{\"title\":{\"text\":\"Model size\"},\"x\":0.9,\"y\":0.98},\"margin\":{\"l\":70,\"r\":30,\"t\":50,\"b\":70},\"height\":518.4,\"hovermode\":\"x unified\",\"width\":1296.0},                        {\"responsive\": true}                    ).then(function(){\n",
       "                            \n",
       "var gd = document.getElementById('b1b9a93c-220d-47f9-b9d1-869fb2ff9de4');\n",
       "var x = new MutationObserver(function (mutations, observer) {{\n",
       "        var display = window.getComputedStyle(gd).display;\n",
       "        if (!display || display === 'none') {{\n",
       "            console.log([gd, 'removed!']);\n",
       "            Plotly.purge(gd);\n",
       "            observer.disconnect();\n",
       "        }}\n",
       "}});\n",
       "\n",
       "// Listen for the removal of the full notebook cells\n",
       "var notebookContainer = gd.closest('#notebook-container');\n",
       "if (notebookContainer) {{\n",
       "    x.observe(notebookContainer, {childList: true});\n",
       "}}\n",
       "\n",
       "// Listen for the clearing of the current output cell\n",
       "var outputEl = gd.closest('.output');\n",
       "if (outputEl) {{\n",
       "    x.observe(outputEl, {childList: true});\n",
       "}}\n",
       "\n",
       "                        })                };                });            </script>        </div>"
      ]
     },
     "metadata": {},
     "output_type": "display_data"
    }
   ],
   "source": [
    "master = make_subplots(\n",
    "    rows=1,\n",
    "    cols=2,\n",
    "    subplot_titles=(\"Logit lens (baseline)\", \"Tuned lens (ours)\"),\n",
    "    horizontal_spacing=0.05,\n",
    "    vertical_spacing=0.1,\n",
    "    x_title=\"Layer\",\n",
    "    y_title=\"bits per byte\",\n",
    ").add_traces([\n",
    "    go.Scatter(\n",
    "        x=np.arange(depth),\n",
    "        y=baselines[name][:-1],\n",
    "        marker_color=color,\n",
    "        mode=\"lines+markers\",\n",
    "        name=name,\n",
    "        showlegend=False,\n",
    "    ) for color, model, name, depth in zip(\n",
    "        px.colors.sequential.Plasma[::3],\n",
    "        MODELS,\n",
    "        NAMES,\n",
    "        DEPTHS\n",
    "    )\n",
    "], rows=1, cols=1\n",
    ").add_traces([\n",
    "    go.Scatter(\n",
    "        x=np.arange(depth),\n",
    "        y=metrics[name],\n",
    "        marker_color=color,\n",
    "        mode=\"lines+markers\",\n",
    "        name=name,\n",
    "       # opacity=0.8,\n",
    "    ) for color, model, name, depth in zip(\n",
    "        px.colors.sequential.Plasma[::3],\n",
    "        MODELS,\n",
    "        NAMES,\n",
    "        DEPTHS\n",
    "    )\n",
    "], rows=1, cols=2\n",
    ").update_xaxes(\n",
    "    dtick=5,\n",
    ").update_yaxes(\n",
    "    range=[0, 6],\n",
    ").update_annotations(\n",
    "    font=dict(size=20, color=\"black\"),\n",
    ").update_layout(\n",
    "    font=dict(size=16, color=\"black\"),\n",
    "    height=PAGE_WIDTH / 2.5,\n",
    "    hovermode=\"x unified\",\n",
    "    legend=dict(\n",
    "        title_text=\"Model size\",\n",
    "        x=0.9,\n",
    "        y=0.98,\n",
    "    ),\n",
    "    xaxis1=dict(\n",
    "        tickangle=-20,\n",
    "        tickvals=list(range(0, 50, 5)),\n",
    "        ticktext=[\"input\"] + [str(i * 5) for i in range(1, 45 - 1)],\n",
    "    ),\n",
    "    xaxis2=dict(\n",
    "        tickangle=-20,\n",
    "        tickvals=list(range(0, 50 - 1, 5)),\n",
    "        ticktext=[\"input\"] + [str(i * 5) for i in range(1, 45 - 1)],\n",
    "    ),\n",
    "    margin_l=70,\n",
    "    margin_r=30,\n",
    "    margin_t=50,\n",
    "    margin_b=70,\n",
    "    width=PAGE_WIDTH,\n",
    ")\n",
    "master"
   ]
  },
  {
   "cell_type": "code",
   "execution_count": 66,
   "metadata": {},
   "outputs": [],
   "source": [
    "master.write_image(\"/mnt/ssd-1/nora/neo-perplexity.pdf\")"
   ]
  },
  {
   "attachments": {},
   "cell_type": "markdown",
   "metadata": {},
   "source": [
    "# OPT"
   ]
  },
  {
   "cell_type": "code",
   "execution_count": 70,
   "metadata": {},
   "outputs": [],
   "source": [
    "from transformers import AutoConfig, AutoModel\n",
    "import numpy as np\n",
    "import torch as th\n",
    "\n",
    "\n",
    "MODELS = [\n",
    "    \"facebook/opt-125m\", \"facebook/opt-1.3b\", \"facebook/opt-6.7b\",\n",
    "]\n",
    "NAMES = [\n",
    "    \"125m\", \"1.3b\", \"6.7b\"\n",
    "]\n",
    "\n",
    "DEPTHS = []\n",
    "# PARAMS = []\n",
    "WIDTHS = []\n",
    "baselines = {}\n",
    "metrics = {}\n",
    "root = \"/mnt/ssd-1/nora/real-lenses/opt/\"\n",
    "\n",
    "for name, model in zip(NAMES, MODELS):\n",
    "    config = AutoConfig.from_pretrained(model)\n",
    "    # m = AutoModel.from_config(config)\n",
    "    DEPTHS.append(config.num_hidden_layers)\n",
    "    # PARAMS.append(\n",
    "    #     sum(p.numel() for p in m.parameters() if p.requires_grad)\n",
    "    # )\n",
    "    WIDTHS.append(config.hidden_size)\n",
    "\n",
    "    results = th.load(\n",
    "        root + f\"{name}/affine-clean/eval/aggregate_metrics.pt\",\n",
    "        map_location=\"cpu\"\n",
    "    )\n",
    "    baselines[name] = list(results['baseline_ce'].values())\n",
    "    metrics[name] = list(results['lens_ce'].values())"
   ]
  },
  {
   "cell_type": "code",
   "execution_count": 79,
   "metadata": {},
   "outputs": [
    {
     "data": {
      "application/vnd.plotly.v1+json": {
       "config": {
        "plotlyServerURL": "https://plot.ly"
       },
       "data": [
        {
         "marker": {
          "color": "#0d0887"
         },
         "mode": "lines+markers",
         "name": "125m",
         "showlegend": false,
         "type": "scatter",
         "x": [
          0,
          1,
          2,
          3,
          4,
          5,
          6,
          7,
          8,
          9,
          10,
          11
         ],
         "xaxis": "x",
         "y": [
          13.264608383178711,
          9.261045455932617,
          7.229893684387207,
          5.973507881164551,
          5.097301483154297,
          4.111773490905762,
          3.165548324584961,
          2.525386095046997,
          2.054412364959717,
          1.633238673210144,
          1.3262019157409668,
          1.1667784452438354
         ],
         "yaxis": "y"
        },
        {
         "marker": {
          "color": "#9c179e"
         },
         "mode": "lines+markers",
         "name": "1.3b",
         "showlegend": false,
         "type": "scatter",
         "x": [
          0,
          1,
          2,
          3,
          4,
          5,
          6,
          7,
          8,
          9,
          10,
          11,
          12,
          13,
          14,
          15,
          16,
          17,
          18,
          19,
          20,
          21,
          22,
          23
         ],
         "xaxis": "x",
         "y": [
          21.95354461669922,
          3.2242226600646973,
          3.118257999420166,
          3.055542469024658,
          2.9973366260528564,
          2.946805000305176,
          2.8922781944274902,
          2.841012477874756,
          2.784743547439575,
          2.708001136779785,
          2.6373744010925293,
          2.5368409156799316,
          2.440340757369995,
          2.355908155441284,
          2.2663934230804443,
          2.1484498977661133,
          1.976356863975525,
          1.823514699935913,
          1.6834205389022827,
          1.4928151369094849,
          1.3526511192321777,
          1.2456185817718506,
          1.1286059617996216,
          1.0191164016723633
         ],
         "yaxis": "y"
        },
        {
         "marker": {
          "color": "#ed7953"
         },
         "mode": "lines+markers",
         "name": "6.7b",
         "showlegend": false,
         "type": "scatter",
         "x": [
          0,
          1,
          2,
          3,
          4,
          5,
          6,
          7,
          8,
          9,
          10,
          11,
          12,
          13,
          14,
          15,
          16,
          17,
          18,
          19,
          20,
          21,
          22,
          23,
          24,
          25,
          26,
          27,
          28,
          29,
          30,
          31
         ],
         "xaxis": "x",
         "y": [
          26.293264389038086,
          2.864118814468384,
          2.8508949279785156,
          2.8384878635406494,
          2.819251537322998,
          2.7933297157287598,
          2.7647058963775635,
          2.730872392654419,
          2.6962673664093018,
          2.657510757446289,
          2.6130998134613037,
          2.5598132610321045,
          2.499519109725952,
          2.431363105773926,
          2.3731064796447754,
          2.3170316219329834,
          2.2659482955932617,
          2.1855380535125732,
          2.108680486679077,
          2.0421156883239746,
          1.9288569688796997,
          1.8155978918075562,
          1.7028021812438965,
          1.5950514078140259,
          1.4961124658584595,
          1.410691261291504,
          1.337680459022522,
          1.2989336252212524,
          1.237029790878296,
          1.1331928968429565,
          1.0238502025604248,
          0.9213988780975342
         ],
         "yaxis": "y"
        },
        {
         "marker": {
          "color": "#0d0887"
         },
         "mode": "lines+markers",
         "name": "125m",
         "type": "scatter",
         "x": [
          0,
          1,
          2,
          3,
          4,
          5,
          6,
          7,
          8,
          9,
          10,
          11
         ],
         "xaxis": "x2",
         "y": [
          2.292891263961792,
          2.1425795555114746,
          1.9900771379470825,
          1.855086088180542,
          1.7773418426513672,
          1.6863994598388672,
          1.5867359638214111,
          1.5194718837738037,
          1.4263076782226562,
          1.3027429580688477,
          1.1790815591812134,
          1.1056506633758545
         ],
         "yaxis": "y2"
        },
        {
         "marker": {
          "color": "#9c179e"
         },
         "mode": "lines+markers",
         "name": "1.3b",
         "type": "scatter",
         "x": [
          0,
          1,
          2,
          3,
          4,
          5,
          6,
          7,
          8,
          9,
          10,
          11,
          12,
          13,
          14,
          15,
          16,
          17,
          18,
          19,
          20,
          21,
          22,
          23
         ],
         "xaxis": "x2",
         "y": [
          2.947798013687134,
          2.561544179916382,
          2.4063162803649902,
          2.2535934448242188,
          2.147305727005005,
          2.065096378326416,
          2.0039632320404053,
          1.9481728076934814,
          1.8948183059692383,
          1.8400131464004517,
          1.8039624691009521,
          1.7475669384002686,
          1.70502507686615,
          1.6761213541030884,
          1.639358401298523,
          1.590855360031128,
          1.5123008489608765,
          1.4372645616531372,
          1.3554894924163818,
          1.2448996305465698,
          1.159531831741333,
          1.09177827835083,
          1.0189650058746338,
          0.9511963725090027
         ],
         "yaxis": "y2"
        },
        {
         "marker": {
          "color": "#ed7953"
         },
         "mode": "lines+markers",
         "name": "6.7b",
         "type": "scatter",
         "x": [
          0,
          1,
          2,
          3,
          4,
          5,
          6,
          7,
          8,
          9,
          10,
          11,
          12,
          13,
          14,
          15,
          16,
          17,
          18,
          19,
          20,
          21,
          22,
          23,
          24,
          25,
          26,
          27,
          28,
          29,
          30,
          31
         ],
         "xaxis": "x2",
         "y": [
          3.76284122467041,
          2.6164472103118896,
          2.578934669494629,
          2.5137219429016113,
          2.3671207427978516,
          2.259519577026367,
          2.180208444595337,
          2.1154022216796875,
          2.0615196228027344,
          2.0100576877593994,
          1.9571176767349243,
          1.9043128490447998,
          1.850707769393921,
          1.7875807285308838,
          1.7465311288833618,
          1.7160685062408447,
          1.6946829557418823,
          1.6509140729904175,
          1.6164411306381226,
          1.5908230543136597,
          1.5305372476577759,
          1.4718081951141357,
          1.406204104423523,
          1.3375154733657837,
          1.2618043422698975,
          1.195473551750183,
          1.1486411094665527,
          1.1192015409469604,
          1.0861845016479492,
          1.0245288610458374,
          0.9538014531135559,
          0.888446033000946
         ],
         "yaxis": "y2"
        }
       ],
       "layout": {
        "annotations": [
         {
          "font": {
           "color": "black",
           "size": 20
          },
          "showarrow": false,
          "text": "Logit lens (baseline)",
          "x": 0.2375,
          "xanchor": "center",
          "xref": "paper",
          "y": 1,
          "yanchor": "bottom",
          "yref": "paper"
         },
         {
          "font": {
           "color": "black",
           "size": 20
          },
          "showarrow": false,
          "text": "Tuned lens (ours)",
          "x": 0.7625,
          "xanchor": "center",
          "xref": "paper",
          "y": 1,
          "yanchor": "bottom",
          "yref": "paper"
         },
         {
          "font": {
           "color": "black",
           "size": 20
          },
          "showarrow": false,
          "text": "Layer",
          "x": 0.5,
          "xanchor": "center",
          "xref": "paper",
          "y": 0,
          "yanchor": "top",
          "yref": "paper",
          "yshift": -30
         },
         {
          "font": {
           "color": "black",
           "size": 20
          },
          "showarrow": false,
          "text": "bits per byte",
          "textangle": -90,
          "x": 0,
          "xanchor": "right",
          "xref": "paper",
          "xshift": -40,
          "y": 0.5,
          "yanchor": "middle",
          "yref": "paper"
         }
        ],
        "font": {
         "color": "black",
         "size": 16
        },
        "height": 518.4,
        "hovermode": "x unified",
        "legend": {
         "title": {
          "text": "Model size"
         },
         "x": 0.9,
         "y": 0.98
        },
        "margin": {
         "b": 70,
         "l": 70,
         "r": 30,
         "t": 50
        },
        "template": {
         "data": {
          "bar": [
           {
            "error_x": {
             "color": "#2a3f5f"
            },
            "error_y": {
             "color": "#2a3f5f"
            },
            "marker": {
             "line": {
              "color": "#E5ECF6",
              "width": 0.5
             },
             "pattern": {
              "fillmode": "overlay",
              "size": 10,
              "solidity": 0.2
             }
            },
            "type": "bar"
           }
          ],
          "barpolar": [
           {
            "marker": {
             "line": {
              "color": "#E5ECF6",
              "width": 0.5
             },
             "pattern": {
              "fillmode": "overlay",
              "size": 10,
              "solidity": 0.2
             }
            },
            "type": "barpolar"
           }
          ],
          "carpet": [
           {
            "aaxis": {
             "endlinecolor": "#2a3f5f",
             "gridcolor": "white",
             "linecolor": "white",
             "minorgridcolor": "white",
             "startlinecolor": "#2a3f5f"
            },
            "baxis": {
             "endlinecolor": "#2a3f5f",
             "gridcolor": "white",
             "linecolor": "white",
             "minorgridcolor": "white",
             "startlinecolor": "#2a3f5f"
            },
            "type": "carpet"
           }
          ],
          "choropleth": [
           {
            "colorbar": {
             "outlinewidth": 0,
             "ticks": ""
            },
            "type": "choropleth"
           }
          ],
          "contour": [
           {
            "colorbar": {
             "outlinewidth": 0,
             "ticks": ""
            },
            "colorscale": [
             [
              0,
              "#0d0887"
             ],
             [
              0.1111111111111111,
              "#46039f"
             ],
             [
              0.2222222222222222,
              "#7201a8"
             ],
             [
              0.3333333333333333,
              "#9c179e"
             ],
             [
              0.4444444444444444,
              "#bd3786"
             ],
             [
              0.5555555555555556,
              "#d8576b"
             ],
             [
              0.6666666666666666,
              "#ed7953"
             ],
             [
              0.7777777777777778,
              "#fb9f3a"
             ],
             [
              0.8888888888888888,
              "#fdca26"
             ],
             [
              1,
              "#f0f921"
             ]
            ],
            "type": "contour"
           }
          ],
          "contourcarpet": [
           {
            "colorbar": {
             "outlinewidth": 0,
             "ticks": ""
            },
            "type": "contourcarpet"
           }
          ],
          "heatmap": [
           {
            "colorbar": {
             "outlinewidth": 0,
             "ticks": ""
            },
            "colorscale": [
             [
              0,
              "#0d0887"
             ],
             [
              0.1111111111111111,
              "#46039f"
             ],
             [
              0.2222222222222222,
              "#7201a8"
             ],
             [
              0.3333333333333333,
              "#9c179e"
             ],
             [
              0.4444444444444444,
              "#bd3786"
             ],
             [
              0.5555555555555556,
              "#d8576b"
             ],
             [
              0.6666666666666666,
              "#ed7953"
             ],
             [
              0.7777777777777778,
              "#fb9f3a"
             ],
             [
              0.8888888888888888,
              "#fdca26"
             ],
             [
              1,
              "#f0f921"
             ]
            ],
            "type": "heatmap"
           }
          ],
          "heatmapgl": [
           {
            "colorbar": {
             "outlinewidth": 0,
             "ticks": ""
            },
            "colorscale": [
             [
              0,
              "#0d0887"
             ],
             [
              0.1111111111111111,
              "#46039f"
             ],
             [
              0.2222222222222222,
              "#7201a8"
             ],
             [
              0.3333333333333333,
              "#9c179e"
             ],
             [
              0.4444444444444444,
              "#bd3786"
             ],
             [
              0.5555555555555556,
              "#d8576b"
             ],
             [
              0.6666666666666666,
              "#ed7953"
             ],
             [
              0.7777777777777778,
              "#fb9f3a"
             ],
             [
              0.8888888888888888,
              "#fdca26"
             ],
             [
              1,
              "#f0f921"
             ]
            ],
            "type": "heatmapgl"
           }
          ],
          "histogram": [
           {
            "marker": {
             "pattern": {
              "fillmode": "overlay",
              "size": 10,
              "solidity": 0.2
             }
            },
            "type": "histogram"
           }
          ],
          "histogram2d": [
           {
            "colorbar": {
             "outlinewidth": 0,
             "ticks": ""
            },
            "colorscale": [
             [
              0,
              "#0d0887"
             ],
             [
              0.1111111111111111,
              "#46039f"
             ],
             [
              0.2222222222222222,
              "#7201a8"
             ],
             [
              0.3333333333333333,
              "#9c179e"
             ],
             [
              0.4444444444444444,
              "#bd3786"
             ],
             [
              0.5555555555555556,
              "#d8576b"
             ],
             [
              0.6666666666666666,
              "#ed7953"
             ],
             [
              0.7777777777777778,
              "#fb9f3a"
             ],
             [
              0.8888888888888888,
              "#fdca26"
             ],
             [
              1,
              "#f0f921"
             ]
            ],
            "type": "histogram2d"
           }
          ],
          "histogram2dcontour": [
           {
            "colorbar": {
             "outlinewidth": 0,
             "ticks": ""
            },
            "colorscale": [
             [
              0,
              "#0d0887"
             ],
             [
              0.1111111111111111,
              "#46039f"
             ],
             [
              0.2222222222222222,
              "#7201a8"
             ],
             [
              0.3333333333333333,
              "#9c179e"
             ],
             [
              0.4444444444444444,
              "#bd3786"
             ],
             [
              0.5555555555555556,
              "#d8576b"
             ],
             [
              0.6666666666666666,
              "#ed7953"
             ],
             [
              0.7777777777777778,
              "#fb9f3a"
             ],
             [
              0.8888888888888888,
              "#fdca26"
             ],
             [
              1,
              "#f0f921"
             ]
            ],
            "type": "histogram2dcontour"
           }
          ],
          "mesh3d": [
           {
            "colorbar": {
             "outlinewidth": 0,
             "ticks": ""
            },
            "type": "mesh3d"
           }
          ],
          "parcoords": [
           {
            "line": {
             "colorbar": {
              "outlinewidth": 0,
              "ticks": ""
             }
            },
            "type": "parcoords"
           }
          ],
          "pie": [
           {
            "automargin": true,
            "type": "pie"
           }
          ],
          "scatter": [
           {
            "fillpattern": {
             "fillmode": "overlay",
             "size": 10,
             "solidity": 0.2
            },
            "type": "scatter"
           }
          ],
          "scatter3d": [
           {
            "line": {
             "colorbar": {
              "outlinewidth": 0,
              "ticks": ""
             }
            },
            "marker": {
             "colorbar": {
              "outlinewidth": 0,
              "ticks": ""
             }
            },
            "type": "scatter3d"
           }
          ],
          "scattercarpet": [
           {
            "marker": {
             "colorbar": {
              "outlinewidth": 0,
              "ticks": ""
             }
            },
            "type": "scattercarpet"
           }
          ],
          "scattergeo": [
           {
            "marker": {
             "colorbar": {
              "outlinewidth": 0,
              "ticks": ""
             }
            },
            "type": "scattergeo"
           }
          ],
          "scattergl": [
           {
            "marker": {
             "colorbar": {
              "outlinewidth": 0,
              "ticks": ""
             }
            },
            "type": "scattergl"
           }
          ],
          "scattermapbox": [
           {
            "marker": {
             "colorbar": {
              "outlinewidth": 0,
              "ticks": ""
             }
            },
            "type": "scattermapbox"
           }
          ],
          "scatterpolar": [
           {
            "marker": {
             "colorbar": {
              "outlinewidth": 0,
              "ticks": ""
             }
            },
            "type": "scatterpolar"
           }
          ],
          "scatterpolargl": [
           {
            "marker": {
             "colorbar": {
              "outlinewidth": 0,
              "ticks": ""
             }
            },
            "type": "scatterpolargl"
           }
          ],
          "scatterternary": [
           {
            "marker": {
             "colorbar": {
              "outlinewidth": 0,
              "ticks": ""
             }
            },
            "type": "scatterternary"
           }
          ],
          "surface": [
           {
            "colorbar": {
             "outlinewidth": 0,
             "ticks": ""
            },
            "colorscale": [
             [
              0,
              "#0d0887"
             ],
             [
              0.1111111111111111,
              "#46039f"
             ],
             [
              0.2222222222222222,
              "#7201a8"
             ],
             [
              0.3333333333333333,
              "#9c179e"
             ],
             [
              0.4444444444444444,
              "#bd3786"
             ],
             [
              0.5555555555555556,
              "#d8576b"
             ],
             [
              0.6666666666666666,
              "#ed7953"
             ],
             [
              0.7777777777777778,
              "#fb9f3a"
             ],
             [
              0.8888888888888888,
              "#fdca26"
             ],
             [
              1,
              "#f0f921"
             ]
            ],
            "type": "surface"
           }
          ],
          "table": [
           {
            "cells": {
             "fill": {
              "color": "#EBF0F8"
             },
             "line": {
              "color": "white"
             }
            },
            "header": {
             "fill": {
              "color": "#C8D4E3"
             },
             "line": {
              "color": "white"
             }
            },
            "type": "table"
           }
          ]
         },
         "layout": {
          "annotationdefaults": {
           "arrowcolor": "#2a3f5f",
           "arrowhead": 0,
           "arrowwidth": 1
          },
          "autotypenumbers": "strict",
          "coloraxis": {
           "colorbar": {
            "outlinewidth": 0,
            "ticks": ""
           }
          },
          "colorscale": {
           "diverging": [
            [
             0,
             "#8e0152"
            ],
            [
             0.1,
             "#c51b7d"
            ],
            [
             0.2,
             "#de77ae"
            ],
            [
             0.3,
             "#f1b6da"
            ],
            [
             0.4,
             "#fde0ef"
            ],
            [
             0.5,
             "#f7f7f7"
            ],
            [
             0.6,
             "#e6f5d0"
            ],
            [
             0.7,
             "#b8e186"
            ],
            [
             0.8,
             "#7fbc41"
            ],
            [
             0.9,
             "#4d9221"
            ],
            [
             1,
             "#276419"
            ]
           ],
           "sequential": [
            [
             0,
             "#0d0887"
            ],
            [
             0.1111111111111111,
             "#46039f"
            ],
            [
             0.2222222222222222,
             "#7201a8"
            ],
            [
             0.3333333333333333,
             "#9c179e"
            ],
            [
             0.4444444444444444,
             "#bd3786"
            ],
            [
             0.5555555555555556,
             "#d8576b"
            ],
            [
             0.6666666666666666,
             "#ed7953"
            ],
            [
             0.7777777777777778,
             "#fb9f3a"
            ],
            [
             0.8888888888888888,
             "#fdca26"
            ],
            [
             1,
             "#f0f921"
            ]
           ],
           "sequentialminus": [
            [
             0,
             "#0d0887"
            ],
            [
             0.1111111111111111,
             "#46039f"
            ],
            [
             0.2222222222222222,
             "#7201a8"
            ],
            [
             0.3333333333333333,
             "#9c179e"
            ],
            [
             0.4444444444444444,
             "#bd3786"
            ],
            [
             0.5555555555555556,
             "#d8576b"
            ],
            [
             0.6666666666666666,
             "#ed7953"
            ],
            [
             0.7777777777777778,
             "#fb9f3a"
            ],
            [
             0.8888888888888888,
             "#fdca26"
            ],
            [
             1,
             "#f0f921"
            ]
           ]
          },
          "colorway": [
           "#636efa",
           "#EF553B",
           "#00cc96",
           "#ab63fa",
           "#FFA15A",
           "#19d3f3",
           "#FF6692",
           "#B6E880",
           "#FF97FF",
           "#FECB52"
          ],
          "font": {
           "color": "#2a3f5f"
          },
          "geo": {
           "bgcolor": "white",
           "lakecolor": "white",
           "landcolor": "#E5ECF6",
           "showlakes": true,
           "showland": true,
           "subunitcolor": "white"
          },
          "hoverlabel": {
           "align": "left"
          },
          "hovermode": "closest",
          "mapbox": {
           "style": "light"
          },
          "paper_bgcolor": "white",
          "plot_bgcolor": "#E5ECF6",
          "polar": {
           "angularaxis": {
            "gridcolor": "white",
            "linecolor": "white",
            "ticks": ""
           },
           "bgcolor": "#E5ECF6",
           "radialaxis": {
            "gridcolor": "white",
            "linecolor": "white",
            "ticks": ""
           }
          },
          "scene": {
           "xaxis": {
            "backgroundcolor": "#E5ECF6",
            "gridcolor": "white",
            "gridwidth": 2,
            "linecolor": "white",
            "showbackground": true,
            "ticks": "",
            "zerolinecolor": "white"
           },
           "yaxis": {
            "backgroundcolor": "#E5ECF6",
            "gridcolor": "white",
            "gridwidth": 2,
            "linecolor": "white",
            "showbackground": true,
            "ticks": "",
            "zerolinecolor": "white"
           },
           "zaxis": {
            "backgroundcolor": "#E5ECF6",
            "gridcolor": "white",
            "gridwidth": 2,
            "linecolor": "white",
            "showbackground": true,
            "ticks": "",
            "zerolinecolor": "white"
           }
          },
          "shapedefaults": {
           "line": {
            "color": "#2a3f5f"
           }
          },
          "ternary": {
           "aaxis": {
            "gridcolor": "white",
            "linecolor": "white",
            "ticks": ""
           },
           "baxis": {
            "gridcolor": "white",
            "linecolor": "white",
            "ticks": ""
           },
           "bgcolor": "#E5ECF6",
           "caxis": {
            "gridcolor": "white",
            "linecolor": "white",
            "ticks": ""
           }
          },
          "title": {
           "x": 0.05
          },
          "xaxis": {
           "automargin": true,
           "gridcolor": "white",
           "linecolor": "white",
           "ticks": "",
           "title": {
            "standoff": 15
           },
           "zerolinecolor": "white",
           "zerolinewidth": 2
          },
          "yaxis": {
           "automargin": true,
           "gridcolor": "white",
           "linecolor": "white",
           "ticks": "",
           "title": {
            "standoff": 15
           },
           "zerolinecolor": "white",
           "zerolinewidth": 2
          }
         }
        },
        "width": 1296,
        "xaxis": {
         "anchor": "y",
         "domain": [
          0,
          0.475
         ],
         "dtick": 5,
         "tickangle": -20,
         "ticktext": [
          "input",
          "5",
          "10",
          "15",
          "20",
          "25",
          "30",
          "35",
          "40",
          "45",
          "50",
          "55",
          "60",
          "65",
          "70",
          "75",
          "80",
          "85",
          "90",
          "95",
          "100",
          "105",
          "110",
          "115",
          "120",
          "125",
          "130",
          "135",
          "140",
          "145",
          "150",
          "155",
          "160",
          "165",
          "170",
          "175",
          "180",
          "185",
          "190",
          "195",
          "200",
          "205",
          "210",
          "215"
         ],
         "tickvals": [
          0,
          5,
          10,
          15,
          20,
          25,
          30,
          35,
          40,
          45
         ]
        },
        "xaxis2": {
         "anchor": "y2",
         "domain": [
          0.525,
          1
         ],
         "dtick": 5,
         "tickangle": -20,
         "ticktext": [
          "input",
          "5",
          "10",
          "15",
          "20",
          "25",
          "30",
          "35",
          "40",
          "45",
          "50",
          "55",
          "60",
          "65",
          "70",
          "75",
          "80",
          "85",
          "90",
          "95",
          "100",
          "105",
          "110",
          "115",
          "120",
          "125",
          "130",
          "135",
          "140",
          "145",
          "150",
          "155",
          "160",
          "165",
          "170",
          "175",
          "180",
          "185",
          "190",
          "195",
          "200",
          "205",
          "210",
          "215"
         ],
         "tickvals": [
          0,
          5,
          10,
          15,
          20,
          25,
          30,
          35,
          40,
          45
         ]
        },
        "yaxis": {
         "anchor": "x",
         "domain": [
          0,
          1
         ],
         "showticklabels": true,
         "type": "log"
        },
        "yaxis2": {
         "anchor": "x2",
         "domain": [
          0,
          1
         ],
         "matches": "y",
         "showticklabels": true,
         "type": "log"
        }
       }
      },
      "text/html": [
       "<div>                            <div id=\"52bd76cd-530d-4f4f-ae57-a4dabc2535a8\" class=\"plotly-graph-div\" style=\"height:518.4px; width:1296.0px;\"></div>            <script type=\"text/javascript\">                require([\"plotly\"], function(Plotly) {                    window.PLOTLYENV=window.PLOTLYENV || {};                                    if (document.getElementById(\"52bd76cd-530d-4f4f-ae57-a4dabc2535a8\")) {                    Plotly.newPlot(                        \"52bd76cd-530d-4f4f-ae57-a4dabc2535a8\",                        [{\"marker\":{\"color\":\"#0d0887\"},\"mode\":\"lines+markers\",\"name\":\"125m\",\"showlegend\":false,\"x\":[0,1,2,3,4,5,6,7,8,9,10,11],\"y\":[13.264608383178711,9.261045455932617,7.229893684387207,5.973507881164551,5.097301483154297,4.111773490905762,3.165548324584961,2.525386095046997,2.054412364959717,1.633238673210144,1.3262019157409668,1.1667784452438354],\"type\":\"scatter\",\"xaxis\":\"x\",\"yaxis\":\"y\"},{\"marker\":{\"color\":\"#9c179e\"},\"mode\":\"lines+markers\",\"name\":\"1.3b\",\"showlegend\":false,\"x\":[0,1,2,3,4,5,6,7,8,9,10,11,12,13,14,15,16,17,18,19,20,21,22,23],\"y\":[21.95354461669922,3.2242226600646973,3.118257999420166,3.055542469024658,2.9973366260528564,2.946805000305176,2.8922781944274902,2.841012477874756,2.784743547439575,2.708001136779785,2.6373744010925293,2.5368409156799316,2.440340757369995,2.355908155441284,2.2663934230804443,2.1484498977661133,1.976356863975525,1.823514699935913,1.6834205389022827,1.4928151369094849,1.3526511192321777,1.2456185817718506,1.1286059617996216,1.0191164016723633],\"type\":\"scatter\",\"xaxis\":\"x\",\"yaxis\":\"y\"},{\"marker\":{\"color\":\"#ed7953\"},\"mode\":\"lines+markers\",\"name\":\"6.7b\",\"showlegend\":false,\"x\":[0,1,2,3,4,5,6,7,8,9,10,11,12,13,14,15,16,17,18,19,20,21,22,23,24,25,26,27,28,29,30,31],\"y\":[26.293264389038086,2.864118814468384,2.8508949279785156,2.8384878635406494,2.819251537322998,2.7933297157287598,2.7647058963775635,2.730872392654419,2.6962673664093018,2.657510757446289,2.6130998134613037,2.5598132610321045,2.499519109725952,2.431363105773926,2.3731064796447754,2.3170316219329834,2.2659482955932617,2.1855380535125732,2.108680486679077,2.0421156883239746,1.9288569688796997,1.8155978918075562,1.7028021812438965,1.5950514078140259,1.4961124658584595,1.410691261291504,1.337680459022522,1.2989336252212524,1.237029790878296,1.1331928968429565,1.0238502025604248,0.9213988780975342],\"type\":\"scatter\",\"xaxis\":\"x\",\"yaxis\":\"y\"},{\"marker\":{\"color\":\"#0d0887\"},\"mode\":\"lines+markers\",\"name\":\"125m\",\"x\":[0,1,2,3,4,5,6,7,8,9,10,11],\"y\":[2.292891263961792,2.1425795555114746,1.9900771379470825,1.855086088180542,1.7773418426513672,1.6863994598388672,1.5867359638214111,1.5194718837738037,1.4263076782226562,1.3027429580688477,1.1790815591812134,1.1056506633758545],\"type\":\"scatter\",\"xaxis\":\"x2\",\"yaxis\":\"y2\"},{\"marker\":{\"color\":\"#9c179e\"},\"mode\":\"lines+markers\",\"name\":\"1.3b\",\"x\":[0,1,2,3,4,5,6,7,8,9,10,11,12,13,14,15,16,17,18,19,20,21,22,23],\"y\":[2.947798013687134,2.561544179916382,2.4063162803649902,2.2535934448242188,2.147305727005005,2.065096378326416,2.0039632320404053,1.9481728076934814,1.8948183059692383,1.8400131464004517,1.8039624691009521,1.7475669384002686,1.70502507686615,1.6761213541030884,1.639358401298523,1.590855360031128,1.5123008489608765,1.4372645616531372,1.3554894924163818,1.2448996305465698,1.159531831741333,1.09177827835083,1.0189650058746338,0.9511963725090027],\"type\":\"scatter\",\"xaxis\":\"x2\",\"yaxis\":\"y2\"},{\"marker\":{\"color\":\"#ed7953\"},\"mode\":\"lines+markers\",\"name\":\"6.7b\",\"x\":[0,1,2,3,4,5,6,7,8,9,10,11,12,13,14,15,16,17,18,19,20,21,22,23,24,25,26,27,28,29,30,31],\"y\":[3.76284122467041,2.6164472103118896,2.578934669494629,2.5137219429016113,2.3671207427978516,2.259519577026367,2.180208444595337,2.1154022216796875,2.0615196228027344,2.0100576877593994,1.9571176767349243,1.9043128490447998,1.850707769393921,1.7875807285308838,1.7465311288833618,1.7160685062408447,1.6946829557418823,1.6509140729904175,1.6164411306381226,1.5908230543136597,1.5305372476577759,1.4718081951141357,1.406204104423523,1.3375154733657837,1.2618043422698975,1.195473551750183,1.1486411094665527,1.1192015409469604,1.0861845016479492,1.0245288610458374,0.9538014531135559,0.888446033000946],\"type\":\"scatter\",\"xaxis\":\"x2\",\"yaxis\":\"y2\"}],                        {\"template\":{\"data\":{\"histogram2dcontour\":[{\"type\":\"histogram2dcontour\",\"colorbar\":{\"outlinewidth\":0,\"ticks\":\"\"},\"colorscale\":[[0.0,\"#0d0887\"],[0.1111111111111111,\"#46039f\"],[0.2222222222222222,\"#7201a8\"],[0.3333333333333333,\"#9c179e\"],[0.4444444444444444,\"#bd3786\"],[0.5555555555555556,\"#d8576b\"],[0.6666666666666666,\"#ed7953\"],[0.7777777777777778,\"#fb9f3a\"],[0.8888888888888888,\"#fdca26\"],[1.0,\"#f0f921\"]]}],\"choropleth\":[{\"type\":\"choropleth\",\"colorbar\":{\"outlinewidth\":0,\"ticks\":\"\"}}],\"histogram2d\":[{\"type\":\"histogram2d\",\"colorbar\":{\"outlinewidth\":0,\"ticks\":\"\"},\"colorscale\":[[0.0,\"#0d0887\"],[0.1111111111111111,\"#46039f\"],[0.2222222222222222,\"#7201a8\"],[0.3333333333333333,\"#9c179e\"],[0.4444444444444444,\"#bd3786\"],[0.5555555555555556,\"#d8576b\"],[0.6666666666666666,\"#ed7953\"],[0.7777777777777778,\"#fb9f3a\"],[0.8888888888888888,\"#fdca26\"],[1.0,\"#f0f921\"]]}],\"heatmap\":[{\"type\":\"heatmap\",\"colorbar\":{\"outlinewidth\":0,\"ticks\":\"\"},\"colorscale\":[[0.0,\"#0d0887\"],[0.1111111111111111,\"#46039f\"],[0.2222222222222222,\"#7201a8\"],[0.3333333333333333,\"#9c179e\"],[0.4444444444444444,\"#bd3786\"],[0.5555555555555556,\"#d8576b\"],[0.6666666666666666,\"#ed7953\"],[0.7777777777777778,\"#fb9f3a\"],[0.8888888888888888,\"#fdca26\"],[1.0,\"#f0f921\"]]}],\"heatmapgl\":[{\"type\":\"heatmapgl\",\"colorbar\":{\"outlinewidth\":0,\"ticks\":\"\"},\"colorscale\":[[0.0,\"#0d0887\"],[0.1111111111111111,\"#46039f\"],[0.2222222222222222,\"#7201a8\"],[0.3333333333333333,\"#9c179e\"],[0.4444444444444444,\"#bd3786\"],[0.5555555555555556,\"#d8576b\"],[0.6666666666666666,\"#ed7953\"],[0.7777777777777778,\"#fb9f3a\"],[0.8888888888888888,\"#fdca26\"],[1.0,\"#f0f921\"]]}],\"contourcarpet\":[{\"type\":\"contourcarpet\",\"colorbar\":{\"outlinewidth\":0,\"ticks\":\"\"}}],\"contour\":[{\"type\":\"contour\",\"colorbar\":{\"outlinewidth\":0,\"ticks\":\"\"},\"colorscale\":[[0.0,\"#0d0887\"],[0.1111111111111111,\"#46039f\"],[0.2222222222222222,\"#7201a8\"],[0.3333333333333333,\"#9c179e\"],[0.4444444444444444,\"#bd3786\"],[0.5555555555555556,\"#d8576b\"],[0.6666666666666666,\"#ed7953\"],[0.7777777777777778,\"#fb9f3a\"],[0.8888888888888888,\"#fdca26\"],[1.0,\"#f0f921\"]]}],\"surface\":[{\"type\":\"surface\",\"colorbar\":{\"outlinewidth\":0,\"ticks\":\"\"},\"colorscale\":[[0.0,\"#0d0887\"],[0.1111111111111111,\"#46039f\"],[0.2222222222222222,\"#7201a8\"],[0.3333333333333333,\"#9c179e\"],[0.4444444444444444,\"#bd3786\"],[0.5555555555555556,\"#d8576b\"],[0.6666666666666666,\"#ed7953\"],[0.7777777777777778,\"#fb9f3a\"],[0.8888888888888888,\"#fdca26\"],[1.0,\"#f0f921\"]]}],\"mesh3d\":[{\"type\":\"mesh3d\",\"colorbar\":{\"outlinewidth\":0,\"ticks\":\"\"}}],\"scatter\":[{\"fillpattern\":{\"fillmode\":\"overlay\",\"size\":10,\"solidity\":0.2},\"type\":\"scatter\"}],\"parcoords\":[{\"type\":\"parcoords\",\"line\":{\"colorbar\":{\"outlinewidth\":0,\"ticks\":\"\"}}}],\"scatterpolargl\":[{\"type\":\"scatterpolargl\",\"marker\":{\"colorbar\":{\"outlinewidth\":0,\"ticks\":\"\"}}}],\"bar\":[{\"error_x\":{\"color\":\"#2a3f5f\"},\"error_y\":{\"color\":\"#2a3f5f\"},\"marker\":{\"line\":{\"color\":\"#E5ECF6\",\"width\":0.5},\"pattern\":{\"fillmode\":\"overlay\",\"size\":10,\"solidity\":0.2}},\"type\":\"bar\"}],\"scattergeo\":[{\"type\":\"scattergeo\",\"marker\":{\"colorbar\":{\"outlinewidth\":0,\"ticks\":\"\"}}}],\"scatterpolar\":[{\"type\":\"scatterpolar\",\"marker\":{\"colorbar\":{\"outlinewidth\":0,\"ticks\":\"\"}}}],\"histogram\":[{\"marker\":{\"pattern\":{\"fillmode\":\"overlay\",\"size\":10,\"solidity\":0.2}},\"type\":\"histogram\"}],\"scattergl\":[{\"type\":\"scattergl\",\"marker\":{\"colorbar\":{\"outlinewidth\":0,\"ticks\":\"\"}}}],\"scatter3d\":[{\"type\":\"scatter3d\",\"line\":{\"colorbar\":{\"outlinewidth\":0,\"ticks\":\"\"}},\"marker\":{\"colorbar\":{\"outlinewidth\":0,\"ticks\":\"\"}}}],\"scattermapbox\":[{\"type\":\"scattermapbox\",\"marker\":{\"colorbar\":{\"outlinewidth\":0,\"ticks\":\"\"}}}],\"scatterternary\":[{\"type\":\"scatterternary\",\"marker\":{\"colorbar\":{\"outlinewidth\":0,\"ticks\":\"\"}}}],\"scattercarpet\":[{\"type\":\"scattercarpet\",\"marker\":{\"colorbar\":{\"outlinewidth\":0,\"ticks\":\"\"}}}],\"carpet\":[{\"aaxis\":{\"endlinecolor\":\"#2a3f5f\",\"gridcolor\":\"white\",\"linecolor\":\"white\",\"minorgridcolor\":\"white\",\"startlinecolor\":\"#2a3f5f\"},\"baxis\":{\"endlinecolor\":\"#2a3f5f\",\"gridcolor\":\"white\",\"linecolor\":\"white\",\"minorgridcolor\":\"white\",\"startlinecolor\":\"#2a3f5f\"},\"type\":\"carpet\"}],\"table\":[{\"cells\":{\"fill\":{\"color\":\"#EBF0F8\"},\"line\":{\"color\":\"white\"}},\"header\":{\"fill\":{\"color\":\"#C8D4E3\"},\"line\":{\"color\":\"white\"}},\"type\":\"table\"}],\"barpolar\":[{\"marker\":{\"line\":{\"color\":\"#E5ECF6\",\"width\":0.5},\"pattern\":{\"fillmode\":\"overlay\",\"size\":10,\"solidity\":0.2}},\"type\":\"barpolar\"}],\"pie\":[{\"automargin\":true,\"type\":\"pie\"}]},\"layout\":{\"autotypenumbers\":\"strict\",\"colorway\":[\"#636efa\",\"#EF553B\",\"#00cc96\",\"#ab63fa\",\"#FFA15A\",\"#19d3f3\",\"#FF6692\",\"#B6E880\",\"#FF97FF\",\"#FECB52\"],\"font\":{\"color\":\"#2a3f5f\"},\"hovermode\":\"closest\",\"hoverlabel\":{\"align\":\"left\"},\"paper_bgcolor\":\"white\",\"plot_bgcolor\":\"#E5ECF6\",\"polar\":{\"bgcolor\":\"#E5ECF6\",\"angularaxis\":{\"gridcolor\":\"white\",\"linecolor\":\"white\",\"ticks\":\"\"},\"radialaxis\":{\"gridcolor\":\"white\",\"linecolor\":\"white\",\"ticks\":\"\"}},\"ternary\":{\"bgcolor\":\"#E5ECF6\",\"aaxis\":{\"gridcolor\":\"white\",\"linecolor\":\"white\",\"ticks\":\"\"},\"baxis\":{\"gridcolor\":\"white\",\"linecolor\":\"white\",\"ticks\":\"\"},\"caxis\":{\"gridcolor\":\"white\",\"linecolor\":\"white\",\"ticks\":\"\"}},\"coloraxis\":{\"colorbar\":{\"outlinewidth\":0,\"ticks\":\"\"}},\"colorscale\":{\"sequential\":[[0.0,\"#0d0887\"],[0.1111111111111111,\"#46039f\"],[0.2222222222222222,\"#7201a8\"],[0.3333333333333333,\"#9c179e\"],[0.4444444444444444,\"#bd3786\"],[0.5555555555555556,\"#d8576b\"],[0.6666666666666666,\"#ed7953\"],[0.7777777777777778,\"#fb9f3a\"],[0.8888888888888888,\"#fdca26\"],[1.0,\"#f0f921\"]],\"sequentialminus\":[[0.0,\"#0d0887\"],[0.1111111111111111,\"#46039f\"],[0.2222222222222222,\"#7201a8\"],[0.3333333333333333,\"#9c179e\"],[0.4444444444444444,\"#bd3786\"],[0.5555555555555556,\"#d8576b\"],[0.6666666666666666,\"#ed7953\"],[0.7777777777777778,\"#fb9f3a\"],[0.8888888888888888,\"#fdca26\"],[1.0,\"#f0f921\"]],\"diverging\":[[0,\"#8e0152\"],[0.1,\"#c51b7d\"],[0.2,\"#de77ae\"],[0.3,\"#f1b6da\"],[0.4,\"#fde0ef\"],[0.5,\"#f7f7f7\"],[0.6,\"#e6f5d0\"],[0.7,\"#b8e186\"],[0.8,\"#7fbc41\"],[0.9,\"#4d9221\"],[1,\"#276419\"]]},\"xaxis\":{\"gridcolor\":\"white\",\"linecolor\":\"white\",\"ticks\":\"\",\"title\":{\"standoff\":15},\"zerolinecolor\":\"white\",\"automargin\":true,\"zerolinewidth\":2},\"yaxis\":{\"gridcolor\":\"white\",\"linecolor\":\"white\",\"ticks\":\"\",\"title\":{\"standoff\":15},\"zerolinecolor\":\"white\",\"automargin\":true,\"zerolinewidth\":2},\"scene\":{\"xaxis\":{\"backgroundcolor\":\"#E5ECF6\",\"gridcolor\":\"white\",\"linecolor\":\"white\",\"showbackground\":true,\"ticks\":\"\",\"zerolinecolor\":\"white\",\"gridwidth\":2},\"yaxis\":{\"backgroundcolor\":\"#E5ECF6\",\"gridcolor\":\"white\",\"linecolor\":\"white\",\"showbackground\":true,\"ticks\":\"\",\"zerolinecolor\":\"white\",\"gridwidth\":2},\"zaxis\":{\"backgroundcolor\":\"#E5ECF6\",\"gridcolor\":\"white\",\"linecolor\":\"white\",\"showbackground\":true,\"ticks\":\"\",\"zerolinecolor\":\"white\",\"gridwidth\":2}},\"shapedefaults\":{\"line\":{\"color\":\"#2a3f5f\"}},\"annotationdefaults\":{\"arrowcolor\":\"#2a3f5f\",\"arrowhead\":0,\"arrowwidth\":1},\"geo\":{\"bgcolor\":\"white\",\"landcolor\":\"#E5ECF6\",\"subunitcolor\":\"white\",\"showland\":true,\"showlakes\":true,\"lakecolor\":\"white\"},\"title\":{\"x\":0.05},\"mapbox\":{\"style\":\"light\"}}},\"xaxis\":{\"anchor\":\"y\",\"domain\":[0.0,0.475],\"dtick\":5,\"tickangle\":-20,\"tickvals\":[0,5,10,15,20,25,30,35,40,45],\"ticktext\":[\"input\",\"5\",\"10\",\"15\",\"20\",\"25\",\"30\",\"35\",\"40\",\"45\",\"50\",\"55\",\"60\",\"65\",\"70\",\"75\",\"80\",\"85\",\"90\",\"95\",\"100\",\"105\",\"110\",\"115\",\"120\",\"125\",\"130\",\"135\",\"140\",\"145\",\"150\",\"155\",\"160\",\"165\",\"170\",\"175\",\"180\",\"185\",\"190\",\"195\",\"200\",\"205\",\"210\",\"215\"]},\"yaxis\":{\"anchor\":\"x\",\"domain\":[0.0,1.0],\"showticklabels\":true,\"type\":\"log\"},\"xaxis2\":{\"anchor\":\"y2\",\"domain\":[0.525,1.0],\"dtick\":5,\"tickangle\":-20,\"tickvals\":[0,5,10,15,20,25,30,35,40,45],\"ticktext\":[\"input\",\"5\",\"10\",\"15\",\"20\",\"25\",\"30\",\"35\",\"40\",\"45\",\"50\",\"55\",\"60\",\"65\",\"70\",\"75\",\"80\",\"85\",\"90\",\"95\",\"100\",\"105\",\"110\",\"115\",\"120\",\"125\",\"130\",\"135\",\"140\",\"145\",\"150\",\"155\",\"160\",\"165\",\"170\",\"175\",\"180\",\"185\",\"190\",\"195\",\"200\",\"205\",\"210\",\"215\"]},\"yaxis2\":{\"anchor\":\"x2\",\"domain\":[0.0,1.0],\"matches\":\"y\",\"showticklabels\":true,\"type\":\"log\"},\"annotations\":[{\"font\":{\"size\":20,\"color\":\"black\"},\"showarrow\":false,\"text\":\"Logit lens (baseline)\",\"x\":0.2375,\"xanchor\":\"center\",\"xref\":\"paper\",\"y\":1.0,\"yanchor\":\"bottom\",\"yref\":\"paper\"},{\"font\":{\"size\":20,\"color\":\"black\"},\"showarrow\":false,\"text\":\"Tuned lens (ours)\",\"x\":0.7625,\"xanchor\":\"center\",\"xref\":\"paper\",\"y\":1.0,\"yanchor\":\"bottom\",\"yref\":\"paper\"},{\"font\":{\"size\":20,\"color\":\"black\"},\"showarrow\":false,\"text\":\"Layer\",\"x\":0.5,\"xanchor\":\"center\",\"xref\":\"paper\",\"y\":0,\"yanchor\":\"top\",\"yref\":\"paper\",\"yshift\":-30},{\"font\":{\"size\":20,\"color\":\"black\"},\"showarrow\":false,\"text\":\"bits per byte\",\"textangle\":-90,\"x\":0,\"xanchor\":\"right\",\"xref\":\"paper\",\"xshift\":-40,\"y\":0.5,\"yanchor\":\"middle\",\"yref\":\"paper\"}],\"font\":{\"size\":16,\"color\":\"black\"},\"legend\":{\"title\":{\"text\":\"Model size\"},\"x\":0.9,\"y\":0.98},\"margin\":{\"l\":70,\"r\":30,\"t\":50,\"b\":70},\"height\":518.4,\"hovermode\":\"x unified\",\"width\":1296.0},                        {\"responsive\": true}                    ).then(function(){\n",
       "                            \n",
       "var gd = document.getElementById('52bd76cd-530d-4f4f-ae57-a4dabc2535a8');\n",
       "var x = new MutationObserver(function (mutations, observer) {{\n",
       "        var display = window.getComputedStyle(gd).display;\n",
       "        if (!display || display === 'none') {{\n",
       "            console.log([gd, 'removed!']);\n",
       "            Plotly.purge(gd);\n",
       "            observer.disconnect();\n",
       "        }}\n",
       "}});\n",
       "\n",
       "// Listen for the removal of the full notebook cells\n",
       "var notebookContainer = gd.closest('#notebook-container');\n",
       "if (notebookContainer) {{\n",
       "    x.observe(notebookContainer, {childList: true});\n",
       "}}\n",
       "\n",
       "// Listen for the clearing of the current output cell\n",
       "var outputEl = gd.closest('.output');\n",
       "if (outputEl) {{\n",
       "    x.observe(outputEl, {childList: true});\n",
       "}}\n",
       "\n",
       "                        })                };                });            </script>        </div>"
      ]
     },
     "metadata": {},
     "output_type": "display_data"
    }
   ],
   "source": [
    "from plotly.subplots import make_subplots\n",
    "import plotly.express as px\n",
    "import plotly.graph_objects as go\n",
    "\n",
    "PAGE_WIDTH = 6.75 * 96 * 2\n",
    "\n",
    "master = make_subplots(\n",
    "    rows=1,\n",
    "    cols=2,\n",
    "    subplot_titles=(\"Logit lens (baseline)\", \"Tuned lens (ours)\"),\n",
    "    horizontal_spacing=0.05,\n",
    "    vertical_spacing=0.1,\n",
    "    shared_yaxes=True,\n",
    "    x_title=\"Layer\",\n",
    "    y_title=\"bits per byte\",\n",
    ").add_traces([\n",
    "    go.Scatter(\n",
    "        x=np.arange(depth),\n",
    "        y=baselines[name][:-1],\n",
    "        marker_color=color,\n",
    "        mode=\"lines+markers\",\n",
    "        name=name,\n",
    "        showlegend=False,\n",
    "    ) for color, model, name, depth in zip(\n",
    "        px.colors.sequential.Plasma[::3],\n",
    "        MODELS,\n",
    "        NAMES,\n",
    "        DEPTHS\n",
    "    )\n",
    "], rows=1, cols=1\n",
    ").add_traces([\n",
    "    go.Scatter(\n",
    "        x=np.arange(depth),\n",
    "        y=metrics[name],\n",
    "        marker_color=color,\n",
    "        mode=\"lines+markers\",\n",
    "        name=name,\n",
    "       # opacity=0.8,\n",
    "    ) for color, model, name, depth in zip(\n",
    "        px.colors.sequential.Plasma[::3],\n",
    "        MODELS,\n",
    "        NAMES,\n",
    "        DEPTHS\n",
    "    )\n",
    "], rows=1, cols=2\n",
    ").update_xaxes(\n",
    "    dtick=5,\n",
    ").update_yaxes(\n",
    "    showticklabels=True,\n",
    "    type=\"log\",\n",
    "    # range=[0, 14],\n",
    ").update_annotations(\n",
    "    font=dict(size=20, color=\"black\"),\n",
    ").update_layout(\n",
    "    font=dict(size=16, color=\"black\"),\n",
    "    height=PAGE_WIDTH / 2.5,\n",
    "    hovermode=\"x unified\",\n",
    "    legend=dict(\n",
    "        title_text=\"Model size\",\n",
    "        x=0.9,\n",
    "        y=0.98,\n",
    "    ),\n",
    "    xaxis1=dict(\n",
    "        tickangle=-20,\n",
    "        tickvals=list(range(0, 50, 5)),\n",
    "        ticktext=[\"input\"] + [str(i * 5) for i in range(1, 45 - 1)],\n",
    "    ),\n",
    "    xaxis2=dict(\n",
    "        tickangle=-20,\n",
    "        tickvals=list(range(0, 50 - 1, 5)),\n",
    "        ticktext=[\"input\"] + [str(i * 5) for i in range(1, 45 - 1)],\n",
    "    ),\n",
    "    margin_l=70,\n",
    "    margin_r=30,\n",
    "    margin_t=50,\n",
    "    margin_b=70,\n",
    "    width=PAGE_WIDTH,\n",
    ")\n",
    "master"
   ]
  },
  {
   "cell_type": "code",
   "execution_count": 81,
   "metadata": {},
   "outputs": [],
   "source": [
    "master.write_image(\"/mnt/ssd-1/nora/opt-perplexity.pdf\")"
   ]
  },
  {
   "cell_type": "code",
   "execution_count": 392,
   "metadata": {},
   "outputs": [],
   "source": [
    "from itertools import product\n",
    "from scipy.optimize import curve_fit\n",
    "from typing import NamedTuple, Sequence\n",
    "\n",
    "\n",
    "class Break(NamedTuple):\n",
    "    c: float\n",
    "    d: float\n",
    "    f: float\n",
    "\n",
    "\n",
    "class BNSL(NamedTuple):\n",
    "    a: float\n",
    "    b: float\n",
    "    c0: float\n",
    "\n",
    "    breaks: Sequence[Break]\n",
    "\n",
    "    @classmethod\n",
    "    def fit(cls, x, y, num_breaks: int = 1):\n",
    "        assert np.all(x > 0) and np.all(y > 0)\n",
    "\n",
    "        q = np.linspace(0, 1, 5)[1:-1]\n",
    "        x_quantiles = np.log(np.quantile(x, q))\n",
    "        y_quantiles = np.quantile(y, (0.0, 0.25, 0.5, 0.75, 1.0))\n",
    "\n",
    "        # Test grid of initializations\n",
    "        best_loss = np.inf\n",
    "        best_p = None\n",
    "        exp_grid = np.linspace(0.1, 0.99, 5)\n",
    "        log_grid = np.linspace(1, 10, 10)\n",
    "        break_grid = (exp_grid, x_quantiles, exp_grid) * num_breaks\n",
    "\n",
    "        for params in product(y_quantiles, log_grid, exp_grid, *break_grid):\n",
    "            loss = cls.from_params(params).loss(x, y)\n",
    "            if best_p is None or loss < best_loss:\n",
    "                best_loss = loss\n",
    "                best_p = params\n",
    "\n",
    "        def fn(x, *p):\n",
    "            y_pred = cls.from_params(p)(x)\n",
    "            return np.log(y_pred)\n",
    "    \n",
    "        break_lb = [0, np.log(x.min()), 0] * num_breaks\n",
    "        break_ub = [1, np.log(x.max()), np.inf] * num_breaks\n",
    "\n",
    "        p_star, *_ = curve_fit(\n",
    "            fn, x, np.log(y), best_p,\n",
    "            bounds=(\n",
    "                np.array([-np.inf, -np.inf, 0] + break_lb),\n",
    "                np.array([np.inf, np.inf, 1] + break_ub)\n",
    "            ),\n",
    "            maxfev=None,\n",
    "        )\n",
    "        return cls.from_params(p_star)\n",
    "\n",
    "    @classmethod\n",
    "    def from_params(cls, params):\n",
    "        a, log_b, c, *break_params = params\n",
    "\n",
    "        breaks = []\n",
    "        for i in range(0, len(break_params), 3):\n",
    "            c_i, log_d_i, f_i = break_params[i:i+3]\n",
    "            breaks.append(\n",
    "                Break(c_i, np.exp(log_d_i), f_i)\n",
    "            )\n",
    "\n",
    "        return cls(a, np.exp(log_b), c, breaks)\n",
    "\n",
    "    def to_params(self):\n",
    "        break_params = []\n",
    "        for break_ in self.breaks:\n",
    "            break_params.extend([\n",
    "                break_.c,\n",
    "                np.log(break_.d),\n",
    "                break_.f,\n",
    "            ])\n",
    "\n",
    "        return (\n",
    "            self.a,\n",
    "            np.log(self.b),\n",
    "            self.c0,\n",
    "            *break_params\n",
    "        )\n",
    "\n",
    "    def __call__(self, x):\n",
    "        y = self.b * x ** -self.c0\n",
    "        for c_i, d_i, f_i in self.breaks:\n",
    "            y *= (1.0 + (x / d_i) ** (1.0 / f_i)) ** (-c_i * f_i)\n",
    "\n",
    "        return self.a + y\n",
    "\n",
    "    def loss(self, x, y):\n",
    "        \"\"\"Mean squared log error\"\"\"\n",
    "        log_diff = np.log(self(x)) - np.log(y)\n",
    "        return np.mean(log_diff ** 2)\n",
    "\n"
   ]
  },
  {
   "cell_type": "code",
   "execution_count": null,
   "metadata": {},
   "outputs": [],
   "source": [
    "import numpy as np\n",
    "\n",
    "def find_break(y, log_x = False, log_y = False):\n",
    "    N = len(y)\n",
    "    assert N > 4\n",
    "\n",
    "    x = np.arange(1, N + 1)\n",
    "    if log_x:\n",
    "        x = np.log(x)\n",
    "    if log_y:\n",
    "        y = np.log(y)\n",
    "\n",
    "    best_loss = np.inf\n",
    "    best_i = None\n",
    "\n",
    "    for i in range(2, N - 2):\n",
    "        m1, b1 = np.polyfit(x[:i], y[:i], 1)\n",
    "        m2, b2 = np.polyfit(x[i:], y[i:], 1)\n",
    "        \n",
    "        y_hat1 = m1 * x[:i] + b1\n",
    "        y_hat2 = m2 * x[i:] + b2\n",
    "        \n",
    "        mse1 = np.sum((y[:i] - y_hat1) ** 2)\n",
    "        mse2 = np.sum((y[i:] - y_hat2) ** 2)\n",
    "\n",
    "        loss = mse1 + mse2\n",
    "        if loss < best_loss:\n",
    "            best_loss = loss\n",
    "            best_i = i\n",
    "\n",
    "    return y[best_i]"
   ]
  }
 ],
 "metadata": {
  "kernelspec": {
   "display_name": "base",
   "language": "python",
   "name": "python3"
  },
  "language_info": {
   "codemirror_mode": {
    "name": "ipython",
    "version": 3
   },
   "file_extension": ".py",
   "mimetype": "text/x-python",
   "name": "python",
   "nbconvert_exporter": "python",
   "pygments_lexer": "ipython3",
   "version": "3.10.8"
  },
  "orig_nbformat": 4,
  "vscode": {
   "interpreter": {
    "hash": "37655a14f19528427b2fab2b7608d4c988ed7d88bb86685bfc3bcc0190ec2edc"
   }
  }
 },
 "nbformat": 4,
 "nbformat_minor": 2
}
