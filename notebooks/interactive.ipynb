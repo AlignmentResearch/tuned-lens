{
  "cells": [
    {
      "attachments": {},
      "cell_type": "markdown",
      "metadata": {
        "id": "FU-1GTZT28li"
      },
      "source": [
        "# The tuned lens 🔎\n",
        "A tuned lens allows us to peak at the iterative computations that a transformer is using the compute the next token.\n",
        "\n",
        "A lens into a transformer with n layers allows you to replace the last $m$ layers of the model with an [affine transformation](https://pytorch.org/docs/stable/generated/torch.nn.Linear.html) (we call these affine translators).\n",
        "\n",
        "This essentially skips over these last few layers and lets you see the best prediction that can be made from the model's representations, i.e. the residual stream, at layer $n - m$. Since the representations may be rotated, shifted, or stretched from layer to layer it's useful to train the len's affine translators specifically on each layer. This training is what differentiates this method from simpler approaches that decode the residual stream of the network directly using the unembeding layer i.e. the logit lens. We explain this process along with more applications of the method in [the paper](ttps://arxiv.org/abs/2303.08112).\n",
        "\n",
        "You can find the complete set of pretrained lenses on [the hugging face space](https://huggingface.co/spaces/AlignmentResearch/tuned-lens/tree/main/lens).\n",
        "\n",
        "## Usage\n",
        "Since the tuned lens produces a distribution of predictions to visualize it's output we need to we need to provide a summary statistic to plot.  The default is simply [entropy](https://en.wikipedia.org/wiki/Entropy_(information_theory)), but you can also choose the [cross entropy](https://en.wikipedia.org/wiki/Cross_entropy) with the target token, or the [KL divergence](https://en.wikipedia.org/wiki/Kullback%E2%80%93Leibler_divergence) between the model's predictions and the tuned lens' predictions. You can also hover over a token to see more of the distribution i.e. the top 10 most probable tokens and their probabilities.\n",
        "\n",
        "## Examples\n",
        "Some interesting examples you can try.\n",
        "\n",
        "### Copy paste:\n",
        "```\n",
        "Copy: A!2j!#u&NGApS&MkkHe8Gm!#\n",
        "Paste: A!2j!#u&NGApS&MkkHe8Gm!#\n",
        "```\n",
        "\n",
        "### Trivial in-context learning\n",
        "```\n",
        "inc 1 2\n",
        "inc 4 5\n",
        "inc 13 \n",
        "```\n",
        "\n",
        "#### Addition\n",
        "```\n",
        "add 1 1 2\n",
        "add 3 4 7\n",
        "add 13 2 \n",
        "```"
      ]
    },
    {
      "cell_type": "code",
      "execution_count": 1,
      "metadata": {
        "id": "W9cRsIdK2-Jm"
      },
      "outputs": [
        {
          "name": "stdout",
          "output_type": "stream",
          "text": [
            "Requirement already satisfied: tuned-lens==0.0.3 in /home/lev/miniconda3/envs/tuned-lens/lib/python3.10/site-packages (0.0.3)\n",
            "Requirement already satisfied: torch>=1.12.0 in /home/lev/miniconda3/envs/tuned-lens/lib/python3.10/site-packages (from tuned-lens==0.0.3) (2.0.0)\n",
            "Requirement already satisfied: transformers in /home/lev/miniconda3/envs/tuned-lens/lib/python3.10/site-packages (from tuned-lens==0.0.3) (4.27.1)\n",
            "Requirement already satisfied: scikit-learn in /home/lev/miniconda3/envs/tuned-lens/lib/python3.10/site-packages (from tuned-lens==0.0.3) (1.2.2)\n",
            "Requirement already satisfied: zstandard in /home/lev/miniconda3/envs/tuned-lens/lib/python3.10/site-packages (from tuned-lens==0.0.3) (0.20.0)\n",
            "Requirement already satisfied: datasets in /home/lev/miniconda3/envs/tuned-lens/lib/python3.10/site-packages (from tuned-lens==0.0.3) (2.10.1)\n",
            "Requirement already satisfied: plotly>=5.13.1 in /home/lev/miniconda3/envs/tuned-lens/lib/python3.10/site-packages (from tuned-lens==0.0.3) (5.13.1)\n",
            "Requirement already satisfied: huggingface-hub>=0.12.1 in /home/lev/miniconda3/envs/tuned-lens/lib/python3.10/site-packages (from tuned-lens==0.0.3) (0.13.2)\n",
            "Requirement already satisfied: accelerate in /home/lev/miniconda3/envs/tuned-lens/lib/python3.10/site-packages (from tuned-lens==0.0.3) (0.17.1)\n",
            "Requirement already satisfied: requests in /home/lev/miniconda3/envs/tuned-lens/lib/python3.10/site-packages (from huggingface-hub>=0.12.1->tuned-lens==0.0.3) (2.28.2)\n",
            "Requirement already satisfied: typing-extensions>=3.7.4.3 in /home/lev/miniconda3/envs/tuned-lens/lib/python3.10/site-packages (from huggingface-hub>=0.12.1->tuned-lens==0.0.3) (4.5.0)\n",
            "Requirement already satisfied: pyyaml>=5.1 in /home/lev/miniconda3/envs/tuned-lens/lib/python3.10/site-packages (from huggingface-hub>=0.12.1->tuned-lens==0.0.3) (6.0)\n",
            "Requirement already satisfied: filelock in /home/lev/miniconda3/envs/tuned-lens/lib/python3.10/site-packages (from huggingface-hub>=0.12.1->tuned-lens==0.0.3) (3.10.0)\n",
            "Requirement already satisfied: packaging>=20.9 in /home/lev/miniconda3/envs/tuned-lens/lib/python3.10/site-packages (from huggingface-hub>=0.12.1->tuned-lens==0.0.3) (23.0)\n",
            "Requirement already satisfied: tqdm>=4.42.1 in /home/lev/miniconda3/envs/tuned-lens/lib/python3.10/site-packages (from huggingface-hub>=0.12.1->tuned-lens==0.0.3) (4.65.0)\n",
            "Requirement already satisfied: tenacity>=6.2.0 in /home/lev/miniconda3/envs/tuned-lens/lib/python3.10/site-packages (from plotly>=5.13.1->tuned-lens==0.0.3) (8.2.2)\n",
            "Requirement already satisfied: nvidia-cusolver-cu11==11.4.0.1 in /home/lev/miniconda3/envs/tuned-lens/lib/python3.10/site-packages (from torch>=1.12.0->tuned-lens==0.0.3) (11.4.0.1)\n",
            "Requirement already satisfied: nvidia-cublas-cu11==11.10.3.66 in /home/lev/miniconda3/envs/tuned-lens/lib/python3.10/site-packages (from torch>=1.12.0->tuned-lens==0.0.3) (11.10.3.66)\n",
            "Requirement already satisfied: nvidia-nvtx-cu11==11.7.91 in /home/lev/miniconda3/envs/tuned-lens/lib/python3.10/site-packages (from torch>=1.12.0->tuned-lens==0.0.3) (11.7.91)\n",
            "Requirement already satisfied: nvidia-cuda-cupti-cu11==11.7.101 in /home/lev/miniconda3/envs/tuned-lens/lib/python3.10/site-packages (from torch>=1.12.0->tuned-lens==0.0.3) (11.7.101)\n",
            "Requirement already satisfied: nvidia-cufft-cu11==10.9.0.58 in /home/lev/miniconda3/envs/tuned-lens/lib/python3.10/site-packages (from torch>=1.12.0->tuned-lens==0.0.3) (10.9.0.58)\n",
            "Requirement already satisfied: nvidia-curand-cu11==10.2.10.91 in /home/lev/miniconda3/envs/tuned-lens/lib/python3.10/site-packages (from torch>=1.12.0->tuned-lens==0.0.3) (10.2.10.91)\n",
            "Requirement already satisfied: nvidia-nccl-cu11==2.14.3 in /home/lev/miniconda3/envs/tuned-lens/lib/python3.10/site-packages (from torch>=1.12.0->tuned-lens==0.0.3) (2.14.3)\n",
            "Requirement already satisfied: jinja2 in /home/lev/miniconda3/envs/tuned-lens/lib/python3.10/site-packages (from torch>=1.12.0->tuned-lens==0.0.3) (3.1.2)\n",
            "Requirement already satisfied: nvidia-cudnn-cu11==8.5.0.96 in /home/lev/miniconda3/envs/tuned-lens/lib/python3.10/site-packages (from torch>=1.12.0->tuned-lens==0.0.3) (8.5.0.96)\n",
            "Requirement already satisfied: triton==2.0.0 in /home/lev/miniconda3/envs/tuned-lens/lib/python3.10/site-packages (from torch>=1.12.0->tuned-lens==0.0.3) (2.0.0)\n",
            "Requirement already satisfied: nvidia-cuda-nvrtc-cu11==11.7.99 in /home/lev/miniconda3/envs/tuned-lens/lib/python3.10/site-packages (from torch>=1.12.0->tuned-lens==0.0.3) (11.7.99)\n",
            "Requirement already satisfied: sympy in /home/lev/miniconda3/envs/tuned-lens/lib/python3.10/site-packages (from torch>=1.12.0->tuned-lens==0.0.3) (1.11.1)\n",
            "Requirement already satisfied: networkx in /home/lev/miniconda3/envs/tuned-lens/lib/python3.10/site-packages (from torch>=1.12.0->tuned-lens==0.0.3) (3.0)\n",
            "Requirement already satisfied: nvidia-cuda-runtime-cu11==11.7.99 in /home/lev/miniconda3/envs/tuned-lens/lib/python3.10/site-packages (from torch>=1.12.0->tuned-lens==0.0.3) (11.7.99)\n",
            "Requirement already satisfied: nvidia-cusparse-cu11==11.7.4.91 in /home/lev/miniconda3/envs/tuned-lens/lib/python3.10/site-packages (from torch>=1.12.0->tuned-lens==0.0.3) (11.7.4.91)\n",
            "Requirement already satisfied: wheel in /home/lev/miniconda3/envs/tuned-lens/lib/python3.10/site-packages (from nvidia-cublas-cu11==11.10.3.66->torch>=1.12.0->tuned-lens==0.0.3) (0.38.4)\n",
            "Requirement already satisfied: setuptools in /home/lev/miniconda3/envs/tuned-lens/lib/python3.10/site-packages (from nvidia-cublas-cu11==11.10.3.66->torch>=1.12.0->tuned-lens==0.0.3) (65.6.3)\n",
            "Requirement already satisfied: lit in /home/lev/miniconda3/envs/tuned-lens/lib/python3.10/site-packages (from triton==2.0.0->torch>=1.12.0->tuned-lens==0.0.3) (15.0.7)\n",
            "Requirement already satisfied: cmake in /home/lev/miniconda3/envs/tuned-lens/lib/python3.10/site-packages (from triton==2.0.0->torch>=1.12.0->tuned-lens==0.0.3) (3.26.0)\n",
            "Requirement already satisfied: numpy>=1.17 in /home/lev/miniconda3/envs/tuned-lens/lib/python3.10/site-packages (from accelerate->tuned-lens==0.0.3) (1.24.2)\n",
            "Requirement already satisfied: psutil in /home/lev/miniconda3/envs/tuned-lens/lib/python3.10/site-packages (from accelerate->tuned-lens==0.0.3) (5.9.4)\n",
            "Requirement already satisfied: fsspec[http]>=2021.11.1 in /home/lev/miniconda3/envs/tuned-lens/lib/python3.10/site-packages (from datasets->tuned-lens==0.0.3) (2023.3.0)\n",
            "Requirement already satisfied: dill<0.3.7,>=0.3.0 in /home/lev/miniconda3/envs/tuned-lens/lib/python3.10/site-packages (from datasets->tuned-lens==0.0.3) (0.3.6)\n",
            "Requirement already satisfied: aiohttp in /home/lev/miniconda3/envs/tuned-lens/lib/python3.10/site-packages (from datasets->tuned-lens==0.0.3) (3.8.4)\n",
            "Requirement already satisfied: xxhash in /home/lev/miniconda3/envs/tuned-lens/lib/python3.10/site-packages (from datasets->tuned-lens==0.0.3) (3.2.0)\n",
            "Requirement already satisfied: pyarrow>=6.0.0 in /home/lev/miniconda3/envs/tuned-lens/lib/python3.10/site-packages (from datasets->tuned-lens==0.0.3) (11.0.0)\n",
            "Requirement already satisfied: multiprocess in /home/lev/miniconda3/envs/tuned-lens/lib/python3.10/site-packages (from datasets->tuned-lens==0.0.3) (0.70.14)\n",
            "Requirement already satisfied: pandas in /home/lev/miniconda3/envs/tuned-lens/lib/python3.10/site-packages (from datasets->tuned-lens==0.0.3) (1.5.3)\n",
            "Requirement already satisfied: responses<0.19 in /home/lev/miniconda3/envs/tuned-lens/lib/python3.10/site-packages (from datasets->tuned-lens==0.0.3) (0.18.0)\n",
            "Requirement already satisfied: joblib>=1.1.1 in /home/lev/miniconda3/envs/tuned-lens/lib/python3.10/site-packages (from scikit-learn->tuned-lens==0.0.3) (1.2.0)\n",
            "Requirement already satisfied: scipy>=1.3.2 in /home/lev/miniconda3/envs/tuned-lens/lib/python3.10/site-packages (from scikit-learn->tuned-lens==0.0.3) (1.10.1)\n",
            "Requirement already satisfied: threadpoolctl>=2.0.0 in /home/lev/miniconda3/envs/tuned-lens/lib/python3.10/site-packages (from scikit-learn->tuned-lens==0.0.3) (3.1.0)\n",
            "Requirement already satisfied: tokenizers!=0.11.3,<0.14,>=0.11.1 in /home/lev/miniconda3/envs/tuned-lens/lib/python3.10/site-packages (from transformers->tuned-lens==0.0.3) (0.13.2)\n",
            "Requirement already satisfied: regex!=2019.12.17 in /home/lev/miniconda3/envs/tuned-lens/lib/python3.10/site-packages (from transformers->tuned-lens==0.0.3) (2022.10.31)\n",
            "Requirement already satisfied: aiosignal>=1.1.2 in /home/lev/miniconda3/envs/tuned-lens/lib/python3.10/site-packages (from aiohttp->datasets->tuned-lens==0.0.3) (1.3.1)\n",
            "Requirement already satisfied: frozenlist>=1.1.1 in /home/lev/miniconda3/envs/tuned-lens/lib/python3.10/site-packages (from aiohttp->datasets->tuned-lens==0.0.3) (1.3.3)\n",
            "Requirement already satisfied: charset-normalizer<4.0,>=2.0 in /home/lev/miniconda3/envs/tuned-lens/lib/python3.10/site-packages (from aiohttp->datasets->tuned-lens==0.0.3) (3.1.0)\n",
            "Requirement already satisfied: multidict<7.0,>=4.5 in /home/lev/miniconda3/envs/tuned-lens/lib/python3.10/site-packages (from aiohttp->datasets->tuned-lens==0.0.3) (6.0.4)\n",
            "Requirement already satisfied: yarl<2.0,>=1.0 in /home/lev/miniconda3/envs/tuned-lens/lib/python3.10/site-packages (from aiohttp->datasets->tuned-lens==0.0.3) (1.8.2)\n",
            "Requirement already satisfied: attrs>=17.3.0 in /home/lev/miniconda3/envs/tuned-lens/lib/python3.10/site-packages (from aiohttp->datasets->tuned-lens==0.0.3) (22.2.0)\n",
            "Requirement already satisfied: async-timeout<5.0,>=4.0.0a3 in /home/lev/miniconda3/envs/tuned-lens/lib/python3.10/site-packages (from aiohttp->datasets->tuned-lens==0.0.3) (4.0.2)\n",
            "Requirement already satisfied: idna<4,>=2.5 in /home/lev/miniconda3/envs/tuned-lens/lib/python3.10/site-packages (from requests->huggingface-hub>=0.12.1->tuned-lens==0.0.3) (3.4)\n",
            "Requirement already satisfied: urllib3<1.27,>=1.21.1 in /home/lev/miniconda3/envs/tuned-lens/lib/python3.10/site-packages (from requests->huggingface-hub>=0.12.1->tuned-lens==0.0.3) (1.26.15)\n",
            "Requirement already satisfied: certifi>=2017.4.17 in /home/lev/miniconda3/envs/tuned-lens/lib/python3.10/site-packages (from requests->huggingface-hub>=0.12.1->tuned-lens==0.0.3) (2022.12.7)\n",
            "Requirement already satisfied: MarkupSafe>=2.0 in /home/lev/miniconda3/envs/tuned-lens/lib/python3.10/site-packages (from jinja2->torch>=1.12.0->tuned-lens==0.0.3) (2.1.2)\n",
            "Requirement already satisfied: python-dateutil>=2.8.1 in /home/lev/miniconda3/envs/tuned-lens/lib/python3.10/site-packages (from pandas->datasets->tuned-lens==0.0.3) (2.8.2)\n",
            "Requirement already satisfied: pytz>=2020.1 in /home/lev/miniconda3/envs/tuned-lens/lib/python3.10/site-packages (from pandas->datasets->tuned-lens==0.0.3) (2022.7.1)\n",
            "Requirement already satisfied: mpmath>=0.19 in /home/lev/miniconda3/envs/tuned-lens/lib/python3.10/site-packages (from sympy->torch>=1.12.0->tuned-lens==0.0.3) (1.3.0)\n",
            "Requirement already satisfied: six>=1.5 in /home/lev/miniconda3/envs/tuned-lens/lib/python3.10/site-packages (from python-dateutil>=2.8.1->pandas->datasets->tuned-lens==0.0.3) (1.16.0)\n"
          ]
        }
      ],
      "source": [
        "!pip install tuned-lens==0.0.3\n"
      ]
    },
    {
      "cell_type": "code",
      "execution_count": 2,
      "metadata": {
        "id": "FGd2YmyD28lk",
        "scrolled": true
      },
      "outputs": [
        {
          "name": "stderr",
          "output_type": "stream",
          "text": [
            "WARNING:root:Loading a checkpoint with a 'probe' key. This is deprecated and may be removed in a future version. \n",
            "WARNING:root:Loading a checkpoint with a 'probe' key. This is deprecated and may be removed in a future version. \n",
            "WARNING:root:Loading a checkpoint with a 'probe' key. This is deprecated and may be removed in a future version. \n",
            "WARNING:root:Loading a checkpoint with a 'probe' key. This is deprecated and may be removed in a future version. \n",
            "WARNING:root:Loading a checkpoint with a 'probe' key. This is deprecated and may be removed in a future version. \n",
            "WARNING:root:Loading a checkpoint with a 'probe' key. This is deprecated and may be removed in a future version. \n",
            "WARNING:root:Loading a checkpoint with a 'probe' key. This is deprecated and may be removed in a future version. \n",
            "WARNING:root:Loading a checkpoint with a 'probe' key. This is deprecated and may be removed in a future version. \n",
            "WARNING:root:Loading a checkpoint with a 'probe' key. This is deprecated and may be removed in a future version. \n",
            "WARNING:root:Loading a checkpoint with a 'probe' key. This is deprecated and may be removed in a future version. \n",
            "WARNING:root:Loading a checkpoint with a 'probe' key. This is deprecated and may be removed in a future version. \n",
            "WARNING:root:Loading a checkpoint with a 'probe' key. This is deprecated and may be removed in a future version. \n",
            "WARNING:root:Loading a checkpoint with a 'probe' key. This is deprecated and may be removed in a future version. \n",
            "WARNING:root:Loading a checkpoint with a 'probe' key. This is deprecated and may be removed in a future version. \n",
            "WARNING:root:Loading a checkpoint with a 'probe' key. This is deprecated and may be removed in a future version. \n",
            "WARNING:root:Loading a checkpoint with a 'probe' key. This is deprecated and may be removed in a future version. \n",
            "WARNING:root:Loading a checkpoint with a 'probe' key. This is deprecated and may be removed in a future version. \n",
            "WARNING:root:Loading a checkpoint with a 'probe' key. This is deprecated and may be removed in a future version. \n",
            "WARNING:root:Loading a checkpoint with a 'probe' key. This is deprecated and may be removed in a future version. \n",
            "WARNING:root:Loading a checkpoint with a 'probe' key. This is deprecated and may be removed in a future version. \n",
            "WARNING:root:Loading a checkpoint with a 'probe' key. This is deprecated and may be removed in a future version. \n",
            "WARNING:root:Loading a checkpoint with a 'probe' key. This is deprecated and may be removed in a future version. \n",
            "WARNING:root:Loading a checkpoint with a 'probe' key. This is deprecated and may be removed in a future version. \n",
            "WARNING:root:Loading a checkpoint with a 'probe' key. This is deprecated and may be removed in a future version. \n",
            "WARNING:root:Loading a checkpoint with a 'probe' key. This is deprecated and may be removed in a future version. \n",
            "WARNING:root:Loading a checkpoint with a 'probe' key. This is deprecated and may be removed in a future version. \n",
            "WARNING:root:Loading a checkpoint with a 'probe' key. This is deprecated and may be removed in a future version. \n",
            "WARNING:root:Loading a checkpoint with a 'probe' key. This is deprecated and may be removed in a future version. \n",
            "WARNING:root:Loading a checkpoint with a 'probe' key. This is deprecated and may be removed in a future version. \n",
            "WARNING:root:Loading a checkpoint with a 'probe' key. This is deprecated and may be removed in a future version. \n",
            "WARNING:root:Loading a checkpoint with a 'probe' key. This is deprecated and may be removed in a future version. \n",
            "WARNING:root:Loading a checkpoint with a 'probe' key. This is deprecated and may be removed in a future version. \n",
            "WARNING:root:Loading a checkpoint with a 'probe' key. This is deprecated and may be removed in a future version. \n",
            "WARNING:root:Loading a checkpoint with a 'probe' key. This is deprecated and may be removed in a future version. \n",
            "WARNING:root:Loading a checkpoint with a 'probe' key. This is deprecated and may be removed in a future version. \n",
            "WARNING:root:Loading a checkpoint with a 'probe' key. This is deprecated and may be removed in a future version. \n",
            "WARNING:root:Loading a checkpoint with a 'probe' key. This is deprecated and may be removed in a future version. \n",
            "WARNING:root:Loading a checkpoint with a 'probe' key. This is deprecated and may be removed in a future version. \n",
            "WARNING:root:Loading a checkpoint with a 'probe' key. This is deprecated and may be removed in a future version. \n",
            "WARNING:root:Loading a checkpoint with a 'probe' key. This is deprecated and may be removed in a future version. \n",
            "WARNING:root:Loading a checkpoint with a 'probe' key. This is deprecated and may be removed in a future version. \n",
            "WARNING:root:Loading a checkpoint with a 'probe' key. This is deprecated and may be removed in a future version. \n",
            "WARNING:root:Loading a checkpoint with a 'probe' key. This is deprecated and may be removed in a future version. \n",
            "WARNING:root:Loading a checkpoint with a 'probe' key. This is deprecated and may be removed in a future version. \n",
            "WARNING:root:Loading a checkpoint with a 'probe' key. This is deprecated and may be removed in a future version. \n",
            "WARNING:root:Loading a checkpoint with a 'probe' key. This is deprecated and may be removed in a future version. \n",
            "WARNING:root:Loading a checkpoint with a 'probe' key. This is deprecated and may be removed in a future version. \n",
            "WARNING:root:Loading a checkpoint with a 'probe' key. This is deprecated and may be removed in a future version. \n",
            "WARNING:root:Loading a checkpoint with a 'probe' key. This is deprecated and may be removed in a future version. \n",
            "WARNING:root:Loading a checkpoint with a 'probe' key. This is deprecated and may be removed in a future version. \n",
            "WARNING:root:Loading a checkpoint with a 'probe' key. This is deprecated and may be removed in a future version. \n",
            "WARNING:root:Loading a checkpoint with a 'probe' key. This is deprecated and may be removed in a future version. \n",
            "WARNING:root:Loading a checkpoint with a 'probe' key. This is deprecated and may be removed in a future version. \n",
            "WARNING:root:Loading a checkpoint with a 'probe' key. This is deprecated and may be removed in a future version. \n",
            "WARNING:root:Loading a checkpoint with a 'probe' key. This is deprecated and may be removed in a future version. \n",
            "WARNING:root:Loading a checkpoint with a 'probe' key. This is deprecated and may be removed in a future version. \n",
            "WARNING:root:Loading a checkpoint with a 'probe' key. This is deprecated and may be removed in a future version. \n",
            "WARNING:root:Loading a checkpoint with a 'probe' key. This is deprecated and may be removed in a future version. \n",
            "WARNING:root:Loading a checkpoint with a 'probe' key. This is deprecated and may be removed in a future version. \n",
            "WARNING:root:Loading a checkpoint with a 'probe' key. This is deprecated and may be removed in a future version. \n",
            "WARNING:root:Loading a checkpoint with a 'probe' key. This is deprecated and may be removed in a future version. \n",
            "WARNING:root:Loading a checkpoint with a 'probe' key. This is deprecated and may be removed in a future version. \n",
            "WARNING:root:Loading a checkpoint with a 'probe' key. This is deprecated and may be removed in a future version. \n",
            "WARNING:root:Loading a checkpoint with a 'probe' key. This is deprecated and may be removed in a future version. \n",
            "WARNING:root:Loading a checkpoint with a 'probe' key. This is deprecated and may be removed in a future version. \n",
            "WARNING:root:Loading a checkpoint with a 'probe' key. This is deprecated and may be removed in a future version. \n",
            "WARNING:root:Loading a checkpoint with a 'probe' key. This is deprecated and may be removed in a future version. \n",
            "WARNING:root:Loading a checkpoint with a 'probe' key. This is deprecated and may be removed in a future version. \n",
            "WARNING:root:Loading a checkpoint with a 'probe' key. This is deprecated and may be removed in a future version. \n",
            "WARNING:root:Loading a checkpoint with a 'probe' key. This is deprecated and may be removed in a future version. \n",
            "WARNING:root:Loading a checkpoint with a 'probe' key. This is deprecated and may be removed in a future version. \n",
            "WARNING:root:Loading a checkpoint with a 'probe' key. This is deprecated and may be removed in a future version. \n"
          ]
        }
      ],
      "source": [
        "import torch\n",
        "from tuned_lens.nn.lenses import TunedLens, LogitLens\n",
        "from transformers import AutoModelForCausalLM, AutoTokenizer\n",
        "\n",
        "device = torch.device('cpu')\n",
        "# To try a diffrent modle / lens check if the lens is avalible then modify this code\n",
        "model = AutoModelForCausalLM.from_pretrained('gpt2-large')\n",
        "model = model.to(device)\n",
        "tokenizer = AutoTokenizer.from_pretrained('gpt2-large')\n",
        "tuned_lens = TunedLens.load(\"gpt2-large\", map_location=device)\n",
        "tuned_lens = tuned_lens.to(device)\n",
        "logit_lens = LogitLens(model)"
      ]
    },
    {
      "cell_type": "code",
      "execution_count": 3,
      "metadata": {
        "id": "z9AhuLaDBDRN"
      },
      "outputs": [],
      "source": [
        "try:\n",
        "  from google.colab import output\n",
        "  output.enable_custom_widget_manager()\n",
        "except:\n",
        "  pass"
      ]
    },
    {
      "cell_type": "code",
      "execution_count": 4,
      "metadata": {
        "id": "DL8f4i2828lm",
        "scrolled": true
      },
      "outputs": [
        {
          "data": {
            "application/vnd.jupyter.widget-view+json": {
              "model_id": "e0e36a5dba174fc3a321ee03cb50397a",
              "version_major": 2,
              "version_minor": 0
            },
            "text/plain": [
              "interactive(children=(Dropdown(description='Select Lens:', options=(('Tuned Lens', TunedLens(\n",
              "  (extra_layers)…"
            ]
          },
          "metadata": {},
          "output_type": "display_data"
        },
        {
          "data": {
            "application/vnd.plotly.v1+json": {
              "config": {
                "plotlyServerURL": "https://plot.ly"
              },
              "data": [
                {
                  "colorbar": {
                    "title": {
                      "side": "right",
                      "text": "Entropy (nats)"
                    }
                  },
                  "colorscale": [
                    [
                      0,
                      "rgb(5,48,97)"
                    ],
                    [
                      0.1,
                      "rgb(33,102,172)"
                    ],
                    [
                      0.2,
                      "rgb(67,147,195)"
                    ],
                    [
                      0.3,
                      "rgb(146,197,222)"
                    ],
                    [
                      0.4,
                      "rgb(209,229,240)"
                    ],
                    [
                      0.5,
                      "rgb(247,247,247)"
                    ],
                    [
                      0.6,
                      "rgb(253,219,199)"
                    ],
                    [
                      0.7,
                      "rgb(244,165,130)"
                    ],
                    [
                      0.8,
                      "rgb(214,96,77)"
                    ],
                    [
                      0.9,
                      "rgb(178,24,43)"
                    ],
                    [
                      1,
                      "rgb(103,0,31)"
                    ]
                  ],
                  "customdata": [
                    [
                      [
                        "it 13.16%",
                        "\\n 3.80%",
                        ", 2.85%",
                        ". 2.66%",
                        "_of 1.43%",
                        "_to 1.25%",
                        "- 1.07%",
                        "_the 1.01%",
                        "_is 0.87%",
                        "_ 0.83%"
                      ],
                      [
                        "_the 9.26%",
                        "_was 7.37%",
                        "_a 3.77%",
                        "_of 1.73%",
                        "_to 1.64%",
                        ", 1.45%",
                        ". 1.17%",
                        "\\n 1.13%",
                        "_is 1.00%",
                        "_it 0.85%"
                      ],
                      [
                        "_the 6.27%",
                        "_a 1.25%",
                        "_court 0.84%",
                        "_two 0.59%",
                        "_gener… 0.46%",
                        "_of 0.46%",
                        "_much 0.42%",
                        "_need 0.39%",
                        "_new 0.37%",
                        "_it 0.37%"
                      ],
                      [
                        ". 4.19%",
                        "_of 4.11%",
                        ", 4.04%",
                        "_the 3.16%",
                        "_to 3.11%",
                        "_best 2.46%",
                        "_and 1.31%",
                        "_in 1.30%",
                        "_a 1.30%",
                        "- 1.13%"
                      ],
                      [
                        "_the 25.60%",
                        "_a 5.37%",
                        "_of 5.09%",
                        "_to 1.08%",
                        "_it 0.87%",
                        "_this 0.80%",
                        "\\n 0.74%",
                        ", 0.74%",
                        "_an 0.69%",
                        "_two 0.68%"
                      ],
                      [
                        "_times 81.28%",
                        ", 2.23%",
                        ". 1.61%",
                        "_of 1.14%",
                        "_to 0.83%",
                        "_and 0.56%",
                        "_the 0.44%",
                        "- 0.39%",
                        "_in 0.38%",
                        "_for 0.27%"
                      ],
                      [
                        "_the 8.21%",
                        ", 3.68%",
                        "_a 3.11%",
                        "\\n 1.77%",
                        "_it 1.39%",
                        "_I 1.28%",
                        "_we 1.25%",
                        "_and 1.11%",
                        "_to 0.85%",
                        ". 0.82%"
                      ],
                      [
                        "_it 16.96%",
                        "_the 5.06%",
                        "_was 2.18%",
                        ", 2.09%",
                        "_a 1.96%",
                        "_is 1.81%",
                        "_to 1.55%",
                        "_of 1.51%",
                        "_they 1.36%",
                        ". 1.09%"
                      ],
                      [
                        "_was 18.29%",
                        "_the 6.42%",
                        "_a 3.57%",
                        ", 2.46%",
                        "_to 2.14%",
                        "_is 1.99%",
                        "_of 1.56%",
                        "_in 1.22%",
                        ". 1.22%",
                        "_it 1.11%"
                      ],
                      [
                        "_the 4.99%",
                        "_a 1.22%",
                        "_two 0.80%",
                        "_need 0.54%",
                        "_it 0.53%",
                        "_gener… 0.52%",
                        "_of 0.44%",
                        "_state 0.43%",
                        "_name 0.39%",
                        "_they 0.38%"
                      ],
                      [
                        ", 10.70%",
                        ". 9.05%",
                        "_of 6.52%",
                        "_worst 3.45%",
                        "_to 3.07%",
                        "- 2.96%",
                        "_in 2.46%",
                        "_and 2.00%",
                        "_for 1.19%",
                        "_the 1.04%"
                      ],
                      [
                        "_the 19.58%",
                        "_of 6.04%",
                        "_a 5.25%",
                        "_it 1.28%",
                        "_to 1.09%",
                        ", 1.05%",
                        "\\n 0.84%",
                        "_this 0.71%",
                        "_they 0.70%",
                        "_an 0.67%"
                      ],
                      [
                        "_times 48.01%",
                        ", 5.07%",
                        ". 4.18%",
                        "_of 2.94%",
                        "_to 1.88%",
                        "- 1.31%",
                        "_the 1.26%",
                        "_and 1.23%",
                        "_in 1.08%",
                        "\\n 0.71%"
                      ]
                    ],
                    [
                      [
                        "Âł 0.33%",
                        "tered 0.31%",
                        "angle 0.21%",
                        "ite 0.18%",
                        "ous 0.17%",
                        "hesis 0.16%",
                        "res 0.13%",
                        "nt 0.13%",
                        "icide 0.11%",
                        "itable 0.11%"
                      ],
                      [
                        "_a 4.00%",
                        "_the 3.48%",
                        "_not 2.25%",
                        "_to 1.44%",
                        "_in 1.21%",
                        ", 1.04%",
                        ". 0.98%",
                        "_an 0.68%",
                        "_one 0.66%",
                        "_that 0.66%"
                      ],
                      [
                        "_the 2.78%",
                        "_a 0.78%",
                        ". 0.76%",
                        "\\n 0.69%",
                        ", 0.61%",
                        "_other 0.48%",
                        "_to 0.43%",
                        "_right 0.41%",
                        "_in 0.38%",
                        "_first 0.35%"
                      ],
                      [
                        "_of 2.72%",
                        ", 2.60%",
                        ". 2.51%",
                        "_to 2.44%",
                        "_in 1.29%",
                        "_and 0.94%",
                        "_for 0.92%",
                        "- 0.80%",
                        "_as 0.78%",
                        "_best 0.71%"
                      ],
                      [
                        "_the 12.95%",
                        "_a 2.39%",
                        "_this 0.96%",
                        "_his 0.85%",
                        ". 0.79%",
                        ", 0.73%",
                        "_my 0.69%",
                        "_of 0.56%",
                        "_that 0.55%",
                        "_these 0.55%"
                      ],
                      [
                        ", 8.31%",
                        ". 5.35%",
                        "_of 3.68%",
                        "_to 3.40%",
                        "_in 3.35%",
                        "_and 2.45%",
                        "_the 2.10%",
                        "_that 1.80%",
                        "_( 1.49%",
                        "- 1.39%"
                      ],
                      [
                        "_the 5.96%",
                        "_and 5.46%",
                        "_I 2.55%",
                        "_a 2.05%",
                        ". 1.64%",
                        ", 1.63%",
                        "\\n 1.60%",
                        "_to 1.33%",
                        "_you 1.05%",
                        "_with 1.03%"
                      ],
                      [
                        "_is 8.10%",
                        "_was 7.04%",
                        ". 6.97%",
                        "'s 5.50%",
                        ", 5.24%",
                        "_to 2.01%",
                        "_will 1.44%",
                        "_has 1.42%",
                        "_and 1.20%",
                        "_would 1.19%"
                      ],
                      [
                        "_a 5.08%",
                        "_the 3.90%",
                        "_not 3.69%",
                        "_to 1.55%",
                        "_in 1.33%",
                        "_also 1.03%",
                        "_an 0.99%",
                        ", 0.91%",
                        "_that 0.87%",
                        "_one 0.76%"
                      ],
                      [
                        "_the 3.23%",
                        "_other 1.02%",
                        "_right 0.97%",
                        ". 0.82%",
                        "_most 0.81%",
                        "_a 0.73%",
                        "_way 0.62%",
                        "_\" 0.54%",
                        "\\n 0.47%",
                        "_fact 0.47%"
                      ],
                      [
                        ", 4.59%",
                        "_of 3.01%",
                        ". 2.75%",
                        "_in 1.89%",
                        "_to 1.82%",
                        ".\" 1.20%",
                        "_for 1.12%",
                        "_and 1.11%",
                        "_the 0.95%",
                        "_as 0.88%"
                      ],
                      [
                        "_the 22.35%",
                        "_a 3.24%",
                        "_his 2.68%",
                        "_this 1.52%",
                        "_my 1.38%",
                        "_that 1.16%",
                        "_it 1.15%",
                        "_\" 1.10%",
                        ". 0.97%",
                        ", 0.95%"
                      ],
                      [
                        ", 11.07%",
                        ". 6.42%",
                        "_in 4.86%",
                        "_of 4.05%",
                        "_to 3.77%",
                        "_and 3.10%",
                        "_that 2.21%",
                        "_the 2.11%",
                        "- 1.83%",
                        "_for 1.50%"
                      ]
                    ],
                    [
                      [
                        "is 0.50%",
                        "in 0.46%",
                        "it 0.44%",
                        ", 0.43%",
                        "- 0.39%",
                        "_I 0.37%",
                        "_y 0.35%",
                        "se 0.31%",
                        "at 0.31%",
                        "ine 0.31%"
                      ],
                      [
                        "_a 4.82%",
                        "_the 3.50%",
                        "_not 2.02%",
                        "_to 1.53%",
                        "_in 1.34%",
                        ", 1.01%",
                        "_an 0.99%",
                        ". 0.82%",
                        "_at 0.68%",
                        "_that 0.63%"
                      ],
                      [
                        "_the 1.61%",
                        "\\n 1.27%",
                        "_right 0.58%",
                        "_world 0.50%",
                        "_first 0.50%",
                        ". 0.46%",
                        "_a 0.46%",
                        "_\" 0.46%",
                        "_two 0.44%",
                        "_I 0.38%"
                      ],
                      [
                        "_to 2.50%",
                        "_of 2.01%",
                        "_way 1.76%",
                        ". 1.51%",
                        ", 1.43%",
                        "_for 0.98%",
                        "_in 0.93%",
                        "_possi… 0.81%",
                        "_use 0.78%",
                        "_time 0.78%"
                      ],
                      [
                        "_the 14.44%",
                        "_a 2.50%",
                        "_his 1.23%",
                        "_this 1.04%",
                        "_these 0.62%",
                        "_what 0.59%",
                        "\\n 0.56%",
                        "_an 0.55%",
                        "_their 0.54%",
                        "_that 0.52%"
                      ],
                      [
                        ", 14.20%",
                        ". 7.09%",
                        "_in 6.17%",
                        "_of 4.27%",
                        "_that 3.65%",
                        "_to 3.30%",
                        "_and 3.17%",
                        "_I 1.95%",
                        "_on 1.91%",
                        "_the 1.85%"
                      ],
                      [
                        "_and 7.73%",
                        "_the 6.75%",
                        "_I 4.11%",
                        "\\n 2.50%",
                        "_a 2.25%",
                        ". 1.93%",
                        "_but 1.78%",
                        ", 1.68%",
                        "_to 1.38%",
                        "_with 1.25%"
                      ],
                      [
                        "_was 8.88%",
                        "_is 8.10%",
                        ". 8.00%",
                        ", 5.65%",
                        "'s 5.36%",
                        "_to 1.64%",
                        "_will 1.52%",
                        "_would 1.38%",
                        "_and 1.24%",
                        "_has 1.18%"
                      ],
                      [
                        "_a 6.76%",
                        "_the 4.64%",
                        "_not 3.28%",
                        "_to 1.69%",
                        "_in 1.50%",
                        "_an 1.49%",
                        "_that 1.23%",
                        ", 1.03%",
                        "_also 0.98%",
                        "_one 0.89%"
                      ],
                      [
                        "_world 1.46%",
                        "_the 1.37%",
                        "_right 1.27%",
                        "_way 1.13%",
                        "_most 0.94%",
                        "_game 0.90%",
                        "_first 0.88%",
                        "_\" 0.88%",
                        "\\n 0.75%",
                        "_last 0.71%"
                      ],
                      [
                        ", 5.20%",
                        ". 3.89%",
                        "_of 2.98%",
                        "_in 2.02%",
                        "_to 1.70%",
                        "_thing 1.58%",
                        ".\" 1.39%",
                        "_possi… 1.38%",
                        "_and 1.21%",
                        "_I 1.06%"
                      ],
                      [
                        "_the 22.76%",
                        "_a 3.66%",
                        "_his 2.72%",
                        "_this 1.37%",
                        "_that 1.04%",
                        "_\" 0.94%",
                        "_what 0.91%",
                        "_all 0.82%",
                        "_course 0.81%",
                        "_it 0.75%"
                      ],
                      [
                        ", 16.04%",
                        ". 8.42%",
                        "_in 6.70%",
                        "_of 4.83%",
                        "_that 4.01%",
                        "_and 3.62%",
                        "_to 2.75%",
                        "_I 1.73%",
                        "- 1.64%",
                        "_on 1.46%"
                      ]
                    ],
                    [
                      [
                        "is 0.93%",
                        "ous 0.90%",
                        ", 0.77%",
                        "in 0.66%",
                        "'s 0.66%",
                        "at 0.65%",
                        "_I 0.53%",
                        "- 0.53%",
                        "ish 0.50%",
                        "Âł 0.49%"
                      ],
                      [
                        "_a 6.66%",
                        "_the 3.83%",
                        "_not 2.48%",
                        "_an 1.38%",
                        "_in 1.31%",
                        "_to 1.27%",
                        ", 0.98%",
                        ". 0.94%",
                        "_also 0.78%",
                        "_alrea… 0.77%"
                      ],
                      [
                        "\\n 1.54%",
                        "_the 1.19%",
                        "_\" 0.79%",
                        "_right 0.75%",
                        "_world 0.73%",
                        "_first 0.62%",
                        "_United 0.62%",
                        "_two 0.51%",
                        "_I 0.46%",
                        "_new 0.44%"
                      ],
                      [
                        "_of 3.52%",
                        "_way 2.85%",
                        "_to 2.02%",
                        "seller 1.79%",
                        ", 1.74%",
                        "iary 1.66%",
                        "- 1.56%",
                        "_thing 1.35%",
                        ". 1.30%",
                        "_in 1.26%"
                      ],
                      [
                        "_the 19.31%",
                        "_a 3.16%",
                        "_his 1.46%",
                        "_this 1.25%",
                        "_course 0.83%",
                        "_these 0.81%",
                        "_what 0.74%",
                        "_an 0.67%",
                        "_our 0.58%",
                        "_all 0.57%"
                      ],
                      [
                        ", 18.91%",
                        ". 8.31%",
                        "_in 6.13%",
                        "_that 4.50%",
                        "_and 4.24%",
                        "_of 3.22%",
                        "_to 2.88%",
                        "_I 1.93%",
                        "_on 1.81%",
                        "_the 1.69%"
                      ],
                      [
                        "_and 10.50%",
                        "_the 6.49%",
                        "_I 4.40%",
                        "_but 3.43%",
                        "\\n 2.75%",
                        "_a 2.59%",
                        "_you 1.39%",
                        "_which 1.28%",
                        ", 1.22%",
                        "_with 1.16%"
                      ],
                      [
                        "_was 11.51%",
                        "_is 9.74%",
                        ". 6.86%",
                        "'s 5.74%",
                        ", 4.87%",
                        "_seems 2.18%",
                        "_would 1.94%",
                        "_will 1.77%",
                        "_has 1.42%",
                        "_to 1.25%"
                      ],
                      [
                        "_a 7.23%",
                        "_the 4.08%",
                        "_not 3.29%",
                        "_an 1.55%",
                        "_to 1.40%",
                        "_in 1.36%",
                        "_that 1.20%",
                        "_going 1.19%",
                        ", 1.11%",
                        "_alrea… 1.10%"
                      ],
                      [
                        "_world 1.24%",
                        "_right 1.10%",
                        "_\" 0.98%",
                        "\\n 0.98%",
                        "_most 0.90%",
                        "_first 0.89%",
                        "_last 0.80%",
                        "_the 0.79%",
                        "_best 0.61%",
                        "_two 0.54%"
                      ],
                      [
                        ", 5.01%",
                        ". 3.35%",
                        "_of 3.33%",
                        "_thing 2.50%",
                        "_to 2.19%",
                        "_in 2.08%",
                        "_possi… 2.06%",
                        "_for 1.61%",
                        ".\" 1.58%",
                        "_part 1.25%"
                      ],
                      [
                        "_the 25.47%",
                        "_a 4.51%",
                        "_his 2.19%",
                        "_this 1.41%",
                        "_course 1.05%",
                        "_these 0.88%",
                        "_an 0.87%",
                        "_what 0.84%",
                        "_all 0.81%",
                        "_them 0.79%"
                      ],
                      [
                        ", 17.38%",
                        ". 9.15%",
                        "_in 5.97%",
                        "_that 4.78%",
                        "_and 4.51%",
                        "_of 2.91%",
                        "_to 2.37%",
                        "_when 2.01%",
                        "_before 1.92%",
                        "_I 1.82%"
                      ]
                    ],
                    [
                      [
                        "ous 0.97%",
                        "is 0.91%",
                        "- 0.91%",
                        "at 0.86%",
                        "in 0.82%",
                        "ine 0.76%",
                        "se 0.73%",
                        "'s 0.72%",
                        "ish 0.67%",
                        "j 0.64%"
                      ],
                      [
                        "_a 6.68%",
                        "_the 3.55%",
                        "_not 2.75%",
                        "_in 1.40%",
                        "_an 1.38%",
                        "_to 1.19%",
                        ", 1.07%",
                        ". 0.98%",
                        "_also 0.92%",
                        "_one 0.73%"
                      ],
                      [
                        "\\n 1.54%",
                        "_the 0.97%",
                        "_world 0.97%",
                        "_\" 0.86%",
                        "_first 0.77%",
                        "_right 0.75%",
                        "_United 0.65%",
                        "_two 0.51%",
                        ". 0.49%",
                        "_best 0.49%"
                      ],
                      [
                        "_of 5.56%",
                        "_way 4.78%",
                        "_to 2.48%",
                        ", 2.33%",
                        "seller 2.02%",
                        "_thing 1.93%",
                        ". 1.83%",
                        "_in 1.78%",
                        "_possi… 1.76%",
                        "- 1.62%"
                      ],
                      [
                        "_the 19.13%",
                        "_a 3.17%",
                        "_his 1.44%",
                        "_this 1.37%",
                        "_course 0.96%",
                        "_these 0.86%",
                        "_what 0.83%",
                        "_an 0.65%",
                        "_that 0.61%",
                        "_our 0.59%"
                      ],
                      [
                        ", 21.64%",
                        ". 13.53%",
                        "_in 5.44%",
                        "_that 5.27%",
                        "_and 4.40%",
                        "_of 2.71%",
                        "_to 2.38%",
                        "_( 1.64%",
                        "_on 1.59%",
                        "_before 1.56%"
                      ],
                      [
                        "_and 8.72%",
                        "_the 5.25%",
                        "_I 3.92%",
                        "_but 3.45%",
                        "\\n 2.30%",
                        "_a 2.27%",
                        "_you 1.48%",
                        "_it 1.23%",
                        "_which 1.11%",
                        "_he 1.10%"
                      ],
                      [
                        "_was 12.29%",
                        "_is 9.53%",
                        ". 6.16%",
                        "'s 5.48%",
                        ", 4.66%",
                        "_seems 2.60%",
                        "_would 2.33%",
                        "_will 1.95%",
                        "_to 1.27%",
                        "_has 1.24%"
                      ],
                      [
                        "_a 7.87%",
                        "_the 4.26%",
                        "_not 3.47%",
                        "_that 1.53%",
                        "_going 1.40%",
                        "_an 1.38%",
                        "_to 1.36%",
                        "_alrea… 1.36%",
                        "_in 1.34%",
                        "_just 1.31%"
                      ],
                      [
                        "_world 1.34%",
                        "_right 1.20%",
                        "_most 1.16%",
                        "_\" 1.07%",
                        "_last 1.03%",
                        "_first 0.97%",
                        "_the 0.76%",
                        "\\n 0.75%",
                        "_way 0.68%",
                        "_best 0.67%"
                      ],
                      [
                        "_thing 4.36%",
                        ". 3.52%",
                        ", 3.46%",
                        "_of 3.10%",
                        "_part 2.62%",
                        "_possi… 2.29%",
                        "_to 2.21%",
                        "_in 1.90%",
                        "_for 1.64%",
                        ".\" 1.35%"
                      ],
                      [
                        "_the 22.07%",
                        "_a 3.91%",
                        "_his 1.93%",
                        "_this 1.42%",
                        "_course 1.19%",
                        "_that 0.95%",
                        "_what 0.91%",
                        "_\" 0.90%",
                        "_these 0.90%",
                        "_people 0.80%"
                      ],
                      [
                        ", 20.57%",
                        ". 15.03%",
                        "_that 5.25%",
                        "_in 4.80%",
                        "_and 4.69%",
                        "_of 2.51%",
                        "_when 1.97%",
                        "_to 1.78%",
                        "_before 1.69%",
                        "_I 1.27%"
                      ]
                    ],
                    [
                      [
                        "ine 1.28%",
                        "se 0.93%",
                        "ish 0.86%",
                        "is 0.80%",
                        "r 0.80%",
                        "- 0.76%",
                        "ra 0.75%",
                        "'s 0.73%",
                        "in 0.72%",
                        "ous 0.67%"
                      ],
                      [
                        "_a 7.40%",
                        "_the 3.81%",
                        "_not 2.68%",
                        "_an 1.53%",
                        ". 1.43%",
                        "_in 1.38%",
                        "_to 1.26%",
                        ", 1.17%",
                        "_also 1.07%",
                        "_one 0.85%"
                      ],
                      [
                        "\\n 1.16%",
                        "_\" 1.07%",
                        "_first 1.00%",
                        "_world 0.93%",
                        "_right 0.85%",
                        "_the 0.85%",
                        "_United 0.67%",
                        ". 0.62%",
                        "_best 0.57%",
                        "_Ameri… 0.52%"
                      ],
                      [
                        "_way 6.50%",
                        "_of 6.18%",
                        "seller 3.99%",
                        "_thing 2.59%",
                        "_to 2.08%",
                        "_possi… 1.88%",
                        ", 1.72%",
                        "_part 1.51%",
                        "iary 1.48%",
                        ". 1.44%"
                      ],
                      [
                        "_the 20.57%",
                        "_a 3.32%",
                        "_this 1.63%",
                        "_his 1.48%",
                        "_course 1.35%",
                        "_what 0.95%",
                        "_these 0.82%",
                        "_that 0.75%",
                        "_all 0.71%",
                        "_an 0.69%"
                      ],
                      [
                        ", 17.43%",
                        ". 10.50%",
                        "_that 7.34%",
                        "_in 5.17%",
                        "_and 4.64%",
                        "_of 3.44%",
                        "_to 3.41%",
                        "_before 2.47%",
                        "_I 1.58%",
                        "_when 1.55%"
                      ],
                      [
                        "_and 7.86%",
                        "_the 5.53%",
                        "_but 4.25%",
                        "_I 3.63%",
                        "_a 2.20%",
                        "\\n 1.49%",
                        "_it 1.27%",
                        "_you 1.19%",
                        "_which 1.16%",
                        "_he 1.11%"
                      ],
                      [
                        "_was 14.42%",
                        "_is 8.82%",
                        "'s 6.57%",
                        ". 5.23%",
                        ", 4.09%",
                        "_would 2.86%",
                        "_seems 2.52%",
                        "_will 2.22%",
                        "_and 1.39%",
                        "_has 1.24%"
                      ],
                      [
                        "_a 7.87%",
                        "_not 3.43%",
                        "_the 3.41%",
                        "_that 1.78%",
                        "_just 1.59%",
                        "_to 1.58%",
                        "_so 1.56%",
                        "_going 1.53%",
                        "_in 1.44%",
                        "_an 1.31%"
                      ],
                      [
                        "_most 1.33%",
                        "_right 1.30%",
                        "_world 1.25%",
                        "_first 1.11%",
                        "_last 1.10%",
                        "_\" 1.05%",
                        "_best 0.98%",
                        "_way 0.86%",
                        "_the 0.53%",
                        "_same 0.48%"
                      ],
                      [
                        "_thing 5.40%",
                        "_of 4.91%",
                        ". 2.92%",
                        ", 2.88%",
                        "_possi… 2.45%",
                        "_part 2.08%",
                        "_to 1.93%",
                        "_in 1.41%",
                        "- 1.31%",
                        "_and 1.27%"
                      ],
                      [
                        "_the 22.22%",
                        "_a 4.09%",
                        "_his 1.97%",
                        "_course 1.56%",
                        "_this 1.53%",
                        "_that 1.05%",
                        "_what 1.05%",
                        "_all 0.87%",
                        "_these 0.83%",
                        "_people 0.83%"
                      ],
                      [
                        ", 15.46%",
                        ". 11.18%",
                        "_that 8.10%",
                        "_and 4.53%",
                        "_in 4.31%",
                        "_of 3.52%",
                        "_to 2.82%",
                        "_before 2.29%",
                        "_when 2.06%",
                        "_I 1.65%"
                      ]
                    ],
                    [
                      [
                        "- 0.86%",
                        "ish 0.62%",
                        "ous 0.50%",
                        "r 0.40%",
                        "Âł 0.40%",
                        "'s 0.40%",
                        "all 0.39%",
                        "/ 0.37%",
                        "ra 0.35%",
                        "_( 0.34%"
                      ],
                      [
                        "_a 9.12%",
                        "_the 4.61%",
                        "_not 2.74%",
                        "_an 1.87%",
                        ". 1.44%",
                        "_in 1.18%",
                        "_to 1.17%",
                        ", 1.03%",
                        "_also 1.00%",
                        "_one 0.90%"
                      ],
                      [
                        "_first 1.59%",
                        "_world 0.97%",
                        "\\n 0.78%",
                        "_United 0.72%",
                        "_\" 0.71%",
                        "_right 0.69%",
                        "_best 0.67%",
                        "_way 0.58%",
                        "_Ameri… 0.58%",
                        "_the 0.53%"
                      ],
                      [
                        "_way 8.19%",
                        "_of 7.66%",
                        "seller 3.25%",
                        "_thing 3.15%",
                        "_to 2.80%",
                        "_part 2.33%",
                        "_possi… 1.91%",
                        ", 1.89%",
                        ". 1.82%",
                        "_chance 1.48%"
                      ],
                      [
                        "_the 17.30%",
                        "_a 2.73%",
                        "_course 2.62%",
                        "_his 1.69%",
                        "_this 1.50%",
                        "_what 0.97%",
                        "_my 0.80%",
                        "_these 0.79%",
                        "_our 0.79%",
                        "_that 0.78%"
                      ],
                      [
                        ", 18.64%",
                        ". 15.15%",
                        "_in 7.36%",
                        "_that 6.62%",
                        "_and 4.86%",
                        "_to 3.15%",
                        "_of 2.32%",
                        "_for 2.16%",
                        "_before 2.06%",
                        "_when 1.53%"
                      ],
                      [
                        "_and 7.05%",
                        "_but 5.26%",
                        "_the 4.84%",
                        "_I 3.49%",
                        "_a 1.96%",
                        "_it 1.34%",
                        "_which 1.19%",
                        "\\n 1.17%",
                        "_you 1.15%",
                        "_he 1.10%"
                      ],
                      [
                        "_was 16.31%",
                        "_is 8.17%",
                        "'s 7.17%",
                        ". 3.97%",
                        "_would 3.47%",
                        ", 3.13%",
                        "_seems 2.83%",
                        "_will 2.59%",
                        "_seemed 1.43%",
                        "_has 1.20%"
                      ],
                      [
                        "_a 8.88%",
                        "_not 3.45%",
                        "_the 3.02%",
                        "_that 1.88%",
                        "_so 1.69%",
                        "_to 1.61%",
                        "_just 1.57%",
                        "_one 1.46%",
                        "_very 1.39%",
                        "_an 1.36%"
                      ],
                      [
                        "_first 1.52%",
                        "_world 1.34%",
                        "_most 1.29%",
                        "_last 1.06%",
                        "_best 1.03%",
                        "_right 1.01%",
                        "_way 0.93%",
                        "_\" 0.72%",
                        "_second 0.59%",
                        "_same 0.54%"
                      ],
                      [
                        "_of 8.33%",
                        "_thing 5.61%",
                        ". 4.32%",
                        "_possi… 3.70%",
                        ", 3.28%",
                        "_part 2.84%",
                        "_to 2.23%",
                        "_and 1.62%",
                        "_in 1.49%",
                        "_for 1.47%"
                      ],
                      [
                        "_the 20.47%",
                        "_a 3.75%",
                        "_course 2.70%",
                        "_his 1.98%",
                        "_this 1.43%",
                        "_people 1.24%",
                        "_what 1.20%",
                        "_that 1.08%",
                        "_my 1.08%",
                        "_all 0.92%"
                      ],
                      [
                        ", 17.87%",
                        ". 16.48%",
                        "_that 6.31%",
                        "_in 6.06%",
                        "_and 4.71%",
                        "_to 2.64%",
                        "_when 2.43%",
                        "_before 2.13%",
                        "_of 1.87%",
                        "_for 1.81%"
                      ]
                    ],
                    [
                      [
                        "Âł 0.80%",
                        "- 0.62%",
                        "/ 0.27%",
                        "1 0.26%",
                        "2 0.24%",
                        "ish 0.23%",
                        "4 0.22%",
                        "_( 0.22%",
                        "3 0.21%",
                        "I 0.20%"
                      ],
                      [
                        "_a 10.27%",
                        "_the 4.73%",
                        "_not 3.60%",
                        "_an 2.22%",
                        ". 1.51%",
                        "_to 1.36%",
                        "_in 1.09%",
                        "_one 1.09%",
                        ", 1.06%",
                        "_also 1.05%"
                      ],
                      [
                        "_first 3.42%",
                        "_best 1.28%",
                        "_world 1.14%",
                        "_last 1.09%",
                        "_way 0.96%",
                        "_\" 0.88%",
                        "_right 0.82%",
                        "_second 0.77%",
                        "_same 0.74%",
                        "_most 0.72%"
                      ],
                      [
                        "_way 15.17%",
                        "_of 7.44%",
                        "_thing 3.24%",
                        "_to 2.92%",
                        "_part 2.83%",
                        "seller 2.50%",
                        "_possi… 2.49%",
                        "_chance 1.81%",
                        "_time 1.61%",
                        "iary 1.43%"
                      ],
                      [
                        "_the 19.79%",
                        "_course 3.61%",
                        "_a 2.77%",
                        "_his 2.37%",
                        "_this 1.72%",
                        "_my 1.44%",
                        "_all 1.23%",
                        "_what 1.09%",
                        "_those 1.08%",
                        "_these 1.04%"
                      ],
                      [
                        ", 16.82%",
                        ". 14.35%",
                        "_in 7.97%",
                        "_that 6.13%",
                        "_and 4.73%",
                        "_to 2.86%",
                        "_for 2.34%",
                        "_I 1.82%",
                        "_when 1.64%",
                        "_before 1.48%"
                      ],
                      [
                        "_and 8.58%",
                        "_but 8.07%",
                        "_the 4.79%",
                        "_I 3.70%",
                        "_a 1.79%",
                        "_it 1.28%",
                        "_he 1.22%",
                        "_in 1.19%",
                        "_which 1.17%",
                        "_with 1.11%"
                      ],
                      [
                        "_was 19.73%",
                        "'s 8.03%",
                        "_is 7.76%",
                        "_would 3.56%",
                        "_seems 3.31%",
                        ". 2.89%",
                        ", 2.07%",
                        "_will 1.97%",
                        "_seemed 1.93%",
                        "_has 1.14%"
                      ],
                      [
                        "_a 8.93%",
                        "_not 3.29%",
                        "_the 2.71%",
                        "_that 2.00%",
                        "_so 1.98%",
                        "_to 1.87%",
                        "_just 1.70%",
                        "_very 1.51%",
                        "_only 1.50%",
                        "_going 1.42%"
                      ],
                      [
                        "_first 2.51%",
                        "_most 1.77%",
                        "_last 1.48%",
                        "_best 1.35%",
                        "_way 1.20%",
                        "_world 1.11%",
                        "_right 0.93%",
                        "_second 0.77%",
                        "_whole 0.76%",
                        "_same 0.76%"
                      ],
                      [
                        "_of 8.06%",
                        "_thing 6.38%",
                        "_possi… 4.48%",
                        ". 3.69%",
                        "_part 2.81%",
                        ", 2.64%",
                        "_case 2.42%",
                        "_to 1.95%",
                        "_and 1.35%",
                        "_in 1.31%"
                      ],
                      [
                        "_the 19.71%",
                        "_course 4.22%",
                        "_a 3.44%",
                        "_his 2.39%",
                        "_my 2.05%",
                        "_this 1.59%",
                        "_those 1.38%",
                        "_all 1.38%",
                        "_what 1.15%",
                        "_people 1.09%"
                      ],
                      [
                        ". 16.72%",
                        ", 15.20%",
                        "_in 6.78%",
                        "_that 6.55%",
                        "_and 4.04%",
                        "_when 2.50%",
                        "_to 2.46%",
                        "_for 2.05%",
                        "_I 1.90%",
                        "_before 1.70%"
                      ]
                    ],
                    [
                      [
                        "Âł 0.15%",
                        "- 0.12%",
                        "all 0.06%",
                        "/ 0.05%",
                        "ish 0.05%",
                        "4 0.05%",
                        "one 0.05%",
                        "1 0.05%",
                        "_ 0.05%",
                        "_Âł 0.05%"
                      ],
                      [
                        "_a 8.94%",
                        "_not 4.75%",
                        "_the 2.98%",
                        "_an 2.04%",
                        "_also 1.48%",
                        ". 1.44%",
                        "_to 1.29%",
                        "_one 1.13%",
                        "_in 0.95%",
                        ", 0.88%"
                      ],
                      [
                        "_first 7.19%",
                        "_best 1.90%",
                        "_second 1.87%",
                        "_last 1.81%",
                        "_same 1.39%",
                        "_world 1.30%",
                        "_way 1.15%",
                        "_right 0.92%",
                        "_most 0.87%",
                        "_\" 0.81%"
                      ],
                      [
                        "_way 18.02%",
                        "_of 8.30%",
                        "_thing 3.39%",
                        "_to 3.07%",
                        "_possi… 2.75%",
                        "_part 1.93%",
                        ". 1.90%",
                        ", 1.79%",
                        "_chance 1.62%",
                        "_in 1.53%"
                      ],
                      [
                        "_the 19.59%",
                        "_course 4.53%",
                        "_this 2.24%",
                        "_his 2.17%",
                        "_a 2.10%",
                        "_all 1.64%",
                        "_my 1.32%",
                        "_those 1.11%",
                        "_what 1.07%",
                        "_that 1.01%"
                      ],
                      [
                        ", 19.28%",
                        ". 13.28%",
                        "_in 6.99%",
                        "_that 5.60%",
                        "_and 4.11%",
                        "_to 3.02%",
                        "_when 2.74%",
                        "_for 2.25%",
                        "_before 1.87%",
                        "_with 1.46%"
                      ],
                      [
                        "_but 12.95%",
                        "_and 10.80%",
                        "_the 3.64%",
                        "_I 3.40%",
                        "_with 1.59%",
                        "_a 1.57%",
                        "_in 1.38%",
                        "_he 1.30%",
                        "_so 1.18%",
                        "_you 1.12%"
                      ],
                      [
                        "_was 19.20%",
                        "'s 12.28%",
                        "_is 8.29%",
                        "_would 3.82%",
                        "_seems 3.18%",
                        "_will 1.96%",
                        ". 1.95%",
                        "_has 1.62%",
                        ", 1.34%",
                        "_seemed 1.25%"
                      ],
                      [
                        "_a 7.71%",
                        "_not 3.28%",
                        "_the 1.87%",
                        "_very 1.72%",
                        "_so 1.65%",
                        "_that 1.64%",
                        "_going 1.62%",
                        "_only 1.59%",
                        "_like 1.59%",
                        "_just 1.54%"
                      ],
                      [
                        "_first 3.31%",
                        "_best 1.67%",
                        "_most 1.64%",
                        "_last 1.56%",
                        "_perfe… 1.32%",
                        "_world 1.23%",
                        "_second 1.22%",
                        "_only 1.22%",
                        "_way 1.14%",
                        "_same 1.13%"
                      ],
                      [
                        "_of 7.27%",
                        "_thing 6.68%",
                        ". 4.76%",
                        "_possi… 3.99%",
                        ", 2.74%",
                        "_part 2.41%",
                        "_case 1.92%",
                        "_to 1.84%",
                        "_and 1.69%",
                        "_in 1.26%"
                      ],
                      [
                        "_the 16.21%",
                        "_course 4.83%",
                        "_a 2.79%",
                        "_this 1.94%",
                        "_his 1.84%",
                        "_my 1.75%",
                        "_all 1.60%",
                        "_that 1.39%",
                        "_them 1.34%",
                        "_what 1.24%"
                      ],
                      [
                        ". 18.84%",
                        ", 15.00%",
                        "_in 5.63%",
                        "_that 5.36%",
                        "_when 3.44%",
                        "_and 3.24%",
                        "_to 2.42%",
                        "_for 2.08%",
                        "_before 1.86%",
                        "_I 1.61%"
                      ]
                    ],
                    [
                      [
                        "- 0.04%",
                        "Âł 0.04%",
                        "_Me 0.03%",
                        "all 0.03%",
                        "z 0.03%",
                        "rd 0.03%",
                        "+ 0.02%",
                        "_Don 0.02%",
                        "ľ 0.02%",
                        "ten 0.02%"
                      ],
                      [
                        "_a 9.54%",
                        "_not 5.55%",
                        "_the 3.65%",
                        "_an 2.09%",
                        "_also 1.72%",
                        "_one 1.59%",
                        "_to 1.07%",
                        ". 1.06%",
                        "_in 0.90%",
                        "_still 0.78%"
                      ],
                      [
                        "_first 12.41%",
                        "_best 3.24%",
                        "_same 2.53%",
                        "_last 2.52%",
                        "_second 1.69%",
                        "_most 1.32%",
                        "_way 1.25%",
                        "_world 1.21%",
                        "_right 0.97%",
                        "_main 0.95%"
                      ],
                      [
                        "_way 18.96%",
                        "_of 8.27%",
                        "_thing 4.06%",
                        "_possi… 2.97%",
                        "_part 2.24%",
                        "_to 2.06%",
                        "_chance 1.68%",
                        "_time 1.60%",
                        ", 1.52%",
                        "_in 1.36%"
                      ],
                      [
                        "_the 16.93%",
                        "_course 3.76%",
                        "_his 3.29%",
                        "_this 3.07%",
                        "_a 1.98%",
                        "_all 1.73%",
                        "_my 1.44%",
                        "_these 1.29%",
                        "_our 1.18%",
                        "_those 1.11%"
                      ],
                      [
                        ", 20.72%",
                        ". 15.38%",
                        "_in 5.14%",
                        "_that 5.01%",
                        "_and 4.14%",
                        "_for 3.76%",
                        "_when 2.96%",
                        "_to 2.88%",
                        ".\" 2.04%",
                        "_with 1.98%"
                      ],
                      [
                        "_but 20.42%",
                        "_and 12.28%",
                        "_I 2.90%",
                        "_the 2.69%",
                        "_with 1.75%",
                        "_in 1.41%",
                        "_so 1.38%",
                        "_he 1.20%",
                        "_that 1.15%",
                        "_a 1.09%"
                      ],
                      [
                        "_was 19.99%",
                        "'s 12.57%",
                        "_is 8.36%",
                        "_would 5.65%",
                        "_seems 2.89%",
                        "_will 2.74%",
                        "_has 1.83%",
                        "_had 1.34%",
                        "_could 1.30%",
                        "_seemed 1.17%"
                      ],
                      [
                        "_a 9.14%",
                        "_not 3.72%",
                        "_going 2.14%",
                        "_just 1.96%",
                        "_very 1.92%",
                        "_so 1.78%",
                        "_only 1.76%",
                        "_the 1.72%",
                        "_like 1.68%",
                        "_that 1.64%"
                      ],
                      [
                        "_first 4.23%",
                        "_last 1.74%",
                        "_most 1.62%",
                        "_best 1.47%",
                        "_second 1.45%",
                        "_way 1.44%",
                        "_world 1.39%",
                        "_only 1.32%",
                        "_perfe… 1.26%",
                        "_whole 1.15%"
                      ],
                      [
                        "_of 7.04%",
                        "_thing 6.45%",
                        ". 5.09%",
                        "_possi… 4.96%",
                        ", 3.39%",
                        "_and 2.41%",
                        "_part 2.40%",
                        ".\" 1.65%",
                        "_case 1.49%",
                        "_to 1.45%"
                      ],
                      [
                        "_the 16.02%",
                        "_course 3.27%",
                        "_my 2.57%",
                        "_a 2.46%",
                        "_his 2.35%",
                        "_this 2.16%",
                        "_all 1.84%",
                        "_what 1.59%",
                        "_our 1.44%",
                        "_them 1.31%"
                      ],
                      [
                        ". 23.00%",
                        ", 13.93%",
                        "_that 6.22%",
                        "_in 4.09%",
                        "_when 3.30%",
                        "_and 2.93%",
                        "_for 2.89%",
                        "_to 2.70%",
                        ".\" 2.49%",
                        "_with 1.63%"
                      ]
                    ],
                    [
                      [
                        "ľ 0.06%",
                        "ī 0.03%",
                        "Ľ 0.03%",
                        "Ŀ 0.03%",
                        "_Il 0.03%",
                        "rd 0.03%",
                        "_Me 0.02%",
                        "¬ 0.02%",
                        "z 0.02%",
                        "ŀ 0.02%"
                      ],
                      [
                        "_a 7.44%",
                        "_not 4.84%",
                        "_the 3.22%",
                        "_an 1.87%",
                        "_also 1.69%",
                        "_one 1.27%",
                        "_to 1.13%",
                        "_like 0.89%",
                        "_about 0.76%",
                        "_in 0.75%"
                      ],
                      [
                        "_first 18.84%",
                        "_last 3.73%",
                        "_same 2.62%",
                        "_best 2.26%",
                        "_most 2.09%",
                        "_second 1.54%",
                        "_perfe… 1.27%",
                        "_only 1.03%",
                        "_begin… 0.99%",
                        "_way 0.97%"
                      ],
                      [
                        "_way 14.47%",
                        "_of 9.70%",
                        "_thing 5.50%",
                        "_possi… 1.98%",
                        "_part 1.93%",
                        "seller 1.81%",
                        "_to 1.77%",
                        "_chance 1.68%",
                        ", 1.59%",
                        "_time 1.51%"
                      ],
                      [
                        "_the 24.01%",
                        "_all 3.61%",
                        "_this 2.95%",
                        "_a 2.41%",
                        "_course 2.10%",
                        "_his 1.92%",
                        "_that 1.53%",
                        "_my 1.41%",
                        "_being 1.41%",
                        "_those 1.17%"
                      ],
                      [
                        ", 26.94%",
                        ". 17.97%",
                        "_and 6.44%",
                        "_that 3.91%",
                        "_in 3.83%",
                        "_for 3.58%",
                        "_when 3.06%",
                        ".\" 2.91%",
                        "_with 2.59%",
                        "_to 2.00%"
                      ],
                      [
                        "_but 19.70%",
                        "_and 9.73%",
                        "_I 3.27%",
                        "_the 3.10%",
                        "_so 1.57%",
                        "_with 1.54%",
                        "_in 1.54%",
                        "_it 1.29%",
                        "_though 1.28%",
                        "_that 1.24%"
                      ],
                      [
                        "_was 16.93%",
                        "'s 14.27%",
                        "_is 6.86%",
                        "_would 6.65%",
                        "_will 3.24%",
                        "_seems 2.65%",
                        "_has 1.77%",
                        "_had 1.28%",
                        "_could 1.16%",
                        "_must 1.15%"
                      ],
                      [
                        "_a 8.78%",
                        "_not 3.73%",
                        "_very 2.36%",
                        "_just 2.24%",
                        "_like 2.14%",
                        "_going 2.07%",
                        "_only 1.94%",
                        "_so 1.76%",
                        "_the 1.57%",
                        "_that 1.47%"
                      ],
                      [
                        "_first 5.07%",
                        "_last 2.55%",
                        "_most 2.39%",
                        "_way 2.02%",
                        "_same 1.87%",
                        "_second 1.58%",
                        "_perfe… 1.53%",
                        "_best 1.52%",
                        "_only 1.50%",
                        "_right 1.18%"
                      ],
                      [
                        "_thing 8.01%",
                        "_of 7.39%",
                        ". 5.34%",
                        ", 2.84%",
                        "_possi… 2.67%",
                        "_part 2.59%",
                        "_and 1.96%",
                        ".\" 1.77%",
                        "_case 1.40%",
                        "_kind 1.29%"
                      ],
                      [
                        "_the 25.91%",
                        "_a 3.19%",
                        "_all 2.89%",
                        "_this 2.03%",
                        "_course 1.93%",
                        "_his 1.87%",
                        "_my 1.76%",
                        "_what 1.57%",
                        "_that 1.51%",
                        "_our 1.25%"
                      ],
                      [
                        ". 28.34%",
                        ", 21.44%",
                        "_that 5.04%",
                        "_in 3.70%",
                        "_and 3.54%",
                        "_when 3.30%",
                        ".\" 3.15%",
                        "_for 2.75%",
                        "_with 1.98%",
                        "_to 1.95%"
                      ]
                    ],
                    [
                      [
                        "ľ 0.07%",
                        "Ľ 0.04%",
                        "ī 0.03%",
                        "Ŀ 0.03%",
                        "ŀ 0.03%",
                        "_Il 0.03%",
                        "rd 0.03%",
                        "¬ 0.03%",
                        "ĳ 0.03%",
                        "zing 0.02%"
                      ],
                      [
                        "_a 7.21%",
                        "_not 6.91%",
                        "_the 3.21%",
                        "_an 1.74%",
                        "_one 1.51%",
                        "_also 1.37%",
                        "_to 1.31%",
                        "_like 0.95%",
                        "_no 0.91%",
                        "_about 0.82%"
                      ],
                      [
                        "_first 25.25%",
                        "_last 7.76%",
                        "_most 2.21%",
                        "_same 1.70%",
                        "_begin… 1.65%",
                        "_best 1.64%",
                        "_second 1.58%",
                        "_perfe… 1.07%",
                        "_way 1.00%",
                        "_wrong 0.98%"
                      ],
                      [
                        "_way 15.14%",
                        "_of 8.11%",
                        "_thing 5.89%",
                        "_part 2.64%",
                        "seller 2.07%",
                        "_possi… 1.75%",
                        "_chance 1.47%",
                        "_to 1.27%",
                        "_one 1.16%",
                        "_time 1.12%"
                      ],
                      [
                        "_the 27.28%",
                        "_all 5.60%",
                        "_this 3.81%",
                        "_a 3.27%",
                        "_course 2.56%",
                        "_his 1.51%",
                        "_my 1.26%",
                        "_those 1.20%",
                        "_what 0.94%",
                        "_them 0.87%"
                      ],
                      [
                        ", 33.98%",
                        ". 19.91%",
                        "_and 8.44%",
                        "_for 4.57%",
                        ".\" 2.41%",
                        "_that 2.36%",
                        "_with 2.11%",
                        "_in 1.81%",
                        "; 1.69%",
                        "_when 1.51%"
                      ],
                      [
                        "_but 20.57%",
                        "_and 11.00%",
                        "_I 3.08%",
                        "_the 2.89%",
                        "_so 2.23%",
                        "_with 1.94%",
                        "_a 1.28%",
                        "_as 1.21%",
                        "_in 1.18%",
                        "_not 1.09%"
                      ],
                      [
                        "_was 18.73%",
                        "'s 15.58%",
                        "_would 6.09%",
                        "_is 5.90%",
                        "_will 3.12%",
                        "_seems 2.25%",
                        "'ll 1.72%",
                        "_has 1.59%",
                        "_had 1.56%",
                        "_wasn 1.51%"
                      ],
                      [
                        "_a 9.42%",
                        "_not 5.49%",
                        "_just 2.94%",
                        "_going 2.31%",
                        "_like 2.29%",
                        "_very 2.02%",
                        "_only 1.94%",
                        "_the 1.72%",
                        "_so 1.68%",
                        "_still 1.55%"
                      ],
                      [
                        "_first 7.98%",
                        "_last 5.12%",
                        "_way 2.46%",
                        "_most 2.09%",
                        "_only 2.04%",
                        "_same 1.96%",
                        "_perfe… 1.88%",
                        "_second 1.65%",
                        "_right 1.45%",
                        "_best 1.31%"
                      ],
                      [
                        "_thing 6.37%",
                        ". 6.37%",
                        "_of 5.30%",
                        "_part 4.25%",
                        ", 3.17%",
                        "_possi… 2.39%",
                        "_and 2.07%",
                        ".\" 1.87%",
                        "_kind 1.38%",
                        "_mista… 1.31%"
                      ],
                      [
                        "_the 24.73%",
                        "_a 3.73%",
                        "_all 3.33%",
                        "_course 2.95%",
                        "_this 2.72%",
                        "_what 2.36%",
                        "_his 1.81%",
                        "_my 1.70%",
                        "_them 1.46%",
                        "_our 1.29%"
                      ],
                      [
                        ". 29.92%",
                        ", 29.74%",
                        "_and 4.16%",
                        "_that 3.77%",
                        ".\" 3.34%",
                        "_for 2.54%",
                        "_in 2.01%",
                        "_when 1.61%",
                        "_to 1.58%",
                        "_with 1.43%"
                      ]
                    ],
                    [
                      [
                        "ľ 0.07%",
                        "ī 0.03%",
                        "Ľ 0.03%",
                        "rd 0.03%",
                        "Ŀ 0.03%",
                        "¬ 0.03%",
                        "ŀ 0.03%",
                        "ĳ 0.02%",
                        "_Il 0.02%",
                        "zing 0.02%"
                      ],
                      [
                        "_a 8.00%",
                        "_not 7.97%",
                        "_the 4.12%",
                        "_an 1.75%",
                        "_one 1.47%",
                        "_to 1.36%",
                        "_about 1.16%",
                        "_like 1.04%",
                        "_also 1.04%",
                        "_so 0.80%"
                      ],
                      [
                        "_first 19.42%",
                        "_last 7.27%",
                        "_most 2.84%",
                        "_begin… 2.13%",
                        "_best 1.89%",
                        "_same 1.79%",
                        "_second 1.54%",
                        "_only 1.38%",
                        "_perfe… 1.11%",
                        "_main 1.05%"
                      ],
                      [
                        "_way 14.46%",
                        "_of 7.41%",
                        "_thing 6.15%",
                        "_possi… 1.85%",
                        "_part 1.67%",
                        "seller 1.58%",
                        "_one 1.54%",
                        "_chance 1.32%",
                        "_to 1.24%",
                        "_choice 1.23%"
                      ],
                      [
                        "_the 26.74%",
                        "_all 8.66%",
                        "_this 5.38%",
                        "_a 3.17%",
                        "_course 3.00%",
                        "_my 1.46%",
                        "_luck 1.34%",
                        "_his 1.03%",
                        "_those 0.89%",
                        "_them 0.84%"
                      ],
                      [
                        ", 24.67%",
                        ". 14.28%",
                        "_and 7.73%",
                        "_for 6.47%",
                        "_that 4.33%",
                        "_with 2.89%",
                        ".\" 2.68%",
                        "_in 2.41%",
                        "_when 1.79%",
                        "_to 1.69%"
                      ],
                      [
                        "_but 25.58%",
                        "_and 9.94%",
                        "_I 3.27%",
                        "_so 3.16%",
                        "_the 3.10%",
                        "_with 2.21%",
                        "_a 1.38%",
                        "_as 1.38%",
                        "_not 1.29%",
                        "_espec… 1.29%"
                      ],
                      [
                        "_was 19.23%",
                        "'s 18.88%",
                        "_would 8.11%",
                        "_is 4.71%",
                        "_will 2.66%",
                        "'ll 1.99%",
                        "_could 1.70%",
                        "_had 1.64%",
                        "_wasn 1.58%",
                        "_might 1.46%"
                      ],
                      [
                        "_a 15.48%",
                        "_not 6.28%",
                        "_the 2.83%",
                        "_going 2.60%",
                        "_just 2.56%",
                        "_very 1.92%",
                        "_an 1.70%",
                        "_like 1.68%",
                        "_so 1.66%",
                        "_only 1.50%"
                      ],
                      [
                        "_first 8.20%",
                        "_last 3.75%",
                        "_same 3.69%",
                        "_perfe… 2.91%",
                        "_second 2.48%",
                        "_most 2.39%",
                        "_only 1.85%",
                        "_best 1.65%",
                        "_right 1.62%",
                        "_way 1.49%"
                      ],
                      [
                        "_of 23.27%",
                        ". 8.76%",
                        ", 5.14%",
                        "_thing 3.84%",
                        "_and 3.31%",
                        "_part 2.85%",
                        ".\" 2.19%",
                        "_possi… 1.89%",
                        "_in 1.86%",
                        "_to 1.66%"
                      ],
                      [
                        "_the 21.34%",
                        "_this 5.13%",
                        "_all 4.63%",
                        "_a 2.99%",
                        "_what 2.77%",
                        "_course 2.18%",
                        "_my 1.93%",
                        "_them 1.92%",
                        "_that 1.65%",
                        "_our 1.58%"
                      ],
                      [
                        ", 27.21%",
                        ". 25.33%",
                        ".\" 5.20%",
                        "_and 4.09%",
                        "_that 3.27%",
                        "_for 3.26%",
                        "_in 1.91%",
                        "; 1.54%",
                        "_when 1.52%",
                        "_with 1.50%"
                      ]
                    ],
                    [
                      [
                        "ľ 0.07%",
                        "Ŀ 0.03%",
                        "ous 0.03%",
                        "rd 0.03%",
                        "ī 0.03%",
                        "¬ 0.03%",
                        "zing 0.03%",
                        "ator 0.03%",
                        "ĳ 0.03%",
                        "- 0.03%"
                      ],
                      [
                        "_not 7.99%",
                        "_a 7.45%",
                        "_the 3.59%",
                        "_an 1.58%",
                        "_to 1.45%",
                        "_one 1.24%",
                        "_about 1.10%",
                        "_also 1.08%",
                        "_in 0.97%",
                        "_like 0.95%"
                      ],
                      [
                        "_first 19.67%",
                        "_last 11.26%",
                        "_begin… 2.60%",
                        "_most 1.98%",
                        "_best 1.80%",
                        "_only 1.52%",
                        "_second 1.47%",
                        "_same 1.34%",
                        "_perfe… 1.16%",
                        "_chance 0.94%"
                      ],
                      [
                        "_way 13.52%",
                        "_of 7.97%",
                        "_thing 6.31%",
                        "_possi… 2.41%",
                        "_one 1.88%",
                        "_part 1.80%",
                        "_chance 1.47%",
                        "_choice 1.44%",
                        "_time 1.24%",
                        "_in 1.18%"
                      ],
                      [
                        "_the 26.37%",
                        "_all 13.37%",
                        "_this 6.28%",
                        "_a 2.19%",
                        "_my 1.83%",
                        "_our 1.31%",
                        "_his 1.18%",
                        "_us 1.10%",
                        "_those 1.06%",
                        "_what 0.97%"
                      ],
                      [
                        ", 28.16%",
                        ". 13.66%",
                        "_and 9.64%",
                        ".\" 3.26%",
                        "_for 3.08%",
                        "_that 2.57%",
                        "_with 2.14%",
                        "_in 2.11%",
                        "_when 1.79%",
                        "_to 1.67%"
                      ],
                      [
                        "_but 23.20%",
                        "_and 11.86%",
                        "_I 4.92%",
                        "_the 2.82%",
                        "_so 2.64%",
                        "_with 2.52%",
                        "_for 1.50%",
                        "_when 1.44%",
                        "_as 1.40%",
                        "_espec… 1.37%"
                      ],
                      [
                        "'s 24.48%",
                        "_was 18.13%",
                        "_would 7.26%",
                        "_is 4.25%",
                        "_will 2.06%",
                        "'ll 2.02%",
                        "_wasn 1.98%",
                        "_seems 1.73%",
                        "_could 1.56%",
                        "_didn 1.56%"
                      ],
                      [
                        "_a 12.15%",
                        "_not 3.68%",
                        "_the 2.66%",
                        "_going 1.99%",
                        "_very 1.95%",
                        "_like 1.73%",
                        "_an 1.61%",
                        "_pretty 1.58%",
                        "_only 1.50%",
                        "_one 1.49%"
                      ],
                      [
                        "_perfe… 5.58%",
                        "_first 4.84%",
                        "_most 3.17%",
                        "_best 2.93%",
                        "_second 2.70%",
                        "_easie… 2.57%",
                        "_same 2.28%",
                        "_last 1.91%",
                        "_harde… 1.84%",
                        "_chance 1.76%"
                      ],
                      [
                        "_of 17.73%",
                        ", 5.56%",
                        ". 4.87%",
                        "_part 3.52%",
                        "_thing 3.51%",
                        "_and 2.31%",
                        ".\" 1.66%",
                        "_possi… 1.40%",
                        "_for 1.27%",
                        "_in 1.13%"
                      ],
                      [
                        "_the 10.04%",
                        "_all 6.50%",
                        "_my 3.07%",
                        "_this 2.78%",
                        "_course 2.08%",
                        "_that 2.06%",
                        "_it 2.05%",
                        "_us 1.98%",
                        "_them 1.72%",
                        "_what 1.59%"
                      ],
                      [
                        ", 34.26%",
                        ". 20.39%",
                        ".\" 6.69%",
                        "_and 6.66%",
                        "_that 2.27%",
                        "_for 2.26%",
                        "_in 1.78%",
                        "_when 1.39%",
                        ",\" 1.24%",
                        "_âĢĵ 1.16%"
                      ]
                    ],
                    [
                      [
                        "ľ 0.07%",
                        "rd 0.03%",
                        "ĳ 0.03%",
                        "ous 0.03%",
                        "ator 0.03%",
                        "zing 0.03%",
                        "Ŀ 0.03%",
                        "¬ 0.03%",
                        "ī 0.03%",
                        "Ľ 0.02%"
                      ],
                      [
                        "_not 7.70%",
                        "_a 6.91%",
                        "_the 3.40%",
                        "_an 1.57%",
                        "_to 1.34%",
                        "_one 1.15%",
                        "_also 0.92%",
                        "_in 0.88%",
                        "_like 0.84%",
                        "_possi… 0.83%"
                      ],
                      [
                        "_first 18.99%",
                        "_last 8.36%",
                        "_best 3.22%",
                        "_only 2.65%",
                        "_same 2.24%",
                        "_most 2.20%",
                        "_begin… 2.06%",
                        "_second 1.48%",
                        "_wrong 1.30%",
                        "_perfe… 0.98%"
                      ],
                      [
                        "_way 14.25%",
                        "_thing 5.81%",
                        "_of 5.79%",
                        "_possi… 2.34%",
                        "_one 1.71%",
                        "_part 1.53%",
                        "seller 1.42%",
                        "_to 1.37%",
                        "_time 1.30%",
                        "_chance 1.29%"
                      ],
                      [
                        "_the 32.30%",
                        "_all 22.62%",
                        "_this 4.69%",
                        "_a 2.26%",
                        "_my 2.01%",
                        "_them 1.26%",
                        "_our 1.19%",
                        "_those 1.18%",
                        "_us 1.11%",
                        "_his 1.11%"
                      ],
                      [
                        ", 22.64%",
                        ". 10.53%",
                        "_and 8.70%",
                        "_for 3.12%",
                        "_in 2.82%",
                        ".\" 2.76%",
                        "_that 2.75%",
                        "_when 2.53%",
                        "_with 1.92%",
                        "_before 1.85%"
                      ],
                      [
                        "_but 16.72%",
                        "_and 11.49%",
                        "_I 6.21%",
                        "_the 3.93%",
                        "_with 2.90%",
                        "_when 2.34%",
                        "_so 2.27%",
                        "_espec… 1.96%",
                        "_for 1.75%",
                        "_a 1.35%"
                      ],
                      [
                        "'s 20.84%",
                        "_was 20.35%",
                        "_would 6.46%",
                        "_is 4.53%",
                        "'ll 2.61%",
                        "_seems 2.31%",
                        "_seemed 2.01%",
                        "_wasn 1.94%",
                        "_didn 1.74%",
                        "_will 1.72%"
                      ],
                      [
                        "_a 11.07%",
                        "_not 4.17%",
                        "_the 2.59%",
                        "_very 2.54%",
                        "_like 1.86%",
                        "_pretty 1.82%",
                        "_hard 1.75%",
                        "_too 1.74%",
                        "_going 1.72%",
                        "_one 1.65%"
                      ],
                      [
                        "_perfe… 6.77%",
                        "_first 5.29%",
                        "_same 2.74%",
                        "_most 2.71%",
                        "_best 2.59%",
                        "_chance 2.47%",
                        "_second 2.24%",
                        "_easie… 2.09%",
                        "_last 1.75%",
                        "_harde… 1.38%"
                      ],
                      [
                        "_of 14.56%",
                        ", 7.56%",
                        ". 5.84%",
                        "_and 3.53%",
                        "_thing 2.52%",
                        "_part 1.97%",
                        "_I 1.71%",
                        "_for 1.64%",
                        ".\" 1.58%",
                        "_in 1.55%"
                      ],
                      [
                        "_the 9.31%",
                        "_all 6.83%",
                        "_my 5.03%",
                        "_us 4.22%",
                        "_it 4.04%",
                        "_them 2.87%",
                        "_our 2.18%",
                        "_a 2.02%",
                        "_this 1.93%",
                        "_course 1.59%"
                      ],
                      [
                        ", 26.51%",
                        ". 17.70%",
                        ".\" 10.08%",
                        "_and 4.74%",
                        "_that 2.71%",
                        ",\" 2.69%",
                        "_for 2.09%",
                        "_in 1.92%",
                        "; 1.73%",
                        "_when 1.66%"
                      ]
                    ],
                    [
                      [
                        "ľ 0.07%",
                        "rd 0.04%",
                        "ĳ 0.03%",
                        "ish 0.03%",
                        "ī 0.03%",
                        "zing 0.03%",
                        "ous 0.03%",
                        "Ŀ 0.03%",
                        "¬ 0.03%",
                        "Ľ 0.03%"
                      ],
                      [
                        "_not 7.32%",
                        "_a 6.44%",
                        "_the 3.12%",
                        "_to 1.51%",
                        "_an 1.34%",
                        "_one 1.29%",
                        "_in 1.07%",
                        "_also 1.07%",
                        "_like 1.01%",
                        ". 0.86%"
                      ],
                      [
                        "_first 17.13%",
                        "_last 8.42%",
                        "_only 3.03%",
                        "_best 2.87%",
                        "_same 2.45%",
                        "_most 2.28%",
                        "_second 2.21%",
                        "_begin… 1.83%",
                        "_easie… 1.33%",
                        "_third 1.24%"
                      ],
                      [
                        "_way 15.66%",
                        "_thing 5.85%",
                        "_of 4.79%",
                        "_possi… 2.30%",
                        "_part 1.84%",
                        "_one 1.46%",
                        "seller 1.46%",
                        "_to 1.32%",
                        "_time 1.25%",
                        "_for 0.97%"
                      ],
                      [
                        "_the 44.18%",
                        "_all 12.58%",
                        "_a 2.98%",
                        "_this 2.48%",
                        "_my 1.82%",
                        "_his 1.32%",
                        "_them 1.10%",
                        "_those 0.95%",
                        "_it 0.88%",
                        "_its 0.86%"
                      ],
                      [
                        ", 25.57%",
                        ". 9.28%",
                        "_and 7.82%",
                        "_when 3.64%",
                        "_that 3.01%",
                        ".\" 2.96%",
                        "_with 2.82%",
                        "_in 2.79%",
                        "_for 2.78%",
                        "_to 1.60%"
                      ],
                      [
                        "_but 20.37%",
                        "_and 13.44%",
                        "_I 5.18%",
                        "_when 3.79%",
                        "_the 3.71%",
                        "_with 3.39%",
                        "_so 3.32%",
                        "_a 1.73%",
                        "_that 1.61%",
                        "_for 1.58%"
                      ],
                      [
                        "'s 21.15%",
                        "_was 15.96%",
                        "_would 6.92%",
                        "_is 4.71%",
                        "_will 2.53%",
                        "_could 2.48%",
                        "_seems 2.16%",
                        "_can 2.02%",
                        "'ll 1.90%",
                        "_didn 1.89%"
                      ],
                      [
                        "_a 12.74%",
                        "_not 6.19%",
                        "_the 2.99%",
                        "_like 2.60%",
                        "_very 2.01%",
                        "_one 1.86%",
                        "_just 1.83%",
                        "_going 1.53%",
                        "_easy 1.48%",
                        "_hard 1.47%"
                      ],
                      [
                        "_perfe… 8.78%",
                        "_first 4.89%",
                        "_easie… 4.43%",
                        "_most 3.53%",
                        "_second 2.83%",
                        "_best 2.39%",
                        "_same 2.34%",
                        "_harde… 2.25%",
                        "_only 1.77%",
                        "_last 1.45%"
                      ],
                      [
                        "_of 11.53%",
                        ", 6.95%",
                        ". 6.79%",
                        "_and 3.44%",
                        "_thing 2.61%",
                        ".\" 2.07%",
                        "_for 2.05%",
                        "_part 1.80%",
                        "_in 1.57%",
                        "_I 1.54%"
                      ],
                      [
                        "_the 9.93%",
                        "_my 4.38%",
                        "_all 3.98%",
                        "_it 3.91%",
                        "_us 1.76%",
                        "_what 1.74%",
                        "_them 1.70%",
                        "_a 1.62%",
                        "_seeing 1.15%",
                        "_our 1.13%"
                      ],
                      [
                        ", 24.50%",
                        ". 17.97%",
                        ".\" 14.32%",
                        ",\" 6.02%",
                        "_and 2.95%",
                        "; 1.95%",
                        "_when 1.83%",
                        "_âĢĵ 1.83%",
                        "\". 1.61%",
                        "âĢĶ 1.32%"
                      ]
                    ],
                    [
                      [
                        "ľ 0.05%",
                        "rd 0.03%",
                        "ĳ 0.03%",
                        "ī 0.03%",
                        "ous 0.03%",
                        "ish 0.02%",
                        "extra 0.02%",
                        "zing 0.02%",
                        "Ŀ 0.02%",
                        "Ľ 0.02%"
                      ],
                      [
                        "_not 6.87%",
                        "_a 5.56%",
                        "_the 2.32%",
                        "_an 1.37%",
                        "_one 1.33%",
                        ". 1.25%",
                        "_to 1.21%",
                        "_also 1.08%",
                        "_in 1.06%",
                        "_like 0.92%"
                      ],
                      [
                        "_first 11.40%",
                        "_last 5.10%",
                        "_easie… 3.63%",
                        "_same 3.55%",
                        "_best 3.11%",
                        "_only 2.77%",
                        "_begin… 2.52%",
                        "_second 2.43%",
                        "_most 2.41%",
                        "_third 1.17%"
                      ],
                      [
                        "_way 14.40%",
                        "_thing 6.12%",
                        "_of 3.30%",
                        "_possi… 2.51%",
                        "seller 2.19%",
                        "_part 1.98%",
                        "_choice 1.97%",
                        "_time 1.61%",
                        "_chance 1.27%",
                        "_place 1.15%"
                      ],
                      [
                        "_the 32.95%",
                        "_all 22.00%",
                        "_a 2.91%",
                        "_my 2.00%",
                        "_this 1.54%",
                        "_his 1.50%",
                        "_those 1.46%",
                        "_them 1.31%",
                        "_its 0.95%",
                        "_what 0.89%"
                      ],
                      [
                        ", 32.52%",
                        "_and 21.99%",
                        ". 5.89%",
                        "_with 2.68%",
                        "_for 2.57%",
                        "_in 2.31%",
                        "_to 2.06%",
                        "_when 1.48%",
                        "_that 1.35%",
                        ".\" 1.06%"
                      ],
                      [
                        "_but 15.03%",
                        "_and 12.86%",
                        "_I 4.33%",
                        "_when 2.96%",
                        "_so 2.81%",
                        "_the 2.71%",
                        "_with 2.44%",
                        "_for 2.17%",
                        "_that 1.47%",
                        "_it 1.44%"
                      ],
                      [
                        "'s 19.66%",
                        "_was 15.73%",
                        "_would 6.57%",
                        "_is 4.20%",
                        "_will 2.65%",
                        "_could 2.44%",
                        "_wasn 2.04%",
                        "_didn 1.97%",
                        "'ll 1.90%",
                        "_seems 1.79%"
                      ],
                      [
                        "_a 10.85%",
                        "_not 5.10%",
                        "_the 2.45%",
                        "_very 2.11%",
                        "_one 1.97%",
                        "_like 1.87%",
                        "_going 1.64%",
                        "_just 1.49%",
                        "_easy 1.46%",
                        "_hard 1.37%"
                      ],
                      [
                        "_perfe… 9.77%",
                        "_first 3.86%",
                        "_same 3.03%",
                        "_second 2.92%",
                        "_easie… 2.75%",
                        "_most 2.21%",
                        "_best 1.73%",
                        "_begin… 1.72%",
                        "_bigge… 1.58%",
                        "_harde… 1.14%"
                      ],
                      [
                        "_of 12.27%",
                        ", 5.84%",
                        ". 3.91%",
                        "_and 2.72%",
                        "_thing 2.36%",
                        "_possi… 1.82%",
                        "_for 1.53%",
                        ".\" 1.11%",
                        "_part 0.97%",
                        "_day 0.97%"
                      ],
                      [
                        "_the 4.25%",
                        "_my 1.86%",
                        "_it 1.85%",
                        "_them 1.76%",
                        "_all 1.71%",
                        "_us 1.10%",
                        "_what 1.08%",
                        "_every… 0.85%",
                        "_luck 0.83%",
                        "_life 0.82%"
                      ],
                      [
                        ", 25.92%",
                        ". 13.38%",
                        ".\" 11.35%",
                        ",\" 7.05%",
                        "_and 5.14%",
                        "\". 1.98%",
                        "_âĢĵ 1.80%",
                        "_for 1.76%",
                        "; 1.68%",
                        "_when 1.51%"
                      ]
                    ],
                    [
                      [
                        "ľ 0.04%",
                        "rd 0.03%",
                        "ish 0.03%",
                        "ous 0.02%",
                        "hip 0.02%",
                        "zing 0.02%",
                        "extra 0.02%",
                        "ī 0.02%",
                        "ĳ 0.02%",
                        "- 0.02%"
                      ],
                      [
                        "_a 8.27%",
                        "_not 7.15%",
                        "_the 3.50%",
                        "_an 1.94%",
                        "_to 1.54%",
                        "_one 1.35%",
                        "_in 1.24%",
                        ". 1.20%",
                        "_also 1.13%",
                        "_that 0.87%"
                      ],
                      [
                        "_first 9.01%",
                        "_last 8.62%",
                        "_only 3.80%",
                        "_best 3.44%",
                        "_same 3.43%",
                        "_second 2.50%",
                        "_perfe… 2.02%",
                        "_easie… 1.98%",
                        "_most 1.57%",
                        "_begin… 1.09%"
                      ],
                      [
                        "_way 7.63%",
                        "_thing 4.07%",
                        "_of 3.48%",
                        "seller 3.31%",
                        "_choice 2.80%",
                        "_possi… 2.67%",
                        "_time 1.66%",
                        "_part 1.63%",
                        "_chance 1.33%",
                        "_selli… 1.18%"
                      ],
                      [
                        "_the 30.20%",
                        "_all 17.67%",
                        "_a 2.51%",
                        "_my 2.29%",
                        "_his 1.92%",
                        "_both 1.76%",
                        "_them 1.60%",
                        "_this 1.52%",
                        "_those 1.38%",
                        "_its 1.29%"
                      ],
                      [
                        "_and 29.62%",
                        ", 28.46%",
                        ". 4.32%",
                        "_with 4.17%",
                        "_for 3.35%",
                        "_in 3.07%",
                        "_to 2.34%",
                        "_when 1.72%",
                        "_that 1.46%",
                        "_or 0.86%"
                      ],
                      [
                        "_and 28.98%",
                        "_but 8.83%",
                        "_with 2.13%",
                        "_when 2.06%",
                        "_for 1.90%",
                        "_the 1.85%",
                        "_to 1.70%",
                        "_I 1.60%",
                        "_so 1.56%",
                        "_in 1.09%"
                      ],
                      [
                        "'s 41.73%",
                        "_was 14.27%",
                        "_is 3.83%",
                        "_would 2.75%",
                        "'ll 2.43%",
                        "_will 2.27%",
                        "_didn 1.27%",
                        "_could 1.27%",
                        "_wasn 1.25%",
                        "_seems 1.05%"
                      ],
                      [
                        "_a 15.56%",
                        "_the 5.21%",
                        "_not 5.21%",
                        "_one 2.80%",
                        "_going 2.41%",
                        "_easy 2.29%",
                        "_an 1.84%",
                        "_hard 1.82%",
                        "_good 1.80%",
                        "_like 1.16%"
                      ],
                      [
                        "_perfe… 11.12%",
                        "_second 5.80%",
                        "_best 3.69%",
                        "_easie… 2.86%",
                        "_last 2.52%",
                        "_first 2.24%",
                        "_most 2.22%",
                        "_worst 2.00%",
                        "_bigge… 1.85%",
                        "_same 1.44%"
                      ],
                      [
                        "_of 23.38%",
                        ", 11.20%",
                        ". 9.57%",
                        "_and 5.28%",
                        "_for 2.45%",
                        "_in 1.53%",
                        "_to 1.35%",
                        ".\" 1.27%",
                        "_thing 1.23%",
                        "_day 0.99%"
                      ],
                      [
                        "_luck 2.67%",
                        "_the 2.61%",
                        "_them 2.12%",
                        "_my 1.77%",
                        "_those 1.33%",
                        "_it 1.19%",
                        "_all 1.16%",
                        "_this 1.02%",
                        "_us 0.99%",
                        "_what 0.85%"
                      ],
                      [
                        ", 46.12%",
                        ". 15.67%",
                        ".\" 9.97%",
                        ",\" 6.35%",
                        "_and 4.64%",
                        "; 1.98%",
                        "_for 1.01%",
                        "âĢ¦ 0.91%",
                        "\". 0.84%",
                        "... 0.78%"
                      ]
                    ],
                    [
                      [
                        "ľ 0.03%",
                        "rd 0.03%",
                        "ish 0.02%",
                        "hip 0.02%",
                        "ous 0.02%",
                        "zing 0.02%",
                        "yp 0.02%",
                        "_extra… 0.02%",
                        "eenth 0.02%",
                        "istani 0.02%"
                      ],
                      [
                        "_a 7.78%",
                        "_not 6.72%",
                        "_the 3.85%",
                        "_to 1.87%",
                        ". 1.87%",
                        "_an 1.69%",
                        "_one 1.61%",
                        "_also 1.30%",
                        "_in 1.29%",
                        ", 1.13%"
                      ],
                      [
                        "_first 10.25%",
                        "_only 5.88%",
                        "_last 5.87%",
                        "_same 4.07%",
                        "_best 3.27%",
                        "_second 2.47%",
                        "_perfe… 2.43%",
                        "_easie… 2.04%",
                        "_most 1.52%",
                        "_wrong 1.24%"
                      ],
                      [
                        "_way 7.07%",
                        "_thing 4.04%",
                        "_possi… 3.94%",
                        "_of 3.38%",
                        "_choice 3.01%",
                        "seller 1.83%",
                        "_time 1.78%",
                        "_part 1.65%",
                        "_selli… 1.12%",
                        "_chance 0.99%"
                      ],
                      [
                        "_the 38.52%",
                        "_all 10.78%",
                        "_a 4.02%",
                        "_my 2.74%",
                        "_both 2.31%",
                        "_his 2.16%",
                        "_this 1.74%",
                        "_what 1.65%",
                        "_those 1.41%",
                        "_its 1.40%"
                      ],
                      [
                        ", 35.03%",
                        "_and 24.04%",
                        "_for 3.94%",
                        ". 3.49%",
                        "_with 3.28%",
                        "_in 2.65%",
                        "_to 1.85%",
                        "_when 1.60%",
                        "_on 1.10%",
                        "_that 0.84%"
                      ],
                      [
                        "_and 28.11%",
                        "_but 5.55%",
                        "_the 4.12%",
                        "_for 2.08%",
                        "_a 1.96%",
                        "_when 1.84%",
                        "_with 1.48%",
                        "_I 1.35%",
                        "_to 1.28%",
                        "_it 1.24%"
                      ],
                      [
                        "'s 45.40%",
                        "_was 11.04%",
                        "_is 4.64%",
                        "'ll 1.72%",
                        "_would 1.68%",
                        "_will 1.58%",
                        "_has 1.13%",
                        "_didn 1.09%",
                        "_wasn 1.00%",
                        "_seems 0.97%"
                      ],
                      [
                        "_a 12.79%",
                        "_not 7.86%",
                        "_the 5.27%",
                        "_going 2.92%",
                        "_one 2.68%",
                        "_an 1.87%",
                        "_easy 1.68%",
                        "_hard 1.63%",
                        "_bad 1.35%",
                        "_also 1.34%"
                      ],
                      [
                        "_perfe… 12.97%",
                        "_second 6.06%",
                        "_worst 4.64%",
                        "_last 4.24%",
                        "_best 3.21%",
                        "_most 2.55%",
                        "_easie… 2.27%",
                        "_right 2.08%",
                        "_first 1.95%",
                        "_begin… 1.56%"
                      ],
                      [
                        "_of 32.28%",
                        ". 11.72%",
                        ", 9.87%",
                        "_and 3.97%",
                        "_in 1.98%",
                        "_thing 1.95%",
                        "_for 1.54%",
                        "_( 1.54%",
                        ".\" 1.50%",
                        "_as 1.05%"
                      ],
                      [
                        "_the 3.60%",
                        "_them 2.47%",
                        "_luck 2.10%",
                        "_my 1.91%",
                        "_this 1.76%",
                        "_it 1.72%",
                        "_life 1.61%",
                        "_those 1.04%",
                        "_things 1.03%",
                        "_us 0.92%"
                      ],
                      [
                        ", 45.63%",
                        ".\" 14.06%",
                        ". 10.92%",
                        ",\" 7.76%",
                        "âĢ¦\" 2.73%",
                        "âĢ¦ 2.63%",
                        "_and 2.42%",
                        "; 0.97%",
                        "\". 0.94%",
                        "...\" 0.84%"
                      ]
                    ],
                    [
                      [
                        "rd 0.03%",
                        "ish 0.02%",
                        "_extra… 0.02%",
                        "hip 0.02%",
                        "yp 0.02%",
                        "ris 0.02%",
                        "istani 0.02%",
                        "_alike 0.02%",
                        "ľ 0.02%",
                        "ous 0.02%"
                      ],
                      [
                        "_a 9.34%",
                        "_not 5.79%",
                        "_the 4.59%",
                        ". 2.01%",
                        "_one 1.98%",
                        "_an 1.89%",
                        "_to 1.73%",
                        ", 1.35%",
                        "_in 1.31%",
                        "_only 1.12%"
                      ],
                      [
                        "_first 8.33%",
                        "_only 6.78%",
                        "_same 5.60%",
                        "_last 5.36%",
                        "_perfe… 3.22%",
                        "_best 2.81%",
                        "_second 2.23%",
                        "_easie… 1.57%",
                        "_most 1.32%",
                        "_wrong 1.27%"
                      ],
                      [
                        "_way 5.79%",
                        "_thing 4.66%",
                        "_possi… 4.60%",
                        "_of 3.50%",
                        "_choice 1.96%",
                        "_part 1.91%",
                        "_selli… 1.80%",
                        "seller 1.78%",
                        "_time 1.62%",
                        "_seller 1.10%"
                      ],
                      [
                        "_the 35.98%",
                        "_all 8.74%",
                        "_a 4.92%",
                        "_what 3.11%",
                        "_my 2.80%",
                        "_both 2.50%",
                        "_his 1.98%",
                        "_this 1.87%",
                        "_its 1.26%",
                        "_them 1.23%"
                      ],
                      [
                        ", 38.99%",
                        "_and 27.86%",
                        "_with 3.29%",
                        "_for 2.65%",
                        ". 2.03%",
                        "_in 1.76%",
                        "_to 1.65%",
                        "_when 1.19%",
                        "_that 0.83%",
                        "_on 0.82%"
                      ],
                      [
                        "_and 34.68%",
                        "_but 9.41%",
                        "_the 4.32%",
                        "_bad 2.68%",
                        "_when 1.57%",
                        "_for 1.46%",
                        "_with 1.30%",
                        "_I 1.21%",
                        "_it 1.06%",
                        "_in 1.04%"
                      ],
                      [
                        "'s 49.84%",
                        "_was 12.71%",
                        "_is 6.53%",
                        "_will 1.90%",
                        "_has 1.41%",
                        "_would 1.35%",
                        "_could 1.07%",
                        "'ll 0.93%",
                        "âĢ 0.79%",
                        "_seems 0.78%"
                      ],
                      [
                        "_a 14.20%",
                        "_the 10.32%",
                        "_not 4.13%",
                        "_easy 3.07%",
                        "_one 2.67%",
                        "_hard 2.22%",
                        "_bad 2.18%",
                        "_an 1.75%",
                        "_good 1.47%",
                        "_perfe… 1.43%"
                      ],
                      [
                        "_perfe… 15.03%",
                        "_worst 7.78%",
                        "_best 5.27%",
                        "_easie… 4.73%",
                        "_last 4.05%",
                        "_middle 1.55%",
                        "_most 1.51%",
                        "_first 1.46%",
                        "_second 1.27%",
                        "_faste… 1.19%"
                      ],
                      [
                        "_of 62.17%",
                        ". 10.57%",
                        ", 4.53%",
                        "_and 3.02%",
                        "_in 1.83%",
                        "_thing 1.15%",
                        "_for 0.85%",
                        "_( 0.85%",
                        ".\" 0.65%",
                        "_at 0.51%"
                      ],
                      [
                        "_luck 4.60%",
                        "_the 2.96%",
                        "_things 2.55%",
                        "_them 2.40%",
                        "_life 1.84%",
                        "_times 1.59%",
                        "_ones 1.36%",
                        "_people 1.19%",
                        "_this 0.94%",
                        "_ideas 0.92%"
                      ],
                      [
                        ", 52.13%",
                        ". 10.92%",
                        ".\" 10.21%",
                        ",\" 7.59%",
                        "âĢ¦ 2.87%",
                        "âĢ¦\" 2.27%",
                        "_and 2.19%",
                        "; 1.31%",
                        "... 1.27%",
                        "...\" 0.98%"
                      ]
                    ],
                    [
                      [
                        "rd 0.02%",
                        "_alike 0.02%",
                        "_extra… 0.02%",
                        "ish 0.02%",
                        "istani 0.02%",
                        "hip 0.02%",
                        "ris 0.02%",
                        "eenth 0.02%",
                        "yp 0.02%",
                        "ous 0.02%"
                      ],
                      [
                        "_a 7.81%",
                        "_not 6.54%",
                        "_the 3.93%",
                        ". 2.08%",
                        "_to 1.82%",
                        "_an 1.68%",
                        ", 1.65%",
                        "_one 1.54%",
                        "_also 1.21%",
                        "_that 1.19%"
                      ],
                      [
                        "_first 8.86%",
                        "_only 7.11%",
                        "_same 6.62%",
                        "_last 3.92%",
                        "_perfe… 3.10%",
                        "_best 2.59%",
                        "_second 1.91%",
                        "_most 1.28%",
                        "_right 1.20%",
                        "_one 1.11%"
                      ],
                      [
                        "_way 6.61%",
                        "_thing 6.42%",
                        "_of 4.17%",
                        "_possi… 3.54%",
                        "_choice 3.33%",
                        "_time 1.83%",
                        "seller 1.66%",
                        "_selli… 1.53%",
                        "_part 1.47%",
                        "_seller 1.42%"
                      ],
                      [
                        "_the 30.54%",
                        "_all 8.15%",
                        "_a 4.50%",
                        "_what 3.55%",
                        "_both 2.95%",
                        "_this 2.03%",
                        "_my 1.90%",
                        "_his 1.63%",
                        "_them 1.34%",
                        "_luck 1.13%"
                      ],
                      [
                        ", 34.71%",
                        "_and 28.66%",
                        "_for 4.43%",
                        "_with 4.00%",
                        "_in 2.67%",
                        ". 2.38%",
                        "_to 2.29%",
                        "_when 1.36%",
                        "_that 0.71%",
                        "_on 0.64%"
                      ],
                      [
                        "_and 33.45%",
                        "_the 10.19%",
                        "_but 3.81%",
                        "_when 2.45%",
                        "_a 2.35%",
                        "_bad 2.24%",
                        "_with 2.23%",
                        "_in 1.81%",
                        "_for 1.61%",
                        "_no 1.40%"
                      ],
                      [
                        "'s 47.29%",
                        "_was 21.10%",
                        "_is 9.69%",
                        "_will 1.82%",
                        "_has 1.55%",
                        "_could 0.92%",
                        "_would 0.86%",
                        "_may 0.69%",
                        "_also 0.63%",
                        "_seems 0.54%"
                      ],
                      [
                        "_the 28.55%",
                        "_a 18.66%",
                        "_not 3.66%",
                        "_an 2.05%",
                        "_one 2.05%",
                        "_also 1.81%",
                        "_bad 1.37%",
                        "_great 1.26%",
                        "_easy 1.04%",
                        "_hard 0.99%"
                      ],
                      [
                        "_worst 22.41%",
                        "_perfe… 8.80%",
                        "_best 8.14%",
                        "_easie… 4.30%",
                        "_last 3.39%",
                        "_great… 2.82%",
                        "_same 2.68%",
                        "_only 1.94%",
                        "_begin… 1.90%",
                        "_most 1.70%"
                      ],
                      [
                        "_of 70.70%",
                        ". 10.20%",
                        ", 3.72%",
                        "_and 2.03%",
                        "_in 1.28%",
                        "_for 0.81%",
                        "_thing 0.71%",
                        "_at 0.68%",
                        "_when 0.56%",
                        "_as 0.48%"
                      ],
                      [
                        "_times 4.94%",
                        "_luck 3.56%",
                        "_them 2.06%",
                        "_the 1.90%",
                        "_circu… 1.86%",
                        "_things 1.59%",
                        "_time 1.36%",
                        "_worlds 1.28%",
                        "_vice 1.25%",
                        "_deeds 1.11%"
                      ],
                      [
                        ", 52.55%",
                        ". 11.92%",
                        ".\" 9.66%",
                        ",\" 8.03%",
                        "âĢ¦ 2.78%",
                        "; 1.84%",
                        "_and 1.80%",
                        "âĢ¦\" 1.77%",
                        "... 1.19%",
                        "...\" 0.86%"
                      ]
                    ],
                    [
                      [
                        "_alike 0.03%",
                        "rd 0.02%",
                        "_extra… 0.02%",
                        "istani 0.02%",
                        "hip 0.02%",
                        "ris 0.02%",
                        "ish 0.02%",
                        "aneous… 0.02%",
                        "eenth 0.02%",
                        "ening 0.02%"
                      ],
                      [
                        "_not 6.55%",
                        "_a 6.31%",
                        "_the 3.60%",
                        ", 1.57%",
                        "_to 1.57%",
                        "_an 1.47%",
                        ". 1.45%",
                        "_one 1.31%",
                        "_only 1.22%",
                        "_also 1.05%"
                      ],
                      [
                        "_first 9.91%",
                        "_only 7.10%",
                        "_same 6.21%",
                        "_last 5.37%",
                        "_best 2.23%",
                        "_perfe… 2.18%",
                        "_second 1.72%",
                        "_most 1.28%",
                        "_one 0.99%",
                        "_third 0.92%"
                      ],
                      [
                        "_way 8.16%",
                        "_thing 7.08%",
                        "_choice 3.90%",
                        "_of 3.86%",
                        "_possi… 3.27%",
                        "seller 2.01%",
                        "_time 1.99%",
                        "_part 1.58%",
                        "_seller 1.27%",
                        "_kept 1.07%"
                      ],
                      [
                        "_the 27.07%",
                        "_all 6.50%",
                        "_both 6.15%",
                        "_a 4.17%",
                        "_what 3.06%",
                        "_luck 2.62%",
                        "_my 1.78%",
                        "_his 1.73%",
                        "_this 1.59%",
                        "_them 0.94%"
                      ],
                      [
                        ", 38.00%",
                        "_and 25.35%",
                        "_for 4.71%",
                        "_with 3.98%",
                        "_in 3.13%",
                        "_to 2.32%",
                        "_when 1.73%",
                        ". 1.61%",
                        "_that 0.93%",
                        "_on 0.66%"
                      ],
                      [
                        "_and 53.00%",
                        "_the 5.85%",
                        "_but 3.13%",
                        "_with 1.93%",
                        "_in 1.87%",
                        "_for 1.73%",
                        "_when 1.63%",
                        "_to 1.54%",
                        "_a 1.40%",
                        "_bad 0.87%"
                      ],
                      [
                        "'s 46.96%",
                        "_was 27.96%",
                        "_is 9.82%",
                        "_will 2.00%",
                        "_could 0.91%",
                        "_has 0.83%",
                        "_would 0.73%",
                        "_may 0.64%",
                        "_came 0.58%",
                        "_might 0.43%"
                      ],
                      [
                        "_the 59.31%",
                        "_a 13.05%",
                        "_not 2.36%",
                        "_also 1.23%",
                        "_an 1.22%",
                        "_one 0.95%",
                        "_bad 0.92%",
                        "_great 0.89%",
                        "_just 0.63%",
                        "_that 0.48%"
                      ],
                      [
                        "_worst 62.19%",
                        "_best 10.10%",
                        "_perfe… 2.22%",
                        "_last 1.77%",
                        "_most 1.71%",
                        "_great… 1.70%",
                        "_bad 1.56%",
                        "_easie… 1.29%",
                        "_harde… 0.87%",
                        "_begin… 0.73%"
                      ],
                      [
                        "_of 90.63%",
                        ". 2.54%",
                        ", 1.60%",
                        "_and 0.48%",
                        "_thing 0.42%",
                        "_in 0.37%",
                        "_for 0.29%",
                        "_when 0.24%",
                        "_at 0.18%",
                        "_time 0.14%"
                      ],
                      [
                        "_times 19.44%",
                        "_luck 3.69%",
                        "_time 3.18%",
                        "_things 2.00%",
                        "_the 1.94%",
                        "_place 1.77%",
                        "_life 1.37%",
                        "_vice 1.27%",
                        "_circu… 1.24%",
                        "_days 1.11%"
                      ],
                      [
                        ", 58.97%",
                        ". 11.81%",
                        ",\" 6.98%",
                        ".\" 6.37%",
                        "âĢ¦ 2.07%",
                        "_and 2.02%",
                        "; 1.18%",
                        "... 1.18%",
                        "\", 0.98%",
                        "âĢ¦\" 0.82%"
                      ]
                    ],
                    [
                      [
                        "_alike 0.03%",
                        "_extra… 0.02%",
                        "rd 0.02%",
                        "istani 0.02%",
                        "entimes 0.02%",
                        "_incarn 0.02%",
                        "manent 0.02%",
                        "ris 0.02%",
                        "aneous… 0.02%",
                        "_Skydr… 0.02%"
                      ],
                      [
                        "_a 6.78%",
                        "_not 5.90%",
                        "_the 4.18%",
                        ", 1.53%",
                        "_an 1.49%",
                        ". 1.43%",
                        "_only 1.32%",
                        "_to 1.27%",
                        "_one 1.13%",
                        "_that 1.12%"
                      ],
                      [
                        "_first 13.13%",
                        "_only 8.72%",
                        "_same 5.57%",
                        "_last 3.34%",
                        "_best 2.74%",
                        "_most 1.85%",
                        "_perfe… 1.79%",
                        "_second 1.61%",
                        "_right 1.11%",
                        "_third 0.98%"
                      ],
                      [
                        "_way 8.32%",
                        "_thing 7.64%",
                        "_of 4.23%",
                        "_possi… 3.27%",
                        "_choice 3.13%",
                        "_time 2.26%",
                        "_part 1.40%",
                        "seller 1.15%",
                        "_seller 1.05%",
                        "_selli… 0.93%"
                      ],
                      [
                        "_the 29.88%",
                        "_both 7.03%",
                        "_all 5.85%",
                        "_a 4.51%",
                        "_what 4.19%",
                        "_luck 1.96%",
                        "_this 1.76%",
                        "_his 1.48%",
                        "_my 1.45%",
                        "_times 1.43%"
                      ],
                      [
                        ", 36.07%",
                        "_and 16.86%",
                        "_for 7.12%",
                        "_with 3.53%",
                        "_in 3.23%",
                        ". 2.86%",
                        "_to 2.59%",
                        "_when 1.98%",
                        "_on 0.89%",
                        "_then 0.88%"
                      ],
                      [
                        "_and 49.23%",
                        "_the 13.00%",
                        "_but 2.56%",
                        "_a 2.16%",
                        "_for 2.07%",
                        "_in 1.61%",
                        "_to 1.52%",
                        "_it 1.46%",
                        "_when 1.45%",
                        "_with 1.35%"
                      ],
                      [
                        "'s 47.54%",
                        "_was 26.31%",
                        "_is 11.38%",
                        "_will 2.14%",
                        "_has 0.86%",
                        "_may 0.74%",
                        "_could 0.74%",
                        "_would 0.67%",
                        "_came 0.59%",
                        "'ll 0.54%"
                      ],
                      [
                        "_the 70.08%",
                        "_a 10.19%",
                        "_also 1.71%",
                        "_not 1.19%",
                        "_an 0.85%",
                        "_one 0.85%",
                        "_just 0.70%",
                        "_bad 0.54%",
                        "_all 0.43%",
                        "_great 0.43%"
                      ],
                      [
                        "_worst 74.76%",
                        "_best 4.08%",
                        "_perfe… 1.96%",
                        "_bad 1.68%",
                        "_last 1.20%",
                        "_easie… 1.00%",
                        "_most 0.93%",
                        "_harde… 0.78%",
                        "_great… 0.58%",
                        "_same 0.51%"
                      ],
                      [
                        "_of 91.28%",
                        ". 2.14%",
                        ", 0.95%",
                        "_thing 0.76%",
                        "_in 0.45%",
                        "_for 0.40%",
                        "_and 0.29%",
                        "_at 0.20%",
                        "_time 0.17%",
                        "_when 0.16%"
                      ],
                      [
                        "_times 27.74%",
                        "_time 3.49%",
                        "_things 3.26%",
                        "_the 2.66%",
                        "_vice 2.59%",
                        "_days 2.16%",
                        "_luck 2.12%",
                        "_circu… 2.04%",
                        "_them 1.17%",
                        "_ones 1.13%"
                      ],
                      [
                        ", 51.84%",
                        ". 20.12%",
                        ".\" 8.43%",
                        ",\" 7.27%",
                        "; 1.39%",
                        "_and 1.06%",
                        "âĢ¦ 0.96%",
                        ".' 0.87%",
                        "\". 0.62%",
                        "\", 0.59%"
                      ]
                    ],
                    [
                      [
                        "_alike 0.03%",
                        "_extra… 0.02%",
                        "manent 0.02%",
                        "istani 0.02%",
                        "rd 0.02%",
                        "_incarn 0.02%",
                        "entimes 0.02%",
                        "ULAR 0.02%",
                        "_Skydr… 0.02%",
                        "ris 0.02%"
                      ],
                      [
                        "_a 7.76%",
                        "_not 5.60%",
                        "_the 3.84%",
                        ", 1.65%",
                        "_an 1.56%",
                        ". 1.55%",
                        "_only 1.35%",
                        "_one 1.27%",
                        "_that 1.24%",
                        "_to 1.21%"
                      ],
                      [
                        "_first 14.19%",
                        "_only 10.16%",
                        "_same 4.45%",
                        "_last 2.93%",
                        "_best 2.53%",
                        "_most 2.02%",
                        "_perfe… 1.53%",
                        "_second 1.38%",
                        "_right 1.18%",
                        "_one 1.09%"
                      ],
                      [
                        "_way 8.38%",
                        "_thing 6.31%",
                        "_of 6.09%",
                        "_possi… 2.13%",
                        "_time 1.99%",
                        "_choice 1.74%",
                        "_part 1.58%",
                        "_place 1.14%",
                        ", 1.07%",
                        "_for 0.97%"
                      ],
                      [
                        "_the 35.88%",
                        "_all 6.60%",
                        "_both 5.34%",
                        "_times 4.00%",
                        "_a 3.98%",
                        "_what 3.34%",
                        "_luck 2.49%",
                        "_this 1.19%",
                        "_his 1.05%",
                        "_my 1.00%"
                      ],
                      [
                        ", 50.83%",
                        "_and 12.35%",
                        ". 4.77%",
                        "_for 4.44%",
                        "_to 3.79%",
                        "_in 2.56%",
                        "_with 1.76%",
                        "_when 1.73%",
                        "_that 0.79%",
                        "; 0.70%"
                      ],
                      [
                        "_and 38.50%",
                        "_the 18.40%",
                        "_for 2.50%",
                        "_a 1.92%",
                        "_but 1.87%",
                        "_it 1.77%",
                        "_in 1.64%",
                        "_of 1.49%",
                        "_as 1.33%",
                        "_bad 1.30%"
                      ],
                      [
                        "'s 38.94%",
                        "_was 38.88%",
                        "_is 15.54%",
                        "_will 1.10%",
                        "_has 0.75%",
                        "_would 0.42%",
                        "_may 0.35%",
                        "_could 0.30%",
                        "_had 0.26%",
                        "_came 0.24%"
                      ],
                      [
                        "_the 81.81%",
                        "_a 7.43%",
                        "_also 0.98%",
                        "_an 0.79%",
                        "_not 0.59%",
                        "_of 0.47%",
                        "_one 0.41%",
                        "_all 0.39%",
                        "_very 0.29%",
                        "_in 0.28%"
                      ],
                      [
                        "_worst 59.02%",
                        "_best 7.57%",
                        "_perfe… 4.20%",
                        "_bad 3.57%",
                        "_most 2.46%",
                        "_last 1.26%",
                        "_great… 1.00%",
                        "_begin… 0.99%",
                        "_bigge… 0.79%",
                        "_first 0.71%"
                      ],
                      [
                        "_of 97.25%",
                        ". 0.49%",
                        ", 0.32%",
                        "_in 0.26%",
                        "_for 0.14%",
                        "_and 0.12%",
                        "_thing 0.11%",
                        "_at 0.10%",
                        "_to 0.09%",
                        "_on 0.05%"
                      ],
                      [
                        "_times 82.97%",
                        "_circu… 1.22%",
                        "_time 1.16%",
                        "_days 0.64%",
                        "_things 0.64%",
                        "_the 0.63%",
                        "_luck 0.56%",
                        "_momen… 0.54%",
                        "_Times 0.42%",
                        "_worlds 0.38%"
                      ],
                      [
                        ", 54.75%",
                        ". 25.02%",
                        ".\" 5.15%",
                        ",\" 4.09%",
                        "; 1.16%",
                        "âĢ¦ 1.16%",
                        "_and 0.98%",
                        ".' 0.70%",
                        "... 0.42%",
                        "_âĢĵ 0.35%"
                      ]
                    ],
                    [
                      [
                        "_alike 0.03%",
                        "ULAR 0.02%",
                        "manent 0.02%",
                        "_extra… 0.02%",
                        "_Skydr… 0.02%",
                        "_count… 0.02%",
                        "_incarn 0.02%",
                        "ificant 0.02%",
                        "entimes 0.02%",
                        "istani 0.01%"
                      ],
                      [
                        "_a 8.06%",
                        "_not 5.17%",
                        "_the 4.14%",
                        "_an 1.55%",
                        ", 1.45%",
                        ". 1.36%",
                        "_only 1.32%",
                        "_one 1.12%",
                        "_that 1.12%",
                        "_to 1.08%"
                      ],
                      [
                        "_first 11.46%",
                        "_only 9.91%",
                        "_same 3.91%",
                        "_last 2.78%",
                        "_most 1.92%",
                        "_best 1.67%",
                        "_perfe… 1.24%",
                        "_one 1.23%",
                        "_right 1.20%",
                        "_second 1.13%"
                      ],
                      [
                        "_thing 8.96%",
                        "_way 7.07%",
                        "_of 6.54%",
                        "_time 1.69%",
                        "_possi… 1.63%",
                        "_choice 1.51%",
                        ", 1.33%",
                        "_place 1.33%",
                        "_I 1.31%",
                        "_part 1.12%"
                      ],
                      [
                        "_the 31.03%",
                        "_all 7.04%",
                        "_luck 5.67%",
                        "_both 5.46%",
                        "_times 4.66%",
                        "_a 3.36%",
                        "_what 2.16%",
                        "_his 1.04%",
                        "_my 1.02%",
                        "_them 1.00%"
                      ],
                      [
                        ", 49.90%",
                        "_and 15.09%",
                        ". 5.39%",
                        "_in 3.35%",
                        "_for 2.96%",
                        "_to 1.97%",
                        "_when 1.70%",
                        "; 1.38%",
                        "_with 1.35%",
                        "_that 0.57%"
                      ],
                      [
                        "_and 46.06%",
                        "_the 22.04%",
                        "_for 1.73%",
                        "_it 1.63%",
                        "_in 1.53%",
                        "_of 1.39%",
                        "_but 1.31%",
                        "_as 1.16%",
                        "_to 1.15%",
                        "_a 0.95%"
                      ],
                      [
                        "_was 42.97%",
                        "'s 38.90%",
                        "_is 12.36%",
                        "_will 0.65%",
                        "_has 0.61%",
                        "_had 0.37%",
                        "_would 0.36%",
                        "_may 0.35%",
                        "_came 0.31%",
                        "_could 0.27%"
                      ],
                      [
                        "_the 93.76%",
                        "_a 1.90%",
                        "_also 0.74%",
                        "_not 0.19%",
                        "_an 0.17%",
                        "_all 0.17%",
                        "_of 0.15%",
                        "_that 0.12%",
                        "_one 0.12%",
                        "_in 0.10%"
                      ],
                      [
                        "_worst 75.84%",
                        "_bad 5.26%",
                        "_best 2.79%",
                        "_perfe… 2.12%",
                        "_most 1.23%",
                        "_last 0.88%",
                        "_first 0.47%",
                        "_bigge… 0.46%",
                        "_begin… 0.45%",
                        "_great… 0.40%"
                      ],
                      [
                        "_of 97.80%",
                        ". 0.31%",
                        ", 0.18%",
                        "_in 0.17%",
                        "_thing 0.14%",
                        "_for 0.10%",
                        "_time 0.07%",
                        "_and 0.07%",
                        "_to 0.06%",
                        "_at 0.05%"
                      ],
                      [
                        "_times 88.36%",
                        "_time 1.05%",
                        "_things 0.80%",
                        "_circu… 0.69%",
                        "_the 0.59%",
                        "_Times 0.42%",
                        "_days 0.37%",
                        "_momen… 0.32%",
                        "_places 0.30%",
                        "_ones 0.30%"
                      ],
                      [
                        ", 42.93%",
                        ". 26.38%",
                        ".\" 8.79%",
                        ",\" 6.70%",
                        "âĢ¦ 1.75%",
                        "; 1.45%",
                        "... 1.07%",
                        "_and 0.76%",
                        ".' 0.74%",
                        "\" 0.68%"
                      ]
                    ],
                    [
                      [
                        "_alike 0.02%",
                        "_Skydr… 0.02%",
                        "ULAR 0.02%",
                        "manent 0.02%",
                        "_count… 0.02%",
                        "_srfAt… 0.02%",
                        "_extra… 0.02%",
                        "_incarn 0.02%",
                        "viously 0.01%",
                        "_etc 0.01%"
                      ],
                      [
                        "_a 8.05%",
                        "_not 4.70%",
                        "_the 4.10%",
                        ", 1.63%",
                        "_an 1.49%",
                        "_only 1.33%",
                        ". 1.32%",
                        "_that 1.21%",
                        "_in 1.12%",
                        "_one 1.08%"
                      ],
                      [
                        "_first 15.19%",
                        "_only 9.92%",
                        "_same 3.07%",
                        "_last 2.88%",
                        "_most 2.32%",
                        "_best 1.65%",
                        "_right 1.38%",
                        "_one 1.01%",
                        "_second 0.99%",
                        "_perfe… 0.89%"
                      ],
                      [
                        "_thing 8.07%",
                        "_of 7.38%",
                        "_way 5.42%",
                        "_place 1.83%",
                        "_choice 1.75%",
                        ", 1.73%",
                        "_I 1.69%",
                        "_time 1.56%",
                        "_that 1.42%",
                        "_part 1.31%"
                      ],
                      [
                        "_the 28.12%",
                        "_times 9.61%",
                        "_all 7.39%",
                        "_both 5.44%",
                        "_luck 4.73%",
                        "_a 3.49%",
                        "_inten… 1.44%",
                        "_what 1.44%",
                        "_many 1.21%",
                        "_my 1.11%"
                      ],
                      [
                        ", 55.57%",
                        "_and 16.74%",
                        ". 6.34%",
                        "; 2.32%",
                        "_for 2.22%",
                        "_in 1.94%",
                        "_to 1.70%",
                        "_when 0.90%",
                        "_with 0.75%",
                        "_( 0.58%"
                      ],
                      [
                        "_and 37.40%",
                        "_the 24.69%",
                        "_it 3.61%",
                        "_for 2.53%",
                        "_of 2.35%",
                        "_in 1.69%",
                        "_to 1.66%",
                        "_but 1.24%",
                        "_that 1.13%",
                        "_as 1.06%"
                      ],
                      [
                        "'s 45.24%",
                        "_was 38.96%",
                        "_is 12.15%",
                        "_has 0.30%",
                        "_will 0.26%",
                        "_may 0.18%",
                        "_came 0.16%",
                        "_had 0.15%",
                        "_would 0.15%",
                        "_also 0.13%"
                      ],
                      [
                        "_the 97.24%",
                        "_a 0.71%",
                        "_also 0.39%",
                        "_of 0.10%",
                        "_an 0.07%",
                        "_all 0.06%",
                        "_in 0.05%",
                        "_bad 0.05%",
                        "_not 0.05%",
                        "_great 0.05%"
                      ],
                      [
                        "_worst 82.36%",
                        "_best 6.86%",
                        "_bad 3.82%",
                        "_perfe… 0.52%",
                        "_most 0.50%",
                        "_last 0.41%",
                        "_Worst 0.40%",
                        "_worse 0.38%",
                        "_first 0.24%",
                        "_begin… 0.19%"
                      ],
                      [
                        "_of 99.04%",
                        ". 0.10%",
                        "_in 0.10%",
                        ", 0.08%",
                        "_thing 0.07%",
                        "_for 0.06%",
                        "_to 0.03%",
                        "_and 0.03%",
                        "_time 0.03%",
                        "_at 0.03%"
                      ],
                      [
                        "_times 95.73%",
                        "_time 0.43%",
                        "_things 0.42%",
                        "_Times 0.35%",
                        "_circu… 0.32%",
                        "_the 0.22%",
                        "_days 0.15%",
                        "_worlds 0.13%",
                        "_places 0.12%",
                        "_situa… 0.08%"
                      ],
                      [
                        ", 39.91%",
                        ". 23.79%",
                        ".\" 8.79%",
                        ",\" 8.52%",
                        "âĢ¦ 2.16%",
                        "; 1.71%",
                        "... 1.36%",
                        "âĢ¦\" 0.90%",
                        ".' 0.86%",
                        "\" 0.69%"
                      ]
                    ],
                    [
                      [
                        "_Skydr… 0.02%",
                        "ULAR 0.02%",
                        "_srfAt… 0.02%",
                        "manent 0.02%",
                        "_incarn 0.02%",
                        "_alike 0.01%",
                        "_count… 0.01%",
                        "_etc 0.01%",
                        "_EVER 0.01%",
                        "viously 0.01%"
                      ],
                      [
                        "_a 7.50%",
                        "_not 4.32%",
                        "_the 3.87%",
                        "_an 1.50%",
                        ", 1.34%",
                        "_only 1.31%",
                        "_that 1.17%",
                        "_one 1.15%",
                        "_in 1.05%",
                        "_just 1.03%"
                      ],
                      [
                        "_first 14.63%",
                        "_only 9.04%",
                        "_last 2.98%",
                        "_same 2.69%",
                        "_most 2.30%",
                        "_best 1.73%",
                        "_right 0.98%",
                        "_second 0.93%",
                        "_one 0.86%",
                        "_perfe… 0.71%"
                      ],
                      [
                        "_thing 8.42%",
                        "_of 5.19%",
                        "_way 4.18%",
                        "_place 1.91%",
                        "_choice 1.73%",
                        "_time 1.59%",
                        "_I 1.49%",
                        "_part 1.40%",
                        ", 1.33%",
                        "_that 1.15%"
                      ],
                      [
                        "_the 24.81%",
                        "_times 15.53%",
                        "_all 8.93%",
                        "_both 3.51%",
                        "_a 3.15%",
                        "_luck 2.96%",
                        "_what 1.72%",
                        "_many 1.12%",
                        "_my 1.07%",
                        "_inten… 0.94%"
                      ],
                      [
                        ", 55.05%",
                        "_and 12.25%",
                        ". 10.02%",
                        "; 2.53%",
                        "_to 1.95%",
                        "_in 1.87%",
                        "_for 1.80%",
                        "_( 0.92%",
                        "... 0.85%",
                        "_when 0.68%"
                      ],
                      [
                        "_and 44.39%",
                        "_the 19.73%",
                        "_it 3.34%",
                        "_in 3.06%",
                        "_for 2.10%",
                        "_of 1.57%",
                        "_that 1.44%",
                        "_to 1.35%",
                        "_as 1.32%",
                        "_a 1.12%"
                      ],
                      [
                        "_was 55.86%",
                        "'s 33.67%",
                        "_is 8.79%",
                        "_has 0.15%",
                        "_could 0.09%",
                        "_also 0.09%",
                        "_came 0.07%",
                        "_will 0.07%",
                        "_would 0.07%",
                        "_had 0.07%"
                      ],
                      [
                        "_the 98.16%",
                        "_a 0.57%",
                        "_also 0.42%",
                        "_an 0.06%",
                        "_of 0.04%",
                        "_in 0.04%",
                        "_that 0.03%",
                        "_bad 0.03%",
                        "_all 0.03%",
                        "_one 0.02%"
                      ],
                      [
                        "_worst 94.86%",
                        "_best 1.98%",
                        "_bad 1.06%",
                        "_Worst 0.35%",
                        "_most 0.22%",
                        "_worse 0.14%",
                        "_last 0.13%",
                        "_evil 0.09%",
                        "_begin… 0.08%",
                        "_darke… 0.07%"
                      ],
                      [
                        "_of 98.79%",
                        "_in 0.15%",
                        "_thing 0.13%",
                        "_for 0.09%",
                        ", 0.08%",
                        ". 0.08%",
                        "_time 0.06%",
                        "_at 0.05%",
                        "_to 0.04%",
                        "_that 0.04%"
                      ],
                      [
                        "_times 96.75%",
                        "_things 0.74%",
                        "_the 0.23%",
                        "_Times 0.21%",
                        "_places 0.20%",
                        "_time 0.15%",
                        "_circu… 0.13%",
                        "_days 0.10%",
                        "_worlds 0.07%",
                        "_situa… 0.06%"
                      ],
                      [
                        ", 33.24%",
                        ". 27.35%",
                        ".\" 10.31%",
                        ",\" 8.57%",
                        "âĢ¦ 2.36%",
                        "; 1.47%",
                        "... 1.42%",
                        ".' 1.14%",
                        "âĢ¦\" 0.94%",
                        "...\" 0.67%"
                      ]
                    ],
                    [
                      [
                        "_Skydr… 0.02%",
                        "_srfAt… 0.02%",
                        "_etc 0.01%",
                        "_count… 0.01%",
                        "_diffe… 0.01%",
                        "_EVER 0.01%",
                        "ULAR 0.01%",
                        "_incarn 0.01%",
                        "manent 0.01%",
                        "ificant 0.01%"
                      ],
                      [
                        "_a 7.22%",
                        "_not 4.11%",
                        "_the 3.64%",
                        "_only 1.56%",
                        "_an 1.51%",
                        ", 1.38%",
                        "_in 1.20%",
                        "_that 1.20%",
                        "_just 1.15%",
                        "_one 1.14%"
                      ],
                      [
                        "_first 14.37%",
                        "_only 6.84%",
                        "_last 2.80%",
                        "_most 2.43%",
                        "_best 1.87%",
                        "_same 1.50%",
                        "_second 1.18%",
                        "_right 0.91%",
                        "_one 0.81%",
                        "_perfe… 0.75%"
                      ],
                      [
                        "_thing 11.19%",
                        "_of 4.70%",
                        "_way 4.13%",
                        "_part 1.67%",
                        "_place 1.59%",
                        ", 1.54%",
                        "_I 1.51%",
                        "_choice 1.41%",
                        "_that 1.21%",
                        ". 1.18%"
                      ],
                      [
                        "_the 22.39%",
                        "_times 16.40%",
                        "_all 9.28%",
                        "_both 3.52%",
                        "_luck 3.06%",
                        "_a 2.87%",
                        "_inten… 1.30%",
                        "_what 1.26%",
                        "_many 0.99%",
                        "_my 0.90%"
                      ],
                      [
                        ", 58.09%",
                        "_and 14.91%",
                        ". 5.86%",
                        "_in 2.64%",
                        "_for 2.38%",
                        "; 2.17%",
                        "_to 1.39%",
                        "_( 1.02%",
                        "... 0.82%",
                        "\\n 0.52%"
                      ],
                      [
                        "_and 44.85%",
                        "_the 16.23%",
                        "_it 3.98%",
                        "_in 3.43%",
                        "_for 2.74%",
                        "_to 2.69%",
                        "_of 2.65%",
                        "\\n 2.40%",
                        "_that 1.39%",
                        "_as 1.24%"
                      ],
                      [
                        "_was 78.92%",
                        "'s 15.32%",
                        "_is 4.23%",
                        "_has 0.13%",
                        "_also 0.13%",
                        "_could 0.11%",
                        "_had 0.09%",
                        "_came 0.07%",
                        "_will 0.06%",
                        "_would 0.05%"
                      ],
                      [
                        "_the 97.76%",
                        "_a 0.86%",
                        "_also 0.63%",
                        "_an 0.06%",
                        "_that 0.03%",
                        "_in 0.03%",
                        "_one 0.03%",
                        "_all 0.03%",
                        "_of 0.02%",
                        "_not 0.02%"
                      ],
                      [
                        "_worst 97.58%",
                        "_best 0.80%",
                        "_bad 0.58%",
                        "_Worst 0.15%",
                        "_most 0.11%",
                        "_worse 0.08%",
                        "_evil 0.05%",
                        "_last 0.05%",
                        "_begin… 0.05%",
                        "_darke… 0.05%"
                      ],
                      [
                        "_of 99.45%",
                        "_in 0.06%",
                        "_thing 0.06%",
                        ", 0.05%",
                        "_to 0.03%",
                        ". 0.03%",
                        "_that 0.02%",
                        "_for 0.02%",
                        "_at 0.02%",
                        "_time 0.02%"
                      ],
                      [
                        "_times 98.13%",
                        "_things 0.65%",
                        "_the 0.13%",
                        "_time 0.11%",
                        "_places 0.07%",
                        "_circu… 0.05%",
                        "_days 0.05%",
                        "_ways 0.04%",
                        "_all 0.04%",
                        "_worlds 0.04%"
                      ],
                      [
                        ". 30.43%",
                        ", 29.87%",
                        ".\" 10.64%",
                        ",\" 6.28%",
                        "... 3.32%",
                        "âĢ¦ 3.08%",
                        "; 2.07%",
                        "...\" 1.70%",
                        "âĢ¦\" 1.38%",
                        "\" 0.78%"
                      ]
                    ],
                    [
                      [
                        "_Skydr… 0.02%",
                        "_srfAt… 0.02%",
                        "_EVER 0.01%",
                        "_count… 0.01%",
                        "_diffe… 0.01%",
                        "_etc 0.01%",
                        "_incarn 0.01%",
                        "manent 0.01%",
                        "ULAR 0.01%",
                        "_purpo… 0.01%"
                      ],
                      [
                        "_a 7.35%",
                        "_not 4.04%",
                        "_the 3.87%",
                        ", 1.74%",
                        "_an 1.48%",
                        "_only 1.41%",
                        "_in 1.27%",
                        "_just 1.25%",
                        "_that 1.09%",
                        "_one 0.97%"
                      ],
                      [
                        "_first 14.66%",
                        "_only 7.09%",
                        "_last 2.93%",
                        "_most 2.53%",
                        "_best 2.09%",
                        "_same 1.44%",
                        "_second 1.03%",
                        "_right 0.91%",
                        "_perfe… 0.76%",
                        "_one 0.66%"
                      ],
                      [
                        "_thing 10.64%",
                        "_of 4.49%",
                        "_way 4.05%",
                        "_part 1.75%",
                        "_I 1.74%",
                        ". 1.60%",
                        ", 1.60%",
                        "_time 1.46%",
                        "_place 1.41%",
                        "_that 1.31%"
                      ],
                      [
                        "_the 20.20%",
                        "_times 18.65%",
                        "_all 8.62%",
                        "_both 3.55%",
                        "_luck 2.42%",
                        "_a 2.30%",
                        "_inten… 1.02%",
                        "_what 0.95%",
                        "_my 0.76%",
                        "_his 0.73%"
                      ],
                      [
                        ", 65.27%",
                        "_and 13.93%",
                        ". 5.71%",
                        "_for 2.03%",
                        "; 1.91%",
                        "_in 1.04%",
                        "_to 0.77%",
                        "_( 0.75%",
                        "\\n 0.61%",
                        "... 0.57%"
                      ],
                      [
                        "_and 53.51%",
                        "_the 12.27%",
                        "_it 6.57%",
                        "\\n 4.70%",
                        "_of 1.69%",
                        "_in 1.64%",
                        "_for 1.55%",
                        "_a 1.31%",
                        "_to 1.22%",
                        "_that 1.06%"
                      ],
                      [
                        "_was 66.82%",
                        "'s 25.54%",
                        "_is 5.92%",
                        "_also 0.20%",
                        "_has 0.18%",
                        "_could 0.12%",
                        "_will 0.10%",
                        "_would 0.06%",
                        "_had 0.06%",
                        "_came 0.05%"
                      ],
                      [
                        "_the 98.65%",
                        "_a 0.60%",
                        "_also 0.40%",
                        "_an 0.05%",
                        "_all 0.01%",
                        "... 0.01%",
                        "the 0.01%",
                        "_that 0.01%",
                        "_bad 0.01%",
                        "_one 0.01%"
                      ],
                      [
                        "_worst 98.35%",
                        "_best 0.51%",
                        "_bad 0.38%",
                        "_Worst 0.13%",
                        "_most 0.10%",
                        "_worse 0.09%",
                        "_darke… 0.05%",
                        "_last 0.03%",
                        "_begin… 0.02%",
                        "_evil 0.02%"
                      ],
                      [
                        "_of 99.47%",
                        "_thing 0.07%",
                        ", 0.06%",
                        "_in 0.04%",
                        ". 0.03%",
                        "_time 0.03%",
                        "_to 0.02%",
                        "_part 0.01%",
                        "_at 0.01%",
                        "_and 0.01%"
                      ],
                      [
                        "_times 99.24%",
                        "_things 0.25%",
                        "_the 0.07%",
                        "_time 0.07%",
                        "_places 0.04%",
                        "_circu… 0.02%",
                        "_Times 0.02%",
                        "_days 0.02%",
                        "_ways 0.01%",
                        "_momen… 0.01%"
                      ],
                      [
                        ", 47.06%",
                        ". 23.61%",
                        ".\" 7.78%",
                        ",\" 6.90%",
                        "... 1.97%",
                        "âĢ¦ 1.54%",
                        "; 1.38%",
                        "...\" 0.90%",
                        "\" 0.86%",
                        "âĢ¦\" 0.69%"
                      ]
                    ],
                    [
                      [
                        "_srfAt… 0.01%",
                        "_diffe… 0.01%",
                        "_Skydr… 0.01%",
                        "_count… 0.01%",
                        "_EVER 0.01%",
                        "_exclu… 0.01%",
                        "_incarn 0.01%",
                        "_in 0.01%",
                        "_etc 0.01%",
                        "_above 0.01%"
                      ],
                      [
                        "_a 6.86%",
                        "_not 3.61%",
                        "_the 3.60%",
                        ", 2.08%",
                        "_an 1.42%",
                        "_only 1.39%",
                        "_in 1.22%",
                        "_just 1.17%",
                        "_one 1.02%",
                        ". 0.99%"
                      ],
                      [
                        "_first 13.83%",
                        "_only 6.59%",
                        "_most 3.03%",
                        "_last 2.74%",
                        "_best 2.00%",
                        "_same 1.56%",
                        "_right 0.98%",
                        "_second 0.96%",
                        "_one 0.74%",
                        "_perfe… 0.71%"
                      ],
                      [
                        "_thing 14.23%",
                        "_of 5.19%",
                        "_way 3.33%",
                        ". 1.94%",
                        "_part 1.86%",
                        "_I 1.50%",
                        ", 1.50%",
                        "_choice 1.32%",
                        "_and 1.31%",
                        "_place 1.28%"
                      ],
                      [
                        "_the 19.25%",
                        "_times 16.46%",
                        "_all 8.29%",
                        "_both 3.46%",
                        "_luck 2.38%",
                        "_a 2.37%",
                        "_what 1.12%",
                        "_my 1.00%",
                        "_things 0.78%",
                        "_his 0.73%"
                      ],
                      [
                        ", 67.93%",
                        "_and 12.15%",
                        ". 5.84%",
                        "; 1.78%",
                        "_for 1.63%",
                        "\\n 0.96%",
                        "_in 0.72%",
                        ",\" 0.64%",
                        ": 0.63%",
                        "_( 0.59%"
                      ],
                      [
                        "_and 61.52%",
                        "_it 7.56%",
                        "_the 6.64%",
                        "\\n 5.29%",
                        "_for 1.13%",
                        "_in 1.11%",
                        "_of 1.01%",
                        "_that 0.98%",
                        "_a 0.83%",
                        "_when 0.78%"
                      ],
                      [
                        "_was 89.74%",
                        "'s 6.36%",
                        "_is 3.34%",
                        "_also 0.07%",
                        "_has 0.05%",
                        "_were 0.04%",
                        "_could 0.04%",
                        "_being 0.02%",
                        "_had 0.02%",
                        "_came 0.02%"
                      ],
                      [
                        "_the 98.27%",
                        "_also 0.99%",
                        "_a 0.43%",
                        "_an 0.03%",
                        "... 0.02%",
                        "_all 0.01%",
                        "the 0.01%",
                        "_indeed 0.01%",
                        "âĢ¦ 0.01%",
                        "_that 0.01%"
                      ],
                      [
                        "_worst 98.20%",
                        "_best 1.12%",
                        "_most 0.21%",
                        "_bad 0.14%",
                        "_worse 0.05%",
                        "_darke… 0.03%",
                        "_great… 0.03%",
                        "_Worst 0.03%",
                        "_last 0.02%",
                        "_deadl… 0.01%"
                      ],
                      [
                        "_of 99.75%",
                        ", 0.04%",
                        "_thing 0.04%",
                        ". 0.02%",
                        "_in 0.01%",
                        "_time 0.01%",
                        "- 0.01%",
                        "_that 0.01%",
                        "_to 0.01%",
                        "_and 0.01%"
                      ],
                      [
                        "_times 99.96%",
                        "_time 0.02%",
                        "_things 0.01%",
                        "_Times 0.00%",
                        "times 0.00%",
                        "_days 0.00%",
                        "_momen… 0.00%",
                        "_the 0.00%",
                        "_places 0.00%",
                        "_circu… 0.00%"
                      ],
                      [
                        ", 42.74%",
                        ". 26.65%",
                        ",\" 9.95%",
                        ".\" 9.80%",
                        "... 1.31%",
                        "; 1.04%",
                        ": 0.93%",
                        "\" 0.92%",
                        "âĢ¦ 0.77%",
                        "...\" 0.63%"
                      ]
                    ],
                    [
                      [
                        "_in 0.01%",
                        "_srfAt… 0.01%",
                        "_diffe… 0.01%",
                        "_both 0.01%",
                        "_EVER 0.01%",
                        "_at 0.01%",
                        "_so 0.01%",
                        "_above 0.01%",
                        "_on 0.01%",
                        "_exclu… 0.01%"
                      ],
                      [
                        "_a 6.89%",
                        "_not 3.71%",
                        "_the 3.66%",
                        ", 2.00%",
                        "_only 1.41%",
                        "_an 1.38%",
                        "_just 1.24%",
                        "_in 1.20%",
                        "_also 1.07%",
                        "_one 0.97%"
                      ],
                      [
                        "_first 13.71%",
                        "_only 5.56%",
                        "_most 3.07%",
                        "_last 2.93%",
                        "_best 1.80%",
                        "_same 1.48%",
                        "_second 1.05%",
                        "_right 0.96%",
                        "_one 0.87%",
                        "_perfe… 0.69%"
                      ],
                      [
                        "_thing 12.27%",
                        "_of 4.44%",
                        "_way 3.43%",
                        ". 2.13%",
                        "_part 1.97%",
                        "_I 1.81%",
                        ", 1.55%",
                        "_and 1.46%",
                        "_that 1.32%",
                        "_choice 1.22%"
                      ],
                      [
                        "_times 22.73%",
                        "_the 19.37%",
                        "_all 7.83%",
                        "_both 7.01%",
                        "_a 2.08%",
                        "_luck 1.51%",
                        "_my 0.87%",
                        "_what 0.77%",
                        "_his 0.73%",
                        "_days 0.71%"
                      ],
                      [
                        ", 64.34%",
                        "_and 14.31%",
                        ". 6.36%",
                        "; 1.79%",
                        "_for 1.48%",
                        "\\n 1.09%",
                        ": 0.85%",
                        "_in 0.67%",
                        ",\" 0.63%",
                        "_( 0.54%"
                      ],
                      [
                        "_it 41.87%",
                        "_and 29.42%",
                        "_the 9.78%",
                        "\\n 4.08%",
                        "_a 1.16%",
                        "_as 0.97%",
                        "_in 0.89%",
                        "_when 0.78%",
                        "_that 0.78%",
                        "_of 0.64%"
                      ],
                      [
                        "_was 89.02%",
                        "'s 6.28%",
                        "_is 3.83%",
                        "_also 0.13%",
                        "_could 0.07%",
                        "_has 0.06%",
                        "_were 0.06%",
                        "_will 0.04%",
                        "_would 0.04%",
                        "\\n 0.03%"
                      ],
                      [
                        "_the 98.32%",
                        "_also 0.85%",
                        "_a 0.50%",
                        "_an 0.03%",
                        "_all 0.02%",
                        "_bad 0.01%",
                        "... 0.01%",
                        "_indeed 0.01%",
                        "_that 0.01%",
                        "_not 0.01%"
                      ],
                      [
                        "_worst 98.15%",
                        "_best 0.95%",
                        "_most 0.43%",
                        "_bad 0.11%",
                        "_worse 0.06%",
                        "_darke… 0.05%",
                        "_Worst 0.04%",
                        "_great… 0.04%",
                        "_deadl… 0.02%",
                        "_begin… 0.01%"
                      ],
                      [
                        "_of 99.80%",
                        ", 0.03%",
                        "_thing 0.02%",
                        ". 0.01%",
                        "_that 0.01%",
                        "_ever 0.01%",
                        "_in 0.01%",
                        "_time 0.01%",
                        "... 0.01%",
                        "\\n 0.01%"
                      ],
                      [
                        "_times 99.98%",
                        "_time 0.01%",
                        "times 0.00%",
                        "_things 0.00%",
                        "_days 0.00%",
                        "_Times 0.00%",
                        "_momen… 0.00%",
                        "_places 0.00%",
                        "_ways 0.00%",
                        "_circu… 0.00%"
                      ],
                      [
                        ". 36.93%",
                        ", 30.16%",
                        ".\" 9.15%",
                        ",\" 8.84%",
                        "... 1.82%",
                        "\" 1.60%",
                        "âĢ¦ 1.28%",
                        "; 1.16%",
                        ": 1.08%",
                        "\\n 0.63%"
                      ]
                    ],
                    [
                      [
                        "_in 0.02%",
                        "_so 0.01%",
                        "_on 0.01%",
                        "_at 0.01%",
                        "_as 0.01%",
                        ", 0.01%",
                        "_both 0.01%",
                        "_with 0.01%",
                        "_all 0.01%",
                        "_a 0.01%"
                      ],
                      [
                        "_a 6.86%",
                        "_the 4.07%",
                        "_not 3.54%",
                        ", 1.69%",
                        "_an 1.44%",
                        "_only 1.39%",
                        "_in 1.13%",
                        "_just 1.10%",
                        "_also 1.08%",
                        "_one 0.91%"
                      ],
                      [
                        "_first 12.90%",
                        "_only 5.48%",
                        "_most 3.25%",
                        "_last 2.73%",
                        "_best 1.95%",
                        "_same 1.59%",
                        "_second 0.98%",
                        "_right 0.92%",
                        "_one 0.88%",
                        "_perfe… 0.68%"
                      ],
                      [
                        "_thing 12.26%",
                        "_of 3.78%",
                        "_way 3.05%",
                        ". 2.45%",
                        ", 1.57%",
                        "_I 1.50%",
                        "_and 1.39%",
                        "_place 1.35%",
                        "_part 1.30%",
                        "_that 1.29%"
                      ],
                      [
                        "_times 25.04%",
                        "_the 22.09%",
                        "_all 6.34%",
                        "_both 6.01%",
                        "_a 1.98%",
                        "_luck 1.18%",
                        "_my 0.98%",
                        "_his 0.92%",
                        "_days 0.88%",
                        "_what 0.79%"
                      ],
                      [
                        ", 76.86%",
                        "_and 8.43%",
                        ". 4.06%",
                        "; 1.43%",
                        "_for 0.85%",
                        ",\" 0.59%",
                        "\\n 0.57%",
                        ".\" 0.44%",
                        ": 0.39%",
                        "... 0.38%"
                      ],
                      [
                        "_it 38.88%",
                        "_and 21.70%",
                        "_the 15.49%",
                        "\\n 4.82%",
                        "_a 1.83%",
                        "_as 1.02%",
                        "_that 0.98%",
                        "_of 0.89%",
                        "_in 0.82%",
                        "_when 0.54%"
                      ],
                      [
                        "_was 86.56%",
                        "'s 9.43%",
                        "_is 2.99%",
                        "_also 0.15%",
                        "_could 0.06%",
                        "_has 0.06%",
                        "_will 0.06%",
                        "_were 0.05%",
                        "_would 0.05%",
                        "_may 0.04%"
                      ],
                      [
                        "_the 98.73%",
                        "_also 0.55%",
                        "_a 0.48%",
                        "_an 0.03%",
                        "_indeed 0.01%",
                        "_all 0.01%",
                        "_that 0.01%",
                        "_one 0.01%",
                        "_then 0.01%",
                        "_bad 0.01%"
                      ],
                      [
                        "_worst 98.61%",
                        "_best 0.59%",
                        "_most 0.26%",
                        "_worse 0.11%",
                        "_darke… 0.07%",
                        "_bad 0.06%",
                        "_Worst 0.04%",
                        "_great… 0.03%",
                        "_deadl… 0.02%",
                        "_strang 0.02%"
                      ],
                      [
                        "_of 99.93%",
                        ", 0.01%",
                        "_ever 0.01%",
                        "_time 0.01%",
                        "_that 0.01%",
                        ". 0.01%",
                        "_thing 0.00%",
                        "_and 0.00%",
                        "\\n 0.00%",
                        "_in 0.00%"
                      ],
                      [
                        "_times 99.98%",
                        "_time 0.01%",
                        "times 0.00%",
                        "_days 0.00%",
                        "_Times 0.00%",
                        "_momen… 0.00%",
                        "_things 0.00%",
                        "_ways 0.00%",
                        "_places 0.00%",
                        "_worlds 0.00%"
                      ],
                      [
                        ". 28.08%",
                        ", 26.79%",
                        ",\" 15.13%",
                        ".\" 11.48%",
                        "\" 3.91%",
                        "... 1.38%",
                        "\", 1.10%",
                        "âĢ¦ 0.93%",
                        "\\n 0.86%",
                        "_and 0.73%"
                      ]
                    ],
                    [
                      [
                        "_in 0.02%",
                        "_on 0.02%",
                        "_at 0.02%",
                        ", 0.02%",
                        "_so 0.02%",
                        "_as 0.02%",
                        "_with 0.01%",
                        "_for 0.01%",
                        "_and 0.01%",
                        "_only 0.01%"
                      ],
                      [
                        "_a 7.38%",
                        "_the 4.22%",
                        "_not 3.59%",
                        "_an 1.51%",
                        ", 1.40%",
                        "_only 1.23%",
                        "_also 1.09%",
                        "_just 1.07%",
                        "_in 0.97%",
                        "_one 0.93%"
                      ],
                      [
                        "_first 10.64%",
                        "_only 5.88%",
                        "_most 3.12%",
                        "_last 2.47%",
                        "_best 2.22%",
                        "_same 1.62%",
                        "_right 0.92%",
                        "_second 0.92%",
                        "_one 0.83%",
                        "_worst 0.69%"
                      ],
                      [
                        "_thing 9.87%",
                        "_of 3.44%",
                        "_way 3.14%",
                        ". 2.16%",
                        "_part 1.39%",
                        ", 1.30%",
                        "_I 1.29%",
                        "_place 1.25%",
                        "_and 1.16%",
                        "_choice 1.10%"
                      ],
                      [
                        "_times 28.28%",
                        "_the 18.89%",
                        "_all 6.66%",
                        "_both 5.28%",
                        "_a 1.72%",
                        "_luck 1.01%",
                        "_days 0.91%",
                        "_my 0.83%",
                        "_what 0.83%",
                        "_time 0.75%"
                      ],
                      [
                        ", 82.94%",
                        "_and 5.23%",
                        ". 3.71%",
                        "; 1.33%",
                        "_for 0.47%",
                        "\\n 0.43%",
                        ",\" 0.41%",
                        "... 0.37%",
                        ".\" 0.30%",
                        ": 0.30%"
                      ],
                      [
                        "_it 62.70%",
                        "_and 14.62%",
                        "_the 8.48%",
                        "\\n 2.34%",
                        "_a 0.68%",
                        "_as 0.67%",
                        "_that 0.61%",
                        "_in 0.54%",
                        "_of 0.52%",
                        "_It 0.40%"
                      ],
                      [
                        "_was 90.93%",
                        "'s 5.46%",
                        "_is 2.25%",
                        "_also 0.32%",
                        "_could 0.12%",
                        "_would 0.06%",
                        "_will 0.06%",
                        "_were 0.06%",
                        "_has 0.05%",
                        "_may 0.04%"
                      ],
                      [
                        "_the 99.81%",
                        "_also 0.10%",
                        "_a 0.04%",
                        "the 0.00%",
                        "_an 0.00%",
                        "... 0.00%",
                        "_then 0.00%",
                        "_The 0.00%",
                        "âĢ¦ 0.00%",
                        "_indeed 0.00%"
                      ],
                      [
                        "_worst 98.39%",
                        "_best 0.58%",
                        "_worse 0.29%",
                        "_most 0.18%",
                        "_bad 0.09%",
                        "_darke… 0.06%",
                        "_strang 0.04%",
                        "_deadl… 0.03%",
                        "_Worst 0.03%",
                        "_great… 0.03%"
                      ],
                      [
                        "_of 99.97%",
                        "_time 0.00%",
                        "_that 0.00%",
                        ", 0.00%",
                        "_ever 0.00%",
                        ". 0.00%",
                        "_yet 0.00%",
                        "_thing 0.00%",
                        "_and 0.00%",
                        "_in 0.00%"
                      ],
                      [
                        "_times 99.96%",
                        "_time 0.02%",
                        "times 0.00%",
                        "_days 0.00%",
                        "_Times 0.00%",
                        "_things 0.00%",
                        "_ways 0.00%",
                        "_momen… 0.00%",
                        "_the 0.00%",
                        "_places 0.00%"
                      ],
                      [
                        ". 25.53%",
                        ", 21.43%",
                        ",\" 15.44%",
                        ".\" 13.04%",
                        "\" 6.54%",
                        "\", 2.01%",
                        "... 1.47%",
                        "\". 1.27%",
                        "\\n 1.04%",
                        "âĢ¦ 0.91%"
                      ]
                    ],
                    [
                      [
                        ", 0.05%",
                        "_in 0.04%",
                        "_and 0.04%",
                        "- 0.04%",
                        "_on 0.03%",
                        "_with 0.03%",
                        "_to 0.03%",
                        "_at 0.03%",
                        "_( 0.03%",
                        "_or 0.03%"
                      ],
                      [
                        "_a 7.78%",
                        "_the 5.04%",
                        "_not 3.35%",
                        "_an 1.61%",
                        ", 1.39%",
                        "_only 1.18%",
                        "_just 1.13%",
                        "_in 1.11%",
                        "_also 1.04%",
                        "_one 0.93%"
                      ],
                      [
                        "_first 11.61%",
                        "_only 6.06%",
                        "_most 2.70%",
                        "_last 2.61%",
                        "_best 2.15%",
                        "_same 1.80%",
                        "_second 1.05%",
                        "_right 0.97%",
                        "_one 0.87%",
                        "_worst 0.76%"
                      ],
                      [
                        "_thing 7.99%",
                        "_of 3.32%",
                        "_way 2.84%",
                        ". 1.97%",
                        "_place 1.47%",
                        "_part 1.33%",
                        "_I 1.28%",
                        ", 1.24%",
                        "_and 1.12%",
                        "- 1.11%"
                      ],
                      [
                        "_times 33.09%",
                        "_the 14.72%",
                        "_all 6.93%",
                        "_both 4.34%",
                        "_a 1.33%",
                        "_days 1.16%",
                        "_what 0.93%",
                        "_my 0.80%",
                        "_time 0.78%",
                        "_his 0.73%"
                      ],
                      [
                        ", 76.95%",
                        "_and 6.26%",
                        ". 4.80%",
                        "; 1.62%",
                        "\\n 0.67%",
                        ".\" 0.61%",
                        ",\" 0.54%",
                        "\" 0.50%",
                        "_for 0.44%",
                        "... 0.39%"
                      ],
                      [
                        "_it 57.75%",
                        "_and 13.22%",
                        "_the 9.84%",
                        "\\n 3.20%",
                        "_that 0.81%",
                        "_as 0.70%",
                        "_when 0.68%",
                        "_a 0.63%",
                        "_It 0.57%",
                        "_of 0.51%"
                      ],
                      [
                        "_was 91.47%",
                        "'s 4.17%",
                        "_is 2.01%",
                        "_also 0.37%",
                        "_could 0.15%",
                        "_has 0.11%",
                        "_being 0.09%",
                        "_were 0.09%",
                        "_would 0.08%",
                        "_will 0.06%"
                      ],
                      [
                        "_the 99.83%",
                        "_also 0.06%",
                        "_a 0.04%",
                        "_an 0.00%",
                        "the 0.00%",
                        "_then 0.00%",
                        "_that 0.00%",
                        "... 0.00%",
                        ", 0.00%",
                        "_THE 0.00%"
                      ],
                      [
                        "_worst 96.45%",
                        "_best 1.80%",
                        "_worse 0.48%",
                        "_most 0.32%",
                        "_bad 0.18%",
                        "_darke… 0.05%",
                        "_w 0.04%",
                        "_great… 0.04%",
                        "_Worst 0.04%",
                        "_very 0.03%"
                      ],
                      [
                        "_of 99.98%",
                        ", 0.00%",
                        "_that 0.00%",
                        "_ever 0.00%",
                        ". 0.00%",
                        "_time 0.00%",
                        "_and 0.00%",
                        "_yet 0.00%",
                        "\\n 0.00%",
                        "... 0.00%"
                      ],
                      [
                        "_times 99.93%",
                        "_time 0.04%",
                        "times 0.00%",
                        "_days 0.00%",
                        "_Times 0.00%",
                        "_things 0.00%",
                        "_ways 0.00%",
                        "_the 0.00%",
                        "_momen… 0.00%",
                        "_years 0.00%"
                      ],
                      [
                        ". 27.59%",
                        ", 20.56%",
                        ".\" 12.28%",
                        ",\" 8.29%",
                        "\" 5.92%",
                        "\\n 2.11%",
                        "' 1.78%",
                        "_and 1.58%",
                        "... 1.42%",
                        "\". 1.36%"
                      ]
                    ],
                    [
                      [
                        ", 0.42%",
                        "_and 0.31%",
                        "- 0.27%",
                        "_in 0.26%",
                        ". 0.25%",
                        "_to 0.22%",
                        "_( 0.17%",
                        "_for 0.17%",
                        "_the 0.17%",
                        "_of 0.16%"
                      ],
                      [
                        "_a 5.49%",
                        "_the 3.57%",
                        "_not 2.87%",
                        ", 1.27%",
                        "_an 1.25%",
                        "_in 1.00%",
                        "_just 0.99%",
                        "_only 0.98%",
                        "_also 0.92%",
                        "_one 0.78%"
                      ],
                      [
                        "_first 9.31%",
                        "_only 4.66%",
                        "_most 2.30%",
                        "_last 2.07%",
                        "_best 1.97%",
                        "_same 1.57%",
                        "_second 0.95%",
                        "_one 0.92%",
                        "_right 0.83%",
                        "_worst 0.73%"
                      ],
                      [
                        "_thing 6.79%",
                        "_of 4.35%",
                        "_way 2.82%",
                        ". 2.00%",
                        "_I 1.75%",
                        "_place 1.60%",
                        "_part 1.51%",
                        ", 1.36%",
                        "_and 1.16%",
                        "- 1.14%"
                      ],
                      [
                        "_times 32.04%",
                        "_the 12.87%",
                        "_all 9.82%",
                        "_both 5.01%",
                        "_days 1.19%",
                        "_a 1.05%",
                        "_my 0.89%",
                        "_its 0.81%",
                        "_what 0.80%",
                        "_time 0.69%"
                      ],
                      [
                        ", 79.51%",
                        "_and 5.82%",
                        ". 3.74%",
                        "; 1.22%",
                        "\\n 0.65%",
                        ".\" 0.50%",
                        "_for 0.50%",
                        "... 0.46%",
                        ",\" 0.38%",
                        "\" 0.35%"
                      ],
                      [
                        "_it 52.53%",
                        "_and 18.56%",
                        "_the 9.71%",
                        "\\n 2.90%",
                        "_that 1.08%",
                        "_when 0.98%",
                        "_as 0.81%",
                        "_a 0.52%",
                        "_It 0.49%",
                        "_of 0.46%"
                      ],
                      [
                        "_was 95.59%",
                        "'s 1.97%",
                        "_is 1.14%",
                        "_also 0.24%",
                        "_could 0.08%",
                        "_has 0.07%",
                        "_would 0.05%",
                        "_will 0.05%",
                        "_were 0.04%",
                        "_being 0.04%"
                      ],
                      [
                        "_the 99.15%",
                        "_also 0.35%",
                        "_a 0.11%",
                        "... 0.02%",
                        "_then 0.02%",
                        ", 0.02%",
                        "âĢ¦ 0.02%",
                        "_that 0.01%",
                        "_bad 0.01%",
                        "_not 0.01%"
                      ],
                      [
                        "_worst 90.80%",
                        "_best 5.47%",
                        "_most 0.79%",
                        "_worse 0.65%",
                        "_bad 0.26%",
                        "_very 0.14%",
                        "_w 0.12%",
                        "_great… 0.09%",
                        "_darke… 0.06%",
                        "... 0.05%"
                      ],
                      [
                        "_of 99.80%",
                        "_that 0.02%",
                        ", 0.01%",
                        ". 0.01%",
                        "\\n 0.01%",
                        "_time 0.01%",
                        "_ever 0.01%",
                        "... 0.01%",
                        "- 0.00%",
                        "_( 0.00%"
                      ],
                      [
                        "_times 99.87%",
                        "_time 0.06%",
                        "_days 0.01%",
                        "times 0.01%",
                        "_Times 0.01%",
                        "_the 0.00%",
                        "_things 0.00%",
                        "_ways 0.00%",
                        "_momen… 0.00%",
                        "_years 0.00%"
                      ],
                      [
                        ". 27.64%",
                        ", 17.70%",
                        ".\" 11.00%",
                        ",\" 7.14%",
                        "\" 5.00%",
                        "\\n 2.76%",
                        "' 1.88%",
                        "... 1.85%",
                        "_and 1.58%",
                        "\". 1.55%"
                      ]
                    ],
                    [
                      [
                        ". 4.35%",
                        "'s 4.22%",
                        ", 4.06%",
                        "_is 1.99%",
                        "- 1.42%",
                        "_and 1.28%",
                        "_was 1.24%",
                        "\\n 0.97%",
                        "_to 0.95%",
                        "_the 0.86%"
                      ],
                      [
                        "_a 8.51%",
                        "_the 4.77%",
                        "_not 4.00%",
                        "_an 1.72%",
                        "_just 1.27%",
                        "_also 1.17%",
                        "_only 1.11%",
                        ", 1.07%",
                        "_in 1.06%",
                        "_one 0.90%"
                      ],
                      [
                        "_first 12.33%",
                        "_only 5.11%",
                        "_most 2.92%",
                        "_best 2.22%",
                        "_last 2.22%",
                        "_same 2.04%",
                        "_second 1.16%",
                        "_right 0.94%",
                        "_one 0.92%",
                        "_worst 0.84%"
                      ],
                      [
                        "_thing 8.04%",
                        "_of 5.23%",
                        "_way 3.33%",
                        "_I 2.44%",
                        "_part 2.02%",
                        "_place 1.92%",
                        ". 1.68%",
                        "_time 1.56%",
                        "_choice 1.34%",
                        "- 1.20%"
                      ],
                      [
                        "_times 37.79%",
                        "_the 16.68%",
                        "_all 13.00%",
                        "_both 6.36%",
                        "_days 1.06%",
                        "_a 0.96%",
                        "_its 0.92%",
                        "_them 0.89%",
                        "_my 0.88%",
                        "_what 0.74%"
                      ],
                      [
                        ", 81.56%",
                        "_and 6.02%",
                        ". 3.56%",
                        "; 1.13%",
                        ".\" 0.74%",
                        ",\" 0.54%",
                        "_for 0.44%",
                        "\" 0.41%",
                        "... 0.36%",
                        "âĢ¦ 0.22%"
                      ],
                      [
                        "_it 74.55%",
                        "_and 14.13%",
                        "_the 4.16%",
                        "\\n 0.76%",
                        "_when 0.55%",
                        "_that 0.45%",
                        "_as 0.34%",
                        "_she 0.28%",
                        "_It 0.28%",
                        "_but 0.19%"
                      ],
                      [
                        "_was 96.76%",
                        "'s 1.71%",
                        "_is 0.78%",
                        "_also 0.19%",
                        "_could 0.06%",
                        "_has 0.04%",
                        "_would 0.04%",
                        "_will 0.04%",
                        "_being 0.02%",
                        "_may 0.02%"
                      ],
                      [
                        "_the 99.58%",
                        "_also 0.22%",
                        "_a 0.03%",
                        "... 0.01%",
                        "_then 0.01%",
                        "âĢ¦ 0.01%",
                        ", 0.01%",
                        "_bad 0.01%",
                        "_not 0.01%",
                        "_certa… 0.00%"
                      ],
                      [
                        "_worst 94.49%",
                        "_best 3.11%",
                        "_worse 0.49%",
                        "_most 0.29%",
                        "_bad 0.24%",
                        "_w 0.10%",
                        "_very 0.09%",
                        "_darke… 0.08%",
                        "_great… 0.08%",
                        "_strang 0.05%"
                      ],
                      [
                        "_of 99.81%",
                        "_time 0.02%",
                        "_ever 0.01%",
                        "_that 0.01%",
                        ". 0.01%",
                        ", 0.01%",
                        "\\n 0.01%",
                        "... 0.01%",
                        "_( 0.00%",
                        "_yet 0.00%"
                      ],
                      [
                        "_times 99.91%",
                        "_time 0.03%",
                        "_Times 0.01%",
                        "times 0.01%",
                        "_days 0.01%",
                        "_the 0.00%",
                        "_TIM 0.00%",
                        "_years 0.00%",
                        "_ways 0.00%",
                        "_things 0.00%"
                      ],
                      [
                        ". 26.30%",
                        ".\" 14.65%",
                        ", 14.57%",
                        ",\" 9.75%",
                        "\" 6.31%",
                        "' 2.35%",
                        "\". 2.10%",
                        ".' 1.90%",
                        "\", 1.56%",
                        "_and 1.38%"
                      ]
                    ],
                    [
                      [
                        "'s 9.26%",
                        "_is 3.57%",
                        ", 3.25%",
                        ". 2.70%",
                        "_was 2.12%",
                        "- 1.41%",
                        "_ 0.98%",
                        "_and 0.84%",
                        ") 0.73%",
                        "\" 0.69%"
                      ],
                      [
                        "_a 11.70%",
                        "_the 6.24%",
                        "_not 4.74%",
                        "_an 2.09%",
                        "_just 1.58%",
                        "_also 1.31%",
                        "_in 1.15%",
                        "_only 1.14%",
                        "_like 1.10%",
                        "_very 1.08%"
                      ],
                      [
                        "_first 13.35%",
                        "_only 4.93%",
                        "_most 3.35%",
                        "_same 2.78%",
                        "_best 2.61%",
                        "_last 1.96%",
                        "_second 1.18%",
                        "_right 1.17%",
                        "_worst 1.03%",
                        "_one 0.85%"
                      ],
                      [
                        "_thing 8.64%",
                        "_of 5.52%",
                        "_way 4.20%",
                        "_I 2.89%",
                        "_place 2.29%",
                        "_part 2.06%",
                        "_time 2.05%",
                        ". 1.67%",
                        "_decis… 1.31%",
                        "_choice 1.29%"
                      ],
                      [
                        "_times 52.85%",
                        "_the 12.44%",
                        "_all 9.35%",
                        "_both 5.44%",
                        "_days 1.10%",
                        "_them 0.84%",
                        "_a 0.76%",
                        "_my 0.76%",
                        "_its 0.69%",
                        "_his 0.56%"
                      ],
                      [
                        ", 84.39%",
                        "_and 5.53%",
                        ". 2.91%",
                        "; 0.98%",
                        ".\" 0.92%",
                        ",\" 0.68%",
                        "\" 0.50%",
                        "_for 0.26%",
                        "... 0.24%",
                        "âĢ¦ 0.16%"
                      ],
                      [
                        "_it 82.61%",
                        "_and 9.76%",
                        "_the 2.55%",
                        "\\n 0.45%",
                        "_when 0.37%",
                        "_she 0.32%",
                        "_that 0.31%",
                        "_It 0.29%",
                        "_as 0.26%",
                        "_he 0.17%"
                      ],
                      [
                        "_was 96.53%",
                        "'s 2.07%",
                        "_is 0.56%",
                        "_also 0.22%",
                        "_could 0.08%",
                        "_would 0.05%",
                        "_will 0.05%",
                        "_has 0.04%",
                        "_being 0.02%",
                        "_really 0.02%"
                      ],
                      [
                        "_the 99.12%",
                        "_also 0.58%",
                        "_a 0.03%",
                        "_then 0.02%",
                        "... 0.02%",
                        "_certa… 0.01%",
                        "âĢ¦ 0.01%",
                        ", 0.01%",
                        "_not 0.01%",
                        "_bad 0.01%"
                      ],
                      [
                        "_worst 96.03%",
                        "_best 1.88%",
                        "_worse 0.39%",
                        "_very 0.19%",
                        "_most 0.19%",
                        "_bad 0.15%",
                        "_w 0.12%",
                        "_darke… 0.07%",
                        "_end 0.07%",
                        "_great… 0.04%"
                      ],
                      [
                        "_of 99.83%",
                        "_time 0.02%",
                        "_ever 0.01%",
                        ". 0.01%",
                        "_that 0.01%",
                        "\\n 0.01%",
                        ", 0.01%",
                        "... 0.00%",
                        "_thing 0.00%",
                        "\" 0.00%"
                      ],
                      [
                        "_times 99.90%",
                        "_time 0.02%",
                        "_Times 0.02%",
                        "times 0.01%",
                        "_days 0.01%",
                        "_TIM 0.00%",
                        "_the 0.00%",
                        "_ways 0.00%",
                        "_things 0.00%",
                        "_years 0.00%"
                      ],
                      [
                        ". 24.38%",
                        ".\" 17.84%",
                        ",\" 12.65%",
                        ", 12.02%",
                        "\" 7.43%",
                        "\". 2.79%",
                        "' 2.11%",
                        "\", 2.10%",
                        ".' 2.07%",
                        "_and 1.04%"
                      ]
                    ]
                  ],
                  "hoverlabel": {
                    "bgcolor": "rgb(42, 42, 50)"
                  },
                  "hovertemplate": " %{customdata[0]}<br> %{customdata[1]}<br> %{customdata[2]}<br> %{customdata[3]}<br> %{customdata[4]}<br> %{customdata[5]}<br> %{customdata[6]}<br> %{customdata[7]}<br> %{customdata[8]}<br> %{customdata[9]}<extra></extra>",
                  "text": [
                    [
                      "it",
                      "_the",
                      "_the",
                      ".",
                      "_the",
                      "_times",
                      "_the",
                      "_it",
                      "_was",
                      "_the",
                      ",",
                      "_the",
                      "_times"
                    ],
                    [
                      "is",
                      "_a",
                      "_the",
                      "_to",
                      "_the",
                      ",",
                      "_and",
                      "_was",
                      "_a",
                      "_world",
                      ",",
                      "_the",
                      ","
                    ],
                    [
                      "ous",
                      "_a",
                      "\\n",
                      "_of",
                      "_the",
                      ",",
                      "_and",
                      "_was",
                      "_a",
                      "_world",
                      "_thing",
                      "_the",
                      ","
                    ],
                    [
                      "-",
                      "_a",
                      "_first",
                      "_way",
                      "_the",
                      ",",
                      "_and",
                      "_was",
                      "_a",
                      "_first",
                      "_of",
                      "_the",
                      ","
                    ],
                    [
                      "Âł",
                      "_a",
                      "_first",
                      "_way",
                      "_the",
                      ",",
                      "_but",
                      "_was",
                      "_a",
                      "_first",
                      "_of",
                      "_the",
                      "."
                    ],
                    [
                      "ľ",
                      "_a",
                      "_first",
                      "_way",
                      "_the",
                      ",",
                      "_but",
                      "_was",
                      "_a",
                      "_first",
                      "_thing",
                      "_the",
                      "."
                    ],
                    [
                      "ľ",
                      "_a",
                      "_first",
                      "_way",
                      "_the",
                      ",",
                      "_but",
                      "_was",
                      "_a",
                      "_first",
                      "_of",
                      "_the",
                      ","
                    ],
                    [
                      "ľ",
                      "_not",
                      "_first",
                      "_way",
                      "_the",
                      ",",
                      "_but",
                      "'s",
                      "_a",
                      "_perfe…",
                      "_of",
                      "_the",
                      ","
                    ],
                    [
                      "ľ",
                      "_not",
                      "_first",
                      "_way",
                      "_the",
                      ",",
                      "_but",
                      "'s",
                      "_a",
                      "_perfe…",
                      "_of",
                      "_the",
                      ","
                    ],
                    [
                      "ľ",
                      "_a",
                      "_first",
                      "_way",
                      "_the",
                      ",",
                      "_and",
                      "'s",
                      "_a",
                      "_perfe…",
                      "_of",
                      "_the",
                      ","
                    ],
                    [
                      "rd",
                      "_a",
                      "_first",
                      "_way",
                      "_the",
                      ",",
                      "_and",
                      "'s",
                      "_the",
                      "_worst",
                      "_of",
                      "_times",
                      ","
                    ],
                    [
                      "_alike",
                      "_a",
                      "_first",
                      "_way",
                      "_the",
                      ",",
                      "_and",
                      "'s",
                      "_the",
                      "_worst",
                      "_of",
                      "_times",
                      ","
                    ],
                    [
                      "_alike",
                      "_a",
                      "_first",
                      "_thing",
                      "_the",
                      ",",
                      "_and",
                      "_was",
                      "_the",
                      "_worst",
                      "_of",
                      "_times",
                      ","
                    ],
                    [
                      "_Skydr…",
                      "_a",
                      "_first",
                      "_thing",
                      "_the",
                      ",",
                      "_and",
                      "_was",
                      "_the",
                      "_worst",
                      "_of",
                      "_times",
                      ","
                    ],
                    [
                      "_Skydr…",
                      "_a",
                      "_first",
                      "_thing",
                      "_the",
                      ",",
                      "_and",
                      "_was",
                      "_the",
                      "_worst",
                      "_of",
                      "_times",
                      ","
                    ],
                    [
                      "_in",
                      "_a",
                      "_first",
                      "_thing",
                      "_times",
                      ",",
                      "_it",
                      "_was",
                      "_the",
                      "_worst",
                      "_of",
                      "_times",
                      "."
                    ],
                    [
                      "_in",
                      "_a",
                      "_first",
                      "_thing",
                      "_times",
                      ",",
                      "_it",
                      "_was",
                      "_the",
                      "_worst",
                      "_of",
                      "_times",
                      "."
                    ],
                    [
                      ",",
                      "_a",
                      "_first",
                      "_thing",
                      "_times",
                      ",",
                      "_it",
                      "_was",
                      "_the",
                      "_worst",
                      "_of",
                      "_times",
                      "."
                    ],
                    [
                      "'s",
                      "_a",
                      "_first",
                      "_thing",
                      "_times",
                      ",",
                      "_it",
                      "_was",
                      "_the",
                      "_worst",
                      "_of",
                      "_times",
                      "."
                    ]
                  ],
                  "texttemplate": "<b>%{text}</b>",
                  "type": "heatmap",
                  "x": [
                    "it",
                    "_was‌",
                    "_the‌‌",
                    "_best‌‌‌",
                    "_of‌‌‌‌",
                    "_times‌‌‌‌‌",
                    ",‌‌‌‌‌‌",
                    "_it‌‌‌‌‌‌‌",
                    "_was‌‌‌‌‌‌‌‌",
                    "_the‌‌‌‌‌‌‌‌‌",
                    "_worst‌‌‌‌‌‌‌‌‌‌",
                    "_of‌‌‌‌‌‌‌‌‌‌‌",
                    "_times‌‌‌‌‌‌‌‌‌‌‌‌"
                  ],
                  "y": [
                    "input",
                    "2",
                    "4",
                    "6",
                    "8",
                    "10",
                    "12",
                    "14",
                    "16",
                    "18",
                    "20",
                    "22",
                    "24",
                    "26",
                    "28",
                    "30",
                    "32",
                    "34",
                    "output"
                  ],
                  "z": [
                    [
                      6.615626335144043,
                      6.664221286773682,
                      7.995277404785156,
                      6.910763740539551,
                      5.755665302276611,
                      1.5201488733291626,
                      7.050161361694336,
                      6.029260635375977,
                      5.713066577911377,
                      7.966248035430908,
                      5.669186592102051,
                      6.104150295257568,
                      3.7416329383850098
                    ],
                    [
                      9.064855575561523,
                      7.78066349029541,
                      8.88479995727539,
                      7.791726112365723,
                      7.750550746917725,
                      5.2298359870910645,
                      6.494774341583252,
                      5.516340255737305,
                      7.009613990783691,
                      8.020925521850586,
                      7.00830078125,
                      6.398595809936523,
                      4.89107608795166
                    ],
                    [
                      8.104226112365723,
                      7.315745830535889,
                      8.513656616210938,
                      6.5930047035217285,
                      7.052936553955078,
                      4.334147930145264,
                      6.68228006362915,
                      5.03618860244751,
                      6.504152297973633,
                      8.2402925491333,
                      6.5393266677856445,
                      6.5385661125183105,
                      4.348194599151611
                    ],
                    [
                      9.028346061706543,
                      6.997282981872559,
                      8.47644329071045,
                      6.147903919219971,
                      6.978072643280029,
                      4.112825393676758,
                      6.8346710205078125,
                      4.834683418273926,
                      6.357505798339844,
                      8.297876358032227,
                      6.16888952255249,
                      6.430746078491211,
                      4.164472579956055
                    ],
                    [
                      10.361832618713379,
                      6.857395648956299,
                      7.421200275421143,
                      5.467641353607178,
                      6.25516939163208,
                      4.291708946228027,
                      5.7701311111450195,
                      4.523505687713623,
                      6.393437385559082,
                      7.707376956939697,
                      6.234695911407471,
                      6.4029011726379395,
                      4.361114978790283
                    ],
                    [
                      10.54861068725586,
                      6.973778247833252,
                      6.1171555519104,
                      5.516826152801514,
                      5.70145320892334,
                      3.5034639835357666,
                      5.225437164306641,
                      4.425625324249268,
                      6.01865816116333,
                      7.255065441131592,
                      6.12667989730835,
                      5.646963596343994,
                      3.3267972469329834
                    ],
                    [
                      10.54292106628418,
                      6.674056529998779,
                      5.7582316398620605,
                      5.78690242767334,
                      4.91751766204834,
                      3.6822593212127686,
                      4.773321628570557,
                      3.9984052181243896,
                      5.449872016906738,
                      6.3883442878723145,
                      4.766080379486084,
                      5.46572732925415,
                      3.2502365112304688
                    ],
                    [
                      10.532827377319336,
                      6.880246639251709,
                      5.625772476196289,
                      5.861940383911133,
                      3.6005609035491943,
                      4.27471399307251,
                      5.020423412322998,
                      3.7909493446350098,
                      5.879037857055664,
                      6.4300947189331055,
                      5.506292819976807,
                      5.986916542053223,
                      3.449708938598633
                    ],
                    [
                      10.557501792907715,
                      7.124457836151123,
                      6.163536071777344,
                      6.029842376708984,
                      3.7790119647979736,
                      3.1986351013183594,
                      5.282037734985352,
                      4.168003559112549,
                      5.923379898071289,
                      6.280825614929199,
                      6.060944557189941,
                      7.453543663024902,
                      3.5417141914367676
                    ],
                    [
                      10.598898887634277,
                      6.565014362335205,
                      6.149197101593018,
                      6.464277267456055,
                      3.866299867630005,
                      3.053164482116699,
                      5.0070414543151855,
                      3.3537535667419434,
                      5.535276889801025,
                      5.502830982208252,
                      3.7418644428253174,
                      7.0744242668151855,
                      2.243098020553589
                    ],
                    [
                      10.618997573852539,
                      6.4909234046936035,
                      6.306284427642822,
                      6.13502311706543,
                      4.542660236358643,
                      2.771216630935669,
                      4.0751800537109375,
                      2.3460114002227783,
                      4.114413261413574,
                      4.28935432434082,
                      1.5829930305480957,
                      6.544177532196045,
                      1.9418666362762451
                    ],
                    [
                      10.627238273620605,
                      6.845403671264648,
                      6.147914886474609,
                      6.180709362030029,
                      4.490875720977783,
                      3.212916135787964,
                      2.9223108291625977,
                      1.8954428434371948,
                      1.8673032522201538,
                      1.7340202331542969,
                      0.6194114685058594,
                      4.892673492431641,
                      1.8175181150436401
                    ],
                    [
                      10.662696838378906,
                      6.8811726570129395,
                      6.528020858764648,
                      6.220937728881836,
                      4.313960075378418,
                      2.5389404296875,
                      2.733419179916382,
                      1.3810714483261108,
                      0.48786529898643494,
                      1.5815966129302979,
                      0.2041114717721939,
                      0.9598758816719055,
                      2.000667095184326
                    ],
                    [
                      10.694413185119629,
                      7.002640724182129,
                      6.571740627288818,
                      6.585059642791748,
                      4.318036079406738,
                      2.1494345664978027,
                      2.713953733444214,
                      1.0541143417358398,
                      0.15577229857444763,
                      0.3534601628780365,
                      0.11471015214920044,
                      0.2825847864151001,
                      2.3617351055145264
                    ],
                    [
                      10.701616287231445,
                      7.012551307678223,
                      6.80280876159668,
                      6.529921531677246,
                      4.688821792602539,
                      1.625335931777954,
                      2.3692190647125244,
                      0.9341462254524231,
                      0.10316133499145508,
                      0.132018581032753,
                      0.055448733270168304,
                      0.07208933681249619,
                      1.9141478538513184
                    ],
                    [
                      10.685354232788086,
                      7.060706615447998,
                      6.945284843444824,
                      6.473235130310059,
                      4.4348649978637695,
                      1.6653668880462646,
                      2.0877180099487305,
                      0.48121729493141174,
                      0.1191810742020607,
                      0.1276172548532486,
                      0.02290654182434082,
                      0.0023058331571519375,
                      1.9980767965316772
                    ],
                    [
                      10.669207572937012,
                      7.114835262298584,
                      7.211818218231201,
                      6.925185203552246,
                      4.316362380981445,
                      1.0046097040176392,
                      1.770075798034668,
                      0.4477236568927765,
                      0.017980702221393585,
                      0.12940247356891632,
                      0.0035472011659294367,
                      0.004498723894357681,
                      2.468433380126953
                    ],
                    [
                      10.101837158203125,
                      7.505120277404785,
                      7.522634029388428,
                      7.046050071716309,
                      4.389199256896973,
                      1.261343240737915,
                      2.2030019760131836,
                      0.2919161021709442,
                      0.07879400253295898,
                      0.5225967168807983,
                      0.023869873955845833,
                      0.013559338636696339,
                      3.0950558185577393
                    ],
                    [
                      7.148932456970215,
                      6.128880500793457,
                      6.6449666023254395,
                      6.168832778930664,
                      2.5206809043884277,
                      0.8866928815841675,
                      0.8722915053367615,
                      0.2172309011220932,
                      0.07005704939365387,
                      0.28075748682022095,
                      0.020814452320337296,
                      0.01202279981225729,
                      2.7421786785125732
                    ]
                  ]
                }
              ],
              "layout": {
                "template": {
                  "data": {
                    "bar": [
                      {
                        "error_x": {
                          "color": "#2a3f5f"
                        },
                        "error_y": {
                          "color": "#2a3f5f"
                        },
                        "marker": {
                          "line": {
                            "color": "#E5ECF6",
                            "width": 0.5
                          },
                          "pattern": {
                            "fillmode": "overlay",
                            "size": 10,
                            "solidity": 0.2
                          }
                        },
                        "type": "bar"
                      }
                    ],
                    "barpolar": [
                      {
                        "marker": {
                          "line": {
                            "color": "#E5ECF6",
                            "width": 0.5
                          },
                          "pattern": {
                            "fillmode": "overlay",
                            "size": 10,
                            "solidity": 0.2
                          }
                        },
                        "type": "barpolar"
                      }
                    ],
                    "carpet": [
                      {
                        "aaxis": {
                          "endlinecolor": "#2a3f5f",
                          "gridcolor": "white",
                          "linecolor": "white",
                          "minorgridcolor": "white",
                          "startlinecolor": "#2a3f5f"
                        },
                        "baxis": {
                          "endlinecolor": "#2a3f5f",
                          "gridcolor": "white",
                          "linecolor": "white",
                          "minorgridcolor": "white",
                          "startlinecolor": "#2a3f5f"
                        },
                        "type": "carpet"
                      }
                    ],
                    "choropleth": [
                      {
                        "colorbar": {
                          "outlinewidth": 0,
                          "ticks": ""
                        },
                        "type": "choropleth"
                      }
                    ],
                    "contour": [
                      {
                        "colorbar": {
                          "outlinewidth": 0,
                          "ticks": ""
                        },
                        "colorscale": [
                          [
                            0,
                            "#0d0887"
                          ],
                          [
                            0.1111111111111111,
                            "#46039f"
                          ],
                          [
                            0.2222222222222222,
                            "#7201a8"
                          ],
                          [
                            0.3333333333333333,
                            "#9c179e"
                          ],
                          [
                            0.4444444444444444,
                            "#bd3786"
                          ],
                          [
                            0.5555555555555556,
                            "#d8576b"
                          ],
                          [
                            0.6666666666666666,
                            "#ed7953"
                          ],
                          [
                            0.7777777777777778,
                            "#fb9f3a"
                          ],
                          [
                            0.8888888888888888,
                            "#fdca26"
                          ],
                          [
                            1,
                            "#f0f921"
                          ]
                        ],
                        "type": "contour"
                      }
                    ],
                    "contourcarpet": [
                      {
                        "colorbar": {
                          "outlinewidth": 0,
                          "ticks": ""
                        },
                        "type": "contourcarpet"
                      }
                    ],
                    "heatmap": [
                      {
                        "colorbar": {
                          "outlinewidth": 0,
                          "ticks": ""
                        },
                        "colorscale": [
                          [
                            0,
                            "#0d0887"
                          ],
                          [
                            0.1111111111111111,
                            "#46039f"
                          ],
                          [
                            0.2222222222222222,
                            "#7201a8"
                          ],
                          [
                            0.3333333333333333,
                            "#9c179e"
                          ],
                          [
                            0.4444444444444444,
                            "#bd3786"
                          ],
                          [
                            0.5555555555555556,
                            "#d8576b"
                          ],
                          [
                            0.6666666666666666,
                            "#ed7953"
                          ],
                          [
                            0.7777777777777778,
                            "#fb9f3a"
                          ],
                          [
                            0.8888888888888888,
                            "#fdca26"
                          ],
                          [
                            1,
                            "#f0f921"
                          ]
                        ],
                        "type": "heatmap"
                      }
                    ],
                    "heatmapgl": [
                      {
                        "colorbar": {
                          "outlinewidth": 0,
                          "ticks": ""
                        },
                        "colorscale": [
                          [
                            0,
                            "#0d0887"
                          ],
                          [
                            0.1111111111111111,
                            "#46039f"
                          ],
                          [
                            0.2222222222222222,
                            "#7201a8"
                          ],
                          [
                            0.3333333333333333,
                            "#9c179e"
                          ],
                          [
                            0.4444444444444444,
                            "#bd3786"
                          ],
                          [
                            0.5555555555555556,
                            "#d8576b"
                          ],
                          [
                            0.6666666666666666,
                            "#ed7953"
                          ],
                          [
                            0.7777777777777778,
                            "#fb9f3a"
                          ],
                          [
                            0.8888888888888888,
                            "#fdca26"
                          ],
                          [
                            1,
                            "#f0f921"
                          ]
                        ],
                        "type": "heatmapgl"
                      }
                    ],
                    "histogram": [
                      {
                        "marker": {
                          "pattern": {
                            "fillmode": "overlay",
                            "size": 10,
                            "solidity": 0.2
                          }
                        },
                        "type": "histogram"
                      }
                    ],
                    "histogram2d": [
                      {
                        "colorbar": {
                          "outlinewidth": 0,
                          "ticks": ""
                        },
                        "colorscale": [
                          [
                            0,
                            "#0d0887"
                          ],
                          [
                            0.1111111111111111,
                            "#46039f"
                          ],
                          [
                            0.2222222222222222,
                            "#7201a8"
                          ],
                          [
                            0.3333333333333333,
                            "#9c179e"
                          ],
                          [
                            0.4444444444444444,
                            "#bd3786"
                          ],
                          [
                            0.5555555555555556,
                            "#d8576b"
                          ],
                          [
                            0.6666666666666666,
                            "#ed7953"
                          ],
                          [
                            0.7777777777777778,
                            "#fb9f3a"
                          ],
                          [
                            0.8888888888888888,
                            "#fdca26"
                          ],
                          [
                            1,
                            "#f0f921"
                          ]
                        ],
                        "type": "histogram2d"
                      }
                    ],
                    "histogram2dcontour": [
                      {
                        "colorbar": {
                          "outlinewidth": 0,
                          "ticks": ""
                        },
                        "colorscale": [
                          [
                            0,
                            "#0d0887"
                          ],
                          [
                            0.1111111111111111,
                            "#46039f"
                          ],
                          [
                            0.2222222222222222,
                            "#7201a8"
                          ],
                          [
                            0.3333333333333333,
                            "#9c179e"
                          ],
                          [
                            0.4444444444444444,
                            "#bd3786"
                          ],
                          [
                            0.5555555555555556,
                            "#d8576b"
                          ],
                          [
                            0.6666666666666666,
                            "#ed7953"
                          ],
                          [
                            0.7777777777777778,
                            "#fb9f3a"
                          ],
                          [
                            0.8888888888888888,
                            "#fdca26"
                          ],
                          [
                            1,
                            "#f0f921"
                          ]
                        ],
                        "type": "histogram2dcontour"
                      }
                    ],
                    "mesh3d": [
                      {
                        "colorbar": {
                          "outlinewidth": 0,
                          "ticks": ""
                        },
                        "type": "mesh3d"
                      }
                    ],
                    "parcoords": [
                      {
                        "line": {
                          "colorbar": {
                            "outlinewidth": 0,
                            "ticks": ""
                          }
                        },
                        "type": "parcoords"
                      }
                    ],
                    "pie": [
                      {
                        "automargin": true,
                        "type": "pie"
                      }
                    ],
                    "scatter": [
                      {
                        "fillpattern": {
                          "fillmode": "overlay",
                          "size": 10,
                          "solidity": 0.2
                        },
                        "type": "scatter"
                      }
                    ],
                    "scatter3d": [
                      {
                        "line": {
                          "colorbar": {
                            "outlinewidth": 0,
                            "ticks": ""
                          }
                        },
                        "marker": {
                          "colorbar": {
                            "outlinewidth": 0,
                            "ticks": ""
                          }
                        },
                        "type": "scatter3d"
                      }
                    ],
                    "scattercarpet": [
                      {
                        "marker": {
                          "colorbar": {
                            "outlinewidth": 0,
                            "ticks": ""
                          }
                        },
                        "type": "scattercarpet"
                      }
                    ],
                    "scattergeo": [
                      {
                        "marker": {
                          "colorbar": {
                            "outlinewidth": 0,
                            "ticks": ""
                          }
                        },
                        "type": "scattergeo"
                      }
                    ],
                    "scattergl": [
                      {
                        "marker": {
                          "colorbar": {
                            "outlinewidth": 0,
                            "ticks": ""
                          }
                        },
                        "type": "scattergl"
                      }
                    ],
                    "scattermapbox": [
                      {
                        "marker": {
                          "colorbar": {
                            "outlinewidth": 0,
                            "ticks": ""
                          }
                        },
                        "type": "scattermapbox"
                      }
                    ],
                    "scatterpolar": [
                      {
                        "marker": {
                          "colorbar": {
                            "outlinewidth": 0,
                            "ticks": ""
                          }
                        },
                        "type": "scatterpolar"
                      }
                    ],
                    "scatterpolargl": [
                      {
                        "marker": {
                          "colorbar": {
                            "outlinewidth": 0,
                            "ticks": ""
                          }
                        },
                        "type": "scatterpolargl"
                      }
                    ],
                    "scatterternary": [
                      {
                        "marker": {
                          "colorbar": {
                            "outlinewidth": 0,
                            "ticks": ""
                          }
                        },
                        "type": "scatterternary"
                      }
                    ],
                    "surface": [
                      {
                        "colorbar": {
                          "outlinewidth": 0,
                          "ticks": ""
                        },
                        "colorscale": [
                          [
                            0,
                            "#0d0887"
                          ],
                          [
                            0.1111111111111111,
                            "#46039f"
                          ],
                          [
                            0.2222222222222222,
                            "#7201a8"
                          ],
                          [
                            0.3333333333333333,
                            "#9c179e"
                          ],
                          [
                            0.4444444444444444,
                            "#bd3786"
                          ],
                          [
                            0.5555555555555556,
                            "#d8576b"
                          ],
                          [
                            0.6666666666666666,
                            "#ed7953"
                          ],
                          [
                            0.7777777777777778,
                            "#fb9f3a"
                          ],
                          [
                            0.8888888888888888,
                            "#fdca26"
                          ],
                          [
                            1,
                            "#f0f921"
                          ]
                        ],
                        "type": "surface"
                      }
                    ],
                    "table": [
                      {
                        "cells": {
                          "fill": {
                            "color": "#EBF0F8"
                          },
                          "line": {
                            "color": "white"
                          }
                        },
                        "header": {
                          "fill": {
                            "color": "#C8D4E3"
                          },
                          "line": {
                            "color": "white"
                          }
                        },
                        "type": "table"
                      }
                    ]
                  },
                  "layout": {
                    "annotationdefaults": {
                      "arrowcolor": "#2a3f5f",
                      "arrowhead": 0,
                      "arrowwidth": 1
                    },
                    "autotypenumbers": "strict",
                    "coloraxis": {
                      "colorbar": {
                        "outlinewidth": 0,
                        "ticks": ""
                      }
                    },
                    "colorscale": {
                      "diverging": [
                        [
                          0,
                          "#8e0152"
                        ],
                        [
                          0.1,
                          "#c51b7d"
                        ],
                        [
                          0.2,
                          "#de77ae"
                        ],
                        [
                          0.3,
                          "#f1b6da"
                        ],
                        [
                          0.4,
                          "#fde0ef"
                        ],
                        [
                          0.5,
                          "#f7f7f7"
                        ],
                        [
                          0.6,
                          "#e6f5d0"
                        ],
                        [
                          0.7,
                          "#b8e186"
                        ],
                        [
                          0.8,
                          "#7fbc41"
                        ],
                        [
                          0.9,
                          "#4d9221"
                        ],
                        [
                          1,
                          "#276419"
                        ]
                      ],
                      "sequential": [
                        [
                          0,
                          "#0d0887"
                        ],
                        [
                          0.1111111111111111,
                          "#46039f"
                        ],
                        [
                          0.2222222222222222,
                          "#7201a8"
                        ],
                        [
                          0.3333333333333333,
                          "#9c179e"
                        ],
                        [
                          0.4444444444444444,
                          "#bd3786"
                        ],
                        [
                          0.5555555555555556,
                          "#d8576b"
                        ],
                        [
                          0.6666666666666666,
                          "#ed7953"
                        ],
                        [
                          0.7777777777777778,
                          "#fb9f3a"
                        ],
                        [
                          0.8888888888888888,
                          "#fdca26"
                        ],
                        [
                          1,
                          "#f0f921"
                        ]
                      ],
                      "sequentialminus": [
                        [
                          0,
                          "#0d0887"
                        ],
                        [
                          0.1111111111111111,
                          "#46039f"
                        ],
                        [
                          0.2222222222222222,
                          "#7201a8"
                        ],
                        [
                          0.3333333333333333,
                          "#9c179e"
                        ],
                        [
                          0.4444444444444444,
                          "#bd3786"
                        ],
                        [
                          0.5555555555555556,
                          "#d8576b"
                        ],
                        [
                          0.6666666666666666,
                          "#ed7953"
                        ],
                        [
                          0.7777777777777778,
                          "#fb9f3a"
                        ],
                        [
                          0.8888888888888888,
                          "#fdca26"
                        ],
                        [
                          1,
                          "#f0f921"
                        ]
                      ]
                    },
                    "colorway": [
                      "#636efa",
                      "#EF553B",
                      "#00cc96",
                      "#ab63fa",
                      "#FFA15A",
                      "#19d3f3",
                      "#FF6692",
                      "#B6E880",
                      "#FF97FF",
                      "#FECB52"
                    ],
                    "font": {
                      "color": "#2a3f5f"
                    },
                    "geo": {
                      "bgcolor": "white",
                      "lakecolor": "white",
                      "landcolor": "#E5ECF6",
                      "showlakes": true,
                      "showland": true,
                      "subunitcolor": "white"
                    },
                    "hoverlabel": {
                      "align": "left"
                    },
                    "hovermode": "closest",
                    "mapbox": {
                      "style": "light"
                    },
                    "paper_bgcolor": "white",
                    "plot_bgcolor": "#E5ECF6",
                    "polar": {
                      "angularaxis": {
                        "gridcolor": "white",
                        "linecolor": "white",
                        "ticks": ""
                      },
                      "bgcolor": "#E5ECF6",
                      "radialaxis": {
                        "gridcolor": "white",
                        "linecolor": "white",
                        "ticks": ""
                      }
                    },
                    "scene": {
                      "xaxis": {
                        "backgroundcolor": "#E5ECF6",
                        "gridcolor": "white",
                        "gridwidth": 2,
                        "linecolor": "white",
                        "showbackground": true,
                        "ticks": "",
                        "zerolinecolor": "white"
                      },
                      "yaxis": {
                        "backgroundcolor": "#E5ECF6",
                        "gridcolor": "white",
                        "gridwidth": 2,
                        "linecolor": "white",
                        "showbackground": true,
                        "ticks": "",
                        "zerolinecolor": "white"
                      },
                      "zaxis": {
                        "backgroundcolor": "#E5ECF6",
                        "gridcolor": "white",
                        "gridwidth": 2,
                        "linecolor": "white",
                        "showbackground": true,
                        "ticks": "",
                        "zerolinecolor": "white"
                      }
                    },
                    "shapedefaults": {
                      "line": {
                        "color": "#2a3f5f"
                      }
                    },
                    "ternary": {
                      "aaxis": {
                        "gridcolor": "white",
                        "linecolor": "white",
                        "ticks": ""
                      },
                      "baxis": {
                        "gridcolor": "white",
                        "linecolor": "white",
                        "ticks": ""
                      },
                      "bgcolor": "#E5ECF6",
                      "caxis": {
                        "gridcolor": "white",
                        "linecolor": "white",
                        "ticks": ""
                      }
                    },
                    "title": {
                      "x": 0.05
                    },
                    "xaxis": {
                      "automargin": true,
                      "gridcolor": "white",
                      "linecolor": "white",
                      "ticks": "",
                      "title": {
                        "standoff": 15
                      },
                      "zerolinecolor": "white",
                      "zerolinewidth": 2
                    },
                    "yaxis": {
                      "automargin": true,
                      "gridcolor": "white",
                      "linecolor": "white",
                      "ticks": "",
                      "title": {
                        "standoff": 15
                      },
                      "zerolinecolor": "white",
                      "zerolinewidth": 2
                    }
                  }
                },
                "title": {
                  "text": "TunedLens (gpt2-large) entropy",
                  "x": 0.5
                },
                "width": 1240,
                "xaxis": {
                  "title": {
                    "text": "Input"
                  }
                },
                "yaxis": {
                  "title": {
                    "text": "Layer"
                  }
                }
              }
            }
          },
          "metadata": {},
          "output_type": "display_data"
        }
      ],
      "source": [
        "from tuned_lens.plotting import PredictionTrajectory\n",
        "import ipywidgets as widgets\n",
        "from plotly import graph_objects as go\n",
        "\n",
        "\n",
        "def make_plot(lens, text, layer_stride, statistic, token_range):\n",
        "    input_ids = tokenizer.encode(text)\n",
        "    targets = input_ids[1:] + [tokenizer.eos_token_id]\n",
        "\n",
        "    if len(input_ids) == 0:\n",
        "        return widgets.Text(\"Please enter some text.\")\n",
        "    \n",
        "    if (token_range[0] == token_range[1]):\n",
        "        return widgets.Text(\"Please provide valid token range.\")\n",
        "    pred_traj = PredictionTrajectory.from_lens_and_model(\n",
        "        lens=lens,\n",
        "        model=model,\n",
        "        input_ids=input_ids,\n",
        "        tokenizer=tokenizer,\n",
        "        targets=targets,\n",
        "        start_pos=token_range[0],\n",
        "        end_pos=token_range[1]\n",
        "    )\n",
        "\n",
        "    return getattr(pred_traj, statistic)().plot(\n",
        "        title=f\"{lens.__class__.__name__} ({model.name_or_path}) {statistic}\",\n",
        "        layer_stride=layer_stride,\n",
        "    )\n",
        "\n",
        "style = {'description_width': 'initial'}\n",
        "statistic_wdg = widgets.Dropdown(\n",
        "    options=[\n",
        "        ('Entropy', 'entropy'),\n",
        "        ('Cross Entropy', 'cross_entropy'),\n",
        "        ('Forward KL', 'forward_kl'),\n",
        "    ],\n",
        "    description='Select Statistic:',\n",
        "    style=style,\n",
        ")\n",
        "text_wdg = widgets.Textarea(\n",
        "    description=\"Input Text\",\n",
        "    value=\"it was the best of times, it was the worst of times\",\n",
        ")\n",
        "lens_wdg = widgets.Dropdown(\n",
        "    options=[('Tuned Lens', tuned_lens), ('Logit Lens', logit_lens)],\n",
        "    description='Select Lens:',\n",
        "    style=style,\n",
        ")\n",
        "\n",
        "layer_stride_wdg = widgets.BoundedIntText(\n",
        "    value=2,\n",
        "    min=1,\n",
        "    max=model.config.n_layer//2,\n",
        "    step=1,\n",
        "    description='Layer Stride:',\n",
        "    disabled=False\n",
        ")\n",
        "\n",
        "token_range_wdg = widgets.IntRangeSlider(\n",
        "    description='Token Range',\n",
        "    min=0,\n",
        "    max=1,\n",
        "    step=1,\n",
        "    style=style,\n",
        ")\n",
        "\n",
        "\n",
        "def update_token_range(*args):\n",
        "    token_range_wdg.max = len(tokenizer.encode(text_wdg.value))\n",
        "\n",
        "update_token_range()\n",
        "\n",
        "token_range_wdg.value = [0, token_range_wdg.max]\n",
        "text_wdg.observe(update_token_range, 'value')\n",
        "\n",
        "interact = widgets.interact.options(manual_name='Run Lens', manual=True)\n",
        "\n",
        "plot = interact(\n",
        "    make_plot,\n",
        "    text=text_wdg,\n",
        "    statistic=statistic_wdg,\n",
        "    lens=lens_wdg,\n",
        "    layer_stride=layer_stride_wdg,\n",
        "    token_range=token_range_wdg,\n",
        ")"
      ]
    }
  ],
  "metadata": {
    "colab": {
      "provenance": []
    },
    "kernelspec": {
      "display_name": "Python 3 (ipykernel)",
      "language": "python",
      "name": "python3"
    },
    "language_info": {
      "codemirror_mode": {
        "name": "ipython",
        "version": 3
      },
      "file_extension": ".py",
      "mimetype": "text/x-python",
      "name": "python",
      "nbconvert_exporter": "python",
      "pygments_lexer": "ipython3",
      "version": "3.10.9"
    },
    "vscode": {
      "interpreter": {
        "hash": "ca27fca65bbd5c56c827a2643e94bc7b2b551ee6ee2fe84566f2c789012bce4f"
      }
    }
  },
  "nbformat": 4,
  "nbformat_minor": 0
}
