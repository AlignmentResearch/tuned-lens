{
  "cells": [
    {
      "attachments": {},
      "cell_type": "markdown",
      "metadata": {
        "id": "FU-1GTZT28li"
      },
      "source": [
        "# The tuned lens 🔎\n",
        "A tuned lens allows us to peak at the iterative computations that a transformer is using the compute the next token.\n",
        "\n",
        "A lens into a transformer with n layers allows you to replace the last $m$ layers of the model with an [affine transformation](https://pytorch.org/docs/stable/generated/torch.nn.Linear.html) (we call these affine translators).\n",
        "\n",
        "This essentially skips over these last few layers and lets you see the best prediction that can be made from the model's representations, i.e. the residual stream, at layer $n - m$. Since the representations may be rotated, shifted, or stretched from layer to layer it's useful to train the len's affine translators specifically on each layer. This training is what differentiates this method from simpler approaches that decode the residual stream of the network directly using the unembedding layer i.e. the logit lens. We explain this process along with more applications of the method in [the paper](ttps://arxiv.org/abs/2303.08112).\n",
        "\n",
        "You can find the complete set of pretrained lenses on [the hugging face space](https://huggingface.co/spaces/AlignmentResearch/tuned-lens/tree/main/lens).\n",
        "\n",
        "## Usage\n",
        "Since the tuned lens produces a distribution of predictions to visualize it's output we need to we need to provide a summary statistic to plot.  The default is simply [entropy](https://en.wikipedia.org/wiki/Entropy_(information_theory)), but you can also choose the [cross entropy](https://en.wikipedia.org/wiki/Cross_entropy) with the target token, or the [KL divergence](https://en.wikipedia.org/wiki/Kullback%E2%80%93Leibler_divergence) between the model's predictions and the tuned lens' predictions. You can also hover over a token to see more of the distribution i.e. the top 10 most probable tokens and their probabilities.\n",
        "\n",
        "## Examples\n",
        "Some interesting examples you can try.\n",
        "\n",
        "### Copy paste:\n",
        "```\n",
        "Copy: A!2j!#u&NGApS&MkkHe8Gm!#\n",
        "Paste: A!2j!#u&NGApS&MkkHe8Gm!#\n",
        "```\n",
        "\n",
        "### Trivial in-context learning\n",
        "```\n",
        "inc 1 2\n",
        "inc 4 5\n",
        "inc 13 \n",
        "```\n",
        "\n",
        "#### Addition\n",
        "```\n",
        "add 1 1 2\n",
        "add 3 4 7\n",
        "add 13 2 \n",
        "```"
      ]
    },
    {
      "cell_type": "code",
      "execution_count": 1,
      "metadata": {
        "id": "W9cRsIdK2-Jm"
      },
      "outputs": [
        {
          "name": "stdout",
          "output_type": "stream",
          "text": [
            "Requirement already satisfied: tuned-lens in /home/lev/miniconda3/envs/tuned-lens/lib/python3.10/site-packages (0.1.0)\n",
            "Requirement already satisfied: plotly>=5.13.1 in /home/lev/miniconda3/envs/tuned-lens/lib/python3.10/site-packages (from tuned-lens) (5.13.1)\n",
            "Requirement already satisfied: accelerate in /home/lev/miniconda3/envs/tuned-lens/lib/python3.10/site-packages (from tuned-lens) (0.17.1)\n",
            "Requirement already satisfied: huggingface-hub>=0.12.1 in /home/lev/miniconda3/envs/tuned-lens/lib/python3.10/site-packages (from tuned-lens) (0.13.2)\n",
            "Requirement already satisfied: simple-parsing>=0.1.1 in /home/lev/miniconda3/envs/tuned-lens/lib/python3.10/site-packages (from tuned-lens) (0.1.2)\n",
            "Requirement already satisfied: torch>=1.13.0 in /home/lev/miniconda3/envs/tuned-lens/lib/python3.10/site-packages (from tuned-lens) (2.0.1)\n",
            "Requirement already satisfied: transformers>=4.28.1 in /home/lev/miniconda3/envs/tuned-lens/lib/python3.10/site-packages (from tuned-lens) (4.28.1)\n",
            "Requirement already satisfied: wandb>=0.15.0 in /home/lev/miniconda3/envs/tuned-lens/lib/python3.10/site-packages (from tuned-lens) (0.15.0)\n",
            "Requirement already satisfied: datasets in /home/lev/miniconda3/envs/tuned-lens/lib/python3.10/site-packages (from tuned-lens) (2.10.1)\n",
            "Requirement already satisfied: torchdata>=0.6.0 in /home/lev/miniconda3/envs/tuned-lens/lib/python3.10/site-packages (from tuned-lens) (0.6.1)\n",
            "Requirement already satisfied: requests in /home/lev/miniconda3/envs/tuned-lens/lib/python3.10/site-packages (from huggingface-hub>=0.12.1->tuned-lens) (2.28.2)\n",
            "Requirement already satisfied: tqdm>=4.42.1 in /home/lev/miniconda3/envs/tuned-lens/lib/python3.10/site-packages (from huggingface-hub>=0.12.1->tuned-lens) (4.65.0)\n",
            "Requirement already satisfied: pyyaml>=5.1 in /home/lev/miniconda3/envs/tuned-lens/lib/python3.10/site-packages (from huggingface-hub>=0.12.1->tuned-lens) (6.0)\n",
            "Requirement already satisfied: filelock in /home/lev/miniconda3/envs/tuned-lens/lib/python3.10/site-packages (from huggingface-hub>=0.12.1->tuned-lens) (3.10.0)\n",
            "Requirement already satisfied: typing-extensions>=3.7.4.3 in /home/lev/miniconda3/envs/tuned-lens/lib/python3.10/site-packages (from huggingface-hub>=0.12.1->tuned-lens) (4.5.0)\n",
            "Requirement already satisfied: packaging>=20.9 in /home/lev/miniconda3/envs/tuned-lens/lib/python3.10/site-packages (from huggingface-hub>=0.12.1->tuned-lens) (23.0)\n",
            "Requirement already satisfied: tenacity>=6.2.0 in /home/lev/miniconda3/envs/tuned-lens/lib/python3.10/site-packages (from plotly>=5.13.1->tuned-lens) (8.2.2)\n",
            "Requirement already satisfied: docstring-parser~=0.15 in /home/lev/miniconda3/envs/tuned-lens/lib/python3.10/site-packages (from simple-parsing>=0.1.1->tuned-lens) (0.15)\n",
            "Requirement already satisfied: nvidia-cuda-nvrtc-cu11==11.7.99 in /home/lev/miniconda3/envs/tuned-lens/lib/python3.10/site-packages (from torch>=1.13.0->tuned-lens) (11.7.99)\n",
            "Requirement already satisfied: nvidia-curand-cu11==10.2.10.91 in /home/lev/miniconda3/envs/tuned-lens/lib/python3.10/site-packages (from torch>=1.13.0->tuned-lens) (10.2.10.91)\n",
            "Requirement already satisfied: nvidia-cuda-cupti-cu11==11.7.101 in /home/lev/miniconda3/envs/tuned-lens/lib/python3.10/site-packages (from torch>=1.13.0->tuned-lens) (11.7.101)\n",
            "Requirement already satisfied: sympy in /home/lev/miniconda3/envs/tuned-lens/lib/python3.10/site-packages (from torch>=1.13.0->tuned-lens) (1.11.1)\n",
            "Requirement already satisfied: nvidia-cublas-cu11==11.10.3.66 in /home/lev/miniconda3/envs/tuned-lens/lib/python3.10/site-packages (from torch>=1.13.0->tuned-lens) (11.10.3.66)\n",
            "Requirement already satisfied: nvidia-nvtx-cu11==11.7.91 in /home/lev/miniconda3/envs/tuned-lens/lib/python3.10/site-packages (from torch>=1.13.0->tuned-lens) (11.7.91)\n",
            "Requirement already satisfied: nvidia-cusolver-cu11==11.4.0.1 in /home/lev/miniconda3/envs/tuned-lens/lib/python3.10/site-packages (from torch>=1.13.0->tuned-lens) (11.4.0.1)\n",
            "Requirement already satisfied: nvidia-cufft-cu11==10.9.0.58 in /home/lev/miniconda3/envs/tuned-lens/lib/python3.10/site-packages (from torch>=1.13.0->tuned-lens) (10.9.0.58)\n",
            "Requirement already satisfied: jinja2 in /home/lev/miniconda3/envs/tuned-lens/lib/python3.10/site-packages (from torch>=1.13.0->tuned-lens) (3.1.2)\n",
            "Requirement already satisfied: nvidia-cuda-runtime-cu11==11.7.99 in /home/lev/miniconda3/envs/tuned-lens/lib/python3.10/site-packages (from torch>=1.13.0->tuned-lens) (11.7.99)\n",
            "Requirement already satisfied: nvidia-cudnn-cu11==8.5.0.96 in /home/lev/miniconda3/envs/tuned-lens/lib/python3.10/site-packages (from torch>=1.13.0->tuned-lens) (8.5.0.96)\n",
            "Requirement already satisfied: nvidia-cusparse-cu11==11.7.4.91 in /home/lev/miniconda3/envs/tuned-lens/lib/python3.10/site-packages (from torch>=1.13.0->tuned-lens) (11.7.4.91)\n",
            "Requirement already satisfied: triton==2.0.0 in /home/lev/miniconda3/envs/tuned-lens/lib/python3.10/site-packages (from torch>=1.13.0->tuned-lens) (2.0.0)\n",
            "Requirement already satisfied: networkx in /home/lev/miniconda3/envs/tuned-lens/lib/python3.10/site-packages (from torch>=1.13.0->tuned-lens) (3.0)\n",
            "Requirement already satisfied: nvidia-nccl-cu11==2.14.3 in /home/lev/miniconda3/envs/tuned-lens/lib/python3.10/site-packages (from torch>=1.13.0->tuned-lens) (2.14.3)\n",
            "Requirement already satisfied: setuptools in /home/lev/miniconda3/envs/tuned-lens/lib/python3.10/site-packages (from nvidia-cublas-cu11==11.10.3.66->torch>=1.13.0->tuned-lens) (65.6.3)\n",
            "Requirement already satisfied: wheel in /home/lev/miniconda3/envs/tuned-lens/lib/python3.10/site-packages (from nvidia-cublas-cu11==11.10.3.66->torch>=1.13.0->tuned-lens) (0.38.4)\n",
            "Requirement already satisfied: cmake in /home/lev/miniconda3/envs/tuned-lens/lib/python3.10/site-packages (from triton==2.0.0->torch>=1.13.0->tuned-lens) (3.26.0)\n",
            "Requirement already satisfied: lit in /home/lev/miniconda3/envs/tuned-lens/lib/python3.10/site-packages (from triton==2.0.0->torch>=1.13.0->tuned-lens) (15.0.7)\n",
            "Requirement already satisfied: urllib3>=1.25 in /home/lev/miniconda3/envs/tuned-lens/lib/python3.10/site-packages (from torchdata>=0.6.0->tuned-lens) (1.26.15)\n",
            "Requirement already satisfied: regex!=2019.12.17 in /home/lev/miniconda3/envs/tuned-lens/lib/python3.10/site-packages (from transformers>=4.28.1->tuned-lens) (2022.10.31)\n",
            "Requirement already satisfied: tokenizers!=0.11.3,<0.14,>=0.11.1 in /home/lev/miniconda3/envs/tuned-lens/lib/python3.10/site-packages (from transformers>=4.28.1->tuned-lens) (0.13.3)\n",
            "Requirement already satisfied: numpy>=1.17 in /home/lev/miniconda3/envs/tuned-lens/lib/python3.10/site-packages (from transformers>=4.28.1->tuned-lens) (1.24.2)\n",
            "Requirement already satisfied: appdirs>=1.4.3 in /home/lev/miniconda3/envs/tuned-lens/lib/python3.10/site-packages (from wandb>=0.15.0->tuned-lens) (1.4.4)\n",
            "Requirement already satisfied: psutil>=5.0.0 in /home/lev/miniconda3/envs/tuned-lens/lib/python3.10/site-packages (from wandb>=0.15.0->tuned-lens) (5.9.4)\n",
            "Requirement already satisfied: sentry-sdk>=1.0.0 in /home/lev/miniconda3/envs/tuned-lens/lib/python3.10/site-packages (from wandb>=0.15.0->tuned-lens) (1.20.0)\n",
            "Requirement already satisfied: setproctitle in /home/lev/miniconda3/envs/tuned-lens/lib/python3.10/site-packages (from wandb>=0.15.0->tuned-lens) (1.3.2)\n",
            "Requirement already satisfied: Click!=8.0.0,>=7.0 in /home/lev/miniconda3/envs/tuned-lens/lib/python3.10/site-packages (from wandb>=0.15.0->tuned-lens) (8.1.3)\n",
            "Requirement already satisfied: pathtools in /home/lev/miniconda3/envs/tuned-lens/lib/python3.10/site-packages (from wandb>=0.15.0->tuned-lens) (0.1.2)\n",
            "Requirement already satisfied: protobuf!=4.21.0,<5,>=3.19.0 in /home/lev/miniconda3/envs/tuned-lens/lib/python3.10/site-packages (from wandb>=0.15.0->tuned-lens) (4.22.3)\n",
            "Requirement already satisfied: GitPython!=3.1.29,>=1.0.0 in /home/lev/miniconda3/envs/tuned-lens/lib/python3.10/site-packages (from wandb>=0.15.0->tuned-lens) (3.1.31)\n",
            "Requirement already satisfied: docker-pycreds>=0.4.0 in /home/lev/miniconda3/envs/tuned-lens/lib/python3.10/site-packages (from wandb>=0.15.0->tuned-lens) (0.4.0)\n",
            "Requirement already satisfied: pyarrow>=6.0.0 in /home/lev/miniconda3/envs/tuned-lens/lib/python3.10/site-packages (from datasets->tuned-lens) (11.0.0)\n",
            "Requirement already satisfied: fsspec[http]>=2021.11.1 in /home/lev/miniconda3/envs/tuned-lens/lib/python3.10/site-packages (from datasets->tuned-lens) (2023.3.0)\n",
            "Requirement already satisfied: responses<0.19 in /home/lev/miniconda3/envs/tuned-lens/lib/python3.10/site-packages (from datasets->tuned-lens) (0.18.0)\n",
            "Requirement already satisfied: multiprocess in /home/lev/miniconda3/envs/tuned-lens/lib/python3.10/site-packages (from datasets->tuned-lens) (0.70.14)\n",
            "Requirement already satisfied: xxhash in /home/lev/miniconda3/envs/tuned-lens/lib/python3.10/site-packages (from datasets->tuned-lens) (3.2.0)\n",
            "Requirement already satisfied: aiohttp in /home/lev/miniconda3/envs/tuned-lens/lib/python3.10/site-packages (from datasets->tuned-lens) (3.8.4)\n",
            "Requirement already satisfied: dill<0.3.7,>=0.3.0 in /home/lev/miniconda3/envs/tuned-lens/lib/python3.10/site-packages (from datasets->tuned-lens) (0.3.6)\n",
            "Requirement already satisfied: pandas in /home/lev/miniconda3/envs/tuned-lens/lib/python3.10/site-packages (from datasets->tuned-lens) (1.5.3)\n",
            "Requirement already satisfied: six>=1.4.0 in /home/lev/miniconda3/envs/tuned-lens/lib/python3.10/site-packages (from docker-pycreds>=0.4.0->wandb>=0.15.0->tuned-lens) (1.16.0)\n",
            "Requirement already satisfied: aiosignal>=1.1.2 in /home/lev/miniconda3/envs/tuned-lens/lib/python3.10/site-packages (from aiohttp->datasets->tuned-lens) (1.3.1)\n",
            "Requirement already satisfied: async-timeout<5.0,>=4.0.0a3 in /home/lev/miniconda3/envs/tuned-lens/lib/python3.10/site-packages (from aiohttp->datasets->tuned-lens) (4.0.2)\n",
            "Requirement already satisfied: yarl<2.0,>=1.0 in /home/lev/miniconda3/envs/tuned-lens/lib/python3.10/site-packages (from aiohttp->datasets->tuned-lens) (1.8.2)\n",
            "Requirement already satisfied: attrs>=17.3.0 in /home/lev/miniconda3/envs/tuned-lens/lib/python3.10/site-packages (from aiohttp->datasets->tuned-lens) (22.2.0)\n",
            "Requirement already satisfied: frozenlist>=1.1.1 in /home/lev/miniconda3/envs/tuned-lens/lib/python3.10/site-packages (from aiohttp->datasets->tuned-lens) (1.3.3)\n",
            "Requirement already satisfied: multidict<7.0,>=4.5 in /home/lev/miniconda3/envs/tuned-lens/lib/python3.10/site-packages (from aiohttp->datasets->tuned-lens) (6.0.4)\n",
            "Requirement already satisfied: charset-normalizer<4.0,>=2.0 in /home/lev/miniconda3/envs/tuned-lens/lib/python3.10/site-packages (from aiohttp->datasets->tuned-lens) (3.1.0)\n",
            "Requirement already satisfied: gitdb<5,>=4.0.1 in /home/lev/miniconda3/envs/tuned-lens/lib/python3.10/site-packages (from GitPython!=3.1.29,>=1.0.0->wandb>=0.15.0->tuned-lens) (4.0.10)\n",
            "Requirement already satisfied: idna<4,>=2.5 in /home/lev/miniconda3/envs/tuned-lens/lib/python3.10/site-packages (from requests->huggingface-hub>=0.12.1->tuned-lens) (3.4)\n",
            "Requirement already satisfied: certifi>=2017.4.17 in /home/lev/miniconda3/envs/tuned-lens/lib/python3.10/site-packages (from requests->huggingface-hub>=0.12.1->tuned-lens) (2022.12.7)\n",
            "Requirement already satisfied: MarkupSafe>=2.0 in /home/lev/miniconda3/envs/tuned-lens/lib/python3.10/site-packages (from jinja2->torch>=1.13.0->tuned-lens) (2.1.2)\n",
            "Requirement already satisfied: pytz>=2020.1 in /home/lev/miniconda3/envs/tuned-lens/lib/python3.10/site-packages (from pandas->datasets->tuned-lens) (2022.7.1)\n",
            "Requirement already satisfied: python-dateutil>=2.8.1 in /home/lev/miniconda3/envs/tuned-lens/lib/python3.10/site-packages (from pandas->datasets->tuned-lens) (2.8.2)\n",
            "Requirement already satisfied: mpmath>=0.19 in /home/lev/miniconda3/envs/tuned-lens/lib/python3.10/site-packages (from sympy->torch>=1.13.0->tuned-lens) (1.3.0)\n",
            "Requirement already satisfied: smmap<6,>=3.0.1 in /home/lev/miniconda3/envs/tuned-lens/lib/python3.10/site-packages (from gitdb<5,>=4.0.1->GitPython!=3.1.29,>=1.0.0->wandb>=0.15.0->tuned-lens) (5.0.0)\n"
          ]
        }
      ],
      "source": [
        "!pip install tuned-lens"
      ]
    },
    {
      "cell_type": "code",
      "execution_count": 2,
      "metadata": {
        "id": "FGd2YmyD28lk",
        "scrolled": true
      },
      "outputs": [],
      "source": [
        "import torch\n",
        "from tuned_lens.nn.lenses import TunedLens, LogitLens\n",
        "from transformers import AutoModelForCausalLM, AutoTokenizer\n",
        "\n",
        "device = torch.device('cpu')\n",
        "# To try a diffrent modle / lens check if the lens is avalible then modify this code\n",
        "model = AutoModelForCausalLM.from_pretrained('gpt2-large')\n",
        "model = model.to(device)\n",
        "tokenizer = AutoTokenizer.from_pretrained('gpt2-large')\n",
        "tuned_lens = TunedLens.from_model_and_pretrained(model)\n",
        "tuned_lens = tuned_lens.to(device)\n",
        "logit_lens = LogitLens.from_model(model)"
      ]
    },
    {
      "cell_type": "code",
      "execution_count": 3,
      "metadata": {
        "id": "z9AhuLaDBDRN"
      },
      "outputs": [],
      "source": [
        "try:\n",
        "  from google.colab import output\n",
        "  output.enable_custom_widget_manager()\n",
        "except:\n",
        "  pass"
      ]
    },
    {
      "cell_type": "code",
      "execution_count": 4,
      "metadata": {
        "id": "DL8f4i2828lm",
        "scrolled": true
      },
      "outputs": [
        {
          "data": {
            "application/vnd.jupyter.widget-view+json": {
              "model_id": "67c815c5b3654ed7b2fe2792c1a61d0c",
              "version_major": 2,
              "version_minor": 0
            },
            "text/plain": [
              "interactive(children=(Dropdown(description='Select Lens:', options=(('Tuned Lens', TunedLens(\n",
              "  (unembed): Une…"
            ]
          },
          "metadata": {},
          "output_type": "display_data"
        }
      ],
      "source": [
        "from tuned_lens.plotting import PredictionTrajectory\n",
        "import ipywidgets as widgets\n",
        "from plotly import graph_objects as go\n",
        "\n",
        "\n",
        "def make_plot(lens, text, layer_stride, statistic, token_range):\n",
        "    input_ids = tokenizer.encode(text)\n",
        "    targets = input_ids[1:] + [tokenizer.eos_token_id]\n",
        "\n",
        "    if len(input_ids) == 0:\n",
        "        return widgets.Text(\"Please enter some text.\")\n",
        "    \n",
        "    if (token_range[0] == token_range[1]):\n",
        "        return widgets.Text(\"Please provide valid token range.\")\n",
        "    pred_traj = PredictionTrajectory.from_lens_and_model(\n",
        "        lens=lens,\n",
        "        model=model,\n",
        "        input_ids=input_ids,\n",
        "        tokenizer=tokenizer,\n",
        "        targets=targets,\n",
        "    ).slice_sequence(slice(*token_range))\n",
        "\n",
        "    return getattr(pred_traj, statistic)().stride(layer_stride).figure(\n",
        "        title=f\"{lens.__class__.__name__} ({model.name_or_path}) {statistic}\",\n",
        "    )\n",
        "\n",
        "style = {'description_width': 'initial'}\n",
        "statistic_wdg = widgets.Dropdown(\n",
        "    options=[\n",
        "        ('Entropy', 'entropy'),\n",
        "        ('Cross Entropy', 'cross_entropy'),\n",
        "        ('Forward KL', 'forward_kl'),\n",
        "    ],\n",
        "    description='Select Statistic:',\n",
        "    style=style,\n",
        ")\n",
        "text_wdg = widgets.Textarea(\n",
        "    description=\"Input Text\",\n",
        "    value=\"it was the best of times, it was the worst of times\",\n",
        ")\n",
        "lens_wdg = widgets.Dropdown(\n",
        "    options=[('Tuned Lens', tuned_lens), ('Logit Lens', logit_lens)],\n",
        "    description='Select Lens:',\n",
        "    style=style,\n",
        ")\n",
        "\n",
        "layer_stride_wdg = widgets.BoundedIntText(\n",
        "    value=2,\n",
        "    min=1,\n",
        "    max=10,\n",
        "    step=1,\n",
        "    description='Layer Stride:',\n",
        "    disabled=False\n",
        ")\n",
        "\n",
        "token_range_wdg = widgets.IntRangeSlider(\n",
        "    description='Token Range',\n",
        "    min=0,\n",
        "    max=1,\n",
        "    step=1,\n",
        "    style=style,\n",
        ")\n",
        "\n",
        "\n",
        "def update_token_range(*args):\n",
        "    token_range_wdg.max = len(tokenizer.encode(text_wdg.value))\n",
        "\n",
        "update_token_range()\n",
        "\n",
        "token_range_wdg.value = [0, token_range_wdg.max]\n",
        "text_wdg.observe(update_token_range, 'value')\n",
        "\n",
        "interact = widgets.interact.options(manual_name='Run Lens', manual=True)\n",
        "\n",
        "plot = interact(\n",
        "    make_plot,\n",
        "    text=text_wdg,\n",
        "    statistic=statistic_wdg,\n",
        "    lens=lens_wdg,\n",
        "    layer_stride=layer_stride_wdg,\n",
        "    token_range=token_range_wdg,\n",
        ")"
      ]
    }
  ],
  "metadata": {
    "colab": {
      "provenance": []
    },
    "kernelspec": {
      "display_name": "Python 3 (ipykernel)",
      "language": "python",
      "name": "python3"
    },
    "language_info": {
      "codemirror_mode": {
        "name": "ipython",
        "version": 3
      },
      "file_extension": ".py",
      "mimetype": "text/x-python",
      "name": "python",
      "nbconvert_exporter": "python",
      "pygments_lexer": "ipython3",
      "version": "3.10.9"
    },
    "vscode": {
      "interpreter": {
        "hash": "ca27fca65bbd5c56c827a2643e94bc7b2b551ee6ee2fe84566f2c789012bce4f"
      }
    }
  },
  "nbformat": 4,
  "nbformat_minor": 0
}
