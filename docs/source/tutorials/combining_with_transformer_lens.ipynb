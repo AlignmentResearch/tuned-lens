{
 "cells": [
  {
   "attachments": {},
   "cell_type": "markdown",
   "metadata": {},
   "source": [
    "# Combing the Tuned Lens and the Transformer Lens\n",
    "\n",
    "The [TransformerLens](https://github.com/neelnanda-io/TransformerLens) is an another open source package designed to provide a standard interface for investigating the internals of transformer models. Integrating with TransformerLens and tuned-lens allows you to observe how model edits effect the prediction trajectories, and make use of all of the visualizations provided by the tuned lens package. This is primarily useful for preliminary investigations of circuits. Note this tutorial will be very hard to follow unless you are already familiar with the TransformerLens package.\n",
    "\n",
    "Inspired by work identifying [a grater than circuit in gpt2-small](https://arxiv.org/abs/2305.00586) bellow we provide a preliminary investigation of a grater than circuit in pythia-160m-deduped."
   ]
  },
  {
   "cell_type": "code",
   "execution_count": 141,
   "metadata": {},
   "outputs": [
    {
     "name": "stderr",
     "output_type": "stream",
     "text": [
      "Using pad_token, but it is not set yet.\n"
     ]
    },
    {
     "name": "stdout",
     "output_type": "stream",
     "text": [
      "Loaded pretrained model gpt2 into HookedTransformer\n"
     ]
    }
   ],
   "source": [
    "import torch as th\n",
    "from tuned_lens.plotting import PredictionTrajectory\n",
    "from tuned_lens.nn import TunedLens, Unembed, LogitLens\n",
    "import transformer_lens as tl\n",
    "\n",
    "model = tl.HookedTransformer.from_pretrained(\n",
    "    \"gpt2\",\n",
    "    device=\"cpu\",\n",
    "    fold_ln=False, # The tuned lens applies the final layer norm so we should not fold \n",
    "    # this into the unembed operation.\n",
    ")\n",
    "assert model.tokenizer is not None\n",
    "\n",
    "\n",
    "tuned_lens = TunedLens.from_unembed_and_pretrained(\n",
    "    unembed=Unembed(model),\n",
    "    lens_resource_id=\"gpt2\",\n",
    ")\n",
    "\n",
    "logit_lens = LogitLens.from_model(model)\n",
    "\n",
    "def to_targets(input_ids: th.Tensor):\n",
    "    return th.cat(\n",
    "        (input_ids[..., 1:], th.full(input_ids.shape[:-1] + (1,), model.tokenizer.eos_token_id)\n",
    "    ), dim=-1)\n"
   ]
  },
  {
   "cell_type": "code",
   "execution_count": 22,
   "metadata": {},
   "outputs": [
    {
     "data": {
      "application/vnd.jupyter.widget-view+json": {
       "model_id": "3f0530cbf03149e0bc4f195e0c8dc128",
       "version_major": 2,
       "version_minor": 0
      },
      "text/plain": [
       "  0%|          | 0/2 [00:00<?, ?it/s]"
      ]
     },
     "metadata": {},
     "output_type": "display_data"
    },
    {
     "data": {
      "text/plain": [
       "' The war lasted from 1754 to 1775,'"
      ]
     },
     "execution_count": 22,
     "metadata": {},
     "output_type": "execute_result"
    }
   ],
   "source": [
    "model.generate(\" The war lasted from 1754 to 17\", max_new_tokens=2, do_sample=True)"
   ]
  },
  {
   "cell_type": "code",
   "execution_count": 68,
   "metadata": {},
   "outputs": [],
   "source": [
    "str_tokens = model.to_str_tokens(\" The war lasted from\")\n",
    "\n",
    "dates = [[12, 21],\n",
    "         [11, 23],\n",
    "         [10, 24],\n",
    "         [16, 89],\n",
    "         [17, 54],\n",
    "         [14, 47],\n",
    "         [15, 36],\n",
    "         [17, 32],\n",
    "         [18, 21],\n",
    "         [11, 57]]\n",
    "\n",
    "input_ids_strs = [str_tokens + [\" \" + str(data[0]),  str(data[1]), \" to\", \" \" + str(data[0])] for data in dates]\n",
    "input_ids = th.tensor([[model.to_single_token(s) for s in arr] for arr in input_ids_strs])\n",
    "\n",
    "scrub_ids_strs = [str_tokens + [\" \" + str(data[0]),  \"01\", \" to\", \" \" + str(data[0])] for data in dates]\n",
    "scrub_ids = th.tensor([[model.to_single_token(s) for s in arr] for arr in scrub_ids_strs])\n",
    "\n",
    "targets_strs = [str_tokens[1:] + [\" \" + str(data[0]),  str(data[1]), \" to\", \" \" + str(data[0]), str(data[1] + 3)] for data in dates]\n",
    "targets = th.tensor([[model.to_single_token(s) for s in arr] for arr in targets_strs])\n",
    "anti_targets_strs = [str_tokens[1:] + [\" \" + str(data[0]),  str(data[1]), \" to\", \" \" + str(data[0]), str(data[1] - 3)] for data in dates]\n",
    "anti_targets = th.tensor([[model.to_single_token(s) for s in arr] for arr in anti_targets_strs])"
   ]
  },
  {
   "cell_type": "code",
   "execution_count": 142,
   "metadata": {},
   "outputs": [
    {
     "data": {
      "text/html": [
       "<pre style=\"white-space:pre;overflow-x:auto;line-height:normal;font-family:Menlo,'DejaVu Sans Mono',consolas,'Courier New',monospace\"><span style=\"color: #ff0000; text-decoration-color: #ff0000\">╭──────────────────────────────────────────────────────────────────────────────────────────────────╮</span>\n",
       "<span style=\"color: #ff0000; text-decoration-color: #ff0000\">│</span> <span style=\"color: #800080; text-decoration-color: #800080; font-weight: bold\">pprint</span><span style=\"font-weight: bold\">(</span>targets_strs<span style=\"font-weight: bold\">{</span>:<span style=\"color: #0000ff; text-decoration-color: #0000ff\">2</span><span style=\"font-weight: bold\">})</span>                                                                         <span style=\"color: #ff0000; text-decoration-color: #ff0000\">│</span>\n",
       "<span style=\"color: #ff0000; text-decoration-color: #ff0000\">│</span>                    <span style=\"color: #ff0000; text-decoration-color: #ff0000; font-weight: bold\">▲</span>                                                                             <span style=\"color: #ff0000; text-decoration-color: #ff0000\">│</span>\n",
       "<span style=\"color: #ff0000; text-decoration-color: #ff0000\">╰──────────────────────────────────────────────────────────────────────────────────────────────────╯</span>\n",
       "<span style=\"color: #ff0000; text-decoration-color: #ff0000; font-weight: bold\">SyntaxError: </span>invalid syntax\n",
       "</pre>\n"
      ],
      "text/plain": [
       "\u001b[91m╭──────────────────────────────────────────────────────────────────────────────────────────────────╮\u001b[0m\n",
       "\u001b[91m│\u001b[0m \u001b[1;35mpprint\u001b[0m\u001b[1m(\u001b[0mtargets_strs\u001b[1m{\u001b[0m:\u001b[94m2\u001b[0m\u001b[1m}\u001b[0m\u001b[1m)\u001b[0m                                                                         \u001b[91m│\u001b[0m\n",
       "\u001b[91m│\u001b[0m                    \u001b[1;91m▲\u001b[0m                                                                             \u001b[91m│\u001b[0m\n",
       "\u001b[91m╰──────────────────────────────────────────────────────────────────────────────────────────────────╯\u001b[0m\n",
       "\u001b[1;91mSyntaxError: \u001b[0minvalid syntax\n"
      ]
     },
     "metadata": {},
     "output_type": "display_data"
    }
   ],
   "source": [
    "from pprint import pprint\n",
    "\n",
    "log_prob_range = (-2, 2) # The range of log probabilities to plot \n",
    "# this makes the different plots comparable.\n",
    "\n",
    "print(\"Scrubed:\")\n",
    "pprint(scrub_ids_strs[:2], width=120)\n",
    "print(\"Input:\")\n",
    "pprint(input_ids_strs[:2], width=120)\n",
    "print(\"Targets:\")\n",
    "pprint(targets_strs[:2])\n",
    "print(\"Anti targets:\")\n",
    "pprint(anti_targets_strs[:2])\n",
    "\n",
    "with th.inference_mode():\n",
    "    logits, cache = model.run_with_cache(\n",
    "        input=input_ids, return_type=\"logits\"\n",
    "    )\n",
    "\n",
    "    pred_traj_clean = PredictionTrajectory.from_lens_and_cache(\n",
    "        lens=tuned_lens,\n",
    "        cache=cache,\n",
    "        model_logits=logits,\n",
    "        input_ids=input_ids,\n",
    "        targets=targets,\n",
    "        anti_targets=anti_targets,\n",
    "    )\n",
    "    \n",
    "    pred_traj_clean_logit = PredictionTrajectory.from_lens_and_cache(\n",
    "        lens=logit_lens,\n",
    "        cache=cache,\n",
    "        model_logits=logits,\n",
    "        input_ids=input_ids,\n",
    "        targets=targets,\n",
    "        anti_targets=anti_targets,\n",
    "    )"
   ]
  },
  {
   "cell_type": "code",
   "execution_count": 97,
   "metadata": {},
   "outputs": [
    {
     "data": {
      "application/vnd.plotly.v1+json": {
       "config": {
        "plotlyServerURL": "https://plot.ly"
       },
       "data": [
        {
         "colorbar": {
          "title": {
           "side": "right",
           "text": "Δ Log Prob Difference (nats)"
          }
         },
         "type": "heatmap",
         "x": [
          "<|endoftext|>",
          "ĠThe‌",
          "Ġwar‌‌",
          "Ġlasted‌‌‌",
          "Ġfrom‌‌‌‌",
          "*‌‌‌‌‌",
          "*‌‌‌‌‌‌",
          "Ġto‌‌‌‌‌‌‌",
          "*‌‌‌‌‌‌‌‌"
         ],
         "y": [
          "0",
          "1",
          "2",
          "3",
          "4",
          "5",
          "6",
          "7",
          "8",
          "9",
          "10",
          "11"
         ],
         "z": [
          [
           0,
           0,
           0,
           0,
           0,
           0,
           0,
           0,
           0.9558466076850891
          ],
          [
           0,
           0,
           0,
           0,
           0,
           0,
           0,
           0,
           -0.005056715104728937
          ],
          [
           0,
           0,
           0,
           0,
           0,
           0,
           0,
           0,
           0.15531273186206818
          ],
          [
           0,
           0,
           0,
           0,
           0,
           0,
           0,
           0,
           -0.019120216369628906
          ],
          [
           0,
           0,
           0,
           0,
           0,
           0,
           0,
           0,
           0.10324425995349884
          ],
          [
           0,
           0,
           0,
           0,
           0,
           0,
           0,
           0,
           0.15561553835868835
          ],
          [
           0,
           0,
           0,
           0,
           0,
           0,
           0,
           0,
           -0.14623311161994934
          ],
          [
           0,
           0,
           0,
           0,
           0,
           0,
           0,
           0,
           0.12515655159950256
          ],
          [
           0,
           0,
           0,
           0,
           0,
           0,
           0,
           0,
           0.35627907514572144
          ],
          [
           0,
           0,
           0,
           0,
           0,
           0,
           0,
           0,
           1.7028639316558838
          ],
          [
           0,
           0,
           0,
           0,
           0,
           0,
           0,
           0,
           0.6732691526412964
          ],
          [
           0,
           0,
           0,
           0,
           0,
           0,
           0,
           0,
           -0.332175612449646
          ]
         ],
         "zmax": 2,
         "zmin": -2
        }
       ],
       "layout": {
        "template": {
         "data": {
          "bar": [
           {
            "error_x": {
             "color": "#2a3f5f"
            },
            "error_y": {
             "color": "#2a3f5f"
            },
            "marker": {
             "line": {
              "color": "#E5ECF6",
              "width": 0.5
             },
             "pattern": {
              "fillmode": "overlay",
              "size": 10,
              "solidity": 0.2
             }
            },
            "type": "bar"
           }
          ],
          "barpolar": [
           {
            "marker": {
             "line": {
              "color": "#E5ECF6",
              "width": 0.5
             },
             "pattern": {
              "fillmode": "overlay",
              "size": 10,
              "solidity": 0.2
             }
            },
            "type": "barpolar"
           }
          ],
          "carpet": [
           {
            "aaxis": {
             "endlinecolor": "#2a3f5f",
             "gridcolor": "white",
             "linecolor": "white",
             "minorgridcolor": "white",
             "startlinecolor": "#2a3f5f"
            },
            "baxis": {
             "endlinecolor": "#2a3f5f",
             "gridcolor": "white",
             "linecolor": "white",
             "minorgridcolor": "white",
             "startlinecolor": "#2a3f5f"
            },
            "type": "carpet"
           }
          ],
          "choropleth": [
           {
            "colorbar": {
             "outlinewidth": 0,
             "ticks": ""
            },
            "type": "choropleth"
           }
          ],
          "contour": [
           {
            "colorbar": {
             "outlinewidth": 0,
             "ticks": ""
            },
            "colorscale": [
             [
              0,
              "#0d0887"
             ],
             [
              0.1111111111111111,
              "#46039f"
             ],
             [
              0.2222222222222222,
              "#7201a8"
             ],
             [
              0.3333333333333333,
              "#9c179e"
             ],
             [
              0.4444444444444444,
              "#bd3786"
             ],
             [
              0.5555555555555556,
              "#d8576b"
             ],
             [
              0.6666666666666666,
              "#ed7953"
             ],
             [
              0.7777777777777778,
              "#fb9f3a"
             ],
             [
              0.8888888888888888,
              "#fdca26"
             ],
             [
              1,
              "#f0f921"
             ]
            ],
            "type": "contour"
           }
          ],
          "contourcarpet": [
           {
            "colorbar": {
             "outlinewidth": 0,
             "ticks": ""
            },
            "type": "contourcarpet"
           }
          ],
          "heatmap": [
           {
            "colorbar": {
             "outlinewidth": 0,
             "ticks": ""
            },
            "colorscale": [
             [
              0,
              "#0d0887"
             ],
             [
              0.1111111111111111,
              "#46039f"
             ],
             [
              0.2222222222222222,
              "#7201a8"
             ],
             [
              0.3333333333333333,
              "#9c179e"
             ],
             [
              0.4444444444444444,
              "#bd3786"
             ],
             [
              0.5555555555555556,
              "#d8576b"
             ],
             [
              0.6666666666666666,
              "#ed7953"
             ],
             [
              0.7777777777777778,
              "#fb9f3a"
             ],
             [
              0.8888888888888888,
              "#fdca26"
             ],
             [
              1,
              "#f0f921"
             ]
            ],
            "type": "heatmap"
           }
          ],
          "heatmapgl": [
           {
            "colorbar": {
             "outlinewidth": 0,
             "ticks": ""
            },
            "colorscale": [
             [
              0,
              "#0d0887"
             ],
             [
              0.1111111111111111,
              "#46039f"
             ],
             [
              0.2222222222222222,
              "#7201a8"
             ],
             [
              0.3333333333333333,
              "#9c179e"
             ],
             [
              0.4444444444444444,
              "#bd3786"
             ],
             [
              0.5555555555555556,
              "#d8576b"
             ],
             [
              0.6666666666666666,
              "#ed7953"
             ],
             [
              0.7777777777777778,
              "#fb9f3a"
             ],
             [
              0.8888888888888888,
              "#fdca26"
             ],
             [
              1,
              "#f0f921"
             ]
            ],
            "type": "heatmapgl"
           }
          ],
          "histogram": [
           {
            "marker": {
             "pattern": {
              "fillmode": "overlay",
              "size": 10,
              "solidity": 0.2
             }
            },
            "type": "histogram"
           }
          ],
          "histogram2d": [
           {
            "colorbar": {
             "outlinewidth": 0,
             "ticks": ""
            },
            "colorscale": [
             [
              0,
              "#0d0887"
             ],
             [
              0.1111111111111111,
              "#46039f"
             ],
             [
              0.2222222222222222,
              "#7201a8"
             ],
             [
              0.3333333333333333,
              "#9c179e"
             ],
             [
              0.4444444444444444,
              "#bd3786"
             ],
             [
              0.5555555555555556,
              "#d8576b"
             ],
             [
              0.6666666666666666,
              "#ed7953"
             ],
             [
              0.7777777777777778,
              "#fb9f3a"
             ],
             [
              0.8888888888888888,
              "#fdca26"
             ],
             [
              1,
              "#f0f921"
             ]
            ],
            "type": "histogram2d"
           }
          ],
          "histogram2dcontour": [
           {
            "colorbar": {
             "outlinewidth": 0,
             "ticks": ""
            },
            "colorscale": [
             [
              0,
              "#0d0887"
             ],
             [
              0.1111111111111111,
              "#46039f"
             ],
             [
              0.2222222222222222,
              "#7201a8"
             ],
             [
              0.3333333333333333,
              "#9c179e"
             ],
             [
              0.4444444444444444,
              "#bd3786"
             ],
             [
              0.5555555555555556,
              "#d8576b"
             ],
             [
              0.6666666666666666,
              "#ed7953"
             ],
             [
              0.7777777777777778,
              "#fb9f3a"
             ],
             [
              0.8888888888888888,
              "#fdca26"
             ],
             [
              1,
              "#f0f921"
             ]
            ],
            "type": "histogram2dcontour"
           }
          ],
          "mesh3d": [
           {
            "colorbar": {
             "outlinewidth": 0,
             "ticks": ""
            },
            "type": "mesh3d"
           }
          ],
          "parcoords": [
           {
            "line": {
             "colorbar": {
              "outlinewidth": 0,
              "ticks": ""
             }
            },
            "type": "parcoords"
           }
          ],
          "pie": [
           {
            "automargin": true,
            "type": "pie"
           }
          ],
          "scatter": [
           {
            "fillpattern": {
             "fillmode": "overlay",
             "size": 10,
             "solidity": 0.2
            },
            "type": "scatter"
           }
          ],
          "scatter3d": [
           {
            "line": {
             "colorbar": {
              "outlinewidth": 0,
              "ticks": ""
             }
            },
            "marker": {
             "colorbar": {
              "outlinewidth": 0,
              "ticks": ""
             }
            },
            "type": "scatter3d"
           }
          ],
          "scattercarpet": [
           {
            "marker": {
             "colorbar": {
              "outlinewidth": 0,
              "ticks": ""
             }
            },
            "type": "scattercarpet"
           }
          ],
          "scattergeo": [
           {
            "marker": {
             "colorbar": {
              "outlinewidth": 0,
              "ticks": ""
             }
            },
            "type": "scattergeo"
           }
          ],
          "scattergl": [
           {
            "marker": {
             "colorbar": {
              "outlinewidth": 0,
              "ticks": ""
             }
            },
            "type": "scattergl"
           }
          ],
          "scattermapbox": [
           {
            "marker": {
             "colorbar": {
              "outlinewidth": 0,
              "ticks": ""
             }
            },
            "type": "scattermapbox"
           }
          ],
          "scatterpolar": [
           {
            "marker": {
             "colorbar": {
              "outlinewidth": 0,
              "ticks": ""
             }
            },
            "type": "scatterpolar"
           }
          ],
          "scatterpolargl": [
           {
            "marker": {
             "colorbar": {
              "outlinewidth": 0,
              "ticks": ""
             }
            },
            "type": "scatterpolargl"
           }
          ],
          "scatterternary": [
           {
            "marker": {
             "colorbar": {
              "outlinewidth": 0,
              "ticks": ""
             }
            },
            "type": "scatterternary"
           }
          ],
          "surface": [
           {
            "colorbar": {
             "outlinewidth": 0,
             "ticks": ""
            },
            "colorscale": [
             [
              0,
              "#0d0887"
             ],
             [
              0.1111111111111111,
              "#46039f"
             ],
             [
              0.2222222222222222,
              "#7201a8"
             ],
             [
              0.3333333333333333,
              "#9c179e"
             ],
             [
              0.4444444444444444,
              "#bd3786"
             ],
             [
              0.5555555555555556,
              "#d8576b"
             ],
             [
              0.6666666666666666,
              "#ed7953"
             ],
             [
              0.7777777777777778,
              "#fb9f3a"
             ],
             [
              0.8888888888888888,
              "#fdca26"
             ],
             [
              1,
              "#f0f921"
             ]
            ],
            "type": "surface"
           }
          ],
          "table": [
           {
            "cells": {
             "fill": {
              "color": "#EBF0F8"
             },
             "line": {
              "color": "white"
             }
            },
            "header": {
             "fill": {
              "color": "#C8D4E3"
             },
             "line": {
              "color": "white"
             }
            },
            "type": "table"
           }
          ]
         },
         "layout": {
          "annotationdefaults": {
           "arrowcolor": "#2a3f5f",
           "arrowhead": 0,
           "arrowwidth": 1
          },
          "autotypenumbers": "strict",
          "coloraxis": {
           "colorbar": {
            "outlinewidth": 0,
            "ticks": ""
           }
          },
          "colorscale": {
           "diverging": [
            [
             0,
             "#8e0152"
            ],
            [
             0.1,
             "#c51b7d"
            ],
            [
             0.2,
             "#de77ae"
            ],
            [
             0.3,
             "#f1b6da"
            ],
            [
             0.4,
             "#fde0ef"
            ],
            [
             0.5,
             "#f7f7f7"
            ],
            [
             0.6,
             "#e6f5d0"
            ],
            [
             0.7,
             "#b8e186"
            ],
            [
             0.8,
             "#7fbc41"
            ],
            [
             0.9,
             "#4d9221"
            ],
            [
             1,
             "#276419"
            ]
           ],
           "sequential": [
            [
             0,
             "#0d0887"
            ],
            [
             0.1111111111111111,
             "#46039f"
            ],
            [
             0.2222222222222222,
             "#7201a8"
            ],
            [
             0.3333333333333333,
             "#9c179e"
            ],
            [
             0.4444444444444444,
             "#bd3786"
            ],
            [
             0.5555555555555556,
             "#d8576b"
            ],
            [
             0.6666666666666666,
             "#ed7953"
            ],
            [
             0.7777777777777778,
             "#fb9f3a"
            ],
            [
             0.8888888888888888,
             "#fdca26"
            ],
            [
             1,
             "#f0f921"
            ]
           ],
           "sequentialminus": [
            [
             0,
             "#0d0887"
            ],
            [
             0.1111111111111111,
             "#46039f"
            ],
            [
             0.2222222222222222,
             "#7201a8"
            ],
            [
             0.3333333333333333,
             "#9c179e"
            ],
            [
             0.4444444444444444,
             "#bd3786"
            ],
            [
             0.5555555555555556,
             "#d8576b"
            ],
            [
             0.6666666666666666,
             "#ed7953"
            ],
            [
             0.7777777777777778,
             "#fb9f3a"
            ],
            [
             0.8888888888888888,
             "#fdca26"
            ],
            [
             1,
             "#f0f921"
            ]
           ]
          },
          "colorway": [
           "#636efa",
           "#EF553B",
           "#00cc96",
           "#ab63fa",
           "#FFA15A",
           "#19d3f3",
           "#FF6692",
           "#B6E880",
           "#FF97FF",
           "#FECB52"
          ],
          "font": {
           "color": "#2a3f5f"
          },
          "geo": {
           "bgcolor": "white",
           "lakecolor": "white",
           "landcolor": "#E5ECF6",
           "showlakes": true,
           "showland": true,
           "subunitcolor": "white"
          },
          "hoverlabel": {
           "align": "left"
          },
          "hovermode": "closest",
          "mapbox": {
           "style": "light"
          },
          "paper_bgcolor": "white",
          "plot_bgcolor": "#E5ECF6",
          "polar": {
           "angularaxis": {
            "gridcolor": "white",
            "linecolor": "white",
            "ticks": ""
           },
           "bgcolor": "#E5ECF6",
           "radialaxis": {
            "gridcolor": "white",
            "linecolor": "white",
            "ticks": ""
           }
          },
          "scene": {
           "xaxis": {
            "backgroundcolor": "#E5ECF6",
            "gridcolor": "white",
            "gridwidth": 2,
            "linecolor": "white",
            "showbackground": true,
            "ticks": "",
            "zerolinecolor": "white"
           },
           "yaxis": {
            "backgroundcolor": "#E5ECF6",
            "gridcolor": "white",
            "gridwidth": 2,
            "linecolor": "white",
            "showbackground": true,
            "ticks": "",
            "zerolinecolor": "white"
           },
           "zaxis": {
            "backgroundcolor": "#E5ECF6",
            "gridcolor": "white",
            "gridwidth": 2,
            "linecolor": "white",
            "showbackground": true,
            "ticks": "",
            "zerolinecolor": "white"
           }
          },
          "shapedefaults": {
           "line": {
            "color": "#2a3f5f"
           }
          },
          "ternary": {
           "aaxis": {
            "gridcolor": "white",
            "linecolor": "white",
            "ticks": ""
           },
           "baxis": {
            "gridcolor": "white",
            "linecolor": "white",
            "ticks": ""
           },
           "bgcolor": "#E5ECF6",
           "caxis": {
            "gridcolor": "white",
            "linecolor": "white",
            "ticks": ""
           }
          },
          "title": {
           "x": 0.05
          },
          "xaxis": {
           "automargin": true,
           "gridcolor": "white",
           "linecolor": "white",
           "ticks": "",
           "title": {
            "standoff": 15
           },
           "zerolinecolor": "white",
           "zerolinewidth": 2
          },
          "yaxis": {
           "automargin": true,
           "gridcolor": "white",
           "linecolor": "white",
           "ticks": "",
           "title": {
            "standoff": 15
           },
           "zerolinecolor": "white",
           "zerolinewidth": 2
          }
         }
        },
        "title": {
         "text": "Effects of each layer on the difference in log probability between the target and anti-target",
         "x": 0.5
        },
        "width": 920,
        "xaxis": {
         "title": {
          "text": "Input"
         }
        },
        "yaxis": {
         "title": {
          "text": "Layer"
         }
        }
       }
      }
     },
     "metadata": {},
     "output_type": "display_data"
    }
   ],
   "source": [
    "pred_traj_clean.log_prob_diff(delta=True).clip(*log_prob_range).figure(title=\"Effects of each layer on the difference in log probability between the target and anti-target\")"
   ]
  },
  {
   "cell_type": "code",
   "execution_count": 71,
   "metadata": {},
   "outputs": [
    {
     "data": {
      "application/vnd.plotly.v1+json": {
       "config": {
        "plotlyServerURL": "https://plot.ly"
       },
       "data": [
        {
         "colorbar": {
          "title": {
           "side": "right",
           "text": "Δ Log Prob Difference (nats)"
          }
         },
         "type": "heatmap",
         "x": [
          "<|endoftext|>",
          "ĠThe‌",
          "Ġwar‌‌",
          "Ġlasted‌‌‌",
          "Ġfrom‌‌‌‌",
          "*‌‌‌‌‌",
          "*‌‌‌‌‌‌",
          "Ġto‌‌‌‌‌‌‌",
          "*‌‌‌‌‌‌‌‌"
         ],
         "y": [
          "0",
          "1",
          "2",
          "3",
          "4",
          "5",
          "6",
          "7",
          "8",
          "9",
          "10",
          "11"
         ],
         "z": [
          [
           0,
           0,
           0,
           0,
           0,
           0,
           0,
           0,
           2
          ],
          [
           0,
           0,
           0,
           0,
           0,
           0,
           0,
           0,
           0.16409960389137268
          ],
          [
           0,
           0,
           0,
           0,
           0,
           0,
           0,
           0,
           0.31389570236206055
          ],
          [
           0,
           0,
           0,
           0,
           0,
           0,
           0,
           0,
           0.057257890701293945
          ],
          [
           0,
           0,
           0,
           0,
           0,
           0,
           0,
           0,
           0.2988871932029724
          ],
          [
           0,
           0,
           0,
           0,
           0,
           0,
           0,
           0,
           0.25136512517929077
          ],
          [
           0,
           0,
           0,
           0,
           0,
           0,
           0,
           0,
           -0.1741573065519333
          ],
          [
           0,
           0,
           0,
           0,
           0,
           0,
           0,
           0,
           0.17319145798683167
          ],
          [
           0,
           0,
           0,
           0,
           0,
           0,
           0,
           0,
           0.5654283761978149
          ],
          [
           0,
           0,
           0,
           0,
           0,
           0,
           0,
           0,
           2
          ],
          [
           0,
           0,
           0,
           0,
           0,
           0,
           0,
           0,
           1.4505528211593628
          ],
          [
           0,
           0,
           0,
           0,
           0,
           0,
           0,
           0,
           -2
          ]
         ],
         "zmax": 2,
         "zmin": -2
        }
       ],
       "layout": {
        "template": {
         "data": {
          "bar": [
           {
            "error_x": {
             "color": "#2a3f5f"
            },
            "error_y": {
             "color": "#2a3f5f"
            },
            "marker": {
             "line": {
              "color": "#E5ECF6",
              "width": 0.5
             },
             "pattern": {
              "fillmode": "overlay",
              "size": 10,
              "solidity": 0.2
             }
            },
            "type": "bar"
           }
          ],
          "barpolar": [
           {
            "marker": {
             "line": {
              "color": "#E5ECF6",
              "width": 0.5
             },
             "pattern": {
              "fillmode": "overlay",
              "size": 10,
              "solidity": 0.2
             }
            },
            "type": "barpolar"
           }
          ],
          "carpet": [
           {
            "aaxis": {
             "endlinecolor": "#2a3f5f",
             "gridcolor": "white",
             "linecolor": "white",
             "minorgridcolor": "white",
             "startlinecolor": "#2a3f5f"
            },
            "baxis": {
             "endlinecolor": "#2a3f5f",
             "gridcolor": "white",
             "linecolor": "white",
             "minorgridcolor": "white",
             "startlinecolor": "#2a3f5f"
            },
            "type": "carpet"
           }
          ],
          "choropleth": [
           {
            "colorbar": {
             "outlinewidth": 0,
             "ticks": ""
            },
            "type": "choropleth"
           }
          ],
          "contour": [
           {
            "colorbar": {
             "outlinewidth": 0,
             "ticks": ""
            },
            "colorscale": [
             [
              0,
              "#0d0887"
             ],
             [
              0.1111111111111111,
              "#46039f"
             ],
             [
              0.2222222222222222,
              "#7201a8"
             ],
             [
              0.3333333333333333,
              "#9c179e"
             ],
             [
              0.4444444444444444,
              "#bd3786"
             ],
             [
              0.5555555555555556,
              "#d8576b"
             ],
             [
              0.6666666666666666,
              "#ed7953"
             ],
             [
              0.7777777777777778,
              "#fb9f3a"
             ],
             [
              0.8888888888888888,
              "#fdca26"
             ],
             [
              1,
              "#f0f921"
             ]
            ],
            "type": "contour"
           }
          ],
          "contourcarpet": [
           {
            "colorbar": {
             "outlinewidth": 0,
             "ticks": ""
            },
            "type": "contourcarpet"
           }
          ],
          "heatmap": [
           {
            "colorbar": {
             "outlinewidth": 0,
             "ticks": ""
            },
            "colorscale": [
             [
              0,
              "#0d0887"
             ],
             [
              0.1111111111111111,
              "#46039f"
             ],
             [
              0.2222222222222222,
              "#7201a8"
             ],
             [
              0.3333333333333333,
              "#9c179e"
             ],
             [
              0.4444444444444444,
              "#bd3786"
             ],
             [
              0.5555555555555556,
              "#d8576b"
             ],
             [
              0.6666666666666666,
              "#ed7953"
             ],
             [
              0.7777777777777778,
              "#fb9f3a"
             ],
             [
              0.8888888888888888,
              "#fdca26"
             ],
             [
              1,
              "#f0f921"
             ]
            ],
            "type": "heatmap"
           }
          ],
          "heatmapgl": [
           {
            "colorbar": {
             "outlinewidth": 0,
             "ticks": ""
            },
            "colorscale": [
             [
              0,
              "#0d0887"
             ],
             [
              0.1111111111111111,
              "#46039f"
             ],
             [
              0.2222222222222222,
              "#7201a8"
             ],
             [
              0.3333333333333333,
              "#9c179e"
             ],
             [
              0.4444444444444444,
              "#bd3786"
             ],
             [
              0.5555555555555556,
              "#d8576b"
             ],
             [
              0.6666666666666666,
              "#ed7953"
             ],
             [
              0.7777777777777778,
              "#fb9f3a"
             ],
             [
              0.8888888888888888,
              "#fdca26"
             ],
             [
              1,
              "#f0f921"
             ]
            ],
            "type": "heatmapgl"
           }
          ],
          "histogram": [
           {
            "marker": {
             "pattern": {
              "fillmode": "overlay",
              "size": 10,
              "solidity": 0.2
             }
            },
            "type": "histogram"
           }
          ],
          "histogram2d": [
           {
            "colorbar": {
             "outlinewidth": 0,
             "ticks": ""
            },
            "colorscale": [
             [
              0,
              "#0d0887"
             ],
             [
              0.1111111111111111,
              "#46039f"
             ],
             [
              0.2222222222222222,
              "#7201a8"
             ],
             [
              0.3333333333333333,
              "#9c179e"
             ],
             [
              0.4444444444444444,
              "#bd3786"
             ],
             [
              0.5555555555555556,
              "#d8576b"
             ],
             [
              0.6666666666666666,
              "#ed7953"
             ],
             [
              0.7777777777777778,
              "#fb9f3a"
             ],
             [
              0.8888888888888888,
              "#fdca26"
             ],
             [
              1,
              "#f0f921"
             ]
            ],
            "type": "histogram2d"
           }
          ],
          "histogram2dcontour": [
           {
            "colorbar": {
             "outlinewidth": 0,
             "ticks": ""
            },
            "colorscale": [
             [
              0,
              "#0d0887"
             ],
             [
              0.1111111111111111,
              "#46039f"
             ],
             [
              0.2222222222222222,
              "#7201a8"
             ],
             [
              0.3333333333333333,
              "#9c179e"
             ],
             [
              0.4444444444444444,
              "#bd3786"
             ],
             [
              0.5555555555555556,
              "#d8576b"
             ],
             [
              0.6666666666666666,
              "#ed7953"
             ],
             [
              0.7777777777777778,
              "#fb9f3a"
             ],
             [
              0.8888888888888888,
              "#fdca26"
             ],
             [
              1,
              "#f0f921"
             ]
            ],
            "type": "histogram2dcontour"
           }
          ],
          "mesh3d": [
           {
            "colorbar": {
             "outlinewidth": 0,
             "ticks": ""
            },
            "type": "mesh3d"
           }
          ],
          "parcoords": [
           {
            "line": {
             "colorbar": {
              "outlinewidth": 0,
              "ticks": ""
             }
            },
            "type": "parcoords"
           }
          ],
          "pie": [
           {
            "automargin": true,
            "type": "pie"
           }
          ],
          "scatter": [
           {
            "fillpattern": {
             "fillmode": "overlay",
             "size": 10,
             "solidity": 0.2
            },
            "type": "scatter"
           }
          ],
          "scatter3d": [
           {
            "line": {
             "colorbar": {
              "outlinewidth": 0,
              "ticks": ""
             }
            },
            "marker": {
             "colorbar": {
              "outlinewidth": 0,
              "ticks": ""
             }
            },
            "type": "scatter3d"
           }
          ],
          "scattercarpet": [
           {
            "marker": {
             "colorbar": {
              "outlinewidth": 0,
              "ticks": ""
             }
            },
            "type": "scattercarpet"
           }
          ],
          "scattergeo": [
           {
            "marker": {
             "colorbar": {
              "outlinewidth": 0,
              "ticks": ""
             }
            },
            "type": "scattergeo"
           }
          ],
          "scattergl": [
           {
            "marker": {
             "colorbar": {
              "outlinewidth": 0,
              "ticks": ""
             }
            },
            "type": "scattergl"
           }
          ],
          "scattermapbox": [
           {
            "marker": {
             "colorbar": {
              "outlinewidth": 0,
              "ticks": ""
             }
            },
            "type": "scattermapbox"
           }
          ],
          "scatterpolar": [
           {
            "marker": {
             "colorbar": {
              "outlinewidth": 0,
              "ticks": ""
             }
            },
            "type": "scatterpolar"
           }
          ],
          "scatterpolargl": [
           {
            "marker": {
             "colorbar": {
              "outlinewidth": 0,
              "ticks": ""
             }
            },
            "type": "scatterpolargl"
           }
          ],
          "scatterternary": [
           {
            "marker": {
             "colorbar": {
              "outlinewidth": 0,
              "ticks": ""
             }
            },
            "type": "scatterternary"
           }
          ],
          "surface": [
           {
            "colorbar": {
             "outlinewidth": 0,
             "ticks": ""
            },
            "colorscale": [
             [
              0,
              "#0d0887"
             ],
             [
              0.1111111111111111,
              "#46039f"
             ],
             [
              0.2222222222222222,
              "#7201a8"
             ],
             [
              0.3333333333333333,
              "#9c179e"
             ],
             [
              0.4444444444444444,
              "#bd3786"
             ],
             [
              0.5555555555555556,
              "#d8576b"
             ],
             [
              0.6666666666666666,
              "#ed7953"
             ],
             [
              0.7777777777777778,
              "#fb9f3a"
             ],
             [
              0.8888888888888888,
              "#fdca26"
             ],
             [
              1,
              "#f0f921"
             ]
            ],
            "type": "surface"
           }
          ],
          "table": [
           {
            "cells": {
             "fill": {
              "color": "#EBF0F8"
             },
             "line": {
              "color": "white"
             }
            },
            "header": {
             "fill": {
              "color": "#C8D4E3"
             },
             "line": {
              "color": "white"
             }
            },
            "type": "table"
           }
          ]
         },
         "layout": {
          "annotationdefaults": {
           "arrowcolor": "#2a3f5f",
           "arrowhead": 0,
           "arrowwidth": 1
          },
          "autotypenumbers": "strict",
          "coloraxis": {
           "colorbar": {
            "outlinewidth": 0,
            "ticks": ""
           }
          },
          "colorscale": {
           "diverging": [
            [
             0,
             "#8e0152"
            ],
            [
             0.1,
             "#c51b7d"
            ],
            [
             0.2,
             "#de77ae"
            ],
            [
             0.3,
             "#f1b6da"
            ],
            [
             0.4,
             "#fde0ef"
            ],
            [
             0.5,
             "#f7f7f7"
            ],
            [
             0.6,
             "#e6f5d0"
            ],
            [
             0.7,
             "#b8e186"
            ],
            [
             0.8,
             "#7fbc41"
            ],
            [
             0.9,
             "#4d9221"
            ],
            [
             1,
             "#276419"
            ]
           ],
           "sequential": [
            [
             0,
             "#0d0887"
            ],
            [
             0.1111111111111111,
             "#46039f"
            ],
            [
             0.2222222222222222,
             "#7201a8"
            ],
            [
             0.3333333333333333,
             "#9c179e"
            ],
            [
             0.4444444444444444,
             "#bd3786"
            ],
            [
             0.5555555555555556,
             "#d8576b"
            ],
            [
             0.6666666666666666,
             "#ed7953"
            ],
            [
             0.7777777777777778,
             "#fb9f3a"
            ],
            [
             0.8888888888888888,
             "#fdca26"
            ],
            [
             1,
             "#f0f921"
            ]
           ],
           "sequentialminus": [
            [
             0,
             "#0d0887"
            ],
            [
             0.1111111111111111,
             "#46039f"
            ],
            [
             0.2222222222222222,
             "#7201a8"
            ],
            [
             0.3333333333333333,
             "#9c179e"
            ],
            [
             0.4444444444444444,
             "#bd3786"
            ],
            [
             0.5555555555555556,
             "#d8576b"
            ],
            [
             0.6666666666666666,
             "#ed7953"
            ],
            [
             0.7777777777777778,
             "#fb9f3a"
            ],
            [
             0.8888888888888888,
             "#fdca26"
            ],
            [
             1,
             "#f0f921"
            ]
           ]
          },
          "colorway": [
           "#636efa",
           "#EF553B",
           "#00cc96",
           "#ab63fa",
           "#FFA15A",
           "#19d3f3",
           "#FF6692",
           "#B6E880",
           "#FF97FF",
           "#FECB52"
          ],
          "font": {
           "color": "#2a3f5f"
          },
          "geo": {
           "bgcolor": "white",
           "lakecolor": "white",
           "landcolor": "#E5ECF6",
           "showlakes": true,
           "showland": true,
           "subunitcolor": "white"
          },
          "hoverlabel": {
           "align": "left"
          },
          "hovermode": "closest",
          "mapbox": {
           "style": "light"
          },
          "paper_bgcolor": "white",
          "plot_bgcolor": "#E5ECF6",
          "polar": {
           "angularaxis": {
            "gridcolor": "white",
            "linecolor": "white",
            "ticks": ""
           },
           "bgcolor": "#E5ECF6",
           "radialaxis": {
            "gridcolor": "white",
            "linecolor": "white",
            "ticks": ""
           }
          },
          "scene": {
           "xaxis": {
            "backgroundcolor": "#E5ECF6",
            "gridcolor": "white",
            "gridwidth": 2,
            "linecolor": "white",
            "showbackground": true,
            "ticks": "",
            "zerolinecolor": "white"
           },
           "yaxis": {
            "backgroundcolor": "#E5ECF6",
            "gridcolor": "white",
            "gridwidth": 2,
            "linecolor": "white",
            "showbackground": true,
            "ticks": "",
            "zerolinecolor": "white"
           },
           "zaxis": {
            "backgroundcolor": "#E5ECF6",
            "gridcolor": "white",
            "gridwidth": 2,
            "linecolor": "white",
            "showbackground": true,
            "ticks": "",
            "zerolinecolor": "white"
           }
          },
          "shapedefaults": {
           "line": {
            "color": "#2a3f5f"
           }
          },
          "ternary": {
           "aaxis": {
            "gridcolor": "white",
            "linecolor": "white",
            "ticks": ""
           },
           "baxis": {
            "gridcolor": "white",
            "linecolor": "white",
            "ticks": ""
           },
           "bgcolor": "#E5ECF6",
           "caxis": {
            "gridcolor": "white",
            "linecolor": "white",
            "ticks": ""
           }
          },
          "title": {
           "x": 0.05
          },
          "xaxis": {
           "automargin": true,
           "gridcolor": "white",
           "linecolor": "white",
           "ticks": "",
           "title": {
            "standoff": 15
           },
           "zerolinecolor": "white",
           "zerolinewidth": 2
          },
          "yaxis": {
           "automargin": true,
           "gridcolor": "white",
           "linecolor": "white",
           "ticks": "",
           "title": {
            "standoff": 15
           },
           "zerolinecolor": "white",
           "zerolinewidth": 2
          }
         }
        },
        "title": {
         "text": "Same as above but with the logit lens",
         "x": 0.5
        },
        "width": 920,
        "xaxis": {
         "title": {
          "text": "Input"
         }
        },
        "yaxis": {
         "title": {
          "text": "Layer"
         }
        }
       }
      }
     },
     "metadata": {},
     "output_type": "display_data"
    }
   ],
   "source": [
    "pred_traj_clean_logit.log_prob_diff(delta=True).clip(*log_prob_range).figure(title=\"Same as above but with the logit lens\")"
   ]
  },
  {
   "attachments": {},
   "cell_type": "markdown",
   "metadata": {},
   "source": [
    "The above results mostly agree with the results in the paper. We see that the majority\n",
    "of the contributions to the correct logits do indeed come from the layers 8 through 11.\n",
    "Interestingly, it seems like layer 11, in particular the MLP, is actually acting as a regularizer and reducing\n",
    "the confidence in the target prediction.\n",
    "\n",
    "## Lets start removing components!\n",
    "\n",
    "Now we will show how to ablate the components of this circuit. I recommend, opening up\n",
    "this in google colab and playing with it!\n",
    "\n",
    "Here are some exercises you can try:\n",
    "* What are the effects of ablating MLP on layer 8?\n",
    "* What happens when we remove MLP 11?\n",
    "   * How much collateral damage does this cause?\n",
    "* How do the different types of ablation work?\n",
    "   * Why might we prefer a swap ablation to a zero ablation [hint](https://www.lesswrong.com/posts/JvZhhzycHu2Yd57RN/causal-scrubbing-a-method-for-rigorously-testing#4_2_Problems_with_zero_and_mean_ablation).\n",
    "* CHALLENGE: What edit would you make to the model that disrupts the grater than circuit\n",
    "but that has minimal effects on the models behavior."
   ]
  },
  {
   "cell_type": "code",
   "execution_count": 72,
   "metadata": {},
   "outputs": [],
   "source": [
    "model.cfg.use_attn_result = True\n",
    "scrubed_logits, scrubed_cache = model.run_with_cache(\n",
    "    input=scrub_ids, return_type=\"logits\"\n",
    ")\n",
    "model.cfg.use_attn_result = False"
   ]
  },
  {
   "cell_type": "code",
   "execution_count": 137,
   "metadata": {},
   "outputs": [],
   "source": [
    "import transformer_lens.utils as utils\n",
    "from functools import partial\n",
    "\n",
    "\n",
    "def zero_ablation_hook(result: th.Tensor, hook: tl.hook_points.HookPoint) -> th.Tensor:\n",
    "    result[:] = 0\n",
    "    return result\n",
    "\n",
    "def swap_ablation_hook(result: th.Tensor, hook: tl.hook_points.HookPoint) -> th.Tensor:\n",
    "    result[:] = scrubed_cache[hook.name]\n",
    "    return result\n",
    "\n",
    "\n",
    "MLPS_TO_ABLATE = [9]\n",
    "mlp_hooks = [(utils.get_act_name(\"mlp_out\", layer), zero_ablation_hook) for layer in MLPS_TO_ABLATE]\n",
    "\n",
    "ATTN_MODULES_TO_ABLATE = []\n",
    "attn_hooks = [(utils.get_act_name(\"result\", layer), zero_ablation_hook) for layer in ATTN_MODULES_TO_ABLATE]\n",
    "\n",
    "with model.hooks(fwd_hooks=(mlp_hooks + attn_hooks)), th.inference_mode():\n",
    "    model.cfg.use_attn_result = True\n",
    "    logits, cache = model.run_with_cache(\n",
    "        input=input_ids, return_type=\"logits\"\n",
    "    )\n",
    "    model.cfg.use_attn_result = False\n",
    "\n",
    "    pred_traj_ablated = PredictionTrajectory.from_lens_and_cache(\n",
    "        lens=tuned_lens,\n",
    "        cache=cache,\n",
    "        model_logits=logits,\n",
    "        input_ids=input_ids,\n",
    "        targets=targets,\n",
    "        anti_targets=anti_targets,\n",
    "    )\n",
    "\n",
    "    pred_traj_ablated_logit = PredictionTrajectory.from_lens_and_cache(\n",
    "        lens=logit_lens,\n",
    "        cache=cache,\n",
    "        model_logits=logits,\n",
    "        input_ids=input_ids,\n",
    "        targets=targets,\n",
    "        anti_targets=anti_targets,\n",
    "    )"
   ]
  },
  {
   "cell_type": "code",
   "execution_count": 138,
   "metadata": {},
   "outputs": [
    {
     "data": {
      "application/vnd.plotly.v1+json": {
       "config": {
        "plotlyServerURL": "https://plot.ly"
       },
       "data": [
        {
         "colorbar": {
          "title": {
           "side": "right",
           "text": "Δ Log Prob Difference (nats)"
          }
         },
         "type": "heatmap",
         "x": [
          "<|endoftext|>",
          "ĠThe‌",
          "Ġwar‌‌",
          "Ġlasted‌‌‌",
          "Ġfrom‌‌‌‌",
          "*‌‌‌‌‌",
          "*‌‌‌‌‌‌",
          "Ġto‌‌‌‌‌‌‌",
          "*‌‌‌‌‌‌‌‌"
         ],
         "y": [
          "0",
          "1",
          "2",
          "3",
          "4",
          "5",
          "6",
          "7",
          "8",
          "9",
          "10",
          "11"
         ],
         "z": [
          [
           0,
           0,
           0,
           0,
           0,
           0,
           0,
           0,
           0.9558475613594055
          ],
          [
           0,
           0,
           0,
           0,
           0,
           0,
           0,
           0,
           -0.005056858062744141
          ],
          [
           0,
           0,
           0,
           0,
           0,
           0,
           0,
           0,
           0.15531182289123535
          ],
          [
           0,
           0,
           0,
           0,
           0,
           0,
           0,
           0,
           -0.019121408462524414
          ],
          [
           0,
           0,
           0,
           0,
           0,
           0,
           0,
           0,
           0.10324487835168839
          ],
          [
           0,
           0,
           0,
           0,
           0,
           0,
           0,
           0,
           0.15561822056770325
          ],
          [
           0,
           0,
           0,
           0,
           0,
           0,
           0,
           0,
           -0.14623475074768066
          ],
          [
           0,
           0,
           0,
           0,
           0,
           0,
           0,
           0,
           0.12515754997730255
          ],
          [
           0,
           0,
           0,
           0,
           0,
           0,
           0,
           0,
           0.3562786281108856
          ],
          [
           0,
           0,
           0,
           0,
           0,
           0,
           0,
           0,
           0.5041414499282837
          ],
          [
           0,
           0,
           0,
           0,
           0,
           0,
           0,
           0,
           0.7691663503646851
          ],
          [
           0,
           0,
           0,
           0,
           0,
           0,
           0,
           0,
           0.10416929423809052
          ]
         ],
         "zmax": 2,
         "zmin": -2
        }
       ],
       "layout": {
        "template": {
         "data": {
          "bar": [
           {
            "error_x": {
             "color": "#2a3f5f"
            },
            "error_y": {
             "color": "#2a3f5f"
            },
            "marker": {
             "line": {
              "color": "#E5ECF6",
              "width": 0.5
             },
             "pattern": {
              "fillmode": "overlay",
              "size": 10,
              "solidity": 0.2
             }
            },
            "type": "bar"
           }
          ],
          "barpolar": [
           {
            "marker": {
             "line": {
              "color": "#E5ECF6",
              "width": 0.5
             },
             "pattern": {
              "fillmode": "overlay",
              "size": 10,
              "solidity": 0.2
             }
            },
            "type": "barpolar"
           }
          ],
          "carpet": [
           {
            "aaxis": {
             "endlinecolor": "#2a3f5f",
             "gridcolor": "white",
             "linecolor": "white",
             "minorgridcolor": "white",
             "startlinecolor": "#2a3f5f"
            },
            "baxis": {
             "endlinecolor": "#2a3f5f",
             "gridcolor": "white",
             "linecolor": "white",
             "minorgridcolor": "white",
             "startlinecolor": "#2a3f5f"
            },
            "type": "carpet"
           }
          ],
          "choropleth": [
           {
            "colorbar": {
             "outlinewidth": 0,
             "ticks": ""
            },
            "type": "choropleth"
           }
          ],
          "contour": [
           {
            "colorbar": {
             "outlinewidth": 0,
             "ticks": ""
            },
            "colorscale": [
             [
              0,
              "#0d0887"
             ],
             [
              0.1111111111111111,
              "#46039f"
             ],
             [
              0.2222222222222222,
              "#7201a8"
             ],
             [
              0.3333333333333333,
              "#9c179e"
             ],
             [
              0.4444444444444444,
              "#bd3786"
             ],
             [
              0.5555555555555556,
              "#d8576b"
             ],
             [
              0.6666666666666666,
              "#ed7953"
             ],
             [
              0.7777777777777778,
              "#fb9f3a"
             ],
             [
              0.8888888888888888,
              "#fdca26"
             ],
             [
              1,
              "#f0f921"
             ]
            ],
            "type": "contour"
           }
          ],
          "contourcarpet": [
           {
            "colorbar": {
             "outlinewidth": 0,
             "ticks": ""
            },
            "type": "contourcarpet"
           }
          ],
          "heatmap": [
           {
            "colorbar": {
             "outlinewidth": 0,
             "ticks": ""
            },
            "colorscale": [
             [
              0,
              "#0d0887"
             ],
             [
              0.1111111111111111,
              "#46039f"
             ],
             [
              0.2222222222222222,
              "#7201a8"
             ],
             [
              0.3333333333333333,
              "#9c179e"
             ],
             [
              0.4444444444444444,
              "#bd3786"
             ],
             [
              0.5555555555555556,
              "#d8576b"
             ],
             [
              0.6666666666666666,
              "#ed7953"
             ],
             [
              0.7777777777777778,
              "#fb9f3a"
             ],
             [
              0.8888888888888888,
              "#fdca26"
             ],
             [
              1,
              "#f0f921"
             ]
            ],
            "type": "heatmap"
           }
          ],
          "heatmapgl": [
           {
            "colorbar": {
             "outlinewidth": 0,
             "ticks": ""
            },
            "colorscale": [
             [
              0,
              "#0d0887"
             ],
             [
              0.1111111111111111,
              "#46039f"
             ],
             [
              0.2222222222222222,
              "#7201a8"
             ],
             [
              0.3333333333333333,
              "#9c179e"
             ],
             [
              0.4444444444444444,
              "#bd3786"
             ],
             [
              0.5555555555555556,
              "#d8576b"
             ],
             [
              0.6666666666666666,
              "#ed7953"
             ],
             [
              0.7777777777777778,
              "#fb9f3a"
             ],
             [
              0.8888888888888888,
              "#fdca26"
             ],
             [
              1,
              "#f0f921"
             ]
            ],
            "type": "heatmapgl"
           }
          ],
          "histogram": [
           {
            "marker": {
             "pattern": {
              "fillmode": "overlay",
              "size": 10,
              "solidity": 0.2
             }
            },
            "type": "histogram"
           }
          ],
          "histogram2d": [
           {
            "colorbar": {
             "outlinewidth": 0,
             "ticks": ""
            },
            "colorscale": [
             [
              0,
              "#0d0887"
             ],
             [
              0.1111111111111111,
              "#46039f"
             ],
             [
              0.2222222222222222,
              "#7201a8"
             ],
             [
              0.3333333333333333,
              "#9c179e"
             ],
             [
              0.4444444444444444,
              "#bd3786"
             ],
             [
              0.5555555555555556,
              "#d8576b"
             ],
             [
              0.6666666666666666,
              "#ed7953"
             ],
             [
              0.7777777777777778,
              "#fb9f3a"
             ],
             [
              0.8888888888888888,
              "#fdca26"
             ],
             [
              1,
              "#f0f921"
             ]
            ],
            "type": "histogram2d"
           }
          ],
          "histogram2dcontour": [
           {
            "colorbar": {
             "outlinewidth": 0,
             "ticks": ""
            },
            "colorscale": [
             [
              0,
              "#0d0887"
             ],
             [
              0.1111111111111111,
              "#46039f"
             ],
             [
              0.2222222222222222,
              "#7201a8"
             ],
             [
              0.3333333333333333,
              "#9c179e"
             ],
             [
              0.4444444444444444,
              "#bd3786"
             ],
             [
              0.5555555555555556,
              "#d8576b"
             ],
             [
              0.6666666666666666,
              "#ed7953"
             ],
             [
              0.7777777777777778,
              "#fb9f3a"
             ],
             [
              0.8888888888888888,
              "#fdca26"
             ],
             [
              1,
              "#f0f921"
             ]
            ],
            "type": "histogram2dcontour"
           }
          ],
          "mesh3d": [
           {
            "colorbar": {
             "outlinewidth": 0,
             "ticks": ""
            },
            "type": "mesh3d"
           }
          ],
          "parcoords": [
           {
            "line": {
             "colorbar": {
              "outlinewidth": 0,
              "ticks": ""
             }
            },
            "type": "parcoords"
           }
          ],
          "pie": [
           {
            "automargin": true,
            "type": "pie"
           }
          ],
          "scatter": [
           {
            "fillpattern": {
             "fillmode": "overlay",
             "size": 10,
             "solidity": 0.2
            },
            "type": "scatter"
           }
          ],
          "scatter3d": [
           {
            "line": {
             "colorbar": {
              "outlinewidth": 0,
              "ticks": ""
             }
            },
            "marker": {
             "colorbar": {
              "outlinewidth": 0,
              "ticks": ""
             }
            },
            "type": "scatter3d"
           }
          ],
          "scattercarpet": [
           {
            "marker": {
             "colorbar": {
              "outlinewidth": 0,
              "ticks": ""
             }
            },
            "type": "scattercarpet"
           }
          ],
          "scattergeo": [
           {
            "marker": {
             "colorbar": {
              "outlinewidth": 0,
              "ticks": ""
             }
            },
            "type": "scattergeo"
           }
          ],
          "scattergl": [
           {
            "marker": {
             "colorbar": {
              "outlinewidth": 0,
              "ticks": ""
             }
            },
            "type": "scattergl"
           }
          ],
          "scattermapbox": [
           {
            "marker": {
             "colorbar": {
              "outlinewidth": 0,
              "ticks": ""
             }
            },
            "type": "scattermapbox"
           }
          ],
          "scatterpolar": [
           {
            "marker": {
             "colorbar": {
              "outlinewidth": 0,
              "ticks": ""
             }
            },
            "type": "scatterpolar"
           }
          ],
          "scatterpolargl": [
           {
            "marker": {
             "colorbar": {
              "outlinewidth": 0,
              "ticks": ""
             }
            },
            "type": "scatterpolargl"
           }
          ],
          "scatterternary": [
           {
            "marker": {
             "colorbar": {
              "outlinewidth": 0,
              "ticks": ""
             }
            },
            "type": "scatterternary"
           }
          ],
          "surface": [
           {
            "colorbar": {
             "outlinewidth": 0,
             "ticks": ""
            },
            "colorscale": [
             [
              0,
              "#0d0887"
             ],
             [
              0.1111111111111111,
              "#46039f"
             ],
             [
              0.2222222222222222,
              "#7201a8"
             ],
             [
              0.3333333333333333,
              "#9c179e"
             ],
             [
              0.4444444444444444,
              "#bd3786"
             ],
             [
              0.5555555555555556,
              "#d8576b"
             ],
             [
              0.6666666666666666,
              "#ed7953"
             ],
             [
              0.7777777777777778,
              "#fb9f3a"
             ],
             [
              0.8888888888888888,
              "#fdca26"
             ],
             [
              1,
              "#f0f921"
             ]
            ],
            "type": "surface"
           }
          ],
          "table": [
           {
            "cells": {
             "fill": {
              "color": "#EBF0F8"
             },
             "line": {
              "color": "white"
             }
            },
            "header": {
             "fill": {
              "color": "#C8D4E3"
             },
             "line": {
              "color": "white"
             }
            },
            "type": "table"
           }
          ]
         },
         "layout": {
          "annotationdefaults": {
           "arrowcolor": "#2a3f5f",
           "arrowhead": 0,
           "arrowwidth": 1
          },
          "autotypenumbers": "strict",
          "coloraxis": {
           "colorbar": {
            "outlinewidth": 0,
            "ticks": ""
           }
          },
          "colorscale": {
           "diverging": [
            [
             0,
             "#8e0152"
            ],
            [
             0.1,
             "#c51b7d"
            ],
            [
             0.2,
             "#de77ae"
            ],
            [
             0.3,
             "#f1b6da"
            ],
            [
             0.4,
             "#fde0ef"
            ],
            [
             0.5,
             "#f7f7f7"
            ],
            [
             0.6,
             "#e6f5d0"
            ],
            [
             0.7,
             "#b8e186"
            ],
            [
             0.8,
             "#7fbc41"
            ],
            [
             0.9,
             "#4d9221"
            ],
            [
             1,
             "#276419"
            ]
           ],
           "sequential": [
            [
             0,
             "#0d0887"
            ],
            [
             0.1111111111111111,
             "#46039f"
            ],
            [
             0.2222222222222222,
             "#7201a8"
            ],
            [
             0.3333333333333333,
             "#9c179e"
            ],
            [
             0.4444444444444444,
             "#bd3786"
            ],
            [
             0.5555555555555556,
             "#d8576b"
            ],
            [
             0.6666666666666666,
             "#ed7953"
            ],
            [
             0.7777777777777778,
             "#fb9f3a"
            ],
            [
             0.8888888888888888,
             "#fdca26"
            ],
            [
             1,
             "#f0f921"
            ]
           ],
           "sequentialminus": [
            [
             0,
             "#0d0887"
            ],
            [
             0.1111111111111111,
             "#46039f"
            ],
            [
             0.2222222222222222,
             "#7201a8"
            ],
            [
             0.3333333333333333,
             "#9c179e"
            ],
            [
             0.4444444444444444,
             "#bd3786"
            ],
            [
             0.5555555555555556,
             "#d8576b"
            ],
            [
             0.6666666666666666,
             "#ed7953"
            ],
            [
             0.7777777777777778,
             "#fb9f3a"
            ],
            [
             0.8888888888888888,
             "#fdca26"
            ],
            [
             1,
             "#f0f921"
            ]
           ]
          },
          "colorway": [
           "#636efa",
           "#EF553B",
           "#00cc96",
           "#ab63fa",
           "#FFA15A",
           "#19d3f3",
           "#FF6692",
           "#B6E880",
           "#FF97FF",
           "#FECB52"
          ],
          "font": {
           "color": "#2a3f5f"
          },
          "geo": {
           "bgcolor": "white",
           "lakecolor": "white",
           "landcolor": "#E5ECF6",
           "showlakes": true,
           "showland": true,
           "subunitcolor": "white"
          },
          "hoverlabel": {
           "align": "left"
          },
          "hovermode": "closest",
          "mapbox": {
           "style": "light"
          },
          "paper_bgcolor": "white",
          "plot_bgcolor": "#E5ECF6",
          "polar": {
           "angularaxis": {
            "gridcolor": "white",
            "linecolor": "white",
            "ticks": ""
           },
           "bgcolor": "#E5ECF6",
           "radialaxis": {
            "gridcolor": "white",
            "linecolor": "white",
            "ticks": ""
           }
          },
          "scene": {
           "xaxis": {
            "backgroundcolor": "#E5ECF6",
            "gridcolor": "white",
            "gridwidth": 2,
            "linecolor": "white",
            "showbackground": true,
            "ticks": "",
            "zerolinecolor": "white"
           },
           "yaxis": {
            "backgroundcolor": "#E5ECF6",
            "gridcolor": "white",
            "gridwidth": 2,
            "linecolor": "white",
            "showbackground": true,
            "ticks": "",
            "zerolinecolor": "white"
           },
           "zaxis": {
            "backgroundcolor": "#E5ECF6",
            "gridcolor": "white",
            "gridwidth": 2,
            "linecolor": "white",
            "showbackground": true,
            "ticks": "",
            "zerolinecolor": "white"
           }
          },
          "shapedefaults": {
           "line": {
            "color": "#2a3f5f"
           }
          },
          "ternary": {
           "aaxis": {
            "gridcolor": "white",
            "linecolor": "white",
            "ticks": ""
           },
           "baxis": {
            "gridcolor": "white",
            "linecolor": "white",
            "ticks": ""
           },
           "bgcolor": "#E5ECF6",
           "caxis": {
            "gridcolor": "white",
            "linecolor": "white",
            "ticks": ""
           }
          },
          "title": {
           "x": 0.05
          },
          "xaxis": {
           "automargin": true,
           "gridcolor": "white",
           "linecolor": "white",
           "ticks": "",
           "title": {
            "standoff": 15
           },
           "zerolinecolor": "white",
           "zerolinewidth": 2
          },
          "yaxis": {
           "automargin": true,
           "gridcolor": "white",
           "linecolor": "white",
           "ticks": "",
           "title": {
            "standoff": 15
           },
           "zerolinecolor": "white",
           "zerolinewidth": 2
          }
         }
        },
        "title": {
         "text": "",
         "x": 0.5
        },
        "width": 920,
        "xaxis": {
         "title": {
          "text": "Input"
         }
        },
        "yaxis": {
         "title": {
          "text": "Layer"
         }
        }
       }
      }
     },
     "metadata": {},
     "output_type": "display_data"
    }
   ],
   "source": [
    "pred_traj_ablated.log_prob_diff(delta=True).clip(*log_prob_range).figure()"
   ]
  },
  {
   "cell_type": "code",
   "execution_count": 139,
   "metadata": {},
   "outputs": [
    {
     "data": {
      "application/vnd.plotly.v1+json": {
       "config": {
        "plotlyServerURL": "https://plot.ly"
       },
       "data": [
        {
         "colorbar": {
          "title": {
           "side": "right",
           "text": "Δ Log Prob Difference (nats)"
          }
         },
         "type": "heatmap",
         "x": [
          "<|endoftext|>",
          "ĠThe‌",
          "Ġwar‌‌",
          "Ġlasted‌‌‌",
          "Ġfrom‌‌‌‌",
          "*‌‌‌‌‌",
          "*‌‌‌‌‌‌",
          "Ġto‌‌‌‌‌‌‌",
          "*‌‌‌‌‌‌‌‌"
         ],
         "y": [
          "0",
          "1",
          "2",
          "3",
          "4",
          "5",
          "6",
          "7",
          "8",
          "9",
          "10",
          "11"
         ],
         "z": [
          [
           0,
           0,
           0,
           0,
           0,
           0,
           0,
           0,
           2
          ],
          [
           0,
           0,
           0,
           0,
           0,
           0,
           0,
           0,
           0.16409754753112793
          ],
          [
           0,
           0,
           0,
           0,
           0,
           0,
           0,
           0,
           0.31389695405960083
          ],
          [
           0,
           0,
           0,
           0,
           0,
           0,
           0,
           0,
           0.05725507810711861
          ],
          [
           0,
           0,
           0,
           0,
           0,
           0,
           0,
           0,
           0.29888659715652466
          ],
          [
           0,
           0,
           0,
           0,
           0,
           0,
           0,
           0,
           0.25136739015579224
          ],
          [
           0,
           0,
           0,
           0,
           0,
           0,
           0,
           0,
           -0.17415714263916016
          ],
          [
           0,
           0,
           0,
           0,
           0,
           0,
           0,
           0,
           0.17318685352802277
          ],
          [
           0,
           0,
           0,
           0,
           0,
           0,
           0,
           0,
           0.5654354095458984
          ],
          [
           0,
           0,
           0,
           0,
           0,
           0,
           0,
           0,
           0.9143342971801758
          ],
          [
           0,
           0,
           0,
           0,
           0,
           0,
           0,
           0,
           1.5304807424545288
          ],
          [
           0,
           0,
           0,
           0,
           0,
           0,
           0,
           0,
           -1.5651652812957764
          ]
         ],
         "zmax": 2,
         "zmin": -2
        }
       ],
       "layout": {
        "template": {
         "data": {
          "bar": [
           {
            "error_x": {
             "color": "#2a3f5f"
            },
            "error_y": {
             "color": "#2a3f5f"
            },
            "marker": {
             "line": {
              "color": "#E5ECF6",
              "width": 0.5
             },
             "pattern": {
              "fillmode": "overlay",
              "size": 10,
              "solidity": 0.2
             }
            },
            "type": "bar"
           }
          ],
          "barpolar": [
           {
            "marker": {
             "line": {
              "color": "#E5ECF6",
              "width": 0.5
             },
             "pattern": {
              "fillmode": "overlay",
              "size": 10,
              "solidity": 0.2
             }
            },
            "type": "barpolar"
           }
          ],
          "carpet": [
           {
            "aaxis": {
             "endlinecolor": "#2a3f5f",
             "gridcolor": "white",
             "linecolor": "white",
             "minorgridcolor": "white",
             "startlinecolor": "#2a3f5f"
            },
            "baxis": {
             "endlinecolor": "#2a3f5f",
             "gridcolor": "white",
             "linecolor": "white",
             "minorgridcolor": "white",
             "startlinecolor": "#2a3f5f"
            },
            "type": "carpet"
           }
          ],
          "choropleth": [
           {
            "colorbar": {
             "outlinewidth": 0,
             "ticks": ""
            },
            "type": "choropleth"
           }
          ],
          "contour": [
           {
            "colorbar": {
             "outlinewidth": 0,
             "ticks": ""
            },
            "colorscale": [
             [
              0,
              "#0d0887"
             ],
             [
              0.1111111111111111,
              "#46039f"
             ],
             [
              0.2222222222222222,
              "#7201a8"
             ],
             [
              0.3333333333333333,
              "#9c179e"
             ],
             [
              0.4444444444444444,
              "#bd3786"
             ],
             [
              0.5555555555555556,
              "#d8576b"
             ],
             [
              0.6666666666666666,
              "#ed7953"
             ],
             [
              0.7777777777777778,
              "#fb9f3a"
             ],
             [
              0.8888888888888888,
              "#fdca26"
             ],
             [
              1,
              "#f0f921"
             ]
            ],
            "type": "contour"
           }
          ],
          "contourcarpet": [
           {
            "colorbar": {
             "outlinewidth": 0,
             "ticks": ""
            },
            "type": "contourcarpet"
           }
          ],
          "heatmap": [
           {
            "colorbar": {
             "outlinewidth": 0,
             "ticks": ""
            },
            "colorscale": [
             [
              0,
              "#0d0887"
             ],
             [
              0.1111111111111111,
              "#46039f"
             ],
             [
              0.2222222222222222,
              "#7201a8"
             ],
             [
              0.3333333333333333,
              "#9c179e"
             ],
             [
              0.4444444444444444,
              "#bd3786"
             ],
             [
              0.5555555555555556,
              "#d8576b"
             ],
             [
              0.6666666666666666,
              "#ed7953"
             ],
             [
              0.7777777777777778,
              "#fb9f3a"
             ],
             [
              0.8888888888888888,
              "#fdca26"
             ],
             [
              1,
              "#f0f921"
             ]
            ],
            "type": "heatmap"
           }
          ],
          "heatmapgl": [
           {
            "colorbar": {
             "outlinewidth": 0,
             "ticks": ""
            },
            "colorscale": [
             [
              0,
              "#0d0887"
             ],
             [
              0.1111111111111111,
              "#46039f"
             ],
             [
              0.2222222222222222,
              "#7201a8"
             ],
             [
              0.3333333333333333,
              "#9c179e"
             ],
             [
              0.4444444444444444,
              "#bd3786"
             ],
             [
              0.5555555555555556,
              "#d8576b"
             ],
             [
              0.6666666666666666,
              "#ed7953"
             ],
             [
              0.7777777777777778,
              "#fb9f3a"
             ],
             [
              0.8888888888888888,
              "#fdca26"
             ],
             [
              1,
              "#f0f921"
             ]
            ],
            "type": "heatmapgl"
           }
          ],
          "histogram": [
           {
            "marker": {
             "pattern": {
              "fillmode": "overlay",
              "size": 10,
              "solidity": 0.2
             }
            },
            "type": "histogram"
           }
          ],
          "histogram2d": [
           {
            "colorbar": {
             "outlinewidth": 0,
             "ticks": ""
            },
            "colorscale": [
             [
              0,
              "#0d0887"
             ],
             [
              0.1111111111111111,
              "#46039f"
             ],
             [
              0.2222222222222222,
              "#7201a8"
             ],
             [
              0.3333333333333333,
              "#9c179e"
             ],
             [
              0.4444444444444444,
              "#bd3786"
             ],
             [
              0.5555555555555556,
              "#d8576b"
             ],
             [
              0.6666666666666666,
              "#ed7953"
             ],
             [
              0.7777777777777778,
              "#fb9f3a"
             ],
             [
              0.8888888888888888,
              "#fdca26"
             ],
             [
              1,
              "#f0f921"
             ]
            ],
            "type": "histogram2d"
           }
          ],
          "histogram2dcontour": [
           {
            "colorbar": {
             "outlinewidth": 0,
             "ticks": ""
            },
            "colorscale": [
             [
              0,
              "#0d0887"
             ],
             [
              0.1111111111111111,
              "#46039f"
             ],
             [
              0.2222222222222222,
              "#7201a8"
             ],
             [
              0.3333333333333333,
              "#9c179e"
             ],
             [
              0.4444444444444444,
              "#bd3786"
             ],
             [
              0.5555555555555556,
              "#d8576b"
             ],
             [
              0.6666666666666666,
              "#ed7953"
             ],
             [
              0.7777777777777778,
              "#fb9f3a"
             ],
             [
              0.8888888888888888,
              "#fdca26"
             ],
             [
              1,
              "#f0f921"
             ]
            ],
            "type": "histogram2dcontour"
           }
          ],
          "mesh3d": [
           {
            "colorbar": {
             "outlinewidth": 0,
             "ticks": ""
            },
            "type": "mesh3d"
           }
          ],
          "parcoords": [
           {
            "line": {
             "colorbar": {
              "outlinewidth": 0,
              "ticks": ""
             }
            },
            "type": "parcoords"
           }
          ],
          "pie": [
           {
            "automargin": true,
            "type": "pie"
           }
          ],
          "scatter": [
           {
            "fillpattern": {
             "fillmode": "overlay",
             "size": 10,
             "solidity": 0.2
            },
            "type": "scatter"
           }
          ],
          "scatter3d": [
           {
            "line": {
             "colorbar": {
              "outlinewidth": 0,
              "ticks": ""
             }
            },
            "marker": {
             "colorbar": {
              "outlinewidth": 0,
              "ticks": ""
             }
            },
            "type": "scatter3d"
           }
          ],
          "scattercarpet": [
           {
            "marker": {
             "colorbar": {
              "outlinewidth": 0,
              "ticks": ""
             }
            },
            "type": "scattercarpet"
           }
          ],
          "scattergeo": [
           {
            "marker": {
             "colorbar": {
              "outlinewidth": 0,
              "ticks": ""
             }
            },
            "type": "scattergeo"
           }
          ],
          "scattergl": [
           {
            "marker": {
             "colorbar": {
              "outlinewidth": 0,
              "ticks": ""
             }
            },
            "type": "scattergl"
           }
          ],
          "scattermapbox": [
           {
            "marker": {
             "colorbar": {
              "outlinewidth": 0,
              "ticks": ""
             }
            },
            "type": "scattermapbox"
           }
          ],
          "scatterpolar": [
           {
            "marker": {
             "colorbar": {
              "outlinewidth": 0,
              "ticks": ""
             }
            },
            "type": "scatterpolar"
           }
          ],
          "scatterpolargl": [
           {
            "marker": {
             "colorbar": {
              "outlinewidth": 0,
              "ticks": ""
             }
            },
            "type": "scatterpolargl"
           }
          ],
          "scatterternary": [
           {
            "marker": {
             "colorbar": {
              "outlinewidth": 0,
              "ticks": ""
             }
            },
            "type": "scatterternary"
           }
          ],
          "surface": [
           {
            "colorbar": {
             "outlinewidth": 0,
             "ticks": ""
            },
            "colorscale": [
             [
              0,
              "#0d0887"
             ],
             [
              0.1111111111111111,
              "#46039f"
             ],
             [
              0.2222222222222222,
              "#7201a8"
             ],
             [
              0.3333333333333333,
              "#9c179e"
             ],
             [
              0.4444444444444444,
              "#bd3786"
             ],
             [
              0.5555555555555556,
              "#d8576b"
             ],
             [
              0.6666666666666666,
              "#ed7953"
             ],
             [
              0.7777777777777778,
              "#fb9f3a"
             ],
             [
              0.8888888888888888,
              "#fdca26"
             ],
             [
              1,
              "#f0f921"
             ]
            ],
            "type": "surface"
           }
          ],
          "table": [
           {
            "cells": {
             "fill": {
              "color": "#EBF0F8"
             },
             "line": {
              "color": "white"
             }
            },
            "header": {
             "fill": {
              "color": "#C8D4E3"
             },
             "line": {
              "color": "white"
             }
            },
            "type": "table"
           }
          ]
         },
         "layout": {
          "annotationdefaults": {
           "arrowcolor": "#2a3f5f",
           "arrowhead": 0,
           "arrowwidth": 1
          },
          "autotypenumbers": "strict",
          "coloraxis": {
           "colorbar": {
            "outlinewidth": 0,
            "ticks": ""
           }
          },
          "colorscale": {
           "diverging": [
            [
             0,
             "#8e0152"
            ],
            [
             0.1,
             "#c51b7d"
            ],
            [
             0.2,
             "#de77ae"
            ],
            [
             0.3,
             "#f1b6da"
            ],
            [
             0.4,
             "#fde0ef"
            ],
            [
             0.5,
             "#f7f7f7"
            ],
            [
             0.6,
             "#e6f5d0"
            ],
            [
             0.7,
             "#b8e186"
            ],
            [
             0.8,
             "#7fbc41"
            ],
            [
             0.9,
             "#4d9221"
            ],
            [
             1,
             "#276419"
            ]
           ],
           "sequential": [
            [
             0,
             "#0d0887"
            ],
            [
             0.1111111111111111,
             "#46039f"
            ],
            [
             0.2222222222222222,
             "#7201a8"
            ],
            [
             0.3333333333333333,
             "#9c179e"
            ],
            [
             0.4444444444444444,
             "#bd3786"
            ],
            [
             0.5555555555555556,
             "#d8576b"
            ],
            [
             0.6666666666666666,
             "#ed7953"
            ],
            [
             0.7777777777777778,
             "#fb9f3a"
            ],
            [
             0.8888888888888888,
             "#fdca26"
            ],
            [
             1,
             "#f0f921"
            ]
           ],
           "sequentialminus": [
            [
             0,
             "#0d0887"
            ],
            [
             0.1111111111111111,
             "#46039f"
            ],
            [
             0.2222222222222222,
             "#7201a8"
            ],
            [
             0.3333333333333333,
             "#9c179e"
            ],
            [
             0.4444444444444444,
             "#bd3786"
            ],
            [
             0.5555555555555556,
             "#d8576b"
            ],
            [
             0.6666666666666666,
             "#ed7953"
            ],
            [
             0.7777777777777778,
             "#fb9f3a"
            ],
            [
             0.8888888888888888,
             "#fdca26"
            ],
            [
             1,
             "#f0f921"
            ]
           ]
          },
          "colorway": [
           "#636efa",
           "#EF553B",
           "#00cc96",
           "#ab63fa",
           "#FFA15A",
           "#19d3f3",
           "#FF6692",
           "#B6E880",
           "#FF97FF",
           "#FECB52"
          ],
          "font": {
           "color": "#2a3f5f"
          },
          "geo": {
           "bgcolor": "white",
           "lakecolor": "white",
           "landcolor": "#E5ECF6",
           "showlakes": true,
           "showland": true,
           "subunitcolor": "white"
          },
          "hoverlabel": {
           "align": "left"
          },
          "hovermode": "closest",
          "mapbox": {
           "style": "light"
          },
          "paper_bgcolor": "white",
          "plot_bgcolor": "#E5ECF6",
          "polar": {
           "angularaxis": {
            "gridcolor": "white",
            "linecolor": "white",
            "ticks": ""
           },
           "bgcolor": "#E5ECF6",
           "radialaxis": {
            "gridcolor": "white",
            "linecolor": "white",
            "ticks": ""
           }
          },
          "scene": {
           "xaxis": {
            "backgroundcolor": "#E5ECF6",
            "gridcolor": "white",
            "gridwidth": 2,
            "linecolor": "white",
            "showbackground": true,
            "ticks": "",
            "zerolinecolor": "white"
           },
           "yaxis": {
            "backgroundcolor": "#E5ECF6",
            "gridcolor": "white",
            "gridwidth": 2,
            "linecolor": "white",
            "showbackground": true,
            "ticks": "",
            "zerolinecolor": "white"
           },
           "zaxis": {
            "backgroundcolor": "#E5ECF6",
            "gridcolor": "white",
            "gridwidth": 2,
            "linecolor": "white",
            "showbackground": true,
            "ticks": "",
            "zerolinecolor": "white"
           }
          },
          "shapedefaults": {
           "line": {
            "color": "#2a3f5f"
           }
          },
          "ternary": {
           "aaxis": {
            "gridcolor": "white",
            "linecolor": "white",
            "ticks": ""
           },
           "baxis": {
            "gridcolor": "white",
            "linecolor": "white",
            "ticks": ""
           },
           "bgcolor": "#E5ECF6",
           "caxis": {
            "gridcolor": "white",
            "linecolor": "white",
            "ticks": ""
           }
          },
          "title": {
           "x": 0.05
          },
          "xaxis": {
           "automargin": true,
           "gridcolor": "white",
           "linecolor": "white",
           "ticks": "",
           "title": {
            "standoff": 15
           },
           "zerolinecolor": "white",
           "zerolinewidth": 2
          },
          "yaxis": {
           "automargin": true,
           "gridcolor": "white",
           "linecolor": "white",
           "ticks": "",
           "title": {
            "standoff": 15
           },
           "zerolinecolor": "white",
           "zerolinewidth": 2
          }
         }
        },
        "title": {
         "text": "",
         "x": 0.5
        },
        "width": 920,
        "xaxis": {
         "title": {
          "text": "Input"
         }
        },
        "yaxis": {
         "title": {
          "text": "Layer"
         }
        }
       }
      }
     },
     "metadata": {},
     "output_type": "display_data"
    }
   ],
   "source": [
    "import numpy as np\n",
    "pred_traj_ablated_logit.log_prob_diff(delta=True).clip(*log_prob_range).figure()"
   ]
  },
  {
   "attachments": {},
   "cell_type": "markdown",
   "metadata": {},
   "source": [
    "## How much collateral damage does ablating the above components cause?\n",
    "An interesting question we can answerer with the tuned lens is what other capabilities have\n",
    "our edits effected?\n",
    "\n",
    "Note the code bellow assumes you are using zero ablation."
   ]
  },
  {
   "cell_type": "code",
   "execution_count": 140,
   "metadata": {},
   "outputs": [
    {
     "data": {
      "application/vnd.jupyter.widget-view+json": {
       "model_id": "910685e8f7fe4821a06690cd815d6627",
       "version_major": 2,
       "version_minor": 0
      },
      "text/plain": [
       "  0%|          | 0/10 [00:00<?, ?it/s]"
      ]
     },
     "metadata": {},
     "output_type": "display_data"
    },
    {
     "data": {
      "application/vnd.plotly.v1+json": {
       "config": {
        "plotlyServerURL": "https://plot.ly"
       },
       "data": [
        {
         "colorbar": {
          "title": {
           "side": "right",
           "text": "KL(Self | Other) (nats)"
          }
         },
         "colorscale": [
          [
           0,
           "rgb(5,48,97)"
          ],
          [
           0.1,
           "rgb(33,102,172)"
          ],
          [
           0.2,
           "rgb(67,147,195)"
          ],
          [
           0.3,
           "rgb(146,197,222)"
          ],
          [
           0.4,
           "rgb(209,229,240)"
          ],
          [
           0.5,
           "rgb(247,247,247)"
          ],
          [
           0.6,
           "rgb(253,219,199)"
          ],
          [
           0.7,
           "rgb(244,165,130)"
          ],
          [
           0.8,
           "rgb(214,96,77)"
          ],
          [
           0.9,
           "rgb(178,24,43)"
          ],
          [
           1,
           "rgb(103,0,31)"
          ]
         ],
         "customdata": [
          [
           [
            " _defen…",
            "  Δ0.00%",
            " _Bryant",
            "  Δ0.00%",
            "  _Laura",
            "  Δ0.00%",
            " _smili…",
            "  Δ0.00%",
            "  _Catal",
            "  Δ0.00%",
            "     _Tu",
            "  Δ0.00%",
            " _spark…",
            "  Δ0.00%",
            "  icides",
            "  Δ0.00%",
            "    _Dex",
            "  Δ0.00%",
            " <|endo…",
            "  Δ0.00%"
           ],
           [
            " _defen…",
            "  Δ0.00%",
            " _Bryant",
            "  Δ0.00%",
            "  _Laura",
            "  Δ0.00%",
            " _smili…",
            "  Δ0.00%",
            "  _Catal",
            "  Δ0.00%",
            "     _Tu",
            "  Δ0.00%",
            " _spark…",
            "  Δ0.00%",
            "  icides",
            "  Δ0.00%",
            "    _Dex",
            "  Δ0.00%",
            " <|endo…",
            "  Δ0.00%"
           ],
           [
            " _defen…",
            "  Δ0.00%",
            " _Bryant",
            "  Δ0.00%",
            "  _Laura",
            "  Δ0.00%",
            " _smili…",
            "  Δ0.00%",
            "  _Catal",
            "  Δ0.00%",
            "     _Tu",
            "  Δ0.00%",
            " _spark…",
            "  Δ0.00%",
            "  icides",
            "  Δ0.00%",
            "    _Dex",
            "  Δ0.00%",
            " <|endo…",
            "  Δ0.00%"
           ],
           [
            " _defen…",
            "  Δ0.00%",
            " _Bryant",
            "  Δ0.00%",
            "  _Laura",
            "  Δ0.00%",
            " _smili…",
            "  Δ0.00%",
            "  _Catal",
            "  Δ0.00%",
            "     _Tu",
            "  Δ0.00%",
            " _spark…",
            "  Δ0.00%",
            "  icides",
            "  Δ0.00%",
            "    _Dex",
            "  Δ0.00%",
            " <|endo…",
            "  Δ0.00%"
           ],
           [
            " _defen…",
            "  Δ0.00%",
            " _Bryant",
            "  Δ0.00%",
            "  _Laura",
            "  Δ0.00%",
            " _smili…",
            "  Δ0.00%",
            "  _Catal",
            "  Δ0.00%",
            "     _Tu",
            "  Δ0.00%",
            " _spark…",
            "  Δ0.00%",
            "  icides",
            "  Δ0.00%",
            "    _Dex",
            "  Δ0.00%",
            " <|endo…",
            "  Δ0.00%"
           ],
           [
            " _defen…",
            "  Δ0.00%",
            " _Bryant",
            "  Δ0.00%",
            "  _Laura",
            "  Δ0.00%",
            " _smili…",
            "  Δ0.00%",
            "  _Catal",
            "  Δ0.00%",
            "     _Tu",
            "  Δ0.00%",
            " _spark…",
            "  Δ0.00%",
            "  icides",
            "  Δ0.00%",
            "    _Dex",
            "  Δ0.00%",
            " <|endo…",
            "  Δ0.00%"
           ],
           [
            " _defen…",
            "  Δ0.00%",
            " _Bryant",
            "  Δ0.00%",
            "  _Laura",
            "  Δ0.00%",
            " _smili…",
            "  Δ0.00%",
            "  _Catal",
            "  Δ0.00%",
            "     _Tu",
            "  Δ0.00%",
            " _spark…",
            "  Δ0.00%",
            "  icides",
            "  Δ0.00%",
            "    _Dex",
            "  Δ0.00%",
            " <|endo…",
            "  Δ0.00%"
           ],
           [
            " _defen…",
            "  Δ0.00%",
            " _Bryant",
            "  Δ0.00%",
            "  _Laura",
            "  Δ0.00%",
            " _smili…",
            "  Δ0.00%",
            "  _Catal",
            "  Δ0.00%",
            "     _Tu",
            "  Δ0.00%",
            " _spark…",
            "  Δ0.00%",
            "  icides",
            "  Δ0.00%",
            "    _Dex",
            "  Δ0.00%",
            " <|endo…",
            "  Δ0.00%"
           ],
           [
            " _defen…",
            "  Δ0.00%",
            " _Bryant",
            "  Δ0.00%",
            "  _Laura",
            "  Δ0.00%",
            " _smili…",
            "  Δ0.00%",
            "  _Catal",
            "  Δ0.00%",
            "     _Tu",
            "  Δ0.00%",
            " _spark…",
            "  Δ0.00%",
            "  icides",
            "  Δ0.00%",
            "    _Dex",
            "  Δ0.00%",
            " <|endo…",
            "  Δ0.00%"
           ],
           [
            " _defen…",
            "  Δ0.00%",
            " _Bryant",
            "  Δ0.00%",
            "  _Laura",
            "  Δ0.00%",
            " _smili…",
            "  Δ0.00%",
            "  _Catal",
            "  Δ0.00%",
            "     _Tu",
            "  Δ0.00%",
            " _spark…",
            "  Δ0.00%",
            "  icides",
            "  Δ0.00%",
            "    _Dex",
            "  Δ0.00%",
            " <|endo…",
            "  Δ0.00%"
           ],
           [
            " _defen…",
            "  Δ0.00%",
            " _Bryant",
            "  Δ0.00%",
            "  _Laura",
            "  Δ0.00%",
            " _smili…",
            "  Δ0.00%",
            "  _Catal",
            "  Δ0.00%",
            "     _Tu",
            "  Δ0.00%",
            " _spark…",
            "  Δ0.00%",
            "  icides",
            "  Δ0.00%",
            "    _Dex",
            "  Δ0.00%",
            " <|endo…",
            "  Δ0.00%"
           ],
           [
            " _defen…",
            "  Δ0.00%",
            " _Bryant",
            "  Δ0.00%",
            "  _Laura",
            "  Δ0.00%",
            " _smili…",
            "  Δ0.00%",
            "  _Catal",
            "  Δ0.00%",
            "     _Tu",
            "  Δ0.00%",
            " _spark…",
            "  Δ0.00%",
            "  icides",
            "  Δ0.00%",
            "    _Dex",
            "  Δ0.00%",
            " <|endo…",
            "  Δ0.00%"
           ],
           [
            " _defen…",
            "  Δ0.00%",
            " _Bryant",
            "  Δ0.00%",
            "  _Laura",
            "  Δ0.00%",
            " _smili…",
            "  Δ0.00%",
            "  _Catal",
            "  Δ0.00%",
            "     _Tu",
            "  Δ0.00%",
            " _spark…",
            "  Δ0.00%",
            "  icides",
            "  Δ0.00%",
            "    _Dex",
            "  Δ0.00%",
            " <|endo…",
            "  Δ0.00%"
           ],
           [
            " _defen…",
            "  Δ0.00%",
            " _Bryant",
            "  Δ0.00%",
            "  _Laura",
            "  Δ0.00%",
            " _smili…",
            "  Δ0.00%",
            "  _Catal",
            "  Δ0.00%",
            "     _Tu",
            "  Δ0.00%",
            " _spark…",
            "  Δ0.00%",
            "  icides",
            "  Δ0.00%",
            "    _Dex",
            "  Δ0.00%",
            " <|endo…",
            "  Δ0.00%"
           ],
           [
            " _defen…",
            "  Δ0.00%",
            " _Bryant",
            "  Δ0.00%",
            "  _Laura",
            "  Δ0.00%",
            " _smili…",
            "  Δ0.00%",
            "  _Catal",
            "  Δ0.00%",
            "     _Tu",
            "  Δ0.00%",
            " _spark…",
            "  Δ0.00%",
            "  icides",
            "  Δ0.00%",
            "    _Dex",
            "  Δ0.00%",
            " <|endo…",
            "  Δ0.00%"
           ],
           [
            " _defen…",
            "  Δ0.00%",
            " _Bryant",
            "  Δ0.00%",
            "  _Laura",
            "  Δ0.00%",
            " _smili…",
            "  Δ0.00%",
            "  _Catal",
            "  Δ0.00%",
            "     _Tu",
            "  Δ0.00%",
            " _spark…",
            "  Δ0.00%",
            "  icides",
            "  Δ0.00%",
            "    _Dex",
            "  Δ0.00%",
            " <|endo…",
            "  Δ0.00%"
           ]
          ],
          [
           [
            "      \\n",
            "  Δ0.00%",
            "     The",
            "  Δ0.00%",
            "       P",
            " Δ-0.00%",
            "      It",
            " Δ-0.00%",
            "       I",
            " Δ-0.00%",
            "       S",
            " Δ-0.00%",
            "   Share",
            " Δ-0.00%",
            "       G",
            " Δ-0.00%",
            "       \"",
            "  Δ0.00%",
            "    What",
            " Δ-0.00%"
           ],
           [
            "       :",
            "  Δ0.00%",
            "     _in",
            "  Δ0.00%",
            "       .",
            "  Δ0.00%",
            "      \\n",
            "  Δ0.00%",
            "     _of",
            "  Δ0.00%",
            "     _to",
            "  Δ0.00%",
            "     _is",
            " Δ-0.00%",
            "    _and",
            " Δ-0.00%",
            "   _with",
            " Δ-0.00%",
            "   _that",
            "  Δ0.00%"
           ],
           [
            "     've",
            "  Δ0.00%",
            "     'll",
            "  Δ0.00%",
            "   _know",
            "  Δ0.00%",
            "     _am",
            "  Δ0.00%",
            "    _was",
            " Δ-0.00%",
            "  _think",
            "  Δ0.00%",
            "    _don",
            "  Δ0.00%",
            "  _would",
            " Δ-0.00%",
            "      'd",
            " Δ-0.00%",
            "      \\n",
            "  Δ0.00%"
           ],
           [
            "    _the",
            " Δ-0.00%",
            "     _to",
            "  Δ0.00%",
            "    _you",
            "  Δ0.00%",
            "       ,",
            "  Δ0.00%",
            "   _your",
            "  Δ0.00%",
            "   _this",
            "  Δ0.00%",
            "      _a",
            " Δ-0.00%",
            "      \\n",
            "  Δ0.00%",
            "     _an",
            " Δ-0.00%",
            "    _for",
            " Δ-0.00%"
           ],
           [
            "    _out",
            "  Δ0.00%",
            "     _to",
            "  Δ0.00%",
            "    _for",
            "  Δ0.00%",
            "      _a",
            "  Δ0.00%",
            "     _is",
            "  Δ0.00%",
            "    _can",
            " Δ-0.00%",
            "   _were",
            " Δ-0.00%",
            "    _all",
            "  Δ0.00%",
            "      \\n",
            "  Δ0.00%",
            "   _that",
            " Δ-0.00%"
           ],
           [
            "      \\n",
            "  Δ0.00%",
            "      _I",
            " Δ-0.00%",
            "     _It",
            " Δ-0.00%",
            "    _The",
            " Δ-0.00%",
            "    \\n\\n",
            " Δ-0.00%",
            "     _We",
            "  Δ0.00%",
            "      _\"",
            " Δ-0.00%",
            "    _You",
            " Δ-0.00%",
            "    _and",
            " Δ-0.00%",
            "   _What",
            " Δ-0.00%"
           ],
           [
            "       .",
            "  Δ0.00%",
            "     ute",
            " Δ-0.00%",
            "       ,",
            "  Δ0.00%",
            " sterdam",
            " Δ-0.00%",
            "      am",
            " Δ-0.00%",
            "      _a",
            "  Δ0.00%",
            "     mun",
            "  Δ0.00%",
            "    ient",
            " Δ-0.00%",
            "     ami",
            " Δ-0.00%",
            "   ilial",
            " Δ-0.00%"
           ],
           [
            "     _if",
            " Δ-0.00%",
            " _though",
            "  Δ0.00%",
            "    _one",
            " Δ-0.00%",
            "    _the",
            "  Δ0.00%",
            "   _more",
            " Δ-0.00%",
            "       ,",
            "  Δ0.00%",
            "      _a",
            "  Δ0.00%",
            "     _as",
            " Δ-0.00%",
            "   _this",
            " Δ-0.00%",
            " _compa…",
            " Δ-0.00%"
           ],
           [
            "   _worn",
            " Δ-0.00%",
            "     _in",
            "  Δ0.00%",
            "     _by",
            "  Δ0.00%",
            "       .",
            "  Δ0.00%",
            "    _the",
            " Δ-0.00%",
            "     _as",
            "  Δ0.00%",
            "    _and",
            "  Δ0.00%",
            "      _a",
            " Δ-0.00%",
            "     _to",
            "  Δ0.00%",
            " _weari…",
            "  Δ0.00%"
           ],
           [
            "   _same",
            "  Δ0.00%",
            "  _first",
            "  Δ0.00%",
            "  _world",
            "  Δ0.00%",
            " _United",
            " Δ-0.00%",
            "   _fact",
            " Δ-0.00%",
            "   _best",
            "  Δ0.00%",
            "      _'",
            " Δ-0.00%",
            "   _case",
            "  Δ0.00%",
            "   _idea",
            "  Δ0.00%",
            "   _last",
            "  Δ0.00%"
           ],
           [
            "  _thing",
            "  Δ0.00%",
            "    _day",
            "  Δ0.00%",
            " _amount",
            "  Δ0.00%",
            "  _exact",
            " Δ-0.00%",
            "     _as",
            " Δ-0.00%",
            "    _age",
            " Δ-0.00%",
            "   _same",
            " Δ-0.00%",
            "   _sort",
            " Δ-0.00%",
            " _quest…",
            " Δ-0.00%",
            "       ,",
            "  Δ0.00%"
           ],
           [
            "    _the",
            "  Δ0.00%",
            "      _a",
            " Δ-0.00%",
            "       /",
            "  Δ0.00%",
            "      _I",
            "  Δ0.00%",
            "  _other",
            "  Δ0.00%",
            "    _and",
            "  Δ0.00%",
            "     _we",
            " Δ-0.00%",
            "   _then",
            "  Δ0.00%",
            "    _how",
            "  Δ0.00%",
            "     _he",
            "  Δ0.00%"
           ],
           [
            "   _also",
            " Δ-0.00%",
            "    _now",
            "  Δ0.00%",
            "      _a",
            " Δ-0.00%",
            "    _not",
            " Δ-0.00%",
            "    _the",
            "  Δ0.00%",
            "       ,",
            " Δ-0.00%",
            "    _for",
            " Δ-0.00%",
            "     _in",
            " Δ-0.00%",
            "     _to",
            " Δ-0.00%",
            "    _one",
            "  Δ0.00%"
           ],
           [
            "     _AW",
            "  Δ0.00%",
            "     ARD",
            " Δ-0.00%",
            "      AW",
            "  Δ0.00%",
            "      IM",
            "  Δ0.00%",
            "       -",
            " Δ-0.00%",
            "      aw",
            " Δ-0.00%",
            "    ARDS",
            "  Δ0.00%",
            " akening",
            " Δ-0.00%",
            "       ,",
            " Δ-0.00%",
            "      AY",
            " Δ-0.00%"
           ],
           [
            "      \\n",
            "  Δ0.00%",
            "       ,",
            " Δ-0.00%",
            "       :",
            " Δ-0.00%",
            "       -",
            " Δ-0.00%",
            "       /",
            " Δ-0.00%",
            "    _and",
            "  Δ0.00%",
            "     _in",
            " Δ-0.00%",
            "      ER",
            "  Δ0.00%",
            "    _are",
            " Δ-0.00%",
            "       _",
            "  Δ0.00%"
           ],
           [
            "     OME",
            "  Δ0.00%",
            "       :",
            "  Δ0.00%",
            "      AU",
            "  Δ0.00%",
            "      _C",
            "  Δ0.00%",
            "      _1",
            " Δ-0.00%",
            "       ?",
            "  Δ0.00%",
            "     _in",
            " Δ-0.00%",
            "      _a",
            " Δ-0.00%",
            "       -",
            " Δ-0.00%",
            "      _M",
            " Δ-0.00%"
           ]
          ],
          [
           [
            "       .",
            " Δ-0.00%",
            "       ,",
            "  Δ0.00%",
            "    _the",
            " Δ-0.00%",
            "      _(",
            " Δ-0.00%",
            "     _in",
            " Δ-0.00%",
            "     _of",
            "  Δ0.00%",
            "   _with",
            "  Δ0.00%",
            "     _to",
            " Δ-0.00%",
            "       \"",
            "  Δ0.00%",
            "      _\"",
            " Δ-0.00%"
           ],
           [
            "     _of",
            " Δ-0.00%",
            "       :",
            "  Δ0.00%",
            " _Numbe…",
            "  Δ0.00%",
            "      \\n",
            "  Δ0.00%",
            " _numbe…",
            "  Δ0.00%",
            "       ,",
            " Δ-0.00%",
            "     _on",
            "  Δ0.00%",
            "     _is",
            " Δ-0.00%",
            "    _and",
            " Δ-0.00%",
            "  _shows",
            "  Δ0.00%"
           ],
           [
            "      'm",
            "  Δ0.00%",
            "     've",
            "  Δ0.00%",
            "   _want",
            " Δ-0.00%",
            "    _don",
            " Δ-0.00%",
            "   _mean",
            " Δ-0.00%",
            "    _can",
            " Δ-0.00%",
            "    _was",
            "  Δ0.00%",
            "    _got",
            " Δ-0.00%",
            "    _had",
            " Δ-0.00%",
            "  _think",
            " Δ-0.00%"
           ],
           [
            "    _for",
            " Δ-0.00%",
            "      _a",
            "  Δ0.00%",
            "   _love",
            " Δ-0.00%",
            "    _you",
            " Δ-0.00%",
            "   _this",
            "  Δ0.00%",
            "     _it",
            "  Δ0.00%",
            "     _my",
            "  Δ0.00%",
            "   _that",
            "  Δ0.00%",
            "     _an",
            " Δ-0.00%",
            "   _your",
            "  Δ0.00%"
           ],
           [
            "     _in",
            " Δ-0.00%",
            "     _is",
            "  Δ0.00%",
            "    _are",
            "  Δ0.00%",
            "       ,",
            "  Δ0.00%",
            "   _both",
            "  Δ0.00%",
            "     _on",
            " Δ-0.00%",
            "       .",
            "  Δ0.00%",
            "     _to",
            "  Δ0.00%",
            "   _will",
            "  Δ0.00%",
            "    _for",
            "  Δ0.00%"
           ],
           [
            "      \\n",
            "  Δ0.00%",
            "   _What",
            " Δ-0.00%",
            "     _It",
            " Δ-0.00%",
            "    _You",
            "  Δ0.00%",
            "    _The",
            "  Δ0.00%",
            "      _I",
            " Δ-0.00%",
            "     _We",
            "  Δ0.00%",
            "    \\n\\n",
            "  Δ0.00%",
            "      _A",
            " Δ-0.00%",
            "    _But",
            " Δ-0.00%"
           ],
           [
            "       .",
            " Δ-0.00%",
            "      ma",
            "  Δ0.00%",
            "       ,",
            " Δ-0.00%",
            "      my",
            "  Δ0.00%",
            "     mer",
            " Δ-0.00%",
            "    itan",
            " Δ-0.00%",
            "     ute",
            " Δ-0.00%",
            "      br",
            "  Δ0.00%",
            "       m",
            "  Δ0.00%",
            "     ama",
            "  Δ0.00%"
           ],
           [
            " _though",
            "  Δ0.00%",
            "   _more",
            " Δ-0.00%",
            "    _the",
            " Δ-0.00%",
            " _better",
            " Δ-0.00%",
            "   _when",
            " Δ-0.00%",
            "      _a",
            " Δ-0.00%",
            "     _as",
            " Δ-0.00%",
            " _consi…",
            "  Δ0.00%",
            "    _one",
            " Δ-0.00%",
            "       ,",
            " Δ-0.00%"
           ],
           [
            "   _worn",
            "  Δ0.00%",
            "     _on",
            " Δ-0.00%",
            "     _by",
            " Δ-0.00%",
            "    _out",
            " Δ-0.00%",
            " _cloth…",
            "  Δ0.00%",
            "     _to",
            "  Δ0.00%",
            "       .",
            " Δ-0.00%",
            "    _the",
            " Δ-0.00%",
            "       ,",
            " Δ-0.00%",
            "    _and",
            " Δ-0.00%"
           ],
           [
            "   _same",
            " Δ-0.00%",
            " _follo…",
            " Δ-0.00%",
            "    _way",
            " Δ-0.00%",
            "  _first",
            "  Δ0.00%",
            "  _right",
            "  Δ0.00%",
            " _latest",
            "  Δ0.00%",
            "  _other",
            " Δ-0.00%",
            " _United",
            " Δ-0.00%",
            "   _rest",
            " Δ-0.00%",
            "    _end",
            "  Δ0.00%"
           ],
           [
            "  _thing",
            "  Δ0.00%",
            "    _day",
            "  Δ0.00%",
            "   _name",
            "  Δ0.00%",
            " _amount",
            " Δ-0.00%",
            "   _vein",
            " Δ-0.00%",
            "  _exact",
            " Δ-0.00%",
            "   _kind",
            "  Δ0.00%",
            " _probl…",
            "  Δ0.00%",
            "   _part",
            "  Δ0.00%",
            "   _spot",
            "  Δ0.00%"
           ],
           [
            "    _the",
            "  Δ0.00%",
            "      _I",
            " Δ-0.00%",
            "      _a",
            "  Δ0.00%",
            "     _is",
            " Δ-0.00%",
            "     _we",
            "  Δ0.00%",
            "     _it",
            " Δ-0.00%",
            "     _to",
            "  Δ0.00%",
            "       /",
            "  Δ0.00%",
            "   _then",
            "  Δ0.00%",
            "    _its",
            " Δ-0.00%"
           ],
           [
            "      _a",
            "  Δ0.00%",
            "    _not",
            " Δ-0.00%",
            "  _still",
            " Δ-0.00%",
            "     _an",
            " Δ-0.00%",
            "   _more",
            " Δ-0.00%",
            "   _also",
            " Δ-0.00%",
            " _always",
            "  Δ0.00%",
            "  _about",
            " Δ-0.00%",
            " _likely",
            " Δ-0.00%",
            "     _to",
            "  Δ0.00%"
           ],
           [
            "      aw",
            "  Δ0.00%",
            "      AW",
            "  Δ0.00%",
            "     ARD",
            "  Δ0.00%",
            "     _AW",
            " Δ-0.00%",
            "    ARDS",
            "  Δ0.00%",
            "      AY",
            " Δ-0.00%",
            "      ES",
            " Δ-0.00%",
            "      IM",
            "  Δ0.00%",
            "       .",
            "  Δ0.00%",
            "   akens",
            " Δ-0.00%"
           ],
           [
            "       .",
            " Δ-0.00%",
            "       ,",
            " Δ-0.00%",
            "       -",
            "  Δ0.00%",
            "      ER",
            "  Δ0.00%",
            "      ES",
            "  Δ0.00%",
            "      \\n",
            "  Δ0.00%",
            "       Y",
            "  Δ0.00%",
            "      ET",
            "  Δ0.00%",
            "      CE",
            " Δ-0.00%",
            "      AT",
            " Δ-0.00%"
           ],
           [
            "     OME",
            " Δ-0.00%",
            "      \\n",
            "  Δ0.00%",
            "     _in",
            "  Δ0.00%",
            "     _of",
            "  Δ0.00%",
            "       .",
            "  Δ0.00%",
            "       !",
            "  Δ0.00%",
            "      _2",
            "  Δ0.00%",
            "    _the",
            "  Δ0.00%",
            "      _I",
            "  Δ0.00%",
            "      _a",
            "  Δ0.00%"
           ]
          ],
          [
           [
            "      \\n",
            "  Δ0.00%",
            "    _the",
            " Δ-0.00%",
            "       ,",
            "  Δ0.00%",
            "     _in",
            "  Δ0.00%",
            "    _was",
            " Δ-0.00%",
            "       .",
            "  Δ0.00%",
            "     _to",
            "  Δ0.00%",
            "      _\"",
            "  Δ0.00%",
            "   _that",
            "  Δ0.00%",
            "   _were",
            "  Δ0.00%"
           ],
           [
            "     _of",
            " Δ-0.00%",
            "       :",
            "  Δ0.00%",
            " _Numbe…",
            "  Δ0.00%",
            "       ,",
            "  Δ0.00%",
            "    _are",
            " Δ-0.00%",
            "      \\n",
            " Δ-0.00%",
            "     _in",
            " Δ-0.00%",
            "       .",
            " Δ-0.00%",
            " _numbe…",
            "  Δ0.00%",
            "     _is",
            " Δ-0.00%"
           ],
           [
            "      'm",
            " Δ-0.00%",
            "     've",
            "  Δ0.00%",
            "    _was",
            " Δ-0.00%",
            "    _don",
            "  Δ0.00%",
            "  _think",
            " Δ-0.00%",
            "     _am",
            "  Δ0.00%",
            "    _see",
            " Δ-0.00%",
            " _under…",
            " Δ-0.00%",
            "      'd",
            "  Δ0.00%",
            "   _will",
            " Δ-0.00%"
           ],
           [
            "   _that",
            "  Δ0.00%",
            "    _the",
            "  Δ0.00%",
            "    _you",
            " Δ-0.00%",
            "    _for",
            " Δ-0.00%",
            "   _love",
            "  Δ0.00%",
            "      _a",
            "  Δ0.00%",
            "    _our",
            " Δ-0.00%",
            "    _all",
            " Δ-0.00%",
            "     _my",
            " Δ-0.00%",
            "     _to",
            "  Δ0.00%"
           ],
           [
            "       .",
            "  Δ0.00%",
            "       ,",
            " Δ-0.00%",
            "     _to",
            "  Δ0.00%",
            "    _for",
            "  Δ0.00%",
            "     _in",
            "  Δ0.00%",
            "     _as",
            " Δ-0.00%",
            "     _of",
            " Δ-0.00%",
            "    _are",
            "  Δ0.00%",
            "   _with",
            " Δ-0.00%",
            "     _is",
            " Δ-0.00%"
           ],
           [
            "      \\n",
            "  Δ0.00%",
            "    \\n\\n",
            "  Δ0.00%",
            "   _This",
            " Δ-0.00%",
            "      _\"",
            "  Δ0.00%",
            "    _You",
            "  Δ0.00%",
            "   _What",
            " Δ-0.00%",
            "    _And",
            " Δ-0.00%",
            "     _It",
            " Δ-0.00%",
            "    _All",
            " Δ-0.00%",
            "    _The",
            "  Δ0.00%"
           ],
           [
            "    _not",
            "  Δ0.00%",
            "       .",
            " Δ-0.00%",
            "     ute",
            "  Δ0.00%",
            "     _so",
            " Δ-0.00%",
            "      am",
            "  Δ0.00%",
            "   ateur",
            "  Δ0.00%",
            "     aha",
            " Δ-0.00%",
            "       ,",
            " Δ-0.00%",
            "      or",
            "  Δ0.00%",
            "  abella",
            " Δ-0.00%"
           ],
           [
            " _though",
            " Δ-0.00%",
            "     _if",
            "  Δ0.00%",
            "   _more",
            "  Δ0.00%",
            " _better",
            "  Δ0.00%",
            "      _a",
            "  Δ0.00%",
            "    _now",
            "  Δ0.00%",
            " _remot…",
            " Δ-0.00%",
            "       ,",
            "  Δ0.00%",
            "     _as",
            "  Δ0.00%",
            "     _on",
            "  Δ0.00%"
           ],
           [
            "     _on",
            " Δ-0.00%",
            "       ,",
            "  Δ0.00%",
            "    _out",
            " Δ-0.00%",
            "     _as",
            " Δ-0.00%",
            "      _a",
            "  Δ0.00%",
            "   _into",
            " Δ-0.00%",
            " _cloth…",
            " Δ-0.00%",
            " _shirts",
            " Δ-0.00%",
            "    _and",
            "  Δ0.00%",
            "   _just",
            "  Δ0.00%"
           ],
           [
            "  _first",
            " Δ-0.00%",
            " _follo…",
            " Δ-0.00%",
            "    _way",
            " Δ-0.00%",
            "   _best",
            " Δ-0.00%",
            "   _next",
            " Δ-0.00%",
            "  _whole",
            "  Δ0.00%",
            "   _very",
            " Δ-0.00%",
            "    _big",
            " Δ-0.00%",
            "  _right",
            " Δ-0.00%",
            "   _case",
            " Δ-0.00%"
           ],
           [
            "    _day",
            "  Δ0.00%",
            " _amount",
            "  Δ0.00%",
            "   _kind",
            " Δ-0.00%",
            "     _as",
            "  Δ0.00%",
            "   _part",
            " Δ-0.00%",
            "  _thing",
            " Δ-0.00%",
            "  _exact",
            " Δ-0.00%",
            "    _age",
            "  Δ0.00%",
            "   _vein",
            " Δ-0.00%",
            "     _in",
            "  Δ0.00%"
           ],
           [
            "    _the",
            "  Δ0.00%",
            "      _I",
            "  Δ0.00%",
            "     _it",
            "  Δ0.00%",
            "    _how",
            " Δ-0.00%",
            "     _my",
            "  Δ0.00%",
            "    _one",
            " Δ-0.00%",
            "       /",
            " Δ-0.00%",
            "     _he",
            "  Δ0.00%",
            "   _will",
            "  Δ0.00%",
            "   _they",
            "  Δ0.00%"
           ],
           [
            "      _a",
            "  Δ0.00%",
            "    _not",
            " Δ-0.00%",
            "  _often",
            "  Δ0.00%",
            "   _just",
            " Δ-0.00%",
            "   _easy",
            "  Δ0.00%",
            "   _more",
            " Δ-0.00%",
            "    _the",
            "  Δ0.00%",
            "     _no",
            "  Δ0.00%",
            "    _now",
            " Δ-0.00%",
            "  _going",
            "  Δ0.00%"
           ],
           [
            "      OL",
            "  Δ0.00%",
            "     ARD",
            "  Δ0.00%",
            "      IM",
            "  Δ0.00%",
            "      aw",
            " Δ-0.00%",
            "       P",
            " Δ-0.00%",
            "   iring",
            "  Δ0.00%",
            "       A",
            " Δ-0.00%",
            "    ARDS",
            "  Δ0.00%",
            "    ight",
            "  Δ0.00%",
            "     ens",
            "  Δ0.00%"
           ],
           [
            "      ER",
            " Δ-0.00%",
            "     _OF",
            " Δ-0.00%",
            "       .",
            " Δ-0.00%",
            "     ING",
            "  Δ0.00%",
            "      OR",
            "  Δ0.00%",
            "      TR",
            "  Δ0.00%",
            "     VER",
            "  Δ0.00%",
            "      SE",
            "  Δ0.00%",
            "      YS",
            "  Δ0.00%",
            "      FI",
            "  Δ0.00%"
           ],
           [
            "     OME",
            " Δ-0.00%",
            "       ,",
            "  Δ0.00%",
            "       .",
            "  Δ0.00%",
            "      _I",
            "  Δ0.00%",
            "     _IT",
            " Δ-0.00%",
            "    _and",
            "  Δ0.00%",
            "     !!!",
            " Δ-0.00%",
            "    _for",
            "  Δ0.00%",
            "      _(",
            "  Δ0.00%",
            "     _as",
            "  Δ0.00%"
           ]
          ],
          [
           [
            "    _the",
            "  Δ0.00%",
            "      \\n",
            " Δ-0.00%",
            "    _are",
            "  Δ0.00%",
            "     _to",
            " Δ-0.00%",
            "      _a",
            "  Δ0.00%",
            "     _on",
            "  Δ0.00%",
            "   _that",
            " Δ-0.00%",
            "     _in",
            "  Δ0.00%",
            "    _was",
            "  Δ0.00%",
            "     _of",
            " Δ-0.00%"
           ],
           [
            "      \\n",
            " Δ-0.00%",
            "     _of",
            "  Δ0.00%",
            "     _in",
            " Δ-0.00%",
            "    _are",
            "  Δ0.00%",
            "    _and",
            "  Δ0.00%",
            "   _from",
            "  Δ0.00%",
            "       ,",
            " Δ-0.00%",
            "       .",
            "  Δ0.00%",
            " _numbe…",
            " Δ-0.00%",
            "      _-",
            "  Δ0.00%"
           ],
           [
            "     've",
            "  Δ0.00%",
            "   _have",
            " Δ-0.00%",
            "    _was",
            "  Δ0.00%",
            "      \\n",
            " Δ-0.00%",
            "      'm",
            " Δ-0.00%",
            "       .",
            "  Δ0.00%",
            "      'd",
            "  Δ0.00%",
            "    _don",
            "  Δ0.00%",
            "     _am",
            "  Δ0.00%",
            "    _can",
            "  Δ0.00%"
           ],
           [
            "     _it",
            "  Δ0.00%",
            "    _the",
            " Δ-0.00%",
            "     _to",
            "  Δ0.00%",
            "   _that",
            "  Δ0.00%",
            "   _this",
            " Δ-0.00%",
            "    _for",
            "  Δ0.00%",
            "   _love",
            " Δ-0.00%",
            "      \\n",
            " Δ-0.00%",
            "      _a",
            "  Δ0.00%",
            "     _my",
            " Δ-0.00%"
           ],
           [
            "       ,",
            "  Δ0.00%",
            "    _for",
            " Δ-0.00%",
            "    _and",
            "  Δ0.00%",
            "   _with",
            " Δ-0.00%",
            "     _to",
            "  Δ0.00%",
            "       !",
            " Δ-0.00%",
            "     _in",
            "  Δ0.00%",
            "   _here",
            " Δ-0.00%",
            "     _on",
            " Δ-0.00%",
            "    _all",
            "  Δ0.00%"
           ],
           [
            "      \\n",
            "  Δ0.00%",
            "      _I",
            " Δ-0.00%",
            "     _We",
            " Δ-0.00%",
            "    \\n\\n",
            "  Δ0.00%",
            "    _You",
            " Δ-0.00%",
            "    _The",
            " Δ-0.00%",
            "     _If",
            " Δ-0.00%",
            "    _And",
            "  Δ0.00%",
            "  _Thank",
            "  Δ0.00%",
            "   _What",
            " Δ-0.00%"
           ],
           [
            "      _I",
            " Δ-0.00%",
            "    _not",
            " Δ-0.00%",
            "    _you",
            "  Δ0.00%",
            "    _the",
            "  Δ0.00%",
            "  ethyst",
            " Δ-0.00%",
            "      am",
            " Δ-0.00%",
            "  abella",
            " Δ-0.00%",
            "     ami",
            "  Δ0.00%",
            "       ,",
            " Δ-0.00%",
            "      or",
            "  Δ0.00%"
           ],
           [
            " _though",
            "  Δ0.00%",
            "     _if",
            "  Δ0.00%",
            "   _more",
            "  Δ0.00%",
            " _better",
            " Δ-0.00%",
            "  _close",
            " Δ-0.00%",
            " _remot…",
            "  Δ0.00%",
            "    _now",
            " Δ-0.00%",
            "      _a",
            " Δ-0.00%",
            "   _when",
            "  Δ0.00%",
            "       .",
            " Δ-0.00%"
           ],
           [
            "     _to",
            " Δ-0.00%",
            "   _with",
            " Δ-0.00%",
            "   _worn",
            "  Δ0.00%",
            "     _as",
            " Δ-0.00%",
            "     _on",
            "  Δ0.00%",
            "       .",
            " Δ-0.00%",
            "     _in",
            "  Δ0.00%",
            "       ,",
            " Δ-0.00%",
            "     _by",
            "  Δ0.00%",
            "   _here",
            " Δ-0.00%"
           ],
           [
            "   _best",
            " Δ-0.00%",
            "   _most",
            " Δ-0.00%",
            "    _way",
            " Δ-0.00%",
            " _follo…",
            " Δ-0.00%",
            "  _first",
            " Δ-0.00%",
            "  _wrong",
            "  Δ0.00%",
            "  _other",
            "  Δ0.00%",
            "  _whole",
            " Δ-0.00%",
            "   _time",
            " Δ-0.00%",
            "   _rest",
            " Δ-0.00%"
           ],
           [
            "  _thing",
            " Δ-0.00%",
            "    _day",
            "  Δ0.00%",
            "   _name",
            "  Δ0.00%",
            "   _kind",
            "  Δ0.00%",
            "   _part",
            "  Δ0.00%",
            "    _way",
            "  Δ0.00%",
            "   _vein",
            "  Δ0.00%",
            "   _sort",
            " Δ-0.00%",
            "   _spot",
            "  Δ0.00%",
            "    _age",
            "  Δ0.00%"
           ],
           [
            "     _we",
            "  Δ0.00%",
            "    _the",
            " Δ-0.00%",
            "      _I",
            " Δ-0.00%",
            "   _then",
            "  Δ0.00%",
            "     _it",
            "  Δ0.00%",
            "    _yet",
            " Δ-0.00%",
            "   _they",
            "  Δ0.00%",
            "    _let",
            " Δ-0.00%",
            "      _a",
            " Δ-0.00%",
            "       /",
            "  Δ0.00%"
           ],
           [
            "   _easy",
            "  Δ0.00%",
            "    _the",
            "  Δ0.00%",
            "    _not",
            "  Δ0.00%",
            "  _going",
            "  Δ0.00%",
            "   _very",
            " Δ-0.00%",
            " _usual…",
            " Δ-0.00%",
            "     _an",
            " Δ-0.00%",
            "  _still",
            " Δ-0.00%",
            " _runni…",
            " Δ-0.00%",
            " _likely",
            "  Δ0.00%"
           ],
           [
            "       .",
            "  Δ0.00%",
            "     ARD",
            " Δ-0.00%",
            "      OL",
            "  Δ0.00%",
            "  itting",
            "  Δ0.00%",
            "    ight",
            "  Δ0.00%",
            "      IM",
            " Δ-0.00%",
            "      IN",
            "  Δ0.00%",
            "     ard",
            " Δ-0.00%",
            "    ards",
            " Δ-0.00%",
            "   arded",
            " Δ-0.00%"
           ],
           [
            "      ER",
            " Δ-0.00%",
            "     POS",
            " Δ-0.00%",
            "       .",
            "  Δ0.00%",
            "    CENT",
            "  Δ0.00%",
            "      LY",
            " Δ-0.00%",
            "     OME",
            "  Δ0.00%",
            "     ENS",
            " Δ-0.00%",
            "     VER",
            "  Δ0.00%",
            "      IL",
            "  Δ0.00%",
            "    ABLE",
            " Δ-0.00%"
           ],
           [
            "       ,",
            "  Δ0.00%",
            "       !",
            " Δ-0.00%",
            "       .",
            "  Δ0.00%",
            "     _to",
            "  Δ0.00%",
            "      !!",
            "  Δ0.00%",
            "    _ONE",
            " Δ-0.00%",
            "    _the",
            "  Δ0.00%",
            "   _when",
            "  Δ0.00%",
            "     _at",
            "  Δ0.00%",
            " _things",
            " Δ-0.00%"
           ]
          ],
          [
           [
            "    _the",
            " Δ-0.00%",
            "    _for",
            " Δ-0.00%",
            "     _of",
            " Δ-0.00%",
            "    _and",
            " Δ-0.00%",
            "     The",
            "  Δ0.00%",
            "     _it",
            "  Δ0.00%",
            "       s",
            "  Δ0.00%",
            "   _have",
            " Δ-0.00%",
            "     _be",
            " Δ-0.00%",
            "   _with",
            "  Δ0.00%"
           ],
           [
            "     _of",
            " Δ-0.00%",
            "       :",
            "  Δ0.00%",
            "       ,",
            " Δ-0.00%",
            "      \\n",
            " Δ-0.00%",
            "     _in",
            "  Δ0.00%",
            "     _is",
            "  Δ0.00%",
            "      _-",
            "  Δ0.00%",
            "    _and",
            "  Δ0.00%",
            "     _on",
            "  Δ0.00%",
            "   _that",
            " Δ-0.00%"
           ],
           [
            "   _have",
            " Δ-0.00%",
            "    _was",
            "  Δ0.00%",
            "    _see",
            "  Δ0.00%",
            "      \\n",
            " Δ-0.00%",
            "  _would",
            "  Δ0.00%",
            "     've",
            "  Δ0.00%",
            "   _will",
            "  Δ0.00%",
            "     _am",
            "  Δ0.00%",
            "      'd",
            "  Δ0.00%",
            "      'm",
            " Δ-0.00%"
           ],
           [
            "     _to",
            "  Δ0.00%",
            "    _the",
            " Δ-0.00%",
            "   _that",
            " Δ-0.00%",
            "   _this",
            "  Δ0.00%",
            "      _a",
            "  Δ0.00%",
            "   _love",
            " Δ-0.00%",
            "    _and",
            " Δ-0.00%",
            "    _all",
            " Δ-0.00%",
            "       ,",
            " Δ-0.00%",
            "      \\n",
            "  Δ0.00%"
           ],
           [
            "       .",
            " Δ-0.00%",
            "     _in",
            "  Δ0.00%",
            "    _for",
            " Δ-0.00%",
            "     _to",
            "  Δ0.00%",
            "    _and",
            "  Δ0.00%",
            "   _with",
            "  Δ0.00%",
            "   _from",
            " Δ-0.00%",
            "    _all",
            "  Δ0.00%",
            "      \\n",
            " Δ-0.00%",
            "    _are",
            "  Δ0.00%"
           ],
           [
            "      \\n",
            "  Δ0.00%",
            "    _You",
            " Δ-0.00%",
            "    _The",
            "  Δ0.00%",
            "     _We",
            " Δ-0.00%",
            "     _If",
            " Δ-0.00%",
            "     _My",
            " Δ-0.00%",
            "     _:)",
            "  Δ0.00%",
            "    \\n\\n",
            "  Δ0.00%",
            "    _And",
            "  Δ0.00%",
            "       _",
            "  Δ0.00%"
           ],
           [
            "      _a",
            "  Δ0.00%",
            "  ethyst",
            " Δ-0.00%",
            "      or",
            "  Δ0.00%",
            "     ami",
            " Δ-0.00%",
            "     lee",
            " Δ-0.00%",
            "    _not",
            " Δ-0.00%",
            "      al",
            "  Δ0.00%",
            "      _I",
            "  Δ0.00%",
            "  abella",
            " Δ-0.00%",
            "    _the",
            "  Δ0.00%"
           ],
           [
            " _though",
            "  Δ0.00%",
            "   _more",
            "  Δ0.00%",
            " _better",
            " Δ-0.00%",
            "     _in",
            " Δ-0.00%",
            "  _close",
            " Δ-0.00%",
            " _enough",
            " Δ-0.00%",
            "     _if",
            "  Δ0.00%",
            " _remot…",
            "  Δ0.00%",
            "       ,",
            "  Δ0.00%",
            "    _tho",
            "  Δ0.00%"
           ],
           [
            "       .",
            "  Δ0.00%",
            "     _by",
            " Δ-0.00%",
            "     _on",
            " Δ-0.00%",
            "       ,",
            " Δ-0.00%",
            "    _for",
            "  Δ0.00%",
            "     _to",
            "  Δ0.00%",
            "   _here",
            " Δ-0.00%",
            "  _since",
            "  Δ0.00%",
            "     _in",
            "  Δ0.00%",
            "   _with",
            "  Δ0.00%"
           ],
           [
            "   _same",
            "  Δ0.00%",
            "  _right",
            " Δ-0.00%",
            "   _last",
            "  Δ0.00%",
            "   _best",
            " Δ-0.00%",
            "    _way",
            " Δ-0.00%",
            " _follo…",
            " Δ-0.00%",
            "  _whole",
            "  Δ0.00%",
            " _entire",
            " Δ-0.00%",
            "   _name",
            " Δ-0.00%",
            "   _idea",
            " Δ-0.00%"
           ],
           [
            "  _thing",
            " Δ-0.00%",
            "    _day",
            "  Δ0.00%",
            "   _kind",
            "  Δ0.00%",
            " _amount",
            " Δ-0.00%",
            "   _week",
            "  Δ0.00%",
            "  _exact",
            " Δ-0.00%",
            "  _place",
            "  Δ0.00%",
            "   _sort",
            "  Δ0.00%",
            "   _spot",
            "  Δ0.00%",
            " _sente…",
            "  Δ0.00%"
           ],
           [
            "      _I",
            " Δ-0.00%",
            "   _then",
            " Δ-0.00%",
            "   _they",
            " Δ-0.00%",
            "    _yet",
            " Δ-0.00%",
            "     _it",
            " Δ-0.00%",
            "     _we",
            "  Δ0.00%",
            "    _was",
            "  Δ0.00%",
            "      _a",
            " Δ-0.00%",
            "    _you",
            " Δ-0.00%",
            "    _for",
            "  Δ0.00%"
           ],
           [
            "    _not",
            " Δ-0.00%",
            "  _still",
            " Δ-0.00%",
            "    _one",
            "  Δ0.00%",
            "      _a",
            "  Δ0.00%",
            "   _very",
            " Δ-0.00%",
            " _there…",
            "  Δ0.00%",
            "    _the",
            "  Δ0.00%",
            "   _used",
            "  Δ0.00%",
            " _capab…",
            " Δ-0.00%",
            "     _to",
            "  Δ0.00%"
           ],
           [
            "      OL",
            "  Δ0.00%",
            "      aw",
            " Δ-0.00%",
            "       .",
            " Δ-0.00%",
            "       P",
            "  Δ0.00%",
            "      AY",
            " Δ-0.00%",
            "      IM",
            "  Δ0.00%",
            "     ARD",
            " Δ-0.00%",
            "       -",
            " Δ-0.00%",
            "    ight",
            "  Δ0.00%",
            "    ARDS",
            "  Δ0.00%"
           ],
           [
            "     POS",
            " Δ-0.00%",
            "       ,",
            "  Δ0.00%",
            "    POSE",
            " Δ-0.00%",
            "    WARD",
            " Δ-0.00%",
            "     OME",
            "  Δ0.00%",
            "     PER",
            "  Δ0.00%",
            "     _OF",
            " Δ-0.00%",
            "       P",
            "  Δ0.00%",
            "       !",
            " Δ-0.00%",
            "       .",
            " Δ-0.00%"
           ],
           [
            "       !",
            "  Δ0.00%",
            "       .",
            "  Δ0.00%",
            "     _to",
            "  Δ0.00%",
            "      !!",
            " Δ-0.00%",
            "     _of",
            " Δ-0.00%",
            "      \\n",
            " Δ-0.00%",
            "     _IT",
            " Δ-0.00%",
            " _becau…",
            "  Δ0.00%",
            "     !!!",
            " Δ-0.00%",
            " _featu…",
            " Δ-0.00%"
           ]
          ],
          [
           [
            "      _a",
            " Δ-0.00%",
            "     _to",
            " Δ-0.00%",
            "       ,",
            " Δ-0.00%",
            "       \\",
            " Δ-0.00%",
            "     _on",
            " Δ-0.00%",
            "     _is",
            " Δ-0.00%",
            "    _and",
            "  Δ0.00%",
            "     _an",
            " Δ-0.00%",
            "      Âł",
            " Δ-0.00%",
            "     _as",
            " Δ-0.00%"
           ],
           [
            "     _of",
            "  Δ0.00%",
            "      \\n",
            " Δ-0.00%",
            "       :",
            " Δ-0.00%",
            "       ,",
            " Δ-0.00%",
            "    _and",
            " Δ-0.00%",
            "     _in",
            " Δ-0.00%",
            "      _:",
            "  Δ0.00%",
            "   _have",
            " Δ-0.00%",
            "       .",
            " Δ-0.00%",
            "      _-",
            " Δ-0.00%"
           ],
           [
            "     've",
            "  Δ0.00%",
            "      \\n",
            " Δ-0.00%",
            "   _have",
            "  Δ0.00%",
            " _recei…",
            " Δ-0.00%",
            "   _will",
            "  Δ0.00%",
            "    _use",
            "  Δ0.00%",
            " _recom…",
            " Δ-0.00%",
            "   _used",
            "  Δ0.00%",
            " _learn…",
            "  Δ0.00%",
            " _inclu…",
            " Δ-0.00%"
           ],
           [
            "      \\n",
            " Δ-0.00%",
            "   _this",
            "  Δ0.00%",
            "    _all",
            "  Δ0.00%",
            "     _it",
            "  Δ0.00%",
            "       :",
            " Δ-0.00%",
            "     _my",
            "  Δ0.00%",
            " _watch…",
            "  Δ0.00%",
            "      _a",
            "  Δ0.00%",
            " _heari…",
            "  Δ0.00%",
            "  _today",
            "  Δ0.00%"
           ],
           [
            "       .",
            " Δ-0.00%",
            "       ,",
            "  Δ0.00%",
            "    _all",
            " Δ-0.00%",
            "    _for",
            "  Δ0.00%",
            "       :",
            "  Δ0.00%",
            "     _in",
            "  Δ0.00%",
            "      \\n",
            " Δ-0.00%",
            " _becau…",
            " Δ-0.00%",
            "   _here",
            " Δ-0.00%",
            "    _and",
            "  Δ0.00%"
           ],
           [
            "      \\n",
            "  Δ0.00%",
            "      _I",
            " Δ-0.00%",
            "     _We",
            " Δ-0.00%",
            "     _It",
            " Δ-0.00%",
            "     _:)",
            " Δ-0.00%",
            "   _This",
            " Δ-0.00%",
            "    \\n\\n",
            "  Δ0.00%",
            "     _My",
            " Δ-0.00%",
            "    _You",
            " Δ-0.00%",
            "       _",
            "  Δ0.00%"
           ],
           [
            "      _I",
            "  Δ0.00%",
            "  ethyst",
            "  Δ0.00%",
            "       .",
            " Δ-0.00%",
            "       ,",
            " Δ-0.00%",
            "      br",
            "  Δ0.00%",
            "      al",
            "  Δ0.00%",
            "      ma",
            " Δ-0.00%",
            "    _the",
            "  Δ0.00%",
            "     _my",
            " Δ-0.00%",
            "    _you",
            "  Δ0.00%"
           ],
           [
            "   _more",
            " Δ-0.00%",
            " _remot…",
            "  Δ0.00%",
            " _better",
            " Δ-0.00%",
            "  _worse",
            "  Δ0.00%",
            "      _a",
            " Δ-0.00%",
            "  _close",
            "  Δ0.00%",
            " _though",
            "  Δ0.00%",
            "     _in",
            "  Δ0.00%",
            "     _on",
            "  Δ0.00%",
            "     _to",
            "  Δ0.00%"
           ],
           [
            "     _on",
            " Δ-0.00%",
            "     _by",
            " Δ-0.00%",
            "     _to",
            "  Δ0.00%",
            "    _and",
            " Δ-0.00%",
            "       ?",
            "  Δ0.00%",
            "       !",
            "  Δ0.00%",
            " _around",
            " Δ-0.00%",
            "     _as",
            " Δ-0.00%",
            "   _here",
            " Δ-0.00%",
            "     _in",
            "  Δ0.00%"
           ],
           [
            "  _first",
            "  Δ0.00%",
            "   _same",
            "  Δ0.00%",
            "    _way",
            "  Δ0.00%",
            "  _wrong",
            " Δ-0.00%",
            "  _whole",
            " Δ-0.00%",
            "   _last",
            " Δ-0.00%",
            "  _right",
            " Δ-0.00%",
            "    _day",
            " Δ-0.00%",
            "  _other",
            "  Δ0.00%",
            " _second",
            "  Δ0.00%"
           ],
           [
            "    _day",
            "  Δ0.00%",
            "  _exact",
            " Δ-0.00%",
            " _amount",
            " Δ-0.00%",
            "    _old",
            " Δ-0.00%",
            "  _thing",
            " Δ-0.00%",
            "   _kind",
            " Δ-0.00%",
            "   _sort",
            " Δ-0.00%",
            "    _way",
            " Δ-0.00%",
            "   _name",
            " Δ-0.00%",
            "     _as",
            "  Δ0.00%"
           ],
           [
            "   _then",
            "  Δ0.00%",
            "    _one",
            " Δ-0.00%",
            "    _was",
            "  Δ0.00%",
            "      _I",
            "  Δ0.00%",
            "    _can",
            " Δ-0.00%",
            " _witho…",
            "  Δ0.00%",
            "     _it",
            "  Δ0.00%",
            "   _have",
            " Δ-0.00%",
            "     _we",
            "  Δ0.00%",
            " _somet…",
            "  Δ0.00%"
           ],
           [
            "      _a",
            " Δ-0.00%",
            "    _the",
            "  Δ0.00%",
            "    _not",
            " Δ-0.00%",
            " _proba…",
            "  Δ0.00%",
            "  _still",
            "  Δ0.00%",
            " _there…",
            "  Δ0.00%",
            "   _more",
            "  Δ0.00%",
            "     _of",
            "  Δ0.00%",
            "   _used",
            "  Δ0.00%",
            "     _no",
            " Δ-0.00%"
           ],
           [
            "       P",
            "  Δ0.00%",
            "       .",
            " Δ-0.00%",
            "     ARD",
            " Δ-0.00%",
            "     _AW",
            " Δ-0.00%",
            "      IN",
            "  Δ0.00%",
            "      AS",
            "  Δ0.00%",
            "       R",
            "  Δ0.00%",
            "       A",
            "  Δ0.00%",
            "      EC",
            "  Δ0.00%",
            "      AW",
            "  Δ0.00%"
           ],
           [
            "     OME",
            "  Δ0.00%",
            "     ULT",
            " Δ-0.00%",
            "       !",
            " Δ-0.00%",
            "       .",
            " Δ-0.00%",
            "     ENS",
            " Δ-0.00%",
            "    WARD",
            "  Δ0.00%",
            "   EMENT",
            " Δ-0.00%",
            "     IAS",
            " Δ-0.00%",
            "       '",
            " Δ-0.00%",
            "       P",
            " Δ-0.00%"
           ],
           [
            "       !",
            " Δ-0.00%",
            "       .",
            "  Δ0.00%",
            "    _for",
            "  Δ0.00%",
            "     _to",
            " Δ-0.00%",
            "       ,",
            "  Δ0.00%",
            "     _in",
            " Δ-0.00%",
            "   _when",
            "  Δ0.00%",
            "     _of",
            " Δ-0.00%",
            "      \\n",
            "  Δ0.00%",
            "      !\"",
            "  Δ0.00%"
           ]
          ],
          [
           [
            "      \\n",
            " Δ-0.00%",
            "    _the",
            "  Δ0.00%",
            "       ,",
            "  Δ0.00%",
            "       .",
            "  Δ0.00%",
            "     _to",
            "  Δ0.00%",
            "      _a",
            "  Δ0.00%",
            "      _\"",
            "  Δ0.00%",
            "     _of",
            "  Δ0.00%",
            "     _in",
            "  Δ0.00%",
            "    _are",
            "  Δ0.00%"
           ],
           [
            "     _of",
            " Δ-0.00%",
            "       :",
            " Δ-0.00%",
            "      \\n",
            " Δ-0.00%",
            "     _on",
            "  Δ0.00%",
            "     _to",
            " Δ-0.00%",
            "    _and",
            "  Δ0.00%",
            "     _in",
            " Δ-0.00%",
            "       .",
            "  Δ0.00%",
            "   _that",
            " Δ-0.00%",
            "     _is",
            "  Δ0.00%"
           ],
           [
            "      \\n",
            "  Δ0.00%",
            "     've",
            "  Δ0.00%",
            "   _have",
            " Δ-0.00%",
            "   _used",
            " Δ-0.00%",
            "     _am",
            "  Δ0.00%",
            "      'm",
            " Δ-0.00%",
            "    _use",
            " Δ-0.00%",
            "    _don",
            " Δ-0.00%",
            "   _need",
            " Δ-0.00%",
            "   _mean",
            "  Δ0.00%"
           ],
           [
            "     _it",
            "  Δ0.00%",
            "   _this",
            "  Δ0.00%",
            "    _you",
            " Δ-0.00%",
            "   _that",
            "  Δ0.00%",
            "     _to",
            "  Δ0.00%",
            "    _the",
            " Δ-0.00%",
            "    _for",
            " Δ-0.00%",
            "       ,",
            "  Δ0.00%",
            " _people",
            " Δ-0.00%",
            "    _and",
            " Δ-0.00%"
           ],
           [
            "       ,",
            "  Δ0.00%",
            "    _all",
            "  Δ0.00%",
            "      \\n",
            " Δ-0.00%",
            "       .",
            " Δ-0.00%",
            "    _are",
            " Δ-0.00%",
            "     _as",
            "  Δ0.00%",
            "     _to",
            " Δ-0.00%",
            "       ?",
            " Δ-0.00%",
            "     _on",
            " Δ-0.00%",
            "     _so",
            "  Δ0.00%"
           ],
           [
            "      \\n",
            "  Δ0.00%",
            "      _I",
            " Δ-0.00%",
            "    \\n\\n",
            "  Δ0.00%",
            "    _The",
            " Δ-0.00%",
            "      _A",
            " Δ-0.00%",
            "     _It",
            " Δ-0.00%",
            "   _This",
            " Δ-0.00%",
            "     _My",
            " Δ-0.00%",
            "      _(",
            " Δ-0.00%",
            "     _:)",
            " Δ-0.00%"
           ],
           [
            "      _I",
            " Δ-0.00%",
            "      al",
            " Δ-0.00%",
            "       .",
            " Δ-0.00%",
            "       r",
            " Δ-0.00%",
            "     als",
            " Δ-0.00%",
            "     _me",
            "  Δ0.00%",
            "  ethyst",
            "  Δ0.00%",
            "    _not",
            "  Δ0.00%",
            "      \\n",
            " Δ-0.00%",
            "       ,",
            " Δ-0.00%"
           ],
           [
            "      _a",
            "  Δ0.00%",
            " _better",
            "  Δ0.00%",
            "  _going",
            " Δ-0.00%",
            "  _worse",
            "  Δ0.00%",
            "  _close",
            "  Δ0.00%",
            " _remot…",
            "  Δ0.00%",
            " _writi…",
            " Δ-0.00%",
            "     _in",
            " Δ-0.00%",
            "   _MORE",
            " Δ-0.00%",
            "    _the",
            "  Δ0.00%"
           ],
           [
            "       ,",
            "  Δ0.00%",
            "     _on",
            "  Δ0.00%",
            "     _by",
            " Δ-0.00%",
            " _around",
            " Δ-0.00%",
            "    _and",
            " Δ-0.00%",
            "       .",
            "  Δ0.00%",
            "     _my",
            " Δ-0.00%",
            "    _out",
            " Δ-0.00%",
            "   _when",
            "  Δ0.00%",
            "     _at",
            " Δ-0.00%"
           ],
           [
            "   _same",
            "  Δ0.00%",
            "    _way",
            " Δ-0.00%",
            "  _first",
            "  Δ0.00%",
            "   _last",
            "  Δ0.00%",
            "    _day",
            "  Δ0.00%",
            "  _whole",
            " Δ-0.00%",
            "  _wrong",
            " Δ-0.00%",
            "    _one",
            "  Δ0.00%",
            "    _old",
            " Δ-0.00%",
            "   _best",
            " Δ-0.00%"
           ],
           [
            "    _day",
            "  Δ0.00%",
            "    _way",
            " Δ-0.00%",
            "  _thing",
            "  Δ0.00%",
            "  _exact",
            " Δ-0.00%",
            "   _kind",
            " Δ-0.00%",
            "     _as",
            "  Δ0.00%",
            "    _old",
            " Δ-0.00%",
            "   _time",
            " Δ-0.00%",
            "  _since",
            "  Δ0.00%",
            " _amount",
            " Δ-0.00%"
           ],
           [
            "     _it",
            "  Δ0.00%",
            "     _we",
            "  Δ0.00%",
            "      _a",
            " Δ-0.00%",
            "    _yet",
            "  Δ0.00%",
            "    _you",
            "  Δ0.00%",
            "    _all",
            "  Δ0.00%",
            "    _not",
            " Δ-0.00%",
            "     _to",
            "  Δ0.00%",
            "     _my",
            " Δ-0.00%",
            "     _in",
            " Δ-0.00%"
           ],
           [
            "    _not",
            " Δ-0.00%",
            "   _more",
            " Δ-0.00%",
            "   _easy",
            " Δ-0.00%",
            "     _to",
            "  Δ0.00%",
            "   _very",
            " Δ-0.00%",
            "    _one",
            " Δ-0.00%",
            "      _a",
            "  Δ0.00%",
            "  _often",
            " Δ-0.00%",
            " _sligh…",
            "  Δ0.00%",
            " _almost",
            "  Δ0.00%"
           ],
           [
            "      OL",
            "  Δ0.00%",
            "    IRED",
            " Δ-0.00%",
            "      ES",
            " Δ-0.00%",
            "     ING",
            " Δ-0.00%",
            "     ARD",
            "  Δ0.00%",
            "       P",
            "  Δ0.00%",
            "     VER",
            " Δ-0.00%",
            "     ALL",
            "  Δ0.00%",
            "      AC",
            "  Δ0.00%",
            "       !",
            " Δ-0.00%"
           ],
           [
            "     ENS",
            " Δ-0.00%",
            "     OME",
            "  Δ0.00%",
            "      EN",
            "  Δ0.00%",
            "   EMENT",
            " Δ-0.00%",
            "    WARD",
            " Δ-0.00%",
            "      OL",
            "  Δ0.00%",
            "     IGH",
            "  Δ0.00%",
            "     ULT",
            "  Δ0.00%",
            "    IRED",
            " Δ-0.00%",
            "     IGN",
            " Δ-0.00%"
           ],
           [
            "       !",
            "  Δ0.00%",
            "       .",
            " Δ-0.00%",
            "     !!!",
            " Δ-0.00%",
            "      LY",
            " Δ-0.00%",
            "      \\n",
            " Δ-0.00%",
            "      !!",
            "  Δ0.00%",
            "     _to",
            "  Δ0.00%",
            "    _for",
            " Δ-0.00%",
            "   _when",
            "  Δ0.00%",
            "    !!!!",
            " Δ-0.00%"
           ]
          ],
          [
           [
            "       ,",
            "  Δ0.00%",
            "     _to",
            "  Δ0.00%",
            "     _of",
            "  Δ0.00%",
            "     _is",
            " Δ-0.00%",
            "    _for",
            " Δ-0.00%",
            "     _on",
            " Δ-0.00%",
            "     The",
            "  Δ0.00%",
            "       A",
            " Δ-0.00%",
            "     _be",
            " Δ-0.00%",
            "     _or",
            " Δ-0.00%"
           ],
           [
            "       :",
            "  Δ0.00%",
            "     _of",
            " Δ-0.00%",
            "       ,",
            " Δ-0.00%",
            "      \\n",
            "  Δ0.00%",
            "     _in",
            " Δ-0.00%",
            "       .",
            " Δ-0.00%",
            "     _is",
            " Δ-0.00%",
            "     _on",
            " Δ-0.00%",
            "     _to",
            "  Δ0.00%",
            "      _:",
            "  Δ0.00%"
           ],
           [
            "   _have",
            "  Δ0.00%",
            "   _used",
            "  Δ0.00%",
            "     've",
            " Δ-0.00%",
            "    _can",
            "  Δ0.00%",
            "      \\n",
            " Δ-0.00%",
            "    _use",
            "  Δ0.00%",
            "      'm",
            " Δ-0.00%",
            "     _am",
            " Δ-0.00%",
            "   _like",
            "  Δ0.00%",
            "       :",
            " Δ-0.00%"
           ],
           [
            "   _this",
            "  Δ0.00%",
            "      \\n",
            " Δ-0.00%",
            "    _and",
            "  Δ0.00%",
            "     _it",
            "  Δ0.00%",
            "    _the",
            "  Δ0.00%",
            "     _to",
            " Δ-0.00%",
            "    \\n\\n",
            " Δ-0.00%",
            "    _for",
            " Δ-0.00%",
            "     _in",
            "  Δ0.00%",
            "  _about",
            "  Δ0.00%"
           ],
           [
            "       ,",
            "  Δ0.00%",
            "    _all",
            "  Δ0.00%",
            "      \\n",
            " Δ-0.00%",
            "     _to",
            "  Δ0.00%",
            "    _and",
            "  Δ0.00%",
            "    _for",
            "  Δ0.00%",
            "   _with",
            " Δ-0.00%",
            "    _are",
            " Δ-0.00%",
            "   _here",
            "  Δ0.00%",
            "     _in",
            "  Δ0.00%"
           ],
           [
            "      \\n",
            "  Δ0.00%",
            "    \\n\\n",
            "  Δ0.00%",
            "      _A",
            " Δ-0.00%",
            "     _It",
            " Δ-0.00%",
            "     _We",
            "  Δ0.00%",
            "    _You",
            " Δ-0.00%",
            "   _This",
            " Δ-0.00%",
            "   _What",
            " Δ-0.00%",
            "     _:)",
            " Δ-0.00%",
            "      _\"",
            " Δ-0.00%"
           ],
           [
            "      _I",
            "  Δ0.00%",
            "  ethyst",
            " Δ-0.00%",
            "      is",
            " Δ-0.00%",
            "      al",
            "  Δ0.00%",
            "    _not",
            " Δ-0.00%",
            "    icus",
            " Δ-0.00%",
            "       n",
            " Δ-0.00%",
            "    _NOT",
            " Δ-0.00%",
            "     ant",
            " Δ-0.00%",
            "    used",
            " Δ-0.00%"
           ],
           [
            "   _more",
            "  Δ0.00%",
            " _better",
            " Δ-0.00%",
            "  _close",
            " Δ-0.00%",
            "      _a",
            "  Δ0.00%",
            "    _one",
            " Δ-0.00%",
            "    _now",
            " Δ-0.00%",
            "     _my",
            " Δ-0.00%",
            "     _in",
            " Δ-0.00%",
            "   _good",
            " Δ-0.00%",
            "  _going",
            "  Δ0.00%"
           ],
           [
            "     _on",
            " Δ-0.00%",
            "     _to",
            " Δ-0.00%",
            "     _in",
            "  Δ0.00%",
            "       .",
            "  Δ0.00%",
            " _around",
            " Δ-0.00%",
            "     _as",
            "  Δ0.00%",
            "   _with",
            " Δ-0.00%",
            "       ,",
            " Δ-0.00%",
            "     _or",
            "  Δ0.00%",
            "     _by",
            "  Δ0.00%"
           ],
           [
            "    _way",
            "  Δ0.00%",
            "   _same",
            " Δ-0.00%",
            "  _right",
            "  Δ0.00%",
            "  _first",
            "  Δ0.00%",
            "   _last",
            "  Δ0.00%",
            "     _so",
            " Δ-0.00%",
            "    _day",
            " Δ-0.00%",
            "   _full",
            " Δ-0.00%",
            "   _size",
            "  Δ0.00%",
            "   _next",
            " Δ-0.00%"
           ],
           [
            "    _way",
            " Δ-0.00%",
            "  _thing",
            "  Δ0.00%",
            "    _day",
            "  Δ0.00%",
            "  _since",
            "  Δ0.00%",
            "   _with",
            "  Δ0.00%",
            "    _old",
            " Δ-0.00%",
            " _amount",
            " Δ-0.00%",
            "    _for",
            "  Δ0.00%",
            "     _as",
            " Δ-0.00%",
            "   _year",
            "  Δ0.00%"
           ],
           [
            "      _I",
            " Δ-0.00%",
            "    _yet",
            "  Δ0.00%",
            "   _with",
            "  Δ0.00%",
            "    _can",
            "  Δ0.00%",
            "    _the",
            "  Δ0.00%",
            "   _have",
            " Δ-0.00%",
            " _somet…",
            "  Δ0.00%",
            "   _even",
            "  Δ0.00%",
            "    _not",
            " Δ-0.00%",
            "   _that",
            "  Δ0.00%"
           ],
           [
            "      _a",
            " Δ-0.00%",
            "    _one",
            "  Δ0.00%",
            "    _not",
            "  Δ0.00%",
            "   _very",
            " Δ-0.00%",
            "  _still",
            "  Δ0.00%",
            "     _on",
            " Δ-0.00%",
            "     _to",
            "  Δ0.00%",
            " _somet…",
            " Δ-0.00%",
            " _easily",
            " Δ-0.00%",
            "   _made",
            "  Δ0.00%"
           ],
           [
            "      ES",
            " Δ-0.00%",
            "    ARDS",
            " Δ-0.00%",
            "     ALL",
            "  Δ0.00%",
            "     _AW",
            " Δ-0.00%",
            "     VER",
            " Δ-0.00%",
            "       R",
            "  Δ0.00%",
            "      AY",
            " Δ-0.00%",
            "    OOOO",
            " Δ-0.00%",
            "       A",
            "  Δ0.00%",
            "       I",
            "  Δ0.00%"
           ],
           [
            "     ENS",
            "  Δ0.00%",
            "     IGH",
            "  Δ0.00%",
            "      om",
            "  Δ0.00%",
            "      EN",
            "  Δ0.00%",
            "      OM",
            "  Δ0.00%",
            "      OL",
            "  Δ0.00%",
            "     ULT",
            "  Δ0.00%",
            "    WARD",
            "  Δ0.00%",
            "    omer",
            "  Δ0.00%",
            "   EMENT",
            "  Δ0.00%"
           ],
           [
            "       !",
            "  Δ0.00%",
            "       .",
            " Δ-0.00%",
            "    !!!!",
            " Δ-0.00%",
            "     !!!",
            "  Δ0.00%",
            "      \\n",
            " Δ-0.00%",
            "     _to",
            " Δ-0.00%",
            "     _in",
            "  Δ0.00%",
            "       ,",
            " Δ-0.00%",
            "    _for",
            "  Δ0.00%",
            "   _with",
            "  Δ0.00%"
           ]
          ],
          [
           [
            "     _to",
            " Δ-0.00%",
            "      _a",
            "  Δ0.00%",
            "   _with",
            " Δ-0.00%",
            "     The",
            " Δ-0.00%",
            "    _was",
            " Δ-0.00%",
            "   _from",
            "  Δ0.00%",
            "       _",
            " Δ-0.00%",
            "      _=",
            " Δ-0.00%",
            "      is",
            " Δ-0.00%",
            "     _be",
            "  Δ0.00%"
           ],
           [
            "      \\n",
            "  Δ0.00%",
            "     _of",
            " Δ-0.00%",
            "       ,",
            "  Δ0.00%",
            "    _and",
            " Δ-0.00%",
            "     _in",
            " Δ-0.00%",
            "     _is",
            " Δ-0.00%",
            "       :",
            " Δ-0.00%",
            "    _are",
            " Δ-0.00%",
            "     _to",
            "  Δ0.00%",
            "   _have",
            "  Δ0.00%"
           ],
           [
            "   _have",
            " Δ-0.00%",
            "      'm",
            "  Δ0.00%",
            "     've",
            "  Δ0.00%",
            "    _use",
            "  Δ0.00%",
            "      \\n",
            "  Δ0.00%",
            "   _will",
            " Δ-0.00%",
            "      'd",
            " Δ-0.00%",
            "  _would",
            " Δ-0.00%",
            "       :",
            " Δ-0.00%",
            "    _don",
            " Δ-0.00%"
           ],
           [
            "       ,",
            "  Δ0.00%",
            "      \\n",
            "  Δ0.00%",
            "    _and",
            " Δ-0.00%",
            "       :",
            " Δ-0.00%",
            "     _to",
            "  Δ0.00%",
            "    _for",
            " Δ-0.00%",
            "     _in",
            "  Δ0.00%",
            "   _that",
            " Δ-0.00%",
            "       !",
            "  Δ0.00%",
            "   _with",
            " Δ-0.00%"
           ],
           [
            "     _as",
            "  Δ0.00%",
            "    _for",
            " Δ-0.00%",
            "     _so",
            "  Δ0.00%",
            "    _all",
            " Δ-0.00%",
            "    _and",
            "  Δ0.00%",
            "     _in",
            "  Δ0.00%",
            "       :",
            " Δ-0.00%",
            "       _",
            "  Δ0.00%",
            "       .",
            "  Δ0.00%",
            "    _too",
            "  Δ0.00%"
           ],
           [
            "      _I",
            " Δ-0.00%",
            "      \\n",
            "  Δ0.00%",
            "    \\n\\n",
            "  Δ0.00%",
            "     _My",
            " Δ-0.00%",
            "   _They",
            " Δ-0.00%",
            "   _This",
            " Δ-0.00%",
            "      _:",
            "  Δ0.00%",
            "     _It",
            " Δ-0.00%",
            "     _We",
            "  Δ0.00%",
            "      _(",
            " Δ-0.00%"
           ],
           [
            "      _I",
            " Δ-0.00%",
            "  ethyst",
            " Δ-0.00%",
            "    _not",
            "  Δ0.00%",
            "       i",
            "  Δ0.00%",
            "       n",
            "  Δ0.00%",
            "     iga",
            "  Δ0.00%",
            "       ,",
            " Δ-0.00%",
            "    _the",
            "  Δ0.00%",
            "       a",
            "  Δ0.00%",
            "      _a",
            "  Δ0.00%"
           ],
           [
            "   _more",
            " Δ-0.00%",
            " _better",
            "  Δ0.00%",
            "    _the",
            " Δ-0.00%",
            "     _my",
            "  Δ0.00%",
            "     _in",
            " Δ-0.00%",
            "     _on",
            "  Δ0.00%",
            "   _with",
            " Δ-0.00%",
            "     _so",
            " Δ-0.00%",
            "  _worse",
            "  Δ0.00%",
            "    _now",
            "  Δ0.00%"
           ],
           [
            "     _in",
            "  Δ0.00%",
            "     _by",
            " Δ-0.00%",
            "    _out",
            " Δ-0.00%",
            "    _for",
            "  Δ0.00%",
            "      _a",
            " Δ-0.00%",
            "     _at",
            " Δ-0.00%",
            "     _to",
            " Δ-0.00%",
            "   _over",
            "  Δ0.00%",
            "       ,",
            " Δ-0.00%",
            "   _here",
            "  Δ0.00%"
           ],
           [
            "   _same",
            "  Δ0.00%",
            "    _way",
            " Δ-0.00%",
            "  _first",
            " Δ-0.00%",
            "  _whole",
            "  Δ0.00%",
            "   _most",
            " Δ-0.00%",
            "   _last",
            "  Δ0.00%",
            "  _right",
            "  Δ0.00%",
            "  _other",
            "  Δ0.00%",
            "    _day",
            "  Δ0.00%",
            "   _size",
            " Δ-0.00%"
           ],
           [
            "    _way",
            " Δ-0.00%",
            "     _as",
            "  Δ0.00%",
            "    _for",
            "  Δ0.00%",
            "   _with",
            "  Δ0.00%",
            "     _in",
            "  Δ0.00%",
            "    _day",
            "  Δ0.00%",
            "  _thing",
            " Δ-0.00%",
            "       .",
            "  Δ0.00%",
            "  _since",
            "  Δ0.00%",
            "  _night",
            "  Δ0.00%"
           ],
           [
            "      _I",
            "  Δ0.00%",
            "    _yet",
            "  Δ0.00%",
            "   _made",
            " Δ-0.00%",
            "     _we",
            "  Δ0.00%",
            "   _have",
            " Δ-0.00%",
            "     _my",
            "  Δ0.00%",
            "   _they",
            "  Δ0.00%",
            "     _if",
            "  Δ0.00%",
            "    _has",
            " Δ-0.00%",
            "    _the",
            "  Δ0.00%"
           ],
           [
            "   _very",
            " Δ-0.00%",
            "    _not",
            "  Δ0.00%",
            " _easily",
            "  Δ0.00%",
            "      _a",
            " Δ-0.00%",
            " _always",
            " Δ-0.00%",
            "   _even",
            "  Δ0.00%",
            "  _often",
            " Δ-0.00%",
            " _pretty",
            " Δ-0.00%",
            "  _still",
            "  Δ0.00%",
            "    _the",
            " Δ-0.00%"
           ],
           [
            "      ES",
            " Δ-0.00%",
            "     ARD",
            " Δ-0.00%",
            "     _AW",
            "  Δ0.00%",
            "     FUL",
            "  Δ0.00%",
            "      OL",
            " Δ-0.00%",
            "     ING",
            " Δ-0.00%",
            "      IN",
            "  Δ0.00%",
            "      AY",
            " Δ-0.00%",
            "       A",
            "  Δ0.00%",
            "       R",
            "  Δ0.00%"
           ],
           [
            "      om",
            "  Δ0.00%",
            "      OM",
            " Δ-0.00%",
            "     ULT",
            "  Δ0.00%",
            "    omer",
            "  Δ0.00%",
            "    omen",
            "  Δ0.00%",
            "     IGH",
            "  Δ0.00%",
            "     ENS",
            " Δ-0.00%",
            "     ome",
            "  Δ0.00%",
            "     ELY",
            " Δ-0.00%",
            "       E",
            "  Δ0.00%"
           ],
           [
            "       !",
            " Δ-0.00%",
            "      !!",
            " Δ-0.00%",
            "    !!!!",
            " Δ-0.00%",
            "     !!!",
            " Δ-0.00%",
            "   _when",
            "  Δ0.00%",
            "     _in",
            "  Δ0.00%",
            "       ,",
            "  Δ0.00%",
            "       _",
            "  Δ0.00%",
            "    _and",
            "  Δ0.00%",
            "   _with",
            "  Δ0.00%"
           ]
          ],
          [
           [
            "       .",
            "  Δ0.02%",
            "       ,",
            "  Δ0.01%",
            "      \\n",
            "  Δ0.01%",
            "    _the",
            "  Δ0.01%",
            "    _and",
            "  Δ0.01%",
            "       -",
            "  Δ0.01%",
            "     _in",
            "  Δ0.01%",
            "     _to",
            "  Δ0.00%",
            "      _a",
            "  Δ0.00%",
            "    _for",
            "  Δ0.00%"
           ],
           [
            "     _of",
            " Δ-2.24%",
            "      \\n",
            "  Δ1.32%",
            "       :",
            " Δ-0.87%",
            "       ,",
            " Δ-0.74%",
            "    _are",
            "  Δ0.47%",
            "       .",
            " Δ-0.31%",
            "    _for",
            "  Δ0.30%",
            "   _have",
            "  Δ0.22%",
            "     _to",
            " Δ-0.18%",
            "      _(",
            " Δ-0.18%"
           ],
           [
            "     've",
            " Δ-5.15%",
            "      'm",
            " Δ-1.64%",
            "   _used",
            " Δ-0.83%",
            "     _am",
            "  Δ0.61%",
            "    _was",
            "  Δ0.56%",
            "     'll",
            " Δ-0.47%",
            "      'd",
            " Δ-0.34%",
            "   _Used",
            " Δ-0.33%",
            "       :",
            " Δ-0.30%",
            "  _think",
            "  Δ0.27%"
           ],
           [
            "      \\n",
            "  Δ5.77%",
            "     _to",
            " Δ-2.07%",
            "       :",
            "  Δ2.01%",
            "       .",
            " Δ-1.22%",
            "       ,",
            " Δ-1.19%",
            "  _about",
            "  Δ1.10%",
            "   _this",
            " Δ-1.08%",
            "    _for",
            " Δ-1.05%",
            "    _and",
            "  Δ0.75%",
            "   _when",
            " Δ-0.60%"
           ],
           [
            "    _for",
            "  Δ2.29%",
            "       ,",
            "  Δ2.05%",
            "       .",
            "  Δ1.70%",
            "     _to",
            "  Δ1.15%",
            "     _in",
            "  Δ0.89%",
            "   _with",
            "  Δ0.87%",
            "       :",
            "  Δ0.69%",
            "    _all",
            "  Δ0.66%",
            "     _as",
            "  Δ0.57%",
            "      _I",
            " Δ-0.53%"
           ],
           [
            "      _I",
            " Δ-1.18%",
            "      \\n",
            "  Δ1.07%",
            "   _They",
            " Δ-0.76%",
            "    _The",
            "  Δ0.70%",
            "    \\n\\n",
            " Δ-0.58%",
            "     _My",
            " Δ-0.47%",
            " _Espec…",
            " Δ-0.24%",
            "       _",
            "  Δ0.24%",
            "    _You",
            " Δ-0.20%",
            "  _These",
            " Δ-0.19%"
           ],
           [
            "      _I",
            "  Δ5.08%",
            "  ethyst",
            " Δ-3.07%",
            "    _not",
            " Δ-1.68%",
            "     _it",
            "  Δ0.86%",
            "    _the",
            "  Δ0.76%",
            "    _you",
            "  Δ0.65%",
            "       .",
            " Δ-0.65%",
            "  ateurs",
            " Δ-0.61%",
            "       n",
            " Δ-0.54%",
            "     _my",
            " Δ-0.51%"
           ],
           [
            "   _more",
            "  Δ3.72%",
            "      _a",
            " Δ-2.87%",
            "  _going",
            " Δ-1.79%",
            "    _the",
            "  Δ1.38%",
            "     _my",
            " Δ-1.37%",
            "   _able",
            "  Δ0.96%",
            " _though",
            " Δ-0.90%",
            "     _on",
            " Δ-0.68%",
            "      _I",
            " Δ-0.59%",
            " _better",
            " Δ-0.55%"
           ],
           [
            "     _by",
            "  Δ7.86%",
            "     _on",
            " Δ-3.27%",
            "   _with",
            "  Δ1.37%",
            "     _to",
            " Δ-0.97%",
            "     _as",
            "  Δ0.83%",
            "       .",
            "  Δ0.68%",
            " _around",
            " Δ-0.67%",
            "    _and",
            "  Δ0.56%",
            "     _in",
            "  Δ0.55%",
            "     _up",
            " Δ-0.55%"
           ],
           [
            "    _way",
            " Δ-21.55",
            "   _same",
            "  Δ5.73%",
            "   _last",
            "  Δ3.22%",
            "    _day",
            "  Δ1.09%",
            "  _night",
            "  Δ0.71%",
            "  _first",
            "  Δ0.66%",
            "  _right",
            " Δ-0.54%",
            "  _whole",
            "  Δ0.51%",
            "   _past",
            "  Δ0.47%",
            "   _next",
            "  Δ0.46%"
           ],
           [
            "    _way",
            " Δ-4.95%",
            "     _as",
            " Δ-1.16%",
            "    _for",
            "  Δ1.01%",
            "     _in",
            "  Δ0.72%",
            "       .",
            "  Δ0.69%",
            "   _size",
            "  Δ0.66%",
            "     _on",
            "  Δ0.48%",
            "  _thing",
            " Δ-0.38%",
            "   _with",
            "  Δ0.36%",
            "       ,",
            "  Δ0.32%"
           ],
           [
            "      _I",
            " Δ-2.06%",
            "   _have",
            "  Δ1.95%",
            "   _even",
            " Δ-1.69%",
            "    _yet",
            " Δ-1.43%",
            " _somet…",
            " Δ-0.91%",
            "     _it",
            " Δ-0.66%",
            "  _still",
            "  Δ0.57%",
            "    _all",
            " Δ-0.55%",
            "    _are",
            "  Δ0.48%",
            "   _will",
            "  Δ0.38%"
           ],
           [
            "      _a",
            "  Δ2.27%",
            "   _even",
            " Δ-1.30%",
            " _easily",
            " Δ-1.07%",
            "    _not",
            " Δ-0.87%",
            "    _the",
            "  Δ0.84%",
            "   _also",
            " Δ-0.56%",
            " _almost",
            " Δ-0.52%",
            "   _just",
            "  Δ0.39%",
            " _really",
            "  Δ0.38%",
            "     _so",
            "  Δ0.35%"
           ],
           [
            "      OL",
            " Δ15.72%",
            "      ES",
            " Δ11.71%",
            "     ARD",
            " Δ-8.64%",
            "     FUL",
            "  Δ8.38%",
            "     _AW",
            " Δ-3.89%",
            "     ING",
            " Δ-1.28%",
            "       -",
            " Δ-0.92%",
            "    IRED",
            " Δ-0.89%",
            "    OOOO",
            " Δ-0.75%",
            "    ARDS",
            " Δ-0.73%"
           ],
           [
            "     OME",
            " Δ-2.95%",
            "      OM",
            "  Δ1.24%",
            "      om",
            "  Δ1.06%",
            "     ome",
            "  Δ0.18%",
            "     ULT",
            " Δ-0.05%",
            "     ESS",
            "  Δ0.05%",
            "     ENS",
            "  Δ0.04%",
            "    omer",
            "  Δ0.04%",
            "      ON",
            "  Δ0.03%",
            "    omes",
            "  Δ0.02%"
           ],
           [
            "       .",
            "  Δ7.48%",
            "     !!!",
            " Δ-2.37%",
            "      !!",
            " Δ-1.88%",
            "    !!!!",
            " Δ-1.74%",
            "       !",
            " Δ-1.38%",
            "      _!",
            " Δ-0.80%",
            "     _in",
            "  Δ0.54%",
            "       ,",
            "  Δ0.51%",
            "    _for",
            "  Δ0.40%",
            "      \\n",
            "  Δ0.32%"
           ]
          ],
          [
           [
            "       .",
            "  Δ0.02%",
            "       ,",
            "  Δ0.02%",
            "       -",
            "  Δ0.01%",
            "     _in",
            "  Δ0.01%",
            "      \\n",
            "  Δ0.00%",
            "    _and",
            "  Δ0.00%",
            "    _the",
            "  Δ0.00%",
            "    _for",
            "  Δ0.00%",
            "     _to",
            "  Δ0.00%",
            "     _of",
            "  Δ0.00%"
           ],
           [
            "      \\n",
            "  Δ1.34%",
            "    _and",
            "  Δ0.79%",
            "       :",
            "  Δ0.79%",
            "    _are",
            "  Δ0.50%",
            "     _in",
            "  Δ0.46%",
            "    _for",
            "  Δ0.36%",
            "   _from",
            "  Δ0.35%",
            "     _of",
            "  Δ0.33%",
            "   _like",
            "  Δ0.21%",
            "     _is",
            " Δ-0.16%"
           ],
           [
            "   _have",
            "  Δ2.09%",
            "     _am",
            "  Δ1.28%",
            "      'm",
            "  Δ1.08%",
            "     've",
            "  Δ0.69%",
            "    _was",
            "  Δ0.49%",
            "    _don",
            "  Δ0.36%",
            "  _think",
            "  Δ0.35%",
            "   _used",
            "  Δ0.35%",
            "    _use",
            "  Δ0.33%",
            " _belie…",
            "  Δ0.25%"
           ],
           [
            "       :",
            "  Δ5.13%",
            "      \\n",
            "  Δ3.51%",
            "  _about",
            "  Δ1.99%",
            "       ,",
            " Δ-1.39%",
            "   _this",
            " Δ-1.18%",
            "       .",
            " Δ-0.90%",
            "    _the",
            " Δ-0.88%",
            "    _and",
            "  Δ0.54%",
            "    _you",
            " Δ-0.47%",
            "     _it",
            " Δ-0.47%"
           ],
           [
            "    _for",
            "  Δ5.02%",
            "       :",
            "  Δ3.33%",
            "       .",
            "  Δ3.21%",
            "    _all",
            "  Δ2.48%",
            "       ,",
            "  Δ1.57%",
            "     _so",
            "  Δ0.89%",
            "     _to",
            "  Δ0.83%",
            "   _with",
            "  Δ0.61%",
            "       !",
            "  Δ0.48%",
            "      _I",
            " Δ-0.45%"
           ],
           [
            "      _I",
            "  Δ3.30%",
            "      \\n",
            "  Δ1.60%",
            "    _The",
            "  Δ0.64%",
            "   _They",
            " Δ-0.59%",
            "    \\n\\n",
            "  Δ0.37%",
            "     _My",
            "  Δ0.29%",
            "     _It",
            "  Δ0.23%",
            "   _they",
            " Δ-0.21%",
            "     _We",
            "  Δ0.17%",
            "    _and",
            " Δ-0.16%"
           ],
           [
            "      _I",
            " Δ16.44%",
            "       ,",
            " Δ-0.60%",
            "       .",
            " Δ-0.58%",
            "      az",
            "  Δ0.48%",
            "    _you",
            "  Δ0.46%",
            "    azed",
            "  Δ0.43%",
            "  ethyst",
            "  Δ0.41%",
            "       a",
            " Δ-0.41%",
            "      \\n",
            " Δ-0.38%",
            "   _they",
            "  Δ0.36%"
           ],
           [
            "   _more",
            "  Δ4.42%",
            " _better",
            "  Δ1.37%",
            "     _so",
            "  Δ0.84%",
            "   _able",
            "  Δ0.78%",
            "    _the",
            "  Δ0.77%",
            "      _a",
            "  Δ0.65%",
            "      \\n",
            " Δ-0.51%",
            "     _on",
            " Δ-0.49%",
            "      _I",
            " Δ-0.42%",
            " _willi…",
            "  Δ0.41%"
           ],
           [
            "     _by",
            "  Δ9.28%",
            "    _out",
            " Δ-4.06%",
            "     _on",
            " Δ-1.78%",
            "     _to",
            " Δ-1.56%",
            "   _with",
            "  Δ0.96%",
            "     _as",
            "  Δ0.59%",
            "     _in",
            "  Δ0.58%",
            "     _up",
            " Δ-0.45%",
            " _around",
            " Δ-0.44%",
            "   _down",
            " Δ-0.40%"
           ],
           [
            "   _same",
            "  Δ6.06%",
            "    _day",
            "  Δ3.10%",
            "   _last",
            "  Δ1.76%",
            "  _other",
            "  Δ1.50%",
            "    _way",
            "  Δ1.39%",
            "  _night",
            "  Δ1.24%",
            "  _whole",
            "  Δ1.21%",
            "  _first",
            "  Δ0.92%",
            "   _most",
            "  Δ0.52%",
            "   _week",
            "  Δ0.49%"
           ],
           [
            "    _way",
            "  Δ2.08%",
            "     _as",
            " Δ-1.62%",
            "    _for",
            "  Δ0.72%",
            "       .",
            "  Δ0.71%",
            "  _every",
            "  Δ0.61%",
            "     _on",
            "  Δ0.60%",
            "     _in",
            "  Δ0.54%",
            "   _size",
            "  Δ0.52%",
            "   _year",
            "  Δ0.47%",
            "   _time",
            " Δ-0.35%"
           ],
           [
            "   _have",
            "  Δ2.03%",
            "      _I",
            " Δ-1.27%",
            "   _they",
            " Δ-1.17%",
            "  _still",
            "  Δ1.04%",
            "     _it",
            " Δ-0.75%",
            "     _is",
            " Δ-0.72%",
            "   _look",
            "  Δ0.61%",
            "    _are",
            "  Δ0.60%",
            "   _will",
            "  Δ0.43%",
            "    _has",
            " Δ-0.39%"
           ],
           [
            "   _even",
            " Δ-1.31%",
            "      _a",
            "  Δ1.09%",
            "     _so",
            "  Δ0.98%",
            "  _still",
            "  Δ0.85%",
            "   _also",
            " Δ-0.63%",
            "    _not",
            " Δ-0.55%",
            " _almost",
            " Δ-0.54%",
            " _really",
            "  Δ0.47%",
            " _easily",
            " Δ-0.39%",
            " _always",
            "  Δ0.35%"
           ],
           [
            "      ES",
            " Δ54.68%",
            "       -",
            " Δ-2.65%",
            "     FUL",
            "  Δ2.44%",
            "     ARD",
            " Δ-2.32%",
            "      OL",
            "  Δ1.63%",
            "     ARE",
            " Δ-1.60%",
            "       E",
            " Δ-1.34%",
            "       .",
            " Δ-1.17%",
            "       S",
            " Δ-0.99%",
            "      ON",
            " Δ-0.82%"
           ],
           [
            "     OME",
            " Δ30.83%",
            "     ome",
            " Δ-1.74%",
            "    omer",
            " Δ-0.97%",
            "      om",
            " Δ-0.88%",
            "      ow",
            " Δ-0.84%",
            "       -",
            " Δ-0.69%",
            "    IGHT",
            " Δ-0.52%",
            "    omen",
            " Δ-0.50%",
            "     ULT",
            " Δ-0.49%",
            "     ide",
            " Δ-0.48%"
           ],
           [
            "       .",
            "  Δ7.32%",
            "       !",
            "  Δ3.43%",
            "     _in",
            "  Δ1.27%",
            "     !!!",
            " Δ-1.22%",
            "    _for",
            " Δ-1.04%",
            "    !!!!",
            " Δ-0.85%",
            "   _when",
            " Δ-0.75%",
            "      !!",
            " Δ-0.65%",
            "   _with",
            "  Δ0.64%",
            "    _and",
            " Δ-0.63%"
           ]
          ],
          [
           [
            "      \\n",
            "  Δ0.32%",
            "       \"",
            " Δ-0.30%",
            "       .",
            "  Δ0.27%",
            "     The",
            " Δ-0.24%",
            "       -",
            "  Δ0.18%",
            "       ,",
            "  Δ0.12%",
            "    This",
            " Δ-0.10%",
            "       I",
            " Δ-0.08%",
            "      In",
            " Δ-0.08%",
            "       B",
            " Δ-0.07%"
           ],
           [
            "      \\n",
            "  Δ2.74%",
            "    _are",
            " Δ-0.81%",
            "     _in",
            "  Δ0.55%",
            "    _for",
            "  Δ0.41%",
            "   _like",
            "  Δ0.40%",
            "    _and",
            "  Δ0.34%",
            "   _from",
            "  Δ0.33%",
            "     _of",
            " Δ-0.27%",
            "       :",
            "  Δ0.25%",
            "       ,",
            " Δ-0.25%"
           ],
           [
            "     've",
            " Δ-1.25%",
            "   _have",
            "  Δ1.23%",
            "     'll",
            " Δ-1.13%",
            "    _use",
            "  Δ0.75%",
            "     _am",
            "  Δ0.70%",
            "    _don",
            "  Δ0.57%",
            "   _used",
            "  Δ0.51%",
            "  _think",
            "  Δ0.47%",
            " _belie…",
            "  Δ0.39%",
            "   _will",
            " Δ-0.35%"
           ],
           [
            "       :",
            "  Δ5.62%",
            "      \\n",
            "  Δ3.52%",
            "  _about",
            "  Δ3.52%",
            "   _this",
            " Δ-2.06%",
            "       ,",
            " Δ-2.04%",
            "       .",
            " Δ-1.45%",
            "     _it",
            " Δ-0.73%",
            "     _so",
            " Δ-0.68%",
            "   _when",
            " Δ-0.61%",
            "      _(",
            " Δ-0.58%"
           ],
           [
            "    _for",
            "  Δ6.58%",
            "       :",
            "  Δ2.98%",
            "    _all",
            "  Δ2.19%",
            "       ,",
            " Δ-1.08%",
            "     _so",
            "  Δ0.41%",
            "      _(",
            " Δ-0.38%",
            "      _:",
            "  Δ0.36%",
            "       !",
            " Δ-0.33%",
            "    _too",
            "  Δ0.29%",
            "   _well",
            "  Δ0.28%"
           ],
           [
            "      _I",
            "  Δ2.77%",
            "   _They",
            " Δ-1.97%",
            "    _The",
            "  Δ0.44%",
            "      \\n",
            "  Δ0.34%",
            "    \\n\\n",
            "  Δ0.27%",
            "  _These",
            " Δ-0.23%",
            "     _My",
            "  Δ0.22%",
            "    _You",
            " Δ-0.14%",
            "     _It",
            "  Δ0.13%",
            "  _First",
            "  Δ0.12%"
           ],
           [
            "      _I",
            " Δ33.30%",
            "    azon",
            " Δ-2.29%",
            "     aze",
            " Δ-1.90%",
            "    azes",
            " Δ-1.33%",
            "    _not",
            " Δ-1.07%",
            "      _a",
            " Δ-0.69%",
            "       a",
            " Δ-0.63%",
            "    azed",
            "  Δ0.56%",
            "      _i",
            "  Δ0.50%",
            "  ateurs",
            " Δ-0.40%"
           ],
           [
            "   _more",
            "  Δ5.73%",
            " _better",
            "  Δ1.69%",
            "     _on",
            " Δ-1.20%",
            "     _so",
            "  Δ0.84%",
            "    _the",
            "  Δ0.71%",
            "     _in",
            " Δ-0.51%",
            "  _using",
            "  Δ0.50%",
            "  _going",
            " Δ-0.47%",
            "   _able",
            "  Δ0.47%",
            " _playi…",
            " Δ-0.36%"
           ],
           [
            "     _by",
            " Δ13.78%",
            "     _on",
            " Δ-6.87%",
            "    _out",
            " Δ-3.70%",
            "     _to",
            " Δ-1.84%",
            " _around",
            " Δ-1.13%",
            "     _at",
            " Δ-0.63%",
            "   _them",
            "  Δ0.54%",
            "   _with",
            "  Δ0.40%",
            "    _off",
            "  Δ0.37%",
            "      _a",
            "  Δ0.34%"
           ],
           [
            "   _same",
            "  Δ5.65%",
            "  _other",
            "  Δ2.28%",
            "   _last",
            "  Δ2.10%",
            "  _first",
            "  Δ1.66%",
            "    _way",
            " Δ-1.14%",
            "    _day",
            "  Δ0.79%",
            "  _night",
            "  Δ0.60%",
            "   _size",
            " Δ-0.45%",
            "   _past",
            "  Δ0.41%",
            "   _next",
            "  Δ0.40%"
           ],
           [
            "    _day",
            " Δ-2.77%",
            "    _way",
            " Δ-2.72%",
            "  _color",
            "  Δ2.15%",
            "     _as",
            " Δ-1.56%",
            "   _size",
            "  Δ1.41%",
            "       .",
            "  Δ1.22%",
            "   _time",
            " Δ-1.08%",
            "     _on",
            "  Δ0.92%",
            "  _night",
            " Δ-0.58%",
            "  _every",
            "  Δ0.53%"
           ],
           [
            "   _they",
            " Δ-1.47%",
            "   _love",
            "  Δ1.30%",
            "  _still",
            "  Δ1.23%",
            "   _look",
            "  Δ1.18%",
            "   _have",
            "  Δ1.04%",
            "     _is",
            " Δ-0.97%",
            "    _has",
            " Δ-0.61%",
            "    _are",
            "  Δ0.49%",
            "    _can",
            "  Δ0.49%",
            "   _will",
            "  Δ0.41%"
           ],
           [
            "     _so",
            "  Δ1.32%",
            "      _a",
            "  Δ1.12%",
            "  _still",
            "  Δ0.91%",
            "   _even",
            " Δ-0.75%",
            "    _not",
            " Δ-0.75%",
            " _always",
            "  Δ0.63%",
            " _almost",
            " Δ-0.42%",
            "    _the",
            "  Δ0.41%",
            " _really",
            "  Δ0.39%",
            "    _now",
            "  Δ0.38%"
           ],
           [
            "      ES",
            " Δ17.04%",
            "       E",
            " Δ-1.77%",
            "      OL",
            " Δ-1.28%",
            "     FUL",
            " Δ-0.89%",
            "       A",
            " Δ-0.67%",
            "     ARE",
            " Δ-0.64%",
            "       W",
            " Δ-0.57%",
            "      AY",
            " Δ-0.54%",
            "       R",
            " Δ-0.42%",
            "     ESH",
            " Δ-0.39%"
           ],
           [
            "     OME",
            "  Δ1.25%",
            "     ome",
            " Δ-0.18%",
            "    omer",
            " Δ-0.17%",
            "    omes",
            " Δ-0.10%",
            "      OM",
            " Δ-0.09%",
            "      om",
            " Δ-0.06%",
            "      OL",
            " Δ-0.04%",
            "     ULT",
            " Δ-0.03%",
            "      KY",
            " Δ-0.02%",
            "    IGHT",
            " Δ-0.02%"
           ],
           [
            "       .",
            "  Δ6.30%",
            "       !",
            "  Δ5.83%",
            "    _for",
            " Δ-2.34%",
            "     _to",
            " Δ-1.72%",
            "   _when",
            " Δ-1.54%",
            "    _and",
            " Δ-0.76%",
            "     _as",
            " Δ-0.70%",
            "     _in",
            "  Δ0.68%",
            "    !!!!",
            " Δ-0.58%",
            "      !!",
            " Δ-0.55%"
           ]
          ]
         ],
         "hoverlabel": {
          "bgcolor": "rgb(42, 42, 50)",
          "font": {
           "family": "Monospace"
          }
         },
         "hovertemplate": "%{customdata[0]}%{customdata[1]}<br>%{customdata[2]}%{customdata[3]}<br>%{customdata[4]}%{customdata[5]}<br>%{customdata[6]}%{customdata[7]}<br>%{customdata[8]}%{customdata[9]}<br>%{customdata[10]}%{customdata[11]}<br>%{customdata[12]}%{customdata[13]}<br>%{customdata[14]}%{customdata[15]}<br>%{customdata[16]}%{customdata[17]}<br>%{customdata[18]}%{customdata[19]}<br><extra></extra>",
         "text": [
          [
           "Ġdefendants",
           "Ġdefendants",
           "Ġdefendants",
           "Ġdefendants",
           "Ġdefendants",
           "Ġdefendants",
           "Ġdefendants",
           "Ġdefendants",
           "Ġdefendants",
           "Ġdefendants",
           "Ġdefendants",
           "Ġdefendants",
           "Ġdefendants",
           "Ġdefendants",
           "Ġdefendants",
           "Ġdefendants"
          ],
          [
           "Ċ",
           ":",
           "'ve",
           "Ġthe",
           "Ġout",
           "Ċ",
           ".",
           "Ġif",
           "Ġworn",
           "Ġsame",
           "Ġthing",
           "Ġthe",
           "Ġalso",
           "ĠAW",
           "Ċ",
           "OME"
          ],
          [
           ".",
           "Ġof",
           "'m",
           "Ġfor",
           "Ġin",
           "Ċ",
           ".",
           "Ġthough",
           "Ġworn",
           "Ġsame",
           "Ġthing",
           "Ġthe",
           "Ġa",
           "aw",
           ".",
           "OME"
          ],
          [
           "Ċ",
           "Ġof",
           "'m",
           "Ġthat",
           ".",
           "Ċ",
           "Ġnot",
           "Ġthough",
           "Ġon",
           "Ġfirst",
           "Ġday",
           "Ġthe",
           "Ġa",
           "OL",
           "ER",
           "OME"
          ],
          [
           "Ġthe",
           "Ċ",
           "'ve",
           "Ġit",
           ",",
           "Ċ",
           "ĠI",
           "Ġthough",
           "Ġto",
           "Ġbest",
           "Ġthing",
           "Ġwe",
           "Ġeasy",
           ".",
           "ER",
           ","
          ],
          [
           "Ġthe",
           "Ġof",
           "Ġhave",
           "Ġto",
           ".",
           "Ċ",
           "Ġa",
           "Ġthough",
           ".",
           "Ġsame",
           "Ġthing",
           "ĠI",
           "Ġnot",
           "OL",
           "POS",
           "!"
          ],
          [
           "Ġa",
           "Ġof",
           "'ve",
           "Ċ",
           ".",
           "Ċ",
           "ĠI",
           "Ġmore",
           "Ġon",
           "Ġfirst",
           "Ġday",
           "Ġthen",
           "Ġa",
           "P",
           "OME",
           "!"
          ],
          [
           "Ċ",
           "Ġof",
           "Ċ",
           "Ġit",
           ",",
           "Ċ",
           "ĠI",
           "Ġa",
           ",",
           "Ġsame",
           "Ġday",
           "Ġit",
           "Ġnot",
           "OL",
           "ENS",
           "!"
          ],
          [
           ",",
           ":",
           "Ġhave",
           "Ġthis",
           ",",
           "Ċ",
           "ĠI",
           "Ġmore",
           "Ġon",
           "Ġway",
           "Ġway",
           "ĠI",
           "Ġa",
           "ES",
           "ENS",
           "!"
          ],
          [
           "Ġto",
           "Ċ",
           "Ġhave",
           ",",
           "Ġas",
           "ĠI",
           "ĠI",
           "Ġmore",
           "Ġin",
           "Ġsame",
           "Ġway",
           "ĠI",
           "Ġvery",
           "ES",
           "om",
           "!"
          ],
          [
           ".",
           "Ġof",
           "'ve",
           "Ċ",
           "Ġfor",
           "ĠI",
           "ĠI",
           "Ġmore",
           "Ġby",
           "Ġway",
           "Ġway",
           "ĠI",
           "Ġa",
           "OL",
           "OME",
           "."
          ],
          [
           ".",
           "Ċ",
           "Ġhave",
           ":",
           "Ġfor",
           "ĠI",
           "ĠI",
           "Ġmore",
           "Ġby",
           "Ġsame",
           "Ġway",
           "Ġhave",
           "Ġeven",
           "ES",
           "OME",
           "."
          ],
          [
           "Ċ",
           "Ċ",
           "'ve",
           ":",
           "Ġfor",
           "ĠI",
           "ĠI",
           "Ġmore",
           "Ġby",
           "Ġsame",
           "Ġday",
           "Ġthey",
           "Ġso",
           "ES",
           "OME",
           "."
          ]
         ],
         "texttemplate": "<b>%{text}</b>",
         "type": "heatmap",
         "x": [
          "<|endoftext|>",
          "ĠNumbers‌",
          "ĠI‌‌",
          "Ġlove‌‌‌",
          "Ġthem‌‌‌‌",
          "!‌‌‌‌‌",
          "ĠAm‌‌‌‌‌‌",
          "Ġeven‌‌‌‌‌‌‌",
          "Ġworn‌‌‌‌‌‌‌‌",
          "Ġthe‌‌‌‌‌‌‌‌‌",
          "Ġsame‌‌‌‌‌‌‌‌‌‌",
          "Ġand‌‌‌‌‌‌‌‌‌‌‌",
          "Ġis‌‌‌‌‌‌‌‌‌‌‌‌",
          "ĠAW‌‌‌‌‌‌‌‌‌‌‌‌‌",
          "ES‌‌‌‌‌‌‌‌‌‌‌‌‌‌",
          "OME‌‌‌‌‌‌‌‌‌‌‌‌‌‌‌"
         ],
         "y": [
          "0",
          "1",
          "2",
          "3",
          "4",
          "5",
          "6",
          "7",
          "8",
          "9",
          "10",
          "11",
          "output"
         ],
         "z": [
          [
           0,
           0,
           0,
           0,
           0,
           0,
           0,
           0,
           0,
           0,
           0,
           0,
           0,
           0,
           0,
           0
          ],
          [
           4.415891297071539e-8,
           -3.3137482091660786e-7,
           -3.0835693110020657e-8,
           1.5177515422237775e-7,
           -1.0049109278043034e-7,
           1.670506151185691e-7,
           -9.024794422884952e-8,
           -1.0888981272216824e-8,
           2.2354156214987597e-7,
           -2.134548111598633e-7,
           3.328771072119707e-7,
           -1.9877768409060081e-7,
           2.1084724721731618e-7,
           -3.192973352383888e-8,
           7.137660418266023e-8,
           -1.1069504779470662e-7
          ],
          [
           1.4889963928510497e-8,
           -1.010999852724126e-7,
           2.2780966446589446e-8,
           -8.302497178647172e-8,
           -2.951530575501238e-7,
           -2.0497836317190377e-7,
           -2.0336355532890593e-7,
           1.584383824138058e-7,
           1.7880233826872427e-7,
           -1.0050289489527131e-7,
           -2.7919764988837414e-7,
           -2.2308454106223508e-7,
           7.718699635006487e-8,
           -3.2649748504809395e-7,
           -1.0148310991553444e-7,
           2.4709029844416364e-7
          ],
          [
           -3.006942108640942e-7,
           2.2078714323470194e-7,
           5.770779409886018e-8,
           2.205208744499032e-7,
           -3.72914712443162e-8,
           7.68049162047646e-8,
           -2.6040862621812266e-7,
           -9.898461428292649e-8,
           9.609311035774226e-8,
           3.147164875372255e-7,
           -2.168780355304989e-7,
           -8.254501437932049e-8,
           7.244503308356798e-8,
           -2.2612614714034862e-7,
           1.4705078399401827e-7,
           1.053957703334163e-7
          ],
          [
           -9.014418544950331e-9,
           -5.363609645314682e-8,
           5.89272741713387e-10,
           -7.701780191382568e-8,
           7.614309538439556e-8,
           2.4478307381059494e-8,
           -5.777545908358661e-8,
           -2.0108991805045662e-7,
           4.00880253437208e-8,
           1.7527398199490563e-7,
           -5.079773490734851e-9,
           1.4466765207998833e-7,
           -6.194011348270578e-8,
           5.317109241786966e-8,
           2.412056687717268e-7,
           -2.3875196575318114e-7
          ],
          [
           2.157711698203002e-8,
           -1.930972501895667e-7,
           2.2141974920231178e-9,
           1.5013823428944306e-7,
           -7.79317730348339e-8,
           -1.7363285564897524e-7,
           -2.4111261609505164e-7,
           -1.3984814017931058e-7,
           -6.767048432720912e-8,
           -5.23686729536621e-8,
           -7.963728876347886e-8,
           4.482371025460452e-7,
           1.0502894554065278e-7,
           -1.40749676802443e-7,
           1.5116101792500558e-7,
           -6.259806895059228e-8
          ],
          [
           3.171889773057046e-8,
           9.825551927633569e-8,
           5.627594390489321e-8,
           -8.942182461169068e-8,
           2.4651950525367283e-7,
           1.0007360629060713e-7,
           -2.3412890470808634e-7,
           -7.387070866116119e-8,
           -1.556018105475232e-7,
           -9.317886906501371e-8,
           -1.0709039344192206e-7,
           -3.294768475825549e-7,
           -1.9131657325033302e-7,
           -9.6779002589642e-9,
           -6.039972788585146e-8,
           -1.1544370437377438e-7
          ],
          [
           -3.1862310834185337e-7,
           2.136892476301e-7,
           1.7952196174064738e-7,
           -1.2566211182729603e-7,
           2.73838111297664e-7,
           -1.320263010029521e-7,
           2.108710077664e-7,
           -1.413426389262895e-7,
           6.940478414207973e-8,
           1.3379246865952155e-7,
           1.225384380632022e-7,
           -1.435353880196999e-7,
           5.667872216008618e-8,
           9.422657143431934e-8,
           8.47978043339026e-8,
           2.2298124235931027e-8
          ],
          [
           -4.5938605808260036e-8,
           -2.6204967085163844e-8,
           -1.6306222505590995e-7,
           5.9548841413459286e-9,
           -2.1969009367239778e-7,
           1.6928257196013874e-7,
           1.2291930318042432e-7,
           1.460914145212655e-8,
           1.0548828299761226e-7,
           2.2836144353277632e-7,
           1.603915364967179e-7,
           -1.5110575191101816e-7,
           3.455169803601166e-7,
           1.1366861940587114e-7,
           -7.336638674360074e-8,
           1.594873140220443e-7
          ],
          [
           4.1718205778806805e-8,
           2.5434275130464812e-8,
           1.8909410925971315e-7,
           -2.268368604063653e-7,
           -1.9218001057197398e-7,
           -6.1112643834349e-8,
           -2.0507241060840897e-7,
           5.117638313123507e-9,
           -1.0712205522622753e-7,
           -1.0673578287878627e-7,
           8.122258066123322e-8,
           7.515066613450472e-8,
           1.3750182858984772e-7,
           3.0635032288728326e-8,
           -3.752234434273305e-8,
           2.5715249307722843e-7
          ],
          [
           0.00002080509511870332,
           0.0251596812158823,
           0.05796601250767708,
           0.07908666133880615,
           0.10068909823894501,
           0.025472337380051613,
           0.16866061091423035,
           0.1066562831401825,
           0.0957777351140976,
           0.18380631506443024,
           0.034570641815662384,
           0.07848391681909561,
           0.05715470016002655,
           0.5741186141967773,
           0.021477429196238518,
           0.0633600652217865
          ],
          [
           0.000024153698177542537,
           0.02550845965743065,
           0.0556853711605072,
           0.07110690325498581,
           0.17678339779376984,
           0.03663927689194679,
           0.21234901249408722,
           0.10800691694021225,
           0.09486867487430573,
           0.16145175695419312,
           0.04272189736366272,
           0.06561330705881119,
           0.04575921595096588,
           0.9955460429191589,
           0.5742260813713074,
           0.07890643179416656
          ],
          [
           0.007900062948465347,
           0.03262531757354736,
           0.0402211956679821,
           0.09655241668224335,
           0.0987740084528923,
           0.018847059458494186,
           0.3367912769317627,
           0.08433615416288376,
           0.15194499492645264,
           0.11769445985555649,
           0.056467726826667786,
           0.07704067975282669,
           0.04536038637161255,
           0.5042695999145508,
           0.053005095571279526,
           0.0856412798166275
          ]
         ],
         "zmin": 0
        }
       ],
       "layout": {
        "template": {
         "data": {
          "bar": [
           {
            "error_x": {
             "color": "#2a3f5f"
            },
            "error_y": {
             "color": "#2a3f5f"
            },
            "marker": {
             "line": {
              "color": "#E5ECF6",
              "width": 0.5
             },
             "pattern": {
              "fillmode": "overlay",
              "size": 10,
              "solidity": 0.2
             }
            },
            "type": "bar"
           }
          ],
          "barpolar": [
           {
            "marker": {
             "line": {
              "color": "#E5ECF6",
              "width": 0.5
             },
             "pattern": {
              "fillmode": "overlay",
              "size": 10,
              "solidity": 0.2
             }
            },
            "type": "barpolar"
           }
          ],
          "carpet": [
           {
            "aaxis": {
             "endlinecolor": "#2a3f5f",
             "gridcolor": "white",
             "linecolor": "white",
             "minorgridcolor": "white",
             "startlinecolor": "#2a3f5f"
            },
            "baxis": {
             "endlinecolor": "#2a3f5f",
             "gridcolor": "white",
             "linecolor": "white",
             "minorgridcolor": "white",
             "startlinecolor": "#2a3f5f"
            },
            "type": "carpet"
           }
          ],
          "choropleth": [
           {
            "colorbar": {
             "outlinewidth": 0,
             "ticks": ""
            },
            "type": "choropleth"
           }
          ],
          "contour": [
           {
            "colorbar": {
             "outlinewidth": 0,
             "ticks": ""
            },
            "colorscale": [
             [
              0,
              "#0d0887"
             ],
             [
              0.1111111111111111,
              "#46039f"
             ],
             [
              0.2222222222222222,
              "#7201a8"
             ],
             [
              0.3333333333333333,
              "#9c179e"
             ],
             [
              0.4444444444444444,
              "#bd3786"
             ],
             [
              0.5555555555555556,
              "#d8576b"
             ],
             [
              0.6666666666666666,
              "#ed7953"
             ],
             [
              0.7777777777777778,
              "#fb9f3a"
             ],
             [
              0.8888888888888888,
              "#fdca26"
             ],
             [
              1,
              "#f0f921"
             ]
            ],
            "type": "contour"
           }
          ],
          "contourcarpet": [
           {
            "colorbar": {
             "outlinewidth": 0,
             "ticks": ""
            },
            "type": "contourcarpet"
           }
          ],
          "heatmap": [
           {
            "colorbar": {
             "outlinewidth": 0,
             "ticks": ""
            },
            "colorscale": [
             [
              0,
              "#0d0887"
             ],
             [
              0.1111111111111111,
              "#46039f"
             ],
             [
              0.2222222222222222,
              "#7201a8"
             ],
             [
              0.3333333333333333,
              "#9c179e"
             ],
             [
              0.4444444444444444,
              "#bd3786"
             ],
             [
              0.5555555555555556,
              "#d8576b"
             ],
             [
              0.6666666666666666,
              "#ed7953"
             ],
             [
              0.7777777777777778,
              "#fb9f3a"
             ],
             [
              0.8888888888888888,
              "#fdca26"
             ],
             [
              1,
              "#f0f921"
             ]
            ],
            "type": "heatmap"
           }
          ],
          "heatmapgl": [
           {
            "colorbar": {
             "outlinewidth": 0,
             "ticks": ""
            },
            "colorscale": [
             [
              0,
              "#0d0887"
             ],
             [
              0.1111111111111111,
              "#46039f"
             ],
             [
              0.2222222222222222,
              "#7201a8"
             ],
             [
              0.3333333333333333,
              "#9c179e"
             ],
             [
              0.4444444444444444,
              "#bd3786"
             ],
             [
              0.5555555555555556,
              "#d8576b"
             ],
             [
              0.6666666666666666,
              "#ed7953"
             ],
             [
              0.7777777777777778,
              "#fb9f3a"
             ],
             [
              0.8888888888888888,
              "#fdca26"
             ],
             [
              1,
              "#f0f921"
             ]
            ],
            "type": "heatmapgl"
           }
          ],
          "histogram": [
           {
            "marker": {
             "pattern": {
              "fillmode": "overlay",
              "size": 10,
              "solidity": 0.2
             }
            },
            "type": "histogram"
           }
          ],
          "histogram2d": [
           {
            "colorbar": {
             "outlinewidth": 0,
             "ticks": ""
            },
            "colorscale": [
             [
              0,
              "#0d0887"
             ],
             [
              0.1111111111111111,
              "#46039f"
             ],
             [
              0.2222222222222222,
              "#7201a8"
             ],
             [
              0.3333333333333333,
              "#9c179e"
             ],
             [
              0.4444444444444444,
              "#bd3786"
             ],
             [
              0.5555555555555556,
              "#d8576b"
             ],
             [
              0.6666666666666666,
              "#ed7953"
             ],
             [
              0.7777777777777778,
              "#fb9f3a"
             ],
             [
              0.8888888888888888,
              "#fdca26"
             ],
             [
              1,
              "#f0f921"
             ]
            ],
            "type": "histogram2d"
           }
          ],
          "histogram2dcontour": [
           {
            "colorbar": {
             "outlinewidth": 0,
             "ticks": ""
            },
            "colorscale": [
             [
              0,
              "#0d0887"
             ],
             [
              0.1111111111111111,
              "#46039f"
             ],
             [
              0.2222222222222222,
              "#7201a8"
             ],
             [
              0.3333333333333333,
              "#9c179e"
             ],
             [
              0.4444444444444444,
              "#bd3786"
             ],
             [
              0.5555555555555556,
              "#d8576b"
             ],
             [
              0.6666666666666666,
              "#ed7953"
             ],
             [
              0.7777777777777778,
              "#fb9f3a"
             ],
             [
              0.8888888888888888,
              "#fdca26"
             ],
             [
              1,
              "#f0f921"
             ]
            ],
            "type": "histogram2dcontour"
           }
          ],
          "mesh3d": [
           {
            "colorbar": {
             "outlinewidth": 0,
             "ticks": ""
            },
            "type": "mesh3d"
           }
          ],
          "parcoords": [
           {
            "line": {
             "colorbar": {
              "outlinewidth": 0,
              "ticks": ""
             }
            },
            "type": "parcoords"
           }
          ],
          "pie": [
           {
            "automargin": true,
            "type": "pie"
           }
          ],
          "scatter": [
           {
            "fillpattern": {
             "fillmode": "overlay",
             "size": 10,
             "solidity": 0.2
            },
            "type": "scatter"
           }
          ],
          "scatter3d": [
           {
            "line": {
             "colorbar": {
              "outlinewidth": 0,
              "ticks": ""
             }
            },
            "marker": {
             "colorbar": {
              "outlinewidth": 0,
              "ticks": ""
             }
            },
            "type": "scatter3d"
           }
          ],
          "scattercarpet": [
           {
            "marker": {
             "colorbar": {
              "outlinewidth": 0,
              "ticks": ""
             }
            },
            "type": "scattercarpet"
           }
          ],
          "scattergeo": [
           {
            "marker": {
             "colorbar": {
              "outlinewidth": 0,
              "ticks": ""
             }
            },
            "type": "scattergeo"
           }
          ],
          "scattergl": [
           {
            "marker": {
             "colorbar": {
              "outlinewidth": 0,
              "ticks": ""
             }
            },
            "type": "scattergl"
           }
          ],
          "scattermapbox": [
           {
            "marker": {
             "colorbar": {
              "outlinewidth": 0,
              "ticks": ""
             }
            },
            "type": "scattermapbox"
           }
          ],
          "scatterpolar": [
           {
            "marker": {
             "colorbar": {
              "outlinewidth": 0,
              "ticks": ""
             }
            },
            "type": "scatterpolar"
           }
          ],
          "scatterpolargl": [
           {
            "marker": {
             "colorbar": {
              "outlinewidth": 0,
              "ticks": ""
             }
            },
            "type": "scatterpolargl"
           }
          ],
          "scatterternary": [
           {
            "marker": {
             "colorbar": {
              "outlinewidth": 0,
              "ticks": ""
             }
            },
            "type": "scatterternary"
           }
          ],
          "surface": [
           {
            "colorbar": {
             "outlinewidth": 0,
             "ticks": ""
            },
            "colorscale": [
             [
              0,
              "#0d0887"
             ],
             [
              0.1111111111111111,
              "#46039f"
             ],
             [
              0.2222222222222222,
              "#7201a8"
             ],
             [
              0.3333333333333333,
              "#9c179e"
             ],
             [
              0.4444444444444444,
              "#bd3786"
             ],
             [
              0.5555555555555556,
              "#d8576b"
             ],
             [
              0.6666666666666666,
              "#ed7953"
             ],
             [
              0.7777777777777778,
              "#fb9f3a"
             ],
             [
              0.8888888888888888,
              "#fdca26"
             ],
             [
              1,
              "#f0f921"
             ]
            ],
            "type": "surface"
           }
          ],
          "table": [
           {
            "cells": {
             "fill": {
              "color": "#EBF0F8"
             },
             "line": {
              "color": "white"
             }
            },
            "header": {
             "fill": {
              "color": "#C8D4E3"
             },
             "line": {
              "color": "white"
             }
            },
            "type": "table"
           }
          ]
         },
         "layout": {
          "annotationdefaults": {
           "arrowcolor": "#2a3f5f",
           "arrowhead": 0,
           "arrowwidth": 1
          },
          "autotypenumbers": "strict",
          "coloraxis": {
           "colorbar": {
            "outlinewidth": 0,
            "ticks": ""
           }
          },
          "colorscale": {
           "diverging": [
            [
             0,
             "#8e0152"
            ],
            [
             0.1,
             "#c51b7d"
            ],
            [
             0.2,
             "#de77ae"
            ],
            [
             0.3,
             "#f1b6da"
            ],
            [
             0.4,
             "#fde0ef"
            ],
            [
             0.5,
             "#f7f7f7"
            ],
            [
             0.6,
             "#e6f5d0"
            ],
            [
             0.7,
             "#b8e186"
            ],
            [
             0.8,
             "#7fbc41"
            ],
            [
             0.9,
             "#4d9221"
            ],
            [
             1,
             "#276419"
            ]
           ],
           "sequential": [
            [
             0,
             "#0d0887"
            ],
            [
             0.1111111111111111,
             "#46039f"
            ],
            [
             0.2222222222222222,
             "#7201a8"
            ],
            [
             0.3333333333333333,
             "#9c179e"
            ],
            [
             0.4444444444444444,
             "#bd3786"
            ],
            [
             0.5555555555555556,
             "#d8576b"
            ],
            [
             0.6666666666666666,
             "#ed7953"
            ],
            [
             0.7777777777777778,
             "#fb9f3a"
            ],
            [
             0.8888888888888888,
             "#fdca26"
            ],
            [
             1,
             "#f0f921"
            ]
           ],
           "sequentialminus": [
            [
             0,
             "#0d0887"
            ],
            [
             0.1111111111111111,
             "#46039f"
            ],
            [
             0.2222222222222222,
             "#7201a8"
            ],
            [
             0.3333333333333333,
             "#9c179e"
            ],
            [
             0.4444444444444444,
             "#bd3786"
            ],
            [
             0.5555555555555556,
             "#d8576b"
            ],
            [
             0.6666666666666666,
             "#ed7953"
            ],
            [
             0.7777777777777778,
             "#fb9f3a"
            ],
            [
             0.8888888888888888,
             "#fdca26"
            ],
            [
             1,
             "#f0f921"
            ]
           ]
          },
          "colorway": [
           "#636efa",
           "#EF553B",
           "#00cc96",
           "#ab63fa",
           "#FFA15A",
           "#19d3f3",
           "#FF6692",
           "#B6E880",
           "#FF97FF",
           "#FECB52"
          ],
          "font": {
           "color": "#2a3f5f"
          },
          "geo": {
           "bgcolor": "white",
           "lakecolor": "white",
           "landcolor": "#E5ECF6",
           "showlakes": true,
           "showland": true,
           "subunitcolor": "white"
          },
          "hoverlabel": {
           "align": "left"
          },
          "hovermode": "closest",
          "mapbox": {
           "style": "light"
          },
          "paper_bgcolor": "white",
          "plot_bgcolor": "#E5ECF6",
          "polar": {
           "angularaxis": {
            "gridcolor": "white",
            "linecolor": "white",
            "ticks": ""
           },
           "bgcolor": "#E5ECF6",
           "radialaxis": {
            "gridcolor": "white",
            "linecolor": "white",
            "ticks": ""
           }
          },
          "scene": {
           "xaxis": {
            "backgroundcolor": "#E5ECF6",
            "gridcolor": "white",
            "gridwidth": 2,
            "linecolor": "white",
            "showbackground": true,
            "ticks": "",
            "zerolinecolor": "white"
           },
           "yaxis": {
            "backgroundcolor": "#E5ECF6",
            "gridcolor": "white",
            "gridwidth": 2,
            "linecolor": "white",
            "showbackground": true,
            "ticks": "",
            "zerolinecolor": "white"
           },
           "zaxis": {
            "backgroundcolor": "#E5ECF6",
            "gridcolor": "white",
            "gridwidth": 2,
            "linecolor": "white",
            "showbackground": true,
            "ticks": "",
            "zerolinecolor": "white"
           }
          },
          "shapedefaults": {
           "line": {
            "color": "#2a3f5f"
           }
          },
          "ternary": {
           "aaxis": {
            "gridcolor": "white",
            "linecolor": "white",
            "ticks": ""
           },
           "baxis": {
            "gridcolor": "white",
            "linecolor": "white",
            "ticks": ""
           },
           "bgcolor": "#E5ECF6",
           "caxis": {
            "gridcolor": "white",
            "linecolor": "white",
            "ticks": ""
           }
          },
          "title": {
           "x": 0.05
          },
          "xaxis": {
           "automargin": true,
           "gridcolor": "white",
           "linecolor": "white",
           "ticks": "",
           "title": {
            "standoff": 15
           },
           "zerolinecolor": "white",
           "zerolinewidth": 2
          },
          "yaxis": {
           "automargin": true,
           "gridcolor": "white",
           "linecolor": "white",
           "ticks": "",
           "title": {
            "standoff": 15
           },
           "zerolinecolor": "white",
           "zerolinewidth": 2
          }
         }
        },
        "title": {
         "text": "",
         "x": 0.5
        },
        "width": 1480,
        "xaxis": {
         "title": {
          "text": "Input"
         }
        },
        "yaxis": {
         "title": {
          "text": "Layer"
         }
        }
       }
      }
     },
     "metadata": {},
     "output_type": "display_data"
    }
   ],
   "source": [
    "with model.hooks(fwd_hooks=(mlp_hooks + attn_hooks)), th.inference_mode():\n",
    "    model.cfg.use_attn_result = True\n",
    "    control_text = model.generate(\" Numbers I love them!\", max_new_tokens=10, do_sample=False)\n",
    "    model.cfg.use_attn_result = False\n",
    "\n",
    "input_ids_control = model.to_tokens(control_text)\n",
    "targets_control = to_targets(input_ids_control)\n",
    "\n",
    "logits, cache = model.run_with_cache(\n",
    "    input=input_ids_control, return_type=\"logits\"\n",
    ")\n",
    "\n",
    "pred_traj_control_clean = PredictionTrajectory.from_lens_and_cache(\n",
    "    lens=tuned_lens,\n",
    "    cache=cache,\n",
    "    model_logits=logits,\n",
    "    input_ids=input_ids_control,\n",
    "    targets=targets_control,\n",
    ")\n",
    "\n",
    "with model.hooks(fwd_hooks=(mlp_hooks + attn_hooks)), th.inference_mode():\n",
    "    model.cfg.use_attn_result = True\n",
    "    logits, cache = model.run_with_cache(\n",
    "        input=input_ids_control, return_type=\"logits\"\n",
    "    )\n",
    "    model.cfg.use_attn_result = False\n",
    "\n",
    "    pred_traj_control_ablated = PredictionTrajectory.from_lens_and_cache(\n",
    "        lens=tuned_lens,\n",
    "        cache=cache,\n",
    "        model_logits=logits,\n",
    "        input_ids=input_ids_control,\n",
    "        targets=targets_control,\n",
    "    )\n",
    "\n",
    "pred_traj_control_ablated.kl_divergence(pred_traj_control_clean).figure()"
   ]
  }
 ],
 "metadata": {
  "kernelspec": {
   "display_name": "tuned-lens",
   "language": "python",
   "name": "python3"
  },
  "language_info": {
   "codemirror_mode": {
    "name": "ipython",
    "version": 3
   },
   "file_extension": ".py",
   "mimetype": "text/x-python",
   "name": "python",
   "nbconvert_exporter": "python",
   "pygments_lexer": "ipython3",
   "version": "3.10.9"
  },
  "orig_nbformat": 4
 },
 "nbformat": 4,
 "nbformat_minor": 2
}
