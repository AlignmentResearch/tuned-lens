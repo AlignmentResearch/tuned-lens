{
 "cells": [
  {
   "attachments": {},
   "cell_type": "markdown",
   "metadata": {},
   "source": [
    "# Combing the Tuned Lens and the Transformer Lens\n",
    "\n",
    "The [TransformerLens](https://github.com/neelnanda-io/TransformerLens) is an another open source package designed to provide a standard interface for investigating the internals of transformer models. Integrating with TransformerLens and tuned-lens allows you to observe how model edits effect the prediction trajectories, and make use of all of the visualizations provided by the tuned lens package. This is primarily useful for preliminary investigations of circuits. Note this tutorial will be very hard to follow unless you are already familiar with the TransformerLens package.\n",
    "\n",
    "Inspired by work identifying [a grater than circuit in gpt2-small](https://arxiv.org/abs/2305.00586) bellow we provide a preliminary investigation of a grater than circuit in pythia-160m-deduped."
   ]
  },
  {
   "cell_type": "code",
   "execution_count": 141,
   "metadata": {},
   "outputs": [
    {
     "name": "stderr",
     "output_type": "stream",
     "text": [
      "Using pad_token, but it is not set yet.\n"
     ]
    },
    {
     "name": "stdout",
     "output_type": "stream",
     "text": [
      "Loaded pretrained model gpt2 into HookedTransformer\n"
     ]
    }
   ],
   "source": [
    "import torch as th\n",
    "from tuned_lens.plotting import PredictionTrajectory\n",
    "from tuned_lens.nn import TunedLens, Unembed, LogitLens\n",
    "import transformer_lens as tl\n",
    "\n",
    "model = tl.HookedTransformer.from_pretrained(\n",
    "    \"gpt2\",\n",
    "    device=\"cpu\",\n",
    "    fold_ln=False, # The tuned lens applies the final layer norm so we should not fold \n",
    "    # this into the unembed operation.\n",
    ")\n",
    "assert model.tokenizer is not None\n",
    "\n",
    "\n",
    "tuned_lens = TunedLens.from_unembed_and_pretrained(\n",
    "    unembed=Unembed(model),\n",
    "    lens_resource_id=\"gpt2\",\n",
    ")\n",
    "\n",
    "logit_lens = LogitLens.from_model(model)\n",
    "\n",
    "def to_targets(input_ids: th.Tensor):\n",
    "    return th.cat(\n",
    "        (input_ids[..., 1:], th.full(input_ids.shape[:-1] + (1,), model.tokenizer.eos_token_id)\n",
    "    ), dim=-1)"
   ]
  },
  {
   "cell_type": "code",
   "execution_count": null,
   "metadata": {},
   "outputs": [],
   "source": [
    "import plotly.io as pio\n",
    "pio.renderers.default = \"sphinx_gallery\" # Remove this if you are not seeing the plots"
   ]
  },
  {
   "cell_type": "code",
   "execution_count": 22,
   "metadata": {},
   "outputs": [
    {
     "data": {
      "application/vnd.jupyter.widget-view+json": {
       "model_id": "3f0530cbf03149e0bc4f195e0c8dc128",
       "version_major": 2,
       "version_minor": 0
      },
      "text/plain": [
       "  0%|          | 0/2 [00:00<?, ?it/s]"
      ]
     },
     "metadata": {},
     "output_type": "display_data"
    },
    {
     "data": {
      "text/plain": [
       "' The war lasted from 1754 to 1775,'"
      ]
     },
     "execution_count": 22,
     "metadata": {},
     "output_type": "execute_result"
    }
   ],
   "source": [
    "model.generate(\" The war lasted from 1754 to 17\", max_new_tokens=2, do_sample=True)"
   ]
  },
  {
   "cell_type": "code",
   "execution_count": 68,
   "metadata": {},
   "outputs": [],
   "source": [
    "str_tokens = model.to_str_tokens(\" The war lasted from\")\n",
    "\n",
    "dates = [[12, 21],\n",
    "         [11, 23],\n",
    "         [10, 24],\n",
    "         [16, 89],\n",
    "         [17, 54],\n",
    "         [14, 47],\n",
    "         [15, 36],\n",
    "         [17, 32],\n",
    "         [18, 21],\n",
    "         [11, 57]]\n",
    "\n",
    "input_ids_strs = [str_tokens + [\" \" + str(data[0]),  str(data[1]), \" to\", \" \" + str(data[0])] for data in dates]\n",
    "input_ids = th.tensor([[model.to_single_token(s) for s in arr] for arr in input_ids_strs])\n",
    "\n",
    "scrub_ids_strs = [str_tokens + [\" \" + str(data[0]),  \"01\", \" to\", \" \" + str(data[0])] for data in dates]\n",
    "scrub_ids = th.tensor([[model.to_single_token(s) for s in arr] for arr in scrub_ids_strs])\n",
    "\n",
    "targets_strs = [str_tokens[1:] + [\" \" + str(data[0]),  str(data[1]), \" to\", \" \" + str(data[0]), str(data[1] + 3)] for data in dates]\n",
    "targets = th.tensor([[model.to_single_token(s) for s in arr] for arr in targets_strs])\n",
    "anti_targets_strs = [str_tokens[1:] + [\" \" + str(data[0]),  str(data[1]), \" to\", \" \" + str(data[0]), str(data[1] - 3)] for data in dates]\n",
    "anti_targets = th.tensor([[model.to_single_token(s) for s in arr] for arr in anti_targets_strs])"
   ]
  },
  {
   "cell_type": "code",
   "execution_count": 143,
   "metadata": {},
   "outputs": [
    {
     "name": "stdout",
     "output_type": "stream",
     "text": [
      "Scrubed:\n",
      "[['<|endoftext|>', ' The', ' war', ' lasted', ' from', ' 12', '01', ' to', ' 12'],\n",
      " ['<|endoftext|>', ' The', ' war', ' lasted', ' from', ' 11', '01', ' to', ' 11']]\n",
      "Input:\n",
      "[['<|endoftext|>', ' The', ' war', ' lasted', ' from', ' 12', '21', ' to', ' 12'],\n",
      " ['<|endoftext|>', ' The', ' war', ' lasted', ' from', ' 11', '23', ' to', ' 11']]\n",
      "Targets:\n",
      "[[' The', ' war', ' lasted', ' from', ' 12', '21', ' to', ' 12', '24'],\n",
      " [' The', ' war', ' lasted', ' from', ' 11', '23', ' to', ' 11', '26']]\n",
      "Anti targets:\n",
      "[[' The', ' war', ' lasted', ' from', ' 12', '21', ' to', ' 12', '18'],\n",
      " [' The', ' war', ' lasted', ' from', ' 11', '23', ' to', ' 11', '20']]\n"
     ]
    }
   ],
   "source": [
    "from pprint import pprint\n",
    "\n",
    "log_prob_range = (-2, 2) # The range of log probabilities to plot \n",
    "# this makes the different plots comparable.\n",
    "\n",
    "print(\"Scrubed:\")\n",
    "pprint(scrub_ids_strs[:2], width=120)\n",
    "print(\"Input:\")\n",
    "pprint(input_ids_strs[:2], width=120)\n",
    "print(\"Targets:\")\n",
    "pprint(targets_strs[:2])\n",
    "print(\"Anti targets:\")\n",
    "pprint(anti_targets_strs[:2])\n",
    "\n",
    "with th.inference_mode():\n",
    "    logits, cache = model.run_with_cache(\n",
    "        input=input_ids, return_type=\"logits\"\n",
    "    )\n",
    "\n",
    "    pred_traj_clean = PredictionTrajectory.from_lens_and_cache(\n",
    "        lens=tuned_lens,\n",
    "        cache=cache,\n",
    "        model_logits=logits,\n",
    "        input_ids=input_ids,\n",
    "        targets=targets,\n",
    "        anti_targets=anti_targets,\n",
    "    )\n",
    "    \n",
    "    pred_traj_clean_logit = PredictionTrajectory.from_lens_and_cache(\n",
    "        lens=logit_lens,\n",
    "        cache=cache,\n",
    "        model_logits=logits,\n",
    "        input_ids=input_ids,\n",
    "        targets=targets,\n",
    "        anti_targets=anti_targets,\n",
    "    )"
   ]
  },
  {
   "cell_type": "code",
   "execution_count": 144,
   "metadata": {},
   "outputs": [
    {
     "data": {
      "application/vnd.plotly.v1+json": {
       "config": {
        "plotlyServerURL": "https://plot.ly"
       },
       "data": [
        {
         "colorbar": {
          "title": {
           "side": "right",
           "text": "Δ Log Prob Difference (nats)"
          }
         },
         "type": "heatmap",
         "x": [
          "<|endoftext|>",
          "ĠThe‌",
          "Ġwar‌‌",
          "Ġlasted‌‌‌",
          "Ġfrom‌‌‌‌",
          "*‌‌‌‌‌",
          "*‌‌‌‌‌‌",
          "Ġto‌‌‌‌‌‌‌",
          "*‌‌‌‌‌‌‌‌"
         ],
         "y": [
          "0",
          "1",
          "2",
          "3",
          "4",
          "5",
          "6",
          "7",
          "8",
          "9",
          "10",
          "11"
         ],
         "z": [
          [
           0,
           0,
           0,
           0,
           0,
           0,
           0,
           0,
           0.9558466076850891
          ],
          [
           0,
           0,
           0,
           0,
           0,
           0,
           0,
           0,
           -0.005056715104728937
          ],
          [
           0,
           0,
           0,
           0,
           0,
           0,
           0,
           0,
           0.15531273186206818
          ],
          [
           0,
           0,
           0,
           0,
           0,
           0,
           0,
           0,
           -0.019120216369628906
          ],
          [
           0,
           0,
           0,
           0,
           0,
           0,
           0,
           0,
           0.10324425995349884
          ],
          [
           0,
           0,
           0,
           0,
           0,
           0,
           0,
           0,
           0.15561553835868835
          ],
          [
           0,
           0,
           0,
           0,
           0,
           0,
           0,
           0,
           -0.14623311161994934
          ],
          [
           0,
           0,
           0,
           0,
           0,
           0,
           0,
           0,
           0.12515655159950256
          ],
          [
           0,
           0,
           0,
           0,
           0,
           0,
           0,
           0,
           0.35627907514572144
          ],
          [
           0,
           0,
           0,
           0,
           0,
           0,
           0,
           0,
           1.7028639316558838
          ],
          [
           0,
           0,
           0,
           0,
           0,
           0,
           0,
           0,
           0.6732691526412964
          ],
          [
           0,
           0,
           0,
           0,
           0,
           0,
           0,
           0,
           -0.332175612449646
          ]
         ],
         "zmax": 2,
         "zmin": -2
        }
       ],
       "layout": {
        "template": {
         "data": {
          "bar": [
           {
            "error_x": {
             "color": "#2a3f5f"
            },
            "error_y": {
             "color": "#2a3f5f"
            },
            "marker": {
             "line": {
              "color": "#E5ECF6",
              "width": 0.5
             },
             "pattern": {
              "fillmode": "overlay",
              "size": 10,
              "solidity": 0.2
             }
            },
            "type": "bar"
           }
          ],
          "barpolar": [
           {
            "marker": {
             "line": {
              "color": "#E5ECF6",
              "width": 0.5
             },
             "pattern": {
              "fillmode": "overlay",
              "size": 10,
              "solidity": 0.2
             }
            },
            "type": "barpolar"
           }
          ],
          "carpet": [
           {
            "aaxis": {
             "endlinecolor": "#2a3f5f",
             "gridcolor": "white",
             "linecolor": "white",
             "minorgridcolor": "white",
             "startlinecolor": "#2a3f5f"
            },
            "baxis": {
             "endlinecolor": "#2a3f5f",
             "gridcolor": "white",
             "linecolor": "white",
             "minorgridcolor": "white",
             "startlinecolor": "#2a3f5f"
            },
            "type": "carpet"
           }
          ],
          "choropleth": [
           {
            "colorbar": {
             "outlinewidth": 0,
             "ticks": ""
            },
            "type": "choropleth"
           }
          ],
          "contour": [
           {
            "colorbar": {
             "outlinewidth": 0,
             "ticks": ""
            },
            "colorscale": [
             [
              0,
              "#0d0887"
             ],
             [
              0.1111111111111111,
              "#46039f"
             ],
             [
              0.2222222222222222,
              "#7201a8"
             ],
             [
              0.3333333333333333,
              "#9c179e"
             ],
             [
              0.4444444444444444,
              "#bd3786"
             ],
             [
              0.5555555555555556,
              "#d8576b"
             ],
             [
              0.6666666666666666,
              "#ed7953"
             ],
             [
              0.7777777777777778,
              "#fb9f3a"
             ],
             [
              0.8888888888888888,
              "#fdca26"
             ],
             [
              1,
              "#f0f921"
             ]
            ],
            "type": "contour"
           }
          ],
          "contourcarpet": [
           {
            "colorbar": {
             "outlinewidth": 0,
             "ticks": ""
            },
            "type": "contourcarpet"
           }
          ],
          "heatmap": [
           {
            "colorbar": {
             "outlinewidth": 0,
             "ticks": ""
            },
            "colorscale": [
             [
              0,
              "#0d0887"
             ],
             [
              0.1111111111111111,
              "#46039f"
             ],
             [
              0.2222222222222222,
              "#7201a8"
             ],
             [
              0.3333333333333333,
              "#9c179e"
             ],
             [
              0.4444444444444444,
              "#bd3786"
             ],
             [
              0.5555555555555556,
              "#d8576b"
             ],
             [
              0.6666666666666666,
              "#ed7953"
             ],
             [
              0.7777777777777778,
              "#fb9f3a"
             ],
             [
              0.8888888888888888,
              "#fdca26"
             ],
             [
              1,
              "#f0f921"
             ]
            ],
            "type": "heatmap"
           }
          ],
          "heatmapgl": [
           {
            "colorbar": {
             "outlinewidth": 0,
             "ticks": ""
            },
            "colorscale": [
             [
              0,
              "#0d0887"
             ],
             [
              0.1111111111111111,
              "#46039f"
             ],
             [
              0.2222222222222222,
              "#7201a8"
             ],
             [
              0.3333333333333333,
              "#9c179e"
             ],
             [
              0.4444444444444444,
              "#bd3786"
             ],
             [
              0.5555555555555556,
              "#d8576b"
             ],
             [
              0.6666666666666666,
              "#ed7953"
             ],
             [
              0.7777777777777778,
              "#fb9f3a"
             ],
             [
              0.8888888888888888,
              "#fdca26"
             ],
             [
              1,
              "#f0f921"
             ]
            ],
            "type": "heatmapgl"
           }
          ],
          "histogram": [
           {
            "marker": {
             "pattern": {
              "fillmode": "overlay",
              "size": 10,
              "solidity": 0.2
             }
            },
            "type": "histogram"
           }
          ],
          "histogram2d": [
           {
            "colorbar": {
             "outlinewidth": 0,
             "ticks": ""
            },
            "colorscale": [
             [
              0,
              "#0d0887"
             ],
             [
              0.1111111111111111,
              "#46039f"
             ],
             [
              0.2222222222222222,
              "#7201a8"
             ],
             [
              0.3333333333333333,
              "#9c179e"
             ],
             [
              0.4444444444444444,
              "#bd3786"
             ],
             [
              0.5555555555555556,
              "#d8576b"
             ],
             [
              0.6666666666666666,
              "#ed7953"
             ],
             [
              0.7777777777777778,
              "#fb9f3a"
             ],
             [
              0.8888888888888888,
              "#fdca26"
             ],
             [
              1,
              "#f0f921"
             ]
            ],
            "type": "histogram2d"
           }
          ],
          "histogram2dcontour": [
           {
            "colorbar": {
             "outlinewidth": 0,
             "ticks": ""
            },
            "colorscale": [
             [
              0,
              "#0d0887"
             ],
             [
              0.1111111111111111,
              "#46039f"
             ],
             [
              0.2222222222222222,
              "#7201a8"
             ],
             [
              0.3333333333333333,
              "#9c179e"
             ],
             [
              0.4444444444444444,
              "#bd3786"
             ],
             [
              0.5555555555555556,
              "#d8576b"
             ],
             [
              0.6666666666666666,
              "#ed7953"
             ],
             [
              0.7777777777777778,
              "#fb9f3a"
             ],
             [
              0.8888888888888888,
              "#fdca26"
             ],
             [
              1,
              "#f0f921"
             ]
            ],
            "type": "histogram2dcontour"
           }
          ],
          "mesh3d": [
           {
            "colorbar": {
             "outlinewidth": 0,
             "ticks": ""
            },
            "type": "mesh3d"
           }
          ],
          "parcoords": [
           {
            "line": {
             "colorbar": {
              "outlinewidth": 0,
              "ticks": ""
             }
            },
            "type": "parcoords"
           }
          ],
          "pie": [
           {
            "automargin": true,
            "type": "pie"
           }
          ],
          "scatter": [
           {
            "fillpattern": {
             "fillmode": "overlay",
             "size": 10,
             "solidity": 0.2
            },
            "type": "scatter"
           }
          ],
          "scatter3d": [
           {
            "line": {
             "colorbar": {
              "outlinewidth": 0,
              "ticks": ""
             }
            },
            "marker": {
             "colorbar": {
              "outlinewidth": 0,
              "ticks": ""
             }
            },
            "type": "scatter3d"
           }
          ],
          "scattercarpet": [
           {
            "marker": {
             "colorbar": {
              "outlinewidth": 0,
              "ticks": ""
             }
            },
            "type": "scattercarpet"
           }
          ],
          "scattergeo": [
           {
            "marker": {
             "colorbar": {
              "outlinewidth": 0,
              "ticks": ""
             }
            },
            "type": "scattergeo"
           }
          ],
          "scattergl": [
           {
            "marker": {
             "colorbar": {
              "outlinewidth": 0,
              "ticks": ""
             }
            },
            "type": "scattergl"
           }
          ],
          "scattermapbox": [
           {
            "marker": {
             "colorbar": {
              "outlinewidth": 0,
              "ticks": ""
             }
            },
            "type": "scattermapbox"
           }
          ],
          "scatterpolar": [
           {
            "marker": {
             "colorbar": {
              "outlinewidth": 0,
              "ticks": ""
             }
            },
            "type": "scatterpolar"
           }
          ],
          "scatterpolargl": [
           {
            "marker": {
             "colorbar": {
              "outlinewidth": 0,
              "ticks": ""
             }
            },
            "type": "scatterpolargl"
           }
          ],
          "scatterternary": [
           {
            "marker": {
             "colorbar": {
              "outlinewidth": 0,
              "ticks": ""
             }
            },
            "type": "scatterternary"
           }
          ],
          "surface": [
           {
            "colorbar": {
             "outlinewidth": 0,
             "ticks": ""
            },
            "colorscale": [
             [
              0,
              "#0d0887"
             ],
             [
              0.1111111111111111,
              "#46039f"
             ],
             [
              0.2222222222222222,
              "#7201a8"
             ],
             [
              0.3333333333333333,
              "#9c179e"
             ],
             [
              0.4444444444444444,
              "#bd3786"
             ],
             [
              0.5555555555555556,
              "#d8576b"
             ],
             [
              0.6666666666666666,
              "#ed7953"
             ],
             [
              0.7777777777777778,
              "#fb9f3a"
             ],
             [
              0.8888888888888888,
              "#fdca26"
             ],
             [
              1,
              "#f0f921"
             ]
            ],
            "type": "surface"
           }
          ],
          "table": [
           {
            "cells": {
             "fill": {
              "color": "#EBF0F8"
             },
             "line": {
              "color": "white"
             }
            },
            "header": {
             "fill": {
              "color": "#C8D4E3"
             },
             "line": {
              "color": "white"
             }
            },
            "type": "table"
           }
          ]
         },
         "layout": {
          "annotationdefaults": {
           "arrowcolor": "#2a3f5f",
           "arrowhead": 0,
           "arrowwidth": 1
          },
          "autotypenumbers": "strict",
          "coloraxis": {
           "colorbar": {
            "outlinewidth": 0,
            "ticks": ""
           }
          },
          "colorscale": {
           "diverging": [
            [
             0,
             "#8e0152"
            ],
            [
             0.1,
             "#c51b7d"
            ],
            [
             0.2,
             "#de77ae"
            ],
            [
             0.3,
             "#f1b6da"
            ],
            [
             0.4,
             "#fde0ef"
            ],
            [
             0.5,
             "#f7f7f7"
            ],
            [
             0.6,
             "#e6f5d0"
            ],
            [
             0.7,
             "#b8e186"
            ],
            [
             0.8,
             "#7fbc41"
            ],
            [
             0.9,
             "#4d9221"
            ],
            [
             1,
             "#276419"
            ]
           ],
           "sequential": [
            [
             0,
             "#0d0887"
            ],
            [
             0.1111111111111111,
             "#46039f"
            ],
            [
             0.2222222222222222,
             "#7201a8"
            ],
            [
             0.3333333333333333,
             "#9c179e"
            ],
            [
             0.4444444444444444,
             "#bd3786"
            ],
            [
             0.5555555555555556,
             "#d8576b"
            ],
            [
             0.6666666666666666,
             "#ed7953"
            ],
            [
             0.7777777777777778,
             "#fb9f3a"
            ],
            [
             0.8888888888888888,
             "#fdca26"
            ],
            [
             1,
             "#f0f921"
            ]
           ],
           "sequentialminus": [
            [
             0,
             "#0d0887"
            ],
            [
             0.1111111111111111,
             "#46039f"
            ],
            [
             0.2222222222222222,
             "#7201a8"
            ],
            [
             0.3333333333333333,
             "#9c179e"
            ],
            [
             0.4444444444444444,
             "#bd3786"
            ],
            [
             0.5555555555555556,
             "#d8576b"
            ],
            [
             0.6666666666666666,
             "#ed7953"
            ],
            [
             0.7777777777777778,
             "#fb9f3a"
            ],
            [
             0.8888888888888888,
             "#fdca26"
            ],
            [
             1,
             "#f0f921"
            ]
           ]
          },
          "colorway": [
           "#636efa",
           "#EF553B",
           "#00cc96",
           "#ab63fa",
           "#FFA15A",
           "#19d3f3",
           "#FF6692",
           "#B6E880",
           "#FF97FF",
           "#FECB52"
          ],
          "font": {
           "color": "#2a3f5f"
          },
          "geo": {
           "bgcolor": "white",
           "lakecolor": "white",
           "landcolor": "#E5ECF6",
           "showlakes": true,
           "showland": true,
           "subunitcolor": "white"
          },
          "hoverlabel": {
           "align": "left"
          },
          "hovermode": "closest",
          "mapbox": {
           "style": "light"
          },
          "paper_bgcolor": "white",
          "plot_bgcolor": "#E5ECF6",
          "polar": {
           "angularaxis": {
            "gridcolor": "white",
            "linecolor": "white",
            "ticks": ""
           },
           "bgcolor": "#E5ECF6",
           "radialaxis": {
            "gridcolor": "white",
            "linecolor": "white",
            "ticks": ""
           }
          },
          "scene": {
           "xaxis": {
            "backgroundcolor": "#E5ECF6",
            "gridcolor": "white",
            "gridwidth": 2,
            "linecolor": "white",
            "showbackground": true,
            "ticks": "",
            "zerolinecolor": "white"
           },
           "yaxis": {
            "backgroundcolor": "#E5ECF6",
            "gridcolor": "white",
            "gridwidth": 2,
            "linecolor": "white",
            "showbackground": true,
            "ticks": "",
            "zerolinecolor": "white"
           },
           "zaxis": {
            "backgroundcolor": "#E5ECF6",
            "gridcolor": "white",
            "gridwidth": 2,
            "linecolor": "white",
            "showbackground": true,
            "ticks": "",
            "zerolinecolor": "white"
           }
          },
          "shapedefaults": {
           "line": {
            "color": "#2a3f5f"
           }
          },
          "ternary": {
           "aaxis": {
            "gridcolor": "white",
            "linecolor": "white",
            "ticks": ""
           },
           "baxis": {
            "gridcolor": "white",
            "linecolor": "white",
            "ticks": ""
           },
           "bgcolor": "#E5ECF6",
           "caxis": {
            "gridcolor": "white",
            "linecolor": "white",
            "ticks": ""
           }
          },
          "title": {
           "x": 0.05
          },
          "xaxis": {
           "automargin": true,
           "gridcolor": "white",
           "linecolor": "white",
           "ticks": "",
           "title": {
            "standoff": 15
           },
           "zerolinecolor": "white",
           "zerolinewidth": 2
          },
          "yaxis": {
           "automargin": true,
           "gridcolor": "white",
           "linecolor": "white",
           "ticks": "",
           "title": {
            "standoff": 15
           },
           "zerolinecolor": "white",
           "zerolinewidth": 2
          }
         }
        },
        "title": {
         "text": "Effects of each layer on the difference in log probability between the target and anti-target",
         "x": 0.5
        },
        "width": 920,
        "xaxis": {
         "title": {
          "text": "Input"
         }
        },
        "yaxis": {
         "title": {
          "text": "Layer"
         }
        }
       }
      }
     },
     "metadata": {},
     "output_type": "display_data"
    }
   ],
   "source": [
    "pred_traj_clean.log_prob_diff(delta=True).clip(*log_prob_range).figure(title=\"Effects of each layer on the difference in log probability between the target and anti-target\")"
   ]
  },
  {
   "cell_type": "code",
   "execution_count": 145,
   "metadata": {},
   "outputs": [
    {
     "data": {
      "application/vnd.plotly.v1+json": {
       "config": {
        "plotlyServerURL": "https://plot.ly"
       },
       "data": [
        {
         "colorbar": {
          "title": {
           "side": "right",
           "text": "Δ Log Prob Difference (nats)"
          }
         },
         "type": "heatmap",
         "x": [
          "<|endoftext|>",
          "ĠThe‌",
          "Ġwar‌‌",
          "Ġlasted‌‌‌",
          "Ġfrom‌‌‌‌",
          "*‌‌‌‌‌",
          "*‌‌‌‌‌‌",
          "Ġto‌‌‌‌‌‌‌",
          "*‌‌‌‌‌‌‌‌"
         ],
         "y": [
          "0",
          "1",
          "2",
          "3",
          "4",
          "5",
          "6",
          "7",
          "8",
          "9",
          "10",
          "11"
         ],
         "z": [
          [
           0,
           0,
           0,
           0,
           0,
           0,
           0,
           0,
           2
          ],
          [
           0,
           0,
           0,
           0,
           0,
           0,
           0,
           0,
           0.16409960389137268
          ],
          [
           0,
           0,
           0,
           0,
           0,
           0,
           0,
           0,
           0.31389570236206055
          ],
          [
           0,
           0,
           0,
           0,
           0,
           0,
           0,
           0,
           0.057257890701293945
          ],
          [
           0,
           0,
           0,
           0,
           0,
           0,
           0,
           0,
           0.2988871932029724
          ],
          [
           0,
           0,
           0,
           0,
           0,
           0,
           0,
           0,
           0.25136512517929077
          ],
          [
           0,
           0,
           0,
           0,
           0,
           0,
           0,
           0,
           -0.1741573065519333
          ],
          [
           0,
           0,
           0,
           0,
           0,
           0,
           0,
           0,
           0.17319145798683167
          ],
          [
           0,
           0,
           0,
           0,
           0,
           0,
           0,
           0,
           0.5654283761978149
          ],
          [
           0,
           0,
           0,
           0,
           0,
           0,
           0,
           0,
           2
          ],
          [
           0,
           0,
           0,
           0,
           0,
           0,
           0,
           0,
           1.4505528211593628
          ],
          [
           0,
           0,
           0,
           0,
           0,
           0,
           0,
           0,
           -2
          ]
         ],
         "zmax": 2,
         "zmin": -2
        }
       ],
       "layout": {
        "template": {
         "data": {
          "bar": [
           {
            "error_x": {
             "color": "#2a3f5f"
            },
            "error_y": {
             "color": "#2a3f5f"
            },
            "marker": {
             "line": {
              "color": "#E5ECF6",
              "width": 0.5
             },
             "pattern": {
              "fillmode": "overlay",
              "size": 10,
              "solidity": 0.2
             }
            },
            "type": "bar"
           }
          ],
          "barpolar": [
           {
            "marker": {
             "line": {
              "color": "#E5ECF6",
              "width": 0.5
             },
             "pattern": {
              "fillmode": "overlay",
              "size": 10,
              "solidity": 0.2
             }
            },
            "type": "barpolar"
           }
          ],
          "carpet": [
           {
            "aaxis": {
             "endlinecolor": "#2a3f5f",
             "gridcolor": "white",
             "linecolor": "white",
             "minorgridcolor": "white",
             "startlinecolor": "#2a3f5f"
            },
            "baxis": {
             "endlinecolor": "#2a3f5f",
             "gridcolor": "white",
             "linecolor": "white",
             "minorgridcolor": "white",
             "startlinecolor": "#2a3f5f"
            },
            "type": "carpet"
           }
          ],
          "choropleth": [
           {
            "colorbar": {
             "outlinewidth": 0,
             "ticks": ""
            },
            "type": "choropleth"
           }
          ],
          "contour": [
           {
            "colorbar": {
             "outlinewidth": 0,
             "ticks": ""
            },
            "colorscale": [
             [
              0,
              "#0d0887"
             ],
             [
              0.1111111111111111,
              "#46039f"
             ],
             [
              0.2222222222222222,
              "#7201a8"
             ],
             [
              0.3333333333333333,
              "#9c179e"
             ],
             [
              0.4444444444444444,
              "#bd3786"
             ],
             [
              0.5555555555555556,
              "#d8576b"
             ],
             [
              0.6666666666666666,
              "#ed7953"
             ],
             [
              0.7777777777777778,
              "#fb9f3a"
             ],
             [
              0.8888888888888888,
              "#fdca26"
             ],
             [
              1,
              "#f0f921"
             ]
            ],
            "type": "contour"
           }
          ],
          "contourcarpet": [
           {
            "colorbar": {
             "outlinewidth": 0,
             "ticks": ""
            },
            "type": "contourcarpet"
           }
          ],
          "heatmap": [
           {
            "colorbar": {
             "outlinewidth": 0,
             "ticks": ""
            },
            "colorscale": [
             [
              0,
              "#0d0887"
             ],
             [
              0.1111111111111111,
              "#46039f"
             ],
             [
              0.2222222222222222,
              "#7201a8"
             ],
             [
              0.3333333333333333,
              "#9c179e"
             ],
             [
              0.4444444444444444,
              "#bd3786"
             ],
             [
              0.5555555555555556,
              "#d8576b"
             ],
             [
              0.6666666666666666,
              "#ed7953"
             ],
             [
              0.7777777777777778,
              "#fb9f3a"
             ],
             [
              0.8888888888888888,
              "#fdca26"
             ],
             [
              1,
              "#f0f921"
             ]
            ],
            "type": "heatmap"
           }
          ],
          "heatmapgl": [
           {
            "colorbar": {
             "outlinewidth": 0,
             "ticks": ""
            },
            "colorscale": [
             [
              0,
              "#0d0887"
             ],
             [
              0.1111111111111111,
              "#46039f"
             ],
             [
              0.2222222222222222,
              "#7201a8"
             ],
             [
              0.3333333333333333,
              "#9c179e"
             ],
             [
              0.4444444444444444,
              "#bd3786"
             ],
             [
              0.5555555555555556,
              "#d8576b"
             ],
             [
              0.6666666666666666,
              "#ed7953"
             ],
             [
              0.7777777777777778,
              "#fb9f3a"
             ],
             [
              0.8888888888888888,
              "#fdca26"
             ],
             [
              1,
              "#f0f921"
             ]
            ],
            "type": "heatmapgl"
           }
          ],
          "histogram": [
           {
            "marker": {
             "pattern": {
              "fillmode": "overlay",
              "size": 10,
              "solidity": 0.2
             }
            },
            "type": "histogram"
           }
          ],
          "histogram2d": [
           {
            "colorbar": {
             "outlinewidth": 0,
             "ticks": ""
            },
            "colorscale": [
             [
              0,
              "#0d0887"
             ],
             [
              0.1111111111111111,
              "#46039f"
             ],
             [
              0.2222222222222222,
              "#7201a8"
             ],
             [
              0.3333333333333333,
              "#9c179e"
             ],
             [
              0.4444444444444444,
              "#bd3786"
             ],
             [
              0.5555555555555556,
              "#d8576b"
             ],
             [
              0.6666666666666666,
              "#ed7953"
             ],
             [
              0.7777777777777778,
              "#fb9f3a"
             ],
             [
              0.8888888888888888,
              "#fdca26"
             ],
             [
              1,
              "#f0f921"
             ]
            ],
            "type": "histogram2d"
           }
          ],
          "histogram2dcontour": [
           {
            "colorbar": {
             "outlinewidth": 0,
             "ticks": ""
            },
            "colorscale": [
             [
              0,
              "#0d0887"
             ],
             [
              0.1111111111111111,
              "#46039f"
             ],
             [
              0.2222222222222222,
              "#7201a8"
             ],
             [
              0.3333333333333333,
              "#9c179e"
             ],
             [
              0.4444444444444444,
              "#bd3786"
             ],
             [
              0.5555555555555556,
              "#d8576b"
             ],
             [
              0.6666666666666666,
              "#ed7953"
             ],
             [
              0.7777777777777778,
              "#fb9f3a"
             ],
             [
              0.8888888888888888,
              "#fdca26"
             ],
             [
              1,
              "#f0f921"
             ]
            ],
            "type": "histogram2dcontour"
           }
          ],
          "mesh3d": [
           {
            "colorbar": {
             "outlinewidth": 0,
             "ticks": ""
            },
            "type": "mesh3d"
           }
          ],
          "parcoords": [
           {
            "line": {
             "colorbar": {
              "outlinewidth": 0,
              "ticks": ""
             }
            },
            "type": "parcoords"
           }
          ],
          "pie": [
           {
            "automargin": true,
            "type": "pie"
           }
          ],
          "scatter": [
           {
            "fillpattern": {
             "fillmode": "overlay",
             "size": 10,
             "solidity": 0.2
            },
            "type": "scatter"
           }
          ],
          "scatter3d": [
           {
            "line": {
             "colorbar": {
              "outlinewidth": 0,
              "ticks": ""
             }
            },
            "marker": {
             "colorbar": {
              "outlinewidth": 0,
              "ticks": ""
             }
            },
            "type": "scatter3d"
           }
          ],
          "scattercarpet": [
           {
            "marker": {
             "colorbar": {
              "outlinewidth": 0,
              "ticks": ""
             }
            },
            "type": "scattercarpet"
           }
          ],
          "scattergeo": [
           {
            "marker": {
             "colorbar": {
              "outlinewidth": 0,
              "ticks": ""
             }
            },
            "type": "scattergeo"
           }
          ],
          "scattergl": [
           {
            "marker": {
             "colorbar": {
              "outlinewidth": 0,
              "ticks": ""
             }
            },
            "type": "scattergl"
           }
          ],
          "scattermapbox": [
           {
            "marker": {
             "colorbar": {
              "outlinewidth": 0,
              "ticks": ""
             }
            },
            "type": "scattermapbox"
           }
          ],
          "scatterpolar": [
           {
            "marker": {
             "colorbar": {
              "outlinewidth": 0,
              "ticks": ""
             }
            },
            "type": "scatterpolar"
           }
          ],
          "scatterpolargl": [
           {
            "marker": {
             "colorbar": {
              "outlinewidth": 0,
              "ticks": ""
             }
            },
            "type": "scatterpolargl"
           }
          ],
          "scatterternary": [
           {
            "marker": {
             "colorbar": {
              "outlinewidth": 0,
              "ticks": ""
             }
            },
            "type": "scatterternary"
           }
          ],
          "surface": [
           {
            "colorbar": {
             "outlinewidth": 0,
             "ticks": ""
            },
            "colorscale": [
             [
              0,
              "#0d0887"
             ],
             [
              0.1111111111111111,
              "#46039f"
             ],
             [
              0.2222222222222222,
              "#7201a8"
             ],
             [
              0.3333333333333333,
              "#9c179e"
             ],
             [
              0.4444444444444444,
              "#bd3786"
             ],
             [
              0.5555555555555556,
              "#d8576b"
             ],
             [
              0.6666666666666666,
              "#ed7953"
             ],
             [
              0.7777777777777778,
              "#fb9f3a"
             ],
             [
              0.8888888888888888,
              "#fdca26"
             ],
             [
              1,
              "#f0f921"
             ]
            ],
            "type": "surface"
           }
          ],
          "table": [
           {
            "cells": {
             "fill": {
              "color": "#EBF0F8"
             },
             "line": {
              "color": "white"
             }
            },
            "header": {
             "fill": {
              "color": "#C8D4E3"
             },
             "line": {
              "color": "white"
             }
            },
            "type": "table"
           }
          ]
         },
         "layout": {
          "annotationdefaults": {
           "arrowcolor": "#2a3f5f",
           "arrowhead": 0,
           "arrowwidth": 1
          },
          "autotypenumbers": "strict",
          "coloraxis": {
           "colorbar": {
            "outlinewidth": 0,
            "ticks": ""
           }
          },
          "colorscale": {
           "diverging": [
            [
             0,
             "#8e0152"
            ],
            [
             0.1,
             "#c51b7d"
            ],
            [
             0.2,
             "#de77ae"
            ],
            [
             0.3,
             "#f1b6da"
            ],
            [
             0.4,
             "#fde0ef"
            ],
            [
             0.5,
             "#f7f7f7"
            ],
            [
             0.6,
             "#e6f5d0"
            ],
            [
             0.7,
             "#b8e186"
            ],
            [
             0.8,
             "#7fbc41"
            ],
            [
             0.9,
             "#4d9221"
            ],
            [
             1,
             "#276419"
            ]
           ],
           "sequential": [
            [
             0,
             "#0d0887"
            ],
            [
             0.1111111111111111,
             "#46039f"
            ],
            [
             0.2222222222222222,
             "#7201a8"
            ],
            [
             0.3333333333333333,
             "#9c179e"
            ],
            [
             0.4444444444444444,
             "#bd3786"
            ],
            [
             0.5555555555555556,
             "#d8576b"
            ],
            [
             0.6666666666666666,
             "#ed7953"
            ],
            [
             0.7777777777777778,
             "#fb9f3a"
            ],
            [
             0.8888888888888888,
             "#fdca26"
            ],
            [
             1,
             "#f0f921"
            ]
           ],
           "sequentialminus": [
            [
             0,
             "#0d0887"
            ],
            [
             0.1111111111111111,
             "#46039f"
            ],
            [
             0.2222222222222222,
             "#7201a8"
            ],
            [
             0.3333333333333333,
             "#9c179e"
            ],
            [
             0.4444444444444444,
             "#bd3786"
            ],
            [
             0.5555555555555556,
             "#d8576b"
            ],
            [
             0.6666666666666666,
             "#ed7953"
            ],
            [
             0.7777777777777778,
             "#fb9f3a"
            ],
            [
             0.8888888888888888,
             "#fdca26"
            ],
            [
             1,
             "#f0f921"
            ]
           ]
          },
          "colorway": [
           "#636efa",
           "#EF553B",
           "#00cc96",
           "#ab63fa",
           "#FFA15A",
           "#19d3f3",
           "#FF6692",
           "#B6E880",
           "#FF97FF",
           "#FECB52"
          ],
          "font": {
           "color": "#2a3f5f"
          },
          "geo": {
           "bgcolor": "white",
           "lakecolor": "white",
           "landcolor": "#E5ECF6",
           "showlakes": true,
           "showland": true,
           "subunitcolor": "white"
          },
          "hoverlabel": {
           "align": "left"
          },
          "hovermode": "closest",
          "mapbox": {
           "style": "light"
          },
          "paper_bgcolor": "white",
          "plot_bgcolor": "#E5ECF6",
          "polar": {
           "angularaxis": {
            "gridcolor": "white",
            "linecolor": "white",
            "ticks": ""
           },
           "bgcolor": "#E5ECF6",
           "radialaxis": {
            "gridcolor": "white",
            "linecolor": "white",
            "ticks": ""
           }
          },
          "scene": {
           "xaxis": {
            "backgroundcolor": "#E5ECF6",
            "gridcolor": "white",
            "gridwidth": 2,
            "linecolor": "white",
            "showbackground": true,
            "ticks": "",
            "zerolinecolor": "white"
           },
           "yaxis": {
            "backgroundcolor": "#E5ECF6",
            "gridcolor": "white",
            "gridwidth": 2,
            "linecolor": "white",
            "showbackground": true,
            "ticks": "",
            "zerolinecolor": "white"
           },
           "zaxis": {
            "backgroundcolor": "#E5ECF6",
            "gridcolor": "white",
            "gridwidth": 2,
            "linecolor": "white",
            "showbackground": true,
            "ticks": "",
            "zerolinecolor": "white"
           }
          },
          "shapedefaults": {
           "line": {
            "color": "#2a3f5f"
           }
          },
          "ternary": {
           "aaxis": {
            "gridcolor": "white",
            "linecolor": "white",
            "ticks": ""
           },
           "baxis": {
            "gridcolor": "white",
            "linecolor": "white",
            "ticks": ""
           },
           "bgcolor": "#E5ECF6",
           "caxis": {
            "gridcolor": "white",
            "linecolor": "white",
            "ticks": ""
           }
          },
          "title": {
           "x": 0.05
          },
          "xaxis": {
           "automargin": true,
           "gridcolor": "white",
           "linecolor": "white",
           "ticks": "",
           "title": {
            "standoff": 15
           },
           "zerolinecolor": "white",
           "zerolinewidth": 2
          },
          "yaxis": {
           "automargin": true,
           "gridcolor": "white",
           "linecolor": "white",
           "ticks": "",
           "title": {
            "standoff": 15
           },
           "zerolinecolor": "white",
           "zerolinewidth": 2
          }
         }
        },
        "title": {
         "text": "Same as above but with the logit lens",
         "x": 0.5
        },
        "width": 920,
        "xaxis": {
         "title": {
          "text": "Input"
         }
        },
        "yaxis": {
         "title": {
          "text": "Layer"
         }
        }
       }
      }
     },
     "metadata": {},
     "output_type": "display_data"
    }
   ],
   "source": [
    "pred_traj_clean_logit.log_prob_diff(delta=True).clip(*log_prob_range).figure(title=\"Same as above but with the logit lens\")"
   ]
  },
  {
   "attachments": {},
   "cell_type": "markdown",
   "metadata": {},
   "source": [
    "The above results mostly agree with the results in the paper. We see that the majority\n",
    "of the contributions to the correct logits do indeed come from the layers 8 through 11.\n",
    "Interestingly, it seems like layer 11, in particular the MLP, is actually acting as a regularizer and reducing\n",
    "the confidence in the target prediction.\n",
    "\n",
    "## Lets start removing components!\n",
    "\n",
    "Now we will show how to ablate the components of this circuit. I recommend, opening up\n",
    "this in google colab and playing with it!\n",
    "\n",
    "Here are some exercises you can try:\n",
    "* What are the effects of ablating MLP on layer 8?\n",
    "* What happens when we remove MLP 11?\n",
    "   * How much collateral damage does this cause?\n",
    "* How do the different types of ablation work?\n",
    "   * Why might we prefer a swap ablation to a zero ablation [hint](https://www.lesswrong.com/posts/JvZhhzycHu2Yd57RN/causal-scrubbing-a-method-for-rigorously-testing#4_2_Problems_with_zero_and_mean_ablation).\n",
    "* CHALLENGE: What edit would you make to the model that disrupts the grater than circuit\n",
    "but that has minimal effects on the models behavior?"
   ]
  },
  {
   "cell_type": "code",
   "execution_count": 146,
   "metadata": {},
   "outputs": [],
   "source": [
    "model.cfg.use_attn_result = True\n",
    "scrubed_logits, scrubed_cache = model.run_with_cache(\n",
    "    input=scrub_ids, return_type=\"logits\"\n",
    ")\n",
    "model.cfg.use_attn_result = False"
   ]
  },
  {
   "cell_type": "code",
   "execution_count": 147,
   "metadata": {},
   "outputs": [],
   "source": [
    "import transformer_lens.utils as utils\n",
    "from functools import partial\n",
    "\n",
    "\n",
    "def zero_ablation_hook(result: th.Tensor, hook: tl.hook_points.HookPoint) -> th.Tensor:\n",
    "    result[:] = 0\n",
    "    return result\n",
    "\n",
    "def swap_ablation_hook(result: th.Tensor, hook: tl.hook_points.HookPoint) -> th.Tensor:\n",
    "    result[:] = scrubed_cache[hook.name]\n",
    "    return result\n",
    "\n",
    "\n",
    "MLPS_TO_ABLATE = [9]\n",
    "mlp_hooks = [(utils.get_act_name(\"mlp_out\", layer), zero_ablation_hook) for layer in MLPS_TO_ABLATE]\n",
    "\n",
    "ATTN_MODULES_TO_ABLATE = []\n",
    "attn_hooks = [(utils.get_act_name(\"result\", layer), zero_ablation_hook) for layer in ATTN_MODULES_TO_ABLATE]\n",
    "\n",
    "with model.hooks(fwd_hooks=(mlp_hooks + attn_hooks)), th.inference_mode():\n",
    "    model.cfg.use_attn_result = True\n",
    "    logits, cache = model.run_with_cache(\n",
    "        input=input_ids, return_type=\"logits\"\n",
    "    )\n",
    "    model.cfg.use_attn_result = False\n",
    "\n",
    "    pred_traj_ablated = PredictionTrajectory.from_lens_and_cache(\n",
    "        lens=tuned_lens,\n",
    "        cache=cache,\n",
    "        model_logits=logits,\n",
    "        input_ids=input_ids,\n",
    "        targets=targets,\n",
    "        anti_targets=anti_targets,\n",
    "    )\n",
    "\n",
    "    pred_traj_ablated_logit = PredictionTrajectory.from_lens_and_cache(\n",
    "        lens=logit_lens,\n",
    "        cache=cache,\n",
    "        model_logits=logits,\n",
    "        input_ids=input_ids,\n",
    "        targets=targets,\n",
    "        anti_targets=anti_targets,\n",
    "    )"
   ]
  },
  {
   "cell_type": "code",
   "execution_count": 148,
   "metadata": {},
   "outputs": [
    {
     "data": {
      "application/vnd.plotly.v1+json": {
       "config": {
        "plotlyServerURL": "https://plot.ly"
       },
       "data": [
        {
         "colorbar": {
          "title": {
           "side": "right",
           "text": "Δ Log Prob Difference (nats)"
          }
         },
         "type": "heatmap",
         "x": [
          "<|endoftext|>",
          "ĠThe‌",
          "Ġwar‌‌",
          "Ġlasted‌‌‌",
          "Ġfrom‌‌‌‌",
          "*‌‌‌‌‌",
          "*‌‌‌‌‌‌",
          "Ġto‌‌‌‌‌‌‌",
          "*‌‌‌‌‌‌‌‌"
         ],
         "y": [
          "0",
          "1",
          "2",
          "3",
          "4",
          "5",
          "6",
          "7",
          "8",
          "9",
          "10",
          "11"
         ],
         "z": [
          [
           0,
           0,
           0,
           0,
           0,
           0,
           0,
           0,
           0.9558475613594055
          ],
          [
           0,
           0,
           0,
           0,
           0,
           0,
           0,
           0,
           -0.005056858062744141
          ],
          [
           0,
           0,
           0,
           0,
           0,
           0,
           0,
           0,
           0.15531182289123535
          ],
          [
           0,
           0,
           0,
           0,
           0,
           0,
           0,
           0,
           -0.019121408462524414
          ],
          [
           0,
           0,
           0,
           0,
           0,
           0,
           0,
           0,
           0.10324487835168839
          ],
          [
           0,
           0,
           0,
           0,
           0,
           0,
           0,
           0,
           0.15561822056770325
          ],
          [
           0,
           0,
           0,
           0,
           0,
           0,
           0,
           0,
           -0.14623475074768066
          ],
          [
           0,
           0,
           0,
           0,
           0,
           0,
           0,
           0,
           0.12515754997730255
          ],
          [
           0,
           0,
           0,
           0,
           0,
           0,
           0,
           0,
           0.3562786281108856
          ],
          [
           0,
           0,
           0,
           0,
           0,
           0,
           0,
           0,
           0.5041414499282837
          ],
          [
           0,
           0,
           0,
           0,
           0,
           0,
           0,
           0,
           0.7691663503646851
          ],
          [
           0,
           0,
           0,
           0,
           0,
           0,
           0,
           0,
           0.10416929423809052
          ]
         ],
         "zmax": 2,
         "zmin": -2
        }
       ],
       "layout": {
        "template": {
         "data": {
          "bar": [
           {
            "error_x": {
             "color": "#2a3f5f"
            },
            "error_y": {
             "color": "#2a3f5f"
            },
            "marker": {
             "line": {
              "color": "#E5ECF6",
              "width": 0.5
             },
             "pattern": {
              "fillmode": "overlay",
              "size": 10,
              "solidity": 0.2
             }
            },
            "type": "bar"
           }
          ],
          "barpolar": [
           {
            "marker": {
             "line": {
              "color": "#E5ECF6",
              "width": 0.5
             },
             "pattern": {
              "fillmode": "overlay",
              "size": 10,
              "solidity": 0.2
             }
            },
            "type": "barpolar"
           }
          ],
          "carpet": [
           {
            "aaxis": {
             "endlinecolor": "#2a3f5f",
             "gridcolor": "white",
             "linecolor": "white",
             "minorgridcolor": "white",
             "startlinecolor": "#2a3f5f"
            },
            "baxis": {
             "endlinecolor": "#2a3f5f",
             "gridcolor": "white",
             "linecolor": "white",
             "minorgridcolor": "white",
             "startlinecolor": "#2a3f5f"
            },
            "type": "carpet"
           }
          ],
          "choropleth": [
           {
            "colorbar": {
             "outlinewidth": 0,
             "ticks": ""
            },
            "type": "choropleth"
           }
          ],
          "contour": [
           {
            "colorbar": {
             "outlinewidth": 0,
             "ticks": ""
            },
            "colorscale": [
             [
              0,
              "#0d0887"
             ],
             [
              0.1111111111111111,
              "#46039f"
             ],
             [
              0.2222222222222222,
              "#7201a8"
             ],
             [
              0.3333333333333333,
              "#9c179e"
             ],
             [
              0.4444444444444444,
              "#bd3786"
             ],
             [
              0.5555555555555556,
              "#d8576b"
             ],
             [
              0.6666666666666666,
              "#ed7953"
             ],
             [
              0.7777777777777778,
              "#fb9f3a"
             ],
             [
              0.8888888888888888,
              "#fdca26"
             ],
             [
              1,
              "#f0f921"
             ]
            ],
            "type": "contour"
           }
          ],
          "contourcarpet": [
           {
            "colorbar": {
             "outlinewidth": 0,
             "ticks": ""
            },
            "type": "contourcarpet"
           }
          ],
          "heatmap": [
           {
            "colorbar": {
             "outlinewidth": 0,
             "ticks": ""
            },
            "colorscale": [
             [
              0,
              "#0d0887"
             ],
             [
              0.1111111111111111,
              "#46039f"
             ],
             [
              0.2222222222222222,
              "#7201a8"
             ],
             [
              0.3333333333333333,
              "#9c179e"
             ],
             [
              0.4444444444444444,
              "#bd3786"
             ],
             [
              0.5555555555555556,
              "#d8576b"
             ],
             [
              0.6666666666666666,
              "#ed7953"
             ],
             [
              0.7777777777777778,
              "#fb9f3a"
             ],
             [
              0.8888888888888888,
              "#fdca26"
             ],
             [
              1,
              "#f0f921"
             ]
            ],
            "type": "heatmap"
           }
          ],
          "heatmapgl": [
           {
            "colorbar": {
             "outlinewidth": 0,
             "ticks": ""
            },
            "colorscale": [
             [
              0,
              "#0d0887"
             ],
             [
              0.1111111111111111,
              "#46039f"
             ],
             [
              0.2222222222222222,
              "#7201a8"
             ],
             [
              0.3333333333333333,
              "#9c179e"
             ],
             [
              0.4444444444444444,
              "#bd3786"
             ],
             [
              0.5555555555555556,
              "#d8576b"
             ],
             [
              0.6666666666666666,
              "#ed7953"
             ],
             [
              0.7777777777777778,
              "#fb9f3a"
             ],
             [
              0.8888888888888888,
              "#fdca26"
             ],
             [
              1,
              "#f0f921"
             ]
            ],
            "type": "heatmapgl"
           }
          ],
          "histogram": [
           {
            "marker": {
             "pattern": {
              "fillmode": "overlay",
              "size": 10,
              "solidity": 0.2
             }
            },
            "type": "histogram"
           }
          ],
          "histogram2d": [
           {
            "colorbar": {
             "outlinewidth": 0,
             "ticks": ""
            },
            "colorscale": [
             [
              0,
              "#0d0887"
             ],
             [
              0.1111111111111111,
              "#46039f"
             ],
             [
              0.2222222222222222,
              "#7201a8"
             ],
             [
              0.3333333333333333,
              "#9c179e"
             ],
             [
              0.4444444444444444,
              "#bd3786"
             ],
             [
              0.5555555555555556,
              "#d8576b"
             ],
             [
              0.6666666666666666,
              "#ed7953"
             ],
             [
              0.7777777777777778,
              "#fb9f3a"
             ],
             [
              0.8888888888888888,
              "#fdca26"
             ],
             [
              1,
              "#f0f921"
             ]
            ],
            "type": "histogram2d"
           }
          ],
          "histogram2dcontour": [
           {
            "colorbar": {
             "outlinewidth": 0,
             "ticks": ""
            },
            "colorscale": [
             [
              0,
              "#0d0887"
             ],
             [
              0.1111111111111111,
              "#46039f"
             ],
             [
              0.2222222222222222,
              "#7201a8"
             ],
             [
              0.3333333333333333,
              "#9c179e"
             ],
             [
              0.4444444444444444,
              "#bd3786"
             ],
             [
              0.5555555555555556,
              "#d8576b"
             ],
             [
              0.6666666666666666,
              "#ed7953"
             ],
             [
              0.7777777777777778,
              "#fb9f3a"
             ],
             [
              0.8888888888888888,
              "#fdca26"
             ],
             [
              1,
              "#f0f921"
             ]
            ],
            "type": "histogram2dcontour"
           }
          ],
          "mesh3d": [
           {
            "colorbar": {
             "outlinewidth": 0,
             "ticks": ""
            },
            "type": "mesh3d"
           }
          ],
          "parcoords": [
           {
            "line": {
             "colorbar": {
              "outlinewidth": 0,
              "ticks": ""
             }
            },
            "type": "parcoords"
           }
          ],
          "pie": [
           {
            "automargin": true,
            "type": "pie"
           }
          ],
          "scatter": [
           {
            "fillpattern": {
             "fillmode": "overlay",
             "size": 10,
             "solidity": 0.2
            },
            "type": "scatter"
           }
          ],
          "scatter3d": [
           {
            "line": {
             "colorbar": {
              "outlinewidth": 0,
              "ticks": ""
             }
            },
            "marker": {
             "colorbar": {
              "outlinewidth": 0,
              "ticks": ""
             }
            },
            "type": "scatter3d"
           }
          ],
          "scattercarpet": [
           {
            "marker": {
             "colorbar": {
              "outlinewidth": 0,
              "ticks": ""
             }
            },
            "type": "scattercarpet"
           }
          ],
          "scattergeo": [
           {
            "marker": {
             "colorbar": {
              "outlinewidth": 0,
              "ticks": ""
             }
            },
            "type": "scattergeo"
           }
          ],
          "scattergl": [
           {
            "marker": {
             "colorbar": {
              "outlinewidth": 0,
              "ticks": ""
             }
            },
            "type": "scattergl"
           }
          ],
          "scattermapbox": [
           {
            "marker": {
             "colorbar": {
              "outlinewidth": 0,
              "ticks": ""
             }
            },
            "type": "scattermapbox"
           }
          ],
          "scatterpolar": [
           {
            "marker": {
             "colorbar": {
              "outlinewidth": 0,
              "ticks": ""
             }
            },
            "type": "scatterpolar"
           }
          ],
          "scatterpolargl": [
           {
            "marker": {
             "colorbar": {
              "outlinewidth": 0,
              "ticks": ""
             }
            },
            "type": "scatterpolargl"
           }
          ],
          "scatterternary": [
           {
            "marker": {
             "colorbar": {
              "outlinewidth": 0,
              "ticks": ""
             }
            },
            "type": "scatterternary"
           }
          ],
          "surface": [
           {
            "colorbar": {
             "outlinewidth": 0,
             "ticks": ""
            },
            "colorscale": [
             [
              0,
              "#0d0887"
             ],
             [
              0.1111111111111111,
              "#46039f"
             ],
             [
              0.2222222222222222,
              "#7201a8"
             ],
             [
              0.3333333333333333,
              "#9c179e"
             ],
             [
              0.4444444444444444,
              "#bd3786"
             ],
             [
              0.5555555555555556,
              "#d8576b"
             ],
             [
              0.6666666666666666,
              "#ed7953"
             ],
             [
              0.7777777777777778,
              "#fb9f3a"
             ],
             [
              0.8888888888888888,
              "#fdca26"
             ],
             [
              1,
              "#f0f921"
             ]
            ],
            "type": "surface"
           }
          ],
          "table": [
           {
            "cells": {
             "fill": {
              "color": "#EBF0F8"
             },
             "line": {
              "color": "white"
             }
            },
            "header": {
             "fill": {
              "color": "#C8D4E3"
             },
             "line": {
              "color": "white"
             }
            },
            "type": "table"
           }
          ]
         },
         "layout": {
          "annotationdefaults": {
           "arrowcolor": "#2a3f5f",
           "arrowhead": 0,
           "arrowwidth": 1
          },
          "autotypenumbers": "strict",
          "coloraxis": {
           "colorbar": {
            "outlinewidth": 0,
            "ticks": ""
           }
          },
          "colorscale": {
           "diverging": [
            [
             0,
             "#8e0152"
            ],
            [
             0.1,
             "#c51b7d"
            ],
            [
             0.2,
             "#de77ae"
            ],
            [
             0.3,
             "#f1b6da"
            ],
            [
             0.4,
             "#fde0ef"
            ],
            [
             0.5,
             "#f7f7f7"
            ],
            [
             0.6,
             "#e6f5d0"
            ],
            [
             0.7,
             "#b8e186"
            ],
            [
             0.8,
             "#7fbc41"
            ],
            [
             0.9,
             "#4d9221"
            ],
            [
             1,
             "#276419"
            ]
           ],
           "sequential": [
            [
             0,
             "#0d0887"
            ],
            [
             0.1111111111111111,
             "#46039f"
            ],
            [
             0.2222222222222222,
             "#7201a8"
            ],
            [
             0.3333333333333333,
             "#9c179e"
            ],
            [
             0.4444444444444444,
             "#bd3786"
            ],
            [
             0.5555555555555556,
             "#d8576b"
            ],
            [
             0.6666666666666666,
             "#ed7953"
            ],
            [
             0.7777777777777778,
             "#fb9f3a"
            ],
            [
             0.8888888888888888,
             "#fdca26"
            ],
            [
             1,
             "#f0f921"
            ]
           ],
           "sequentialminus": [
            [
             0,
             "#0d0887"
            ],
            [
             0.1111111111111111,
             "#46039f"
            ],
            [
             0.2222222222222222,
             "#7201a8"
            ],
            [
             0.3333333333333333,
             "#9c179e"
            ],
            [
             0.4444444444444444,
             "#bd3786"
            ],
            [
             0.5555555555555556,
             "#d8576b"
            ],
            [
             0.6666666666666666,
             "#ed7953"
            ],
            [
             0.7777777777777778,
             "#fb9f3a"
            ],
            [
             0.8888888888888888,
             "#fdca26"
            ],
            [
             1,
             "#f0f921"
            ]
           ]
          },
          "colorway": [
           "#636efa",
           "#EF553B",
           "#00cc96",
           "#ab63fa",
           "#FFA15A",
           "#19d3f3",
           "#FF6692",
           "#B6E880",
           "#FF97FF",
           "#FECB52"
          ],
          "font": {
           "color": "#2a3f5f"
          },
          "geo": {
           "bgcolor": "white",
           "lakecolor": "white",
           "landcolor": "#E5ECF6",
           "showlakes": true,
           "showland": true,
           "subunitcolor": "white"
          },
          "hoverlabel": {
           "align": "left"
          },
          "hovermode": "closest",
          "mapbox": {
           "style": "light"
          },
          "paper_bgcolor": "white",
          "plot_bgcolor": "#E5ECF6",
          "polar": {
           "angularaxis": {
            "gridcolor": "white",
            "linecolor": "white",
            "ticks": ""
           },
           "bgcolor": "#E5ECF6",
           "radialaxis": {
            "gridcolor": "white",
            "linecolor": "white",
            "ticks": ""
           }
          },
          "scene": {
           "xaxis": {
            "backgroundcolor": "#E5ECF6",
            "gridcolor": "white",
            "gridwidth": 2,
            "linecolor": "white",
            "showbackground": true,
            "ticks": "",
            "zerolinecolor": "white"
           },
           "yaxis": {
            "backgroundcolor": "#E5ECF6",
            "gridcolor": "white",
            "gridwidth": 2,
            "linecolor": "white",
            "showbackground": true,
            "ticks": "",
            "zerolinecolor": "white"
           },
           "zaxis": {
            "backgroundcolor": "#E5ECF6",
            "gridcolor": "white",
            "gridwidth": 2,
            "linecolor": "white",
            "showbackground": true,
            "ticks": "",
            "zerolinecolor": "white"
           }
          },
          "shapedefaults": {
           "line": {
            "color": "#2a3f5f"
           }
          },
          "ternary": {
           "aaxis": {
            "gridcolor": "white",
            "linecolor": "white",
            "ticks": ""
           },
           "baxis": {
            "gridcolor": "white",
            "linecolor": "white",
            "ticks": ""
           },
           "bgcolor": "#E5ECF6",
           "caxis": {
            "gridcolor": "white",
            "linecolor": "white",
            "ticks": ""
           }
          },
          "title": {
           "x": 0.05
          },
          "xaxis": {
           "automargin": true,
           "gridcolor": "white",
           "linecolor": "white",
           "ticks": "",
           "title": {
            "standoff": 15
           },
           "zerolinecolor": "white",
           "zerolinewidth": 2
          },
          "yaxis": {
           "automargin": true,
           "gridcolor": "white",
           "linecolor": "white",
           "ticks": "",
           "title": {
            "standoff": 15
           },
           "zerolinecolor": "white",
           "zerolinewidth": 2
          }
         }
        },
        "title": {
         "text": "",
         "x": 0.5
        },
        "width": 920,
        "xaxis": {
         "title": {
          "text": "Input"
         }
        },
        "yaxis": {
         "title": {
          "text": "Layer"
         }
        }
       }
      }
     },
     "metadata": {},
     "output_type": "display_data"
    }
   ],
   "source": [
    "pred_traj_ablated.log_prob_diff(delta=True).clip(*log_prob_range).figure()"
   ]
  },
  {
   "cell_type": "code",
   "execution_count": 149,
   "metadata": {},
   "outputs": [
    {
     "data": {
      "application/vnd.plotly.v1+json": {
       "config": {
        "plotlyServerURL": "https://plot.ly"
       },
       "data": [
        {
         "colorbar": {
          "title": {
           "side": "right",
           "text": "Δ Log Prob Difference (nats)"
          }
         },
         "type": "heatmap",
         "x": [
          "<|endoftext|>",
          "ĠThe‌",
          "Ġwar‌‌",
          "Ġlasted‌‌‌",
          "Ġfrom‌‌‌‌",
          "*‌‌‌‌‌",
          "*‌‌‌‌‌‌",
          "Ġto‌‌‌‌‌‌‌",
          "*‌‌‌‌‌‌‌‌"
         ],
         "y": [
          "0",
          "1",
          "2",
          "3",
          "4",
          "5",
          "6",
          "7",
          "8",
          "9",
          "10",
          "11"
         ],
         "z": [
          [
           0,
           0,
           0,
           0,
           0,
           0,
           0,
           0,
           2
          ],
          [
           0,
           0,
           0,
           0,
           0,
           0,
           0,
           0,
           0.16409754753112793
          ],
          [
           0,
           0,
           0,
           0,
           0,
           0,
           0,
           0,
           0.31389695405960083
          ],
          [
           0,
           0,
           0,
           0,
           0,
           0,
           0,
           0,
           0.05725507810711861
          ],
          [
           0,
           0,
           0,
           0,
           0,
           0,
           0,
           0,
           0.29888659715652466
          ],
          [
           0,
           0,
           0,
           0,
           0,
           0,
           0,
           0,
           0.25136739015579224
          ],
          [
           0,
           0,
           0,
           0,
           0,
           0,
           0,
           0,
           -0.17415714263916016
          ],
          [
           0,
           0,
           0,
           0,
           0,
           0,
           0,
           0,
           0.17318685352802277
          ],
          [
           0,
           0,
           0,
           0,
           0,
           0,
           0,
           0,
           0.5654354095458984
          ],
          [
           0,
           0,
           0,
           0,
           0,
           0,
           0,
           0,
           0.9143342971801758
          ],
          [
           0,
           0,
           0,
           0,
           0,
           0,
           0,
           0,
           1.5304807424545288
          ],
          [
           0,
           0,
           0,
           0,
           0,
           0,
           0,
           0,
           -1.5651652812957764
          ]
         ],
         "zmax": 2,
         "zmin": -2
        }
       ],
       "layout": {
        "template": {
         "data": {
          "bar": [
           {
            "error_x": {
             "color": "#2a3f5f"
            },
            "error_y": {
             "color": "#2a3f5f"
            },
            "marker": {
             "line": {
              "color": "#E5ECF6",
              "width": 0.5
             },
             "pattern": {
              "fillmode": "overlay",
              "size": 10,
              "solidity": 0.2
             }
            },
            "type": "bar"
           }
          ],
          "barpolar": [
           {
            "marker": {
             "line": {
              "color": "#E5ECF6",
              "width": 0.5
             },
             "pattern": {
              "fillmode": "overlay",
              "size": 10,
              "solidity": 0.2
             }
            },
            "type": "barpolar"
           }
          ],
          "carpet": [
           {
            "aaxis": {
             "endlinecolor": "#2a3f5f",
             "gridcolor": "white",
             "linecolor": "white",
             "minorgridcolor": "white",
             "startlinecolor": "#2a3f5f"
            },
            "baxis": {
             "endlinecolor": "#2a3f5f",
             "gridcolor": "white",
             "linecolor": "white",
             "minorgridcolor": "white",
             "startlinecolor": "#2a3f5f"
            },
            "type": "carpet"
           }
          ],
          "choropleth": [
           {
            "colorbar": {
             "outlinewidth": 0,
             "ticks": ""
            },
            "type": "choropleth"
           }
          ],
          "contour": [
           {
            "colorbar": {
             "outlinewidth": 0,
             "ticks": ""
            },
            "colorscale": [
             [
              0,
              "#0d0887"
             ],
             [
              0.1111111111111111,
              "#46039f"
             ],
             [
              0.2222222222222222,
              "#7201a8"
             ],
             [
              0.3333333333333333,
              "#9c179e"
             ],
             [
              0.4444444444444444,
              "#bd3786"
             ],
             [
              0.5555555555555556,
              "#d8576b"
             ],
             [
              0.6666666666666666,
              "#ed7953"
             ],
             [
              0.7777777777777778,
              "#fb9f3a"
             ],
             [
              0.8888888888888888,
              "#fdca26"
             ],
             [
              1,
              "#f0f921"
             ]
            ],
            "type": "contour"
           }
          ],
          "contourcarpet": [
           {
            "colorbar": {
             "outlinewidth": 0,
             "ticks": ""
            },
            "type": "contourcarpet"
           }
          ],
          "heatmap": [
           {
            "colorbar": {
             "outlinewidth": 0,
             "ticks": ""
            },
            "colorscale": [
             [
              0,
              "#0d0887"
             ],
             [
              0.1111111111111111,
              "#46039f"
             ],
             [
              0.2222222222222222,
              "#7201a8"
             ],
             [
              0.3333333333333333,
              "#9c179e"
             ],
             [
              0.4444444444444444,
              "#bd3786"
             ],
             [
              0.5555555555555556,
              "#d8576b"
             ],
             [
              0.6666666666666666,
              "#ed7953"
             ],
             [
              0.7777777777777778,
              "#fb9f3a"
             ],
             [
              0.8888888888888888,
              "#fdca26"
             ],
             [
              1,
              "#f0f921"
             ]
            ],
            "type": "heatmap"
           }
          ],
          "heatmapgl": [
           {
            "colorbar": {
             "outlinewidth": 0,
             "ticks": ""
            },
            "colorscale": [
             [
              0,
              "#0d0887"
             ],
             [
              0.1111111111111111,
              "#46039f"
             ],
             [
              0.2222222222222222,
              "#7201a8"
             ],
             [
              0.3333333333333333,
              "#9c179e"
             ],
             [
              0.4444444444444444,
              "#bd3786"
             ],
             [
              0.5555555555555556,
              "#d8576b"
             ],
             [
              0.6666666666666666,
              "#ed7953"
             ],
             [
              0.7777777777777778,
              "#fb9f3a"
             ],
             [
              0.8888888888888888,
              "#fdca26"
             ],
             [
              1,
              "#f0f921"
             ]
            ],
            "type": "heatmapgl"
           }
          ],
          "histogram": [
           {
            "marker": {
             "pattern": {
              "fillmode": "overlay",
              "size": 10,
              "solidity": 0.2
             }
            },
            "type": "histogram"
           }
          ],
          "histogram2d": [
           {
            "colorbar": {
             "outlinewidth": 0,
             "ticks": ""
            },
            "colorscale": [
             [
              0,
              "#0d0887"
             ],
             [
              0.1111111111111111,
              "#46039f"
             ],
             [
              0.2222222222222222,
              "#7201a8"
             ],
             [
              0.3333333333333333,
              "#9c179e"
             ],
             [
              0.4444444444444444,
              "#bd3786"
             ],
             [
              0.5555555555555556,
              "#d8576b"
             ],
             [
              0.6666666666666666,
              "#ed7953"
             ],
             [
              0.7777777777777778,
              "#fb9f3a"
             ],
             [
              0.8888888888888888,
              "#fdca26"
             ],
             [
              1,
              "#f0f921"
             ]
            ],
            "type": "histogram2d"
           }
          ],
          "histogram2dcontour": [
           {
            "colorbar": {
             "outlinewidth": 0,
             "ticks": ""
            },
            "colorscale": [
             [
              0,
              "#0d0887"
             ],
             [
              0.1111111111111111,
              "#46039f"
             ],
             [
              0.2222222222222222,
              "#7201a8"
             ],
             [
              0.3333333333333333,
              "#9c179e"
             ],
             [
              0.4444444444444444,
              "#bd3786"
             ],
             [
              0.5555555555555556,
              "#d8576b"
             ],
             [
              0.6666666666666666,
              "#ed7953"
             ],
             [
              0.7777777777777778,
              "#fb9f3a"
             ],
             [
              0.8888888888888888,
              "#fdca26"
             ],
             [
              1,
              "#f0f921"
             ]
            ],
            "type": "histogram2dcontour"
           }
          ],
          "mesh3d": [
           {
            "colorbar": {
             "outlinewidth": 0,
             "ticks": ""
            },
            "type": "mesh3d"
           }
          ],
          "parcoords": [
           {
            "line": {
             "colorbar": {
              "outlinewidth": 0,
              "ticks": ""
             }
            },
            "type": "parcoords"
           }
          ],
          "pie": [
           {
            "automargin": true,
            "type": "pie"
           }
          ],
          "scatter": [
           {
            "fillpattern": {
             "fillmode": "overlay",
             "size": 10,
             "solidity": 0.2
            },
            "type": "scatter"
           }
          ],
          "scatter3d": [
           {
            "line": {
             "colorbar": {
              "outlinewidth": 0,
              "ticks": ""
             }
            },
            "marker": {
             "colorbar": {
              "outlinewidth": 0,
              "ticks": ""
             }
            },
            "type": "scatter3d"
           }
          ],
          "scattercarpet": [
           {
            "marker": {
             "colorbar": {
              "outlinewidth": 0,
              "ticks": ""
             }
            },
            "type": "scattercarpet"
           }
          ],
          "scattergeo": [
           {
            "marker": {
             "colorbar": {
              "outlinewidth": 0,
              "ticks": ""
             }
            },
            "type": "scattergeo"
           }
          ],
          "scattergl": [
           {
            "marker": {
             "colorbar": {
              "outlinewidth": 0,
              "ticks": ""
             }
            },
            "type": "scattergl"
           }
          ],
          "scattermapbox": [
           {
            "marker": {
             "colorbar": {
              "outlinewidth": 0,
              "ticks": ""
             }
            },
            "type": "scattermapbox"
           }
          ],
          "scatterpolar": [
           {
            "marker": {
             "colorbar": {
              "outlinewidth": 0,
              "ticks": ""
             }
            },
            "type": "scatterpolar"
           }
          ],
          "scatterpolargl": [
           {
            "marker": {
             "colorbar": {
              "outlinewidth": 0,
              "ticks": ""
             }
            },
            "type": "scatterpolargl"
           }
          ],
          "scatterternary": [
           {
            "marker": {
             "colorbar": {
              "outlinewidth": 0,
              "ticks": ""
             }
            },
            "type": "scatterternary"
           }
          ],
          "surface": [
           {
            "colorbar": {
             "outlinewidth": 0,
             "ticks": ""
            },
            "colorscale": [
             [
              0,
              "#0d0887"
             ],
             [
              0.1111111111111111,
              "#46039f"
             ],
             [
              0.2222222222222222,
              "#7201a8"
             ],
             [
              0.3333333333333333,
              "#9c179e"
             ],
             [
              0.4444444444444444,
              "#bd3786"
             ],
             [
              0.5555555555555556,
              "#d8576b"
             ],
             [
              0.6666666666666666,
              "#ed7953"
             ],
             [
              0.7777777777777778,
              "#fb9f3a"
             ],
             [
              0.8888888888888888,
              "#fdca26"
             ],
             [
              1,
              "#f0f921"
             ]
            ],
            "type": "surface"
           }
          ],
          "table": [
           {
            "cells": {
             "fill": {
              "color": "#EBF0F8"
             },
             "line": {
              "color": "white"
             }
            },
            "header": {
             "fill": {
              "color": "#C8D4E3"
             },
             "line": {
              "color": "white"
             }
            },
            "type": "table"
           }
          ]
         },
         "layout": {
          "annotationdefaults": {
           "arrowcolor": "#2a3f5f",
           "arrowhead": 0,
           "arrowwidth": 1
          },
          "autotypenumbers": "strict",
          "coloraxis": {
           "colorbar": {
            "outlinewidth": 0,
            "ticks": ""
           }
          },
          "colorscale": {
           "diverging": [
            [
             0,
             "#8e0152"
            ],
            [
             0.1,
             "#c51b7d"
            ],
            [
             0.2,
             "#de77ae"
            ],
            [
             0.3,
             "#f1b6da"
            ],
            [
             0.4,
             "#fde0ef"
            ],
            [
             0.5,
             "#f7f7f7"
            ],
            [
             0.6,
             "#e6f5d0"
            ],
            [
             0.7,
             "#b8e186"
            ],
            [
             0.8,
             "#7fbc41"
            ],
            [
             0.9,
             "#4d9221"
            ],
            [
             1,
             "#276419"
            ]
           ],
           "sequential": [
            [
             0,
             "#0d0887"
            ],
            [
             0.1111111111111111,
             "#46039f"
            ],
            [
             0.2222222222222222,
             "#7201a8"
            ],
            [
             0.3333333333333333,
             "#9c179e"
            ],
            [
             0.4444444444444444,
             "#bd3786"
            ],
            [
             0.5555555555555556,
             "#d8576b"
            ],
            [
             0.6666666666666666,
             "#ed7953"
            ],
            [
             0.7777777777777778,
             "#fb9f3a"
            ],
            [
             0.8888888888888888,
             "#fdca26"
            ],
            [
             1,
             "#f0f921"
            ]
           ],
           "sequentialminus": [
            [
             0,
             "#0d0887"
            ],
            [
             0.1111111111111111,
             "#46039f"
            ],
            [
             0.2222222222222222,
             "#7201a8"
            ],
            [
             0.3333333333333333,
             "#9c179e"
            ],
            [
             0.4444444444444444,
             "#bd3786"
            ],
            [
             0.5555555555555556,
             "#d8576b"
            ],
            [
             0.6666666666666666,
             "#ed7953"
            ],
            [
             0.7777777777777778,
             "#fb9f3a"
            ],
            [
             0.8888888888888888,
             "#fdca26"
            ],
            [
             1,
             "#f0f921"
            ]
           ]
          },
          "colorway": [
           "#636efa",
           "#EF553B",
           "#00cc96",
           "#ab63fa",
           "#FFA15A",
           "#19d3f3",
           "#FF6692",
           "#B6E880",
           "#FF97FF",
           "#FECB52"
          ],
          "font": {
           "color": "#2a3f5f"
          },
          "geo": {
           "bgcolor": "white",
           "lakecolor": "white",
           "landcolor": "#E5ECF6",
           "showlakes": true,
           "showland": true,
           "subunitcolor": "white"
          },
          "hoverlabel": {
           "align": "left"
          },
          "hovermode": "closest",
          "mapbox": {
           "style": "light"
          },
          "paper_bgcolor": "white",
          "plot_bgcolor": "#E5ECF6",
          "polar": {
           "angularaxis": {
            "gridcolor": "white",
            "linecolor": "white",
            "ticks": ""
           },
           "bgcolor": "#E5ECF6",
           "radialaxis": {
            "gridcolor": "white",
            "linecolor": "white",
            "ticks": ""
           }
          },
          "scene": {
           "xaxis": {
            "backgroundcolor": "#E5ECF6",
            "gridcolor": "white",
            "gridwidth": 2,
            "linecolor": "white",
            "showbackground": true,
            "ticks": "",
            "zerolinecolor": "white"
           },
           "yaxis": {
            "backgroundcolor": "#E5ECF6",
            "gridcolor": "white",
            "gridwidth": 2,
            "linecolor": "white",
            "showbackground": true,
            "ticks": "",
            "zerolinecolor": "white"
           },
           "zaxis": {
            "backgroundcolor": "#E5ECF6",
            "gridcolor": "white",
            "gridwidth": 2,
            "linecolor": "white",
            "showbackground": true,
            "ticks": "",
            "zerolinecolor": "white"
           }
          },
          "shapedefaults": {
           "line": {
            "color": "#2a3f5f"
           }
          },
          "ternary": {
           "aaxis": {
            "gridcolor": "white",
            "linecolor": "white",
            "ticks": ""
           },
           "baxis": {
            "gridcolor": "white",
            "linecolor": "white",
            "ticks": ""
           },
           "bgcolor": "#E5ECF6",
           "caxis": {
            "gridcolor": "white",
            "linecolor": "white",
            "ticks": ""
           }
          },
          "title": {
           "x": 0.05
          },
          "xaxis": {
           "automargin": true,
           "gridcolor": "white",
           "linecolor": "white",
           "ticks": "",
           "title": {
            "standoff": 15
           },
           "zerolinecolor": "white",
           "zerolinewidth": 2
          },
          "yaxis": {
           "automargin": true,
           "gridcolor": "white",
           "linecolor": "white",
           "ticks": "",
           "title": {
            "standoff": 15
           },
           "zerolinecolor": "white",
           "zerolinewidth": 2
          }
         }
        },
        "title": {
         "text": "",
         "x": 0.5
        },
        "width": 920,
        "xaxis": {
         "title": {
          "text": "Input"
         }
        },
        "yaxis": {
         "title": {
          "text": "Layer"
         }
        }
       }
      }
     },
     "metadata": {},
     "output_type": "display_data"
    }
   ],
   "source": [
    "import numpy as np\n",
    "pred_traj_ablated_logit.log_prob_diff(delta=True).clip(*log_prob_range).figure()"
   ]
  },
  {
   "attachments": {},
   "cell_type": "markdown",
   "metadata": {},
   "source": [
    "## How much collateral damage does ablating the above components cause?\n",
    "An interesting question we can answerer with the tuned lens is what other capabilities have\n",
    "our edits effected?\n",
    "\n",
    "Note the code bellow assumes you are using zero ablation."
   ]
  },
  {
   "cell_type": "code",
   "execution_count": 150,
   "metadata": {},
   "outputs": [
    {
     "data": {
      "application/vnd.jupyter.widget-view+json": {
       "model_id": "c318ee243b854e17817f4d95a9d7da2e",
       "version_major": 2,
       "version_minor": 0
      },
      "text/plain": [
       "  0%|          | 0/10 [00:00<?, ?it/s]"
      ]
     },
     "metadata": {},
     "output_type": "display_data"
    },
    {
     "data": {
      "application/vnd.plotly.v1+json": {
       "config": {
        "plotlyServerURL": "https://plot.ly"
       },
       "data": [
        {
         "colorbar": {
          "title": {
           "side": "right",
           "text": "KL(Self | Other) (nats)"
          }
         },
         "colorscale": [
          [
           0,
           "rgb(5,48,97)"
          ],
          [
           0.1,
           "rgb(33,102,172)"
          ],
          [
           0.2,
           "rgb(67,147,195)"
          ],
          [
           0.3,
           "rgb(146,197,222)"
          ],
          [
           0.4,
           "rgb(209,229,240)"
          ],
          [
           0.5,
           "rgb(247,247,247)"
          ],
          [
           0.6,
           "rgb(253,219,199)"
          ],
          [
           0.7,
           "rgb(244,165,130)"
          ],
          [
           0.8,
           "rgb(214,96,77)"
          ],
          [
           0.9,
           "rgb(178,24,43)"
          ],
          [
           1,
           "rgb(103,0,31)"
          ]
         ],
         "customdata": [
          [
           [
            " _defen…",
            "  Δ0.00%",
            " _Bryant",
            "  Δ0.00%",
            "  _Laura",
            "  Δ0.00%",
            " _smili…",
            "  Δ0.00%",
            "  _Catal",
            "  Δ0.00%",
            "     _Tu",
            "  Δ0.00%",
            " _spark…",
            "  Δ0.00%",
            "  icides",
            "  Δ0.00%",
            "    _Dex",
            "  Δ0.00%",
            " <|endo…",
            "  Δ0.00%"
           ],
           [
            " _defen…",
            "  Δ0.00%",
            " _Bryant",
            "  Δ0.00%",
            "  _Laura",
            "  Δ0.00%",
            " _smili…",
            "  Δ0.00%",
            "  _Catal",
            "  Δ0.00%",
            "     _Tu",
            "  Δ0.00%",
            " _spark…",
            "  Δ0.00%",
            "  icides",
            "  Δ0.00%",
            "    _Dex",
            "  Δ0.00%",
            " <|endo…",
            "  Δ0.00%"
           ],
           [
            " _defen…",
            "  Δ0.00%",
            " _Bryant",
            "  Δ0.00%",
            "  _Laura",
            "  Δ0.00%",
            " _smili…",
            "  Δ0.00%",
            "  _Catal",
            "  Δ0.00%",
            "     _Tu",
            "  Δ0.00%",
            " _spark…",
            "  Δ0.00%",
            "  icides",
            "  Δ0.00%",
            "    _Dex",
            "  Δ0.00%",
            " <|endo…",
            "  Δ0.00%"
           ],
           [
            " _defen…",
            "  Δ0.00%",
            " _Bryant",
            "  Δ0.00%",
            "  _Laura",
            "  Δ0.00%",
            " _smili…",
            "  Δ0.00%",
            "  _Catal",
            "  Δ0.00%",
            "     _Tu",
            "  Δ0.00%",
            " _spark…",
            "  Δ0.00%",
            "  icides",
            "  Δ0.00%",
            "    _Dex",
            "  Δ0.00%",
            " <|endo…",
            "  Δ0.00%"
           ],
           [
            " _defen…",
            "  Δ0.00%",
            " _Bryant",
            "  Δ0.00%",
            "  _Laura",
            "  Δ0.00%",
            " _smili…",
            "  Δ0.00%",
            "  _Catal",
            "  Δ0.00%",
            "     _Tu",
            "  Δ0.00%",
            " _spark…",
            "  Δ0.00%",
            "  icides",
            "  Δ0.00%",
            "    _Dex",
            "  Δ0.00%",
            " <|endo…",
            "  Δ0.00%"
           ],
           [
            " _defen…",
            "  Δ0.00%",
            " _Bryant",
            "  Δ0.00%",
            "  _Laura",
            "  Δ0.00%",
            " _smili…",
            "  Δ0.00%",
            "  _Catal",
            "  Δ0.00%",
            "     _Tu",
            "  Δ0.00%",
            " _spark…",
            "  Δ0.00%",
            "  icides",
            "  Δ0.00%",
            "    _Dex",
            "  Δ0.00%",
            " <|endo…",
            "  Δ0.00%"
           ],
           [
            " _defen…",
            "  Δ0.00%",
            " _Bryant",
            "  Δ0.00%",
            "  _Laura",
            "  Δ0.00%",
            " _smili…",
            "  Δ0.00%",
            "  _Catal",
            "  Δ0.00%",
            "     _Tu",
            "  Δ0.00%",
            " _spark…",
            "  Δ0.00%",
            "  icides",
            "  Δ0.00%",
            "    _Dex",
            "  Δ0.00%",
            " <|endo…",
            "  Δ0.00%"
           ],
           [
            " _defen…",
            "  Δ0.00%",
            " _Bryant",
            "  Δ0.00%",
            "  _Laura",
            "  Δ0.00%",
            " _smili…",
            "  Δ0.00%",
            "  _Catal",
            "  Δ0.00%",
            "     _Tu",
            "  Δ0.00%",
            " _spark…",
            "  Δ0.00%",
            "  icides",
            "  Δ0.00%",
            "    _Dex",
            "  Δ0.00%",
            " <|endo…",
            "  Δ0.00%"
           ],
           [
            " _defen…",
            "  Δ0.00%",
            " _Bryant",
            "  Δ0.00%",
            "  _Laura",
            "  Δ0.00%",
            " _smili…",
            "  Δ0.00%",
            "  _Catal",
            "  Δ0.00%",
            "     _Tu",
            "  Δ0.00%",
            " _spark…",
            "  Δ0.00%",
            "  icides",
            "  Δ0.00%",
            "    _Dex",
            "  Δ0.00%",
            " <|endo…",
            "  Δ0.00%"
           ],
           [
            " _defen…",
            "  Δ0.00%",
            " _Bryant",
            "  Δ0.00%",
            "  _Laura",
            "  Δ0.00%",
            " _smili…",
            "  Δ0.00%",
            "  _Catal",
            "  Δ0.00%",
            "     _Tu",
            "  Δ0.00%",
            " _spark…",
            "  Δ0.00%",
            "  icides",
            "  Δ0.00%",
            "    _Dex",
            "  Δ0.00%",
            " <|endo…",
            "  Δ0.00%"
           ],
           [
            " _defen…",
            "  Δ0.00%",
            " _Bryant",
            "  Δ0.00%",
            "  _Laura",
            "  Δ0.00%",
            " _smili…",
            "  Δ0.00%",
            "  _Catal",
            "  Δ0.00%",
            "     _Tu",
            "  Δ0.00%",
            " _spark…",
            "  Δ0.00%",
            "  icides",
            "  Δ0.00%",
            "    _Dex",
            "  Δ0.00%",
            " <|endo…",
            "  Δ0.00%"
           ],
           [
            " _defen…",
            "  Δ0.00%",
            " _Bryant",
            "  Δ0.00%",
            "  _Laura",
            "  Δ0.00%",
            " _smili…",
            "  Δ0.00%",
            "  _Catal",
            "  Δ0.00%",
            "     _Tu",
            "  Δ0.00%",
            " _spark…",
            "  Δ0.00%",
            "  icides",
            "  Δ0.00%",
            "    _Dex",
            "  Δ0.00%",
            " <|endo…",
            "  Δ0.00%"
           ],
           [
            " _defen…",
            "  Δ0.00%",
            " _Bryant",
            "  Δ0.00%",
            "  _Laura",
            "  Δ0.00%",
            " _smili…",
            "  Δ0.00%",
            "  _Catal",
            "  Δ0.00%",
            "     _Tu",
            "  Δ0.00%",
            " _spark…",
            "  Δ0.00%",
            "  icides",
            "  Δ0.00%",
            "    _Dex",
            "  Δ0.00%",
            " <|endo…",
            "  Δ0.00%"
           ],
           [
            " _defen…",
            "  Δ0.00%",
            " _Bryant",
            "  Δ0.00%",
            "  _Laura",
            "  Δ0.00%",
            " _smili…",
            "  Δ0.00%",
            "  _Catal",
            "  Δ0.00%",
            "     _Tu",
            "  Δ0.00%",
            " _spark…",
            "  Δ0.00%",
            "  icides",
            "  Δ0.00%",
            "    _Dex",
            "  Δ0.00%",
            " <|endo…",
            "  Δ0.00%"
           ],
           [
            " _defen…",
            "  Δ0.00%",
            " _Bryant",
            "  Δ0.00%",
            "  _Laura",
            "  Δ0.00%",
            " _smili…",
            "  Δ0.00%",
            "  _Catal",
            "  Δ0.00%",
            "     _Tu",
            "  Δ0.00%",
            " _spark…",
            "  Δ0.00%",
            "  icides",
            "  Δ0.00%",
            "    _Dex",
            "  Δ0.00%",
            " <|endo…",
            "  Δ0.00%"
           ],
           [
            " _defen…",
            "  Δ0.00%",
            " _Bryant",
            "  Δ0.00%",
            "  _Laura",
            "  Δ0.00%",
            " _smili…",
            "  Δ0.00%",
            "  _Catal",
            "  Δ0.00%",
            "     _Tu",
            "  Δ0.00%",
            " _spark…",
            "  Δ0.00%",
            "  icides",
            "  Δ0.00%",
            "    _Dex",
            "  Δ0.00%",
            " <|endo…",
            "  Δ0.00%"
           ]
          ],
          [
           [
            "      \\n",
            "  Δ0.00%",
            "     The",
            "  Δ0.00%",
            "       P",
            " Δ-0.00%",
            "      It",
            " Δ-0.00%",
            "       I",
            " Δ-0.00%",
            "       S",
            " Δ-0.00%",
            "   Share",
            " Δ-0.00%",
            "       G",
            " Δ-0.00%",
            "       \"",
            "  Δ0.00%",
            "    What",
            " Δ-0.00%"
           ],
           [
            "       :",
            "  Δ0.00%",
            "     _in",
            "  Δ0.00%",
            "       .",
            "  Δ0.00%",
            "      \\n",
            "  Δ0.00%",
            "     _of",
            "  Δ0.00%",
            "     _to",
            "  Δ0.00%",
            "     _is",
            " Δ-0.00%",
            "    _and",
            " Δ-0.00%",
            "   _with",
            " Δ-0.00%",
            "   _that",
            "  Δ0.00%"
           ],
           [
            "     've",
            "  Δ0.00%",
            "     'll",
            "  Δ0.00%",
            "   _know",
            "  Δ0.00%",
            "     _am",
            "  Δ0.00%",
            "    _was",
            " Δ-0.00%",
            "  _think",
            "  Δ0.00%",
            "    _don",
            "  Δ0.00%",
            "  _would",
            " Δ-0.00%",
            "      'd",
            " Δ-0.00%",
            "      \\n",
            "  Δ0.00%"
           ],
           [
            "    _the",
            " Δ-0.00%",
            "     _to",
            "  Δ0.00%",
            "    _you",
            "  Δ0.00%",
            "       ,",
            "  Δ0.00%",
            "   _your",
            "  Δ0.00%",
            "   _this",
            "  Δ0.00%",
            "      _a",
            " Δ-0.00%",
            "      \\n",
            "  Δ0.00%",
            "     _an",
            " Δ-0.00%",
            "    _for",
            " Δ-0.00%"
           ],
           [
            "    _out",
            "  Δ0.00%",
            "     _to",
            "  Δ0.00%",
            "    _for",
            "  Δ0.00%",
            "      _a",
            "  Δ0.00%",
            "     _is",
            "  Δ0.00%",
            "    _can",
            " Δ-0.00%",
            "   _were",
            " Δ-0.00%",
            "    _all",
            "  Δ0.00%",
            "      \\n",
            "  Δ0.00%",
            "   _that",
            " Δ-0.00%"
           ],
           [
            "      \\n",
            "  Δ0.00%",
            "      _I",
            " Δ-0.00%",
            "     _It",
            " Δ-0.00%",
            "    _The",
            " Δ-0.00%",
            "    \\n\\n",
            " Δ-0.00%",
            "     _We",
            "  Δ0.00%",
            "      _\"",
            " Δ-0.00%",
            "    _You",
            " Δ-0.00%",
            "    _and",
            " Δ-0.00%",
            "   _What",
            " Δ-0.00%"
           ],
           [
            "  atonin",
            "  Δ0.00%",
            "    inda",
            " Δ-0.00%",
            "      ol",
            " Δ-0.00%",
            "     ony",
            " Δ-0.00%",
            "    aser",
            " Δ-0.00%",
            "       b",
            " Δ-0.00%",
            "      an",
            "  Δ0.00%",
            "    odic",
            " Δ-0.00%",
            "     ias",
            "  Δ0.00%",
            "    onse",
            " Δ-0.00%"
           ],
           [
            "     _on",
            " Δ-0.00%",
            "    _and",
            "  Δ0.00%",
            "       ,",
            "  Δ0.00%",
            "       :",
            " Δ-0.00%",
            "     _by",
            "  Δ0.00%",
            "    _for",
            " Δ-0.00%",
            "   _that",
            " Δ-0.00%",
            "       .",
            "  Δ0.00%",
            "    _the",
            " Δ-0.00%",
            "     _in",
            "  Δ0.00%"
           ],
           [
            "       .",
            " Δ-0.00%",
            "  _Anime",
            "  Δ0.00%",
            "       ,",
            " Δ-0.00%",
            "       :",
            "  Δ0.00%",
            "     _is",
            "  Δ0.00%",
            "    _and",
            " Δ-0.00%",
            "      's",
            "  Δ0.00%",
            "       -",
            " Δ-0.00%",
            "       /",
            " Δ-0.00%",
            "      _(",
            "  Δ0.00%"
           ],
           [
            "     lem",
            "  Δ0.00%",
            "  aching",
            "  Δ0.00%",
            "   aches",
            "  Δ0.00%",
            "       z",
            " Δ-0.00%",
            "     ach",
            " Δ-0.00%",
            "      ak",
            "  Δ0.00%",
            "      au",
            "  Δ0.00%",
            "      as",
            "  Δ0.00%",
            "  achers",
            "  Δ0.00%",
            "      el",
            " Δ-0.00%"
           ],
           [
            "       .",
            " Δ-0.00%",
            "       '",
            "  Δ0.00%",
            "     _of",
            "  Δ0.00%",
            "    _are",
            " Δ-0.00%",
            "       -",
            " Δ-0.00%",
            "      an",
            "  Δ0.00%",
            "      _(",
            "  Δ0.00%",
            "   _that",
            "  Δ0.00%",
            "     _is",
            " Δ-0.00%",
            "     _in",
            "  Δ0.00%"
           ],
           [
            "       .",
            "  Δ0.00%",
            "      's",
            " Δ-0.00%",
            "       ,",
            "  Δ0.00%",
            "     ito",
            " Δ-0.00%",
            "       -",
            "  Δ0.00%",
            "    _and",
            " Δ-0.00%",
            "      \\n",
            " Δ-0.00%",
            "     _di",
            " Δ-0.00%",
            "       !",
            " Δ-0.00%",
            "       _",
            " Δ-0.00%"
           ],
           [
            "      'm",
            "  Δ0.00%",
            "     _am",
            " Δ-0.00%",
            "     've",
            "  Δ0.00%",
            "    _don",
            " Δ-0.00%",
            "    _can",
            " Δ-0.00%",
            " _belie…",
            "  Δ0.00%",
            "   _want",
            " Δ-0.00%",
            "      'd",
            "  Δ0.00%",
            "    _was",
            " Δ-0.00%",
            "  _would",
            "  Δ0.00%"
           ],
           [
            "      _a",
            "  Δ0.00%",
            "    _for",
            " Δ-0.00%",
            "     _to",
            " Δ-0.00%",
            "   _that",
            " Δ-0.00%",
            "     _as",
            "  Δ0.00%",
            "     _on",
            " Δ-0.00%",
            "     _in",
            " Δ-0.00%",
            "    _the",
            " Δ-0.00%",
            "    _you",
            " Δ-0.00%",
            "     _my",
            " Δ-0.00%"
           ],
           [
            "  _first",
            "  Δ0.00%",
            " _follo…",
            "  Δ0.00%",
            " _United",
            "  Δ0.00%",
            "  _other",
            " Δ-0.00%",
            "   _next",
            " Δ-0.00%",
            "      _D",
            "  Δ0.00%",
            " _quest…",
            "  Δ0.00%",
            "    _new",
            " Δ-0.00%",
            "   _most",
            "  Δ0.00%",
            "      _L",
            "  Δ0.00%"
           ],
           [
            "      _a",
            " Δ-0.00%",
            "    _the",
            " Δ-0.00%",
            "   _sure",
            " Δ-0.00%",
            " _certa…",
            " Δ-0.00%",
            "     _it",
            "  Δ0.00%",
            "     _my",
            " Δ-0.00%",
            "     _of",
            " Δ-0.00%",
            "       .",
            " Δ-0.00%",
            "    _one",
            " Δ-0.00%",
            "    _you",
            "  Δ0.00%"
           ]
          ],
          [
           [
            "       .",
            " Δ-0.00%",
            "       ,",
            "  Δ0.00%",
            "    _the",
            " Δ-0.00%",
            "      _(",
            " Δ-0.00%",
            "     _in",
            " Δ-0.00%",
            "     _of",
            "  Δ0.00%",
            "   _with",
            "  Δ0.00%",
            "     _to",
            " Δ-0.00%",
            "       \"",
            "  Δ0.00%",
            "      _\"",
            " Δ-0.00%"
           ],
           [
            "     _of",
            " Δ-0.00%",
            "       :",
            "  Δ0.00%",
            " _Numbe…",
            "  Δ0.00%",
            "      \\n",
            "  Δ0.00%",
            " _numbe…",
            "  Δ0.00%",
            "       ,",
            " Δ-0.00%",
            "     _on",
            "  Δ0.00%",
            "     _is",
            " Δ-0.00%",
            "    _and",
            " Δ-0.00%",
            "  _shows",
            "  Δ0.00%"
           ],
           [
            "      'm",
            "  Δ0.00%",
            "     've",
            "  Δ0.00%",
            "   _want",
            " Δ-0.00%",
            "    _don",
            " Δ-0.00%",
            "   _mean",
            " Δ-0.00%",
            "    _can",
            " Δ-0.00%",
            "    _was",
            "  Δ0.00%",
            "    _got",
            " Δ-0.00%",
            "    _had",
            " Δ-0.00%",
            "  _think",
            " Δ-0.00%"
           ],
           [
            "    _for",
            " Δ-0.00%",
            "      _a",
            "  Δ0.00%",
            "   _love",
            " Δ-0.00%",
            "    _you",
            " Δ-0.00%",
            "   _this",
            "  Δ0.00%",
            "     _it",
            "  Δ0.00%",
            "     _my",
            "  Δ0.00%",
            "   _that",
            "  Δ0.00%",
            "     _an",
            " Δ-0.00%",
            "   _your",
            "  Δ0.00%"
           ],
           [
            "     _in",
            " Δ-0.00%",
            "     _is",
            "  Δ0.00%",
            "    _are",
            "  Δ0.00%",
            "       ,",
            "  Δ0.00%",
            "   _both",
            "  Δ0.00%",
            "     _on",
            " Δ-0.00%",
            "       .",
            "  Δ0.00%",
            "     _to",
            "  Δ0.00%",
            "   _will",
            "  Δ0.00%",
            "    _for",
            "  Δ0.00%"
           ],
           [
            "      \\n",
            "  Δ0.00%",
            "   _What",
            " Δ-0.00%",
            "     _It",
            " Δ-0.00%",
            "    _You",
            "  Δ0.00%",
            "    _The",
            "  Δ0.00%",
            "      _I",
            " Δ-0.00%",
            "     _We",
            "  Δ0.00%",
            "    \\n\\n",
            "  Δ0.00%",
            "      _A",
            " Δ-0.00%",
            "    _But",
            " Δ-0.00%"
           ],
           [
            "  atonin",
            " Δ-0.00%",
            "   odies",
            " Δ-0.00%",
            "     one",
            " Δ-0.00%",
            "  bourne",
            "  Δ0.00%",
            "    aser",
            "  Δ0.00%",
            "    kins",
            "  Δ0.00%",
            "    inda",
            " Δ-0.00%",
            "    odic",
            " Δ-0.00%",
            "  anches",
            "  Δ0.00%",
            "     ich",
            "  Δ0.00%"
           ],
           [
            "     _by",
            "  Δ0.00%",
            "       ,",
            " Δ-0.00%",
            "    _the",
            "  Δ0.00%",
            "     _on",
            " Δ-0.00%",
            "       .",
            " Δ-0.00%",
            "      \\n",
            " Δ-0.00%",
            "     _at",
            "  Δ0.00%",
            "     _to",
            "  Δ0.00%",
            "   _with",
            "  Δ0.00%",
            "   _head",
            "  Δ0.00%"
           ],
           [
            "      \\n",
            " Δ-0.00%",
            "       :",
            " Δ-0.00%",
            "      's",
            "  Δ0.00%",
            "      _(",
            "  Δ0.00%",
            "  _Anime",
            "  Δ0.00%",
            "       /",
            " Δ-0.00%",
            "      _&",
            " Δ-0.00%",
            "       .",
            "  Δ0.00%",
            "     _as",
            " Δ-0.00%",
            "  _about",
            " Δ-0.00%"
           ],
           [
            "  aching",
            " Δ-0.00%",
            "   aches",
            " Δ-0.00%",
            "     lem",
            " Δ-0.00%",
            "   acher",
            " Δ-0.00%",
            " achable",
            "  Δ0.00%",
            "   aming",
            "  Δ0.00%",
            "     lev",
            " Δ-0.00%",
            "     amm",
            " Δ-0.00%",
            "  achers",
            "  Δ0.00%",
            "     ams",
            " Δ-0.00%"
           ],
           [
            "       ,",
            " Δ-0.00%",
            "       .",
            " Δ-0.00%",
            "      an",
            " Δ-0.00%",
            "      \\n",
            "  Δ0.00%",
            "       i",
            "  Δ0.00%",
            "     ane",
            "  Δ0.00%",
            "      ha",
            "  Δ0.00%",
            "      qu",
            "  Δ0.00%",
            "       :",
            "  Δ0.00%",
            "     cul",
            "  Δ0.00%"
           ],
           [
            "      's",
            " Δ-0.00%",
            "       ,",
            "  Δ0.00%",
            "    _and",
            " Δ-0.00%",
            "      _(",
            " Δ-0.00%",
            "     _is",
            "  Δ0.00%",
            "       .",
            "  Δ0.00%",
            "       !",
            "  Δ0.00%",
            "     ito",
            " Δ-0.00%",
            "    _has",
            "  Δ0.00%",
            "       :",
            " Δ-0.00%"
           ],
           [
            "     've",
            " Δ-0.00%",
            "    _don",
            "  Δ0.00%",
            "   _have",
            "  Δ0.00%",
            "      'm",
            "  Δ0.00%",
            "    _can",
            " Δ-0.00%",
            "   _know",
            " Δ-0.00%",
            "   _will",
            " Δ-0.00%",
            "    _was",
            " Δ-0.00%",
            " _belie…",
            " Δ-0.00%",
            "     _am",
            "  Δ0.00%"
           ],
           [
            "   _love",
            "  Δ0.00%",
            "     _to",
            " Δ-0.00%",
            "   _this",
            " Δ-0.00%",
            "      _a",
            " Δ-0.00%",
            "    _you",
            " Δ-0.00%",
            "     _it",
            "  Δ0.00%",
            "     _as",
            " Δ-0.00%",
            "       .",
            "  Δ0.00%",
            "    _the",
            "  Δ0.00%",
            "    _him",
            " Δ-0.00%"
           ],
           [
            "   _same",
            "  Δ0.00%",
            " _follo…",
            "  Δ0.00%",
            "    _way",
            " Δ-0.00%",
            "  _other",
            " Δ-0.00%",
            "   _last",
            " Δ-0.00%",
            "  _world",
            "  Δ0.00%",
            "      _\"",
            "  Δ0.00%",
            "  _right",
            "  Δ0.00%",
            "  _heart",
            " Δ-0.00%",
            "      _L",
            " Δ-0.00%"
           ],
           [
            "    _fun",
            "  Δ0.00%",
            "     _it",
            " Δ-0.00%",
            "    _the",
            " Δ-0.00%",
            "      _a",
            "  Δ0.00%",
            "       .",
            " Δ-0.00%",
            "     _an",
            " Δ-0.00%",
            "    _you",
            "  Δ0.00%",
            "     _my",
            "  Δ0.00%",
            "    _our",
            " Δ-0.00%",
            "       ,",
            " Δ-0.00%"
           ]
          ],
          [
           [
            "      \\n",
            "  Δ0.00%",
            "    _the",
            " Δ-0.00%",
            "       ,",
            "  Δ0.00%",
            "     _in",
            "  Δ0.00%",
            "    _was",
            " Δ-0.00%",
            "       .",
            "  Δ0.00%",
            "     _to",
            "  Δ0.00%",
            "      _\"",
            "  Δ0.00%",
            "   _that",
            "  Δ0.00%",
            "   _were",
            "  Δ0.00%"
           ],
           [
            "     _of",
            " Δ-0.00%",
            "       :",
            "  Δ0.00%",
            " _Numbe…",
            "  Δ0.00%",
            "       ,",
            "  Δ0.00%",
            "    _are",
            " Δ-0.00%",
            "      \\n",
            " Δ-0.00%",
            "     _in",
            " Δ-0.00%",
            "       .",
            " Δ-0.00%",
            " _numbe…",
            "  Δ0.00%",
            "     _is",
            " Δ-0.00%"
           ],
           [
            "      'm",
            " Δ-0.00%",
            "     've",
            "  Δ0.00%",
            "    _was",
            " Δ-0.00%",
            "    _don",
            "  Δ0.00%",
            "  _think",
            " Δ-0.00%",
            "     _am",
            "  Δ0.00%",
            "    _see",
            " Δ-0.00%",
            " _under…",
            " Δ-0.00%",
            "      'd",
            "  Δ0.00%",
            "   _will",
            " Δ-0.00%"
           ],
           [
            "   _that",
            "  Δ0.00%",
            "    _the",
            "  Δ0.00%",
            "    _you",
            " Δ-0.00%",
            "    _for",
            " Δ-0.00%",
            "   _love",
            "  Δ0.00%",
            "      _a",
            "  Δ0.00%",
            "    _our",
            " Δ-0.00%",
            "    _all",
            " Δ-0.00%",
            "     _my",
            " Δ-0.00%",
            "     _to",
            "  Δ0.00%"
           ],
           [
            "       .",
            "  Δ0.00%",
            "       ,",
            " Δ-0.00%",
            "     _to",
            "  Δ0.00%",
            "    _for",
            "  Δ0.00%",
            "     _in",
            "  Δ0.00%",
            "     _as",
            " Δ-0.00%",
            "     _of",
            " Δ-0.00%",
            "    _are",
            "  Δ0.00%",
            "   _with",
            " Δ-0.00%",
            "     _is",
            " Δ-0.00%"
           ],
           [
            "      \\n",
            "  Δ0.00%",
            "    \\n\\n",
            "  Δ0.00%",
            "   _This",
            " Δ-0.00%",
            "      _\"",
            "  Δ0.00%",
            "    _You",
            "  Δ0.00%",
            "   _What",
            " Δ-0.00%",
            "    _And",
            " Δ-0.00%",
            "     _It",
            " Δ-0.00%",
            "    _All",
            " Δ-0.00%",
            "    _The",
            "  Δ0.00%"
           ],
           [
            "    inda",
            "  Δ0.00%",
            "     ony",
            " Δ-0.00%",
            "      on",
            "  Δ0.00%",
            "      an",
            "  Δ0.00%",
            "  atonin",
            "  Δ0.00%",
            "     one",
            " Δ-0.00%",
            "    oney",
            "  Δ0.00%",
            "    kins",
            "  Δ0.00%",
            "     ina",
            "  Δ0.00%",
            "    aser",
            " Δ-0.00%"
           ],
           [
            "     _in",
            "  Δ0.00%",
            "   _head",
            " Δ-0.00%",
            "     _on",
            "  Δ0.00%",
            "     _up",
            "  Δ0.00%",
            "   _from",
            "  Δ0.00%",
            "       :",
            "  Δ0.00%",
            "    _out",
            "  Δ0.00%",
            "   _with",
            "  Δ0.00%",
            "    _the",
            "  Δ0.00%",
            "   _into",
            "  Δ0.00%"
           ],
           [
            "       .",
            " Δ-0.00%",
            "       ,",
            "  Δ0.00%",
            "    _and",
            " Δ-0.00%",
            " _Series",
            " Δ-0.00%",
            "  _Anime",
            "  Δ0.00%",
            "       :",
            "  Δ0.00%",
            "   _with",
            " Δ-0.00%",
            "   _that",
            "  Δ0.00%",
            "     _of",
            " Δ-0.00%",
            "     _is",
            "  Δ0.00%"
           ],
           [
            "  aching",
            "  Δ0.00%",
            "   aches",
            " Δ-0.00%",
            "     lem",
            "  Δ0.00%",
            "   acher",
            " Δ-0.00%",
            "    ache",
            "  Δ0.00%",
            "     let",
            "  Δ0.00%",
            "    aser",
            "  Δ0.00%",
            "      zz",
            " Δ-0.00%",
            "      el",
            "  Δ0.00%",
            "     lev",
            " Δ-0.00%"
           ],
           [
            "       '",
            " Δ-0.00%",
            "       .",
            "  Δ0.00%",
            "    _and",
            "  Δ0.00%",
            "       ,",
            " Δ-0.00%",
            "     _of",
            "  Δ0.00%",
            "     uch",
            "  Δ0.00%",
            "      ha",
            " Δ-0.00%",
            "      _-",
            " Δ-0.00%",
            "      hw",
            "  Δ0.00%",
            "       i",
            " Δ-0.00%"
           ],
           [
            "    _and",
            " Δ-0.00%",
            "       ,",
            "  Δ0.00%",
            "      's",
            " Δ-0.00%",
            "       .",
            " Δ-0.00%",
            "       /",
            " Δ-0.00%",
            "      _,",
            " Δ-0.00%",
            "      _/",
            " Δ-0.00%",
            "      _(",
            " Δ-0.00%",
            "      \\n",
            "  Δ0.00%",
            "       -",
            "  Δ0.00%"
           ],
           [
            "   _have",
            "  Δ0.00%",
            "      'm",
            "  Δ0.00%",
            "     've",
            " Δ-0.00%",
            "    _don",
            "  Δ0.00%",
            "     'll",
            " Δ-0.00%",
            "     _am",
            " Δ-0.00%",
            "  _think",
            " Δ-0.00%",
            "    _can",
            "  Δ0.00%",
            "   _know",
            "  Δ0.00%",
            "    _was",
            " Δ-0.00%"
           ],
           [
            "   _this",
            " Δ-0.00%",
            "    _the",
            " Δ-0.00%",
            "     _my",
            " Δ-0.00%",
            "   _love",
            "  Δ0.00%",
            "     _in",
            " Δ-0.00%",
            "      _a",
            " Δ-0.00%",
            "   _that",
            " Δ-0.00%",
            "      \\n",
            "  Δ0.00%",
            "       .",
            " Δ-0.00%",
            "    _you",
            " Δ-0.00%"
           ],
           [
            "   _same",
            "  Δ0.00%",
            "  _world",
            "  Δ0.00%",
            " _follo…",
            "  Δ0.00%",
            "   _very",
            " Δ-0.00%",
            "    _two",
            " Δ-0.00%",
            "      \\n",
            "  Δ0.00%",
            "   _best",
            " Δ-0.00%",
            "  _first",
            "  Δ0.00%",
            "      _M",
            " Δ-0.00%",
            "   _dark",
            "  Δ0.00%"
           ],
           [
            "     _it",
            "  Δ0.00%",
            "    _and",
            "  Δ0.00%",
            "   _them",
            "  Δ0.00%",
            "    _her",
            " Δ-0.00%",
            "    _the",
            "  Δ0.00%",
            "     _of",
            "  Δ0.00%",
            "    _him",
            " Δ-0.00%",
            "       .",
            " Δ-0.00%",
            "      \\n",
            "  Δ0.00%",
            "     _me",
            " Δ-0.00%"
           ]
          ],
          [
           [
            "    _the",
            "  Δ0.00%",
            "      \\n",
            " Δ-0.00%",
            "    _are",
            "  Δ0.00%",
            "     _to",
            " Δ-0.00%",
            "      _a",
            "  Δ0.00%",
            "     _on",
            "  Δ0.00%",
            "   _that",
            " Δ-0.00%",
            "     _in",
            "  Δ0.00%",
            "    _was",
            "  Δ0.00%",
            "     _of",
            " Δ-0.00%"
           ],
           [
            "      \\n",
            " Δ-0.00%",
            "     _of",
            "  Δ0.00%",
            "     _in",
            " Δ-0.00%",
            "    _are",
            "  Δ0.00%",
            "    _and",
            "  Δ0.00%",
            "   _from",
            "  Δ0.00%",
            "       ,",
            " Δ-0.00%",
            "       .",
            "  Δ0.00%",
            " _numbe…",
            " Δ-0.00%",
            "      _-",
            "  Δ0.00%"
           ],
           [
            "     've",
            "  Δ0.00%",
            "   _have",
            " Δ-0.00%",
            "    _was",
            "  Δ0.00%",
            "      \\n",
            " Δ-0.00%",
            "      'm",
            " Δ-0.00%",
            "       .",
            "  Δ0.00%",
            "      'd",
            "  Δ0.00%",
            "    _don",
            "  Δ0.00%",
            "     _am",
            "  Δ0.00%",
            "    _can",
            "  Δ0.00%"
           ],
           [
            "     _it",
            "  Δ0.00%",
            "    _the",
            " Δ-0.00%",
            "     _to",
            "  Δ0.00%",
            "   _that",
            "  Δ0.00%",
            "   _this",
            " Δ-0.00%",
            "    _for",
            "  Δ0.00%",
            "   _love",
            " Δ-0.00%",
            "      \\n",
            " Δ-0.00%",
            "      _a",
            "  Δ0.00%",
            "     _my",
            " Δ-0.00%"
           ],
           [
            "       ,",
            "  Δ0.00%",
            "    _for",
            " Δ-0.00%",
            "    _and",
            "  Δ0.00%",
            "   _with",
            " Δ-0.00%",
            "     _to",
            "  Δ0.00%",
            "       !",
            " Δ-0.00%",
            "     _in",
            "  Δ0.00%",
            "   _here",
            " Δ-0.00%",
            "     _on",
            " Δ-0.00%",
            "    _all",
            "  Δ0.00%"
           ],
           [
            "      \\n",
            "  Δ0.00%",
            "      _I",
            " Δ-0.00%",
            "     _We",
            " Δ-0.00%",
            "    \\n\\n",
            "  Δ0.00%",
            "    _You",
            " Δ-0.00%",
            "    _The",
            " Δ-0.00%",
            "     _If",
            " Δ-0.00%",
            "    _And",
            "  Δ0.00%",
            "  _Thank",
            "  Δ0.00%",
            "   _What",
            " Δ-0.00%"
           ],
           [
            "     ony",
            "  Δ0.00%",
            "  atonin",
            "  Δ0.00%",
            "      on",
            "  Δ0.00%",
            "       b",
            "  Δ0.00%",
            "    kins",
            "  Δ0.00%",
            "  bourne",
            "  Δ0.00%",
            "      an",
            " Δ-0.00%",
            "    ting",
            " Δ-0.00%",
            "    inda",
            "  Δ0.00%",
            "    oney",
            "  Δ0.00%"
           ],
           [
            "      \\n",
            " Δ-0.00%",
            "    _and",
            "  Δ0.00%",
            "    _the",
            "  Δ0.00%",
            "     _in",
            " Δ-0.00%",
            "       ,",
            "  Δ0.00%",
            "     _of",
            "  Δ0.00%",
            "     _is",
            "  Δ0.00%",
            "   _with",
            " Δ-0.00%",
            "   _from",
            "  Δ0.00%",
            "       -",
            " Δ-0.00%"
           ],
           [
            "       .",
            " Δ-0.00%",
            "       !",
            " Δ-0.00%",
            "  _Anime",
            "  Δ0.00%",
            "       /",
            " Δ-0.00%",
            "       :",
            " Δ-0.00%",
            "      \\n",
            "  Δ0.00%",
            " _Series",
            "  Δ0.00%",
            "       ,",
            " Δ-0.00%",
            "     _as",
            " Δ-0.00%",
            "   _from",
            " Δ-0.00%"
           ],
           [
            "   aches",
            "  Δ0.00%",
            "    ache",
            "  Δ0.00%",
            "     ens",
            " Δ-0.00%",
            " achable",
            "  Δ0.00%",
            "     ach",
            "  Δ0.00%",
            "   acher",
            "  Δ0.00%",
            "    ller",
            " Δ-0.00%",
            "     emo",
            " Δ-0.00%",
            "     let",
            " Δ-0.00%",
            "     lem",
            "  Δ0.00%"
           ],
           [
            "       ,",
            " Δ-0.00%",
            "      an",
            " Δ-0.00%",
            "       .",
            "  Δ0.00%",
            "      \\n",
            "  Δ0.00%",
            "     han",
            " Δ-0.00%",
            "     uch",
            " Δ-0.00%",
            "    _and",
            "  Δ0.00%",
            "       y",
            " Δ-0.00%",
            "      ui",
            " Δ-0.00%",
            "      er",
            "  Δ0.00%"
           ],
           [
            "       .",
            "  Δ0.00%",
            "       ,",
            "  Δ0.00%",
            "    _and",
            " Δ-0.00%",
            "      _(",
            " Δ-0.00%",
            "       -",
            " Δ-0.00%",
            "       !",
            "  Δ0.00%",
            "      \\n",
            "  Δ0.00%",
            "      _,",
            " Δ-0.00%",
            "      _-",
            " Δ-0.00%",
            "   _with",
            "  Δ0.00%"
           ],
           [
            "      'm",
            "  Δ0.00%",
            "     've",
            "  Δ0.00%",
            "    _was",
            " Δ-0.00%",
            "     'll",
            "  Δ0.00%",
            "      \\n",
            " Δ-0.00%",
            "   _have",
            " Δ-0.00%",
            "     _am",
            " Δ-0.00%",
            "   _know",
            "  Δ0.00%",
            "       .",
            " Δ-0.00%",
            "    _can",
            "  Δ0.00%"
           ],
           [
            "     _to",
            " Δ-0.00%",
            "     _it",
            " Δ-0.00%",
            "      _a",
            " Δ-0.00%",
            "   _this",
            "  Δ0.00%",
            "     _my",
            "  Δ0.00%",
            "    _you",
            " Δ-0.00%",
            "       ,",
            " Δ-0.00%",
            "       .",
            " Δ-0.00%",
            "    _her",
            " Δ-0.00%",
            "    _the",
            " Δ-0.00%"
           ],
           [
            "   _same",
            "  Δ0.00%",
            "   _idea",
            "  Δ0.00%",
            "  _world",
            "  Δ0.00%",
            "  _other",
            " Δ-0.00%",
            "   _game",
            "  Δ0.00%",
            "    _new",
            "  Δ0.00%",
            "   _best",
            "  Δ0.00%",
            " _follo…",
            " Δ-0.00%",
            "  _image",
            "  Δ0.00%",
            "  _early",
            "  Δ0.00%"
           ],
           [
            "    _fun",
            "  Δ0.00%",
            "   _sure",
            "  Δ0.00%",
            "     _it",
            " Δ-0.00%",
            "  _sense",
            " Δ-0.00%",
            "       .",
            " Δ-0.00%",
            "      _a",
            " Δ-0.00%",
            "    _the",
            "  Δ0.00%",
            " _public",
            " Δ-0.00%",
            "    _and",
            "  Δ0.00%",
            "       /",
            "  Δ0.00%"
           ]
          ],
          [
           [
            "    _the",
            " Δ-0.00%",
            "    _for",
            " Δ-0.00%",
            "     _of",
            " Δ-0.00%",
            "    _and",
            " Δ-0.00%",
            "     The",
            "  Δ0.00%",
            "     _it",
            "  Δ0.00%",
            "       s",
            "  Δ0.00%",
            "   _have",
            " Δ-0.00%",
            "     _be",
            " Δ-0.00%",
            "   _with",
            "  Δ0.00%"
           ],
           [
            "     _of",
            " Δ-0.00%",
            "       :",
            "  Δ0.00%",
            "       ,",
            " Δ-0.00%",
            "      \\n",
            " Δ-0.00%",
            "     _in",
            "  Δ0.00%",
            "     _is",
            "  Δ0.00%",
            "      _-",
            "  Δ0.00%",
            "    _and",
            "  Δ0.00%",
            "     _on",
            "  Δ0.00%",
            "   _that",
            " Δ-0.00%"
           ],
           [
            "   _have",
            " Δ-0.00%",
            "    _was",
            "  Δ0.00%",
            "    _see",
            "  Δ0.00%",
            "      \\n",
            " Δ-0.00%",
            "  _would",
            "  Δ0.00%",
            "     've",
            "  Δ0.00%",
            "   _will",
            "  Δ0.00%",
            "     _am",
            "  Δ0.00%",
            "      'd",
            "  Δ0.00%",
            "      'm",
            " Δ-0.00%"
           ],
           [
            "     _to",
            "  Δ0.00%",
            "    _the",
            " Δ-0.00%",
            "   _that",
            " Δ-0.00%",
            "   _this",
            "  Δ0.00%",
            "      _a",
            "  Δ0.00%",
            "   _love",
            " Δ-0.00%",
            "    _and",
            " Δ-0.00%",
            "    _all",
            " Δ-0.00%",
            "       ,",
            " Δ-0.00%",
            "      \\n",
            "  Δ0.00%"
           ],
           [
            "       .",
            " Δ-0.00%",
            "     _in",
            "  Δ0.00%",
            "    _for",
            " Δ-0.00%",
            "     _to",
            "  Δ0.00%",
            "    _and",
            "  Δ0.00%",
            "   _with",
            "  Δ0.00%",
            "   _from",
            " Δ-0.00%",
            "    _all",
            "  Δ0.00%",
            "      \\n",
            " Δ-0.00%",
            "    _are",
            "  Δ0.00%"
           ],
           [
            "      \\n",
            "  Δ0.00%",
            "    _You",
            " Δ-0.00%",
            "    _The",
            "  Δ0.00%",
            "     _We",
            " Δ-0.00%",
            "     _If",
            " Δ-0.00%",
            "     _My",
            " Δ-0.00%",
            "     _:)",
            "  Δ0.00%",
            "    \\n\\n",
            "  Δ0.00%",
            "    _And",
            "  Δ0.00%",
            "       _",
            "  Δ0.00%"
           ],
           [
            "     ony",
            "  Δ0.00%",
            "  atonin",
            " Δ-0.00%",
            "    inda",
            "  Δ0.00%",
            "    ting",
            "  Δ0.00%",
            "       o",
            "  Δ0.00%",
            "  bourne",
            " Δ-0.00%",
            "       a",
            "  Δ0.00%",
            "    oney",
            "  Δ0.00%",
            "       .",
            " Δ-0.00%",
            "       k",
            "  Δ0.00%"
           ],
           [
            "      \\n",
            "  Δ0.00%",
            "     _by",
            "  Δ0.00%",
            "     _in",
            "  Δ0.00%",
            "     _on",
            "  Δ0.00%",
            "    _the",
            "  Δ0.00%",
            "   _with",
            " Δ-0.00%",
            "       ,",
            " Δ-0.00%",
            " _versi…",
            " Δ-0.00%",
            "     _at",
            "  Δ0.00%",
            "   _from",
            "  Δ0.00%"
           ],
           [
            "       ,",
            "  Δ0.00%",
            "       .",
            " Δ-0.00%",
            "      \\n",
            " Δ-0.00%",
            "       !",
            "  Δ0.00%",
            "       ?",
            " Δ-0.00%",
            "       :",
            " Δ-0.00%",
            " _Series",
            " Δ-0.00%",
            "   _with",
            " Δ-0.00%",
            "      _I",
            " Δ-0.00%",
            "   _that",
            " Δ-0.00%"
           ],
           [
            "  aching",
            "  Δ0.00%",
            "     lem",
            " Δ-0.00%",
            "      el",
            " Δ-0.00%",
            "    ache",
            "  Δ0.00%",
            " achable",
            "  Δ0.00%",
            "   acher",
            "  Δ0.00%",
            "   aches",
            " Δ-0.00%",
            "     ens",
            "  Δ0.00%",
            "     let",
            " Δ-0.00%",
            "     uts",
            "  Δ0.00%"
           ],
           [
            "     uch",
            " Δ-0.00%",
            "    _and",
            "  Δ0.00%",
            "   creen",
            "  Δ0.00%",
            "       .",
            " Δ-0.00%",
            "       ,",
            " Δ-0.00%",
            "      ur",
            " Δ-0.00%",
            "      _(",
            " Δ-0.00%",
            "      an",
            " Δ-0.00%",
            "       i",
            "  Δ0.00%",
            "       -",
            "  Δ0.00%"
           ],
           [
            "       .",
            " Δ-0.00%",
            "       ,",
            "  Δ0.00%",
            "      _(",
            " Δ-0.00%",
            "     _is",
            "  Δ0.00%",
            "       !",
            " Δ-0.00%",
            "      _,",
            " Δ-0.00%",
            "      \\n",
            "  Δ0.00%",
            "    _and",
            "  Δ0.00%",
            "       :",
            " Δ-0.00%",
            "     _to",
            "  Δ0.00%"
           ],
           [
            "   _have",
            " Δ-0.00%",
            "     've",
            " Δ-0.00%",
            "    _don",
            "  Δ0.00%",
            "   _love",
            " Δ-0.00%",
            "     'll",
            " Δ-0.00%",
            "       .",
            "  Δ0.00%",
            "    _can",
            " Δ-0.00%",
            "     _am",
            "  Δ0.00%",
            "      \\n",
            "  Δ0.00%",
            "    _see",
            "  Δ0.00%"
           ],
           [
            "   _love",
            " Δ-0.00%",
            "    _the",
            " Δ-0.00%",
            "     _my",
            "  Δ0.00%",
            "    _you",
            "  Δ0.00%",
            "   _them",
            " Δ-0.00%",
            "     _to",
            " Δ-0.00%",
            "   _that",
            " Δ-0.00%",
            "   _this",
            " Δ-0.00%",
            "     _it",
            "  Δ0.00%",
            " _seeing",
            "  Δ0.00%"
           ],
           [
            "   _same",
            "  Δ0.00%",
            "   _idea",
            "  Δ0.00%",
            " _follo…",
            "  Δ0.00%",
            " _moment",
            "  Δ0.00%",
            "  _first",
            " Δ-0.00%",
            "  _image",
            "  Δ0.00%",
            " _people",
            " Δ-0.00%",
            "   _role",
            "  Δ0.00%",
            "   _best",
            "  Δ0.00%",
            "  _heart",
            " Δ-0.00%"
           ],
           [
            "      _a",
            "  Δ0.00%",
            "    _fun",
            "  Δ0.00%",
            "   _sure",
            " Δ-0.00%",
            "       ,",
            " Δ-0.00%",
            "    _and",
            " Δ-0.00%",
            "     _it",
            "  Δ0.00%",
            "  _sense",
            " Δ-0.00%",
            "   _that",
            " Δ-0.00%",
            "     _me",
            " Δ-0.00%",
            "      \\n",
            "  Δ0.00%"
           ]
          ],
          [
           [
            "      _a",
            " Δ-0.00%",
            "     _to",
            " Δ-0.00%",
            "       ,",
            " Δ-0.00%",
            "       \\",
            " Δ-0.00%",
            "     _on",
            " Δ-0.00%",
            "     _is",
            " Δ-0.00%",
            "    _and",
            "  Δ0.00%",
            "     _an",
            " Δ-0.00%",
            "      Âł",
            " Δ-0.00%",
            "     _as",
            " Δ-0.00%"
           ],
           [
            "     _of",
            "  Δ0.00%",
            "      \\n",
            " Δ-0.00%",
            "       :",
            " Δ-0.00%",
            "       ,",
            " Δ-0.00%",
            "    _and",
            " Δ-0.00%",
            "     _in",
            " Δ-0.00%",
            "      _:",
            "  Δ0.00%",
            "   _have",
            " Δ-0.00%",
            "       .",
            " Δ-0.00%",
            "      _-",
            " Δ-0.00%"
           ],
           [
            "     've",
            "  Δ0.00%",
            "      \\n",
            " Δ-0.00%",
            "   _have",
            "  Δ0.00%",
            " _recei…",
            " Δ-0.00%",
            "   _will",
            "  Δ0.00%",
            "    _use",
            "  Δ0.00%",
            " _recom…",
            " Δ-0.00%",
            "   _used",
            "  Δ0.00%",
            " _learn…",
            "  Δ0.00%",
            " _inclu…",
            " Δ-0.00%"
           ],
           [
            "      \\n",
            " Δ-0.00%",
            "   _this",
            "  Δ0.00%",
            "    _all",
            "  Δ0.00%",
            "     _it",
            "  Δ0.00%",
            "       :",
            " Δ-0.00%",
            "     _my",
            "  Δ0.00%",
            " _watch…",
            "  Δ0.00%",
            "      _a",
            "  Δ0.00%",
            " _heari…",
            "  Δ0.00%",
            "  _today",
            "  Δ0.00%"
           ],
           [
            "       .",
            " Δ-0.00%",
            "       ,",
            "  Δ0.00%",
            "    _all",
            " Δ-0.00%",
            "    _for",
            "  Δ0.00%",
            "       :",
            "  Δ0.00%",
            "     _in",
            "  Δ0.00%",
            "      \\n",
            " Δ-0.00%",
            " _becau…",
            " Δ-0.00%",
            "   _here",
            " Δ-0.00%",
            "    _and",
            "  Δ0.00%"
           ],
           [
            "      \\n",
            "  Δ0.00%",
            "      _I",
            " Δ-0.00%",
            "     _We",
            " Δ-0.00%",
            "     _It",
            " Δ-0.00%",
            "     _:)",
            " Δ-0.00%",
            "   _This",
            " Δ-0.00%",
            "    \\n\\n",
            "  Δ0.00%",
            "     _My",
            " Δ-0.00%",
            "    _You",
            " Δ-0.00%",
            "       _",
            "  Δ0.00%"
           ],
           [
            "    inda",
            "  Δ0.00%",
            "     ice",
            "  Δ0.00%",
            "       .",
            " Δ-0.00%",
            "  atonin",
            "  Δ0.00%",
            "     ony",
            "  Δ0.00%",
            "    ting",
            " Δ-0.00%",
            "    kins",
            "  Δ0.00%",
            "       k",
            "  Δ0.00%",
            "       m",
            "  Δ0.00%",
            "      ac",
            " Δ-0.00%"
           ],
           [
            "     _in",
            "  Δ0.00%",
            "     _by",
            "  Δ0.00%",
            "       ,",
            "  Δ0.00%",
            "      \\n",
            " Δ-0.00%",
            "     _up",
            " Δ-0.00%",
            "   _with",
            "  Δ0.00%",
            "       .",
            "  Δ0.00%",
            "       !",
            "  Δ0.00%",
            "   _rice",
            " Δ-0.00%",
            " _versi…",
            "  Δ0.00%"
           ],
           [
            "      \\n",
            "  Δ0.00%",
            "       .",
            " Δ-0.00%",
            "    _and",
            " Δ-0.00%",
            "       /",
            " Δ-0.00%",
            "      _I",
            " Δ-0.00%",
            "     _is",
            " Δ-0.00%",
            "      _/",
            " Δ-0.00%",
            "  _Anime",
            " Δ-0.00%",
            "       !",
            "  Δ0.00%",
            "       ,",
            "  Δ0.00%"
           ],
           [
            "   aches",
            " Δ-0.00%",
            "  aching",
            "  Δ0.00%",
            " achable",
            "  Δ0.00%",
            "     ach",
            "  Δ0.00%",
            "    ache",
            "  Δ0.00%",
            "     els",
            " Δ-0.00%",
            "     ens",
            "  Δ0.00%",
            "     lem",
            "  Δ0.00%",
            "      ut",
            "  Δ0.00%",
            "     lev",
            "  Δ0.00%"
           ],
           [
            "   creen",
            " Δ-0.00%",
            "    ayer",
            " Δ-0.00%",
            "      aw",
            " Δ-0.00%",
            "      ur",
            "  Δ0.00%",
            "      \\n",
            "  Δ0.00%",
            "   ayers",
            " Δ-0.00%",
            "       .",
            "  Δ0.00%",
            "      er",
            "  Δ0.00%",
            "     uch",
            "  Δ0.00%",
            "      ui",
            "  Δ0.00%"
           ],
           [
            "      _(",
            " Δ-0.00%",
            "      \\n",
            " Δ-0.00%",
            "       ,",
            "  Δ0.00%",
            "    _and",
            " Δ-0.00%",
            "       _",
            " Δ-0.00%",
            "     _is",
            " Δ-0.00%",
            "       .",
            "  Δ0.00%",
            "    _has",
            " Δ-0.00%",
            "    _was",
            "  Δ0.00%",
            "      _$",
            "  Δ0.00%"
           ],
           [
            "     've",
            " Δ-0.00%",
            "   _have",
            " Δ-0.00%",
            "   _love",
            " Δ-0.00%",
            "    _was",
            "  Δ0.00%",
            "      'm",
            " Δ-0.00%",
            "    _don",
            "  Δ0.00%",
            "     _do",
            "  Δ0.00%",
            "     _am",
            "  Δ0.00%",
            "   _want",
            "  Δ0.00%",
            "   _know",
            " Δ-0.00%"
           ],
           [
            "     _my",
            " Δ-0.00%",
            "    _the",
            "  Δ0.00%",
            "   _this",
            " Δ-0.00%",
            " _watch…",
            "  Δ0.00%",
            "     _it",
            "  Δ0.00%",
            "      _a",
            " Δ-0.00%",
            " _seeing",
            "  Δ0.00%",
            "     _to",
            " Δ-0.00%",
            "   _your",
            " Δ-0.00%",
            "   _love",
            "  Δ0.00%"
           ],
           [
            "   _idea",
            "  Δ0.00%",
            "    _way",
            "  Δ0.00%",
            "  _first",
            " Δ-0.00%",
            "      \\n",
            "  Δ0.00%",
            "   _show",
            " Δ-0.00%",
            "   _time",
            "  Δ0.00%",
            "   _work",
            " Δ-0.00%",
            " _beaut…",
            "  Δ0.00%",
            "   _life",
            "  Δ0.00%",
            " _design",
            " Δ-0.00%"
           ],
           [
            "     _it",
            "  Δ0.00%",
            "   _sure",
            " Δ-0.00%",
            "    _fun",
            " Δ-0.00%",
            "       ,",
            " Δ-0.00%",
            "     _of",
            " Δ-0.00%",
            "    _and",
            " Δ-0.00%",
            "     _me",
            " Δ-0.00%",
            "    _the",
            "  Δ0.00%",
            "      \\n",
            "  Δ0.00%",
            "     _in",
            "  Δ0.00%"
           ]
          ],
          [
           [
            "      \\n",
            " Δ-0.00%",
            "    _the",
            "  Δ0.00%",
            "       ,",
            "  Δ0.00%",
            "       .",
            "  Δ0.00%",
            "     _to",
            "  Δ0.00%",
            "      _a",
            "  Δ0.00%",
            "      _\"",
            "  Δ0.00%",
            "     _of",
            "  Δ0.00%",
            "     _in",
            "  Δ0.00%",
            "    _are",
            "  Δ0.00%"
           ],
           [
            "     _of",
            " Δ-0.00%",
            "       :",
            " Δ-0.00%",
            "      \\n",
            " Δ-0.00%",
            "     _on",
            "  Δ0.00%",
            "     _to",
            " Δ-0.00%",
            "    _and",
            "  Δ0.00%",
            "     _in",
            " Δ-0.00%",
            "       .",
            "  Δ0.00%",
            "   _that",
            " Δ-0.00%",
            "     _is",
            "  Δ0.00%"
           ],
           [
            "      \\n",
            "  Δ0.00%",
            "     've",
            "  Δ0.00%",
            "   _have",
            " Δ-0.00%",
            "   _used",
            " Δ-0.00%",
            "     _am",
            "  Δ0.00%",
            "      'm",
            " Δ-0.00%",
            "    _use",
            " Δ-0.00%",
            "    _don",
            " Δ-0.00%",
            "   _need",
            " Δ-0.00%",
            "   _mean",
            "  Δ0.00%"
           ],
           [
            "     _it",
            "  Δ0.00%",
            "   _this",
            "  Δ0.00%",
            "    _you",
            " Δ-0.00%",
            "   _that",
            "  Δ0.00%",
            "     _to",
            "  Δ0.00%",
            "    _the",
            " Δ-0.00%",
            "    _for",
            " Δ-0.00%",
            "       ,",
            "  Δ0.00%",
            " _people",
            " Δ-0.00%",
            "    _and",
            " Δ-0.00%"
           ],
           [
            "       ,",
            "  Δ0.00%",
            "    _all",
            "  Δ0.00%",
            "      \\n",
            " Δ-0.00%",
            "       .",
            " Δ-0.00%",
            "    _are",
            " Δ-0.00%",
            "     _as",
            "  Δ0.00%",
            "     _to",
            " Δ-0.00%",
            "       ?",
            " Δ-0.00%",
            "     _on",
            " Δ-0.00%",
            "     _so",
            "  Δ0.00%"
           ],
           [
            "      \\n",
            "  Δ0.00%",
            "      _I",
            " Δ-0.00%",
            "    \\n\\n",
            "  Δ0.00%",
            "    _The",
            " Δ-0.00%",
            "      _A",
            " Δ-0.00%",
            "     _It",
            " Δ-0.00%",
            "   _This",
            " Δ-0.00%",
            "     _My",
            " Δ-0.00%",
            "      _(",
            " Δ-0.00%",
            "     _:)",
            " Δ-0.00%"
           ],
           [
            "     ice",
            " Δ-0.00%",
            "       b",
            " Δ-0.00%",
            "       k",
            " Δ-0.00%",
            "      on",
            "  Δ0.00%",
            "       i",
            "  Δ0.00%",
            "      an",
            "  Δ0.00%",
            "     one",
            "  Δ0.00%",
            "     ony",
            " Δ-0.00%",
            "     ide",
            "  Δ0.00%",
            "     sey",
            " Δ-0.00%"
           ],
           [
            " _versi…",
            " Δ-0.00%",
            "   _rice",
            " Δ-0.00%",
            " _butter",
            " Δ-0.00%",
            " _versi…",
            " Δ-0.00%",
            "   _clay",
            " Δ-0.00%",
            "       .",
            "  Δ0.00%",
            "       ,",
            "  Δ0.00%",
            "     _up",
            " Δ-0.00%",
            "    _and",
            " Δ-0.00%",
            "      \\n",
            "  Δ0.00%"
           ],
           [
            "      \\n",
            "  Δ0.00%",
            "       .",
            " Δ-0.00%",
            "    _and",
            " Δ-0.00%",
            "      _#",
            "  Δ0.00%",
            "       !",
            " Δ-0.00%",
            "     _is",
            " Δ-0.00%",
            "       -",
            " Δ-0.00%",
            "      _2",
            " Δ-0.00%",
            "      _(",
            " Δ-0.00%",
            " _Series",
            " Δ-0.00%"
           ],
           [
            "   aches",
            "  Δ0.00%",
            "     ens",
            " Δ-0.00%",
            " achable",
            " Δ-0.00%",
            "  aching",
            " Δ-0.00%",
            "     els",
            " Δ-0.00%",
            "     lem",
            "  Δ0.00%",
            "     lev",
            "  Δ0.00%",
            "     ach",
            " Δ-0.00%",
            "      es",
            " Δ-0.00%",
            "    vers",
            " Δ-0.00%"
           ],
           [
            "      an",
            "  Δ0.00%",
            "   layer",
            " Δ-0.00%",
            "    ayer",
            " Δ-0.00%",
            "     aws",
            " Δ-0.00%",
            "      au",
            "  Δ0.00%",
            "     uch",
            " Δ-0.00%",
            "       y",
            "  Δ0.00%",
            "       u",
            "  Δ0.00%",
            "      ui",
            "  Δ0.00%",
            "      aw",
            " Δ-0.00%"
           ],
           [
            "      _(",
            "  Δ0.00%",
            "       .",
            "  Δ0.00%",
            "      _#",
            "  Δ0.00%",
            "      _2",
            " Δ-0.00%",
            "       _",
            "  Δ0.00%",
            "      _-",
            " Δ-0.00%",
            "     _is",
            " Δ-0.00%",
            "      _,",
            " Δ-0.00%",
            "      _å",
            " Δ-0.00%",
            "      _$",
            "  Δ0.00%"
           ],
           [
            "      'm",
            "  Δ0.00%",
            "   _love",
            " Δ-0.00%",
            "      \\n",
            "  Δ0.00%",
            "   _have",
            " Δ-0.00%",
            "    _don",
            "  Δ0.00%",
            "     've",
            " Δ-0.00%",
            " _wonder",
            " Δ-0.00%",
            "   _wish",
            " Δ-0.00%",
            "     _is",
            "  Δ0.00%",
            "  _think",
            " Δ-0.00%"
           ],
           [
            "     _my",
            " Δ-0.00%",
            "   _this",
            "  Δ0.00%",
            "    _the",
            "  Δ0.00%",
            "    _you",
            " Δ-0.00%",
            "   _them",
            " Δ-0.00%",
            "    _all",
            " Δ-0.00%",
            "    _him",
            " Δ-0.00%",
            "   _love",
            "  Δ0.00%",
            " _nothi…",
            "  Δ0.00%",
            "   _your",
            " Δ-0.00%"
           ],
           [
            " _origi…",
            "  Δ0.00%",
            "    _big",
            "  Δ0.00%",
            "  _great",
            "  Δ0.00%",
            "  _power",
            " Δ-0.00%",
            "    _new",
            "  Δ0.00%",
            "    _old",
            "  Δ0.00%",
            "   _idea",
            " Δ-0.00%",
            " _textu…",
            "  Δ0.00%",
            "  _first",
            " Δ-0.00%",
            "      _3",
            "  Δ0.00%"
           ],
           [
            "     _of",
            "  Δ0.00%",
            "    _the",
            "  Δ0.00%",
            "    _fun",
            " Δ-0.00%",
            "     _it",
            "  Δ0.00%",
            "      _a",
            " Δ-0.00%",
            "       .",
            " Δ-0.00%",
            "     _me",
            " Δ-0.00%",
            "       !",
            " Δ-0.00%",
            "       ,",
            "  Δ0.00%",
            "    _and",
            " Δ-0.00%"
           ]
          ],
          [
           [
            "       ,",
            "  Δ0.00%",
            "     _to",
            "  Δ0.00%",
            "     _of",
            "  Δ0.00%",
            "     _is",
            " Δ-0.00%",
            "    _for",
            " Δ-0.00%",
            "     _on",
            " Δ-0.00%",
            "     The",
            "  Δ0.00%",
            "       A",
            " Δ-0.00%",
            "     _be",
            " Δ-0.00%",
            "     _or",
            " Δ-0.00%"
           ],
           [
            "       :",
            "  Δ0.00%",
            "     _of",
            " Δ-0.00%",
            "       ,",
            " Δ-0.00%",
            "      \\n",
            "  Δ0.00%",
            "     _in",
            " Δ-0.00%",
            "       .",
            " Δ-0.00%",
            "     _is",
            " Δ-0.00%",
            "     _on",
            " Δ-0.00%",
            "     _to",
            "  Δ0.00%",
            "      _:",
            "  Δ0.00%"
           ],
           [
            "   _have",
            "  Δ0.00%",
            "   _used",
            "  Δ0.00%",
            "     've",
            " Δ-0.00%",
            "    _can",
            "  Δ0.00%",
            "      \\n",
            " Δ-0.00%",
            "    _use",
            "  Δ0.00%",
            "      'm",
            " Δ-0.00%",
            "     _am",
            " Δ-0.00%",
            "   _like",
            "  Δ0.00%",
            "       :",
            " Δ-0.00%"
           ],
           [
            "   _this",
            "  Δ0.00%",
            "      \\n",
            " Δ-0.00%",
            "    _and",
            "  Δ0.00%",
            "     _it",
            "  Δ0.00%",
            "    _the",
            "  Δ0.00%",
            "     _to",
            " Δ-0.00%",
            "    \\n\\n",
            " Δ-0.00%",
            "    _for",
            " Δ-0.00%",
            "     _in",
            "  Δ0.00%",
            "  _about",
            "  Δ0.00%"
           ],
           [
            "       ,",
            "  Δ0.00%",
            "    _all",
            "  Δ0.00%",
            "      \\n",
            " Δ-0.00%",
            "     _to",
            "  Δ0.00%",
            "    _and",
            "  Δ0.00%",
            "    _for",
            "  Δ0.00%",
            "   _with",
            " Δ-0.00%",
            "    _are",
            " Δ-0.00%",
            "   _here",
            "  Δ0.00%",
            "     _in",
            "  Δ0.00%"
           ],
           [
            "      \\n",
            "  Δ0.00%",
            "    \\n\\n",
            "  Δ0.00%",
            "      _A",
            " Δ-0.00%",
            "     _It",
            " Δ-0.00%",
            "     _We",
            "  Δ0.00%",
            "    _You",
            " Δ-0.00%",
            "   _This",
            " Δ-0.00%",
            "   _What",
            " Δ-0.00%",
            "     _:)",
            " Δ-0.00%",
            "      _\"",
            " Δ-0.00%"
           ],
           [
            "    inda",
            " Δ-0.00%",
            "     ice",
            "  Δ0.00%",
            "     ian",
            " Δ-0.00%",
            "     ita",
            " Δ-0.00%",
            "       k",
            "  Δ0.00%",
            "     ias",
            "  Δ0.00%",
            "       p",
            " Δ-0.00%",
            "       b",
            " Δ-0.00%",
            "       i",
            "  Δ0.00%",
            "     ine",
            "  Δ0.00%"
           ],
           [
            "      \\n",
            "  Δ0.00%",
            " _chick…",
            " Δ-0.00%",
            "       .",
            "  Δ0.00%",
            "     _by",
            "  Δ0.00%",
            "    _and",
            "  Δ0.00%",
            "  _wheat",
            " Δ-0.00%",
            "     _to",
            "  Δ0.00%",
            " _cocon…",
            " Δ-0.00%",
            "     _or",
            " Δ-0.00%",
            " _butter",
            "  Δ0.00%"
           ],
           [
            "       .",
            " Δ-0.00%",
            "    _and",
            "  Δ0.00%",
            "       _",
            "  Δ0.00%",
            "       ,",
            " Δ-0.00%",
            "      _I",
            " Δ-0.00%",
            "       -",
            " Δ-0.00%",
            " _Series",
            " Δ-0.00%",
            "      _&",
            " Δ-0.00%",
            "     _in",
            " Δ-0.00%",
            "    _DVD",
            "  Δ0.00%"
           ],
           [
            "   aches",
            "  Δ0.00%",
            " achable",
            " Δ-0.00%",
            "     ens",
            " Δ-0.00%",
            "     ams",
            " Δ-0.00%",
            "      em",
            " Δ-0.00%",
            "     ats",
            " Δ-0.00%",
            "     els",
            " Δ-0.00%",
            "   aming",
            " Δ-0.00%",
            "     ets",
            " Δ-0.00%",
            "     let",
            "  Δ0.00%"
           ],
           [
            "      an",
            "  Δ0.00%",
            "      aw",
            "  Δ0.00%",
            "     uch",
            " Δ-0.00%",
            "       h",
            " Δ-0.00%",
            "      um",
            "  Δ0.00%",
            "     ide",
            "  Δ0.00%",
            "    ider",
            " Δ-0.00%",
            "       y",
            "  Δ0.00%",
            "      ur",
            "  Δ0.00%",
            "     han",
            " Δ-0.00%"
           ],
           [
            "      _(",
            "  Δ0.00%",
            "       ,",
            " Δ-0.00%",
            "      _2",
            " Δ-0.00%",
            "     _is",
            " Δ-0.00%",
            "      's",
            "  Δ0.00%",
            "    _has",
            "  Δ0.00%",
            "    _was",
            " Δ-0.00%",
            "      _$",
            "  Δ0.00%",
            "       -",
            " Δ-0.00%",
            "      _-",
            " Δ-0.00%"
           ],
           [
            "     've",
            " Δ-0.00%",
            "    _was",
            " Δ-0.00%",
            "   _love",
            " Δ-0.00%",
            "    _can",
            "  Δ0.00%",
            "      \\n",
            "  Δ0.00%",
            "    cons",
            "  Δ0.00%",
            "   _have",
            " Δ-0.00%",
            "   _will",
            "  Δ0.00%",
            "  _think",
            "  Δ0.00%",
            "  _adore",
            " Δ-0.00%"
           ],
           [
            "     _my",
            " Δ-0.00%",
            "   _them",
            " Δ-0.00%",
            "     _it",
            "  Δ0.00%",
            "    _all",
            " Δ-0.00%",
            " _seeing",
            "  Δ0.00%",
            " _watch…",
            "  Δ0.00%",
            "   _this",
            " Δ-0.00%",
            "   _love",
            "  Δ0.00%",
            "  _these",
            " Δ-0.00%",
            "    _you",
            "  Δ0.00%"
           ],
           [
            "  _whole",
            "  Δ0.00%",
            "    _way",
            " Δ-0.00%",
            " _flavor",
            "  Δ0.00%",
            "  _color",
            "  Δ0.00%",
            "   _work",
            " Δ-0.00%",
            "    _big",
            " Δ-0.00%",
            "      _\"",
            " Δ-0.00%",
            "  _theme",
            " Δ-0.00%",
            " _beaut…",
            " Δ-0.00%",
            " _combi…",
            "  Δ0.00%"
           ],
           [
            "     _of",
            "  Δ0.00%",
            "    _fun",
            " Δ-0.00%",
            "     _it",
            "  Δ0.00%",
            "    _and",
            "  Δ0.00%",
            "      _a",
            "  Δ0.00%",
            "       /",
            " Δ-0.00%",
            "   _sure",
            " Δ-0.00%",
            "   _that",
            "  Δ0.00%",
            "       .",
            " Δ-0.00%",
            "       -",
            " Δ-0.00%"
           ]
          ],
          [
           [
            "     _to",
            " Δ-0.00%",
            "      _a",
            "  Δ0.00%",
            "   _with",
            " Δ-0.00%",
            "     The",
            " Δ-0.00%",
            "    _was",
            " Δ-0.00%",
            "   _from",
            "  Δ0.00%",
            "       _",
            " Δ-0.00%",
            "      _=",
            " Δ-0.00%",
            "      is",
            " Δ-0.00%",
            "     _be",
            "  Δ0.00%"
           ],
           [
            "      \\n",
            "  Δ0.00%",
            "     _of",
            " Δ-0.00%",
            "       ,",
            "  Δ0.00%",
            "    _and",
            " Δ-0.00%",
            "     _in",
            " Δ-0.00%",
            "     _is",
            " Δ-0.00%",
            "       :",
            " Δ-0.00%",
            "    _are",
            " Δ-0.00%",
            "     _to",
            "  Δ0.00%",
            "   _have",
            "  Δ0.00%"
           ],
           [
            "   _have",
            " Δ-0.00%",
            "      'm",
            "  Δ0.00%",
            "     've",
            "  Δ0.00%",
            "    _use",
            "  Δ0.00%",
            "      \\n",
            "  Δ0.00%",
            "   _will",
            " Δ-0.00%",
            "      'd",
            " Δ-0.00%",
            "  _would",
            " Δ-0.00%",
            "       :",
            " Δ-0.00%",
            "    _don",
            " Δ-0.00%"
           ],
           [
            "       ,",
            "  Δ0.00%",
            "      \\n",
            "  Δ0.00%",
            "    _and",
            " Δ-0.00%",
            "       :",
            " Δ-0.00%",
            "     _to",
            "  Δ0.00%",
            "    _for",
            " Δ-0.00%",
            "     _in",
            "  Δ0.00%",
            "   _that",
            " Δ-0.00%",
            "       !",
            "  Δ0.00%",
            "   _with",
            " Δ-0.00%"
           ],
           [
            "     _as",
            "  Δ0.00%",
            "    _for",
            " Δ-0.00%",
            "     _so",
            "  Δ0.00%",
            "    _all",
            " Δ-0.00%",
            "    _and",
            "  Δ0.00%",
            "     _in",
            "  Δ0.00%",
            "       :",
            " Δ-0.00%",
            "       _",
            "  Δ0.00%",
            "       .",
            "  Δ0.00%",
            "    _too",
            "  Δ0.00%"
           ],
           [
            "      _I",
            " Δ-0.00%",
            "      \\n",
            "  Δ0.00%",
            "    \\n\\n",
            "  Δ0.00%",
            "     _My",
            " Δ-0.00%",
            "   _They",
            " Δ-0.00%",
            "   _This",
            " Δ-0.00%",
            "      _:",
            "  Δ0.00%",
            "     _It",
            " Δ-0.00%",
            "     _We",
            "  Δ0.00%",
            "      _(",
            " Δ-0.00%"
           ],
           [
            "    inda",
            " Δ-0.00%",
            "       a",
            "  Δ0.00%",
            "       o",
            "  Δ0.00%",
            "       v",
            "  Δ0.00%",
            "      an",
            " Δ-0.00%",
            "     ita",
            " Δ-0.00%",
            "     vin",
            " Δ-0.00%",
            "       b",
            "  Δ0.00%",
            "      ac",
            "  Δ0.00%",
            "      in",
            "  Δ0.00%"
           ],
           [
            "   _with",
            "  Δ0.00%",
            "       ,",
            "  Δ0.00%",
            "     _in",
            "  Δ0.00%",
            " _butter",
            " Δ-0.00%",
            "     _by",
            "  Δ0.00%",
            " _chick…",
            " Δ-0.00%",
            "       !",
            "  Δ0.00%",
            "   _from",
            "  Δ0.00%",
            "    _red",
            "  Δ0.00%",
            "     _up",
            "  Δ0.00%"
           ],
           [
            "       ,",
            " Δ-0.00%",
            "       -",
            "  Δ0.00%",
            "      \\n",
            "  Δ0.00%",
            "       .",
            "  Δ0.00%",
            "       _",
            " Δ-0.00%",
            "       /",
            " Δ-0.00%",
            "     _of",
            " Δ-0.00%",
            "      _/",
            " Δ-0.00%",
            " _Series",
            " Δ-0.00%",
            "      _w",
            "  Δ0.00%"
           ],
           [
            "   aches",
            "  Δ0.00%",
            "     ens",
            " Δ-0.00%",
            "      em",
            " Δ-0.00%",
            "     els",
            "  Δ0.00%",
            "    ache",
            "  Δ0.00%",
            "    ases",
            " Δ-0.00%",
            "      es",
            " Δ-0.00%",
            "  aching",
            " Δ-0.00%",
            "     lev",
            "  Δ0.00%",
            " achable",
            " Δ-0.00%"
           ],
           [
            "     ide",
            " Δ-0.00%",
            "      aw",
            " Δ-0.00%",
            "      an",
            "  Δ0.00%",
            "      ys",
            "  Δ0.00%",
            "      ur",
            "  Δ0.00%",
            "       y",
            "  Δ0.00%",
            "      um",
            "  Δ0.00%",
            "       h",
            " Δ-0.00%",
            "     uch",
            " Δ-0.00%",
            "      er",
            " Δ-0.00%"
           ],
           [
            "      _(",
            "  Δ0.00%",
            "      \\n",
            " Δ-0.00%",
            "       ,",
            "  Δ0.00%",
            "      _-",
            " Δ-0.00%",
            "      _1",
            "  Δ0.00%",
            "      's",
            " Δ-0.00%",
            "    _and",
            "  Δ0.00%",
            "      _4",
            "  Δ0.00%",
            "      _2",
            " Δ-0.00%",
            "       :",
            " Δ-0.00%"
           ],
           [
            "      'm",
            "  Δ0.00%",
            "     've",
            " Δ-0.00%",
            "   _have",
            " Δ-0.00%",
            "   deals",
            "  Δ0.00%",
            "     _am",
            "  Δ0.00%",
            "   _love",
            " Δ-0.00%",
            "      _(",
            "  Δ0.00%",
            "   _Love",
            "  Δ0.00%",
            "    _can",
            "  Δ0.00%",
            "    cons",
            "  Δ0.00%"
           ],
           [
            "   _them",
            " Δ-0.00%",
            "     _it",
            "  Δ0.00%",
            "   _this",
            "  Δ0.00%",
            "    _the",
            "  Δ0.00%",
            "   _that",
            "  Δ0.00%",
            "     _my",
            "  Δ0.00%",
            "  _those",
            " Δ-0.00%",
            "      _a",
            "  Δ0.00%",
            "    _you",
            "  Δ0.00%",
            "    _all",
            " Δ-0.00%"
           ],
           [
            "   _idea",
            "  Δ0.00%",
            "  _color",
            "  Δ0.00%",
            "   _fact",
            "  Δ0.00%",
            "    _big",
            " Δ-0.00%",
            "    _art",
            " Δ-0.00%",
            " _beaut…",
            " Δ-0.00%",
            "    _way",
            " Δ-0.00%",
            "   _size",
            " Δ-0.00%",
            " _amount",
            " Δ-0.00%",
            "  _style",
            " Δ-0.00%"
           ],
           [
            "     _of",
            " Δ-0.00%",
            "    _the",
            "  Δ0.00%",
            "       ,",
            " Δ-0.00%",
            "     _it",
            "  Δ0.00%",
            "      _a",
            "  Δ0.00%",
            "       /",
            " Δ-0.00%",
            "       -",
            " Δ-0.00%",
            "    _and",
            " Δ-0.00%",
            "    _out",
            "  Δ0.00%",
            "    _fun",
            "  Δ0.00%"
           ]
          ],
          [
           [
            "       .",
            "  Δ0.02%",
            "       ,",
            "  Δ0.01%",
            "      \\n",
            "  Δ0.01%",
            "    _the",
            "  Δ0.01%",
            "    _and",
            "  Δ0.01%",
            "       -",
            "  Δ0.01%",
            "     _in",
            "  Δ0.01%",
            "     _to",
            "  Δ0.00%",
            "      _a",
            "  Δ0.00%",
            "    _for",
            "  Δ0.00%"
           ],
           [
            "     _of",
            " Δ-2.24%",
            "      \\n",
            "  Δ1.32%",
            "       :",
            " Δ-0.87%",
            "       ,",
            " Δ-0.74%",
            "    _are",
            "  Δ0.47%",
            "       .",
            " Δ-0.31%",
            "    _for",
            "  Δ0.30%",
            "   _have",
            "  Δ0.22%",
            "     _to",
            " Δ-0.18%",
            "      _(",
            " Δ-0.18%"
           ],
           [
            "     've",
            " Δ-5.15%",
            "      'm",
            " Δ-1.64%",
            "   _used",
            " Δ-0.83%",
            "     _am",
            "  Δ0.61%",
            "    _was",
            "  Δ0.56%",
            "     'll",
            " Δ-0.47%",
            "      'd",
            " Δ-0.34%",
            "   _Used",
            " Δ-0.33%",
            "       :",
            " Δ-0.30%",
            "  _think",
            "  Δ0.27%"
           ],
           [
            "      \\n",
            "  Δ5.77%",
            "     _to",
            " Δ-2.07%",
            "       :",
            "  Δ2.01%",
            "       .",
            " Δ-1.22%",
            "       ,",
            " Δ-1.19%",
            "  _about",
            "  Δ1.10%",
            "   _this",
            " Δ-1.08%",
            "    _for",
            " Δ-1.05%",
            "    _and",
            "  Δ0.75%",
            "   _when",
            " Δ-0.60%"
           ],
           [
            "    _for",
            "  Δ2.29%",
            "       ,",
            "  Δ2.05%",
            "       .",
            "  Δ1.70%",
            "     _to",
            "  Δ1.15%",
            "     _in",
            "  Δ0.89%",
            "   _with",
            "  Δ0.87%",
            "       :",
            "  Δ0.69%",
            "    _all",
            "  Δ0.66%",
            "     _as",
            "  Δ0.57%",
            "      _I",
            " Δ-0.53%"
           ],
           [
            "      _I",
            " Δ-1.18%",
            "      \\n",
            "  Δ1.07%",
            "   _They",
            " Δ-0.76%",
            "    _The",
            "  Δ0.70%",
            "    \\n\\n",
            " Δ-0.58%",
            "     _My",
            " Δ-0.47%",
            " _Espec…",
            " Δ-0.24%",
            "       _",
            "  Δ0.24%",
            "    _You",
            " Δ-0.20%",
            "  _These",
            " Δ-0.19%"
           ],
           [
            "     ian",
            " Δ-1.30%",
            "  atonin",
            " Δ-0.80%",
            "       v",
            "  Δ0.72%",
            "     ita",
            " Δ-0.71%",
            "       o",
            "  Δ0.66%",
            "     ine",
            " Δ-0.66%",
            "      an",
            " Δ-0.63%",
            "    rose",
            "  Δ0.63%",
            "     ice",
            " Δ-0.61%",
            "      on",
            "  Δ0.60%"
           ],
           [
            "       ,",
            "  Δ1.71%",
            "     _up",
            " Δ-1.06%",
            "    _and",
            "  Δ0.80%",
            "     _to",
            "  Δ0.71%",
            "       .",
            "  Δ0.45%",
            "   _down",
            " Δ-0.41%",
            "      \\n",
            "  Δ0.32%",
            "      _3",
            " Δ-0.26%",
            "   _with",
            "  Δ0.23%",
            "   _into",
            " Δ-0.22%"
           ],
           [
            "      \\n",
            " Δ-0.56%",
            "       .",
            " Δ-0.34%",
            "      _&",
            " Δ-0.33%",
            "       /",
            " Δ-0.33%",
            "      _(",
            " Δ-0.27%",
            "       _",
            " Δ-0.21%",
            "      _2",
            " Δ-0.20%",
            "      _3",
            " Δ-0.19%",
            "       -",
            " Δ-0.18%",
            "       !",
            " Δ-0.18%"
           ],
           [
            "   aches",
            " Δ-12.01",
            "     ens",
            "  Δ9.69%",
            "    ases",
            "  Δ3.50%",
            "    aser",
            "  Δ3.00%",
            "      em",
            " Δ-2.88%",
            "      el",
            " Δ-2.20%",
            "     els",
            " Δ-1.72%",
            "     ase",
            "  Δ1.59%",
            "     ach",
            "  Δ0.98%",
            "      as",
            "  Δ0.88%"
           ],
           [
            "      ys",
            " Δ-2.74%",
            "      an",
            " Δ-2.19%",
            "      al",
            " Δ-1.60%",
            "      ay",
            "  Δ1.59%",
            "      ur",
            " Δ-1.47%",
            "     uch",
            "  Δ1.19%",
            "     ons",
            " Δ-1.01%",
            "     que",
            "  Δ0.93%",
            "      er",
            " Δ-0.89%",
            "       y",
            " Δ-0.81%"
           ],
           [
            "      _(",
            " Δ-1.57%",
            "      \\n",
            " Δ-1.43%",
            "       ,",
            " Δ-0.86%",
            "     _is",
            "  Δ0.58%",
            "      _2",
            " Δ-0.49%",
            "       .",
            " Δ-0.40%",
            "      _3",
            " Δ-0.30%",
            "      _,",
            " Δ-0.19%",
            "      _-",
            "  Δ0.17%",
            "    _and",
            " Δ-0.16%"
           ],
           [
            "      'm",
            " Δ-4.91%",
            "   _have",
            "  Δ2.49%",
            "    _can",
            "  Δ1.57%",
            "   _love",
            " Δ-1.54%",
            "  _think",
            "  Δ1.53%",
            "     _am",
            "  Δ1.49%",
            "     've",
            " Δ-0.91%",
            "    _was",
            "  Δ0.89%",
            "       .",
            " Δ-0.87%",
            "   _Love",
            " Δ-0.71%"
           ],
           [
            "   _them",
            " Δ36.60%",
            "    _the",
            " Δ-4.58%",
            "   _this",
            " Δ-3.23%",
            "  _these",
            " Δ-2.68%",
            "     _my",
            " Δ-2.01%",
            "    _you",
            " Δ-1.04%",
            "    _all",
            " Δ-0.72%",
            "      _a",
            " Δ-0.70%",
            "   _that",
            " Δ-0.57%",
            "     _it",
            "  Δ0.56%"
           ],
           [
            "    _way",
            "  Δ1.30%",
            "  _color",
            "  Δ0.48%",
            "  _anime",
            "  Δ0.41%",
            "   _idea",
            "  Δ0.41%",
            " _textu…",
            "  Δ0.32%",
            " _anima…",
            "  Δ0.31%",
            "  _whole",
            " Δ-0.31%",
            "   _look",
            "  Δ0.29%",
            "   _fact",
            "  Δ0.27%",
            "    _art",
            "  Δ0.22%"
           ],
           [
            "     _of",
            " Δ53.52%",
            "    _and",
            " Δ-4.04%",
            "     _it",
            " Δ-3.37%",
            "    _the",
            " Δ-2.32%",
            "    _fun",
            " Δ-2.27%",
            "   _sure",
            " Δ-1.60%",
            "     _up",
            " Δ-1.58%",
            "      _a",
            " Δ-1.39%",
            "       ,",
            " Δ-1.20%",
            "    _you",
            " Δ-0.88%"
           ]
          ],
          [
           [
            "       .",
            "  Δ0.02%",
            "       ,",
            "  Δ0.02%",
            "       -",
            "  Δ0.01%",
            "     _in",
            "  Δ0.01%",
            "      \\n",
            "  Δ0.00%",
            "    _and",
            "  Δ0.00%",
            "    _the",
            "  Δ0.00%",
            "    _for",
            "  Δ0.00%",
            "     _to",
            "  Δ0.00%",
            "     _of",
            "  Δ0.00%"
           ],
           [
            "      \\n",
            "  Δ1.34%",
            "    _and",
            "  Δ0.79%",
            "       :",
            "  Δ0.79%",
            "    _are",
            "  Δ0.50%",
            "     _in",
            "  Δ0.46%",
            "    _for",
            "  Δ0.36%",
            "   _from",
            "  Δ0.35%",
            "     _of",
            "  Δ0.33%",
            "   _like",
            "  Δ0.21%",
            "     _is",
            " Δ-0.16%"
           ],
           [
            "   _have",
            "  Δ2.09%",
            "     _am",
            "  Δ1.28%",
            "      'm",
            "  Δ1.08%",
            "     've",
            "  Δ0.69%",
            "    _was",
            "  Δ0.49%",
            "    _don",
            "  Δ0.36%",
            "  _think",
            "  Δ0.35%",
            "   _used",
            "  Δ0.35%",
            "    _use",
            "  Δ0.33%",
            " _belie…",
            "  Δ0.25%"
           ],
           [
            "       :",
            "  Δ5.13%",
            "      \\n",
            "  Δ3.51%",
            "  _about",
            "  Δ1.99%",
            "       ,",
            " Δ-1.39%",
            "   _this",
            " Δ-1.18%",
            "       .",
            " Δ-0.90%",
            "    _the",
            " Δ-0.88%",
            "    _and",
            "  Δ0.54%",
            "    _you",
            " Δ-0.47%",
            "     _it",
            " Δ-0.47%"
           ],
           [
            "    _for",
            "  Δ5.02%",
            "       :",
            "  Δ3.33%",
            "       .",
            "  Δ3.21%",
            "    _all",
            "  Δ2.48%",
            "       ,",
            "  Δ1.57%",
            "     _so",
            "  Δ0.89%",
            "     _to",
            "  Δ0.83%",
            "   _with",
            "  Δ0.61%",
            "       !",
            "  Δ0.48%",
            "      _I",
            " Δ-0.45%"
           ],
           [
            "      _I",
            "  Δ3.30%",
            "      \\n",
            "  Δ1.60%",
            "    _The",
            "  Δ0.64%",
            "   _They",
            " Δ-0.59%",
            "    \\n\\n",
            "  Δ0.37%",
            "     _My",
            "  Δ0.29%",
            "     _It",
            "  Δ0.23%",
            "   _they",
            " Δ-0.21%",
            "     _We",
            "  Δ0.17%",
            "    _and",
            " Δ-0.16%"
           ],
           [
            "      on",
            "  Δ1.63%",
            "    inda",
            "  Δ0.99%",
            "       o",
            "  Δ0.76%",
            "       v",
            "  Δ0.75%",
            "    rose",
            "  Δ0.73%",
            "    issa",
            "  Δ0.49%",
            "       a",
            "  Δ0.40%",
            "      od",
            "  Δ0.39%",
            "      ty",
            "  Δ0.38%",
            "      is",
            "  Δ0.32%"
           ],
           [
            "     _up",
            " Δ-1.08%",
            "    _and",
            "  Δ1.05%",
            "       ,",
            "  Δ0.89%",
            "   _down",
            " Δ-0.45%",
            "     _to",
            "  Δ0.39%",
            "     _in",
            " Δ-0.35%",
            "   _with",
            "  Δ0.35%",
            "      \\n",
            "  Δ0.24%",
            " _tomat…",
            "  Δ0.19%",
            " _butter",
            "  Δ0.17%"
           ],
           [
            "       ,",
            " Δ-0.28%",
            "  _Anime",
            " Δ-0.27%",
            "       .",
            " Δ-0.24%",
            "       !",
            " Δ-0.24%",
            "      _&",
            " Δ-0.19%",
            "      _2",
            " Δ-0.18%",
            "      _3",
            " Δ-0.15%",
            "       -",
            "  Δ0.15%",
            "      _H",
            "  Δ0.12%",
            "      _G",
            "  Δ0.12%"
           ],
           [
            "     ens",
            "  Δ6.11%",
            "    ases",
            "  Δ4.73%",
            "    aser",
            "  Δ2.56%",
            "     ase",
            "  Δ1.59%",
            "      al",
            "  Δ1.08%",
            "      em",
            " Δ-0.86%",
            "      as",
            "  Δ0.69%",
            "      ak",
            "  Δ0.67%",
            "   asers",
            "  Δ0.55%",
            "     ard",
            "  Δ0.52%"
           ],
           [
            "      aw",
            "  Δ1.79%",
            "     uch",
            "  Δ1.31%",
            "      \\n",
            " Δ-1.27%",
            "      ay",
            "  Δ0.95%",
            "      al",
            " Δ-0.64%",
            "       ,",
            " Δ-0.63%",
            "     aws",
            "  Δ0.63%",
            "   ayers",
            "  Δ0.59%",
            "       .",
            " Δ-0.53%",
            "    ayer",
            "  Δ0.45%"
           ],
           [
            "      \\n",
            " Δ-1.08%",
            "     _is",
            "  Δ0.48%",
            "      _(",
            " Δ-0.43%",
            "       ,",
            " Δ-0.37%",
            "  _Anime",
            " Δ-0.36%",
            "      _-",
            "  Δ0.34%",
            "       :",
            "  Δ0.20%",
            "      _2",
            " Δ-0.20%",
            "      _3",
            " Δ-0.19%",
            "       !",
            " Δ-0.19%"
           ],
           [
            "     _am",
            "  Δ1.87%",
            "  _think",
            "  Δ1.63%",
            "      'm",
            " Δ-1.42%",
            "     've",
            " Δ-1.36%",
            "   _have",
            "  Δ1.32%",
            "   _love",
            "  Δ1.27%",
            "   _Love",
            " Δ-1.03%",
            "    _can",
            "  Δ0.92%",
            "    _don",
            "  Δ0.68%",
            "    _was",
            "  Δ0.67%"
           ],
           [
            "   _them",
            " Δ41.03%",
            "   _this",
            " Δ-4.88%",
            "  _Anime",
            " Δ-4.65%",
            "  _these",
            " Δ-3.77%",
            "    _the",
            " Δ-3.72%",
            "  _anime",
            " Δ-3.69%",
            " _Japan…",
            " Δ-1.80%",
            "    _all",
            " Δ-0.50%",
            "    _you",
            " Δ-0.43%",
            "     _it",
            " Δ-0.41%"
           ],
           [
            "  _anime",
            " Δ-3.47%",
            "  _Anime",
            " Δ-2.19%",
            "    _way",
            "  Δ1.72%",
            " _Japan…",
            " Δ-1.12%",
            "   _idea",
            "  Δ0.71%",
            "  _manga",
            " Δ-0.51%",
            "   _fact",
            "  Δ0.50%",
            "     _Te",
            " Δ-0.43%",
            "   _look",
            "  Δ0.39%",
            "  _color",
            "  Δ0.36%"
           ],
           [
            "     _of",
            " Δ70.46%",
            "    _and",
            " Δ-4.99%",
            "     _up",
            " Δ-3.75%",
            "     _it",
            " Δ-2.29%",
            "    _the",
            " Δ-1.89%",
            "       .",
            " Δ-1.56%",
            "       ,",
            " Δ-1.43%",
            "      _a",
            " Δ-1.31%",
            "   _this",
            " Δ-0.94%",
            "   _them",
            " Δ-0.77%"
           ]
          ],
          [
           [
            "      \\n",
            "  Δ0.32%",
            "       \"",
            " Δ-0.30%",
            "       .",
            "  Δ0.27%",
            "     The",
            " Δ-0.24%",
            "       -",
            "  Δ0.18%",
            "       ,",
            "  Δ0.12%",
            "    This",
            " Δ-0.10%",
            "       I",
            " Δ-0.08%",
            "      In",
            " Δ-0.08%",
            "       B",
            " Δ-0.07%"
           ],
           [
            "      \\n",
            "  Δ2.74%",
            "    _are",
            " Δ-0.81%",
            "     _in",
            "  Δ0.55%",
            "    _for",
            "  Δ0.41%",
            "   _like",
            "  Δ0.40%",
            "    _and",
            "  Δ0.34%",
            "   _from",
            "  Δ0.33%",
            "     _of",
            " Δ-0.27%",
            "       :",
            "  Δ0.25%",
            "       ,",
            " Δ-0.25%"
           ],
           [
            "     've",
            " Δ-1.25%",
            "   _have",
            "  Δ1.23%",
            "     'll",
            " Δ-1.13%",
            "    _use",
            "  Δ0.75%",
            "     _am",
            "  Δ0.70%",
            "    _don",
            "  Δ0.57%",
            "   _used",
            "  Δ0.51%",
            "  _think",
            "  Δ0.47%",
            " _belie…",
            "  Δ0.39%",
            "   _will",
            " Δ-0.35%"
           ],
           [
            "       :",
            "  Δ5.62%",
            "      \\n",
            "  Δ3.52%",
            "  _about",
            "  Δ3.52%",
            "   _this",
            " Δ-2.06%",
            "       ,",
            " Δ-2.04%",
            "       .",
            " Δ-1.45%",
            "     _it",
            " Δ-0.73%",
            "     _so",
            " Δ-0.68%",
            "   _when",
            " Δ-0.61%",
            "      _(",
            " Δ-0.58%"
           ],
           [
            "    _for",
            "  Δ6.58%",
            "       :",
            "  Δ2.98%",
            "    _all",
            "  Δ2.19%",
            "       ,",
            " Δ-1.08%",
            "     _so",
            "  Δ0.41%",
            "      _(",
            " Δ-0.38%",
            "      _:",
            "  Δ0.36%",
            "       !",
            " Δ-0.33%",
            "    _too",
            "  Δ0.29%",
            "   _well",
            "  Δ0.28%"
           ],
           [
            "      _I",
            "  Δ2.77%",
            "   _They",
            " Δ-1.97%",
            "    _The",
            "  Δ0.44%",
            "      \\n",
            "  Δ0.34%",
            "    \\n\\n",
            "  Δ0.27%",
            "  _These",
            " Δ-0.23%",
            "     _My",
            "  Δ0.22%",
            "    _You",
            " Δ-0.14%",
            "     _It",
            "  Δ0.13%",
            "  _First",
            "  Δ0.12%"
           ],
           [
            "      on",
            "  Δ3.06%",
            "      an",
            " Δ-2.15%",
            "      od",
            "  Δ1.86%",
            "      ty",
            "  Δ1.75%",
            "    rose",
            "  Δ1.17%",
            "    odic",
            "  Δ1.01%",
            "    issa",
            "  Δ0.83%",
            "       o",
            "  Δ0.67%",
            "     ody",
            "  Δ0.65%",
            "     ina",
            " Δ-0.63%"
           ],
           [
            "     _up",
            " Δ-1.68%",
            "   _down",
            " Δ-1.02%",
            "    _and",
            "  Δ0.93%",
            "       ,",
            "  Δ0.54%",
            "     _in",
            " Δ-0.50%",
            " _apples",
            "  Δ0.45%",
            " _tomat…",
            "  Δ0.44%",
            " _potat…",
            "  Δ0.39%",
            "   _with",
            "  Δ0.38%",
            "      \\n",
            "  Δ0.34%"
           ],
           [
            "   _Food",
            "  Δ0.73%",
            "       ,",
            " Δ-0.66%",
            "       !",
            " Δ-0.43%",
            "      _G",
            "  Δ0.32%",
            "  _Anime",
            " Δ-0.31%",
            "      \\n",
            " Δ-0.24%",
            "      _Y",
            "  Δ0.23%",
            "      _&",
            " Δ-0.20%",
            "    _and",
            " Δ-0.20%",
            "       .",
            " Δ-0.20%"
           ],
           [
            "     ens",
            " Δ-12.91",
            "    aser",
            "  Δ6.93%",
            "     ase",
            "  Δ4.46%",
            "    ases",
            "  Δ4.20%",
            "   asers",
            "  Δ2.21%",
            "      as",
            "  Δ1.88%",
            "   aches",
            " Δ-1.43%",
            "     eth",
            "  Δ1.34%",
            "     asp",
            "  Δ1.30%",
            "     ard",
            "  Δ0.95%"
           ],
           [
            "   ayers",
            " Δ10.96%",
            "    ayer",
            "  Δ7.41%",
            "      ys",
            " Δ-5.97%",
            "      \\n",
            " Δ-2.99%",
            "       h",
            "  Δ2.03%",
            "      ay",
            "  Δ1.93%",
            "     ays",
            "  Δ1.55%",
            "       ,",
            " Δ-1.23%",
            "      al",
            " Δ-1.06%",
            "   aving",
            "  Δ1.01%"
           ],
           [
            "      \\n",
            " Δ-1.30%",
            "      _-",
            "  Δ0.64%",
            "  _Anime",
            " Δ-0.52%",
            "       ,",
            " Δ-0.42%",
            "       !",
            " Δ-0.35%",
            "      _(",
            " Δ-0.26%",
            "     _is",
            "  Δ0.23%",
            "       :",
            "  Δ0.19%",
            "      _2",
            " Δ-0.18%",
            "      _S",
            "  Δ0.17%"
           ],
           [
            "   _Love",
            " Δ-5.62%",
            "   _love",
            " Δ-5.49%",
            "   _LOVE",
            " Δ-2.27%",
            "      'm",
            " Δ-1.46%",
            "  _think",
            "  Δ1.29%",
            "   _have",
            "  Δ0.86%",
            "     _am",
            "  Δ0.83%",
            "    _don",
            "  Δ0.62%",
            "    _can",
            "  Δ0.59%",
            " _really",
            "  Δ0.57%"
           ],
           [
            "   _them",
            " Δ20.08%",
            "    _the",
            " Δ-2.77%",
            "   _this",
            " Δ-2.25%",
            "  _Anime",
            " Δ-1.34%",
            "     _it",
            "  Δ1.04%",
            "  _anime",
            " Δ-0.79%",
            "      _a",
            " Δ-0.48%",
            "    _how",
            "  Δ0.47%",
            "  _these",
            " Δ-0.46%",
            "    _you",
            " Δ-0.37%"
           ],
           [
            "  _Anime",
            " Δ-1.84%",
            "  _anime",
            " Δ-1.23%",
            "    _way",
            "  Δ1.14%",
            " _numbe…",
            "  Δ0.54%",
            "  _color",
            "  Δ0.52%",
            "     _te",
            "  Δ0.45%",
            " _Japan…",
            " Δ-0.44%",
            "    _art",
            "  Δ0.43%",
            "   _fact",
            "  Δ0.35%",
            "   _look",
            "  Δ0.32%"
           ],
           [
            "     _of",
            " Δ51.57%",
            "     _up",
            " Δ-3.94%",
            "   _them",
            " Δ-3.39%",
            "    _and",
            " Δ-2.65%",
            "     _it",
            " Δ-1.91%",
            "    _the",
            " Δ-1.88%",
            "  _these",
            " Δ-1.28%",
            "   _this",
            " Δ-1.24%",
            "      _a",
            " Δ-1.20%",
            "  _anime",
            " Δ-1.02%"
           ]
          ]
         ],
         "hoverlabel": {
          "bgcolor": "rgb(42, 42, 50)",
          "font": {
           "family": "Monospace"
          }
         },
         "hovertemplate": "%{customdata[0]}%{customdata[1]}<br>%{customdata[2]}%{customdata[3]}<br>%{customdata[4]}%{customdata[5]}<br>%{customdata[6]}%{customdata[7]}<br>%{customdata[8]}%{customdata[9]}<br>%{customdata[10]}%{customdata[11]}<br>%{customdata[12]}%{customdata[13]}<br>%{customdata[14]}%{customdata[15]}<br>%{customdata[16]}%{customdata[17]}<br>%{customdata[18]}%{customdata[19]}<br><extra></extra>",
         "text": [
          [
           "Ġdefendants",
           "Ġdefendants",
           "Ġdefendants",
           "Ġdefendants",
           "Ġdefendants",
           "Ġdefendants",
           "Ġdefendants",
           "Ġdefendants",
           "Ġdefendants",
           "Ġdefendants",
           "Ġdefendants",
           "Ġdefendants",
           "Ġdefendants",
           "Ġdefendants",
           "Ġdefendants",
           "Ġdefendants"
          ],
          [
           "Ċ",
           ":",
           "'ve",
           "Ġthe",
           "Ġout",
           "Ċ",
           "atonin",
           "Ġon",
           ".",
           "lem",
           ".",
           ".",
           "'m",
           "Ġa",
           "Ġfirst",
           "Ġa"
          ],
          [
           ".",
           "Ġof",
           "'m",
           "Ġfor",
           "Ġin",
           "Ċ",
           "atonin",
           "Ġby",
           "Ċ",
           "aching",
           ",",
           "'s",
           "'ve",
           "Ġlove",
           "Ġsame",
           "Ġfun"
          ],
          [
           "Ċ",
           "Ġof",
           "'m",
           "Ġthat",
           ".",
           "Ċ",
           "inda",
           "Ġin",
           ".",
           "aching",
           "'",
           "Ġand",
           "Ġhave",
           "Ġthis",
           "Ġsame",
           "Ġit"
          ],
          [
           "Ġthe",
           "Ċ",
           "'ve",
           "Ġit",
           ",",
           "Ċ",
           "ony",
           "Ċ",
           ".",
           "aches",
           ",",
           ".",
           "'m",
           "Ġto",
           "Ġsame",
           "Ġfun"
          ],
          [
           "Ġthe",
           "Ġof",
           "Ġhave",
           "Ġto",
           ".",
           "Ċ",
           "ony",
           "Ċ",
           ",",
           "aching",
           "uch",
           ".",
           "Ġhave",
           "Ġlove",
           "Ġsame",
           "Ġa"
          ],
          [
           "Ġa",
           "Ġof",
           "'ve",
           "Ċ",
           ".",
           "Ċ",
           "inda",
           "Ġin",
           "Ċ",
           "aches",
           "creen",
           "Ġ(",
           "'ve",
           "Ġmy",
           "Ġidea",
           "Ġit"
          ],
          [
           "Ċ",
           "Ġof",
           "Ċ",
           "Ġit",
           ",",
           "Ċ",
           "ice",
           "Ġversions",
           "Ċ",
           "aches",
           "an",
           "Ġ(",
           "'m",
           "Ġmy",
           "Ġoriginal",
           "Ġof"
          ],
          [
           ",",
           ":",
           "Ġhave",
           "Ġthis",
           ",",
           "Ċ",
           "inda",
           "Ċ",
           ".",
           "aches",
           "an",
           "Ġ(",
           "'ve",
           "Ġmy",
           "Ġwhole",
           "Ġof"
          ],
          [
           "Ġto",
           "Ċ",
           "Ġhave",
           ",",
           "Ġas",
           "ĠI",
           "inda",
           "Ġwith",
           ",",
           "aches",
           "ide",
           "Ġ(",
           "'m",
           "Ġthem",
           "Ġidea",
           "Ġof"
          ],
          [
           ".",
           "Ġof",
           "'ve",
           "Ċ",
           "Ġfor",
           "ĠI",
           "ian",
           ",",
           "Ċ",
           "aches",
           "ys",
           "Ġ(",
           "'m",
           "Ġthem",
           "Ġway",
           "Ġof"
          ],
          [
           ".",
           "Ċ",
           "Ġhave",
           ":",
           "Ġfor",
           "ĠI",
           "on",
           "Ġup",
           ",",
           "ens",
           "aw",
           "Ċ",
           "Ġam",
           "Ġthem",
           "Ġanime",
           "Ġof"
          ],
          [
           "Ċ",
           "Ċ",
           "'ve",
           ":",
           "Ġfor",
           "ĠI",
           "on",
           "Ġup",
           "ĠFood",
           "ens",
           "ayers",
           "Ċ",
           "ĠLove",
           "Ġthem",
           "ĠAnime",
           "Ġof"
          ]
         ],
         "texttemplate": "<b>%{text}</b>",
         "type": "heatmap",
         "x": [
          "<|endoftext|>",
          "ĠNumbers‌",
          "ĠI‌‌",
          "Ġlove‌‌‌",
          "Ġthem‌‌‌‌",
          "!‌‌‌‌‌",
          "ĠMel‌‌‌‌‌‌",
          "ted‌‌‌‌‌‌‌",
          "ĠAnime‌‌‌‌‌‌‌‌",
          "ĠTe‌‌‌‌‌‌‌‌‌",
          "anes‌‌‌‌‌‌‌‌‌‌",
          "ito‌‌‌‌‌‌‌‌‌‌‌",
          "ĠI‌‌‌‌‌‌‌‌‌‌‌‌",
          "Ġlove‌‌‌‌‌‌‌‌‌‌‌‌‌",
          "Ġthe‌‌‌‌‌‌‌‌‌‌‌‌‌‌",
          "Ġmaking‌‌‌‌‌‌‌‌‌‌‌‌‌‌‌"
         ],
         "y": [
          "0",
          "1",
          "2",
          "3",
          "4",
          "5",
          "6",
          "7",
          "8",
          "9",
          "10",
          "11",
          "output"
         ],
         "z": [
          [
           0,
           0,
           0,
           0,
           0,
           0,
           0,
           0,
           0,
           0,
           0,
           0,
           0,
           0,
           0,
           0
          ],
          [
           4.415891297071539e-8,
           -3.3137482091660786e-7,
           -3.0835693110020657e-8,
           1.5177515422237775e-7,
           -1.0049109278043034e-7,
           1.670506151185691e-7,
           3.503235461721488e-7,
           4.2775349129442475e-7,
           -2.0478971407555946e-7,
           -2.971397066175996e-7,
           -1.530324027498864e-7,
           1.2002102423025462e-8,
           -2.0860466065641958e-7,
           1.6015968640203937e-7,
           -5.2699878239081954e-8,
           1.2890760103800858e-7
          ],
          [
           1.4889963928510497e-8,
           -1.010999852724126e-7,
           2.2780966446589446e-8,
           -8.302497178647172e-8,
           -2.951530575501238e-7,
           -2.0497836317190377e-7,
           2.7596718155109556e-7,
           -7.19951813721309e-8,
           -8.44887111384196e-8,
           2.2336074323447974e-7,
           -1.6208755226898575e-8,
           -1.6561735094455798e-7,
           6.694661891515352e-8,
           2.3824070183309232e-7,
           1.8540429636004774e-8,
           -6.535839958132783e-8
          ],
          [
           -3.006942108640942e-7,
           2.2078714323470194e-7,
           5.770779409886018e-8,
           2.205208744499032e-7,
           -3.72914712443162e-8,
           7.68049162047646e-8,
           -2.723900252021849e-7,
           -8.580162358384769e-8,
           -7.891943454296779e-8,
           -2.1508544989501388e-7,
           -1.0108532677577386e-8,
           2.2971991597842134e-7,
           9.25587073652423e-8,
           3.2572862096458266e-7,
           -1.700367420198745e-7,
           -1.3706913648547925e-7
          ],
          [
           -9.014418544950331e-9,
           -5.363609645314682e-8,
           5.89272741713387e-10,
           -7.701780191382568e-8,
           7.614309538439556e-8,
           2.4478307381059494e-8,
           -2.491380257652054e-7,
           2.611938398899838e-8,
           4.3260408233436465e-7,
           -3.029786057595629e-7,
           -1.0040882614248403e-7,
           -3.3407573596377915e-8,
           -9.213240304006831e-8,
           2.2910764130301686e-7,
           -1.544771492945074e-7,
           -2.631821303111792e-7
          ],
          [
           2.157711698203002e-8,
           -1.930972501895667e-7,
           2.2141974920231178e-9,
           1.5013823428944306e-7,
           -7.79317730348339e-8,
           -1.7363285564897524e-7,
           -8.210461288626902e-8,
           -2.1896130419918336e-7,
           -2.5759890220911075e-8,
           -7.591020079189548e-8,
           6.602012092571385e-8,
           -6.154611043029945e-8,
           -1.1193508697715515e-7,
           -1.0502139247137166e-7,
           -7.773529375754151e-8,
           -8.900648396092947e-8
          ],
          [
           3.171889773057046e-8,
           9.825551927633569e-8,
           5.627594390489321e-8,
           -8.942182461169068e-8,
           2.4651950525367283e-7,
           1.0007360629060713e-7,
           -3.1348955076282436e-7,
           -2.19564839198938e-7,
           1.4884247434565623e-7,
           3.028475248356699e-9,
           8.869412937428933e-8,
           9.130376810162488e-8,
           -1.4108049128935818e-7,
           4.03474800236836e-8,
           -9.96336169123424e-8,
           -4.999700209395996e-9
          ],
          [
           -3.1862310834185337e-7,
           2.136892476301e-7,
           1.7952196174064738e-7,
           -1.2566211182729603e-7,
           2.73838111297664e-7,
           -1.320263010029521e-7,
           6.908471306132924e-8,
           -9.101939468791898e-8,
           2.2177900405040418e-8,
           -2.6037298539449694e-8,
           -9.232274322812373e-8,
           6.489713655355445e-9,
           -4.551127688046108e-7,
           2.3885294808678736e-7,
           -1.3077659843929723e-7,
           -3.5490458571985073e-7
          ],
          [
           -4.5938605808260036e-8,
           -2.6204967085163844e-8,
           -1.6306222505590995e-7,
           5.9548841413459286e-9,
           -2.1969009367239778e-7,
           1.6928257196013874e-7,
           -7.065521856475243e-8,
           -2.50767016041209e-7,
           -2.580999876045098e-7,
           1.0115611814853764e-7,
           1.779909553079051e-7,
           1.66474947604911e-7,
           -1.277829539958475e-7,
           1.629223334020935e-7,
           1.1524405607588051e-7,
           9.976891313101532e-9
          ],
          [
           4.1718205778806805e-8,
           2.5434275130464812e-8,
           1.8909410925971315e-7,
           -2.268368604063653e-7,
           -1.9218001057197398e-7,
           -6.1112643834349e-8,
           1.9939592732498568e-7,
           -2.2169285784912063e-7,
           1.1625512286173034e-7,
           1.6187047435778368e-7,
           2.2654413101008686e-7,
           -7.777083510518423e-8,
           -1.135550533604146e-7,
           -1.2317877384759868e-8,
           1.0549721451980076e-7,
           4.650593155020033e-8
          ],
          [
           0.00002080509511870332,
           0.0251596812158823,
           0.05796601250767708,
           0.07908666133880615,
           0.10068909823894501,
           0.025472337380051613,
           0.11090849339962006,
           0.05562029033899307,
           0.03344547003507614,
           0.30829495191574097,
           0.2247234284877777,
           0.03430921956896782,
           0.11394517123699188,
           0.47342562675476074,
           0.057695236057043076,
           0.6907020807266235
          ],
          [
           0.000024153698177542537,
           0.02550845965743065,
           0.0556853711605072,
           0.07110690325498581,
           0.17678339779376984,
           0.03663927689194679,
           0.0816376730799675,
           0.04257795214653015,
           0.03245220705866814,
           0.21688450872898102,
           0.16669730842113495,
           0.023862404748797417,
           0.10612405836582184,
           0.6336109042167664,
           0.09147433191537857,
           1.2970443964004517
          ],
          [
           0.007900062948465347,
           0.03262531757354736,
           0.0402211956679821,
           0.09655241668224335,
           0.0987740084528923,
           0.018847059458494186,
           0.15035784244537354,
           0.06757243722677231,
           0.05973866581916809,
           0.3520280718803406,
           0.6984658241271973,
           0.02875497192144394,
           0.10661125928163528,
           0.14413930475711823,
           0.06433010846376419,
           0.731165885925293
          ]
         ],
         "zmin": 0
        }
       ],
       "layout": {
        "template": {
         "data": {
          "bar": [
           {
            "error_x": {
             "color": "#2a3f5f"
            },
            "error_y": {
             "color": "#2a3f5f"
            },
            "marker": {
             "line": {
              "color": "#E5ECF6",
              "width": 0.5
             },
             "pattern": {
              "fillmode": "overlay",
              "size": 10,
              "solidity": 0.2
             }
            },
            "type": "bar"
           }
          ],
          "barpolar": [
           {
            "marker": {
             "line": {
              "color": "#E5ECF6",
              "width": 0.5
             },
             "pattern": {
              "fillmode": "overlay",
              "size": 10,
              "solidity": 0.2
             }
            },
            "type": "barpolar"
           }
          ],
          "carpet": [
           {
            "aaxis": {
             "endlinecolor": "#2a3f5f",
             "gridcolor": "white",
             "linecolor": "white",
             "minorgridcolor": "white",
             "startlinecolor": "#2a3f5f"
            },
            "baxis": {
             "endlinecolor": "#2a3f5f",
             "gridcolor": "white",
             "linecolor": "white",
             "minorgridcolor": "white",
             "startlinecolor": "#2a3f5f"
            },
            "type": "carpet"
           }
          ],
          "choropleth": [
           {
            "colorbar": {
             "outlinewidth": 0,
             "ticks": ""
            },
            "type": "choropleth"
           }
          ],
          "contour": [
           {
            "colorbar": {
             "outlinewidth": 0,
             "ticks": ""
            },
            "colorscale": [
             [
              0,
              "#0d0887"
             ],
             [
              0.1111111111111111,
              "#46039f"
             ],
             [
              0.2222222222222222,
              "#7201a8"
             ],
             [
              0.3333333333333333,
              "#9c179e"
             ],
             [
              0.4444444444444444,
              "#bd3786"
             ],
             [
              0.5555555555555556,
              "#d8576b"
             ],
             [
              0.6666666666666666,
              "#ed7953"
             ],
             [
              0.7777777777777778,
              "#fb9f3a"
             ],
             [
              0.8888888888888888,
              "#fdca26"
             ],
             [
              1,
              "#f0f921"
             ]
            ],
            "type": "contour"
           }
          ],
          "contourcarpet": [
           {
            "colorbar": {
             "outlinewidth": 0,
             "ticks": ""
            },
            "type": "contourcarpet"
           }
          ],
          "heatmap": [
           {
            "colorbar": {
             "outlinewidth": 0,
             "ticks": ""
            },
            "colorscale": [
             [
              0,
              "#0d0887"
             ],
             [
              0.1111111111111111,
              "#46039f"
             ],
             [
              0.2222222222222222,
              "#7201a8"
             ],
             [
              0.3333333333333333,
              "#9c179e"
             ],
             [
              0.4444444444444444,
              "#bd3786"
             ],
             [
              0.5555555555555556,
              "#d8576b"
             ],
             [
              0.6666666666666666,
              "#ed7953"
             ],
             [
              0.7777777777777778,
              "#fb9f3a"
             ],
             [
              0.8888888888888888,
              "#fdca26"
             ],
             [
              1,
              "#f0f921"
             ]
            ],
            "type": "heatmap"
           }
          ],
          "heatmapgl": [
           {
            "colorbar": {
             "outlinewidth": 0,
             "ticks": ""
            },
            "colorscale": [
             [
              0,
              "#0d0887"
             ],
             [
              0.1111111111111111,
              "#46039f"
             ],
             [
              0.2222222222222222,
              "#7201a8"
             ],
             [
              0.3333333333333333,
              "#9c179e"
             ],
             [
              0.4444444444444444,
              "#bd3786"
             ],
             [
              0.5555555555555556,
              "#d8576b"
             ],
             [
              0.6666666666666666,
              "#ed7953"
             ],
             [
              0.7777777777777778,
              "#fb9f3a"
             ],
             [
              0.8888888888888888,
              "#fdca26"
             ],
             [
              1,
              "#f0f921"
             ]
            ],
            "type": "heatmapgl"
           }
          ],
          "histogram": [
           {
            "marker": {
             "pattern": {
              "fillmode": "overlay",
              "size": 10,
              "solidity": 0.2
             }
            },
            "type": "histogram"
           }
          ],
          "histogram2d": [
           {
            "colorbar": {
             "outlinewidth": 0,
             "ticks": ""
            },
            "colorscale": [
             [
              0,
              "#0d0887"
             ],
             [
              0.1111111111111111,
              "#46039f"
             ],
             [
              0.2222222222222222,
              "#7201a8"
             ],
             [
              0.3333333333333333,
              "#9c179e"
             ],
             [
              0.4444444444444444,
              "#bd3786"
             ],
             [
              0.5555555555555556,
              "#d8576b"
             ],
             [
              0.6666666666666666,
              "#ed7953"
             ],
             [
              0.7777777777777778,
              "#fb9f3a"
             ],
             [
              0.8888888888888888,
              "#fdca26"
             ],
             [
              1,
              "#f0f921"
             ]
            ],
            "type": "histogram2d"
           }
          ],
          "histogram2dcontour": [
           {
            "colorbar": {
             "outlinewidth": 0,
             "ticks": ""
            },
            "colorscale": [
             [
              0,
              "#0d0887"
             ],
             [
              0.1111111111111111,
              "#46039f"
             ],
             [
              0.2222222222222222,
              "#7201a8"
             ],
             [
              0.3333333333333333,
              "#9c179e"
             ],
             [
              0.4444444444444444,
              "#bd3786"
             ],
             [
              0.5555555555555556,
              "#d8576b"
             ],
             [
              0.6666666666666666,
              "#ed7953"
             ],
             [
              0.7777777777777778,
              "#fb9f3a"
             ],
             [
              0.8888888888888888,
              "#fdca26"
             ],
             [
              1,
              "#f0f921"
             ]
            ],
            "type": "histogram2dcontour"
           }
          ],
          "mesh3d": [
           {
            "colorbar": {
             "outlinewidth": 0,
             "ticks": ""
            },
            "type": "mesh3d"
           }
          ],
          "parcoords": [
           {
            "line": {
             "colorbar": {
              "outlinewidth": 0,
              "ticks": ""
             }
            },
            "type": "parcoords"
           }
          ],
          "pie": [
           {
            "automargin": true,
            "type": "pie"
           }
          ],
          "scatter": [
           {
            "fillpattern": {
             "fillmode": "overlay",
             "size": 10,
             "solidity": 0.2
            },
            "type": "scatter"
           }
          ],
          "scatter3d": [
           {
            "line": {
             "colorbar": {
              "outlinewidth": 0,
              "ticks": ""
             }
            },
            "marker": {
             "colorbar": {
              "outlinewidth": 0,
              "ticks": ""
             }
            },
            "type": "scatter3d"
           }
          ],
          "scattercarpet": [
           {
            "marker": {
             "colorbar": {
              "outlinewidth": 0,
              "ticks": ""
             }
            },
            "type": "scattercarpet"
           }
          ],
          "scattergeo": [
           {
            "marker": {
             "colorbar": {
              "outlinewidth": 0,
              "ticks": ""
             }
            },
            "type": "scattergeo"
           }
          ],
          "scattergl": [
           {
            "marker": {
             "colorbar": {
              "outlinewidth": 0,
              "ticks": ""
             }
            },
            "type": "scattergl"
           }
          ],
          "scattermapbox": [
           {
            "marker": {
             "colorbar": {
              "outlinewidth": 0,
              "ticks": ""
             }
            },
            "type": "scattermapbox"
           }
          ],
          "scatterpolar": [
           {
            "marker": {
             "colorbar": {
              "outlinewidth": 0,
              "ticks": ""
             }
            },
            "type": "scatterpolar"
           }
          ],
          "scatterpolargl": [
           {
            "marker": {
             "colorbar": {
              "outlinewidth": 0,
              "ticks": ""
             }
            },
            "type": "scatterpolargl"
           }
          ],
          "scatterternary": [
           {
            "marker": {
             "colorbar": {
              "outlinewidth": 0,
              "ticks": ""
             }
            },
            "type": "scatterternary"
           }
          ],
          "surface": [
           {
            "colorbar": {
             "outlinewidth": 0,
             "ticks": ""
            },
            "colorscale": [
             [
              0,
              "#0d0887"
             ],
             [
              0.1111111111111111,
              "#46039f"
             ],
             [
              0.2222222222222222,
              "#7201a8"
             ],
             [
              0.3333333333333333,
              "#9c179e"
             ],
             [
              0.4444444444444444,
              "#bd3786"
             ],
             [
              0.5555555555555556,
              "#d8576b"
             ],
             [
              0.6666666666666666,
              "#ed7953"
             ],
             [
              0.7777777777777778,
              "#fb9f3a"
             ],
             [
              0.8888888888888888,
              "#fdca26"
             ],
             [
              1,
              "#f0f921"
             ]
            ],
            "type": "surface"
           }
          ],
          "table": [
           {
            "cells": {
             "fill": {
              "color": "#EBF0F8"
             },
             "line": {
              "color": "white"
             }
            },
            "header": {
             "fill": {
              "color": "#C8D4E3"
             },
             "line": {
              "color": "white"
             }
            },
            "type": "table"
           }
          ]
         },
         "layout": {
          "annotationdefaults": {
           "arrowcolor": "#2a3f5f",
           "arrowhead": 0,
           "arrowwidth": 1
          },
          "autotypenumbers": "strict",
          "coloraxis": {
           "colorbar": {
            "outlinewidth": 0,
            "ticks": ""
           }
          },
          "colorscale": {
           "diverging": [
            [
             0,
             "#8e0152"
            ],
            [
             0.1,
             "#c51b7d"
            ],
            [
             0.2,
             "#de77ae"
            ],
            [
             0.3,
             "#f1b6da"
            ],
            [
             0.4,
             "#fde0ef"
            ],
            [
             0.5,
             "#f7f7f7"
            ],
            [
             0.6,
             "#e6f5d0"
            ],
            [
             0.7,
             "#b8e186"
            ],
            [
             0.8,
             "#7fbc41"
            ],
            [
             0.9,
             "#4d9221"
            ],
            [
             1,
             "#276419"
            ]
           ],
           "sequential": [
            [
             0,
             "#0d0887"
            ],
            [
             0.1111111111111111,
             "#46039f"
            ],
            [
             0.2222222222222222,
             "#7201a8"
            ],
            [
             0.3333333333333333,
             "#9c179e"
            ],
            [
             0.4444444444444444,
             "#bd3786"
            ],
            [
             0.5555555555555556,
             "#d8576b"
            ],
            [
             0.6666666666666666,
             "#ed7953"
            ],
            [
             0.7777777777777778,
             "#fb9f3a"
            ],
            [
             0.8888888888888888,
             "#fdca26"
            ],
            [
             1,
             "#f0f921"
            ]
           ],
           "sequentialminus": [
            [
             0,
             "#0d0887"
            ],
            [
             0.1111111111111111,
             "#46039f"
            ],
            [
             0.2222222222222222,
             "#7201a8"
            ],
            [
             0.3333333333333333,
             "#9c179e"
            ],
            [
             0.4444444444444444,
             "#bd3786"
            ],
            [
             0.5555555555555556,
             "#d8576b"
            ],
            [
             0.6666666666666666,
             "#ed7953"
            ],
            [
             0.7777777777777778,
             "#fb9f3a"
            ],
            [
             0.8888888888888888,
             "#fdca26"
            ],
            [
             1,
             "#f0f921"
            ]
           ]
          },
          "colorway": [
           "#636efa",
           "#EF553B",
           "#00cc96",
           "#ab63fa",
           "#FFA15A",
           "#19d3f3",
           "#FF6692",
           "#B6E880",
           "#FF97FF",
           "#FECB52"
          ],
          "font": {
           "color": "#2a3f5f"
          },
          "geo": {
           "bgcolor": "white",
           "lakecolor": "white",
           "landcolor": "#E5ECF6",
           "showlakes": true,
           "showland": true,
           "subunitcolor": "white"
          },
          "hoverlabel": {
           "align": "left"
          },
          "hovermode": "closest",
          "mapbox": {
           "style": "light"
          },
          "paper_bgcolor": "white",
          "plot_bgcolor": "#E5ECF6",
          "polar": {
           "angularaxis": {
            "gridcolor": "white",
            "linecolor": "white",
            "ticks": ""
           },
           "bgcolor": "#E5ECF6",
           "radialaxis": {
            "gridcolor": "white",
            "linecolor": "white",
            "ticks": ""
           }
          },
          "scene": {
           "xaxis": {
            "backgroundcolor": "#E5ECF6",
            "gridcolor": "white",
            "gridwidth": 2,
            "linecolor": "white",
            "showbackground": true,
            "ticks": "",
            "zerolinecolor": "white"
           },
           "yaxis": {
            "backgroundcolor": "#E5ECF6",
            "gridcolor": "white",
            "gridwidth": 2,
            "linecolor": "white",
            "showbackground": true,
            "ticks": "",
            "zerolinecolor": "white"
           },
           "zaxis": {
            "backgroundcolor": "#E5ECF6",
            "gridcolor": "white",
            "gridwidth": 2,
            "linecolor": "white",
            "showbackground": true,
            "ticks": "",
            "zerolinecolor": "white"
           }
          },
          "shapedefaults": {
           "line": {
            "color": "#2a3f5f"
           }
          },
          "ternary": {
           "aaxis": {
            "gridcolor": "white",
            "linecolor": "white",
            "ticks": ""
           },
           "baxis": {
            "gridcolor": "white",
            "linecolor": "white",
            "ticks": ""
           },
           "bgcolor": "#E5ECF6",
           "caxis": {
            "gridcolor": "white",
            "linecolor": "white",
            "ticks": ""
           }
          },
          "title": {
           "x": 0.05
          },
          "xaxis": {
           "automargin": true,
           "gridcolor": "white",
           "linecolor": "white",
           "ticks": "",
           "title": {
            "standoff": 15
           },
           "zerolinecolor": "white",
           "zerolinewidth": 2
          },
          "yaxis": {
           "automargin": true,
           "gridcolor": "white",
           "linecolor": "white",
           "ticks": "",
           "title": {
            "standoff": 15
           },
           "zerolinecolor": "white",
           "zerolinewidth": 2
          }
         }
        },
        "title": {
         "text": "",
         "x": 0.5
        },
        "width": 1480,
        "xaxis": {
         "title": {
          "text": "Input"
         }
        },
        "yaxis": {
         "title": {
          "text": "Layer"
         }
        }
       }
      }
     },
     "metadata": {},
     "output_type": "display_data"
    }
   ],
   "source": [
    "with model.hooks(fwd_hooks=(mlp_hooks + attn_hooks)), th.inference_mode():\n",
    "    model.cfg.use_attn_result = True\n",
    "    control_text = model.generate(\" Numbers I love them!\", max_new_tokens=10, do_sample=False)\n",
    "    model.cfg.use_attn_result = False\n",
    "\n",
    "input_ids_control = model.to_tokens(control_text)\n",
    "targets_control = to_targets(input_ids_control)\n",
    "\n",
    "logits, cache = model.run_with_cache(\n",
    "    input=input_ids_control, return_type=\"logits\"\n",
    ")\n",
    "\n",
    "pred_traj_control_clean = PredictionTrajectory.from_lens_and_cache(\n",
    "    lens=tuned_lens,\n",
    "    cache=cache,\n",
    "    model_logits=logits,\n",
    "    input_ids=input_ids_control,\n",
    "    targets=targets_control,\n",
    ")\n",
    "\n",
    "with model.hooks(fwd_hooks=(mlp_hooks + attn_hooks)), th.inference_mode():\n",
    "    model.cfg.use_attn_result = True\n",
    "    logits, cache = model.run_with_cache(\n",
    "        input=input_ids_control, return_type=\"logits\"\n",
    "    )\n",
    "    model.cfg.use_attn_result = False\n",
    "\n",
    "    pred_traj_control_ablated = PredictionTrajectory.from_lens_and_cache(\n",
    "        lens=tuned_lens,\n",
    "        cache=cache,\n",
    "        model_logits=logits,\n",
    "        input_ids=input_ids_control,\n",
    "        targets=targets_control,\n",
    "    )\n",
    "\n",
    "pred_traj_control_ablated.kl_divergence(pred_traj_control_clean).figure()"
   ]
  }
 ],
 "metadata": {
  "kernelspec": {
   "display_name": "tuned-lens",
   "language": "python",
   "name": "python3"
  },
  "language_info": {
   "codemirror_mode": {
    "name": "ipython",
    "version": 3
   },
   "file_extension": ".py",
   "mimetype": "text/x-python",
   "name": "python",
   "nbconvert_exporter": "python",
   "pygments_lexer": "ipython3",
   "version": "3.10.9"
  },
  "orig_nbformat": 4
 },
 "nbformat": 4,
 "nbformat_minor": 2
}
